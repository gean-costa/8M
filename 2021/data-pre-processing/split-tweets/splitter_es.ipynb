{
 "cells": [
  {
   "cell_type": "code",
   "execution_count": 1,
   "metadata": {
    "ExecuteTime": {
     "end_time": "2021-05-22T01:08:56.552274Z",
     "start_time": "2021-05-22T01:08:56.546593Z"
    }
   },
   "outputs": [],
   "source": [
    "from tqdm import trange"
   ]
  },
  {
   "cell_type": "code",
   "execution_count": 2,
   "metadata": {
    "ExecuteTime": {
     "end_time": "2021-05-22T01:08:56.707987Z",
     "start_time": "2021-05-22T01:08:56.554169Z"
    }
   },
   "outputs": [],
   "source": [
    "with open(\"../2csv/cenario2_8M2021_tweets_es.txt\", \"r\") as file:\n",
    "    tweets = file.readlines()"
   ]
  },
  {
   "cell_type": "code",
   "execution_count": 3,
   "metadata": {
    "ExecuteTime": {
     "end_time": "2021-05-22T01:08:56.724644Z",
     "start_time": "2021-05-22T01:08:56.709299Z"
    }
   },
   "outputs": [
    {
     "data": {
      "text/plain": [
       "266214"
      ]
     },
     "execution_count": 3,
     "metadata": {},
     "output_type": "execute_result"
    }
   ],
   "source": [
    "len(tweets)"
   ]
  },
  {
   "cell_type": "code",
   "execution_count": 4,
   "metadata": {
    "ExecuteTime": {
     "end_time": "2021-05-22T01:08:56.733320Z",
     "start_time": "2021-05-22T01:08:56.725853Z"
    }
   },
   "outputs": [],
   "source": [
    "steps = len(tweets) // 1000"
   ]
  },
  {
   "cell_type": "code",
   "execution_count": 5,
   "metadata": {
    "ExecuteTime": {
     "end_time": "2021-05-22T01:08:56.742759Z",
     "start_time": "2021-05-22T01:08:56.734549Z"
    }
   },
   "outputs": [],
   "source": [
    "start = 0\n",
    "end = 1000"
   ]
  },
  {
   "cell_type": "code",
   "execution_count": 6,
   "metadata": {
    "ExecuteTime": {
     "end_time": "2021-05-22T01:08:56.856905Z",
     "start_time": "2021-05-22T01:08:56.743961Z"
    }
   },
   "outputs": [
    {
     "name": "stderr",
     "output_type": "stream",
     "text": [
      "100%|██████████| 266/266 [00:00<00:00, 2688.76it/s]\n"
     ]
    }
   ],
   "source": [
    "for i in trange(steps):\n",
    "    with open(f\"splitted_es/tweets_es_{i+1}.txt\", \"w\") as file:\n",
    "        file.writelines(tweets[start:end])\n",
    "    start = end\n",
    "    end += 1000"
   ]
  },
  {
   "cell_type": "code",
   "execution_count": 7,
   "metadata": {
    "ExecuteTime": {
     "end_time": "2021-05-22T01:08:56.861260Z",
     "start_time": "2021-05-22T01:08:56.858570Z"
    }
   },
   "outputs": [],
   "source": [
    "with open(f\"splitted_es/tweets_es_{steps+1}.txt\", \"w\") as file:\n",
    "        file.writelines(tweets[start:])"
   ]
  },
  {
   "cell_type": "code",
   "execution_count": null,
   "metadata": {},
   "outputs": [],
   "source": []
  }
 ],
 "metadata": {
  "kernelspec": {
   "display_name": "Python 3",
   "language": "python",
   "name": "python3"
  },
  "language_info": {
   "codemirror_mode": {
    "name": "ipython",
    "version": 3
   },
   "file_extension": ".py",
   "mimetype": "text/x-python",
   "name": "python",
   "nbconvert_exporter": "python",
   "pygments_lexer": "ipython3",
   "version": "3.7.7"
  },
  "toc": {
   "base_numbering": 1,
   "nav_menu": {},
   "number_sections": true,
   "sideBar": true,
   "skip_h1_title": false,
   "title_cell": "Table of Contents",
   "title_sidebar": "Contents",
   "toc_cell": false,
   "toc_position": {},
   "toc_section_display": true,
   "toc_window_display": false
  }
 },
 "nbformat": 4,
 "nbformat_minor": 4
}
