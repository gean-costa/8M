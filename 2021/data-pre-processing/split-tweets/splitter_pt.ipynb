{
 "cells": [
  {
   "cell_type": "code",
   "execution_count": 1,
   "metadata": {
    "ExecuteTime": {
     "end_time": "2021-05-22T01:08:13.403787Z",
     "start_time": "2021-05-22T01:08:13.396085Z"
    }
   },
   "outputs": [],
   "source": [
    "from tqdm import trange"
   ]
  },
  {
   "cell_type": "code",
   "execution_count": 2,
   "metadata": {
    "ExecuteTime": {
     "end_time": "2021-05-22T01:08:13.423010Z",
     "start_time": "2021-05-22T01:08:13.405135Z"
    }
   },
   "outputs": [],
   "source": [
    "with open(\"../2csv/cenario2_8M2021_tweets_pt.txt\", \"r\") as file:\n",
    "    tweets = file.readlines()"
   ]
  },
  {
   "cell_type": "code",
   "execution_count": 3,
   "metadata": {
    "ExecuteTime": {
     "end_time": "2021-05-22T01:08:13.433757Z",
     "start_time": "2021-05-22T01:08:13.424207Z"
    }
   },
   "outputs": [
    {
     "data": {
      "text/plain": [
       "32194"
      ]
     },
     "execution_count": 3,
     "metadata": {},
     "output_type": "execute_result"
    }
   ],
   "source": [
    "len(tweets)"
   ]
  },
  {
   "cell_type": "code",
   "execution_count": 4,
   "metadata": {
    "ExecuteTime": {
     "end_time": "2021-05-22T01:08:13.442415Z",
     "start_time": "2021-05-22T01:08:13.434880Z"
    }
   },
   "outputs": [],
   "source": [
    "steps = len(tweets) // 1000"
   ]
  },
  {
   "cell_type": "code",
   "execution_count": 5,
   "metadata": {
    "ExecuteTime": {
     "end_time": "2021-05-22T01:08:13.451702Z",
     "start_time": "2021-05-22T01:08:13.443562Z"
    }
   },
   "outputs": [],
   "source": [
    "start = 0\n",
    "end = 1000"
   ]
  },
  {
   "cell_type": "code",
   "execution_count": 6,
   "metadata": {
    "ExecuteTime": {
     "end_time": "2021-05-22T01:08:13.480667Z",
     "start_time": "2021-05-22T01:08:13.452873Z"
    }
   },
   "outputs": [
    {
     "name": "stderr",
     "output_type": "stream",
     "text": [
      "100%|██████████| 32/32 [00:00<00:00, 2254.59it/s]\n"
     ]
    }
   ],
   "source": [
    "for i in trange(steps):\n",
    "    with open(f\"splitted_pt/tweets_pt_{i+1}.txt\", \"w\") as file:\n",
    "        file.writelines(tweets[start:end])\n",
    "    start = end\n",
    "    end += 1000"
   ]
  },
  {
   "cell_type": "code",
   "execution_count": 7,
   "metadata": {
    "ExecuteTime": {
     "end_time": "2021-05-22T01:08:13.485586Z",
     "start_time": "2021-05-22T01:08:13.482729Z"
    }
   },
   "outputs": [],
   "source": [
    "with open(f\"splitted_pt/tweets_pt_{steps+1}.txt\", \"w\") as file:\n",
    "        file.writelines(tweets[start:])"
   ]
  },
  {
   "cell_type": "code",
   "execution_count": null,
   "metadata": {},
   "outputs": [],
   "source": []
  }
 ],
 "metadata": {
  "kernelspec": {
   "display_name": "Python 3",
   "language": "python",
   "name": "python3"
  },
  "language_info": {
   "codemirror_mode": {
    "name": "ipython",
    "version": 3
   },
   "file_extension": ".py",
   "mimetype": "text/x-python",
   "name": "python",
   "nbconvert_exporter": "python",
   "pygments_lexer": "ipython3",
   "version": "3.7.7"
  },
  "toc": {
   "base_numbering": 1,
   "nav_menu": {},
   "number_sections": true,
   "sideBar": true,
   "skip_h1_title": false,
   "title_cell": "Table of Contents",
   "title_sidebar": "Contents",
   "toc_cell": false,
   "toc_position": {},
   "toc_section_display": true,
   "toc_window_display": false
  }
 },
 "nbformat": 4,
 "nbformat_minor": 4
}
