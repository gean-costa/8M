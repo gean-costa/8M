{
 "cells": [
  {
   "cell_type": "code",
   "execution_count": 1,
   "metadata": {
    "ExecuteTime": {
     "end_time": "2021-05-22T00:47:42.041820Z",
     "start_time": "2021-05-22T00:47:39.642326Z"
    }
   },
   "outputs": [],
   "source": [
    "import pymongo\n",
    "import time\n",
    "import pandas as pd\n",
    "import json\n",
    "import nltk"
   ]
  },
  {
   "cell_type": "markdown",
   "metadata": {},
   "source": [
    "# Conexão com o MongoDB"
   ]
  },
  {
   "cell_type": "code",
   "execution_count": 2,
   "metadata": {
    "ExecuteTime": {
     "end_time": "2021-05-22T00:47:42.047289Z",
     "start_time": "2021-05-22T00:47:42.043429Z"
    }
   },
   "outputs": [],
   "source": [
    "client = pymongo.MongoClient()\n",
    "\n",
    "# database\n",
    "db = client['IWD2021']  \n",
    "\n",
    "# collection\n",
    "collection = db.tweets_pt"
   ]
  },
  {
   "cell_type": "code",
   "execution_count": 3,
   "metadata": {
    "ExecuteTime": {
     "end_time": "2021-05-22T00:47:42.057084Z",
     "start_time": "2021-05-22T00:47:42.048559Z"
    }
   },
   "outputs": [],
   "source": [
    "pipeline = [\n",
    "    {\n",
    "        '$project': {\n",
    "            'tweet_id': '$id_str', \n",
    "            'date': {\n",
    "                '$dateFromString': {\n",
    "                    'dateString': '$created_at'\n",
    "                }\n",
    "            }, \n",
    "            'tweet_text': {\n",
    "                '$ifNull': [\n",
    "                    '$retweeted_status.full_text', '$full_text'\n",
    "                ]\n",
    "            }, \n",
    "            'num_likes': '$favorite_count', \n",
    "            'num_retweets': '$retweet_count', \n",
    "            'quoted_status_id': {\n",
    "                '$ifNull': [\n",
    "                    '$quoted_status_id_str', None\n",
    "                ]\n",
    "            }, \n",
    "            'retweeted_status_id': {\n",
    "                '$ifNull': [\n",
    "                    '$retweeted_status.id_str', None\n",
    "                ]\n",
    "            }, \n",
    "            'reply_to_user': {\n",
    "                '$ifNull': [\n",
    "                    '$in_reply_to_user_id_str', None\n",
    "                ]\n",
    "            }, \n",
    "            'reply_to_status': {\n",
    "                '$ifNull': [\n",
    "                    '$in_reply_to_status_id_str', None\n",
    "                ]\n",
    "            }, \n",
    "            'user_id': '$user.id_str', \n",
    "            'screen_name': '$user.screen_name', \n",
    "            'followers': '$user.followers_count', \n",
    "            'following': '$user.friends_count'\n",
    "        }\n",
    "    }, {\n",
    "        '$project': {\n",
    "            '_id': 0, \n",
    "            'tweet_id': 1, \n",
    "            'date': {\n",
    "                '$dateToString': {\n",
    "                    'format': '%d/%m/%Y %H:%M:%S', \n",
    "                    'date': '$date'\n",
    "                }\n",
    "            }, \n",
    "            'tweet_text': 1, \n",
    "            'num_likes': 1, \n",
    "            'num_retweets': 1, \n",
    "            'quoted_status_id': 1, \n",
    "            'retweeted_status_id': 1, \n",
    "            'reply_to_user': 1, \n",
    "            'reply_to_status': 1, \n",
    "            'user_id': 1, \n",
    "            'screen_name': 1, \n",
    "            'followers': 1, \n",
    "            'following': 1\n",
    "        }\n",
    "    }\n",
    "]"
   ]
  },
  {
   "cell_type": "code",
   "execution_count": 4,
   "metadata": {
    "ExecuteTime": {
     "end_time": "2021-05-22T00:47:45.363603Z",
     "start_time": "2021-05-22T00:47:42.058475Z"
    }
   },
   "outputs": [
    {
     "name": "stdout",
     "output_type": "stream",
     "text": [
      "Tempo de execução: 00:00:03\n",
      "124444 documentos selecionados\n"
     ]
    }
   ],
   "source": [
    "time_start = time.time()\n",
    "document = list(collection.aggregate(pipeline=pipeline))\n",
    "time_end = time.time()\n",
    "\n",
    "print(\n",
    "    f'Tempo de execução: {time.strftime(\"%H:%M:%S\", time.gmtime(time_end - time_start))}')\n",
    "print(f'{len(document)} documentos selecionados')"
   ]
  },
  {
   "cell_type": "code",
   "execution_count": 5,
   "metadata": {
    "ExecuteTime": {
     "end_time": "2021-05-22T00:47:45.368105Z",
     "start_time": "2021-05-22T00:47:45.364888Z"
    }
   },
   "outputs": [
    {
     "name": "stdout",
     "output_type": "stream",
     "text": [
      "Amostra de um documento:\n",
      "\n",
      "{\n",
      "   \"tweet_id\": \"1368641308982657025\",\n",
      "   \"tweet_text\": \"🇧🇷 | Para celebrarmos o dia das mulheres, o @Fly923 estará tocando as nossas artistas femininas favoritas o dia todo. Entre no site abaixo e solicite Something to Believe In de Laura Marano.\\n\\n🔗: https://t.co/gL5nQXDBml https://t.co/6z6NZ4J4V6\",\n",
      "   \"num_likes\": 0,\n",
      "   \"num_retweets\": 3,\n",
      "   \"quoted_status_id\": \"1368582569789448195\",\n",
      "   \"retweeted_status_id\": \"1368592963304124416\",\n",
      "   \"reply_to_user\": null,\n",
      "   \"reply_to_status\": null,\n",
      "   \"user_id\": \"207164069\",\n",
      "   \"screen_name\": \"camisdjesus\",\n",
      "   \"followers\": 560,\n",
      "   \"following\": 272,\n",
      "   \"date\": \"07/03/2021 19:14:50\"\n",
      "}\n"
     ]
    }
   ],
   "source": [
    "print(f'Amostra de um documento:\\n')\n",
    "print(json.dumps(document[0], sort_keys=False, indent=3, ensure_ascii=False))"
   ]
  },
  {
   "cell_type": "code",
   "execution_count": 6,
   "metadata": {
    "ExecuteTime": {
     "end_time": "2021-05-22T00:47:45.976853Z",
     "start_time": "2021-05-22T00:47:45.369455Z"
    }
   },
   "outputs": [
    {
     "data": {
      "text/html": [
       "<div>\n",
       "<style scoped>\n",
       "    .dataframe tbody tr th:only-of-type {\n",
       "        vertical-align: middle;\n",
       "    }\n",
       "\n",
       "    .dataframe tbody tr th {\n",
       "        vertical-align: top;\n",
       "    }\n",
       "\n",
       "    .dataframe thead th {\n",
       "        text-align: right;\n",
       "    }\n",
       "</style>\n",
       "<table border=\"1\" class=\"dataframe\">\n",
       "  <thead>\n",
       "    <tr style=\"text-align: right;\">\n",
       "      <th></th>\n",
       "      <th>tweet_id</th>\n",
       "      <th>date</th>\n",
       "      <th>tweet_text</th>\n",
       "      <th>num_likes</th>\n",
       "      <th>num_retweets</th>\n",
       "      <th>retweeted_status_id</th>\n",
       "      <th>quoted_status_id</th>\n",
       "      <th>reply_to_user</th>\n",
       "      <th>reply_to_status</th>\n",
       "      <th>user_id</th>\n",
       "      <th>screen_name</th>\n",
       "      <th>followers</th>\n",
       "      <th>following</th>\n",
       "    </tr>\n",
       "  </thead>\n",
       "  <tbody>\n",
       "    <tr>\n",
       "      <th>0</th>\n",
       "      <td>1368641308982657025</td>\n",
       "      <td>07/03/2021 19:14:50</td>\n",
       "      <td>🇧🇷 | Para celebrarmos o dia das mulheres, o @F...</td>\n",
       "      <td>0</td>\n",
       "      <td>3</td>\n",
       "      <td>1368592963304124416</td>\n",
       "      <td>1368582569789448195</td>\n",
       "      <td>None</td>\n",
       "      <td>None</td>\n",
       "      <td>207164069</td>\n",
       "      <td>camisdjesus</td>\n",
       "      <td>560</td>\n",
       "      <td>272</td>\n",
       "    </tr>\n",
       "    <tr>\n",
       "      <th>1</th>\n",
       "      <td>1368643323246882816</td>\n",
       "      <td>07/03/2021 19:22:51</td>\n",
       "      <td>CAMPINAS NO MARÇO LILÁS\\nMulheres de Campinas ...</td>\n",
       "      <td>7</td>\n",
       "      <td>2</td>\n",
       "      <td>None</td>\n",
       "      <td>None</td>\n",
       "      <td>None</td>\n",
       "      <td>None</td>\n",
       "      <td>176464755</td>\n",
       "      <td>CUTsaopaulo</td>\n",
       "      <td>6751</td>\n",
       "      <td>219</td>\n",
       "    </tr>\n",
       "    <tr>\n",
       "      <th>2</th>\n",
       "      <td>1368645634245398532</td>\n",
       "      <td>07/03/2021 19:32:02</td>\n",
       "      <td>Em antecipação de #IWD2021 , conheça oito mulh...</td>\n",
       "      <td>1</td>\n",
       "      <td>0</td>\n",
       "      <td>None</td>\n",
       "      <td>1368638832036384771</td>\n",
       "      <td>None</td>\n",
       "      <td>None</td>\n",
       "      <td>322101708</td>\n",
       "      <td>a_b_Martins</td>\n",
       "      <td>211</td>\n",
       "      <td>1009</td>\n",
       "    </tr>\n",
       "    <tr>\n",
       "      <th>3</th>\n",
       "      <td>1368646590106370057</td>\n",
       "      <td>07/03/2021 19:35:49</td>\n",
       "      <td>Mulheres na liderança! 🏅\\n\\nEm 1900, a tenista...</td>\n",
       "      <td>0</td>\n",
       "      <td>1</td>\n",
       "      <td>1368638363356565513</td>\n",
       "      <td>None</td>\n",
       "      <td>None</td>\n",
       "      <td>None</td>\n",
       "      <td>23601228</td>\n",
       "      <td>melangedetout</td>\n",
       "      <td>1996</td>\n",
       "      <td>725</td>\n",
       "    </tr>\n",
       "    <tr>\n",
       "      <th>4</th>\n",
       "      <td>1368649920094236672</td>\n",
       "      <td>07/03/2021 19:49:03</td>\n",
       "      <td>Bravo! 👏👏👏 https://t.co/ptfquSy3PO</td>\n",
       "      <td>4</td>\n",
       "      <td>0</td>\n",
       "      <td>None</td>\n",
       "      <td>1368630612488298503</td>\n",
       "      <td>None</td>\n",
       "      <td>None</td>\n",
       "      <td>2855855786</td>\n",
       "      <td>Sz3nna</td>\n",
       "      <td>494</td>\n",
       "      <td>633</td>\n",
       "    </tr>\n",
       "  </tbody>\n",
       "</table>\n",
       "</div>"
      ],
      "text/plain": [
       "              tweet_id                 date  \\\n",
       "0  1368641308982657025  07/03/2021 19:14:50   \n",
       "1  1368643323246882816  07/03/2021 19:22:51   \n",
       "2  1368645634245398532  07/03/2021 19:32:02   \n",
       "3  1368646590106370057  07/03/2021 19:35:49   \n",
       "4  1368649920094236672  07/03/2021 19:49:03   \n",
       "\n",
       "                                          tweet_text  num_likes  num_retweets  \\\n",
       "0  🇧🇷 | Para celebrarmos o dia das mulheres, o @F...          0             3   \n",
       "1  CAMPINAS NO MARÇO LILÁS\\nMulheres de Campinas ...          7             2   \n",
       "2  Em antecipação de #IWD2021 , conheça oito mulh...          1             0   \n",
       "3  Mulheres na liderança! 🏅\\n\\nEm 1900, a tenista...          0             1   \n",
       "4                 Bravo! 👏👏👏 https://t.co/ptfquSy3PO          4             0   \n",
       "\n",
       "   retweeted_status_id     quoted_status_id reply_to_user reply_to_status  \\\n",
       "0  1368592963304124416  1368582569789448195          None            None   \n",
       "1                 None                 None          None            None   \n",
       "2                 None  1368638832036384771          None            None   \n",
       "3  1368638363356565513                 None          None            None   \n",
       "4                 None  1368630612488298503          None            None   \n",
       "\n",
       "      user_id    screen_name  followers  following  \n",
       "0   207164069    camisdjesus        560        272  \n",
       "1   176464755    CUTsaopaulo       6751        219  \n",
       "2   322101708    a_b_Martins        211       1009  \n",
       "3    23601228  melangedetout       1996        725  \n",
       "4  2855855786         Sz3nna        494        633  "
      ]
     },
     "execution_count": 6,
     "metadata": {},
     "output_type": "execute_result"
    }
   ],
   "source": [
    "df = pd.DataFrame(document)\n",
    "df = df[['tweet_id', 'date', 'tweet_text', 'num_likes', 'num_retweets',\n",
    "                   'retweeted_status_id', 'quoted_status_id', 'reply_to_user', 'reply_to_status',\n",
    "                   'user_id', 'screen_name', 'followers', 'following']]\n",
    "df.head()"
   ]
  },
  {
   "cell_type": "code",
   "execution_count": 7,
   "metadata": {
    "ExecuteTime": {
     "end_time": "2021-05-22T00:47:45.985831Z",
     "start_time": "2021-05-22T00:47:45.979005Z"
    }
   },
   "outputs": [
    {
     "name": "stdout",
     "output_type": "stream",
     "text": [
      "Amostra de um tweet antes do pré-processamento:\n",
      "\n",
      "🇧🇷 | Para celebrarmos o dia das mulheres, o @Fly923 estará tocando as nossas artistas femininas favoritas o dia todo. Entre no site abaixo e solicite Something to Believe In de Laura Marano.\n",
      "\n",
      "🔗: https://t.co/gL5nQXDBml https://t.co/6z6NZ4J4V6\n"
     ]
    }
   ],
   "source": [
    "print(f'Amostra de um tweet antes do pré-processamento:\\n\\n{df.tweet_text[0]}')"
   ]
  },
  {
   "cell_type": "code",
   "execution_count": 8,
   "metadata": {
    "ExecuteTime": {
     "end_time": "2021-05-22T00:47:47.237060Z",
     "start_time": "2021-05-22T00:47:45.987471Z"
    }
   },
   "outputs": [],
   "source": [
    "df.to_csv('tweets_pt.csv')"
   ]
  },
  {
   "cell_type": "markdown",
   "metadata": {},
   "source": [
    "## Pré-processamento"
   ]
  },
  {
   "cell_type": "code",
   "execution_count": 9,
   "metadata": {
    "ExecuteTime": {
     "end_time": "2021-05-22T00:47:47.445025Z",
     "start_time": "2021-05-22T00:47:47.238342Z"
    }
   },
   "outputs": [
    {
     "data": {
      "text/plain": [
       "'🇧🇷 | Para celebrarmos o dia das mulheres, o @Fly923 estará tocando as nossas artistas femininas favoritas o dia todo. Entre no site abaixo e solicite Something to Believe In de Laura Marano.\\n\\n🔗:  '"
      ]
     },
     "execution_count": 9,
     "metadata": {},
     "output_type": "execute_result"
    }
   ],
   "source": [
    "# remover links\n",
    "df['clean_text'] = df['tweet_text'].str.replace(r\"http\\S+\",\"\") \n",
    "df.clean_text[0]"
   ]
  },
  {
   "cell_type": "code",
   "execution_count": 10,
   "metadata": {
    "ExecuteTime": {
     "end_time": "2021-05-22T00:47:47.601984Z",
     "start_time": "2021-05-22T00:47:47.446608Z"
    }
   },
   "outputs": [
    {
     "data": {
      "text/plain": [
       "'🇧🇷 | Para celebrarmos o dia das mulheres, o  estará tocando as nossas artistas femininas favoritas o dia todo. Entre no site abaixo e solicite Something to Believe In de Laura Marano.\\n\\n🔗:  '"
      ]
     },
     "execution_count": 10,
     "metadata": {},
     "output_type": "execute_result"
    }
   ],
   "source": [
    "# remover mentions\n",
    "df['clean_text'] = df['clean_text'].str.replace(r\"@\\S+\",\"\")\n",
    "df.clean_text[0]"
   ]
  },
  {
   "cell_type": "code",
   "execution_count": 11,
   "metadata": {
    "ExecuteTime": {
     "end_time": "2021-05-22T00:47:47.811990Z",
     "start_time": "2021-05-22T00:47:47.603179Z"
    }
   },
   "outputs": [
    {
     "data": {
      "text/plain": [
       "'🇧🇷 | Para celebrarmos o dia das mulheres, o  estará tocando as nossas artistas femininas favoritas o dia todo. Entre no site abaixo e solicite Something to Believe In de Laura Marano.\\n\\n🔗:  '"
      ]
     },
     "execution_count": 11,
     "metadata": {},
     "output_type": "execute_result"
    }
   ],
   "source": [
    "# remover hashtags\n",
    "df['clean_text'] = df['clean_text'].str.replace(r\"#\\S+\",\" \")\n",
    "df.clean_text[0]"
   ]
  },
  {
   "cell_type": "code",
   "execution_count": 12,
   "metadata": {
    "ExecuteTime": {
     "end_time": "2021-05-22T00:47:47.998491Z",
     "start_time": "2021-05-22T00:47:47.813213Z"
    }
   },
   "outputs": [
    {
     "data": {
      "text/plain": [
       "'🇧🇷 | Para celebrarmos o dia das mulheres, o  estará tocando as nossas artistas femininas favoritas o dia todo. Entre no site abaixo e solicite Something to Believe In de Laura Marano.  🔗:  '"
      ]
     },
     "execution_count": 12,
     "metadata": {},
     "output_type": "execute_result"
    }
   ],
   "source": [
    "# remover quebra de linhas\n",
    "df['clean_text'] = df['clean_text'].str.replace(r\"\\n\",\" \")\n",
    "df.clean_text[0]"
   ]
  },
  {
   "cell_type": "code",
   "execution_count": 13,
   "metadata": {
    "ExecuteTime": {
     "end_time": "2021-05-22T00:47:48.870102Z",
     "start_time": "2021-05-22T00:47:47.999861Z"
    }
   },
   "outputs": [
    {
     "data": {
      "text/plain": [
       "'     Para celebrarmos o dia das mulheres  o  estará tocando as nossas artistas femininas favoritas o dia todo  Entre no site abaixo e solicite Something to Believe In de Laura Marano       '"
      ]
     },
     "execution_count": 13,
     "metadata": {},
     "output_type": "execute_result"
    }
   ],
   "source": [
    "# remover pontuações\n",
    "df['clean_text'] = df['clean_text'].str.replace(r\"[^\\w\\s#]|_\",\" \")\n",
    "df.clean_text[0]"
   ]
  },
  {
   "cell_type": "code",
   "execution_count": 14,
   "metadata": {
    "ExecuteTime": {
     "end_time": "2021-05-22T00:47:51.197734Z",
     "start_time": "2021-05-22T00:47:48.871254Z"
    }
   },
   "outputs": [
    {
     "data": {
      "text/plain": [
       "'Para celebrarmos o dia das mulheres  o  estará tocando as nossas artistas femininas favoritas o dia todo  Entre no site abaixo e solicite Something to Believe In de Laura Marano'"
      ]
     },
     "execution_count": 14,
     "metadata": {},
     "output_type": "execute_result"
    }
   ],
   "source": [
    "# remover números\n",
    "df['clean_text'] = df['clean_text'].str.strip().str.replace(r\"\\b(?:[0-9]*)\\b\",\"\")\n",
    "df.clean_text[0]"
   ]
  },
  {
   "cell_type": "code",
   "execution_count": 15,
   "metadata": {
    "ExecuteTime": {
     "end_time": "2021-05-22T00:47:51.843595Z",
     "start_time": "2021-05-22T00:47:51.198892Z"
    }
   },
   "outputs": [
    {
     "data": {
      "text/plain": [
       "'Para celebrarmos o dia das mulheres o estará tocando as nossas artistas femininas favoritas o dia todo Entre no site abaixo e solicite Something to Believe In de Laura Marano'"
      ]
     },
     "execution_count": 15,
     "metadata": {},
     "output_type": "execute_result"
    }
   ],
   "source": [
    "# remover espaços duplos\n",
    "df['clean_text'] = df['clean_text'].str.strip().str.replace(r\"\\s{2,}\",\" \")\n",
    "df.clean_text[0]"
   ]
  },
  {
   "cell_type": "code",
   "execution_count": 16,
   "metadata": {
    "ExecuteTime": {
     "end_time": "2021-05-22T00:47:52.034557Z",
     "start_time": "2021-05-22T00:47:51.844828Z"
    }
   },
   "outputs": [
    {
     "data": {
      "text/plain": [
       "'para celebrarmos o dia das mulheres o estará tocando as nossas artistas femininas favoritas o dia todo entre no site abaixo e solicite something to believe in de laura marano'"
      ]
     },
     "execution_count": 16,
     "metadata": {},
     "output_type": "execute_result"
    }
   ],
   "source": [
    "# converter todas as letras para minusculas\n",
    "df['clean_text'] = df['clean_text'].str.lower()\n",
    "df.clean_text[0]"
   ]
  },
  {
   "cell_type": "code",
   "execution_count": 17,
   "metadata": {
    "ExecuteTime": {
     "end_time": "2021-05-22T00:48:01.282836Z",
     "start_time": "2021-05-22T00:47:52.035812Z"
    }
   },
   "outputs": [
    {
     "data": {
      "text/plain": [
       "'para celebrarmos o dia das mulheres o estará tocando as nossas artistas femininas favoritas o dia todo entre no site abaixo e solicite something to believe in de laura marano'"
      ]
     },
     "execution_count": 17,
     "metadata": {},
     "output_type": "execute_result"
    }
   ],
   "source": [
    "# remover letras que se repetem em sequência mais de 3x\n",
    "import string\n",
    "alphabet = list(string.ascii_lowercase)\n",
    "\n",
    "for letter in alphabet:\n",
    "    pattern = '{}{}'.format(letter, '{3,}')\n",
    "    df['clean_text'] = df['clean_text'].str.replace(r'{}'.format(pattern), letter)\n",
    "    \n",
    "df.clean_text[0]"
   ]
  },
  {
   "cell_type": "code",
   "execution_count": 18,
   "metadata": {
    "ExecuteTime": {
     "end_time": "2021-05-22T00:48:08.987019Z",
     "start_time": "2021-05-22T00:48:01.284011Z"
    }
   },
   "outputs": [
    {
     "data": {
      "text/plain": [
       "'celebrarmos dia mulheres estará tocando artistas femininas favoritas dia site abaixo solicite something to believe in laura marano'"
      ]
     },
     "execution_count": 18,
     "metadata": {},
     "output_type": "execute_result"
    }
   ],
   "source": [
    "# remover stpwords\n",
    "with open('../stopwords/portuguese.txt', 'r') as file:\n",
    "    stopwords = file.readlines()\n",
    "stopwords = [sw.replace('\\n','') for sw in stopwords]\n",
    "\n",
    "def remover_stopwords(texto):\n",
    "    palavras = [i for i in texto.split() if not i in stopwords]\n",
    "    return (\" \".join(palavras))\n",
    "\n",
    "df['clean_text'] = df['clean_text'].apply(remover_stopwords)\n",
    "df.clean_text[0]"
   ]
  },
  {
   "cell_type": "code",
   "execution_count": 19,
   "metadata": {
    "ExecuteTime": {
     "end_time": "2021-05-22T00:48:09.379659Z",
     "start_time": "2021-05-22T00:48:08.988188Z"
    }
   },
   "outputs": [
    {
     "data": {
      "text/plain": [
       "'celebrarmos dia mulheres estará tocando artistas femininas favoritas dia site abaixo solicite something believe laura marano'"
      ]
     },
     "execution_count": 19,
     "metadata": {},
     "output_type": "execute_result"
    }
   ],
   "source": [
    "# remover palavras com 2 caracteres ou menos\n",
    "def remover_len_2(texto):\n",
    "    palavras = [i for i in texto.split() if len(i) > 2]\n",
    "    return (\" \".join(palavras))\n",
    "\n",
    "df['clean_text'] = df['clean_text'].apply(remover_len_2)\n",
    "df.clean_text[0]"
   ]
  },
  {
   "cell_type": "code",
   "execution_count": 20,
   "metadata": {
    "ExecuteTime": {
     "end_time": "2021-05-22T00:48:09.383675Z",
     "start_time": "2021-05-22T00:48:09.380927Z"
    }
   },
   "outputs": [
    {
     "name": "stdout",
     "output_type": "stream",
     "text": [
      "Amostra de um tweet depois do pré-processamento:\n",
      "\n",
      "🇧🇷 | Para celebrarmos o dia das mulheres, o @Fly923 estará tocando as nossas artistas femininas favoritas o dia todo. Entre no site abaixo e solicite Something to Believe In de Laura Marano.\n",
      "\n",
      "🔗: https://t.co/gL5nQXDBml https://t.co/6z6NZ4J4V6\n",
      "\n",
      "celebrarmos dia mulheres estará tocando artistas femininas favoritas dia site abaixo solicite something believe laura marano\n"
     ]
    }
   ],
   "source": [
    "print(\n",
    "    f'Amostra de um tweet depois do pré-processamento:\\n\\n{df.tweet_text[0]}\\n\\n{df.clean_text[0]}')"
   ]
  },
  {
   "cell_type": "code",
   "execution_count": 21,
   "metadata": {
    "ExecuteTime": {
     "end_time": "2021-05-22T00:48:09.393237Z",
     "start_time": "2021-05-22T00:48:09.385068Z"
    }
   },
   "outputs": [],
   "source": [
    "def reduzir_radical(texto):\n",
    "    stemmer = nltk.stem.RSLPStemmer()\n",
    "    palavras = [stemmer.stem(i) for i in texto.split()]\n",
    "    return (\" \".join(palavras))"
   ]
  },
  {
   "cell_type": "code",
   "execution_count": 22,
   "metadata": {
    "ExecuteTime": {
     "end_time": "2021-05-22T00:48:09.429733Z",
     "start_time": "2021-05-22T00:48:09.394407Z"
    }
   },
   "outputs": [
    {
     "data": {
      "text/plain": [
       "'celebr dia mulh est toc artist feminin favorit dia sit abaix solicit something believ laur maran'"
      ]
     },
     "execution_count": 22,
     "metadata": {},
     "output_type": "execute_result"
    }
   ],
   "source": [
    "reduzir_radical(df.clean_text[0])"
   ]
  },
  {
   "cell_type": "code",
   "execution_count": 23,
   "metadata": {
    "ExecuteTime": {
     "end_time": "2021-05-22T00:48:09.432514Z",
     "start_time": "2021-05-22T00:48:09.430827Z"
    }
   },
   "outputs": [],
   "source": [
    "# df['tweet_text'] = df['tweet_text'].apply(reduzir_radical)"
   ]
  },
  {
   "cell_type": "code",
   "execution_count": 24,
   "metadata": {
    "ExecuteTime": {
     "end_time": "2021-05-22T00:48:09.442467Z",
     "start_time": "2021-05-22T00:48:09.433701Z"
    }
   },
   "outputs": [],
   "source": [
    "import unicodedata\n",
    "\n",
    "def remover_acentuacao(text):\n",
    "    # Unicode normalize transforma um caracter em seu equivalente em latin.\n",
    "    nfkd = unicodedata.normalize('NFKD', text)\n",
    "    palavra_sem_acento = u\"\".join([c for c in nfkd if not unicodedata.combining(c)])\n",
    "    return (palavra_sem_acento)"
   ]
  },
  {
   "cell_type": "code",
   "execution_count": 25,
   "metadata": {
    "ExecuteTime": {
     "end_time": "2021-05-22T00:48:09.452984Z",
     "start_time": "2021-05-22T00:48:09.445744Z"
    }
   },
   "outputs": [
    {
     "data": {
      "text/plain": [
       "'celebrarmos dia mulheres estara tocando artistas femininas favoritas dia site abaixo solicite something believe laura marano'"
      ]
     },
     "execution_count": 25,
     "metadata": {},
     "output_type": "execute_result"
    }
   ],
   "source": [
    "remover_acentuacao(df.clean_text[0])"
   ]
  },
  {
   "cell_type": "code",
   "execution_count": 26,
   "metadata": {
    "ExecuteTime": {
     "end_time": "2021-05-22T00:48:11.268083Z",
     "start_time": "2021-05-22T00:48:09.454651Z"
    }
   },
   "outputs": [
    {
     "data": {
      "text/plain": [
       "'celebrarmos dia mulheres estara tocando artistas femininas favoritas dia site abaixo solicite something believe laura marano'"
      ]
     },
     "execution_count": 26,
     "metadata": {},
     "output_type": "execute_result"
    }
   ],
   "source": [
    "df['clean_text'] = df['clean_text'].apply(remover_acentuacao)\n",
    "df.clean_text[0]"
   ]
  },
  {
   "cell_type": "code",
   "execution_count": 27,
   "metadata": {
    "ExecuteTime": {
     "end_time": "2021-05-22T00:48:11.481687Z",
     "start_time": "2021-05-22T00:48:11.269327Z"
    }
   },
   "outputs": [
    {
     "data": {
      "text/plain": [
       "'celebrarmos dia mulheres estara tocando artistas femininas favoritas dia site abaixo solicite something believe laura marano'"
      ]
     },
     "execution_count": 27,
     "metadata": {},
     "output_type": "execute_result"
    }
   ],
   "source": [
    "# remover non ascii caracteres\n",
    "df['clean_text'] = df['clean_text'].str.strip().str.replace(r\"[^a-zA-z0-9#|\\s]\",\"\")\n",
    "\n",
    "df.clean_text[0]"
   ]
  },
  {
   "cell_type": "code",
   "execution_count": 28,
   "metadata": {
    "ExecuteTime": {
     "end_time": "2021-05-22T00:48:11.485560Z",
     "start_time": "2021-05-22T00:48:11.482884Z"
    }
   },
   "outputs": [
    {
     "name": "stdout",
     "output_type": "stream",
     "text": [
      "Amostra de um tweet depois do pré-processamento:\n",
      "\n",
      "🇧🇷 | Para celebrarmos o dia das mulheres, o @Fly923 estará tocando as nossas artistas femininas favoritas o dia todo. Entre no site abaixo e solicite Something to Believe In de Laura Marano.\n",
      "\n",
      "🔗: https://t.co/gL5nQXDBml https://t.co/6z6NZ4J4V6\n",
      "\n",
      "celebrarmos dia mulheres estara tocando artistas femininas favoritas dia site abaixo solicite something believe laura marano\n"
     ]
    }
   ],
   "source": [
    "print(\n",
    "    f'Amostra de um tweet depois do pré-processamento:\\n\\n{df.tweet_text[0]}\\n\\n{df.clean_text[0]}')"
   ]
  },
  {
   "cell_type": "markdown",
   "metadata": {},
   "source": [
    "### Etapa opcional\n",
    "\n",
    "O atributo 'lang' presentes nos documentos podem ter sido atribuidos erroneamente. Objetivando eliminar tweets que possam ser de um idioma não requisitado, desenvolveram-se 2 funções para ajudar a confirmar o idioma destes."
   ]
  },
  {
   "cell_type": "markdown",
   "metadata": {},
   "source": [
    "Para desabilitar warnings:"
   ]
  },
  {
   "cell_type": "code",
   "execution_count": 29,
   "metadata": {
    "ExecuteTime": {
     "end_time": "2021-05-22T00:48:11.494599Z",
     "start_time": "2021-05-22T00:48:11.486755Z"
    }
   },
   "outputs": [],
   "source": [
    "# import logging\n",
    "# logging.disable(logging.WARNING)"
   ]
  },
  {
   "cell_type": "markdown",
   "metadata": {},
   "source": [
    "#### 1. Usando polyglot"
   ]
  },
  {
   "cell_type": "code",
   "execution_count": 30,
   "metadata": {
    "ExecuteTime": {
     "end_time": "2021-05-22T00:48:11.503826Z",
     "start_time": "2021-05-22T00:48:11.495731Z"
    }
   },
   "outputs": [],
   "source": [
    "# import polyglot\n",
    "# from polyglot.detect import Detector"
   ]
  },
  {
   "cell_type": "code",
   "execution_count": 31,
   "metadata": {
    "ExecuteTime": {
     "end_time": "2021-05-22T00:48:11.513035Z",
     "start_time": "2021-05-22T00:48:11.504984Z"
    }
   },
   "outputs": [],
   "source": [
    "# def get_polyglot_language(text):\n",
    "#     try:\n",
    "#         detector = Detector(text)\n",
    "#     except polyglot.detect.base.UnknownLanguage:\n",
    "#         lang = 'Undefined'\n",
    "#     else:\n",
    "#         lang = detector.language.name\n",
    "    \n",
    "#     return (lang)"
   ]
  },
  {
   "cell_type": "code",
   "execution_count": 32,
   "metadata": {
    "ExecuteTime": {
     "end_time": "2021-05-22T00:48:11.522320Z",
     "start_time": "2021-05-22T00:48:11.514388Z"
    }
   },
   "outputs": [],
   "source": [
    "# get_polyglot_language(df['tweet_text'][0])"
   ]
  },
  {
   "cell_type": "code",
   "execution_count": 33,
   "metadata": {
    "ExecuteTime": {
     "end_time": "2021-05-22T00:48:11.538549Z",
     "start_time": "2021-05-22T00:48:11.523525Z"
    }
   },
   "outputs": [],
   "source": [
    "# df['polyglot_lang'] = df['tweet_text'].apply(get_polyglot_language)"
   ]
  },
  {
   "cell_type": "code",
   "execution_count": 34,
   "metadata": {
    "ExecuteTime": {
     "end_time": "2021-05-22T00:48:11.547653Z",
     "start_time": "2021-05-22T00:48:11.539707Z"
    }
   },
   "outputs": [],
   "source": [
    "# df['polyglot_lang'].value_counts()"
   ]
  },
  {
   "cell_type": "markdown",
   "metadata": {},
   "source": [
    "#### 2. Usando textblob"
   ]
  },
  {
   "cell_type": "code",
   "execution_count": 35,
   "metadata": {
    "ExecuteTime": {
     "end_time": "2021-05-22T00:48:11.556697Z",
     "start_time": "2021-05-22T00:48:11.548819Z"
    }
   },
   "outputs": [],
   "source": [
    "# import textblob\n",
    "# from textblob import TextBlob\n",
    "# import pycountry"
   ]
  },
  {
   "cell_type": "code",
   "execution_count": 36,
   "metadata": {
    "ExecuteTime": {
     "end_time": "2021-05-22T00:48:11.565727Z",
     "start_time": "2021-05-22T00:48:11.557804Z"
    }
   },
   "outputs": [],
   "source": [
    "# def get_textblob_language(text):\n",
    "#     try:\n",
    "#         time.sleep(0.2)\n",
    "#         b = TextBlob(text)\n",
    "#         language = pycountry.languages.get(alpha_2=b.detect_language())\n",
    "#         language_name = language.name\n",
    "#     except textblob.exceptions.TranslatorError:\n",
    "#         # language_name = \"Deu ruim\"\n",
    "#         language_name = 'Undefined'\n",
    "    \n",
    "#     return(language_name) "
   ]
  },
  {
   "cell_type": "code",
   "execution_count": 37,
   "metadata": {
    "ExecuteTime": {
     "end_time": "2021-05-22T00:48:11.574985Z",
     "start_time": "2021-05-22T00:48:11.566837Z"
    }
   },
   "outputs": [],
   "source": [
    "# get_textblob_language(df['tweet_text'][0])"
   ]
  },
  {
   "cell_type": "code",
   "execution_count": 38,
   "metadata": {
    "ExecuteTime": {
     "end_time": "2021-05-22T00:48:11.584086Z",
     "start_time": "2021-05-22T00:48:11.576345Z"
    }
   },
   "outputs": [],
   "source": [
    "# df['textblob_lang'] = df['tweet_text'].apply(get_textblob_language)"
   ]
  },
  {
   "cell_type": "markdown",
   "metadata": {},
   "source": [
    "Para reabilitar warnings:"
   ]
  },
  {
   "cell_type": "code",
   "execution_count": 39,
   "metadata": {
    "ExecuteTime": {
     "end_time": "2021-05-22T00:48:11.593203Z",
     "start_time": "2021-05-22T00:48:11.585378Z"
    }
   },
   "outputs": [],
   "source": [
    "# logging.disable(logging.NOTSET)"
   ]
  },
  {
   "cell_type": "code",
   "execution_count": 40,
   "metadata": {
    "ExecuteTime": {
     "end_time": "2021-05-22T00:48:11.602364Z",
     "start_time": "2021-05-22T00:48:11.594337Z"
    }
   },
   "outputs": [],
   "source": [
    "# df.shape"
   ]
  },
  {
   "cell_type": "markdown",
   "metadata": {},
   "source": [
    "# Criação do arquivo .csv"
   ]
  },
  {
   "cell_type": "markdown",
   "metadata": {},
   "source": [
    "### Cenário 1: base completa"
   ]
  },
  {
   "cell_type": "markdown",
   "metadata": {},
   "source": [
    "Caso tenha se utilizado umas das duas funções - **get_polyglot_language**, por exemplo - use o seguinte trecho para gerar o arquivo .csv:"
   ]
  },
  {
   "cell_type": "code",
   "execution_count": 41,
   "metadata": {
    "ExecuteTime": {
     "end_time": "2021-05-22T00:48:11.611428Z",
     "start_time": "2021-05-22T00:48:11.603460Z"
    }
   },
   "outputs": [],
   "source": [
    "# index = df['polyglot_lang'] == 'Portuguese'\n",
    "# new_df = df[index]\n",
    "# new_df = new_df.drop('polyglot_lang', axis=1)"
   ]
  },
  {
   "cell_type": "code",
   "execution_count": 42,
   "metadata": {
    "ExecuteTime": {
     "end_time": "2021-05-22T00:48:11.620679Z",
     "start_time": "2021-05-22T00:48:11.612706Z"
    }
   },
   "outputs": [],
   "source": [
    "# new_df.to_csv('cenario1_8M2020_polyglot_tweets_pt.csv', index=False)"
   ]
  },
  {
   "cell_type": "markdown",
   "metadata": {},
   "source": [
    "Caso contrário:"
   ]
  },
  {
   "cell_type": "code",
   "execution_count": 43,
   "metadata": {
    "ExecuteTime": {
     "end_time": "2021-05-22T00:48:11.629634Z",
     "start_time": "2021-05-22T00:48:11.622134Z"
    }
   },
   "outputs": [],
   "source": [
    "# df = df.drop('polyglot_lang', axis=1)"
   ]
  },
  {
   "cell_type": "code",
   "execution_count": 44,
   "metadata": {
    "ExecuteTime": {
     "end_time": "2021-05-22T00:48:11.744294Z",
     "start_time": "2021-05-22T00:48:11.632520Z"
    }
   },
   "outputs": [],
   "source": [
    "df = df[df['clean_text'] != '']"
   ]
  },
  {
   "cell_type": "code",
   "execution_count": 45,
   "metadata": {
    "ExecuteTime": {
     "end_time": "2021-05-22T00:48:11.748774Z",
     "start_time": "2021-05-22T00:48:11.745564Z"
    }
   },
   "outputs": [
    {
     "data": {
      "text/plain": [
       "(124203, 14)"
      ]
     },
     "execution_count": 45,
     "metadata": {},
     "output_type": "execute_result"
    }
   ],
   "source": [
    "df.shape"
   ]
  },
  {
   "cell_type": "code",
   "execution_count": 46,
   "metadata": {
    "ExecuteTime": {
     "end_time": "2021-05-22T00:48:13.106829Z",
     "start_time": "2021-05-22T00:48:11.750100Z"
    }
   },
   "outputs": [],
   "source": [
    "df.to_csv('cenario1_8M2021_tweets_pt.csv', index=False)"
   ]
  },
  {
   "cell_type": "markdown",
   "metadata": {},
   "source": [
    "criação do arquivo .txt (somente com os textos dos tweets):"
   ]
  },
  {
   "cell_type": "code",
   "execution_count": 47,
   "metadata": {
    "ExecuteTime": {
     "end_time": "2021-05-22T00:48:13.110312Z",
     "start_time": "2021-05-22T00:48:13.108076Z"
    }
   },
   "outputs": [],
   "source": [
    "import numpy as np"
   ]
  },
  {
   "cell_type": "code",
   "execution_count": 48,
   "metadata": {
    "ExecuteTime": {
     "end_time": "2021-05-22T00:48:13.121439Z",
     "start_time": "2021-05-22T00:48:13.111664Z"
    }
   },
   "outputs": [],
   "source": [
    "tweets_text = np.array(df['clean_text'])"
   ]
  },
  {
   "cell_type": "code",
   "execution_count": 49,
   "metadata": {
    "ExecuteTime": {
     "end_time": "2021-05-22T00:48:13.341181Z",
     "start_time": "2021-05-22T00:48:13.122631Z"
    }
   },
   "outputs": [],
   "source": [
    "np.savetxt(fname='cenario1_8M2021_tweets_pt.txt', X=tweets_text, fmt='%s')"
   ]
  },
  {
   "cell_type": "markdown",
   "metadata": {},
   "source": [
    "## Cenário 2: tweets sem duplicatas"
   ]
  },
  {
   "cell_type": "code",
   "execution_count": 50,
   "metadata": {
    "ExecuteTime": {
     "end_time": "2021-05-22T00:48:13.402079Z",
     "start_time": "2021-05-22T00:48:13.342602Z"
    }
   },
   "outputs": [],
   "source": [
    "df.drop_duplicates(['clean_text'], inplace = True)"
   ]
  },
  {
   "cell_type": "code",
   "execution_count": 51,
   "metadata": {
    "ExecuteTime": {
     "end_time": "2021-05-22T00:48:13.406353Z",
     "start_time": "2021-05-22T00:48:13.403343Z"
    }
   },
   "outputs": [
    {
     "data": {
      "text/plain": [
       "(32194, 14)"
      ]
     },
     "execution_count": 51,
     "metadata": {},
     "output_type": "execute_result"
    }
   ],
   "source": [
    "df.shape"
   ]
  },
  {
   "cell_type": "code",
   "execution_count": 52,
   "metadata": {
    "ExecuteTime": {
     "end_time": "2021-05-22T00:48:13.741921Z",
     "start_time": "2021-05-22T00:48:13.407662Z"
    }
   },
   "outputs": [],
   "source": [
    "df.to_csv('cenario2_8M2021_tweets_pt.csv', index=False)"
   ]
  },
  {
   "cell_type": "code",
   "execution_count": 53,
   "metadata": {
    "ExecuteTime": {
     "end_time": "2021-05-22T00:48:13.747269Z",
     "start_time": "2021-05-22T00:48:13.743140Z"
    }
   },
   "outputs": [],
   "source": [
    "tweets_text = np.array(df['clean_text'])"
   ]
  },
  {
   "cell_type": "code",
   "execution_count": 54,
   "metadata": {
    "ExecuteTime": {
     "end_time": "2021-05-22T00:48:13.806403Z",
     "start_time": "2021-05-22T00:48:13.748453Z"
    }
   },
   "outputs": [],
   "source": [
    "np.savetxt(fname='cenario2_8M2021_tweets_pt.txt', X=tweets_text, fmt='%s')"
   ]
  },
  {
   "cell_type": "code",
   "execution_count": null,
   "metadata": {},
   "outputs": [],
   "source": []
  }
 ],
 "metadata": {
  "kernelspec": {
   "display_name": "Python 3",
   "language": "python",
   "name": "python3"
  },
  "language_info": {
   "codemirror_mode": {
    "name": "ipython",
    "version": 3
   },
   "file_extension": ".py",
   "mimetype": "text/x-python",
   "name": "python",
   "nbconvert_exporter": "python",
   "pygments_lexer": "ipython3",
   "version": "3.7.7"
  },
  "toc": {
   "base_numbering": 1,
   "nav_menu": {},
   "number_sections": false,
   "sideBar": true,
   "skip_h1_title": false,
   "title_cell": "Table of Contents",
   "title_sidebar": "Contents",
   "toc_cell": false,
   "toc_position": {
    "height": "calc(100% - 180px)",
    "left": "10px",
    "top": "150px",
    "width": "272px"
   },
   "toc_section_display": true,
   "toc_window_display": false
  }
 },
 "nbformat": 4,
 "nbformat_minor": 4
}
