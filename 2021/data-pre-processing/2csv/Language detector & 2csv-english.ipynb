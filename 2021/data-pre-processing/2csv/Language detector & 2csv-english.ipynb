{
 "cells": [
  {
   "cell_type": "code",
   "execution_count": 1,
   "metadata": {
    "ExecuteTime": {
     "end_time": "2021-05-22T00:50:40.568869Z",
     "start_time": "2021-05-22T00:50:39.160960Z"
    }
   },
   "outputs": [],
   "source": [
    "import pymongo\n",
    "import time\n",
    "import pandas as pd\n",
    "import json\n",
    "import nltk"
   ]
  },
  {
   "cell_type": "markdown",
   "metadata": {},
   "source": [
    "# Conexão com o MongoDB"
   ]
  },
  {
   "cell_type": "code",
   "execution_count": 2,
   "metadata": {
    "ExecuteTime": {
     "end_time": "2021-05-22T00:50:40.575509Z",
     "start_time": "2021-05-22T00:50:40.570394Z"
    }
   },
   "outputs": [],
   "source": [
    "client = pymongo.MongoClient()\n",
    "\n",
    "# database\n",
    "db = client['IWD2021']  \n",
    "\n",
    "# collection\n",
    "collection = db.tweets_en"
   ]
  },
  {
   "cell_type": "code",
   "execution_count": 3,
   "metadata": {
    "ExecuteTime": {
     "end_time": "2021-05-22T00:50:40.586343Z",
     "start_time": "2021-05-22T00:50:40.577399Z"
    }
   },
   "outputs": [],
   "source": [
    "pipeline = [\n",
    "    {\n",
    "        '$project': {\n",
    "            'tweet_id': '$id_str', \n",
    "            'date': {\n",
    "                '$dateFromString': {\n",
    "                    'dateString': '$created_at'\n",
    "                }\n",
    "            }, \n",
    "            'tweet_text': {\n",
    "                '$ifNull': [\n",
    "                    '$retweeted_status.full_text', '$full_text'\n",
    "                ]\n",
    "            }, \n",
    "            'num_likes': '$favorite_count', \n",
    "            'num_retweets': '$retweet_count', \n",
    "            'quoted_status_id': {\n",
    "                '$ifNull': [\n",
    "                    '$quoted_status_id_str', None\n",
    "                ]\n",
    "            }, \n",
    "            'retweeted_status_id': {\n",
    "                '$ifNull': [\n",
    "                    '$retweeted_status.id_str', None\n",
    "                ]\n",
    "            }, \n",
    "            'reply_to_user': {\n",
    "                '$ifNull': [\n",
    "                    '$in_reply_to_user_id_str', None\n",
    "                ]\n",
    "            }, \n",
    "            'reply_to_status': {\n",
    "                '$ifNull': [\n",
    "                    '$in_reply_to_status_id_str', None\n",
    "                ]\n",
    "            }, \n",
    "            'user_id': '$user.id_str', \n",
    "            'screen_name': '$user.screen_name', \n",
    "            'followers': '$user.followers_count', \n",
    "            'following': '$user.friends_count'\n",
    "        }\n",
    "    }, {\n",
    "        '$project': {\n",
    "            '_id': 0, \n",
    "            'tweet_id': 1, \n",
    "            'date': {\n",
    "                '$dateToString': {\n",
    "                    'format': '%d/%m/%Y %H:%M:%S', \n",
    "                    'date': '$date'\n",
    "                }\n",
    "            }, \n",
    "            'tweet_text': 1, \n",
    "            'num_likes': 1, \n",
    "            'num_retweets': 1, \n",
    "            'quoted_status_id': 1, \n",
    "            'retweeted_status_id': 1, \n",
    "            'reply_to_user': 1, \n",
    "            'reply_to_status': 1, \n",
    "            'user_id': 1, \n",
    "            'screen_name': 1, \n",
    "            'followers': 1, \n",
    "            'following': 1\n",
    "        }\n",
    "    }\n",
    "]"
   ]
  },
  {
   "cell_type": "code",
   "execution_count": 4,
   "metadata": {
    "ExecuteTime": {
     "end_time": "2021-05-22T00:51:44.783622Z",
     "start_time": "2021-05-22T00:50:40.587453Z"
    }
   },
   "outputs": [
    {
     "name": "stdout",
     "output_type": "stream",
     "text": [
      "Tempo de execução: 00:01:04\n",
      "2459599 documentos selecionados\n"
     ]
    }
   ],
   "source": [
    "time_start = time.time()\n",
    "document = list(collection.aggregate(pipeline=pipeline))\n",
    "time_end = time.time()\n",
    "\n",
    "print(\n",
    "    f'Tempo de execução: {time.strftime(\"%H:%M:%S\", time.gmtime(time_end - time_start))}')\n",
    "print(f'{len(document)} documentos selecionados')"
   ]
  },
  {
   "cell_type": "code",
   "execution_count": 5,
   "metadata": {
    "ExecuteTime": {
     "end_time": "2021-05-22T00:51:44.788042Z",
     "start_time": "2021-05-22T00:51:44.784883Z"
    }
   },
   "outputs": [
    {
     "name": "stdout",
     "output_type": "stream",
     "text": [
      "Amostra de um documento:\n",
      "\n",
      "{\n",
      "   \"tweet_id\": \"1368641229731360773\",\n",
      "   \"tweet_text\": \"@MargaretEWard The irony that I can't attend any of these online events...because my kids aren't in school and I have to still home school them, is NOT lost on me 😂😭😂😭 Cheers for being in our corner, Margaret, while forging your own path too! #IWD2021\",\n",
      "   \"num_likes\": 4,\n",
      "   \"num_retweets\": 0,\n",
      "   \"quoted_status_id\": null,\n",
      "   \"retweeted_status_id\": null,\n",
      "   \"reply_to_user\": \"17868868\",\n",
      "   \"reply_to_status\": \"1368629846872580097\",\n",
      "   \"user_id\": \"1240113597562458114\",\n",
      "   \"screen_name\": \"HildaMcevoy\",\n",
      "   \"followers\": 445,\n",
      "   \"following\": 1537,\n",
      "   \"date\": \"07/03/2021 19:14:31\"\n",
      "}\n"
     ]
    }
   ],
   "source": [
    "print(f'Amostra de um documento:\\n')\n",
    "print(json.dumps(document[0], sort_keys=False, indent=3, ensure_ascii=False))"
   ]
  },
  {
   "cell_type": "code",
   "execution_count": 6,
   "metadata": {
    "ExecuteTime": {
     "end_time": "2021-05-22T00:51:54.965200Z",
     "start_time": "2021-05-22T00:51:44.789271Z"
    }
   },
   "outputs": [
    {
     "data": {
      "text/html": [
       "<div>\n",
       "<style scoped>\n",
       "    .dataframe tbody tr th:only-of-type {\n",
       "        vertical-align: middle;\n",
       "    }\n",
       "\n",
       "    .dataframe tbody tr th {\n",
       "        vertical-align: top;\n",
       "    }\n",
       "\n",
       "    .dataframe thead th {\n",
       "        text-align: right;\n",
       "    }\n",
       "</style>\n",
       "<table border=\"1\" class=\"dataframe\">\n",
       "  <thead>\n",
       "    <tr style=\"text-align: right;\">\n",
       "      <th></th>\n",
       "      <th>tweet_id</th>\n",
       "      <th>date</th>\n",
       "      <th>tweet_text</th>\n",
       "      <th>num_likes</th>\n",
       "      <th>num_retweets</th>\n",
       "      <th>retweeted_status_id</th>\n",
       "      <th>quoted_status_id</th>\n",
       "      <th>reply_to_user</th>\n",
       "      <th>reply_to_status</th>\n",
       "      <th>user_id</th>\n",
       "      <th>screen_name</th>\n",
       "      <th>followers</th>\n",
       "      <th>following</th>\n",
       "    </tr>\n",
       "  </thead>\n",
       "  <tbody>\n",
       "    <tr>\n",
       "      <th>0</th>\n",
       "      <td>1368641229731360773</td>\n",
       "      <td>07/03/2021 19:14:31</td>\n",
       "      <td>@MargaretEWard The irony that I can't attend a...</td>\n",
       "      <td>4</td>\n",
       "      <td>0</td>\n",
       "      <td>None</td>\n",
       "      <td>None</td>\n",
       "      <td>17868868</td>\n",
       "      <td>1368629846872580097</td>\n",
       "      <td>1240113597562458114</td>\n",
       "      <td>HildaMcevoy</td>\n",
       "      <td>445</td>\n",
       "      <td>1537</td>\n",
       "    </tr>\n",
       "    <tr>\n",
       "      <th>1</th>\n",
       "      <td>1368641259347320842</td>\n",
       "      <td>07/03/2021 19:14:39</td>\n",
       "      <td>There is no denying women have been disproport...</td>\n",
       "      <td>0</td>\n",
       "      <td>58</td>\n",
       "      <td>1367605354570342402</td>\n",
       "      <td>None</td>\n",
       "      <td>None</td>\n",
       "      <td>None</td>\n",
       "      <td>1255459296965529600</td>\n",
       "      <td>satyar2021</td>\n",
       "      <td>201</td>\n",
       "      <td>338</td>\n",
       "    </tr>\n",
       "    <tr>\n",
       "      <th>2</th>\n",
       "      <td>1368641305396408320</td>\n",
       "      <td>07/03/2021 19:14:49</td>\n",
       "      <td>‘I am going to be a bit ranty today, because t...</td>\n",
       "      <td>3</td>\n",
       "      <td>0</td>\n",
       "      <td>None</td>\n",
       "      <td>None</td>\n",
       "      <td>None</td>\n",
       "      <td>None</td>\n",
       "      <td>3021736555</td>\n",
       "      <td>NoWineImFine</td>\n",
       "      <td>2318</td>\n",
       "      <td>983</td>\n",
       "    </tr>\n",
       "    <tr>\n",
       "      <th>3</th>\n",
       "      <td>1368641259284221954</td>\n",
       "      <td>07/03/2021 19:14:38</td>\n",
       "      <td>Who are the women that inspire you?\\n\\nOn the ...</td>\n",
       "      <td>0</td>\n",
       "      <td>700</td>\n",
       "      <td>1368601342307168256</td>\n",
       "      <td>None</td>\n",
       "      <td>None</td>\n",
       "      <td>None</td>\n",
       "      <td>3097354848</td>\n",
       "      <td>AlydiaSecosana</td>\n",
       "      <td>703</td>\n",
       "      <td>159</td>\n",
       "    </tr>\n",
       "    <tr>\n",
       "      <th>4</th>\n",
       "      <td>1368641318398885892</td>\n",
       "      <td>07/03/2021 19:14:53</td>\n",
       "      <td>THANK U GIRLZ #InternationalWomensDay https://...</td>\n",
       "      <td>0</td>\n",
       "      <td>78</td>\n",
       "      <td>1368625731165712385</td>\n",
       "      <td>None</td>\n",
       "      <td>None</td>\n",
       "      <td>None</td>\n",
       "      <td>1286755980794114048</td>\n",
       "      <td>glorydays___CB</td>\n",
       "      <td>102</td>\n",
       "      <td>131</td>\n",
       "    </tr>\n",
       "  </tbody>\n",
       "</table>\n",
       "</div>"
      ],
      "text/plain": [
       "              tweet_id                 date  \\\n",
       "0  1368641229731360773  07/03/2021 19:14:31   \n",
       "1  1368641259347320842  07/03/2021 19:14:39   \n",
       "2  1368641305396408320  07/03/2021 19:14:49   \n",
       "3  1368641259284221954  07/03/2021 19:14:38   \n",
       "4  1368641318398885892  07/03/2021 19:14:53   \n",
       "\n",
       "                                          tweet_text  num_likes  num_retweets  \\\n",
       "0  @MargaretEWard The irony that I can't attend a...          4             0   \n",
       "1  There is no denying women have been disproport...          0            58   \n",
       "2  ‘I am going to be a bit ranty today, because t...          3             0   \n",
       "3  Who are the women that inspire you?\\n\\nOn the ...          0           700   \n",
       "4  THANK U GIRLZ #InternationalWomensDay https://...          0            78   \n",
       "\n",
       "   retweeted_status_id quoted_status_id reply_to_user      reply_to_status  \\\n",
       "0                 None             None      17868868  1368629846872580097   \n",
       "1  1367605354570342402             None          None                 None   \n",
       "2                 None             None          None                 None   \n",
       "3  1368601342307168256             None          None                 None   \n",
       "4  1368625731165712385             None          None                 None   \n",
       "\n",
       "               user_id     screen_name  followers  following  \n",
       "0  1240113597562458114     HildaMcevoy        445       1537  \n",
       "1  1255459296965529600      satyar2021        201        338  \n",
       "2           3021736555    NoWineImFine       2318        983  \n",
       "3           3097354848  AlydiaSecosana        703        159  \n",
       "4  1286755980794114048  glorydays___CB        102        131  "
      ]
     },
     "execution_count": 6,
     "metadata": {},
     "output_type": "execute_result"
    }
   ],
   "source": [
    "df = pd.DataFrame(document)\n",
    "df = df[['tweet_id', 'date', 'tweet_text', 'num_likes', 'num_retweets',\n",
    "                   'retweeted_status_id', 'quoted_status_id', 'reply_to_user', 'reply_to_status',\n",
    "                   'user_id', 'screen_name', 'followers', 'following']]\n",
    "df.head()"
   ]
  },
  {
   "cell_type": "code",
   "execution_count": 7,
   "metadata": {
    "ExecuteTime": {
     "end_time": "2021-05-22T00:51:54.979744Z",
     "start_time": "2021-05-22T00:51:54.967280Z"
    }
   },
   "outputs": [
    {
     "name": "stdout",
     "output_type": "stream",
     "text": [
      "Amostra de um tweet antes do pré-processamento:\n",
      "\n",
      "@MargaretEWard The irony that I can't attend any of these online events...because my kids aren't in school and I have to still home school them, is NOT lost on me 😂😭😂😭 Cheers for being in our corner, Margaret, while forging your own path too! #IWD2021\n"
     ]
    }
   ],
   "source": [
    "print(f'Amostra de um tweet antes do pré-processamento:\\n\\n{df.tweet_text[0]}')"
   ]
  },
  {
   "cell_type": "code",
   "execution_count": 8,
   "metadata": {
    "ExecuteTime": {
     "end_time": "2021-05-22T00:52:18.534620Z",
     "start_time": "2021-05-22T00:51:54.981493Z"
    }
   },
   "outputs": [],
   "source": [
    "df.to_csv('tweets_en.csv')"
   ]
  },
  {
   "cell_type": "markdown",
   "metadata": {},
   "source": [
    "### Pré-processamento"
   ]
  },
  {
   "cell_type": "code",
   "execution_count": 9,
   "metadata": {
    "ExecuteTime": {
     "end_time": "2021-05-22T00:52:22.808760Z",
     "start_time": "2021-05-22T00:52:18.535863Z"
    }
   },
   "outputs": [
    {
     "data": {
      "text/plain": [
       "\"@MargaretEWard The irony that I can't attend any of these online events...because my kids aren't in school and I have to still home school them, is NOT lost on me 😂😭😂😭 Cheers for being in our corner, Margaret, while forging your own path too! #IWD2021\""
      ]
     },
     "execution_count": 9,
     "metadata": {},
     "output_type": "execute_result"
    }
   ],
   "source": [
    "# remover links\n",
    "df['clean_text'] = df['tweet_text'].str.replace(r\"http\\S+\",\"\") \n",
    "\n",
    "df.clean_text[0]"
   ]
  },
  {
   "cell_type": "code",
   "execution_count": 10,
   "metadata": {
    "ExecuteTime": {
     "end_time": "2021-05-22T00:52:26.366825Z",
     "start_time": "2021-05-22T00:52:22.809893Z"
    }
   },
   "outputs": [
    {
     "data": {
      "text/plain": [
       "\" The irony that I can't attend any of these online events...because my kids aren't in school and I have to still home school them, is NOT lost on me 😂😭😂😭 Cheers for being in our corner, Margaret, while forging your own path too! #IWD2021\""
      ]
     },
     "execution_count": 10,
     "metadata": {},
     "output_type": "execute_result"
    }
   ],
   "source": [
    "# remover mentions\n",
    "df['clean_text'] = df['clean_text'].str.replace(r\"@\\S+\",\"\")\n",
    "\n",
    "df.clean_text[0]"
   ]
  },
  {
   "cell_type": "code",
   "execution_count": 11,
   "metadata": {
    "ExecuteTime": {
     "end_time": "2021-05-22T00:52:31.828481Z",
     "start_time": "2021-05-22T00:52:26.368125Z"
    }
   },
   "outputs": [
    {
     "data": {
      "text/plain": [
       "\" The irony that I can't attend any of these online events...because my kids aren't in school and I have to still home school them, is NOT lost on me 😂😭😂😭 Cheers for being in our corner, Margaret, while forging your own path too!  \""
      ]
     },
     "execution_count": 11,
     "metadata": {},
     "output_type": "execute_result"
    }
   ],
   "source": [
    "# remover hashtags\n",
    "df['clean_text'] = df['clean_text'].str.replace(r\"#\\S+\",\" \")\n",
    "\n",
    "df.clean_text[0]"
   ]
  },
  {
   "cell_type": "code",
   "execution_count": 12,
   "metadata": {
    "ExecuteTime": {
     "end_time": "2021-05-22T00:52:35.681510Z",
     "start_time": "2021-05-22T00:52:31.829844Z"
    }
   },
   "outputs": [
    {
     "data": {
      "text/plain": [
       "\" The irony that I can't attend any of these online events...because my kids aren't in school and I have to still home school them, is NOT lost on me 😂😭😂😭 Cheers for being in our corner, Margaret, while forging your own path too!  \""
      ]
     },
     "execution_count": 12,
     "metadata": {},
     "output_type": "execute_result"
    }
   ],
   "source": [
    "# remover quebra de linhas\n",
    "df['clean_text'] = df['clean_text'].str.replace(r\"\\n\",\" \")\n",
    "\n",
    "df.clean_text[0]"
   ]
  },
  {
   "cell_type": "code",
   "execution_count": 13,
   "metadata": {
    "ExecuteTime": {
     "end_time": "2021-05-22T00:52:53.250504Z",
     "start_time": "2021-05-22T00:52:35.682901Z"
    }
   },
   "outputs": [
    {
     "data": {
      "text/plain": [
       "' The irony that I can t attend any of these online events   because my kids aren t in school and I have to still home school them  is NOT lost on me      Cheers for being in our corner  Margaret  while forging your own path too   '"
      ]
     },
     "execution_count": 13,
     "metadata": {},
     "output_type": "execute_result"
    }
   ],
   "source": [
    "# remover pontuações\n",
    "df['clean_text'] = df['clean_text'].str.replace(r\"[^\\w\\s#]|_\",\" \")\n",
    "\n",
    "df.clean_text[0]"
   ]
  },
  {
   "cell_type": "code",
   "execution_count": 14,
   "metadata": {
    "ExecuteTime": {
     "end_time": "2021-05-22T00:53:39.171728Z",
     "start_time": "2021-05-22T00:52:53.251722Z"
    }
   },
   "outputs": [
    {
     "data": {
      "text/plain": [
       "'The irony that I can t attend any of these online events   because my kids aren t in school and I have to still home school them  is NOT lost on me      Cheers for being in our corner  Margaret  while forging your own path too'"
      ]
     },
     "execution_count": 14,
     "metadata": {},
     "output_type": "execute_result"
    }
   ],
   "source": [
    "# remover números\n",
    "df['clean_text'] = df['clean_text'].str.strip().str.replace(r\"\\b(?:[0-9]*)\\b\",\"\")\n",
    "\n",
    "df.clean_text[0]"
   ]
  },
  {
   "cell_type": "code",
   "execution_count": 15,
   "metadata": {
    "ExecuteTime": {
     "end_time": "2021-05-22T00:53:45.172464Z",
     "start_time": "2021-05-22T00:53:39.172895Z"
    }
   },
   "outputs": [
    {
     "data": {
      "text/plain": [
       "'The irony that I can t attend any of these online events   because my kids aren t in school and I have to still home school them  is NOT lost on me      Cheers for being in our corner  Margaret  while forging your own path too'"
      ]
     },
     "execution_count": 15,
     "metadata": {},
     "output_type": "execute_result"
    }
   ],
   "source": [
    "# remover non ascii caracteres\n",
    "df['clean_text'] = df['clean_text'].str.strip().str.replace(r\"[^a-zA-z0-9#|\\s]\",\"\")\n",
    "\n",
    "df.clean_text[0]"
   ]
  },
  {
   "cell_type": "code",
   "execution_count": 16,
   "metadata": {
    "ExecuteTime": {
     "end_time": "2021-05-22T00:53:57.643687Z",
     "start_time": "2021-05-22T00:53:45.173719Z"
    }
   },
   "outputs": [
    {
     "data": {
      "text/plain": [
       "'The irony that I can t attend any of these online events because my kids aren t in school and I have to still home school them is NOT lost on me Cheers for being in our corner Margaret while forging your own path too'"
      ]
     },
     "execution_count": 16,
     "metadata": {},
     "output_type": "execute_result"
    }
   ],
   "source": [
    "# remover espaços duplos\n",
    "df['clean_text'] = df['clean_text'].str.strip().str.replace(r\"\\s{2,}\",\" \")\n",
    "\n",
    "df.clean_text[0]"
   ]
  },
  {
   "cell_type": "markdown",
   "metadata": {},
   "source": [
    "### converter todas as letras para minúsculas"
   ]
  },
  {
   "cell_type": "code",
   "execution_count": 17,
   "metadata": {
    "ExecuteTime": {
     "end_time": "2021-05-22T00:53:59.283505Z",
     "start_time": "2021-05-22T00:53:57.644914Z"
    }
   },
   "outputs": [
    {
     "data": {
      "text/plain": [
       "'the irony that i can t attend any of these online events because my kids aren t in school and i have to still home school them is not lost on me cheers for being in our corner margaret while forging your own path too'"
      ]
     },
     "execution_count": 17,
     "metadata": {},
     "output_type": "execute_result"
    }
   ],
   "source": [
    "df['clean_text'] = df['clean_text'].str.lower()\n",
    "\n",
    "df.clean_text[0]"
   ]
  },
  {
   "cell_type": "markdown",
   "metadata": {},
   "source": [
    "### remover letras que se repetem em sequência mais de 3x"
   ]
  },
  {
   "cell_type": "code",
   "execution_count": 18,
   "metadata": {
    "ExecuteTime": {
     "end_time": "2021-05-22T00:57:00.017855Z",
     "start_time": "2021-05-22T00:53:59.284706Z"
    }
   },
   "outputs": [
    {
     "data": {
      "text/plain": [
       "'the irony that i can t attend any of these online events because my kids aren t in school and i have to still home school them is not lost on me cheers for being in our corner margaret while forging your own path too'"
      ]
     },
     "execution_count": 18,
     "metadata": {},
     "output_type": "execute_result"
    }
   ],
   "source": [
    "import string\n",
    "alphabet = list(string.ascii_lowercase)\n",
    "\n",
    "for letter in alphabet:\n",
    "    pattern = '{}{}'.format(letter, '{3,}')\n",
    "    df['clean_text'] = df['clean_text'].str.replace(r'{}'.format(pattern), letter)\n",
    "    \n",
    "df.clean_text[0]"
   ]
  },
  {
   "cell_type": "markdown",
   "metadata": {},
   "source": [
    "### remover stpwords"
   ]
  },
  {
   "cell_type": "code",
   "execution_count": 19,
   "metadata": {
    "ExecuteTime": {
     "end_time": "2021-05-22T00:58:59.777284Z",
     "start_time": "2021-05-22T00:57:00.019116Z"
    }
   },
   "outputs": [
    {
     "data": {
      "text/plain": [
       "'irony attend online events kids school still home school lost cheers corner margaret forging path'"
      ]
     },
     "execution_count": 19,
     "metadata": {},
     "output_type": "execute_result"
    }
   ],
   "source": [
    "with open('../stopwords/english.txt', 'r') as file:\n",
    "    stopwords = file.readlines()\n",
    "stopwords = [sw.replace('\\n','') for sw in stopwords]\n",
    "\n",
    "def remover_stopwords(texto):\n",
    "    palavras = [i for i in texto.split() if not i in stopwords]\n",
    "    return (\" \".join(palavras))\n",
    "\n",
    "df['clean_text'] = df['clean_text'].apply(remover_stopwords)\n",
    "\n",
    "df.clean_text[0]"
   ]
  },
  {
   "cell_type": "markdown",
   "metadata": {},
   "source": [
    "### remover palavras com 2 caracteres ou menos"
   ]
  },
  {
   "cell_type": "code",
   "execution_count": 20,
   "metadata": {
    "ExecuteTime": {
     "end_time": "2021-05-22T00:59:05.818250Z",
     "start_time": "2021-05-22T00:58:59.778514Z"
    }
   },
   "outputs": [
    {
     "data": {
      "text/plain": [
       "'irony attend online events kids school still home school lost cheers corner margaret forging path'"
      ]
     },
     "execution_count": 20,
     "metadata": {},
     "output_type": "execute_result"
    }
   ],
   "source": [
    "def remover_len_2(texto):\n",
    "    palavras = [i for i in texto.split() if len(i) > 2]\n",
    "    return (\" \".join(palavras))\n",
    "\n",
    "df['clean_text'] = df['clean_text'].apply(remover_len_2)\n",
    "\n",
    "df.clean_text[0]"
   ]
  },
  {
   "cell_type": "code",
   "execution_count": 21,
   "metadata": {
    "ExecuteTime": {
     "end_time": "2021-05-22T00:59:05.822409Z",
     "start_time": "2021-05-22T00:59:05.819467Z"
    }
   },
   "outputs": [
    {
     "name": "stdout",
     "output_type": "stream",
     "text": [
      "Amostra de um tweet depois do pré-processamento:\n",
      "\n",
      "i\n"
     ]
    }
   ],
   "source": [
    "print(f'Amostra de um tweet depois do pré-processamento:\\n\\n{df.clean_text[0][0]}')"
   ]
  },
  {
   "cell_type": "code",
   "execution_count": 22,
   "metadata": {
    "ExecuteTime": {
     "end_time": "2021-05-22T00:59:05.831637Z",
     "start_time": "2021-05-22T00:59:05.823656Z"
    }
   },
   "outputs": [],
   "source": [
    "def reduzir_radical(texto):\n",
    "    stemmer = nltk.stem.RSLPStemmer()\n",
    "    palavras = [stemmer.stem(i) for i in texto.split()]\n",
    "    return (\" \".join(palavras))"
   ]
  },
  {
   "cell_type": "code",
   "execution_count": 23,
   "metadata": {
    "ExecuteTime": {
     "end_time": "2021-05-22T00:59:05.847285Z",
     "start_time": "2021-05-22T00:59:05.832877Z"
    }
   },
   "outputs": [
    {
     "data": {
      "text/plain": [
       "\"@margareteward the irony that i can't attend any of thes onlin events...becaus my kid aren't in school and i hav to still hom school them, is not lost on me 😂😭😂😭 che for being in our corner, margaret, whil forging your own path too! #iwd2021\""
      ]
     },
     "execution_count": 23,
     "metadata": {},
     "output_type": "execute_result"
    }
   ],
   "source": [
    "reduzir_radical(df.tweet_text[0])"
   ]
  },
  {
   "cell_type": "code",
   "execution_count": 24,
   "metadata": {
    "ExecuteTime": {
     "end_time": "2021-05-22T00:59:05.852004Z",
     "start_time": "2021-05-22T00:59:05.848455Z"
    }
   },
   "outputs": [],
   "source": [
    "# df['tweet_text'] = df['tweet_text'].apply(reduzir_radical)"
   ]
  },
  {
   "cell_type": "code",
   "execution_count": 25,
   "metadata": {
    "ExecuteTime": {
     "end_time": "2021-05-22T00:59:05.861633Z",
     "start_time": "2021-05-22T00:59:05.855539Z"
    }
   },
   "outputs": [],
   "source": [
    "import unicodedata\n",
    "\n",
    "def remover_acentuacao(text):\n",
    "    # Unicode normalize transforma um caracter em seu equivalente em latin.\n",
    "    nfkd = unicodedata.normalize('NFKD', text)\n",
    "    palavra_sem_acento = u\"\".join([c for c in nfkd if not unicodedata.combining(c)])\n",
    "    return (palavra_sem_acento)"
   ]
  },
  {
   "cell_type": "code",
   "execution_count": 26,
   "metadata": {
    "ExecuteTime": {
     "end_time": "2021-05-22T00:59:05.873582Z",
     "start_time": "2021-05-22T00:59:05.863427Z"
    }
   },
   "outputs": [
    {
     "data": {
      "text/plain": [
       "\"@MargaretEWard The irony that I can't attend any of these online events...because my kids aren't in school and I have to still home school them, is NOT lost on me 😂😭😂😭 Cheers for being in our corner, Margaret, while forging your own path too! #IWD2021\""
      ]
     },
     "execution_count": 26,
     "metadata": {},
     "output_type": "execute_result"
    }
   ],
   "source": [
    "remover_acentuacao(df.tweet_text[0])"
   ]
  },
  {
   "cell_type": "code",
   "execution_count": 27,
   "metadata": {
    "ExecuteTime": {
     "end_time": "2021-05-22T00:59:05.881249Z",
     "start_time": "2021-05-22T00:59:05.874844Z"
    }
   },
   "outputs": [],
   "source": [
    "# df['tweet_text'] = df['tweet_text'].apply(remover_acentuacao)"
   ]
  },
  {
   "cell_type": "code",
   "execution_count": 28,
   "metadata": {
    "ExecuteTime": {
     "end_time": "2021-05-22T00:59:05.891258Z",
     "start_time": "2021-05-22T00:59:05.882464Z"
    }
   },
   "outputs": [
    {
     "name": "stdout",
     "output_type": "stream",
     "text": [
      "Amostra de um tweet depois do pré-processamento:\n",
      "\n",
      "irony attend online events kids school still home school lost cheers corner margaret forging path\n"
     ]
    }
   ],
   "source": [
    "print(f'Amostra de um tweet depois do pré-processamento:\\n\\n{df.clean_text[0]}')"
   ]
  },
  {
   "cell_type": "markdown",
   "metadata": {},
   "source": [
    "### Etapa opcional\n",
    "\n",
    "O atributo 'lang' presentes nos documentos podem ter sido atribuidos erroneamente. Objetivando eliminar tweets que possam ser de um idioma não requisitado, desenvolveram-se 2 funções para ajudar a confirmar o idioma destes."
   ]
  },
  {
   "cell_type": "markdown",
   "metadata": {},
   "source": [
    "Para desabilitar warnings:"
   ]
  },
  {
   "cell_type": "code",
   "execution_count": 29,
   "metadata": {
    "ExecuteTime": {
     "end_time": "2021-05-22T00:59:05.900515Z",
     "start_time": "2021-05-22T00:59:05.892583Z"
    }
   },
   "outputs": [],
   "source": [
    "# import logging\n",
    "# logging.disable(logging.WARNING)"
   ]
  },
  {
   "cell_type": "markdown",
   "metadata": {},
   "source": [
    "#### 1. Usando polyglot"
   ]
  },
  {
   "cell_type": "code",
   "execution_count": 30,
   "metadata": {
    "ExecuteTime": {
     "end_time": "2021-05-22T00:59:05.909724Z",
     "start_time": "2021-05-22T00:59:05.901835Z"
    }
   },
   "outputs": [],
   "source": [
    "# import polyglot\n",
    "# from polyglot.detect import Detector"
   ]
  },
  {
   "cell_type": "code",
   "execution_count": 31,
   "metadata": {
    "ExecuteTime": {
     "end_time": "2021-05-22T00:59:05.918739Z",
     "start_time": "2021-05-22T00:59:05.910855Z"
    }
   },
   "outputs": [],
   "source": [
    "# def get_polyglot_language(text):\n",
    "#     try:\n",
    "#         detector = Detector(text)\n",
    "#     except polyglot.detect.base.UnknownLanguage:\n",
    "#         lang = 'Undefined'\n",
    "#     else:\n",
    "#         lang = detector.language.name\n",
    "    \n",
    "#     return (lang)"
   ]
  },
  {
   "cell_type": "code",
   "execution_count": 32,
   "metadata": {
    "ExecuteTime": {
     "end_time": "2021-05-22T00:59:05.927725Z",
     "start_time": "2021-05-22T00:59:05.919794Z"
    }
   },
   "outputs": [],
   "source": [
    "# get_polyglot_language(df['tweet_text'][0])"
   ]
  },
  {
   "cell_type": "code",
   "execution_count": 33,
   "metadata": {
    "ExecuteTime": {
     "end_time": "2021-05-22T00:59:05.936811Z",
     "start_time": "2021-05-22T00:59:05.928840Z"
    }
   },
   "outputs": [],
   "source": [
    "# df['polyglot_lang'] = df['tweet_text'].apply(get_polyglot_language)"
   ]
  },
  {
   "cell_type": "code",
   "execution_count": 34,
   "metadata": {
    "ExecuteTime": {
     "end_time": "2021-05-22T00:59:05.945954Z",
     "start_time": "2021-05-22T00:59:05.937990Z"
    }
   },
   "outputs": [],
   "source": [
    "# df['polyglot_lang'].value_counts()"
   ]
  },
  {
   "cell_type": "markdown",
   "metadata": {},
   "source": [
    "#### 2. Usando textblob"
   ]
  },
  {
   "cell_type": "code",
   "execution_count": 35,
   "metadata": {
    "ExecuteTime": {
     "end_time": "2021-05-22T00:59:05.956731Z",
     "start_time": "2021-05-22T00:59:05.947071Z"
    }
   },
   "outputs": [],
   "source": [
    "# import textblob\n",
    "# from textblob import TextBlob\n",
    "# import pycountry"
   ]
  },
  {
   "cell_type": "code",
   "execution_count": 36,
   "metadata": {
    "ExecuteTime": {
     "end_time": "2021-05-22T00:59:05.965474Z",
     "start_time": "2021-05-22T00:59:05.959638Z"
    }
   },
   "outputs": [],
   "source": [
    "# def get_textblob_language(text):\n",
    "#     try:\n",
    "#         time.sleep(0.2)\n",
    "#         b = TextBlob(text)\n",
    "#         language = pycountry.languages.get(alpha_2=b.detect_language())\n",
    "#         language_name = language.name\n",
    "#     except textblob.exceptions.TranslatorError:\n",
    "#         # language_name = \"Deu ruim\"\n",
    "#         language_name = 'Undefined'\n",
    "    \n",
    "#     return(language_name) "
   ]
  },
  {
   "cell_type": "code",
   "execution_count": 37,
   "metadata": {
    "ExecuteTime": {
     "end_time": "2021-05-22T00:59:05.974786Z",
     "start_time": "2021-05-22T00:59:05.966719Z"
    }
   },
   "outputs": [],
   "source": [
    "# get_textblob_language(df['tweet_text'][0])"
   ]
  },
  {
   "cell_type": "code",
   "execution_count": 38,
   "metadata": {
    "ExecuteTime": {
     "end_time": "2021-05-22T00:59:05.991345Z",
     "start_time": "2021-05-22T00:59:05.975905Z"
    }
   },
   "outputs": [],
   "source": [
    "# df['textblob_lang'] = df['tweet_text'].apply(get_textblob_language)"
   ]
  },
  {
   "cell_type": "markdown",
   "metadata": {},
   "source": [
    "Para reabilitar warnings:"
   ]
  },
  {
   "cell_type": "code",
   "execution_count": 39,
   "metadata": {
    "ExecuteTime": {
     "end_time": "2021-05-22T00:59:06.000563Z",
     "start_time": "2021-05-22T00:59:05.992572Z"
    }
   },
   "outputs": [],
   "source": [
    "# logging.disable(logging.NOTSET)"
   ]
  },
  {
   "cell_type": "code",
   "execution_count": 40,
   "metadata": {
    "ExecuteTime": {
     "end_time": "2021-05-22T00:59:06.009585Z",
     "start_time": "2021-05-22T00:59:06.001904Z"
    }
   },
   "outputs": [],
   "source": [
    "# df.shape"
   ]
  },
  {
   "cell_type": "markdown",
   "metadata": {},
   "source": [
    "# Criação do arquivo .csv"
   ]
  },
  {
   "cell_type": "markdown",
   "metadata": {},
   "source": [
    "### Cenário 1: base completa"
   ]
  },
  {
   "cell_type": "markdown",
   "metadata": {},
   "source": [
    "Caso tenha se utilizado umas das duas funções - **get_polyglot_language**, por exemplo - use o seguinte trecho para gerar o arquivo .csv:"
   ]
  },
  {
   "cell_type": "code",
   "execution_count": 41,
   "metadata": {
    "ExecuteTime": {
     "end_time": "2021-05-22T00:59:06.018893Z",
     "start_time": "2021-05-22T00:59:06.010814Z"
    }
   },
   "outputs": [],
   "source": [
    "# index = df['polyglot_lang'] == 'Portuguese'\n",
    "# new_df = df[index]\n",
    "# new_df = new_df.drop('polyglot_lang', axis=1)"
   ]
  },
  {
   "cell_type": "code",
   "execution_count": 42,
   "metadata": {
    "ExecuteTime": {
     "end_time": "2021-05-22T00:59:06.056793Z",
     "start_time": "2021-05-22T00:59:06.020768Z"
    }
   },
   "outputs": [],
   "source": [
    "# new_df.to_csv('cenario1_8M2020_polyglot_tweets_pt.csv', index=False)"
   ]
  },
  {
   "cell_type": "markdown",
   "metadata": {},
   "source": [
    "Caso contrário:"
   ]
  },
  {
   "cell_type": "code",
   "execution_count": 43,
   "metadata": {
    "ExecuteTime": {
     "end_time": "2021-05-22T00:59:06.065921Z",
     "start_time": "2021-05-22T00:59:06.058727Z"
    }
   },
   "outputs": [],
   "source": [
    "# df = df.drop('polyglot_lang', axis=1)"
   ]
  },
  {
   "cell_type": "code",
   "execution_count": 44,
   "metadata": {
    "ExecuteTime": {
     "end_time": "2021-05-22T00:59:08.244684Z",
     "start_time": "2021-05-22T00:59:06.067387Z"
    }
   },
   "outputs": [],
   "source": [
    "df = df[df['clean_text'] != '']"
   ]
  },
  {
   "cell_type": "code",
   "execution_count": 45,
   "metadata": {
    "ExecuteTime": {
     "end_time": "2021-05-22T00:59:08.249348Z",
     "start_time": "2021-05-22T00:59:08.245991Z"
    }
   },
   "outputs": [
    {
     "data": {
      "text/plain": [
       "(2452640, 14)"
      ]
     },
     "execution_count": 45,
     "metadata": {},
     "output_type": "execute_result"
    }
   ],
   "source": [
    "df.shape"
   ]
  },
  {
   "cell_type": "code",
   "execution_count": 46,
   "metadata": {
    "ExecuteTime": {
     "end_time": "2021-05-22T00:59:34.787320Z",
     "start_time": "2021-05-22T00:59:08.250708Z"
    }
   },
   "outputs": [],
   "source": [
    "df.to_csv('cenario1_8M2021_tweets_en.csv', index=False)"
   ]
  },
  {
   "cell_type": "markdown",
   "metadata": {},
   "source": [
    "criação do arquivo .txt (somente com os textos dos tweets):"
   ]
  },
  {
   "cell_type": "code",
   "execution_count": 47,
   "metadata": {
    "ExecuteTime": {
     "end_time": "2021-05-22T00:59:34.790626Z",
     "start_time": "2021-05-22T00:59:34.788553Z"
    }
   },
   "outputs": [],
   "source": [
    "import numpy as np"
   ]
  },
  {
   "cell_type": "code",
   "execution_count": 48,
   "metadata": {
    "ExecuteTime": {
     "end_time": "2021-05-22T00:59:34.829928Z",
     "start_time": "2021-05-22T00:59:34.791836Z"
    }
   },
   "outputs": [],
   "source": [
    "tweets_text = np.array(df['clean_text'])"
   ]
  },
  {
   "cell_type": "code",
   "execution_count": 49,
   "metadata": {
    "ExecuteTime": {
     "end_time": "2021-05-22T00:59:38.501527Z",
     "start_time": "2021-05-22T00:59:34.831177Z"
    }
   },
   "outputs": [],
   "source": [
    "np.savetxt(fname='cenario1_8M2021_tweets_en.txt', X=tweets_text, fmt='%s')"
   ]
  },
  {
   "cell_type": "markdown",
   "metadata": {},
   "source": [
    "## Cenário 2: tweets sem duplicatas"
   ]
  },
  {
   "cell_type": "code",
   "execution_count": 50,
   "metadata": {
    "ExecuteTime": {
     "end_time": "2021-05-22T00:59:39.810357Z",
     "start_time": "2021-05-22T00:59:38.503356Z"
    }
   },
   "outputs": [],
   "source": [
    "df.drop_duplicates(['clean_text'], inplace = True)"
   ]
  },
  {
   "cell_type": "code",
   "execution_count": 51,
   "metadata": {
    "ExecuteTime": {
     "end_time": "2021-05-22T00:59:39.814645Z",
     "start_time": "2021-05-22T00:59:39.811640Z"
    }
   },
   "outputs": [
    {
     "data": {
      "text/plain": [
       "(557957, 14)"
      ]
     },
     "execution_count": 51,
     "metadata": {},
     "output_type": "execute_result"
    }
   ],
   "source": [
    "df.shape"
   ]
  },
  {
   "cell_type": "code",
   "execution_count": 52,
   "metadata": {
    "ExecuteTime": {
     "end_time": "2021-05-22T00:59:46.028237Z",
     "start_time": "2021-05-22T00:59:39.815797Z"
    }
   },
   "outputs": [],
   "source": [
    "df.to_csv('cenario2_8M2021_tweets_en.csv', index=False)"
   ]
  },
  {
   "cell_type": "code",
   "execution_count": 53,
   "metadata": {
    "ExecuteTime": {
     "end_time": "2021-05-22T00:59:46.066604Z",
     "start_time": "2021-05-22T00:59:46.029559Z"
    }
   },
   "outputs": [],
   "source": [
    "tweets_text = np.array(df['clean_text'])"
   ]
  },
  {
   "cell_type": "code",
   "execution_count": 54,
   "metadata": {
    "ExecuteTime": {
     "end_time": "2021-05-22T00:59:46.981246Z",
     "start_time": "2021-05-22T00:59:46.068526Z"
    }
   },
   "outputs": [],
   "source": [
    "np.savetxt(fname='cenario2_8M2021_tweets_en.txt', X=tweets_text, fmt='%s')"
   ]
  },
  {
   "cell_type": "code",
   "execution_count": null,
   "metadata": {},
   "outputs": [],
   "source": []
  }
 ],
 "metadata": {
  "kernelspec": {
   "display_name": "Python 3",
   "language": "python",
   "name": "python3"
  },
  "language_info": {
   "codemirror_mode": {
    "name": "ipython",
    "version": 3
   },
   "file_extension": ".py",
   "mimetype": "text/x-python",
   "name": "python",
   "nbconvert_exporter": "python",
   "pygments_lexer": "ipython3",
   "version": "3.7.7"
  },
  "toc": {
   "base_numbering": 1,
   "nav_menu": {},
   "number_sections": false,
   "sideBar": true,
   "skip_h1_title": false,
   "title_cell": "Table of Contents",
   "title_sidebar": "Contents",
   "toc_cell": false,
   "toc_position": {},
   "toc_section_display": true,
   "toc_window_display": false
  }
 },
 "nbformat": 4,
 "nbformat_minor": 4
}
