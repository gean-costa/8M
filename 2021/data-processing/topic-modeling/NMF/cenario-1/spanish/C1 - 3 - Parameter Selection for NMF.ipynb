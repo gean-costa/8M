{
 "cells": [
  {
   "cell_type": "markdown",
   "metadata": {},
   "source": [
    "# Parameter Selection for NMF"
   ]
  },
  {
   "cell_type": "markdown",
   "metadata": {},
   "source": [
    "Now we look at the more advanced task of parameter selection for NMF topic modelling - namely, selecting a useful value for the number of topics *k*."
   ]
  },
  {
   "cell_type": "markdown",
   "metadata": {},
   "source": [
    "First, let's load the TF-IDF normalised document-term matrix and list of terms that we stored earlier using *Joblib*:"
   ]
  },
  {
   "cell_type": "code",
   "execution_count": 1,
   "metadata": {
    "ExecuteTime": {
     "end_time": "2021-05-22T03:02:05.320627Z",
     "start_time": "2021-05-22T03:02:00.470503Z"
    }
   },
   "outputs": [
    {
     "name": "stdout",
     "output_type": "stream",
     "text": [
      "Loaded 1437323 X 25458 document-term matrix\n"
     ]
    }
   ],
   "source": [
    "import joblib\n",
    "\n",
    "(A, terms, snippets) = joblib.load(\"cenario1-tweets-tfidf.pkl\")\n",
    "\n",
    "print(\"Loaded %d X %d document-term matrix\" % (A.shape[0], A.shape[1]))"
   ]
  },
  {
   "cell_type": "markdown",
   "metadata": {},
   "source": [
    "### Create the Topic Models"
   ]
  },
  {
   "cell_type": "markdown",
   "metadata": {},
   "source": [
    "A common approach for parameter selection is to Measure and compare the topic coherence of models generated for different values of *k*."
   ]
  },
  {
   "cell_type": "markdown",
   "metadata": {},
   "source": [
    "We need to start by pre-specifying an initial range of \"sensible\" values:"
   ]
  },
  {
   "cell_type": "code",
   "execution_count": 2,
   "metadata": {
    "ExecuteTime": {
     "end_time": "2021-05-22T03:02:05.325687Z",
     "start_time": "2021-05-22T03:02:05.322889Z"
    }
   },
   "outputs": [],
   "source": [
    "kmin, kmax = 5, 20"
   ]
  },
  {
   "cell_type": "markdown",
   "metadata": {},
   "source": [
    "Apply NMF for each of these values:"
   ]
  },
  {
   "cell_type": "code",
   "execution_count": 3,
   "metadata": {
    "ExecuteTime": {
     "end_time": "2021-05-22T03:13:28.884666Z",
     "start_time": "2021-05-22T03:02:05.327355Z"
    }
   },
   "outputs": [
    {
     "name": "stdout",
     "output_type": "stream",
     "text": [
      "Applying NMF for k=5 ...\n",
      "Applying NMF for k=10 ...\n",
      "Applying NMF for k=15 ...\n",
      "Applying NMF for k=20 ...\n"
     ]
    }
   ],
   "source": [
    "from sklearn import decomposition\n",
    "\n",
    "topic_models = []\n",
    "\n",
    "# try each value of k\n",
    "for k in [5,10,15,20]: #range(kmin, kmax + 1):\n",
    "    print(\"Applying NMF for k=%d ...\" % k)\n",
    "    # run NMF\n",
    "    model = decomposition.NMF(init=\"nndsvd\", n_components=k)\n",
    "    W = model.fit_transform(A)\n",
    "    H = model.components_\n",
    "    # store for later\n",
    "    topic_models.append((k, W, H))"
   ]
  },
  {
   "cell_type": "markdown",
   "metadata": {},
   "source": [
    "### Build a Word Embedding"
   ]
  },
  {
   "cell_type": "markdown",
   "metadata": {},
   "source": [
    "To select the number of topics, here we will use a *topic coherence* measure called TC-W2V. This measure relies on the use of a *word embedding* model constructed from our corpus. So in this step we will use the *Gensim* implementation of Word2Vec to build a Word2Vec model based on our collection of news articles."
   ]
  },
  {
   "cell_type": "markdown",
   "metadata": {},
   "source": [
    "**Note:** If you want to skip this step, a pre-built Word2Vec model for the sample dataset [is also provided here for download](http://erdos.ucd.ie/files/pydata/w2v-model.bin) (71MB)."
   ]
  },
  {
   "cell_type": "markdown",
   "metadata": {},
   "source": [
    "We read the documents from the input file again:"
   ]
  },
  {
   "cell_type": "code",
   "execution_count": 5,
   "metadata": {
    "ExecuteTime": {
     "end_time": "2021-05-22T03:13:53.119904Z",
     "start_time": "2021-05-22T03:13:52.319903Z"
    }
   },
   "outputs": [
    {
     "name": "stdout",
     "output_type": "stream",
     "text": [
      "Read 1437323 raw text documents\n"
     ]
    }
   ],
   "source": [
    "import os.path\n",
    "\n",
    "raw_documents = []\n",
    "\n",
    "with open(os.path.join(\"../../../../../data-pre-processing/2csv/cenario1_8M2021_tweets_es.txt\"), \"r\") as fin:\n",
    "    for line in fin.readlines():\n",
    "        raw_documents.append(line.strip().lower())\n",
    "\n",
    "print(\"Read %d raw text documents\" % len(raw_documents))"
   ]
  },
  {
   "cell_type": "markdown",
   "metadata": {},
   "source": [
    "Read the custom stopword list:"
   ]
  },
  {
   "cell_type": "code",
   "execution_count": 6,
   "metadata": {
    "ExecuteTime": {
     "end_time": "2021-05-22T03:14:00.476467Z",
     "start_time": "2021-05-22T03:14:00.472519Z"
    }
   },
   "outputs": [
    {
     "name": "stdout",
     "output_type": "stream",
     "text": [
      "Stopword list has 313 entries\n"
     ]
    }
   ],
   "source": [
    "custom_stop_words = []\n",
    "\n",
    "with open(\"spanish.txt\", \"r\") as fin:\n",
    "    for line in fin.readlines():\n",
    "        custom_stop_words.append(line.strip().lower())\n",
    "\n",
    "# note that we need to make it hashable\n",
    "print(\"Stopword list has %d entries\" % len(custom_stop_words))"
   ]
  },
  {
   "cell_type": "markdown",
   "metadata": {},
   "source": [
    "First, we need to define a class that will generate documents in a form that can be consumed by Gensim's Word2Vec implementation:"
   ]
  },
  {
   "cell_type": "code",
   "execution_count": 7,
   "metadata": {
    "ExecuteTime": {
     "end_time": "2021-05-22T03:14:02.163314Z",
     "start_time": "2021-05-22T03:14:02.115959Z"
    }
   },
   "outputs": [],
   "source": [
    "import re\n",
    "\n",
    "\n",
    "class TokenGenerator:\n",
    "    def __init__(self, documents, stopwords):\n",
    "        self.documents = documents\n",
    "        self.stopwords = stopwords\n",
    "        self.tokenizer = re.compile(r\"(?u)\\b\\w\\w+\\b\")\n",
    "\n",
    "    def __iter__(self):\n",
    "        print(\"Building Word2Vec model ...\")\n",
    "        for doc in self.documents:\n",
    "            tokens = []\n",
    "            for tok in self.tokenizer.findall(doc):\n",
    "                if tok in self.stopwords:\n",
    "                    tokens.append(\"<stopword>\")\n",
    "                elif len(tok) >= 2:\n",
    "                    tokens.append(tok)\n",
    "            yield tokens"
   ]
  },
  {
   "cell_type": "markdown",
   "metadata": {},
   "source": [
    "Now build a Skipgram Word2Vec model from all documents in the input file using *Gensim*:"
   ]
  },
  {
   "cell_type": "code",
   "execution_count": 8,
   "metadata": {
    "ExecuteTime": {
     "end_time": "2021-05-22T03:14:04.076595Z",
     "start_time": "2021-05-22T03:14:03.760463Z"
    }
   },
   "outputs": [],
   "source": [
    "import gensim"
   ]
  },
  {
   "cell_type": "code",
   "execution_count": 9,
   "metadata": {
    "ExecuteTime": {
     "end_time": "2021-05-22T03:24:08.354984Z",
     "start_time": "2021-05-22T03:14:04.943856Z"
    }
   },
   "outputs": [
    {
     "name": "stdout",
     "output_type": "stream",
     "text": [
      "Building Word2Vec model ...\n",
      "Building Word2Vec model ...\n",
      "Building Word2Vec model ...\n",
      "Building Word2Vec model ...\n",
      "Building Word2Vec model ...\n",
      "Building Word2Vec model ...\n"
     ]
    }
   ],
   "source": [
    "\n",
    "\n",
    "docgen = TokenGenerator(raw_documents, custom_stop_words)\n",
    "\n",
    "# the model has 500 dimensions, the minimum document-term frequency is 20\n",
    "w2v_model = gensim.models.Word2Vec(docgen, size=500, min_count=20, sg=1)"
   ]
  },
  {
   "cell_type": "code",
   "execution_count": 10,
   "metadata": {
    "ExecuteTime": {
     "end_time": "2021-05-22T03:24:08.359361Z",
     "start_time": "2021-05-22T03:24:08.356376Z"
    }
   },
   "outputs": [
    {
     "name": "stdout",
     "output_type": "stream",
     "text": [
      "Model has 25597 terms\n"
     ]
    }
   ],
   "source": [
    "print( \"Model has %d terms\" % len(w2v_model.wv.vocab) )"
   ]
  },
  {
   "cell_type": "markdown",
   "metadata": {},
   "source": [
    "Save for later use, so that we do not need to rebuild it:"
   ]
  },
  {
   "cell_type": "code",
   "execution_count": 11,
   "metadata": {
    "ExecuteTime": {
     "end_time": "2021-05-22T03:24:08.487747Z",
     "start_time": "2021-05-22T03:24:08.361031Z"
    }
   },
   "outputs": [],
   "source": [
    "w2v_model.save(\"cenario1_w2v-model.bin\")"
   ]
  },
  {
   "cell_type": "code",
   "execution_count": 12,
   "metadata": {
    "ExecuteTime": {
     "end_time": "2021-05-22T03:24:08.492214Z",
     "start_time": "2021-05-22T03:24:08.490497Z"
    }
   },
   "outputs": [],
   "source": [
    "# To re-load this model, run\n",
    "# w2v_model = gensim.models.Word2Vec.load(\"cenario1_w2v-model.bin\")"
   ]
  },
  {
   "cell_type": "markdown",
   "metadata": {},
   "source": [
    "### Selecting the Number of Topics"
   ]
  },
  {
   "cell_type": "markdown",
   "metadata": {},
   "source": [
    "Once we have our Word2vec model, we can use it as part of our *topic coherence* approach to evaluate the different NMF topic models that we created previously. To do this, we will implement a simple version of the TC-W2V coherence measure."
   ]
  },
  {
   "cell_type": "markdown",
   "metadata": {},
   "source": [
    "We use the Word2vec model to calculate coherence scores for each of these models. We will define this coherence score as follows:"
   ]
  },
  {
   "cell_type": "code",
   "execution_count": 13,
   "metadata": {
    "ExecuteTime": {
     "end_time": "2021-05-22T03:24:08.502042Z",
     "start_time": "2021-05-22T03:24:08.493497Z"
    }
   },
   "outputs": [],
   "source": [
    "def calculate_coherence(w2v_model, term_rankings):\n",
    "    overall_coherence = 0.0\n",
    "    \n",
    "    for topic_index in range(len(term_rankings)):\n",
    "        # check each pair of terms\n",
    "        pair_scores = []\n",
    "        for pair in combinations(term_rankings[topic_index], 2):\n",
    "            pair_scores.append(w2v_model.similarity(pair[0], pair[1]))\n",
    "        # get the mean for all pairs in this topic\n",
    "        topic_score = sum(pair_scores) / len(pair_scores)\n",
    "        overall_coherence += topic_score\n",
    "    \n",
    "    # get the mean score across all topics\n",
    "    return overall_coherence / len(term_rankings)"
   ]
  },
  {
   "cell_type": "markdown",
   "metadata": {},
   "source": [
    "We also define a function to get the topic descriptor (i.e. list of top terms) for each topic:"
   ]
  },
  {
   "cell_type": "code",
   "execution_count": 14,
   "metadata": {
    "ExecuteTime": {
     "end_time": "2021-05-22T03:24:08.511759Z",
     "start_time": "2021-05-22T03:24:08.504364Z"
    }
   },
   "outputs": [],
   "source": [
    "import numpy as np\n",
    "\n",
    "\n",
    "def get_descriptor(all_terms, H, topic_index, top):\n",
    "    # reverse sort the values to sort the indices\n",
    "    top_indices = np.argsort(H[topic_index, :])[::-1]\n",
    "    \n",
    "    # now get the terms corresponding to the top-ranked indices\n",
    "    top_terms = []\n",
    "    \n",
    "    for term_index in top_indices[0:top]:\n",
    "        top_terms.append(all_terms[term_index])\n",
    "    \n",
    "    return top_terms"
   ]
  },
  {
   "cell_type": "markdown",
   "metadata": {},
   "source": [
    "Now process each of the models for different values of *k*:"
   ]
  },
  {
   "cell_type": "code",
   "execution_count": 15,
   "metadata": {
    "ExecuteTime": {
     "end_time": "2021-05-22T03:24:08.616595Z",
     "start_time": "2021-05-22T03:24:08.512986Z"
    }
   },
   "outputs": [
    {
     "name": "stdout",
     "output_type": "stream",
     "text": [
      "K=05: Coherence=0.2566\n",
      "K=10: Coherence=0.2790\n",
      "K=15: Coherence=0.2536\n",
      "K=20: Coherence=0.2507\n"
     ]
    },
    {
     "name": "stderr",
     "output_type": "stream",
     "text": [
      "/home/gean/anaconda3/lib/python3.7/site-packages/ipykernel_launcher.py:8: DeprecationWarning: Call to deprecated `similarity` (Method will be removed in 4.0.0, use self.wv.similarity() instead).\n",
      "  \n"
     ]
    }
   ],
   "source": [
    "from itertools import combinations\n",
    "\n",
    "k_values = []\n",
    "coherences = []\n",
    "\n",
    "for (k, W, H) in topic_models:\n",
    "    # Get all of the topic descriptors - the term_rankings, based on top 10 terms\n",
    "    term_rankings = []\n",
    "    \n",
    "    for topic_index in range(k):\n",
    "        term_rankings.append(get_descriptor(terms, H, topic_index, 5))\n",
    "    \n",
    "    # Now calculate the coherence based on our Word2vec model\n",
    "    k_values.append(k)\n",
    "    coherences.append(calculate_coherence(w2v_model, term_rankings))\n",
    "    \n",
    "    print(\"K=%02d: Coherence=%.4f\" % (k, coherences[-1]))\n",
    "    # print(f'{coherences[-1]:.4f}')"
   ]
  },
  {
   "cell_type": "markdown",
   "metadata": {},
   "source": [
    "We can now use *matplotlib* to generate a line plot of these coherence scores, to help us select an appropriate value."
   ]
  },
  {
   "cell_type": "code",
   "execution_count": 16,
   "metadata": {
    "ExecuteTime": {
     "end_time": "2021-05-22T03:24:08.806979Z",
     "start_time": "2021-05-22T03:24:08.618714Z"
    }
   },
   "outputs": [],
   "source": [
    "%matplotlib inline\n",
    "import matplotlib\n",
    "import matplotlib.pyplot as plt\n",
    "\n",
    "plt.style.use(\"ggplot\")\n",
    "matplotlib.rcParams.update({\"font.size\": 14})"
   ]
  },
  {
   "cell_type": "code",
   "execution_count": 17,
   "metadata": {
    "ExecuteTime": {
     "end_time": "2021-05-22T03:24:08.986067Z",
     "start_time": "2021-05-22T03:24:08.808589Z"
    }
   },
   "outputs": [
    {
     "data": {
      "image/png": "[encoded data removed]",
      "text/plain": [
       "<Figure size 936x504 with 1 Axes>"
      ]
     },
     "metadata": {},
     "output_type": "display_data"
    }
   ],
   "source": [
    "fig = plt.figure(figsize=(13,7))\n",
    "\n",
    "# create the line plot\n",
    "ax = plt.plot( k_values, coherences )\n",
    "plt.xticks(k_values)\n",
    "plt.xlabel(\"Number of Topics\")\n",
    "plt.ylabel(\"Mean Coherence\")\n",
    "\n",
    "# add the points\n",
    "plt.scatter( k_values, coherences, s=120)\n",
    "\n",
    "\n",
    "# find and annotate the maximum point on the plot\n",
    "ymax = max(coherences)\n",
    "xpos = coherences.index(ymax)\n",
    "best_k = k_values[xpos]\n",
    "plt.annotate( \"k=%d\" % best_k, xy=(best_k, ymax), xytext=(best_k, ymax), textcoords=\"offset points\", fontsize=16)\n",
    "\n",
    "# show the plot\n",
    "plt.show()"
   ]
  },
  {
   "cell_type": "markdown",
   "metadata": {
    "ExecuteTime": {
     "end_time": "2021-05-21T23:51:33.169982Z",
     "start_time": "2021-05-21T23:51:33.167960Z"
    }
   },
   "source": [
    "# 10"
   ]
  },
  {
   "cell_type": "code",
   "execution_count": 18,
   "metadata": {
    "ExecuteTime": {
     "end_time": "2021-05-22T03:24:09.131292Z",
     "start_time": "2021-05-22T03:24:08.987389Z"
    }
   },
   "outputs": [
    {
     "name": "stdout",
     "output_type": "stream",
     "text": [
      "K=05: Coherence=0.2195\n",
      "K=10: Coherence=0.2244\n",
      "K=15: Coherence=0.2293\n",
      "K=20: Coherence=0.2311\n"
     ]
    },
    {
     "name": "stderr",
     "output_type": "stream",
     "text": [
      "/home/gean/anaconda3/lib/python3.7/site-packages/ipykernel_launcher.py:8: DeprecationWarning: Call to deprecated `similarity` (Method will be removed in 4.0.0, use self.wv.similarity() instead).\n",
      "  \n"
     ]
    }
   ],
   "source": [
    "from itertools import combinations\n",
    "\n",
    "k_values = []\n",
    "coherences = []\n",
    "\n",
    "for (k, W, H) in topic_models:\n",
    "    # Get all of the topic descriptors - the term_rankings, based on top 10 terms\n",
    "    term_rankings = []\n",
    "    \n",
    "    for topic_index in range(k):\n",
    "        term_rankings.append(get_descriptor(terms, H, topic_index, 10))\n",
    "    \n",
    "    # Now calculate the coherence based on our Word2vec model\n",
    "    k_values.append(k)\n",
    "    coherences.append(calculate_coherence(w2v_model, term_rankings))\n",
    "    \n",
    "    print(\"K=%02d: Coherence=%.4f\" % (k, coherences[-1]))\n",
    "    # print(f'{coherences[-1]:.4f}')"
   ]
  },
  {
   "cell_type": "code",
   "execution_count": 19,
   "metadata": {
    "ExecuteTime": {
     "end_time": "2021-05-22T03:24:09.289062Z",
     "start_time": "2021-05-22T03:24:09.132526Z"
    }
   },
   "outputs": [
    {
     "data": {
      "image/png": "[encoded data removed]",
      "text/plain": [
       "<Figure size 936x504 with 1 Axes>"
      ]
     },
     "metadata": {},
     "output_type": "display_data"
    }
   ],
   "source": [
    "fig = plt.figure(figsize=(13,7))\n",
    "\n",
    "# create the line plot\n",
    "ax = plt.plot( k_values, coherences )\n",
    "plt.xticks(k_values)\n",
    "plt.xlabel(\"Number of Topics\")\n",
    "plt.ylabel(\"Mean Coherence\")\n",
    "\n",
    "# add the points\n",
    "plt.scatter( k_values, coherences, s=120)\n",
    "\n",
    "\n",
    "# find and annotate the maximum point on the plot\n",
    "ymax = max(coherences)\n",
    "xpos = coherences.index(ymax)\n",
    "best_k = k_values[xpos]\n",
    "plt.annotate( \"k=%d\" % best_k, xy=(best_k, ymax), xytext=(best_k, ymax), textcoords=\"offset points\", fontsize=16)\n",
    "\n",
    "# show the plot\n",
    "plt.show()"
   ]
  },
  {
   "cell_type": "markdown",
   "metadata": {},
   "source": [
    "# 15"
   ]
  },
  {
   "cell_type": "code",
   "execution_count": 20,
   "metadata": {
    "ExecuteTime": {
     "end_time": "2021-05-22T03:24:09.522875Z",
     "start_time": "2021-05-22T03:24:09.290384Z"
    }
   },
   "outputs": [
    {
     "name": "stderr",
     "output_type": "stream",
     "text": [
      "/home/gean/anaconda3/lib/python3.7/site-packages/ipykernel_launcher.py:8: DeprecationWarning: Call to deprecated `similarity` (Method will be removed in 4.0.0, use self.wv.similarity() instead).\n",
      "  \n"
     ]
    },
    {
     "name": "stdout",
     "output_type": "stream",
     "text": [
      "K=05: Coherence=0.2043\n",
      "K=10: Coherence=0.2007\n",
      "K=15: Coherence=0.2151\n",
      "K=20: Coherence=0.2209\n"
     ]
    }
   ],
   "source": [
    "from itertools import combinations\n",
    "\n",
    "k_values = []\n",
    "coherences = []\n",
    "\n",
    "for (k, W, H) in topic_models:\n",
    "    # Get all of the topic descriptors - the term_rankings, based on top 10 terms\n",
    "    term_rankings = []\n",
    "    \n",
    "    for topic_index in range(k):\n",
    "        term_rankings.append(get_descriptor(terms, H, topic_index, 15))\n",
    "    \n",
    "    # Now calculate the coherence based on our Word2vec model\n",
    "    k_values.append(k)\n",
    "    coherences.append(calculate_coherence(w2v_model, term_rankings))\n",
    "    \n",
    "    print(\"K=%02d: Coherence=%.4f\" % (k, coherences[-1]))\n",
    "    # print(f'{coherences[-1]:.4f}')"
   ]
  },
  {
   "cell_type": "code",
   "execution_count": 21,
   "metadata": {
    "ExecuteTime": {
     "end_time": "2021-05-22T03:24:09.675751Z",
     "start_time": "2021-05-22T03:24:09.524083Z"
    }
   },
   "outputs": [
    {
     "data": {
      "image/png": "[encoded data removed]",
      "text/plain": [
       "<Figure size 936x504 with 1 Axes>"
      ]
     },
     "metadata": {},
     "output_type": "display_data"
    }
   ],
   "source": [
    "fig = plt.figure(figsize=(13,7))\n",
    "\n",
    "# create the line plot\n",
    "ax = plt.plot( k_values, coherences )\n",
    "plt.xticks(k_values)\n",
    "plt.xlabel(\"Number of Topics\")\n",
    "plt.ylabel(\"Mean Coherence\")\n",
    "\n",
    "# add the points\n",
    "plt.scatter( k_values, coherences, s=120)\n",
    "\n",
    "\n",
    "# find and annotate the maximum point on the plot\n",
    "ymax = max(coherences)\n",
    "xpos = coherences.index(ymax)\n",
    "best_k = k_values[xpos]\n",
    "plt.annotate( \"k=%d\" % best_k, xy=(best_k, ymax), xytext=(best_k, ymax), textcoords=\"offset points\", fontsize=16)\n",
    "\n",
    "# show the plot\n",
    "plt.show()"
   ]
  },
  {
   "cell_type": "markdown",
   "metadata": {},
   "source": [
    "# 20"
   ]
  },
  {
   "cell_type": "code",
   "execution_count": 22,
   "metadata": {
    "ExecuteTime": {
     "end_time": "2021-05-22T03:24:10.052670Z",
     "start_time": "2021-05-22T03:24:09.677112Z"
    }
   },
   "outputs": [
    {
     "name": "stderr",
     "output_type": "stream",
     "text": [
      "/home/gean/anaconda3/lib/python3.7/site-packages/ipykernel_launcher.py:8: DeprecationWarning: Call to deprecated `similarity` (Method will be removed in 4.0.0, use self.wv.similarity() instead).\n",
      "  \n"
     ]
    },
    {
     "name": "stdout",
     "output_type": "stream",
     "text": [
      "K=05: Coherence=0.1923\n",
      "K=10: Coherence=0.1923\n",
      "K=15: Coherence=0.2040\n",
      "K=20: Coherence=0.2024\n"
     ]
    }
   ],
   "source": [
    "from itertools import combinations\n",
    "\n",
    "k_values = []\n",
    "coherences = []\n",
    "\n",
    "for (k, W, H) in topic_models:\n",
    "    # Get all of the topic descriptors - the term_rankings, based on top 10 terms\n",
    "    term_rankings = []\n",
    "    \n",
    "    for topic_index in range(k):\n",
    "        term_rankings.append(get_descriptor(terms, H, topic_index, 20))\n",
    "    \n",
    "    # Now calculate the coherence based on our Word2vec model\n",
    "    k_values.append(k)\n",
    "    coherences.append(calculate_coherence(w2v_model, term_rankings))\n",
    "    \n",
    "    print(\"K=%02d: Coherence=%.4f\" % (k, coherences[-1]))\n",
    "    # print(f'{coherences[-1]:.4f}')"
   ]
  },
  {
   "cell_type": "code",
   "execution_count": 23,
   "metadata": {
    "ExecuteTime": {
     "end_time": "2021-05-22T03:24:10.208647Z",
     "start_time": "2021-05-22T03:24:10.053952Z"
    }
   },
   "outputs": [
    {
     "data": {
      "image/png": "[encoded data removed]",
      "text/plain": [
       "<Figure size 936x504 with 1 Axes>"
      ]
     },
     "metadata": {},
     "output_type": "display_data"
    }
   ],
   "source": [
    "fig = plt.figure(figsize=(13,7))\n",
    "\n",
    "# create the line plot\n",
    "ax = plt.plot( k_values, coherences )\n",
    "plt.xticks(k_values)\n",
    "plt.xlabel(\"Number of Topics\")\n",
    "plt.ylabel(\"Mean Coherence\")\n",
    "\n",
    "# add the points\n",
    "plt.scatter( k_values, coherences, s=120)\n",
    "\n",
    "\n",
    "# find and annotate the maximum point on the plot\n",
    "ymax = max(coherences)\n",
    "xpos = coherences.index(ymax)\n",
    "best_k = k_values[xpos]\n",
    "plt.annotate( \"k=%d\" % best_k, xy=(best_k, ymax), xytext=(best_k, ymax), textcoords=\"offset points\", fontsize=16)\n",
    "\n",
    "# show the plot\n",
    "plt.show()"
   ]
  },
  {
   "cell_type": "markdown",
   "metadata": {},
   "source": [
    "### Examine the Final  Model"
   ]
  },
  {
   "cell_type": "markdown",
   "metadata": {},
   "source": [
    "The plot above suggests that the most appropriate value for the number of topics is *k=8*."
   ]
  },
  {
   "cell_type": "markdown",
   "metadata": {},
   "source": [
    "# 5"
   ]
  },
  {
   "cell_type": "code",
   "execution_count": 24,
   "metadata": {
    "ExecuteTime": {
     "end_time": "2021-05-22T03:24:10.212653Z",
     "start_time": "2021-05-22T03:24:10.210051Z"
    }
   },
   "outputs": [],
   "source": [
    "k = 5 # best_k\n",
    "\n",
    "# get the model that we generated earlier.\n",
    "W = topic_models[0][1]\n",
    "H = topic_models[0][2]"
   ]
  },
  {
   "cell_type": "code",
   "execution_count": 25,
   "metadata": {
    "ExecuteTime": {
     "end_time": "2021-05-22T03:24:10.230432Z",
     "start_time": "2021-05-22T03:24:10.213955Z"
    }
   },
   "outputs": [
    {
     "name": "stdout",
     "output_type": "stream",
     "text": [
      "Topic 01: feliz, dia, falte, ninguna, mujer\n",
      "Topic 02: miedo, crecieron, sembraron, alas, libres\n",
      "Topic 03: buen, recordar, video, hoy, dia\n",
      "Topic 04: todas, mujeres, lucha, hoy, siempre\n",
      "Topic 05: escobedo, marisela, hija, palacio, feminicidio\n"
     ]
    }
   ],
   "source": [
    "for topic_index in range(k):\n",
    "    descriptor = get_descriptor( terms, H, topic_index, 5)\n",
    "    str_descriptor = \", \".join( descriptor )\n",
    "    print(\"Topic %02d: %s\" % ( topic_index+1, str_descriptor ) )"
   ]
  },
  {
   "cell_type": "code",
   "execution_count": 26,
   "metadata": {
    "ExecuteTime": {
     "end_time": "2021-05-22T03:24:10.243870Z",
     "start_time": "2021-05-22T03:24:10.231806Z"
    }
   },
   "outputs": [
    {
     "name": "stdout",
     "output_type": "stream",
     "text": [
      "Topic 01: feliz, dia, falte, ninguna, mujer, ser, internacional, nadie, podamos, dejen\n",
      "Topic 02: miedo, crecieron, sembraron, alas, libres, vivir, cancion, vivas, exagerado, ser\n",
      "Topic 03: buen, recordar, video, hoy, dia, creo, momento, hace, lucha, mujer\n",
      "Topic 04: todas, mujeres, lucha, hoy, siempre, mundo, igualdad, juntas, derechos, feminismo\n",
      "Topic 05: escobedo, marisela, hija, palacio, feminicidio, frente, olvidemos, enfrento, impune, lucho\n"
     ]
    }
   ],
   "source": [
    "for topic_index in range(k):\n",
    "    descriptor = get_descriptor( terms, H, topic_index, 10)\n",
    "    str_descriptor = \", \".join( descriptor )\n",
    "    print(\"Topic %02d: %s\" % ( topic_index+1, str_descriptor ) )"
   ]
  },
  {
   "cell_type": "code",
   "execution_count": 27,
   "metadata": {
    "ExecuteTime": {
     "end_time": "2021-05-22T03:24:10.257825Z",
     "start_time": "2021-05-22T03:24:10.245589Z"
    }
   },
   "outputs": [
    {
     "name": "stdout",
     "output_type": "stream",
     "text": [
      "Topic 01: feliz, dia, falte, ninguna, mujer, ser, internacional, nadie, podamos, dejen, primer, logro, legal, aborto, matarnos\n",
      "Topic 02: miedo, crecieron, sembraron, alas, libres, vivir, cancion, vivas, exagerado, ser, casa, corten, razon, juntas, calma\n",
      "Topic 03: buen, recordar, video, hoy, dia, creo, momento, hace, lucha, mujer, manifestantes, dias, ano, zocalo, conmemora\n",
      "Topic 04: todas, mujeres, lucha, hoy, siempre, mundo, igualdad, juntas, derechos, feminismo, violencia, asi, mujer, faltan, reconocimiento\n",
      "Topic 05: escobedo, marisela, hija, palacio, feminicidio, frente, olvidemos, enfrento, impune, lucho, asesinada, feminicida, narcos, gobernador, quedo\n"
     ]
    }
   ],
   "source": [
    "for topic_index in range(k):\n",
    "    descriptor = get_descriptor( terms, H, topic_index, 15)\n",
    "    str_descriptor = \", \".join( descriptor )\n",
    "    print(\"Topic %02d: %s\" % ( topic_index+1, str_descriptor ) )"
   ]
  },
  {
   "cell_type": "code",
   "execution_count": 28,
   "metadata": {
    "ExecuteTime": {
     "end_time": "2021-05-22T03:24:10.270988Z",
     "start_time": "2021-05-22T03:24:10.259050Z"
    }
   },
   "outputs": [
    {
     "name": "stdout",
     "output_type": "stream",
     "text": [
      "Topic 01: feliz, dia, falte, ninguna, mujer, ser, internacional, nadie, podamos, dejen, primer, logro, legal, aborto, matarnos, salir, tranquilas, haga, marzo, trabajadora\n",
      "Topic 02: miedo, crecieron, sembraron, alas, libres, vivir, cancion, vivas, exagerado, ser, casa, corten, razon, juntas, calma, callen, existe, quitan, tiemble, cielos\n",
      "Topic 03: buen, recordar, video, hoy, dia, creo, momento, hace, lucha, mujer, manifestantes, dias, ano, zocalo, conmemora, difunden, indicaciones, internacional, dando, protestas\n",
      "Topic 04: todas, mujeres, lucha, hoy, siempre, mundo, igualdad, juntas, derechos, feminismo, violencia, asi, mujer, faltan, reconocimiento, gracias, vos, cada, feminista, cambiando\n",
      "Topic 05: escobedo, marisela, hija, palacio, feminicidio, frente, olvidemos, enfrento, impune, lucho, asesinada, feminicida, narcos, gobernador, quedo, red, nunca, hizo, gobierno, nacional\n"
     ]
    }
   ],
   "source": [
    "for topic_index in range(k):\n",
    "    descriptor = get_descriptor( terms, H, topic_index, 20)\n",
    "    str_descriptor = \", \".join( descriptor )\n",
    "    print(\"Topic %02d: %s\" % ( topic_index+1, str_descriptor ) )"
   ]
  },
  {
   "cell_type": "markdown",
   "metadata": {},
   "source": [
    "# 10"
   ]
  },
  {
   "cell_type": "code",
   "execution_count": 29,
   "metadata": {
    "ExecuteTime": {
     "end_time": "2021-05-22T03:24:10.274805Z",
     "start_time": "2021-05-22T03:24:10.272348Z"
    }
   },
   "outputs": [],
   "source": [
    "k = 10 # best_k\n",
    "\n",
    "# get the model that we generated earlier.\n",
    "W = topic_models[1][1]\n",
    "H = topic_models[1][2]"
   ]
  },
  {
   "cell_type": "code",
   "execution_count": 30,
   "metadata": {
    "ExecuteTime": {
     "end_time": "2021-05-22T03:24:10.298057Z",
     "start_time": "2021-05-22T03:24:10.275891Z"
    }
   },
   "outputs": [
    {
     "name": "stdout",
     "output_type": "stream",
     "text": [
      "Topic 01: feliz, dia, falte, ninguna, ser\n",
      "Topic 02: miedo, crecieron, sembraron, alas, libres\n",
      "Topic 03: buen, recordar, video, hoy, dia\n",
      "Topic 04: mujer, dia, internacional, marzo, ser\n",
      "Topic 05: escobedo, marisela, hija, olvidemos, lucho\n",
      "Topic 06: todas, siempre, juntas, faltan, vos\n",
      "Topic 07: oirlo, cansas, vivirlo, escucharlo, formosenas\n",
      "Topic 08: nacional, palacio, vallas, fotos, victimas\n",
      "Topic 09: mujeres, lucha, hoy, igualdad, derechos\n",
      "Topic 10: mundo, imagen, vuelta, dara, mira\n"
     ]
    }
   ],
   "source": [
    "for topic_index in range(k):\n",
    "    descriptor = get_descriptor( terms, H, topic_index, 5)\n",
    "    str_descriptor = \", \".join( descriptor )\n",
    "    print(\"Topic %02d: %s\" % ( topic_index+1, str_descriptor ) )"
   ]
  },
  {
   "cell_type": "code",
   "execution_count": 31,
   "metadata": {
    "ExecuteTime": {
     "end_time": "2021-05-22T03:24:10.317415Z",
     "start_time": "2021-05-22T03:24:10.300680Z"
    }
   },
   "outputs": [
    {
     "name": "stdout",
     "output_type": "stream",
     "text": [
      "Topic 01: feliz, dia, falte, ninguna, ser, podamos, nadie, dejen, logro, legal\n",
      "Topic 02: miedo, crecieron, sembraron, alas, libres, vivir, cancion, vivas, juntas, exagerado\n",
      "Topic 03: buen, recordar, video, hoy, dia, creo, momento, hace, ano, manifestantes\n",
      "Topic 04: mujer, dia, internacional, marzo, ser, trabajadora, felicidades, cada, conmemoracion, muchas\n",
      "Topic 05: escobedo, marisela, hija, olvidemos, lucho, enfrento, impune, asesinada, narcos, feminicida\n",
      "Topic 06: todas, siempre, juntas, faltan, vos, aquellas, luchamos, mama, partio, corazon\n",
      "Topic 07: oirlo, cansas, vivirlo, escucharlo, formosenas, admirable, siempre, exige, cansado, coraje\n",
      "Topic 08: nacional, palacio, vallas, fotos, victimas, nombres, frente, pintaron, imagenes, lean\n",
      "Topic 09: mujeres, lucha, hoy, igualdad, derechos, violencia, feminista, asi, feminismo, hombres\n",
      "Topic 10: mundo, imagen, vuelta, dara, mira, cambiando, reconocimiento, sirvieron, mejor, pinche\n"
     ]
    }
   ],
   "source": [
    "for topic_index in range(k):\n",
    "    descriptor = get_descriptor( terms, H, topic_index, 10)\n",
    "    str_descriptor = \", \".join( descriptor )\n",
    "    print(\"Topic %02d: %s\" % ( topic_index+1, str_descriptor ) )"
   ]
  },
  {
   "cell_type": "code",
   "execution_count": 32,
   "metadata": {
    "ExecuteTime": {
     "end_time": "2021-05-22T03:24:10.337197Z",
     "start_time": "2021-05-22T03:24:10.319275Z"
    }
   },
   "outputs": [
    {
     "name": "stdout",
     "output_type": "stream",
     "text": [
      "Topic 01: feliz, dia, falte, ninguna, ser, podamos, nadie, dejen, logro, legal, aborto, primer, matarnos, salir, haga\n",
      "Topic 02: miedo, crecieron, sembraron, alas, libres, vivir, cancion, vivas, juntas, exagerado, casa, corten, razon, calma, ser\n",
      "Topic 03: buen, recordar, video, hoy, dia, creo, momento, hace, ano, manifestantes, difunden, indicaciones, dando, siempre, zocalo\n",
      "Topic 04: mujer, dia, internacional, marzo, ser, trabajadora, felicidades, cada, conmemoracion, muchas, feliz, ilumina, marco, hoy, mejor\n",
      "Topic 05: escobedo, marisela, hija, olvidemos, lucho, enfrento, impune, asesinada, narcos, feminicida, gobernador, quedo, red, nunca, hizo\n",
      "Topic 06: todas, siempre, juntas, faltan, vos, aquellas, luchamos, mama, partio, corazon, memoria, hoy, feminismo, felicidades, solas\n",
      "Topic 07: oirlo, cansas, vivirlo, escucharlo, formosenas, admirable, siempre, exige, cansado, coraje, toca, argentina, caminar, cansados, vivir\n",
      "Topic 08: nacional, palacio, vallas, fotos, victimas, nombres, frente, pintaron, imagenes, lean, todxs, hice, ojos, feminicidio, cada\n",
      "Topic 09: mujeres, lucha, hoy, igualdad, derechos, violencia, feminista, asi, feminismo, hombres, pais, luchando, reconocimiento, mundo, ser\n",
      "Topic 10: mundo, imagen, vuelta, dara, mira, cambiando, reconocimiento, sirvieron, mejor, pinche, dicho, foto, vallas, entero, iguales\n"
     ]
    }
   ],
   "source": [
    "for topic_index in range(k):\n",
    "    descriptor = get_descriptor( terms, H, topic_index, 15)\n",
    "    str_descriptor = \", \".join( descriptor )\n",
    "    print(\"Topic %02d: %s\" % ( topic_index+1, str_descriptor ) )"
   ]
  },
  {
   "cell_type": "code",
   "execution_count": 33,
   "metadata": {
    "ExecuteTime": {
     "end_time": "2021-05-22T03:24:10.356381Z",
     "start_time": "2021-05-22T03:24:10.338521Z"
    }
   },
   "outputs": [
    {
     "name": "stdout",
     "output_type": "stream",
     "text": [
      "Topic 01: feliz, dia, falte, ninguna, ser, podamos, nadie, dejen, logro, legal, aborto, primer, matarnos, salir, haga, aquellas, tranquilas, calle, decime, paren\n",
      "Topic 02: miedo, crecieron, sembraron, alas, libres, vivir, cancion, vivas, juntas, exagerado, casa, corten, razon, calma, ser, quitan, callen, existe, tiemble, cielos\n",
      "Topic 03: buen, recordar, video, hoy, dia, creo, momento, hace, ano, manifestantes, difunden, indicaciones, dando, siempre, zocalo, aquellas, dias, protestas, conmemora, celebramos\n",
      "Topic 04: mujer, dia, internacional, marzo, ser, trabajadora, felicidades, cada, conmemoracion, muchas, feliz, ilumina, marco, hoy, mejor, morado, gana, conmemorar, celebrar, dias\n",
      "Topic 05: escobedo, marisela, hija, olvidemos, lucho, enfrento, impune, asesinada, narcos, feminicida, gobernador, quedo, red, nunca, hizo, feminicidio, gobierno, frente, palacio, criando\n",
      "Topic 06: todas, siempre, juntas, faltan, vos, aquellas, luchamos, mama, partio, corazon, memoria, hoy, feminismo, felicidades, solas, companeras, anduvieramos, vinimos, dijeron, casa\n",
      "Topic 07: oirlo, cansas, vivirlo, escucharlo, formosenas, admirable, siempre, exige, cansado, coraje, toca, argentina, caminar, cansados, vivir, lado, junto, libertad, reconocimiento, cada\n",
      "Topic 08: nacional, palacio, vallas, fotos, victimas, nombres, frente, pintaron, imagenes, lean, todxs, hice, ojos, feminicidio, cada, gas, florecitas, metieron, llorando, lacrimogeno\n",
      "Topic 09: mujeres, lucha, hoy, igualdad, derechos, violencia, feminista, asi, feminismo, hombres, pais, luchando, reconocimiento, mundo, ser, mexico, gracias, viva, genero, queremos\n",
      "Topic 10: mundo, imagen, vuelta, dara, mira, cambiando, reconocimiento, sirvieron, mejor, pinche, dicho, foto, vallas, entero, iguales, humanamente, totalmente, socialmente, diferentes, luxemburgo\n"
     ]
    }
   ],
   "source": [
    "for topic_index in range(k):\n",
    "    descriptor = get_descriptor( terms, H, topic_index, 20)\n",
    "    str_descriptor = \", \".join( descriptor )\n",
    "    print(\"Topic %02d: %s\" % ( topic_index+1, str_descriptor ) )"
   ]
  },
  {
   "cell_type": "markdown",
   "metadata": {},
   "source": [
    "# 15"
   ]
  },
  {
   "cell_type": "code",
   "execution_count": 34,
   "metadata": {
    "ExecuteTime": {
     "end_time": "2021-05-22T03:24:10.360191Z",
     "start_time": "2021-05-22T03:24:10.357711Z"
    }
   },
   "outputs": [],
   "source": [
    "k = 15 # best_k\n",
    "\n",
    "# get the model that we generated earlier.\n",
    "W = topic_models[2][1]\n",
    "H = topic_models[2][2]"
   ]
  },
  {
   "cell_type": "code",
   "execution_count": 35,
   "metadata": {
    "ExecuteTime": {
     "end_time": "2021-05-22T03:24:10.391277Z",
     "start_time": "2021-05-22T03:24:10.361383Z"
    }
   },
   "outputs": [
    {
     "name": "stdout",
     "output_type": "stream",
     "text": [
      "Topic 01: mujer, dia, internacional, marzo, trabajadora\n",
      "Topic 02: miedo, crecieron, sembraron, alas, vivir\n",
      "Topic 03: buen, recordar, video, hoy, dia\n",
      "Topic 04: mujeres, violencia, derechos, pais, luchando\n",
      "Topic 05: escobedo, marisela, hija, olvidemos, enfrento\n",
      "Topic 06: todas, vos, faltan, luchamos, mama\n",
      "Topic 07: oirlo, cansas, vivirlo, escucharlo, formosenas\n",
      "Topic 08: nacional, palacio, vallas, fotos, victimas\n",
      "Topic 09: cambiando, mundo, reconocimiento, mujeres, queremos\n",
      "Topic 10: imagen, vuelta, dara, mira, mundo\n",
      "Topic 11: foto, ano, mucha, redes, cabreadisimo\n",
      "Topic 12: asi, metro, empezo, termino, hidalgo\n",
      "Topic 13: hoy, lucha, igualdad, gracias, dias\n",
      "Topic 14: feliz, dia, falte, ninguna, ser\n",
      "Topic 15: siempre, juntas, libres, fuertes, miedo\n"
     ]
    }
   ],
   "source": [
    "for topic_index in range(k):\n",
    "    descriptor = get_descriptor( terms, H, topic_index, 5)\n",
    "    str_descriptor = \", \".join( descriptor )\n",
    "    print(\"Topic %02d: %s\" % ( topic_index+1, str_descriptor ) )"
   ]
  },
  {
   "cell_type": "code",
   "execution_count": 36,
   "metadata": {
    "ExecuteTime": {
     "end_time": "2021-05-22T03:24:10.418577Z",
     "start_time": "2021-05-22T03:24:10.392894Z"
    }
   },
   "outputs": [
    {
     "name": "stdout",
     "output_type": "stream",
     "text": [
      "Topic 01: mujer, dia, internacional, marzo, trabajadora, ser, felicidades, conmemoracion, cada, feliz\n",
      "Topic 02: miedo, crecieron, sembraron, alas, vivir, cancion, libres, exagerado, vivas, casa\n",
      "Topic 03: buen, recordar, video, hoy, dia, creo, momento, manifestantes, indicaciones, difunden\n",
      "Topic 04: mujeres, violencia, derechos, pais, luchando, mexico, hombres, seguras, igualdad, historia\n",
      "Topic 05: escobedo, marisela, hija, olvidemos, enfrento, lucho, impune, asesinada, narcos, feminicida\n",
      "Topic 06: todas, vos, faltan, luchamos, mama, partio, corazon, memoria, aquellas, juntas\n",
      "Topic 07: oirlo, cansas, vivirlo, escucharlo, formosenas, admirable, exige, cansado, coraje, toca\n",
      "Topic 08: nacional, palacio, vallas, fotos, victimas, nombres, pintaron, imagenes, lean, todxs\n",
      "Topic 09: cambiando, mundo, reconocimiento, mujeres, queremos, iguales, libres, mejor, humanamente, socialmente\n",
      "Topic 10: imagen, vuelta, dara, mira, mundo, sirvieron, mejor, pinche, dicho, foto\n",
      "Topic 11: foto, ano, mucha, redes, cabreadisimo, aclararlo, ofenderse, rulando, molesto, olvidaba\n",
      "Topic 12: asi, metro, empezo, termino, hidalgo, leslie, perez, marcha, cobertura, cdmx\n",
      "Topic 13: hoy, lucha, igualdad, gracias, dias, ser, hace, queremos, derechos, ano\n",
      "Topic 14: feliz, dia, falte, ninguna, ser, podamos, nadie, dejen, logro, legal\n",
      "Topic 15: siempre, juntas, libres, fuertes, miedo, hoy, nunca, manana, amor, ayer\n"
     ]
    }
   ],
   "source": [
    "for topic_index in range(k):\n",
    "    descriptor = get_descriptor( terms, H, topic_index, 10)\n",
    "    str_descriptor = \", \".join( descriptor )\n",
    "    print(\"Topic %02d: %s\" % ( topic_index+1, str_descriptor ) )"
   ]
  },
  {
   "cell_type": "code",
   "execution_count": 37,
   "metadata": {
    "ExecuteTime": {
     "end_time": "2021-05-22T03:24:10.444374Z",
     "start_time": "2021-05-22T03:24:10.419965Z"
    }
   },
   "outputs": [
    {
     "name": "stdout",
     "output_type": "stream",
     "text": [
      "Topic 01: mujer, dia, internacional, marzo, trabajadora, ser, felicidades, conmemoracion, cada, feliz, muchas, ilumina, marco, morado, mejor\n",
      "Topic 02: miedo, crecieron, sembraron, alas, vivir, cancion, libres, exagerado, vivas, casa, corten, razon, calma, quitan, callen\n",
      "Topic 03: buen, recordar, video, hoy, dia, creo, momento, manifestantes, indicaciones, difunden, zocalo, dando, protestas, hombre, estremece\n",
      "Topic 04: mujeres, violencia, derechos, pais, luchando, mexico, hombres, seguras, igualdad, historia, presidente, feminista, mexicanas, genero, policias\n",
      "Topic 05: escobedo, marisela, hija, olvidemos, enfrento, lucho, impune, asesinada, narcos, feminicida, gobernador, quedo, red, nunca, hizo\n",
      "Topic 06: todas, vos, faltan, luchamos, mama, partio, corazon, memoria, aquellas, juntas, feminismo, felicidades, solas, anduvieramos, vinimos\n",
      "Topic 07: oirlo, cansas, vivirlo, escucharlo, formosenas, admirable, exige, cansado, coraje, toca, argentina, caminar, cansados, vivir, lado\n",
      "Topic 08: nacional, palacio, vallas, fotos, victimas, nombres, pintaron, imagenes, lean, todxs, hice, frente, feminicidio, ojos, cada\n",
      "Topic 09: cambiando, mundo, reconocimiento, mujeres, queremos, iguales, libres, mejor, humanamente, socialmente, totalmente, diferentes, vivas, luxemburgo, rosa\n",
      "Topic 10: imagen, vuelta, dara, mira, mundo, sirvieron, mejor, pinche, dicho, foto, vallas, entero, mexico, maravilla, olvido\n",
      "Topic 11: foto, ano, mucha, redes, cabreadisimo, aclararlo, ofenderse, rulando, molesto, olvidaba, ponia, guardia, estudia, verdad, hablo\n",
      "Topic 12: asi, metro, empezo, termino, hidalgo, leslie, perez, marcha, cobertura, cdmx, realizaba, miguel, detencion, periodista, lopez\n",
      "Topic 13: hoy, lucha, igualdad, gracias, dias, ser, hace, queremos, derechos, ano, nunca, conmemora, feminismo, viva, cada\n",
      "Topic 14: feliz, dia, falte, ninguna, ser, podamos, nadie, dejen, logro, legal, aborto, primer, matarnos, salir, haga\n",
      "Topic 15: siempre, juntas, libres, fuertes, miedo, hoy, nunca, manana, amor, ayer, todas, vivas, llevo, somo, fuegos\n"
     ]
    }
   ],
   "source": [
    "for topic_index in range(k):\n",
    "    descriptor = get_descriptor( terms, H, topic_index, 15)\n",
    "    str_descriptor = \", \".join( descriptor )\n",
    "    print(\"Topic %02d: %s\" % ( topic_index+1, str_descriptor ) )"
   ]
  },
  {
   "cell_type": "code",
   "execution_count": 38,
   "metadata": {
    "ExecuteTime": {
     "end_time": "2021-05-22T03:24:10.471632Z",
     "start_time": "2021-05-22T03:24:10.446518Z"
    }
   },
   "outputs": [
    {
     "name": "stdout",
     "output_type": "stream",
     "text": [
      "Topic 01: mujer, dia, internacional, marzo, trabajadora, ser, felicidades, conmemoracion, cada, feliz, muchas, ilumina, marco, morado, mejor, conmemorar, especial, celebrar, gana, vida\n",
      "Topic 02: miedo, crecieron, sembraron, alas, vivir, cancion, libres, exagerado, vivas, casa, corten, razon, calma, quitan, callen, existe, ser, tiemble, cielos, judiciales\n",
      "Topic 03: buen, recordar, video, hoy, dia, creo, momento, manifestantes, indicaciones, difunden, zocalo, dando, protestas, hombre, estremece, capitulo, rompieron, incluye, piedras, identificaron\n",
      "Topic 04: mujeres, violencia, derechos, pais, luchando, mexico, hombres, seguras, igualdad, historia, presidente, feminista, mexicanas, genero, policias, feminismo, vida, marcha, gobierno, grito\n",
      "Topic 05: escobedo, marisela, hija, olvidemos, enfrento, lucho, impune, asesinada, narcos, feminicida, gobernador, quedo, red, nunca, hizo, feminicidio, gobierno, frente, palacio, criando\n",
      "Topic 06: todas, vos, faltan, luchamos, mama, partio, corazon, memoria, aquellas, juntas, feminismo, felicidades, solas, anduvieramos, vinimos, companeras, dijeron, tocan, casa, respondemos\n",
      "Topic 07: oirlo, cansas, vivirlo, escucharlo, formosenas, admirable, exige, cansado, coraje, toca, argentina, caminar, cansados, vivir, lado, junto, libertad, vos, cada, cansan\n",
      "Topic 08: nacional, palacio, vallas, fotos, victimas, nombres, pintaron, imagenes, lean, todxs, hice, frente, feminicidio, ojos, cada, gas, florecitas, metieron, llorando, lacrimogeno\n",
      "Topic 09: cambiando, mundo, reconocimiento, mujeres, queremos, iguales, libres, mejor, humanamente, socialmente, totalmente, diferentes, vivas, luxemburgo, rosa, igualitario, prados, florecen, violetas, palabras\n",
      "Topic 10: imagen, vuelta, dara, mira, mundo, sirvieron, mejor, pinche, dicho, foto, vallas, entero, mexico, maravilla, olvido, agregar, hipocritas, fotografia, dice, darle\n",
      "Topic 11: foto, ano, mucha, redes, cabreadisimo, aclararlo, ofenderse, rulando, molesto, olvidaba, ponia, guardia, estudia, verdad, hablo, mando, solo, gente, pasado, vaya\n",
      "Topic 12: asi, metro, empezo, termino, hidalgo, leslie, perez, marcha, cobertura, cdmx, realizaba, miguel, detencion, periodista, lopez, gutierrez, sashenka, policia, zocalo, gabriela\n",
      "Topic 13: hoy, lucha, igualdad, gracias, dias, ser, hace, queremos, derechos, ano, nunca, conmemora, feminismo, viva, cada, voz, feminista, recordad, reconocemos, manana\n",
      "Topic 14: feliz, dia, falte, ninguna, ser, podamos, nadie, dejen, logro, legal, aborto, primer, matarnos, salir, haga, tranquilas, decime, calle, aquellas, paren\n",
      "Topic 15: siempre, juntas, libres, fuertes, miedo, hoy, nunca, manana, amor, ayer, todas, vivas, llevo, somo, fuegos, apaguen, hermanas, ahora, grito, dejaremos\n"
     ]
    }
   ],
   "source": [
    "for topic_index in range(k):\n",
    "    descriptor = get_descriptor( terms, H, topic_index, 20)\n",
    "    str_descriptor = \", \".join( descriptor )\n",
    "    print(\"Topic %02d: %s\" % ( topic_index+1, str_descriptor ) )"
   ]
  },
  {
   "cell_type": "markdown",
   "metadata": {},
   "source": [
    "# 20"
   ]
  },
  {
   "cell_type": "code",
   "execution_count": 39,
   "metadata": {
    "ExecuteTime": {
     "end_time": "2021-05-22T03:24:10.475330Z",
     "start_time": "2021-05-22T03:24:10.472907Z"
    }
   },
   "outputs": [],
   "source": [
    "k = 20 # best_k\n",
    "\n",
    "# get the model that we generated earlier.\n",
    "W = topic_models[3][1]\n",
    "H = topic_models[3][2]"
   ]
  },
  {
   "cell_type": "markdown",
   "metadata": {},
   "source": [
    "Display the topic descriptors for this model:"
   ]
  },
  {
   "cell_type": "code",
   "execution_count": 40,
   "metadata": {
    "ExecuteTime": {
     "end_time": "2021-05-22T03:24:10.516681Z",
     "start_time": "2021-05-22T03:24:10.476543Z"
    }
   },
   "outputs": [
    {
     "name": "stdout",
     "output_type": "stream",
     "text": [
      "Topic 01: mujer, dia, internacional, marzo, ser\n",
      "Topic 02: miedo, crecieron, sembraron, alas, vivir\n",
      "Topic 03: buen, recordar, video, dia, hoy\n",
      "Topic 04: mujeres, violencia, derechos, luchando, pais\n",
      "Topic 05: escobedo, marisela, hija, olvidemos, enfrento\n",
      "Topic 06: todas, vos, faltan, luchamos, mama\n",
      "Topic 07: oirlo, cansas, vivirlo, escucharlo, formosenas\n",
      "Topic 08: nacional, palacio, ojos, gas, lacrimogeno\n",
      "Topic 09: cambiando, mundo, reconocimiento, mujeres, iguales\n",
      "Topic 10: imagen, vuelta, dara, mira, mundo\n",
      "Topic 11: ano, mucha, redes, cabreadisimo, aclararlo\n",
      "Topic 12: asi, empezo, termino, hombres, anduvieramos\n",
      "Topic 13: hoy, lucha, gracias, dias, hace\n",
      "Topic 14: feliz, dia, legal, aborto, logro\n",
      "Topic 15: siempre, juntas, libres, miedo, fuertes\n",
      "Topic 16: metro, hidalgo, leslie, perez, lopez\n",
      "Topic 17: vallas, fotos, victimas, nombres, imagenes\n",
      "Topic 18: feminismo, igualdad, recordad, queremos, primero\n",
      "Topic 19: falte, ninguna, ser, dia, feliz\n",
      "Topic 20: vamos, nunca, bien, perdonar, olvidar\n"
     ]
    }
   ],
   "source": [
    "for topic_index in range(k):\n",
    "    descriptor = get_descriptor( terms, H, topic_index, 5)\n",
    "    str_descriptor = \", \".join( descriptor )\n",
    "    print(\"Topic %02d: %s\" % ( topic_index+1, str_descriptor ) )"
   ]
  },
  {
   "cell_type": "code",
   "execution_count": 41,
   "metadata": {
    "ExecuteTime": {
     "end_time": "2021-05-22T03:24:10.548965Z",
     "start_time": "2021-05-22T03:24:10.518050Z"
    }
   },
   "outputs": [
    {
     "name": "stdout",
     "output_type": "stream",
     "text": [
      "Topic 01: mujer, dia, internacional, marzo, ser, trabajadora, felicidades, conmemoracion, cada, muchas\n",
      "Topic 02: miedo, crecieron, sembraron, alas, vivir, cancion, libres, exagerado, casa, corten\n",
      "Topic 03: buen, recordar, video, dia, hoy, creo, momento, manifestantes, indicaciones, difunden\n",
      "Topic 04: mujeres, violencia, derechos, luchando, pais, hombres, mexico, seguras, historia, feminista\n",
      "Topic 05: escobedo, marisela, hija, olvidemos, enfrento, lucho, impune, asesinada, narcos, feminicida\n",
      "Topic 06: todas, vos, faltan, luchamos, mama, partio, corazon, memoria, aquellas, juntas\n",
      "Topic 07: oirlo, cansas, vivirlo, escucharlo, formosenas, admirable, exige, cansado, coraje, toca\n",
      "Topic 08: nacional, palacio, ojos, gas, lacrimogeno, florecitas, metieron, llorando, muchas, arrojado\n",
      "Topic 09: cambiando, mundo, reconocimiento, mujeres, iguales, mejor, libres, humanamente, socialmente, totalmente\n",
      "Topic 10: imagen, vuelta, dara, mira, mundo, sirvieron, mejor, pinche, dicho, vallas\n",
      "Topic 11: ano, mucha, redes, cabreadisimo, aclararlo, ofenderse, rulando, olvidaba, molesto, ponia\n",
      "Topic 12: asi, empezo, termino, hombres, anduvieramos, vinimos, dijeron, solas, luce, zocalo\n",
      "Topic 13: hoy, lucha, gracias, dias, hace, ano, conmemora, viva, voz, aquellas\n",
      "Topic 14: feliz, dia, legal, aborto, logro, primer, nadie, dejen, matarnos, aquellas\n",
      "Topic 15: siempre, juntas, libres, miedo, fuertes, hoy, manana, vivas, amor, nunca\n",
      "Topic 16: metro, hidalgo, leslie, perez, lopez, marcha, cobertura, sashenka, gutierrez, gabriela\n",
      "Topic 17: vallas, fotos, victimas, nombres, imagenes, pintaron, lean, todxs, hice, cada\n",
      "Topic 18: feminismo, igualdad, recordad, queremos, primero, vivas, nadie, machismo, cada, mata\n",
      "Topic 19: falte, ninguna, ser, dia, feliz, podamos, tranquilas, salir, calle, subordinar\n",
      "Topic 20: vamos, nunca, bien, perdonar, olvidar, vean, foto, feminista, callar, historia\n"
     ]
    }
   ],
   "source": [
    "for topic_index in range(k):\n",
    "    descriptor = get_descriptor( terms, H, topic_index, 10)\n",
    "    str_descriptor = \", \".join( descriptor )\n",
    "    print(\"Topic %02d: %s\" % ( topic_index+1, str_descriptor ) )"
   ]
  },
  {
   "cell_type": "code",
   "execution_count": 42,
   "metadata": {
    "ExecuteTime": {
     "end_time": "2021-05-22T03:24:10.581070Z",
     "start_time": "2021-05-22T03:24:10.550502Z"
    }
   },
   "outputs": [
    {
     "name": "stdout",
     "output_type": "stream",
     "text": [
      "Topic 01: mujer, dia, internacional, marzo, ser, trabajadora, felicidades, conmemoracion, cada, muchas, ilumina, marco, morado, mejor, conmemorar\n",
      "Topic 02: miedo, crecieron, sembraron, alas, vivir, cancion, libres, exagerado, casa, corten, vivas, razon, calma, quitan, callen\n",
      "Topic 03: buen, recordar, video, dia, hoy, creo, momento, manifestantes, indicaciones, difunden, dando, zocalo, protestas, hombre, estremece\n",
      "Topic 04: mujeres, violencia, derechos, luchando, pais, hombres, mexico, seguras, historia, feminista, igualdad, mexicanas, genero, vida, policias\n",
      "Topic 05: escobedo, marisela, hija, olvidemos, enfrento, lucho, impune, asesinada, narcos, feminicida, gobernador, quedo, red, hizo, feminicidio\n",
      "Topic 06: todas, vos, faltan, luchamos, mama, partio, corazon, memoria, aquellas, juntas, felicidades, companeras, solas, anduvieramos, vinimos\n",
      "Topic 07: oirlo, cansas, vivirlo, escucharlo, formosenas, admirable, exige, cansado, coraje, toca, argentina, caminar, cansados, vivir, lado\n",
      "Topic 08: nacional, palacio, ojos, gas, lacrimogeno, florecitas, metieron, llorando, muchas, arrojado, vomito, imposibilidad, respirar, ardor, cara\n",
      "Topic 09: cambiando, mundo, reconocimiento, mujeres, iguales, mejor, libres, humanamente, socialmente, totalmente, diferentes, luxemburgo, rosa, queremos, igualitario\n",
      "Topic 10: imagen, vuelta, dara, mira, mundo, sirvieron, mejor, pinche, dicho, vallas, foto, entero, mexico, maravilla, olvido\n",
      "Topic 11: ano, mucha, redes, cabreadisimo, aclararlo, ofenderse, rulando, olvidaba, molesto, ponia, guardia, estudia, verdad, hablo, mando\n",
      "Topic 12: asi, empezo, termino, hombres, anduvieramos, vinimos, dijeron, solas, luce, zocalo, cdmx, periodista, realizaba, noche, detencion\n",
      "Topic 13: hoy, lucha, gracias, dias, hace, ano, conmemora, viva, voz, aquellas, derechos, reconocemos, ser, celebra, encabezan\n",
      "Topic 14: feliz, dia, legal, aborto, logro, primer, nadie, dejen, matarnos, aquellas, decime, haga, paren, desaparecernos, hermanas\n",
      "Topic 15: siempre, juntas, libres, miedo, fuertes, hoy, manana, vivas, amor, nunca, ser, ayer, llevo, queremos, somo\n",
      "Topic 16: metro, hidalgo, leslie, perez, lopez, marcha, cobertura, sashenka, gutierrez, gabriela, esquivel, graciela, cdmx, policia, miguel\n",
      "Topic 17: vallas, fotos, victimas, nombres, imagenes, pintaron, lean, todxs, hice, cada, nacional, palacio, feminicidio, frente, mujeres\n",
      "Topic 18: feminismo, igualdad, recordad, queremos, primero, vivas, nadie, machismo, cada, mata, hace, derecha, libres, derechos, dia\n",
      "Topic 19: falte, ninguna, ser, dia, feliz, podamos, tranquilas, salir, calle, subordinar, terminen, movilizar, deje, quiero, femicidios\n",
      "Topic 20: vamos, nunca, bien, perdonar, olvidar, vean, foto, feminista, callar, historia, presidente, dicho, aqui, tirar, miren\n"
     ]
    }
   ],
   "source": [
    "for topic_index in range(k):\n",
    "    descriptor = get_descriptor( terms, H, topic_index, 15)\n",
    "    str_descriptor = \", \".join( descriptor )\n",
    "    print(\"Topic %02d: %s\" % ( topic_index+1, str_descriptor ) )"
   ]
  },
  {
   "cell_type": "code",
   "execution_count": 43,
   "metadata": {
    "ExecuteTime": {
     "end_time": "2021-05-22T03:24:10.614672Z",
     "start_time": "2021-05-22T03:24:10.582989Z"
    }
   },
   "outputs": [
    {
     "name": "stdout",
     "output_type": "stream",
     "text": [
      "Topic 01: mujer, dia, internacional, marzo, ser, trabajadora, felicidades, conmemoracion, cada, muchas, ilumina, marco, morado, mejor, conmemorar, celebrar, especial, gana, vida, sociedad\n",
      "Topic 02: miedo, crecieron, sembraron, alas, vivir, cancion, libres, exagerado, casa, corten, vivas, razon, calma, quitan, callen, existe, tiemble, cielos, judiciales, volver\n",
      "Topic 03: buen, recordar, video, dia, hoy, creo, momento, manifestantes, indicaciones, difunden, dando, zocalo, protestas, hombre, estremece, capitulo, rompieron, muestra, piedras, autoridades\n",
      "Topic 04: mujeres, violencia, derechos, luchando, pais, hombres, mexico, seguras, historia, feminista, igualdad, mexicanas, genero, vida, policias, ninas, grito, chingonas, gobierno, trabajo\n",
      "Topic 05: escobedo, marisela, hija, olvidemos, enfrento, lucho, impune, asesinada, narcos, feminicida, gobernador, quedo, red, hizo, feminicidio, gobierno, frente, nunca, palacio, criando\n",
      "Topic 06: todas, vos, faltan, luchamos, mama, partio, corazon, memoria, aquellas, juntas, felicidades, companeras, solas, anduvieramos, vinimos, dijeron, tocan, calle, respondemos, fuerza\n",
      "Topic 07: oirlo, cansas, vivirlo, escucharlo, formosenas, admirable, exige, cansado, coraje, toca, argentina, caminar, cansados, vivir, lado, junto, libertad, vos, cansan, cada\n",
      "Topic 08: nacional, palacio, ojos, gas, lacrimogeno, florecitas, metieron, llorando, muchas, arrojado, vomito, imposibilidad, respirar, ardor, cara, cuerpo, manifestantes, policias, muro, francotiradores\n",
      "Topic 09: cambiando, mundo, reconocimiento, mujeres, iguales, mejor, libres, humanamente, socialmente, totalmente, diferentes, luxemburgo, rosa, queremos, igualitario, prados, florecen, violetas, palabras, recordemos\n",
      "Topic 10: imagen, vuelta, dara, mira, mundo, sirvieron, mejor, pinche, dicho, vallas, foto, entero, mexico, maravilla, olvido, agregar, hipocritas, fotografia, darle, dice\n",
      "Topic 11: ano, mucha, redes, cabreadisimo, aclararlo, ofenderse, rulando, olvidaba, molesto, ponia, guardia, estudia, verdad, hablo, mando, solo, vaya, gente, pasado, civil\n",
      "Topic 12: asi, empezo, termino, hombres, anduvieramos, vinimos, dijeron, solas, luce, zocalo, cdmx, periodista, realizaba, noche, detencion, rumbo, dejaron, miguel, performance, feminista\n",
      "Topic 13: hoy, lucha, gracias, dias, hace, ano, conmemora, viva, voz, aquellas, derechos, reconocemos, ser, celebra, encabezan, igualdad, manana, marzo, feminista, celebramos\n",
      "Topic 14: feliz, dia, legal, aborto, logro, primer, nadie, dejen, matarnos, aquellas, decime, haga, paren, desaparecernos, hermanas, justicia, reinas, guapas, callen, calladitas\n",
      "Topic 15: siempre, juntas, libres, miedo, fuertes, hoy, manana, vivas, amor, nunca, ser, ayer, llevo, queremos, somo, fuegos, apaguen, todas, hermanas, ahora\n",
      "Topic 16: metro, hidalgo, leslie, perez, lopez, marcha, cobertura, sashenka, gutierrez, gabriela, esquivel, graciela, cdmx, policia, miguel, detencion, realizaba, periodista, obrador, cubriendo\n",
      "Topic 17: vallas, fotos, victimas, nombres, imagenes, pintaron, lean, todxs, hice, cada, nacional, palacio, feminicidio, frente, mujeres, muro, denuncias, presencia, arriba, colocadas\n",
      "Topic 18: feminismo, igualdad, recordad, queremos, primero, vivas, nadie, machismo, cada, mata, hace, derecha, libres, derechos, dia, incluye, respeto, molesta, veis, manifestaciones\n",
      "Topic 19: falte, ninguna, ser, dia, feliz, podamos, tranquilas, salir, calle, subordinar, terminen, movilizar, deje, quiero, femicidios, ultima, manana, miedo, pidieron, gana\n",
      "Topic 20: vamos, nunca, bien, perdonar, olvidar, vean, foto, feminista, callar, historia, presidente, dicho, aqui, tirar, miren, cuida, caer, sirvieron, necesitamos, contexto\n"
     ]
    }
   ],
   "source": [
    "for topic_index in range(k):\n",
    "    descriptor = get_descriptor( terms, H, topic_index, 20)\n",
    "    str_descriptor = \", \".join( descriptor )\n",
    "    print(\"Topic %02d: %s\" % ( topic_index+1, str_descriptor ) )"
   ]
  },
  {
   "cell_type": "code",
   "execution_count": null,
   "metadata": {},
   "outputs": [],
   "source": []
  }
 ],
 "metadata": {
  "@webio": {
   "lastCommId": null,
   "lastKernelId": null
  },
  "kernelspec": {
   "display_name": "Python 3",
   "language": "python",
   "name": "python3"
  },
  "language_info": {
   "codemirror_mode": {
    "name": "ipython",
    "version": 3
   },
   "file_extension": ".py",
   "mimetype": "text/x-python",
   "name": "python",
   "nbconvert_exporter": "python",
   "pygments_lexer": "ipython3",
   "version": "3.7.7"
  },
  "toc": {
   "base_numbering": 1,
   "nav_menu": {
    "height": "91px",
    "width": "373px"
   },
   "number_sections": true,
   "sideBar": true,
   "skip_h1_title": false,
   "title_cell": "Table of Contents",
   "title_sidebar": "Contents",
   "toc_cell": false,
   "toc_position": {
    "height": "557px",
    "left": "22px",
    "top": "170px",
    "width": "288px"
   },
   "toc_section_display": true,
   "toc_window_display": true
  }
 },
 "nbformat": 4,
 "nbformat_minor": 4
}
