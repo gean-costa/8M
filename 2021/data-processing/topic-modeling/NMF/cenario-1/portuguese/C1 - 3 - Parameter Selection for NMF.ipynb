{
 "cells": [
  {
   "cell_type": "markdown",
   "metadata": {},
   "source": [
    "# Parameter Selection for NMF"
   ]
  },
  {
   "cell_type": "markdown",
   "metadata": {},
   "source": [
    "Now we look at the more advanced task of parameter selection for NMF topic modelling - namely, selecting a useful value for the number of topics *k*."
   ]
  },
  {
   "cell_type": "markdown",
   "metadata": {},
   "source": [
    "First, let's load the TF-IDF normalised document-term matrix and list of terms that we stored earlier using *Joblib*:"
   ]
  },
  {
   "cell_type": "code",
   "execution_count": 1,
   "metadata": {
    "ExecuteTime": {
     "end_time": "2021-05-22T02:49:37.147732Z",
     "start_time": "2021-05-22T02:49:36.618150Z"
    }
   },
   "outputs": [
    {
     "name": "stdout",
     "output_type": "stream",
     "text": [
      "Loaded 124203 X 5227 document-term matrix\n"
     ]
    }
   ],
   "source": [
    "import joblib\n",
    "\n",
    "(A, terms, snippets) = joblib.load(\"cenario1-tweets-tfidf.pkl\")\n",
    "\n",
    "print(\"Loaded %d X %d document-term matrix\" % (A.shape[0], A.shape[1]))"
   ]
  },
  {
   "cell_type": "markdown",
   "metadata": {},
   "source": [
    "### Create the Topic Models"
   ]
  },
  {
   "cell_type": "markdown",
   "metadata": {},
   "source": [
    "A common approach for parameter selection is to Measure and compare the topic coherence of models generated for different values of *k*."
   ]
  },
  {
   "cell_type": "markdown",
   "metadata": {},
   "source": [
    "We need to start by pre-specifying an initial range of \"sensible\" values:"
   ]
  },
  {
   "cell_type": "code",
   "execution_count": 2,
   "metadata": {
    "ExecuteTime": {
     "end_time": "2021-05-22T02:49:37.151886Z",
     "start_time": "2021-05-22T02:49:37.149457Z"
    }
   },
   "outputs": [],
   "source": [
    "kmin, kmax = 5, 20"
   ]
  },
  {
   "cell_type": "markdown",
   "metadata": {},
   "source": [
    "Apply NMF for each of these values:"
   ]
  },
  {
   "cell_type": "code",
   "execution_count": 3,
   "metadata": {
    "ExecuteTime": {
     "end_time": "2021-05-22T02:50:09.086072Z",
     "start_time": "2021-05-22T02:49:37.153554Z"
    }
   },
   "outputs": [
    {
     "name": "stdout",
     "output_type": "stream",
     "text": [
      "Applying NMF for k=5 ...\n",
      "Applying NMF for k=10 ...\n",
      "Applying NMF for k=15 ...\n",
      "Applying NMF for k=20 ...\n"
     ]
    }
   ],
   "source": [
    "from sklearn import decomposition\n",
    "\n",
    "topic_models = []\n",
    "\n",
    "# try each value of k\n",
    "for k in range(kmin, kmax + 1, 5):\n",
    "    print(\"Applying NMF for k=%d ...\" % k)\n",
    "    # run NMF\n",
    "    model = decomposition.NMF(init=\"nndsvd\", n_components=k)\n",
    "    W = model.fit_transform(A)\n",
    "    H = model.components_\n",
    "    # store for later\n",
    "    topic_models.append((k, W, H))"
   ]
  },
  {
   "cell_type": "markdown",
   "metadata": {},
   "source": [
    "### Build a Word Embedding"
   ]
  },
  {
   "cell_type": "markdown",
   "metadata": {},
   "source": [
    "To select the number of topics, here we will use a *topic coherence* measure called TC-W2V. This measure relies on the use of a *word embedding* model constructed from our corpus. So in this step we will use the *Gensim* implementation of Word2Vec to build a Word2Vec model based on our collection of news articles."
   ]
  },
  {
   "cell_type": "markdown",
   "metadata": {},
   "source": [
    "**Note:** If you want to skip this step, a pre-built Word2Vec model for the sample dataset [is also provided here for download](http://erdos.ucd.ie/files/pydata/w2v-model.bin) (71MB)."
   ]
  },
  {
   "cell_type": "markdown",
   "metadata": {},
   "source": [
    "We read the documents from the input file again:"
   ]
  },
  {
   "cell_type": "code",
   "execution_count": 4,
   "metadata": {
    "ExecuteTime": {
     "end_time": "2021-05-22T02:50:09.209722Z",
     "start_time": "2021-05-22T02:50:09.088243Z"
    }
   },
   "outputs": [
    {
     "name": "stdout",
     "output_type": "stream",
     "text": [
      "Read 124203 raw text documents\n"
     ]
    }
   ],
   "source": [
    "import os.path\n",
    "\n",
    "raw_documents = []\n",
    "\n",
    "with open(os.path.join(\"../../././../../../data-pre-processing/2csv/cenario1_8M2021_tweets_pt.txt\"), \"r\") as fin:\n",
    "    for line in fin.readlines():\n",
    "        raw_documents.append(line.strip().lower())\n",
    "\n",
    "print(\"Read %d raw text documents\" % len(raw_documents))"
   ]
  },
  {
   "cell_type": "markdown",
   "metadata": {},
   "source": [
    "Read the custom stopword list:"
   ]
  },
  {
   "cell_type": "code",
   "execution_count": 5,
   "metadata": {
    "ExecuteTime": {
     "end_time": "2021-05-22T02:50:09.217023Z",
     "start_time": "2021-05-22T02:50:09.211570Z"
    }
   },
   "outputs": [
    {
     "name": "stdout",
     "output_type": "stream",
     "text": [
      "Stopword list has 231 entries\n"
     ]
    }
   ],
   "source": [
    "custom_stop_words = []\n",
    "\n",
    "with open(\"portuguese.txt\", \"r\") as fin:\n",
    "    for line in fin.readlines():\n",
    "        custom_stop_words.append(line.strip().lower())\n",
    "\n",
    "# note that we need to make it hashable\n",
    "print(\"Stopword list has %d entries\" % len(custom_stop_words))"
   ]
  },
  {
   "cell_type": "markdown",
   "metadata": {},
   "source": [
    "First, we need to define a class that will generate documents in a form that can be consumed by Gensim's Word2Vec implementation:"
   ]
  },
  {
   "cell_type": "code",
   "execution_count": 6,
   "metadata": {
    "ExecuteTime": {
     "end_time": "2021-05-22T02:50:09.227562Z",
     "start_time": "2021-05-22T02:50:09.219931Z"
    }
   },
   "outputs": [],
   "source": [
    "import re\n",
    "\n",
    "\n",
    "class TokenGenerator:\n",
    "    def __init__(self, documents, stopwords):\n",
    "        self.documents = documents\n",
    "        self.stopwords = stopwords\n",
    "        self.tokenizer = re.compile(r\"(?u)\\b\\w\\w+\\b\")\n",
    "\n",
    "    def __iter__(self):\n",
    "        print(\"Building Word2Vec model ...\")\n",
    "        for doc in self.documents:\n",
    "            tokens = []\n",
    "            for tok in self.tokenizer.findall(doc):\n",
    "                if tok in self.stopwords:\n",
    "                    tokens.append(\"<stopword>\")\n",
    "                elif len(tok) >= 2:\n",
    "                    tokens.append(tok)\n",
    "            yield tokens"
   ]
  },
  {
   "cell_type": "markdown",
   "metadata": {},
   "source": [
    "Now build a Skipgram Word2Vec model from all documents in the input file using *Gensim*:"
   ]
  },
  {
   "cell_type": "code",
   "execution_count": 7,
   "metadata": {
    "ExecuteTime": {
     "end_time": "2021-05-22T02:50:09.443845Z",
     "start_time": "2021-05-22T02:50:09.229771Z"
    }
   },
   "outputs": [],
   "source": [
    "import gensim"
   ]
  },
  {
   "cell_type": "code",
   "execution_count": 8,
   "metadata": {
    "ExecuteTime": {
     "end_time": "2021-05-22T02:50:58.026240Z",
     "start_time": "2021-05-22T02:50:09.445440Z"
    }
   },
   "outputs": [
    {
     "name": "stdout",
     "output_type": "stream",
     "text": [
      "Building Word2Vec model ...\n",
      "Building Word2Vec model ...\n",
      "Building Word2Vec model ...\n",
      "Building Word2Vec model ...\n",
      "Building Word2Vec model ...\n",
      "Building Word2Vec model ...\n"
     ]
    }
   ],
   "source": [
    "docgen = TokenGenerator(raw_documents, custom_stop_words)\n",
    "\n",
    "# the model has 500 dimensions, the minimum document-term frequency is 20\n",
    "w2v_model = gensim.models.Word2Vec(docgen, size=500, min_count=20, sg=1)"
   ]
  },
  {
   "cell_type": "code",
   "execution_count": 9,
   "metadata": {
    "ExecuteTime": {
     "end_time": "2021-05-22T02:50:58.030591Z",
     "start_time": "2021-05-22T02:50:58.027550Z"
    }
   },
   "outputs": [
    {
     "name": "stdout",
     "output_type": "stream",
     "text": [
      "Model has 5297 terms\n"
     ]
    }
   ],
   "source": [
    "print( \"Model has %d terms\" % len(w2v_model.wv.vocab) )"
   ]
  },
  {
   "cell_type": "markdown",
   "metadata": {},
   "source": [
    "Save for later use, so that we do not need to rebuild it:"
   ]
  },
  {
   "cell_type": "code",
   "execution_count": 10,
   "metadata": {
    "ExecuteTime": {
     "end_time": "2021-05-22T02:50:58.262478Z",
     "start_time": "2021-05-22T02:50:58.032477Z"
    }
   },
   "outputs": [],
   "source": [
    "w2v_model.save(\"cenario1_w2v-model.bin\")"
   ]
  },
  {
   "cell_type": "code",
   "execution_count": 11,
   "metadata": {
    "ExecuteTime": {
     "end_time": "2021-05-22T02:50:58.265786Z",
     "start_time": "2021-05-22T02:50:58.263814Z"
    }
   },
   "outputs": [],
   "source": [
    "# To re-load this model, run\n",
    "# w2v_model = gensim.models.Word2Vec.load(\"cenario1_w2v-model.bin\")"
   ]
  },
  {
   "cell_type": "markdown",
   "metadata": {},
   "source": [
    "### Selecting the Number of Topics"
   ]
  },
  {
   "cell_type": "markdown",
   "metadata": {},
   "source": [
    "Once we have our Word2vec model, we can use it as part of our *topic coherence* approach to evaluate the different NMF topic models that we created previously. To do this, we will implement a simple version of the TC-W2V coherence measure."
   ]
  },
  {
   "cell_type": "markdown",
   "metadata": {},
   "source": [
    "We use the Word2vec model to calculate coherence scores for each of these models. We will define this coherence score as follows:"
   ]
  },
  {
   "cell_type": "code",
   "execution_count": 12,
   "metadata": {
    "ExecuteTime": {
     "end_time": "2021-05-22T02:50:58.276109Z",
     "start_time": "2021-05-22T02:50:58.267691Z"
    }
   },
   "outputs": [],
   "source": [
    "def calculate_coherence(w2v_model, term_rankings):\n",
    "    overall_coherence = 0.0\n",
    "    \n",
    "    for topic_index in range(len(term_rankings)):\n",
    "        # check each pair of terms\n",
    "        pair_scores = []\n",
    "        for pair in combinations(term_rankings[topic_index], 2):\n",
    "            pair_scores.append(w2v_model.similarity(pair[0], pair[1]))\n",
    "        # get the mean for all pairs in this topic\n",
    "        topic_score = sum(pair_scores) / len(pair_scores)\n",
    "        overall_coherence += topic_score\n",
    "    \n",
    "    # get the mean score across all topics\n",
    "    return overall_coherence / len(term_rankings)"
   ]
  },
  {
   "cell_type": "markdown",
   "metadata": {},
   "source": [
    "We also define a function to get the topic descriptor (i.e. list of top terms) for each topic:"
   ]
  },
  {
   "cell_type": "code",
   "execution_count": 13,
   "metadata": {
    "ExecuteTime": {
     "end_time": "2021-05-22T02:50:58.286125Z",
     "start_time": "2021-05-22T02:50:58.277495Z"
    }
   },
   "outputs": [],
   "source": [
    "import numpy as np\n",
    "\n",
    "\n",
    "def get_descriptor(all_terms, H, topic_index, top):\n",
    "    # reverse sort the values to sort the indices\n",
    "    top_indices = np.argsort(H[topic_index, :])[::-1]\n",
    "    \n",
    "    # now get the terms corresponding to the top-ranked indices\n",
    "    top_terms = []\n",
    "    \n",
    "    for term_index in top_indices[0:top]:\n",
    "        top_terms.append(all_terms[term_index])\n",
    "    \n",
    "    return top_terms"
   ]
  },
  {
   "cell_type": "markdown",
   "metadata": {},
   "source": [
    "Now process each of the models for different values of *k*:"
   ]
  },
  {
   "cell_type": "markdown",
   "metadata": {},
   "source": [
    "# 5"
   ]
  },
  {
   "cell_type": "code",
   "execution_count": 14,
   "metadata": {
    "ExecuteTime": {
     "end_time": "2021-05-22T02:50:58.354648Z",
     "start_time": "2021-05-22T02:50:58.287396Z"
    }
   },
   "outputs": [
    {
     "name": "stdout",
     "output_type": "stream",
     "text": [
      "K=05: Coherence=0.5130\n",
      "K=10: Coherence=0.5044\n",
      "K=15: Coherence=0.4540\n",
      "K=20: Coherence=0.4639\n"
     ]
    },
    {
     "name": "stderr",
     "output_type": "stream",
     "text": [
      "/home/gean/anaconda3/lib/python3.7/site-packages/ipykernel_launcher.py:8: DeprecationWarning: Call to deprecated `similarity` (Method will be removed in 4.0.0, use self.wv.similarity() instead).\n",
      "  \n"
     ]
    }
   ],
   "source": [
    "from itertools import combinations\n",
    "\n",
    "k_values = []\n",
    "coherences = []\n",
    "\n",
    "for (k, W, H) in topic_models:\n",
    "    # Get all of the topic descriptors - the term_rankings, based on top 10 terms\n",
    "    term_rankings = []\n",
    "    \n",
    "    for topic_index in range(k):\n",
    "        term_rankings.append(get_descriptor(terms, H, topic_index, 5))\n",
    "    \n",
    "    # Now calculate the coherence based on our Word2vec model\n",
    "    k_values.append(k)\n",
    "    coherences.append(calculate_coherence(w2v_model, term_rankings))\n",
    "    \n",
    "    print(\"K=%02d: Coherence=%.4f\" % (k, coherences[-1]))\n",
    "    # print(f'{coherences[-1]:.4f}')"
   ]
  },
  {
   "cell_type": "markdown",
   "metadata": {},
   "source": [
    "We can now use *matplotlib* to generate a line plot of these coherence scores, to help us select an appropriate value."
   ]
  },
  {
   "cell_type": "code",
   "execution_count": 15,
   "metadata": {
    "ExecuteTime": {
     "end_time": "2021-05-22T02:50:58.587919Z",
     "start_time": "2021-05-22T02:50:58.355951Z"
    }
   },
   "outputs": [],
   "source": [
    "%matplotlib inline\n",
    "import matplotlib\n",
    "import matplotlib.pyplot as plt\n",
    "\n",
    "plt.style.use(\"ggplot\")\n",
    "matplotlib.rcParams.update({\"font.size\": 14})"
   ]
  },
  {
   "cell_type": "code",
   "execution_count": 16,
   "metadata": {
    "ExecuteTime": {
     "end_time": "2021-05-22T02:50:58.767744Z",
     "start_time": "2021-05-22T02:50:58.589257Z"
    }
   },
   "outputs": [
    {
     "data": {
      "image/png": "[encoded data removed]",
      "text/plain": [
       "<Figure size 936x504 with 1 Axes>"
      ]
     },
     "metadata": {},
     "output_type": "display_data"
    }
   ],
   "source": [
    "fig = plt.figure(figsize=(13,7))\n",
    "\n",
    "# create the line plot\n",
    "ax = plt.plot( k_values, coherences )\n",
    "plt.xticks(k_values)\n",
    "plt.xlabel(\"Number of Topics\")\n",
    "plt.ylabel(\"Mean Coherence\")\n",
    "\n",
    "# add the points\n",
    "plt.scatter( k_values, coherences, s=120)\n",
    "\n",
    "\n",
    "# find and annotate the maximum point on the plot\n",
    "ymax = max(coherences)\n",
    "xpos = coherences.index(ymax)\n",
    "best_k = k_values[xpos]\n",
    "plt.annotate( \"k=%d\" % best_k, xy=(best_k, ymax), xytext=(best_k, ymax), textcoords=\"offset points\", fontsize=16)\n",
    "\n",
    "# show the plot\n",
    "plt.show()"
   ]
  },
  {
   "cell_type": "markdown",
   "metadata": {},
   "source": [
    "# 10"
   ]
  },
  {
   "cell_type": "code",
   "execution_count": 17,
   "metadata": {
    "ExecuteTime": {
     "end_time": "2021-05-22T02:50:58.866105Z",
     "start_time": "2021-05-22T02:50:58.769037Z"
    }
   },
   "outputs": [
    {
     "name": "stdout",
     "output_type": "stream",
     "text": [
      "K=05: Coherence=0.4500\n",
      "K=10: Coherence=0.4353\n",
      "K=15: Coherence=0.4230\n",
      "K=20: Coherence=0.4341\n"
     ]
    },
    {
     "name": "stderr",
     "output_type": "stream",
     "text": [
      "/home/gean/anaconda3/lib/python3.7/site-packages/ipykernel_launcher.py:8: DeprecationWarning: Call to deprecated `similarity` (Method will be removed in 4.0.0, use self.wv.similarity() instead).\n",
      "  \n"
     ]
    }
   ],
   "source": [
    "from itertools import combinations\n",
    "\n",
    "k_values = []\n",
    "coherences = []\n",
    "\n",
    "for (k, W, H) in topic_models:\n",
    "    # Get all of the topic descriptors - the term_rankings, based on top 10 terms\n",
    "    term_rankings = []\n",
    "    \n",
    "    for topic_index in range(k):\n",
    "        term_rankings.append(get_descriptor(terms, H, topic_index, 10))\n",
    "    \n",
    "    # Now calculate the coherence based on our Word2vec model\n",
    "    k_values.append(k)\n",
    "    coherences.append(calculate_coherence(w2v_model, term_rankings))\n",
    "    \n",
    "    print(\"K=%02d: Coherence=%.4f\" % (k, coherences[-1]))\n",
    "    # print(f'{coherences[-1]:.4f}')"
   ]
  },
  {
   "cell_type": "code",
   "execution_count": 18,
   "metadata": {
    "ExecuteTime": {
     "end_time": "2021-05-22T02:50:59.038116Z",
     "start_time": "2021-05-22T02:50:58.867363Z"
    }
   },
   "outputs": [
    {
     "data": {
      "image/png": "[encoded data removed]",
      "text/plain": [
       "<Figure size 936x504 with 1 Axes>"
      ]
     },
     "metadata": {},
     "output_type": "display_data"
    }
   ],
   "source": [
    "fig = plt.figure(figsize=(13,7))\n",
    "\n",
    "# create the line plot\n",
    "ax = plt.plot( k_values, coherences )\n",
    "plt.xticks(k_values)\n",
    "plt.xlabel(\"Number of Topics\")\n",
    "plt.ylabel(\"Mean Coherence\")\n",
    "\n",
    "# add the points\n",
    "plt.scatter( k_values, coherences, s=120)\n",
    "\n",
    "\n",
    "# find and annotate the maximum point on the plot\n",
    "ymax = max(coherences)\n",
    "xpos = coherences.index(ymax)\n",
    "best_k = k_values[xpos]\n",
    "plt.annotate( \"k=%d\" % best_k, xy=(best_k, ymax), xytext=(best_k, ymax), textcoords=\"offset points\", fontsize=16)\n",
    "\n",
    "# show the plot\n",
    "plt.show()"
   ]
  },
  {
   "cell_type": "markdown",
   "metadata": {},
   "source": [
    "# 15 "
   ]
  },
  {
   "cell_type": "code",
   "execution_count": 19,
   "metadata": {
    "ExecuteTime": {
     "end_time": "2021-05-22T02:50:59.238591Z",
     "start_time": "2021-05-22T02:50:59.039446Z"
    }
   },
   "outputs": [
    {
     "name": "stdout",
     "output_type": "stream",
     "text": [
      "K=05: Coherence=0.4026\n",
      "K=10: Coherence=0.3760\n",
      "K=15: Coherence=0.3687\n",
      "K=20: Coherence=0.3748\n"
     ]
    },
    {
     "name": "stderr",
     "output_type": "stream",
     "text": [
      "/home/gean/anaconda3/lib/python3.7/site-packages/ipykernel_launcher.py:8: DeprecationWarning: Call to deprecated `similarity` (Method will be removed in 4.0.0, use self.wv.similarity() instead).\n",
      "  \n"
     ]
    }
   ],
   "source": [
    "from itertools import combinations\n",
    "\n",
    "k_values = []\n",
    "coherences = []\n",
    "\n",
    "for (k, W, H) in topic_models:\n",
    "    # Get all of the topic descriptors - the term_rankings, based on top 10 terms\n",
    "    term_rankings = []\n",
    "    \n",
    "    for topic_index in range(k):\n",
    "        term_rankings.append(get_descriptor(terms, H, topic_index, 15))\n",
    "    \n",
    "    # Now calculate the coherence based on our Word2vec model\n",
    "    k_values.append(k)\n",
    "    coherences.append(calculate_coherence(w2v_model, term_rankings))\n",
    "    \n",
    "    print(\"K=%02d: Coherence=%.4f\" % (k, coherences[-1]))\n",
    "    # print(f'{coherences[-1]:.4f}')"
   ]
  },
  {
   "cell_type": "code",
   "execution_count": 20,
   "metadata": {
    "ExecuteTime": {
     "end_time": "2021-05-22T02:50:59.413358Z",
     "start_time": "2021-05-22T02:50:59.241697Z"
    }
   },
   "outputs": [
    {
     "data": {
      "image/png": "[encoded data removed]",
      "text/plain": [
       "<Figure size 936x504 with 1 Axes>"
      ]
     },
     "metadata": {},
     "output_type": "display_data"
    }
   ],
   "source": [
    "fig = plt.figure(figsize=(13,7))\n",
    "\n",
    "# create the line plot\n",
    "ax = plt.plot( k_values, coherences )\n",
    "plt.xticks(k_values)\n",
    "plt.xlabel(\"Number of Topics\")\n",
    "plt.ylabel(\"Mean Coherence\")\n",
    "\n",
    "# add the points\n",
    "plt.scatter( k_values, coherences, s=120)\n",
    "\n",
    "\n",
    "# find and annotate the maximum point on the plot\n",
    "ymax = max(coherences)\n",
    "xpos = coherences.index(ymax)\n",
    "best_k = k_values[xpos]\n",
    "plt.annotate( \"k=%d\" % best_k, xy=(best_k, ymax), xytext=(best_k, ymax), textcoords=\"offset points\", fontsize=16)\n",
    "\n",
    "# show the plot\n",
    "plt.show()"
   ]
  },
  {
   "cell_type": "markdown",
   "metadata": {},
   "source": [
    "# 20"
   ]
  },
  {
   "cell_type": "code",
   "execution_count": 21,
   "metadata": {
    "ExecuteTime": {
     "end_time": "2021-05-22T02:50:59.753277Z",
     "start_time": "2021-05-22T02:50:59.415019Z"
    }
   },
   "outputs": [
    {
     "name": "stderr",
     "output_type": "stream",
     "text": [
      "/home/gean/anaconda3/lib/python3.7/site-packages/ipykernel_launcher.py:8: DeprecationWarning: Call to deprecated `similarity` (Method will be removed in 4.0.0, use self.wv.similarity() instead).\n",
      "  \n"
     ]
    },
    {
     "name": "stdout",
     "output_type": "stream",
     "text": [
      "K=05: Coherence=0.3440\n",
      "K=10: Coherence=0.3434\n",
      "K=15: Coherence=0.3381\n",
      "K=20: Coherence=0.3411\n"
     ]
    }
   ],
   "source": [
    "from itertools import combinations\n",
    "\n",
    "k_values = []\n",
    "coherences = []\n",
    "\n",
    "for (k, W, H) in topic_models:\n",
    "    # Get all of the topic descriptors - the term_rankings, based on top 10 terms\n",
    "    term_rankings = []\n",
    "    \n",
    "    for topic_index in range(k):\n",
    "        term_rankings.append(get_descriptor(terms, H, topic_index, 20))\n",
    "    \n",
    "    # Now calculate the coherence based on our Word2vec model\n",
    "    k_values.append(k)\n",
    "    coherences.append(calculate_coherence(w2v_model, term_rankings))\n",
    "    \n",
    "    print(\"K=%02d: Coherence=%.4f\" % (k, coherences[-1]))\n",
    "    # print(f'{coherences[-1]:.4f}')"
   ]
  },
  {
   "cell_type": "code",
   "execution_count": 22,
   "metadata": {
    "ExecuteTime": {
     "end_time": "2021-05-22T02:50:59.928516Z",
     "start_time": "2021-05-22T02:50:59.754680Z"
    }
   },
   "outputs": [
    {
     "data": {
      "image/png": "[encoded data removed]",
      "text/plain": [
       "<Figure size 936x504 with 1 Axes>"
      ]
     },
     "metadata": {},
     "output_type": "display_data"
    }
   ],
   "source": [
    "fig = plt.figure(figsize=(13,7))\n",
    "\n",
    "# create the line plot\n",
    "ax = plt.plot( k_values, coherences )\n",
    "plt.xticks(k_values)\n",
    "plt.xlabel(\"Number of Topics\")\n",
    "plt.ylabel(\"Mean Coherence\")\n",
    "\n",
    "# add the points\n",
    "plt.scatter( k_values, coherences, s=120)\n",
    "\n",
    "\n",
    "# find and annotate the maximum point on the plot\n",
    "ymax = max(coherences)\n",
    "xpos = coherences.index(ymax)\n",
    "best_k = k_values[xpos]\n",
    "plt.annotate( \"k=%d\" % best_k, xy=(best_k, ymax), xytext=(best_k, ymax), textcoords=\"offset points\", fontsize=16)\n",
    "\n",
    "# show the plot\n",
    "plt.show()"
   ]
  },
  {
   "cell_type": "markdown",
   "metadata": {},
   "source": [
    "### Examine the Final  Model"
   ]
  },
  {
   "cell_type": "markdown",
   "metadata": {},
   "source": [
    "The plot above suggests that the most appropriate value for the number of topics is *k=8*."
   ]
  },
  {
   "cell_type": "code",
   "execution_count": 23,
   "metadata": {
    "ExecuteTime": {
     "end_time": "2021-05-22T02:50:59.932368Z",
     "start_time": "2021-05-22T02:50:59.929810Z"
    }
   },
   "outputs": [],
   "source": [
    "k = 5 # best_k\n",
    "\n",
    "# get the model that we generated earlier.\n",
    "W = topic_models[0][1]\n",
    "H = topic_models[0][2]"
   ]
  },
  {
   "cell_type": "markdown",
   "metadata": {},
   "source": [
    "Display the topic descriptors for this model:"
   ]
  },
  {
   "cell_type": "code",
   "execution_count": 24,
   "metadata": {
    "ExecuteTime": {
     "end_time": "2021-05-22T02:50:59.944926Z",
     "start_time": "2021-05-22T02:50:59.934190Z"
    },
    "scrolled": true
   },
   "outputs": [
    {
     "name": "stdout",
     "output_type": "stream",
     "text": [
      "Topic 01: feliz, dia, mulher, internacional, mulheres\n",
      "Topic 02: mulher, compromissos, declaracao, assinaram, aceitou\n",
      "Topic 03: marco, mulheres, carbonizadas, trancadas, tecelagem\n",
      "Topic 04: lindo, sisters, avancarem, cenas, fechamos\n",
      "Topic 05: god, woman, fazendo, continuar, vamos\n"
     ]
    }
   ],
   "source": [
    "for topic_index in range(k):\n",
    "    descriptor = get_descriptor( terms, H, topic_index, 5)\n",
    "    str_descriptor = \", \".join( descriptor )\n",
    "    print(\"Topic %02d: %s\" % ( topic_index+1, str_descriptor ) )"
   ]
  },
  {
   "cell_type": "code",
   "execution_count": 25,
   "metadata": {
    "ExecuteTime": {
     "end_time": "2021-05-22T02:50:59.954811Z",
     "start_time": "2021-05-22T02:50:59.946336Z"
    }
   },
   "outputs": [
    {
     "name": "stdout",
     "output_type": "stream",
     "text": [
      "Topic 01: feliz, dia, mulher, internacional, mulheres, hoje, lula, marco, mae, parabens\n",
      "Topic 02: mulher, compromissos, declaracao, assinaram, aceitou, assinar, assume, paises, humanos, onu\n",
      "Topic 03: marco, mulheres, carbonizadas, trancadas, tecelagem, trabalhavam, declarou, estarem, morreram, aproximadamente\n",
      "Topic 04: lindo, sisters, avancarem, cenas, fechamos, apoiando, valor, sabe, inspira, video\n",
      "Topic 05: god, woman, fazendo, continuar, vamos, historia, mulheres, hoje, luta, queria\n"
     ]
    }
   ],
   "source": [
    "for topic_index in range(k):\n",
    "    descriptor = get_descriptor( terms, H, topic_index, 10)\n",
    "    str_descriptor = \", \".join( descriptor )\n",
    "    print(\"Topic %02d: %s\" % ( topic_index+1, str_descriptor ) )"
   ]
  },
  {
   "cell_type": "code",
   "execution_count": 26,
   "metadata": {
    "ExecuteTime": {
     "end_time": "2021-05-22T02:50:59.964236Z",
     "start_time": "2021-05-22T02:50:59.956505Z"
    }
   },
   "outputs": [
    {
     "name": "stdout",
     "output_type": "stream",
     "text": [
      "Topic 01: feliz, dia, mulher, internacional, mulheres, hoje, lula, marco, mae, parabens, fachin, especial, ser, luta, mundo\n",
      "Topic 02: mulher, compromissos, declaracao, assinaram, aceitou, assinar, assume, paises, humanos, onu, conselho, vergonha, saude, defesa, bolsonaro\n",
      "Topic 03: marco, mulheres, carbonizadas, trancadas, tecelagem, trabalhavam, declarou, estarem, morreram, aproximadamente, york, greve, fabrica, nova, onde\n",
      "Topic 04: lindo, sisters, avancarem, cenas, fechamos, apoiando, valor, sabe, inspira, video, juntas, outras, marco, mulher, lula\n",
      "Topic 05: god, woman, fazendo, continuar, vamos, historia, mulheres, hoje, luta, queria, mundo, dizer, feliz, dia, lutaram\n"
     ]
    }
   ],
   "source": [
    "for topic_index in range(k):\n",
    "    descriptor = get_descriptor( terms, H, topic_index, 15)\n",
    "    str_descriptor = \", \".join( descriptor )\n",
    "    print(\"Topic %02d: %s\" % ( topic_index+1, str_descriptor ) )"
   ]
  },
  {
   "cell_type": "code",
   "execution_count": 27,
   "metadata": {
    "ExecuteTime": {
     "end_time": "2021-05-22T02:50:59.973604Z",
     "start_time": "2021-05-22T02:50:59.965976Z"
    },
    "scrolled": true
   },
   "outputs": [
    {
     "name": "stdout",
     "output_type": "stream",
     "text": [
      "Topic 01: feliz, dia, mulher, internacional, mulheres, hoje, lula, marco, mae, parabens, fachin, especial, ser, luta, mundo, respeito, dias, afinal, boca, povo\n",
      "Topic 02: mulher, compromissos, declaracao, assinaram, aceitou, assinar, assume, paises, humanos, onu, conselho, vergonha, saude, defesa, bolsonaro, governo, direitos, brasil, internacional, dia\n",
      "Topic 03: marco, mulheres, carbonizadas, trancadas, tecelagem, trabalhavam, declarou, estarem, morreram, aproximadamente, york, greve, fabrica, nova, onde, homenagem, dia, bom, lembrar, sempre\n",
      "Topic 04: lindo, sisters, avancarem, cenas, fechamos, apoiando, valor, sabe, inspira, video, juntas, outras, marco, mulher, lula, vai, lembro, milagre, internacional, mundo\n",
      "Topic 05: god, woman, fazendo, continuar, vamos, historia, mulheres, hoje, luta, queria, mundo, dizer, feliz, dia, lutaram, fortes, melhor, lutam, parabens, tudo\n"
     ]
    }
   ],
   "source": [
    "for topic_index in range(k):\n",
    "    descriptor = get_descriptor( terms, H, topic_index, 20)\n",
    "    str_descriptor = \", \".join( descriptor )\n",
    "    print(\"Topic %02d: %s\" % ( topic_index+1, str_descriptor ) )"
   ]
  },
  {
   "cell_type": "markdown",
   "metadata": {},
   "source": [
    "# 10"
   ]
  },
  {
   "cell_type": "code",
   "execution_count": 28,
   "metadata": {
    "ExecuteTime": {
     "end_time": "2021-05-22T02:50:59.979710Z",
     "start_time": "2021-05-22T02:50:59.975323Z"
    }
   },
   "outputs": [],
   "source": [
    "k = 10 # best_k\n",
    "\n",
    "# get the model that we generated earlier.\n",
    "W = topic_models[1][1]\n",
    "H = topic_models[1][2]"
   ]
  },
  {
   "cell_type": "code",
   "execution_count": 29,
   "metadata": {
    "ExecuteTime": {
     "end_time": "2021-05-22T02:50:59.994060Z",
     "start_time": "2021-05-22T02:50:59.981520Z"
    }
   },
   "outputs": [
    {
     "name": "stdout",
     "output_type": "stream",
     "text": [
      "Topic 01: internacional, mulher, dia, lula, marco\n",
      "Topic 02: compromissos, declaracao, assinaram, aceitou, assinar\n",
      "Topic 03: marco, carbonizadas, trancadas, tecelagem, trabalhavam\n",
      "Topic 04: lindo, sisters, avancarem, cenas, fechamos\n",
      "Topic 05: feliz, dia, mulher, mulheres, woman\n",
      "Topic 06: god, woman, fazendo, continuar, vamos\n",
      "Topic 07: mulheres, luta, vida, mundo, dia\n",
      "Topic 08: marco, vai, power, tapa, uns\n",
      "Topic 09: estudio, executado, pensado, bernardes, narrativa\n",
      "Topic 10: mae, fachin, boca, afinal, povo\n"
     ]
    }
   ],
   "source": [
    "for topic_index in range(k):\n",
    "    descriptor = get_descriptor( terms, H, topic_index, 5)\n",
    "    str_descriptor = \", \".join( descriptor )\n",
    "    print(\"Topic %02d: %s\" % ( topic_index+1, str_descriptor ) )"
   ]
  },
  {
   "cell_type": "code",
   "execution_count": 30,
   "metadata": {
    "ExecuteTime": {
     "end_time": "2021-05-22T02:51:00.005515Z",
     "start_time": "2021-05-22T02:50:59.996040Z"
    }
   },
   "outputs": [
    {
     "name": "stdout",
     "output_type": "stream",
     "text": [
      "Topic 01: internacional, mulher, dia, lula, marco, hoje, parabens, especial, nordestina, ciro\n",
      "Topic 02: compromissos, declaracao, assinaram, aceitou, assinar, assume, paises, humanos, onu, conselho\n",
      "Topic 03: marco, carbonizadas, trancadas, tecelagem, trabalhavam, declarou, estarem, aproximadamente, york, morreram\n",
      "Topic 04: lindo, sisters, avancarem, cenas, fechamos, apoiando, valor, inspira, sabe, video\n",
      "Topic 05: feliz, dia, mulher, mulheres, woman, god, sangue, guerreiras, incriveis, apenas\n",
      "Topic 06: god, woman, fazendo, continuar, vamos, historia, queria, dizer, lutaram, dia\n",
      "Topic 07: mulheres, luta, vida, mundo, dia, parabens, momento, hoje, primeira, vacina\n",
      "Topic 08: marco, vai, power, tapa, uns, girl, socialista, levar, vem, milagre\n",
      "Topic 09: estudio, executado, pensado, bernardes, narrativa, saindo, correndo, fatima, manter, cara\n",
      "Topic 10: mae, fachin, boca, afinal, povo, fez, porque, inteiro, pais, lembrar\n"
     ]
    }
   ],
   "source": [
    "for topic_index in range(k):\n",
    "    descriptor = get_descriptor( terms, H, topic_index, 10)\n",
    "    str_descriptor = \", \".join( descriptor )\n",
    "    print(\"Topic %02d: %s\" % ( topic_index+1, str_descriptor ) )"
   ]
  },
  {
   "cell_type": "code",
   "execution_count": 31,
   "metadata": {
    "ExecuteTime": {
     "end_time": "2021-05-22T02:51:00.015605Z",
     "start_time": "2021-05-22T02:51:00.007294Z"
    }
   },
   "outputs": [
    {
     "name": "stdout",
     "output_type": "stream",
     "text": [
      "Topic 01: internacional, mulher, dia, lula, marco, hoje, parabens, especial, nordestina, ciro, gomes, ser, homenagem, mensagem, acao\n",
      "Topic 02: compromissos, declaracao, assinaram, aceitou, assinar, assume, paises, humanos, onu, conselho, vergonha, saude, bolsonaro, defesa, governo\n",
      "Topic 03: marco, carbonizadas, trancadas, tecelagem, trabalhavam, declarou, estarem, aproximadamente, york, morreram, greve, fabrica, nova, mulheres, onde\n",
      "Topic 04: lindo, sisters, avancarem, cenas, fechamos, apoiando, valor, inspira, sabe, video, juntas, outras, marco, mulher, lembro\n",
      "Topic 05: feliz, dia, mulher, mulheres, woman, god, sangue, guerreiras, incriveis, apenas, fodas, ces, respeito, fortes, vcs\n",
      "Topic 06: god, woman, fazendo, continuar, vamos, historia, queria, dizer, lutaram, dia, melhor, lutam, comemorar, tudo, ariana\n",
      "Topic 07: mulheres, luta, vida, mundo, dia, parabens, momento, hoje, primeira, vacina, sendo, empoderamento, presidenta, lembra, ciclo\n",
      "Topic 08: marco, vai, power, tapa, uns, girl, socialista, levar, vem, milagre, mundo, lula, compasso, salvar, aconteceu\n",
      "Topic 09: estudio, executado, pensado, bernardes, narrativa, saindo, correndo, fatima, manter, cara, programa, hoje, mulheres, emocionar, dona\n",
      "Topic 10: mae, fachin, boca, afinal, povo, fez, porque, inteiro, pais, lembrar, hoje, camilla, cala, deus, escuta\n"
     ]
    }
   ],
   "source": [
    "for topic_index in range(k):\n",
    "    descriptor = get_descriptor( terms, H, topic_index, 15)\n",
    "    str_descriptor = \", \".join( descriptor )\n",
    "    print(\"Topic %02d: %s\" % ( topic_index+1, str_descriptor ) )"
   ]
  },
  {
   "cell_type": "code",
   "execution_count": 32,
   "metadata": {
    "ExecuteTime": {
     "end_time": "2021-05-22T02:51:00.025113Z",
     "start_time": "2021-05-22T02:51:00.017259Z"
    }
   },
   "outputs": [
    {
     "name": "stdout",
     "output_type": "stream",
     "text": [
      "Topic 01: internacional, mulher, dia, lula, marco, hoje, parabens, especial, nordestina, ciro, gomes, ser, homenagem, mensagem, acao, romantico, mudaram, politico, aborto, sobre\n",
      "Topic 02: compromissos, declaracao, assinaram, aceitou, assinar, assume, paises, humanos, onu, conselho, vergonha, saude, bolsonaro, defesa, governo, direitos, brasil, mulher, internacional, dia\n",
      "Topic 03: marco, carbonizadas, trancadas, tecelagem, trabalhavam, declarou, estarem, aproximadamente, york, morreram, greve, fabrica, nova, mulheres, onde, homenagem, dia, bom, lembrar, sempre\n",
      "Topic 04: lindo, sisters, avancarem, cenas, fechamos, apoiando, valor, inspira, sabe, video, juntas, outras, marco, mulher, lembro, lula, levanta, insulta, diz, politica\n",
      "Topic 05: feliz, dia, mulher, mulheres, woman, god, sangue, guerreiras, incriveis, apenas, fodas, ces, respeito, fortes, vcs, deseja, gigante, afasta, seguidoras, distancia\n",
      "Topic 06: god, woman, fazendo, continuar, vamos, historia, queria, dizer, lutaram, dia, melhor, lutam, comemorar, tudo, ariana, mulheres, hoje, bom, diariamente, futuro\n",
      "Topic 07: mulheres, luta, vida, mundo, dia, parabens, momento, hoje, primeira, vacina, sendo, empoderamento, presidenta, lembra, ciclo, atual, interrompido, destruido, resistimos, golpe\n",
      "Topic 08: marco, vai, power, tapa, uns, girl, socialista, levar, vem, milagre, mundo, lula, compasso, salvar, aconteceu, acontecer, fica, anos, dia, dar\n",
      "Topic 09: estudio, executado, pensado, bernardes, narrativa, saindo, correndo, fatima, manter, cara, programa, hoje, mulheres, emocionar, dona, duas, fortes, liga, juliette, impossivel\n",
      "Topic 10: mae, fachin, boca, afinal, povo, fez, porque, inteiro, pais, lembrar, hoje, camilla, cala, deus, escuta, foto, ver, amor, surpresa, olhando\n"
     ]
    }
   ],
   "source": [
    "for topic_index in range(k):\n",
    "    descriptor = get_descriptor( terms, H, topic_index, 20)\n",
    "    str_descriptor = \", \".join( descriptor )\n",
    "    print(\"Topic %02d: %s\" % ( topic_index+1, str_descriptor ) )"
   ]
  },
  {
   "cell_type": "markdown",
   "metadata": {
    "ExecuteTime": {
     "end_time": "2021-05-18T01:35:40.549034Z",
     "start_time": "2021-05-18T01:35:40.547094Z"
    }
   },
   "source": [
    "# 15"
   ]
  },
  {
   "cell_type": "code",
   "execution_count": 33,
   "metadata": {
    "ExecuteTime": {
     "end_time": "2021-05-22T02:51:00.037453Z",
     "start_time": "2021-05-22T02:51:00.026780Z"
    }
   },
   "outputs": [],
   "source": [
    "k = 15 # best_k\n",
    "\n",
    "# get the model that we generated earlier.\n",
    "W = topic_models[2][1]\n",
    "H = topic_models[2][2]"
   ]
  },
  {
   "cell_type": "code",
   "execution_count": 34,
   "metadata": {
    "ExecuteTime": {
     "end_time": "2021-05-22T02:51:00.053072Z",
     "start_time": "2021-05-22T02:51:00.039112Z"
    }
   },
   "outputs": [
    {
     "name": "stdout",
     "output_type": "stream",
     "text": [
      "Topic 01: internacional, mulher, dia, hoje, homenagem\n",
      "Topic 02: compromissos, declaracao, assinaram, aceitou, assinar\n",
      "Topic 03: marco, carbonizadas, trancadas, tecelagem, trabalhavam\n",
      "Topic 04: lindo, sisters, avancarem, cenas, fechamos\n",
      "Topic 05: feliz, dia, mulher, sangue, god\n",
      "Topic 06: god, woman, fazendo, continuar, historia\n",
      "Topic 07: mulheres, dia, parabens, incriveis, dias\n",
      "Topic 08: power, tapa, uns, girl, socialista\n",
      "Topic 09: estudio, executado, pensado, bernardes, narrativa\n",
      "Topic 10: mae, fachin, boca, afinal, povo\n",
      "Topic 11: luta, vida, primeira, vacina, ciclo\n",
      "Topic 12: mundo, milagre, vai, discurso, comecar\n",
      "Topic 13: marco, lula, dia, respeito, politico\n",
      "Topic 14: amor, hoje, duas, assusta, desrespeitosas\n",
      "Topic 15: nada, agregar, festejar, celebrar, melhor\n"
     ]
    }
   ],
   "source": [
    "for topic_index in range(k):\n",
    "    descriptor = get_descriptor( terms, H, topic_index, 5)\n",
    "    str_descriptor = \", \".join( descriptor )\n",
    "    print(\"Topic %02d: %s\" % ( topic_index+1, str_descriptor ) )"
   ]
  },
  {
   "cell_type": "code",
   "execution_count": 35,
   "metadata": {
    "ExecuteTime": {
     "end_time": "2021-05-22T02:51:00.063644Z",
     "start_time": "2021-05-22T02:51:00.054494Z"
    }
   },
   "outputs": [
    {
     "name": "stdout",
     "output_type": "stream",
     "text": [
      "Topic 01: internacional, mulher, dia, hoje, homenagem, especial, parabens, nordestina, mensagem, acao\n",
      "Topic 02: compromissos, declaracao, assinaram, aceitou, assinar, assume, paises, humanos, onu, conselho\n",
      "Topic 03: marco, carbonizadas, trancadas, tecelagem, trabalhavam, declarou, estarem, aproximadamente, york, morreram\n",
      "Topic 04: lindo, sisters, avancarem, cenas, fechamos, apoiando, valor, inspira, sabe, juntas\n",
      "Topic 05: feliz, dia, mulher, sangue, god, woman, gigante, afasta, distancia, amor\n",
      "Topic 06: god, woman, fazendo, continuar, historia, vamos, queria, dizer, lutaram, melhor\n",
      "Topic 07: mulheres, dia, parabens, incriveis, dias, fortes, hoje, respeito, woman, god\n",
      "Topic 08: power, tapa, uns, girl, socialista, levar, vem, vai, marco, camisa\n",
      "Topic 09: estudio, executado, pensado, bernardes, narrativa, saindo, correndo, manter, cara, fatima\n",
      "Topic 10: mae, fachin, boca, afinal, povo, fez, porque, inteiro, pais, lembrar\n",
      "Topic 11: luta, vida, primeira, vacina, ciclo, interrompido, destruido, resistimos, lembra, golpe\n",
      "Topic 12: mundo, milagre, vai, discurso, comecar, milhares, beyonce, bem, certeza, inspiracao\n",
      "Topic 13: marco, lula, dia, respeito, politico, ainda, romantico, apenas, hoje, lembro\n",
      "Topic 14: amor, hoje, duas, assusta, desrespeitosas, brincadeiras, posicionar, tomado, cheio, exatamente\n",
      "Topic 15: nada, agregar, festejar, celebrar, melhor, ser, aqui, propria, gente, bravo\n"
     ]
    }
   ],
   "source": [
    "for topic_index in range(k):\n",
    "    descriptor = get_descriptor( terms, H, topic_index, 10)\n",
    "    str_descriptor = \", \".join( descriptor )\n",
    "    print(\"Topic %02d: %s\" % ( topic_index+1, str_descriptor ) )"
   ]
  },
  {
   "cell_type": "code",
   "execution_count": 36,
   "metadata": {
    "ExecuteTime": {
     "end_time": "2021-05-22T02:51:00.073233Z",
     "start_time": "2021-05-22T02:51:00.065049Z"
    }
   },
   "outputs": [
    {
     "name": "stdout",
     "output_type": "stream",
     "text": [
      "Topic 01: internacional, mulher, dia, hoje, homenagem, especial, parabens, nordestina, mensagem, acao, mudaram, gomes, vagina, pessoas, feminismo\n",
      "Topic 02: compromissos, declaracao, assinaram, aceitou, assinar, assume, paises, humanos, onu, conselho, vergonha, saude, bolsonaro, defesa, governo\n",
      "Topic 03: marco, carbonizadas, trancadas, tecelagem, trabalhavam, declarou, estarem, aproximadamente, york, morreram, greve, fabrica, nova, onde, mulheres\n",
      "Topic 04: lindo, sisters, avancarem, cenas, fechamos, apoiando, valor, inspira, sabe, juntas, video, outras, marco, mulher, lembro\n",
      "Topic 05: feliz, dia, mulher, sangue, god, woman, gigante, afasta, distancia, amor, guerreiras, corajosas, perfeicao, sensiveis, babys\n",
      "Topic 06: god, woman, fazendo, continuar, historia, vamos, queria, dizer, lutaram, melhor, lutam, dia, comemorar, ariana, tudo\n",
      "Topic 07: mulheres, dia, parabens, incriveis, dias, fortes, hoje, respeito, woman, god, mundo, especial, lindas, guerreiras, lutam\n",
      "Topic 08: power, tapa, uns, girl, socialista, levar, vem, vai, marco, camisa, dar, milagre, jamais, unico, hoje\n",
      "Topic 09: estudio, executado, pensado, bernardes, narrativa, saindo, correndo, manter, cara, fatima, programa, hoje, mulheres, emocionar, dona\n",
      "Topic 10: mae, fachin, boca, afinal, povo, fez, porque, inteiro, pais, lembrar, hoje, camilla, cala, foto, ver\n",
      "Topic 11: luta, vida, primeira, vacina, ciclo, interrompido, destruido, resistimos, lembra, golpe, atual, presidenta, empoderamento, sendo, momento\n",
      "Topic 12: mundo, milagre, vai, discurso, comecar, milhares, beyonce, bem, certeza, inspiracao, vamos, compasso, salvar, acontecer, aconteceu\n",
      "Topic 13: marco, lula, dia, respeito, politico, ainda, romantico, apenas, hoje, lembro, ser, ciro, ces, ano, fodas\n",
      "Topic 14: amor, hoje, duas, assusta, desrespeitosas, brincadeiras, posicionar, tomado, cheio, exatamente, momento, defesa, ainda, fortes, dona\n",
      "Topic 15: nada, agregar, festejar, celebrar, melhor, ser, aqui, propria, gente, bravo, tudo, defina, flores, hoje, sujeite\n"
     ]
    }
   ],
   "source": [
    "for topic_index in range(k):\n",
    "    descriptor = get_descriptor( terms, H, topic_index, 15)\n",
    "    str_descriptor = \", \".join( descriptor )\n",
    "    print(\"Topic %02d: %s\" % ( topic_index+1, str_descriptor ) )"
   ]
  },
  {
   "cell_type": "code",
   "execution_count": 37,
   "metadata": {
    "ExecuteTime": {
     "end_time": "2021-05-22T02:51:00.083119Z",
     "start_time": "2021-05-22T02:51:00.074704Z"
    }
   },
   "outputs": [
    {
     "name": "stdout",
     "output_type": "stream",
     "text": [
      "Topic 01: internacional, mulher, dia, hoje, homenagem, especial, parabens, nordestina, mensagem, acao, mudaram, gomes, vagina, pessoas, feminismo, ciro, sobre, aborto, chamou, fez\n",
      "Topic 02: compromissos, declaracao, assinaram, aceitou, assinar, assume, paises, humanos, onu, conselho, vergonha, saude, bolsonaro, defesa, governo, direitos, brasil, mulher, internacional, dia\n",
      "Topic 03: marco, carbonizadas, trancadas, tecelagem, trabalhavam, declarou, estarem, aproximadamente, york, morreram, greve, fabrica, nova, onde, mulheres, homenagem, dia, bom, lembrar, sempre\n",
      "Topic 04: lindo, sisters, avancarem, cenas, fechamos, apoiando, valor, inspira, sabe, juntas, video, outras, marco, mulher, lembro, levanta, nordestina, insulta, diz, politica\n",
      "Topic 05: feliz, dia, mulher, sangue, god, woman, gigante, afasta, distancia, amor, guerreiras, corajosas, perfeicao, sensiveis, babys, doces, contem, complexidade, ces, mulherada\n",
      "Topic 06: god, woman, fazendo, continuar, historia, vamos, queria, dizer, lutaram, melhor, lutam, dia, comemorar, ariana, tudo, bom, hoje, diariamente, futuro, grande\n",
      "Topic 07: mulheres, dia, parabens, incriveis, dias, fortes, hoje, respeito, woman, god, mundo, especial, lindas, guerreiras, lutam, igualdade, ser, vida, forca, contra\n",
      "Topic 08: power, tapa, uns, girl, socialista, levar, vem, vai, marco, camisa, dar, milagre, jamais, unico, hoje, rolar, ape, lulalele, redencao, escuto\n",
      "Topic 09: estudio, executado, pensado, bernardes, narrativa, saindo, correndo, manter, cara, fatima, programa, hoje, mulheres, emocionar, dona, fortes, juliette, liga, impossivel, entao\n",
      "Topic 10: mae, fachin, boca, afinal, povo, fez, porque, inteiro, pais, lembrar, hoje, camilla, cala, foto, ver, escuta, deus, surpresa, olhando, importante\n",
      "Topic 11: luta, vida, primeira, vacina, ciclo, interrompido, destruido, resistimos, lembra, golpe, atual, presidenta, empoderamento, sendo, momento, mulheres, brasil, governo, presidente, voz\n",
      "Topic 12: mundo, milagre, vai, discurso, comecar, milhares, beyonce, bem, certeza, inspiracao, vamos, compasso, salvar, acontecer, aconteceu, fica, anos, marco, necessario, melhor\n",
      "Topic 13: marco, lula, dia, respeito, politico, ainda, romantico, apenas, hoje, lembro, ser, ciro, ces, ano, fodas, sexuais, discriminacoes, conquista, mobilizacao, discutir\n",
      "Topic 14: amor, hoje, duas, assusta, desrespeitosas, brincadeiras, posicionar, tomado, cheio, exatamente, momento, defesa, ainda, fortes, dona, emocionar, juliette, liga, impossivel, entao\n",
      "Topic 15: nada, agregar, festejar, celebrar, melhor, ser, aqui, propria, gente, bravo, tudo, defina, flores, hoje, sujeite, substancia, serie, liberdade, forca, homens\n"
     ]
    }
   ],
   "source": [
    "for topic_index in range(k):\n",
    "    descriptor = get_descriptor( terms, H, topic_index, 20)\n",
    "    str_descriptor = \", \".join( descriptor )\n",
    "    print(\"Topic %02d: %s\" % ( topic_index+1, str_descriptor ) )"
   ]
  },
  {
   "cell_type": "markdown",
   "metadata": {},
   "source": [
    "# 20"
   ]
  },
  {
   "cell_type": "code",
   "execution_count": 38,
   "metadata": {
    "ExecuteTime": {
     "end_time": "2021-05-22T02:51:00.087472Z",
     "start_time": "2021-05-22T02:51:00.084639Z"
    }
   },
   "outputs": [],
   "source": [
    "k = 20 # best_k\n",
    "\n",
    "# get the model that we generated earlier.\n",
    "W = topic_models[3][1]\n",
    "H = topic_models[3][2]"
   ]
  },
  {
   "cell_type": "code",
   "execution_count": 39,
   "metadata": {
    "ExecuteTime": {
     "end_time": "2021-05-22T02:51:00.103272Z",
     "start_time": "2021-05-22T02:51:00.088884Z"
    }
   },
   "outputs": [
    {
     "name": "stdout",
     "output_type": "stream",
     "text": [
      "Topic 01: internacional, mulher, dia, nordestina, mensagem\n",
      "Topic 02: compromissos, declaracao, assinaram, aceitou, assinar\n",
      "Topic 03: marco, carbonizadas, trancadas, tecelagem, trabalhavam\n",
      "Topic 04: lindo, sisters, avancarem, cenas, fechamos\n",
      "Topic 05: feliz, dia, mulher, sangue, god\n",
      "Topic 06: god, woman, fazendo, continuar, historia\n",
      "Topic 07: mulheres, dia, parabens, incriveis, dias\n",
      "Topic 08: power, tapa, uns, girl, socialista\n",
      "Topic 09: estudio, executado, pensado, bernardes, narrativa\n",
      "Topic 10: mae, fachin, boca, afinal, povo\n",
      "Topic 11: luta, vida, vacina, ciclo, interrompido\n",
      "Topic 12: mundo, milagre, vai, discurso, comecar\n",
      "Topic 13: marco, lula, dia, apenas, respeito\n",
      "Topic 14: amor, assusta, desrespeitosas, brincadeiras, posicionar\n",
      "Topic 15: nada, agregar, festejar, celebrar, melhor\n",
      "Topic 16: ainda, acredite, ser, discutir, visto\n",
      "Topic 17: ciro, aborto, gomes, chamou, dilma\n",
      "Topic 18: hoje, dia, melhor, tudo, especial\n",
      "Topic 19: voz, dulce, rosalina, pioneirismo, pioneira\n",
      "Topic 20: dona, emocionar, fortes, impossivel, liga\n"
     ]
    }
   ],
   "source": [
    "for topic_index in range(k):\n",
    "    descriptor = get_descriptor( terms, H, topic_index, 5)\n",
    "    str_descriptor = \", \".join( descriptor )\n",
    "    print(\"Topic %02d: %s\" % ( topic_index+1, str_descriptor ) )"
   ]
  },
  {
   "cell_type": "code",
   "execution_count": 40,
   "metadata": {
    "ExecuteTime": {
     "end_time": "2021-05-22T02:51:00.114091Z",
     "start_time": "2021-05-22T02:51:00.104874Z"
    }
   },
   "outputs": [
    {
     "name": "stdout",
     "output_type": "stream",
     "text": [
      "Topic 01: internacional, mulher, dia, nordestina, mensagem, mudaram, vagina, pessoas, feminismo, parabens\n",
      "Topic 02: compromissos, declaracao, assinaram, aceitou, assinar, assume, paises, humanos, onu, conselho\n",
      "Topic 03: marco, carbonizadas, trancadas, tecelagem, trabalhavam, declarou, estarem, aproximadamente, york, morreram\n",
      "Topic 04: lindo, sisters, avancarem, cenas, fechamos, apoiando, valor, inspira, sabe, juntas\n",
      "Topic 05: feliz, dia, mulher, sangue, god, woman, guerreiras, gigante, afasta, distancia\n",
      "Topic 06: god, woman, fazendo, continuar, historia, vamos, queria, dizer, lutaram, comemorar\n",
      "Topic 07: mulheres, dia, parabens, incriveis, dias, woman, god, vida, respeito, mundo\n",
      "Topic 08: power, tapa, uns, girl, socialista, levar, vem, vai, marco, camisa\n",
      "Topic 09: estudio, executado, pensado, bernardes, narrativa, saindo, correndo, manter, cara, programa\n",
      "Topic 10: mae, fachin, boca, afinal, povo, fez, inteiro, porque, pais, lembrar\n",
      "Topic 11: luta, vida, vacina, ciclo, interrompido, destruido, resistimos, lembra, golpe, atual\n",
      "Topic 12: mundo, milagre, vai, discurso, comecar, milhares, beyonce, bem, certeza, inspiracao\n",
      "Topic 13: marco, lula, dia, apenas, respeito, lembro, politico, ces, romantico, fodas\n",
      "Topic 14: amor, assusta, desrespeitosas, brincadeiras, posicionar, tomado, exatamente, cheio, duas, momento\n",
      "Topic 15: nada, agregar, festejar, celebrar, melhor, propria, bravo, defina, gente, sujeite\n",
      "Topic 16: ainda, acredite, ser, discutir, visto, sexuais, sofridas, deve, mobilizacao, discriminacoes\n",
      "Topic 17: ciro, aborto, gomes, chamou, dilma, aqui, quero, olha, odeio, canhotada\n",
      "Topic 18: hoje, dia, melhor, tudo, especial, homenagem, lindas, politico, romantico, dias\n",
      "Topic 19: voz, dulce, rosalina, pioneirismo, pioneira, arquibancadas, futebol, espaco, torcida, tornar\n",
      "Topic 20: dona, emocionar, fortes, impossivel, liga, juliette, quer, entao, fatima, duas\n"
     ]
    }
   ],
   "source": [
    "for topic_index in range(k):\n",
    "    descriptor = get_descriptor( terms, H, topic_index, 10)\n",
    "    str_descriptor = \", \".join( descriptor )\n",
    "    print(\"Topic %02d: %s\" % ( topic_index+1, str_descriptor ) )"
   ]
  },
  {
   "cell_type": "code",
   "execution_count": 41,
   "metadata": {
    "ExecuteTime": {
     "end_time": "2021-05-22T02:51:00.124904Z",
     "start_time": "2021-05-22T02:51:00.115561Z"
    }
   },
   "outputs": [
    {
     "name": "stdout",
     "output_type": "stream",
     "text": [
      "Topic 01: internacional, mulher, dia, nordestina, mensagem, mudaram, vagina, pessoas, feminismo, parabens, homenagem, deu, continuacao, presente, show\n",
      "Topic 02: compromissos, declaracao, assinaram, aceitou, assinar, assume, paises, humanos, onu, conselho, vergonha, saude, bolsonaro, defesa, governo\n",
      "Topic 03: marco, carbonizadas, trancadas, tecelagem, trabalhavam, declarou, estarem, aproximadamente, york, morreram, greve, fabrica, nova, onde, mulheres\n",
      "Topic 04: lindo, sisters, avancarem, cenas, fechamos, apoiando, valor, inspira, sabe, juntas, video, outras, marco, mulher, lembro\n",
      "Topic 05: feliz, dia, mulher, sangue, god, woman, guerreiras, gigante, afasta, distancia, fortes, corajosas, medo, mundo, lutar\n",
      "Topic 06: god, woman, fazendo, continuar, historia, vamos, queria, dizer, lutaram, comemorar, ariana, lutam, bom, grande, lutando\n",
      "Topic 07: mulheres, dia, parabens, incriveis, dias, woman, god, vida, respeito, mundo, guerreiras, maravilhosas, contra, vcs, violencia\n",
      "Topic 08: power, tapa, uns, girl, socialista, levar, vem, vai, marco, camisa, milagre, dar, jamais, unico, rolar\n",
      "Topic 09: estudio, executado, pensado, bernardes, narrativa, saindo, correndo, manter, cara, programa, fatima, hoje, mulheres, reacao, ver\n",
      "Topic 10: mae, fachin, boca, afinal, povo, fez, inteiro, porque, pais, lembrar, cala, camilla, escuta, deus, foto\n",
      "Topic 11: luta, vida, vacina, ciclo, interrompido, destruido, resistimos, lembra, golpe, atual, presidenta, empoderamento, sendo, momento, primeira\n",
      "Topic 12: mundo, milagre, vai, discurso, comecar, milhares, beyonce, bem, certeza, inspiracao, vamos, compasso, salvar, acontecer, aconteceu\n",
      "Topic 13: marco, lula, dia, apenas, respeito, lembro, politico, ces, romantico, fodas, milagre, anos, ano, luta, governador\n",
      "Topic 14: amor, assusta, desrespeitosas, brincadeiras, posicionar, tomado, exatamente, cheio, duas, momento, defesa, hoje, mulheres, deus, cala\n",
      "Topic 15: nada, agregar, festejar, celebrar, melhor, propria, bravo, defina, gente, sujeite, substancia, serie, homens, cena, liberdade\n",
      "Topic 16: ainda, acredite, ser, discutir, visto, sexuais, sofridas, deve, mobilizacao, discriminacoes, conquista, violencias, morais, fisicas, momento\n",
      "Topic 17: ciro, aborto, gomes, chamou, dilma, aqui, quero, olha, odeio, canhotada, intriga, causar, coisas, politica, diz\n",
      "Topic 18: hoje, dia, melhor, tudo, especial, homenagem, lindas, politico, romantico, dias, sempre, futuro, lutaram, porque, lutam\n",
      "Topic 19: voz, dulce, rosalina, pioneirismo, pioneira, arquibancadas, futebol, espaco, torcida, tornar, exemplo, presidente, primeira, luta, mulheres\n",
      "Topic 20: dona, emocionar, fortes, impossivel, liga, juliette, quer, entao, fatima, duas, ver, reacao, mulheres, foto, surpresa\n"
     ]
    }
   ],
   "source": [
    "for topic_index in range(k):\n",
    "    descriptor = get_descriptor( terms, H, topic_index, 15)\n",
    "    str_descriptor = \", \".join( descriptor )\n",
    "    print(\"Topic %02d: %s\" % ( topic_index+1, str_descriptor ) )"
   ]
  },
  {
   "cell_type": "code",
   "execution_count": 42,
   "metadata": {
    "ExecuteTime": {
     "end_time": "2021-05-22T02:51:00.135691Z",
     "start_time": "2021-05-22T02:51:00.126274Z"
    }
   },
   "outputs": [
    {
     "name": "stdout",
     "output_type": "stream",
     "text": [
      "Topic 01: internacional, mulher, dia, nordestina, mensagem, mudaram, vagina, pessoas, feminismo, parabens, homenagem, deu, continuacao, presente, show, veio, miranda, mostrou, sobre, carmen\n",
      "Topic 02: compromissos, declaracao, assinaram, aceitou, assinar, assume, paises, humanos, onu, conselho, vergonha, saude, bolsonaro, defesa, governo, direitos, brasil, mulher, internacional, dia\n",
      "Topic 03: marco, carbonizadas, trancadas, tecelagem, trabalhavam, declarou, estarem, aproximadamente, york, morreram, greve, fabrica, nova, onde, mulheres, homenagem, dia, bom, lembrar, sempre\n",
      "Topic 04: lindo, sisters, avancarem, cenas, fechamos, apoiando, valor, inspira, sabe, juntas, video, outras, marco, mulher, lembro, levanta, nordestina, amo, insulta, diz\n",
      "Topic 05: feliz, dia, mulher, sangue, god, woman, guerreiras, gigante, afasta, distancia, fortes, corajosas, medo, mundo, lutar, amor, deseja, respeito, seguidoras, independentes\n",
      "Topic 06: god, woman, fazendo, continuar, historia, vamos, queria, dizer, lutaram, comemorar, ariana, lutam, bom, grande, lutando, melhor, continuam, social, vcs, dia\n",
      "Topic 07: mulheres, dia, parabens, incriveis, dias, woman, god, vida, respeito, mundo, guerreiras, maravilhosas, contra, vcs, violencia, igualdade, apenas, cada, deus, empresas\n",
      "Topic 08: power, tapa, uns, girl, socialista, levar, vem, vai, marco, camisa, milagre, dar, jamais, unico, rolar, ape, lulalele, redencao, escuto, resgate\n",
      "Topic 09: estudio, executado, pensado, bernardes, narrativa, saindo, correndo, manter, cara, programa, fatima, hoje, mulheres, reacao, ver, flagra, pego, ferrou, fujao, levou\n",
      "Topic 10: mae, fachin, boca, afinal, povo, fez, inteiro, porque, pais, lembrar, cala, camilla, escuta, deus, foto, olhando, ver, surpresa, importante, segurar\n",
      "Topic 11: luta, vida, vacina, ciclo, interrompido, destruido, resistimos, lembra, golpe, atual, presidenta, empoderamento, sendo, momento, primeira, brasil, governo, mulheres, olhando, camilla\n",
      "Topic 12: mundo, milagre, vai, discurso, comecar, milhares, beyonce, bem, certeza, inspiracao, vamos, compasso, salvar, acontecer, aconteceu, fica, anos, marco, necessario, aqui\n",
      "Topic 13: marco, lula, dia, apenas, respeito, lembro, politico, ces, romantico, fodas, milagre, anos, ano, luta, governador, gente, primeiro, video, misogino, fica\n",
      "Topic 14: amor, assusta, desrespeitosas, brincadeiras, posicionar, tomado, exatamente, cheio, duas, momento, defesa, hoje, mulheres, deus, cala, escuta, proprio, boca, afasta, feminimo\n",
      "Topic 15: nada, agregar, festejar, celebrar, melhor, propria, bravo, defina, gente, sujeite, substancia, serie, homens, cena, liberdade, flores, aqui, onde, menos, ser\n",
      "Topic 16: ainda, acredite, ser, discutir, visto, sexuais, sofridas, deve, mobilizacao, discriminacoes, conquista, violencias, morais, fisicas, momento, direitos, marco, precisarem, mestres, quero\n",
      "Topic 17: ciro, aborto, gomes, chamou, dilma, aqui, quero, olha, odeio, canhotada, intriga, causar, coisas, politica, diz, insulta, presidente, video, primeira, brasil\n",
      "Topic 18: hoje, dia, melhor, tudo, especial, homenagem, lindas, politico, romantico, dias, sempre, futuro, lutaram, porque, lutam, acao, diariamente, parabens, lembrar, fortes\n",
      "Topic 19: voz, dulce, rosalina, pioneirismo, pioneira, arquibancadas, futebol, espaco, torcida, tornar, exemplo, presidente, primeira, luta, mulheres, sobre, ter, lado, casa, anos\n",
      "Topic 20: dona, emocionar, fortes, impossivel, liga, juliette, quer, entao, fatima, duas, ver, reacao, mulheres, foto, surpresa, maravilhosa, amo, preparou, linda, ainda\n"
     ]
    }
   ],
   "source": [
    "for topic_index in range(k):\n",
    "    descriptor = get_descriptor( terms, H, topic_index, 20)\n",
    "    str_descriptor = \", \".join( descriptor )\n",
    "    print(\"Topic %02d: %s\" % ( topic_index+1, str_descriptor ) )"
   ]
  },
  {
   "cell_type": "code",
   "execution_count": null,
   "metadata": {},
   "outputs": [],
   "source": []
  }
 ],
 "metadata": {
  "@webio": {
   "lastCommId": null,
   "lastKernelId": null
  },
  "kernelspec": {
   "display_name": "Python 3",
   "language": "python",
   "name": "python3"
  },
  "language_info": {
   "codemirror_mode": {
    "name": "ipython",
    "version": 3
   },
   "file_extension": ".py",
   "mimetype": "text/x-python",
   "name": "python",
   "nbconvert_exporter": "python",
   "pygments_lexer": "ipython3",
   "version": "3.7.7"
  },
  "toc": {
   "base_numbering": 1,
   "nav_menu": {
    "height": "91px",
    "width": "373px"
   },
   "number_sections": true,
   "sideBar": true,
   "skip_h1_title": false,
   "title_cell": "Table of Contents",
   "title_sidebar": "Contents",
   "toc_cell": false,
   "toc_position": {
    "height": "557px",
    "left": "22px",
    "top": "170px",
    "width": "288px"
   },
   "toc_section_display": true,
   "toc_window_display": false
  }
 },
 "nbformat": 4,
 "nbformat_minor": 4
}
