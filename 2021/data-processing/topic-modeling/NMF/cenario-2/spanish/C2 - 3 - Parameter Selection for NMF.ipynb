{
 "cells": [
  {
   "cell_type": "markdown",
   "metadata": {},
   "source": [
    "# Parameter Selection for NMF"
   ]
  },
  {
   "cell_type": "markdown",
   "metadata": {},
   "source": [
    "Now we look at the more advanced task of parameter selection for NMF topic modelling - namely, selecting a useful value for the number of topics *k*."
   ]
  },
  {
   "cell_type": "markdown",
   "metadata": {},
   "source": [
    "First, let's load the TF-IDF normalised document-term matrix and list of terms that we stored earlier using *Joblib*:"
   ]
  },
  {
   "cell_type": "code",
   "execution_count": 1,
   "metadata": {
    "ExecuteTime": {
     "end_time": "2021-05-22T03:33:42.613929Z",
     "start_time": "2021-05-22T03:33:41.693924Z"
    }
   },
   "outputs": [
    {
     "name": "stdout",
     "output_type": "stream",
     "text": [
      "Loaded 266214 X 12137 document-term matrix\n"
     ]
    }
   ],
   "source": [
    "import joblib\n",
    "\n",
    "(A, terms, snippets) = joblib.load(\"cenario2-tweets-tfidf.pkl\")\n",
    "\n",
    "print(\"Loaded %d X %d document-term matrix\" % (A.shape[0], A.shape[1]))"
   ]
  },
  {
   "cell_type": "markdown",
   "metadata": {},
   "source": [
    "### Create the Topic Models"
   ]
  },
  {
   "cell_type": "markdown",
   "metadata": {},
   "source": [
    "A common approach for parameter selection is to Measure and compare the topic coherence of models generated for different values of *k*."
   ]
  },
  {
   "cell_type": "markdown",
   "metadata": {},
   "source": [
    "We need to start by pre-specifying an initial range of \"sensible\" values:"
   ]
  },
  {
   "cell_type": "code",
   "execution_count": 2,
   "metadata": {
    "ExecuteTime": {
     "end_time": "2021-05-22T03:33:42.617610Z",
     "start_time": "2021-05-22T03:33:42.615413Z"
    }
   },
   "outputs": [],
   "source": [
    "kmin, kmax = 5, 20"
   ]
  },
  {
   "cell_type": "markdown",
   "metadata": {},
   "source": [
    "Apply NMF for each of these values:"
   ]
  },
  {
   "cell_type": "code",
   "execution_count": 3,
   "metadata": {
    "ExecuteTime": {
     "end_time": "2021-05-22T03:34:59.360932Z",
     "start_time": "2021-05-22T03:33:42.618774Z"
    }
   },
   "outputs": [
    {
     "name": "stdout",
     "output_type": "stream",
     "text": [
      "Applying NMF for k=5 ...\n",
      "Applying NMF for k=10 ...\n",
      "Applying NMF for k=15 ...\n",
      "Applying NMF for k=20 ...\n"
     ]
    }
   ],
   "source": [
    "from sklearn import decomposition\n",
    "\n",
    "topic_models = []\n",
    "\n",
    "# try each value of k\n",
    "for k in [5,10,15,20]: #range(kmin, kmax + 1):\n",
    "    print(\"Applying NMF for k=%d ...\" % k)\n",
    "    # run NMF\n",
    "    model = decomposition.NMF(init=\"nndsvd\", n_components=k)\n",
    "    W = model.fit_transform(A)\n",
    "    H = model.components_\n",
    "    # store for later\n",
    "    topic_models.append((k, W, H))"
   ]
  },
  {
   "cell_type": "markdown",
   "metadata": {},
   "source": [
    "### Build a Word Embedding"
   ]
  },
  {
   "cell_type": "markdown",
   "metadata": {},
   "source": [
    "To select the number of topics, here we will use a *topic coherence* measure called TC-W2V. This measure relies on the use of a *word embedding* model constructed from our corpus. So in this step we will use the *Gensim* implementation of Word2Vec to build a Word2Vec model based on our collection of news articles."
   ]
  },
  {
   "cell_type": "markdown",
   "metadata": {},
   "source": [
    "**Note:** If you want to skip this step, a pre-built Word2Vec model for the sample dataset [is also provided here for download](http://erdos.ucd.ie/files/pydata/w2v-model.bin) (71MB)."
   ]
  },
  {
   "cell_type": "markdown",
   "metadata": {},
   "source": [
    "We read the documents from the input file again:"
   ]
  },
  {
   "cell_type": "code",
   "execution_count": 4,
   "metadata": {
    "ExecuteTime": {
     "end_time": "2021-05-22T03:34:59.532949Z",
     "start_time": "2021-05-22T03:34:59.362546Z"
    }
   },
   "outputs": [
    {
     "name": "stdout",
     "output_type": "stream",
     "text": [
      "Read 266214 raw text documents\n"
     ]
    }
   ],
   "source": [
    "import os.path\n",
    "\n",
    "raw_documents = []\n",
    "\n",
    "with open(os.path.join(\"../../../../../data-pre-processing/2csv/cenario2_8M2021_tweets_es.txt\"), \"r\") as fin:\n",
    "    for line in fin.readlines():\n",
    "        raw_documents.append(line.strip().lower())\n",
    "\n",
    "print(\"Read %d raw text documents\" % len(raw_documents))"
   ]
  },
  {
   "cell_type": "markdown",
   "metadata": {},
   "source": [
    "Read the custom stopword list:"
   ]
  },
  {
   "cell_type": "code",
   "execution_count": 5,
   "metadata": {
    "ExecuteTime": {
     "end_time": "2021-05-22T03:34:59.542105Z",
     "start_time": "2021-05-22T03:34:59.535348Z"
    }
   },
   "outputs": [
    {
     "name": "stdout",
     "output_type": "stream",
     "text": [
      "Stopword list has 313 entries\n"
     ]
    }
   ],
   "source": [
    "custom_stop_words = []\n",
    "\n",
    "with open(\"spanish.txt\", \"r\") as fin:\n",
    "    for line in fin.readlines():\n",
    "        custom_stop_words.append(line.strip().lower())\n",
    "\n",
    "# note that we need to make it hashable\n",
    "print(\"Stopword list has %d entries\" % len(custom_stop_words))"
   ]
  },
  {
   "cell_type": "markdown",
   "metadata": {},
   "source": [
    "First, we need to define a class that will generate documents in a form that can be consumed by Gensim's Word2Vec implementation:"
   ]
  },
  {
   "cell_type": "code",
   "execution_count": 6,
   "metadata": {
    "ExecuteTime": {
     "end_time": "2021-05-22T03:34:59.554885Z",
     "start_time": "2021-05-22T03:34:59.545550Z"
    }
   },
   "outputs": [],
   "source": [
    "import re\n",
    "\n",
    "\n",
    "class TokenGenerator:\n",
    "    def __init__(self, documents, stopwords):\n",
    "        self.documents = documents\n",
    "        self.stopwords = stopwords\n",
    "        self.tokenizer = re.compile(r\"(?u)\\b\\w\\w+\\b\")\n",
    "\n",
    "    def __iter__(self):\n",
    "        print(\"Building Word2Vec model ...\")\n",
    "        for doc in self.documents:\n",
    "            tokens = []\n",
    "            for tok in self.tokenizer.findall(doc):\n",
    "                if tok in self.stopwords:\n",
    "                    tokens.append(\"<stopword>\")\n",
    "                elif len(tok) >= 2:\n",
    "                    tokens.append(tok)\n",
    "            yield tokens"
   ]
  },
  {
   "cell_type": "markdown",
   "metadata": {},
   "source": [
    "Now build a Skipgram Word2Vec model from all documents in the input file using *Gensim*:"
   ]
  },
  {
   "cell_type": "code",
   "execution_count": 7,
   "metadata": {
    "ExecuteTime": {
     "end_time": "2021-05-22T03:34:59.768881Z",
     "start_time": "2021-05-22T03:34:59.556724Z"
    }
   },
   "outputs": [],
   "source": [
    "import gensim"
   ]
  },
  {
   "cell_type": "code",
   "execution_count": 8,
   "metadata": {
    "ExecuteTime": {
     "end_time": "2021-05-22T03:36:58.046502Z",
     "start_time": "2021-05-22T03:34:59.770334Z"
    }
   },
   "outputs": [
    {
     "name": "stdout",
     "output_type": "stream",
     "text": [
      "Building Word2Vec model ...\n",
      "Building Word2Vec model ...\n",
      "Building Word2Vec model ...\n",
      "Building Word2Vec model ...\n",
      "Building Word2Vec model ...\n",
      "Building Word2Vec model ...\n"
     ]
    }
   ],
   "source": [
    "\n",
    "\n",
    "docgen = TokenGenerator(raw_documents, custom_stop_words)\n",
    "\n",
    "# the model has 500 dimensions, the minimum document-term frequency is 20\n",
    "w2v_model = gensim.models.Word2Vec(docgen, size=500, min_count=20, sg=1)"
   ]
  },
  {
   "cell_type": "code",
   "execution_count": 9,
   "metadata": {
    "ExecuteTime": {
     "end_time": "2021-05-22T03:36:58.051025Z",
     "start_time": "2021-05-22T03:36:58.048043Z"
    }
   },
   "outputs": [
    {
     "name": "stdout",
     "output_type": "stream",
     "text": [
      "Model has 12238 terms\n"
     ]
    }
   ],
   "source": [
    "print( \"Model has %d terms\" % len(w2v_model.wv.vocab) )"
   ]
  },
  {
   "cell_type": "markdown",
   "metadata": {},
   "source": [
    "Save for later use, so that we do not need to rebuild it:"
   ]
  },
  {
   "cell_type": "code",
   "execution_count": 10,
   "metadata": {
    "ExecuteTime": {
     "end_time": "2021-05-22T03:36:58.697209Z",
     "start_time": "2021-05-22T03:36:58.052380Z"
    }
   },
   "outputs": [],
   "source": [
    "w2v_model.save(\"cenario2_w2v-model.bin\")"
   ]
  },
  {
   "cell_type": "code",
   "execution_count": 11,
   "metadata": {
    "ExecuteTime": {
     "end_time": "2021-05-22T03:36:58.700387Z",
     "start_time": "2021-05-22T03:36:58.698509Z"
    }
   },
   "outputs": [],
   "source": [
    "# To re-load this model, run\n",
    "# w2v_model = gensim.models.Word2Vec.load(\"cenario1_w2v-model.bin\")"
   ]
  },
  {
   "cell_type": "markdown",
   "metadata": {},
   "source": [
    "### Selecting the Number of Topics"
   ]
  },
  {
   "cell_type": "markdown",
   "metadata": {},
   "source": [
    "Once we have our Word2vec model, we can use it as part of our *topic coherence* approach to evaluate the different NMF topic models that we created previously. To do this, we will implement a simple version of the TC-W2V coherence measure."
   ]
  },
  {
   "cell_type": "markdown",
   "metadata": {},
   "source": [
    "We use the Word2vec model to calculate coherence scores for each of these models. We will define this coherence score as follows:"
   ]
  },
  {
   "cell_type": "code",
   "execution_count": 12,
   "metadata": {
    "ExecuteTime": {
     "end_time": "2021-05-22T03:36:58.710316Z",
     "start_time": "2021-05-22T03:36:58.701726Z"
    }
   },
   "outputs": [],
   "source": [
    "def calculate_coherence(w2v_model, term_rankings):\n",
    "    overall_coherence = 0.0\n",
    "    \n",
    "    for topic_index in range(len(term_rankings)):\n",
    "        # check each pair of terms\n",
    "        pair_scores = []\n",
    "        for pair in combinations(term_rankings[topic_index], 2):\n",
    "            pair_scores.append(w2v_model.similarity(pair[0], pair[1]))\n",
    "        # get the mean for all pairs in this topic\n",
    "        topic_score = sum(pair_scores) / len(pair_scores)\n",
    "        overall_coherence += topic_score\n",
    "    \n",
    "    # get the mean score across all topics\n",
    "    return overall_coherence / len(term_rankings)"
   ]
  },
  {
   "cell_type": "markdown",
   "metadata": {},
   "source": [
    "We also define a function to get the topic descriptor (i.e. list of top terms) for each topic:"
   ]
  },
  {
   "cell_type": "code",
   "execution_count": 13,
   "metadata": {
    "ExecuteTime": {
     "end_time": "2021-05-22T03:36:58.720680Z",
     "start_time": "2021-05-22T03:36:58.711798Z"
    }
   },
   "outputs": [],
   "source": [
    "import numpy as np\n",
    "\n",
    "\n",
    "def get_descriptor(all_terms, H, topic_index, top):\n",
    "    # reverse sort the values to sort the indices\n",
    "    top_indices = np.argsort(H[topic_index, :])[::-1]\n",
    "    \n",
    "    # now get the terms corresponding to the top-ranked indices\n",
    "    top_terms = []\n",
    "    \n",
    "    for term_index in top_indices[0:top]:\n",
    "        top_terms.append(all_terms[term_index])\n",
    "    \n",
    "    return top_terms"
   ]
  },
  {
   "cell_type": "markdown",
   "metadata": {},
   "source": [
    "Now process each of the models for different values of *k*:"
   ]
  },
  {
   "cell_type": "code",
   "execution_count": 14,
   "metadata": {
    "ExecuteTime": {
     "end_time": "2021-05-22T03:36:58.798900Z",
     "start_time": "2021-05-22T03:36:58.722122Z"
    }
   },
   "outputs": [
    {
     "name": "stdout",
     "output_type": "stream",
     "text": [
      "K=05: Coherence=0.3266\n",
      "K=10: Coherence=0.3064\n",
      "K=15: Coherence=0.2914\n",
      "K=20: Coherence=0.3005\n"
     ]
    },
    {
     "name": "stderr",
     "output_type": "stream",
     "text": [
      "/home/gean/anaconda3/lib/python3.7/site-packages/ipykernel_launcher.py:8: DeprecationWarning: Call to deprecated `similarity` (Method will be removed in 4.0.0, use self.wv.similarity() instead).\n",
      "  \n"
     ]
    }
   ],
   "source": [
    "from itertools import combinations\n",
    "\n",
    "k_values = []\n",
    "coherences = []\n",
    "\n",
    "for (k, W, H) in topic_models:\n",
    "    # Get all of the topic descriptors - the term_rankings, based on top 10 terms\n",
    "    term_rankings = []\n",
    "    \n",
    "    for topic_index in range(k):\n",
    "        term_rankings.append(get_descriptor(terms, H, topic_index, 5))\n",
    "    \n",
    "    # Now calculate the coherence based on our Word2vec model\n",
    "    k_values.append(k)\n",
    "    coherences.append(calculate_coherence(w2v_model, term_rankings))\n",
    "    \n",
    "    print(\"K=%02d: Coherence=%.4f\" % (k, coherences[-1]))\n",
    "    # print(f'{coherences[-1]:.4f}')"
   ]
  },
  {
   "cell_type": "markdown",
   "metadata": {},
   "source": [
    "We can now use *matplotlib* to generate a line plot of these coherence scores, to help us select an appropriate value."
   ]
  },
  {
   "cell_type": "code",
   "execution_count": 15,
   "metadata": {
    "ExecuteTime": {
     "end_time": "2021-05-22T03:36:59.059829Z",
     "start_time": "2021-05-22T03:36:58.801422Z"
    }
   },
   "outputs": [],
   "source": [
    "%matplotlib inline\n",
    "import matplotlib\n",
    "import matplotlib.pyplot as plt\n",
    "\n",
    "plt.style.use(\"ggplot\")\n",
    "matplotlib.rcParams.update({\"font.size\": 14})"
   ]
  },
  {
   "cell_type": "code",
   "execution_count": 16,
   "metadata": {
    "ExecuteTime": {
     "end_time": "2021-05-22T03:36:59.278335Z",
     "start_time": "2021-05-22T03:36:59.061243Z"
    }
   },
   "outputs": [
    {
     "data": {
      "image/png": "[encoded data removed]",
      "text/plain": [
       "<Figure size 936x504 with 1 Axes>"
      ]
     },
     "metadata": {},
     "output_type": "display_data"
    }
   ],
   "source": [
    "fig = plt.figure(figsize=(13,7))\n",
    "\n",
    "# create the line plot\n",
    "ax = plt.plot( k_values, coherences )\n",
    "plt.xticks(k_values)\n",
    "plt.xlabel(\"Number of Topics\")\n",
    "plt.ylabel(\"Mean Coherence\")\n",
    "\n",
    "# add the points\n",
    "plt.scatter( k_values, coherences, s=120)\n",
    "\n",
    "\n",
    "# find and annotate the maximum point on the plot\n",
    "ymax = max(coherences)\n",
    "xpos = coherences.index(ymax)\n",
    "best_k = k_values[xpos]\n",
    "plt.annotate( \"k=%d\" % best_k, xy=(best_k, ymax), xytext=(best_k, ymax), textcoords=\"offset points\", fontsize=16)\n",
    "\n",
    "# show the plot\n",
    "plt.show()"
   ]
  },
  {
   "cell_type": "markdown",
   "metadata": {
    "ExecuteTime": {
     "end_time": "2021-05-21T23:51:33.169982Z",
     "start_time": "2021-05-21T23:51:33.167960Z"
    }
   },
   "source": [
    "# 10"
   ]
  },
  {
   "cell_type": "code",
   "execution_count": 17,
   "metadata": {
    "ExecuteTime": {
     "end_time": "2021-05-22T03:36:59.443115Z",
     "start_time": "2021-05-22T03:36:59.280271Z"
    }
   },
   "outputs": [
    {
     "name": "stdout",
     "output_type": "stream",
     "text": [
      "K=05: Coherence=0.2653\n",
      "K=10: Coherence=0.2661\n",
      "K=15: Coherence=0.2739\n",
      "K=20: Coherence=0.2798\n"
     ]
    },
    {
     "name": "stderr",
     "output_type": "stream",
     "text": [
      "/home/gean/anaconda3/lib/python3.7/site-packages/ipykernel_launcher.py:8: DeprecationWarning: Call to deprecated `similarity` (Method will be removed in 4.0.0, use self.wv.similarity() instead).\n",
      "  \n"
     ]
    }
   ],
   "source": [
    "from itertools import combinations\n",
    "\n",
    "k_values = []\n",
    "coherences = []\n",
    "\n",
    "for (k, W, H) in topic_models:\n",
    "    # Get all of the topic descriptors - the term_rankings, based on top 10 terms\n",
    "    term_rankings = []\n",
    "    \n",
    "    for topic_index in range(k):\n",
    "        term_rankings.append(get_descriptor(terms, H, topic_index, 10))\n",
    "    \n",
    "    # Now calculate the coherence based on our Word2vec model\n",
    "    k_values.append(k)\n",
    "    coherences.append(calculate_coherence(w2v_model, term_rankings))\n",
    "    \n",
    "    print(\"K=%02d: Coherence=%.4f\" % (k, coherences[-1]))\n",
    "    # print(f'{coherences[-1]:.4f}')"
   ]
  },
  {
   "cell_type": "code",
   "execution_count": 18,
   "metadata": {
    "ExecuteTime": {
     "end_time": "2021-05-22T03:36:59.627242Z",
     "start_time": "2021-05-22T03:36:59.445257Z"
    }
   },
   "outputs": [
    {
     "data": {
      "image/png": "[encoded data removed]",
      "text/plain": [
       "<Figure size 936x504 with 1 Axes>"
      ]
     },
     "metadata": {},
     "output_type": "display_data"
    }
   ],
   "source": [
    "fig = plt.figure(figsize=(13,7))\n",
    "\n",
    "# create the line plot\n",
    "ax = plt.plot( k_values, coherences )\n",
    "plt.xticks(k_values)\n",
    "plt.xlabel(\"Number of Topics\")\n",
    "plt.ylabel(\"Mean Coherence\")\n",
    "\n",
    "# add the points\n",
    "plt.scatter( k_values, coherences, s=120)\n",
    "\n",
    "\n",
    "# find and annotate the maximum point on the plot\n",
    "ymax = max(coherences)\n",
    "xpos = coherences.index(ymax)\n",
    "best_k = k_values[xpos]\n",
    "plt.annotate( \"k=%d\" % best_k, xy=(best_k, ymax), xytext=(best_k, ymax), textcoords=\"offset points\", fontsize=16)\n",
    "\n",
    "# show the plot\n",
    "plt.show()"
   ]
  },
  {
   "cell_type": "markdown",
   "metadata": {},
   "source": [
    "# 15"
   ]
  },
  {
   "cell_type": "code",
   "execution_count": 19,
   "metadata": {
    "ExecuteTime": {
     "end_time": "2021-05-22T03:36:59.844307Z",
     "start_time": "2021-05-22T03:36:59.628542Z"
    }
   },
   "outputs": [
    {
     "name": "stderr",
     "output_type": "stream",
     "text": [
      "/home/gean/anaconda3/lib/python3.7/site-packages/ipykernel_launcher.py:8: DeprecationWarning: Call to deprecated `similarity` (Method will be removed in 4.0.0, use self.wv.similarity() instead).\n",
      "  \n"
     ]
    },
    {
     "name": "stdout",
     "output_type": "stream",
     "text": [
      "K=05: Coherence=0.2578\n",
      "K=10: Coherence=0.2529\n",
      "K=15: Coherence=0.2581\n",
      "K=20: Coherence=0.2731\n"
     ]
    }
   ],
   "source": [
    "from itertools import combinations\n",
    "\n",
    "k_values = []\n",
    "coherences = []\n",
    "\n",
    "for (k, W, H) in topic_models:\n",
    "    # Get all of the topic descriptors - the term_rankings, based on top 10 terms\n",
    "    term_rankings = []\n",
    "    \n",
    "    for topic_index in range(k):\n",
    "        term_rankings.append(get_descriptor(terms, H, topic_index, 15))\n",
    "    \n",
    "    # Now calculate the coherence based on our Word2vec model\n",
    "    k_values.append(k)\n",
    "    coherences.append(calculate_coherence(w2v_model, term_rankings))\n",
    "    \n",
    "    print(\"K=%02d: Coherence=%.4f\" % (k, coherences[-1]))\n",
    "    # print(f'{coherences[-1]:.4f}')"
   ]
  },
  {
   "cell_type": "code",
   "execution_count": 20,
   "metadata": {
    "ExecuteTime": {
     "end_time": "2021-05-22T03:37:00.013336Z",
     "start_time": "2021-05-22T03:36:59.847317Z"
    }
   },
   "outputs": [
    {
     "data": {
      "image/png": "[encoded data removed]",
      "text/plain": [
       "<Figure size 936x504 with 1 Axes>"
      ]
     },
     "metadata": {},
     "output_type": "display_data"
    }
   ],
   "source": [
    "fig = plt.figure(figsize=(13,7))\n",
    "\n",
    "# create the line plot\n",
    "ax = plt.plot( k_values, coherences )\n",
    "plt.xticks(k_values)\n",
    "plt.xlabel(\"Number of Topics\")\n",
    "plt.ylabel(\"Mean Coherence\")\n",
    "\n",
    "# add the points\n",
    "plt.scatter( k_values, coherences, s=120)\n",
    "\n",
    "\n",
    "# find and annotate the maximum point on the plot\n",
    "ymax = max(coherences)\n",
    "xpos = coherences.index(ymax)\n",
    "best_k = k_values[xpos]\n",
    "plt.annotate( \"k=%d\" % best_k, xy=(best_k, ymax), xytext=(best_k, ymax), textcoords=\"offset points\", fontsize=16)\n",
    "\n",
    "# show the plot\n",
    "plt.show()"
   ]
  },
  {
   "cell_type": "markdown",
   "metadata": {},
   "source": [
    "# 20"
   ]
  },
  {
   "cell_type": "code",
   "execution_count": 21,
   "metadata": {
    "ExecuteTime": {
     "end_time": "2021-05-22T03:37:00.372437Z",
     "start_time": "2021-05-22T03:37:00.015078Z"
    }
   },
   "outputs": [
    {
     "name": "stderr",
     "output_type": "stream",
     "text": [
      "/home/gean/anaconda3/lib/python3.7/site-packages/ipykernel_launcher.py:8: DeprecationWarning: Call to deprecated `similarity` (Method will be removed in 4.0.0, use self.wv.similarity() instead).\n",
      "  \n"
     ]
    },
    {
     "name": "stdout",
     "output_type": "stream",
     "text": [
      "K=05: Coherence=0.2460\n",
      "K=10: Coherence=0.2505\n",
      "K=15: Coherence=0.2552\n",
      "K=20: Coherence=0.2653\n"
     ]
    }
   ],
   "source": [
    "from itertools import combinations\n",
    "\n",
    "k_values = []\n",
    "coherences = []\n",
    "\n",
    "for (k, W, H) in topic_models:\n",
    "    # Get all of the topic descriptors - the term_rankings, based on top 10 terms\n",
    "    term_rankings = []\n",
    "    \n",
    "    for topic_index in range(k):\n",
    "        term_rankings.append(get_descriptor(terms, H, topic_index, 20))\n",
    "    \n",
    "    # Now calculate the coherence based on our Word2vec model\n",
    "    k_values.append(k)\n",
    "    coherences.append(calculate_coherence(w2v_model, term_rankings))\n",
    "    \n",
    "    print(\"K=%02d: Coherence=%.4f\" % (k, coherences[-1]))\n",
    "    # print(f'{coherences[-1]:.4f}')"
   ]
  },
  {
   "cell_type": "code",
   "execution_count": 22,
   "metadata": {
    "ExecuteTime": {
     "end_time": "2021-05-22T03:37:00.558472Z",
     "start_time": "2021-05-22T03:37:00.373868Z"
    }
   },
   "outputs": [
    {
     "data": {
      "image/png": "[encoded data removed]",
      "text/plain": [
       "<Figure size 936x504 with 1 Axes>"
      ]
     },
     "metadata": {},
     "output_type": "display_data"
    }
   ],
   "source": [
    "fig = plt.figure(figsize=(13,7))\n",
    "\n",
    "# create the line plot\n",
    "ax = plt.plot( k_values, coherences )\n",
    "plt.xticks(k_values)\n",
    "plt.xlabel(\"Number of Topics\")\n",
    "plt.ylabel(\"Mean Coherence\")\n",
    "\n",
    "# add the points\n",
    "plt.scatter( k_values, coherences, s=120)\n",
    "\n",
    "\n",
    "# find and annotate the maximum point on the plot\n",
    "ymax = max(coherences)\n",
    "xpos = coherences.index(ymax)\n",
    "best_k = k_values[xpos]\n",
    "plt.annotate( \"k=%d\" % best_k, xy=(best_k, ymax), xytext=(best_k, ymax), textcoords=\"offset points\", fontsize=16)\n",
    "\n",
    "# show the plot\n",
    "plt.show()"
   ]
  },
  {
   "cell_type": "markdown",
   "metadata": {},
   "source": [
    "### Examine the Final  Model"
   ]
  },
  {
   "cell_type": "markdown",
   "metadata": {},
   "source": [
    "The plot above suggests that the most appropriate value for the number of topics is *k=8*."
   ]
  },
  {
   "cell_type": "markdown",
   "metadata": {},
   "source": [
    "# 5"
   ]
  },
  {
   "cell_type": "code",
   "execution_count": 23,
   "metadata": {
    "ExecuteTime": {
     "end_time": "2021-05-22T03:37:00.562881Z",
     "start_time": "2021-05-22T03:37:00.559928Z"
    }
   },
   "outputs": [],
   "source": [
    "k = 5 # best_k\n",
    "\n",
    "# get the model that we generated earlier.\n",
    "W = topic_models[0][1]\n",
    "H = topic_models[0][2]"
   ]
  },
  {
   "cell_type": "code",
   "execution_count": 24,
   "metadata": {
    "ExecuteTime": {
     "end_time": "2021-05-22T03:37:00.577631Z",
     "start_time": "2021-05-22T03:37:00.564392Z"
    }
   },
   "outputs": [
    {
     "name": "stdout",
     "output_type": "stream",
     "text": [
      "Topic 01: dia, feliz, falte, ninguna, cada\n",
      "Topic 02: mujeres, igualdad, derechos, mundo, violencia\n",
      "Topic 03: todas, gracias, felicidades, mundo, aquellas\n",
      "Topic 04: hoy, lucha, siempre, dias, nunca\n",
      "Topic 05: mujer, internacional, ser, dia, marzo\n"
     ]
    }
   ],
   "source": [
    "for topic_index in range(k):\n",
    "    descriptor = get_descriptor( terms, H, topic_index, 5)\n",
    "    str_descriptor = \", \".join( descriptor )\n",
    "    print(\"Topic %02d: %s\" % ( topic_index+1, str_descriptor ) )"
   ]
  },
  {
   "cell_type": "code",
   "execution_count": 25,
   "metadata": {
    "ExecuteTime": {
     "end_time": "2021-05-22T03:37:00.587041Z",
     "start_time": "2021-05-22T03:37:00.579054Z"
    }
   },
   "outputs": [
    {
     "name": "stdout",
     "output_type": "stream",
     "text": [
      "Topic 01: dia, feliz, falte, ninguna, cada, algun, buen, celebrar, dejen, especial\n",
      "Topic 02: mujeres, igualdad, derechos, mundo, violencia, hombres, lucha, genero, vida, sociedad\n",
      "Topic 03: todas, gracias, felicidades, mundo, aquellas, voz, queremos, especial, companeras, quiero\n",
      "Topic 04: hoy, lucha, siempre, dias, nunca, ano, igualdad, manana, solo, derechos\n",
      "Topic 05: mujer, internacional, ser, dia, marzo, trabajadora, hombre, vida, igualdad, conmemoracion\n"
     ]
    }
   ],
   "source": [
    "for topic_index in range(k):\n",
    "    descriptor = get_descriptor( terms, H, topic_index, 10)\n",
    "    str_descriptor = \", \".join( descriptor )\n",
    "    print(\"Topic %02d: %s\" % ( topic_index+1, str_descriptor ) )"
   ]
  },
  {
   "cell_type": "code",
   "execution_count": 26,
   "metadata": {
    "ExecuteTime": {
     "end_time": "2021-05-22T03:37:00.596723Z",
     "start_time": "2021-05-22T03:37:00.588429Z"
    }
   },
   "outputs": [
    {
     "name": "stdout",
     "output_type": "stream",
     "text": [
      "Topic 01: dia, feliz, falte, ninguna, cada, algun, buen, celebrar, dejen, especial, lucha, podamos, internacional, dias, decir\n",
      "Topic 02: mujeres, igualdad, derechos, mundo, violencia, hombres, lucha, genero, vida, sociedad, asi, mexico, feminismo, pais, ninas\n",
      "Topic 03: todas, gracias, felicidades, mundo, aquellas, voz, queremos, especial, companeras, quiero, muchas, cada, ustedes, luchan, juntas\n",
      "Topic 04: hoy, lucha, siempre, dias, nunca, ano, igualdad, manana, solo, derechos, dia, conmemora, voz, queremos, conmemoramos\n",
      "Topic 05: mujer, internacional, ser, dia, marzo, trabajadora, hombre, vida, igualdad, conmemoracion, sociedad, conmemora, derechos, mundo, cada\n"
     ]
    }
   ],
   "source": [
    "for topic_index in range(k):\n",
    "    descriptor = get_descriptor( terms, H, topic_index, 15)\n",
    "    str_descriptor = \", \".join( descriptor )\n",
    "    print(\"Topic %02d: %s\" % ( topic_index+1, str_descriptor ) )"
   ]
  },
  {
   "cell_type": "code",
   "execution_count": 27,
   "metadata": {
    "ExecuteTime": {
     "end_time": "2021-05-22T03:37:00.607644Z",
     "start_time": "2021-05-22T03:37:00.599810Z"
    }
   },
   "outputs": [
    {
     "name": "stdout",
     "output_type": "stream",
     "text": [
      "Topic 01: dia, feliz, falte, ninguna, cada, algun, buen, celebrar, dejen, especial, lucha, podamos, internacional, dias, decir, mejor, celebracion, ojala, luchan, salir\n",
      "Topic 02: mujeres, igualdad, derechos, mundo, violencia, hombres, lucha, genero, vida, sociedad, asi, mexico, feminismo, pais, ninas, trabajo, futuro, historia, solo, respeto\n",
      "Topic 03: todas, gracias, felicidades, mundo, aquellas, voz, queremos, especial, companeras, quiero, muchas, cada, ustedes, luchan, juntas, amigas, hermanas, abrazo, luchando, vida\n",
      "Topic 04: hoy, lucha, siempre, dias, nunca, ano, igualdad, manana, solo, derechos, dia, conmemora, voz, queremos, conmemoramos, ser, quiero, seguimos, miedo, feminista\n",
      "Topic 05: mujer, internacional, ser, dia, marzo, trabajadora, hombre, vida, igualdad, conmemoracion, sociedad, conmemora, derechos, mundo, cada, violencia, genero, madre, historia, conmemoramos\n"
     ]
    }
   ],
   "source": [
    "for topic_index in range(k):\n",
    "    descriptor = get_descriptor( terms, H, topic_index, 20)\n",
    "    str_descriptor = \", \".join( descriptor )\n",
    "    print(\"Topic %02d: %s\" % ( topic_index+1, str_descriptor ) )"
   ]
  },
  {
   "cell_type": "markdown",
   "metadata": {},
   "source": [
    "# 10"
   ]
  },
  {
   "cell_type": "code",
   "execution_count": 28,
   "metadata": {
    "ExecuteTime": {
     "end_time": "2021-05-22T03:37:00.612108Z",
     "start_time": "2021-05-22T03:37:00.609070Z"
    }
   },
   "outputs": [],
   "source": [
    "k = 10 # best_k\n",
    "\n",
    "# get the model that we generated earlier.\n",
    "W = topic_models[1][1]\n",
    "H = topic_models[1][2]"
   ]
  },
  {
   "cell_type": "code",
   "execution_count": 29,
   "metadata": {
    "ExecuteTime": {
     "end_time": "2021-05-22T03:37:00.630561Z",
     "start_time": "2021-05-22T03:37:00.613977Z"
    }
   },
   "outputs": [
    {
     "name": "stdout",
     "output_type": "stream",
     "text": [
      "Topic 01: dia, feliz, falte, cada, ninguna\n",
      "Topic 02: mujeres, mundo, hombres, vida, violencia\n",
      "Topic 03: todas, mundo, felicidades, aquellas, especial\n",
      "Topic 04: hoy, dias, siempre, dia, manana\n",
      "Topic 05: mujer, internacional, dia, marzo, trabajadora\n",
      "Topic 06: ser, puede, debe, mujer, ninguna\n",
      "Topic 07: lucha, feminista, derechos, sigue, conmemora\n",
      "Topic 08: gracias, muchas, ultimo, disponible, siempre\n",
      "Topic 09: miedo, asi, quiero, queremos, libres\n",
      "Topic 10: igualdad, derechos, genero, violencia, respeto\n"
     ]
    }
   ],
   "source": [
    "for topic_index in range(k):\n",
    "    descriptor = get_descriptor( terms, H, topic_index, 5)\n",
    "    str_descriptor = \", \".join( descriptor )\n",
    "    print(\"Topic %02d: %s\" % ( topic_index+1, str_descriptor ) )"
   ]
  },
  {
   "cell_type": "code",
   "execution_count": 30,
   "metadata": {
    "ExecuteTime": {
     "end_time": "2021-05-22T03:37:00.644566Z",
     "start_time": "2021-05-22T03:37:00.632096Z"
    }
   },
   "outputs": [
    {
     "name": "stdout",
     "output_type": "stream",
     "text": [
      "Topic 01: dia, feliz, falte, cada, ninguna, buen, algun, celebrar, dejen, dias\n",
      "Topic 02: mujeres, mundo, hombres, vida, violencia, historia, ninas, trabajo, pais, mexico\n",
      "Topic 03: todas, mundo, felicidades, aquellas, especial, luchan, voz, companeras, juntas, abrazo\n",
      "Topic 04: hoy, dias, siempre, dia, manana, ano, voz, conmemora, nunca, conmemoramos\n",
      "Topic 05: mujer, internacional, dia, marzo, trabajadora, conmemoracion, conmemora, hombre, vida, sociedad\n",
      "Topic 06: ser, puede, debe, mujer, ninguna, falte, deberia, vida, hecho, parte\n",
      "Topic 07: lucha, feminista, derechos, sigue, conmemora, viva, continua, conmemoramos, celebra, marzo\n",
      "Topic 08: gracias, muchas, ultimo, disponible, siempre, tan, ustedes, mejor, gran, amo\n",
      "Topic 09: miedo, asi, quiero, queremos, libres, solo, vivas, feminismo, nunca, marcha\n",
      "Topic 10: igualdad, derechos, genero, violencia, respeto, oportunidades, sociedad, luchando, justicia, real\n"
     ]
    }
   ],
   "source": [
    "for topic_index in range(k):\n",
    "    descriptor = get_descriptor( terms, H, topic_index, 10)\n",
    "    str_descriptor = \", \".join( descriptor )\n",
    "    print(\"Topic %02d: %s\" % ( topic_index+1, str_descriptor ) )"
   ]
  },
  {
   "cell_type": "code",
   "execution_count": 31,
   "metadata": {
    "ExecuteTime": {
     "end_time": "2021-05-22T03:37:00.659655Z",
     "start_time": "2021-05-22T03:37:00.646520Z"
    }
   },
   "outputs": [
    {
     "name": "stdout",
     "output_type": "stream",
     "text": [
      "Topic 01: dia, feliz, falte, cada, ninguna, buen, algun, celebrar, dejen, dias, especial, mejor, decir, podamos, buenos\n",
      "Topic 02: mujeres, mundo, hombres, vida, violencia, historia, ninas, trabajo, pais, mexico, trabajadoras, trans, futuro, pandemia, igualitario\n",
      "Topic 03: todas, mundo, felicidades, aquellas, especial, luchan, voz, companeras, juntas, abrazo, cada, ustedes, luchando, amigas, hermanas\n",
      "Topic 04: hoy, dias, siempre, dia, manana, ano, voz, conmemora, nunca, conmemoramos, celebra, celebramos, marzo, buenos, solo\n",
      "Topic 05: mujer, internacional, dia, marzo, trabajadora, conmemoracion, conmemora, hombre, vida, sociedad, mundo, marco, celebra, especial, historia\n",
      "Topic 06: ser, puede, debe, mujer, ninguna, falte, deberia, vida, hecho, parte, dejen, quiero, orgullosa, libre, hombre\n",
      "Topic 07: lucha, feminista, derechos, sigue, conmemora, viva, continua, conmemoramos, celebra, marzo, seguimos, sociedad, constante, companeras, dia\n",
      "Topic 08: gracias, muchas, ultimo, disponible, siempre, tan, ustedes, mejor, gran, amo, trabajo, compartir, vida, diario, voz\n",
      "Topic 09: miedo, asi, quiero, queremos, libres, solo, vivas, feminismo, nunca, marcha, siempre, feminista, cada, ano, casa\n",
      "Topic 10: igualdad, derechos, genero, violencia, respeto, oportunidades, sociedad, luchando, justicia, real, equidad, libertad, hombres, seguir, mundo\n"
     ]
    }
   ],
   "source": [
    "for topic_index in range(k):\n",
    "    descriptor = get_descriptor( terms, H, topic_index, 15)\n",
    "    str_descriptor = \", \".join( descriptor )\n",
    "    print(\"Topic %02d: %s\" % ( topic_index+1, str_descriptor ) )"
   ]
  },
  {
   "cell_type": "code",
   "execution_count": 32,
   "metadata": {
    "ExecuteTime": {
     "end_time": "2021-05-22T03:37:00.675075Z",
     "start_time": "2021-05-22T03:37:00.661733Z"
    }
   },
   "outputs": [
    {
     "name": "stdout",
     "output_type": "stream",
     "text": [
      "Topic 01: dia, feliz, falte, cada, ninguna, buen, algun, celebrar, dejen, dias, especial, mejor, decir, podamos, buenos, luchan, luchadoras, celebracion, guerreras, ojala\n",
      "Topic 02: mujeres, mundo, hombres, vida, violencia, historia, ninas, trabajo, pais, mexico, trabajadoras, trans, futuro, pandemia, igualitario, derechos, marzo, parte, lideres, muchas\n",
      "Topic 03: todas, mundo, felicidades, aquellas, especial, luchan, voz, companeras, juntas, abrazo, cada, ustedes, luchando, amigas, hermanas, respeto, queremos, vida, reconocimiento, faltan\n",
      "Topic 04: hoy, dias, siempre, dia, manana, ano, voz, conmemora, nunca, conmemoramos, celebra, celebramos, marzo, buenos, solo, recordar, ayer, celebrar, felicita, buen\n",
      "Topic 05: mujer, internacional, dia, marzo, trabajadora, conmemoracion, conmemora, hombre, vida, sociedad, mundo, marco, celebra, especial, historia, gran, conmemoramos, felicidades, participacion, cada\n",
      "Topic 06: ser, puede, debe, mujer, ninguna, falte, deberia, vida, hecho, parte, dejen, quiero, orgullosa, libre, hombre, libres, solo, humano, ultima, dias\n",
      "Topic 07: lucha, feminista, derechos, sigue, conmemora, viva, continua, conmemoramos, celebra, marzo, seguimos, sociedad, constante, companeras, dia, pie, felicita, diaria, conmemoracion, equidad\n",
      "Topic 08: gracias, muchas, ultimo, disponible, siempre, tan, ustedes, mejor, gran, amo, trabajo, compartir, vida, diario, voz, companeras, apoyo, existir, mil, parte\n",
      "Topic 09: miedo, asi, quiero, queremos, libres, solo, vivas, feminismo, nunca, marcha, siempre, feminista, cada, ano, casa, ver, vivir, hace, salir, calle\n",
      "Topic 10: igualdad, derechos, genero, violencia, respeto, oportunidades, sociedad, luchando, justicia, real, equidad, libertad, hombres, seguir, mundo, compromiso, futuro, feminismo, trabajando, hacia\n"
     ]
    }
   ],
   "source": [
    "for topic_index in range(k):\n",
    "    descriptor = get_descriptor( terms, H, topic_index, 20)\n",
    "    str_descriptor = \", \".join( descriptor )\n",
    "    print(\"Topic %02d: %s\" % ( topic_index+1, str_descriptor ) )"
   ]
  },
  {
   "cell_type": "markdown",
   "metadata": {},
   "source": [
    "# 15"
   ]
  },
  {
   "cell_type": "code",
   "execution_count": 33,
   "metadata": {
    "ExecuteTime": {
     "end_time": "2021-05-22T03:37:00.679514Z",
     "start_time": "2021-05-22T03:37:00.676653Z"
    }
   },
   "outputs": [],
   "source": [
    "k = 15 # best_k\n",
    "\n",
    "# get the model that we generated earlier.\n",
    "W = topic_models[2][1]\n",
    "H = topic_models[2][2]"
   ]
  },
  {
   "cell_type": "code",
   "execution_count": 34,
   "metadata": {
    "ExecuteTime": {
     "end_time": "2021-05-22T03:37:00.702219Z",
     "start_time": "2021-05-22T03:37:00.681175Z"
    }
   },
   "outputs": [
    {
     "name": "stdout",
     "output_type": "stream",
     "text": [
      "Topic 01: feliz, falte, ninguna, dia, dejen\n",
      "Topic 02: mujeres, hombres, vida, violencia, historia\n",
      "Topic 03: todas, felicidades, aquellas, especial, voz\n",
      "Topic 04: hoy, nunca, manana, voz, conmemora\n",
      "Topic 05: mujer, internacional, marzo, trabajadora, hombre\n",
      "Topic 06: ser, puede, debe, ninguna, solo\n",
      "Topic 07: lucha, feminista, derechos, sigue, viva\n",
      "Topic 08: gracias, muchas, ultimo, disponible, tan\n",
      "Topic 09: dia, internacional, cada, celebrar, buen\n",
      "Topic 10: igualdad, derechos, genero, violencia, respeto\n",
      "Topic 11: asi, marcha, feminista, feminismo, gobierno\n",
      "Topic 12: siempre, juntas, manana, fuertes, nunca\n",
      "Topic 13: miedo, queremos, quiero, libres, vivas\n",
      "Topic 14: dias, ano, buenos, solo, marzo\n",
      "Topic 15: mundo, mejor, igualitario, futuro, justo\n"
     ]
    }
   ],
   "source": [
    "for topic_index in range(k):\n",
    "    descriptor = get_descriptor( terms, H, topic_index, 5)\n",
    "    str_descriptor = \", \".join( descriptor )\n",
    "    print(\"Topic %02d: %s\" % ( topic_index+1, str_descriptor ) )"
   ]
  },
  {
   "cell_type": "code",
   "execution_count": 35,
   "metadata": {
    "ExecuteTime": {
     "end_time": "2021-05-22T03:37:00.719047Z",
     "start_time": "2021-05-22T03:37:00.703640Z"
    }
   },
   "outputs": [
    {
     "name": "stdout",
     "output_type": "stream",
     "text": [
      "Topic 01: feliz, falte, ninguna, dia, dejen, decir, companeras, deseamos, desea, luchadoras\n",
      "Topic 02: mujeres, hombres, vida, violencia, historia, trabajo, trabajadoras, ninas, pais, derechos\n",
      "Topic 03: todas, felicidades, aquellas, especial, voz, companeras, luchan, abrazo, amigas, juntas\n",
      "Topic 04: hoy, nunca, manana, voz, conmemora, conmemoramos, celebra, celebramos, ayer, recordar\n",
      "Topic 05: mujer, internacional, marzo, trabajadora, hombre, vida, sociedad, conmemora, conmemoracion, historia\n",
      "Topic 06: ser, puede, debe, ninguna, solo, falte, deberia, vida, hecho, mujer\n",
      "Topic 07: lucha, feminista, derechos, sigue, viva, conmemora, continua, conmemoramos, celebra, seguimos\n",
      "Topic 08: gracias, muchas, ultimo, disponible, tan, ustedes, gran, amo, vida, trabajo\n",
      "Topic 09: dia, internacional, cada, celebrar, buen, algun, conmemorar, conmemoracion, celebracion, especial\n",
      "Topic 10: igualdad, derechos, genero, violencia, respeto, oportunidades, sociedad, justicia, luchando, real\n",
      "Topic 11: asi, marcha, feminista, feminismo, gobierno, mexico, palacio, nacional, feministas, solo\n",
      "Topic 12: siempre, juntas, manana, fuertes, nunca, respeto, ustedes, lado, amo, admiracion\n",
      "Topic 13: miedo, queremos, quiero, libres, vivas, vivir, salir, calle, casa, tener\n",
      "Topic 14: dias, ano, buenos, solo, marzo, hace, pasado, cada, sino, resto\n",
      "Topic 15: mundo, mejor, igualitario, futuro, justo, cada, lideres, covid, hacer, construir\n"
     ]
    }
   ],
   "source": [
    "for topic_index in range(k):\n",
    "    descriptor = get_descriptor( terms, H, topic_index, 10)\n",
    "    str_descriptor = \", \".join( descriptor )\n",
    "    print(\"Topic %02d: %s\" % ( topic_index+1, str_descriptor ) )"
   ]
  },
  {
   "cell_type": "code",
   "execution_count": 36,
   "metadata": {
    "ExecuteTime": {
     "end_time": "2021-05-22T03:37:00.735687Z",
     "start_time": "2021-05-22T03:37:00.720709Z"
    }
   },
   "outputs": [
    {
     "name": "stdout",
     "output_type": "stream",
     "text": [
      "Topic 01: feliz, falte, ninguna, dia, dejen, decir, companeras, deseamos, desea, luchadoras, guerreras, chicas, matarnos, dice, mujer\n",
      "Topic 02: mujeres, hombres, vida, violencia, historia, trabajo, trabajadoras, ninas, pais, derechos, trans, pandemia, mexico, valientes, muchas\n",
      "Topic 03: todas, felicidades, aquellas, especial, voz, companeras, luchan, abrazo, amigas, juntas, ustedes, luchando, hermanas, cada, respeto\n",
      "Topic 04: hoy, nunca, manana, voz, conmemora, conmemoramos, celebra, celebramos, ayer, recordar, aqui, felicita, celebrar, marzo, solo\n",
      "Topic 05: mujer, internacional, marzo, trabajadora, hombre, vida, sociedad, conmemora, conmemoracion, historia, marco, participacion, primera, conmemoramos, madre\n",
      "Topic 06: ser, puede, debe, ninguna, solo, falte, deberia, vida, hecho, mujer, parte, dejen, quiero, tan, hombre\n",
      "Topic 07: lucha, feminista, derechos, sigue, viva, conmemora, continua, conmemoramos, celebra, seguimos, marzo, sociedad, constante, companeras, pie\n",
      "Topic 08: gracias, muchas, ultimo, disponible, tan, ustedes, gran, amo, vida, trabajo, compartir, voz, diario, cada, companeras\n",
      "Topic 09: dia, internacional, cada, celebrar, buen, algun, conmemorar, conmemoracion, celebracion, especial, recordar, marzo, luchan, felicitar, ojala\n",
      "Topic 10: igualdad, derechos, genero, violencia, respeto, oportunidades, sociedad, justicia, luchando, real, equidad, libertad, hombres, seguir, compromiso\n",
      "Topic 11: asi, marcha, feminista, feminismo, gobierno, mexico, palacio, nacional, feministas, solo, hace, ver, nunca, aqui, bien\n",
      "Topic 12: siempre, juntas, manana, fuertes, nunca, respeto, ustedes, lado, amo, admiracion, unidas, ahora, sido, amor, vida\n",
      "Topic 13: miedo, queremos, quiero, libres, vivas, vivir, salir, calle, casa, tener, juntas, podamos, libre, seguras, justicia\n",
      "Topic 14: dias, ano, buenos, solo, marzo, hace, pasado, cada, sino, resto, semana, lunes, seguimos, respeto, vida\n",
      "Topic 15: mundo, mejor, igualitario, futuro, justo, cada, lideres, covid, hacer, construir, cambiar, lugar, ninas, equitativo, luchan\n"
     ]
    }
   ],
   "source": [
    "for topic_index in range(k):\n",
    "    descriptor = get_descriptor( terms, H, topic_index, 15)\n",
    "    str_descriptor = \", \".join( descriptor )\n",
    "    print(\"Topic %02d: %s\" % ( topic_index+1, str_descriptor ) )"
   ]
  },
  {
   "cell_type": "code",
   "execution_count": 37,
   "metadata": {
    "ExecuteTime": {
     "end_time": "2021-05-22T03:37:00.753345Z",
     "start_time": "2021-05-22T03:37:00.737389Z"
    }
   },
   "outputs": [
    {
     "name": "stdout",
     "output_type": "stream",
     "text": [
      "Topic 01: feliz, falte, ninguna, dia, dejen, decir, companeras, deseamos, desea, luchadoras, guerreras, chicas, matarnos, dice, mujer, hermosas, happy, menos, lunes, deseo\n",
      "Topic 02: mujeres, hombres, vida, violencia, historia, trabajo, trabajadoras, ninas, pais, derechos, trans, pandemia, mexico, valientes, muchas, parte, marzo, grandes, especial, sociedad\n",
      "Topic 03: todas, felicidades, aquellas, especial, voz, companeras, luchan, abrazo, amigas, juntas, ustedes, luchando, hermanas, cada, respeto, vida, faltan, reconocimiento, justicia, tocan\n",
      "Topic 04: hoy, nunca, manana, voz, conmemora, conmemoramos, celebra, celebramos, ayer, recordar, aqui, felicita, celebrar, marzo, solo, seguimos, aquellas, anos, recordamos, luchando\n",
      "Topic 05: mujer, internacional, marzo, trabajadora, hombre, vida, sociedad, conmemora, conmemoracion, historia, marco, participacion, primera, conmemoramos, madre, motivo, fuerte, gran, papel, celebra\n",
      "Topic 06: ser, puede, debe, ninguna, solo, falte, deberia, vida, hecho, mujer, parte, dejen, quiero, tan, hombre, orgullosa, nadie, libre, tener, humano\n",
      "Topic 07: lucha, feminista, derechos, sigue, viva, conmemora, continua, conmemoramos, celebra, seguimos, marzo, sociedad, constante, companeras, pie, felicita, diaria, equidad, fuerza, conmemoracion\n",
      "Topic 08: gracias, muchas, ultimo, disponible, tan, ustedes, gran, amo, vida, trabajo, compartir, voz, diario, cada, companeras, mejor, existir, apoyo, mil, dar\n",
      "Topic 09: dia, internacional, cada, celebrar, buen, algun, conmemorar, conmemoracion, celebracion, especial, recordar, marzo, luchan, felicitar, ojala, mejor, tan, luchar, importante, reflexion\n",
      "Topic 10: igualdad, derechos, genero, violencia, respeto, oportunidades, sociedad, justicia, luchando, real, equidad, libertad, hombres, seguir, compromiso, feminismo, trabajando, hacia, camino, seguimos\n",
      "Topic 11: asi, marcha, feminista, feminismo, gobierno, mexico, palacio, nacional, feministas, solo, hace, ver, nunca, aqui, bien, movimiento, anos, hacer, violencia, presidente\n",
      "Topic 12: siempre, juntas, manana, fuertes, nunca, respeto, ustedes, lado, amo, admiracion, unidas, ahora, sido, amor, vida, ahi, apoyo, tan, hermanas, casa\n",
      "Topic 13: miedo, queremos, quiero, libres, vivas, vivir, salir, calle, casa, tener, juntas, podamos, libre, seguras, justicia, fuertes, nunca, caminar, sola, volver\n",
      "Topic 14: dias, ano, buenos, solo, marzo, hace, pasado, cada, sino, resto, semana, lunes, seguimos, respeto, vida, tod, felicidades, aunque, restantes, aires\n",
      "Topic 15: mundo, mejor, igualitario, futuro, justo, cada, lideres, covid, hacer, construir, cambiar, lugar, ninas, equitativo, luchan, iguales, esfuerzos, amor, socialmente, entero\n"
     ]
    }
   ],
   "source": [
    "for topic_index in range(k):\n",
    "    descriptor = get_descriptor( terms, H, topic_index, 20)\n",
    "    str_descriptor = \", \".join( descriptor )\n",
    "    print(\"Topic %02d: %s\" % ( topic_index+1, str_descriptor ) )"
   ]
  },
  {
   "cell_type": "markdown",
   "metadata": {},
   "source": [
    "# 20"
   ]
  },
  {
   "cell_type": "code",
   "execution_count": 38,
   "metadata": {
    "ExecuteTime": {
     "end_time": "2021-05-22T03:37:00.757595Z",
     "start_time": "2021-05-22T03:37:00.754907Z"
    }
   },
   "outputs": [],
   "source": [
    "k = 20 # best_k\n",
    "\n",
    "# get the model that we generated earlier.\n",
    "W = topic_models[3][1]\n",
    "H = topic_models[3][2]"
   ]
  },
  {
   "cell_type": "markdown",
   "metadata": {},
   "source": [
    "Display the topic descriptors for this model:"
   ]
  },
  {
   "cell_type": "code",
   "execution_count": 39,
   "metadata": {
    "ExecuteTime": {
     "end_time": "2021-05-22T03:37:00.782144Z",
     "start_time": "2021-05-22T03:37:00.758997Z"
    }
   },
   "outputs": [
    {
     "name": "stdout",
     "output_type": "stream",
     "text": [
      "Topic 01: feliz, falte, ninguna, dia, dejen\n",
      "Topic 02: mujeres, hombres, derechos, historia, trabajadoras\n",
      "Topic 03: todas, felicidades, aquellas, especial, voz\n",
      "Topic 04: hoy, manana, conmemora, voz, conmemoramos\n",
      "Topic 05: mujer, internacional, marzo, trabajadora, hombre\n",
      "Topic 06: ser, debe, puede, ninguna, falte\n",
      "Topic 07: lucha, conmemora, sigue, viva, derechos\n",
      "Topic 08: gracias, muchas, disponible, ultimo, ustedes\n",
      "Topic 09: dia, internacional, cada, celebrar, buen\n",
      "Topic 10: igualdad, derechos, respeto, oportunidades, sociedad\n",
      "Topic 11: cada, solo, nunca, ano, aqui\n",
      "Topic 12: siempre, juntas, manana, fuertes, respeto\n",
      "Topic 13: miedo, quiero, vivir, salir, calle\n",
      "Topic 14: dias, buenos, ano, marzo, resto\n",
      "Topic 15: mundo, mejor, igualitario, futuro, justo\n",
      "Topic 16: asi, ojala, mexico, palacio, aun\n",
      "Topic 17: violencia, genero, libre, machista, vida\n",
      "Topic 18: queremos, vivas, libres, fuertes, iguales\n",
      "Topic 19: feminismo, machismo, trans, hombres, movimiento\n",
      "Topic 20: feminista, marcha, gobierno, movimiento, palacio\n"
     ]
    }
   ],
   "source": [
    "for topic_index in range(k):\n",
    "    descriptor = get_descriptor( terms, H, topic_index, 5)\n",
    "    str_descriptor = \", \".join( descriptor )\n",
    "    print(\"Topic %02d: %s\" % ( topic_index+1, str_descriptor ) )"
   ]
  },
  {
   "cell_type": "code",
   "execution_count": 40,
   "metadata": {
    "ExecuteTime": {
     "end_time": "2021-05-22T03:37:00.804107Z",
     "start_time": "2021-05-22T03:37:00.783530Z"
    }
   },
   "outputs": [
    {
     "name": "stdout",
     "output_type": "stream",
     "text": [
      "Topic 01: feliz, falte, ninguna, dia, dejen, decir, companeras, deseamos, desea, luchadoras\n",
      "Topic 02: mujeres, hombres, derechos, historia, trabajadoras, vida, ninas, trabajo, pais, trans\n",
      "Topic 03: todas, felicidades, aquellas, especial, voz, luchan, companeras, abrazo, juntas, amigas\n",
      "Topic 04: hoy, manana, conmemora, voz, conmemoramos, celebra, celebramos, ayer, nunca, recordar\n",
      "Topic 05: mujer, internacional, marzo, trabajadora, hombre, sociedad, conmemora, conmemoracion, vida, participacion\n",
      "Topic 06: ser, debe, puede, ninguna, falte, deberia, mujer, hecho, dejen, parte\n",
      "Topic 07: lucha, conmemora, sigue, viva, derechos, continua, conmemoramos, celebra, sociedad, marzo\n",
      "Topic 08: gracias, muchas, disponible, ultimo, ustedes, gran, tan, compartir, amo, diario\n",
      "Topic 09: dia, internacional, cada, celebrar, buen, algun, conmemoracion, conmemorar, celebracion, especial\n",
      "Topic 10: igualdad, derechos, respeto, oportunidades, sociedad, real, luchando, libertad, hombres, justicia\n",
      "Topic 11: cada, solo, nunca, ano, aqui, hace, vez, hacer, anos, vida\n",
      "Topic 12: siempre, juntas, manana, fuertes, respeto, ustedes, lado, admiracion, unidas, sido\n",
      "Topic 13: miedo, quiero, vivir, salir, calle, casa, tener, libres, libre, podamos\n",
      "Topic 14: dias, buenos, ano, marzo, resto, lunes, pasado, semana, felicidades, sino\n",
      "Topic 15: mundo, mejor, igualitario, futuro, justo, lideres, covid, construir, equitativo, cambiar\n",
      "Topic 16: asi, ojala, mexico, palacio, aun, nacional, cosas, gobierno, bien, vivio\n",
      "Topic 17: violencia, genero, libre, machista, vida, equidad, justicia, victimas, desigualdad, discriminacion\n",
      "Topic 18: queremos, vivas, libres, fuertes, iguales, seguras, juntas, valientes, justicia, unidas\n",
      "Topic 19: feminismo, machismo, trans, hombres, movimiento, representa, hombre, interseccional, necesario, inclusivo\n",
      "Topic 20: feminista, marcha, gobierno, movimiento, palacio, nacional, mexico, feministas, presidente, ciudad\n"
     ]
    }
   ],
   "source": [
    "for topic_index in range(k):\n",
    "    descriptor = get_descriptor( terms, H, topic_index, 10)\n",
    "    str_descriptor = \", \".join( descriptor )\n",
    "    print(\"Topic %02d: %s\" % ( topic_index+1, str_descriptor ) )"
   ]
  },
  {
   "cell_type": "code",
   "execution_count": 41,
   "metadata": {
    "ExecuteTime": {
     "end_time": "2021-05-22T03:37:00.824206Z",
     "start_time": "2021-05-22T03:37:00.805802Z"
    }
   },
   "outputs": [
    {
     "name": "stdout",
     "output_type": "stream",
     "text": [
      "Topic 01: feliz, falte, ninguna, dia, dejen, decir, companeras, deseamos, desea, luchadoras, chicas, guerreras, matarnos, dice, mujer\n",
      "Topic 02: mujeres, hombres, derechos, historia, trabajadoras, vida, ninas, trabajo, pais, trans, mexico, valientes, marzo, pandemia, grandes\n",
      "Topic 03: todas, felicidades, aquellas, especial, voz, luchan, companeras, abrazo, juntas, amigas, ustedes, hermanas, luchando, respeto, faltan\n",
      "Topic 04: hoy, manana, conmemora, voz, conmemoramos, celebra, celebramos, ayer, nunca, recordar, felicita, celebrar, marzo, aquellas, recordamos\n",
      "Topic 05: mujer, internacional, marzo, trabajadora, hombre, sociedad, conmemora, conmemoracion, vida, participacion, marco, historia, conmemoramos, primera, motivo\n",
      "Topic 06: ser, debe, puede, ninguna, falte, deberia, mujer, hecho, dejen, parte, orgullosa, humano, hombre, ultima, deben\n",
      "Topic 07: lucha, conmemora, sigue, viva, derechos, continua, conmemoramos, celebra, sociedad, marzo, constante, seguimos, companeras, pie, felicita\n",
      "Topic 08: gracias, muchas, disponible, ultimo, ustedes, gran, tan, compartir, amo, diario, trabajo, companeras, voz, existir, mil\n",
      "Topic 09: dia, internacional, cada, celebrar, buen, algun, conmemoracion, conmemorar, celebracion, especial, recordar, marzo, luchan, felicitar, ojala\n",
      "Topic 10: igualdad, derechos, respeto, oportunidades, sociedad, real, luchando, libertad, hombres, justicia, seguir, genero, equidad, compromiso, trabajando\n",
      "Topic 11: cada, solo, nunca, ano, aqui, hace, vez, hacer, anos, vida, ver, tan, bien, seguimos, nadie\n",
      "Topic 12: siempre, juntas, manana, fuertes, respeto, ustedes, lado, admiracion, unidas, sido, amo, apoyo, amor, ahora, adelante\n",
      "Topic 13: miedo, quiero, vivir, salir, calle, casa, tener, libres, libre, podamos, sola, caminar, volver, poder, cancion\n",
      "Topic 14: dias, buenos, ano, marzo, resto, lunes, pasado, semana, felicidades, sino, solo, tod, aires, restantes, hace\n",
      "Topic 15: mundo, mejor, igualitario, futuro, justo, lideres, covid, construir, equitativo, cambiar, ninas, lugar, hacer, luchan, iguales\n",
      "Topic 16: asi, ojala, mexico, palacio, aun, nacional, cosas, gobierno, bien, vivio, luce, feministas, manifestacion, zocalo, violadores\n",
      "Topic 17: violencia, genero, libre, machista, vida, equidad, justicia, victimas, desigualdad, discriminacion, hacia, perspectiva, ninas, sexual, pais\n",
      "Topic 18: queremos, vivas, libres, fuertes, iguales, seguras, juntas, valientes, justicia, unidas, flores, felices, felicitar, menos, felicitaciones\n",
      "Topic 19: feminismo, machismo, trans, hombres, movimiento, representa, hombre, interseccional, necesario, inclusivo, feministas, radical, patriarcado, odio, clase\n",
      "Topic 20: feminista, marcha, gobierno, movimiento, palacio, nacional, mexico, feministas, presidente, ciudad, revolucion, policias, zocalo, vallas, muro\n"
     ]
    }
   ],
   "source": [
    "for topic_index in range(k):\n",
    "    descriptor = get_descriptor( terms, H, topic_index, 15)\n",
    "    str_descriptor = \", \".join( descriptor )\n",
    "    print(\"Topic %02d: %s\" % ( topic_index+1, str_descriptor ) )"
   ]
  },
  {
   "cell_type": "code",
   "execution_count": 42,
   "metadata": {
    "ExecuteTime": {
     "end_time": "2021-05-22T03:37:00.845232Z",
     "start_time": "2021-05-22T03:37:00.825675Z"
    }
   },
   "outputs": [
    {
     "name": "stdout",
     "output_type": "stream",
     "text": [
      "Topic 01: feliz, falte, ninguna, dia, dejen, decir, companeras, deseamos, desea, luchadoras, chicas, guerreras, matarnos, dice, mujer, hermosas, menos, happy, deseo, lunes\n",
      "Topic 02: mujeres, hombres, derechos, historia, trabajadoras, vida, ninas, trabajo, pais, trans, mexico, valientes, marzo, pandemia, grandes, especial, muchas, reconocimiento, parte, sociedad\n",
      "Topic 03: todas, felicidades, aquellas, especial, voz, luchan, companeras, abrazo, juntas, amigas, ustedes, hermanas, luchando, respeto, faltan, reconocimiento, justicia, tocan, saludo, luchadoras\n",
      "Topic 04: hoy, manana, conmemora, voz, conmemoramos, celebra, celebramos, ayer, nunca, recordar, felicita, celebrar, marzo, aquellas, recordamos, especial, lucharon, luchamos, luchar, buen\n",
      "Topic 05: mujer, internacional, marzo, trabajadora, hombre, sociedad, conmemora, conmemoracion, vida, participacion, marco, historia, conmemoramos, primera, motivo, papel, celebra, gran, celebramos, madre\n",
      "Topic 06: ser, debe, puede, ninguna, falte, deberia, mujer, hecho, dejen, parte, orgullosa, humano, hombre, ultima, deben, libres, gana, podamos, libre, tan\n",
      "Topic 07: lucha, conmemora, sigue, viva, derechos, continua, conmemoramos, celebra, sociedad, marzo, constante, seguimos, companeras, pie, felicita, equidad, diaria, conmemoracion, reivindicacion, aun\n",
      "Topic 08: gracias, muchas, disponible, ultimo, ustedes, gran, tan, compartir, amo, diario, trabajo, companeras, voz, existir, mil, apoyo, dar, mejor, parte, marchar\n",
      "Topic 09: dia, internacional, cada, celebrar, buen, algun, conmemoracion, conmemorar, celebracion, especial, recordar, marzo, luchan, felicitar, ojala, mejor, reflexion, trabajadora, importante, luchar\n",
      "Topic 10: igualdad, derechos, respeto, oportunidades, sociedad, real, luchando, libertad, hombres, justicia, seguir, genero, equidad, compromiso, trabajando, conmemoramos, camino, reconocimiento, luchar, seguimos\n",
      "Topic 11: cada, solo, nunca, ano, aqui, hace, vez, hacer, anos, vida, ver, tan, bien, seguimos, nadie, aun, voz, vamos, menos, ahora\n",
      "Topic 12: siempre, juntas, manana, fuertes, respeto, ustedes, lado, admiracion, unidas, sido, amo, apoyo, amor, ahora, adelante, ahi, hermanas, ayer, casa, presente\n",
      "Topic 13: miedo, quiero, vivir, salir, calle, casa, tener, libres, libre, podamos, sola, caminar, volver, poder, cancion, manana, amigas, regresar, ninguna, mama\n",
      "Topic 14: dias, buenos, ano, marzo, resto, lunes, pasado, semana, felicidades, sino, solo, tod, aires, restantes, hace, deberian, luchamos, respeto, femicidios, demas\n",
      "Topic 15: mundo, mejor, igualitario, futuro, justo, lideres, covid, construir, equitativo, cambiar, ninas, lugar, hacer, luchan, iguales, mexico, oportunidades, esfuerzos, socialmente, entero\n",
      "Topic 16: asi, ojala, mexico, palacio, aun, nacional, cosas, gobierno, bien, vivio, luce, feministas, manifestacion, zocalo, violadores, claro, vive, pais, gente, ciudad\n",
      "Topic 17: violencia, genero, libre, machista, vida, equidad, justicia, victimas, desigualdad, discriminacion, hacia, perspectiva, ninas, sexual, pais, erradicar, sociedad, mexico, feminicidios, tipo\n",
      "Topic 18: queremos, vivas, libres, fuertes, iguales, seguras, juntas, valientes, justicia, unidas, flores, felices, felicitar, menos, felicitaciones, vivir, trabajo, miedo, reconocer, totalmente\n",
      "Topic 19: feminismo, machismo, trans, hombres, movimiento, representa, hombre, interseccional, necesario, inclusivo, feministas, radical, patriarcado, odio, clase, libertad, social, nunca, incluye, antirracista\n",
      "Topic 20: feminista, marcha, gobierno, movimiento, palacio, nacional, mexico, feministas, presidente, ciudad, revolucion, policias, zocalo, vallas, muro, historia, manifestacion, manifestantes, via, cdmx\n"
     ]
    }
   ],
   "source": [
    "for topic_index in range(k):\n",
    "    descriptor = get_descriptor( terms, H, topic_index, 20)\n",
    "    str_descriptor = \", \".join( descriptor )\n",
    "    print(\"Topic %02d: %s\" % ( topic_index+1, str_descriptor ) )"
   ]
  },
  {
   "cell_type": "code",
   "execution_count": null,
   "metadata": {},
   "outputs": [],
   "source": []
  }
 ],
 "metadata": {
  "@webio": {
   "lastCommId": null,
   "lastKernelId": null
  },
  "kernelspec": {
   "display_name": "Python 3",
   "language": "python",
   "name": "python3"
  },
  "language_info": {
   "codemirror_mode": {
    "name": "ipython",
    "version": 3
   },
   "file_extension": ".py",
   "mimetype": "text/x-python",
   "name": "python",
   "nbconvert_exporter": "python",
   "pygments_lexer": "ipython3",
   "version": "3.7.7"
  },
  "toc": {
   "base_numbering": 1,
   "nav_menu": {
    "height": "91px",
    "width": "373px"
   },
   "number_sections": true,
   "sideBar": true,
   "skip_h1_title": false,
   "title_cell": "Table of Contents",
   "title_sidebar": "Contents",
   "toc_cell": false,
   "toc_position": {
    "height": "557px",
    "left": "22px",
    "top": "170px",
    "width": "288px"
   },
   "toc_section_display": true,
   "toc_window_display": true
  }
 },
 "nbformat": 4,
 "nbformat_minor": 4
}
