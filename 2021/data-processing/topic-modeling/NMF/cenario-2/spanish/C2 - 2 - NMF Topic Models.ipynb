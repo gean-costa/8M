{
 "cells": [
  {
   "cell_type": "markdown",
   "metadata": {},
   "source": [
    "# NMF Topic Models"
   ]
  },
  {
   "cell_type": "markdown",
   "metadata": {},
   "source": [
    "Topic modelling aims to automatically discover the hidden thematic structure in a large corpus of text documents. One approach for topic modelling is to apply *matrix factorisation* methods, such as *Non-negative Matrix Factorisation (NMF)*. In this notebook we look at how to apply NMF using the *scikit-learn* library in Python."
   ]
  },
  {
   "cell_type": "markdown",
   "metadata": {},
   "source": [
    "### Applying NMF"
   ]
  },
  {
   "cell_type": "markdown",
   "metadata": {},
   "source": [
    "First, let's load the TF-IDF normalised document-term matrix and list of terms that we stored earlier using *Joblib*:"
   ]
  },
  {
   "cell_type": "code",
   "execution_count": 1,
   "metadata": {
    "ExecuteTime": {
     "end_time": "2021-05-22T03:33:07.083453Z",
     "start_time": "2021-05-22T03:33:06.143381Z"
    }
   },
   "outputs": [
    {
     "name": "stdout",
     "output_type": "stream",
     "text": [
      "Loaded 266214 X 12137 document-term matrix\n"
     ]
    }
   ],
   "source": [
    "import joblib\n",
    "\n",
    "(A, terms, snippets) = joblib.load(\"cenario2-tweets-tfidf.pkl\")\n",
    "\n",
    "print(\"Loaded %d X %d document-term matrix\" % (A.shape[0], A.shape[1]))"
   ]
  },
  {
   "cell_type": "markdown",
   "metadata": {},
   "source": [
    "The key input parameter to NMF is the number of topics to generate *k*. For the moment, we will pre-specify a guessed value, for demonstration purposes."
   ]
  },
  {
   "cell_type": "code",
   "execution_count": 2,
   "metadata": {
    "ExecuteTime": {
     "end_time": "2021-05-22T03:33:07.087280Z",
     "start_time": "2021-05-22T03:33:07.085095Z"
    }
   },
   "outputs": [],
   "source": [
    "k = 10"
   ]
  },
  {
   "cell_type": "markdown",
   "metadata": {},
   "source": [
    "Another choice for NMF revolves around initialisation. Most commonly, NMF involves using random initialisation to populate the values in the factors W and H. Depending on the random seed that you use, you may get different results on the same dataset. Instead, using SVD-based initialisation provides more reliable results."
   ]
  },
  {
   "cell_type": "code",
   "execution_count": 3,
   "metadata": {
    "ExecuteTime": {
     "end_time": "2021-05-22T03:33:30.489516Z",
     "start_time": "2021-05-22T03:33:07.088538Z"
    }
   },
   "outputs": [],
   "source": [
    "# create the model\n",
    "from sklearn import decomposition\n",
    "\n",
    "model = decomposition.NMF(init=\"nndsvd\", n_components=k)\n",
    "\n",
    "# apply the model and extract the two factor matrices\n",
    "W = model.fit_transform(A)\n",
    "H = model.components_"
   ]
  },
  {
   "cell_type": "markdown",
   "metadata": {},
   "source": [
    "### Examining the Output"
   ]
  },
  {
   "cell_type": "markdown",
   "metadata": {},
   "source": [
    "NMF produces to factor matrices as its output: *W* and *H*.\n",
    "\n",
    "The *W* factor contains the document membership weights relative to each of the *k* topics. Each row corresponds to a single document, and each column correspond to a topic."
   ]
  },
  {
   "cell_type": "code",
   "execution_count": 4,
   "metadata": {
    "ExecuteTime": {
     "end_time": "2021-05-22T03:33:30.501622Z",
     "start_time": "2021-05-22T03:33:30.491236Z"
    }
   },
   "outputs": [
    {
     "data": {
      "text/plain": [
       "(266214, 10)"
      ]
     },
     "execution_count": 4,
     "metadata": {},
     "output_type": "execute_result"
    }
   ],
   "source": [
    "W.shape"
   ]
  },
  {
   "cell_type": "markdown",
   "metadata": {},
   "source": [
    "For instance, for the first document, we see that it is strongly associated with one topic. However,  each document can be potentially associated with multiple topics to different degrees."
   ]
  },
  {
   "cell_type": "code",
   "execution_count": 5,
   "metadata": {
    "ExecuteTime": {
     "end_time": "2021-05-22T03:33:30.511959Z",
     "start_time": "2021-05-22T03:33:30.503271Z"
    }
   },
   "outputs": [
    {
     "data": {
      "text/plain": [
       "array([0., 0., 0., 0., 0., 0., 0., 0., 0., 0.])"
      ]
     },
     "execution_count": 5,
     "metadata": {},
     "output_type": "execute_result"
    }
   ],
   "source": [
    "# round to 2 decimal places for display purposes\n",
    "W[0,:].round(2)"
   ]
  },
  {
   "cell_type": "markdown",
   "metadata": {},
   "source": [
    "The *H* factor contains the term weights relative to each of the *k* topics. In this case, each row corresponds to a topic, and each column corresponds to a unique term in the corpus vocabulary."
   ]
  },
  {
   "cell_type": "code",
   "execution_count": 6,
   "metadata": {
    "ExecuteTime": {
     "end_time": "2021-05-22T03:33:30.522382Z",
     "start_time": "2021-05-22T03:33:30.513596Z"
    }
   },
   "outputs": [
    {
     "data": {
      "text/plain": [
       "(10, 12137)"
      ]
     },
     "execution_count": 6,
     "metadata": {},
     "output_type": "execute_result"
    }
   ],
   "source": [
    "H.shape"
   ]
  },
  {
   "cell_type": "markdown",
   "metadata": {},
   "source": [
    "For instance, for the term \"brexit\", we see that it is strongly associated with a single topic. Again, in some cases each term can be associated with multiple topics."
   ]
  },
  {
   "cell_type": "code",
   "execution_count": 7,
   "metadata": {
    "ExecuteTime": {
     "end_time": "2021-05-22T03:33:30.533705Z",
     "start_time": "2021-05-22T03:33:30.525133Z"
    }
   },
   "outputs": [
    {
     "data": {
      "text/plain": [
       "array([0.01, 0.  , 0.  , 0.  , 0.01, 0.  , 0.  , 0.  , 0.  , 0.  ])"
      ]
     },
     "execution_count": 7,
     "metadata": {},
     "output_type": "execute_result"
    }
   ],
   "source": [
    "term_index = terms.index('mulher')\n",
    "\n",
    "# round to 2 decimal places for display purposes\n",
    "H[:,term_index].round(2)"
   ]
  },
  {
   "cell_type": "markdown",
   "metadata": {},
   "source": [
    "### Topic Descriptors"
   ]
  },
  {
   "cell_type": "markdown",
   "metadata": {},
   "source": [
    "The top ranked terms from the *H* factor for each topic can give us an insight into the content of that topic. This is often called the *topic descriptor*. Let's define a function that extracts the descriptor for a specified topic: "
   ]
  },
  {
   "cell_type": "code",
   "execution_count": 8,
   "metadata": {
    "ExecuteTime": {
     "end_time": "2021-05-22T03:33:30.543234Z",
     "start_time": "2021-05-22T03:33:30.535577Z"
    }
   },
   "outputs": [],
   "source": [
    "import numpy as np\n",
    "\n",
    "\n",
    "def get_descriptor(terms, H, topic_index, top):\n",
    "    # reverse sort the values to sort the indices\n",
    "    top_indices = np.argsort(H[topic_index, :])[::-1]\n",
    "    # now get the terms corresponding to the top-ranked indices\n",
    "    top_terms = []\n",
    "    for term_index in top_indices[0:top]:\n",
    "        top_terms.append(terms[term_index])\n",
    "    return top_terms"
   ]
  },
  {
   "cell_type": "markdown",
   "metadata": {},
   "source": [
    "We can now get a descriptor for each topic using the top ranked terms (e.g. top 10):"
   ]
  },
  {
   "cell_type": "code",
   "execution_count": 9,
   "metadata": {
    "ExecuteTime": {
     "end_time": "2021-05-22T03:33:30.563916Z",
     "start_time": "2021-05-22T03:33:30.544833Z"
    }
   },
   "outputs": [
    {
     "name": "stdout",
     "output_type": "stream",
     "text": [
      "Topic 01: dia, feliz, falte, cada, ninguna, buen, algun, celebrar, dejen, dias\n",
      "Topic 02: mujeres, mundo, hombres, vida, violencia, historia, ninas, trabajo, pais, mexico\n",
      "Topic 03: todas, mundo, felicidades, aquellas, especial, luchan, voz, companeras, juntas, abrazo\n",
      "Topic 04: hoy, dias, siempre, dia, manana, ano, voz, conmemora, nunca, conmemoramos\n",
      "Topic 05: mujer, internacional, dia, marzo, trabajadora, conmemoracion, conmemora, hombre, vida, sociedad\n",
      "Topic 06: ser, puede, debe, mujer, ninguna, falte, deberia, vida, hecho, parte\n",
      "Topic 07: lucha, feminista, derechos, sigue, conmemora, viva, continua, conmemoramos, celebra, marzo\n",
      "Topic 08: gracias, muchas, ultimo, disponible, siempre, tan, ustedes, mejor, gran, amo\n",
      "Topic 09: miedo, asi, quiero, queremos, libres, solo, vivas, feminismo, nunca, marcha\n",
      "Topic 10: igualdad, derechos, genero, violencia, respeto, oportunidades, sociedad, luchando, justicia, real\n"
     ]
    }
   ],
   "source": [
    "descriptors = []\n",
    "\n",
    "for topic_index in range(k):\n",
    "    descriptors.append(get_descriptor(terms, H, topic_index, 10))\n",
    "    str_descriptor = \", \".join(descriptors[topic_index])\n",
    "    print(\"Topic %02d: %s\" % (topic_index + 1, str_descriptor))"
   ]
  },
  {
   "cell_type": "markdown",
   "metadata": {},
   "source": [
    "The rankings above do not show the strength of association for the different terms. We can represent the distribution of the weights for the top terms in a topic using a *matplotlib* horizontal bar chart."
   ]
  },
  {
   "cell_type": "code",
   "execution_count": 10,
   "metadata": {
    "ExecuteTime": {
     "end_time": "2021-05-22T03:33:30.769567Z",
     "start_time": "2021-05-22T03:33:30.565613Z"
    }
   },
   "outputs": [],
   "source": [
    "%matplotlib inline\n",
    "\n",
    "import numpy as np\n",
    "import matplotlib\n",
    "import matplotlib.pyplot as plt\n",
    "\n",
    "plt.style.use(\"ggplot\")\n",
    "matplotlib.rcParams.update({\"font.size\": 14})"
   ]
  },
  {
   "cell_type": "markdown",
   "metadata": {},
   "source": [
    "Define a function to create a bar chart for the specified topic, based on the *H* factor from the current NMF model:"
   ]
  },
  {
   "cell_type": "code",
   "execution_count": 11,
   "metadata": {
    "ExecuteTime": {
     "end_time": "2021-05-22T03:33:30.776544Z",
     "start_time": "2021-05-22T03:33:30.770882Z"
    }
   },
   "outputs": [],
   "source": [
    "def plot_top_term_weights(terms, H, topic_index, top):\n",
    "    \n",
    "    # get the top terms and their weights\n",
    "    top_indices = np.argsort(H[topic_index, :])[::-1]\n",
    "    top_terms = []\n",
    "    top_weights = []\n",
    "    \n",
    "    for term_index in top_indices[0:top]:\n",
    "        top_terms.append(terms[term_index])\n",
    "        top_weights.append(H[topic_index, term_index])\n",
    "    \n",
    "    # note we reverse the ordering for the plot\n",
    "    top_terms.reverse()\n",
    "    top_weights.reverse()\n",
    "    \n",
    "    # create the plot\n",
    "    fig = plt.figure(figsize=(13, 8))\n",
    "    \n",
    "    # add the horizontal bar chart\n",
    "    ypos = np.arange(top)\n",
    "    ax = plt.barh(\n",
    "        ypos, top_weights, align=\"center\", color=\"green\", tick_label=top_terms\n",
    "    )\n",
    "    plt.xlabel(\"Term Weight\", fontsize=14)\n",
    "    plt.tight_layout()\n",
    "    plt.show()"
   ]
  },
  {
   "cell_type": "markdown",
   "metadata": {},
   "source": [
    "So for instance, for the 7th topic we can generate a plot with the top 15 terms using:"
   ]
  },
  {
   "cell_type": "code",
   "execution_count": 12,
   "metadata": {
    "ExecuteTime": {
     "end_time": "2021-05-22T03:33:31.077331Z",
     "start_time": "2021-05-22T03:33:30.777810Z"
    }
   },
   "outputs": [
    {
     "data": {
      "image/png": "[encoded data removed]",
      "text/plain": [
       "<Figure size 936x576 with 1 Axes>"
      ]
     },
     "metadata": {},
     "output_type": "display_data"
    }
   ],
   "source": [
    "plot_top_term_weights( terms, H, 0, 15 )"
   ]
  },
  {
   "cell_type": "markdown",
   "metadata": {},
   "source": [
    "### Most Relevant Documents"
   ]
  },
  {
   "cell_type": "markdown",
   "metadata": {},
   "source": [
    "We can also look at the snippets for the top-ranked documents for each topic. We'll define a function to produce this ranking also."
   ]
  },
  {
   "cell_type": "code",
   "execution_count": 13,
   "metadata": {
    "ExecuteTime": {
     "end_time": "2021-05-22T03:33:31.083144Z",
     "start_time": "2021-05-22T03:33:31.078866Z"
    }
   },
   "outputs": [],
   "source": [
    "def get_top_snippets(all_snippets, W, topic_index, top):\n",
    "    \n",
    "    # reverse sort the values to sort the indices\n",
    "    top_indices = np.argsort(W[:, topic_index])[::-1]\n",
    "    \n",
    "    # now get the snippets corresponding to the top-ranked indices\n",
    "    top_snippets = []\n",
    "    \n",
    "    for doc_index in top_indices[0:top]:\n",
    "        top_snippets.append(all_snippets[doc_index])\n",
    "    \n",
    "    return top_snippets"
   ]
  },
  {
   "cell_type": "markdown",
   "metadata": {},
   "source": [
    "For instance, for the first topic listed above, the top 10 documents are:"
   ]
  },
  {
   "cell_type": "code",
   "execution_count": 14,
   "metadata": {
    "ExecuteTime": {
     "end_time": "2021-05-22T03:33:31.115459Z",
     "start_time": "2021-05-22T03:33:31.084581Z"
    }
   },
   "outputs": [
    {
     "name": "stdout",
     "output_type": "stream",
     "text": [
      "01. dia feliz dia feliz dia feliz dia feliz dia feliz dia feliz dia feliz dia feliz dia feliz dia feliz \n",
      "02. feliz dia bizcochas\n",
      "03. feliz dia karatekas\n",
      "04. feliz dia xicas\n",
      "05. feliz dia xoxos\n",
      "06. buah feliz dia\n",
      "07. feliz dia pili\n",
      "08. feliz dia xaguzar\n",
      "09. mayu feliz dia\n",
      "10. feliz dia pagues glosa\n"
     ]
    }
   ],
   "source": [
    "topic_snippets = get_top_snippets(snippets, W, 0, 10)\n",
    "\n",
    "for i, snippet in enumerate(topic_snippets):\n",
    "    print(\"%02d. %s\" % ((i + 1), snippet))"
   ]
  },
  {
   "cell_type": "markdown",
   "metadata": {},
   "source": [
    "Similarly, for the second topic:"
   ]
  },
  {
   "cell_type": "code",
   "execution_count": 15,
   "metadata": {
    "ExecuteTime": {
     "end_time": "2021-05-22T03:33:31.154000Z",
     "start_time": "2021-05-22T03:33:31.117075Z"
    }
   },
   "outputs": [
    {
     "name": "stdout",
     "output_type": "stream",
     "text": [
      "01. mujeres imperfectas\n",
      "02. mujeres mujeres\n",
      "03. visibilice compense mujeres\n",
      "04. mujeres funandome\n",
      "05. mujeres darwin bioprospecting\n",
      "06. mujeres perdicion\n",
      "07. mujeres humedales\n",
      "08. iconicas mujeres\n",
      "09. viceministerios representados mujeres\n",
      "10. narc0s mujeres\n"
     ]
    }
   ],
   "source": [
    "topic_snippets = get_top_snippets(snippets, W, 1, 10)\n",
    "\n",
    "for i, snippet in enumerate(topic_snippets):\n",
    "    print(\"%02d. %s\" % ((i + 1), snippet))"
   ]
  },
  {
   "cell_type": "markdown",
   "metadata": {},
   "source": [
    "### Exporting the Results"
   ]
  },
  {
   "cell_type": "markdown",
   "metadata": {},
   "source": [
    "If we want to keep this topic model for later user, we can save it using *joblib*:"
   ]
  },
  {
   "cell_type": "code",
   "execution_count": 16,
   "metadata": {
    "ExecuteTime": {
     "end_time": "2021-05-22T03:33:32.445808Z",
     "start_time": "2021-05-22T03:33:31.155625Z"
    }
   },
   "outputs": [
    {
     "data": {
      "text/plain": [
       "['cenario2-tweets-model-nmf-k10.pkl']"
      ]
     },
     "execution_count": 16,
     "metadata": {},
     "output_type": "execute_result"
    }
   ],
   "source": [
    "joblib.dump((W,H,terms,snippets), \"cenario2-tweets-model-nmf-k%02d.pkl\" % k) "
   ]
  },
  {
   "cell_type": "code",
   "execution_count": null,
   "metadata": {},
   "outputs": [],
   "source": []
  }
 ],
 "metadata": {
  "kernelspec": {
   "display_name": "Python 3",
   "language": "python",
   "name": "python3"
  },
  "language_info": {
   "codemirror_mode": {
    "name": "ipython",
    "version": 3
   },
   "file_extension": ".py",
   "mimetype": "text/x-python",
   "name": "python",
   "nbconvert_exporter": "python",
   "pygments_lexer": "ipython3",
   "version": "3.7.7"
  },
  "toc": {
   "base_numbering": 1,
   "nav_menu": {},
   "number_sections": true,
   "sideBar": true,
   "skip_h1_title": false,
   "title_cell": "Table of Contents",
   "title_sidebar": "Contents",
   "toc_cell": false,
   "toc_position": {},
   "toc_section_display": true,
   "toc_window_display": false
  }
 },
 "nbformat": 4,
 "nbformat_minor": 4
}
