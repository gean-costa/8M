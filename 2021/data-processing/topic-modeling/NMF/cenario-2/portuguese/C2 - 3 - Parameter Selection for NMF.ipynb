{
 "cells": [
  {
   "cell_type": "markdown",
   "metadata": {},
   "source": [
    "# Parameter Selection for NMF"
   ]
  },
  {
   "cell_type": "markdown",
   "metadata": {},
   "source": [
    "Now we look at the more advanced task of parameter selection for NMF topic modelling - namely, selecting a useful value for the number of topics *k*."
   ]
  },
  {
   "cell_type": "markdown",
   "metadata": {},
   "source": [
    "First, let's load the TF-IDF normalised document-term matrix and list of terms that we stored earlier using *Joblib*:"
   ]
  },
  {
   "cell_type": "code",
   "execution_count": 1,
   "metadata": {
    "ExecuteTime": {
     "end_time": "2021-05-22T03:30:56.534390Z",
     "start_time": "2021-05-22T03:30:56.226949Z"
    }
   },
   "outputs": [
    {
     "name": "stdout",
     "output_type": "stream",
     "text": [
      "Loaded 32194 X 2230 document-term matrix\n"
     ]
    }
   ],
   "source": [
    "import joblib\n",
    "\n",
    "(A, terms, snippets) = joblib.load(\"cenario2-tweets-tfidf.pkl\")\n",
    "\n",
    "print(\"Loaded %d X %d document-term matrix\" % (A.shape[0], A.shape[1]))"
   ]
  },
  {
   "cell_type": "markdown",
   "metadata": {},
   "source": [
    "### Create the Topic Models"
   ]
  },
  {
   "cell_type": "markdown",
   "metadata": {},
   "source": [
    "A common approach for parameter selection is to Measure and compare the topic coherence of models generated for different values of *k*."
   ]
  },
  {
   "cell_type": "markdown",
   "metadata": {},
   "source": [
    "We need to start by pre-specifying an initial range of \"sensible\" values:"
   ]
  },
  {
   "cell_type": "code",
   "execution_count": 2,
   "metadata": {
    "ExecuteTime": {
     "end_time": "2021-05-22T03:30:56.538408Z",
     "start_time": "2021-05-22T03:30:56.536087Z"
    }
   },
   "outputs": [],
   "source": [
    "kmin, kmax = 5, 20"
   ]
  },
  {
   "cell_type": "markdown",
   "metadata": {},
   "source": [
    "Apply NMF for each of these values:"
   ]
  },
  {
   "cell_type": "code",
   "execution_count": 3,
   "metadata": {
    "ExecuteTime": {
     "end_time": "2021-05-22T03:31:06.798969Z",
     "start_time": "2021-05-22T03:30:56.539707Z"
    }
   },
   "outputs": [
    {
     "name": "stdout",
     "output_type": "stream",
     "text": [
      "Applying NMF for k=5 ...\n",
      "Applying NMF for k=10 ...\n",
      "Applying NMF for k=15 ...\n",
      "Applying NMF for k=20 ...\n"
     ]
    }
   ],
   "source": [
    "from sklearn import decomposition\n",
    "\n",
    "topic_models = []\n",
    "\n",
    "# try each value of k\n",
    "for k in range(kmin, kmax + 1, 5):\n",
    "    print(\"Applying NMF for k=%d ...\" % k)\n",
    "    # run NMF\n",
    "    model = decomposition.NMF(init=\"nndsvd\", n_components=k)\n",
    "    W = model.fit_transform(A)\n",
    "    H = model.components_\n",
    "    # store for later\n",
    "    topic_models.append((k, W, H))"
   ]
  },
  {
   "cell_type": "markdown",
   "metadata": {},
   "source": [
    "### Build a Word Embedding"
   ]
  },
  {
   "cell_type": "markdown",
   "metadata": {},
   "source": [
    "To select the number of topics, here we will use a *topic coherence* measure called TC-W2V. This measure relies on the use of a *word embedding* model constructed from our corpus. So in this step we will use the *Gensim* implementation of Word2Vec to build a Word2Vec model based on our collection of news articles."
   ]
  },
  {
   "cell_type": "markdown",
   "metadata": {},
   "source": [
    "**Note:** If you want to skip this step, a pre-built Word2Vec model for the sample dataset [is also provided here for download](http://erdos.ucd.ie/files/pydata/w2v-model.bin) (71MB)."
   ]
  },
  {
   "cell_type": "markdown",
   "metadata": {},
   "source": [
    "We read the documents from the input file again:"
   ]
  },
  {
   "cell_type": "code",
   "execution_count": 4,
   "metadata": {
    "ExecuteTime": {
     "end_time": "2021-05-22T03:31:06.827125Z",
     "start_time": "2021-05-22T03:31:06.800512Z"
    }
   },
   "outputs": [
    {
     "name": "stdout",
     "output_type": "stream",
     "text": [
      "Read 32194 raw text documents\n"
     ]
    }
   ],
   "source": [
    "import os.path\n",
    "\n",
    "raw_documents = []\n",
    "\n",
    "with open(os.path.join(\"../../././../../../data-pre-processing/2csv/cenario2_8M2021_tweets_pt.txt\"), \"r\") as fin:\n",
    "    for line in fin.readlines():\n",
    "        raw_documents.append(line.strip().lower())\n",
    "\n",
    "print(\"Read %d raw text documents\" % len(raw_documents))"
   ]
  },
  {
   "cell_type": "markdown",
   "metadata": {},
   "source": [
    "Read the custom stopword list:"
   ]
  },
  {
   "cell_type": "code",
   "execution_count": 5,
   "metadata": {
    "ExecuteTime": {
     "end_time": "2021-05-22T03:31:06.832760Z",
     "start_time": "2021-05-22T03:31:06.828602Z"
    }
   },
   "outputs": [
    {
     "name": "stdout",
     "output_type": "stream",
     "text": [
      "Stopword list has 231 entries\n"
     ]
    }
   ],
   "source": [
    "custom_stop_words = []\n",
    "\n",
    "with open(\"portuguese.txt\", \"r\") as fin:\n",
    "    for line in fin.readlines():\n",
    "        custom_stop_words.append(line.strip().lower())\n",
    "\n",
    "# note that we need to make it hashable\n",
    "print(\"Stopword list has %d entries\" % len(custom_stop_words))"
   ]
  },
  {
   "cell_type": "markdown",
   "metadata": {},
   "source": [
    "First, we need to define a class that will generate documents in a form that can be consumed by Gensim's Word2Vec implementation:"
   ]
  },
  {
   "cell_type": "code",
   "execution_count": 6,
   "metadata": {
    "ExecuteTime": {
     "end_time": "2021-05-22T03:31:06.842763Z",
     "start_time": "2021-05-22T03:31:06.834163Z"
    }
   },
   "outputs": [],
   "source": [
    "import re\n",
    "\n",
    "\n",
    "class TokenGenerator:\n",
    "    def __init__(self, documents, stopwords):\n",
    "        self.documents = documents\n",
    "        self.stopwords = stopwords\n",
    "        self.tokenizer = re.compile(r\"(?u)\\b\\w\\w+\\b\")\n",
    "\n",
    "    def __iter__(self):\n",
    "        print(\"Building Word2Vec model ...\")\n",
    "        for doc in self.documents:\n",
    "            tokens = []\n",
    "            for tok in self.tokenizer.findall(doc):\n",
    "                if tok in self.stopwords:\n",
    "                    tokens.append(\"<stopword>\")\n",
    "                elif len(tok) >= 2:\n",
    "                    tokens.append(tok)\n",
    "            yield tokens"
   ]
  },
  {
   "cell_type": "markdown",
   "metadata": {},
   "source": [
    "Now build a Skipgram Word2Vec model from all documents in the input file using *Gensim*:"
   ]
  },
  {
   "cell_type": "code",
   "execution_count": 7,
   "metadata": {
    "ExecuteTime": {
     "end_time": "2021-05-22T03:31:07.060192Z",
     "start_time": "2021-05-22T03:31:06.845014Z"
    }
   },
   "outputs": [],
   "source": [
    "import gensim"
   ]
  },
  {
   "cell_type": "code",
   "execution_count": 8,
   "metadata": {
    "ExecuteTime": {
     "end_time": "2021-05-22T03:31:19.112440Z",
     "start_time": "2021-05-22T03:31:07.062713Z"
    }
   },
   "outputs": [
    {
     "name": "stdout",
     "output_type": "stream",
     "text": [
      "Building Word2Vec model ...\n",
      "Building Word2Vec model ...\n",
      "Building Word2Vec model ...\n",
      "Building Word2Vec model ...\n",
      "Building Word2Vec model ...\n",
      "Building Word2Vec model ...\n"
     ]
    }
   ],
   "source": [
    "docgen = TokenGenerator(raw_documents, custom_stop_words)\n",
    "\n",
    "# the model has 500 dimensions, the minimum document-term frequency is 20\n",
    "w2v_model = gensim.models.Word2Vec(docgen, size=500, min_count=20, sg=1)"
   ]
  },
  {
   "cell_type": "code",
   "execution_count": 9,
   "metadata": {
    "ExecuteTime": {
     "end_time": "2021-05-22T03:31:19.116477Z",
     "start_time": "2021-05-22T03:31:19.113814Z"
    }
   },
   "outputs": [
    {
     "name": "stdout",
     "output_type": "stream",
     "text": [
      "Model has 2273 terms\n"
     ]
    }
   ],
   "source": [
    "print( \"Model has %d terms\" % len(w2v_model.wv.vocab) )"
   ]
  },
  {
   "cell_type": "markdown",
   "metadata": {},
   "source": [
    "Save for later use, so that we do not need to rebuild it:"
   ]
  },
  {
   "cell_type": "code",
   "execution_count": 10,
   "metadata": {
    "ExecuteTime": {
     "end_time": "2021-05-22T03:31:19.236683Z",
     "start_time": "2021-05-22T03:31:19.117729Z"
    }
   },
   "outputs": [],
   "source": [
    "w2v_model.save(\"cenario2_w2v-model.bin\")"
   ]
  },
  {
   "cell_type": "code",
   "execution_count": 11,
   "metadata": {
    "ExecuteTime": {
     "end_time": "2021-05-22T03:31:19.239864Z",
     "start_time": "2021-05-22T03:31:19.238039Z"
    }
   },
   "outputs": [],
   "source": [
    "# To re-load this model, run\n",
    "# w2v_model = gensim.models.Word2Vec.load(\"cenario1_w2v-model.bin\")"
   ]
  },
  {
   "cell_type": "markdown",
   "metadata": {},
   "source": [
    "### Selecting the Number of Topics"
   ]
  },
  {
   "cell_type": "markdown",
   "metadata": {},
   "source": [
    "Once we have our Word2vec model, we can use it as part of our *topic coherence* approach to evaluate the different NMF topic models that we created previously. To do this, we will implement a simple version of the TC-W2V coherence measure."
   ]
  },
  {
   "cell_type": "markdown",
   "metadata": {},
   "source": [
    "We use the Word2vec model to calculate coherence scores for each of these models. We will define this coherence score as follows:"
   ]
  },
  {
   "cell_type": "code",
   "execution_count": 12,
   "metadata": {
    "ExecuteTime": {
     "end_time": "2021-05-22T03:31:19.249909Z",
     "start_time": "2021-05-22T03:31:19.241197Z"
    }
   },
   "outputs": [],
   "source": [
    "def calculate_coherence(w2v_model, term_rankings):\n",
    "    overall_coherence = 0.0\n",
    "    \n",
    "    for topic_index in range(len(term_rankings)):\n",
    "        # check each pair of terms\n",
    "        pair_scores = []\n",
    "        for pair in combinations(term_rankings[topic_index], 2):\n",
    "            pair_scores.append(w2v_model.similarity(pair[0], pair[1]))\n",
    "        # get the mean for all pairs in this topic\n",
    "        topic_score = sum(pair_scores) / len(pair_scores)\n",
    "        overall_coherence += topic_score\n",
    "    \n",
    "    # get the mean score across all topics\n",
    "    return overall_coherence / len(term_rankings)"
   ]
  },
  {
   "cell_type": "markdown",
   "metadata": {},
   "source": [
    "We also define a function to get the topic descriptor (i.e. list of top terms) for each topic:"
   ]
  },
  {
   "cell_type": "code",
   "execution_count": 13,
   "metadata": {
    "ExecuteTime": {
     "end_time": "2021-05-22T03:31:19.259589Z",
     "start_time": "2021-05-22T03:31:19.252159Z"
    }
   },
   "outputs": [],
   "source": [
    "import numpy as np\n",
    "\n",
    "\n",
    "def get_descriptor(all_terms, H, topic_index, top):\n",
    "    # reverse sort the values to sort the indices\n",
    "    top_indices = np.argsort(H[topic_index, :])[::-1]\n",
    "    \n",
    "    # now get the terms corresponding to the top-ranked indices\n",
    "    top_terms = []\n",
    "    \n",
    "    for term_index in top_indices[0:top]:\n",
    "        top_terms.append(all_terms[term_index])\n",
    "    \n",
    "    return top_terms"
   ]
  },
  {
   "cell_type": "markdown",
   "metadata": {},
   "source": [
    "Now process each of the models for different values of *k*:"
   ]
  },
  {
   "cell_type": "markdown",
   "metadata": {},
   "source": [
    "# 5"
   ]
  },
  {
   "cell_type": "code",
   "execution_count": 14,
   "metadata": {
    "ExecuteTime": {
     "end_time": "2021-05-22T03:31:19.298160Z",
     "start_time": "2021-05-22T03:31:19.260912Z"
    }
   },
   "outputs": [
    {
     "name": "stdout",
     "output_type": "stream",
     "text": [
      "K=05: Coherence=0.5797\n",
      "K=10: Coherence=0.6060\n",
      "K=15: Coherence=0.5933\n",
      "K=20: Coherence=0.6121\n"
     ]
    },
    {
     "name": "stderr",
     "output_type": "stream",
     "text": [
      "/home/gean/anaconda3/lib/python3.7/site-packages/ipykernel_launcher.py:8: DeprecationWarning: Call to deprecated `similarity` (Method will be removed in 4.0.0, use self.wv.similarity() instead).\n",
      "  \n"
     ]
    }
   ],
   "source": [
    "from itertools import combinations\n",
    "\n",
    "k_values = []\n",
    "coherences = []\n",
    "\n",
    "for (k, W, H) in topic_models:\n",
    "    # Get all of the topic descriptors - the term_rankings, based on top 10 terms\n",
    "    term_rankings = []\n",
    "    \n",
    "    for topic_index in range(k):\n",
    "        term_rankings.append(get_descriptor(terms, H, topic_index, 5))\n",
    "    \n",
    "    # Now calculate the coherence based on our Word2vec model\n",
    "    k_values.append(k)\n",
    "    coherences.append(calculate_coherence(w2v_model, term_rankings))\n",
    "    \n",
    "    print(\"K=%02d: Coherence=%.4f\" % (k, coherences[-1]))\n",
    "    # print(f'{coherences[-1]:.4f}')"
   ]
  },
  {
   "cell_type": "markdown",
   "metadata": {},
   "source": [
    "We can now use *matplotlib* to generate a line plot of these coherence scores, to help us select an appropriate value."
   ]
  },
  {
   "cell_type": "code",
   "execution_count": 15,
   "metadata": {
    "ExecuteTime": {
     "end_time": "2021-05-22T03:31:19.533062Z",
     "start_time": "2021-05-22T03:31:19.299776Z"
    }
   },
   "outputs": [],
   "source": [
    "%matplotlib inline\n",
    "import matplotlib\n",
    "import matplotlib.pyplot as plt\n",
    "\n",
    "plt.style.use(\"ggplot\")\n",
    "matplotlib.rcParams.update({\"font.size\": 14})"
   ]
  },
  {
   "cell_type": "code",
   "execution_count": 16,
   "metadata": {
    "ExecuteTime": {
     "end_time": "2021-05-22T03:31:19.741209Z",
     "start_time": "2021-05-22T03:31:19.534764Z"
    }
   },
   "outputs": [
    {
     "data": {
      "image/png": "[encoded data removed]",
      "text/plain": [
       "<Figure size 936x504 with 1 Axes>"
      ]
     },
     "metadata": {},
     "output_type": "display_data"
    }
   ],
   "source": [
    "fig = plt.figure(figsize=(13,7))\n",
    "\n",
    "# create the line plot\n",
    "ax = plt.plot( k_values, coherences )\n",
    "plt.xticks(k_values)\n",
    "plt.xlabel(\"Number of Topics\")\n",
    "plt.ylabel(\"Mean Coherence\")\n",
    "\n",
    "# add the points\n",
    "plt.scatter( k_values, coherences, s=120)\n",
    "\n",
    "\n",
    "# find and annotate the maximum point on the plot\n",
    "ymax = max(coherences)\n",
    "xpos = coherences.index(ymax)\n",
    "best_k = k_values[xpos]\n",
    "plt.annotate( \"k=%d\" % best_k, xy=(best_k, ymax), xytext=(best_k, ymax), textcoords=\"offset points\", fontsize=16)\n",
    "\n",
    "# show the plot\n",
    "plt.show()"
   ]
  },
  {
   "cell_type": "markdown",
   "metadata": {},
   "source": [
    "# 10"
   ]
  },
  {
   "cell_type": "code",
   "execution_count": 17,
   "metadata": {
    "ExecuteTime": {
     "end_time": "2021-05-22T03:31:19.836956Z",
     "start_time": "2021-05-22T03:31:19.742647Z"
    }
   },
   "outputs": [
    {
     "name": "stdout",
     "output_type": "stream",
     "text": [
      "K=05: Coherence=0.5758\n",
      "K=10: Coherence=0.5746\n",
      "K=15: Coherence=0.5624\n",
      "K=20: Coherence=0.6004\n"
     ]
    },
    {
     "name": "stderr",
     "output_type": "stream",
     "text": [
      "/home/gean/anaconda3/lib/python3.7/site-packages/ipykernel_launcher.py:8: DeprecationWarning: Call to deprecated `similarity` (Method will be removed in 4.0.0, use self.wv.similarity() instead).\n",
      "  \n"
     ]
    }
   ],
   "source": [
    "from itertools import combinations\n",
    "\n",
    "k_values = []\n",
    "coherences = []\n",
    "\n",
    "for (k, W, H) in topic_models:\n",
    "    # Get all of the topic descriptors - the term_rankings, based on top 10 terms\n",
    "    term_rankings = []\n",
    "    \n",
    "    for topic_index in range(k):\n",
    "        term_rankings.append(get_descriptor(terms, H, topic_index, 10))\n",
    "    \n",
    "    # Now calculate the coherence based on our Word2vec model\n",
    "    k_values.append(k)\n",
    "    coherences.append(calculate_coherence(w2v_model, term_rankings))\n",
    "    \n",
    "    print(\"K=%02d: Coherence=%.4f\" % (k, coherences[-1]))\n",
    "    # print(f'{coherences[-1]:.4f}')"
   ]
  },
  {
   "cell_type": "code",
   "execution_count": 18,
   "metadata": {
    "ExecuteTime": {
     "end_time": "2021-05-22T03:31:20.074148Z",
     "start_time": "2021-05-22T03:31:19.838253Z"
    }
   },
   "outputs": [
    {
     "data": {
      "image/png": "[encoded data removed]",
      "text/plain": [
       "<Figure size 936x504 with 1 Axes>"
      ]
     },
     "metadata": {},
     "output_type": "display_data"
    }
   ],
   "source": [
    "fig = plt.figure(figsize=(13,7))\n",
    "\n",
    "# create the line plot\n",
    "ax = plt.plot( k_values, coherences )\n",
    "plt.xticks(k_values)\n",
    "plt.xlabel(\"Number of Topics\")\n",
    "plt.ylabel(\"Mean Coherence\")\n",
    "\n",
    "# add the points\n",
    "plt.scatter( k_values, coherences, s=120)\n",
    "\n",
    "\n",
    "# find and annotate the maximum point on the plot\n",
    "ymax = max(coherences)\n",
    "xpos = coherences.index(ymax)\n",
    "best_k = k_values[xpos]\n",
    "plt.annotate( \"k=%d\" % best_k, xy=(best_k, ymax), xytext=(best_k, ymax), textcoords=\"offset points\", fontsize=16)\n",
    "\n",
    "# show the plot\n",
    "plt.show()"
   ]
  },
  {
   "cell_type": "markdown",
   "metadata": {},
   "source": [
    "# 15 "
   ]
  },
  {
   "cell_type": "code",
   "execution_count": 19,
   "metadata": {
    "ExecuteTime": {
     "end_time": "2021-05-22T03:31:20.264680Z",
     "start_time": "2021-05-22T03:31:20.075532Z"
    }
   },
   "outputs": [
    {
     "name": "stdout",
     "output_type": "stream",
     "text": [
      "K=05: Coherence=0.5309\n",
      "K=10: Coherence=0.5515\n",
      "K=15: Coherence=0.5644\n",
      "K=20: Coherence=0.5795\n"
     ]
    },
    {
     "name": "stderr",
     "output_type": "stream",
     "text": [
      "/home/gean/anaconda3/lib/python3.7/site-packages/ipykernel_launcher.py:8: DeprecationWarning: Call to deprecated `similarity` (Method will be removed in 4.0.0, use self.wv.similarity() instead).\n",
      "  \n"
     ]
    }
   ],
   "source": [
    "from itertools import combinations\n",
    "\n",
    "k_values = []\n",
    "coherences = []\n",
    "\n",
    "for (k, W, H) in topic_models:\n",
    "    # Get all of the topic descriptors - the term_rankings, based on top 10 terms\n",
    "    term_rankings = []\n",
    "    \n",
    "    for topic_index in range(k):\n",
    "        term_rankings.append(get_descriptor(terms, H, topic_index, 15))\n",
    "    \n",
    "    # Now calculate the coherence based on our Word2vec model\n",
    "    k_values.append(k)\n",
    "    coherences.append(calculate_coherence(w2v_model, term_rankings))\n",
    "    \n",
    "    print(\"K=%02d: Coherence=%.4f\" % (k, coherences[-1]))\n",
    "    # print(f'{coherences[-1]:.4f}')"
   ]
  },
  {
   "cell_type": "code",
   "execution_count": 20,
   "metadata": {
    "ExecuteTime": {
     "end_time": "2021-05-22T03:31:20.444678Z",
     "start_time": "2021-05-22T03:31:20.266088Z"
    }
   },
   "outputs": [
    {
     "data": {
      "image/png": "[encoded data removed]",
      "text/plain": [
       "<Figure size 936x504 with 1 Axes>"
      ]
     },
     "metadata": {},
     "output_type": "display_data"
    }
   ],
   "source": [
    "fig = plt.figure(figsize=(13,7))\n",
    "\n",
    "# create the line plot\n",
    "ax = plt.plot( k_values, coherences )\n",
    "plt.xticks(k_values)\n",
    "plt.xlabel(\"Number of Topics\")\n",
    "plt.ylabel(\"Mean Coherence\")\n",
    "\n",
    "# add the points\n",
    "plt.scatter( k_values, coherences, s=120)\n",
    "\n",
    "\n",
    "# find and annotate the maximum point on the plot\n",
    "ymax = max(coherences)\n",
    "xpos = coherences.index(ymax)\n",
    "best_k = k_values[xpos]\n",
    "plt.annotate( \"k=%d\" % best_k, xy=(best_k, ymax), xytext=(best_k, ymax), textcoords=\"offset points\", fontsize=16)\n",
    "\n",
    "# show the plot\n",
    "plt.show()"
   ]
  },
  {
   "cell_type": "markdown",
   "metadata": {},
   "source": [
    "# 20"
   ]
  },
  {
   "cell_type": "code",
   "execution_count": 21,
   "metadata": {
    "ExecuteTime": {
     "end_time": "2021-05-22T03:31:20.823591Z",
     "start_time": "2021-05-22T03:31:20.446718Z"
    }
   },
   "outputs": [
    {
     "name": "stderr",
     "output_type": "stream",
     "text": [
      "/home/gean/anaconda3/lib/python3.7/site-packages/ipykernel_launcher.py:8: DeprecationWarning: Call to deprecated `similarity` (Method will be removed in 4.0.0, use self.wv.similarity() instead).\n",
      "  \n"
     ]
    },
    {
     "name": "stdout",
     "output_type": "stream",
     "text": [
      "K=05: Coherence=0.5272\n",
      "K=10: Coherence=0.5531\n",
      "K=15: Coherence=0.5542\n",
      "K=20: Coherence=0.5731\n"
     ]
    }
   ],
   "source": [
    "from itertools import combinations\n",
    "\n",
    "k_values = []\n",
    "coherences = []\n",
    "\n",
    "for (k, W, H) in topic_models:\n",
    "    # Get all of the topic descriptors - the term_rankings, based on top 10 terms\n",
    "    term_rankings = []\n",
    "    \n",
    "    for topic_index in range(k):\n",
    "        term_rankings.append(get_descriptor(terms, H, topic_index, 20))\n",
    "    \n",
    "    # Now calculate the coherence based on our Word2vec model\n",
    "    k_values.append(k)\n",
    "    coherences.append(calculate_coherence(w2v_model, term_rankings))\n",
    "    \n",
    "    print(\"K=%02d: Coherence=%.4f\" % (k, coherences[-1]))\n",
    "    # print(f'{coherences[-1]:.4f}')"
   ]
  },
  {
   "cell_type": "code",
   "execution_count": 22,
   "metadata": {
    "ExecuteTime": {
     "end_time": "2021-05-22T03:31:20.987667Z",
     "start_time": "2021-05-22T03:31:20.825624Z"
    }
   },
   "outputs": [
    {
     "data": {
      "image/png": "[encoded data removed]",
      "text/plain": [
       "<Figure size 936x504 with 1 Axes>"
      ]
     },
     "metadata": {},
     "output_type": "display_data"
    }
   ],
   "source": [
    "fig = plt.figure(figsize=(13,7))\n",
    "\n",
    "# create the line plot\n",
    "ax = plt.plot( k_values, coherences )\n",
    "plt.xticks(k_values)\n",
    "plt.xlabel(\"Number of Topics\")\n",
    "plt.ylabel(\"Mean Coherence\")\n",
    "\n",
    "# add the points\n",
    "plt.scatter( k_values, coherences, s=120)\n",
    "\n",
    "\n",
    "# find and annotate the maximum point on the plot\n",
    "ymax = max(coherences)\n",
    "xpos = coherences.index(ymax)\n",
    "best_k = k_values[xpos]\n",
    "plt.annotate( \"k=%d\" % best_k, xy=(best_k, ymax), xytext=(best_k, ymax), textcoords=\"offset points\", fontsize=16)\n",
    "\n",
    "# show the plot\n",
    "plt.show()"
   ]
  },
  {
   "cell_type": "markdown",
   "metadata": {},
   "source": [
    "### Examine the Final  Model"
   ]
  },
  {
   "cell_type": "markdown",
   "metadata": {},
   "source": [
    "The plot above suggests that the most appropriate value for the number of topics is *k=8*."
   ]
  },
  {
   "cell_type": "code",
   "execution_count": 23,
   "metadata": {
    "ExecuteTime": {
     "end_time": "2021-05-22T03:31:20.993711Z",
     "start_time": "2021-05-22T03:31:20.989807Z"
    }
   },
   "outputs": [],
   "source": [
    "k = 5 # best_k\n",
    "\n",
    "# get the model that we generated earlier.\n",
    "W = topic_models[0][1]\n",
    "H = topic_models[0][2]"
   ]
  },
  {
   "cell_type": "markdown",
   "metadata": {},
   "source": [
    "Display the topic descriptors for this model:"
   ]
  },
  {
   "cell_type": "code",
   "execution_count": 24,
   "metadata": {
    "ExecuteTime": {
     "end_time": "2021-05-22T03:31:21.004640Z",
     "start_time": "2021-05-22T03:31:20.995801Z"
    },
    "scrolled": true
   },
   "outputs": [
    {
     "name": "stdout",
     "output_type": "stream",
     "text": [
      "Topic 01: mulher, internacional, dia, hoje, ser\n",
      "Topic 02: mulheres, parabens, mundo, dia, luta\n",
      "Topic 03: marco, dia, luta, lula, hoje\n",
      "Topic 04: feliz, dia, guerreiras, incriveis, woman\n",
      "Topic 05: amo, tanto, amor, demais, tudo\n"
     ]
    }
   ],
   "source": [
    "for topic_index in range(k):\n",
    "    descriptor = get_descriptor( terms, H, topic_index, 5)\n",
    "    str_descriptor = \", \".join( descriptor )\n",
    "    print(\"Topic %02d: %s\" % ( topic_index+1, str_descriptor ) )"
   ]
  },
  {
   "cell_type": "code",
   "execution_count": 25,
   "metadata": {
    "ExecuteTime": {
     "end_time": "2021-05-22T03:31:21.013809Z",
     "start_time": "2021-05-22T03:31:21.009204Z"
    }
   },
   "outputs": [
    {
     "name": "stdout",
     "output_type": "stream",
     "text": [
      "Topic 01: mulher, internacional, dia, hoje, ser, homenagem, especial, parabens, continuacao, presente\n",
      "Topic 02: mulheres, parabens, mundo, dia, luta, hoje, dias, vida, respeito, incriveis\n",
      "Topic 03: marco, dia, luta, lula, hoje, ano, data, respeito, dias, ainda\n",
      "Topic 04: feliz, dia, guerreiras, incriveis, woman, vcs, god, deseja, dias, bom\n",
      "Topic 05: amo, tanto, amor, demais, tudo, vida, deus, vcs, liam, video\n"
     ]
    }
   ],
   "source": [
    "for topic_index in range(k):\n",
    "    descriptor = get_descriptor( terms, H, topic_index, 10)\n",
    "    str_descriptor = \", \".join( descriptor )\n",
    "    print(\"Topic %02d: %s\" % ( topic_index+1, str_descriptor ) )"
   ]
  },
  {
   "cell_type": "code",
   "execution_count": 26,
   "metadata": {
    "ExecuteTime": {
     "end_time": "2021-05-22T03:31:21.023906Z",
     "start_time": "2021-05-22T03:31:21.015294Z"
    }
   },
   "outputs": [
    {
     "name": "stdout",
     "output_type": "stream",
     "text": [
      "Topic 01: mulher, internacional, dia, hoje, ser, homenagem, especial, parabens, continuacao, presente, via, sobre, mae, melhor, homem\n",
      "Topic 02: mulheres, parabens, mundo, dia, luta, hoje, dias, vida, respeito, incriveis, especial, forca, direitos, ser, igualdade\n",
      "Topic 03: marco, dia, luta, lula, hoje, ano, data, respeito, dias, ainda, sobre, flores, brasil, gente, feira\n",
      "Topic 04: feliz, dia, guerreiras, incriveis, woman, vcs, god, deseja, dias, bom, maravilhosas, desejar, sempre, mulherada, instagram\n",
      "Topic 05: amo, tanto, amor, demais, tudo, vida, deus, vcs, liam, video, aqui, ser, gente, mae, obrigada\n"
     ]
    }
   ],
   "source": [
    "for topic_index in range(k):\n",
    "    descriptor = get_descriptor( terms, H, topic_index, 15)\n",
    "    str_descriptor = \", \".join( descriptor )\n",
    "    print(\"Topic %02d: %s\" % ( topic_index+1, str_descriptor ) )"
   ]
  },
  {
   "cell_type": "code",
   "execution_count": 27,
   "metadata": {
    "ExecuteTime": {
     "end_time": "2021-05-22T03:31:21.041334Z",
     "start_time": "2021-05-22T03:31:21.025197Z"
    },
    "scrolled": true
   },
   "outputs": [
    {
     "name": "stdout",
     "output_type": "stream",
     "text": [
      "Topic 01: mulher, internacional, dia, hoje, ser, homenagem, especial, parabens, continuacao, presente, via, sobre, mae, melhor, homem, lula, onde, brasil, quiser, lugar\n",
      "Topic 02: mulheres, parabens, mundo, dia, luta, hoje, dias, vida, respeito, incriveis, especial, forca, direitos, ser, igualdade, guerreiras, sempre, fortes, aqui, homenagem\n",
      "Topic 03: marco, dia, luta, lula, hoje, ano, data, respeito, dias, ainda, sobre, flores, brasil, gente, feira, ser, anos, apenas, vai, segunda\n",
      "Topic 04: feliz, dia, guerreiras, incriveis, woman, vcs, god, deseja, dias, bom, maravilhosas, desejar, sempre, mulherada, instagram, lindas, fortes, amor, mulheres, seguidoras\n",
      "Topic 05: amo, tanto, amor, demais, tudo, vida, deus, vcs, liam, video, aqui, ser, gente, mae, obrigada, linda, camila, sempre, cara, lindo\n"
     ]
    }
   ],
   "source": [
    "for topic_index in range(k):\n",
    "    descriptor = get_descriptor( terms, H, topic_index, 20)\n",
    "    str_descriptor = \", \".join( descriptor )\n",
    "    print(\"Topic %02d: %s\" % ( topic_index+1, str_descriptor ) )"
   ]
  },
  {
   "cell_type": "markdown",
   "metadata": {},
   "source": [
    "# 10"
   ]
  },
  {
   "cell_type": "code",
   "execution_count": 28,
   "metadata": {
    "ExecuteTime": {
     "end_time": "2021-05-22T03:31:21.048930Z",
     "start_time": "2021-05-22T03:31:21.043384Z"
    }
   },
   "outputs": [],
   "source": [
    "k = 10 # best_k\n",
    "\n",
    "# get the model that we generated earlier.\n",
    "W = topic_models[1][1]\n",
    "H = topic_models[1][2]"
   ]
  },
  {
   "cell_type": "code",
   "execution_count": 29,
   "metadata": {
    "ExecuteTime": {
     "end_time": "2021-05-22T03:31:21.061011Z",
     "start_time": "2021-05-22T03:31:21.050907Z"
    }
   },
   "outputs": [
    {
     "name": "stdout",
     "output_type": "stream",
     "text": [
      "Topic 01: mulher, internacional, dia, homenagem, continuacao\n",
      "Topic 02: mulheres, mundo, dia, vida, luta\n",
      "Topic 03: marco, dia, lula, ano, data\n",
      "Topic 04: feliz, dia, guerreiras, dias, vcs\n",
      "Topic 05: amo, tanto, amor, demais, vida\n",
      "Topic 06: ser, mulher, mundo, vai, pode\n",
      "Topic 07: parabens, guerreiras, dias, mundo, vcs\n",
      "Topic 08: hoje, luta, dia, respeito, dias\n",
      "Topic 09: woman, god, ariana, grande, deus\n",
      "Topic 10: aqui, gente, tudo, video, bom\n"
     ]
    }
   ],
   "source": [
    "for topic_index in range(k):\n",
    "    descriptor = get_descriptor( terms, H, topic_index, 5)\n",
    "    str_descriptor = \", \".join( descriptor )\n",
    "    print(\"Topic %02d: %s\" % ( topic_index+1, str_descriptor ) )"
   ]
  },
  {
   "cell_type": "code",
   "execution_count": 30,
   "metadata": {
    "ExecuteTime": {
     "end_time": "2021-05-22T03:31:21.078943Z",
     "start_time": "2021-05-22T03:31:21.062796Z"
    }
   },
   "outputs": [
    {
     "name": "stdout",
     "output_type": "stream",
     "text": [
      "Topic 01: mulher, internacional, dia, homenagem, continuacao, especial, via, presente, mae, lula\n",
      "Topic 02: mulheres, mundo, dia, vida, luta, incriveis, especial, homenagem, fortes, brasil\n",
      "Topic 03: marco, dia, lula, ano, data, brasil, luta, feira, segunda, ainda\n",
      "Topic 04: feliz, dia, guerreiras, dias, vcs, incriveis, bom, deseja, maravilhosas, sempre\n",
      "Topic 05: amo, tanto, amor, demais, vida, liam, vcs, deus, tudo, video\n",
      "Topic 06: ser, mulher, mundo, vai, pode, tudo, ter, vida, quiser, forte\n",
      "Topic 07: parabens, guerreiras, dias, mundo, vcs, linda, amor, forca, especial, respeito\n",
      "Topic 08: hoje, luta, dia, respeito, dias, sempre, igualdade, direitos, sobre, flores\n",
      "Topic 09: woman, god, ariana, grande, deus, musica, carla, juliette, dizia, joao\n",
      "Topic 10: aqui, gente, tudo, video, bom, sobre, linda, demais, bem, deus\n"
     ]
    }
   ],
   "source": [
    "for topic_index in range(k):\n",
    "    descriptor = get_descriptor( terms, H, topic_index, 10)\n",
    "    str_descriptor = \", \".join( descriptor )\n",
    "    print(\"Topic %02d: %s\" % ( topic_index+1, str_descriptor ) )"
   ]
  },
  {
   "cell_type": "code",
   "execution_count": 31,
   "metadata": {
    "ExecuteTime": {
     "end_time": "2021-05-22T03:31:21.090236Z",
     "start_time": "2021-05-22T03:31:21.080868Z"
    }
   },
   "outputs": [
    {
     "name": "stdout",
     "output_type": "stream",
     "text": [
      "Topic 01: mulher, internacional, dia, homenagem, continuacao, especial, via, presente, mae, lula, sobre, comemoracao, brasil, instagram, melhor\n",
      "Topic 02: mulheres, mundo, dia, vida, luta, incriveis, especial, homenagem, fortes, brasil, homens, direitos, forca, dias, contra\n",
      "Topic 03: marco, dia, lula, ano, data, brasil, luta, feira, segunda, ainda, abril, anos, pleno, sobre, flores\n",
      "Topic 04: feliz, dia, guerreiras, dias, vcs, incriveis, bom, deseja, maravilhosas, sempre, desejar, amor, lindas, instagram, mulherada\n",
      "Topic 05: amo, tanto, amor, demais, vida, liam, vcs, deus, tudo, video, obrigada, mae, camila, cena, musica\n",
      "Topic 06: ser, mulher, mundo, vai, pode, tudo, ter, vida, quiser, forte, homem, orgulho, deve, nunca, sempre\n",
      "Topic 07: parabens, guerreiras, dias, mundo, vcs, linda, amor, forca, especial, respeito, guerreira, fazem, merecem, boa, dia\n",
      "Topic 08: hoje, luta, dia, respeito, dias, sempre, igualdade, direitos, sobre, flores, ainda, queremos, forca, data, ano\n",
      "Topic 09: woman, god, ariana, grande, deus, musica, carla, juliette, dizia, joao, disse, angels, sarah, tudo, bom\n",
      "Topic 10: aqui, gente, tudo, video, bom, sobre, linda, demais, bem, deus, ainda, vai, olha, homenagem, ver\n"
     ]
    }
   ],
   "source": [
    "for topic_index in range(k):\n",
    "    descriptor = get_descriptor( terms, H, topic_index, 15)\n",
    "    str_descriptor = \", \".join( descriptor )\n",
    "    print(\"Topic %02d: %s\" % ( topic_index+1, str_descriptor ) )"
   ]
  },
  {
   "cell_type": "code",
   "execution_count": 32,
   "metadata": {
    "ExecuteTime": {
     "end_time": "2021-05-22T03:31:21.101561Z",
     "start_time": "2021-05-22T03:31:21.092911Z"
    }
   },
   "outputs": [
    {
     "name": "stdout",
     "output_type": "stream",
     "text": [
      "Topic 01: mulher, internacional, dia, homenagem, continuacao, especial, via, presente, mae, lula, sobre, comemoracao, brasil, instagram, melhor, homem, onde, lugar, ontem, segunda\n",
      "Topic 02: mulheres, mundo, dia, vida, luta, incriveis, especial, homenagem, fortes, brasil, homens, direitos, forca, dias, contra, trans, guerreiras, fazem, outras, maravilhosas\n",
      "Topic 03: marco, dia, lula, ano, data, brasil, luta, feira, segunda, ainda, abril, anos, pleno, sobre, flores, apenas, respeito, homens, elegivel, dias\n",
      "Topic 04: feliz, dia, guerreiras, dias, vcs, incriveis, bom, deseja, maravilhosas, sempre, desejar, amor, lindas, instagram, mulherada, respeito, fortes, mundo, seguidoras, desejamos\n",
      "Topic 05: amo, tanto, amor, demais, vida, liam, vcs, deus, tudo, video, obrigada, mae, camila, cena, musica, amiga, lindo, linda, instagram, cara\n",
      "Topic 06: ser, mulher, mundo, vai, pode, tudo, ter, vida, quiser, forte, homem, orgulho, deve, nunca, sempre, ainda, cada, forca, melhor, quero\n",
      "Topic 07: parabens, guerreiras, dias, mundo, vcs, linda, amor, forca, especial, respeito, guerreira, fazem, merecem, boa, dia, deus, mulherada, cada, brazil, obrigado\n",
      "Topic 08: hoje, luta, dia, respeito, dias, sempre, igualdade, direitos, sobre, flores, ainda, queremos, forca, data, ano, politico, lembrar, apenas, porque, cada\n",
      "Topic 09: woman, god, ariana, grande, deus, musica, carla, juliette, dizia, joao, disse, angels, sarah, tudo, bom, hino, vez, arthur, esquecam, diaz\n",
      "Topic 10: aqui, gente, tudo, video, bom, sobre, linda, demais, bem, deus, ainda, vai, olha, homenagem, ver, vou, vcs, lindo, nada, vem\n"
     ]
    }
   ],
   "source": [
    "for topic_index in range(k):\n",
    "    descriptor = get_descriptor( terms, H, topic_index, 20)\n",
    "    str_descriptor = \", \".join( descriptor )\n",
    "    print(\"Topic %02d: %s\" % ( topic_index+1, str_descriptor ) )"
   ]
  },
  {
   "cell_type": "markdown",
   "metadata": {
    "ExecuteTime": {
     "end_time": "2021-05-18T01:35:40.549034Z",
     "start_time": "2021-05-18T01:35:40.547094Z"
    }
   },
   "source": [
    "# 15"
   ]
  },
  {
   "cell_type": "code",
   "execution_count": 33,
   "metadata": {
    "ExecuteTime": {
     "end_time": "2021-05-22T03:31:21.107483Z",
     "start_time": "2021-05-22T03:31:21.103160Z"
    }
   },
   "outputs": [],
   "source": [
    "k = 15 # best_k\n",
    "\n",
    "# get the model that we generated earlier.\n",
    "W = topic_models[2][1]\n",
    "H = topic_models[2][2]"
   ]
  },
  {
   "cell_type": "code",
   "execution_count": 34,
   "metadata": {
    "ExecuteTime": {
     "end_time": "2021-05-22T03:31:21.120115Z",
     "start_time": "2021-05-22T03:31:21.109495Z"
    }
   },
   "outputs": [
    {
     "name": "stdout",
     "output_type": "stream",
     "text": [
      "Topic 01: mulher, internacional, homenagem, continuacao, especial\n",
      "Topic 02: mulheres, incriveis, especial, homenagem, fortes\n",
      "Topic 03: marco, lula, data, brasil, ano\n",
      "Topic 04: feliz, guerreiras, vcs, incriveis, sempre\n",
      "Topic 05: amo, tanto, demais, vida, amor\n",
      "Topic 06: ser, vai, mulher, pode, ter\n",
      "Topic 07: parabens, guerreiras, vcs, linda, especial\n",
      "Topic 08: hoje, sempre, especial, tudo, sobre\n",
      "Topic 09: woman, god, ariana, grande, musica\n",
      "Topic 10: aqui, tudo, bom, video, sobre\n",
      "Topic 11: luta, vida, direitos, igualdade, contra\n",
      "Topic 12: mundo, melhor, brasil, tudo, lugar\n",
      "Topic 13: dia, bom, internacional, cada, comemorar\n",
      "Topic 14: gente, deus, linda, amor, coisa\n",
      "Topic 15: dias, respeito, flores, igualdade, queremos\n"
     ]
    }
   ],
   "source": [
    "for topic_index in range(k):\n",
    "    descriptor = get_descriptor( terms, H, topic_index, 5)\n",
    "    str_descriptor = \", \".join( descriptor )\n",
    "    print(\"Topic %02d: %s\" % ( topic_index+1, str_descriptor ) )"
   ]
  },
  {
   "cell_type": "code",
   "execution_count": 35,
   "metadata": {
    "ExecuteTime": {
     "end_time": "2021-05-22T03:31:21.132045Z",
     "start_time": "2021-05-22T03:31:21.121788Z"
    }
   },
   "outputs": [
    {
     "name": "stdout",
     "output_type": "stream",
     "text": [
      "Topic 01: mulher, internacional, homenagem, continuacao, especial, via, presente, mae, sobre, brasil\n",
      "Topic 02: mulheres, incriveis, especial, homenagem, fortes, vida, homens, brasil, trans, maravilhosas\n",
      "Topic 03: marco, lula, data, brasil, ano, feira, segunda, pleno, anos, abril\n",
      "Topic 04: feliz, guerreiras, vcs, incriveis, sempre, deseja, maravilhosas, instagram, dia, desejar\n",
      "Topic 05: amo, tanto, demais, vida, amor, liam, vcs, tudo, video, camila\n",
      "Topic 06: ser, vai, mulher, pode, ter, tudo, deve, orgulho, forte, quiser\n",
      "Topic 07: parabens, guerreiras, vcs, linda, especial, forca, guerreira, boa, fazem, mulherada\n",
      "Topic 08: hoje, sempre, especial, tudo, sobre, ainda, forca, data, mae, vou\n",
      "Topic 09: woman, god, ariana, grande, musica, carla, juliette, dizia, disse, joao\n",
      "Topic 10: aqui, tudo, bom, video, sobre, bem, demais, vcs, vou, homenagem\n",
      "Topic 11: luta, vida, direitos, igualdade, contra, sobre, sempre, violencia, ainda, data\n",
      "Topic 12: mundo, melhor, brasil, tudo, lugar, incriveis, forca, maior, guerreiras, cada\n",
      "Topic 13: dia, bom, internacional, cada, comemorar, pix, politico, porque, lembrar, romantico\n",
      "Topic 14: gente, deus, linda, amor, coisa, video, ainda, mae, cara, vai\n",
      "Topic 15: dias, respeito, flores, igualdade, queremos, ano, amor, apenas, outros, merecem\n"
     ]
    }
   ],
   "source": [
    "for topic_index in range(k):\n",
    "    descriptor = get_descriptor( terms, H, topic_index, 10)\n",
    "    str_descriptor = \", \".join( descriptor )\n",
    "    print(\"Topic %02d: %s\" % ( topic_index+1, str_descriptor ) )"
   ]
  },
  {
   "cell_type": "code",
   "execution_count": 36,
   "metadata": {
    "ExecuteTime": {
     "end_time": "2021-05-22T03:31:21.140934Z",
     "start_time": "2021-05-22T03:31:21.133935Z"
    }
   },
   "outputs": [
    {
     "name": "stdout",
     "output_type": "stream",
     "text": [
      "Topic 01: mulher, internacional, homenagem, continuacao, especial, via, presente, mae, sobre, brasil, onde, lugar, instagram, quiser, lula\n",
      "Topic 02: mulheres, incriveis, especial, homenagem, fortes, vida, homens, brasil, trans, maravilhosas, outras, fazem, guerreiras, lindas, historia\n",
      "Topic 03: marco, lula, data, brasil, ano, feira, segunda, pleno, anos, abril, sobre, ainda, via, elegivel, vai\n",
      "Topic 04: feliz, guerreiras, vcs, incriveis, sempre, deseja, maravilhosas, instagram, dia, desejar, mulher, lindas, mulherada, fortes, seguidoras\n",
      "Topic 05: amo, tanto, demais, vida, amor, liam, vcs, tudo, video, camila, obrigada, musica, mae, amiga, cena\n",
      "Topic 06: ser, vai, mulher, pode, ter, tudo, deve, orgulho, forte, quiser, sempre, nunca, homem, assim, quero\n",
      "Topic 07: parabens, guerreiras, vcs, linda, especial, forca, guerreira, boa, fazem, mulherada, brazil, sempre, batalhadoras, meninas, obrigado\n",
      "Topic 08: hoje, sempre, especial, tudo, sobre, ainda, forca, data, mae, vou, politico, porque, amanha, homenagem, vamos\n",
      "Topic 09: woman, god, ariana, grande, musica, carla, juliette, dizia, disse, joao, angels, tudo, sarah, hino, vez\n",
      "Topic 10: aqui, tudo, bom, video, sobre, bem, demais, vcs, vou, homenagem, vai, deixar, fica, nada, voltou\n",
      "Topic 11: luta, vida, direitos, igualdade, contra, sobre, sempre, violencia, ainda, data, forca, vacina, genero, diaria, viva\n",
      "Topic 12: mundo, melhor, brasil, tudo, lugar, incriveis, forca, maior, guerreiras, cada, fortes, justo, merecem, onde, merece\n",
      "Topic 13: dia, bom, internacional, cada, comemorar, pix, politico, porque, lembrar, romantico, celebrar, homens, reflexao, lindo, sim\n",
      "Topic 14: gente, deus, linda, amor, coisa, video, ainda, mae, cara, vai, demais, olha, lindo, homem, tudo\n",
      "Topic 15: dias, respeito, flores, igualdade, queremos, ano, amor, apenas, outros, merecem, quero, admiracao, sim, maior, direitos\n"
     ]
    }
   ],
   "source": [
    "for topic_index in range(k):\n",
    "    descriptor = get_descriptor( terms, H, topic_index, 15)\n",
    "    str_descriptor = \", \".join( descriptor )\n",
    "    print(\"Topic %02d: %s\" % ( topic_index+1, str_descriptor ) )"
   ]
  },
  {
   "cell_type": "code",
   "execution_count": 37,
   "metadata": {
    "ExecuteTime": {
     "end_time": "2021-05-22T03:31:21.150544Z",
     "start_time": "2021-05-22T03:31:21.142574Z"
    }
   },
   "outputs": [
    {
     "name": "stdout",
     "output_type": "stream",
     "text": [
      "Topic 01: mulher, internacional, homenagem, continuacao, especial, via, presente, mae, sobre, brasil, onde, lugar, instagram, quiser, lula, homem, dilma, segunda, primeira, melhor\n",
      "Topic 02: mulheres, incriveis, especial, homenagem, fortes, vida, homens, brasil, trans, maravilhosas, outras, fazem, guerreiras, lindas, historia, lutam, inspiram, pandemia, forca, trabalho\n",
      "Topic 03: marco, lula, data, brasil, ano, feira, segunda, pleno, anos, abril, sobre, ainda, via, elegivel, vai, homenagem, apenas, presente, homens, melhor\n",
      "Topic 04: feliz, guerreiras, vcs, incriveis, sempre, deseja, maravilhosas, instagram, dia, desejar, mulher, lindas, mulherada, fortes, seguidoras, nunca, foda, amor, desejamos, via\n",
      "Topic 05: amo, tanto, demais, vida, amor, liam, vcs, tudo, video, camila, obrigada, musica, mae, amiga, cena, admiro, instagram, lindas, serio, foto\n",
      "Topic 06: ser, vai, mulher, pode, ter, tudo, deve, orgulho, forte, quiser, sempre, nunca, homem, assim, quero, queria, cada, fazer, ainda, incrivel\n",
      "Topic 07: parabens, guerreiras, vcs, linda, especial, forca, guerreira, boa, fazem, mulherada, brazil, sempre, batalhadoras, meninas, obrigado, maluf, coragem, cada, exemplo, dias\n",
      "Topic 08: hoje, sempre, especial, tudo, sobre, ainda, forca, data, mae, vou, politico, porque, amanha, homenagem, vamos, fazer, queria, lembrar, romantico, lutaram\n",
      "Topic 09: woman, god, ariana, grande, musica, carla, juliette, dizia, disse, joao, angels, tudo, sarah, hino, vez, arthur, esquecam, diaz, zendaya, rodolffo\n",
      "Topic 10: aqui, tudo, bom, video, sobre, bem, demais, vcs, vou, homenagem, vai, deixar, fica, nada, voltou, olha, ver, via, ainda, chorei\n",
      "Topic 11: luta, vida, direitos, igualdade, contra, sobre, sempre, violencia, ainda, data, forca, vacina, genero, diaria, viva, resistencia, sociedade, conquistas, muita, continua\n",
      "Topic 12: mundo, melhor, brasil, tudo, lugar, incriveis, forca, maior, guerreiras, cada, fortes, justo, merecem, onde, merece, nada, inteiro, fazem, coisa, redor\n",
      "Topic 13: dia, bom, internacional, cada, comemorar, pix, politico, porque, lembrar, romantico, celebrar, homens, reflexao, lindo, sim, lula, maes, comemoracao, conquistas, lutas\n",
      "Topic 14: gente, deus, linda, amor, coisa, video, ainda, mae, cara, vai, demais, olha, lindo, homem, tudo, ver, agora, nunca, ter, chorando\n",
      "Topic 15: dias, respeito, flores, igualdade, queremos, ano, amor, apenas, outros, merecem, quero, admiracao, sim, maior, direitos, liberdade, receber, carinho, forca, merecemos\n"
     ]
    }
   ],
   "source": [
    "for topic_index in range(k):\n",
    "    descriptor = get_descriptor( terms, H, topic_index, 20)\n",
    "    str_descriptor = \", \".join( descriptor )\n",
    "    print(\"Topic %02d: %s\" % ( topic_index+1, str_descriptor ) )"
   ]
  },
  {
   "cell_type": "markdown",
   "metadata": {},
   "source": [
    "# 20"
   ]
  },
  {
   "cell_type": "code",
   "execution_count": 38,
   "metadata": {
    "ExecuteTime": {
     "end_time": "2021-05-22T03:31:21.156676Z",
     "start_time": "2021-05-22T03:31:21.152541Z"
    }
   },
   "outputs": [],
   "source": [
    "k = 20 # best_k\n",
    "\n",
    "# get the model that we generated earlier.\n",
    "W = topic_models[3][1]\n",
    "H = topic_models[3][2]"
   ]
  },
  {
   "cell_type": "code",
   "execution_count": 39,
   "metadata": {
    "ExecuteTime": {
     "end_time": "2021-05-22T03:31:21.170224Z",
     "start_time": "2021-05-22T03:31:21.158373Z"
    }
   },
   "outputs": [
    {
     "name": "stdout",
     "output_type": "stream",
     "text": [
      "Topic 01: mulher, internacional, continuacao, especial, via\n",
      "Topic 02: mulheres, incriveis, fortes, especial, homens\n",
      "Topic 03: marco, lula, data, ano, feira\n",
      "Topic 04: feliz, guerreiras, vcs, incriveis, deseja\n",
      "Topic 05: amo, tanto, demais, liam, vcs\n",
      "Topic 06: ser, mulher, pode, vai, ter\n",
      "Topic 07: parabens, guerreiras, vcs, especial, forca\n",
      "Topic 08: hoje, sempre, especial, data, forca\n",
      "Topic 09: woman, god, ariana, grande, musica\n",
      "Topic 10: aqui, bem, demais, vou, vcs\n",
      "Topic 11: luta, direitos, igualdade, contra, violencia\n",
      "Topic 12: mundo, melhor, lugar, incriveis, forca\n",
      "Topic 13: dia, internacional, bom, cada, comemorar\n",
      "Topic 14: gente, linda, coisa, ainda, olha\n",
      "Topic 15: deus, amor, linda, abencoe, tanto\n",
      "Topic 16: dias, respeito, flores, igualdade, queremos\n",
      "Topic 17: homenagem, linda, mae, especial, maior\n",
      "Topic 18: vida, amor, especial, mae, vacina\n",
      "Topic 19: tudo, sempre, bom, faz, melhor\n",
      "Topic 20: sobre, brasil, video, ciro, vai\n"
     ]
    }
   ],
   "source": [
    "for topic_index in range(k):\n",
    "    descriptor = get_descriptor( terms, H, topic_index, 5)\n",
    "    str_descriptor = \", \".join( descriptor )\n",
    "    print(\"Topic %02d: %s\" % ( topic_index+1, str_descriptor ) )"
   ]
  },
  {
   "cell_type": "code",
   "execution_count": 40,
   "metadata": {
    "ExecuteTime": {
     "end_time": "2021-05-22T03:31:21.179955Z",
     "start_time": "2021-05-22T03:31:21.171799Z"
    }
   },
   "outputs": [
    {
     "name": "stdout",
     "output_type": "stream",
     "text": [
      "Topic 01: mulher, internacional, continuacao, especial, via, presente, onde, lugar, quiser, mae\n",
      "Topic 02: mulheres, incriveis, fortes, especial, homens, trans, maravilhosas, outras, guerreiras, lindas\n",
      "Topic 03: marco, lula, data, ano, feira, segunda, anos, pleno, abril, apenas\n",
      "Topic 04: feliz, guerreiras, vcs, incriveis, deseja, maravilhosas, instagram, desejar, dia, lindas\n",
      "Topic 05: amo, tanto, demais, liam, vcs, video, amor, camila, obrigada, musica\n",
      "Topic 06: ser, mulher, pode, vai, ter, deve, orgulho, quiser, forte, assim\n",
      "Topic 07: parabens, guerreiras, vcs, especial, forca, linda, guerreira, boa, fazem, mulherada\n",
      "Topic 08: hoje, sempre, especial, data, forca, politico, vou, mae, amanha, porque\n",
      "Topic 09: woman, god, ariana, grande, musica, carla, juliette, dizia, joao, disse\n",
      "Topic 10: aqui, bem, demais, vou, vcs, deixar, fica, olha, voltou, bom\n",
      "Topic 11: luta, direitos, igualdade, contra, violencia, data, forca, diaria, resistencia, viva\n",
      "Topic 12: mundo, melhor, lugar, incriveis, forca, guerreiras, cada, brasil, maior, fortes\n",
      "Topic 13: dia, internacional, bom, cada, comemorar, politico, pix, porque, lula, lembrar\n",
      "Topic 14: gente, linda, coisa, ainda, olha, serio, vem, quer, demais, chorando\n",
      "Topic 15: deus, amor, linda, abencoe, tanto, homem, coisa, demais, perfeita, lindo\n",
      "Topic 16: dias, respeito, flores, igualdade, queremos, ano, apenas, outros, merecem, quero\n",
      "Topic 17: homenagem, linda, mae, especial, maior, video, via, instagram, foto, singela\n",
      "Topic 18: vida, amor, especial, mae, vacina, melhor, defesa, forca, fazem, emergencial\n",
      "Topic 19: tudo, sempre, bom, faz, melhor, obrigada, bem, acima, vcs, fazer\n",
      "Topic 20: sobre, brasil, video, ciro, vai, ainda, dilma, lula, aborto, presidente\n"
     ]
    }
   ],
   "source": [
    "for topic_index in range(k):\n",
    "    descriptor = get_descriptor( terms, H, topic_index, 10)\n",
    "    str_descriptor = \", \".join( descriptor )\n",
    "    print(\"Topic %02d: %s\" % ( topic_index+1, str_descriptor ) )"
   ]
  },
  {
   "cell_type": "code",
   "execution_count": 41,
   "metadata": {
    "ExecuteTime": {
     "end_time": "2021-05-22T03:31:21.196730Z",
     "start_time": "2021-05-22T03:31:21.181527Z"
    }
   },
   "outputs": [
    {
     "name": "stdout",
     "output_type": "stream",
     "text": [
      "Topic 01: mulher, internacional, continuacao, especial, via, presente, onde, lugar, quiser, mae, homem, instagram, segunda, guerreira, comemoracao\n",
      "Topic 02: mulheres, incriveis, fortes, especial, homens, trans, maravilhosas, outras, guerreiras, lindas, fazem, lutam, inspiram, direitos, historia\n",
      "Topic 03: marco, lula, data, ano, feira, segunda, anos, pleno, abril, apenas, presente, via, aniversario, elegivel, homens\n",
      "Topic 04: feliz, guerreiras, vcs, incriveis, deseja, maravilhosas, instagram, desejar, dia, lindas, mulherada, seguidoras, fortes, nunca, mulher\n",
      "Topic 05: amo, tanto, demais, liam, vcs, video, amor, camila, obrigada, musica, amiga, cena, instagram, admiro, mae\n",
      "Topic 06: ser, mulher, pode, vai, ter, deve, orgulho, quiser, forte, assim, homem, quero, queria, cada, nunca\n",
      "Topic 07: parabens, guerreiras, vcs, especial, forca, linda, guerreira, boa, fazem, mulherada, brazil, brasil, meninas, batalhadoras, maluf\n",
      "Topic 08: hoje, sempre, especial, data, forca, politico, vou, mae, amanha, porque, ainda, romantico, queria, vamos, lutaram\n",
      "Topic 09: woman, god, ariana, grande, musica, carla, juliette, dizia, joao, disse, angels, sarah, hino, vez, arthur\n",
      "Topic 10: aqui, bem, demais, vou, vcs, deixar, fica, olha, voltou, bom, marque, video, chorei, ver, via\n",
      "Topic 11: luta, direitos, igualdade, contra, violencia, data, forca, diaria, resistencia, viva, genero, continua, muita, conquistas, sociedade\n",
      "Topic 12: mundo, melhor, lugar, incriveis, forca, guerreiras, cada, brasil, maior, fortes, justo, merecem, onde, merece, inteiro\n",
      "Topic 13: dia, internacional, bom, cada, comemorar, politico, pix, porque, lula, lembrar, romantico, celebrar, homens, sim, grande\n",
      "Topic 14: gente, linda, coisa, ainda, olha, serio, vem, quer, demais, chorando, fazer, assim, ter, pode, ver\n",
      "Topic 15: deus, amor, linda, abencoe, tanto, homem, coisa, demais, perfeita, lindo, cara, chorando, video, ceu, gracas\n",
      "Topic 16: dias, respeito, flores, igualdade, queremos, ano, apenas, outros, merecem, quero, sim, admiracao, maior, amor, direitos\n",
      "Topic 17: homenagem, linda, mae, especial, maior, video, via, instagram, foto, singela, faz, equipe, presta, confira, coisa\n",
      "Topic 18: vida, amor, especial, mae, vacina, melhor, defesa, forca, fazem, emergencial, parte, auxilio, obrigada, amores, cada\n",
      "Topic 19: tudo, sempre, bom, faz, melhor, obrigada, bem, acima, vcs, fazer, ainda, fortes, pode, nada, lembrar\n",
      "Topic 20: sobre, brasil, video, ciro, vai, ainda, dilma, lula, aborto, presidente, historia, falar, cara, primeira, pais\n"
     ]
    }
   ],
   "source": [
    "for topic_index in range(k):\n",
    "    descriptor = get_descriptor( terms, H, topic_index, 15)\n",
    "    str_descriptor = \", \".join( descriptor )\n",
    "    print(\"Topic %02d: %s\" % ( topic_index+1, str_descriptor ) )"
   ]
  },
  {
   "cell_type": "code",
   "execution_count": 42,
   "metadata": {
    "ExecuteTime": {
     "end_time": "2021-05-22T03:31:21.208511Z",
     "start_time": "2021-05-22T03:31:21.198526Z"
    }
   },
   "outputs": [
    {
     "name": "stdout",
     "output_type": "stream",
     "text": [
      "Topic 01: mulher, internacional, continuacao, especial, via, presente, onde, lugar, quiser, mae, homem, instagram, segunda, guerreira, comemoracao, mensagem, pleno, data, feira, boa\n",
      "Topic 02: mulheres, incriveis, fortes, especial, homens, trans, maravilhosas, outras, guerreiras, lindas, fazem, lutam, inspiram, direitos, historia, pandemia, trabalho, forca, viva, deseja\n",
      "Topic 03: marco, lula, data, ano, feira, segunda, anos, pleno, abril, apenas, presente, via, aniversario, elegivel, homens, fevereiro, melhor, joao, mes, semana\n",
      "Topic 04: feliz, guerreiras, vcs, incriveis, deseja, maravilhosas, instagram, desejar, dia, lindas, mulherada, seguidoras, fortes, nunca, mulher, foda, via, sempre, desejamos, desejando\n",
      "Topic 05: amo, tanto, demais, liam, vcs, video, amor, camila, obrigada, musica, amiga, cena, instagram, admiro, mae, lindas, foto, serio, lindo, cara\n",
      "Topic 06: ser, mulher, pode, vai, ter, deve, orgulho, quiser, forte, assim, homem, quero, queria, cada, nunca, incrivel, forca, humano, deveria, precisa\n",
      "Topic 07: parabens, guerreiras, vcs, especial, forca, linda, guerreira, boa, fazem, mulherada, brazil, brasil, meninas, batalhadoras, maluf, coragem, obrigado, cada, amigas, exemplo\n",
      "Topic 08: hoje, sempre, especial, data, forca, politico, vou, mae, amanha, porque, ainda, romantico, queria, vamos, lutaram, celebrar, lembrar, anos, entao, live\n",
      "Topic 09: woman, god, ariana, grande, musica, carla, juliette, dizia, joao, disse, angels, sarah, hino, vez, arthur, esquecam, diaz, zendaya, rodolffo, kendall\n",
      "Topic 10: aqui, bem, demais, vou, vcs, deixar, fica, olha, voltou, bom, marque, video, chorei, ver, via, casa, nada, deixo, nessa, foto\n",
      "Topic 11: luta, direitos, igualdade, contra, violencia, data, forca, diaria, resistencia, viva, genero, continua, muita, conquistas, sociedade, vacina, sempre, ainda, seguimos, machismo\n",
      "Topic 12: mundo, melhor, lugar, incriveis, forca, guerreiras, cada, brasil, maior, fortes, justo, merecem, onde, merece, inteiro, coisa, redor, nada, fazem, obrigado\n",
      "Topic 13: dia, internacional, bom, cada, comemorar, politico, pix, porque, lula, lembrar, romantico, celebrar, homens, sim, grande, reflexao, maes, importante, comemoracao, lindo\n",
      "Topic 14: gente, linda, coisa, ainda, olha, serio, vem, quer, demais, chorando, fazer, assim, ter, pode, ver, nao, pix, sim, agora, sabe\n",
      "Topic 15: deus, amor, linda, abencoe, tanto, homem, coisa, demais, perfeita, lindo, cara, chorando, video, ceu, gracas, agora, mulher, olha, obrigada, ver\n",
      "Topic 16: dias, respeito, flores, igualdade, queremos, ano, apenas, outros, merecem, quero, sim, admiracao, maior, amor, direitos, liberdade, receber, merecemos, lutam, carinho\n",
      "Topic 17: homenagem, linda, mae, especial, maior, video, via, instagram, foto, singela, faz, equipe, presta, confira, coisa, internacional, fez, pequena, acao, forca\n",
      "Topic 18: vida, amor, especial, mae, vacina, melhor, defesa, forca, fazem, emergencial, parte, auxilio, obrigada, amores, cada, carinho, obrigado, ter, populacao, importantes\n",
      "Topic 19: tudo, sempre, bom, faz, melhor, obrigada, bem, acima, vcs, fazer, ainda, fortes, pode, nada, lembrar, obrigado, forte, cena, nessa, homem\n",
      "Topic 20: sobre, brasil, video, ciro, vai, ainda, dilma, lula, aborto, presidente, historia, falar, cara, primeira, pais, gomes, fazer, bolsonaro, nunca, ter\n"
     ]
    }
   ],
   "source": [
    "for topic_index in range(k):\n",
    "    descriptor = get_descriptor( terms, H, topic_index, 20)\n",
    "    str_descriptor = \", \".join( descriptor )\n",
    "    print(\"Topic %02d: %s\" % ( topic_index+1, str_descriptor ) )"
   ]
  },
  {
   "cell_type": "code",
   "execution_count": null,
   "metadata": {},
   "outputs": [],
   "source": []
  }
 ],
 "metadata": {
  "@webio": {
   "lastCommId": null,
   "lastKernelId": null
  },
  "kernelspec": {
   "display_name": "Python 3",
   "language": "python",
   "name": "python3"
  },
  "language_info": {
   "codemirror_mode": {
    "name": "ipython",
    "version": 3
   },
   "file_extension": ".py",
   "mimetype": "text/x-python",
   "name": "python",
   "nbconvert_exporter": "python",
   "pygments_lexer": "ipython3",
   "version": "3.7.7"
  },
  "toc": {
   "base_numbering": 1,
   "nav_menu": {
    "height": "91px",
    "width": "373px"
   },
   "number_sections": true,
   "sideBar": true,
   "skip_h1_title": false,
   "title_cell": "Table of Contents",
   "title_sidebar": "Contents",
   "toc_cell": false,
   "toc_position": {
    "height": "557px",
    "left": "22px",
    "top": "170px",
    "width": "288px"
   },
   "toc_section_display": true,
   "toc_window_display": false
  }
 },
 "nbformat": 4,
 "nbformat_minor": 4
}
