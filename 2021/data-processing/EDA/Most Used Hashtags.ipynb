{
 "cells": [
  {
   "cell_type": "code",
   "execution_count": 1,
   "metadata": {
    "ExecuteTime": {
     "end_time": "2020-06-11T17:44:15.234510Z",
     "start_time": "2020-06-11T17:44:14.685143Z"
    }
   },
   "outputs": [],
   "source": [
    "import pandas as pd\n",
    "import matplotlib.pyplot as plt\n",
    "import numpy as np\n",
    "import pymongo\n",
    "# import iso639\n",
    "import time\n",
    "from PIL import Image\n",
    "from pprint import pprint\n",
    "from wordcloud import WordCloud"
   ]
  },
  {
   "cell_type": "markdown",
   "metadata": {},
   "source": [
    "### Conexão com o MongoDB"
   ]
  },
  {
   "cell_type": "code",
   "execution_count": 2,
   "metadata": {
    "ExecuteTime": {
     "end_time": "2020-06-11T17:44:17.172406Z",
     "start_time": "2020-06-11T17:44:17.168194Z"
    }
   },
   "outputs": [],
   "source": [
    "client = pymongo.MongoClient()\n",
    "db = client['8M2020_samples']  # client.tweets8march\n",
    "collection = db.tweets_pt  # db.tweets"
   ]
  },
  {
   "cell_type": "code",
   "execution_count": 3,
   "metadata": {
    "ExecuteTime": {
     "end_time": "2020-06-11T17:44:19.091194Z",
     "start_time": "2020-06-11T17:44:19.087736Z"
    }
   },
   "outputs": [],
   "source": [
    "def query(collection, pipeline):\n",
    "    time_start = time.time()\n",
    "    query = list(collection.aggregate(pipeline, allowDiskUse=True))\n",
    "    time_end = time.time()\n",
    "    print(\n",
    "        f'Tempo de execução: {time.strftime(\"%H:%M:%S\", time.gmtime(time_end - time_start))}')\n",
    "    return query"
   ]
  },
  {
   "cell_type": "markdown",
   "metadata": {},
   "source": [
    "### Número de documentos (tweets)"
   ]
  },
  {
   "cell_type": "code",
   "execution_count": 4,
   "metadata": {
    "ExecuteTime": {
     "end_time": "2020-06-11T17:44:24.986974Z",
     "start_time": "2020-06-11T17:44:22.739167Z"
    }
   },
   "outputs": [
    {
     "data": {
      "text/plain": [
       "274636"
      ]
     },
     "execution_count": 4,
     "metadata": {},
     "output_type": "execute_result"
    }
   ],
   "source": [
    "num_docs = collection.count_documents({})\n",
    "num_docs"
   ]
  },
  {
   "cell_type": "markdown",
   "metadata": {},
   "source": [
    "### Número de perfis presentes na base"
   ]
  },
  {
   "cell_type": "code",
   "execution_count": 5,
   "metadata": {
    "ExecuteTime": {
     "end_time": "2020-06-11T17:44:34.228839Z",
     "start_time": "2020-06-11T17:44:34.226083Z"
    }
   },
   "outputs": [],
   "source": [
    "pipeline1 = [\n",
    "    {\n",
    "        '$group': {\n",
    "            '_id': '$user.screen_name', \n",
    "            'count': {\n",
    "                '$sum': 1\n",
    "            }\n",
    "        }\n",
    "    }, {\n",
    "        '$count': 'qtde_users'\n",
    "    }\n",
    "]"
   ]
  },
  {
   "cell_type": "code",
   "execution_count": 6,
   "metadata": {
    "ExecuteTime": {
     "end_time": "2020-06-11T17:44:36.030741Z",
     "start_time": "2020-06-11T17:44:35.331806Z"
    }
   },
   "outputs": [
    {
     "name": "stdout",
     "output_type": "stream",
     "text": [
      "Tempo de execução: 00:00:00\n",
      "Número de usuários: 206600\n"
     ]
    }
   ],
   "source": [
    "qtde_users = query(collection=collection, pipeline=pipeline1)\n",
    "num_users = dict(qtde_users[0])['qtde_users']\n",
    "print(f'Número de usuários: {num_users}')"
   ]
  },
  {
   "cell_type": "markdown",
   "metadata": {},
   "source": [
    "### Aggregation usada para os próximos números"
   ]
  },
  {
   "cell_type": "code",
   "execution_count": 7,
   "metadata": {
    "ExecuteTime": {
     "end_time": "2020-06-11T17:45:34.586060Z",
     "start_time": "2020-06-11T17:45:34.579989Z"
    }
   },
   "outputs": [],
   "source": [
    "pipeline2 = [\n",
    "    {\n",
    "        '$project': {\n",
    "            'tweet_id': '$id_str', \n",
    "            'date': {\n",
    "                '$dateFromString': {\n",
    "                    'dateString': '$created_at'\n",
    "                }\n",
    "            }, \n",
    "            'tweet_text': {\n",
    "                '$ifNull': [\n",
    "                    '$retweeted_status.full_text', '$full_text'\n",
    "                ]\n",
    "            }, \n",
    "            'num_likes': '$favorite_count', \n",
    "            'num_retweets': '$retweet_count', \n",
    "            'quoted_status_id': {\n",
    "                '$ifNull': [\n",
    "                    '$quoted_status_id_str', None\n",
    "                ]\n",
    "            }, \n",
    "            'retweeted_status_id': {\n",
    "                '$ifNull': [\n",
    "                    '$retweeted_status.id_str', None\n",
    "                ]\n",
    "            }, \n",
    "            'reply_to_user': {\n",
    "                '$ifNull': [\n",
    "                    '$in_reply_to_user_id_str', None\n",
    "                ]\n",
    "            }, \n",
    "            'reply_to_status': {\n",
    "                '$ifNull': [\n",
    "                    '$in_reply_to_status_id_str', None\n",
    "                ]\n",
    "            }, \n",
    "            'user_id': '$user.id_str', \n",
    "            'screen_name': '$user.screen_name', \n",
    "            'followers': '$user.followers_count', \n",
    "            'following': '$user.friends_count'\n",
    "        }\n",
    "    }, {\n",
    "        '$project': {\n",
    "            '_id': 0, \n",
    "            'tweet_id': 1, \n",
    "            'date': {\n",
    "                '$dateToString': {\n",
    "                    'format': '%d/%m/%Y %H:%M:%S', \n",
    "                    'date': '$date'\n",
    "                }\n",
    "            }, \n",
    "            'tweet_text': 1, \n",
    "            'num_likes': 1, \n",
    "            'num_retweets': 1, \n",
    "            'quoted_status_id': 1, \n",
    "            'retweeted_status_id': 1, \n",
    "            'reply_to_user': 1, \n",
    "            'reply_to_status': 1, \n",
    "            'user_id': 1, \n",
    "            'screen_name': 1, \n",
    "            'followers': 1, \n",
    "            'following': 1\n",
    "        }\n",
    "    }\n",
    "]"
   ]
  },
  {
   "cell_type": "code",
   "execution_count": 8,
   "metadata": {
    "ExecuteTime": {
     "end_time": "2020-06-11T17:45:43.200909Z",
     "start_time": "2020-06-11T17:45:38.197025Z"
    }
   },
   "outputs": [
    {
     "name": "stdout",
     "output_type": "stream",
     "text": [
      "Tempo de execução: 00:00:05\n"
     ]
    }
   ],
   "source": [
    "docs = query(collection=collection, pipeline=pipeline2)"
   ]
  },
  {
   "cell_type": "code",
   "execution_count": 9,
   "metadata": {
    "ExecuteTime": {
     "end_time": "2020-06-11T17:45:45.360116Z",
     "start_time": "2020-06-11T17:45:45.356685Z"
    }
   },
   "outputs": [
    {
     "data": {
      "text/plain": [
       "{'tweet_id': '1236411302895124487',\n",
       " 'tweet_text': 'Sol com cara O projeto Inclusive, Praia! está de volta no próximo domingo (8) com uma programação especial em referência ao Dia Internacional da Mulher. Vai ter jogos, brincadeiras, diversão e show com Isabelle Passinho. 🏝 Não perca! &gt; https://t.co/fYin5VeZwx \\n#GovernoDeTodosNós https://t.co/YIGahguJN0',\n",
       " 'num_likes': 8,\n",
       " 'num_retweets': 2,\n",
       " 'quoted_status_id': None,\n",
       " 'retweeted_status_id': None,\n",
       " 'reply_to_user': None,\n",
       " 'reply_to_status': None,\n",
       " 'user_id': '53085255',\n",
       " 'screen_name': 'GovernoMA',\n",
       " 'followers': 175381,\n",
       " 'following': 166,\n",
       " 'date': '07/03/2020 22:00:00'}"
      ]
     },
     "execution_count": 9,
     "metadata": {},
     "output_type": "execute_result"
    }
   ],
   "source": [
    "docs[0]"
   ]
  },
  {
   "cell_type": "code",
   "execution_count": 10,
   "metadata": {
    "ExecuteTime": {
     "end_time": "2020-06-11T17:45:51.668890Z",
     "start_time": "2020-06-11T17:45:50.618672Z"
    }
   },
   "outputs": [],
   "source": [
    "docs_df = pd.DataFrame(docs)\n",
    "docs_df = docs_df[['tweet_id', 'date', 'tweet_text', 'num_likes', 'num_retweets',\n",
    "                   'retweeted_status_id', 'quoted_status_id', 'reply_to_user', 'reply_to_status',\n",
    "                   'user_id', 'screen_name', 'followers', 'following']]"
   ]
  },
  {
   "cell_type": "code",
   "execution_count": 11,
   "metadata": {
    "ExecuteTime": {
     "end_time": "2020-06-11T17:45:54.078888Z",
     "start_time": "2020-06-11T17:45:54.065330Z"
    }
   },
   "outputs": [
    {
     "data": {
      "text/html": [
       "<div>\n",
       "<style scoped>\n",
       "    .dataframe tbody tr th:only-of-type {\n",
       "        vertical-align: middle;\n",
       "    }\n",
       "\n",
       "    .dataframe tbody tr th {\n",
       "        vertical-align: top;\n",
       "    }\n",
       "\n",
       "    .dataframe thead th {\n",
       "        text-align: right;\n",
       "    }\n",
       "</style>\n",
       "<table border=\"1\" class=\"dataframe\">\n",
       "  <thead>\n",
       "    <tr style=\"text-align: right;\">\n",
       "      <th></th>\n",
       "      <th>tweet_id</th>\n",
       "      <th>date</th>\n",
       "      <th>tweet_text</th>\n",
       "      <th>num_likes</th>\n",
       "      <th>num_retweets</th>\n",
       "      <th>retweeted_status_id</th>\n",
       "      <th>quoted_status_id</th>\n",
       "      <th>reply_to_user</th>\n",
       "      <th>reply_to_status</th>\n",
       "      <th>user_id</th>\n",
       "      <th>screen_name</th>\n",
       "      <th>followers</th>\n",
       "      <th>following</th>\n",
       "    </tr>\n",
       "  </thead>\n",
       "  <tbody>\n",
       "    <tr>\n",
       "      <th>0</th>\n",
       "      <td>1236411302895124487</td>\n",
       "      <td>07/03/2020 22:00:00</td>\n",
       "      <td>Sol com cara O projeto Inclusive, Praia! está ...</td>\n",
       "      <td>8</td>\n",
       "      <td>2</td>\n",
       "      <td>None</td>\n",
       "      <td>None</td>\n",
       "      <td>None</td>\n",
       "      <td>None</td>\n",
       "      <td>53085255</td>\n",
       "      <td>GovernoMA</td>\n",
       "      <td>175381</td>\n",
       "      <td>166</td>\n",
       "    </tr>\n",
       "    <tr>\n",
       "      <th>1</th>\n",
       "      <td>1236411378879037442</td>\n",
       "      <td>07/03/2020 22:00:18</td>\n",
       "      <td>Hoje é dia de transmissão especial na Fla TV!!...</td>\n",
       "      <td>0</td>\n",
       "      <td>36</td>\n",
       "      <td>1236371617732874242</td>\n",
       "      <td>None</td>\n",
       "      <td>None</td>\n",
       "      <td>None</td>\n",
       "      <td>79617245</td>\n",
       "      <td>audreysteen</td>\n",
       "      <td>38</td>\n",
       "      <td>342</td>\n",
       "    </tr>\n",
       "    <tr>\n",
       "      <th>2</th>\n",
       "      <td>1236411364643659776</td>\n",
       "      <td>07/03/2020 22:00:15</td>\n",
       "      <td>A presidenta nacional do PT, deputada @gleisi ...</td>\n",
       "      <td>0</td>\n",
       "      <td>184</td>\n",
       "      <td>1236375681245876225</td>\n",
       "      <td>None</td>\n",
       "      <td>None</td>\n",
       "      <td>None</td>\n",
       "      <td>139207105</td>\n",
       "      <td>ProfValterCosta</td>\n",
       "      <td>1758</td>\n",
       "      <td>2800</td>\n",
       "    </tr>\n",
       "    <tr>\n",
       "      <th>3</th>\n",
       "      <td>1236411353444868096</td>\n",
       "      <td>07/03/2020 22:00:12</td>\n",
       "      <td>Cartaz de minha enteada querida(linda e talent...</td>\n",
       "      <td>0</td>\n",
       "      <td>3</td>\n",
       "      <td>1236407917554929666</td>\n",
       "      <td>None</td>\n",
       "      <td>None</td>\n",
       "      <td>None</td>\n",
       "      <td>1093274352060121088</td>\n",
       "      <td>purpurediamond</td>\n",
       "      <td>28</td>\n",
       "      <td>90</td>\n",
       "    </tr>\n",
       "    <tr>\n",
       "      <th>4</th>\n",
       "      <td>1236411366086508544</td>\n",
       "      <td>07/03/2020 22:00:15</td>\n",
       "      <td>Dia Internacional da Mulher: o que os homens p...</td>\n",
       "      <td>2</td>\n",
       "      <td>0</td>\n",
       "      <td>None</td>\n",
       "      <td>None</td>\n",
       "      <td>None</td>\n",
       "      <td>None</td>\n",
       "      <td>126318634</td>\n",
       "      <td>professoraAlice</td>\n",
       "      <td>26485</td>\n",
       "      <td>170</td>\n",
       "    </tr>\n",
       "  </tbody>\n",
       "</table>\n",
       "</div>"
      ],
      "text/plain": [
       "              tweet_id                 date  \\\n",
       "0  1236411302895124487  07/03/2020 22:00:00   \n",
       "1  1236411378879037442  07/03/2020 22:00:18   \n",
       "2  1236411364643659776  07/03/2020 22:00:15   \n",
       "3  1236411353444868096  07/03/2020 22:00:12   \n",
       "4  1236411366086508544  07/03/2020 22:00:15   \n",
       "\n",
       "                                          tweet_text  num_likes  num_retweets  \\\n",
       "0  Sol com cara O projeto Inclusive, Praia! está ...          8             2   \n",
       "1  Hoje é dia de transmissão especial na Fla TV!!...          0            36   \n",
       "2  A presidenta nacional do PT, deputada @gleisi ...          0           184   \n",
       "3  Cartaz de minha enteada querida(linda e talent...          0             3   \n",
       "4  Dia Internacional da Mulher: o que os homens p...          2             0   \n",
       "\n",
       "   retweeted_status_id quoted_status_id reply_to_user reply_to_status  \\\n",
       "0                 None             None          None            None   \n",
       "1  1236371617732874242             None          None            None   \n",
       "2  1236375681245876225             None          None            None   \n",
       "3  1236407917554929666             None          None            None   \n",
       "4                 None             None          None            None   \n",
       "\n",
       "               user_id      screen_name  followers  following  \n",
       "0             53085255        GovernoMA     175381        166  \n",
       "1             79617245      audreysteen         38        342  \n",
       "2            139207105  ProfValterCosta       1758       2800  \n",
       "3  1093274352060121088   purpurediamond         28         90  \n",
       "4            126318634  professoraAlice      26485        170  "
      ]
     },
     "execution_count": 11,
     "metadata": {},
     "output_type": "execute_result"
    }
   ],
   "source": [
    "docs_df.head()"
   ]
  },
  {
   "cell_type": "markdown",
   "metadata": {},
   "source": [
    "### Número de tweets únicos"
   ]
  },
  {
   "cell_type": "code",
   "execution_count": 12,
   "metadata": {
    "ExecuteTime": {
     "end_time": "2020-06-11T17:46:18.689388Z",
     "start_time": "2020-06-11T17:46:18.522572Z"
    }
   },
   "outputs": [
    {
     "data": {
      "text/plain": [
       "48942"
      ]
     },
     "execution_count": 12,
     "metadata": {},
     "output_type": "execute_result"
    }
   ],
   "source": [
    "num_texts = len(docs_df['tweet_text'].value_counts())\n",
    "num_texts"
   ]
  },
  {
   "cell_type": "code",
   "execution_count": 15,
   "metadata": {
    "ExecuteTime": {
     "end_time": "2020-06-11T17:50:06.966620Z",
     "start_time": "2020-06-11T17:50:06.838105Z"
    }
   },
   "outputs": [
    {
     "data": {
      "text/html": [
       "<div>\n",
       "<style scoped>\n",
       "    .dataframe tbody tr th:only-of-type {\n",
       "        vertical-align: middle;\n",
       "    }\n",
       "\n",
       "    .dataframe tbody tr th {\n",
       "        vertical-align: top;\n",
       "    }\n",
       "\n",
       "    .dataframe thead th {\n",
       "        text-align: right;\n",
       "    }\n",
       "</style>\n",
       "<table border=\"1\" class=\"dataframe\">\n",
       "  <thead>\n",
       "    <tr style=\"text-align: right;\">\n",
       "      <th></th>\n",
       "      <th>unique_values</th>\n",
       "      <th>counts</th>\n",
       "    </tr>\n",
       "  </thead>\n",
       "  <tbody>\n",
       "    <tr>\n",
       "      <th>0</th>\n",
       "      <td>E o motorista do 630 que todo ano na semana do dia internacional da mulher enfeita o ônibus todo e dar uma lembrancinha para todas as mulheres que entram no ônibus 😍😍❤️❤️😭 https://t.co/SNSfrNM6L6</td>\n",
       "      <td>18798</td>\n",
       "    </tr>\n",
       "    <tr>\n",
       "      <th>1</th>\n",
       "      <td>\"8 de março de 1857, morreram aproximadamente 130 mulheres carbonizadas quando foram trancadas na fábrica de tecelagem, em Nova York, onde trabalhavam, por estarem em greve. Em homenagem a essas mulheres, em 1910, declarou-se o dia 8 de março como o \"Dia Internacional da Mulher\". https://t.co/VyABZO6WrU</td>\n",
       "      <td>17188</td>\n",
       "    </tr>\n",
       "    <tr>\n",
       "      <th>2</th>\n",
       "      <td>dia internacional da mulher, não pode faltar https://t.co/MRYwQyhx14</td>\n",
       "      <td>13179</td>\n",
       "    </tr>\n",
       "    <tr>\n",
       "      <th>3</th>\n",
       "      <td>Somos incríveis. #diadasmulheres #DiaDaMulher https://t.co/XnrdVS4WH0</td>\n",
       "      <td>11289</td>\n",
       "    </tr>\n",
       "    <tr>\n",
       "      <th>4</th>\n",
       "      <td>no dia internacional da mulher vamos relembrar a importância desse vídeo icônico https://t.co/P31255LPOJ</td>\n",
       "      <td>7779</td>\n",
       "    </tr>\n",
       "    <tr>\n",
       "      <th>5</th>\n",
       "      <td>feliz #diadasmulheres com o tik tok mais feminista possível https://t.co/UPn9fUA9Ue</td>\n",
       "      <td>6169</td>\n",
       "    </tr>\n",
       "    <tr>\n",
       "      <th>6</th>\n",
       "      <td>Bom dia...Hoje é o Dia Internacional da Mulher. E esses números mostram a importância dessa data. Não é sobre flores, e presentes. É sobre respeitarem nossos direitos. A luta segue. https://t.co/X3qE1DsjTr</td>\n",
       "      <td>3830</td>\n",
       "    </tr>\n",
       "    <tr>\n",
       "      <th>7</th>\n",
       "      <td>Lugar de mulher é onde ela quiser, inclusive na Justiça e Segurança Pública. Homenagem da Força Nacional/MJSP no Dia Internacional das Mulheres. https://t.co/uApHnqD6AI</td>\n",
       "      <td>3574</td>\n",
       "    </tr>\n",
       "    <tr>\n",
       "      <th>8</th>\n",
       "      <td>Só isso que eu vou falar. #diadasmulheres https://t.co/lTztsSrrP2</td>\n",
       "      <td>3486</td>\n",
       "    </tr>\n",
       "    <tr>\n",
       "      <th>9</th>\n",
       "      <td>Hoje é Dia Internacional da Mulher e eu só lembro do dia que o Mc Donalds colocou todos os machos de folga pra que as mulheres trabalhassem e ainda trataram isso como ato “feminista”. https://t.co/BlyXDy4lQ9</td>\n",
       "      <td>3260</td>\n",
       "    </tr>\n",
       "  </tbody>\n",
       "</table>\n",
       "</div>"
      ],
      "text/plain": [
       "                                                                                                                                                                                                                                                                                                      unique_values  \\\n",
       "0                                                                                                               E o motorista do 630 que todo ano na semana do dia internacional da mulher enfeita o ônibus todo e dar uma lembrancinha para todas as mulheres que entram no ônibus 😍😍❤️❤️😭 https://t.co/SNSfrNM6L6   \n",
       "1  \"8 de março de 1857, morreram aproximadamente 130 mulheres carbonizadas quando foram trancadas na fábrica de tecelagem, em Nova York, onde trabalhavam, por estarem em greve. Em homenagem a essas mulheres, em 1910, declarou-se o dia 8 de março como o \"Dia Internacional da Mulher\". https://t.co/VyABZO6WrU   \n",
       "2                                                                                                                                                                                                                                              dia internacional da mulher, não pode faltar https://t.co/MRYwQyhx14   \n",
       "3                                                                                                                                                                                                                                             Somos incríveis. #diadasmulheres #DiaDaMulher https://t.co/XnrdVS4WH0   \n",
       "4                                                                                                                                                                                                          no dia internacional da mulher vamos relembrar a importância desse vídeo icônico https://t.co/P31255LPOJ   \n",
       "5                                                                                                                                                                                                                               feliz #diadasmulheres com o tik tok mais feminista possível https://t.co/UPn9fUA9Ue   \n",
       "6                                                                                                     Bom dia...Hoje é o Dia Internacional da Mulher. E esses números mostram a importância dessa data. Não é sobre flores, e presentes. É sobre respeitarem nossos direitos. A luta segue. https://t.co/X3qE1DsjTr   \n",
       "7                                                                                                                                          Lugar de mulher é onde ela quiser, inclusive na Justiça e Segurança Pública. Homenagem da Força Nacional/MJSP no Dia Internacional das Mulheres. https://t.co/uApHnqD6AI   \n",
       "8                                                                                                                                                                                                                                                 Só isso que eu vou falar. #diadasmulheres https://t.co/lTztsSrrP2   \n",
       "9                                                                                                   Hoje é Dia Internacional da Mulher e eu só lembro do dia que o Mc Donalds colocou todos os machos de folga pra que as mulheres trabalhassem e ainda trataram isso como ato “feminista”. https://t.co/BlyXDy4lQ9   \n",
       "\n",
       "   counts  \n",
       "0   18798  \n",
       "1   17188  \n",
       "2   13179  \n",
       "3   11289  \n",
       "4    7779  \n",
       "5    6169  \n",
       "6    3830  \n",
       "7    3574  \n",
       "8    3486  \n",
       "9    3260  "
      ]
     },
     "execution_count": 15,
     "metadata": {},
     "output_type": "execute_result"
    }
   ],
   "source": [
    "text_df = pd.DataFrame(docs_df['tweet_text'].value_counts(\n",
    ").rename_axis('unique_values').reset_index(name='counts'))\n",
    "\n",
    "pd.set_option('display.max_colwidth', None)\n",
    "text_df.head(10)"
   ]
  },
  {
   "cell_type": "code",
   "execution_count": 16,
   "metadata": {
    "ExecuteTime": {
     "end_time": "2020-06-11T17:51:23.759210Z",
     "start_time": "2020-06-11T17:51:23.754760Z"
    }
   },
   "outputs": [
    {
     "data": {
      "text/plain": [
       "'E o motorista do 630 que todo ano na semana do dia internacional da mulher enfeita o ônibus todo e dar uma lembrancinha para todas as mulheres que entram no ônibus 😍😍❤️❤️😭 https://t.co/SNSfrNM6L6'"
      ]
     },
     "execution_count": 16,
     "metadata": {},
     "output_type": "execute_result"
    }
   ],
   "source": [
    "text_df['unique_values'][0]"
   ]
  },
  {
   "cell_type": "markdown",
   "metadata": {},
   "source": [
    "### Número de tweets que não se repetem (sem RT)"
   ]
  },
  {
   "cell_type": "code",
   "execution_count": 17,
   "metadata": {
    "ExecuteTime": {
     "end_time": "2020-06-11T17:52:17.266728Z",
     "start_time": "2020-06-11T17:52:17.263900Z"
    }
   },
   "outputs": [],
   "source": [
    "index = text_df['counts']==1"
   ]
  },
  {
   "cell_type": "code",
   "execution_count": 18,
   "metadata": {
    "ExecuteTime": {
     "end_time": "2020-06-11T17:52:19.309797Z",
     "start_time": "2020-06-11T17:52:19.302573Z"
    }
   },
   "outputs": [
    {
     "data": {
      "text/plain": [
       "38334"
      ]
     },
     "execution_count": 18,
     "metadata": {},
     "output_type": "execute_result"
    }
   ],
   "source": [
    "num_one_text = len(text_df[index])\n",
    "num_one_text"
   ]
  },
  {
   "cell_type": "markdown",
   "metadata": {},
   "source": [
    "### Número de tweets que se repetem"
   ]
  },
  {
   "cell_type": "code",
   "execution_count": 19,
   "metadata": {
    "ExecuteTime": {
     "end_time": "2020-06-11T17:52:34.691752Z",
     "start_time": "2020-06-11T17:52:34.688652Z"
    }
   },
   "outputs": [
    {
     "data": {
      "text/plain": [
       "10608"
      ]
     },
     "execution_count": 19,
     "metadata": {},
     "output_type": "execute_result"
    }
   ],
   "source": [
    "num_repeat_text = num_texts - num_one_text\n",
    "num_repeat_text"
   ]
  },
  {
   "cell_type": "code",
   "execution_count": 20,
   "metadata": {
    "ExecuteTime": {
     "end_time": "2020-06-11T17:52:36.038358Z",
     "start_time": "2020-06-11T17:52:36.030929Z"
    }
   },
   "outputs": [
    {
     "data": {
      "text/html": [
       "<div>\n",
       "<style scoped>\n",
       "    .dataframe tbody tr th:only-of-type {\n",
       "        vertical-align: middle;\n",
       "    }\n",
       "\n",
       "    .dataframe tbody tr th {\n",
       "        vertical-align: top;\n",
       "    }\n",
       "\n",
       "    .dataframe thead th {\n",
       "        text-align: right;\n",
       "    }\n",
       "</style>\n",
       "<table border=\"1\" class=\"dataframe\">\n",
       "  <thead>\n",
       "    <tr style=\"text-align: right;\">\n",
       "      <th></th>\n",
       "      <th>unique_values</th>\n",
       "      <th>counts</th>\n",
       "    </tr>\n",
       "  </thead>\n",
       "  <tbody>\n",
       "    <tr>\n",
       "      <th>0</th>\n",
       "      <td>E o motorista do 630 que todo ano na semana do dia internacional da mulher enfeita o ônibus todo e dar uma lembrancinha para todas as mulheres que entram no ônibus 😍😍❤️❤️😭 https://t.co/SNSfrNM6L6</td>\n",
       "      <td>18798</td>\n",
       "    </tr>\n",
       "    <tr>\n",
       "      <th>1</th>\n",
       "      <td>\"8 de março de 1857, morreram aproximadamente 130 mulheres carbonizadas quando foram trancadas na fábrica de tecelagem, em Nova York, onde trabalhavam, por estarem em greve. Em homenagem a essas mulheres, em 1910, declarou-se o dia 8 de março como o \"Dia Internacional da Mulher\". https://t.co/VyABZO6WrU</td>\n",
       "      <td>17188</td>\n",
       "    </tr>\n",
       "    <tr>\n",
       "      <th>2</th>\n",
       "      <td>dia internacional da mulher, não pode faltar https://t.co/MRYwQyhx14</td>\n",
       "      <td>13179</td>\n",
       "    </tr>\n",
       "    <tr>\n",
       "      <th>3</th>\n",
       "      <td>Somos incríveis. #diadasmulheres #DiaDaMulher https://t.co/XnrdVS4WH0</td>\n",
       "      <td>11289</td>\n",
       "    </tr>\n",
       "    <tr>\n",
       "      <th>4</th>\n",
       "      <td>no dia internacional da mulher vamos relembrar a importância desse vídeo icônico https://t.co/P31255LPOJ</td>\n",
       "      <td>7779</td>\n",
       "    </tr>\n",
       "    <tr>\n",
       "      <th>5</th>\n",
       "      <td>feliz #diadasmulheres com o tik tok mais feminista possível https://t.co/UPn9fUA9Ue</td>\n",
       "      <td>6169</td>\n",
       "    </tr>\n",
       "    <tr>\n",
       "      <th>6</th>\n",
       "      <td>Bom dia...Hoje é o Dia Internacional da Mulher. E esses números mostram a importância dessa data. Não é sobre flores, e presentes. É sobre respeitarem nossos direitos. A luta segue. https://t.co/X3qE1DsjTr</td>\n",
       "      <td>3830</td>\n",
       "    </tr>\n",
       "    <tr>\n",
       "      <th>7</th>\n",
       "      <td>Lugar de mulher é onde ela quiser, inclusive na Justiça e Segurança Pública. Homenagem da Força Nacional/MJSP no Dia Internacional das Mulheres. https://t.co/uApHnqD6AI</td>\n",
       "      <td>3574</td>\n",
       "    </tr>\n",
       "    <tr>\n",
       "      <th>8</th>\n",
       "      <td>Só isso que eu vou falar. #diadasmulheres https://t.co/lTztsSrrP2</td>\n",
       "      <td>3486</td>\n",
       "    </tr>\n",
       "    <tr>\n",
       "      <th>9</th>\n",
       "      <td>Hoje é Dia Internacional da Mulher e eu só lembro do dia que o Mc Donalds colocou todos os machos de folga pra que as mulheres trabalhassem e ainda trataram isso como ato “feminista”. https://t.co/BlyXDy4lQ9</td>\n",
       "      <td>3260</td>\n",
       "    </tr>\n",
       "  </tbody>\n",
       "</table>\n",
       "</div>"
      ],
      "text/plain": [
       "                                                                                                                                                                                                                                                                                                      unique_values  \\\n",
       "0                                                                                                               E o motorista do 630 que todo ano na semana do dia internacional da mulher enfeita o ônibus todo e dar uma lembrancinha para todas as mulheres que entram no ônibus 😍😍❤️❤️😭 https://t.co/SNSfrNM6L6   \n",
       "1  \"8 de março de 1857, morreram aproximadamente 130 mulheres carbonizadas quando foram trancadas na fábrica de tecelagem, em Nova York, onde trabalhavam, por estarem em greve. Em homenagem a essas mulheres, em 1910, declarou-se o dia 8 de março como o \"Dia Internacional da Mulher\". https://t.co/VyABZO6WrU   \n",
       "2                                                                                                                                                                                                                                              dia internacional da mulher, não pode faltar https://t.co/MRYwQyhx14   \n",
       "3                                                                                                                                                                                                                                             Somos incríveis. #diadasmulheres #DiaDaMulher https://t.co/XnrdVS4WH0   \n",
       "4                                                                                                                                                                                                          no dia internacional da mulher vamos relembrar a importância desse vídeo icônico https://t.co/P31255LPOJ   \n",
       "5                                                                                                                                                                                                                               feliz #diadasmulheres com o tik tok mais feminista possível https://t.co/UPn9fUA9Ue   \n",
       "6                                                                                                     Bom dia...Hoje é o Dia Internacional da Mulher. E esses números mostram a importância dessa data. Não é sobre flores, e presentes. É sobre respeitarem nossos direitos. A luta segue. https://t.co/X3qE1DsjTr   \n",
       "7                                                                                                                                          Lugar de mulher é onde ela quiser, inclusive na Justiça e Segurança Pública. Homenagem da Força Nacional/MJSP no Dia Internacional das Mulheres. https://t.co/uApHnqD6AI   \n",
       "8                                                                                                                                                                                                                                                 Só isso que eu vou falar. #diadasmulheres https://t.co/lTztsSrrP2   \n",
       "9                                                                                                   Hoje é Dia Internacional da Mulher e eu só lembro do dia que o Mc Donalds colocou todos os machos de folga pra que as mulheres trabalhassem e ainda trataram isso como ato “feminista”. https://t.co/BlyXDy4lQ9   \n",
       "\n",
       "   counts  \n",
       "0   18798  \n",
       "1   17188  \n",
       "2   13179  \n",
       "3   11289  \n",
       "4    7779  \n",
       "5    6169  \n",
       "6    3830  \n",
       "7    3574  \n",
       "8    3486  \n",
       "9    3260  "
      ]
     },
     "execution_count": 20,
     "metadata": {},
     "output_type": "execute_result"
    }
   ],
   "source": [
    "text_df.head(10)"
   ]
  },
  {
   "cell_type": "markdown",
   "metadata": {},
   "source": [
    "### Relatório"
   ]
  },
  {
   "cell_type": "code",
   "execution_count": 21,
   "metadata": {
    "ExecuteTime": {
     "end_time": "2020-06-11T17:53:27.670481Z",
     "start_time": "2020-06-11T17:53:27.626388Z"
    }
   },
   "outputs": [],
   "source": [
    "from prettytable import PrettyTable\n",
    "results = PrettyTable()"
   ]
  },
  {
   "cell_type": "code",
   "execution_count": 22,
   "metadata": {
    "ExecuteTime": {
     "end_time": "2020-06-11T17:53:28.791743Z",
     "start_time": "2020-06-11T17:53:28.785680Z"
    }
   },
   "outputs": [],
   "source": [
    "results.field_names = ['Métrica', 'Quantidade']\n",
    "results.add_row(['Documentos', num_docs])\n",
    "results.add_row(['Perfis', num_users])\n",
    "results.add_row(['Tweets únicos', num_texts])\n",
    "results.add_row(['Tweets que se repetem', num_repeat_text])\n",
    "results.add_row(['Tweets que não se repetem', num_one_text])"
   ]
  },
  {
   "cell_type": "code",
   "execution_count": 23,
   "metadata": {
    "ExecuteTime": {
     "end_time": "2020-06-11T17:53:30.099869Z",
     "start_time": "2020-06-11T17:53:30.095669Z"
    }
   },
   "outputs": [
    {
     "name": "stdout",
     "output_type": "stream",
     "text": [
      "+---------------------------+------------+\n",
      "|          Métrica          | Quantidade |\n",
      "+---------------------------+------------+\n",
      "|         Documentos        |   274636   |\n",
      "|           Perfis          |   206600   |\n",
      "|       Tweets únicos       |   48942    |\n",
      "|   Tweets que se repetem   |   10608    |\n",
      "| Tweets que não se repetem |   38334    |\n",
      "+---------------------------+------------+\n"
     ]
    }
   ],
   "source": [
    "print(results)"
   ]
  },
  {
   "cell_type": "markdown",
   "metadata": {
    "ExecuteTime": {
     "end_time": "2020-06-01T22:30:16.991696Z",
     "start_time": "2020-06-01T22:30:16.989701Z"
    }
   },
   "source": [
    "### geolocalização"
   ]
  },
  {
   "cell_type": "code",
   "execution_count": 24,
   "metadata": {
    "ExecuteTime": {
     "end_time": "2020-06-11T17:53:56.675672Z",
     "start_time": "2020-06-11T17:53:56.673118Z"
    }
   },
   "outputs": [],
   "source": [
    "pipeline3 = [\n",
    "    {\n",
    "        '$match': {\n",
    "            'geo': {\n",
    "                '$ne': None\n",
    "            }\n",
    "        }\n",
    "    }, {\n",
    "        '$count': 'count'\n",
    "    }\n",
    "]"
   ]
  },
  {
   "cell_type": "code",
   "execution_count": 25,
   "metadata": {
    "ExecuteTime": {
     "end_time": "2020-06-11T17:53:58.568744Z",
     "start_time": "2020-06-11T17:53:58.231151Z"
    }
   },
   "outputs": [
    {
     "name": "stdout",
     "output_type": "stream",
     "text": [
      "Tempo de execução: 00:00:00\n"
     ]
    }
   ],
   "source": [
    "geo_enabled = query(collection=collection, pipeline=pipeline3)"
   ]
  },
  {
   "cell_type": "code",
   "execution_count": 26,
   "metadata": {
    "ExecuteTime": {
     "end_time": "2020-06-11T17:54:01.258127Z",
     "start_time": "2020-06-11T17:54:01.255143Z"
    }
   },
   "outputs": [
    {
     "data": {
      "text/plain": [
       "[{'count': 712}]"
      ]
     },
     "execution_count": 26,
     "metadata": {},
     "output_type": "execute_result"
    }
   ],
   "source": [
    "geo_enabled"
   ]
  },
  {
   "cell_type": "markdown",
   "metadata": {
    "ExecuteTime": {
     "end_time": "2020-06-01T23:47:13.065250Z",
     "start_time": "2020-06-01T23:47:13.063231Z"
    }
   },
   "source": [
    "### user geo enabled"
   ]
  },
  {
   "cell_type": "code",
   "execution_count": 27,
   "metadata": {
    "ExecuteTime": {
     "end_time": "2020-06-11T17:54:10.257209Z",
     "start_time": "2020-06-11T17:54:10.254365Z"
    }
   },
   "outputs": [],
   "source": [
    "pipeline4 = [\n",
    "    {\n",
    "        '$project': {\n",
    "            'user_geo_enabled': '$user.geo_enabled', \n",
    "            'user_location': '$user.location'\n",
    "        }\n",
    "    }, {\n",
    "        '$group': {\n",
    "            '_id': '$user_geo_enabled', \n",
    "            'count': {\n",
    "                '$sum': 1\n",
    "            }\n",
    "        }\n",
    "    }\n",
    "]"
   ]
  },
  {
   "cell_type": "code",
   "execution_count": 28,
   "metadata": {
    "ExecuteTime": {
     "end_time": "2020-06-11T17:54:12.655120Z",
     "start_time": "2020-06-11T17:54:11.913109Z"
    }
   },
   "outputs": [
    {
     "name": "stdout",
     "output_type": "stream",
     "text": [
      "Tempo de execução: 00:00:00\n"
     ]
    }
   ],
   "source": [
    "user_geo_enabled = query(collection=collection, pipeline=pipeline4)"
   ]
  },
  {
   "cell_type": "code",
   "execution_count": 29,
   "metadata": {
    "ExecuteTime": {
     "end_time": "2020-06-11T17:54:13.082386Z",
     "start_time": "2020-06-11T17:54:13.078992Z"
    }
   },
   "outputs": [
    {
     "data": {
      "text/plain": [
       "[{'_id': False, 'count': 159596}, {'_id': True, 'count': 115040}]"
      ]
     },
     "execution_count": 29,
     "metadata": {},
     "output_type": "execute_result"
    }
   ],
   "source": [
    "user_geo_enabled"
   ]
  },
  {
   "cell_type": "markdown",
   "metadata": {
    "ExecuteTime": {
     "end_time": "2020-06-01T23:53:06.336415Z",
     "start_time": "2020-06-01T23:53:06.334476Z"
    }
   },
   "source": [
    "### user location"
   ]
  },
  {
   "cell_type": "code",
   "execution_count": 30,
   "metadata": {
    "ExecuteTime": {
     "end_time": "2020-06-11T17:54:27.190888Z",
     "start_time": "2020-06-11T17:54:27.187779Z"
    }
   },
   "outputs": [],
   "source": [
    "pipeline5 = [\n",
    "    {\n",
    "        '$project': {\n",
    "            'user_geo_enabled': '$user.geo_enabled', \n",
    "            'user_location': '$user.location'\n",
    "        }\n",
    "    }, {\n",
    "        '$group': {\n",
    "            '_id': '$user_location', \n",
    "            'count': {\n",
    "                '$sum': 1\n",
    "            }\n",
    "        }\n",
    "    }, {\n",
    "        '$sort': {\n",
    "            'count': -1\n",
    "        }\n",
    "    }\n",
    "]"
   ]
  },
  {
   "cell_type": "code",
   "execution_count": 31,
   "metadata": {
    "ExecuteTime": {
     "end_time": "2020-06-11T17:54:29.454843Z",
     "start_time": "2020-06-11T17:54:28.488031Z"
    }
   },
   "outputs": [
    {
     "name": "stdout",
     "output_type": "stream",
     "text": [
      "Tempo de execução: 00:00:00\n"
     ]
    }
   ],
   "source": [
    "user_location = query(collection=collection, pipeline=pipeline5)"
   ]
  },
  {
   "cell_type": "code",
   "execution_count": 19,
   "metadata": {
    "ExecuteTime": {
     "end_time": "2020-06-02T00:00:12.130522Z",
     "start_time": "2020-06-02T00:00:12.061010Z"
    }
   },
   "outputs": [
    {
     "data": {
      "text/plain": [
       "[{'_id': '', 'count': 80069},\n",
       " {'_id': 'Rio de Janeiro, Brasil', 'count': 10777},\n",
       " {'_id': 'Brasil', 'count': 8865},\n",
       " {'_id': 'São Paulo, Brasil', 'count': 6843},\n",
       " {'_id': 'Belo Horizonte, Brasil', 'count': 2063},\n",
       " {'_id': 'Brasília, Brasil', 'count': 1982},\n",
       " {'_id': 'Rio de Janeiro', 'count': 1897},\n",
       " {'_id': 'Brazil', 'count': 1402},\n",
       " {'_id': 'São Paulo', 'count': 1336},\n",
       " {'_id': 'Minas Gerais, Brasil', 'count': 1167},\n",
       " {'_id': 'Curitiba, Brasil', 'count': 1123},\n",
       " {'_id': 'Recife, Brasil', 'count': 1114},\n",
       " {'_id': 'Porto Alegre, Brasil', 'count': 1035},\n",
       " {'_id': 'Fortaleza, Brasil', 'count': 1028},\n",
       " {'_id': 'Rio Grande do Sul, Brasil', 'count': 1013},\n",
       " {'_id': 'Manaus, Brasil', 'count': 921},\n",
       " {'_id': '021', 'count': 839},\n",
       " {'_id': 'Goiânia, Brasil', 'count': 795},\n",
       " {'_id': 'Salvador, Brasil', 'count': 755},\n",
       " {'_id': 'Santa Catarina, Brasil', 'count': 705},\n",
       " {'_id': 'Portugal', 'count': 701},\n",
       " {'_id': 'Espírito Santo, Brasil', 'count': 647},\n",
       " {'_id': 'Sao Paulo, Brazil', 'count': 621},\n",
       " {'_id': 'Belém, Brasil', 'count': 578},\n",
       " {'_id': 'Florianópolis, Brasil', 'count': 563},\n",
       " {'_id': 'São Luís, Brasil', 'count': 522},\n",
       " {'_id': 'Niterói, Brasil', 'count': 519},\n",
       " {'_id': '027', 'count': 517},\n",
       " {'_id': 'rj', 'count': 469},\n",
       " {'_id': 'Duque de Caxias, Brasil', 'count': 467},\n",
       " {'_id': 'Nova Iguaçu, Brasil', 'count': 446},\n",
       " {'_id': 'Campinas, Brasil', 'count': 442},\n",
       " {'_id': 'Paraná, Brasil', 'count': 435},\n",
       " {'_id': 'Lisboa, Portugal', 'count': 430},\n",
       " {'_id': 'Rio de Janeiro, Brazil', 'count': 420},\n",
       " {'_id': 'RJ', 'count': 418},\n",
       " {'_id': 'Bahia, Brasil', 'count': 401},\n",
       " {'_id': 'Porto, Portugal', 'count': 397},\n",
       " {'_id': 'Pernambuco, Brasil', 'count': 391},\n",
       " {'_id': 'Vitória, Brasil', 'count': 366},\n",
       " {'_id': 'São Gonçalo, Brasil', 'count': 356},\n",
       " {'_id': 'Cuiabá, Brasil', 'count': 351},\n",
       " {'_id': 'Brasília', 'count': 350},\n",
       " {'_id': 'Natal, Brasil', 'count': 344},\n",
       " {'_id': 'Belo Horizonte', 'count': 330},\n",
       " {'_id': 'na merda', 'count': 325},\n",
       " {'_id': 'Ceará, Brasil', 'count': 320},\n",
       " {'_id': 'Maceió, Brasil', 'count': 314},\n",
       " {'_id': 'na sua', 'count': 307},\n",
       " {'_id': 'Campo Grande, Brasil', 'count': 301},\n",
       " {'_id': 'Distrito Federal, Brasil', 'count': 299},\n",
       " {'_id': 'Vila Velha, Brasil', 'count': 286},\n",
       " {'_id': 'Juiz de Fora, Brasil', 'count': 279},\n",
       " {'_id': 'Aracaju, Brasil', 'count': 273},\n",
       " {'_id': 'São Bernardo do Campo, Brasil', 'count': 270},\n",
       " {'_id': 'Porto Velho, Brasil', 'count': 269},\n",
       " {'_id': 'Recife', 'count': 268},\n",
       " {'_id': 'Santos, Brasil', 'count': 265},\n",
       " {'_id': 'João Pessoa, Brasil', 'count': 253},\n",
       " {'_id': 'Hogwarts', 'count': 252},\n",
       " {'_id': 'ela/dela', 'count': 252},\n",
       " {'_id': 'Chile', 'count': 252},\n",
       " {'_id': 'Rj', 'count': 250},\n",
       " {'_id': 'she/her', 'count': 245},\n",
       " {'_id': 'São José dos Campos, Brasil', 'count': 241},\n",
       " {'_id': 'Porto Alegre', 'count': 239},\n",
       " {'_id': 'Paris, France', 'count': 237},\n",
       " {'_id': 'Joinville, Brasil', 'count': 234},\n",
       " {'_id': 'Guarulhos, Brasil', 'count': 232},\n",
       " {'_id': 'Teresina, Brasil', 'count': 229},\n",
       " {'_id': 'Petrópolis, Brasil', 'count': 229},\n",
       " {'_id': 'Rio de Janeiro ', 'count': 228},\n",
       " {'_id': 'Cabo Frio, Brasil', 'count': 218},\n",
       " {'_id': 'Uberlândia, Brasil', 'count': 210},\n",
       " {'_id': 'Santo André, Brasil', 'count': 206},\n",
       " {'_id': 'Rio das Ostras, Brasil', 'count': 206},\n",
       " {'_id': 'Volta Redonda, Brasil', 'count': 202},\n",
       " {'_id': 'Angra dos Reis, Brasil', 'count': 201},\n",
       " {'_id': 'São Paulo - Brasil', 'count': 200},\n",
       " {'_id': 'Campos dos Goytacazes, Brasil', 'count': 198},\n",
       " {'_id': 'SP', 'count': 198},\n",
       " {'_id': 'Pelotas, Brasil', 'count': 197},\n",
       " {'_id': 'Maringá, Brasil', 'count': 193},\n",
       " {'_id': 'Blumenau, Brasil', 'count': 193},\n",
       " {'_id': 'brasil', 'count': 192},\n",
       " {'_id': '022', 'count': 192},\n",
       " {'_id': 'Sorocaba, Brasil', 'count': 186},\n",
       " {'_id': 'rio de janeiro', 'count': 181},\n",
       " {'_id': 'Santiago, Chile', 'count': 179},\n",
       " {'_id': 'Palmas, Brasil', 'count': 178},\n",
       " {'_id': 'Curitiba', 'count': 176},\n",
       " {'_id': 'Ribeirão Preto, Brasil', 'count': 173},\n",
       " {'_id': 'Maricá, Brasil', 'count': 172},\n",
       " {'_id': 'Maranhão, Brasil', 'count': 171},\n",
       " {'_id': 'Goiás, Brasil', 'count': 167},\n",
       " {'_id': 'Guarujá, Brasil', 'count': 165},\n",
       " {'_id': 'Jacarepaguá, Rio de Janeiro', 'count': 164},\n",
       " {'_id': 'Nárnia', 'count': 163},\n",
       " {'_id': 'Campo Grande, Rio de Janeiro', 'count': 163},\n",
       " {'_id': 'Rio Grande, Brasil', 'count': 161},\n",
       " {'_id': 'princess park', 'count': 154},\n",
       " {'_id': 'sp', 'count': 152},\n",
       " {'_id': 'São João de Meriti, Brasil', 'count': 149},\n",
       " {'_id': 'Macaé, Brasil', 'count': 149},\n",
       " {'_id': 'Mato Grosso do Sul, Brasil', 'count': 146},\n",
       " {'_id': 'Serra, Brasil', 'count': 146},\n",
       " {'_id': 'Rio de janeiro', 'count': 146},\n",
       " {'_id': 'Belford Roxo, Brasil', 'count': 146},\n",
       " {'_id': 'Macapá, Brasil', 'count': 146},\n",
       " {'_id': '🇧🇷', 'count': 145},\n",
       " {'_id': 'em outro patamar', 'count': 145},\n",
       " {'_id': 'Paraíba, Brasil', 'count': 144},\n",
       " {'_id': 'Londrina, Brasil', 'count': 144},\n",
       " {'_id': 'Brasil ', 'count': 143},\n",
       " {'_id': 'MG', 'count': 143},\n",
       " {'_id': 'Bangu, Rio de Janeiro', 'count': 142},\n",
       " {'_id': 'BRASIL', 'count': 140},\n",
       " {'_id': '🏳️\\u200d🌈', 'count': 139},\n",
       " {'_id': 'México', 'count': 139},\n",
       " {'_id': 'fan account', 'count': 137},\n",
       " {'_id': 'fundo do poço', 'count': 137},\n",
       " {'_id': 'Brasília, Brazil', 'count': 137},\n",
       " {'_id': 'Pará, Brasil', 'count': 136},\n",
       " {'_id': 'Contagem, Brasil', 'count': 136},\n",
       " {'_id': 'Beverly Hills, CA', 'count': 133},\n",
       " {'_id': 'bh', 'count': 133},\n",
       " {'_id': 'Los Angeles, CA', 'count': 128},\n",
       " {'_id': 'Olinda, Brasil', 'count': 125},\n",
       " {'_id': 'Salvador', 'count': 125},\n",
       " {'_id': 'Rio Branco, Brasil', 'count': 124},\n",
       " {'_id': 'Foz do Iguaçu, Brasil', 'count': 123},\n",
       " {'_id': 'São Paulo, Brazil', 'count': 122},\n",
       " {'_id': 'Belo Horizonte, Brazil', 'count': 122},\n",
       " {'_id': 'Acre, Brasil', 'count': 119},\n",
       " {'_id': 'São Paulo - SP', 'count': 118},\n",
       " {'_id': 'Minas Gerais', 'count': 117},\n",
       " {'_id': 'Rio Grande do Sul', 'count': 116},\n",
       " {'_id': 'London, England', 'count': 116},\n",
       " {'_id': 'Rio Grande do Norte, Brasil', 'count': 116},\n",
       " {'_id': 'Fortaleza', 'count': 115},\n",
       " {'_id': 'Na sua', 'count': 114},\n",
       " {'_id': 'Curitiba, Brazil', 'count': 114},\n",
       " {'_id': 'Bauru, Brasil', 'count': 114},\n",
       " {'_id': 'BH', 'count': 113},\n",
       " {'_id': 'Na merda', 'count': 112},\n",
       " {'_id': 'Itajaí, Brasil', 'count': 111},\n",
       " {'_id': 'Anápolis, Brasil', 'count': 109},\n",
       " {'_id': 'Braga, Portugal', 'count': 108},\n",
       " {'_id': 'no seu coração', 'count': 108},\n",
       " {'_id': 'Goiânia', 'count': 108},\n",
       " {'_id': 'Rio de Janeiro - Brasil', 'count': 108},\n",
       " {'_id': 'Balneário Camboriú, Brasil', 'count': 107},\n",
       " {'_id': 'Mogi das Cruzes, Brasil', 'count': 106},\n",
       " {'_id': '013', 'count': 106},\n",
       " {'_id': 'Belo Horizonte, Minas Gerais', 'count': 104},\n",
       " {'_id': 'Manaus', 'count': 104},\n",
       " {'_id': ' Brasil', 'count': 103},\n",
       " {'_id': '019', 'count': 102},\n",
       " {'_id': 'Santa Maria, Brasil', 'count': 102},\n",
       " {'_id': 'na sua ', 'count': 101},\n",
       " {'_id': 'Alagoas, Brasil', 'count': 101},\n",
       " {'_id': 'errejota', 'count': 101},\n",
       " {'_id': 'Realengo, Rio de Janeiro', 'count': 100},\n",
       " {'_id': 'hogwarts', 'count': 99},\n",
       " {'_id': 'Fortaleza, Brazil', 'count': 97},\n",
       " {'_id': 'Rondônia, Brasil', 'count': 96},\n",
       " {'_id': 'São José dos Pinhais, Brasil', 'count': 96},\n",
       " {'_id': 'Brasília, Distrito Federal', 'count': 95},\n",
       " {'_id': 'Buenos Aires, Argentina', 'count': 95},\n",
       " {'_id': 'Konoha', 'count': 95},\n",
       " {'_id': 'Canoas, Brasil', 'count': 95},\n",
       " {'_id': 'Centro, Rio de Janeiro', 'count': 94},\n",
       " {'_id': 'São Paulo ', 'count': 93},\n",
       " {'_id': 'Princess Park', 'count': 93},\n",
       " {'_id': 'Rio de Janeiro, Brasil ', 'count': 93},\n",
       " {'_id': 'Recife, Brazil', 'count': 92},\n",
       " {'_id': 'Chapecó, Brasil', 'count': 92},\n",
       " {'_id': 'Galiza', 'count': 91},\n",
       " {'_id': 'São Paulo, SP', 'count': 91},\n",
       " {'_id': 'konoha', 'count': 91},\n",
       " {'_id': 'Hell', 'count': 90},\n",
       " {'_id': 'Wakanda', 'count': 90},\n",
       " {'_id': 'Araruama, Brasil', 'count': 89},\n",
       " {'_id': 'Franca, Brasil', 'count': 89},\n",
       " {'_id': 'Piracicaba, Brasil', 'count': 88},\n",
       " {'_id': '011', 'count': 88},\n",
       " {'_id': 'Americana, Brasil', 'count': 88},\n",
       " {'_id': 'Nova Friburgo, Brasil', 'count': 87},\n",
       " {'_id': 'Sergipe, Brasil', 'count': 87},\n",
       " {'_id': 'Osasco, Brasil', 'count': 86},\n",
       " {'_id': 'Salvador, Bahia', 'count': 86},\n",
       " {'_id': 'hell', 'count': 86},\n",
       " {'_id': 'Coimbra, Portugal', 'count': 86},\n",
       " {'_id': 'Itaboraí, Brasil', 'count': 85},\n",
       " {'_id': 'Taubaté, Brasil', 'count': 85},\n",
       " {'_id': 'Venezuela', 'count': 84},\n",
       " {'_id': 'Dourados, Brasil', 'count': 84},\n",
       " {'_id': 'Jundiaí, Brasil', 'count': 83},\n",
       " {'_id': 'Betim, Brasil', 'count': 83},\n",
       " {'_id': 'Imperatriz, Brasil', 'count': 83},\n",
       " {'_id': 'Novo Hamburgo, Brasil', 'count': 83},\n",
       " {'_id': 'no fundo do poço', 'count': 82},\n",
       " {'_id': 'Teresópolis, Brasil', 'count': 82},\n",
       " {'_id': 'são paulo', 'count': 81},\n",
       " {'_id': 'Brasilia', 'count': 81},\n",
       " {'_id': 'RS', 'count': 81},\n",
       " {'_id': 'em outro patamar ', 'count': 80},\n",
       " {'_id': 'São José do Rio Preto, Brasil', 'count': 80},\n",
       " {'_id': 'Magé, Brasil', 'count': 79},\n",
       " {'_id': 'Nilópolis, Brasil', 'count': 79},\n",
       " {'_id': 'Passo Fundo, Brasil', 'count': 79},\n",
       " {'_id': 'Gravataí, Brasil', 'count': 79},\n",
       " {'_id': 'Lisboa', 'count': 79},\n",
       " {'_id': 'no seu coração ', 'count': 79},\n",
       " {'_id': 'Guarapari, Brasil', 'count': 78},\n",
       " {'_id': 'Amazonas, Brasil', 'count': 78},\n",
       " {'_id': 'Paranaguá, Brasil', 'count': 78},\n",
       " {'_id': 'Lisbon, Portugal', 'count': 77},\n",
       " {'_id': 'Armação dos Búzios, Brasil', 'count': 77},\n",
       " {'_id': 'Copacabana, Rio de Janeiro', 'count': 77},\n",
       " {'_id': '021 ', 'count': 76},\n",
       " {'_id': 'Brasília - DF', 'count': 76},\n",
       " {'_id': 'Limeira, Brasil', 'count': 76},\n",
       " {'_id': '𝖕𝖗𝖎𝖓𝖈𝖊𝖘𝖘 𝖕𝖆𝖗𝖐', 'count': 76},\n",
       " {'_id': 'Caruaru, Brasil', 'count': 76},\n",
       " {'_id': 'Mesquita, Brasil', 'count': 76},\n",
       " {'_id': 'República de Moçambique', 'count': 76},\n",
       " {'_id': 'Tijuca, Rio de Janeiro', 'count': 75},\n",
       " {'_id': 'Cariacica, Brasil', 'count': 75},\n",
       " {'_id': 'Belém', 'count': 74},\n",
       " {'_id': 'Cascavel, Brasil', 'count': 74},\n",
       " {'_id': 'Caxias do Sul, Brasil', 'count': 74},\n",
       " {'_id': 'Curitiba-PR, terra do fascismo', 'count': 74},\n",
       " {'_id': 'São Vicente, Brasil', 'count': 74},\n",
       " {'_id': 'São Caetano do Sul, Brasil', 'count': 73},\n",
       " {'_id': 'casa do caralho', 'count': 73},\n",
       " {'_id': 'Bahia', 'count': 73},\n",
       " {'_id': 'Porto Alegre, RS', 'count': 72},\n",
       " {'_id': 'Recife, Pernambuco', 'count': 72},\n",
       " {'_id': 'Santarém, Brasil', 'count': 72},\n",
       " {'_id': 'Inferno', 'count': 71},\n",
       " {'_id': 'Barra Mansa, Brasil', 'count': 71},\n",
       " {'_id': 'Niterói', 'count': 71},\n",
       " {'_id': 'Praia Grande, Brasil', 'count': 71},\n",
       " {'_id': 'Tocantins, Brasil', 'count': 71},\n",
       " {'_id': 'Ponta Grossa, Brasil', 'count': 70},\n",
       " {'_id': 'na casa do caralho', 'count': 70},\n",
       " {'_id': 'Diadema, Brasil', 'count': 70},\n",
       " {'_id': 'Ipatinga, Brasil', 'count': 70},\n",
       " {'_id': 'Viamão, Brasil', 'count': 69},\n",
       " {'_id': 'Campina Grande, Brasil', 'count': 69},\n",
       " {'_id': 'Montes Claros, Brasil', 'count': 68},\n",
       " {'_id': 'Cachoeirinha, Brasil', 'count': 68},\n",
       " {'_id': 'Santa Cruz, Rio de Janeiro', 'count': 68},\n",
       " {'_id': 'Angola', 'count': 67},\n",
       " {'_id': 'Ceilândia, Brasília', 'count': 67},\n",
       " {'_id': '+55021', 'count': 67},\n",
       " {'_id': 'puta que pariu', 'count': 67},\n",
       " {'_id': 'Wonderland', 'count': 67},\n",
       " {'_id': 'sc', 'count': 66},\n",
       " {'_id': 'Argentina', 'count': 66},\n",
       " {'_id': 'recife', 'count': 65},\n",
       " {'_id': 'inferno', 'count': 65},\n",
       " {'_id': 'Rio de Janeiro - RJ', 'count': 64},\n",
       " {'_id': 'Marabá, Brasil', 'count': 64},\n",
       " {'_id': 'Barueri, Brasil', 'count': 64},\n",
       " {'_id': 'Califórnia, USA', 'count': 64},\n",
       " {'_id': 'Governador Valadares, Brasil', 'count': 64},\n",
       " {'_id': 'Feira de Santana, Brasil', 'count': 64},\n",
       " {'_id': 'Porto Alegre, Brazil', 'count': 63},\n",
       " {'_id': 'Sao Paulo', 'count': 63},\n",
       " {'_id': 'Mato Grosso, Brasil', 'count': 63},\n",
       " {'_id': 'Floripa', 'count': 63},\n",
       " {'_id': 'Vitória da Conquista, Brasil', 'count': 63},\n",
       " {'_id': 'brazil', 'count': 62},\n",
       " {'_id': 'São Mateus, Brasil', 'count': 62},\n",
       " {'_id': 'Manaus, Amazonas', 'count': 62},\n",
       " {'_id': 'Piauí, Brasil', 'count': 62},\n",
       " {'_id': 'Alvorada, Brasil', 'count': 61},\n",
       " {'_id': 'Pernambuco', 'count': 61},\n",
       " {'_id': 'bsb', 'count': 61},\n",
       " {'_id': 'Penha, Rio de Janeiro', 'count': 61},\n",
       " {'_id': 'Pelotas, Rio Grande do Sul', 'count': 61},\n",
       " {'_id': 'Aveiro, Portugal', 'count': 60},\n",
       " {'_id': 'perdida', 'count': 60},\n",
       " {'_id': 'Jaraguá do Sul, Brasil', 'count': 60},\n",
       " {'_id': 'RJ ', 'count': 60},\n",
       " {'_id': 'New York, NY', 'count': 59},\n",
       " {'_id': 'Brooklyn, NY', 'count': 59},\n",
       " {'_id': 'Hortolândia, Brasil', 'count': 59},\n",
       " {'_id': 'España', 'count': 58},\n",
       " {'_id': 'central perk', 'count': 58},\n",
       " {'_id': 'Florianópolis', 'count': 58},\n",
       " {'_id': 'Indaiatuba, Brasil', 'count': 58},\n",
       " {'_id': 'Boa Vista, Brasil', 'count': 58},\n",
       " {'_id': 'Belo Horizonte - MG', 'count': 58},\n",
       " {'_id': 'bxd', 'count': 57},\n",
       " {'_id': 'Saquarema, Brasil', 'count': 57},\n",
       " {'_id': 'Sinop, Brasil', 'count': 56},\n",
       " {'_id': 'Araras, Brasil', 'count': 56},\n",
       " {'_id': 'São Carlos, Brasil', 'count': 56},\n",
       " {'_id': 'Minas Gerais, Brazil', 'count': 56},\n",
       " {'_id': 'Brasília ', 'count': 56},\n",
       " {'_id': 'Presidente Prudente, Brasil', 'count': 56},\n",
       " {'_id': 'SC', 'count': 56},\n",
       " {'_id': 'Valinhos, Brasil', 'count': 56},\n",
       " {'_id': 'Barra do Piraí, Brasil', 'count': 56},\n",
       " {'_id': 'Brasília, DF, Brasil', 'count': 55},\n",
       " {'_id': '021🌴', 'count': 55},\n",
       " {'_id': 'Belém, Pará', 'count': 55},\n",
       " {'_id': 'Brasília-DF', 'count': 55},\n",
       " {'_id': 'Ilha do Governador, Rio de Jan', 'count': 55},\n",
       " {'_id': 'No seu coração', 'count': 55},\n",
       " {'_id': 'Nárnia ', 'count': 55},\n",
       " {'_id': 'na merda ', 'count': 55},\n",
       " {'_id': '+55 021', 'count': 54},\n",
       " {'_id': '.', 'count': 54},\n",
       " {'_id': 'Almada, Portugal', 'count': 54},\n",
       " {'_id': 'Bragança Paulista, Brasil', 'count': 53},\n",
       " {'_id': 'na puta que pariu', 'count': 53},\n",
       " {'_id': 'Rio de Janeiro  BRASIL', 'count': 53},\n",
       " {'_id': '061', 'count': 53},\n",
       " {'_id': 'Taquara, Rio de Janeiro', 'count': 53},\n",
       " {'_id': 'Hogwarts ', 'count': 53},\n",
       " {'_id': 'Curitiba, Paraná', 'count': 52},\n",
       " {'_id': ' ', 'count': 52},\n",
       " {'_id': 'Bacurau', 'count': 52},\n",
       " {'_id': 'Niterói, Rio de Janeiro', 'count': 51},\n",
       " {'_id': 'Brusque, Brasil', 'count': 51},\n",
       " {'_id': 'Araraquara, Brasil', 'count': 51},\n",
       " {'_id': 'Em outro patamar', 'count': 51},\n",
       " {'_id': 'Rio De Janeiro', 'count': 51},\n",
       " {'_id': 'Teixeira de Freitas, Brasil', 'count': 51},\n",
       " {'_id': 'Colatina, Brasil', 'count': 50},\n",
       " {'_id': 'Na Terra, no Céu... Aqui e Ago', 'count': 50},\n",
       " {'_id': 'Galicia', 'count': 50},\n",
       " {'_id': 'Itaguaí, Brasil', 'count': 50},\n",
       " {'_id': 'Gama, Brasília', 'count': 50},\n",
       " {'_id': 'Rio', 'count': 50},\n",
       " {'_id': 'São Januário', 'count': 49},\n",
       " {'_id': 'fundo do poço ', 'count': 49},\n",
       " {'_id': 'Lages, Brasil', 'count': 49},\n",
       " {'_id': 'Fortaleza, Ceará', 'count': 49},\n",
       " {'_id': 'Uberaba, Brasil', 'count': 49},\n",
       " {'_id': 'Vila Nova de Gaia, Portugal', 'count': 49},\n",
       " {'_id': 'Queimados, Brasil', 'count': 49},\n",
       " {'_id': 'Petrolina, Brasil', 'count': 48},\n",
       " {'_id': 'Guimarães, Portugal', 'count': 48},\n",
       " {'_id': 'João Monlevade, Brasil', 'count': 48},\n",
       " {'_id': 'Leiria, Portugal', 'count': 48},\n",
       " {'_id': 'São Bernardo do Campo', 'count': 48},\n",
       " {'_id': 'Ecuador', 'count': 48},\n",
       " {'_id': 'Jacareí, Brasil', 'count': 48},\n",
       " {'_id': 'Natal/RN', 'count': 48},\n",
       " {'_id': 'Toronto, Ontario', 'count': 47},\n",
       " {'_id': 'Itaperuna, Brasil', 'count': 47},\n",
       " {'_id': 'Manaus, Brazil', 'count': 47},\n",
       " {'_id': 'Toledo, Brasil', 'count': 47},\n",
       " {'_id': 'Suzano, Brasil', 'count': 47},\n",
       " {'_id': 'São Leopoldo, Brasil', 'count': 47},\n",
       " {'_id': 'Rondonópolis, Brasil', 'count': 47},\n",
       " {'_id': 'Themyscira', 'count': 47},\n",
       " {'_id': '031', 'count': 47},\n",
       " {'_id': 'Criciúma, Brasil', 'count': 46},\n",
       " {'_id': 'Divinópolis, Brasil', 'count': 46},\n",
       " {'_id': 'Boston, MA', 'count': 46},\n",
       " {'_id': 'Neverland', 'count': 46},\n",
       " {'_id': 'Resende, Brasil', 'count': 46},\n",
       " {'_id': 'Sintra, Portugal', 'count': 45},\n",
       " {'_id': 'Bonsucesso, Rio de Janeiro', 'count': 45},\n",
       " {'_id': 'Irajá, Rio de Janeiro', 'count': 45},\n",
       " {'_id': 'Porto Alegre - RS', 'count': 45},\n",
       " {'_id': 'Hope World', 'count': 45},\n",
       " {'_id': 'Japão', 'count': 45},\n",
       " {'_id': 'ǝʌɐ uooɯʎǝuoɥ', 'count': 45},\n",
       " {'_id': 'Recife-PE', 'count': 44},\n",
       " {'_id': 'outro patamar', 'count': 44},\n",
       " {'_id': 'Rio Branco, Acre', 'count': 44},\n",
       " {'_id': 'Narnia', 'count': 44},\n",
       " {'_id': 'Santa Cruz do Sul, Brasil', 'count': 44},\n",
       " {'_id': 'Madureira, Rio de Janeiro', 'count': 44},\n",
       " {'_id': 'Setúbal, Portugal', 'count': 44},\n",
       " {'_id': '047', 'count': 44},\n",
       " {'_id': 'Araçatuba, Brasil', 'count': 43},\n",
       " {'_id': 'Rio de Janeiro, RJ', 'count': 43},\n",
       " {'_id': 'Goiânia, Brazil', 'count': 43},\n",
       " {'_id': 'Valparaíso de Goiás, Brasil', 'count': 43},\n",
       " {'_id': 'multifandom ', 'count': 43},\n",
       " {'_id': 'Ananindeua, Brasil', 'count': 43},\n",
       " {'_id': 'Caraguatatuba, Brasil', 'count': 43},\n",
       " {'_id': 'Grécia', 'count': 43},\n",
       " {'_id': 'Mexico', 'count': 42},\n",
       " {'_id': 'Nova Iguaçu', 'count': 42},\n",
       " {'_id': 'Fortaleza-CE', 'count': 42},\n",
       " {'_id': 'France', 'count': 42},\n",
       " {'_id': 'João Pessoa, Paraíba, Brasil', 'count': 42},\n",
       " {'_id': '+021', 'count': 42},\n",
       " {'_id': 'Pindorama', 'count': 42},\n",
       " {'_id': 'Ceará', 'count': 41},\n",
       " {'_id': 'no fundo do poço ', 'count': 41},\n",
       " {'_id': '024', 'count': 41},\n",
       " {'_id': 'Guarapuava, Brasil', 'count': 41},\n",
       " {'_id': 'Barcelona', 'count': 41},\n",
       " {'_id': 'João Pessoa', 'count': 40},\n",
       " {'_id': 'Florianópolis, Brazil', 'count': 40},\n",
       " {'_id': 'Cidade de Deus, Rio de Janeiro', 'count': 40},\n",
       " {'_id': 'Nova Iorque, USA', 'count': 40},\n",
       " {'_id': 'she/her ', 'count': 40},\n",
       " {'_id': 'rj ', 'count': 40},\n",
       " {'_id': '♡', 'count': 39},\n",
       " {'_id': 'Varginha, Brasil', 'count': 39},\n",
       " {'_id': 'Senador Camará, Rio de Janeiro', 'count': 39},\n",
       " {'_id': 'Recife - PE', 'count': 39},\n",
       " {'_id': 'Campo Mourão, Brasil', 'count': 39},\n",
       " {'_id': 'Recreio dos Bandeirantes, Rio ', 'count': 39},\n",
       " {'_id': 'Itatiba, Brasil', 'count': 39},\n",
       " {'_id': 'Belo Horizonte, MG', 'count': 39},\n",
       " {'_id': 'Viçosa, Brasil', 'count': 39},\n",
       " {'_id': 'Maceió', 'count': 38},\n",
       " {'_id': 'Campinas', 'count': 38},\n",
       " {'_id': 'Marília, Brasil', 'count': 38},\n",
       " {'_id': 'hellcife', 'count': 38},\n",
       " {'_id': 'Funchal, Portugal', 'count': 38},\n",
       " {'_id': 'Ji-Paraná, Brasil', 'count': 38},\n",
       " {'_id': '+5521', 'count': 38},\n",
       " {'_id': 'Montevideo, Uruguay', 'count': 38},\n",
       " {'_id': 'Garanhuns, Brasil', 'count': 38},\n",
       " {'_id': 'No seu coração ', 'count': 38},\n",
       " {'_id': 'Guaratinguetá, Brasil', 'count': 37},\n",
       " {'_id': '...', 'count': 37},\n",
       " {'_id': 'Na sua ', 'count': 37},\n",
       " {'_id': 'Palhoça, Brasil', 'count': 37},\n",
       " {'_id': 'Rio Grande do Sul, Brazil', 'count': 37},\n",
       " {'_id': 'BRAZIL', 'count': 37},\n",
       " {'_id': 'Faro, Portugal', 'count': 37},\n",
       " {'_id': 'Viseu, Portugal', 'count': 37},\n",
       " {'_id': 'Mossoró, Brasil', 'count': 37},\n",
       " {'_id': 'Florida, USA', 'count': 36},\n",
       " {'_id': 'São Pedro da Aldeia, Brasil', 'count': 36},\n",
       " {'_id': 'Torres, Brasil', 'count': 36},\n",
       " {'_id': 'Santiago de Chile', 'count': 36},\n",
       " {'_id': 'Asgard', 'count': 36},\n",
       " {'_id': 'Ubatuba, Brasil', 'count': 36},\n",
       " {'_id': 'Boa Viagem, Recife', 'count': 36},\n",
       " {'_id': \"Santa Bárbara d'Oeste, Brasil\", 'count': 36},\n",
       " {'_id': 'Três Lagoas, Brasil', 'count': 36},\n",
       " {'_id': 'Santa Catarina', 'count': 36},\n",
       " {'_id': 'Uruguay', 'count': 36},\n",
       " {'_id': 'Itapetininga, Brasil', 'count': 36},\n",
       " {'_id': 'Itapevi, Brasil', 'count': 36},\n",
       " {'_id': 'Marte', 'count': 36},\n",
       " {'_id': 'Roraima, Brasil', 'count': 36},\n",
       " {'_id': '021 🌴', 'count': 36},\n",
       " {'_id': 'Fundo do poço', 'count': 36},\n",
       " {'_id': 'Quito, Ecuador', 'count': 36},\n",
       " {'_id': 'Dublin City, Ireland', 'count': 35},\n",
       " {'_id': 'BR', 'count': 35},\n",
       " {'_id': 'Salvador BA', 'count': 35},\n",
       " {'_id': 'Atibaia, Brasil', 'count': 35},\n",
       " {'_id': 'Juiz de Fora', 'count': 35},\n",
       " {'_id': 'Pavuna, Rio de Janeiro', 'count': 35},\n",
       " {'_id': 'Itu, Brasil', 'count': 35},\n",
       " {'_id': 'guaruja', 'count': 35},\n",
       " {'_id': 'Belo Horizonte ', 'count': 35},\n",
       " {'_id': 'Salvador, Brazil', 'count': 35},\n",
       " {'_id': 'Duque de Caxias', 'count': 34},\n",
       " {'_id': 'ES', 'count': 34},\n",
       " {'_id': 'pqp', 'count': 34},\n",
       " {'_id': 'Na Merda', 'count': 34},\n",
       " {'_id': 'Santa Maria da Feira, Portugal', 'count': 34},\n",
       " {'_id': 'Taguatinga, Brasília', 'count': 34},\n",
       " {'_id': 'Guaratiba, Rio de Janeiro', 'count': 34},\n",
       " {'_id': 'Miami Beach, FL', 'count': 34},\n",
       " {'_id': 'Cascais, Portugal', 'count': 34},\n",
       " {'_id': 'Republic of Mozambique', 'count': 34},\n",
       " {'_id': 'Arraial do Cabo, Brasil', 'count': 34},\n",
       " {'_id': 'cg', 'count': 33},\n",
       " {'_id': 'Fortaleza - CE', 'count': 33},\n",
       " {'_id': 'United States', 'count': 33},\n",
       " {'_id': 'Bogotá, D.C., Colombia', 'count': 33},\n",
       " {'_id': 'Niterói, RJ', 'count': 33},\n",
       " {'_id': 'Pernambuco, Brazil', 'count': 33},\n",
       " {'_id': 'seu coração', 'count': 33},\n",
       " {'_id': '+55 21', 'count': 33},\n",
       " {'_id': 'Madrid', 'count': 33},\n",
       " {'_id': 'Estados Unidos', 'count': 33},\n",
       " {'_id': 'Ribeirão Pires, Brasil', 'count': 33},\n",
       " {'_id': 'Três Rios, Brasil', 'count': 33},\n",
       " {'_id': 'Linhares, Brasil', 'count': 33},\n",
       " {'_id': 'Sampa', 'count': 33},\n",
       " {'_id': 'Santa Catarina, Brazil', 'count': 33},\n",
       " {'_id': 'Natal', 'count': 33},\n",
       " {'_id': 'São Francisco do Sul, Brasil', 'count': 33},\n",
       " {'_id': 'Parnaíba, Brasil', 'count': 33},\n",
       " {'_id': 'Sumaré, Brasil', 'count': 33},\n",
       " {'_id': 'Brasil 🇧🇷', 'count': 32},\n",
       " {'_id': 'Diadema, Brasil ', 'count': 32},\n",
       " {'_id': 'Brazil, IN', 'count': 32},\n",
       " {'_id': 'ela/she', 'count': 32},\n",
       " {'_id': '062', 'count': 32},\n",
       " {'_id': 'London', 'count': 32},\n",
       " {'_id': 'beagá', 'count': 32},\n",
       " {'_id': 'São Gonçalo', 'count': 32},\n",
       " {'_id': 'Santiago', 'count': 32},\n",
       " {'_id': 'exoplanet', 'count': 32},\n",
       " {'_id': 'nem eu sei', 'count': 32},\n",
       " {'_id': 'Central Perk', 'count': 32},\n",
       " {'_id': 'Campeche, Santa Catarina', 'count': 32},\n",
       " {'_id': 'minha casa', 'count': 31},\n",
       " {'_id': 'Ramos, Rio de Janeiro', 'count': 31},\n",
       " {'_id': 'Sao Paulo, Brasil', 'count': 31},\n",
       " {'_id': 'Paraguay', 'count': 31},\n",
       " {'_id': 'Recôncavo Ba', 'count': 31},\n",
       " {'_id': 'Olaria, Rio de Janeiro', 'count': 31},\n",
       " {'_id': 'Praça Seca, Rio de Janeiro', 'count': 31},\n",
       " {'_id': 'No fundo do poço', 'count': 31},\n",
       " {'_id': 'fan account ', 'count': 31},\n",
       " {'_id': 'floripa', 'count': 31},\n",
       " {'_id': 'Campinas/SP', 'count': 31},\n",
       " {'_id': 'RB, Acre, Amazônia, Brasil', 'count': 31},\n",
       " {'_id': 'Brazil ', 'count': 31},\n",
       " {'_id': 'em casa', 'count': 31},\n",
       " {'_id': 'vda', 'count': 31},\n",
       " {'_id': 'Vila da Penha, Rio de Janeiro', 'count': 30},\n",
       " {'_id': 'Sorocaba', 'count': 30},\n",
       " {'_id': 'somewhere', 'count': 30},\n",
       " {'_id': 'São Paulo, Brasil ', 'count': 30},\n",
       " {'_id': 'Paty do Alferes, Brasil', 'count': 30},\n",
       " {'_id': 'na pqp', 'count': 30},\n",
       " {'_id': 'Lins, Brasil', 'count': 30},\n",
       " {'_id': 'Juazeiro do Norte, Brasil', 'count': 30},\n",
       " {'_id': 'Vinhedo, Brasil', 'count': 30},\n",
       " {'_id': 'São Bernardo do Campo - SP', 'count': 30},\n",
       " {'_id': 'Bsb', 'count': 30},\n",
       " {'_id': 'Mauá, Brasil', 'count': 30},\n",
       " {'_id': 'São José, Brasil', 'count': 30},\n",
       " {'_id': '027 ', 'count': 30},\n",
       " {'_id': 'Viana do Castelo, Portugal', 'count': 30},\n",
       " {'_id': 'Luanda, Angola', 'count': 30},\n",
       " {'_id': 'Araxá, Brasil', 'count': 30},\n",
       " {'_id': 'Na merda ', 'count': 30},\n",
       " {'_id': 'Earth', 'count': 30},\n",
       " {'_id': 'wonderland', 'count': 30},\n",
       " {'_id': 'Rio Bonito, Brasil', 'count': 30},\n",
       " {'_id': 'Capão da Canoa, Brasil', 'count': 30},\n",
       " {'_id': 'Brasília-DF-Brasil', 'count': 30},\n",
       " {'_id': 'na sua mente', 'count': 30},\n",
       " {'_id': 'sjc', 'count': 30},\n",
       " {'_id': 'gotham city', 'count': 30},\n",
       " {'_id': 'Paranavaí, Brasil', 'count': 30},\n",
       " {'_id': 'Cidade Maravilhosa', 'count': 30},\n",
       " {'_id': 'Garopaba, Brasil', 'count': 30},\n",
       " {'_id': 'São Paulo - Brazil', 'count': 30},\n",
       " {'_id': 'Ouro Preto, Brasil', 'count': 29},\n",
       " {'_id': 'Madrid, Comunidad de Madrid', 'count': 29},\n",
       " {'_id': 'Eroda', 'count': 29},\n",
       " {'_id': 'rio', 'count': 29},\n",
       " {'_id': 'Galicia, España', 'count': 29},\n",
       " {'_id': 'Goiânia/GO', 'count': 29},\n",
       " {'_id': 'Las Vegas, NV', 'count': 29},\n",
       " {'_id': 'Porto', 'count': 29},\n",
       " {'_id': 'Diadema', 'count': 29},\n",
       " {'_id': 'Sapiranga, Brasil', 'count': 29},\n",
       " {'_id': 'São Luís', 'count': 29},\n",
       " {'_id': 'lugar nenhum', 'count': 29},\n",
       " {'_id': 'Rio de janeiro ', 'count': 29},\n",
       " {'_id': 'Beverly Hills', 'count': 29},\n",
       " {'_id': 'pvh', 'count': 29},\n",
       " {'_id': 'Goiânia, Goiás', 'count': 29},\n",
       " {'_id': 'Araguaína, Brasil', 'count': 29},\n",
       " {'_id': 'Rio de Janeiro, Brasil.', 'count': 29},\n",
       " {'_id': 'Rio Verde, Brasil', 'count': 29},\n",
       " {'_id': 'Aracaju, Brazil', 'count': 29},\n",
       " {'_id': 'vix', 'count': 29},\n",
       " {'_id': 'princess park ', 'count': 29},\n",
       " {'_id': 'Belem PA Brazil South America', 'count': 29},\n",
       " {'_id': 'Espírito Santo', 'count': 29},\n",
       " {'_id': 'Vilhena, Brasil', 'count': 28},\n",
       " {'_id': 'Amadora, Portugal', 'count': 28},\n",
       " {'_id': 'magic shop', 'count': 28},\n",
       " {'_id': 'Patos de Minas, Brasil', 'count': 28},\n",
       " {'_id': 'Rio Claro, Brasil', 'count': 28},\n",
       " {'_id': 'São Luís, Maranhão', 'count': 28},\n",
       " {'_id': 'Méier, Rio de Janeiro', 'count': 28},\n",
       " {'_id': 'Nova Iguaçu RJ', 'count': 28},\n",
       " {'_id': 'somewhere over the rainbow', 'count': 28},\n",
       " {'_id': 'Natal, RN', 'count': 28},\n",
       " {'_id': 'Itapema, Brasil', 'count': 28},\n",
       " {'_id': 'neocity', 'count': 28},\n",
       " {'_id': 'Recreio dos Bandeirantes', 'count': 28},\n",
       " {'_id': 'Vespasiano, Brasil', 'count': 28},\n",
       " {'_id': 'Orlando, FL', 'count': 28},\n",
       " {'_id': 'São Gonçalo, RJ', 'count': 28},\n",
       " {'_id': 'Vila Valqueire, Rio de Janeiro', 'count': 28},\n",
       " {'_id': 'Seattle, WA', 'count': 28},\n",
       " {'_id': 'Mangaratiba, Brasil', 'count': 28},\n",
       " {'_id': 'Sorriso, Brasil', 'count': 28},\n",
       " {'_id': 'Valença, Brasil', 'count': 28},\n",
       " {'_id': 'Aracaju', 'count': 28},\n",
       " {'_id': 'Duque de Caxias, RJ', 'count': 28},\n",
       " {'_id': 'Paraná', 'count': 28},\n",
       " {'_id': 'Caxias, Brasil', 'count': 28},\n",
       " {'_id': '日本 東京', 'count': 28},\n",
       " {'_id': 'Em outro patamar ', 'count': 27},\n",
       " {'_id': 'Hellcife', 'count': 27},\n",
       " {'_id': 'CALM out now ⬇️', 'count': 27},\n",
       " {'_id': 'Distrito Federal, México', 'count': 27},\n",
       " {'_id': 'Oporto, Portugal', 'count': 27},\n",
       " {'_id': 'rio de janeiro ', 'count': 27},\n",
       " {'_id': 'Curitiba ', 'count': 27},\n",
       " {'_id': 'Santiago de Compostela', 'count': 27},\n",
       " {'_id': '028', 'count': 27},\n",
       " {'_id': 'Pato Branco, Brasil', 'count': 27},\n",
       " {'_id': 'Olímpia, Brasil', 'count': 27},\n",
       " {'_id': 'Porto Velho, Rondônia', 'count': 27},\n",
       " {'_id': 'Porto Alegre, RS, Brasil', 'count': 27},\n",
       " {'_id': 'Alfenas, Brasil', 'count': 27},\n",
       " {'_id': 'no seu cu', 'count': 27},\n",
       " {'_id': 'Macaé', 'count': 27},\n",
       " {'_id': 'Seropédica, Brasil', 'count': 27},\n",
       " {'_id': 'Caçapava, Brasil', 'count': 27},\n",
       " {'_id': \"Sant'Ana do Livramento, Brasil\", 'count': 27},\n",
       " {'_id': 'Cotia, Brasil', 'count': 27},\n",
       " {'_id': 'Ibirité, Brasil', 'count': 27},\n",
       " {'_id': 'Conselheiro Lafaiete, Brasil', 'count': 27},\n",
       " {'_id': 'he/him', 'count': 27},\n",
       " {'_id': 'curitiba', 'count': 27},\n",
       " {'_id': 'Colombia', 'count': 27},\n",
       " {'_id': 'Cordovil, Rio de Janeiro', 'count': 27},\n",
       " {'_id': 'Natal, Brazil', 'count': 26},\n",
       " {'_id': 'Pelotas', 'count': 26},\n",
       " {'_id': 'URSAL', 'count': 26},\n",
       " {'_id': 'Fortaleza Ceará', 'count': 26},\n",
       " {'_id': 'crf', 'count': 26},\n",
       " {'_id': 'Barbacena, Brasil', 'count': 26},\n",
       " {'_id': 'Taubaté - SP', 'count': 26},\n",
       " {'_id': 'California, USA', 'count': 26},\n",
       " {'_id': 'São Januário ', 'count': 26},\n",
       " {'_id': 'mundo da lua', 'count': 26},\n",
       " {'_id': 'Paciência, Rio de Janeiro', 'count': 26},\n",
       " {'_id': 'Iguaba Grande, Brasil', 'count': 26},\n",
       " {'_id': 'Anchieta, Rio de Janeiro', 'count': 26},\n",
       " {'_id': 'A Coruña, Galicia', 'count': 26},\n",
       " {'_id': 'Buenos Aires', 'count': 26},\n",
       " {'_id': 'Boquim, Brasil', 'count': 26},\n",
       " {'_id': 'Brasil,  Бразилия.', 'count': 26},\n",
       " {'_id': 'Aparecida de Goiânia, Brasil', 'count': 26},\n",
       " {'_id': 'Miami, FL', 'count': 26},\n",
       " {'_id': 'Beagá', 'count': 26},\n",
       " {'_id': '🌈', 'count': 26},\n",
       " {'_id': 'Paulínia, Brasil', 'count': 26},\n",
       " {'_id': 'New York, USA', 'count': 26},\n",
       " {'_id': 'Campinas, São Paulo', 'count': 26},\n",
       " {'_id': 'Ijuí, Brasil', 'count': 26},\n",
       " {'_id': 'Natal-RN', 'count': 26},\n",
       " {'_id': 'chile', 'count': 26},\n",
       " {'_id': 'Magic Shop', 'count': 26},\n",
       " {'_id': 'Ariquemes, Brasil', 'count': 26},\n",
       " {'_id': 'Salvador - BA', 'count': 25},\n",
       " {'_id': 'ele/dele', 'count': 25},\n",
       " {'_id': 'Unaí, Brasil', 'count': 25},\n",
       " {'_id': 'Barreiro, Portugal', 'count': 25},\n",
       " {'_id': 'Padre Miguel, Rio de Janeiro', 'count': 25},\n",
       " {'_id': 'Lula ta livre ❤', 'count': 25},\n",
       " {'_id': 'Salvador, Bahia, Brasil', 'count': 25},\n",
       " {'_id': 'Carapicuíba, Brasil', 'count': 25},\n",
       " {'_id': 'Brasília, DF', 'count': 25},\n",
       " {'_id': 'Perdida', 'count': 25},\n",
       " {'_id': 'Canadá', 'count': 25},\n",
       " {'_id': 'eroda', 'count': 25},\n",
       " {'_id': 'Francisco Beltrão, Brasil', 'count': 25},\n",
       " {'_id': 'Tubarão, Brasil', 'count': 25},\n",
       " {'_id': '221B Baker Street', 'count': 25},\n",
       " {'_id': 'Campo Grande, MS', 'count': 25},\n",
       " {'_id': 'São Paulo, SP, Brasil', 'count': 25},\n",
       " {'_id': 'Sepetiba, Rio de Janeiro', 'count': 25},\n",
       " {'_id': 'arapiraca', 'count': 25},\n",
       " {'_id': 'Barcelos, Portugal', 'count': 25},\n",
       " {'_id': 'Pindamonhangaba, Brasil', 'count': 25},\n",
       " {'_id': 'Goiânia ', 'count': 25},\n",
       " {'_id': '051', 'count': 25},\n",
       " {'_id': 'wakanda', 'count': 25},\n",
       " {'_id': 'Cachoeiro de Itapemirim, Brasi', 'count': 25},\n",
       " {'_id': 'País da Vergonha', 'count': 25},\n",
       " {'_id': 'São Lourenço, Brasil', 'count': 24},\n",
       " {'_id': 'Princess park', 'count': 24},\n",
       " {'_id': 'São Paulo Brasil', 'count': 24},\n",
       " {'_id': 'Cosmos, Rio de Janeiro', 'count': 24},\n",
       " {'_id': 'Belém-PA', 'count': 24},\n",
       " {'_id': 'Salvador - Bahia', 'count': 24},\n",
       " {'_id': 'na sua bb', 'count': 24},\n",
       " {'_id': 'Monterrey, Nuevo León', 'count': 24},\n",
       " {'_id': 'Promissão, Brasil', 'count': 24},\n",
       " {'_id': 'mg', 'count': 24},\n",
       " {'_id': 'Portugal ', 'count': 24},\n",
       " {'_id': 'Terra do Nunca', 'count': 24},\n",
       " {'_id': 'Ciudad Autónoma de Buenos Aire', 'count': 24},\n",
       " {'_id': 'Belém, Brazil', 'count': 24},\n",
       " {'_id': 'Laranjeiras, Rio de Janeiro', 'count': 24},\n",
       " {'_id': 'Rio de Janeiro / Brasil', 'count': 24},\n",
       " {'_id': 'Londrina, Paraná', 'count': 24},\n",
       " {'_id': 'Gotham City', 'count': 24},\n",
       " {'_id': 'Barcelona, España', 'count': 24},\n",
       " {'_id': '🚩', 'count': 24},\n",
       " {'_id': 'Bh', 'count': 24},\n",
       " {'_id': 'Distrito Federal', 'count': 24},\n",
       " {'_id': 'Varginha - MG', 'count': 24},\n",
       " {'_id': 'América Latina', 'count': 24},\n",
       " {'_id': 'Niterói ', 'count': 24},\n",
       " {'_id': '🐰+🐥', 'count': 24},\n",
       " {'_id': 'recife ', 'count': 24},\n",
       " {'_id': '041', 'count': 24},\n",
       " {'_id': 'São Paulo-SP', 'count': 23},\n",
       " {'_id': 'Disney', 'count': 23},\n",
       " {'_id': 'Formosa, Brasil', 'count': 23},\n",
       " {'_id': 'Navegantes, Brasil', 'count': 23},\n",
       " {'_id': 'es', 'count': 23},\n",
       " {'_id': 'Ilhéus, Brasil', 'count': 23},\n",
       " {'_id': 'Anchieta, Brasil', 'count': 23},\n",
       " {'_id': 'Fortaleza - Ceará', 'count': 23},\n",
       " {'_id': 'CDMX', 'count': 23},\n",
       " {'_id': 'Recife, PE', 'count': 23},\n",
       " {'_id': 'Erechim, Brasil', 'count': 23},\n",
       " {'_id': 'Belém, Pará, Brasil', 'count': 23},\n",
       " {'_id': 'Paraty, Brasil', 'count': 23},\n",
       " {'_id': 'Juiz de Fora - MG. Brasil', 'count': 23},\n",
       " {'_id': 'Rio de Janeiro/RJ', 'count': 23},\n",
       " {'_id': 'asgard', 'count': 23},\n",
       " {'_id': 'Umuarama, Brasil', 'count': 23},\n",
       " {'_id': 'Ilha do Governador', 'count': 23},\n",
       " {'_id': 'Nevers, France', 'count': 23},\n",
       " {'_id': 'Itaúna, Brasil', 'count': 23},\n",
       " {'_id': 'Na puta que pariu', 'count': 23},\n",
       " {'_id': 'Cachoeiro de Itapemirim', 'count': 23},\n",
       " {'_id': 'Porto Alegre ', 'count': 23},\n",
       " {'_id': 'Manhattan, NY', 'count': 23},\n",
       " {'_id': 'Mogi Guaçu, Brasil', 'count': 23},\n",
       " {'_id': 'Caratinga, Brasil', 'count': 23},\n",
       " {'_id': 'Porto Seguro, Brasil', 'count': 23},\n",
       " {'_id': 'Botafogo, Rio de Janeiro', 'count': 23},\n",
       " {'_id': 'Fortaleza - Ce', 'count': 23},\n",
       " {'_id': 'ela/dela ', 'count': 23},\n",
       " {'_id': 'Guaíba, Brasil', 'count': 23},\n",
       " {'_id': 'Cubatão, Brasil', 'count': 23},\n",
       " {'_id': 'Manaus, Amazonas, Brasil', 'count': 23},\n",
       " {'_id': 'Sp', 'count': 22},\n",
       " {'_id': 'Rj ', 'count': 22},\n",
       " {'_id': 'Barcelona, Spain', 'count': 22},\n",
       " {'_id': 'Salvador-BA', 'count': 22},\n",
       " {'_id': 'São Sebastião, Brasil', 'count': 22},\n",
       " {'_id': 'Guará, Brasília', 'count': 22},\n",
       " {'_id': 'Ciudad de México', 'count': 22},\n",
       " {'_id': 'Rio de Janeiro-RJ', 'count': 22},\n",
       " {'_id': 'caxias city', 'count': 22},\n",
       " {'_id': 'Vênus', 'count': 22},\n",
       " {'_id': 'rs', 'count': 22},\n",
       " {'_id': 'RIO DE JANEIRO', 'count': 22},\n",
       " {'_id': 'Guarulhos/SP', 'count': 22},\n",
       " {'_id': 'Medellín, Colombia', 'count': 22},\n",
       " {'_id': 'CURITIBA-PR.', 'count': 22},\n",
       " {'_id': 'Vila Isabel, Rio de Janeiro', 'count': 22},\n",
       " {'_id': 'Hell de Janeiro', 'count': 22},\n",
       " {'_id': 'Paracambi, Brasil', 'count': 22},\n",
       " {'_id': 'casa do caralho ', 'count': 22},\n",
       " {'_id': 'Por aí', 'count': 22},\n",
       " {'_id': 'Parauapebas, Brasil', 'count': 22},\n",
       " {'_id': 'Paris', 'count': 22},\n",
       " {'_id': 'salvador', 'count': 22},\n",
       " {'_id': 'Évora, Portugal', 'count': 22},\n",
       " {'_id': 'Maranhão', 'count': 22},\n",
       " {'_id': 'Casa do caralho', 'count': 22},\n",
       " {'_id': 'Viña del Mar, Chile', 'count': 22},\n",
       " {'_id': 'Vitória, Brazil', 'count': 22},\n",
       " {'_id': 'Assis, Brasil', 'count': 22},\n",
       " {'_id': 'Green Gables', 'count': 22},\n",
       " {'_id': 'Florianópolis, Santa Catarina', 'count': 22},\n",
       " {'_id': 'Curitiba, PR', 'count': 21},\n",
       " {'_id': 'Petrópolis', 'count': 21},\n",
       " {'_id': 'multifandom', 'count': 21},\n",
       " {'_id': 'Amapá, Brasil', 'count': 21},\n",
       " {'_id': 'Guayaquil, Ecuador', 'count': 21},\n",
       " {'_id': 'Campo Grande (MS), Brasil', 'count': 21},\n",
       " {'_id': 'sg', 'count': 21},\n",
       " {'_id': 'Tangará da Serra, Brasil', 'count': 21},\n",
       " {'_id': 'sao paulo', 'count': 21},\n",
       " {'_id': 'Guapimirim, Brasil', 'count': 21},\n",
       " {'_id': 'Nova Iguaçu, Rio de Janeiro', 'count': 21},\n",
       " {'_id': 'Velaris', 'count': 21},\n",
       " {'_id': 'Angra dos Reis', 'count': 21},\n",
       " {'_id': 'Itália', 'count': 21},\n",
       " {'_id': 'Campinas, SP', 'count': 21},\n",
       " {'_id': 'Barreiras, Brasil', 'count': 21},\n",
       " {'_id': 'Cabo de Santo Agostinho, Brasi', 'count': 21},\n",
       " {'_id': 'Rio de Janeiro - Brazil', 'count': 21},\n",
       " {'_id': 'Salgueiro, Pernambuco, Brasil', 'count': 21},\n",
       " {'_id': 'The Big Bang Theory ', 'count': 21},\n",
       " {'_id': 'Santos', 'count': 21},\n",
       " {'_id': 'Vigo', 'count': 21},\n",
       " {'_id': '?', 'count': 21},\n",
       " {'_id': 'Bagé, Brasil', 'count': 21},\n",
       " {'_id': 'Concepción, Chile', 'count': 21},\n",
       " {'_id': 'Coronel Fabriciano, Brasil', 'count': 20},\n",
       " {'_id': 'Catalão, Brasil', 'count': 20},\n",
       " {'_id': 'Sete Lagoas, Brasil', 'count': 20},\n",
       " {'_id': 'São Luís, Brazil', 'count': 20},\n",
       " {'_id': 'ot7', 'count': 20},\n",
       " {'_id': 'Guadalajara, Jalisco', 'count': 20},\n",
       " {'_id': 'Fundo do Poço', 'count': 20},\n",
       " {'_id': 'Casimiro de Abreu, Brasil', 'count': 20},\n",
       " {'_id': 'Vitória, ES', 'count': 20},\n",
       " {'_id': 'Guadalupe, Rio de Janeiro', 'count': 20},\n",
       " {'_id': 'nárnia', 'count': 20},\n",
       " {'_id': 'Tree Hill', 'count': 20},\n",
       " {'_id': 'SÃO PAULO', 'count': 20},\n",
       " {'_id': 'Cacoal, Brasil', 'count': 20},\n",
       " {'_id': 'Itabuna, Brasil', 'count': 20},\n",
       " {'_id': 'Westeros', 'count': 20},\n",
       " {'_id': 'Planeta Terra', 'count': 20},\n",
       " {'_id': 'São Borja, Brasil', 'count': 20},\n",
       " {'_id': 'São Paulo SP', 'count': 20},\n",
       " {'_id': 'Errejota', 'count': 20},\n",
       " {'_id': 'A Coruña', 'count': 20},\n",
       " {'_id': 'Goiânia - Goiás - Brasil', 'count': 20},\n",
       " {'_id': 'Vidigal, Rio de Janeiro', 'count': 20},\n",
       " {'_id': 'Montenegro, Brasil', 'count': 20},\n",
       " {'_id': 'por ai', 'count': 20},\n",
       " {'_id': 'Matosinhos, Portugal', 'count': 20},\n",
       " {'_id': 'Além Paraíba, Brasil', 'count': 20},\n",
       " {'_id': 'jf', 'count': 20},\n",
       " {'_id': '🌎', 'count': 20},\n",
       " {'_id': 'Blumenau', 'count': 20},\n",
       " {'_id': 'Miguel Pereira, Brasil', 'count': 20},\n",
       " {'_id': 'Cabo Frio', 'count': 20},\n",
       " {'_id': 'Rolim de Moura, Brasil', 'count': 20},\n",
       " {'_id': 'VDA', 'count': 20},\n",
       " {'_id': 'Mundo', 'count': 20},\n",
       " {'_id': 'na tua', 'count': 20},\n",
       " {'_id': 'João Pessoa, Paraíba', 'count': 20},\n",
       " {'_id': 'sccp', 'count': 20},\n",
       " {'_id': 'Inhaúma, Rio de Janeiro', 'count': 20},\n",
       " {'_id': 'Osasco', 'count': 20},\n",
       " {'_id': 'New Orleans, LA', 'count': 20},\n",
       " {'_id': 'Princess Park ', 'count': 20},\n",
       " {'_id': 'Barra da Tijuca, Rio de Janeiro', 'count': 20},\n",
       " {'_id': 'Castanhal, Brasil', 'count': 20},\n",
       " {'_id': 'Curitiba, Paraná, Brasil', 'count': 20},\n",
       " {'_id': 'Leblon, Rio de Janeiro', 'count': 20},\n",
       " {'_id': 'brasilândia não é disneylândia', 'count': 20},\n",
       " {'_id': 'Mystic Falls', 'count': 20},\n",
       " {'_id': 'Diamantina, Brasil', 'count': 20},\n",
       " {'_id': 'Texas, USA', 'count': 20},\n",
       " {'_id': 'Goiás', 'count': 19},\n",
       " {'_id': 'USA', 'count': 19},\n",
       " {'_id': 'Rio do Sul, Brasil', 'count': 19},\n",
       " {'_id': 'Brasília DF', 'count': 19},\n",
       " {'_id': 'Inglaterra, Reino Unido', 'count': 19},\n",
       " {'_id': 'São Gonçalo do Amarante Brasil', 'count': 19},\n",
       " {'_id': 'Mococa, Brasil', 'count': 19},\n",
       " {'_id': 'bookstan', 'count': 19},\n",
       " {'_id': 'Vacaria, Brasil', 'count': 19},\n",
       " {'_id': 'Natal, Rio Grande do Norte', 'count': 19},\n",
       " {'_id': 'ZN', 'count': 19},\n",
       " {'_id': 'Piedade, Rio de Janeiro', 'count': 19},\n",
       " {'_id': 'Curitiba - PR', 'count': 19},\n",
       " {'_id': '012', 'count': 19},\n",
       " {'_id': 'barueri - sao paulo', 'count': 19},\n",
       " {'_id': 'Birigui, Brasil', 'count': 19},\n",
       " {'_id': 'honeymoon avenue', 'count': 19},\n",
       " {'_id': 'manaus', 'count': 19},\n",
       " {'_id': 'Caxias city', 'count': 19},\n",
       " {'_id': 'Itajubá, Brasil', 'count': 19},\n",
       " {'_id': 'Dubai', 'count': 19},\n",
       " {'_id': 'Concórdia, Brasil', 'count': 19},\n",
       " {'_id': 'Botucatu, Brasil', 'count': 19},\n",
       " {'_id': 'belo horizonte', 'count': 19},\n",
       " {'_id': 'São Cristóvão, Rio de Janeiro', 'count': 19},\n",
       " {'_id': 'Campo Grande - MS', 'count': 19},\n",
       " {'_id': 'Amambai, Brasil', 'count': 19},\n",
       " {'_id': 'Portimão, Portugal', 'count': 19},\n",
       " {'_id': 'Salvador ', 'count': 19},\n",
       " {'_id': 'Belém, PA', 'count': 19},\n",
       " {'_id': 'Teresina', 'count': 19},\n",
       " {'_id': 'Araranguá, Brasil', 'count': 19},\n",
       " {'_id': 'Barra da Tijuca', 'count': 19},\n",
       " {'_id': 'brasilia', 'count': 19},\n",
       " {'_id': 'Bahia, Brazil', 'count': 19},\n",
       " {'_id': '021, 40 graus', 'count': 19},\n",
       " {'_id': 'CE', 'count': 18},\n",
       " {'_id': 'fortaleza', 'count': 18},\n",
       " {'_id': 'São Paulo/SP', 'count': 18},\n",
       " {'_id': 'Caldas Novas, Brasil', 'count': 18},\n",
       " {'_id': 'porto alegre', 'count': 18},\n",
       " {'_id': 'in a galaxy far far away', 'count': 18},\n",
       " {'_id': 'Avaré, Brasil', 'count': 18},\n",
       " {'_id': 'Rocha Miranda, Rio de Janeiro', 'count': 18},\n",
       " {'_id': 'Campo Grande', 'count': 18},\n",
       " {'_id': 'Bento Gonçalves, Brasil', 'count': 18},\n",
       " {'_id': 'District 9', 'count': 18},\n",
       " {'_id': 'brasília', 'count': 18},\n",
       " {'_id': 'Ursal', 'count': 18},\n",
       " {'_id': 'Votuporanga, Brasil', 'count': 18},\n",
       " {'_id': 'Minha casa', 'count': 18},\n",
       " {'_id': 'Gabinete do amor', 'count': 18},\n",
       " {'_id': 'Saturno', 'count': 18},\n",
       " {'_id': 'The World', 'count': 18},\n",
       " {'_id': 'Salvador, BA', 'count': 18},\n",
       " {'_id': 'aldeia da folha', 'count': 18},\n",
       " {'_id': 'lost', 'count': 18},\n",
       " {'_id': 'Pará', 'count': 18},\n",
       " {'_id': 'Gaspar, Brasil', 'count': 18},\n",
       " {'_id': 'brasil salvador bahia', 'count': 18},\n",
       " {'_id': 'Sapucaia do Sul, Brasil', 'count': 18},\n",
       " {'_id': 'Gramado, Brasil', 'count': 18},\n",
       " {'_id': 'inferno ', 'count': 18},\n",
       " {'_id': 'Torres Vedras, Portugal', 'count': 18},\n",
       " {'_id': 'oto patamar', 'count': 18},\n",
       " {'_id': 'Belo Horizonte-MG', 'count': 18},\n",
       " {'_id': 'Goiânia - Goiás', 'count': 18},\n",
       " {'_id': 'Jacaraípe, Serra', 'count': 18},\n",
       " {'_id': 'Arujá, Brasil', 'count': 18},\n",
       " {'_id': 'Massachusetts, USA', 'count': 18},\n",
       " {'_id': 'Recife PE', 'count': 18},\n",
       " {'_id': 'Engenho Novo, Rio de Janeiro', 'count': 18},\n",
       " {'_id': 'Gotham', 'count': 18},\n",
       " {'_id': 'Odivelas, Portugal', 'count': 18},\n",
       " {'_id': 'Mogi Mirim, Brasil', 'count': 18},\n",
       " {'_id': 'Barretos, Brasil', 'count': 18},\n",
       " {'_id': 'Ceará, Brazil', 'count': 18},\n",
       " {'_id': 'Maceió, Alagoas', 'count': 18},\n",
       " {'_id': 'Cantagalo, Brasil', 'count': 18},\n",
       " {'_id': 'Lagoa Santa, Brasil', 'count': 18},\n",
       " {'_id': 'itajai sc', 'count': 18},\n",
       " {'_id': 'fan acc', 'count': 18},\n",
       " {'_id': 'João Pessoa - PB', 'count': 18},\n",
       " {'_id': 'Santarém, Portugal', 'count': 18},\n",
       " {'_id': 'Florianópolis - SC', 'count': 18},\n",
       " {'_id': 'terra do nunca', 'count': 18},\n",
       " {'_id': 'Pouso Alegre, Brasil', 'count': 18},\n",
       " {'_id': 'Pirassununga, Brasil', 'count': 18},\n",
       " {'_id': 'Manaus - AM', 'count': 18},\n",
       " {'_id': 'Catanduva, Brasil', 'count': 17},\n",
       " {'_id': 'Londrina', 'count': 17},\n",
       " {'_id': 'Cuiabá', 'count': 17},\n",
       " {'_id': 'Luís Eduardo Magalhães, Brasil', 'count': 17},\n",
       " {'_id': 'trench', 'count': 17},\n",
       " {'_id': 'Acari, Rio de Janeiro', 'count': 17},\n",
       " {'_id': '134340', 'count': 17},\n",
       " {'_id': 'Castanhal - Pará - Brazil', 'count': 17},\n",
       " {'_id': 'idk', 'count': 17},\n",
       " {'_id': 'Grajaú, Rio de Janeiro', 'count': 17},\n",
       " {'_id': 'onde o Grêmio estiver', 'count': 17},\n",
       " {'_id': 'No fundo do poço ', 'count': 17},\n",
       " {'_id': 'Poços de Caldas, Brasil', 'count': 17},\n",
       " {'_id': 'Jardim América, Rio de Janeiro', 'count': 17},\n",
       " {'_id': 'Nem aí', 'count': 17},\n",
       " {'_id': 'seu coração ', 'count': 17},\n",
       " {'_id': 'Santiago de Compostela, España', 'count': 17},\n",
       " {'_id': 'Guarulhos/SP ', 'count': 17},\n",
       " {'_id': 'São Gabriel, Brasil', 'count': 17},\n",
       " {'_id': 'Salvador/Bahia/Brasil', 'count': 17},\n",
       " {'_id': 'Magic shop', 'count': 17},\n",
       " {'_id': 'Fortaleza/CE', 'count': 17},\n",
       " {'_id': 'Uruguai', 'count': 17},\n",
       " {'_id': 'Antofagasta, Chile', 'count': 17},\n",
       " {'_id': 'Brasil - São Paulo', 'count': 17},\n",
       " {'_id': 'Vitória, Espírito Santo', 'count': 17},\n",
       " {'_id': 'Fundo do poço ', 'count': 17},\n",
       " {'_id': 'district 9', 'count': 17},\n",
       " {'_id': 'JDF/ RIO/ BSB', 'count': 17},\n",
       " {'_id': 'rj zn', 'count': 17},\n",
       " {'_id': 'Belo Horizonte/MG', 'count': 17},\n",
       " {'_id': 'Lavras, Brasil', 'count': 17},\n",
       " {'_id': 'Brasília - Brasil', 'count': 17},\n",
       " {'_id': 'larryisreal', 'count': 17},\n",
       " {'_id': 'Crato, Brasil', 'count': 17},\n",
       " {'_id': 'por aí', 'count': 17},\n",
       " {'_id': 'uai', 'count': 17},\n",
       " {'_id': 'Itabira, Brasil', 'count': 17},\n",
       " {'_id': 'Konoha ', 'count': 17},\n",
       " {'_id': 'Nova Lima, Brasil', 'count': 17},\n",
       " {'_id': 'Maia, Portugal', 'count': 17},\n",
       " {'_id': 'Jaboatão dos Guararapes, Brasi', 'count': 17},\n",
       " {'_id': 'Tokyo-to, Japan', 'count': 17},\n",
       " {'_id': 'Curicica, Rio de Janeiro', 'count': 17},\n",
       " {'_id': 'Santo André, São Paulo', 'count': 17},\n",
       " {'_id': 'Santos, São Paulo', 'count': 17},\n",
       " {'_id': 'intersectionality. cis. lesb.', 'count': 17},\n",
       " {'_id': 'rj/vr', 'count': 17},\n",
       " {'_id': 'Volta Redonda', 'count': 17},\n",
       " {'_id': 'Fortaleza-Ce', 'count': 17},\n",
       " {'_id': 'narnia', 'count': 17},\n",
       " {'_id': 'Ribeirão Preto - São Paulo', 'count': 17},\n",
       " {'_id': 'São João del Rei, Brasil', 'count': 17},\n",
       " {'_id': 'Indaial, Brasil', 'count': 17},\n",
       " {'_id': 'Manaus, AM', 'count': 17},\n",
       " {'_id': 'Lisbon', 'count': 17},\n",
       " {'_id': 'Curitiba-PR', 'count': 17},\n",
       " {'_id': 'Vitória', 'count': 17},\n",
       " {'_id': 'Porto Alegre/RS - Brasil', 'count': 17},\n",
       " {'_id': 'Macapá', 'count': 17},\n",
       " ...]"
      ]
     },
     "execution_count": 19,
     "metadata": {},
     "output_type": "execute_result"
    }
   ],
   "source": [
    "user_location"
   ]
  },
  {
   "cell_type": "markdown",
   "metadata": {},
   "source": [
    "### Códigos bcp47 (usado no atributo __lang__)"
   ]
  },
  {
   "cell_type": "code",
   "execution_count": null,
   "metadata": {
    "ExecuteTime": {
     "end_time": "2020-06-11T20:15:47.104900Z",
     "start_time": "2020-06-11T20:15:46.993354Z"
    }
   },
   "outputs": [],
   "source": [
    "# iso639.languages.get(alpha2 = 'en').name\n",
    "bcp_lang = pd.read_csv('bcp47.csv')\n",
    "bcp_lang.head(15)"
   ]
  },
  {
   "cell_type": "markdown",
   "metadata": {},
   "source": [
    "### Idiomas mais presentes na base"
   ]
  },
  {
   "cell_type": "code",
   "execution_count": null,
   "metadata": {},
   "outputs": [],
   "source": [
    "pipeline = [\n",
    "    {\n",
    "        '$group': {\n",
    "            '_id': '$lang',\n",
    "            'count': {\n",
    "                '$sum': 1\n",
    "            }\n",
    "        }\n",
    "    }, {\n",
    "        '$sort': {\n",
    "            'count': -1\n",
    "        }\n",
    "    }\n",
    "]"
   ]
  },
  {
   "cell_type": "code",
   "execution_count": null,
   "metadata": {},
   "outputs": [],
   "source": [
    "time_start = time.time()\n",
    "languages = list(collection.aggregate(pipeline, allowDiskUse=True))\n",
    "time_end = time.time()\n",
    "\n",
    "print(\n",
    "    f'Tempo de execução: {time.strftime(\"%H:%M:%S\", time.gmtime(time_end - time_start))}')"
   ]
  },
  {
   "cell_type": "code",
   "execution_count": null,
   "metadata": {},
   "outputs": [],
   "source": [
    "languages_df = pd.DataFrame(languages)\n",
    "languages_df.rename(columns={\"_id\": \"language\"}, inplace=True)\n",
    "languages_df.head(15)"
   ]
  },
  {
   "cell_type": "code",
   "execution_count": null,
   "metadata": {},
   "outputs": [],
   "source": [
    "def get_language(lang):\n",
    "    language = bcp_lang[bcp_lang['lang'] == lang]['language'].tolist()[0]\n",
    "    # language = iso639.languages.get(alpha2 = lang).name\n",
    "    return (language)"
   ]
  },
  {
   "cell_type": "code",
   "execution_count": null,
   "metadata": {},
   "outputs": [],
   "source": [
    "get_language(lang='eu')"
   ]
  },
  {
   "cell_type": "code",
   "execution_count": null,
   "metadata": {},
   "outputs": [],
   "source": [
    "languages_df['language'] = languages_df['language'].apply(get_language)"
   ]
  },
  {
   "cell_type": "code",
   "execution_count": null,
   "metadata": {},
   "outputs": [],
   "source": [
    "languages_df.head(15)"
   ]
  },
  {
   "cell_type": "code",
   "execution_count": null,
   "metadata": {},
   "outputs": [],
   "source": [
    "palavras = ','.join(list(languages_df['language'].values))"
   ]
  },
  {
   "cell_type": "code",
   "execution_count": null,
   "metadata": {},
   "outputs": [],
   "source": [
    "# Generate a word cloud image\n",
    "wordcloud = WordCloud().generate(palavras)"
   ]
  },
  {
   "cell_type": "code",
   "execution_count": null,
   "metadata": {},
   "outputs": [],
   "source": [
    "# Display the generated image: the matplotlib way:\n",
    "plt.figure(figsize=(15, 15))\n",
    "plt.axis(\"off\")\n",
    "plt.imshow(wordcloud, interpolation='bilinear')\n",
    "plt.show()"
   ]
  },
  {
   "cell_type": "markdown",
   "metadata": {},
   "source": [
    "# Hashtags mais usadas"
   ]
  },
  {
   "cell_type": "code",
   "execution_count": null,
   "metadata": {},
   "outputs": [],
   "source": [
    "pipeline1 = [\n",
    "    {\n",
    "        '$project': {\n",
    "            '_id': 0,\n",
    "            'id': 1,\n",
    "            'retweeted_status': {\n",
    "                '$ifNull': [\n",
    "                    '$entities.hashtags.text', '$retweeted_status.extended_tweet.entities.hashtags.text'\n",
    "                ]\n",
    "            },\n",
    "            'lang': 1\n",
    "        }\n",
    "    }, {\n",
    "        '$project': {\n",
    "            'lang': 1,\n",
    "            'hashtags': '$retweeted_status'\n",
    "        }\n",
    "    }, {\n",
    "        '$unwind': {\n",
    "            'path': '$hashtags'\n",
    "        }\n",
    "    }, {\n",
    "        '$group': {\n",
    "            '_id': '$hashtags',\n",
    "            'count': {\n",
    "                '$sum': 1\n",
    "            }\n",
    "        }\n",
    "    }, {\n",
    "        '$sort': {\n",
    "            'count': -1\n",
    "        }\n",
    "    }\n",
    "]"
   ]
  },
  {
   "cell_type": "code",
   "execution_count": null,
   "metadata": {},
   "outputs": [],
   "source": [
    "time_start = time.time()\n",
    "document1 = list(collection.aggregate(pipeline=pipeline1))\n",
    "time_end = time.time()\n",
    "\n",
    "print(\n",
    "    f'Tempo de execução: {time.strftime(\"%H:%M:%S\", time.gmtime(time_end - time_start))}')"
   ]
  },
  {
   "cell_type": "code",
   "execution_count": null,
   "metadata": {},
   "outputs": [],
   "source": [
    "df1 = pd.DataFrame(document1)\n",
    "df1.rename(columns={\"_id\": \"hashtag\"}, inplace=True)\n",
    "df1.head(15)"
   ]
  },
  {
   "cell_type": "code",
   "execution_count": null,
   "metadata": {},
   "outputs": [],
   "source": [
    "palavras = ','.join(list(df1['hashtag'].values))\n",
    "\n",
    "# Generate a word cloud image\n",
    "wordcloud = WordCloud(\n",
    "    max_font_size=40, font_path='/usr/share/fonts/truetype/freefont/FreeSerif.ttf').generate(palavras)\n",
    "\n",
    "# Display the generated image: the matplotlib way:\n",
    "plt.figure(figsize=(15, 15))\n",
    "plt.axis(\"off\")\n",
    "plt.imshow(wordcloud, interpolation='bilinear')\n",
    "plt.show()"
   ]
  },
  {
   "cell_type": "markdown",
   "metadata": {},
   "source": [
    "# Função para obter hashtags mais usadas por idioma"
   ]
  },
  {
   "cell_type": "code",
   "execution_count": null,
   "metadata": {},
   "outputs": [],
   "source": [
    "def get_hashtag_by_lang(lang):\n",
    "    pipeline = [\n",
    "        {\n",
    "            '$match': {\n",
    "                'lang': lang\n",
    "            }\n",
    "        }, {\n",
    "            '$project': {\n",
    "                '_id': 0,\n",
    "                'id': 1,\n",
    "                'retweeted_status': {\n",
    "                    '$ifNull': [\n",
    "                        '$entities.hashtags.text', '$retweeted_status.extended_tweet.entities.hashtags.text'\n",
    "                    ]\n",
    "                },\n",
    "                'lang': 1\n",
    "            }\n",
    "        }, {\n",
    "            '$project': {\n",
    "                'lang': 1,\n",
    "                'hashtags': '$retweeted_status'\n",
    "            }\n",
    "        }, {\n",
    "            '$unwind': {\n",
    "                'path': '$hashtags'\n",
    "            }\n",
    "        }, {\n",
    "            '$group': {\n",
    "                '_id': '$hashtags',\n",
    "                'count': {\n",
    "                    '$sum': 1\n",
    "                }\n",
    "            }\n",
    "        }, {\n",
    "            '$sort': {\n",
    "                'count': -1\n",
    "            }\n",
    "        }\n",
    "    ]\n",
    "\n",
    "    time_start = time.time()\n",
    "    document = list(collection.aggregate(pipeline=pipeline))\n",
    "    time_end = time.time()\n",
    "    print(\n",
    "        f'Tempo de execução: {time.strftime(\"%H:%M:%S\", time.gmtime(time_end - time_start))}')\n",
    "    return(document)"
   ]
  },
  {
   "cell_type": "markdown",
   "metadata": {},
   "source": [
    "# Hashtags mais usadas - tweets em português"
   ]
  },
  {
   "cell_type": "code",
   "execution_count": null,
   "metadata": {},
   "outputs": [],
   "source": [
    "hashtags_pt = get_hashtag_by_lang(lang='pt')"
   ]
  },
  {
   "cell_type": "code",
   "execution_count": null,
   "metadata": {},
   "outputs": [],
   "source": [
    "df_pt = pd.DataFrame(hashtags_pt)\n",
    "df_pt.rename(columns={\"_id\": \"hashtag\"}, inplace=True)\n",
    "df_pt.head(15)"
   ]
  },
  {
   "cell_type": "code",
   "execution_count": null,
   "metadata": {},
   "outputs": [],
   "source": [
    "palavras = ','.join(list(df_pt['hashtag'].values))\n",
    "\n",
    "# Generate a word cloud image\n",
    "wordcloud = WordCloud(\n",
    "    max_font_size=40, font_path='/usr/share/fonts/truetype/freefont/FreeSerif.ttf').generate(palavras)\n",
    "\n",
    "# Display the generated image: the matplotlib way:\n",
    "plt.figure(figsize=(15, 15))\n",
    "plt.axis(\"off\")\n",
    "plt.imshow(wordcloud, interpolation='bilinear')\n",
    "plt.show()"
   ]
  },
  {
   "cell_type": "markdown",
   "metadata": {},
   "source": [
    "# Hashtags mais usadas - tweets em espanhol"
   ]
  },
  {
   "cell_type": "code",
   "execution_count": null,
   "metadata": {},
   "outputs": [],
   "source": [
    "hashtags_es = get_hashtag_by_lang(lang='es')"
   ]
  },
  {
   "cell_type": "code",
   "execution_count": null,
   "metadata": {},
   "outputs": [],
   "source": [
    "df_es = pd.DataFrame(hashtags_es)\n",
    "df_es.rename(columns={\"_id\": \"hashtag\"}, inplace=True)\n",
    "df_es.head(15)"
   ]
  },
  {
   "cell_type": "code",
   "execution_count": null,
   "metadata": {},
   "outputs": [],
   "source": [
    "palavras_es = ','.join(list(df_es['hashtag'].values))\n",
    "\n",
    "# Generate a word cloud image\n",
    "wordcloud = WordCloud(\n",
    "    max_font_size=40, font_path='/usr/share/fonts/truetype/freefont/FreeSerif.ttf').generate(palavras_es)\n",
    "\n",
    "# Display the generated image: the matplotlib way:\n",
    "plt.figure(figsize=(15, 15))\n",
    "plt.axis(\"off\")\n",
    "plt.imshow(wordcloud, interpolation='bilinear')\n",
    "plt.show()"
   ]
  },
  {
   "cell_type": "markdown",
   "metadata": {},
   "source": [
    "# Hashtags mais usadas - tweets em inglês"
   ]
  },
  {
   "cell_type": "code",
   "execution_count": null,
   "metadata": {},
   "outputs": [],
   "source": [
    "hashtags_en = get_hashtag_by_lang(lang='en')"
   ]
  },
  {
   "cell_type": "code",
   "execution_count": null,
   "metadata": {},
   "outputs": [],
   "source": [
    "df_en = pd.DataFrame(hashtags_en)\n",
    "df_en.rename(columns={\"_id\": \"hashtag\"}, inplace=True)\n",
    "df_en.head(15)"
   ]
  },
  {
   "cell_type": "code",
   "execution_count": null,
   "metadata": {},
   "outputs": [],
   "source": [
    "palavras_en = ','.join(list(df_en['hashtag'].values))\n",
    "\n",
    "# Generate a word cloud image\n",
    "wordcloud = WordCloud(\n",
    "    max_font_size=40, font_path='/usr/share/fonts/truetype/freefont/FreeSerif.ttf').generate(palavras_en)\n",
    "\n",
    "# Display the generated image: the matplotlib way:\n",
    "plt.figure(figsize=(15, 15))\n",
    "plt.axis(\"off\")\n",
    "plt.imshow(wordcloud, interpolation='bilinear')\n",
    "plt.show()"
   ]
  }
 ],
 "metadata": {
  "@webio": {
   "lastCommId": null,
   "lastKernelId": null
  },
  "kernelspec": {
   "display_name": "Python 3",
   "language": "python",
   "name": "python3"
  },
  "language_info": {
   "codemirror_mode": {
    "name": "ipython",
    "version": 3
   },
   "file_extension": ".py",
   "mimetype": "text/x-python",
   "name": "python",
   "nbconvert_exporter": "python",
   "pygments_lexer": "ipython3",
   "version": "3.7.7"
  },
  "toc": {
   "base_numbering": 1,
   "nav_menu": {},
   "number_sections": false,
   "sideBar": true,
   "skip_h1_title": false,
   "title_cell": "Table of Contents",
   "title_sidebar": "Contents",
   "toc_cell": false,
   "toc_position": {},
   "toc_section_display": true,
   "toc_window_display": false
  }
 },
 "nbformat": 4,
 "nbformat_minor": 4
}
