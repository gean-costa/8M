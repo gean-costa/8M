{
 "cells": [
  {
   "cell_type": "code",
   "execution_count": null,
   "metadata": {},
   "outputs": [],
   "source": [
    "import tweepy\n",
    "import json\n",
    "from pymongo import MongoClient\n",
    "from bson.objectid import ObjectId\n",
    "from bson.json_util import dumps\n",
    "import time"
   ]
  },
  {
   "cell_type": "code",
   "execution_count": null,
   "metadata": {},
   "outputs": [],
   "source": [
    "CONSUMER_KEY = ''\n",
    "CONSUMER_SECRET = ''\n",
    "ACCESS_TOKEN = ''\n",
    "ACCESS_TOKEN_SECRET = ''"
   ]
  },
  {
   "cell_type": "code",
   "execution_count": null,
   "metadata": {},
   "outputs": [],
   "source": [
    "auth = tweepy.OAuthHandler(CONSUMER_KEY, CONSUMER_SECRET)\n",
    "auth.set_access_token(ACCESS_TOKEN, ACCESS_TOKEN_SECRET)\n",
    "api = tweepy.API(auth, wait_on_rate_limit=True, wait_on_rate_limit_notify=True)"
   ]
  },
  {
   "cell_type": "code",
   "execution_count": null,
   "metadata": {},
   "outputs": [],
   "source": [
    "MONGO_HOST = 'mongodb://localhost:27017/'\n",
    "\n",
    "client = MongoClient(MONGO_HOST)\n",
    "\n",
    "db = client['8M2020_sample']\n",
    "\n",
    "collection = db.tweets_sample\n",
    "\n",
    "collection2 = db.tweets_sample_updated"
   ]
  },
  {
   "cell_type": "code",
   "execution_count": null,
   "metadata": {},
   "outputs": [],
   "source": [
    "num_docs = collection.count_documents({})\n",
    "num_docs"
   ]
  },
  {
   "cell_type": "code",
   "execution_count": null,
   "metadata": {},
   "outputs": [],
   "source": [
    "num_limit = 1000\n",
    "num_skip = 0"
   ]
  },
  {
   "cell_type": "code",
   "execution_count": null,
   "metadata": {},
   "outputs": [],
   "source": [
    "print('Atualização de tweets iniciada')\n",
    "print(time.asctime(time.localtime(time.time())))"
   ]
  },
  {
   "cell_type": "code",
   "execution_count": null,
   "metadata": {},
   "outputs": [],
   "source": [
    "print('\\nExtraindo 5000 tweets para atualização\\n')\n",
    "docs = list(collection.find({}, {'id': True}).limit(num_limit).skip(num_skip))"
   ]
  },
  {
   "cell_type": "code",
   "execution_count": null,
   "metadata": {},
   "outputs": [],
   "source": [
    "tweets_ids = [doc['id'] for doc in docs]\n",
    "# tweets_ids\n",
    "# len(tweets_ids)"
   ]
  },
  {
   "cell_type": "code",
   "execution_count": null,
   "metadata": {},
   "outputs": [],
   "source": [
    "start = 0\n",
    "end = 100"
   ]
  },
  {
   "cell_type": "code",
   "execution_count": null,
   "metadata": {},
   "outputs": [],
   "source": [
    "while end <= len(tweets_ids):\n",
    "    updated_tweets = []\n",
    "    tweets = []\n",
    "\n",
    "    updated_tweets = api.statuses_lookup(\n",
    "        tweets_ids[start:end], tweet_mode='extended')\n",
    "    # tweets_ids_updated = [ut._json['id'] for ut in updated_tweets]\n",
    "    # len(tweets_ids_updated)\n",
    "    # set(tweets_ids) - set(tweets_ids_updated)\n",
    "    tweets = [ut._json for ut in updated_tweets]\n",
    "    collection2.insert_many(tweets)\n",
    "\n",
    "    num_skip = num_skip + 100\n",
    "\n",
    "    print(f'{len(tweets_ids[start:end])} tweets enviados | {len(tweets)} atualizados | Total enviado: {num_skip}/{num_docs} | {(num_skip*100)/num_docs:.2f}%')\n",
    "\n",
    "    start = start + 100\n",
    "    end = end + 100"
   ]
  },
  {
   "cell_type": "code",
   "execution_count": null,
   "metadata": {},
   "outputs": [],
   "source": [
    "while num_skip < num_docs:\n",
    "    docs = []\n",
    "    tweets_ids = []\n",
    "\n",
    "    print('\\nExtraindo 5000 tweets para atualização\\n')\n",
    "    docs = list(collection.find({}, {'id': True}\n",
    "                                ).limit(num_limit).skip(num_skip))\n",
    "    tweets_ids = [doc['id'] for doc in docs]\n",
    "\n",
    "    start = 0\n",
    "    end = 100\n",
    "\n",
    "    while end <= len(tweets_ids):\n",
    "        updated_tweets = []\n",
    "        tweets = []\n",
    "\n",
    "        updated_tweets = api.statuses_lookup(\n",
    "            tweets_ids[start:end], tweet_mode='extended')\n",
    "        tweets = [ut._json for ut in updated_tweets]\n",
    "        collection2.insert_many(tweets)\n",
    "\n",
    "        num_skip = num_skip + 100\n",
    "\n",
    "        print(\n",
    "            f'{len(tweets_ids[start:end])} tweets enviados | {len(tweets)} atualizados | Total enviado: {num_skip} | {(num_skip*100)/num_docs:.2f}%')\n",
    "\n",
    "        start = start + 100\n",
    "        end = end + 100\n",
    "\n",
    "print('Atualização de tweets finalizada')\n",
    "print(time.asctime(time.localtime(time.time())))"
   ]
  },
  {
   "cell_type": "code",
   "execution_count": null,
   "metadata": {},
   "outputs": [],
   "source": [
    "print('Diferença entre a base original e a atualizada: ')\n",
    "print(collection.count_documents({}) - collection2.count_documents({}))"
   ]
  }
 ],
 "metadata": {
  "@webio": {
   "lastCommId": null,
   "lastKernelId": null
  },
  "kernelspec": {
   "display_name": "Python 3",
   "language": "python",
   "name": "python3"
  },
  "language_info": {
   "codemirror_mode": {
    "name": "ipython",
    "version": 3
   },
   "file_extension": ".py",
   "mimetype": "text/x-python",
   "name": "python",
   "nbconvert_exporter": "python",
   "pygments_lexer": "ipython3",
   "version": "3.7.7"
  },
  "toc": {
   "base_numbering": 1,
   "nav_menu": {},
   "number_sections": true,
   "sideBar": true,
   "skip_h1_title": false,
   "title_cell": "Table of Contents",
   "title_sidebar": "Contents",
   "toc_cell": false,
   "toc_position": {},
   "toc_section_display": true,
   "toc_window_display": false
  }
 },
 "nbformat": 4,
 "nbformat_minor": 2
}
