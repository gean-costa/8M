{
 "cells": [
  {
   "cell_type": "code",
   "execution_count": null,
   "metadata": {
    "ExecuteTime": {
     "end_time": "2021-01-15T01:03:41.372685Z",
     "start_time": "2021-01-15T01:03:41.075450Z"
    }
   },
   "outputs": [],
   "source": [
    "import tweepy\n",
    "\n",
    "try:\n",
    "    import json\n",
    "except ImportError:\n",
    "    import simplejson as json\n",
    "\n",
    "import pymongo"
   ]
  },
  {
   "cell_type": "code",
   "execution_count": null,
   "metadata": {
    "ExecuteTime": {
     "end_time": "2021-01-15T01:03:42.564186Z",
     "start_time": "2021-01-15T01:03:42.560865Z"
    }
   },
   "outputs": [],
   "source": [
    "access_token = \"\"\n",
    "access_token_secret = \"\"\n",
    "consumer_key = \"\"\n",
    "consumer_secret = \"\"\n",
    "\n",
    "auth = tweepy.OAuthHandler(consumer_key, consumer_secret)\n",
    "auth.set_access_token(access_token, access_token_secret)\n",
    "\n",
    "api = tweepy.API(auth)"
   ]
  },
  {
   "cell_type": "code",
   "execution_count": null,
   "metadata": {
    "ExecuteTime": {
     "end_time": "2021-01-15T01:03:45.231623Z",
     "start_time": "2021-01-15T01:03:44.217285Z"
    }
   },
   "outputs": [],
   "source": [
    "tweets = api.search(q=['coronavirus'], count=100, tweet_mode=\"extended\")\n",
    "'''\n",
    "for tweet in tweets:\n",
    "    print(json.dumps(tweet._json, sort_keys=True, indent=3, ensure_ascii=False))\n",
    "'''\n",
    "print(json.dumps(tweets[0]._json, indent=3, ensure_ascii=False))"
   ]
  },
  {
   "cell_type": "code",
   "execution_count": null,
   "metadata": {},
   "outputs": [],
   "source": [
    "tweets_data = [tweet._json for tweet in tweets]"
   ]
  },
  {
   "cell_type": "markdown",
   "metadata": {},
   "source": [
    "# Iniciando a conexão com o MongoDB"
   ]
  },
  {
   "cell_type": "code",
   "execution_count": null,
   "metadata": {},
   "outputs": [],
   "source": [
    "client = pymongo.MongoClient(\"mongodb://localhost:27017/\")\n",
    "db = client['coronaVirus']\n",
    "collection = db.tweets"
   ]
  },
  {
   "cell_type": "code",
   "execution_count": null,
   "metadata": {},
   "outputs": [],
   "source": [
    "collection.insert_many(tweets_data)"
   ]
  },
  {
   "cell_type": "code",
   "execution_count": null,
   "metadata": {},
   "outputs": [],
   "source": []
  },
  {
   "cell_type": "code",
   "execution_count": null,
   "metadata": {},
   "outputs": [],
   "source": [
    "number_of_tweets = tweets.count"
   ]
  },
  {
   "cell_type": "code",
   "execution_count": null,
   "metadata": {},
   "outputs": [],
   "source": [
    "tweets_collection = tweets.copy()"
   ]
  },
  {
   "cell_type": "code",
   "execution_count": null,
   "metadata": {},
   "outputs": [],
   "source": [
    "print(\n",
    "    f\"https://twitter.com/{tweets[0]._json['user']['screen_name']}/status/{tweets[0]._json['id']}\")"
   ]
  },
  {
   "cell_type": "code",
   "execution_count": null,
   "metadata": {},
   "outputs": [],
   "source": [
    "tweets[0]._json['full_text']"
   ]
  },
  {
   "cell_type": "code",
   "execution_count": null,
   "metadata": {},
   "outputs": [],
   "source": [
    "while(len(tweets) != 0):\n",
    "    try:\n",
    "        tweets = api.search(q=['coronavirus'],\n",
    "                            count=100,\n",
    "                            tweet_mode=\"extended\",\n",
    "                            max_id=tweets[len(tweets)-1]._json['id']-1)\n",
    "\n",
    "        tweets_data = [tweet._json for tweet in tweets]\n",
    "        collection.insert_many(tweets_data)\n",
    "\n",
    "        tweets_collection = tweets_collection + tweets\n",
    "        number_of_tweets = number_of_tweets + tweets.count\n",
    "        print(\"EXTRAINDO \" + str(number_of_tweets) + \" tweets\")\n",
    "\n",
    "    except tweepy.RateLimitError:\n",
    "        print(\"\\nEXTRACAO CONCLUIDA\\n\")\n",
    "        break"
   ]
  },
  {
   "cell_type": "code",
   "execution_count": null,
   "metadata": {},
   "outputs": [],
   "source": [
    "tweets_collection[-1]._json['full_text']"
   ]
  }
 ],
 "metadata": {
  "kernelspec": {
   "display_name": "Python 3",
   "language": "python",
   "name": "python3"
  },
  "language_info": {
   "codemirror_mode": {
    "name": "ipython",
    "version": 3
   },
   "file_extension": ".py",
   "mimetype": "text/x-python",
   "name": "python",
   "nbconvert_exporter": "python",
   "pygments_lexer": "ipython3",
   "version": "3.7.7"
  },
  "toc": {
   "base_numbering": 1,
   "nav_menu": {},
   "number_sections": true,
   "sideBar": true,
   "skip_h1_title": false,
   "title_cell": "Table of Contents",
   "title_sidebar": "Contents",
   "toc_cell": false,
   "toc_position": {},
   "toc_section_display": true,
   "toc_window_display": false
  }
 },
 "nbformat": 4,
 "nbformat_minor": 2
}
