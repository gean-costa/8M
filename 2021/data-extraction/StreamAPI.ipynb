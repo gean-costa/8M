{
 "cells": [
  {
   "cell_type": "code",
   "execution_count": null,
   "metadata": {
    "ExecuteTime": {
     "end_time": "2021-03-04T02:45:57.237208Z",
     "start_time": "2021-03-04T02:45:56.839377Z"
    }
   },
   "outputs": [],
   "source": [
    "from __future__ import print_function\n",
    "import tweepy\n",
    "import json\n",
    "from pymongo import MongoClient\n",
    "from bson.objectid import ObjectId\n",
    "import pprint"
   ]
  },
  {
   "cell_type": "code",
   "execution_count": null,
   "metadata": {
    "ExecuteTime": {
     "end_time": "2021-03-04T02:45:59.086881Z",
     "start_time": "2021-03-04T02:45:59.084187Z"
    }
   },
   "outputs": [],
   "source": [
    "CONSUMER_KEY = '9ll3e9DHy2TJjKoyi0ML3FLkV'\n",
    "CONSUMER_SECRET = 'skaKNfFxEnfC4sQPMI4dHKtDaTrTdvJ2jVMqKoZBS8z1B3Nxs6'\n",
    "ACCESS_TOKEN = '80123742-xYyozhxQfyr9bDhf7LODPywKjYhWKOqnrElgjWZug'\n",
    "ACCESS_TOKEN_SECRET = 'WQ0gsgWuFIFKsDh4h45Cf9TKCo8hyPQTpvRS8LT0SWfFW'\n",
    "\n",
    "# FPP_KEY = ''\n",
    "# FPP_SECRET = ''\n",
    "\n",
    "MONGO_HOST = 'mongodb://localhost:27017/'"
   ]
  },
  {
   "cell_type": "code",
   "execution_count": null,
   "metadata": {
    "ExecuteTime": {
     "end_time": "2021-03-04T02:46:00.827731Z",
     "start_time": "2021-03-04T02:46:00.822396Z"
    }
   },
   "outputs": [],
   "source": [
    "class StreamListener(tweepy.StreamListener):\n",
    "\n",
    "    def on_connect(self):\n",
    "        # ao conectar\n",
    "        print(\"Conectado a streaming API.\")\n",
    "\n",
    "    def on_error(self, status_code):\n",
    "\n",
    "        print('Erro: ' + repr(status_code))\n",
    "        return False\n",
    "\n",
    "    def on_data(self, data):\n",
    "\n",
    "        try:\n",
    "            # especificando o caminho do servidor\n",
    "            client = MongoClient(MONGO_HOST)\n",
    "\n",
    "            # explicitando o banco\n",
    "            db = client.LiscaDoido\n",
    "\n",
    "           # carregando os dados recebidos e transformando em json\n",
    "            datajson = json.loads(data)\n",
    "\n",
    "            created_at = datajson['created_at']\n",
    "\n",
    "            print(\"Tweet collected at \" + str(created_at))\n",
    "            print(datajson['text'])\n",
    "\n",
    "            # informando qual a collection a inserir o documento\n",
    "            # nesse caso se não houver uma colection com o respectivo nome, ela será criada\n",
    "            # armazenando nna collection 'streamingAPI'\n",
    "            db.tweets.insert_one(datajson)\n",
    "        except Exception as e:\n",
    "            print(e)"
   ]
  },
  {
   "cell_type": "code",
   "execution_count": null,
   "metadata": {
    "ExecuteTime": {
     "end_time": "2021-03-04T02:46:03.229914Z",
     "start_time": "2021-03-04T02:46:03.227257Z"
    }
   },
   "outputs": [],
   "source": [
    "# fazendo a autenticação OAuth\n",
    "auth = tweepy.OAuthHandler(CONSUMER_KEY, CONSUMER_SECRET)\n",
    "auth.set_access_token(ACCESS_TOKEN, ACCESS_TOKEN_SECRET)"
   ]
  },
  {
   "cell_type": "code",
   "execution_count": null,
   "metadata": {
    "ExecuteTime": {
     "end_time": "2021-03-04T02:46:05.485469Z",
     "start_time": "2021-03-04T02:46:05.483070Z"
    }
   },
   "outputs": [],
   "source": [
    "# instanciando a classe que foi criada para gerenciar a conexão\n",
    "listener = StreamListener(api=tweepy.API(wait_on_rate_limit=True))"
   ]
  },
  {
   "cell_type": "code",
   "execution_count": null,
   "metadata": {
    "ExecuteTime": {
     "end_time": "2021-03-04T02:46:07.559338Z",
     "start_time": "2021-03-04T02:46:07.556700Z"
    }
   },
   "outputs": [],
   "source": [
    "# criando stream\n",
    "streamer = tweepy.Stream(auth=auth, listener=listener)"
   ]
  },
  {
   "cell_type": "code",
   "execution_count": null,
   "metadata": {
    "ExecuteTime": {
     "end_time": "2021-03-04T02:46:09.331790Z",
     "start_time": "2021-03-04T02:46:09.329900Z"
    }
   },
   "outputs": [],
   "source": [
    "# print('rastreando por coordenadas')\n",
    "# streamer.filter(locations=[SWlongitude, SWLatitude, NElongitude, NELatitude])\n",
    "# streamer.filter(locations=[-55.041526, -2.729070, -54.455144, -2.361513])"
   ]
  },
  {
   "cell_type": "code",
   "execution_count": null,
   "metadata": {
    "ExecuteTime": {
     "end_time": "2021-03-04T02:46:12.578547Z",
     "start_time": "2021-03-04T02:46:12.575478Z"
    }
   },
   "outputs": [],
   "source": [
    "print('rastreando por palavra chave')\n",
    "# WORDS = ['#bigdata', '#AI', '#datascience', '#machinelearning', '#ml', '#iot']\n",
    "WORDS = ['Lisca']"
   ]
  },
  {
   "cell_type": "code",
   "execution_count": null,
   "metadata": {
    "ExecuteTime": {
     "end_time": "2021-03-04T02:46:36.718020Z",
     "start_time": "2021-03-04T02:46:14.304870Z"
    }
   },
   "outputs": [],
   "source": [
    "# iniciando o stream\n",
    "streamer.filter(track=WORDS)"
   ]
  },
  {
   "cell_type": "code",
   "execution_count": null,
   "metadata": {},
   "outputs": [],
   "source": []
  }
 ],
 "metadata": {
  "@webio": {
   "lastCommId": null,
   "lastKernelId": null
  },
  "kernelspec": {
   "display_name": "Python 3",
   "language": "python",
   "name": "python3"
  },
  "language_info": {
   "codemirror_mode": {
    "name": "ipython",
    "version": 3
   },
   "file_extension": ".py",
   "mimetype": "text/x-python",
   "name": "python",
   "nbconvert_exporter": "python",
   "pygments_lexer": "ipython3",
   "version": "3.7.7"
  },
  "toc": {
   "base_numbering": 1,
   "nav_menu": {},
   "number_sections": true,
   "sideBar": true,
   "skip_h1_title": false,
   "title_cell": "Table of Contents",
   "title_sidebar": "Contents",
   "toc_cell": false,
   "toc_position": {},
   "toc_section_display": true,
   "toc_window_display": false
  }
 },
 "nbformat": 4,
 "nbformat_minor": 2
}
