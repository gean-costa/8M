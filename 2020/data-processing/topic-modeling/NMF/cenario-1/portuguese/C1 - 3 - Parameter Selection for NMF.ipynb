{
 "cells": [
  {
   "cell_type": "markdown",
   "metadata": {},
   "source": [
    "# Parameter Selection for NMF"
   ]
  },
  {
   "cell_type": "markdown",
   "metadata": {},
   "source": [
    "Now we look at the more advanced task of parameter selection for NMF topic modelling - namely, selecting a useful value for the number of topics *k*."
   ]
  },
  {
   "cell_type": "markdown",
   "metadata": {},
   "source": [
    "First, let's load the TF-IDF normalised document-term matrix and list of terms that we stored earlier using *Joblib*:"
   ]
  },
  {
   "cell_type": "code",
   "execution_count": 1,
   "metadata": {
    "ExecuteTime": {
     "end_time": "2021-05-21T23:20:54.769508Z",
     "start_time": "2021-05-21T23:20:53.870186Z"
    }
   },
   "outputs": [
    {
     "name": "stdout",
     "output_type": "stream",
     "text": [
      "Loaded 274297 X 6414 document-term matrix\n"
     ]
    }
   ],
   "source": [
    "import joblib\n",
    "\n",
    "(A, terms, snippets) = joblib.load(\"cenario1-tweets-tfidf.pkl\")\n",
    "\n",
    "print(\"Loaded %d X %d document-term matrix\" % (A.shape[0], A.shape[1]))"
   ]
  },
  {
   "cell_type": "markdown",
   "metadata": {},
   "source": [
    "### Create the Topic Models"
   ]
  },
  {
   "cell_type": "markdown",
   "metadata": {},
   "source": [
    "A common approach for parameter selection is to Measure and compare the topic coherence of models generated for different values of *k*."
   ]
  },
  {
   "cell_type": "markdown",
   "metadata": {},
   "source": [
    "We need to start by pre-specifying an initial range of \"sensible\" values:"
   ]
  },
  {
   "cell_type": "code",
   "execution_count": 2,
   "metadata": {
    "ExecuteTime": {
     "end_time": "2021-05-21T23:20:54.773095Z",
     "start_time": "2021-05-21T23:20:54.770953Z"
    }
   },
   "outputs": [],
   "source": [
    "kmin, kmax = 5, 20"
   ]
  },
  {
   "cell_type": "markdown",
   "metadata": {},
   "source": [
    "Apply NMF for each of these values:"
   ]
  },
  {
   "cell_type": "code",
   "execution_count": 3,
   "metadata": {
    "ExecuteTime": {
     "end_time": "2021-05-21T23:21:40.585382Z",
     "start_time": "2021-05-21T23:20:54.774252Z"
    }
   },
   "outputs": [
    {
     "name": "stdout",
     "output_type": "stream",
     "text": [
      "Applying NMF for k=5 ...\n",
      "Applying NMF for k=10 ...\n",
      "Applying NMF for k=15 ...\n",
      "Applying NMF for k=20 ...\n"
     ]
    }
   ],
   "source": [
    "from sklearn import decomposition\n",
    "\n",
    "topic_models = []\n",
    "\n",
    "# try each value of k\n",
    "for k in range(kmin, kmax + 1, 5):\n",
    "    print(\"Applying NMF for k=%d ...\" % k)\n",
    "    # run NMF\n",
    "    model = decomposition.NMF(init=\"nndsvd\", n_components=k)\n",
    "    W = model.fit_transform(A)\n",
    "    H = model.components_\n",
    "    # store for later\n",
    "    topic_models.append((k, W, H))"
   ]
  },
  {
   "cell_type": "markdown",
   "metadata": {},
   "source": [
    "### Build a Word Embedding"
   ]
  },
  {
   "cell_type": "markdown",
   "metadata": {},
   "source": [
    "To select the number of topics, here we will use a *topic coherence* measure called TC-W2V. This measure relies on the use of a *word embedding* model constructed from our corpus. So in this step we will use the *Gensim* implementation of Word2Vec to build a Word2Vec model based on our collection of news articles."
   ]
  },
  {
   "cell_type": "markdown",
   "metadata": {},
   "source": [
    "**Note:** If you want to skip this step, a pre-built Word2Vec model for the sample dataset [is also provided here for download](http://erdos.ucd.ie/files/pydata/w2v-model.bin) (71MB)."
   ]
  },
  {
   "cell_type": "markdown",
   "metadata": {},
   "source": [
    "We read the documents from the input file again:"
   ]
  },
  {
   "cell_type": "code",
   "execution_count": 4,
   "metadata": {
    "ExecuteTime": {
     "end_time": "2021-05-21T23:21:40.772673Z",
     "start_time": "2021-05-21T23:21:40.586919Z"
    }
   },
   "outputs": [
    {
     "name": "stdout",
     "output_type": "stream",
     "text": [
      "Read 274297 raw text documents\n"
     ]
    }
   ],
   "source": [
    "import os.path\n",
    "\n",
    "raw_documents = []\n",
    "\n",
    "with open(os.path.join(\"../../././../../../data-pre-processing/2csv/cenario1_8M2020_tweets_pt.txt\"), \"r\") as fin:\n",
    "    for line in fin.readlines():\n",
    "        raw_documents.append(line.strip().lower())\n",
    "\n",
    "print(\"Read %d raw text documents\" % len(raw_documents))"
   ]
  },
  {
   "cell_type": "markdown",
   "metadata": {},
   "source": [
    "Read the custom stopword list:"
   ]
  },
  {
   "cell_type": "code",
   "execution_count": 5,
   "metadata": {
    "ExecuteTime": {
     "end_time": "2021-05-21T23:21:40.779685Z",
     "start_time": "2021-05-21T23:21:40.774565Z"
    }
   },
   "outputs": [
    {
     "name": "stdout",
     "output_type": "stream",
     "text": [
      "Stopword list has 231 entries\n"
     ]
    }
   ],
   "source": [
    "custom_stop_words = []\n",
    "\n",
    "with open(\"portuguese.txt\", \"r\") as fin:\n",
    "    for line in fin.readlines():\n",
    "        custom_stop_words.append(line.strip().lower())\n",
    "\n",
    "# note that we need to make it hashable\n",
    "print(\"Stopword list has %d entries\" % len(custom_stop_words))"
   ]
  },
  {
   "cell_type": "markdown",
   "metadata": {},
   "source": [
    "First, we need to define a class that will generate documents in a form that can be consumed by Gensim's Word2Vec implementation:"
   ]
  },
  {
   "cell_type": "code",
   "execution_count": 6,
   "metadata": {
    "ExecuteTime": {
     "end_time": "2021-05-21T23:21:40.788878Z",
     "start_time": "2021-05-21T23:21:40.782788Z"
    }
   },
   "outputs": [],
   "source": [
    "import re\n",
    "\n",
    "\n",
    "class TokenGenerator:\n",
    "    def __init__(self, documents, stopwords):\n",
    "        self.documents = documents\n",
    "        self.stopwords = stopwords\n",
    "        self.tokenizer = re.compile(r\"(?u)\\b\\w\\w+\\b\")\n",
    "\n",
    "    def __iter__(self):\n",
    "        print(\"Building Word2Vec model ...\")\n",
    "        for doc in self.documents:\n",
    "            tokens = []\n",
    "            for tok in self.tokenizer.findall(doc):\n",
    "                if tok in self.stopwords:\n",
    "                    tokens.append(\"<stopword>\")\n",
    "                elif len(tok) >= 2:\n",
    "                    tokens.append(tok)\n",
    "            yield tokens"
   ]
  },
  {
   "cell_type": "markdown",
   "metadata": {},
   "source": [
    "Now build a Skipgram Word2Vec model from all documents in the input file using *Gensim*:"
   ]
  },
  {
   "cell_type": "code",
   "execution_count": 7,
   "metadata": {
    "ExecuteTime": {
     "end_time": "2021-05-21T23:21:41.451844Z",
     "start_time": "2021-05-21T23:21:40.790772Z"
    }
   },
   "outputs": [],
   "source": [
    "import gensim"
   ]
  },
  {
   "cell_type": "code",
   "execution_count": 8,
   "metadata": {
    "ExecuteTime": {
     "end_time": "2021-05-21T23:23:23.952680Z",
     "start_time": "2021-05-21T23:21:41.453311Z"
    }
   },
   "outputs": [
    {
     "name": "stdout",
     "output_type": "stream",
     "text": [
      "Building Word2Vec model ...\n",
      "Building Word2Vec model ...\n",
      "Building Word2Vec model ...\n",
      "Building Word2Vec model ...\n",
      "Building Word2Vec model ...\n",
      "Building Word2Vec model ...\n"
     ]
    }
   ],
   "source": [
    "docgen = TokenGenerator(raw_documents, custom_stop_words)\n",
    "\n",
    "# the model has 500 dimensions, the minimum document-term frequency is 20\n",
    "w2v_model = gensim.models.Word2Vec(docgen, size=500, min_count=20, sg=1)"
   ]
  },
  {
   "cell_type": "code",
   "execution_count": 9,
   "metadata": {
    "ExecuteTime": {
     "end_time": "2021-05-21T23:23:23.958165Z",
     "start_time": "2021-05-21T23:23:23.954320Z"
    }
   },
   "outputs": [
    {
     "name": "stdout",
     "output_type": "stream",
     "text": [
      "Model has 6468 terms\n"
     ]
    }
   ],
   "source": [
    "print( \"Model has %d terms\" % len(w2v_model.wv.vocab) )"
   ]
  },
  {
   "cell_type": "markdown",
   "metadata": {},
   "source": [
    "Save for later use, so that we do not need to rebuild it:"
   ]
  },
  {
   "cell_type": "code",
   "execution_count": 10,
   "metadata": {
    "ExecuteTime": {
     "end_time": "2021-05-21T23:23:24.279541Z",
     "start_time": "2021-05-21T23:23:23.959992Z"
    }
   },
   "outputs": [],
   "source": [
    "w2v_model.save(\"cenario1_w2v-model.bin\")"
   ]
  },
  {
   "cell_type": "code",
   "execution_count": 11,
   "metadata": {
    "ExecuteTime": {
     "end_time": "2021-05-21T23:23:24.282666Z",
     "start_time": "2021-05-21T23:23:24.280941Z"
    }
   },
   "outputs": [],
   "source": [
    "# To re-load this model, run\n",
    "# w2v_model = gensim.models.Word2Vec.load(\"cenario1_w2v-model.bin\")"
   ]
  },
  {
   "cell_type": "markdown",
   "metadata": {},
   "source": [
    "### Selecting the Number of Topics"
   ]
  },
  {
   "cell_type": "markdown",
   "metadata": {},
   "source": [
    "Once we have our Word2vec model, we can use it as part of our *topic coherence* approach to evaluate the different NMF topic models that we created previously. To do this, we will implement a simple version of the TC-W2V coherence measure."
   ]
  },
  {
   "cell_type": "markdown",
   "metadata": {},
   "source": [
    "We use the Word2vec model to calculate coherence scores for each of these models. We will define this coherence score as follows:"
   ]
  },
  {
   "cell_type": "code",
   "execution_count": 12,
   "metadata": {
    "ExecuteTime": {
     "end_time": "2021-05-21T23:23:24.292360Z",
     "start_time": "2021-05-21T23:23:24.283923Z"
    }
   },
   "outputs": [],
   "source": [
    "def calculate_coherence(w2v_model, term_rankings):\n",
    "    overall_coherence = 0.0\n",
    "    \n",
    "    for topic_index in range(len(term_rankings)):\n",
    "        # check each pair of terms\n",
    "        pair_scores = []\n",
    "        for pair in combinations(term_rankings[topic_index], 2):\n",
    "            pair_scores.append(w2v_model.similarity(pair[0], pair[1]))\n",
    "        # get the mean for all pairs in this topic\n",
    "        topic_score = sum(pair_scores) / len(pair_scores)\n",
    "        overall_coherence += topic_score\n",
    "    \n",
    "    # get the mean score across all topics\n",
    "    return overall_coherence / len(term_rankings)"
   ]
  },
  {
   "cell_type": "markdown",
   "metadata": {},
   "source": [
    "We also define a function to get the topic descriptor (i.e. list of top terms) for each topic:"
   ]
  },
  {
   "cell_type": "code",
   "execution_count": 13,
   "metadata": {
    "ExecuteTime": {
     "end_time": "2021-05-21T23:23:24.302102Z",
     "start_time": "2021-05-21T23:23:24.293549Z"
    }
   },
   "outputs": [],
   "source": [
    "import numpy as np\n",
    "\n",
    "\n",
    "def get_descriptor(all_terms, H, topic_index, top):\n",
    "    # reverse sort the values to sort the indices\n",
    "    top_indices = np.argsort(H[topic_index, :])[::-1]\n",
    "    \n",
    "    # now get the terms corresponding to the top-ranked indices\n",
    "    top_terms = []\n",
    "    \n",
    "    for term_index in top_indices[0:top]:\n",
    "        top_terms.append(all_terms[term_index])\n",
    "    \n",
    "    return top_terms"
   ]
  },
  {
   "cell_type": "markdown",
   "metadata": {},
   "source": [
    "Now process each of the models for different values of *k*:"
   ]
  },
  {
   "cell_type": "markdown",
   "metadata": {},
   "source": [
    "# 5"
   ]
  },
  {
   "cell_type": "code",
   "execution_count": 37,
   "metadata": {
    "ExecuteTime": {
     "end_time": "2021-05-21T23:34:18.535636Z",
     "start_time": "2021-05-21T23:34:18.490936Z"
    }
   },
   "outputs": [
    {
     "name": "stdout",
     "output_type": "stream",
     "text": [
      "K=05: Coherence=0.4307\n",
      "K=10: Coherence=0.4005\n",
      "K=15: Coherence=0.4044\n",
      "K=20: Coherence=0.4342\n"
     ]
    },
    {
     "name": "stderr",
     "output_type": "stream",
     "text": [
      "/home/gean/anaconda3/lib/python3.7/site-packages/ipykernel_launcher.py:8: DeprecationWarning: Call to deprecated `similarity` (Method will be removed in 4.0.0, use self.wv.similarity() instead).\n",
      "  \n"
     ]
    }
   ],
   "source": [
    "from itertools import combinations\n",
    "\n",
    "k_values = []\n",
    "coherences = []\n",
    "\n",
    "for (k, W, H) in topic_models:\n",
    "    # Get all of the topic descriptors - the term_rankings, based on top 10 terms\n",
    "    term_rankings = []\n",
    "    \n",
    "    for topic_index in range(k):\n",
    "        term_rankings.append(get_descriptor(terms, H, topic_index, 5))\n",
    "    \n",
    "    # Now calculate the coherence based on our Word2vec model\n",
    "    k_values.append(k)\n",
    "    coherences.append(calculate_coherence(w2v_model, term_rankings))\n",
    "    \n",
    "    print(\"K=%02d: Coherence=%.4f\" % (k, coherences[-1]))\n",
    "    # print(f'{coherences[-1]:.4f}')"
   ]
  },
  {
   "cell_type": "markdown",
   "metadata": {},
   "source": [
    "We can now use *matplotlib* to generate a line plot of these coherence scores, to help us select an appropriate value."
   ]
  },
  {
   "cell_type": "code",
   "execution_count": 38,
   "metadata": {
    "ExecuteTime": {
     "end_time": "2021-05-21T23:34:21.240081Z",
     "start_time": "2021-05-21T23:34:21.234934Z"
    }
   },
   "outputs": [],
   "source": [
    "%matplotlib inline\n",
    "import matplotlib\n",
    "import matplotlib.pyplot as plt\n",
    "\n",
    "plt.style.use(\"ggplot\")\n",
    "matplotlib.rcParams.update({\"font.size\": 14})"
   ]
  },
  {
   "cell_type": "code",
   "execution_count": 39,
   "metadata": {
    "ExecuteTime": {
     "end_time": "2021-05-21T23:34:23.353951Z",
     "start_time": "2021-05-21T23:34:23.168012Z"
    }
   },
   "outputs": [
    {
     "data": {
      "image/png": "[encoded data removed]",
      "text/plain": [
       "<Figure size 936x504 with 1 Axes>"
      ]
     },
     "metadata": {},
     "output_type": "display_data"
    }
   ],
   "source": [
    "fig = plt.figure(figsize=(13,7))\n",
    "\n",
    "# create the line plot\n",
    "ax = plt.plot( k_values, coherences )\n",
    "plt.xticks(k_values)\n",
    "plt.xlabel(\"Number of Topics\")\n",
    "plt.ylabel(\"Mean Coherence\")\n",
    "\n",
    "# add the points\n",
    "plt.scatter( k_values, coherences, s=120)\n",
    "\n",
    "\n",
    "# find and annotate the maximum point on the plot\n",
    "ymax = max(coherences)\n",
    "xpos = coherences.index(ymax)\n",
    "best_k = k_values[xpos]\n",
    "plt.annotate( \"k=%d\" % best_k, xy=(best_k, ymax), xytext=(best_k, ymax), textcoords=\"offset points\", fontsize=16)\n",
    "\n",
    "# show the plot\n",
    "plt.show()"
   ]
  },
  {
   "cell_type": "markdown",
   "metadata": {},
   "source": [
    "# 10"
   ]
  },
  {
   "cell_type": "code",
   "execution_count": 40,
   "metadata": {
    "ExecuteTime": {
     "end_time": "2021-05-21T23:34:44.348192Z",
     "start_time": "2021-05-21T23:34:44.231469Z"
    }
   },
   "outputs": [
    {
     "name": "stdout",
     "output_type": "stream",
     "text": [
      "K=05: Coherence=0.4037\n",
      "K=10: Coherence=0.3845\n",
      "K=15: Coherence=0.3640\n",
      "K=20: Coherence=0.3775\n"
     ]
    },
    {
     "name": "stderr",
     "output_type": "stream",
     "text": [
      "/home/gean/anaconda3/lib/python3.7/site-packages/ipykernel_launcher.py:8: DeprecationWarning: Call to deprecated `similarity` (Method will be removed in 4.0.0, use self.wv.similarity() instead).\n",
      "  \n"
     ]
    }
   ],
   "source": [
    "from itertools import combinations\n",
    "\n",
    "k_values = []\n",
    "coherences = []\n",
    "\n",
    "for (k, W, H) in topic_models:\n",
    "    # Get all of the topic descriptors - the term_rankings, based on top 10 terms\n",
    "    term_rankings = []\n",
    "    \n",
    "    for topic_index in range(k):\n",
    "        term_rankings.append(get_descriptor(terms, H, topic_index, 10))\n",
    "    \n",
    "    # Now calculate the coherence based on our Word2vec model\n",
    "    k_values.append(k)\n",
    "    coherences.append(calculate_coherence(w2v_model, term_rankings))\n",
    "    \n",
    "    print(\"K=%02d: Coherence=%.4f\" % (k, coherences[-1]))\n",
    "    # print(f'{coherences[-1]:.4f}')"
   ]
  },
  {
   "cell_type": "code",
   "execution_count": 41,
   "metadata": {
    "ExecuteTime": {
     "end_time": "2021-05-21T23:34:47.764647Z",
     "start_time": "2021-05-21T23:34:47.513811Z"
    }
   },
   "outputs": [
    {
     "data": {
      "image/png": "[encoded data removed]",
      "text/plain": [
       "<Figure size 936x504 with 1 Axes>"
      ]
     },
     "metadata": {},
     "output_type": "display_data"
    }
   ],
   "source": [
    "fig = plt.figure(figsize=(13,7))\n",
    "\n",
    "# create the line plot\n",
    "ax = plt.plot( k_values, coherences )\n",
    "plt.xticks(k_values)\n",
    "plt.xlabel(\"Number of Topics\")\n",
    "plt.ylabel(\"Mean Coherence\")\n",
    "\n",
    "# add the points\n",
    "plt.scatter( k_values, coherences, s=120)\n",
    "\n",
    "\n",
    "# find and annotate the maximum point on the plot\n",
    "ymax = max(coherences)\n",
    "xpos = coherences.index(ymax)\n",
    "best_k = k_values[xpos]\n",
    "plt.annotate( \"k=%d\" % best_k, xy=(best_k, ymax), xytext=(best_k, ymax), textcoords=\"offset points\", fontsize=16)\n",
    "\n",
    "# show the plot\n",
    "plt.show()"
   ]
  },
  {
   "cell_type": "markdown",
   "metadata": {},
   "source": [
    "# 15 "
   ]
  },
  {
   "cell_type": "code",
   "execution_count": 42,
   "metadata": {
    "ExecuteTime": {
     "end_time": "2021-05-21T23:34:52.469236Z",
     "start_time": "2021-05-21T23:34:52.231504Z"
    }
   },
   "outputs": [
    {
     "name": "stderr",
     "output_type": "stream",
     "text": [
      "/home/gean/anaconda3/lib/python3.7/site-packages/ipykernel_launcher.py:8: DeprecationWarning: Call to deprecated `similarity` (Method will be removed in 4.0.0, use self.wv.similarity() instead).\n",
      "  \n"
     ]
    },
    {
     "name": "stdout",
     "output_type": "stream",
     "text": [
      "K=05: Coherence=0.3531\n",
      "K=10: Coherence=0.3482\n",
      "K=15: Coherence=0.3227\n",
      "K=20: Coherence=0.3205\n"
     ]
    }
   ],
   "source": [
    "from itertools import combinations\n",
    "\n",
    "k_values = []\n",
    "coherences = []\n",
    "\n",
    "for (k, W, H) in topic_models:\n",
    "    # Get all of the topic descriptors - the term_rankings, based on top 10 terms\n",
    "    term_rankings = []\n",
    "    \n",
    "    for topic_index in range(k):\n",
    "        term_rankings.append(get_descriptor(terms, H, topic_index, 15))\n",
    "    \n",
    "    # Now calculate the coherence based on our Word2vec model\n",
    "    k_values.append(k)\n",
    "    coherences.append(calculate_coherence(w2v_model, term_rankings))\n",
    "    \n",
    "    print(\"K=%02d: Coherence=%.4f\" % (k, coherences[-1]))\n",
    "    # print(f'{coherences[-1]:.4f}')"
   ]
  },
  {
   "cell_type": "code",
   "execution_count": 43,
   "metadata": {
    "ExecuteTime": {
     "end_time": "2021-05-21T23:34:57.583282Z",
     "start_time": "2021-05-21T23:34:57.401356Z"
    }
   },
   "outputs": [
    {
     "data": {
      "image/png": "[encoded data removed]",
      "text/plain": [
       "<Figure size 936x504 with 1 Axes>"
      ]
     },
     "metadata": {},
     "output_type": "display_data"
    }
   ],
   "source": [
    "fig = plt.figure(figsize=(13,7))\n",
    "\n",
    "# create the line plot\n",
    "ax = plt.plot( k_values, coherences )\n",
    "plt.xticks(k_values)\n",
    "plt.xlabel(\"Number of Topics\")\n",
    "plt.ylabel(\"Mean Coherence\")\n",
    "\n",
    "# add the points\n",
    "plt.scatter( k_values, coherences, s=120)\n",
    "\n",
    "\n",
    "# find and annotate the maximum point on the plot\n",
    "ymax = max(coherences)\n",
    "xpos = coherences.index(ymax)\n",
    "best_k = k_values[xpos]\n",
    "plt.annotate( \"k=%d\" % best_k, xy=(best_k, ymax), xytext=(best_k, ymax), textcoords=\"offset points\", fontsize=16)\n",
    "\n",
    "# show the plot\n",
    "plt.show()"
   ]
  },
  {
   "cell_type": "markdown",
   "metadata": {},
   "source": [
    "# 20"
   ]
  },
  {
   "cell_type": "code",
   "execution_count": 44,
   "metadata": {
    "ExecuteTime": {
     "end_time": "2021-05-21T23:35:03.194474Z",
     "start_time": "2021-05-21T23:35:02.833962Z"
    }
   },
   "outputs": [
    {
     "name": "stderr",
     "output_type": "stream",
     "text": [
      "/home/gean/anaconda3/lib/python3.7/site-packages/ipykernel_launcher.py:8: DeprecationWarning: Call to deprecated `similarity` (Method will be removed in 4.0.0, use self.wv.similarity() instead).\n",
      "  \n"
     ]
    },
    {
     "name": "stdout",
     "output_type": "stream",
     "text": [
      "K=05: Coherence=0.2930\n",
      "K=10: Coherence=0.3271\n",
      "K=15: Coherence=0.2861\n",
      "K=20: Coherence=0.2864\n"
     ]
    }
   ],
   "source": [
    "from itertools import combinations\n",
    "\n",
    "k_values = []\n",
    "coherences = []\n",
    "\n",
    "for (k, W, H) in topic_models:\n",
    "    # Get all of the topic descriptors - the term_rankings, based on top 10 terms\n",
    "    term_rankings = []\n",
    "    \n",
    "    for topic_index in range(k):\n",
    "        term_rankings.append(get_descriptor(terms, H, topic_index, 20))\n",
    "    \n",
    "    # Now calculate the coherence based on our Word2vec model\n",
    "    k_values.append(k)\n",
    "    coherences.append(calculate_coherence(w2v_model, term_rankings))\n",
    "    \n",
    "    print(\"K=%02d: Coherence=%.4f\" % (k, coherences[-1]))\n",
    "    # print(f'{coherences[-1]:.4f}')"
   ]
  },
  {
   "cell_type": "code",
   "execution_count": 45,
   "metadata": {
    "ExecuteTime": {
     "end_time": "2021-05-21T23:35:07.415679Z",
     "start_time": "2021-05-21T23:35:07.247903Z"
    }
   },
   "outputs": [
    {
     "data": {
      "image/png": "[encoded data removed]",
      "text/plain": [
       "<Figure size 936x504 with 1 Axes>"
      ]
     },
     "metadata": {},
     "output_type": "display_data"
    }
   ],
   "source": [
    "fig = plt.figure(figsize=(13,7))\n",
    "\n",
    "# create the line plot\n",
    "ax = plt.plot( k_values, coherences )\n",
    "plt.xticks(k_values)\n",
    "plt.xlabel(\"Number of Topics\")\n",
    "plt.ylabel(\"Mean Coherence\")\n",
    "\n",
    "# add the points\n",
    "plt.scatter( k_values, coherences, s=120)\n",
    "\n",
    "\n",
    "# find and annotate the maximum point on the plot\n",
    "ymax = max(coherences)\n",
    "xpos = coherences.index(ymax)\n",
    "best_k = k_values[xpos]\n",
    "plt.annotate( \"k=%d\" % best_k, xy=(best_k, ymax), xytext=(best_k, ymax), textcoords=\"offset points\", fontsize=16)\n",
    "\n",
    "# show the plot\n",
    "plt.show()"
   ]
  },
  {
   "cell_type": "markdown",
   "metadata": {},
   "source": [
    "### Examine the Final  Model"
   ]
  },
  {
   "cell_type": "markdown",
   "metadata": {},
   "source": [
    "The plot above suggests that the most appropriate value for the number of topics is *k=8*."
   ]
  },
  {
   "cell_type": "code",
   "execution_count": 17,
   "metadata": {
    "ExecuteTime": {
     "end_time": "2021-05-21T23:23:24.919557Z",
     "start_time": "2021-05-21T23:23:24.916801Z"
    }
   },
   "outputs": [],
   "source": [
    "k = 5 # best_k\n",
    "\n",
    "# get the model that we generated earlier.\n",
    "W = topic_models[0][1]\n",
    "H = topic_models[0][2]"
   ]
  },
  {
   "cell_type": "markdown",
   "metadata": {},
   "source": [
    "Display the topic descriptors for this model:"
   ]
  },
  {
   "cell_type": "code",
   "execution_count": 18,
   "metadata": {
    "ExecuteTime": {
     "end_time": "2021-05-21T23:23:24.931811Z",
     "start_time": "2021-05-21T23:23:24.920868Z"
    },
    "scrolled": true
   },
   "outputs": [
    {
     "name": "stdout",
     "output_type": "stream",
     "text": [
      "Topic 01: marco, mulheres, tecelagem, trabalhavam, trancadas\n",
      "Topic 02: onibus, lembrancinha, enfeita, entram, motorista\n",
      "Topic 03: faltar, pode, internacional, mulher, dia\n",
      "Topic 04: incriveis, mulheres, feliz, esquecam, dia\n",
      "Topic 05: feliz, dia, mulher, iconico, internacional\n"
     ]
    }
   ],
   "source": [
    "for topic_index in range(k):\n",
    "    descriptor = get_descriptor( terms, H, topic_index, 5)\n",
    "    str_descriptor = \", \".join( descriptor )\n",
    "    print(\"Topic %02d: %s\" % ( topic_index+1, str_descriptor ) )"
   ]
  },
  {
   "cell_type": "code",
   "execution_count": 19,
   "metadata": {
    "ExecuteTime": {
     "end_time": "2021-05-21T23:23:24.940956Z",
     "start_time": "2021-05-21T23:23:24.933031Z"
    }
   },
   "outputs": [
    {
     "name": "stdout",
     "output_type": "stream",
     "text": [
      "Topic 01: marco, mulheres, tecelagem, trabalhavam, trancadas, carbonizadas, aproximadamente, estarem, fabrica, morreram\n",
      "Topic 02: onibus, lembrancinha, enfeita, entram, motorista, semana, dar, ano, mulheres, internacional\n",
      "Topic 03: faltar, pode, internacional, mulher, dia, feliz, marco, feministo, depositar, 10k\n",
      "Topic 04: incriveis, mulheres, feliz, esquecam, dia, sonham, brisa, sorte, manas, querem\n",
      "Topic 05: feliz, dia, mulher, iconico, internacional, importancia, relembrar, video, vamos, feminista\n"
     ]
    }
   ],
   "source": [
    "for topic_index in range(k):\n",
    "    descriptor = get_descriptor( terms, H, topic_index, 10)\n",
    "    str_descriptor = \", \".join( descriptor )\n",
    "    print(\"Topic %02d: %s\" % ( topic_index+1, str_descriptor ) )"
   ]
  },
  {
   "cell_type": "code",
   "execution_count": 20,
   "metadata": {
    "ExecuteTime": {
     "end_time": "2021-05-21T23:23:24.950258Z",
     "start_time": "2021-05-21T23:23:24.943672Z"
    }
   },
   "outputs": [
    {
     "name": "stdout",
     "output_type": "stream",
     "text": [
      "Topic 01: marco, mulheres, tecelagem, trabalhavam, trancadas, carbonizadas, aproximadamente, estarem, fabrica, morreram, york, greve, nova, declarou, dia\n",
      "Topic 02: onibus, lembrancinha, enfeita, entram, motorista, semana, dar, ano, mulheres, internacional, mulher, dia, feliz, hoje, parabens\n",
      "Topic 03: faltar, pode, internacional, mulher, dia, feliz, marco, feministo, depositar, 10k, conta, algum, obrigado, homem, hoje\n",
      "Topic 04: incriveis, mulheres, feliz, esquecam, dia, sonham, brisa, sorte, manas, querem, dao, donas, tudo, fazem, nunca\n",
      "Topic 05: feliz, dia, mulher, iconico, internacional, importancia, relembrar, video, vamos, feminista, tok, tik, possivel, hoje, sobre\n"
     ]
    }
   ],
   "source": [
    "for topic_index in range(k):\n",
    "    descriptor = get_descriptor( terms, H, topic_index, 15)\n",
    "    str_descriptor = \", \".join( descriptor )\n",
    "    print(\"Topic %02d: %s\" % ( topic_index+1, str_descriptor ) )"
   ]
  },
  {
   "cell_type": "code",
   "execution_count": 21,
   "metadata": {
    "ExecuteTime": {
     "end_time": "2021-05-21T23:23:24.960784Z",
     "start_time": "2021-05-21T23:23:24.952087Z"
    },
    "scrolled": true
   },
   "outputs": [
    {
     "name": "stdout",
     "output_type": "stream",
     "text": [
      "Topic 01: marco, mulheres, tecelagem, trabalhavam, trancadas, carbonizadas, aproximadamente, estarem, fabrica, morreram, york, greve, nova, declarou, dia, homenagem, onde, internacional, mulher, quiser\n",
      "Topic 02: onibus, lembrancinha, enfeita, entram, motorista, semana, dar, ano, mulheres, internacional, mulher, dia, feliz, hoje, parabens, dias, quiser, ser, forca, lugar\n",
      "Topic 03: faltar, pode, internacional, mulher, dia, feliz, marco, feministo, depositar, 10k, conta, algum, obrigado, homem, hoje, parabens, quiser, lugar, thread, amanha\n",
      "Topic 04: incriveis, mulheres, feliz, esquecam, dia, sonham, brisa, sorte, manas, querem, dao, donas, tudo, fazem, nunca, disso, juntas, enaltecer, maravilhosas, lindas\n",
      "Topic 05: feliz, dia, mulher, iconico, internacional, importancia, relembrar, video, vamos, feminista, tok, tik, possivel, hoje, sobre, mulheres, luta, mundo, bom, flores\n"
     ]
    }
   ],
   "source": [
    "for topic_index in range(k):\n",
    "    descriptor = get_descriptor( terms, H, topic_index, 20)\n",
    "    str_descriptor = \", \".join( descriptor )\n",
    "    print(\"Topic %02d: %s\" % ( topic_index+1, str_descriptor ) )"
   ]
  },
  {
   "cell_type": "markdown",
   "metadata": {},
   "source": [
    "# 10"
   ]
  },
  {
   "cell_type": "code",
   "execution_count": 22,
   "metadata": {
    "ExecuteTime": {
     "end_time": "2021-05-21T23:23:24.968228Z",
     "start_time": "2021-05-21T23:23:24.963725Z"
    }
   },
   "outputs": [],
   "source": [
    "k = 10 # best_k\n",
    "\n",
    "# get the model that we generated earlier.\n",
    "W = topic_models[1][1]\n",
    "H = topic_models[1][2]"
   ]
  },
  {
   "cell_type": "code",
   "execution_count": 23,
   "metadata": {
    "ExecuteTime": {
     "end_time": "2021-05-21T23:23:24.984787Z",
     "start_time": "2021-05-21T23:23:24.970868Z"
    }
   },
   "outputs": [
    {
     "name": "stdout",
     "output_type": "stream",
     "text": [
      "Topic 01: marco, mulheres, tecelagem, trabalhavam, trancadas\n",
      "Topic 02: onibus, lembrancinha, enfeita, entram, motorista\n",
      "Topic 03: faltar, pode, internacional, mulher, dia\n",
      "Topic 04: incriveis, mulheres, esquecam, sonham, brisa\n",
      "Topic 05: iconico, relembrar, vamos, importancia, video\n",
      "Topic 06: feliz, dia, mulher, internacional, mulheres\n",
      "Topic 07: tik, tok, possivel, feminista, feliz\n",
      "Topic 08: deveria, menos, vez, vida, mundo\n",
      "Topic 09: sobre, hoje, bom, respeitarem, numeros\n",
      "Topic 10: vou, falar, rir, repense, parca\n"
     ]
    }
   ],
   "source": [
    "for topic_index in range(k):\n",
    "    descriptor = get_descriptor( terms, H, topic_index, 5)\n",
    "    str_descriptor = \", \".join( descriptor )\n",
    "    print(\"Topic %02d: %s\" % ( topic_index+1, str_descriptor ) )"
   ]
  },
  {
   "cell_type": "code",
   "execution_count": 24,
   "metadata": {
    "ExecuteTime": {
     "end_time": "2021-05-21T23:23:24.995205Z",
     "start_time": "2021-05-21T23:23:24.986411Z"
    }
   },
   "outputs": [
    {
     "name": "stdout",
     "output_type": "stream",
     "text": [
      "Topic 01: marco, mulheres, tecelagem, trabalhavam, trancadas, carbonizadas, aproximadamente, estarem, fabrica, morreram\n",
      "Topic 02: onibus, lembrancinha, enfeita, entram, motorista, semana, dar, ano, mulheres, internacional\n",
      "Topic 03: faltar, pode, internacional, mulher, dia, marco, feministo, depositar, 10k, conta\n",
      "Topic 04: incriveis, mulheres, esquecam, sonham, brisa, sorte, manas, querem, dao, donas\n",
      "Topic 05: iconico, relembrar, vamos, importancia, video, internacional, mulher, dia, melhor, thread\n",
      "Topic 06: feliz, dia, mulher, internacional, mulheres, guerreiras, lugar, quiser, forca, parabens\n",
      "Topic 07: tik, tok, possivel, feminista, feliz, trabalhassem, trataram, donalds, machos, folga\n",
      "Topic 08: deveria, menos, vez, vida, mundo, video, ver, assistir, sinto, melhor\n",
      "Topic 09: sobre, hoje, bom, respeitarem, numeros, mostram, presentes, segue, flores, data\n",
      "Topic 10: vou, falar, rir, repense, parca, questionar, trai, babaca, pano, roupa\n"
     ]
    }
   ],
   "source": [
    "for topic_index in range(k):\n",
    "    descriptor = get_descriptor( terms, H, topic_index, 10)\n",
    "    str_descriptor = \", \".join( descriptor )\n",
    "    print(\"Topic %02d: %s\" % ( topic_index+1, str_descriptor ) )"
   ]
  },
  {
   "cell_type": "code",
   "execution_count": 25,
   "metadata": {
    "ExecuteTime": {
     "end_time": "2021-05-21T23:23:25.006165Z",
     "start_time": "2021-05-21T23:23:24.996717Z"
    }
   },
   "outputs": [
    {
     "name": "stdout",
     "output_type": "stream",
     "text": [
      "Topic 01: marco, mulheres, tecelagem, trabalhavam, trancadas, carbonizadas, aproximadamente, estarem, fabrica, morreram, york, greve, nova, declarou, onde\n",
      "Topic 02: onibus, lembrancinha, enfeita, entram, motorista, semana, dar, ano, mulheres, internacional, mulher, dia, hoje, parabens, thread\n",
      "Topic 03: faltar, pode, internacional, mulher, dia, marco, feministo, depositar, 10k, conta, algum, homem, thread, obrigado, hoje\n",
      "Topic 04: incriveis, mulheres, esquecam, sonham, brisa, sorte, manas, querem, dao, donas, fazem, disso, tudo, nunca, juntas\n",
      "Topic 05: iconico, relembrar, vamos, importancia, video, internacional, mulher, dia, melhor, thread, poder, grey, homanagem, reafirmou, anatomy\n",
      "Topic 06: feliz, dia, mulher, internacional, mulheres, guerreiras, lugar, quiser, forca, parabens, inclusive, marco, mjsp, publica, justica\n",
      "Topic 07: tik, tok, possivel, feminista, feliz, trabalhassem, trataram, donalds, machos, folga, colocou, lembro, ato, ainda, mulheres\n",
      "Topic 08: deveria, menos, vez, vida, mundo, video, ver, assistir, sinto, melhor, obrigado, mulheres, guerreiras, lembrete, reproducao\n",
      "Topic 09: sobre, hoje, bom, respeitarem, numeros, mostram, presentes, segue, flores, data, luta, dia, direitos, importancia, mulher\n",
      "Topic 10: vou, falar, rir, repense, parca, questionar, trai, babaca, pano, roupa, pare, atitudes, passar, inves, agressor\n"
     ]
    }
   ],
   "source": [
    "for topic_index in range(k):\n",
    "    descriptor = get_descriptor( terms, H, topic_index, 15)\n",
    "    str_descriptor = \", \".join( descriptor )\n",
    "    print(\"Topic %02d: %s\" % ( topic_index+1, str_descriptor ) )"
   ]
  },
  {
   "cell_type": "code",
   "execution_count": 26,
   "metadata": {
    "ExecuteTime": {
     "end_time": "2021-05-21T23:23:25.016980Z",
     "start_time": "2021-05-21T23:23:25.007764Z"
    }
   },
   "outputs": [
    {
     "name": "stdout",
     "output_type": "stream",
     "text": [
      "Topic 01: marco, mulheres, tecelagem, trabalhavam, trancadas, carbonizadas, aproximadamente, estarem, fabrica, morreram, york, greve, nova, declarou, onde, homenagem, dia, internacional, mulher, quiser\n",
      "Topic 02: onibus, lembrancinha, enfeita, entram, motorista, semana, dar, ano, mulheres, internacional, mulher, dia, hoje, parabens, thread, historia, ato, folga, colocou, lembro\n",
      "Topic 03: faltar, pode, internacional, mulher, dia, marco, feministo, depositar, 10k, conta, algum, homem, thread, obrigado, hoje, lembro, folga, colocou, donalds, trabalhassem\n",
      "Topic 04: incriveis, mulheres, esquecam, sonham, brisa, sorte, manas, querem, dao, donas, fazem, disso, tudo, nunca, juntas, enaltecer, maravilhosas, coerentes, assis, bicalho\n",
      "Topic 05: iconico, relembrar, vamos, importancia, video, internacional, mulher, dia, melhor, thread, poder, grey, homanagem, reafirmou, anatomy, comeco, vezes, fazer, vitima, cena\n",
      "Topic 06: feliz, dia, mulher, internacional, mulheres, guerreiras, lugar, quiser, forca, parabens, inclusive, marco, mjsp, publica, justica, seguranca, nacional, obrigado, mundo, hoje\n",
      "Topic 07: tik, tok, possivel, feminista, feliz, trabalhassem, trataram, donalds, machos, folga, colocou, lembro, ato, ainda, mulheres, hoje, explosao, vestia, opressor, culpa\n",
      "Topic 08: deveria, menos, vez, vida, mundo, video, ver, assistir, sinto, melhor, obrigado, mulheres, guerreiras, lembrete, reproducao, igualdade, contribuindo, construir, quao, dura\n",
      "Topic 09: sobre, hoje, bom, respeitarem, numeros, mostram, presentes, segue, flores, data, luta, dia, direitos, importancia, mulher, internacional, lembro, donalds, trabalhassem, trataram\n",
      "Topic 10: vou, falar, rir, repense, parca, questionar, trai, babaca, pano, roupa, pare, atitudes, passar, inves, agressor, adianta, ser, estupro, vitima, misogino\n"
     ]
    }
   ],
   "source": [
    "for topic_index in range(k):\n",
    "    descriptor = get_descriptor( terms, H, topic_index, 20)\n",
    "    str_descriptor = \", \".join( descriptor )\n",
    "    print(\"Topic %02d: %s\" % ( topic_index+1, str_descriptor ) )"
   ]
  },
  {
   "cell_type": "markdown",
   "metadata": {
    "ExecuteTime": {
     "end_time": "2021-05-18T01:35:40.549034Z",
     "start_time": "2021-05-18T01:35:40.547094Z"
    }
   },
   "source": [
    "# 15"
   ]
  },
  {
   "cell_type": "code",
   "execution_count": 27,
   "metadata": {
    "ExecuteTime": {
     "end_time": "2021-05-21T23:23:25.050731Z",
     "start_time": "2021-05-21T23:23:25.018514Z"
    }
   },
   "outputs": [],
   "source": [
    "k = 15 # best_k\n",
    "\n",
    "# get the model that we generated earlier.\n",
    "W = topic_models[2][1]\n",
    "H = topic_models[2][2]"
   ]
  },
  {
   "cell_type": "code",
   "execution_count": 28,
   "metadata": {
    "ExecuteTime": {
     "end_time": "2021-05-21T23:23:25.070596Z",
     "start_time": "2021-05-21T23:23:25.052635Z"
    }
   },
   "outputs": [
    {
     "name": "stdout",
     "output_type": "stream",
     "text": [
      "Topic 01: marco, mulheres, tecelagem, trabalhavam, trancadas\n",
      "Topic 02: onibus, lembrancinha, enfeita, entram, motorista\n",
      "Topic 03: faltar, pode, internacional, mulher, dia\n",
      "Topic 04: incriveis, mulheres, esquecam, sonham, brisa\n",
      "Topic 05: iconico, relembrar, vamos, importancia, video\n",
      "Topic 06: feliz, dia, internacional, mulher, mulheres\n",
      "Topic 07: tik, tok, possivel, feminista, feliz\n",
      "Topic 08: deveria, menos, vez, vida, mundo\n",
      "Topic 09: sobre, bom, respeitarem, numeros, mostram\n",
      "Topic 10: vou, falar, vestir, ser, ouvido\n",
      "Topic 11: quiser, lugar, mjsp, inclusive, seguranca\n",
      "Topic 12: donalds, trabalhassem, trataram, folga, machos\n",
      "Topic 13: thread, importantes, negras, historia, brasileira\n",
      "Topic 14: hoje, ser, dias, repense, parca\n",
      "Topic 15: nunca, esquecer, julgue, amanha, violencia\n"
     ]
    }
   ],
   "source": [
    "for topic_index in range(k):\n",
    "    descriptor = get_descriptor( terms, H, topic_index, 5)\n",
    "    str_descriptor = \", \".join( descriptor )\n",
    "    print(\"Topic %02d: %s\" % ( topic_index+1, str_descriptor ) )"
   ]
  },
  {
   "cell_type": "code",
   "execution_count": 29,
   "metadata": {
    "ExecuteTime": {
     "end_time": "2021-05-21T23:23:25.086363Z",
     "start_time": "2021-05-21T23:23:25.072420Z"
    }
   },
   "outputs": [
    {
     "name": "stdout",
     "output_type": "stream",
     "text": [
      "Topic 01: marco, mulheres, tecelagem, trabalhavam, trancadas, carbonizadas, aproximadamente, estarem, fabrica, morreram\n",
      "Topic 02: onibus, lembrancinha, enfeita, entram, motorista, semana, dar, ano, mulheres, internacional\n",
      "Topic 03: faltar, pode, internacional, mulher, dia, marco, feministo, depositar, 10k, conta\n",
      "Topic 04: incriveis, mulheres, esquecam, sonham, brisa, sorte, manas, querem, dao, donas\n",
      "Topic 05: iconico, relembrar, vamos, importancia, video, internacional, mulher, dia, melhor, cena\n",
      "Topic 06: feliz, dia, internacional, mulher, mulheres, guerreiras, marco, parabens, obrigado, mundo\n",
      "Topic 07: tik, tok, possivel, feminista, feliz, mulheres, domingo, explosao, vestia, opressor\n",
      "Topic 08: deveria, menos, vez, vida, mundo, video, ver, assistir, sinto, melhor\n",
      "Topic 09: sobre, bom, respeitarem, numeros, mostram, presentes, segue, data, direitos, luta\n",
      "Topic 10: vou, falar, vestir, ser, ouvido, disseram, fio, algumas, sororidade, viveu\n",
      "Topic 11: quiser, lugar, mjsp, inclusive, seguranca, publica, justica, nacional, forca, onde\n",
      "Topic 12: donalds, trabalhassem, trataram, folga, machos, lembro, colocou, ato, ainda, hoje\n",
      "Topic 13: thread, importantes, negras, historia, brasileira, mulheres, reafirmou, homanagem, anatomy, grey\n",
      "Topic 14: hoje, ser, dias, repense, parca, rir, questionar, trai, babaca, pano\n",
      "Topic 15: nunca, esquecer, julgue, amanha, violencia, vitima, esquecam, sonham, brisa, manas\n"
     ]
    }
   ],
   "source": [
    "for topic_index in range(k):\n",
    "    descriptor = get_descriptor( terms, H, topic_index, 10)\n",
    "    str_descriptor = \", \".join( descriptor )\n",
    "    print(\"Topic %02d: %s\" % ( topic_index+1, str_descriptor ) )"
   ]
  },
  {
   "cell_type": "code",
   "execution_count": 30,
   "metadata": {
    "ExecuteTime": {
     "end_time": "2021-05-21T23:23:25.102146Z",
     "start_time": "2021-05-21T23:23:25.088148Z"
    }
   },
   "outputs": [
    {
     "name": "stdout",
     "output_type": "stream",
     "text": [
      "Topic 01: marco, mulheres, tecelagem, trabalhavam, trancadas, carbonizadas, aproximadamente, estarem, fabrica, morreram, york, greve, nova, declarou, homenagem\n",
      "Topic 02: onibus, lembrancinha, enfeita, entram, motorista, semana, dar, ano, mulheres, internacional, mulher, dia, parabens, amanha, brasil\n",
      "Topic 03: faltar, pode, internacional, mulher, dia, marco, feministo, depositar, 10k, conta, algum, homem, obrigado, thread, amanha\n",
      "Topic 04: incriveis, mulheres, esquecam, sonham, brisa, sorte, manas, querem, dao, donas, tudo, fazem, disso, enaltecer, juntas\n",
      "Topic 05: iconico, relembrar, vamos, importancia, video, internacional, mulher, dia, melhor, cena, poder, grey, homanagem, reafirmou, anatomy\n",
      "Topic 06: feliz, dia, internacional, mulher, mulheres, guerreiras, marco, parabens, obrigado, mundo, cada, ser, cena, dias, votou\n",
      "Topic 07: tik, tok, possivel, feminista, feliz, mulheres, domingo, explosao, vestia, opressor, culpa, estado, estuprador, chile, homem\n",
      "Topic 08: deveria, menos, vez, vida, mundo, video, ver, assistir, sinto, melhor, obrigado, lembrete, reproducao, guerreiras, contribuindo\n",
      "Topic 09: sobre, bom, respeitarem, numeros, mostram, presentes, segue, data, direitos, luta, flores, hoje, dia, importancia, internacional\n",
      "Topic 10: vou, falar, vestir, ser, ouvido, disseram, fio, algumas, sororidade, viveu, durante, sempre, nunca, deve, sobre\n",
      "Topic 11: quiser, lugar, mjsp, inclusive, seguranca, publica, justica, nacional, forca, onde, homenagem, mulheres, mulher, internacional, dia\n",
      "Topic 12: donalds, trabalhassem, trataram, folga, machos, lembro, colocou, ato, ainda, hoje, feminista, dia, mulheres, internacional, mulher\n",
      "Topic 13: thread, importantes, negras, historia, brasileira, mulheres, reafirmou, homanagem, anatomy, grey, comeco, vezes, poder, fazer, vamos\n",
      "Topic 14: hoje, ser, dias, repense, parca, rir, questionar, trai, babaca, pano, atitudes, inves, agressor, roupa, adianta\n",
      "Topic 15: nunca, esquecer, julgue, amanha, violencia, vitima, esquecam, sonham, brisa, manas, donas, sorte, dao, disso, querem\n"
     ]
    }
   ],
   "source": [
    "for topic_index in range(k):\n",
    "    descriptor = get_descriptor( terms, H, topic_index, 15)\n",
    "    str_descriptor = \", \".join( descriptor )\n",
    "    print(\"Topic %02d: %s\" % ( topic_index+1, str_descriptor ) )"
   ]
  },
  {
   "cell_type": "code",
   "execution_count": 31,
   "metadata": {
    "ExecuteTime": {
     "end_time": "2021-05-21T23:23:25.118790Z",
     "start_time": "2021-05-21T23:23:25.104724Z"
    }
   },
   "outputs": [
    {
     "name": "stdout",
     "output_type": "stream",
     "text": [
      "Topic 01: marco, mulheres, tecelagem, trabalhavam, trancadas, carbonizadas, aproximadamente, estarem, fabrica, morreram, york, greve, nova, declarou, homenagem, onde, dia, internacional, mulher, obrigado\n",
      "Topic 02: onibus, lembrancinha, enfeita, entram, motorista, semana, dar, ano, mulheres, internacional, mulher, dia, parabens, amanha, brasil, luta, marco, ruas, contra, homens\n",
      "Topic 03: faltar, pode, internacional, mulher, dia, marco, feministo, depositar, 10k, conta, algum, homem, obrigado, thread, amanha, julgue, parabens, violencia, manu, mudar\n",
      "Topic 04: incriveis, mulheres, esquecam, sonham, brisa, sorte, manas, querem, dao, donas, tudo, fazem, disso, enaltecer, juntas, maravilhosas, coerentes, assis, bicalho, kalimann\n",
      "Topic 05: iconico, relembrar, vamos, importancia, video, internacional, mulher, dia, melhor, cena, poder, grey, homanagem, reafirmou, anatomy, comeco, vezes, fazer, marco, paciente\n",
      "Topic 06: feliz, dia, internacional, mulher, mulheres, guerreiras, marco, parabens, obrigado, mundo, cada, ser, cena, dias, votou, enfia, manu, mudar, caralho, respeito\n",
      "Topic 07: tik, tok, possivel, feminista, feliz, mulheres, domingo, explosao, vestia, opressor, culpa, estado, estuprador, chile, homem, latina, america, enfia, bolsonaro, votou\n",
      "Topic 08: deveria, menos, vez, vida, mundo, video, ver, assistir, sinto, melhor, obrigado, lembrete, reproducao, guerreiras, contribuindo, construir, quao, dura, segundos, justa\n",
      "Topic 09: sobre, bom, respeitarem, numeros, mostram, presentes, segue, data, direitos, luta, flores, hoje, dia, importancia, internacional, mulher, queremos, igualdade, nao, ruas\n",
      "Topic 10: vou, falar, vestir, ser, ouvido, disseram, fio, algumas, sororidade, viveu, durante, sempre, nunca, deve, sobre, gritou, mulheres, fragil, sexo, feminino\n",
      "Topic 11: quiser, lugar, mjsp, inclusive, seguranca, publica, justica, nacional, forca, onde, homenagem, mulheres, mulher, internacional, dia, ser, parabens, brasil, mundo, ter\n",
      "Topic 12: donalds, trabalhassem, trataram, folga, machos, lembro, colocou, ato, ainda, hoje, feminista, dia, mulheres, internacional, mulher, parabens, bolsonaro, parabeniza, apoia, duas\n",
      "Topic 13: thread, importantes, negras, historia, brasileira, mulheres, reafirmou, homanagem, anatomy, grey, comeco, vezes, poder, fazer, vamos, brasil, marco, parabens, queremos, nao\n",
      "Topic 14: hoje, ser, dias, repense, parca, rir, questionar, trai, babaca, pano, atitudes, inves, agressor, roupa, adianta, pare, vitima, passar, estupro, misogino\n",
      "Topic 15: nunca, esquecer, julgue, amanha, violencia, vitima, esquecam, sonham, brisa, manas, donas, sorte, dao, disso, querem, juntas, fazem, luta, anos, mulheres\n"
     ]
    }
   ],
   "source": [
    "for topic_index in range(k):\n",
    "    descriptor = get_descriptor( terms, H, topic_index, 20)\n",
    "    str_descriptor = \", \".join( descriptor )\n",
    "    print(\"Topic %02d: %s\" % ( topic_index+1, str_descriptor ) )"
   ]
  },
  {
   "cell_type": "markdown",
   "metadata": {},
   "source": [
    "# 20"
   ]
  },
  {
   "cell_type": "code",
   "execution_count": 32,
   "metadata": {
    "ExecuteTime": {
     "end_time": "2021-05-21T23:23:25.123910Z",
     "start_time": "2021-05-21T23:23:25.120560Z"
    }
   },
   "outputs": [],
   "source": [
    "k = 20 # best_k\n",
    "\n",
    "# get the model that we generated earlier.\n",
    "W = topic_models[3][1]\n",
    "H = topic_models[3][2]"
   ]
  },
  {
   "cell_type": "code",
   "execution_count": 33,
   "metadata": {
    "ExecuteTime": {
     "end_time": "2021-05-21T23:23:25.145445Z",
     "start_time": "2021-05-21T23:23:25.125627Z"
    }
   },
   "outputs": [
    {
     "name": "stdout",
     "output_type": "stream",
     "text": [
      "Topic 01: marco, mulheres, tecelagem, trabalhavam, trancadas\n",
      "Topic 02: onibus, lembrancinha, enfeita, entram, motorista\n",
      "Topic 03: faltar, pode, internacional, mulher, dia\n",
      "Topic 04: incriveis, mulheres, esquecam, sonham, brisa\n",
      "Topic 05: iconico, relembrar, vamos, importancia, video\n",
      "Topic 06: feliz, dia, internacional, mulher, mulheres\n",
      "Topic 07: tik, tok, possivel, feminista, feliz\n",
      "Topic 08: deveria, menos, vez, vida, mundo\n",
      "Topic 09: sobre, respeitarem, bom, numeros, mostram\n",
      "Topic 10: vou, falar, ser, vestir, ouvido\n",
      "Topic 11: quiser, lugar, mjsp, inclusive, seguranca\n",
      "Topic 12: donalds, trabalhassem, trataram, folga, machos\n",
      "Topic 13: thread, importantes, brasileira, negras, historia\n",
      "Topic 14: hoje, ser, repense, parca, rir\n",
      "Topic 15: nunca, esquecer, julgue, violencia, amanha\n",
      "Topic 16: manu, gavassi, margens, falso, caralho\n",
      "Topic 17: queremos, nao, parabens, lembretes, fofa\n",
      "Topic 18: reafirmou, homanagem, anatomy, grey, comeco\n",
      "Topic 19: mulheres, guerreiras, obrigado, dia, parabens\n",
      "Topic 20: reproducao, contribuindo, segundos, dura, justa\n"
     ]
    }
   ],
   "source": [
    "for topic_index in range(k):\n",
    "    descriptor = get_descriptor( terms, H, topic_index, 5)\n",
    "    str_descriptor = \", \".join( descriptor )\n",
    "    print(\"Topic %02d: %s\" % ( topic_index+1, str_descriptor ) )"
   ]
  },
  {
   "cell_type": "code",
   "execution_count": 34,
   "metadata": {
    "ExecuteTime": {
     "end_time": "2021-05-21T23:23:25.158180Z",
     "start_time": "2021-05-21T23:23:25.146994Z"
    }
   },
   "outputs": [
    {
     "name": "stdout",
     "output_type": "stream",
     "text": [
      "Topic 01: marco, mulheres, tecelagem, trabalhavam, trancadas, carbonizadas, aproximadamente, estarem, fabrica, morreram\n",
      "Topic 02: onibus, lembrancinha, enfeita, entram, motorista, semana, dar, ano, mulheres, internacional\n",
      "Topic 03: faltar, pode, internacional, mulher, dia, feministo, depositar, 10k, conta, algum\n",
      "Topic 04: incriveis, mulheres, esquecam, sonham, brisa, sorte, manas, querem, dao, donas\n",
      "Topic 05: iconico, relembrar, vamos, importancia, video, internacional, mulher, dia, melhor, cena\n",
      "Topic 06: feliz, dia, internacional, mulher, mulheres, domingo, marco, votou, enfia, ser\n",
      "Topic 07: tik, tok, possivel, feminista, feliz, mulheres, explosao, vestia, opressor, culpa\n",
      "Topic 08: deveria, menos, vez, vida, mundo, video, ver, assistir, sinto, melhor\n",
      "Topic 09: sobre, respeitarem, bom, numeros, mostram, presentes, segue, data, direitos, flores\n",
      "Topic 10: vou, falar, ser, vestir, ouvido, disseram, sororidade, fio, algumas, viveu\n",
      "Topic 11: quiser, lugar, mjsp, inclusive, seguranca, publica, justica, nacional, forca, onde\n",
      "Topic 12: donalds, trabalhassem, trataram, folga, machos, lembro, colocou, ato, ainda, feminista\n",
      "Topic 13: thread, importantes, brasileira, negras, historia, mulheres, marco, influentes, pesquisa, segundo\n",
      "Topic 14: hoje, ser, repense, parca, rir, questionar, trai, babaca, pano, atitudes\n",
      "Topic 15: nunca, esquecer, julgue, violencia, amanha, vitima, esquecam, sonham, brisa, manas\n",
      "Topic 16: manu, gavassi, margens, falso, caralho, declarando, piscina, gritou, marco, dia\n",
      "Topic 17: queremos, nao, parabens, lembretes, fofa, sapato, bombons, batom, sao, promocao\n",
      "Topic 18: reafirmou, homanagem, anatomy, grey, comeco, vezes, poder, thread, fazer, vamos\n",
      "Topic 19: mulheres, guerreiras, obrigado, dia, parabens, cena, brasil, mundo, hoje, bolsonaro\n",
      "Topic 20: reproducao, contribuindo, segundos, dura, justa, construir, globo, longe, quao, lembrete\n"
     ]
    }
   ],
   "source": [
    "for topic_index in range(k):\n",
    "    descriptor = get_descriptor( terms, H, topic_index, 10)\n",
    "    str_descriptor = \", \".join( descriptor )\n",
    "    print(\"Topic %02d: %s\" % ( topic_index+1, str_descriptor ) )"
   ]
  },
  {
   "cell_type": "code",
   "execution_count": 35,
   "metadata": {
    "ExecuteTime": {
     "end_time": "2021-05-21T23:23:25.170653Z",
     "start_time": "2021-05-21T23:23:25.159466Z"
    }
   },
   "outputs": [
    {
     "name": "stdout",
     "output_type": "stream",
     "text": [
      "Topic 01: marco, mulheres, tecelagem, trabalhavam, trancadas, carbonizadas, aproximadamente, estarem, fabrica, morreram, york, greve, nova, declarou, homenagem\n",
      "Topic 02: onibus, lembrancinha, enfeita, entram, motorista, semana, dar, ano, mulheres, internacional, mulher, dia, parabens, julgue, quero\n",
      "Topic 03: faltar, pode, internacional, mulher, dia, feministo, depositar, 10k, conta, algum, homem, marco, julgue, amanha, obrigado\n",
      "Topic 04: incriveis, mulheres, esquecam, sonham, brisa, sorte, manas, querem, dao, donas, disso, fazem, juntas, tudo, enaltecer\n",
      "Topic 05: iconico, relembrar, vamos, importancia, video, internacional, mulher, dia, melhor, cena, vitima, paciente, amo, perfeito, violencia\n",
      "Topic 06: feliz, dia, internacional, mulher, mulheres, domingo, marco, votou, enfia, ser, linda, principalmente, dias, bom, especial\n",
      "Topic 07: tik, tok, possivel, feminista, feliz, mulheres, explosao, vestia, opressor, culpa, domingo, estado, homem, estuprador, chile\n",
      "Topic 08: deveria, menos, vez, vida, mundo, video, ver, assistir, sinto, melhor, ser, peito, tomar, amo, luxemburgo\n",
      "Topic 09: sobre, respeitarem, bom, numeros, mostram, presentes, segue, data, direitos, flores, luta, hoje, importancia, dia, internacional\n",
      "Topic 10: vou, falar, ser, vestir, ouvido, disseram, sororidade, fio, algumas, viveu, nunca, durante, sempre, sobre, deve\n",
      "Topic 11: quiser, lugar, mjsp, inclusive, seguranca, publica, justica, nacional, forca, onde, homenagem, mulher, mulheres, internacional, dia\n",
      "Topic 12: donalds, trabalhassem, trataram, folga, machos, lembro, colocou, ato, ainda, feminista, hoje, dia, internacional, mulheres, mulher\n",
      "Topic 13: thread, importantes, brasileira, negras, historia, mulheres, marco, influentes, pesquisa, segundo, batista, abreu, bravura, heley, silva\n",
      "Topic 14: hoje, ser, repense, parca, rir, questionar, trai, babaca, pano, atitudes, inves, agressor, roupa, adianta, pare\n",
      "Topic 15: nunca, esquecer, julgue, violencia, amanha, vitima, esquecam, sonham, brisa, manas, sorte, dao, donas, disso, querem\n",
      "Topic 16: manu, gavassi, margens, falso, caralho, declarando, piscina, gritou, marco, dia, mulher, internacional, bate, obrigado, gizelly\n",
      "Topic 17: queremos, nao, parabens, lembretes, fofa, sapato, bombons, batom, sao, promocao, rosa, tds, zap, mensagem, dias\n",
      "Topic 18: reafirmou, homanagem, anatomy, grey, comeco, vezes, poder, thread, fazer, vamos, mulher, marco, feminino, ser, elenco\n",
      "Topic 19: mulheres, guerreiras, obrigado, dia, parabens, cena, brasil, mundo, hoje, bolsonaro, cada, contra, mudar, amiga, mae\n",
      "Topic 20: reproducao, contribuindo, segundos, dura, justa, construir, globo, longe, quao, lembrete, igualdade, luta, sociedade, alguns, vida\n"
     ]
    }
   ],
   "source": [
    "for topic_index in range(k):\n",
    "    descriptor = get_descriptor( terms, H, topic_index, 15)\n",
    "    str_descriptor = \", \".join( descriptor )\n",
    "    print(\"Topic %02d: %s\" % ( topic_index+1, str_descriptor ) )"
   ]
  },
  {
   "cell_type": "code",
   "execution_count": 36,
   "metadata": {
    "ExecuteTime": {
     "end_time": "2021-05-21T23:23:25.187044Z",
     "start_time": "2021-05-21T23:23:25.172019Z"
    }
   },
   "outputs": [
    {
     "name": "stdout",
     "output_type": "stream",
     "text": [
      "Topic 01: marco, mulheres, tecelagem, trabalhavam, trancadas, carbonizadas, aproximadamente, estarem, fabrica, morreram, york, greve, nova, declarou, homenagem, onde, dia, internacional, mulher, thread\n",
      "Topic 02: onibus, lembrancinha, enfeita, entram, motorista, semana, dar, ano, mulheres, internacional, mulher, dia, parabens, julgue, quero, parabenizar, amanha, deus, marido, respeito\n",
      "Topic 03: faltar, pode, internacional, mulher, dia, feministo, depositar, 10k, conta, algum, homem, marco, julgue, amanha, obrigado, violencia, thread, parabens, ser, marido\n",
      "Topic 04: incriveis, mulheres, esquecam, sonham, brisa, sorte, manas, querem, dao, donas, disso, fazem, juntas, tudo, enaltecer, maravilhosas, coerentes, assis, bicalho, kalimann\n",
      "Topic 05: iconico, relembrar, vamos, importancia, video, internacional, mulher, dia, melhor, cena, vitima, paciente, amo, perfeito, violencia, marco, enxergava, greysloan, corredor, uniram\n",
      "Topic 06: feliz, dia, internacional, mulher, mulheres, domingo, marco, votou, enfia, ser, linda, principalmente, dias, bom, especial, julgue, sempre, respeito, merecem, fortes\n",
      "Topic 07: tik, tok, possivel, feminista, feliz, mulheres, explosao, vestia, opressor, culpa, domingo, estado, homem, estuprador, chile, enfia, votou, latina, america, onde\n",
      "Topic 08: deveria, menos, vez, vida, mundo, video, ver, assistir, sinto, melhor, ser, peito, tomar, amo, luxemburgo, tudo, humanamente, socialmente, diferentes, totalmente\n",
      "Topic 09: sobre, respeitarem, bom, numeros, mostram, presentes, segue, data, direitos, flores, luta, hoje, importancia, dia, internacional, mulher, ruas, respeito, melhores, juntas\n",
      "Topic 10: vou, falar, ser, vestir, ouvido, disseram, sororidade, fio, algumas, viveu, nunca, durante, sempre, sobre, deve, fragil, sexo, feminino, tras, fortes\n",
      "Topic 11: quiser, lugar, mjsp, inclusive, seguranca, publica, justica, nacional, forca, onde, homenagem, mulher, mulheres, internacional, dia, ser, ter, transformam, possibilidades, inspiram\n",
      "Topic 12: donalds, trabalhassem, trataram, folga, machos, lembro, colocou, ato, ainda, feminista, hoje, dia, internacional, mulheres, mulher, caminho, dragao, comemoracao, segunda, partida\n",
      "Topic 13: thread, importantes, brasileira, negras, historia, mulheres, marco, influentes, pesquisa, segundo, batista, abreu, bravura, heley, silva, heroina, poderia, guerreira, lembrar, deixar\n",
      "Topic 14: hoje, ser, repense, parca, rir, questionar, trai, babaca, pano, atitudes, inves, agressor, roupa, adianta, pare, passar, estupro, vitima, dias, misogino\n",
      "Topic 15: nunca, esquecer, julgue, violencia, amanha, vitima, esquecam, sonham, brisa, manas, sorte, dao, donas, disso, querem, juntas, fazem, anos, mulher, podemos\n",
      "Topic 16: manu, gavassi, margens, falso, caralho, declarando, piscina, gritou, marco, dia, mulher, internacional, bate, obrigado, gizelly, aqui, thelma, enaltecer, rafa, fodase\n",
      "Topic 17: queremos, nao, parabens, lembretes, fofa, sapato, bombons, batom, sao, promocao, rosa, tds, zap, mensagem, dias, amanha, flores, alguns, luta, mulheres\n",
      "Topic 18: reafirmou, homanagem, anatomy, grey, comeco, vezes, poder, thread, fazer, vamos, mulher, marco, feminino, ser, elenco, enaltecer, cara, internacional, sempre, tudo\n",
      "Topic 19: mulheres, guerreiras, obrigado, dia, parabens, cena, brasil, mundo, hoje, bolsonaro, cada, contra, mudar, amiga, mae, homens, duas, parabeniza, apoia, coisas\n",
      "Topic 20: reproducao, contribuindo, segundos, dura, justa, construir, globo, longe, quao, lembrete, igualdade, luta, sociedade, alguns, vida, video, mulher, dia, internacional, melhor\n"
     ]
    }
   ],
   "source": [
    "for topic_index in range(k):\n",
    "    descriptor = get_descriptor( terms, H, topic_index, 20)\n",
    "    str_descriptor = \", \".join( descriptor )\n",
    "    print(\"Topic %02d: %s\" % ( topic_index+1, str_descriptor ) )"
   ]
  },
  {
   "cell_type": "code",
   "execution_count": null,
   "metadata": {},
   "outputs": [],
   "source": []
  }
 ],
 "metadata": {
  "@webio": {
   "lastCommId": null,
   "lastKernelId": null
  },
  "kernelspec": {
   "display_name": "Python 3",
   "language": "python",
   "name": "python3"
  },
  "language_info": {
   "codemirror_mode": {
    "name": "ipython",
    "version": 3
   },
   "file_extension": ".py",
   "mimetype": "text/x-python",
   "name": "python",
   "nbconvert_exporter": "python",
   "pygments_lexer": "ipython3",
   "version": "3.7.7"
  },
  "toc": {
   "base_numbering": 1,
   "nav_menu": {
    "height": "91px",
    "width": "373px"
   },
   "number_sections": true,
   "sideBar": true,
   "skip_h1_title": false,
   "title_cell": "Table of Contents",
   "title_sidebar": "Contents",
   "toc_cell": false,
   "toc_position": {
    "height": "557px",
    "left": "22px",
    "top": "170px",
    "width": "288px"
   },
   "toc_section_display": true,
   "toc_window_display": false
  }
 },
 "nbformat": 4,
 "nbformat_minor": 4
}
