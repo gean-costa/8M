{
 "cells": [
  {
   "cell_type": "markdown",
   "metadata": {},
   "source": [
    "# Parameter Selection for NMF"
   ]
  },
  {
   "cell_type": "markdown",
   "metadata": {},
   "source": [
    "Now we look at the more advanced task of parameter selection for NMF topic modelling - namely, selecting a useful value for the number of topics *k*."
   ]
  },
  {
   "cell_type": "markdown",
   "metadata": {},
   "source": [
    "First, let's load the TF-IDF normalised document-term matrix and list of terms that we stored earlier using *Joblib*:"
   ]
  },
  {
   "cell_type": "code",
   "execution_count": 1,
   "metadata": {
    "ExecuteTime": {
     "end_time": "2021-05-21T23:36:56.774412Z",
     "start_time": "2021-05-21T23:36:50.630375Z"
    }
   },
   "outputs": [
    {
     "name": "stdout",
     "output_type": "stream",
     "text": [
      "Loaded 1985090 X 25781 document-term matrix\n"
     ]
    }
   ],
   "source": [
    "import joblib\n",
    "\n",
    "(A, terms, snippets) = joblib.load(\"cenario1-tweets-tfidf.pkl\")\n",
    "\n",
    "print(\"Loaded %d X %d document-term matrix\" % (A.shape[0], A.shape[1]))"
   ]
  },
  {
   "cell_type": "markdown",
   "metadata": {},
   "source": [
    "### Create the Topic Models"
   ]
  },
  {
   "cell_type": "markdown",
   "metadata": {},
   "source": [
    "A common approach for parameter selection is to Measure and compare the topic coherence of models generated for different values of *k*."
   ]
  },
  {
   "cell_type": "markdown",
   "metadata": {},
   "source": [
    "We need to start by pre-specifying an initial range of \"sensible\" values:"
   ]
  },
  {
   "cell_type": "code",
   "execution_count": 2,
   "metadata": {
    "ExecuteTime": {
     "end_time": "2021-05-21T23:36:56.779688Z",
     "start_time": "2021-05-21T23:36:56.776474Z"
    }
   },
   "outputs": [],
   "source": [
    "kmin, kmax = 5, 20"
   ]
  },
  {
   "cell_type": "markdown",
   "metadata": {},
   "source": [
    "Apply NMF for each of these values:"
   ]
  },
  {
   "cell_type": "code",
   "execution_count": 3,
   "metadata": {
    "ExecuteTime": {
     "end_time": "2021-05-21T23:52:19.812881Z",
     "start_time": "2021-05-21T23:36:56.781675Z"
    }
   },
   "outputs": [
    {
     "name": "stdout",
     "output_type": "stream",
     "text": [
      "Applying NMF for k=5 ...\n",
      "Applying NMF for k=10 ...\n",
      "Applying NMF for k=15 ...\n",
      "Applying NMF for k=20 ...\n"
     ]
    }
   ],
   "source": [
    "from sklearn import decomposition\n",
    "\n",
    "topic_models = []\n",
    "\n",
    "# try each value of k\n",
    "for k in [5,10,15,20]: #range(kmin, kmax + 1):\n",
    "    print(\"Applying NMF for k=%d ...\" % k)\n",
    "    # run NMF\n",
    "    model = decomposition.NMF(init=\"nndsvd\", n_components=k)\n",
    "    W = model.fit_transform(A)\n",
    "    H = model.components_\n",
    "    # store for later\n",
    "    topic_models.append((k, W, H))"
   ]
  },
  {
   "cell_type": "markdown",
   "metadata": {},
   "source": [
    "### Build a Word Embedding"
   ]
  },
  {
   "cell_type": "markdown",
   "metadata": {},
   "source": [
    "To select the number of topics, here we will use a *topic coherence* measure called TC-W2V. This measure relies on the use of a *word embedding* model constructed from our corpus. So in this step we will use the *Gensim* implementation of Word2Vec to build a Word2Vec model based on our collection of news articles."
   ]
  },
  {
   "cell_type": "markdown",
   "metadata": {},
   "source": [
    "**Note:** If you want to skip this step, a pre-built Word2Vec model for the sample dataset [is also provided here for download](http://erdos.ucd.ie/files/pydata/w2v-model.bin) (71MB)."
   ]
  },
  {
   "cell_type": "markdown",
   "metadata": {},
   "source": [
    "We read the documents from the input file again:"
   ]
  },
  {
   "cell_type": "code",
   "execution_count": 4,
   "metadata": {
    "ExecuteTime": {
     "end_time": "2021-05-21T23:52:21.406004Z",
     "start_time": "2021-05-21T23:52:19.814384Z"
    }
   },
   "outputs": [
    {
     "name": "stdout",
     "output_type": "stream",
     "text": [
      "Read 1985090 raw text documents\n"
     ]
    }
   ],
   "source": [
    "import os.path\n",
    "\n",
    "raw_documents = []\n",
    "\n",
    "with open(os.path.join(\"../../../../../data-pre-processing/2csv/cenario1_8M2020_tweets_en.txt\"), \"r\") as fin:\n",
    "    for line in fin.readlines():\n",
    "        raw_documents.append(line.strip().lower())\n",
    "\n",
    "print(\"Read %d raw text documents\" % len(raw_documents))"
   ]
  },
  {
   "cell_type": "markdown",
   "metadata": {},
   "source": [
    "Read the custom stopword list:"
   ]
  },
  {
   "cell_type": "code",
   "execution_count": 5,
   "metadata": {
    "ExecuteTime": {
     "end_time": "2021-05-21T23:52:21.410744Z",
     "start_time": "2021-05-21T23:52:21.407250Z"
    }
   },
   "outputs": [
    {
     "name": "stdout",
     "output_type": "stream",
     "text": [
      "Stopword list has 179 entries\n"
     ]
    }
   ],
   "source": [
    "custom_stop_words = []\n",
    "\n",
    "with open(\"english.txt\", \"r\") as fin:\n",
    "    for line in fin.readlines():\n",
    "        custom_stop_words.append(line.strip().lower())\n",
    "\n",
    "# note that we need to make it hashable\n",
    "print(\"Stopword list has %d entries\" % len(custom_stop_words))"
   ]
  },
  {
   "cell_type": "markdown",
   "metadata": {},
   "source": [
    "First, we need to define a class that will generate documents in a form that can be consumed by Gensim's Word2Vec implementation:"
   ]
  },
  {
   "cell_type": "code",
   "execution_count": 6,
   "metadata": {
    "ExecuteTime": {
     "end_time": "2021-05-21T23:52:21.420275Z",
     "start_time": "2021-05-21T23:52:21.411840Z"
    }
   },
   "outputs": [],
   "source": [
    "import re\n",
    "\n",
    "\n",
    "class TokenGenerator:\n",
    "    def __init__(self, documents, stopwords):\n",
    "        self.documents = documents\n",
    "        self.stopwords = stopwords\n",
    "        self.tokenizer = re.compile(r\"(?u)\\b\\w\\w+\\b\")\n",
    "\n",
    "    def __iter__(self):\n",
    "        print(\"Building Word2Vec model ...\")\n",
    "        for doc in self.documents:\n",
    "            tokens = []\n",
    "            for tok in self.tokenizer.findall(doc):\n",
    "                if tok in self.stopwords:\n",
    "                    tokens.append(\"<stopword>\")\n",
    "                elif len(tok) >= 2:\n",
    "                    tokens.append(tok)\n",
    "            yield tokens"
   ]
  },
  {
   "cell_type": "markdown",
   "metadata": {},
   "source": [
    "Now build a Skipgram Word2Vec model from all documents in the input file using *Gensim*:"
   ]
  },
  {
   "cell_type": "code",
   "execution_count": 7,
   "metadata": {
    "ExecuteTime": {
     "end_time": "2021-05-21T23:52:21.667850Z",
     "start_time": "2021-05-21T23:52:21.466451Z"
    }
   },
   "outputs": [],
   "source": [
    "import gensim"
   ]
  },
  {
   "cell_type": "code",
   "execution_count": 8,
   "metadata": {
    "ExecuteTime": {
     "end_time": "2021-05-22T00:05:27.651734Z",
     "start_time": "2021-05-21T23:52:21.669567Z"
    }
   },
   "outputs": [
    {
     "name": "stdout",
     "output_type": "stream",
     "text": [
      "Building Word2Vec model ...\n",
      "Building Word2Vec model ...\n",
      "Building Word2Vec model ...\n",
      "Building Word2Vec model ...\n",
      "Building Word2Vec model ...\n",
      "Building Word2Vec model ...\n"
     ]
    }
   ],
   "source": [
    "docgen = TokenGenerator(raw_documents, custom_stop_words)\n",
    "\n",
    "# the model has 500 dimensions, the minimum document-term frequency is 20\n",
    "w2v_model = gensim.models.Word2Vec(docgen, size=500, min_count=20, sg=1)"
   ]
  },
  {
   "cell_type": "code",
   "execution_count": 9,
   "metadata": {
    "ExecuteTime": {
     "end_time": "2021-05-22T00:05:27.655827Z",
     "start_time": "2021-05-22T00:05:27.653050Z"
    }
   },
   "outputs": [
    {
     "name": "stdout",
     "output_type": "stream",
     "text": [
      "Model has 26105 terms\n"
     ]
    }
   ],
   "source": [
    "print( \"Model has %d terms\" % len(w2v_model.wv.vocab) )"
   ]
  },
  {
   "cell_type": "markdown",
   "metadata": {},
   "source": [
    "Save for later use, so that we do not need to rebuild it:"
   ]
  },
  {
   "cell_type": "code",
   "execution_count": 10,
   "metadata": {
    "ExecuteTime": {
     "end_time": "2021-05-22T00:05:27.823218Z",
     "start_time": "2021-05-22T00:05:27.656990Z"
    }
   },
   "outputs": [],
   "source": [
    "w2v_model.save(\"cenario1_w2v-model.bin\")"
   ]
  },
  {
   "cell_type": "code",
   "execution_count": 11,
   "metadata": {
    "ExecuteTime": {
     "end_time": "2021-05-22T00:05:27.827052Z",
     "start_time": "2021-05-22T00:05:27.824643Z"
    }
   },
   "outputs": [],
   "source": [
    "# To re-load this model, run\n",
    "# w2v_model = gensim.models.Word2Vec.load(\"cenario1_w2v-model.bin\")"
   ]
  },
  {
   "cell_type": "markdown",
   "metadata": {},
   "source": [
    "### Selecting the Number of Topics"
   ]
  },
  {
   "cell_type": "markdown",
   "metadata": {},
   "source": [
    "Once we have our Word2vec model, we can use it as part of our *topic coherence* approach to evaluate the different NMF topic models that we created previously. To do this, we will implement a simple version of the TC-W2V coherence measure."
   ]
  },
  {
   "cell_type": "markdown",
   "metadata": {},
   "source": [
    "We use the Word2vec model to calculate coherence scores for each of these models. We will define this coherence score as follows:"
   ]
  },
  {
   "cell_type": "code",
   "execution_count": 12,
   "metadata": {
    "ExecuteTime": {
     "end_time": "2021-05-22T00:05:27.837170Z",
     "start_time": "2021-05-22T00:05:27.828269Z"
    }
   },
   "outputs": [],
   "source": [
    "def calculate_coherence(w2v_model, term_rankings):\n",
    "    overall_coherence = 0.0\n",
    "    \n",
    "    for topic_index in range(len(term_rankings)):\n",
    "        # check each pair of terms\n",
    "        pair_scores = []\n",
    "        for pair in combinations(term_rankings[topic_index], 2):\n",
    "            pair_scores.append(w2v_model.similarity(pair[0], pair[1]))\n",
    "        # get the mean for all pairs in this topic\n",
    "        topic_score = sum(pair_scores) / len(pair_scores)\n",
    "        overall_coherence += topic_score\n",
    "    \n",
    "    # get the mean score across all topics\n",
    "    return overall_coherence / len(term_rankings)"
   ]
  },
  {
   "cell_type": "markdown",
   "metadata": {},
   "source": [
    "We also define a function to get the topic descriptor (i.e. list of top terms) for each topic:"
   ]
  },
  {
   "cell_type": "code",
   "execution_count": 13,
   "metadata": {
    "ExecuteTime": {
     "end_time": "2021-05-22T00:05:27.847071Z",
     "start_time": "2021-05-22T00:05:27.838461Z"
    }
   },
   "outputs": [],
   "source": [
    "import numpy as np\n",
    "\n",
    "\n",
    "def get_descriptor(all_terms, H, topic_index, top):\n",
    "    # reverse sort the values to sort the indices\n",
    "    top_indices = np.argsort(H[topic_index, :])[::-1]\n",
    "    \n",
    "    # now get the terms corresponding to the top-ranked indices\n",
    "    top_terms = []\n",
    "    \n",
    "    for term_index in top_indices[0:top]:\n",
    "        top_terms.append(all_terms[term_index])\n",
    "    \n",
    "    return top_terms"
   ]
  },
  {
   "cell_type": "markdown",
   "metadata": {},
   "source": [
    "Now process each of the models for different values of *k*:"
   ]
  },
  {
   "cell_type": "code",
   "execution_count": 37,
   "metadata": {
    "ExecuteTime": {
     "end_time": "2021-05-22T00:08:11.489837Z",
     "start_time": "2021-05-22T00:08:11.396104Z"
    }
   },
   "outputs": [
    {
     "name": "stdout",
     "output_type": "stream",
     "text": [
      "K=05: Coherence=0.2549\n",
      "K=10: Coherence=0.2349\n",
      "K=15: Coherence=0.2347\n",
      "K=20: Coherence=0.2236\n"
     ]
    },
    {
     "name": "stderr",
     "output_type": "stream",
     "text": [
      "/home/gean/anaconda3/lib/python3.7/site-packages/ipykernel_launcher.py:8: DeprecationWarning: Call to deprecated `similarity` (Method will be removed in 4.0.0, use self.wv.similarity() instead).\n",
      "  \n"
     ]
    }
   ],
   "source": [
    "from itertools import combinations\n",
    "\n",
    "k_values = []\n",
    "coherences = []\n",
    "\n",
    "for (k, W, H) in topic_models:\n",
    "    # Get all of the topic descriptors - the term_rankings, based on top 10 terms\n",
    "    term_rankings = []\n",
    "    \n",
    "    for topic_index in range(k):\n",
    "        term_rankings.append(get_descriptor(terms, H, topic_index, 5))\n",
    "    \n",
    "    # Now calculate the coherence based on our Word2vec model\n",
    "    k_values.append(k)\n",
    "    coherences.append(calculate_coherence(w2v_model, term_rankings))\n",
    "    \n",
    "    print(\"K=%02d: Coherence=%.4f\" % (k, coherences[-1]))\n",
    "    # print(f'{coherences[-1]:.4f}')"
   ]
  },
  {
   "cell_type": "markdown",
   "metadata": {},
   "source": [
    "We can now use *matplotlib* to generate a line plot of these coherence scores, to help us select an appropriate value."
   ]
  },
  {
   "cell_type": "code",
   "execution_count": 38,
   "metadata": {
    "ExecuteTime": {
     "end_time": "2021-05-22T00:08:13.132574Z",
     "start_time": "2021-05-22T00:08:13.127876Z"
    }
   },
   "outputs": [],
   "source": [
    "%matplotlib inline\n",
    "import matplotlib\n",
    "import matplotlib.pyplot as plt\n",
    "\n",
    "plt.style.use(\"ggplot\")\n",
    "matplotlib.rcParams.update({\"font.size\": 14})"
   ]
  },
  {
   "cell_type": "code",
   "execution_count": 39,
   "metadata": {
    "ExecuteTime": {
     "end_time": "2021-05-22T00:08:14.404395Z",
     "start_time": "2021-05-22T00:08:14.247394Z"
    }
   },
   "outputs": [
    {
     "data": {
      "image/png": "[encoded data removed]",
      "text/plain": [
       "<Figure size 936x504 with 1 Axes>"
      ]
     },
     "metadata": {},
     "output_type": "display_data"
    }
   ],
   "source": [
    "fig = plt.figure(figsize=(13,7))\n",
    "\n",
    "# create the line plot\n",
    "ax = plt.plot( k_values, coherences )\n",
    "plt.xticks(k_values)\n",
    "plt.xlabel(\"Number of Topics\")\n",
    "plt.ylabel(\"Mean Coherence\")\n",
    "\n",
    "# add the points\n",
    "plt.scatter( k_values, coherences, s=120)\n",
    "\n",
    "\n",
    "# find and annotate the maximum point on the plot\n",
    "ymax = max(coherences)\n",
    "xpos = coherences.index(ymax)\n",
    "best_k = k_values[xpos]\n",
    "plt.annotate( \"k=%d\" % best_k, xy=(best_k, ymax), xytext=(best_k, ymax), textcoords=\"offset points\", fontsize=16)\n",
    "\n",
    "# show the plot\n",
    "plt.show()"
   ]
  },
  {
   "cell_type": "markdown",
   "metadata": {},
   "source": [
    "# 10"
   ]
  },
  {
   "cell_type": "code",
   "execution_count": 40,
   "metadata": {
    "ExecuteTime": {
     "end_time": "2021-05-22T00:08:22.611501Z",
     "start_time": "2021-05-22T00:08:22.461037Z"
    }
   },
   "outputs": [
    {
     "name": "stdout",
     "output_type": "stream",
     "text": [
      "K=05: Coherence=0.2028\n",
      "K=10: Coherence=0.1832\n",
      "K=15: Coherence=0.1860\n",
      "K=20: Coherence=0.1945\n"
     ]
    },
    {
     "name": "stderr",
     "output_type": "stream",
     "text": [
      "/home/gean/anaconda3/lib/python3.7/site-packages/ipykernel_launcher.py:8: DeprecationWarning: Call to deprecated `similarity` (Method will be removed in 4.0.0, use self.wv.similarity() instead).\n",
      "  \n"
     ]
    }
   ],
   "source": [
    "from itertools import combinations\n",
    "\n",
    "k_values = []\n",
    "coherences = []\n",
    "\n",
    "for (k, W, H) in topic_models:\n",
    "    # Get all of the topic descriptors - the term_rankings, based on top 10 terms\n",
    "    term_rankings = []\n",
    "    \n",
    "    for topic_index in range(k):\n",
    "        term_rankings.append(get_descriptor(terms, H, topic_index, 10))\n",
    "    \n",
    "    # Now calculate the coherence based on our Word2vec model\n",
    "    k_values.append(k)\n",
    "    coherences.append(calculate_coherence(w2v_model, term_rankings))\n",
    "    \n",
    "    print(\"K=%02d: Coherence=%.4f\" % (k, coherences[-1]))\n",
    "    # print(f'{coherences[-1]:.4f}')"
   ]
  },
  {
   "cell_type": "code",
   "execution_count": 41,
   "metadata": {
    "ExecuteTime": {
     "end_time": "2021-05-22T00:08:25.911839Z",
     "start_time": "2021-05-22T00:08:25.743403Z"
    }
   },
   "outputs": [
    {
     "data": {
      "image/png": "[encoded data removed]",
      "text/plain": [
       "<Figure size 936x504 with 1 Axes>"
      ]
     },
     "metadata": {},
     "output_type": "display_data"
    }
   ],
   "source": [
    "fig = plt.figure(figsize=(13,7))\n",
    "\n",
    "# create the line plot\n",
    "ax = plt.plot( k_values, coherences )\n",
    "plt.xticks(k_values)\n",
    "plt.xlabel(\"Number of Topics\")\n",
    "plt.ylabel(\"Mean Coherence\")\n",
    "\n",
    "# add the points\n",
    "plt.scatter( k_values, coherences, s=120)\n",
    "\n",
    "\n",
    "# find and annotate the maximum point on the plot\n",
    "ymax = max(coherences)\n",
    "xpos = coherences.index(ymax)\n",
    "best_k = k_values[xpos]\n",
    "plt.annotate( \"k=%d\" % best_k, xy=(best_k, ymax), xytext=(best_k, ymax), textcoords=\"offset points\", fontsize=16)\n",
    "\n",
    "# show the plot\n",
    "plt.show()"
   ]
  },
  {
   "cell_type": "markdown",
   "metadata": {},
   "source": [
    "# 15"
   ]
  },
  {
   "cell_type": "code",
   "execution_count": 46,
   "metadata": {
    "ExecuteTime": {
     "end_time": "2021-05-22T00:09:06.849813Z",
     "start_time": "2021-05-22T00:09:06.615019Z"
    }
   },
   "outputs": [
    {
     "name": "stderr",
     "output_type": "stream",
     "text": [
      "/home/gean/anaconda3/lib/python3.7/site-packages/ipykernel_launcher.py:8: DeprecationWarning: Call to deprecated `similarity` (Method will be removed in 4.0.0, use self.wv.similarity() instead).\n",
      "  \n"
     ]
    },
    {
     "name": "stdout",
     "output_type": "stream",
     "text": [
      "K=05: Coherence=0.1802\n",
      "K=10: Coherence=0.1722\n",
      "K=15: Coherence=0.1708\n",
      "K=20: Coherence=0.1774\n"
     ]
    }
   ],
   "source": [
    "from itertools import combinations\n",
    "\n",
    "k_values = []\n",
    "coherences = []\n",
    "\n",
    "for (k, W, H) in topic_models:\n",
    "    # Get all of the topic descriptors - the term_rankings, based on top 10 terms\n",
    "    term_rankings = []\n",
    "    \n",
    "    for topic_index in range(k):\n",
    "        term_rankings.append(get_descriptor(terms, H, topic_index, 15))\n",
    "    \n",
    "    # Now calculate the coherence based on our Word2vec model\n",
    "    k_values.append(k)\n",
    "    coherences.append(calculate_coherence(w2v_model, term_rankings))\n",
    "    \n",
    "    print(\"K=%02d: Coherence=%.4f\" % (k, coherences[-1]))\n",
    "    # print(f'{coherences[-1]:.4f}')"
   ]
  },
  {
   "cell_type": "code",
   "execution_count": 47,
   "metadata": {
    "ExecuteTime": {
     "end_time": "2021-05-22T00:09:07.531903Z",
     "start_time": "2021-05-22T00:09:07.382299Z"
    }
   },
   "outputs": [
    {
     "data": {
      "image/png": "[encoded data removed]",
      "text/plain": [
       "<Figure size 936x504 with 1 Axes>"
      ]
     },
     "metadata": {},
     "output_type": "display_data"
    }
   ],
   "source": [
    "fig = plt.figure(figsize=(13,7))\n",
    "\n",
    "# create the line plot\n",
    "ax = plt.plot( k_values, coherences )\n",
    "plt.xticks(k_values)\n",
    "plt.xlabel(\"Number of Topics\")\n",
    "plt.ylabel(\"Mean Coherence\")\n",
    "\n",
    "# add the points\n",
    "plt.scatter( k_values, coherences, s=120)\n",
    "\n",
    "\n",
    "# find and annotate the maximum point on the plot\n",
    "ymax = max(coherences)\n",
    "xpos = coherences.index(ymax)\n",
    "best_k = k_values[xpos]\n",
    "plt.annotate( \"k=%d\" % best_k, xy=(best_k, ymax), xytext=(best_k, ymax), textcoords=\"offset points\", fontsize=16)\n",
    "\n",
    "# show the plot\n",
    "plt.show()"
   ]
  },
  {
   "cell_type": "markdown",
   "metadata": {},
   "source": [
    "# 20"
   ]
  },
  {
   "cell_type": "code",
   "execution_count": 48,
   "metadata": {
    "ExecuteTime": {
     "end_time": "2021-05-22T00:09:09.089056Z",
     "start_time": "2021-05-22T00:09:08.938031Z"
    }
   },
   "outputs": [
    {
     "name": "stdout",
     "output_type": "stream",
     "text": [
      "K=05: Coherence=0.2028\n",
      "K=10: Coherence=0.1832\n",
      "K=15: Coherence=0.1860\n",
      "K=20: Coherence=0.1945\n"
     ]
    },
    {
     "name": "stderr",
     "output_type": "stream",
     "text": [
      "/home/gean/anaconda3/lib/python3.7/site-packages/ipykernel_launcher.py:8: DeprecationWarning: Call to deprecated `similarity` (Method will be removed in 4.0.0, use self.wv.similarity() instead).\n",
      "  \n"
     ]
    }
   ],
   "source": [
    "from itertools import combinations\n",
    "\n",
    "k_values = []\n",
    "coherences = []\n",
    "\n",
    "for (k, W, H) in topic_models:\n",
    "    # Get all of the topic descriptors - the term_rankings, based on top 10 terms\n",
    "    term_rankings = []\n",
    "    \n",
    "    for topic_index in range(k):\n",
    "        term_rankings.append(get_descriptor(terms, H, topic_index, 10))\n",
    "    \n",
    "    # Now calculate the coherence based on our Word2vec model\n",
    "    k_values.append(k)\n",
    "    coherences.append(calculate_coherence(w2v_model, term_rankings))\n",
    "    \n",
    "    print(\"K=%02d: Coherence=%.4f\" % (k, coherences[-1]))\n",
    "    # print(f'{coherences[-1]:.4f}')"
   ]
  },
  {
   "cell_type": "code",
   "execution_count": 49,
   "metadata": {
    "ExecuteTime": {
     "end_time": "2021-05-22T00:09:09.746291Z",
     "start_time": "2021-05-22T00:09:09.582108Z"
    }
   },
   "outputs": [
    {
     "data": {
      "image/png": "[encoded data removed]",
      "text/plain": [
       "<Figure size 936x504 with 1 Axes>"
      ]
     },
     "metadata": {},
     "output_type": "display_data"
    }
   ],
   "source": [
    "fig = plt.figure(figsize=(13,7))\n",
    "\n",
    "# create the line plot\n",
    "ax = plt.plot( k_values, coherences )\n",
    "plt.xticks(k_values)\n",
    "plt.xlabel(\"Number of Topics\")\n",
    "plt.ylabel(\"Mean Coherence\")\n",
    "\n",
    "# add the points\n",
    "plt.scatter( k_values, coherences, s=120)\n",
    "\n",
    "\n",
    "# find and annotate the maximum point on the plot\n",
    "ymax = max(coherences)\n",
    "xpos = coherences.index(ymax)\n",
    "best_k = k_values[xpos]\n",
    "plt.annotate( \"k=%d\" % best_k, xy=(best_k, ymax), xytext=(best_k, ymax), textcoords=\"offset points\", fontsize=16)\n",
    "\n",
    "# show the plot\n",
    "plt.show()"
   ]
  },
  {
   "cell_type": "markdown",
   "metadata": {},
   "source": [
    "### Examine the Final  Model"
   ]
  },
  {
   "cell_type": "markdown",
   "metadata": {},
   "source": [
    "The plot above suggests that the most appropriate value for the number of topics is *k=8*."
   ]
  },
  {
   "cell_type": "markdown",
   "metadata": {},
   "source": [
    "# 5"
   ]
  },
  {
   "cell_type": "code",
   "execution_count": 17,
   "metadata": {
    "ExecuteTime": {
     "end_time": "2021-05-22T00:05:28.519327Z",
     "start_time": "2021-05-22T00:05:28.516680Z"
    }
   },
   "outputs": [],
   "source": [
    "k = 5 # best_k\n",
    "\n",
    "# get the model that we generated earlier.\n",
    "W = topic_models[0][1]\n",
    "H = topic_models[0][2]"
   ]
  },
  {
   "cell_type": "markdown",
   "metadata": {},
   "source": [
    "Display the topic descriptors for this model:"
   ]
  },
  {
   "cell_type": "code",
   "execution_count": 18,
   "metadata": {
    "ExecuteTime": {
     "end_time": "2021-05-22T00:05:28.536683Z",
     "start_time": "2021-05-22T00:05:28.520652Z"
    }
   },
   "outputs": [
    {
     "name": "stdout",
     "output_type": "stream",
     "text": [
      "Topic 01: happy, day, everyday, ladies, women\n",
      "Topic 02: women, world, day, amp, celebrate\n",
      "Topic 03: international, day, womens, fine, dedicating\n",
      "Topic 04: today, justice, every, equality, gender\n",
      "Topic 05: respect, elect, black, woman, believe\n"
     ]
    }
   ],
   "source": [
    "for topic_index in range(k):\n",
    "    descriptor = get_descriptor( terms, H, topic_index, 5)\n",
    "    str_descriptor = \", \".join( descriptor )\n",
    "    print(\"Topic %02d: %s\" % ( topic_index+1, str_descriptor ) )"
   ]
  },
  {
   "cell_type": "code",
   "execution_count": 19,
   "metadata": {
    "ExecuteTime": {
     "end_time": "2021-05-22T00:05:28.549644Z",
     "start_time": "2021-05-22T00:05:28.537988Z"
    }
   },
   "outputs": [
    {
     "name": "stdout",
     "output_type": "stream",
     "text": [
      "Topic 01: happy, day, everyday, ladies, women, everyone, spirit, friends, sisters, womanhood\n",
      "Topic 02: women, world, day, amp, celebrate, amazing, strong, celebrating, make, life\n",
      "Topic 03: international, day, womens, fine, dedicating, woman, women, every, slaves, fighters\n",
      "Topic 04: today, justice, every, equality, gender, equal, equity, celebrations, societies, congratulations\n",
      "Topic 05: respect, elect, black, woman, believe, one, position, vote, please, every\n"
     ]
    }
   ],
   "source": [
    "for topic_index in range(k):\n",
    "    descriptor = get_descriptor( terms, H, topic_index, 10)\n",
    "    str_descriptor = \", \".join( descriptor )\n",
    "    print(\"Topic %02d: %s\" % ( topic_index+1, str_descriptor ) )"
   ]
  },
  {
   "cell_type": "code",
   "execution_count": 20,
   "metadata": {
    "ExecuteTime": {
     "end_time": "2021-05-22T00:05:28.563033Z",
     "start_time": "2021-05-22T00:05:28.550903Z"
    }
   },
   "outputs": [
    {
     "name": "stdout",
     "output_type": "stream",
     "text": [
      "Topic 01: happy, day, everyday, ladies, women, everyone, spirit, friends, sisters, womanhood, ears, iwd, dear, define, ready\n",
      "Topic 02: women, world, day, amp, celebrate, amazing, strong, celebrating, make, life, let, love, power, girls, incredible\n",
      "Topic 03: international, day, womens, fine, dedicating, woman, women, every, slaves, fighters, ladies, womxn, gigi, bryant, lahat\n",
      "Topic 04: today, justice, every, equality, gender, equal, equity, celebrations, societies, congratulations, recognise, remember, far, climate, want\n",
      "Topic 05: respect, elect, black, woman, believe, one, position, vote, please, every, love, fine, dedicating, give, man\n"
     ]
    }
   ],
   "source": [
    "for topic_index in range(k):\n",
    "    descriptor = get_descriptor( terms, H, topic_index, 15)\n",
    "    str_descriptor = \", \".join( descriptor )\n",
    "    print(\"Topic %02d: %s\" % ( topic_index+1, str_descriptor ) )"
   ]
  },
  {
   "cell_type": "code",
   "execution_count": 21,
   "metadata": {
    "ExecuteTime": {
     "end_time": "2021-05-22T00:05:28.575445Z",
     "start_time": "2021-05-22T00:05:28.564497Z"
    },
    "scrolled": true
   },
   "outputs": [
    {
     "name": "stdout",
     "output_type": "stream",
     "text": [
      "Topic 01: happy, day, everyday, ladies, women, everyone, spirit, friends, sisters, womanhood, ears, iwd, dear, define, ready, less, stay, incredible, beautiful, queen\n",
      "Topic 02: women, world, day, amp, celebrate, amazing, strong, celebrating, make, life, let, love, power, girls, incredible, proud, around, thank, work, rights\n",
      "Topic 03: international, day, womens, fine, dedicating, woman, women, every, slaves, fighters, ladies, womxn, gigi, bryant, lahat, precious, inventing, heroine, lorde, pure\n",
      "Topic 04: today, justice, every, equality, gender, equal, equity, celebrations, societies, congratulations, recognise, remember, far, climate, want, without, still, men, day, women\n",
      "Topic 05: respect, elect, black, woman, believe, one, position, vote, please, every, love, fine, dedicating, give, man, never, believed, support, superpower, right\n"
     ]
    }
   ],
   "source": [
    "for topic_index in range(k):\n",
    "    descriptor = get_descriptor( terms, H, topic_index, 20)\n",
    "    str_descriptor = \", \".join( descriptor )\n",
    "    print(\"Topic %02d: %s\" % ( topic_index+1, str_descriptor ) )"
   ]
  },
  {
   "cell_type": "markdown",
   "metadata": {},
   "source": [
    "# 10"
   ]
  },
  {
   "cell_type": "code",
   "execution_count": 22,
   "metadata": {
    "ExecuteTime": {
     "end_time": "2021-05-22T00:05:28.579045Z",
     "start_time": "2021-05-22T00:05:28.576610Z"
    }
   },
   "outputs": [],
   "source": [
    "k = 10 # best_k\n",
    "\n",
    "# get the model that we generated earlier.\n",
    "W = topic_models[1][1]\n",
    "H = topic_models[1][2]"
   ]
  },
  {
   "cell_type": "code",
   "execution_count": 23,
   "metadata": {
    "ExecuteTime": {
     "end_time": "2021-05-22T00:05:28.607852Z",
     "start_time": "2021-05-22T00:05:28.580182Z"
    }
   },
   "outputs": [
    {
     "name": "stdout",
     "output_type": "stream",
     "text": [
      "Topic 01: happy, everyday, day, ladies, sisters\n",
      "Topic 02: women, amazing, celebrating, day, celebrate\n",
      "Topic 03: day, international, womens, women, every\n",
      "Topic 04: today, justice, every, equality, celebrations\n",
      "Topic 05: respect, elect, black, believe, position\n",
      "Topic 06: woman, womens, fine, dedicating, international\n",
      "Topic 07: world, equal, enabled, around, let\n",
      "Topic 08: amp, love, thank, life, ladies\n",
      "Topic 09: need, single, work, pay, wondered\n",
      "Topic 10: best, compost, ever, turn, thing\n"
     ]
    }
   ],
   "source": [
    "for topic_index in range(k):\n",
    "    descriptor = get_descriptor( terms, H, topic_index, 5)\n",
    "    str_descriptor = \", \".join( descriptor )\n",
    "    print(\"Topic %02d: %s\" % ( topic_index+1, str_descriptor ) )"
   ]
  },
  {
   "cell_type": "code",
   "execution_count": 24,
   "metadata": {
    "ExecuteTime": {
     "end_time": "2021-05-22T00:05:28.629625Z",
     "start_time": "2021-05-22T00:05:28.610562Z"
    }
   },
   "outputs": [
    {
     "name": "stdout",
     "output_type": "stream",
     "text": [
      "Topic 01: happy, everyday, day, ladies, sisters, everyone, spirit, friends, iwd, womanhood\n",
      "Topic 02: women, amazing, celebrating, day, celebrate, power, make, incredible, strong, define\n",
      "Topic 03: day, international, womens, women, every, slaves, ladies, fighters, womxn, everyone\n",
      "Topic 04: today, justice, every, equality, celebrations, equity, congratulations, societies, recognise, remember\n",
      "Topic 05: respect, elect, black, believe, position, vote, please, one, woman, give\n",
      "Topic 06: woman, womens, fine, dedicating, international, believed, superpower, man, successful, every\n",
      "Topic 07: world, equal, enabled, around, let, equality, gender, across, better, make\n",
      "Topic 08: amp, love, thank, life, ladies, girls, strong, every, woman, follow\n",
      "Topic 09: need, single, work, pay, wondered, earn, poor, feminism, case, producing\n",
      "Topic 10: best, compost, ever, turn, thing, women, wishes, woman, one, right\n"
     ]
    }
   ],
   "source": [
    "for topic_index in range(k):\n",
    "    descriptor = get_descriptor( terms, H, topic_index, 10)\n",
    "    str_descriptor = \", \".join( descriptor )\n",
    "    print(\"Topic %02d: %s\" % ( topic_index+1, str_descriptor ) )"
   ]
  },
  {
   "cell_type": "code",
   "execution_count": 25,
   "metadata": {
    "ExecuteTime": {
     "end_time": "2021-05-22T00:05:28.649736Z",
     "start_time": "2021-05-22T00:05:28.631328Z"
    }
   },
   "outputs": [
    {
     "name": "stdout",
     "output_type": "stream",
     "text": [
      "Topic 01: happy, everyday, day, ladies, sisters, everyone, spirit, friends, iwd, womanhood, beautiful, ears, dear, less, stay\n",
      "Topic 02: women, amazing, celebrating, day, celebrate, power, make, incredible, strong, define, difference, proud, wonderful, inspire, powerful\n",
      "Topic 03: day, international, womens, women, every, slaves, ladies, fighters, womxn, everyone, one, precious, gigi, bryant, march\n",
      "Topic 04: today, justice, every, equality, celebrations, equity, congratulations, societies, recognise, remember, far, climate, gender, want, without\n",
      "Topic 05: respect, elect, black, believe, position, vote, please, one, woman, give, never, every, encourage, lift, support\n",
      "Topic 06: woman, womens, fine, dedicating, international, believed, superpower, man, successful, every, behind, benz, strong, bertha, magic\n",
      "Topic 07: world, equal, enabled, around, let, equality, gender, across, better, make, sisters, fight, celebrating, celebrate, girls\n",
      "Topic 08: amp, love, thank, life, ladies, girls, strong, every, woman, follow, like, know, win, celebrate, let\n",
      "Topic 09: need, single, work, pay, wondered, earn, poor, feminism, case, producing, population, parents, food, land, still\n",
      "Topic 10: best, compost, ever, turn, thing, women, wishes, woman, one, right, hijab, thaman, link, brag, got\n"
     ]
    }
   ],
   "source": [
    "for topic_index in range(k):\n",
    "    descriptor = get_descriptor( terms, H, topic_index, 15)\n",
    "    str_descriptor = \", \".join( descriptor )\n",
    "    print(\"Topic %02d: %s\" % ( topic_index+1, str_descriptor ) )"
   ]
  },
  {
   "cell_type": "code",
   "execution_count": 26,
   "metadata": {
    "ExecuteTime": {
     "end_time": "2021-05-22T00:05:28.669627Z",
     "start_time": "2021-05-22T00:05:28.651218Z"
    }
   },
   "outputs": [
    {
     "name": "stdout",
     "output_type": "stream",
     "text": [
      "Topic 01: happy, everyday, day, ladies, sisters, everyone, spirit, friends, iwd, womanhood, beautiful, ears, dear, less, stay, ready, extraordinary, wishing, incredible, queen\n",
      "Topic 02: women, amazing, celebrating, day, celebrate, power, make, incredible, strong, define, difference, proud, wonderful, inspire, powerful, team, trans, achievements, rights, especially\n",
      "Topic 03: day, international, womens, women, every, slaves, ladies, fighters, womxn, everyone, one, precious, gigi, bryant, march, lahat, really, generation, stay, today\n",
      "Topic 04: today, justice, every, equality, celebrations, equity, congratulations, societies, recognise, remember, far, climate, gender, want, without, still, men, equal, day, women\n",
      "Topic 05: respect, elect, black, believe, position, vote, please, one, woman, give, never, every, encourage, lift, support, set, let, trust, solely, based\n",
      "Topic 06: woman, womens, fine, dedicating, international, believed, superpower, man, successful, every, behind, benz, strong, bertha, magic, car, forever, tribute, lives, changed\n",
      "Topic 07: world, equal, enabled, around, let, equality, gender, across, better, make, sisters, fight, celebrating, celebrate, girls, extraordinary, achievements, things, full, place\n",
      "Topic 08: amp, love, thank, life, ladies, girls, strong, every, woman, follow, like, know, win, celebrate, let, chance, pop, female, may, many\n",
      "Topic 09: need, single, work, pay, wondered, earn, poor, feminism, case, producing, population, parents, food, land, still, one, men, america, right, lovely\n",
      "Topic 10: best, compost, ever, turn, thing, women, wishes, woman, one, right, hijab, thaman, link, brag, got, video, year, meilleur, man, yasmine\n"
     ]
    }
   ],
   "source": [
    "for topic_index in range(k):\n",
    "    descriptor = get_descriptor( terms, H, topic_index, 20)\n",
    "    str_descriptor = \", \".join( descriptor )\n",
    "    print(\"Topic %02d: %s\" % ( topic_index+1, str_descriptor ) )"
   ]
  },
  {
   "cell_type": "markdown",
   "metadata": {},
   "source": [
    "# 15"
   ]
  },
  {
   "cell_type": "code",
   "execution_count": 27,
   "metadata": {
    "ExecuteTime": {
     "end_time": "2021-05-22T00:05:28.673199Z",
     "start_time": "2021-05-22T00:05:28.670853Z"
    }
   },
   "outputs": [],
   "source": [
    "k = 15 # best_k\n",
    "\n",
    "# get the model that we generated earlier.\n",
    "W = topic_models[2][1]\n",
    "H = topic_models[2][2]"
   ]
  },
  {
   "cell_type": "code",
   "execution_count": 28,
   "metadata": {
    "ExecuteTime": {
     "end_time": "2021-05-22T00:05:28.705271Z",
     "start_time": "2021-05-22T00:05:28.674329Z"
    }
   },
   "outputs": [
    {
     "name": "stdout",
     "output_type": "stream",
     "text": [
      "Topic 01: happy, day, ladies, sisters, everyone\n",
      "Topic 02: women, day, amazing, celebrate, power\n",
      "Topic 03: day, international, womens, women, every\n",
      "Topic 04: today, justice, every, celebrations, equity\n",
      "Topic 05: respect, elect, black, believe, position\n",
      "Topic 06: woman, womens, fine, dedicating, international\n",
      "Topic 07: world, equal, let, enabled, around\n",
      "Topic 08: amp, follow, win, chance, pop\n",
      "Topic 09: proud, powerful, together, chilean, beautifully\n",
      "Topic 10: best, compost, ever, turn, thing\n",
      "Topic 11: celebrating, amazing, womanhood, spirit, female\n",
      "Topic 12: love, strong, ladies, may, thank\n",
      "Topic 13: need, single, work, pay, wondered\n",
      "Topic 14: galaxy, adventures, princess, rescuing, sometimes\n",
      "Topic 15: everyday, celebrate, today, let, incredible\n"
     ]
    }
   ],
   "source": [
    "for topic_index in range(k):\n",
    "    descriptor = get_descriptor( terms, H, topic_index, 5)\n",
    "    str_descriptor = \", \".join( descriptor )\n",
    "    print(\"Topic %02d: %s\" % ( topic_index+1, str_descriptor ) )"
   ]
  },
  {
   "cell_type": "code",
   "execution_count": 29,
   "metadata": {
    "ExecuteTime": {
     "end_time": "2021-05-22T00:05:28.732671Z",
     "start_time": "2021-05-22T00:05:28.706577Z"
    }
   },
   "outputs": [
    {
     "name": "stdout",
     "output_type": "stream",
     "text": [
      "Topic 01: happy, day, ladies, sisters, everyone, friends, spirit, womanhood, iwd, ears\n",
      "Topic 02: women, day, amazing, celebrate, power, make, incredible, define, difference, wonderful\n",
      "Topic 03: day, international, womens, women, every, slaves, fighters, ladies, march, womxn\n",
      "Topic 04: today, justice, every, celebrations, equity, congratulations, societies, equality, recognise, remember\n",
      "Topic 05: respect, elect, black, believe, position, vote, please, one, woman, every\n",
      "Topic 06: woman, womens, fine, dedicating, international, believed, every, superpower, man, successful\n",
      "Topic 07: world, equal, let, enabled, around, equality, gender, across, make, better\n",
      "Topic 08: amp, follow, win, chance, pop, girls, life, march, like, special\n",
      "Topic 09: proud, powerful, together, chilean, beautifully, bold, incredibly, come, showing, women\n",
      "Topic 10: best, compost, ever, turn, thing, women, wishes, woman, one, right\n",
      "Topic 11: celebrating, amazing, womanhood, spirit, female, inspire, back, achievements, time, today\n",
      "Topic 12: love, strong, ladies, may, thank, beautiful, know, woman, life, much\n",
      "Topic 13: need, single, work, pay, wondered, earn, poor, feminism, case, producing\n",
      "Topic 14: galaxy, adventures, princess, rescuing, sometimes, far, away, celebrate, peach, kart\n",
      "Topic 15: everyday, celebrate, today, let, incredible, shine, womanhood, girls, inspire, treat\n"
     ]
    }
   ],
   "source": [
    "for topic_index in range(k):\n",
    "    descriptor = get_descriptor( terms, H, topic_index, 10)\n",
    "    str_descriptor = \", \".join( descriptor )\n",
    "    print(\"Topic %02d: %s\" % ( topic_index+1, str_descriptor ) )"
   ]
  },
  {
   "cell_type": "code",
   "execution_count": 30,
   "metadata": {
    "ExecuteTime": {
     "end_time": "2021-05-22T00:05:28.759969Z",
     "start_time": "2021-05-22T00:05:28.733983Z"
    }
   },
   "outputs": [
    {
     "name": "stdout",
     "output_type": "stream",
     "text": [
      "Topic 01: happy, day, ladies, sisters, everyone, friends, spirit, womanhood, iwd, ears, dear, less, ready, get, beautiful\n",
      "Topic 02: women, day, amazing, celebrate, power, make, incredible, define, difference, wonderful, life, team, trans, inspire, rights\n",
      "Topic 03: day, international, womens, women, every, slaves, fighters, ladies, march, womxn, precious, everyone, gigi, really, one\n",
      "Topic 04: today, justice, every, celebrations, equity, congratulations, societies, equality, recognise, remember, far, climate, gender, want, without\n",
      "Topic 05: respect, elect, black, believe, position, vote, please, one, woman, every, give, never, support, encourage, lift\n",
      "Topic 06: woman, womens, fine, dedicating, international, believed, every, superpower, man, successful, behind, benz, bertha, car, magic\n",
      "Topic 07: world, equal, let, enabled, around, equality, gender, across, make, better, celebrate, fight, girls, sisters, extraordinary\n",
      "Topic 08: amp, follow, win, chance, pop, girls, life, march, like, special, celebrate, every, know, get, female\n",
      "Topic 09: proud, powerful, together, chilean, beautifully, bold, incredibly, come, showing, women, march, santiago, violence, streets, historic\n",
      "Topic 10: best, compost, ever, turn, thing, women, wishes, woman, one, right, hijab, thaman, link, brag, got\n",
      "Topic 11: celebrating, amazing, womanhood, spirit, female, inspire, back, achievements, time, today, bringing, changed, received, remarkable, award\n",
      "Topic 12: love, strong, ladies, may, thank, beautiful, know, woman, life, much, amazing, like, always, raise, one\n",
      "Topic 13: need, single, work, pay, wondered, earn, poor, feminism, case, producing, population, parents, food, land, still\n",
      "Topic 14: galaxy, adventures, princess, rescuing, sometimes, far, away, celebrate, peach, kart, mario, ally, play, using, many\n",
      "Topic 15: everyday, celebrate, today, let, incredible, shine, womanhood, girls, inspire, treat, shoutout, work, proud, get, forget\n"
     ]
    }
   ],
   "source": [
    "for topic_index in range(k):\n",
    "    descriptor = get_descriptor( terms, H, topic_index, 15)\n",
    "    str_descriptor = \", \".join( descriptor )\n",
    "    print(\"Topic %02d: %s\" % ( topic_index+1, str_descriptor ) )"
   ]
  },
  {
   "cell_type": "code",
   "execution_count": 31,
   "metadata": {
    "ExecuteTime": {
     "end_time": "2021-05-22T00:05:28.789299Z",
     "start_time": "2021-05-22T00:05:28.761799Z"
    }
   },
   "outputs": [
    {
     "name": "stdout",
     "output_type": "stream",
     "text": [
      "Topic 01: happy, day, ladies, sisters, everyone, friends, spirit, womanhood, iwd, ears, dear, less, ready, get, beautiful, extraordinary, wishing, stay, powerful, queen\n",
      "Topic 02: women, day, amazing, celebrate, power, make, incredible, define, difference, wonderful, life, team, trans, inspire, rights, strong, many, especially, lives, making\n",
      "Topic 03: day, international, womens, women, every, slaves, fighters, ladies, march, womxn, precious, everyone, gigi, really, one, bryant, today, lahat, via, stay\n",
      "Topic 04: today, justice, every, celebrations, equity, congratulations, societies, equality, recognise, remember, far, climate, gender, want, without, still, men, equal, day, women\n",
      "Topic 05: respect, elect, black, believe, position, vote, please, one, woman, every, give, never, support, encourage, lift, let, set, trust, stand, get\n",
      "Topic 06: woman, womens, fine, dedicating, international, believed, every, superpower, man, successful, behind, benz, bertha, car, magic, forever, lives, tribute, changed, real\n",
      "Topic 07: world, equal, let, enabled, around, equality, gender, across, make, better, celebrate, fight, girls, sisters, extraordinary, rights, things, generation, achievements, place\n",
      "Topic 08: amp, follow, win, chance, pop, girls, life, march, like, special, celebrate, every, know, get, female, let, support, mother, really, thank\n",
      "Topic 09: proud, powerful, together, chilean, beautifully, bold, incredibly, come, showing, women, march, santiago, violence, streets, historic, taken, set, amid, repression, ongoing\n",
      "Topic 10: best, compost, ever, turn, thing, women, wishes, woman, one, right, hijab, thaman, link, brag, got, year, video, get, man, meilleur\n",
      "Topic 11: celebrating, amazing, womanhood, spirit, female, inspire, back, achievements, time, today, bringing, changed, received, remarkable, award, playlist, artists, songs, choice, full\n",
      "Topic 12: love, strong, ladies, may, thank, beautiful, know, woman, life, much, amazing, like, always, raise, one, thanks, keep, first, girl, lots\n",
      "Topic 13: need, single, work, pay, wondered, earn, poor, feminism, case, producing, population, parents, food, land, still, one, men, right, america, lovely\n",
      "Topic 14: galaxy, adventures, princess, rescuing, sometimes, far, away, celebrate, peach, kart, mario, ally, play, using, many, today, queen, always, fairytale, shubhdevi\n",
      "Topic 15: everyday, celebrate, today, let, incredible, shine, womanhood, girls, inspire, treat, shoutout, work, proud, get, forget, ways, brilliant, lives, keep, queens\n"
     ]
    }
   ],
   "source": [
    "for topic_index in range(k):\n",
    "    descriptor = get_descriptor( terms, H, topic_index, 20)\n",
    "    str_descriptor = \", \".join( descriptor )\n",
    "    print(\"Topic %02d: %s\" % ( topic_index+1, str_descriptor ) )"
   ]
  },
  {
   "cell_type": "markdown",
   "metadata": {},
   "source": [
    "# 20"
   ]
  },
  {
   "cell_type": "code",
   "execution_count": 32,
   "metadata": {
    "ExecuteTime": {
     "end_time": "2021-05-22T00:05:28.793463Z",
     "start_time": "2021-05-22T00:05:28.790835Z"
    }
   },
   "outputs": [],
   "source": [
    "k = 20 # best_k\n",
    "\n",
    "# get the model that we generated earlier.\n",
    "W = topic_models[3][1]\n",
    "H = topic_models[3][2]"
   ]
  },
  {
   "cell_type": "code",
   "execution_count": 33,
   "metadata": {
    "ExecuteTime": {
     "end_time": "2021-05-22T00:05:28.830553Z",
     "start_time": "2021-05-22T00:05:28.794880Z"
    }
   },
   "outputs": [
    {
     "name": "stdout",
     "output_type": "stream",
     "text": [
      "Topic 01: happy, day, ladies, womens, sisters\n",
      "Topic 02: women, amazing, day, power, celebrate\n",
      "Topic 03: day, international, women, womens, every\n",
      "Topic 04: today, justice, every, celebrations, equity\n",
      "Topic 05: respect, elect, black, believe, position\n",
      "Topic 06: womens, fine, dedicating, international, woman\n",
      "Topic 07: world, equal, enabled, around, equality\n",
      "Topic 08: amp, girls, life, let, thank\n",
      "Topic 09: win, follow, chance, pop, amp\n",
      "Topic 10: best, compost, ever, turn, thing\n",
      "Topic 11: celebrating, womanhood, amazing, spirit, female\n",
      "Topic 12: love, thank, much, ladies, thanks\n",
      "Topic 13: need, work, pay, wondered, poor\n",
      "Topic 14: galaxy, adventures, princess, rescuing, sometimes\n",
      "Topic 15: woman, every, believed, successful, behind\n",
      "Topic 16: back, bringing, philippine, looking, covers\n",
      "Topic 17: one, men, america, right, lovely\n",
      "Topic 18: strong, may, ladies, know, beautiful\n",
      "Topic 19: everyday, celebrate, today, let, incredible\n",
      "Topic 20: proud, powerful, together, chilean, beautifully\n"
     ]
    }
   ],
   "source": [
    "for topic_index in range(k):\n",
    "    descriptor = get_descriptor( terms, H, topic_index, 5)\n",
    "    str_descriptor = \", \".join( descriptor )\n",
    "    print(\"Topic %02d: %s\" % ( topic_index+1, str_descriptor ) )"
   ]
  },
  {
   "cell_type": "code",
   "execution_count": 34,
   "metadata": {
    "ExecuteTime": {
     "end_time": "2021-05-22T00:05:28.862625Z",
     "start_time": "2021-05-22T00:05:28.832585Z"
    }
   },
   "outputs": [
    {
     "name": "stdout",
     "output_type": "stream",
     "text": [
      "Topic 01: happy, day, ladies, womens, sisters, everyone, friends, spirit, womanhood, iwd\n",
      "Topic 02: women, amazing, day, power, celebrate, make, incredible, define, difference, wonderful\n",
      "Topic 03: day, international, women, womens, every, slaves, fighters, ladies, march, womxn\n",
      "Topic 04: today, justice, every, celebrations, equity, congratulations, societies, equality, recognise, remember\n",
      "Topic 05: respect, elect, black, believe, position, vote, please, one, woman, give\n",
      "Topic 06: womens, fine, dedicating, international, woman, day, shittier, gay, disabled, muslim\n",
      "Topic 07: world, equal, enabled, around, equality, let, gender, across, better, make\n",
      "Topic 08: amp, girls, life, let, thank, celebrate, support, special, female, get\n",
      "Topic 09: win, follow, chance, pop, amp, retweet, post, winner, selected, 10th\n",
      "Topic 10: best, compost, ever, turn, thing, women, wishes, thaman, hijab, link\n",
      "Topic 11: celebrating, womanhood, amazing, spirit, female, inspire, achievements, today, time, received\n",
      "Topic 12: love, thank, much, ladies, thanks, lots, amazing, would, life, keep\n",
      "Topic 13: need, work, pay, wondered, poor, earn, case, feminism, producing, population\n",
      "Topic 14: galaxy, adventures, princess, rescuing, sometimes, far, away, peach, kart, mario\n",
      "Topic 15: woman, every, believed, successful, behind, man, superpower, benz, girl, human\n",
      "Topic 16: back, bringing, philippine, looking, covers, designs, revolution, bring, inspired, look\n",
      "Topic 17: one, men, america, right, lovely, drafted, privilege, afforded, except, solely\n",
      "Topic 18: strong, may, ladies, know, beautiful, raise, stay, always, powerful, female\n",
      "Topic 19: everyday, celebrate, today, let, incredible, shine, inspire, treat, womanhood, shoutout\n",
      "Topic 20: proud, powerful, together, chilean, beautifully, bold, incredibly, showing, come, women\n"
     ]
    }
   ],
   "source": [
    "for topic_index in range(k):\n",
    "    descriptor = get_descriptor( terms, H, topic_index, 10)\n",
    "    str_descriptor = \", \".join( descriptor )\n",
    "    print(\"Topic %02d: %s\" % ( topic_index+1, str_descriptor ) )"
   ]
  },
  {
   "cell_type": "code",
   "execution_count": 35,
   "metadata": {
    "ExecuteTime": {
     "end_time": "2021-05-22T00:05:28.895505Z",
     "start_time": "2021-05-22T00:05:28.863857Z"
    }
   },
   "outputs": [
    {
     "name": "stdout",
     "output_type": "stream",
     "text": [
      "Topic 01: happy, day, ladies, womens, sisters, everyone, friends, spirit, womanhood, iwd, dear, ears, less, ready, wishing\n",
      "Topic 02: women, amazing, day, power, celebrate, make, incredible, define, difference, wonderful, inspire, trans, team, life, especially\n",
      "Topic 03: day, international, women, womens, every, slaves, fighters, ladies, march, womxn, today, everyone, gigi, precious, bryant\n",
      "Topic 04: today, justice, every, celebrations, equity, congratulations, societies, equality, recognise, remember, far, climate, gender, want, without\n",
      "Topic 05: respect, elect, black, believe, position, vote, please, one, woman, give, encourage, lift, never, support, let\n",
      "Topic 06: womens, fine, dedicating, international, woman, day, shittier, gay, disabled, muslim, trans, color, especially, even, inventing\n",
      "Topic 07: world, equal, enabled, around, equality, let, gender, across, better, make, sisters, fight, extraordinary, things, celebrate\n",
      "Topic 08: amp, girls, life, let, thank, celebrate, support, special, female, get, march, like, mother, many, really\n",
      "Topic 09: win, follow, chance, pop, amp, retweet, post, winner, selected, 10th, open, like, giving, hashtag, tues\n",
      "Topic 10: best, compost, ever, turn, thing, women, wishes, thaman, hijab, link, right, brag, got, beautiful, meilleur\n",
      "Topic 11: celebrating, womanhood, amazing, spirit, female, inspire, achievements, today, time, received, remarkable, award, changed, playlist, artists\n",
      "Topic 12: love, thank, much, ladies, thanks, lots, amazing, would, life, keep, completion, addition, team, especially, first\n",
      "Topic 13: need, work, pay, wondered, poor, earn, case, feminism, producing, population, parents, food, land, single, still\n",
      "Topic 14: galaxy, adventures, princess, rescuing, sometimes, far, away, peach, kart, mario, celebrate, ally, play, using, many\n",
      "Topic 15: woman, every, believed, successful, behind, man, superpower, benz, girl, human, life, like, day, bertha, inspire\n",
      "Topic 16: back, bringing, philippine, looking, covers, designs, revolution, bring, inspired, look, time, perfect, india, years, great\n",
      "Topic 17: one, men, america, right, lovely, drafted, privilege, afforded, except, solely, denied, killed, war, sex, based\n",
      "Topic 18: strong, may, ladies, know, beautiful, raise, stay, always, powerful, female, brave, let, empower, wonderful, independent\n",
      "Topic 19: everyday, celebrate, today, let, incredible, shine, inspire, treat, womanhood, shoutout, around, proud, forget, queens, brilliant\n",
      "Topic 20: proud, powerful, together, chilean, beautifully, bold, incredibly, showing, come, women, march, santiago, violence, streets, historic\n"
     ]
    }
   ],
   "source": [
    "for topic_index in range(k):\n",
    "    descriptor = get_descriptor( terms, H, topic_index, 15)\n",
    "    str_descriptor = \", \".join( descriptor )\n",
    "    print(\"Topic %02d: %s\" % ( topic_index+1, str_descriptor ) )"
   ]
  },
  {
   "cell_type": "code",
   "execution_count": 36,
   "metadata": {
    "ExecuteTime": {
     "end_time": "2021-05-22T00:05:28.925648Z",
     "start_time": "2021-05-22T00:05:28.896753Z"
    }
   },
   "outputs": [
    {
     "name": "stdout",
     "output_type": "stream",
     "text": [
      "Topic 01: happy, day, ladies, womens, sisters, everyone, friends, spirit, womanhood, iwd, dear, ears, less, ready, wishing, get, extraordinary, beautiful, queen, powerful\n",
      "Topic 02: women, amazing, day, power, celebrate, make, incredible, define, difference, wonderful, inspire, trans, team, life, especially, rights, many, black, achievements, lives\n",
      "Topic 03: day, international, women, womens, every, slaves, fighters, ladies, march, womxn, today, everyone, gigi, precious, bryant, lahat, generation, stay, really, via\n",
      "Topic 04: today, justice, every, celebrations, equity, congratulations, societies, equality, recognise, remember, far, climate, gender, want, without, still, men, equal, day, women\n",
      "Topic 05: respect, elect, black, believe, position, vote, please, one, woman, give, encourage, lift, never, support, let, set, trust, tom, eyes, hesitant\n",
      "Topic 06: womens, fine, dedicating, international, woman, day, shittier, gay, disabled, muslim, trans, color, especially, even, inventing, heroine, place, lorde, pure, without\n",
      "Topic 07: world, equal, enabled, around, equality, let, gender, across, better, make, sisters, fight, extraordinary, things, celebrate, achievements, place, generation, justice, full\n",
      "Topic 08: amp, girls, life, let, thank, celebrate, support, special, female, get, march, like, mother, many, really, sisters, better, strength, fight, work\n",
      "Topic 09: win, follow, chance, pop, amp, retweet, post, winner, selected, 10th, open, like, giving, hashtag, tues, hours, enter, tag, march, using\n",
      "Topic 10: best, compost, ever, turn, thing, women, wishes, thaman, hijab, link, right, brag, got, beautiful, meilleur, video, open, one, get, yasmine\n",
      "Topic 11: celebrating, womanhood, amazing, spirit, female, inspire, achievements, today, time, received, remarkable, award, changed, playlist, artists, songs, choice, full, join, past\n",
      "Topic 12: love, thank, much, ladies, thanks, lots, amazing, would, life, keep, completion, addition, team, especially, first, beautiful, see, always, respect, even\n",
      "Topic 13: need, work, pay, wondered, poor, earn, case, feminism, producing, population, parents, food, land, single, still, message, believed, women, things, car\n",
      "Topic 14: galaxy, adventures, princess, rescuing, sometimes, far, away, peach, kart, mario, celebrate, ally, play, using, many, today, queen, fairytale, shubhdevi, adopting\n",
      "Topic 15: woman, every, believed, successful, behind, man, superpower, benz, girl, human, life, like, day, bertha, inspire, car, forever, rights, tribute, lives\n",
      "Topic 16: back, bringing, philippine, looking, covers, designs, revolution, bring, inspired, look, time, perfect, india, years, great, nation, canada, right, always, mother\n",
      "Topic 17: one, men, america, right, lovely, drafted, privilege, afforded, except, solely, denied, killed, war, sex, based, single, rights, average, grants, record\n",
      "Topic 18: strong, may, ladies, know, beautiful, raise, stay, always, powerful, female, brave, let, empower, wonderful, independent, choice, really, badass, artists, smart\n",
      "Topic 19: everyday, celebrate, today, let, incredible, shine, inspire, treat, womanhood, shoutout, around, proud, forget, queens, brilliant, ways, work, unstoppable, uplift, keep\n",
      "Topic 20: proud, powerful, together, chilean, beautifully, bold, incredibly, showing, come, women, march, santiago, violence, streets, historic, taken, amid, repression, uprising, ongoing\n"
     ]
    }
   ],
   "source": [
    "for topic_index in range(k):\n",
    "    descriptor = get_descriptor( terms, H, topic_index, 20)\n",
    "    str_descriptor = \", \".join( descriptor )\n",
    "    print(\"Topic %02d: %s\" % ( topic_index+1, str_descriptor ) )"
   ]
  }
 ],
 "metadata": {
  "@webio": {
   "lastCommId": null,
   "lastKernelId": null
  },
  "kernelspec": {
   "display_name": "Python 3",
   "language": "python",
   "name": "python3"
  },
  "language_info": {
   "codemirror_mode": {
    "name": "ipython",
    "version": 3
   },
   "file_extension": ".py",
   "mimetype": "text/x-python",
   "name": "python",
   "nbconvert_exporter": "python",
   "pygments_lexer": "ipython3",
   "version": "3.7.7"
  },
  "toc": {
   "base_numbering": 1,
   "nav_menu": {
    "height": "91px",
    "width": "373px"
   },
   "number_sections": true,
   "sideBar": true,
   "skip_h1_title": false,
   "title_cell": "Table of Contents",
   "title_sidebar": "Contents",
   "toc_cell": false,
   "toc_position": {
    "height": "557px",
    "left": "22px",
    "top": "170px",
    "width": "288px"
   },
   "toc_section_display": true,
   "toc_window_display": false
  }
 },
 "nbformat": 4,
 "nbformat_minor": 4
}
