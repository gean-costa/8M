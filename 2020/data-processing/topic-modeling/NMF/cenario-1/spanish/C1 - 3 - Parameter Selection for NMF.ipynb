{
 "cells": [
  {
   "cell_type": "markdown",
   "metadata": {},
   "source": [
    "# Parameter Selection for NMF"
   ]
  },
  {
   "cell_type": "markdown",
   "metadata": {},
   "source": [
    "Now we look at the more advanced task of parameter selection for NMF topic modelling - namely, selecting a useful value for the number of topics *k*."
   ]
  },
  {
   "cell_type": "markdown",
   "metadata": {},
   "source": [
    "First, let's load the TF-IDF normalised document-term matrix and list of terms that we stored earlier using *Joblib*:"
   ]
  },
  {
   "cell_type": "code",
   "execution_count": 1,
   "metadata": {
    "ExecuteTime": {
     "end_time": "2021-05-21T23:22:47.332022Z",
     "start_time": "2021-05-21T23:22:41.502631Z"
    }
   },
   "outputs": [
    {
     "name": "stdout",
     "output_type": "stream",
     "text": [
      "Loaded 1893892 X 28125 document-term matrix\n"
     ]
    }
   ],
   "source": [
    "import joblib\n",
    "\n",
    "(A, terms, snippets) = joblib.load(\"cenario1-tweets-tfidf.pkl\")\n",
    "\n",
    "print(\"Loaded %d X %d document-term matrix\" % (A.shape[0], A.shape[1]))"
   ]
  },
  {
   "cell_type": "markdown",
   "metadata": {},
   "source": [
    "### Create the Topic Models"
   ]
  },
  {
   "cell_type": "markdown",
   "metadata": {},
   "source": [
    "A common approach for parameter selection is to Measure and compare the topic coherence of models generated for different values of *k*."
   ]
  },
  {
   "cell_type": "markdown",
   "metadata": {},
   "source": [
    "We need to start by pre-specifying an initial range of \"sensible\" values:"
   ]
  },
  {
   "cell_type": "code",
   "execution_count": 2,
   "metadata": {
    "ExecuteTime": {
     "end_time": "2021-05-21T23:22:47.336121Z",
     "start_time": "2021-05-21T23:22:47.333753Z"
    }
   },
   "outputs": [],
   "source": [
    "kmin, kmax = 5, 20"
   ]
  },
  {
   "cell_type": "markdown",
   "metadata": {},
   "source": [
    "Apply NMF for each of these values:"
   ]
  },
  {
   "cell_type": "code",
   "execution_count": 3,
   "metadata": {
    "ExecuteTime": {
     "end_time": "2021-05-21T23:31:46.786440Z",
     "start_time": "2021-05-21T23:22:47.337585Z"
    }
   },
   "outputs": [
    {
     "name": "stdout",
     "output_type": "stream",
     "text": [
      "Applying NMF for k=5 ...\n",
      "Applying NMF for k=10 ...\n",
      "Applying NMF for k=15 ...\n",
      "Applying NMF for k=20 ...\n"
     ]
    }
   ],
   "source": [
    "from sklearn import decomposition\n",
    "\n",
    "topic_models = []\n",
    "\n",
    "# try each value of k\n",
    "for k in [5,10,15,20]: #range(kmin, kmax + 1):\n",
    "    print(\"Applying NMF for k=%d ...\" % k)\n",
    "    # run NMF\n",
    "    model = decomposition.NMF(init=\"nndsvd\", n_components=k)\n",
    "    W = model.fit_transform(A)\n",
    "    H = model.components_\n",
    "    # store for later\n",
    "    topic_models.append((k, W, H))"
   ]
  },
  {
   "cell_type": "markdown",
   "metadata": {},
   "source": [
    "### Build a Word Embedding"
   ]
  },
  {
   "cell_type": "markdown",
   "metadata": {},
   "source": [
    "To select the number of topics, here we will use a *topic coherence* measure called TC-W2V. This measure relies on the use of a *word embedding* model constructed from our corpus. So in this step we will use the *Gensim* implementation of Word2Vec to build a Word2Vec model based on our collection of news articles."
   ]
  },
  {
   "cell_type": "markdown",
   "metadata": {},
   "source": [
    "**Note:** If you want to skip this step, a pre-built Word2Vec model for the sample dataset [is also provided here for download](http://erdos.ucd.ie/files/pydata/w2v-model.bin) (71MB)."
   ]
  },
  {
   "cell_type": "markdown",
   "metadata": {},
   "source": [
    "We read the documents from the input file again:"
   ]
  },
  {
   "cell_type": "code",
   "execution_count": 4,
   "metadata": {
    "ExecuteTime": {
     "end_time": "2021-05-21T23:31:48.375588Z",
     "start_time": "2021-05-21T23:31:46.788068Z"
    }
   },
   "outputs": [
    {
     "name": "stdout",
     "output_type": "stream",
     "text": [
      "Read 1893892 raw text documents\n"
     ]
    }
   ],
   "source": [
    "import os.path\n",
    "\n",
    "raw_documents = []\n",
    "\n",
    "with open(os.path.join(\"../../../../../data-pre-processing/2csv/cenario1_8M2020_tweets_es.txt\"), \"r\") as fin:\n",
    "    for line in fin.readlines():\n",
    "        raw_documents.append(line.strip().lower())\n",
    "\n",
    "print(\"Read %d raw text documents\" % len(raw_documents))"
   ]
  },
  {
   "cell_type": "markdown",
   "metadata": {},
   "source": [
    "Read the custom stopword list:"
   ]
  },
  {
   "cell_type": "code",
   "execution_count": 5,
   "metadata": {
    "ExecuteTime": {
     "end_time": "2021-05-21T23:31:48.407549Z",
     "start_time": "2021-05-21T23:31:48.376916Z"
    }
   },
   "outputs": [
    {
     "name": "stdout",
     "output_type": "stream",
     "text": [
      "Stopword list has 313 entries\n"
     ]
    }
   ],
   "source": [
    "custom_stop_words = []\n",
    "\n",
    "with open(\"spanish.txt\", \"r\") as fin:\n",
    "    for line in fin.readlines():\n",
    "        custom_stop_words.append(line.strip().lower())\n",
    "\n",
    "# note that we need to make it hashable\n",
    "print(\"Stopword list has %d entries\" % len(custom_stop_words))"
   ]
  },
  {
   "cell_type": "markdown",
   "metadata": {},
   "source": [
    "First, we need to define a class that will generate documents in a form that can be consumed by Gensim's Word2Vec implementation:"
   ]
  },
  {
   "cell_type": "code",
   "execution_count": 6,
   "metadata": {
    "ExecuteTime": {
     "end_time": "2021-05-21T23:31:48.424243Z",
     "start_time": "2021-05-21T23:31:48.408795Z"
    }
   },
   "outputs": [],
   "source": [
    "import re\n",
    "\n",
    "\n",
    "class TokenGenerator:\n",
    "    def __init__(self, documents, stopwords):\n",
    "        self.documents = documents\n",
    "        self.stopwords = stopwords\n",
    "        self.tokenizer = re.compile(r\"(?u)\\b\\w\\w+\\b\")\n",
    "\n",
    "    def __iter__(self):\n",
    "        print(\"Building Word2Vec model ...\")\n",
    "        for doc in self.documents:\n",
    "            tokens = []\n",
    "            for tok in self.tokenizer.findall(doc):\n",
    "                if tok in self.stopwords:\n",
    "                    tokens.append(\"<stopword>\")\n",
    "                elif len(tok) >= 2:\n",
    "                    tokens.append(tok)\n",
    "            yield tokens"
   ]
  },
  {
   "cell_type": "markdown",
   "metadata": {},
   "source": [
    "Now build a Skipgram Word2Vec model from all documents in the input file using *Gensim*:"
   ]
  },
  {
   "cell_type": "code",
   "execution_count": 7,
   "metadata": {
    "ExecuteTime": {
     "end_time": "2021-05-21T23:31:49.059150Z",
     "start_time": "2021-05-21T23:31:48.426316Z"
    }
   },
   "outputs": [],
   "source": [
    "import gensim"
   ]
  },
  {
   "cell_type": "code",
   "execution_count": 8,
   "metadata": {
    "ExecuteTime": {
     "end_time": "2021-05-21T23:46:18.138853Z",
     "start_time": "2021-05-21T23:31:49.060916Z"
    }
   },
   "outputs": [
    {
     "name": "stdout",
     "output_type": "stream",
     "text": [
      "Building Word2Vec model ...\n",
      "Building Word2Vec model ...\n",
      "Building Word2Vec model ...\n",
      "Building Word2Vec model ...\n",
      "Building Word2Vec model ...\n",
      "Building Word2Vec model ...\n"
     ]
    }
   ],
   "source": [
    "\n",
    "\n",
    "docgen = TokenGenerator(raw_documents, custom_stop_words)\n",
    "\n",
    "# the model has 500 dimensions, the minimum document-term frequency is 20\n",
    "w2v_model = gensim.models.Word2Vec(docgen, size=500, min_count=20, sg=1)"
   ]
  },
  {
   "cell_type": "code",
   "execution_count": 9,
   "metadata": {
    "ExecuteTime": {
     "end_time": "2021-05-21T23:46:18.143107Z",
     "start_time": "2021-05-21T23:46:18.140229Z"
    }
   },
   "outputs": [
    {
     "name": "stdout",
     "output_type": "stream",
     "text": [
      "Model has 28282 terms\n"
     ]
    }
   ],
   "source": [
    "print( \"Model has %d terms\" % len(w2v_model.wv.vocab) )"
   ]
  },
  {
   "cell_type": "markdown",
   "metadata": {},
   "source": [
    "Save for later use, so that we do not need to rebuild it:"
   ]
  },
  {
   "cell_type": "code",
   "execution_count": 10,
   "metadata": {
    "ExecuteTime": {
     "end_time": "2021-05-21T23:46:18.279591Z",
     "start_time": "2021-05-21T23:46:18.144300Z"
    }
   },
   "outputs": [],
   "source": [
    "w2v_model.save(\"cenario1_w2v-model.bin\")"
   ]
  },
  {
   "cell_type": "code",
   "execution_count": 11,
   "metadata": {
    "ExecuteTime": {
     "end_time": "2021-05-21T23:46:18.282612Z",
     "start_time": "2021-05-21T23:46:18.280930Z"
    }
   },
   "outputs": [],
   "source": [
    "# To re-load this model, run\n",
    "# w2v_model = gensim.models.Word2Vec.load(\"cenario1_w2v-model.bin\")"
   ]
  },
  {
   "cell_type": "markdown",
   "metadata": {},
   "source": [
    "### Selecting the Number of Topics"
   ]
  },
  {
   "cell_type": "markdown",
   "metadata": {},
   "source": [
    "Once we have our Word2vec model, we can use it as part of our *topic coherence* approach to evaluate the different NMF topic models that we created previously. To do this, we will implement a simple version of the TC-W2V coherence measure."
   ]
  },
  {
   "cell_type": "markdown",
   "metadata": {},
   "source": [
    "We use the Word2vec model to calculate coherence scores for each of these models. We will define this coherence score as follows:"
   ]
  },
  {
   "cell_type": "code",
   "execution_count": 50,
   "metadata": {
    "ExecuteTime": {
     "end_time": "2021-05-21T23:53:30.941342Z",
     "start_time": "2021-05-21T23:53:30.936979Z"
    }
   },
   "outputs": [],
   "source": [
    "def calculate_coherence(w2v_model, term_rankings):\n",
    "    overall_coherence = 0.0\n",
    "    \n",
    "    for topic_index in range(len(term_rankings)):\n",
    "        # check each pair of terms\n",
    "        pair_scores = []\n",
    "        for pair in combinations(term_rankings[topic_index], 2):\n",
    "            pair_scores.append(w2v_model.similarity(pair[0], pair[1]))\n",
    "        # get the mean for all pairs in this topic\n",
    "        topic_score = sum(pair_scores) / len(pair_scores)\n",
    "        overall_coherence += topic_score\n",
    "    \n",
    "    # get the mean score across all topics\n",
    "    return overall_coherence / len(term_rankings)"
   ]
  },
  {
   "cell_type": "markdown",
   "metadata": {},
   "source": [
    "We also define a function to get the topic descriptor (i.e. list of top terms) for each topic:"
   ]
  },
  {
   "cell_type": "code",
   "execution_count": 51,
   "metadata": {
    "ExecuteTime": {
     "end_time": "2021-05-21T23:53:32.300916Z",
     "start_time": "2021-05-21T23:53:32.297174Z"
    }
   },
   "outputs": [],
   "source": [
    "import numpy as np\n",
    "\n",
    "\n",
    "def get_descriptor(all_terms, H, topic_index, top):\n",
    "    # reverse sort the values to sort the indices\n",
    "    top_indices = np.argsort(H[topic_index, :])[::-1]\n",
    "    \n",
    "    # now get the terms corresponding to the top-ranked indices\n",
    "    top_terms = []\n",
    "    \n",
    "    for term_index in top_indices[0:top]:\n",
    "        top_terms.append(all_terms[term_index])\n",
    "    \n",
    "    return top_terms"
   ]
  },
  {
   "cell_type": "markdown",
   "metadata": {},
   "source": [
    "Now process each of the models for different values of *k*:"
   ]
  },
  {
   "cell_type": "code",
   "execution_count": 52,
   "metadata": {
    "ExecuteTime": {
     "end_time": "2021-05-21T23:53:33.469771Z",
     "start_time": "2021-05-21T23:53:33.365551Z"
    }
   },
   "outputs": [
    {
     "name": "stdout",
     "output_type": "stream",
     "text": [
      "K=05: Coherence=0.2453\n",
      "K=10: Coherence=0.3117\n",
      "K=15: Coherence=0.2920\n",
      "K=20: Coherence=0.2821\n"
     ]
    },
    {
     "name": "stderr",
     "output_type": "stream",
     "text": [
      "/home/gean/anaconda3/lib/python3.7/site-packages/ipykernel_launcher.py:8: DeprecationWarning: Call to deprecated `similarity` (Method will be removed in 4.0.0, use self.wv.similarity() instead).\n",
      "  \n"
     ]
    }
   ],
   "source": [
    "from itertools import combinations\n",
    "\n",
    "k_values = []\n",
    "coherences = []\n",
    "\n",
    "for (k, W, H) in topic_models:\n",
    "    # Get all of the topic descriptors - the term_rankings, based on top 10 terms\n",
    "    term_rankings = []\n",
    "    \n",
    "    for topic_index in range(k):\n",
    "        term_rankings.append(get_descriptor(terms, H, topic_index, 5))\n",
    "    \n",
    "    # Now calculate the coherence based on our Word2vec model\n",
    "    k_values.append(k)\n",
    "    coherences.append(calculate_coherence(w2v_model, term_rankings))\n",
    "    \n",
    "    print(\"K=%02d: Coherence=%.4f\" % (k, coherences[-1]))\n",
    "    # print(f'{coherences[-1]:.4f}')"
   ]
  },
  {
   "cell_type": "markdown",
   "metadata": {},
   "source": [
    "We can now use *matplotlib* to generate a line plot of these coherence scores, to help us select an appropriate value."
   ]
  },
  {
   "cell_type": "code",
   "execution_count": 53,
   "metadata": {
    "ExecuteTime": {
     "end_time": "2021-05-21T23:53:37.022295Z",
     "start_time": "2021-05-21T23:53:37.017494Z"
    }
   },
   "outputs": [],
   "source": [
    "%matplotlib inline\n",
    "import matplotlib\n",
    "import matplotlib.pyplot as plt\n",
    "\n",
    "plt.style.use(\"ggplot\")\n",
    "matplotlib.rcParams.update({\"font.size\": 14})"
   ]
  },
  {
   "cell_type": "code",
   "execution_count": 54,
   "metadata": {
    "ExecuteTime": {
     "end_time": "2021-05-21T23:53:38.701336Z",
     "start_time": "2021-05-21T23:53:38.530889Z"
    }
   },
   "outputs": [
    {
     "data": {
      "image/png": "[encoded data removed]",
      "text/plain": [
       "<Figure size 936x504 with 1 Axes>"
      ]
     },
     "metadata": {},
     "output_type": "display_data"
    }
   ],
   "source": [
    "fig = plt.figure(figsize=(13,7))\n",
    "\n",
    "# create the line plot\n",
    "ax = plt.plot( k_values, coherences )\n",
    "plt.xticks(k_values)\n",
    "plt.xlabel(\"Number of Topics\")\n",
    "plt.ylabel(\"Mean Coherence\")\n",
    "\n",
    "# add the points\n",
    "plt.scatter( k_values, coherences, s=120)\n",
    "\n",
    "\n",
    "# find and annotate the maximum point on the plot\n",
    "ymax = max(coherences)\n",
    "xpos = coherences.index(ymax)\n",
    "best_k = k_values[xpos]\n",
    "plt.annotate( \"k=%d\" % best_k, xy=(best_k, ymax), xytext=(best_k, ymax), textcoords=\"offset points\", fontsize=16)\n",
    "\n",
    "# show the plot\n",
    "plt.show()"
   ]
  },
  {
   "cell_type": "markdown",
   "metadata": {
    "ExecuteTime": {
     "end_time": "2021-05-21T23:51:33.169982Z",
     "start_time": "2021-05-21T23:51:33.167960Z"
    }
   },
   "source": [
    "# 10"
   ]
  },
  {
   "cell_type": "code",
   "execution_count": 55,
   "metadata": {
    "ExecuteTime": {
     "end_time": "2021-05-21T23:53:42.624172Z",
     "start_time": "2021-05-21T23:53:42.459206Z"
    }
   },
   "outputs": [
    {
     "name": "stdout",
     "output_type": "stream",
     "text": [
      "K=05: Coherence=0.2094\n",
      "K=10: Coherence=0.2676\n",
      "K=15: Coherence=0.2437\n",
      "K=20: Coherence=0.2506\n"
     ]
    },
    {
     "name": "stderr",
     "output_type": "stream",
     "text": [
      "/home/gean/anaconda3/lib/python3.7/site-packages/ipykernel_launcher.py:8: DeprecationWarning: Call to deprecated `similarity` (Method will be removed in 4.0.0, use self.wv.similarity() instead).\n",
      "  \n"
     ]
    }
   ],
   "source": [
    "from itertools import combinations\n",
    "\n",
    "k_values = []\n",
    "coherences = []\n",
    "\n",
    "for (k, W, H) in topic_models:\n",
    "    # Get all of the topic descriptors - the term_rankings, based on top 10 terms\n",
    "    term_rankings = []\n",
    "    \n",
    "    for topic_index in range(k):\n",
    "        term_rankings.append(get_descriptor(terms, H, topic_index, 10))\n",
    "    \n",
    "    # Now calculate the coherence based on our Word2vec model\n",
    "    k_values.append(k)\n",
    "    coherences.append(calculate_coherence(w2v_model, term_rankings))\n",
    "    \n",
    "    print(\"K=%02d: Coherence=%.4f\" % (k, coherences[-1]))\n",
    "    # print(f'{coherences[-1]:.4f}')"
   ]
  },
  {
   "cell_type": "code",
   "execution_count": 56,
   "metadata": {
    "ExecuteTime": {
     "end_time": "2021-05-21T23:53:43.615771Z",
     "start_time": "2021-05-21T23:53:43.450527Z"
    }
   },
   "outputs": [
    {
     "data": {
      "image/png": "[encoded data removed]",
      "text/plain": [
       "<Figure size 936x504 with 1 Axes>"
      ]
     },
     "metadata": {},
     "output_type": "display_data"
    }
   ],
   "source": [
    "fig = plt.figure(figsize=(13,7))\n",
    "\n",
    "# create the line plot\n",
    "ax = plt.plot( k_values, coherences )\n",
    "plt.xticks(k_values)\n",
    "plt.xlabel(\"Number of Topics\")\n",
    "plt.ylabel(\"Mean Coherence\")\n",
    "\n",
    "# add the points\n",
    "plt.scatter( k_values, coherences, s=120)\n",
    "\n",
    "\n",
    "# find and annotate the maximum point on the plot\n",
    "ymax = max(coherences)\n",
    "xpos = coherences.index(ymax)\n",
    "best_k = k_values[xpos]\n",
    "plt.annotate( \"k=%d\" % best_k, xy=(best_k, ymax), xytext=(best_k, ymax), textcoords=\"offset points\", fontsize=16)\n",
    "\n",
    "# show the plot\n",
    "plt.show()"
   ]
  },
  {
   "cell_type": "markdown",
   "metadata": {},
   "source": [
    "# 15"
   ]
  },
  {
   "cell_type": "code",
   "execution_count": 57,
   "metadata": {
    "ExecuteTime": {
     "end_time": "2021-05-21T23:53:49.599249Z",
     "start_time": "2021-05-21T23:53:49.338819Z"
    }
   },
   "outputs": [
    {
     "name": "stderr",
     "output_type": "stream",
     "text": [
      "/home/gean/anaconda3/lib/python3.7/site-packages/ipykernel_launcher.py:8: DeprecationWarning: Call to deprecated `similarity` (Method will be removed in 4.0.0, use self.wv.similarity() instead).\n",
      "  \n"
     ]
    },
    {
     "name": "stdout",
     "output_type": "stream",
     "text": [
      "K=05: Coherence=0.2005\n",
      "K=10: Coherence=0.2254\n",
      "K=15: Coherence=0.2137\n",
      "K=20: Coherence=0.2185\n"
     ]
    }
   ],
   "source": [
    "from itertools import combinations\n",
    "\n",
    "k_values = []\n",
    "coherences = []\n",
    "\n",
    "for (k, W, H) in topic_models:\n",
    "    # Get all of the topic descriptors - the term_rankings, based on top 10 terms\n",
    "    term_rankings = []\n",
    "    \n",
    "    for topic_index in range(k):\n",
    "        term_rankings.append(get_descriptor(terms, H, topic_index, 15))\n",
    "    \n",
    "    # Now calculate the coherence based on our Word2vec model\n",
    "    k_values.append(k)\n",
    "    coherences.append(calculate_coherence(w2v_model, term_rankings))\n",
    "    \n",
    "    print(\"K=%02d: Coherence=%.4f\" % (k, coherences[-1]))\n",
    "    # print(f'{coherences[-1]:.4f}')"
   ]
  },
  {
   "cell_type": "code",
   "execution_count": 58,
   "metadata": {
    "ExecuteTime": {
     "end_time": "2021-05-21T23:53:51.379224Z",
     "start_time": "2021-05-21T23:53:51.219639Z"
    }
   },
   "outputs": [
    {
     "data": {
      "image/png": "[encoded data removed]",
      "text/plain": [
       "<Figure size 936x504 with 1 Axes>"
      ]
     },
     "metadata": {},
     "output_type": "display_data"
    }
   ],
   "source": [
    "fig = plt.figure(figsize=(13,7))\n",
    "\n",
    "# create the line plot\n",
    "ax = plt.plot( k_values, coherences )\n",
    "plt.xticks(k_values)\n",
    "plt.xlabel(\"Number of Topics\")\n",
    "plt.ylabel(\"Mean Coherence\")\n",
    "\n",
    "# add the points\n",
    "plt.scatter( k_values, coherences, s=120)\n",
    "\n",
    "\n",
    "# find and annotate the maximum point on the plot\n",
    "ymax = max(coherences)\n",
    "xpos = coherences.index(ymax)\n",
    "best_k = k_values[xpos]\n",
    "plt.annotate( \"k=%d\" % best_k, xy=(best_k, ymax), xytext=(best_k, ymax), textcoords=\"offset points\", fontsize=16)\n",
    "\n",
    "# show the plot\n",
    "plt.show()"
   ]
  },
  {
   "cell_type": "markdown",
   "metadata": {},
   "source": [
    "# 20"
   ]
  },
  {
   "cell_type": "code",
   "execution_count": 59,
   "metadata": {
    "ExecuteTime": {
     "end_time": "2021-05-21T23:53:57.094754Z",
     "start_time": "2021-05-21T23:53:56.671117Z"
    }
   },
   "outputs": [
    {
     "name": "stderr",
     "output_type": "stream",
     "text": [
      "/home/gean/anaconda3/lib/python3.7/site-packages/ipykernel_launcher.py:8: DeprecationWarning: Call to deprecated `similarity` (Method will be removed in 4.0.0, use self.wv.similarity() instead).\n",
      "  \n"
     ]
    },
    {
     "name": "stdout",
     "output_type": "stream",
     "text": [
      "K=05: Coherence=0.2004\n",
      "K=10: Coherence=0.1984\n",
      "K=15: Coherence=0.1942\n",
      "K=20: Coherence=0.1990\n"
     ]
    }
   ],
   "source": [
    "from itertools import combinations\n",
    "\n",
    "k_values = []\n",
    "coherences = []\n",
    "\n",
    "for (k, W, H) in topic_models:\n",
    "    # Get all of the topic descriptors - the term_rankings, based on top 10 terms\n",
    "    term_rankings = []\n",
    "    \n",
    "    for topic_index in range(k):\n",
    "        term_rankings.append(get_descriptor(terms, H, topic_index, 20))\n",
    "    \n",
    "    # Now calculate the coherence based on our Word2vec model\n",
    "    k_values.append(k)\n",
    "    coherences.append(calculate_coherence(w2v_model, term_rankings))\n",
    "    \n",
    "    print(\"K=%02d: Coherence=%.4f\" % (k, coherences[-1]))\n",
    "    # print(f'{coherences[-1]:.4f}')"
   ]
  },
  {
   "cell_type": "code",
   "execution_count": 60,
   "metadata": {
    "ExecuteTime": {
     "end_time": "2021-05-21T23:53:59.302480Z",
     "start_time": "2021-05-21T23:53:59.116378Z"
    }
   },
   "outputs": [
    {
     "data": {
      "image/png": "[encoded data removed]",
      "text/plain": [
       "<Figure size 936x504 with 1 Axes>"
      ]
     },
     "metadata": {},
     "output_type": "display_data"
    }
   ],
   "source": [
    "fig = plt.figure(figsize=(13,7))\n",
    "\n",
    "# create the line plot\n",
    "ax = plt.plot( k_values, coherences )\n",
    "plt.xticks(k_values)\n",
    "plt.xlabel(\"Number of Topics\")\n",
    "plt.ylabel(\"Mean Coherence\")\n",
    "\n",
    "# add the points\n",
    "plt.scatter( k_values, coherences, s=120)\n",
    "\n",
    "\n",
    "# find and annotate the maximum point on the plot\n",
    "ymax = max(coherences)\n",
    "xpos = coherences.index(ymax)\n",
    "best_k = k_values[xpos]\n",
    "plt.annotate( \"k=%d\" % best_k, xy=(best_k, ymax), xytext=(best_k, ymax), textcoords=\"offset points\", fontsize=16)\n",
    "\n",
    "# show the plot\n",
    "plt.show()"
   ]
  },
  {
   "cell_type": "markdown",
   "metadata": {},
   "source": [
    "### Examine the Final  Model"
   ]
  },
  {
   "cell_type": "markdown",
   "metadata": {},
   "source": [
    "The plot above suggests that the most appropriate value for the number of topics is *k=8*."
   ]
  },
  {
   "cell_type": "markdown",
   "metadata": {},
   "source": [
    "# 5"
   ]
  },
  {
   "cell_type": "code",
   "execution_count": 61,
   "metadata": {
    "ExecuteTime": {
     "end_time": "2021-05-21T23:54:40.437620Z",
     "start_time": "2021-05-21T23:54:40.434782Z"
    }
   },
   "outputs": [],
   "source": [
    "k = 5 # best_k\n",
    "\n",
    "# get the model that we generated earlier.\n",
    "W = topic_models[0][1]\n",
    "H = topic_models[0][2]"
   ]
  },
  {
   "cell_type": "code",
   "execution_count": 62,
   "metadata": {
    "ExecuteTime": {
     "end_time": "2021-05-21T23:54:41.456719Z",
     "start_time": "2021-05-21T23:54:41.444277Z"
    }
   },
   "outputs": [
    {
     "name": "stdout",
     "output_type": "stream",
     "text": [
      "Topic 01: feliz, falte, ninguna, dia, ser\n",
      "Topic 02: mujeres, hoy, todas, lucha, marcha\n",
      "Topic 03: vivas, quemadas, huelga, marzo, gozamos\n",
      "Topic 04: quiero, tranquila, caminar, flores, calle\n",
      "Topic 05: dia, mujer, internacional, feliz, paz\n"
     ]
    }
   ],
   "source": [
    "for topic_index in range(k):\n",
    "    descriptor = get_descriptor( terms, H, topic_index, 5)\n",
    "    str_descriptor = \", \".join( descriptor )\n",
    "    print(\"Topic %02d: %s\" % ( topic_index+1, str_descriptor ) )"
   ]
  },
  {
   "cell_type": "code",
   "execution_count": 63,
   "metadata": {
    "ExecuteTime": {
     "end_time": "2021-05-21T23:54:42.904268Z",
     "start_time": "2021-05-21T23:54:42.891532Z"
    }
   },
   "outputs": [
    {
     "name": "stdout",
     "output_type": "stream",
     "text": [
      "Topic 01: feliz, falte, ninguna, dia, ser, todas, dias, estan, fiesta, volvieron\n",
      "Topic 02: mujeres, hoy, todas, lucha, marcha, mundo, siempre, pais, violencia, manana\n",
      "Topic 03: vivas, quemadas, huelga, marzo, gozamos, trabajadoras, valia, festejo, respeto, lograr\n",
      "Topic 04: quiero, tranquila, caminar, flores, calle, poder, jajaja, tias, follo, vencidas\n",
      "Topic 05: dia, mujer, internacional, feliz, paz, dejen, vivir, encapuchadas, hoy, gran\n"
     ]
    }
   ],
   "source": [
    "for topic_index in range(k):\n",
    "    descriptor = get_descriptor( terms, H, topic_index, 10)\n",
    "    str_descriptor = \", \".join( descriptor )\n",
    "    print(\"Topic %02d: %s\" % ( topic_index+1, str_descriptor ) )"
   ]
  },
  {
   "cell_type": "code",
   "execution_count": 64,
   "metadata": {
    "ExecuteTime": {
     "end_time": "2021-05-21T23:54:43.736524Z",
     "start_time": "2021-05-21T23:54:43.723881Z"
    }
   },
   "outputs": [
    {
     "name": "stdout",
     "output_type": "stream",
     "text": [
      "Topic 01: feliz, falte, ninguna, dia, ser, todas, dias, estan, fiesta, volvieron, debemos, amigues, matarnos, proximo, super\n",
      "Topic 02: mujeres, hoy, todas, lucha, marcha, mundo, siempre, pais, violencia, manana, vamos, aquellas, sido, gracias, calles\n",
      "Topic 03: vivas, quemadas, huelga, marzo, gozamos, trabajadoras, valia, festejo, respeto, lograr, conmemoracion, derechos, hacer, ahora, queremos\n",
      "Topic 04: quiero, tranquila, caminar, flores, calle, poder, jajaja, tias, follo, vencidas, fea, novio, sororidad, resto, nunca\n",
      "Topic 05: dia, mujer, internacional, feliz, paz, dejen, vivir, encapuchadas, hoy, gran, aplauso, realizaban, estatua, vandalizaban, madero\n"
     ]
    }
   ],
   "source": [
    "for topic_index in range(k):\n",
    "    descriptor = get_descriptor( terms, H, topic_index, 15)\n",
    "    str_descriptor = \", \".join( descriptor )\n",
    "    print(\"Topic %02d: %s\" % ( topic_index+1, str_descriptor ) )"
   ]
  },
  {
   "cell_type": "code",
   "execution_count": 65,
   "metadata": {
    "ExecuteTime": {
     "end_time": "2021-05-21T23:54:44.389449Z",
     "start_time": "2021-05-21T23:54:44.376968Z"
    }
   },
   "outputs": [
    {
     "name": "stdout",
     "output_type": "stream",
     "text": [
      "Topic 01: feliz, falte, ninguna, dia, ser, todas, dias, estan, fiesta, volvieron, debemos, amigues, matarnos, proximo, super, liga, decime, social, femicidios, avisar\n",
      "Topic 02: mujeres, hoy, todas, lucha, marcha, mundo, siempre, pais, violencia, manana, vamos, aquellas, sido, gracias, calles, cambiar, llena, pudieron, sepan, vano\n",
      "Topic 03: vivas, quemadas, huelga, marzo, gozamos, trabajadoras, valia, festejo, respeto, lograr, conmemoracion, derechos, hacer, ahora, queremos, libres, miedo, yang, cristina, deseen\n",
      "Topic 04: quiero, tranquila, caminar, flores, calle, poder, jajaja, tias, follo, vencidas, fea, novio, sororidad, resto, nunca, hermanas, ano, unidas, ser, puedo\n",
      "Topic 05: dia, mujer, internacional, feliz, paz, dejen, vivir, encapuchadas, hoy, gran, aplauso, realizaban, estatua, vandalizaban, madero, contiene, artes, delincuentes, bellas, destrozos\n"
     ]
    }
   ],
   "source": [
    "for topic_index in range(k):\n",
    "    descriptor = get_descriptor( terms, H, topic_index, 20)\n",
    "    str_descriptor = \", \".join( descriptor )\n",
    "    print(\"Topic %02d: %s\" % ( topic_index+1, str_descriptor ) )"
   ]
  },
  {
   "cell_type": "markdown",
   "metadata": {},
   "source": [
    "# 10"
   ]
  },
  {
   "cell_type": "code",
   "execution_count": 66,
   "metadata": {
    "ExecuteTime": {
     "end_time": "2021-05-21T23:54:45.549642Z",
     "start_time": "2021-05-21T23:54:45.546870Z"
    }
   },
   "outputs": [],
   "source": [
    "k = 10 # best_k\n",
    "\n",
    "# get the model that we generated earlier.\n",
    "W = topic_models[1][1]\n",
    "H = topic_models[1][2]"
   ]
  },
  {
   "cell_type": "code",
   "execution_count": 67,
   "metadata": {
    "ExecuteTime": {
     "end_time": "2021-05-21T23:54:46.164024Z",
     "start_time": "2021-05-21T23:54:46.142594Z"
    }
   },
   "outputs": [
    {
     "name": "stdout",
     "output_type": "stream",
     "text": [
      "Topic 01: feliz, falte, ninguna, dia, ser\n",
      "Topic 02: hoy, todas, lucha, vamos, mundo\n",
      "Topic 03: vivas, quemadas, huelga, marzo, gozamos\n",
      "Topic 04: quiero, tranquila, caminar, flores, calle\n",
      "Topic 05: dia, mujer, internacional, feliz, dejen\n",
      "Topic 06: mujeres, marcha, asi, chile, feminista\n",
      "Topic 07: encapuchadas, realizaban, vandalizaban, contiene, estatua\n",
      "Topic 08: gracias, elaboro, violencia, recordarla, visible\n",
      "Topic 09: jajaja, nunca, unidas, sororidad, vencidas\n",
      "Topic 10: yang, cristina, deseen, tenerlos, creo\n"
     ]
    }
   ],
   "source": [
    "for topic_index in range(k):\n",
    "    descriptor = get_descriptor( terms, H, topic_index, 5)\n",
    "    str_descriptor = \", \".join( descriptor )\n",
    "    print(\"Topic %02d: %s\" % ( topic_index+1, str_descriptor ) )"
   ]
  },
  {
   "cell_type": "code",
   "execution_count": 68,
   "metadata": {
    "ExecuteTime": {
     "end_time": "2021-05-21T23:54:46.738454Z",
     "start_time": "2021-05-21T23:54:46.717381Z"
    }
   },
   "outputs": [
    {
     "name": "stdout",
     "output_type": "stream",
     "text": [
      "Topic 01: feliz, falte, ninguna, dia, ser, todas, dias, estan, fiesta, volvieron\n",
      "Topic 02: hoy, todas, lucha, vamos, mundo, aquellas, vano, pudieron, sepan, llena\n",
      "Topic 03: vivas, quemadas, huelga, marzo, gozamos, trabajadoras, valia, festejo, lograr, conmemoracion\n",
      "Topic 04: quiero, tranquila, caminar, flores, calle, poder, ser, puedo, jirafa, aprendi\n",
      "Topic 05: dia, mujer, internacional, feliz, dejen, paz, vivir, hoy, ser, trabajadora\n",
      "Topic 06: mujeres, marcha, asi, chile, feminista, millon, millones, igualdad, todas, hombres\n",
      "Topic 07: encapuchadas, realizaban, vandalizaban, contiene, estatua, artes, madero, aplauso, delincuentes, destrozos\n",
      "Topic 08: gracias, elaboro, violencia, recordarla, visible, debo, pago, recibe, maltrato, vida\n",
      "Topic 09: jajaja, nunca, unidas, sororidad, vencidas, follo, fea, ano, novio, tias\n",
      "Topic 10: yang, cristina, deseen, tenerlos, creo, padres, deben, ninos, odio, tener\n"
     ]
    }
   ],
   "source": [
    "for topic_index in range(k):\n",
    "    descriptor = get_descriptor( terms, H, topic_index, 10)\n",
    "    str_descriptor = \", \".join( descriptor )\n",
    "    print(\"Topic %02d: %s\" % ( topic_index+1, str_descriptor ) )"
   ]
  },
  {
   "cell_type": "code",
   "execution_count": 69,
   "metadata": {
    "ExecuteTime": {
     "end_time": "2021-05-21T23:54:47.398999Z",
     "start_time": "2021-05-21T23:54:47.377923Z"
    }
   },
   "outputs": [
    {
     "name": "stdout",
     "output_type": "stream",
     "text": [
      "Topic 01: feliz, falte, ninguna, dia, ser, todas, dias, estan, fiesta, volvieron, debemos, amigues, super, liga, proximo\n",
      "Topic 02: hoy, todas, lucha, vamos, mundo, aquellas, vano, pudieron, sepan, llena, memoria, mierda, cambiar, sido, siempre\n",
      "Topic 03: vivas, quemadas, huelga, marzo, gozamos, trabajadoras, valia, festejo, lograr, conmemoracion, derechos, ahora, respeto, hacer, queremos\n",
      "Topic 04: quiero, tranquila, caminar, flores, calle, poder, ser, puedo, jirafa, aprendi, diverti, miedo, libres, casa, salir\n",
      "Topic 05: dia, mujer, internacional, feliz, dejen, paz, vivir, hoy, ser, trabajadora, cada, marzo, historico, conmemora, igualdad\n",
      "Topic 06: mujeres, marcha, asi, chile, feminista, millon, millones, igualdad, todas, hombres, violencia, calles, mexico, santiago, derechos\n",
      "Topic 07: encapuchadas, realizaban, vandalizaban, contiene, estatua, artes, madero, aplauso, delincuentes, destrozos, bellas, gran, mujer, respetos, destruian\n",
      "Topic 08: gracias, elaboro, violencia, recordarla, visible, debo, pago, recibe, maltrato, vida, machista, ley, homenaje, hacer, hoy\n",
      "Topic 09: jajaja, nunca, unidas, sororidad, vencidas, follo, fea, ano, novio, tias, hermanas, resto, quiero, volvieron, debemos\n",
      "Topic 10: yang, cristina, deseen, tenerlos, creo, padres, deben, ninos, odio, tener, respeto, merecemos, ser, admiro, igualdad\n"
     ]
    }
   ],
   "source": [
    "for topic_index in range(k):\n",
    "    descriptor = get_descriptor( terms, H, topic_index, 15)\n",
    "    str_descriptor = \", \".join( descriptor )\n",
    "    print(\"Topic %02d: %s\" % ( topic_index+1, str_descriptor ) )"
   ]
  },
  {
   "cell_type": "code",
   "execution_count": 70,
   "metadata": {
    "ExecuteTime": {
     "end_time": "2021-05-21T23:54:48.012106Z",
     "start_time": "2021-05-21T23:54:47.990461Z"
    }
   },
   "outputs": [
    {
     "name": "stdout",
     "output_type": "stream",
     "text": [
      "Topic 01: feliz, falte, ninguna, dia, ser, todas, dias, estan, fiesta, volvieron, debemos, amigues, super, liga, proximo, matarnos, mujeres, nunca, social, parte\n",
      "Topic 02: hoy, todas, lucha, vamos, mundo, aquellas, vano, pudieron, sepan, llena, memoria, mierda, cambiar, sido, siempre, pais, manana, queremos, dias, historia\n",
      "Topic 03: vivas, quemadas, huelga, marzo, gozamos, trabajadoras, valia, festejo, lograr, conmemoracion, derechos, ahora, respeto, hacer, queremos, libres, miedo, pedir, igualdad, sabado\n",
      "Topic 04: quiero, tranquila, caminar, flores, calle, poder, ser, puedo, jirafa, aprendi, diverti, miedo, libres, casa, salir, libre, queremos, escoltadas, solas, salvo\n",
      "Topic 05: dia, mujer, internacional, feliz, dejen, paz, vivir, hoy, ser, trabajadora, cada, marzo, historico, conmemora, igualdad, solo, lucha, hombre, luchando, celebra\n",
      "Topic 06: mujeres, marcha, asi, chile, feminista, millon, millones, igualdad, todas, hombres, violencia, calles, mexico, santiago, derechos, feminismo, marchando, zocalo, solo, san\n",
      "Topic 07: encapuchadas, realizaban, vandalizaban, contiene, estatua, artes, madero, aplauso, delincuentes, destrozos, bellas, gran, mujer, respetos, destruian, empoderada, enfrento, ocultar, rostro, equivoquen\n",
      "Topic 08: gracias, elaboro, violencia, recordarla, visible, debo, pago, recibe, maltrato, vida, machista, ley, homenaje, hacer, hoy, genero, historia, dias, vez, hace\n",
      "Topic 09: jajaja, nunca, unidas, sororidad, vencidas, follo, fea, ano, novio, tias, hermanas, resto, quiero, volvieron, debemos, dias, juntas, manifestantes, mas, amo\n",
      "Topic 10: yang, cristina, deseen, tenerlos, creo, padres, deben, ninos, odio, tener, respeto, merecemos, ser, admiro, igualdad, necesito, miedo, hermana, hijos, queria\n"
     ]
    }
   ],
   "source": [
    "for topic_index in range(k):\n",
    "    descriptor = get_descriptor( terms, H, topic_index, 20)\n",
    "    str_descriptor = \", \".join( descriptor )\n",
    "    print(\"Topic %02d: %s\" % ( topic_index+1, str_descriptor ) )"
   ]
  },
  {
   "cell_type": "markdown",
   "metadata": {},
   "source": [
    "# 15"
   ]
  },
  {
   "cell_type": "code",
   "execution_count": 71,
   "metadata": {
    "ExecuteTime": {
     "end_time": "2021-05-21T23:54:49.306161Z",
     "start_time": "2021-05-21T23:54:49.303451Z"
    }
   },
   "outputs": [],
   "source": [
    "k = 15 # best_k\n",
    "\n",
    "# get the model that we generated earlier.\n",
    "W = topic_models[2][1]\n",
    "H = topic_models[2][2]"
   ]
  },
  {
   "cell_type": "code",
   "execution_count": 72,
   "metadata": {
    "ExecuteTime": {
     "end_time": "2021-05-21T23:54:49.890908Z",
     "start_time": "2021-05-21T23:54:49.862311Z"
    }
   },
   "outputs": [
    {
     "name": "stdout",
     "output_type": "stream",
     "text": [
      "Topic 01: feliz, falte, ninguna, dia, ser\n",
      "Topic 02: lucha, vamos, vano, pudieron, llena\n",
      "Topic 03: quemadas, huelga, marzo, gozamos, trabajadoras\n",
      "Topic 04: quiero, tranquila, caminar, flores, calle\n",
      "Topic 05: dia, mujer, internacional, feliz, dejen\n",
      "Topic 06: mujeres, millon, igualdad, derechos, hombres\n",
      "Topic 07: encapuchadas, realizaban, vandalizaban, contiene, estatua\n",
      "Topic 08: hoy, siempre, manana, dias, diverti\n",
      "Topic 09: jajaja, nunca, sororidad, vencidas, follo\n",
      "Topic 10: yang, cristina, deseen, tenerlos, creo\n",
      "Topic 11: asi, ojala, protegieran, gilip0llas, celebrarlo\n",
      "Topic 12: gracias, elaboro, recordarla, visible, pago\n",
      "Topic 13: queremos, vivas, libres, miedo, carteles\n",
      "Topic 14: todas, pueden, nombre, mama, feliz\n",
      "Topic 15: marcha, feminista, chile, grande, revolucion\n"
     ]
    }
   ],
   "source": [
    "for topic_index in range(k):\n",
    "    descriptor = get_descriptor( terms, H, topic_index, 5)\n",
    "    str_descriptor = \", \".join( descriptor )\n",
    "    print(\"Topic %02d: %s\" % ( topic_index+1, str_descriptor ) )"
   ]
  },
  {
   "cell_type": "code",
   "execution_count": 73,
   "metadata": {
    "ExecuteTime": {
     "end_time": "2021-05-21T23:54:50.505171Z",
     "start_time": "2021-05-21T23:54:50.475853Z"
    }
   },
   "outputs": [
    {
     "name": "stdout",
     "output_type": "stream",
     "text": [
      "Topic 01: feliz, falte, ninguna, dia, ser, dias, estan, fiesta, debemos, volvieron\n",
      "Topic 02: lucha, vamos, vano, pudieron, llena, sepan, mierda, memoria, aquellas, cambiar\n",
      "Topic 03: quemadas, huelga, marzo, gozamos, trabajadoras, valia, festejo, vivas, lograr, conmemoracion\n",
      "Topic 04: quiero, tranquila, caminar, flores, calle, poder, ser, puedo, jirafa, aprendi\n",
      "Topic 05: dia, mujer, internacional, feliz, dejen, paz, vivir, trabajadora, cada, ser\n",
      "Topic 06: mujeres, millon, igualdad, derechos, hombres, lucha, miguel, san, violencia, olviden\n",
      "Topic 07: encapuchadas, realizaban, vandalizaban, contiene, estatua, artes, madero, aplauso, delincuentes, destrozos\n",
      "Topic 08: hoy, siempre, manana, dias, diverti, historia, aprendi, jirafa, recordar, ser\n",
      "Topic 09: jajaja, nunca, sororidad, vencidas, follo, fea, novio, tias, unidas, ano\n",
      "Topic 10: yang, cristina, deseen, tenerlos, creo, padres, deben, ninos, odio, tener\n",
      "Topic 11: asi, ojala, protegieran, gilip0llas, celebrarlo, pongan, espero, puede, tratan, pacos\n",
      "Topic 12: gracias, elaboro, recordarla, visible, pago, debo, recibe, maltrato, violencia, vida\n",
      "Topic 13: queremos, vivas, libres, miedo, carteles, espacios, momento, recordar, casa, llegado\n",
      "Topic 14: todas, pueden, nombre, mama, feliz, faltan, gracias, amo, amor, mas\n",
      "Topic 15: marcha, feminista, chile, grande, revolucion, zocalo, movilizacion, millones, monumento, gobierno\n"
     ]
    }
   ],
   "source": [
    "for topic_index in range(k):\n",
    "    descriptor = get_descriptor( terms, H, topic_index, 10)\n",
    "    str_descriptor = \", \".join( descriptor )\n",
    "    print(\"Topic %02d: %s\" % ( topic_index+1, str_descriptor ) )"
   ]
  },
  {
   "cell_type": "code",
   "execution_count": 74,
   "metadata": {
    "ExecuteTime": {
     "end_time": "2021-05-21T23:54:51.168776Z",
     "start_time": "2021-05-21T23:54:51.139470Z"
    }
   },
   "outputs": [
    {
     "name": "stdout",
     "output_type": "stream",
     "text": [
      "Topic 01: feliz, falte, ninguna, dia, ser, dias, estan, fiesta, debemos, volvieron, amigues, super, liga, proximo, matarnos\n",
      "Topic 02: lucha, vamos, vano, pudieron, llena, sepan, mierda, memoria, aquellas, cambiar, mundo, sido, pais, hoy, todas\n",
      "Topic 03: quemadas, huelga, marzo, gozamos, trabajadoras, valia, festejo, vivas, lograr, conmemoracion, derechos, ahora, respeto, hacer, pedir\n",
      "Topic 04: quiero, tranquila, caminar, flores, calle, poder, ser, puedo, jirafa, aprendi, diverti, salir, libre, casa, escoltadas\n",
      "Topic 05: dia, mujer, internacional, feliz, dejen, paz, vivir, trabajadora, cada, ser, marzo, historico, lucha, conmemora, hoy\n",
      "Topic 06: mujeres, millon, igualdad, derechos, hombres, lucha, miguel, san, violencia, olviden, carcel, calles, feminismo, chile, millones\n",
      "Topic 07: encapuchadas, realizaban, vandalizaban, contiene, estatua, artes, madero, aplauso, delincuentes, destrozos, bellas, gran, mujer, respetos, destruian\n",
      "Topic 08: hoy, siempre, manana, dias, diverti, historia, aprendi, jirafa, recordar, ser, puedo, nunca, juntas, grito, momento\n",
      "Topic 09: jajaja, nunca, sororidad, vencidas, follo, fea, novio, tias, unidas, ano, hermanas, resto, quiero, volvieron, debemos\n",
      "Topic 10: yang, cristina, deseen, tenerlos, creo, padres, deben, ninos, odio, tener, respeto, merecemos, ser, admiro, igualdad\n",
      "Topic 11: asi, ojala, protegieran, gilip0llas, celebrarlo, pongan, espero, puede, tratan, pacos, cdmx, zocalo, chile, monumento, blindadas\n",
      "Topic 12: gracias, elaboro, recordarla, visible, pago, debo, recibe, maltrato, violencia, vida, machista, ley, homenaje, hacer, hoy\n",
      "Topic 13: queremos, vivas, libres, miedo, carteles, espacios, momento, recordar, casa, llegado, ser, volver, tranquilas, sola, decimos\n",
      "Topic 14: todas, pueden, nombre, mama, feliz, faltan, gracias, amo, amor, mas, fuerte, pudiese, encontrarla, agacharon, fortaleza\n",
      "Topic 15: marcha, feminista, chile, grande, revolucion, zocalo, movilizacion, millones, monumento, gobierno, santiago, patriarcado, ruiz, elizabeth, mundo\n"
     ]
    }
   ],
   "source": [
    "for topic_index in range(k):\n",
    "    descriptor = get_descriptor( terms, H, topic_index, 15)\n",
    "    str_descriptor = \", \".join( descriptor )\n",
    "    print(\"Topic %02d: %s\" % ( topic_index+1, str_descriptor ) )"
   ]
  },
  {
   "cell_type": "code",
   "execution_count": 75,
   "metadata": {
    "ExecuteTime": {
     "end_time": "2021-05-21T23:54:51.772585Z",
     "start_time": "2021-05-21T23:54:51.743431Z"
    }
   },
   "outputs": [
    {
     "name": "stdout",
     "output_type": "stream",
     "text": [
      "Topic 01: feliz, falte, ninguna, dia, ser, dias, estan, fiesta, debemos, volvieron, amigues, super, liga, proximo, matarnos, nunca, decime, social, femicidios, corresponden\n",
      "Topic 02: lucha, vamos, vano, pudieron, llena, sepan, mierda, memoria, aquellas, cambiar, mundo, sido, pais, hoy, todas, calles, felicita, paz, vez, fatima\n",
      "Topic 03: quemadas, huelga, marzo, gozamos, trabajadoras, valia, festejo, vivas, lograr, conmemoracion, derechos, ahora, respeto, hacer, pedir, sabado, fuente, cazadora, igualdad, diana\n",
      "Topic 04: quiero, tranquila, caminar, flores, calle, poder, ser, puedo, jirafa, aprendi, diverti, salir, libre, casa, escoltadas, salvo, solas, policia, ciudadanos, miedo\n",
      "Topic 05: dia, mujer, internacional, feliz, dejen, paz, vivir, trabajadora, cada, ser, marzo, historico, lucha, conmemora, hoy, igualdad, solo, hombre, mundo, menos\n",
      "Topic 06: mujeres, millon, igualdad, derechos, hombres, lucha, miguel, san, violencia, olviden, carcel, calles, feminismo, chile, millones, mexico, marchando, miles, policias, genero\n",
      "Topic 07: encapuchadas, realizaban, vandalizaban, contiene, estatua, artes, madero, aplauso, delincuentes, destrozos, bellas, gran, mujer, respetos, destruian, empoderada, enfrento, ocultar, rostro, equivoquen\n",
      "Topic 08: hoy, siempre, manana, dias, diverti, historia, aprendi, jirafa, recordar, ser, puedo, nunca, juntas, grito, momento, carteles, espacios, marchar, volvieron, hacemos\n",
      "Topic 09: jajaja, nunca, sororidad, vencidas, follo, fea, novio, tias, unidas, ano, hermanas, resto, quiero, volvieron, debemos, dias, juntas, policias, manifestantes, hijas\n",
      "Topic 10: yang, cristina, deseen, tenerlos, creo, padres, deben, ninos, odio, tener, respeto, merecemos, ser, admiro, igualdad, necesito, hijos, hermana, queria, hermosa\n",
      "Topic 11: asi, ojala, protegieran, gilip0llas, celebrarlo, pongan, espero, puede, tratan, pacos, cdmx, zocalo, chile, monumento, blindadas, protegidas, ganas, seguras, hijas, luce\n",
      "Topic 12: gracias, elaboro, recordarla, visible, pago, debo, recibe, maltrato, violencia, vida, machista, ley, homenaje, hacer, hoy, vez, genero, hace, presupuesto, falta\n",
      "Topic 13: queremos, vivas, libres, miedo, carteles, espacios, momento, recordar, casa, llegado, ser, volver, tranquilas, sola, decimos, menos, mandamos, quedamos, pasamos, vuelve\n",
      "Topic 14: todas, pueden, nombre, mama, feliz, faltan, gracias, amo, amor, mas, fuerte, pudiese, encontrarla, agacharon, fortaleza, gritaron, perdio, segura, puro, grito\n",
      "Topic 15: marcha, feminista, chile, grande, revolucion, zocalo, movilizacion, millones, monumento, gobierno, santiago, patriarcado, ruiz, elizabeth, mundo, dicen, caeer, infiltrados, marco, nivel\n"
     ]
    }
   ],
   "source": [
    "for topic_index in range(k):\n",
    "    descriptor = get_descriptor( terms, H, topic_index, 20)\n",
    "    str_descriptor = \", \".join( descriptor )\n",
    "    print(\"Topic %02d: %s\" % ( topic_index+1, str_descriptor ) )"
   ]
  },
  {
   "cell_type": "markdown",
   "metadata": {},
   "source": [
    "# 20"
   ]
  },
  {
   "cell_type": "code",
   "execution_count": 76,
   "metadata": {
    "ExecuteTime": {
     "end_time": "2021-05-21T23:54:53.362146Z",
     "start_time": "2021-05-21T23:54:53.356859Z"
    }
   },
   "outputs": [],
   "source": [
    "k = 20 # best_k\n",
    "\n",
    "# get the model that we generated earlier.\n",
    "W = topic_models[3][1]\n",
    "H = topic_models[3][2]"
   ]
  },
  {
   "cell_type": "markdown",
   "metadata": {},
   "source": [
    "Display the topic descriptors for this model:"
   ]
  },
  {
   "cell_type": "code",
   "execution_count": 77,
   "metadata": {
    "ExecuteTime": {
     "end_time": "2021-05-21T23:54:54.587004Z",
     "start_time": "2021-05-21T23:54:54.512173Z"
    }
   },
   "outputs": [
    {
     "name": "stdout",
     "output_type": "stream",
     "text": [
      "Topic 01: falte, ninguna, feliz, dia, ser\n",
      "Topic 02: vamos, vano, pudieron, llena, sepan\n",
      "Topic 03: quemadas, huelga, marzo, gozamos, trabajadoras\n",
      "Topic 04: quiero, tranquila, caminar, flores, calle\n",
      "Topic 05: dia, feliz, internacional, dejen, paz\n",
      "Topic 06: mujeres, igualdad, hombres, derechos, miguel\n",
      "Topic 07: vandalizaban, contiene, realizaban, estatua, artes\n",
      "Topic 08: hoy, siempre, manana, dias, historia\n",
      "Topic 09: jajaja, nunca, sororidad, vencidas, follo\n",
      "Topic 10: yang, cristina, deseen, tenerlos, creo\n",
      "Topic 11: asi, ojala, protegieran, gilip0llas, celebrarlo\n",
      "Topic 12: gracias, elaboro, recordarla, visible, pago\n",
      "Topic 13: queremos, vivas, libres, miedo, carteles\n",
      "Topic 14: todas, pueden, nombre, mama, faltan\n",
      "Topic 15: marcha, feminista, revolucion, zocalo, movilizacion\n",
      "Topic 16: mujer, internacional, respetos, empoderada, solo\n",
      "Topic 17: lucha, vez, fatima, acevedo, real\n",
      "Topic 18: ser, diverti, aprendi, puedo, jirafa\n",
      "Topic 19: muchas, ninas, equivoquen, infiltradas, nota\n",
      "Topic 20: chile, millones, marchando, impresionante, santiago\n"
     ]
    }
   ],
   "source": [
    "for topic_index in range(k):\n",
    "    descriptor = get_descriptor( terms, H, topic_index, 5)\n",
    "    str_descriptor = \", \".join( descriptor )\n",
    "    print(\"Topic %02d: %s\" % ( topic_index+1, str_descriptor ) )"
   ]
  },
  {
   "cell_type": "code",
   "execution_count": 78,
   "metadata": {
    "ExecuteTime": {
     "end_time": "2021-05-21T23:54:55.049823Z",
     "start_time": "2021-05-21T23:54:55.013154Z"
    }
   },
   "outputs": [
    {
     "name": "stdout",
     "output_type": "stream",
     "text": [
      "Topic 01: falte, ninguna, feliz, dia, ser, dias, estan, fiesta, volvieron, debemos\n",
      "Topic 02: vamos, vano, pudieron, llena, sepan, mierda, aquellas, memoria, cambiar, mundo\n",
      "Topic 03: quemadas, huelga, marzo, gozamos, trabajadoras, valia, festejo, vivas, lograr, conmemoracion\n",
      "Topic 04: quiero, tranquila, caminar, flores, calle, poder, salir, casa, escoltadas, salvo\n",
      "Topic 05: dia, feliz, internacional, dejen, paz, vivir, historico, hoy, cada, mujer\n",
      "Topic 06: mujeres, igualdad, hombres, derechos, miguel, san, olviden, carcel, millon, violencia\n",
      "Topic 07: vandalizaban, contiene, realizaban, estatua, artes, madero, delincuentes, aplauso, bellas, encapuchadas\n",
      "Topic 08: hoy, siempre, manana, dias, historia, recordar, juntas, nunca, grito, momento\n",
      "Topic 09: jajaja, nunca, sororidad, vencidas, follo, fea, novio, tias, unidas, ano\n",
      "Topic 10: yang, cristina, deseen, tenerlos, creo, padres, deben, ninos, odio, tener\n",
      "Topic 11: asi, ojala, protegieran, gilip0llas, celebrarlo, pongan, espero, puede, tratan, pacos\n",
      "Topic 12: gracias, elaboro, recordarla, visible, pago, debo, recibe, maltrato, violencia, machista\n",
      "Topic 13: queremos, vivas, libres, miedo, carteles, espacios, momento, recordar, casa, llegado\n",
      "Topic 14: todas, pueden, nombre, mama, faltan, gracias, amo, segura, grito, feliz\n",
      "Topic 15: marcha, feminista, revolucion, zocalo, movilizacion, monumento, gobierno, grande, ruiz, elizabeth\n",
      "Topic 16: mujer, internacional, respetos, empoderada, solo, destruian, enfrento, ocultar, rostro, menos\n",
      "Topic 17: lucha, vez, fatima, acevedo, real, transformara, buscabamos, jorge, hace, sistematicamente\n",
      "Topic 18: ser, diverti, aprendi, puedo, jirafa, quiero, hoy, directa, pobreza, terminar\n",
      "Topic 19: muchas, ninas, equivoquen, infiltradas, nota, hijas, pls, adultas, mamas, imaginen\n",
      "Topic 20: chile, millones, marchando, impresionante, santiago, vatos, toca, callar, reflexionar, motivo\n"
     ]
    }
   ],
   "source": [
    "for topic_index in range(k):\n",
    "    descriptor = get_descriptor( terms, H, topic_index, 10)\n",
    "    str_descriptor = \", \".join( descriptor )\n",
    "    print(\"Topic %02d: %s\" % ( topic_index+1, str_descriptor ) )"
   ]
  },
  {
   "cell_type": "code",
   "execution_count": 79,
   "metadata": {
    "ExecuteTime": {
     "end_time": "2021-05-21T23:54:55.503938Z",
     "start_time": "2021-05-21T23:54:55.467737Z"
    }
   },
   "outputs": [
    {
     "name": "stdout",
     "output_type": "stream",
     "text": [
      "Topic 01: falte, ninguna, feliz, dia, ser, dias, estan, fiesta, volvieron, debemos, nunca, amigues, marchando, liga, super\n",
      "Topic 02: vamos, vano, pudieron, llena, sepan, mierda, aquellas, memoria, cambiar, mundo, sido, pais, lucha, hoy, todas\n",
      "Topic 03: quemadas, huelga, marzo, gozamos, trabajadoras, valia, festejo, vivas, lograr, conmemoracion, derechos, ahora, hacer, respeto, pedir\n",
      "Topic 04: quiero, tranquila, caminar, flores, calle, poder, salir, casa, escoltadas, salvo, solas, libre, ciudadanos, policia, manifestacion\n",
      "Topic 05: dia, feliz, internacional, dejen, paz, vivir, historico, hoy, cada, mujer, celebrarlo, gilip0llas, espero, mundo, pongan\n",
      "Topic 06: mujeres, igualdad, hombres, derechos, miguel, san, olviden, carcel, millon, violencia, mexico, miles, genero, policias, trans\n",
      "Topic 07: vandalizaban, contiene, realizaban, estatua, artes, madero, delincuentes, aplauso, bellas, encapuchadas, gran, destrozos, mujer, poquitos, conversar\n",
      "Topic 08: hoy, siempre, manana, dias, historia, recordar, juntas, nunca, grito, momento, carteles, espacios, marchar, volvieron, hacemos\n",
      "Topic 09: jajaja, nunca, sororidad, vencidas, follo, fea, novio, tias, unidas, ano, resto, hermanas, quiero, volvieron, debemos\n",
      "Topic 10: yang, cristina, deseen, tenerlos, creo, padres, deben, ninos, odio, tener, respeto, merecemos, admiro, necesito, igualdad\n",
      "Topic 11: asi, ojala, protegieran, gilip0llas, celebrarlo, pongan, espero, puede, tratan, pacos, cdmx, zocalo, monumento, blindadas, protegidas\n",
      "Topic 12: gracias, elaboro, recordarla, visible, pago, debo, recibe, maltrato, violencia, machista, ley, homenaje, vida, hacer, hoy\n",
      "Topic 13: queremos, vivas, libres, miedo, carteles, espacios, momento, recordar, casa, llegado, volver, tranquilas, decimos, mandamos, quedamos\n",
      "Topic 14: todas, pueden, nombre, mama, faltan, gracias, amo, segura, grito, feliz, amor, mas, fuerte, pudiese, encontrarla\n",
      "Topic 15: marcha, feminista, revolucion, zocalo, movilizacion, monumento, gobierno, grande, ruiz, elizabeth, mas, infiltrados, reventadores, organizando, autoridades\n",
      "Topic 16: mujer, internacional, respetos, empoderada, solo, destruian, enfrento, ocultar, rostro, menos, trabajadora, encapuchadas, marzo, hombre, representa\n",
      "Topic 17: lucha, vez, fatima, acevedo, real, transformara, buscabamos, jorge, hace, sistematicamente, nicolas, denunciado, responsable, falta, presupuesto\n",
      "Topic 18: ser, diverti, aprendi, puedo, jirafa, quiero, hoy, directa, pobreza, terminar, forma, debe, puedan, quieran, igualdad\n",
      "Topic 19: muchas, ninas, equivoquen, infiltradas, nota, hijas, pls, adultas, mamas, imaginen, adolescentes, hrs, muchisimas, medios, mayores\n",
      "Topic 20: chile, millones, marchando, impresionante, santiago, vatos, toca, callar, reflexionar, motivo, calles, piel, millon, convocatoria, arriba\n"
     ]
    }
   ],
   "source": [
    "for topic_index in range(k):\n",
    "    descriptor = get_descriptor( terms, H, topic_index, 15)\n",
    "    str_descriptor = \", \".join( descriptor )\n",
    "    print(\"Topic %02d: %s\" % ( topic_index+1, str_descriptor ) )"
   ]
  },
  {
   "cell_type": "code",
   "execution_count": 80,
   "metadata": {
    "ExecuteTime": {
     "end_time": "2021-05-21T23:54:55.994953Z",
     "start_time": "2021-05-21T23:54:55.928648Z"
    }
   },
   "outputs": [
    {
     "name": "stdout",
     "output_type": "stream",
     "text": [
      "Topic 01: falte, ninguna, feliz, dia, ser, dias, estan, fiesta, volvieron, debemos, nunca, amigues, marchando, liga, super, corresponden, siguientes, febrero, enero, cifras\n",
      "Topic 02: vamos, vano, pudieron, llena, sepan, mierda, aquellas, memoria, cambiar, mundo, sido, pais, lucha, hoy, todas, tirar, caer, orgullo, mejor, patriarcado\n",
      "Topic 03: quemadas, huelga, marzo, gozamos, trabajadoras, valia, festejo, vivas, lograr, conmemoracion, derechos, ahora, hacer, respeto, pedir, sabado, fuente, igualdad, cazadora, diana\n",
      "Topic 04: quiero, tranquila, caminar, flores, calle, poder, salir, casa, escoltadas, salvo, solas, libre, ciudadanos, policia, manifestacion, viva, miedo, llegar, amigas, tener\n",
      "Topic 05: dia, feliz, internacional, dejen, paz, vivir, historico, hoy, cada, mujer, celebrarlo, gilip0llas, espero, mundo, pongan, lucha, matarnos, puede, buen, decime\n",
      "Topic 06: mujeres, igualdad, hombres, derechos, miguel, san, olviden, carcel, millon, violencia, mexico, miles, genero, policias, trans, mundo, pais, solo, pacos, cada\n",
      "Topic 07: vandalizaban, contiene, realizaban, estatua, artes, madero, delincuentes, aplauso, bellas, encapuchadas, gran, destrozos, mujer, poquitos, conversar, sacaron, reunieron, mate, capillas, marmol\n",
      "Topic 08: hoy, siempre, manana, dias, historia, recordar, juntas, nunca, grito, momento, carteles, espacios, marchar, volvieron, hacemos, nombramos, arrebato, cara, diverti, justicia\n",
      "Topic 09: jajaja, nunca, sororidad, vencidas, follo, fea, novio, tias, unidas, ano, resto, hermanas, quiero, volvieron, debemos, dias, juntas, policias, manifestantes, hacemos\n",
      "Topic 10: yang, cristina, deseen, tenerlos, creo, padres, deben, ninos, odio, tener, respeto, merecemos, admiro, necesito, igualdad, hijos, hermana, queria, hermosa, admiracion\n",
      "Topic 11: asi, ojala, protegieran, gilip0llas, celebrarlo, pongan, espero, puede, tratan, pacos, cdmx, zocalo, monumento, blindadas, protegidas, ganas, seguras, chile, feministas, luce\n",
      "Topic 12: gracias, elaboro, recordarla, visible, pago, debo, recibe, maltrato, violencia, machista, ley, homenaje, vida, hacer, hoy, genero, patria, diario, alto, derecho\n",
      "Topic 13: queremos, vivas, libres, miedo, carteles, espacios, momento, recordar, casa, llegado, volver, tranquilas, decimos, mandamos, quedamos, sola, pasamos, vuelve, mensajes, bien\n",
      "Topic 14: todas, pueden, nombre, mama, faltan, gracias, amo, segura, grito, feliz, amor, mas, fuerte, pudiese, encontrarla, agacharon, fortaleza, gritaron, perdio, puro\n",
      "Topic 15: marcha, feminista, revolucion, zocalo, movilizacion, monumento, gobierno, grande, ruiz, elizabeth, mas, infiltrados, reventadores, organizando, autoridades, transporte, grupos, personal, manifestantes, fuerte\n",
      "Topic 16: mujer, internacional, respetos, empoderada, solo, destruian, enfrento, ocultar, rostro, menos, trabajadora, encapuchadas, marzo, hombre, representa, policias, ser, sanchez, frente, nacional\n",
      "Topic 17: lucha, vez, fatima, acevedo, real, transformara, buscabamos, jorge, hace, sistematicamente, nicolas, denunciado, responsable, falta, presupuesto, condena, dolor, encuentran, martinez, semana\n",
      "Topic 18: ser, diverti, aprendi, puedo, jirafa, quiero, hoy, directa, pobreza, terminar, forma, debe, puedan, quieran, igualdad, docente, educar, gusto, ninas, libre\n",
      "Topic 19: muchas, ninas, equivoquen, infiltradas, nota, hijas, pls, adultas, mamas, imaginen, adolescentes, hrs, muchisimas, medios, mayores, destrozos, policias, madres, gas, asienten\n",
      "Topic 20: chile, millones, marchando, impresionante, santiago, vatos, toca, callar, reflexionar, motivo, calles, piel, millon, convocatoria, arriba, historicas, feminismo, vencer, ahora, erizo\n"
     ]
    }
   ],
   "source": [
    "for topic_index in range(k):\n",
    "    descriptor = get_descriptor( terms, H, topic_index, 20)\n",
    "    str_descriptor = \", \".join( descriptor )\n",
    "    print(\"Topic %02d: %s\" % ( topic_index+1, str_descriptor ) )"
   ]
  },
  {
   "cell_type": "code",
   "execution_count": null,
   "metadata": {},
   "outputs": [],
   "source": []
  }
 ],
 "metadata": {
  "@webio": {
   "lastCommId": null,
   "lastKernelId": null
  },
  "kernelspec": {
   "display_name": "Python 3",
   "language": "python",
   "name": "python3"
  },
  "language_info": {
   "codemirror_mode": {
    "name": "ipython",
    "version": 3
   },
   "file_extension": ".py",
   "mimetype": "text/x-python",
   "name": "python",
   "nbconvert_exporter": "python",
   "pygments_lexer": "ipython3",
   "version": "3.7.7"
  },
  "toc": {
   "base_numbering": 1,
   "nav_menu": {
    "height": "91px",
    "width": "373px"
   },
   "number_sections": true,
   "sideBar": true,
   "skip_h1_title": false,
   "title_cell": "Table of Contents",
   "title_sidebar": "Contents",
   "toc_cell": false,
   "toc_position": {
    "height": "557px",
    "left": "22px",
    "top": "170px",
    "width": "288px"
   },
   "toc_section_display": true,
   "toc_window_display": false
  }
 },
 "nbformat": 4,
 "nbformat_minor": 4
}
