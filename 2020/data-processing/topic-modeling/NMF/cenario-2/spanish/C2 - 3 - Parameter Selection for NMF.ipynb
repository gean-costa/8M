{
 "cells": [
  {
   "cell_type": "markdown",
   "metadata": {},
   "source": [
    "# Parameter Selection for NMF"
   ]
  },
  {
   "cell_type": "markdown",
   "metadata": {},
   "source": [
    "Now we look at the more advanced task of parameter selection for NMF topic modelling - namely, selecting a useful value for the number of topics *k*."
   ]
  },
  {
   "cell_type": "markdown",
   "metadata": {},
   "source": [
    "First, let's load the TF-IDF normalised document-term matrix and list of terms that we stored earlier using *Joblib*:"
   ]
  },
  {
   "cell_type": "code",
   "execution_count": 1,
   "metadata": {
    "ExecuteTime": {
     "end_time": "2021-05-22T00:39:00.675840Z",
     "start_time": "2021-05-22T00:38:59.710713Z"
    }
   },
   "outputs": [
    {
     "name": "stdout",
     "output_type": "stream",
     "text": [
      "Loaded 289890 X 12514 document-term matrix\n"
     ]
    }
   ],
   "source": [
    "import joblib\n",
    "\n",
    "(A, terms, snippets) = joblib.load(\"cenario2-tweets-tfidf.pkl\")\n",
    "\n",
    "print(\"Loaded %d X %d document-term matrix\" % (A.shape[0], A.shape[1]))"
   ]
  },
  {
   "cell_type": "markdown",
   "metadata": {},
   "source": [
    "### Create the Topic Models"
   ]
  },
  {
   "cell_type": "markdown",
   "metadata": {},
   "source": [
    "A common approach for parameter selection is to Measure and compare the topic coherence of models generated for different values of *k*."
   ]
  },
  {
   "cell_type": "markdown",
   "metadata": {},
   "source": [
    "We need to start by pre-specifying an initial range of \"sensible\" values:"
   ]
  },
  {
   "cell_type": "code",
   "execution_count": 2,
   "metadata": {
    "ExecuteTime": {
     "end_time": "2021-05-22T00:39:00.679700Z",
     "start_time": "2021-05-22T00:39:00.677454Z"
    }
   },
   "outputs": [],
   "source": [
    "kmin, kmax = 5, 20"
   ]
  },
  {
   "cell_type": "markdown",
   "metadata": {},
   "source": [
    "Apply NMF for each of these values:"
   ]
  },
  {
   "cell_type": "code",
   "execution_count": 3,
   "metadata": {
    "ExecuteTime": {
     "end_time": "2021-05-22T00:40:34.952225Z",
     "start_time": "2021-05-22T00:39:00.680984Z"
    }
   },
   "outputs": [
    {
     "name": "stdout",
     "output_type": "stream",
     "text": [
      "Applying NMF for k=5 ...\n",
      "Applying NMF for k=10 ...\n",
      "Applying NMF for k=15 ...\n",
      "Applying NMF for k=20 ...\n"
     ]
    }
   ],
   "source": [
    "from sklearn import decomposition\n",
    "\n",
    "topic_models = []\n",
    "\n",
    "# try each value of k\n",
    "for k in [5,10,15,20]: #range(kmin, kmax + 1):\n",
    "    print(\"Applying NMF for k=%d ...\" % k)\n",
    "    # run NMF\n",
    "    model = decomposition.NMF(init=\"nndsvd\", n_components=k)\n",
    "    W = model.fit_transform(A)\n",
    "    H = model.components_\n",
    "    # store for later\n",
    "    topic_models.append((k, W, H))"
   ]
  },
  {
   "cell_type": "markdown",
   "metadata": {},
   "source": [
    "### Build a Word Embedding"
   ]
  },
  {
   "cell_type": "markdown",
   "metadata": {},
   "source": [
    "To select the number of topics, here we will use a *topic coherence* measure called TC-W2V. This measure relies on the use of a *word embedding* model constructed from our corpus. So in this step we will use the *Gensim* implementation of Word2Vec to build a Word2Vec model based on our collection of news articles."
   ]
  },
  {
   "cell_type": "markdown",
   "metadata": {},
   "source": [
    "**Note:** If you want to skip this step, a pre-built Word2Vec model for the sample dataset [is also provided here for download](http://erdos.ucd.ie/files/pydata/w2v-model.bin) (71MB)."
   ]
  },
  {
   "cell_type": "markdown",
   "metadata": {},
   "source": [
    "We read the documents from the input file again:"
   ]
  },
  {
   "cell_type": "code",
   "execution_count": 4,
   "metadata": {
    "ExecuteTime": {
     "end_time": "2021-05-22T00:40:35.133452Z",
     "start_time": "2021-05-22T00:40:34.953687Z"
    }
   },
   "outputs": [
    {
     "name": "stdout",
     "output_type": "stream",
     "text": [
      "Read 289890 raw text documents\n"
     ]
    }
   ],
   "source": [
    "import os.path\n",
    "\n",
    "raw_documents = []\n",
    "\n",
    "with open(os.path.join(\"../../../../../data-pre-processing/2csv/cenario2_8M2020_tweets_es.txt\"), \"r\") as fin:\n",
    "    for line in fin.readlines():\n",
    "        raw_documents.append(line.strip().lower())\n",
    "\n",
    "print(\"Read %d raw text documents\" % len(raw_documents))"
   ]
  },
  {
   "cell_type": "markdown",
   "metadata": {},
   "source": [
    "Read the custom stopword list:"
   ]
  },
  {
   "cell_type": "code",
   "execution_count": 5,
   "metadata": {
    "ExecuteTime": {
     "end_time": "2021-05-22T00:40:35.138966Z",
     "start_time": "2021-05-22T00:40:35.134886Z"
    }
   },
   "outputs": [
    {
     "name": "stdout",
     "output_type": "stream",
     "text": [
      "Stopword list has 313 entries\n"
     ]
    }
   ],
   "source": [
    "custom_stop_words = []\n",
    "\n",
    "with open(\"spanish.txt\", \"r\") as fin:\n",
    "    for line in fin.readlines():\n",
    "        custom_stop_words.append(line.strip().lower())\n",
    "\n",
    "# note that we need to make it hashable\n",
    "print(\"Stopword list has %d entries\" % len(custom_stop_words))"
   ]
  },
  {
   "cell_type": "markdown",
   "metadata": {},
   "source": [
    "First, we need to define a class that will generate documents in a form that can be consumed by Gensim's Word2Vec implementation:"
   ]
  },
  {
   "cell_type": "code",
   "execution_count": 6,
   "metadata": {
    "ExecuteTime": {
     "end_time": "2021-05-22T00:40:35.148354Z",
     "start_time": "2021-05-22T00:40:35.140167Z"
    }
   },
   "outputs": [],
   "source": [
    "import re\n",
    "\n",
    "\n",
    "class TokenGenerator:\n",
    "    def __init__(self, documents, stopwords):\n",
    "        self.documents = documents\n",
    "        self.stopwords = stopwords\n",
    "        self.tokenizer = re.compile(r\"(?u)\\b\\w\\w+\\b\")\n",
    "\n",
    "    def __iter__(self):\n",
    "        print(\"Building Word2Vec model ...\")\n",
    "        for doc in self.documents:\n",
    "            tokens = []\n",
    "            for tok in self.tokenizer.findall(doc):\n",
    "                if tok in self.stopwords:\n",
    "                    tokens.append(\"<stopword>\")\n",
    "                elif len(tok) >= 2:\n",
    "                    tokens.append(tok)\n",
    "            yield tokens"
   ]
  },
  {
   "cell_type": "markdown",
   "metadata": {},
   "source": [
    "Now build a Skipgram Word2Vec model from all documents in the input file using *Gensim*:"
   ]
  },
  {
   "cell_type": "code",
   "execution_count": 7,
   "metadata": {
    "ExecuteTime": {
     "end_time": "2021-05-22T00:40:35.347627Z",
     "start_time": "2021-05-22T00:40:35.157475Z"
    }
   },
   "outputs": [],
   "source": [
    "import gensim"
   ]
  },
  {
   "cell_type": "code",
   "execution_count": 8,
   "metadata": {
    "ExecuteTime": {
     "end_time": "2021-05-22T00:42:28.575505Z",
     "start_time": "2021-05-22T00:40:35.349537Z"
    }
   },
   "outputs": [
    {
     "name": "stdout",
     "output_type": "stream",
     "text": [
      "Building Word2Vec model ...\n",
      "Building Word2Vec model ...\n",
      "Building Word2Vec model ...\n",
      "Building Word2Vec model ...\n",
      "Building Word2Vec model ...\n",
      "Building Word2Vec model ...\n"
     ]
    }
   ],
   "source": [
    "\n",
    "\n",
    "docgen = TokenGenerator(raw_documents, custom_stop_words)\n",
    "\n",
    "# the model has 500 dimensions, the minimum document-term frequency is 20\n",
    "w2v_model = gensim.models.Word2Vec(docgen, size=500, min_count=20, sg=1)"
   ]
  },
  {
   "cell_type": "code",
   "execution_count": 9,
   "metadata": {
    "ExecuteTime": {
     "end_time": "2021-05-22T00:42:28.579974Z",
     "start_time": "2021-05-22T00:42:28.576818Z"
    }
   },
   "outputs": [
    {
     "name": "stdout",
     "output_type": "stream",
     "text": [
      "Model has 12623 terms\n"
     ]
    }
   ],
   "source": [
    "print( \"Model has %d terms\" % len(w2v_model.wv.vocab) )"
   ]
  },
  {
   "cell_type": "markdown",
   "metadata": {},
   "source": [
    "Save for later use, so that we do not need to rebuild it:"
   ]
  },
  {
   "cell_type": "code",
   "execution_count": 10,
   "metadata": {
    "ExecuteTime": {
     "end_time": "2021-05-22T00:42:29.184272Z",
     "start_time": "2021-05-22T00:42:28.581408Z"
    }
   },
   "outputs": [],
   "source": [
    "w2v_model.save(\"cenario2_w2v-model.bin\")"
   ]
  },
  {
   "cell_type": "code",
   "execution_count": 11,
   "metadata": {
    "ExecuteTime": {
     "end_time": "2021-05-22T00:42:29.187284Z",
     "start_time": "2021-05-22T00:42:29.185586Z"
    }
   },
   "outputs": [],
   "source": [
    "# To re-load this model, run\n",
    "# w2v_model = gensim.models.Word2Vec.load(\"cenario1_w2v-model.bin\")"
   ]
  },
  {
   "cell_type": "markdown",
   "metadata": {},
   "source": [
    "### Selecting the Number of Topics"
   ]
  },
  {
   "cell_type": "markdown",
   "metadata": {},
   "source": [
    "Once we have our Word2vec model, we can use it as part of our *topic coherence* approach to evaluate the different NMF topic models that we created previously. To do this, we will implement a simple version of the TC-W2V coherence measure."
   ]
  },
  {
   "cell_type": "markdown",
   "metadata": {},
   "source": [
    "We use the Word2vec model to calculate coherence scores for each of these models. We will define this coherence score as follows:"
   ]
  },
  {
   "cell_type": "code",
   "execution_count": 12,
   "metadata": {
    "ExecuteTime": {
     "end_time": "2021-05-22T00:42:29.196992Z",
     "start_time": "2021-05-22T00:42:29.188680Z"
    }
   },
   "outputs": [],
   "source": [
    "def calculate_coherence(w2v_model, term_rankings):\n",
    "    overall_coherence = 0.0\n",
    "    \n",
    "    for topic_index in range(len(term_rankings)):\n",
    "        # check each pair of terms\n",
    "        pair_scores = []\n",
    "        for pair in combinations(term_rankings[topic_index], 2):\n",
    "            pair_scores.append(w2v_model.similarity(pair[0], pair[1]))\n",
    "        # get the mean for all pairs in this topic\n",
    "        topic_score = sum(pair_scores) / len(pair_scores)\n",
    "        overall_coherence += topic_score\n",
    "    \n",
    "    # get the mean score across all topics\n",
    "    return overall_coherence / len(term_rankings)"
   ]
  },
  {
   "cell_type": "markdown",
   "metadata": {},
   "source": [
    "We also define a function to get the topic descriptor (i.e. list of top terms) for each topic:"
   ]
  },
  {
   "cell_type": "code",
   "execution_count": 13,
   "metadata": {
    "ExecuteTime": {
     "end_time": "2021-05-22T00:42:29.206679Z",
     "start_time": "2021-05-22T00:42:29.198384Z"
    }
   },
   "outputs": [],
   "source": [
    "import numpy as np\n",
    "\n",
    "\n",
    "def get_descriptor(all_terms, H, topic_index, top):\n",
    "    # reverse sort the values to sort the indices\n",
    "    top_indices = np.argsort(H[topic_index, :])[::-1]\n",
    "    \n",
    "    # now get the terms corresponding to the top-ranked indices\n",
    "    top_terms = []\n",
    "    \n",
    "    for term_index in top_indices[0:top]:\n",
    "        top_terms.append(all_terms[term_index])\n",
    "    \n",
    "    return top_terms"
   ]
  },
  {
   "cell_type": "markdown",
   "metadata": {},
   "source": [
    "Now process each of the models for different values of *k*:"
   ]
  },
  {
   "cell_type": "code",
   "execution_count": 14,
   "metadata": {
    "ExecuteTime": {
     "end_time": "2021-05-22T00:42:29.271475Z",
     "start_time": "2021-05-22T00:42:29.208044Z"
    }
   },
   "outputs": [
    {
     "name": "stdout",
     "output_type": "stream",
     "text": [
      "K=05: Coherence=0.3034\n",
      "K=10: Coherence=0.2833\n",
      "K=15: Coherence=0.2646\n",
      "K=20: Coherence=0.2730\n"
     ]
    },
    {
     "name": "stderr",
     "output_type": "stream",
     "text": [
      "/home/gean/anaconda3/lib/python3.7/site-packages/ipykernel_launcher.py:8: DeprecationWarning: Call to deprecated `similarity` (Method will be removed in 4.0.0, use self.wv.similarity() instead).\n",
      "  \n"
     ]
    }
   ],
   "source": [
    "from itertools import combinations\n",
    "\n",
    "k_values = []\n",
    "coherences = []\n",
    "\n",
    "for (k, W, H) in topic_models:\n",
    "    # Get all of the topic descriptors - the term_rankings, based on top 10 terms\n",
    "    term_rankings = []\n",
    "    \n",
    "    for topic_index in range(k):\n",
    "        term_rankings.append(get_descriptor(terms, H, topic_index, 5))\n",
    "    \n",
    "    # Now calculate the coherence based on our Word2vec model\n",
    "    k_values.append(k)\n",
    "    coherences.append(calculate_coherence(w2v_model, term_rankings))\n",
    "    \n",
    "    print(\"K=%02d: Coherence=%.4f\" % (k, coherences[-1]))\n",
    "    # print(f'{coherences[-1]:.4f}')"
   ]
  },
  {
   "cell_type": "markdown",
   "metadata": {},
   "source": [
    "We can now use *matplotlib* to generate a line plot of these coherence scores, to help us select an appropriate value."
   ]
  },
  {
   "cell_type": "code",
   "execution_count": 15,
   "metadata": {
    "ExecuteTime": {
     "end_time": "2021-05-22T00:42:29.440965Z",
     "start_time": "2021-05-22T00:42:29.272779Z"
    }
   },
   "outputs": [],
   "source": [
    "%matplotlib inline\n",
    "import matplotlib\n",
    "import matplotlib.pyplot as plt\n",
    "\n",
    "plt.style.use(\"ggplot\")\n",
    "matplotlib.rcParams.update({\"font.size\": 14})"
   ]
  },
  {
   "cell_type": "code",
   "execution_count": 16,
   "metadata": {
    "ExecuteTime": {
     "end_time": "2021-05-22T00:42:29.609820Z",
     "start_time": "2021-05-22T00:42:29.442255Z"
    }
   },
   "outputs": [
    {
     "data": {
      "image/png": "[encoded data removed]",
      "text/plain": [
       "<Figure size 936x504 with 1 Axes>"
      ]
     },
     "metadata": {},
     "output_type": "display_data"
    }
   ],
   "source": [
    "fig = plt.figure(figsize=(13,7))\n",
    "\n",
    "# create the line plot\n",
    "ax = plt.plot( k_values, coherences )\n",
    "plt.xticks(k_values)\n",
    "plt.xlabel(\"Number of Topics\")\n",
    "plt.ylabel(\"Mean Coherence\")\n",
    "\n",
    "# add the points\n",
    "plt.scatter( k_values, coherences, s=120)\n",
    "\n",
    "\n",
    "# find and annotate the maximum point on the plot\n",
    "ymax = max(coherences)\n",
    "xpos = coherences.index(ymax)\n",
    "best_k = k_values[xpos]\n",
    "plt.annotate( \"k=%d\" % best_k, xy=(best_k, ymax), xytext=(best_k, ymax), textcoords=\"offset points\", fontsize=16)\n",
    "\n",
    "# show the plot\n",
    "plt.show()"
   ]
  },
  {
   "cell_type": "markdown",
   "metadata": {
    "ExecuteTime": {
     "end_time": "2021-05-21T23:51:33.169982Z",
     "start_time": "2021-05-21T23:51:33.167960Z"
    }
   },
   "source": [
    "# 10"
   ]
  },
  {
   "cell_type": "code",
   "execution_count": 17,
   "metadata": {
    "ExecuteTime": {
     "end_time": "2021-05-22T00:42:29.726948Z",
     "start_time": "2021-05-22T00:42:29.611106Z"
    }
   },
   "outputs": [
    {
     "name": "stdout",
     "output_type": "stream",
     "text": [
      "K=05: Coherence=0.2677\n",
      "K=10: Coherence=0.2436\n",
      "K=15: Coherence=0.2521\n",
      "K=20: Coherence=0.2680\n"
     ]
    },
    {
     "name": "stderr",
     "output_type": "stream",
     "text": [
      "/home/gean/anaconda3/lib/python3.7/site-packages/ipykernel_launcher.py:8: DeprecationWarning: Call to deprecated `similarity` (Method will be removed in 4.0.0, use self.wv.similarity() instead).\n",
      "  \n"
     ]
    }
   ],
   "source": [
    "from itertools import combinations\n",
    "\n",
    "k_values = []\n",
    "coherences = []\n",
    "\n",
    "for (k, W, H) in topic_models:\n",
    "    # Get all of the topic descriptors - the term_rankings, based on top 10 terms\n",
    "    term_rankings = []\n",
    "    \n",
    "    for topic_index in range(k):\n",
    "        term_rankings.append(get_descriptor(terms, H, topic_index, 10))\n",
    "    \n",
    "    # Now calculate the coherence based on our Word2vec model\n",
    "    k_values.append(k)\n",
    "    coherences.append(calculate_coherence(w2v_model, term_rankings))\n",
    "    \n",
    "    print(\"K=%02d: Coherence=%.4f\" % (k, coherences[-1]))\n",
    "    # print(f'{coherences[-1]:.4f}')"
   ]
  },
  {
   "cell_type": "code",
   "execution_count": 18,
   "metadata": {
    "ExecuteTime": {
     "end_time": "2021-05-22T00:42:29.881348Z",
     "start_time": "2021-05-22T00:42:29.728182Z"
    }
   },
   "outputs": [
    {
     "data": {
      "image/png": "[encoded data removed]",
      "text/plain": [
       "<Figure size 936x504 with 1 Axes>"
      ]
     },
     "metadata": {},
     "output_type": "display_data"
    }
   ],
   "source": [
    "fig = plt.figure(figsize=(13,7))\n",
    "\n",
    "# create the line plot\n",
    "ax = plt.plot( k_values, coherences )\n",
    "plt.xticks(k_values)\n",
    "plt.xlabel(\"Number of Topics\")\n",
    "plt.ylabel(\"Mean Coherence\")\n",
    "\n",
    "# add the points\n",
    "plt.scatter( k_values, coherences, s=120)\n",
    "\n",
    "\n",
    "# find and annotate the maximum point on the plot\n",
    "ymax = max(coherences)\n",
    "xpos = coherences.index(ymax)\n",
    "best_k = k_values[xpos]\n",
    "plt.annotate( \"k=%d\" % best_k, xy=(best_k, ymax), xytext=(best_k, ymax), textcoords=\"offset points\", fontsize=16)\n",
    "\n",
    "# show the plot\n",
    "plt.show()"
   ]
  },
  {
   "cell_type": "markdown",
   "metadata": {},
   "source": [
    "# 15"
   ]
  },
  {
   "cell_type": "code",
   "execution_count": 19,
   "metadata": {
    "ExecuteTime": {
     "end_time": "2021-05-22T00:42:30.086645Z",
     "start_time": "2021-05-22T00:42:29.882738Z"
    }
   },
   "outputs": [
    {
     "name": "stdout",
     "output_type": "stream",
     "text": [
      "K=05: Coherence=0.2386\n",
      "K=10: Coherence=0.2466\n",
      "K=15: Coherence=0.2468\n",
      "K=20: Coherence=0.2613\n"
     ]
    },
    {
     "name": "stderr",
     "output_type": "stream",
     "text": [
      "/home/gean/anaconda3/lib/python3.7/site-packages/ipykernel_launcher.py:8: DeprecationWarning: Call to deprecated `similarity` (Method will be removed in 4.0.0, use self.wv.similarity() instead).\n",
      "  \n"
     ]
    }
   ],
   "source": [
    "from itertools import combinations\n",
    "\n",
    "k_values = []\n",
    "coherences = []\n",
    "\n",
    "for (k, W, H) in topic_models:\n",
    "    # Get all of the topic descriptors - the term_rankings, based on top 10 terms\n",
    "    term_rankings = []\n",
    "    \n",
    "    for topic_index in range(k):\n",
    "        term_rankings.append(get_descriptor(terms, H, topic_index, 15))\n",
    "    \n",
    "    # Now calculate the coherence based on our Word2vec model\n",
    "    k_values.append(k)\n",
    "    coherences.append(calculate_coherence(w2v_model, term_rankings))\n",
    "    \n",
    "    print(\"K=%02d: Coherence=%.4f\" % (k, coherences[-1]))\n",
    "    # print(f'{coherences[-1]:.4f}')"
   ]
  },
  {
   "cell_type": "code",
   "execution_count": 20,
   "metadata": {
    "ExecuteTime": {
     "end_time": "2021-05-22T00:42:30.242696Z",
     "start_time": "2021-05-22T00:42:30.088131Z"
    }
   },
   "outputs": [
    {
     "data": {
      "image/png": "[encoded data removed]",
      "text/plain": [
       "<Figure size 936x504 with 1 Axes>"
      ]
     },
     "metadata": {},
     "output_type": "display_data"
    }
   ],
   "source": [
    "fig = plt.figure(figsize=(13,7))\n",
    "\n",
    "# create the line plot\n",
    "ax = plt.plot( k_values, coherences )\n",
    "plt.xticks(k_values)\n",
    "plt.xlabel(\"Number of Topics\")\n",
    "plt.ylabel(\"Mean Coherence\")\n",
    "\n",
    "# add the points\n",
    "plt.scatter( k_values, coherences, s=120)\n",
    "\n",
    "\n",
    "# find and annotate the maximum point on the plot\n",
    "ymax = max(coherences)\n",
    "xpos = coherences.index(ymax)\n",
    "best_k = k_values[xpos]\n",
    "plt.annotate( \"k=%d\" % best_k, xy=(best_k, ymax), xytext=(best_k, ymax), textcoords=\"offset points\", fontsize=16)\n",
    "\n",
    "# show the plot\n",
    "plt.show()"
   ]
  },
  {
   "cell_type": "markdown",
   "metadata": {},
   "source": [
    "# 20"
   ]
  },
  {
   "cell_type": "code",
   "execution_count": 21,
   "metadata": {
    "ExecuteTime": {
     "end_time": "2021-05-22T00:42:30.575265Z",
     "start_time": "2021-05-22T00:42:30.243999Z"
    }
   },
   "outputs": [
    {
     "name": "stderr",
     "output_type": "stream",
     "text": [
      "/home/gean/anaconda3/lib/python3.7/site-packages/ipykernel_launcher.py:8: DeprecationWarning: Call to deprecated `similarity` (Method will be removed in 4.0.0, use self.wv.similarity() instead).\n",
      "  \n"
     ]
    },
    {
     "name": "stdout",
     "output_type": "stream",
     "text": [
      "K=05: Coherence=0.2303\n",
      "K=10: Coherence=0.2401\n",
      "K=15: Coherence=0.2427\n",
      "K=20: Coherence=0.2595\n"
     ]
    }
   ],
   "source": [
    "from itertools import combinations\n",
    "\n",
    "k_values = []\n",
    "coherences = []\n",
    "\n",
    "for (k, W, H) in topic_models:\n",
    "    # Get all of the topic descriptors - the term_rankings, based on top 10 terms\n",
    "    term_rankings = []\n",
    "    \n",
    "    for topic_index in range(k):\n",
    "        term_rankings.append(get_descriptor(terms, H, topic_index, 20))\n",
    "    \n",
    "    # Now calculate the coherence based on our Word2vec model\n",
    "    k_values.append(k)\n",
    "    coherences.append(calculate_coherence(w2v_model, term_rankings))\n",
    "    \n",
    "    print(\"K=%02d: Coherence=%.4f\" % (k, coherences[-1]))\n",
    "    # print(f'{coherences[-1]:.4f}')"
   ]
  },
  {
   "cell_type": "code",
   "execution_count": 22,
   "metadata": {
    "ExecuteTime": {
     "end_time": "2021-05-22T00:42:30.730786Z",
     "start_time": "2021-05-22T00:42:30.576508Z"
    }
   },
   "outputs": [
    {
     "data": {
      "image/png": "[encoded data removed]",
      "text/plain": [
       "<Figure size 936x504 with 1 Axes>"
      ]
     },
     "metadata": {},
     "output_type": "display_data"
    }
   ],
   "source": [
    "fig = plt.figure(figsize=(13,7))\n",
    "\n",
    "# create the line plot\n",
    "ax = plt.plot( k_values, coherences )\n",
    "plt.xticks(k_values)\n",
    "plt.xlabel(\"Number of Topics\")\n",
    "plt.ylabel(\"Mean Coherence\")\n",
    "\n",
    "# add the points\n",
    "plt.scatter( k_values, coherences, s=120)\n",
    "\n",
    "\n",
    "# find and annotate the maximum point on the plot\n",
    "ymax = max(coherences)\n",
    "xpos = coherences.index(ymax)\n",
    "best_k = k_values[xpos]\n",
    "plt.annotate( \"k=%d\" % best_k, xy=(best_k, ymax), xytext=(best_k, ymax), textcoords=\"offset points\", fontsize=16)\n",
    "\n",
    "# show the plot\n",
    "plt.show()"
   ]
  },
  {
   "cell_type": "markdown",
   "metadata": {},
   "source": [
    "### Examine the Final  Model"
   ]
  },
  {
   "cell_type": "markdown",
   "metadata": {},
   "source": [
    "The plot above suggests that the most appropriate value for the number of topics is *k=8*."
   ]
  },
  {
   "cell_type": "markdown",
   "metadata": {},
   "source": [
    "# 5"
   ]
  },
  {
   "cell_type": "code",
   "execution_count": 23,
   "metadata": {
    "ExecuteTime": {
     "end_time": "2021-05-22T00:42:30.734723Z",
     "start_time": "2021-05-22T00:42:30.732086Z"
    }
   },
   "outputs": [],
   "source": [
    "k = 5 # best_k\n",
    "\n",
    "# get the model that we generated earlier.\n",
    "W = topic_models[0][1]\n",
    "H = topic_models[0][2]"
   ]
  },
  {
   "cell_type": "code",
   "execution_count": 24,
   "metadata": {
    "ExecuteTime": {
     "end_time": "2021-05-22T00:42:30.749075Z",
     "start_time": "2021-05-22T00:42:30.735963Z"
    }
   },
   "outputs": [
    {
     "name": "stdout",
     "output_type": "stream",
     "text": [
      "Topic 01: dia, mujer, feliz, internacional, ser\n",
      "Topic 02: mujeres, igualdad, derechos, hombres, mundo\n",
      "Topic 03: todas, gracias, feliz, felicidades, mundo\n",
      "Topic 04: hoy, siempre, lucha, dias, manana\n",
      "Topic 05: marcha, ser, asi, feminista, mujer\n"
     ]
    }
   ],
   "source": [
    "for topic_index in range(k):\n",
    "    descriptor = get_descriptor( terms, H, topic_index, 5)\n",
    "    str_descriptor = \", \".join( descriptor )\n",
    "    print(\"Topic %02d: %s\" % ( topic_index+1, str_descriptor ) )"
   ]
  },
  {
   "cell_type": "code",
   "execution_count": 25,
   "metadata": {
    "ExecuteTime": {
     "end_time": "2021-05-22T00:42:30.761566Z",
     "start_time": "2021-05-22T00:42:30.751873Z"
    }
   },
   "outputs": [
    {
     "name": "stdout",
     "output_type": "stream",
     "text": [
      "Topic 01: dia, mujer, feliz, internacional, ser, marzo, trabajadora, cada, lucha, mundo\n",
      "Topic 02: mujeres, igualdad, derechos, hombres, mundo, violencia, lucha, genero, vida, sociedad\n",
      "Topic 03: todas, gracias, feliz, felicidades, mundo, juntas, especial, amigas, companeras, aquellas\n",
      "Topic 04: hoy, siempre, lucha, dias, manana, nunca, dia, igualdad, derechos, ano\n",
      "Topic 05: marcha, ser, asi, feminista, mujer, ver, quiero, manana, solo, miedo\n"
     ]
    }
   ],
   "source": [
    "for topic_index in range(k):\n",
    "    descriptor = get_descriptor( terms, H, topic_index, 10)\n",
    "    str_descriptor = \", \".join( descriptor )\n",
    "    print(\"Topic %02d: %s\" % ( topic_index+1, str_descriptor ) )"
   ]
  },
  {
   "cell_type": "code",
   "execution_count": 26,
   "metadata": {
    "ExecuteTime": {
     "end_time": "2021-05-22T00:42:30.771034Z",
     "start_time": "2021-05-22T00:42:30.763185Z"
    }
   },
   "outputs": [
    {
     "name": "stdout",
     "output_type": "stream",
     "text": [
      "Topic 01: dia, mujer, feliz, internacional, ser, marzo, trabajadora, cada, lucha, mundo, conmemora, igualdad, especial, vida, hombre\n",
      "Topic 02: mujeres, igualdad, derechos, hombres, mundo, violencia, lucha, genero, vida, sociedad, respeto, miles, solo, pais, historia\n",
      "Topic 03: todas, gracias, feliz, felicidades, mundo, juntas, especial, amigas, companeras, aquellas, muchas, ustedes, abrazo, mejor, voz\n",
      "Topic 04: hoy, siempre, lucha, dias, manana, nunca, dia, igualdad, derechos, ano, queremos, solo, voz, historia, calles\n",
      "Topic 05: marcha, ser, asi, feminista, mujer, ver, quiero, manana, solo, miedo, primera, chile, bien, mexico, personas\n"
     ]
    }
   ],
   "source": [
    "for topic_index in range(k):\n",
    "    descriptor = get_descriptor( terms, H, topic_index, 15)\n",
    "    str_descriptor = \", \".join( descriptor )\n",
    "    print(\"Topic %02d: %s\" % ( topic_index+1, str_descriptor ) )"
   ]
  },
  {
   "cell_type": "code",
   "execution_count": 27,
   "metadata": {
    "ExecuteTime": {
     "end_time": "2021-05-22T00:42:30.780242Z",
     "start_time": "2021-05-22T00:42:30.772316Z"
    }
   },
   "outputs": [
    {
     "name": "stdout",
     "output_type": "stream",
     "text": [
      "Topic 01: dia, mujer, feliz, internacional, ser, marzo, trabajadora, cada, lucha, mundo, conmemora, igualdad, especial, vida, hombre, dias, celebrar, conmemoracion, celebra, dejen\n",
      "Topic 02: mujeres, igualdad, derechos, hombres, mundo, violencia, lucha, genero, vida, sociedad, respeto, miles, solo, pais, historia, mexico, feminismo, calles, trabajo, ninas\n",
      "Topic 03: todas, gracias, feliz, felicidades, mundo, juntas, especial, amigas, companeras, aquellas, muchas, ustedes, abrazo, mejor, voz, quiero, vida, hermanas, queremos, luchan\n",
      "Topic 04: hoy, siempre, lucha, dias, manana, nunca, dia, igualdad, derechos, ano, queremos, solo, voz, historia, calles, juntas, miedo, quiero, calle, ayer\n",
      "Topic 05: marcha, ser, asi, feminista, mujer, ver, quiero, manana, solo, miedo, primera, chile, bien, mexico, personas, violencia, mil, tan, ahora, gobierno\n"
     ]
    }
   ],
   "source": [
    "for topic_index in range(k):\n",
    "    descriptor = get_descriptor( terms, H, topic_index, 20)\n",
    "    str_descriptor = \", \".join( descriptor )\n",
    "    print(\"Topic %02d: %s\" % ( topic_index+1, str_descriptor ) )"
   ]
  },
  {
   "cell_type": "markdown",
   "metadata": {},
   "source": [
    "# 10"
   ]
  },
  {
   "cell_type": "code",
   "execution_count": 28,
   "metadata": {
    "ExecuteTime": {
     "end_time": "2021-05-22T00:42:30.784541Z",
     "start_time": "2021-05-22T00:42:30.781481Z"
    }
   },
   "outputs": [],
   "source": [
    "k = 10 # best_k\n",
    "\n",
    "# get the model that we generated earlier.\n",
    "W = topic_models[1][1]\n",
    "H = topic_models[1][2]"
   ]
  },
  {
   "cell_type": "code",
   "execution_count": 29,
   "metadata": {
    "ExecuteTime": {
     "end_time": "2021-05-22T00:42:30.804223Z",
     "start_time": "2021-05-22T00:42:30.785717Z"
    }
   },
   "outputs": [
    {
     "name": "stdout",
     "output_type": "stream",
     "text": [
      "Topic 01: dia, internacional, cada, marzo, celebrar\n",
      "Topic 02: mujeres, hombres, mundo, violencia, vida\n",
      "Topic 03: todas, felicidades, mundo, juntas, especial\n",
      "Topic 04: hoy, siempre, dias, manana, nunca\n",
      "Topic 05: mujer, internacional, marzo, trabajadora, hombre\n",
      "Topic 06: marcha, asi, feminista, manana, ver\n",
      "Topic 07: ser, quiero, miedo, libres, queremos\n",
      "Topic 08: gracias, muchas, disponible, siempre, ultimo\n",
      "Topic 09: lucha, igualdad, derechos, genero, feminismo\n",
      "Topic 10: feliz, dias, dia, mundo, buenos\n"
     ]
    }
   ],
   "source": [
    "for topic_index in range(k):\n",
    "    descriptor = get_descriptor( terms, H, topic_index, 5)\n",
    "    str_descriptor = \", \".join( descriptor )\n",
    "    print(\"Topic %02d: %s\" % ( topic_index+1, str_descriptor ) )"
   ]
  },
  {
   "cell_type": "code",
   "execution_count": 30,
   "metadata": {
    "ExecuteTime": {
     "end_time": "2021-05-22T00:42:30.819246Z",
     "start_time": "2021-05-22T00:42:30.805579Z"
    }
   },
   "outputs": [
    {
     "name": "stdout",
     "output_type": "stream",
     "text": [
      "Topic 01: dia, internacional, cada, marzo, celebrar, buen, especial, mejor, algun, luchan\n",
      "Topic 02: mujeres, hombres, mundo, violencia, vida, miles, mexico, historia, pais, derechos\n",
      "Topic 03: todas, felicidades, mundo, juntas, especial, aquellas, amigas, companeras, abrazo, voz\n",
      "Topic 04: hoy, siempre, dias, manana, nunca, historia, voz, ano, solo, calles\n",
      "Topic 05: mujer, internacional, marzo, trabajadora, hombre, via, vida, conmemora, mundo, celebra\n",
      "Topic 06: marcha, asi, feminista, manana, ver, chile, primera, mil, mexico, personas\n",
      "Topic 07: ser, quiero, miedo, libres, queremos, solo, vivas, puede, asi, vida\n",
      "Topic 08: gracias, muchas, disponible, siempre, ultimo, diario, vida, mejor, tan, ustedes\n",
      "Topic 09: lucha, igualdad, derechos, genero, feminismo, violencia, sociedad, respeto, feminista, oportunidades\n",
      "Topic 10: feliz, dias, dia, mundo, buenos, dejen, domingo, falte, ninguna, siempre\n"
     ]
    }
   ],
   "source": [
    "for topic_index in range(k):\n",
    "    descriptor = get_descriptor( terms, H, topic_index, 10)\n",
    "    str_descriptor = \", \".join( descriptor )\n",
    "    print(\"Topic %02d: %s\" % ( topic_index+1, str_descriptor ) )"
   ]
  },
  {
   "cell_type": "code",
   "execution_count": 31,
   "metadata": {
    "ExecuteTime": {
     "end_time": "2021-05-22T00:42:30.832785Z",
     "start_time": "2021-05-22T00:42:30.820476Z"
    }
   },
   "outputs": [
    {
     "name": "stdout",
     "output_type": "stream",
     "text": [
      "Topic 01: dia, internacional, cada, marzo, celebrar, buen, especial, mejor, algun, luchan, celebracion, conmemorar, conmemoracion, ano, trabajadora\n",
      "Topic 02: mujeres, hombres, mundo, violencia, vida, miles, mexico, historia, pais, derechos, solo, chile, calles, ninas, valientes\n",
      "Topic 03: todas, felicidades, mundo, juntas, especial, aquellas, amigas, companeras, abrazo, voz, luchan, queremos, hermanas, ustedes, cada\n",
      "Topic 04: hoy, siempre, dias, manana, nunca, historia, voz, ano, solo, calles, ayer, marchamos, celebramos, juntas, buenos\n",
      "Topic 05: mujer, internacional, marzo, trabajadora, hombre, via, vida, conmemora, mundo, celebra, valiente, madre, felicidades, sociedad, luchadora\n",
      "Topic 06: marcha, asi, feminista, manana, ver, chile, primera, mil, mexico, personas, fotos, violencia, via, santiago, gobierno\n",
      "Topic 07: ser, quiero, miedo, libres, queremos, solo, vivas, puede, asi, vida, debe, nunca, libre, feminista, tan\n",
      "Topic 08: gracias, muchas, disponible, siempre, ultimo, diario, vida, mejor, tan, ustedes, amor, amo, mundo, cada, gran\n",
      "Topic 09: lucha, igualdad, derechos, genero, feminismo, violencia, sociedad, respeto, feminista, oportunidades, real, hombres, libertad, equidad, justicia\n",
      "Topic 10: feliz, dias, dia, mundo, buenos, dejen, domingo, falte, ninguna, siempre, desea, vida, deseamos, luchadoras, matarnos\n"
     ]
    }
   ],
   "source": [
    "for topic_index in range(k):\n",
    "    descriptor = get_descriptor( terms, H, topic_index, 15)\n",
    "    str_descriptor = \", \".join( descriptor )\n",
    "    print(\"Topic %02d: %s\" % ( topic_index+1, str_descriptor ) )"
   ]
  },
  {
   "cell_type": "code",
   "execution_count": 32,
   "metadata": {
    "ExecuteTime": {
     "end_time": "2021-05-22T00:42:30.848698Z",
     "start_time": "2021-05-22T00:42:30.836208Z"
    }
   },
   "outputs": [
    {
     "name": "stdout",
     "output_type": "stream",
     "text": [
      "Topic 01: dia, internacional, cada, marzo, celebrar, buen, especial, mejor, algun, luchan, celebracion, conmemorar, conmemoracion, ano, trabajadora, recordar, gran, conmemora, felicitar, historico\n",
      "Topic 02: mujeres, hombres, mundo, violencia, vida, miles, mexico, historia, pais, derechos, solo, chile, calles, ninas, valientes, trabajadoras, trabajo, muchas, millones, hacen\n",
      "Topic 03: todas, felicidades, mundo, juntas, especial, aquellas, amigas, companeras, abrazo, voz, luchan, queremos, hermanas, ustedes, cada, mejor, luchando, vamos, respeto, unidas\n",
      "Topic 04: hoy, siempre, dias, manana, nunca, historia, voz, ano, solo, calles, ayer, marchamos, celebramos, juntas, buenos, calle, marchar, conmemoramos, vamos, conmemora\n",
      "Topic 05: mujer, internacional, marzo, trabajadora, hombre, via, vida, conmemora, mundo, celebra, valiente, madre, felicidades, sociedad, luchadora, historia, gran, dios, conmemoracion, amor\n",
      "Topic 06: marcha, asi, feminista, manana, ver, chile, primera, mil, mexico, personas, fotos, violencia, via, santiago, gobierno, cdmx, plaza, ayer, ciudad, aqui\n",
      "Topic 07: ser, quiero, miedo, libres, queremos, solo, vivas, puede, asi, vida, debe, nunca, libre, feminista, tan, casa, vivir, tener, hacer, siempre\n",
      "Topic 08: gracias, muchas, disponible, siempre, ultimo, diario, vida, mejor, tan, ustedes, amor, amo, mundo, cada, gran, existir, companeras, voz, trabajo, hacer\n",
      "Topic 09: lucha, igualdad, derechos, genero, feminismo, violencia, sociedad, respeto, feminista, oportunidades, real, hombres, libertad, equidad, justicia, seguir, luchando, marzo, dias, ano\n",
      "Topic 10: feliz, dias, dia, mundo, buenos, dejen, domingo, falte, ninguna, siempre, desea, vida, deseamos, luchadoras, matarnos, guerreras, ustedes, hermosas, companeras, chicas\n"
     ]
    }
   ],
   "source": [
    "for topic_index in range(k):\n",
    "    descriptor = get_descriptor( terms, H, topic_index, 20)\n",
    "    str_descriptor = \", \".join( descriptor )\n",
    "    print(\"Topic %02d: %s\" % ( topic_index+1, str_descriptor ) )"
   ]
  },
  {
   "cell_type": "markdown",
   "metadata": {},
   "source": [
    "# 15"
   ]
  },
  {
   "cell_type": "code",
   "execution_count": 33,
   "metadata": {
    "ExecuteTime": {
     "end_time": "2021-05-22T00:42:30.853408Z",
     "start_time": "2021-05-22T00:42:30.850133Z"
    }
   },
   "outputs": [],
   "source": [
    "k = 15 # best_k\n",
    "\n",
    "# get the model that we generated earlier.\n",
    "W = topic_models[2][1]\n",
    "H = topic_models[2][2]"
   ]
  },
  {
   "cell_type": "code",
   "execution_count": 34,
   "metadata": {
    "ExecuteTime": {
     "end_time": "2021-05-22T00:42:30.875681Z",
     "start_time": "2021-05-22T00:42:30.855681Z"
    }
   },
   "outputs": [
    {
     "name": "stdout",
     "output_type": "stream",
     "text": [
      "Topic 01: dia, internacional, cada, marzo, celebrar\n",
      "Topic 02: mujeres, hombres, violencia, miles, vida\n",
      "Topic 03: todas, felicidades, especial, juntas, aquellas\n",
      "Topic 04: hoy, dias, manana, nunca, historia\n",
      "Topic 05: mujer, internacional, marzo, trabajadora, hombre\n",
      "Topic 06: marcha, feminista, manana, primera, chile\n",
      "Topic 07: ser, solo, puede, debe, feminista\n",
      "Topic 08: gracias, muchas, disponible, ultimo, diario\n",
      "Topic 09: igualdad, derechos, genero, violencia, feminismo\n",
      "Topic 10: feliz, dias, dia, buenos, dejen\n",
      "Topic 11: asi, mexico, bien, manifestacion, aun\n",
      "Topic 12: lucha, feminista, derechos, sigue, conmemora\n",
      "Topic 13: siempre, manana, nunca, juntas, vida\n",
      "Topic 14: mundo, mejor, cada, hacer, vida\n",
      "Topic 15: queremos, miedo, libres, quiero, vivas\n"
     ]
    }
   ],
   "source": [
    "for topic_index in range(k):\n",
    "    descriptor = get_descriptor( terms, H, topic_index, 5)\n",
    "    str_descriptor = \", \".join( descriptor )\n",
    "    print(\"Topic %02d: %s\" % ( topic_index+1, str_descriptor ) )"
   ]
  },
  {
   "cell_type": "code",
   "execution_count": 35,
   "metadata": {
    "ExecuteTime": {
     "end_time": "2021-05-22T00:42:30.895491Z",
     "start_time": "2021-05-22T00:42:30.877175Z"
    }
   },
   "outputs": [
    {
     "name": "stdout",
     "output_type": "stream",
     "text": [
      "Topic 01: dia, internacional, cada, marzo, celebrar, buen, especial, algun, celebracion, conmemorar\n",
      "Topic 02: mujeres, hombres, violencia, miles, vida, historia, mexico, pais, solo, derechos\n",
      "Topic 03: todas, felicidades, especial, juntas, aquellas, amigas, companeras, abrazo, voz, luchan\n",
      "Topic 04: hoy, dias, manana, nunca, historia, voz, ano, solo, calles, ayer\n",
      "Topic 05: mujer, internacional, marzo, trabajadora, hombre, via, conmemora, vida, celebra, valiente\n",
      "Topic 06: marcha, feminista, manana, primera, chile, ver, mil, personas, fotos, santiago\n",
      "Topic 07: ser, solo, puede, debe, feminista, vida, tan, hombre, dias, deberia\n",
      "Topic 08: gracias, muchas, disponible, ultimo, diario, vida, tan, ustedes, amor, amo\n",
      "Topic 09: igualdad, derechos, genero, violencia, feminismo, respeto, hombres, sociedad, real, oportunidades\n",
      "Topic 10: feliz, dias, dia, buenos, dejen, domingo, falte, ninguna, desea, deseamos\n",
      "Topic 11: asi, mexico, bien, manifestacion, aun, cosas, solo, ojala, gente, ver\n",
      "Topic 12: lucha, feminista, derechos, sigue, conmemora, companeras, continua, viva, fiesta, seguimos\n",
      "Topic 13: siempre, manana, nunca, juntas, vida, ustedes, respeto, fuertes, ahora, lado\n",
      "Topic 14: mundo, mejor, cada, hacer, vida, justo, lugar, ustedes, cambiar, pais\n",
      "Topic 15: queremos, miedo, libres, quiero, vivas, vivir, juntas, casa, calle, salir\n"
     ]
    }
   ],
   "source": [
    "for topic_index in range(k):\n",
    "    descriptor = get_descriptor( terms, H, topic_index, 10)\n",
    "    str_descriptor = \", \".join( descriptor )\n",
    "    print(\"Topic %02d: %s\" % ( topic_index+1, str_descriptor ) )"
   ]
  },
  {
   "cell_type": "code",
   "execution_count": 36,
   "metadata": {
    "ExecuteTime": {
     "end_time": "2021-05-22T00:42:30.914258Z",
     "start_time": "2021-05-22T00:42:30.896779Z"
    }
   },
   "outputs": [
    {
     "name": "stdout",
     "output_type": "stream",
     "text": [
      "Topic 01: dia, internacional, cada, marzo, celebrar, buen, especial, algun, celebracion, conmemorar, luchan, conmemoracion, ano, trabajadora, recordar\n",
      "Topic 02: mujeres, hombres, violencia, miles, vida, historia, mexico, pais, solo, derechos, calles, valientes, trabajadoras, chile, muchas\n",
      "Topic 03: todas, felicidades, especial, juntas, aquellas, amigas, companeras, abrazo, voz, luchan, hermanas, ustedes, pueden, saludo, respeto\n",
      "Topic 04: hoy, dias, manana, nunca, historia, voz, ano, solo, calles, ayer, marchamos, celebramos, buenos, conmemoramos, marchar\n",
      "Topic 05: mujer, internacional, marzo, trabajadora, hombre, via, conmemora, vida, celebra, valiente, madre, felicidades, luchadora, sociedad, historia\n",
      "Topic 06: marcha, feminista, manana, primera, chile, ver, mil, personas, fotos, santiago, mexico, violencia, via, multitudinaria, plaza\n",
      "Topic 07: ser, solo, puede, debe, feminista, vida, tan, hombre, dias, deberia, parte, orgullosa, dejen, quiero, libre\n",
      "Topic 08: gracias, muchas, disponible, ultimo, diario, vida, tan, ustedes, amor, amo, gran, existir, voz, companeras, trabajo\n",
      "Topic 09: igualdad, derechos, genero, violencia, feminismo, respeto, hombres, sociedad, real, oportunidades, libertad, justicia, equidad, luchando, ano\n",
      "Topic 10: feliz, dias, dia, buenos, dejen, domingo, falte, ninguna, desea, deseamos, luchadoras, vida, matarnos, guerreras, hermosas\n",
      "Topic 11: asi, mexico, bien, manifestacion, aun, cosas, solo, ojala, gente, ver, gobierno, feministas, claro, hace, zocalo\n",
      "Topic 12: lucha, feminista, derechos, sigue, conmemora, companeras, continua, viva, fiesta, seguimos, conmemoramos, sociedad, reivindicacion, celebra, fuerza\n",
      "Topic 13: siempre, manana, nunca, juntas, vida, ustedes, respeto, fuertes, ahora, lado, bien, unidas, tan, solo, sido\n",
      "Topic 14: mundo, mejor, cada, hacer, vida, justo, lugar, ustedes, cambiar, pais, igualitario, hacen, chile, amor, mas\n",
      "Topic 15: queremos, miedo, libres, quiero, vivas, vivir, juntas, casa, calle, salir, nunca, fuertes, libre, iguales, tener\n"
     ]
    }
   ],
   "source": [
    "for topic_index in range(k):\n",
    "    descriptor = get_descriptor( terms, H, topic_index, 15)\n",
    "    str_descriptor = \", \".join( descriptor )\n",
    "    print(\"Topic %02d: %s\" % ( topic_index+1, str_descriptor ) )"
   ]
  },
  {
   "cell_type": "code",
   "execution_count": 37,
   "metadata": {
    "ExecuteTime": {
     "end_time": "2021-05-22T00:42:30.931311Z",
     "start_time": "2021-05-22T00:42:30.915735Z"
    }
   },
   "outputs": [
    {
     "name": "stdout",
     "output_type": "stream",
     "text": [
      "Topic 01: dia, internacional, cada, marzo, celebrar, buen, especial, algun, celebracion, conmemorar, luchan, conmemoracion, ano, trabajadora, recordar, gran, felicitar, historico, ojala, conmemora\n",
      "Topic 02: mujeres, hombres, violencia, miles, vida, historia, mexico, pais, solo, derechos, calles, valientes, trabajadoras, chile, muchas, ninas, trabajo, millones, grandes, marchan\n",
      "Topic 03: todas, felicidades, especial, juntas, aquellas, amigas, companeras, abrazo, voz, luchan, hermanas, ustedes, pueden, saludo, respeto, cada, luchadoras, admiracion, luchando, reconocimiento\n",
      "Topic 04: hoy, dias, manana, nunca, historia, voz, ano, solo, calles, ayer, marchamos, celebramos, buenos, conmemoramos, marchar, calle, conmemora, celebra, vamos, hace\n",
      "Topic 05: mujer, internacional, marzo, trabajadora, hombre, via, conmemora, vida, celebra, valiente, madre, felicidades, luchadora, sociedad, historia, gran, conmemoracion, participacion, dios, amor\n",
      "Topic 06: marcha, feminista, manana, primera, chile, ver, mil, personas, fotos, santiago, mexico, violencia, via, multitudinaria, plaza, ayer, carabineros, pacifica, cdmx, aqui\n",
      "Topic 07: ser, solo, puede, debe, feminista, vida, tan, hombre, dias, deberia, parte, orgullosa, dejen, quiero, libre, hecho, mujer, hacer, feminismo, hombres\n",
      "Topic 08: gracias, muchas, disponible, ultimo, diario, vida, tan, ustedes, amor, amo, gran, existir, voz, companeras, trabajo, compartir, cada, amiga, feminismo, hermoso\n",
      "Topic 09: igualdad, derechos, genero, violencia, feminismo, respeto, hombres, sociedad, real, oportunidades, libertad, justicia, equidad, luchando, ano, seguir, generacion, luchar, dias, marzo\n",
      "Topic 10: feliz, dias, dia, buenos, dejen, domingo, falte, ninguna, desea, deseamos, luchadoras, vida, matarnos, guerreras, hermosas, chicas, companeras, ustedes, amiga, mujer\n",
      "Topic 11: asi, mexico, bien, manifestacion, aun, cosas, solo, ojala, gente, ver, gobierno, feministas, claro, hace, zocalo, feminismo, vivio, hacer, ahora, ciudad\n",
      "Topic 12: lucha, feminista, derechos, sigue, conmemora, companeras, continua, viva, fiesta, seguimos, conmemoramos, sociedad, reivindicacion, celebra, fuerza, calles, felicita, ejemplo, marzo, diaria\n",
      "Topic 13: siempre, manana, nunca, juntas, vida, ustedes, respeto, fuertes, ahora, lado, bien, unidas, tan, solo, sido, amo, presente, amor, dios, ayer\n",
      "Topic 14: mundo, mejor, cada, hacer, vida, justo, lugar, ustedes, cambiar, pais, igualitario, hacen, chile, amor, mas, grande, felicidades, vez, entero, futuro\n",
      "Topic 15: queremos, miedo, libres, quiero, vivas, vivir, juntas, casa, calle, salir, nunca, fuertes, libre, iguales, tener, unidas, vamos, seguras, menos, voz\n"
     ]
    }
   ],
   "source": [
    "for topic_index in range(k):\n",
    "    descriptor = get_descriptor( terms, H, topic_index, 20)\n",
    "    str_descriptor = \", \".join( descriptor )\n",
    "    print(\"Topic %02d: %s\" % ( topic_index+1, str_descriptor ) )"
   ]
  },
  {
   "cell_type": "markdown",
   "metadata": {},
   "source": [
    "# 20"
   ]
  },
  {
   "cell_type": "code",
   "execution_count": 38,
   "metadata": {
    "ExecuteTime": {
     "end_time": "2021-05-22T00:42:30.935825Z",
     "start_time": "2021-05-22T00:42:30.932671Z"
    }
   },
   "outputs": [],
   "source": [
    "k = 20 # best_k\n",
    "\n",
    "# get the model that we generated earlier.\n",
    "W = topic_models[3][1]\n",
    "H = topic_models[3][2]"
   ]
  },
  {
   "cell_type": "markdown",
   "metadata": {},
   "source": [
    "Display the topic descriptors for this model:"
   ]
  },
  {
   "cell_type": "code",
   "execution_count": 39,
   "metadata": {
    "ExecuteTime": {
     "end_time": "2021-05-22T00:42:30.960102Z",
     "start_time": "2021-05-22T00:42:30.937630Z"
    }
   },
   "outputs": [
    {
     "name": "stdout",
     "output_type": "stream",
     "text": [
      "Topic 01: dia, internacional, cada, especial, buen\n",
      "Topic 02: mujeres, hombres, miles, derechos, vida\n",
      "Topic 03: todas, felicidades, especial, juntas, aquellas\n",
      "Topic 04: hoy, manana, nunca, voz, historia\n",
      "Topic 05: mujer, internacional, trabajadora, hombre, vida\n",
      "Topic 06: marcha, manana, primera, mil, chile\n",
      "Topic 07: ser, puede, debe, vida, deberia\n",
      "Topic 08: gracias, muchas, disponible, ultimo, diario\n",
      "Topic 09: igualdad, derechos, respeto, hombres, oportunidades\n",
      "Topic 10: feliz, dia, dejen, ninguna, falte\n",
      "Topic 11: asi, aun, mexico, ojala, vivio\n",
      "Topic 12: lucha, derechos, sigue, feminista, conmemora\n",
      "Topic 13: queremos, libres, vivas, miedo, juntas\n",
      "Topic 14: mundo, mejor, cada, justo, vida\n",
      "Topic 15: siempre, manana, juntas, nunca, vida\n",
      "Topic 16: dias, buenos, ano, solo, vida\n",
      "Topic 17: marzo, internacional, via, domingo, conmemora\n",
      "Topic 18: violencia, genero, mexico, machista, pais\n",
      "Topic 19: quiero, miedo, libre, manana, casa\n",
      "Topic 20: feminismo, feminista, solo, bien, manifestacion\n"
     ]
    }
   ],
   "source": [
    "for topic_index in range(k):\n",
    "    descriptor = get_descriptor( terms, H, topic_index, 5)\n",
    "    str_descriptor = \", \".join( descriptor )\n",
    "    print(\"Topic %02d: %s\" % ( topic_index+1, str_descriptor ) )"
   ]
  },
  {
   "cell_type": "code",
   "execution_count": 40,
   "metadata": {
    "ExecuteTime": {
     "end_time": "2021-05-22T00:42:30.980689Z",
     "start_time": "2021-05-22T00:42:30.961523Z"
    }
   },
   "outputs": [
    {
     "name": "stdout",
     "output_type": "stream",
     "text": [
      "Topic 01: dia, internacional, cada, especial, buen, celebrar, algun, luchan, conmemorar, celebracion\n",
      "Topic 02: mujeres, hombres, miles, derechos, vida, historia, valientes, trabajadoras, pais, ninas\n",
      "Topic 03: todas, felicidades, especial, juntas, aquellas, amigas, abrazo, companeras, voz, luchan\n",
      "Topic 04: hoy, manana, nunca, voz, historia, marchamos, celebramos, conmemoramos, calles, ayer\n",
      "Topic 05: mujer, internacional, trabajadora, hombre, vida, valiente, madre, luchadora, felicidades, sociedad\n",
      "Topic 06: marcha, manana, primera, mil, chile, multitudinaria, fotos, santiago, pacifica, cdmx\n",
      "Topic 07: ser, puede, debe, vida, deberia, dejen, orgullosa, parte, ninguna, libre\n",
      "Topic 08: gracias, muchas, disponible, ultimo, diario, vida, tan, amor, ustedes, amo\n",
      "Topic 09: igualdad, derechos, respeto, hombres, oportunidades, real, genero, sociedad, libertad, luchando\n",
      "Topic 10: feliz, dia, dejen, ninguna, falte, domingo, desea, deseamos, luchadoras, vida\n",
      "Topic 11: asi, aun, mexico, ojala, vivio, cosas, zocalo, cdmx, luce, claro\n",
      "Topic 12: lucha, derechos, sigue, feminista, conmemora, continua, companeras, viva, fiesta, seguimos\n",
      "Topic 13: queremos, libres, vivas, miedo, juntas, vivir, iguales, fuertes, unidas, seguras\n",
      "Topic 14: mundo, mejor, cada, justo, vida, lugar, ustedes, cambiar, igualitario, hacer\n",
      "Topic 15: siempre, manana, juntas, nunca, vida, ustedes, respeto, fuertes, lado, unidas\n",
      "Topic 16: dias, buenos, ano, solo, vida, resto, domingo, femicidios, hace, sino\n",
      "Topic 17: marzo, internacional, via, domingo, conmemora, manana, celebra, conmemoracion, paro, mexico\n",
      "Topic 18: violencia, genero, mexico, machista, pais, libre, vida, alto, feminicidios, hacia\n",
      "Topic 19: quiero, miedo, libre, manana, casa, sola, vida, amigas, salir, vivir\n",
      "Topic 20: feminismo, feminista, solo, bien, manifestacion, ver, hacer, hace, aqui, hombres\n"
     ]
    }
   ],
   "source": [
    "for topic_index in range(k):\n",
    "    descriptor = get_descriptor( terms, H, topic_index, 10)\n",
    "    str_descriptor = \", \".join( descriptor )\n",
    "    print(\"Topic %02d: %s\" % ( topic_index+1, str_descriptor ) )"
   ]
  },
  {
   "cell_type": "code",
   "execution_count": 41,
   "metadata": {
    "ExecuteTime": {
     "end_time": "2021-05-22T00:42:31.003194Z",
     "start_time": "2021-05-22T00:42:30.981988Z"
    }
   },
   "outputs": [
    {
     "name": "stdout",
     "output_type": "stream",
     "text": [
      "Topic 01: dia, internacional, cada, especial, buen, celebrar, algun, luchan, conmemorar, celebracion, trabajadora, conmemoracion, recordar, gran, felicitar\n",
      "Topic 02: mujeres, hombres, miles, derechos, vida, historia, valientes, trabajadoras, pais, ninas, muchas, grandes, trabajo, chile, luchadoras\n",
      "Topic 03: todas, felicidades, especial, juntas, aquellas, amigas, abrazo, companeras, voz, luchan, hermanas, ustedes, cada, pueden, saludo\n",
      "Topic 04: hoy, manana, nunca, voz, historia, marchamos, celebramos, conmemoramos, calles, ayer, marchar, conmemora, calle, celebra, salimos\n",
      "Topic 05: mujer, internacional, trabajadora, hombre, vida, valiente, madre, luchadora, felicidades, sociedad, conmemora, celebra, gran, dios, amor\n",
      "Topic 06: marcha, manana, primera, mil, chile, multitudinaria, fotos, santiago, pacifica, cdmx, plaza, carabineros, personas, asistentes, zocalo\n",
      "Topic 07: ser, puede, debe, vida, deberia, dejen, orgullosa, parte, ninguna, libre, humano, tan, hecho, falte, hombre\n",
      "Topic 08: gracias, muchas, disponible, ultimo, diario, vida, tan, amor, ustedes, amo, existir, voz, gran, companeras, trabajo\n",
      "Topic 09: igualdad, derechos, respeto, hombres, oportunidades, real, genero, sociedad, libertad, luchando, justicia, equidad, generacion, seguir, luchar\n",
      "Topic 10: feliz, dia, dejen, ninguna, falte, domingo, desea, deseamos, luchadoras, vida, matarnos, guerreras, hermosas, ustedes, chicas\n",
      "Topic 11: asi, aun, mexico, ojala, vivio, cosas, zocalo, cdmx, luce, claro, vive, ciudad, respeto, monumento, gente\n",
      "Topic 12: lucha, derechos, sigue, feminista, conmemora, continua, companeras, viva, fiesta, seguimos, conmemoramos, sociedad, reivindicacion, celebra, felicita\n",
      "Topic 13: queremos, libres, vivas, miedo, juntas, vivir, iguales, fuertes, unidas, seguras, valientes, calle, salir, menos, voz\n",
      "Topic 14: mundo, mejor, cada, justo, vida, lugar, ustedes, cambiar, igualitario, hacer, pais, hacen, amor, felicidades, chile\n",
      "Topic 15: siempre, manana, juntas, nunca, vida, ustedes, respeto, fuertes, lado, unidas, presente, sido, amor, amo, dios\n",
      "Topic 16: dias, buenos, ano, solo, vida, resto, domingo, femicidios, hace, sino, pasado, aires, felicidades, respeto, felices\n",
      "Topic 17: marzo, internacional, via, domingo, conmemora, manana, celebra, conmemoracion, paro, mexico, plaza, lunes, calles, trabajadoras, ciudad\n",
      "Topic 18: violencia, genero, mexico, machista, pais, libre, vida, alto, feminicidios, hacia, victimas, justicia, miles, basta, ciudad\n",
      "Topic 19: quiero, miedo, libre, manana, casa, sola, vida, amigas, salir, vivir, viva, madre, tener, valiente, llegar\n",
      "Topic 20: feminismo, feminista, solo, bien, manifestacion, ver, hacer, hace, aqui, hombres, nunca, ahora, cada, tan, movimiento\n"
     ]
    }
   ],
   "source": [
    "for topic_index in range(k):\n",
    "    descriptor = get_descriptor( terms, H, topic_index, 15)\n",
    "    str_descriptor = \", \".join( descriptor )\n",
    "    print(\"Topic %02d: %s\" % ( topic_index+1, str_descriptor ) )"
   ]
  },
  {
   "cell_type": "code",
   "execution_count": 42,
   "metadata": {
    "ExecuteTime": {
     "end_time": "2021-05-22T00:42:31.023062Z",
     "start_time": "2021-05-22T00:42:31.004418Z"
    }
   },
   "outputs": [
    {
     "name": "stdout",
     "output_type": "stream",
     "text": [
      "Topic 01: dia, internacional, cada, especial, buen, celebrar, algun, luchan, conmemorar, celebracion, trabajadora, conmemoracion, recordar, gran, felicitar, historico, importante, llegue, ojala, festejar\n",
      "Topic 02: mujeres, hombres, miles, derechos, vida, historia, valientes, trabajadoras, pais, ninas, muchas, grandes, trabajo, chile, luchadoras, millones, especial, calles, fuertes, marchan\n",
      "Topic 03: todas, felicidades, especial, juntas, aquellas, amigas, abrazo, companeras, voz, luchan, hermanas, ustedes, cada, pueden, saludo, luchadoras, admiracion, respeto, reconocimiento, luchando\n",
      "Topic 04: hoy, manana, nunca, voz, historia, marchamos, celebramos, conmemoramos, calles, ayer, marchar, conmemora, calle, celebra, salimos, marcho, luchar, recordar, marche, vamos\n",
      "Topic 05: mujer, internacional, trabajadora, hombre, vida, valiente, madre, luchadora, felicidades, sociedad, conmemora, celebra, gran, dios, amor, fuerte, participacion, primera, amiga, venezolana\n",
      "Topic 06: marcha, manana, primera, mil, chile, multitudinaria, fotos, santiago, pacifica, cdmx, plaza, carabineros, personas, asistentes, zocalo, ciudad, ayer, mexico, via, feminista\n",
      "Topic 07: ser, puede, debe, vida, deberia, dejen, orgullosa, parte, ninguna, libre, humano, tan, hecho, falte, hombre, mujer, tener, valiente, orgullo, miedo\n",
      "Topic 08: gracias, muchas, disponible, ultimo, diario, vida, tan, amor, ustedes, amo, existir, voz, gran, companeras, trabajo, compartir, amiga, hermoso, ejemplo, daily\n",
      "Topic 09: igualdad, derechos, respeto, hombres, oportunidades, real, genero, sociedad, libertad, luchando, justicia, equidad, generacion, seguir, luchar, compromiso, lograr, reivindicar, efectiva, ambitos\n",
      "Topic 10: feliz, dia, dejen, ninguna, falte, domingo, desea, deseamos, luchadoras, vida, matarnos, guerreras, hermosas, ustedes, chicas, companeras, amiga, fuertes, decir, happy\n",
      "Topic 11: asi, aun, mexico, ojala, vivio, cosas, zocalo, cdmx, luce, claro, vive, ciudad, respeto, monumento, gente, revolucion, debe, quieren, gobierno, favor\n",
      "Topic 12: lucha, derechos, sigue, feminista, conmemora, continua, companeras, viva, fiesta, seguimos, conmemoramos, sociedad, reivindicacion, celebra, felicita, diaria, fuerza, ejemplo, festeja, seguir\n",
      "Topic 13: queremos, libres, vivas, miedo, juntas, vivir, iguales, fuertes, unidas, seguras, valientes, calle, salir, menos, voz, vamos, nunca, justicia, calles, flores\n",
      "Topic 14: mundo, mejor, cada, justo, vida, lugar, ustedes, cambiar, igualitario, hacer, pais, hacen, amor, felicidades, chile, entero, grande, construir, futuro, vivir\n",
      "Topic 15: siempre, manana, juntas, nunca, vida, ustedes, respeto, fuertes, lado, unidas, presente, sido, amor, amo, dios, admiracion, mejor, ahora, luchando, ayer\n",
      "Topic 16: dias, buenos, ano, solo, vida, resto, domingo, femicidios, hace, sino, pasado, aires, felicidades, respeto, felices, cada, restantes, luchamos, celebrar, dos\n",
      "Topic 17: marzo, internacional, via, domingo, conmemora, manana, celebra, conmemoracion, paro, mexico, plaza, lunes, calles, trabajadoras, ciudad, motivo, huelga, fecha, manifestacion, vemos\n",
      "Topic 18: violencia, genero, mexico, machista, pais, libre, vida, alto, feminicidios, hacia, victimas, justicia, miles, basta, ciudad, equidad, acoso, sexual, discriminacion, ninas\n",
      "Topic 19: quiero, miedo, libre, manana, casa, sola, vida, amigas, salir, vivir, viva, madre, tener, valiente, llegar, calle, ver, mama, voy, llorar\n",
      "Topic 20: feminismo, feminista, solo, bien, manifestacion, ver, hacer, hace, aqui, hombres, nunca, ahora, cada, tan, movimiento, feministas, vez, menos, ano, gente\n"
     ]
    }
   ],
   "source": [
    "for topic_index in range(k):\n",
    "    descriptor = get_descriptor( terms, H, topic_index, 20)\n",
    "    str_descriptor = \", \".join( descriptor )\n",
    "    print(\"Topic %02d: %s\" % ( topic_index+1, str_descriptor ) )"
   ]
  },
  {
   "cell_type": "code",
   "execution_count": null,
   "metadata": {},
   "outputs": [],
   "source": []
  }
 ],
 "metadata": {
  "@webio": {
   "lastCommId": null,
   "lastKernelId": null
  },
  "kernelspec": {
   "display_name": "Python 3",
   "language": "python",
   "name": "python3"
  },
  "language_info": {
   "codemirror_mode": {
    "name": "ipython",
    "version": 3
   },
   "file_extension": ".py",
   "mimetype": "text/x-python",
   "name": "python",
   "nbconvert_exporter": "python",
   "pygments_lexer": "ipython3",
   "version": "3.7.7"
  },
  "toc": {
   "base_numbering": 1,
   "nav_menu": {
    "height": "91px",
    "width": "373px"
   },
   "number_sections": true,
   "sideBar": true,
   "skip_h1_title": false,
   "title_cell": "Table of Contents",
   "title_sidebar": "Contents",
   "toc_cell": false,
   "toc_position": {
    "height": "557px",
    "left": "22px",
    "top": "170px",
    "width": "288px"
   },
   "toc_section_display": true,
   "toc_window_display": false
  }
 },
 "nbformat": 4,
 "nbformat_minor": 4
}
