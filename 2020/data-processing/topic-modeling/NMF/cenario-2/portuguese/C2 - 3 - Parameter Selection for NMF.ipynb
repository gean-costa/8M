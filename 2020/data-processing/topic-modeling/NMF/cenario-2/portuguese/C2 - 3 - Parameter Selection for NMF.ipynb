{
 "cells": [
  {
   "cell_type": "markdown",
   "metadata": {},
   "source": [
    "# Parameter Selection for NMF"
   ]
  },
  {
   "cell_type": "markdown",
   "metadata": {},
   "source": [
    "Now we look at the more advanced task of parameter selection for NMF topic modelling - namely, selecting a useful value for the number of topics *k*."
   ]
  },
  {
   "cell_type": "markdown",
   "metadata": {},
   "source": [
    "First, let's load the TF-IDF normalised document-term matrix and list of terms that we stored earlier using *Joblib*:"
   ]
  },
  {
   "cell_type": "code",
   "execution_count": 1,
   "metadata": {
    "ExecuteTime": {
     "end_time": "2021-05-22T00:32:39.551587Z",
     "start_time": "2021-05-22T00:32:39.302341Z"
    }
   },
   "outputs": [
    {
     "name": "stdout",
     "output_type": "stream",
     "text": [
      "Loaded 40336 X 2585 document-term matrix\n"
     ]
    }
   ],
   "source": [
    "import joblib\n",
    "\n",
    "(A, terms, snippets) = joblib.load(\"cenario2-tweets-tfidf.pkl\")\n",
    "\n",
    "print(\"Loaded %d X %d document-term matrix\" % (A.shape[0], A.shape[1]))"
   ]
  },
  {
   "cell_type": "markdown",
   "metadata": {},
   "source": [
    "### Create the Topic Models"
   ]
  },
  {
   "cell_type": "markdown",
   "metadata": {},
   "source": [
    "A common approach for parameter selection is to Measure and compare the topic coherence of models generated for different values of *k*."
   ]
  },
  {
   "cell_type": "markdown",
   "metadata": {},
   "source": [
    "We need to start by pre-specifying an initial range of \"sensible\" values:"
   ]
  },
  {
   "cell_type": "code",
   "execution_count": 2,
   "metadata": {
    "ExecuteTime": {
     "end_time": "2021-05-22T00:32:39.555568Z",
     "start_time": "2021-05-22T00:32:39.553235Z"
    }
   },
   "outputs": [],
   "source": [
    "kmin, kmax = 5, 20"
   ]
  },
  {
   "cell_type": "markdown",
   "metadata": {},
   "source": [
    "Apply NMF for each of these values:"
   ]
  },
  {
   "cell_type": "code",
   "execution_count": 3,
   "metadata": {
    "ExecuteTime": {
     "end_time": "2021-05-22T00:32:52.975425Z",
     "start_time": "2021-05-22T00:32:39.556923Z"
    }
   },
   "outputs": [
    {
     "name": "stdout",
     "output_type": "stream",
     "text": [
      "Applying NMF for k=5 ...\n",
      "Applying NMF for k=10 ...\n",
      "Applying NMF for k=15 ...\n",
      "Applying NMF for k=20 ...\n"
     ]
    }
   ],
   "source": [
    "from sklearn import decomposition\n",
    "\n",
    "topic_models = []\n",
    "\n",
    "# try each value of k\n",
    "for k in range(kmin, kmax + 1, 5):\n",
    "    print(\"Applying NMF for k=%d ...\" % k)\n",
    "    # run NMF\n",
    "    model = decomposition.NMF(init=\"nndsvd\", n_components=k)\n",
    "    W = model.fit_transform(A)\n",
    "    H = model.components_\n",
    "    # store for later\n",
    "    topic_models.append((k, W, H))"
   ]
  },
  {
   "cell_type": "markdown",
   "metadata": {},
   "source": [
    "### Build a Word Embedding"
   ]
  },
  {
   "cell_type": "markdown",
   "metadata": {},
   "source": [
    "To select the number of topics, here we will use a *topic coherence* measure called TC-W2V. This measure relies on the use of a *word embedding* model constructed from our corpus. So in this step we will use the *Gensim* implementation of Word2Vec to build a Word2Vec model based on our collection of news articles."
   ]
  },
  {
   "cell_type": "markdown",
   "metadata": {},
   "source": [
    "**Note:** If you want to skip this step, a pre-built Word2Vec model for the sample dataset [is also provided here for download](http://erdos.ucd.ie/files/pydata/w2v-model.bin) (71MB)."
   ]
  },
  {
   "cell_type": "markdown",
   "metadata": {},
   "source": [
    "We read the documents from the input file again:"
   ]
  },
  {
   "cell_type": "code",
   "execution_count": 4,
   "metadata": {
    "ExecuteTime": {
     "end_time": "2021-05-22T00:32:53.010657Z",
     "start_time": "2021-05-22T00:32:52.977046Z"
    }
   },
   "outputs": [
    {
     "name": "stdout",
     "output_type": "stream",
     "text": [
      "Read 40336 raw text documents\n"
     ]
    }
   ],
   "source": [
    "import os.path\n",
    "\n",
    "raw_documents = []\n",
    "\n",
    "with open(os.path.join(\"../../././../../../data-pre-processing/2csv/cenario2_8M2020_tweets_pt.txt\"), \"r\") as fin:\n",
    "    for line in fin.readlines():\n",
    "        raw_documents.append(line.strip().lower())\n",
    "\n",
    "print(\"Read %d raw text documents\" % len(raw_documents))"
   ]
  },
  {
   "cell_type": "markdown",
   "metadata": {},
   "source": [
    "Read the custom stopword list:"
   ]
  },
  {
   "cell_type": "code",
   "execution_count": 5,
   "metadata": {
    "ExecuteTime": {
     "end_time": "2021-05-22T00:32:53.016207Z",
     "start_time": "2021-05-22T00:32:53.012068Z"
    }
   },
   "outputs": [
    {
     "name": "stdout",
     "output_type": "stream",
     "text": [
      "Stopword list has 231 entries\n"
     ]
    }
   ],
   "source": [
    "custom_stop_words = []\n",
    "\n",
    "with open(\"portuguese.txt\", \"r\") as fin:\n",
    "    for line in fin.readlines():\n",
    "        custom_stop_words.append(line.strip().lower())\n",
    "\n",
    "# note that we need to make it hashable\n",
    "print(\"Stopword list has %d entries\" % len(custom_stop_words))"
   ]
  },
  {
   "cell_type": "markdown",
   "metadata": {},
   "source": [
    "First, we need to define a class that will generate documents in a form that can be consumed by Gensim's Word2Vec implementation:"
   ]
  },
  {
   "cell_type": "code",
   "execution_count": 6,
   "metadata": {
    "ExecuteTime": {
     "end_time": "2021-05-22T00:32:53.025406Z",
     "start_time": "2021-05-22T00:32:53.019266Z"
    }
   },
   "outputs": [],
   "source": [
    "import re\n",
    "\n",
    "\n",
    "class TokenGenerator:\n",
    "    def __init__(self, documents, stopwords):\n",
    "        self.documents = documents\n",
    "        self.stopwords = stopwords\n",
    "        self.tokenizer = re.compile(r\"(?u)\\b\\w\\w+\\b\")\n",
    "\n",
    "    def __iter__(self):\n",
    "        print(\"Building Word2Vec model ...\")\n",
    "        for doc in self.documents:\n",
    "            tokens = []\n",
    "            for tok in self.tokenizer.findall(doc):\n",
    "                if tok in self.stopwords:\n",
    "                    tokens.append(\"<stopword>\")\n",
    "                elif len(tok) >= 2:\n",
    "                    tokens.append(tok)\n",
    "            yield tokens"
   ]
  },
  {
   "cell_type": "markdown",
   "metadata": {},
   "source": [
    "Now build a Skipgram Word2Vec model from all documents in the input file using *Gensim*:"
   ]
  },
  {
   "cell_type": "code",
   "execution_count": 7,
   "metadata": {
    "ExecuteTime": {
     "end_time": "2021-05-22T00:32:53.228889Z",
     "start_time": "2021-05-22T00:32:53.026979Z"
    }
   },
   "outputs": [],
   "source": [
    "import gensim"
   ]
  },
  {
   "cell_type": "code",
   "execution_count": 8,
   "metadata": {
    "ExecuteTime": {
     "end_time": "2021-05-22T00:33:06.029923Z",
     "start_time": "2021-05-22T00:32:53.230389Z"
    }
   },
   "outputs": [
    {
     "name": "stdout",
     "output_type": "stream",
     "text": [
      "Building Word2Vec model ...\n",
      "Building Word2Vec model ...\n",
      "Building Word2Vec model ...\n",
      "Building Word2Vec model ...\n",
      "Building Word2Vec model ...\n",
      "Building Word2Vec model ...\n"
     ]
    }
   ],
   "source": [
    "docgen = TokenGenerator(raw_documents, custom_stop_words)\n",
    "\n",
    "# the model has 500 dimensions, the minimum document-term frequency is 20\n",
    "w2v_model = gensim.models.Word2Vec(docgen, size=500, min_count=20, sg=1)"
   ]
  },
  {
   "cell_type": "code",
   "execution_count": 9,
   "metadata": {
    "ExecuteTime": {
     "end_time": "2021-05-22T00:33:06.034663Z",
     "start_time": "2021-05-22T00:33:06.031404Z"
    }
   },
   "outputs": [
    {
     "name": "stdout",
     "output_type": "stream",
     "text": [
      "Model has 2623 terms\n"
     ]
    }
   ],
   "source": [
    "print( \"Model has %d terms\" % len(w2v_model.wv.vocab) )"
   ]
  },
  {
   "cell_type": "markdown",
   "metadata": {},
   "source": [
    "Save for later use, so that we do not need to rebuild it:"
   ]
  },
  {
   "cell_type": "code",
   "execution_count": 10,
   "metadata": {
    "ExecuteTime": {
     "end_time": "2021-05-22T00:33:06.158789Z",
     "start_time": "2021-05-22T00:33:06.036472Z"
    }
   },
   "outputs": [],
   "source": [
    "w2v_model.save(\"cenario2_w2v-model.bin\")"
   ]
  },
  {
   "cell_type": "code",
   "execution_count": 11,
   "metadata": {
    "ExecuteTime": {
     "end_time": "2021-05-22T00:33:06.161865Z",
     "start_time": "2021-05-22T00:33:06.160093Z"
    }
   },
   "outputs": [],
   "source": [
    "# To re-load this model, run\n",
    "# w2v_model = gensim.models.Word2Vec.load(\"cenario1_w2v-model.bin\")"
   ]
  },
  {
   "cell_type": "markdown",
   "metadata": {},
   "source": [
    "### Selecting the Number of Topics"
   ]
  },
  {
   "cell_type": "markdown",
   "metadata": {},
   "source": [
    "Once we have our Word2vec model, we can use it as part of our *topic coherence* approach to evaluate the different NMF topic models that we created previously. To do this, we will implement a simple version of the TC-W2V coherence measure."
   ]
  },
  {
   "cell_type": "markdown",
   "metadata": {},
   "source": [
    "We use the Word2vec model to calculate coherence scores for each of these models. We will define this coherence score as follows:"
   ]
  },
  {
   "cell_type": "code",
   "execution_count": 12,
   "metadata": {
    "ExecuteTime": {
     "end_time": "2021-05-22T00:33:06.171453Z",
     "start_time": "2021-05-22T00:33:06.163021Z"
    }
   },
   "outputs": [],
   "source": [
    "def calculate_coherence(w2v_model, term_rankings):\n",
    "    overall_coherence = 0.0\n",
    "    \n",
    "    for topic_index in range(len(term_rankings)):\n",
    "        # check each pair of terms\n",
    "        pair_scores = []\n",
    "        for pair in combinations(term_rankings[topic_index], 2):\n",
    "            pair_scores.append(w2v_model.similarity(pair[0], pair[1]))\n",
    "        # get the mean for all pairs in this topic\n",
    "        topic_score = sum(pair_scores) / len(pair_scores)\n",
    "        overall_coherence += topic_score\n",
    "    \n",
    "    # get the mean score across all topics\n",
    "    return overall_coherence / len(term_rankings)"
   ]
  },
  {
   "cell_type": "markdown",
   "metadata": {},
   "source": [
    "We also define a function to get the topic descriptor (i.e. list of top terms) for each topic:"
   ]
  },
  {
   "cell_type": "code",
   "execution_count": 13,
   "metadata": {
    "ExecuteTime": {
     "end_time": "2021-05-22T00:33:06.181223Z",
     "start_time": "2021-05-22T00:33:06.172714Z"
    }
   },
   "outputs": [],
   "source": [
    "import numpy as np\n",
    "\n",
    "\n",
    "def get_descriptor(all_terms, H, topic_index, top):\n",
    "    # reverse sort the values to sort the indices\n",
    "    top_indices = np.argsort(H[topic_index, :])[::-1]\n",
    "    \n",
    "    # now get the terms corresponding to the top-ranked indices\n",
    "    top_terms = []\n",
    "    \n",
    "    for term_index in top_indices[0:top]:\n",
    "        top_terms.append(all_terms[term_index])\n",
    "    \n",
    "    return top_terms"
   ]
  },
  {
   "cell_type": "markdown",
   "metadata": {},
   "source": [
    "Now process each of the models for different values of *k*:"
   ]
  },
  {
   "cell_type": "markdown",
   "metadata": {},
   "source": [
    "# 5"
   ]
  },
  {
   "cell_type": "code",
   "execution_count": 14,
   "metadata": {
    "ExecuteTime": {
     "end_time": "2021-05-22T00:33:06.217600Z",
     "start_time": "2021-05-22T00:33:06.182648Z"
    }
   },
   "outputs": [
    {
     "name": "stdout",
     "output_type": "stream",
     "text": [
      "K=05: Coherence=0.5374\n",
      "K=10: Coherence=0.5273\n",
      "K=15: Coherence=0.5056\n",
      "K=20: Coherence=0.5487\n"
     ]
    },
    {
     "name": "stderr",
     "output_type": "stream",
     "text": [
      "/home/gean/anaconda3/lib/python3.7/site-packages/ipykernel_launcher.py:8: DeprecationWarning: Call to deprecated `similarity` (Method will be removed in 4.0.0, use self.wv.similarity() instead).\n",
      "  \n"
     ]
    }
   ],
   "source": [
    "from itertools import combinations\n",
    "\n",
    "k_values = []\n",
    "coherences = []\n",
    "\n",
    "for (k, W, H) in topic_models:\n",
    "    # Get all of the topic descriptors - the term_rankings, based on top 10 terms\n",
    "    term_rankings = []\n",
    "    \n",
    "    for topic_index in range(k):\n",
    "        term_rankings.append(get_descriptor(terms, H, topic_index, 5))\n",
    "    \n",
    "    # Now calculate the coherence based on our Word2vec model\n",
    "    k_values.append(k)\n",
    "    coherences.append(calculate_coherence(w2v_model, term_rankings))\n",
    "    \n",
    "    print(\"K=%02d: Coherence=%.4f\" % (k, coherences[-1]))\n",
    "    # print(f'{coherences[-1]:.4f}')"
   ]
  },
  {
   "cell_type": "markdown",
   "metadata": {},
   "source": [
    "We can now use *matplotlib* to generate a line plot of these coherence scores, to help us select an appropriate value."
   ]
  },
  {
   "cell_type": "code",
   "execution_count": 15,
   "metadata": {
    "ExecuteTime": {
     "end_time": "2021-05-22T00:33:06.434320Z",
     "start_time": "2021-05-22T00:33:06.218860Z"
    }
   },
   "outputs": [],
   "source": [
    "%matplotlib inline\n",
    "import matplotlib\n",
    "import matplotlib.pyplot as plt\n",
    "\n",
    "plt.style.use(\"ggplot\")\n",
    "matplotlib.rcParams.update({\"font.size\": 14})"
   ]
  },
  {
   "cell_type": "code",
   "execution_count": 16,
   "metadata": {
    "ExecuteTime": {
     "end_time": "2021-05-22T00:33:06.594509Z",
     "start_time": "2021-05-22T00:33:06.435535Z"
    }
   },
   "outputs": [
    {
     "data": {
      "image/png": "[encoded data removed]",
      "text/plain": [
       "<Figure size 936x504 with 1 Axes>"
      ]
     },
     "metadata": {},
     "output_type": "display_data"
    }
   ],
   "source": [
    "fig = plt.figure(figsize=(13,7))\n",
    "\n",
    "# create the line plot\n",
    "ax = plt.plot( k_values, coherences )\n",
    "plt.xticks(k_values)\n",
    "plt.xlabel(\"Number of Topics\")\n",
    "plt.ylabel(\"Mean Coherence\")\n",
    "\n",
    "# add the points\n",
    "plt.scatter( k_values, coherences, s=120)\n",
    "\n",
    "\n",
    "# find and annotate the maximum point on the plot\n",
    "ymax = max(coherences)\n",
    "xpos = coherences.index(ymax)\n",
    "best_k = k_values[xpos]\n",
    "plt.annotate( \"k=%d\" % best_k, xy=(best_k, ymax), xytext=(best_k, ymax), textcoords=\"offset points\", fontsize=16)\n",
    "\n",
    "# show the plot\n",
    "plt.show()"
   ]
  },
  {
   "cell_type": "markdown",
   "metadata": {},
   "source": [
    "# 10"
   ]
  },
  {
   "cell_type": "code",
   "execution_count": 17,
   "metadata": {
    "ExecuteTime": {
     "end_time": "2021-05-22T00:33:06.681892Z",
     "start_time": "2021-05-22T00:33:06.595844Z"
    }
   },
   "outputs": [
    {
     "name": "stdout",
     "output_type": "stream",
     "text": [
      "K=05: Coherence=0.5111\n",
      "K=10: Coherence=0.4985\n",
      "K=15: Coherence=0.5028\n",
      "K=20: Coherence=0.5390\n"
     ]
    },
    {
     "name": "stderr",
     "output_type": "stream",
     "text": [
      "/home/gean/anaconda3/lib/python3.7/site-packages/ipykernel_launcher.py:8: DeprecationWarning: Call to deprecated `similarity` (Method will be removed in 4.0.0, use self.wv.similarity() instead).\n",
      "  \n"
     ]
    }
   ],
   "source": [
    "from itertools import combinations\n",
    "\n",
    "k_values = []\n",
    "coherences = []\n",
    "\n",
    "for (k, W, H) in topic_models:\n",
    "    # Get all of the topic descriptors - the term_rankings, based on top 10 terms\n",
    "    term_rankings = []\n",
    "    \n",
    "    for topic_index in range(k):\n",
    "        term_rankings.append(get_descriptor(terms, H, topic_index, 10))\n",
    "    \n",
    "    # Now calculate the coherence based on our Word2vec model\n",
    "    k_values.append(k)\n",
    "    coherences.append(calculate_coherence(w2v_model, term_rankings))\n",
    "    \n",
    "    print(\"K=%02d: Coherence=%.4f\" % (k, coherences[-1]))\n",
    "    # print(f'{coherences[-1]:.4f}')"
   ]
  },
  {
   "cell_type": "code",
   "execution_count": 18,
   "metadata": {
    "ExecuteTime": {
     "end_time": "2021-05-22T00:33:06.837564Z",
     "start_time": "2021-05-22T00:33:06.683172Z"
    }
   },
   "outputs": [
    {
     "data": {
      "image/png": "[encoded data removed]",
      "text/plain": [
       "<Figure size 936x504 with 1 Axes>"
      ]
     },
     "metadata": {},
     "output_type": "display_data"
    }
   ],
   "source": [
    "fig = plt.figure(figsize=(13,7))\n",
    "\n",
    "# create the line plot\n",
    "ax = plt.plot( k_values, coherences )\n",
    "plt.xticks(k_values)\n",
    "plt.xlabel(\"Number of Topics\")\n",
    "plt.ylabel(\"Mean Coherence\")\n",
    "\n",
    "# add the points\n",
    "plt.scatter( k_values, coherences, s=120)\n",
    "\n",
    "\n",
    "# find and annotate the maximum point on the plot\n",
    "ymax = max(coherences)\n",
    "xpos = coherences.index(ymax)\n",
    "best_k = k_values[xpos]\n",
    "plt.annotate( \"k=%d\" % best_k, xy=(best_k, ymax), xytext=(best_k, ymax), textcoords=\"offset points\", fontsize=16)\n",
    "\n",
    "# show the plot\n",
    "plt.show()"
   ]
  },
  {
   "cell_type": "markdown",
   "metadata": {},
   "source": [
    "# 15 "
   ]
  },
  {
   "cell_type": "code",
   "execution_count": 19,
   "metadata": {
    "ExecuteTime": {
     "end_time": "2021-05-22T00:33:07.018232Z",
     "start_time": "2021-05-22T00:33:06.838919Z"
    }
   },
   "outputs": [
    {
     "name": "stdout",
     "output_type": "stream",
     "text": [
      "K=05: Coherence=0.5013\n",
      "K=10: Coherence=0.4981\n",
      "K=15: Coherence=0.4906\n",
      "K=20: Coherence=0.5332\n"
     ]
    },
    {
     "name": "stderr",
     "output_type": "stream",
     "text": [
      "/home/gean/anaconda3/lib/python3.7/site-packages/ipykernel_launcher.py:8: DeprecationWarning: Call to deprecated `similarity` (Method will be removed in 4.0.0, use self.wv.similarity() instead).\n",
      "  \n"
     ]
    }
   ],
   "source": [
    "from itertools import combinations\n",
    "\n",
    "k_values = []\n",
    "coherences = []\n",
    "\n",
    "for (k, W, H) in topic_models:\n",
    "    # Get all of the topic descriptors - the term_rankings, based on top 10 terms\n",
    "    term_rankings = []\n",
    "    \n",
    "    for topic_index in range(k):\n",
    "        term_rankings.append(get_descriptor(terms, H, topic_index, 15))\n",
    "    \n",
    "    # Now calculate the coherence based on our Word2vec model\n",
    "    k_values.append(k)\n",
    "    coherences.append(calculate_coherence(w2v_model, term_rankings))\n",
    "    \n",
    "    print(\"K=%02d: Coherence=%.4f\" % (k, coherences[-1]))\n",
    "    # print(f'{coherences[-1]:.4f}')"
   ]
  },
  {
   "cell_type": "code",
   "execution_count": 20,
   "metadata": {
    "ExecuteTime": {
     "end_time": "2021-05-22T00:33:07.177081Z",
     "start_time": "2021-05-22T00:33:07.021055Z"
    }
   },
   "outputs": [
    {
     "data": {
      "image/png": "[encoded data removed]",
      "text/plain": [
       "<Figure size 936x504 with 1 Axes>"
      ]
     },
     "metadata": {},
     "output_type": "display_data"
    }
   ],
   "source": [
    "fig = plt.figure(figsize=(13,7))\n",
    "\n",
    "# create the line plot\n",
    "ax = plt.plot( k_values, coherences )\n",
    "plt.xticks(k_values)\n",
    "plt.xlabel(\"Number of Topics\")\n",
    "plt.ylabel(\"Mean Coherence\")\n",
    "\n",
    "# add the points\n",
    "plt.scatter( k_values, coherences, s=120)\n",
    "\n",
    "\n",
    "# find and annotate the maximum point on the plot\n",
    "ymax = max(coherences)\n",
    "xpos = coherences.index(ymax)\n",
    "best_k = k_values[xpos]\n",
    "plt.annotate( \"k=%d\" % best_k, xy=(best_k, ymax), xytext=(best_k, ymax), textcoords=\"offset points\", fontsize=16)\n",
    "\n",
    "# show the plot\n",
    "plt.show()"
   ]
  },
  {
   "cell_type": "markdown",
   "metadata": {},
   "source": [
    "# 20"
   ]
  },
  {
   "cell_type": "code",
   "execution_count": 21,
   "metadata": {
    "ExecuteTime": {
     "end_time": "2021-05-22T00:33:07.488428Z",
     "start_time": "2021-05-22T00:33:07.178759Z"
    }
   },
   "outputs": [
    {
     "name": "stderr",
     "output_type": "stream",
     "text": [
      "/home/gean/anaconda3/lib/python3.7/site-packages/ipykernel_launcher.py:8: DeprecationWarning: Call to deprecated `similarity` (Method will be removed in 4.0.0, use self.wv.similarity() instead).\n",
      "  \n"
     ]
    },
    {
     "name": "stdout",
     "output_type": "stream",
     "text": [
      "K=05: Coherence=0.4803\n",
      "K=10: Coherence=0.4904\n",
      "K=15: Coherence=0.4873\n",
      "K=20: Coherence=0.5367\n"
     ]
    }
   ],
   "source": [
    "from itertools import combinations\n",
    "\n",
    "k_values = []\n",
    "coherences = []\n",
    "\n",
    "for (k, W, H) in topic_models:\n",
    "    # Get all of the topic descriptors - the term_rankings, based on top 10 terms\n",
    "    term_rankings = []\n",
    "    \n",
    "    for topic_index in range(k):\n",
    "        term_rankings.append(get_descriptor(terms, H, topic_index, 20))\n",
    "    \n",
    "    # Now calculate the coherence based on our Word2vec model\n",
    "    k_values.append(k)\n",
    "    coherences.append(calculate_coherence(w2v_model, term_rankings))\n",
    "    \n",
    "    print(\"K=%02d: Coherence=%.4f\" % (k, coherences[-1]))\n",
    "    # print(f'{coherences[-1]:.4f}')"
   ]
  },
  {
   "cell_type": "code",
   "execution_count": 22,
   "metadata": {
    "ExecuteTime": {
     "end_time": "2021-05-22T00:33:07.644258Z",
     "start_time": "2021-05-22T00:33:07.489785Z"
    }
   },
   "outputs": [
    {
     "data": {
      "image/png": "[encoded data removed]",
      "text/plain": [
       "<Figure size 936x504 with 1 Axes>"
      ]
     },
     "metadata": {},
     "output_type": "display_data"
    }
   ],
   "source": [
    "fig = plt.figure(figsize=(13,7))\n",
    "\n",
    "# create the line plot\n",
    "ax = plt.plot( k_values, coherences )\n",
    "plt.xticks(k_values)\n",
    "plt.xlabel(\"Number of Topics\")\n",
    "plt.ylabel(\"Mean Coherence\")\n",
    "\n",
    "# add the points\n",
    "plt.scatter( k_values, coherences, s=120)\n",
    "\n",
    "\n",
    "# find and annotate the maximum point on the plot\n",
    "ymax = max(coherences)\n",
    "xpos = coherences.index(ymax)\n",
    "best_k = k_values[xpos]\n",
    "plt.annotate( \"k=%d\" % best_k, xy=(best_k, ymax), xytext=(best_k, ymax), textcoords=\"offset points\", fontsize=16)\n",
    "\n",
    "# show the plot\n",
    "plt.show()"
   ]
  },
  {
   "cell_type": "markdown",
   "metadata": {},
   "source": [
    "### Examine the Final  Model"
   ]
  },
  {
   "cell_type": "markdown",
   "metadata": {},
   "source": [
    "The plot above suggests that the most appropriate value for the number of topics is *k=8*."
   ]
  },
  {
   "cell_type": "code",
   "execution_count": 23,
   "metadata": {
    "ExecuteTime": {
     "end_time": "2021-05-22T00:33:07.648305Z",
     "start_time": "2021-05-22T00:33:07.645652Z"
    }
   },
   "outputs": [],
   "source": [
    "k = 5 # best_k\n",
    "\n",
    "# get the model that we generated earlier.\n",
    "W = topic_models[0][1]\n",
    "H = topic_models[0][2]"
   ]
  },
  {
   "cell_type": "markdown",
   "metadata": {},
   "source": [
    "Display the topic descriptors for this model:"
   ]
  },
  {
   "cell_type": "code",
   "execution_count": 24,
   "metadata": {
    "ExecuteTime": {
     "end_time": "2021-05-22T00:33:07.659017Z",
     "start_time": "2021-05-22T00:33:07.649640Z"
    },
    "scrolled": true
   },
   "outputs": [
    {
     "name": "stdout",
     "output_type": "stream",
     "text": [
      "Topic 01: mulher, internacional, dia, marco, homenagem\n",
      "Topic 02: mulheres, parabens, guerreiras, dia, mundo\n",
      "Topic 03: feliz, dia, guerreiras, dias, mundo\n",
      "Topic 04: hoje, ser, sororidade, dias, luta\n",
      "Topic 05: amo, video, tanto, demais, vida\n"
     ]
    }
   ],
   "source": [
    "for topic_index in range(k):\n",
    "    descriptor = get_descriptor( terms, H, topic_index, 5)\n",
    "    str_descriptor = \", \".join( descriptor )\n",
    "    print(\"Topic %02d: %s\" % ( topic_index+1, str_descriptor ) )"
   ]
  },
  {
   "cell_type": "code",
   "execution_count": 25,
   "metadata": {
    "ExecuteTime": {
     "end_time": "2021-05-22T00:33:07.667945Z",
     "start_time": "2021-05-22T00:33:07.660204Z"
    }
   },
   "outputs": [
    {
     "name": "stdout",
     "output_type": "stream",
     "text": [
      "Topic 01: mulher, internacional, dia, marco, homenagem, parabens, bom, especial, via, hoje\n",
      "Topic 02: mulheres, parabens, guerreiras, dia, mundo, luta, brasil, vida, especial, incriveis\n",
      "Topic 03: feliz, dia, guerreiras, dias, mundo, vcs, incriveis, mulheres, bom, maravilhosas\n",
      "Topic 04: hoje, ser, sororidade, dias, luta, respeito, sempre, tudo, quero, gente\n",
      "Topic 05: amo, video, tanto, demais, vida, tudo, deus, melhor, perfeito, mae\n"
     ]
    }
   ],
   "source": [
    "for topic_index in range(k):\n",
    "    descriptor = get_descriptor( terms, H, topic_index, 10)\n",
    "    str_descriptor = \", \".join( descriptor )\n",
    "    print(\"Topic %02d: %s\" % ( topic_index+1, str_descriptor ) )"
   ]
  },
  {
   "cell_type": "code",
   "execution_count": 26,
   "metadata": {
    "ExecuteTime": {
     "end_time": "2021-05-22T00:33:07.678359Z",
     "start_time": "2021-05-22T00:33:07.669126Z"
    }
   },
   "outputs": [
    {
     "name": "stdout",
     "output_type": "stream",
     "text": [
      "Topic 01: mulher, internacional, dia, marco, homenagem, parabens, bom, especial, via, hoje, amanha, mae, comemoracao, domingo, comemorar\n",
      "Topic 02: mulheres, parabens, guerreiras, dia, mundo, luta, brasil, vida, especial, incriveis, marco, fortes, vcs, dias, direitos\n",
      "Topic 03: feliz, dia, guerreiras, dias, mundo, vcs, incriveis, mulheres, bom, maravilhosas, deseja, merecem, lindas, desejar, linda\n",
      "Topic 04: hoje, ser, sororidade, dias, luta, respeito, sempre, tudo, quero, gente, sim, vai, ter, sobre, homem\n",
      "Topic 05: amo, video, tanto, demais, vida, tudo, deus, melhor, perfeito, mae, serie, nunca, sempre, amor, vcs\n"
     ]
    }
   ],
   "source": [
    "for topic_index in range(k):\n",
    "    descriptor = get_descriptor( terms, H, topic_index, 15)\n",
    "    str_descriptor = \", \".join( descriptor )\n",
    "    print(\"Topic %02d: %s\" % ( topic_index+1, str_descriptor ) )"
   ]
  },
  {
   "cell_type": "code",
   "execution_count": 27,
   "metadata": {
    "ExecuteTime": {
     "end_time": "2021-05-22T00:33:07.686803Z",
     "start_time": "2021-05-22T00:33:07.681131Z"
    },
    "scrolled": true
   },
   "outputs": [
    {
     "name": "stdout",
     "output_type": "stream",
     "text": [
      "Topic 01: mulher, internacional, dia, marco, homenagem, parabens, bom, especial, via, hoje, amanha, mae, comemoracao, domingo, comemorar, presente, data, lugar, vida, forca\n",
      "Topic 02: mulheres, parabens, guerreiras, dia, mundo, luta, brasil, vida, especial, incriveis, marco, fortes, vcs, dias, direitos, homenagem, maravilhosas, lindas, contra, merecem\n",
      "Topic 03: feliz, dia, guerreiras, dias, mundo, vcs, incriveis, mulheres, bom, maravilhosas, deseja, merecem, lindas, desejar, linda, fortes, sempre, desejamos, amor, mulherada\n",
      "Topic 04: hoje, ser, sororidade, dias, luta, respeito, sempre, tudo, quero, gente, sim, vai, ter, sobre, homem, flores, ano, pode, ainda, igualdade\n",
      "Topic 05: amo, video, tanto, demais, vida, tudo, deus, melhor, perfeito, mae, serie, nunca, sempre, amor, vcs, vou, linda, cara, pqp, mulher\n"
     ]
    }
   ],
   "source": [
    "for topic_index in range(k):\n",
    "    descriptor = get_descriptor( terms, H, topic_index, 20)\n",
    "    str_descriptor = \", \".join( descriptor )\n",
    "    print(\"Topic %02d: %s\" % ( topic_index+1, str_descriptor ) )"
   ]
  },
  {
   "cell_type": "markdown",
   "metadata": {},
   "source": [
    "# 10"
   ]
  },
  {
   "cell_type": "code",
   "execution_count": 28,
   "metadata": {
    "ExecuteTime": {
     "end_time": "2021-05-22T00:33:07.694946Z",
     "start_time": "2021-05-22T00:33:07.688059Z"
    }
   },
   "outputs": [],
   "source": [
    "k = 10 # best_k\n",
    "\n",
    "# get the model that we generated earlier.\n",
    "W = topic_models[1][1]\n",
    "H = topic_models[1][2]"
   ]
  },
  {
   "cell_type": "code",
   "execution_count": 29,
   "metadata": {
    "ExecuteTime": {
     "end_time": "2021-05-22T00:33:07.708328Z",
     "start_time": "2021-05-22T00:33:07.696427Z"
    }
   },
   "outputs": [
    {
     "name": "stdout",
     "output_type": "stream",
     "text": [
      "Topic 01: mulher, internacional, dia, marco, homenagem\n",
      "Topic 02: mulheres, dia, vida, guerreiras, luta\n",
      "Topic 03: feliz, dia, guerreiras, vcs, dias\n",
      "Topic 04: ser, mulher, quero, vai, homem\n",
      "Topic 05: parabens, guerreiras, dia, vcs, marco\n",
      "Topic 06: amo, tanto, demais, vida, deus\n",
      "Topic 07: hoje, dias, luta, dia, respeito\n",
      "Topic 08: sororidade, ter, marcela, gente, feminismo\n",
      "Topic 09: video, tudo, perfeito, melhor, nunca\n",
      "Topic 10: mundo, melhor, vcs, merecem, guerreiras\n"
     ]
    }
   ],
   "source": [
    "for topic_index in range(k):\n",
    "    descriptor = get_descriptor( terms, H, topic_index, 5)\n",
    "    str_descriptor = \", \".join( descriptor )\n",
    "    print(\"Topic %02d: %s\" % ( topic_index+1, str_descriptor ) )"
   ]
  },
  {
   "cell_type": "code",
   "execution_count": 30,
   "metadata": {
    "ExecuteTime": {
     "end_time": "2021-05-22T00:33:07.724392Z",
     "start_time": "2021-05-22T00:33:07.709929Z"
    }
   },
   "outputs": [
    {
     "name": "stdout",
     "output_type": "stream",
     "text": [
      "Topic 01: mulher, internacional, dia, marco, homenagem, especial, bom, via, amanha, mae\n",
      "Topic 02: mulheres, dia, vida, guerreiras, luta, homenagem, incriveis, direitos, fortes, contra\n",
      "Topic 03: feliz, dia, guerreiras, vcs, dias, bom, maravilhosas, incriveis, deseja, lindas\n",
      "Topic 04: ser, mulher, quero, vai, homem, tudo, pode, vida, quiser, sim\n",
      "Topic 05: parabens, guerreiras, dia, vcs, marco, especial, deus, bom, lindas, brasil\n",
      "Topic 06: amo, tanto, demais, vida, deus, mae, amor, serie, linda, vcs\n",
      "Topic 07: hoje, dias, luta, dia, respeito, sempre, igualdade, ano, direitos, flores\n",
      "Topic 08: sororidade, ter, marcela, gente, feminismo, sobre, cara, empatia, caralho, amiga\n",
      "Topic 09: video, tudo, perfeito, melhor, nunca, sempre, bom, vou, ver, vez\n",
      "Topic 10: mundo, melhor, vcs, merecem, guerreiras, tudo, amor, brasil, respeito, forca\n"
     ]
    }
   ],
   "source": [
    "for topic_index in range(k):\n",
    "    descriptor = get_descriptor( terms, H, topic_index, 10)\n",
    "    str_descriptor = \", \".join( descriptor )\n",
    "    print(\"Topic %02d: %s\" % ( topic_index+1, str_descriptor ) )"
   ]
  },
  {
   "cell_type": "code",
   "execution_count": 31,
   "metadata": {
    "ExecuteTime": {
     "end_time": "2021-05-22T00:33:07.733475Z",
     "start_time": "2021-05-22T00:33:07.726163Z"
    }
   },
   "outputs": [
    {
     "name": "stdout",
     "output_type": "stream",
     "text": [
      "Topic 01: mulher, internacional, dia, marco, homenagem, especial, bom, via, amanha, mae, domingo, comemoracao, comemorar, presente, vida\n",
      "Topic 02: mulheres, dia, vida, guerreiras, luta, homenagem, incriveis, direitos, fortes, contra, especial, brasil, homens, marco, outras\n",
      "Topic 03: feliz, dia, guerreiras, vcs, dias, bom, maravilhosas, incriveis, deseja, lindas, desejar, merecem, linda, fortes, sempre\n",
      "Topic 04: ser, mulher, quero, vai, homem, tudo, pode, vida, quiser, sim, sempre, ter, gente, deve, fazer\n",
      "Topic 05: parabens, guerreiras, dia, vcs, marco, especial, deus, bom, lindas, brasil, dias, mulherada, sempre, batalhadoras, fortes\n",
      "Topic 06: amo, tanto, demais, vida, deus, mae, amor, serie, linda, vcs, obrigada, mulher, musica, cara, caralho\n",
      "Topic 07: hoje, dias, luta, dia, respeito, sempre, igualdade, ano, direitos, flores, bom, outros, sim, queremos, data\n",
      "Topic 08: sororidade, ter, marcela, gente, feminismo, sobre, cara, empatia, caralho, amiga, nao, cade, aqui, feminista, porrada\n",
      "Topic 09: video, tudo, perfeito, melhor, nunca, sempre, bom, vou, ver, vez, vejo, maravilhoso, deus, incrivel, faz\n",
      "Topic 10: mundo, melhor, vcs, merecem, guerreiras, tudo, amor, brasil, respeito, forca, incriveis, gente, merece, pessoas, lugar\n"
     ]
    }
   ],
   "source": [
    "for topic_index in range(k):\n",
    "    descriptor = get_descriptor( terms, H, topic_index, 15)\n",
    "    str_descriptor = \", \".join( descriptor )\n",
    "    print(\"Topic %02d: %s\" % ( topic_index+1, str_descriptor ) )"
   ]
  },
  {
   "cell_type": "code",
   "execution_count": 32,
   "metadata": {
    "ExecuteTime": {
     "end_time": "2021-05-22T00:33:07.742838Z",
     "start_time": "2021-05-22T00:33:07.734726Z"
    }
   },
   "outputs": [
    {
     "name": "stdout",
     "output_type": "stream",
     "text": [
      "Topic 01: mulher, internacional, dia, marco, homenagem, especial, bom, via, amanha, mae, domingo, comemoracao, comemorar, presente, vida, sobre, lugar, data, homem, quiser\n",
      "Topic 02: mulheres, dia, vida, guerreiras, luta, homenagem, incriveis, direitos, fortes, contra, especial, brasil, homens, marco, outras, maravilhosas, aqui, sobre, bolsonaro, historia\n",
      "Topic 03: feliz, dia, guerreiras, vcs, dias, bom, maravilhosas, incriveis, deseja, lindas, desejar, merecem, linda, fortes, sempre, desejamos, mulherada, seguidoras, brazil, amigas\n",
      "Topic 04: ser, mulher, quero, vai, homem, tudo, pode, vida, quiser, sim, sempre, ter, gente, deve, fazer, nunca, lugar, amor, ainda, assim\n",
      "Topic 05: parabens, guerreiras, dia, vcs, marco, especial, deus, bom, lindas, brasil, dias, mulherada, sempre, batalhadoras, fortes, principalmente, maravilhosas, abencoe, guerreira, meninas\n",
      "Topic 06: amo, tanto, demais, vida, deus, mae, amor, serie, linda, vcs, obrigada, mulher, musica, cara, caralho, perfeita, cena, cher, admiro, homem\n",
      "Topic 07: hoje, dias, luta, dia, respeito, sempre, igualdade, ano, direitos, flores, bom, outros, sim, queremos, data, lembrar, vamos, marco, porque, apenas\n",
      "Topic 08: sororidade, ter, marcela, gente, feminismo, sobre, cara, empatia, caralho, amiga, nao, cade, aqui, feminista, porrada, falar, vai, deus, vou, faz\n",
      "Topic 09: video, tudo, perfeito, melhor, nunca, sempre, bom, vou, ver, vez, vejo, maravilhoso, deus, incrivel, faz, sobre, lindo, tanto, simplesmente, queria\n",
      "Topic 10: mundo, melhor, vcs, merecem, guerreiras, tudo, amor, brasil, respeito, forca, incriveis, gente, merece, pessoas, lugar, cada, deus, homens, assim, maior\n"
     ]
    }
   ],
   "source": [
    "for topic_index in range(k):\n",
    "    descriptor = get_descriptor( terms, H, topic_index, 20)\n",
    "    str_descriptor = \", \".join( descriptor )\n",
    "    print(\"Topic %02d: %s\" % ( topic_index+1, str_descriptor ) )"
   ]
  },
  {
   "cell_type": "markdown",
   "metadata": {
    "ExecuteTime": {
     "end_time": "2021-05-18T01:35:40.549034Z",
     "start_time": "2021-05-18T01:35:40.547094Z"
    }
   },
   "source": [
    "# 15"
   ]
  },
  {
   "cell_type": "code",
   "execution_count": 33,
   "metadata": {
    "ExecuteTime": {
     "end_time": "2021-05-22T00:33:07.749513Z",
     "start_time": "2021-05-22T00:33:07.744072Z"
    }
   },
   "outputs": [],
   "source": [
    "k = 15 # best_k\n",
    "\n",
    "# get the model that we generated earlier.\n",
    "W = topic_models[2][1]\n",
    "H = topic_models[2][2]"
   ]
  },
  {
   "cell_type": "code",
   "execution_count": 34,
   "metadata": {
    "ExecuteTime": {
     "end_time": "2021-05-22T00:33:07.761569Z",
     "start_time": "2021-05-22T00:33:07.750633Z"
    }
   },
   "outputs": [
    {
     "name": "stdout",
     "output_type": "stream",
     "text": [
      "Topic 01: mulher, internacional, dia, homenagem, via\n",
      "Topic 02: mulheres, vida, incriveis, homenagem, homens\n",
      "Topic 03: feliz, dia, dias, deseja, incriveis\n",
      "Topic 04: ser, vai, homem, mulher, sempre\n",
      "Topic 05: parabens, especial, deus, mulherada, brasil\n",
      "Topic 06: amo, tanto, demais, vida, mae\n",
      "Topic 07: hoje, dias, respeito, sempre, ano\n",
      "Topic 08: sororidade, ter, marcela, feminismo, sobre\n",
      "Topic 09: video, melhor, perfeito, sempre, nunca\n",
      "Topic 10: luta, direitos, igualdade, contra, respeito\n",
      "Topic 11: mundo, melhor, merecem, vcs, amor\n",
      "Topic 12: tudo, quero, sim, gente, flores\n",
      "Topic 13: dia, bom, internacional, especial, cada\n",
      "Topic 14: guerreiras, vcs, lindas, fortes, dias\n",
      "Topic 15: marco, homenagem, data, respeito, ano\n"
     ]
    }
   ],
   "source": [
    "for topic_index in range(k):\n",
    "    descriptor = get_descriptor( terms, H, topic_index, 5)\n",
    "    str_descriptor = \", \".join( descriptor )\n",
    "    print(\"Topic %02d: %s\" % ( topic_index+1, str_descriptor ) )"
   ]
  },
  {
   "cell_type": "code",
   "execution_count": 35,
   "metadata": {
    "ExecuteTime": {
     "end_time": "2021-05-22T00:33:07.774014Z",
     "start_time": "2021-05-22T00:33:07.762728Z"
    }
   },
   "outputs": [
    {
     "name": "stdout",
     "output_type": "stream",
     "text": [
      "Topic 01: mulher, internacional, dia, homenagem, via, mae, vida, lugar, quiser, amanha\n",
      "Topic 02: mulheres, vida, incriveis, homenagem, homens, especial, fortes, brasil, outras, maravilhosas\n",
      "Topic 03: feliz, dia, dias, deseja, incriveis, maravilhosas, desejar, sempre, linda, vcs\n",
      "Topic 04: ser, vai, homem, mulher, sempre, pode, quiser, ter, vida, deve\n",
      "Topic 05: parabens, especial, deus, mulherada, brasil, sempre, guerreira, meninas, abencoe, amor\n",
      "Topic 06: amo, tanto, demais, vida, mae, deus, amor, serie, linda, vcs\n",
      "Topic 07: hoje, dias, respeito, sempre, ano, outros, porque, maior, ontem, receber\n",
      "Topic 08: sororidade, ter, marcela, feminismo, sobre, gente, cara, empatia, caralho, amiga\n",
      "Topic 09: video, melhor, perfeito, sempre, nunca, bom, ver, vou, vez, vejo\n",
      "Topic 10: luta, direitos, igualdade, contra, respeito, vamos, violencia, sempre, data, ruas\n",
      "Topic 11: mundo, melhor, merecem, vcs, amor, brasil, merece, forca, pessoas, incriveis\n",
      "Topic 12: tudo, quero, sim, gente, flores, respeito, faz, bombom, dar, queremos\n",
      "Topic 13: dia, bom, internacional, especial, cada, comemoracao, comemorar, lembrar, otimo, celebrar\n",
      "Topic 14: guerreiras, vcs, lindas, fortes, dias, maravilhosas, batalhadoras, merecem, incriveis, brasil\n",
      "Topic 15: marco, homenagem, data, respeito, ano, dia, forca, comemorado, mes, internacional\n"
     ]
    }
   ],
   "source": [
    "for topic_index in range(k):\n",
    "    descriptor = get_descriptor( terms, H, topic_index, 10)\n",
    "    str_descriptor = \", \".join( descriptor )\n",
    "    print(\"Topic %02d: %s\" % ( topic_index+1, str_descriptor ) )"
   ]
  },
  {
   "cell_type": "code",
   "execution_count": 36,
   "metadata": {
    "ExecuteTime": {
     "end_time": "2021-05-22T00:33:07.783415Z",
     "start_time": "2021-05-22T00:33:07.777614Z"
    }
   },
   "outputs": [
    {
     "name": "stdout",
     "output_type": "stream",
     "text": [
      "Topic 01: mulher, internacional, dia, homenagem, via, mae, vida, lugar, quiser, amanha, sobre, onde, casa, homem, deus\n",
      "Topic 02: mulheres, vida, incriveis, homenagem, homens, especial, fortes, brasil, outras, maravilhosas, aqui, contra, trans, marcha, fazem\n",
      "Topic 03: feliz, dia, dias, deseja, incriveis, maravilhosas, desejar, sempre, linda, vcs, desejamos, respeito, amor, mulherada, seguidoras\n",
      "Topic 04: ser, vai, homem, mulher, sempre, pode, quiser, ter, vida, deve, assim, nunca, orgulho, fazer, ainda\n",
      "Topic 05: parabens, especial, deus, mulherada, brasil, sempre, guerreira, meninas, abencoe, amor, linda, principalmente, dar, vcs, brazil\n",
      "Topic 06: amo, tanto, demais, vida, mae, deus, amor, serie, linda, vcs, obrigada, musica, cara, caralho, homem\n",
      "Topic 07: hoje, dias, respeito, sempre, ano, outros, porque, maior, ontem, receber, apenas, flores, presente, queremos, especial\n",
      "Topic 08: sororidade, ter, marcela, feminismo, sobre, gente, cara, empatia, caralho, amiga, nao, cade, feminista, porrada, vai\n",
      "Topic 09: video, melhor, perfeito, sempre, nunca, bom, ver, vou, vez, vejo, maravilhoso, incrivel, deus, sobre, lindo\n",
      "Topic 10: luta, direitos, igualdade, contra, respeito, vamos, violencia, sempre, data, ruas, forca, sobre, resistencia, ainda, machismo\n",
      "Topic 11: mundo, melhor, merecem, vcs, amor, brasil, merece, forca, pessoas, incriveis, respeito, lugar, gente, assim, homens\n",
      "Topic 12: tudo, quero, sim, gente, flores, respeito, faz, bombom, dar, queremos, aqui, chocolate, fale, pode, queria\n",
      "Topic 13: dia, bom, internacional, especial, cada, comemoracao, comemorar, lembrar, otimo, celebrar, nada, domingo, desejo, amanha, melhor\n",
      "Topic 14: guerreiras, vcs, lindas, fortes, dias, maravilhosas, batalhadoras, merecem, incriveis, brasil, lutam, maes, nunca, forca, cada\n",
      "Topic 15: marco, homenagem, data, respeito, ano, dia, forca, comemorado, mes, internacional, flores, maior, oito, greve, fabrica\n"
     ]
    }
   ],
   "source": [
    "for topic_index in range(k):\n",
    "    descriptor = get_descriptor( terms, H, topic_index, 15)\n",
    "    str_descriptor = \", \".join( descriptor )\n",
    "    print(\"Topic %02d: %s\" % ( topic_index+1, str_descriptor ) )"
   ]
  },
  {
   "cell_type": "code",
   "execution_count": 37,
   "metadata": {
    "ExecuteTime": {
     "end_time": "2021-05-22T00:33:07.792519Z",
     "start_time": "2021-05-22T00:33:07.784652Z"
    }
   },
   "outputs": [
    {
     "name": "stdout",
     "output_type": "stream",
     "text": [
      "Topic 01: mulher, internacional, dia, homenagem, via, mae, vida, lugar, quiser, amanha, sobre, onde, casa, homem, deus, brasil, presente, guerreira, linda, pleno\n",
      "Topic 02: mulheres, vida, incriveis, homenagem, homens, especial, fortes, brasil, outras, maravilhosas, aqui, contra, trans, marcha, fazem, inspiram, negras, historia, direitos, bolsonaro\n",
      "Topic 03: feliz, dia, dias, deseja, incriveis, maravilhosas, desejar, sempre, linda, vcs, desejamos, respeito, amor, mulherada, seguidoras, brazil, lindas, merecem, rainhas, amigas\n",
      "Topic 04: ser, vai, homem, mulher, sempre, pode, quiser, ter, vida, deve, assim, nunca, orgulho, fazer, ainda, forte, deveria, amor, sabe, nada\n",
      "Topic 05: parabens, especial, deus, mulherada, brasil, sempre, guerreira, meninas, abencoe, amor, linda, principalmente, dar, vcs, brazil, esposa, forca, boa, respeito, noite\n",
      "Topic 06: amo, tanto, demais, vida, mae, deus, amor, serie, linda, vcs, obrigada, musica, cara, caralho, homem, cena, cher, perfeita, admiro, foto\n",
      "Topic 07: hoje, dias, respeito, sempre, ano, outros, porque, maior, ontem, receber, apenas, flores, presente, queremos, especial, dar, lembrar, data, igualdade, anos\n",
      "Topic 08: sororidade, ter, marcela, feminismo, sobre, gente, cara, empatia, caralho, amiga, nao, cade, feminista, porrada, vai, aqui, falar, outras, obrigada, vou\n",
      "Topic 09: video, melhor, perfeito, sempre, nunca, bom, ver, vou, vez, vejo, maravilhoso, incrivel, deus, sobre, lindo, tanto, vezes, morrer, completo, simplesmente\n",
      "Topic 10: luta, direitos, igualdade, contra, respeito, vamos, violencia, sempre, data, ruas, forca, sobre, resistencia, ainda, machismo, diaria, genero, continua, sociedade, lembrar\n",
      "Topic 11: mundo, melhor, merecem, vcs, amor, brasil, merece, forca, pessoas, incriveis, respeito, lugar, gente, assim, homens, cada, maior, onde, metade, ainda\n",
      "Topic 12: tudo, quero, sim, gente, flores, respeito, faz, bombom, dar, queremos, aqui, chocolate, fale, pode, queria, amor, deus, fazer, bem, flor\n",
      "Topic 13: dia, bom, internacional, especial, cada, comemoracao, comemorar, lembrar, otimo, celebrar, nada, domingo, desejo, amanha, melhor, porra, porque, lindo, apenas, machista\n",
      "Topic 14: guerreiras, vcs, lindas, fortes, dias, maravilhosas, batalhadoras, merecem, incriveis, brasil, lutam, maes, nunca, forca, cada, deus, verdadeiras, amigas, duas, sempre\n",
      "Topic 15: marco, homenagem, data, respeito, ano, dia, forca, comemorado, mes, internacional, flores, maior, oito, greve, fabrica, delicadeza, lutas, dias, amor, historia\n"
     ]
    }
   ],
   "source": [
    "for topic_index in range(k):\n",
    "    descriptor = get_descriptor( terms, H, topic_index, 20)\n",
    "    str_descriptor = \", \".join( descriptor )\n",
    "    print(\"Topic %02d: %s\" % ( topic_index+1, str_descriptor ) )"
   ]
  },
  {
   "cell_type": "markdown",
   "metadata": {},
   "source": [
    "# 20"
   ]
  },
  {
   "cell_type": "code",
   "execution_count": 38,
   "metadata": {
    "ExecuteTime": {
     "end_time": "2021-05-22T00:33:07.798785Z",
     "start_time": "2021-05-22T00:33:07.793759Z"
    }
   },
   "outputs": [],
   "source": [
    "k = 20 # best_k\n",
    "\n",
    "# get the model that we generated earlier.\n",
    "W = topic_models[3][1]\n",
    "H = topic_models[3][2]"
   ]
  },
  {
   "cell_type": "code",
   "execution_count": 39,
   "metadata": {
    "ExecuteTime": {
     "end_time": "2021-05-22T00:33:07.812495Z",
     "start_time": "2021-05-22T00:33:07.799999Z"
    }
   },
   "outputs": [
    {
     "name": "stdout",
     "output_type": "stream",
     "text": [
      "Topic 01: mulher, internacional, dia, bom, via\n",
      "Topic 02: mulheres, dia, vida, incriveis, especial\n",
      "Topic 03: feliz, dia, deseja, incriveis, desejar\n",
      "Topic 04: sobre, vai, aqui, homem, nada\n",
      "Topic 05: parabens, especial, brasil, mulherada, meninas\n",
      "Topic 06: amo, tanto, demais, vida, serie\n",
      "Topic 07: hoje, dia, bom, especial, ontem\n",
      "Topic 08: sororidade, marcela, ter, empatia, feminismo\n",
      "Topic 09: video, perfeito, melhor, nunca, bom\n",
      "Topic 10: ser, mulher, pode, deve, quiser\n",
      "Topic 11: mundo, melhor, merecem, vcs, brasil\n",
      "Topic 12: quero, sim, flores, bombom, respeito\n",
      "Topic 13: luta, direitos, igualdade, contra, dia\n",
      "Topic 14: guerreiras, vcs, dia, lindas, fortes\n",
      "Topic 15: marco, dia, data, comemorado, ano\n",
      "Topic 16: tudo, faz, bom, acima, bem\n",
      "Topic 17: homenagem, linda, especial, forca, singela\n",
      "Topic 18: gente, linda, coisa, quer, bom\n",
      "Topic 19: dias, respeito, ano, outros, queremos\n",
      "Topic 20: sempre, deus, vida, amor, abencoe\n"
     ]
    }
   ],
   "source": [
    "for topic_index in range(k):\n",
    "    descriptor = get_descriptor( terms, H, topic_index, 5)\n",
    "    str_descriptor = \", \".join( descriptor )\n",
    "    print(\"Topic %02d: %s\" % ( topic_index+1, str_descriptor ) )"
   ]
  },
  {
   "cell_type": "code",
   "execution_count": 40,
   "metadata": {
    "ExecuteTime": {
     "end_time": "2021-05-22T00:33:07.821823Z",
     "start_time": "2021-05-22T00:33:07.814384Z"
    }
   },
   "outputs": [
    {
     "name": "stdout",
     "output_type": "stream",
     "text": [
      "Topic 01: mulher, internacional, dia, bom, via, especial, mae, amanha, comemoracao, comemorar\n",
      "Topic 02: mulheres, dia, vida, incriveis, especial, fortes, outras, homens, brasil, maravilhosas\n",
      "Topic 03: feliz, dia, deseja, incriveis, desejar, maravilhosas, linda, vcs, desejamos, mulherada\n",
      "Topic 04: sobre, vai, aqui, homem, nada, ainda, fazer, nunca, ter, vamos\n",
      "Topic 05: parabens, especial, brasil, mulherada, meninas, guerreira, dia, principalmente, vcs, dar\n",
      "Topic 06: amo, tanto, demais, vida, serie, mae, vcs, obrigada, musica, linda\n",
      "Topic 07: hoje, dia, bom, especial, ontem, porque, outros, celebrar, lembrar, aniversario\n",
      "Topic 08: sororidade, marcela, ter, empatia, feminismo, caralho, cara, cade, amiga, porrada\n",
      "Topic 09: video, perfeito, melhor, nunca, bom, vez, ver, maravilhoso, vejo, vou\n",
      "Topic 10: ser, mulher, pode, deve, quiser, vida, deveria, orgulho, forte, homem\n",
      "Topic 11: mundo, melhor, merecem, vcs, brasil, merece, forca, incriveis, pessoas, amor\n",
      "Topic 12: quero, sim, flores, bombom, respeito, chocolate, fale, dar, flor, queremos\n",
      "Topic 13: luta, direitos, igualdade, contra, dia, violencia, data, ruas, forca, resistencia\n",
      "Topic 14: guerreiras, vcs, dia, lindas, fortes, bom, maravilhosas, batalhadoras, merecem, incriveis\n",
      "Topic 15: marco, dia, data, comemorado, ano, mes, oito, greve, lutas, forca\n",
      "Topic 16: tudo, faz, bom, acima, bem, queria, obrigado, podemos, cena, simplesmente\n",
      "Topic 17: homenagem, linda, especial, forca, singela, melhor, maior, respeito, bela, coisa\n",
      "Topic 18: gente, linda, coisa, quer, bom, olha, demais, muita, vem, encontra\n",
      "Topic 19: dias, respeito, ano, outros, queremos, merecem, igualdade, flores, amor, apenas\n",
      "Topic 20: sempre, deus, vida, amor, abencoe, forca, mae, melhor, obrigada, coracao\n"
     ]
    }
   ],
   "source": [
    "for topic_index in range(k):\n",
    "    descriptor = get_descriptor( terms, H, topic_index, 10)\n",
    "    str_descriptor = \", \".join( descriptor )\n",
    "    print(\"Topic %02d: %s\" % ( topic_index+1, str_descriptor ) )"
   ]
  },
  {
   "cell_type": "code",
   "execution_count": 41,
   "metadata": {
    "ExecuteTime": {
     "end_time": "2021-05-22T00:33:07.837445Z",
     "start_time": "2021-05-22T00:33:07.823199Z"
    }
   },
   "outputs": [
    {
     "name": "stdout",
     "output_type": "stream",
     "text": [
      "Topic 01: mulher, internacional, dia, bom, via, especial, mae, amanha, comemoracao, comemorar, presente, domingo, pleno, mensagem, lugar\n",
      "Topic 02: mulheres, dia, vida, incriveis, especial, fortes, outras, homens, brasil, maravilhosas, direitos, trans, marcha, contra, negras\n",
      "Topic 03: feliz, dia, deseja, incriveis, desejar, maravilhosas, linda, vcs, desejamos, mulherada, seguidoras, brazil, lindas, rainhas, amigas\n",
      "Topic 04: sobre, vai, aqui, homem, nada, ainda, fazer, nunca, ter, vamos, vou, dar, homens, falar, bem\n",
      "Topic 05: parabens, especial, brasil, mulherada, meninas, guerreira, dia, principalmente, vcs, dar, cada, brazil, abencoe, esposa, pais\n",
      "Topic 06: amo, tanto, demais, vida, serie, mae, vcs, obrigada, musica, linda, caralho, amor, mulher, admiro, cara\n",
      "Topic 07: hoje, dia, bom, especial, ontem, porque, outros, celebrar, lembrar, aniversario, anos, celebramos, data, entao, homenagear\n",
      "Topic 08: sororidade, marcela, ter, empatia, feminismo, caralho, cara, cade, amiga, porrada, feminista, nao, seletiva, outras, obrigada\n",
      "Topic 09: video, perfeito, melhor, nunca, bom, vez, ver, maravilhoso, vejo, vou, incrivel, tanto, completo, lindo, morrer\n",
      "Topic 10: ser, mulher, pode, deve, quiser, vida, deveria, orgulho, forte, homem, ter, humano, especial, sabe, merece\n",
      "Topic 11: mundo, melhor, merecem, vcs, brasil, merece, forca, incriveis, pessoas, amor, lugar, metade, cada, inteiro, maior\n",
      "Topic 12: quero, sim, flores, bombom, respeito, chocolate, fale, dar, flor, queremos, bombons, promocao, pode, aceito, presente\n",
      "Topic 13: luta, direitos, igualdade, contra, dia, violencia, data, ruas, forca, resistencia, vamos, diaria, continua, genero, machismo\n",
      "Topic 14: guerreiras, vcs, dia, lindas, fortes, bom, maravilhosas, batalhadoras, merecem, incriveis, brasil, maes, lutam, cada, verdadeiras\n",
      "Topic 15: marco, dia, data, comemorado, ano, mes, oito, greve, lutas, forca, fabrica, conquistas, domingo, flores, ruas\n",
      "Topic 16: tudo, faz, bom, acima, bem, queria, obrigado, podemos, cena, simplesmente, fazer, pouco, absolutamente, vida, fez\n",
      "Topic 17: homenagem, linda, especial, forca, singela, melhor, maior, respeito, bela, coisa, delicadeza, sabedoria, pequena, receber, transforma\n",
      "Topic 18: gente, linda, coisa, quer, bom, olha, demais, muita, vem, encontra, tanto, fala, assim, sabe, boa\n",
      "Topic 19: dias, respeito, ano, outros, queremos, merecem, igualdade, flores, amor, apenas, maior, receber, lutam, lutamos, admiracao\n",
      "Topic 20: sempre, deus, vida, amor, abencoe, forca, mae, melhor, obrigada, coracao, cada, respeito, razao, lembrar, mulher\n"
     ]
    }
   ],
   "source": [
    "for topic_index in range(k):\n",
    "    descriptor = get_descriptor( terms, H, topic_index, 15)\n",
    "    str_descriptor = \", \".join( descriptor )\n",
    "    print(\"Topic %02d: %s\" % ( topic_index+1, str_descriptor ) )"
   ]
  },
  {
   "cell_type": "code",
   "execution_count": 42,
   "metadata": {
    "ExecuteTime": {
     "end_time": "2021-05-22T00:33:07.846470Z",
     "start_time": "2021-05-22T00:33:07.838731Z"
    }
   },
   "outputs": [
    {
     "name": "stdout",
     "output_type": "stream",
     "text": [
      "Topic 01: mulher, internacional, dia, bom, via, especial, mae, amanha, comemoracao, comemorar, presente, domingo, pleno, mensagem, lugar, vida, aniversario, casa, guerreira, otimo\n",
      "Topic 02: mulheres, dia, vida, incriveis, especial, fortes, outras, homens, brasil, maravilhosas, direitos, trans, marcha, contra, negras, inspiram, fazem, bolsonaro, pras, historia\n",
      "Topic 03: feliz, dia, deseja, incriveis, desejar, maravilhosas, linda, vcs, desejamos, mulherada, seguidoras, brazil, lindas, rainhas, amigas, merecem, meninas, fodas, bom, foda\n",
      "Topic 04: sobre, vai, aqui, homem, nada, ainda, fazer, nunca, ter, vamos, vou, dar, homens, falar, bem, ver, onde, lugar, feminismo, quiser\n",
      "Topic 05: parabens, especial, brasil, mulherada, meninas, guerreira, dia, principalmente, vcs, dar, cada, brazil, abencoe, esposa, pais, boa, vez, forca, obrigado, noite\n",
      "Topic 06: amo, tanto, demais, vida, serie, mae, vcs, obrigada, musica, linda, caralho, amor, mulher, admiro, cara, perfeita, cena, cher, pqp, foda\n",
      "Topic 07: hoje, dia, bom, especial, ontem, porque, outros, celebrar, lembrar, aniversario, anos, celebramos, data, entao, homenagear, apenas, comemorar, ano, amanha, parabenizar\n",
      "Topic 08: sororidade, marcela, ter, empatia, feminismo, caralho, cara, cade, amiga, porrada, feminista, nao, seletiva, outras, obrigada, dificil, palavra, mina, existe, umas\n",
      "Topic 09: video, perfeito, melhor, nunca, bom, vez, ver, maravilhoso, vejo, vou, incrivel, tanto, completo, lindo, morrer, simplesmente, pqp, vezes, canso, ronaldinho\n",
      "Topic 10: ser, mulher, pode, deve, quiser, vida, deveria, orgulho, forte, homem, ter, humano, especial, sabe, merece, precisa, forca, livre, princesa, rainha\n",
      "Topic 11: mundo, melhor, merecem, vcs, brasil, merece, forca, incriveis, pessoas, amor, lugar, metade, cada, inteiro, maior, fazem, homens, onde, assim, justo\n",
      "Topic 12: quero, sim, flores, bombom, respeito, chocolate, fale, dar, flor, queremos, bombons, promocao, pode, aceito, presente, desejar, mimos, mensagem, ganhar, foda\n",
      "Topic 13: luta, direitos, igualdade, contra, dia, violencia, data, ruas, forca, resistencia, vamos, diaria, continua, genero, machismo, respeito, sociedade, lembrar, democracia, cada\n",
      "Topic 14: guerreiras, vcs, dia, lindas, fortes, bom, maravilhosas, batalhadoras, merecem, incriveis, brasil, maes, lutam, cada, verdadeiras, forca, amigas, duas, nunca, lutadoras\n",
      "Topic 15: marco, dia, data, comemorado, ano, mes, oito, greve, lutas, forca, fabrica, conquistas, domingo, flores, ruas, historia, origem, anualmente, delicadeza, viva\n",
      "Topic 16: tudo, faz, bom, acima, bem, queria, obrigado, podemos, cena, simplesmente, fazer, pouco, absolutamente, vida, fez, mae, vcs, falou, cher, maravilhosas\n",
      "Topic 17: homenagem, linda, especial, forca, singela, melhor, maior, respeito, bela, coisa, delicadeza, sabedoria, pequena, receber, transforma, encantador, faz, amor, suave, obrigada\n",
      "Topic 18: gente, linda, coisa, quer, bom, olha, demais, muita, vem, encontra, tanto, fala, assim, sabe, boa, serio, maravilhosa, faz, pode, fofo\n",
      "Topic 19: dias, respeito, ano, outros, queremos, merecem, igualdade, flores, amor, apenas, maior, receber, lutam, lutamos, admiracao, carinho, merecemos, reconhecimento, presente, inspiram\n",
      "Topic 20: sempre, deus, vida, amor, abencoe, forca, mae, melhor, obrigada, coracao, cada, respeito, razao, lembrar, mulher, desde, fortes, carinho, incrivel, nunca\n"
     ]
    }
   ],
   "source": [
    "for topic_index in range(k):\n",
    "    descriptor = get_descriptor( terms, H, topic_index, 20)\n",
    "    str_descriptor = \", \".join( descriptor )\n",
    "    print(\"Topic %02d: %s\" % ( topic_index+1, str_descriptor ) )"
   ]
  },
  {
   "cell_type": "code",
   "execution_count": null,
   "metadata": {},
   "outputs": [],
   "source": []
  }
 ],
 "metadata": {
  "@webio": {
   "lastCommId": null,
   "lastKernelId": null
  },
  "kernelspec": {
   "display_name": "Python 3",
   "language": "python",
   "name": "python3"
  },
  "language_info": {
   "codemirror_mode": {
    "name": "ipython",
    "version": 3
   },
   "file_extension": ".py",
   "mimetype": "text/x-python",
   "name": "python",
   "nbconvert_exporter": "python",
   "pygments_lexer": "ipython3",
   "version": "3.7.7"
  },
  "toc": {
   "base_numbering": 1,
   "nav_menu": {
    "height": "91px",
    "width": "373px"
   },
   "number_sections": true,
   "sideBar": true,
   "skip_h1_title": false,
   "title_cell": "Table of Contents",
   "title_sidebar": "Contents",
   "toc_cell": false,
   "toc_position": {
    "height": "557px",
    "left": "22px",
    "top": "170px",
    "width": "288px"
   },
   "toc_section_display": true,
   "toc_window_display": false
  }
 },
 "nbformat": 4,
 "nbformat_minor": 4
}
