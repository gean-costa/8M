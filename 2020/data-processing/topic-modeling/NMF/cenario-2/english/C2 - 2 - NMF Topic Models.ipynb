{
 "cells": [
  {
   "cell_type": "markdown",
   "metadata": {},
   "source": [
    "# NMF Topic Models"
   ]
  },
  {
   "cell_type": "markdown",
   "metadata": {},
   "source": [
    "Topic modelling aims to automatically discover the hidden thematic structure in a large corpus of text documents. One approach for topic modelling is to apply *matrix factorisation* methods, such as *Non-negative Matrix Factorisation (NMF)*. In this notebook we look at how to apply NMF using the *scikit-learn* library in Python."
   ]
  },
  {
   "cell_type": "markdown",
   "metadata": {},
   "source": [
    "### Applying NMF"
   ]
  },
  {
   "cell_type": "markdown",
   "metadata": {},
   "source": [
    "First, let's load the TF-IDF normalised document-term matrix and list of terms that we stored earlier using *Joblib*:"
   ]
  },
  {
   "cell_type": "code",
   "execution_count": 1,
   "metadata": {
    "ExecuteTime": {
     "end_time": "2021-05-22T00:15:50.257980Z",
     "start_time": "2021-05-22T00:15:48.958235Z"
    }
   },
   "outputs": [
    {
     "name": "stdout",
     "output_type": "stream",
     "text": [
      "Loaded 400377 X 12367 document-term matrix\n"
     ]
    }
   ],
   "source": [
    "import joblib\n",
    "\n",
    "(A, terms, snippets) = joblib.load(\"cenario2-tweets-tfidf.pkl\")\n",
    "\n",
    "print(\"Loaded %d X %d document-term matrix\" % (A.shape[0], A.shape[1]))"
   ]
  },
  {
   "cell_type": "markdown",
   "metadata": {},
   "source": [
    "The key input parameter to NMF is the number of topics to generate *k*. For the moment, we will pre-specify a guessed value, for demonstration purposes."
   ]
  },
  {
   "cell_type": "code",
   "execution_count": 2,
   "metadata": {
    "ExecuteTime": {
     "end_time": "2021-05-22T00:15:50.261550Z",
     "start_time": "2021-05-22T00:15:50.259477Z"
    }
   },
   "outputs": [],
   "source": [
    "k = 10"
   ]
  },
  {
   "cell_type": "markdown",
   "metadata": {},
   "source": [
    "Another choice for NMF revolves around initialisation. Most commonly, NMF involves using random initialisation to populate the values in the factors W and H. Depending on the random seed that you use, you may get different results on the same dataset. Instead, using SVD-based initialisation provides more reliable results."
   ]
  },
  {
   "cell_type": "code",
   "execution_count": 3,
   "metadata": {
    "ExecuteTime": {
     "end_time": "2021-05-22T00:16:10.523001Z",
     "start_time": "2021-05-22T00:15:50.262669Z"
    }
   },
   "outputs": [],
   "source": [
    "# create the model\n",
    "from sklearn import decomposition\n",
    "\n",
    "model = decomposition.NMF(init=\"nndsvd\", n_components=k)\n",
    "\n",
    "# apply the model and extract the two factor matrices\n",
    "W = model.fit_transform(A)\n",
    "H = model.components_"
   ]
  },
  {
   "cell_type": "markdown",
   "metadata": {},
   "source": [
    "### Examining the Output"
   ]
  },
  {
   "cell_type": "markdown",
   "metadata": {},
   "source": [
    "NMF produces to factor matrices as its output: *W* and *H*.\n",
    "\n",
    "The *W* factor contains the document membership weights relative to each of the *k* topics. Each row corresponds to a single document, and each column correspond to a topic."
   ]
  },
  {
   "cell_type": "code",
   "execution_count": 4,
   "metadata": {
    "ExecuteTime": {
     "end_time": "2021-05-22T00:16:10.532791Z",
     "start_time": "2021-05-22T00:16:10.524464Z"
    }
   },
   "outputs": [
    {
     "data": {
      "text/plain": [
       "(400377, 10)"
      ]
     },
     "execution_count": 4,
     "metadata": {},
     "output_type": "execute_result"
    }
   ],
   "source": [
    "W.shape"
   ]
  },
  {
   "cell_type": "markdown",
   "metadata": {},
   "source": [
    "For instance, for the first document, we see that it is strongly associated with one topic. However,  each document can be potentially associated with multiple topics to different degrees."
   ]
  },
  {
   "cell_type": "code",
   "execution_count": 5,
   "metadata": {
    "ExecuteTime": {
     "end_time": "2021-05-22T00:16:10.543294Z",
     "start_time": "2021-05-22T00:16:10.534071Z"
    }
   },
   "outputs": [
    {
     "data": {
      "text/plain": [
       "array([0.  , 0.01, 0.  , 0.01, 0.  , 0.  , 0.  , 0.  , 0.  , 0.  ])"
      ]
     },
     "execution_count": 5,
     "metadata": {},
     "output_type": "execute_result"
    }
   ],
   "source": [
    "# round to 2 decimal places for display purposes\n",
    "W[0,:].round(2)"
   ]
  },
  {
   "cell_type": "markdown",
   "metadata": {},
   "source": [
    "The *H* factor contains the term weights relative to each of the *k* topics. In this case, each row corresponds to a topic, and each column corresponds to a unique term in the corpus vocabulary."
   ]
  },
  {
   "cell_type": "code",
   "execution_count": 6,
   "metadata": {
    "ExecuteTime": {
     "end_time": "2021-05-22T00:16:10.553404Z",
     "start_time": "2021-05-22T00:16:10.544857Z"
    }
   },
   "outputs": [
    {
     "data": {
      "text/plain": [
       "(10, 12367)"
      ]
     },
     "execution_count": 6,
     "metadata": {},
     "output_type": "execute_result"
    }
   ],
   "source": [
    "H.shape"
   ]
  },
  {
   "cell_type": "markdown",
   "metadata": {},
   "source": [
    "For instance, for the term \"brexit\", we see that it is strongly associated with a single topic. Again, in some cases each term can be associated with multiple topics."
   ]
  },
  {
   "cell_type": "code",
   "execution_count": 7,
   "metadata": {
    "ExecuteTime": {
     "end_time": "2021-05-22T00:16:10.571060Z",
     "start_time": "2021-05-22T00:16:10.555776Z"
    }
   },
   "outputs": [
    {
     "data": {
      "text/plain": [
       "array([0.  , 0.  , 0.  , 0.  , 6.27, 0.  , 0.  , 0.  , 0.  , 0.  ])"
      ]
     },
     "execution_count": 7,
     "metadata": {},
     "output_type": "execute_result"
    }
   ],
   "source": [
    "term_index = terms.index('woman')\n",
    "\n",
    "# round to 2 decimal places for display purposes\n",
    "H[:,term_index].round(2)"
   ]
  },
  {
   "cell_type": "markdown",
   "metadata": {},
   "source": [
    "### Topic Descriptors"
   ]
  },
  {
   "cell_type": "markdown",
   "metadata": {},
   "source": [
    "The top ranked terms from the *H* factor for each topic can give us an insight into the content of that topic. This is often called the *topic descriptor*. Let's define a function that extracts the descriptor for a specified topic: "
   ]
  },
  {
   "cell_type": "code",
   "execution_count": 8,
   "metadata": {
    "ExecuteTime": {
     "end_time": "2021-05-22T00:16:10.580217Z",
     "start_time": "2021-05-22T00:16:10.572895Z"
    }
   },
   "outputs": [],
   "source": [
    "import numpy as np\n",
    "\n",
    "\n",
    "def get_descriptor(terms, H, topic_index, top):\n",
    "    # reverse sort the values to sort the indices\n",
    "    top_indices = np.argsort(H[topic_index, :])[::-1]\n",
    "    # now get the terms corresponding to the top-ranked indices\n",
    "    top_terms = []\n",
    "    for term_index in top_indices[0:top]:\n",
    "        top_terms.append(terms[term_index])\n",
    "    return top_terms"
   ]
  },
  {
   "cell_type": "markdown",
   "metadata": {},
   "source": [
    "We can now get a descriptor for each topic using the top ranked terms (e.g. top 10):"
   ]
  },
  {
   "cell_type": "code",
   "execution_count": 9,
   "metadata": {
    "ExecuteTime": {
     "end_time": "2021-05-22T00:16:10.602973Z",
     "start_time": "2021-05-22T00:16:10.581822Z"
    }
   },
   "outputs": [
    {
     "name": "stdout",
     "output_type": "stream",
     "text": [
      "Topic 01: day, international, womens, women, every, march, special, year, celebrates, via\n",
      "Topic 02: women, strong, celebrating, men, life, may, rights, know, day, incredible\n",
      "Topic 03: happy, ladies, beautiful, day, iwd, everyone, wishing, wishes, keep, wish\n",
      "Topic 04: world, equal, enabled, gender, around, equality, let, better, make, place\n",
      "Topic 05: woman, every, strong, one, life, man, beautiful, know, proud, day\n",
      "Topic 06: amp, girls, gender, female, work, equality, support, one, like, many\n",
      "Topic 07: love, much, beautiful, respect, life, ladies, always, one, see, mom\n",
      "Topic 08: today, celebrate, let, every, everyday, achievements, celebrating, female, equality, day\n",
      "Topic 09: thank, amazing, work, great, many, much, life, ladies, inspiring, like\n",
      "Topic 10: thanks, latest, daily, news, great, diario, sharing, much, many, support\n"
     ]
    }
   ],
   "source": [
    "descriptors = []\n",
    "\n",
    "for topic_index in range(k):\n",
    "    descriptors.append(get_descriptor(terms, H, topic_index, 10))\n",
    "    str_descriptor = \", \".join(descriptors[topic_index])\n",
    "    print(\"Topic %02d: %s\" % (topic_index + 1, str_descriptor))"
   ]
  },
  {
   "cell_type": "markdown",
   "metadata": {},
   "source": [
    "The rankings above do not show the strength of association for the different terms. We can represent the distribution of the weights for the top terms in a topic using a *matplotlib* horizontal bar chart."
   ]
  },
  {
   "cell_type": "code",
   "execution_count": 10,
   "metadata": {
    "ExecuteTime": {
     "end_time": "2021-05-22T00:16:10.805059Z",
     "start_time": "2021-05-22T00:16:10.604731Z"
    }
   },
   "outputs": [],
   "source": [
    "%matplotlib inline\n",
    "\n",
    "import numpy as np\n",
    "import matplotlib\n",
    "import matplotlib.pyplot as plt\n",
    "\n",
    "plt.style.use(\"ggplot\")\n",
    "matplotlib.rcParams.update({\"font.size\": 14})"
   ]
  },
  {
   "cell_type": "markdown",
   "metadata": {},
   "source": [
    "Define a function to create a bar chart for the specified topic, based on the *H* factor from the current NMF model:"
   ]
  },
  {
   "cell_type": "code",
   "execution_count": 11,
   "metadata": {
    "ExecuteTime": {
     "end_time": "2021-05-22T00:16:10.811635Z",
     "start_time": "2021-05-22T00:16:10.806315Z"
    }
   },
   "outputs": [],
   "source": [
    "def plot_top_term_weights(terms, H, topic_index, top):\n",
    "    \n",
    "    # get the top terms and their weights\n",
    "    top_indices = np.argsort(H[topic_index, :])[::-1]\n",
    "    top_terms = []\n",
    "    top_weights = []\n",
    "    \n",
    "    for term_index in top_indices[0:top]:\n",
    "        top_terms.append(terms[term_index])\n",
    "        top_weights.append(H[topic_index, term_index])\n",
    "    \n",
    "    # note we reverse the ordering for the plot\n",
    "    top_terms.reverse()\n",
    "    top_weights.reverse()\n",
    "    \n",
    "    # create the plot\n",
    "    fig = plt.figure(figsize=(13, 8))\n",
    "    \n",
    "    # add the horizontal bar chart\n",
    "    ypos = np.arange(top)\n",
    "    ax = plt.barh(\n",
    "        ypos, top_weights, align=\"center\", color=\"green\", tick_label=top_terms\n",
    "    )\n",
    "    plt.xlabel(\"Term Weight\", fontsize=14)\n",
    "    plt.tight_layout()\n",
    "    plt.show()"
   ]
  },
  {
   "cell_type": "markdown",
   "metadata": {},
   "source": [
    "So for instance, for the 7th topic we can generate a plot with the top 15 terms using:"
   ]
  },
  {
   "cell_type": "code",
   "execution_count": 12,
   "metadata": {
    "ExecuteTime": {
     "end_time": "2021-05-22T00:16:11.097156Z",
     "start_time": "2021-05-22T00:16:10.812769Z"
    }
   },
   "outputs": [
    {
     "data": {
      "image/png": "[encoded data removed]",
      "text/plain": [
       "<Figure size 936x576 with 1 Axes>"
      ]
     },
     "metadata": {},
     "output_type": "display_data"
    }
   ],
   "source": [
    "plot_top_term_weights( terms, H, 0, 15 )"
   ]
  },
  {
   "cell_type": "markdown",
   "metadata": {},
   "source": [
    "### Most Relevant Documents"
   ]
  },
  {
   "cell_type": "markdown",
   "metadata": {},
   "source": [
    "We can also look at the snippets for the top-ranked documents for each topic. We'll define a function to produce this ranking also."
   ]
  },
  {
   "cell_type": "code",
   "execution_count": 13,
   "metadata": {
    "ExecuteTime": {
     "end_time": "2021-05-22T00:16:11.102197Z",
     "start_time": "2021-05-22T00:16:11.098494Z"
    }
   },
   "outputs": [],
   "source": [
    "def get_top_snippets(all_snippets, W, topic_index, top):\n",
    "    \n",
    "    # reverse sort the values to sort the indices\n",
    "    top_indices = np.argsort(W[:, topic_index])[::-1]\n",
    "    \n",
    "    # now get the snippets corresponding to the top-ranked indices\n",
    "    top_snippets = []\n",
    "    \n",
    "    for doc_index in top_indices[0:top]:\n",
    "        top_snippets.append(all_snippets[doc_index])\n",
    "    \n",
    "    return top_snippets"
   ]
  },
  {
   "cell_type": "markdown",
   "metadata": {},
   "source": [
    "For instance, for the first topic listed above, the top 10 documents are:"
   ]
  },
  {
   "cell_type": "code",
   "execution_count": 14,
   "metadata": {
    "ExecuteTime": {
     "end_time": "2021-05-22T00:16:11.140472Z",
     "start_time": "2021-05-22T00:16:11.103490Z"
    }
   },
   "outputs": [
    {
     "name": "stdout",
     "output_type": "stream",
     "text": [
      "01. international day\n",
      "02. international writeous day\n",
      "03. international hippo manormous day\n",
      "04. international thetan day\n",
      "05. international baddie day\n",
      "06. international simping day\n",
      "07. whens international eldritch day\n",
      "08. international testicle day\n",
      "09. international furry day\n",
      "10. international womens day international duzi day\n"
     ]
    }
   ],
   "source": [
    "topic_snippets = get_top_snippets(snippets, W, 0, 10)\n",
    "\n",
    "for i, snippet in enumerate(topic_snippets):\n",
    "    print(\"%02d. %s\" % ((i + 1), snippet))"
   ]
  },
  {
   "cell_type": "markdown",
   "metadata": {},
   "source": [
    "Similarly, for the second topic:"
   ]
  },
  {
   "cell_type": "code",
   "execution_count": 15,
   "metadata": {
    "ExecuteTime": {
     "end_time": "2021-05-22T00:16:11.196933Z",
     "start_time": "2021-05-22T00:16:11.141798Z"
    }
   },
   "outputs": [
    {
     "name": "stdout",
     "output_type": "stream",
     "text": [
      "01. jacking women\n",
      "02. women genie\n",
      "03. women ight\n",
      "04. poha women\n",
      "05. women amirite\n",
      "06. women arrowverse\n",
      "07. centring women\n",
      "08. eritrean women currencies\n",
      "09. 100s women\n",
      "10. women shelbys\n"
     ]
    }
   ],
   "source": [
    "topic_snippets = get_top_snippets(snippets, W, 1, 10)\n",
    "\n",
    "for i, snippet in enumerate(topic_snippets):\n",
    "    print(\"%02d. %s\" % ((i + 1), snippet))"
   ]
  },
  {
   "cell_type": "markdown",
   "metadata": {},
   "source": [
    "### Exporting the Results"
   ]
  },
  {
   "cell_type": "markdown",
   "metadata": {},
   "source": [
    "If we want to keep this topic model for later user, we can save it using *joblib*:"
   ]
  },
  {
   "cell_type": "code",
   "execution_count": 16,
   "metadata": {
    "ExecuteTime": {
     "end_time": "2021-05-22T00:16:12.908285Z",
     "start_time": "2021-05-22T00:16:11.198221Z"
    }
   },
   "outputs": [
    {
     "data": {
      "text/plain": [
       "['cenario2-tweets-model-nmf-k10.pkl']"
      ]
     },
     "execution_count": 16,
     "metadata": {},
     "output_type": "execute_result"
    }
   ],
   "source": [
    "joblib.dump((W,H,terms,snippets), \"cenario2-tweets-model-nmf-k%02d.pkl\" % k) "
   ]
  },
  {
   "cell_type": "code",
   "execution_count": null,
   "metadata": {},
   "outputs": [],
   "source": []
  }
 ],
 "metadata": {
  "kernelspec": {
   "display_name": "Python 3",
   "language": "python",
   "name": "python3"
  },
  "language_info": {
   "codemirror_mode": {
    "name": "ipython",
    "version": 3
   },
   "file_extension": ".py",
   "mimetype": "text/x-python",
   "name": "python",
   "nbconvert_exporter": "python",
   "pygments_lexer": "ipython3",
   "version": "3.7.7"
  },
  "toc": {
   "base_numbering": 1,
   "nav_menu": {},
   "number_sections": true,
   "sideBar": true,
   "skip_h1_title": false,
   "title_cell": "Table of Contents",
   "title_sidebar": "Contents",
   "toc_cell": false,
   "toc_position": {},
   "toc_section_display": true,
   "toc_window_display": false
  }
 },
 "nbformat": 4,
 "nbformat_minor": 4
}
