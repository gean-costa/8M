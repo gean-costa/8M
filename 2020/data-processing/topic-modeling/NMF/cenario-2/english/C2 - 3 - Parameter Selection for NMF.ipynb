{
 "cells": [
  {
   "cell_type": "markdown",
   "metadata": {},
   "source": [
    "# Parameter Selection for NMF"
   ]
  },
  {
   "cell_type": "markdown",
   "metadata": {},
   "source": [
    "Now we look at the more advanced task of parameter selection for NMF topic modelling - namely, selecting a useful value for the number of topics *k*."
   ]
  },
  {
   "cell_type": "markdown",
   "metadata": {},
   "source": [
    "First, let's load the TF-IDF normalised document-term matrix and list of terms that we stored earlier using *Joblib*:"
   ]
  },
  {
   "cell_type": "code",
   "execution_count": 1,
   "metadata": {
    "ExecuteTime": {
     "end_time": "2021-05-22T00:20:48.249630Z",
     "start_time": "2021-05-22T00:20:46.982814Z"
    }
   },
   "outputs": [
    {
     "name": "stdout",
     "output_type": "stream",
     "text": [
      "Loaded 400377 X 12367 document-term matrix\n"
     ]
    }
   ],
   "source": [
    "import joblib\n",
    "\n",
    "(A, terms, snippets) = joblib.load(\"cenario2-tweets-tfidf.pkl\")\n",
    "\n",
    "print(\"Loaded %d X %d document-term matrix\" % (A.shape[0], A.shape[1]))"
   ]
  },
  {
   "cell_type": "markdown",
   "metadata": {},
   "source": [
    "### Create the Topic Models"
   ]
  },
  {
   "cell_type": "markdown",
   "metadata": {},
   "source": [
    "A common approach for parameter selection is to Measure and compare the topic coherence of models generated for different values of *k*."
   ]
  },
  {
   "cell_type": "markdown",
   "metadata": {},
   "source": [
    "We need to start by pre-specifying an initial range of \"sensible\" values:"
   ]
  },
  {
   "cell_type": "code",
   "execution_count": 2,
   "metadata": {
    "ExecuteTime": {
     "end_time": "2021-05-22T00:20:48.253377Z",
     "start_time": "2021-05-22T00:20:48.251148Z"
    }
   },
   "outputs": [],
   "source": [
    "kmin, kmax = 5, 20"
   ]
  },
  {
   "cell_type": "markdown",
   "metadata": {},
   "source": [
    "Apply NMF for each of these values:"
   ]
  },
  {
   "cell_type": "code",
   "execution_count": 3,
   "metadata": {
    "ExecuteTime": {
     "end_time": "2021-05-22T00:23:15.155642Z",
     "start_time": "2021-05-22T00:20:48.254558Z"
    }
   },
   "outputs": [
    {
     "name": "stdout",
     "output_type": "stream",
     "text": [
      "Applying NMF for k=5 ...\n",
      "Applying NMF for k=10 ...\n",
      "Applying NMF for k=15 ...\n",
      "Applying NMF for k=20 ...\n"
     ]
    }
   ],
   "source": [
    "from sklearn import decomposition\n",
    "\n",
    "topic_models = []\n",
    "\n",
    "# try each value of k\n",
    "for k in [5,10,15,20]: #range(kmin, kmax + 1):\n",
    "    print(\"Applying NMF for k=%d ...\" % k)\n",
    "    # run NMF\n",
    "    model = decomposition.NMF(init=\"nndsvd\", n_components=k)\n",
    "    W = model.fit_transform(A)\n",
    "    H = model.components_\n",
    "    # store for later\n",
    "    topic_models.append((k, W, H))"
   ]
  },
  {
   "cell_type": "markdown",
   "metadata": {},
   "source": [
    "### Build a Word Embedding"
   ]
  },
  {
   "cell_type": "markdown",
   "metadata": {},
   "source": [
    "To select the number of topics, here we will use a *topic coherence* measure called TC-W2V. This measure relies on the use of a *word embedding* model constructed from our corpus. So in this step we will use the *Gensim* implementation of Word2Vec to build a Word2Vec model based on our collection of news articles."
   ]
  },
  {
   "cell_type": "markdown",
   "metadata": {},
   "source": [
    "**Note:** If you want to skip this step, a pre-built Word2Vec model for the sample dataset [is also provided here for download](http://erdos.ucd.ie/files/pydata/w2v-model.bin) (71MB)."
   ]
  },
  {
   "cell_type": "markdown",
   "metadata": {},
   "source": [
    "We read the documents from the input file again:"
   ]
  },
  {
   "cell_type": "code",
   "execution_count": 4,
   "metadata": {
    "ExecuteTime": {
     "end_time": "2021-05-22T00:23:15.427535Z",
     "start_time": "2021-05-22T00:23:15.157081Z"
    }
   },
   "outputs": [
    {
     "name": "stdout",
     "output_type": "stream",
     "text": [
      "Read 400377 raw text documents\n"
     ]
    }
   ],
   "source": [
    "import os.path\n",
    "\n",
    "raw_documents = []\n",
    "\n",
    "with open(os.path.join(\"../../../../../data-pre-processing/2csv/cenario2_8M2020_tweets_en.txt\"), \"r\") as fin:\n",
    "    for line in fin.readlines():\n",
    "        raw_documents.append(line.strip().lower())\n",
    "\n",
    "print(\"Read %d raw text documents\" % len(raw_documents))"
   ]
  },
  {
   "cell_type": "markdown",
   "metadata": {},
   "source": [
    "Read the custom stopword list:"
   ]
  },
  {
   "cell_type": "code",
   "execution_count": 5,
   "metadata": {
    "ExecuteTime": {
     "end_time": "2021-05-22T00:23:15.432629Z",
     "start_time": "2021-05-22T00:23:15.428976Z"
    }
   },
   "outputs": [
    {
     "name": "stdout",
     "output_type": "stream",
     "text": [
      "Stopword list has 179 entries\n"
     ]
    }
   ],
   "source": [
    "custom_stop_words = []\n",
    "\n",
    "with open(\"english.txt\", \"r\") as fin:\n",
    "    for line in fin.readlines():\n",
    "        custom_stop_words.append(line.strip().lower())\n",
    "\n",
    "# note that we need to make it hashable\n",
    "print(\"Stopword list has %d entries\" % len(custom_stop_words))"
   ]
  },
  {
   "cell_type": "markdown",
   "metadata": {},
   "source": [
    "First, we need to define a class that will generate documents in a form that can be consumed by Gensim's Word2Vec implementation:"
   ]
  },
  {
   "cell_type": "code",
   "execution_count": 6,
   "metadata": {
    "ExecuteTime": {
     "end_time": "2021-05-22T00:23:15.441920Z",
     "start_time": "2021-05-22T00:23:15.433927Z"
    }
   },
   "outputs": [],
   "source": [
    "import re\n",
    "\n",
    "\n",
    "class TokenGenerator:\n",
    "    def __init__(self, documents, stopwords):\n",
    "        self.documents = documents\n",
    "        self.stopwords = stopwords\n",
    "        self.tokenizer = re.compile(r\"(?u)\\b\\w\\w+\\b\")\n",
    "\n",
    "    def __iter__(self):\n",
    "        print(\"Building Word2Vec model ...\")\n",
    "        for doc in self.documents:\n",
    "            tokens = []\n",
    "            for tok in self.tokenizer.findall(doc):\n",
    "                if tok in self.stopwords:\n",
    "                    tokens.append(\"<stopword>\")\n",
    "                elif len(tok) >= 2:\n",
    "                    tokens.append(tok)\n",
    "            yield tokens"
   ]
  },
  {
   "cell_type": "markdown",
   "metadata": {},
   "source": [
    "Now build a Skipgram Word2Vec model from all documents in the input file using *Gensim*:"
   ]
  },
  {
   "cell_type": "code",
   "execution_count": 7,
   "metadata": {
    "ExecuteTime": {
     "end_time": "2021-05-22T00:23:15.658635Z",
     "start_time": "2021-05-22T00:23:15.454321Z"
    }
   },
   "outputs": [],
   "source": [
    "import gensim"
   ]
  },
  {
   "cell_type": "code",
   "execution_count": 8,
   "metadata": {
    "ExecuteTime": {
     "end_time": "2021-05-22T00:25:30.621284Z",
     "start_time": "2021-05-22T00:23:15.660271Z"
    }
   },
   "outputs": [
    {
     "name": "stdout",
     "output_type": "stream",
     "text": [
      "Building Word2Vec model ...\n",
      "Building Word2Vec model ...\n",
      "Building Word2Vec model ...\n",
      "Building Word2Vec model ...\n",
      "Building Word2Vec model ...\n",
      "Building Word2Vec model ...\n"
     ]
    }
   ],
   "source": [
    "docgen = TokenGenerator(raw_documents, custom_stop_words)\n",
    "\n",
    "# the model has 500 dimensions, the minimum document-term frequency is 20\n",
    "w2v_model = gensim.models.Word2Vec(docgen, size=500, min_count=20, sg=1)"
   ]
  },
  {
   "cell_type": "code",
   "execution_count": 9,
   "metadata": {
    "ExecuteTime": {
     "end_time": "2021-05-22T00:25:30.625460Z",
     "start_time": "2021-05-22T00:25:30.622749Z"
    }
   },
   "outputs": [
    {
     "name": "stdout",
     "output_type": "stream",
     "text": [
      "Model has 12577 terms\n"
     ]
    }
   ],
   "source": [
    "print( \"Model has %d terms\" % len(w2v_model.wv.vocab) )"
   ]
  },
  {
   "cell_type": "markdown",
   "metadata": {},
   "source": [
    "Save for later use, so that we do not need to rebuild it:"
   ]
  },
  {
   "cell_type": "code",
   "execution_count": 10,
   "metadata": {
    "ExecuteTime": {
     "end_time": "2021-05-22T00:25:31.272777Z",
     "start_time": "2021-05-22T00:25:30.626624Z"
    }
   },
   "outputs": [],
   "source": [
    "w2v_model.save(\"cenario2_w2v-model.bin\")"
   ]
  },
  {
   "cell_type": "code",
   "execution_count": 11,
   "metadata": {
    "ExecuteTime": {
     "end_time": "2021-05-22T00:25:31.275670Z",
     "start_time": "2021-05-22T00:25:31.274029Z"
    }
   },
   "outputs": [],
   "source": [
    "# To re-load this model, run\n",
    "# w2v_model = gensim.models.Word2Vec.load(\"cenario1_w2v-model.bin\")"
   ]
  },
  {
   "cell_type": "markdown",
   "metadata": {},
   "source": [
    "### Selecting the Number of Topics"
   ]
  },
  {
   "cell_type": "markdown",
   "metadata": {},
   "source": [
    "Once we have our Word2vec model, we can use it as part of our *topic coherence* approach to evaluate the different NMF topic models that we created previously. To do this, we will implement a simple version of the TC-W2V coherence measure."
   ]
  },
  {
   "cell_type": "markdown",
   "metadata": {},
   "source": [
    "We use the Word2vec model to calculate coherence scores for each of these models. We will define this coherence score as follows:"
   ]
  },
  {
   "cell_type": "code",
   "execution_count": 12,
   "metadata": {
    "ExecuteTime": {
     "end_time": "2021-05-22T00:25:31.285391Z",
     "start_time": "2021-05-22T00:25:31.276838Z"
    }
   },
   "outputs": [],
   "source": [
    "def calculate_coherence(w2v_model, term_rankings):\n",
    "    overall_coherence = 0.0\n",
    "    \n",
    "    for topic_index in range(len(term_rankings)):\n",
    "        # check each pair of terms\n",
    "        pair_scores = []\n",
    "        for pair in combinations(term_rankings[topic_index], 2):\n",
    "            pair_scores.append(w2v_model.similarity(pair[0], pair[1]))\n",
    "        # get the mean for all pairs in this topic\n",
    "        topic_score = sum(pair_scores) / len(pair_scores)\n",
    "        overall_coherence += topic_score\n",
    "    \n",
    "    # get the mean score across all topics\n",
    "    return overall_coherence / len(term_rankings)"
   ]
  },
  {
   "cell_type": "markdown",
   "metadata": {},
   "source": [
    "We also define a function to get the topic descriptor (i.e. list of top terms) for each topic:"
   ]
  },
  {
   "cell_type": "code",
   "execution_count": 13,
   "metadata": {
    "ExecuteTime": {
     "end_time": "2021-05-22T00:25:31.295123Z",
     "start_time": "2021-05-22T00:25:31.286586Z"
    }
   },
   "outputs": [],
   "source": [
    "import numpy as np\n",
    "\n",
    "\n",
    "def get_descriptor(all_terms, H, topic_index, top):\n",
    "    # reverse sort the values to sort the indices\n",
    "    top_indices = np.argsort(H[topic_index, :])[::-1]\n",
    "    \n",
    "    # now get the terms corresponding to the top-ranked indices\n",
    "    top_terms = []\n",
    "    \n",
    "    for term_index in top_indices[0:top]:\n",
    "        top_terms.append(all_terms[term_index])\n",
    "    \n",
    "    return top_terms"
   ]
  },
  {
   "cell_type": "markdown",
   "metadata": {},
   "source": [
    "Now process each of the models for different values of *k*:"
   ]
  },
  {
   "cell_type": "code",
   "execution_count": 14,
   "metadata": {
    "ExecuteTime": {
     "end_time": "2021-05-22T00:25:31.369368Z",
     "start_time": "2021-05-22T00:25:31.296295Z"
    }
   },
   "outputs": [
    {
     "name": "stdout",
     "output_type": "stream",
     "text": [
      "K=05: Coherence=0.3701\n",
      "K=10: Coherence=0.3186\n",
      "K=15: Coherence=0.3001\n",
      "K=20: Coherence=0.2964\n"
     ]
    },
    {
     "name": "stderr",
     "output_type": "stream",
     "text": [
      "/home/gean/anaconda3/lib/python3.7/site-packages/ipykernel_launcher.py:8: DeprecationWarning: Call to deprecated `similarity` (Method will be removed in 4.0.0, use self.wv.similarity() instead).\n",
      "  \n"
     ]
    }
   ],
   "source": [
    "from itertools import combinations\n",
    "\n",
    "k_values = []\n",
    "coherences = []\n",
    "\n",
    "for (k, W, H) in topic_models:\n",
    "    # Get all of the topic descriptors - the term_rankings, based on top 10 terms\n",
    "    term_rankings = []\n",
    "    \n",
    "    for topic_index in range(k):\n",
    "        term_rankings.append(get_descriptor(terms, H, topic_index, 5))\n",
    "    \n",
    "    # Now calculate the coherence based on our Word2vec model\n",
    "    k_values.append(k)\n",
    "    coherences.append(calculate_coherence(w2v_model, term_rankings))\n",
    "    \n",
    "    print(\"K=%02d: Coherence=%.4f\" % (k, coherences[-1]))\n",
    "    # print(f'{coherences[-1]:.4f}')"
   ]
  },
  {
   "cell_type": "markdown",
   "metadata": {},
   "source": [
    "We can now use *matplotlib* to generate a line plot of these coherence scores, to help us select an appropriate value."
   ]
  },
  {
   "cell_type": "code",
   "execution_count": 15,
   "metadata": {
    "ExecuteTime": {
     "end_time": "2021-05-22T00:25:31.549662Z",
     "start_time": "2021-05-22T00:25:31.370758Z"
    }
   },
   "outputs": [],
   "source": [
    "%matplotlib inline\n",
    "import matplotlib\n",
    "import matplotlib.pyplot as plt\n",
    "\n",
    "plt.style.use(\"ggplot\")\n",
    "matplotlib.rcParams.update({\"font.size\": 14})"
   ]
  },
  {
   "cell_type": "code",
   "execution_count": 16,
   "metadata": {
    "ExecuteTime": {
     "end_time": "2021-05-22T00:25:31.809126Z",
     "start_time": "2021-05-22T00:25:31.551901Z"
    }
   },
   "outputs": [
    {
     "data": {
      "image/png": "[encoded data removed]",
      "text/plain": [
       "<Figure size 936x504 with 1 Axes>"
      ]
     },
     "metadata": {},
     "output_type": "display_data"
    }
   ],
   "source": [
    "fig = plt.figure(figsize=(13,7))\n",
    "\n",
    "# create the line plot\n",
    "ax = plt.plot( k_values, coherences )\n",
    "plt.xticks(k_values)\n",
    "plt.xlabel(\"Number of Topics\")\n",
    "plt.ylabel(\"Mean Coherence\")\n",
    "\n",
    "# add the points\n",
    "plt.scatter( k_values, coherences, s=120)\n",
    "\n",
    "\n",
    "# find and annotate the maximum point on the plot\n",
    "ymax = max(coherences)\n",
    "xpos = coherences.index(ymax)\n",
    "best_k = k_values[xpos]\n",
    "plt.annotate( \"k=%d\" % best_k, xy=(best_k, ymax), xytext=(best_k, ymax), textcoords=\"offset points\", fontsize=16)\n",
    "\n",
    "# show the plot\n",
    "plt.show()"
   ]
  },
  {
   "cell_type": "markdown",
   "metadata": {},
   "source": [
    "# 10"
   ]
  },
  {
   "cell_type": "code",
   "execution_count": 17,
   "metadata": {
    "ExecuteTime": {
     "end_time": "2021-05-22T00:25:31.924076Z",
     "start_time": "2021-05-22T00:25:31.810458Z"
    }
   },
   "outputs": [
    {
     "name": "stdout",
     "output_type": "stream",
     "text": [
      "K=05: Coherence=0.3114\n",
      "K=10: Coherence=0.2756\n",
      "K=15: Coherence=0.2632\n",
      "K=20: Coherence=0.2613\n"
     ]
    },
    {
     "name": "stderr",
     "output_type": "stream",
     "text": [
      "/home/gean/anaconda3/lib/python3.7/site-packages/ipykernel_launcher.py:8: DeprecationWarning: Call to deprecated `similarity` (Method will be removed in 4.0.0, use self.wv.similarity() instead).\n",
      "  \n"
     ]
    }
   ],
   "source": [
    "from itertools import combinations\n",
    "\n",
    "k_values = []\n",
    "coherences = []\n",
    "\n",
    "for (k, W, H) in topic_models:\n",
    "    # Get all of the topic descriptors - the term_rankings, based on top 10 terms\n",
    "    term_rankings = []\n",
    "    \n",
    "    for topic_index in range(k):\n",
    "        term_rankings.append(get_descriptor(terms, H, topic_index, 10))\n",
    "    \n",
    "    # Now calculate the coherence based on our Word2vec model\n",
    "    k_values.append(k)\n",
    "    coherences.append(calculate_coherence(w2v_model, term_rankings))\n",
    "    \n",
    "    print(\"K=%02d: Coherence=%.4f\" % (k, coherences[-1]))\n",
    "    # print(f'{coherences[-1]:.4f}')"
   ]
  },
  {
   "cell_type": "code",
   "execution_count": 18,
   "metadata": {
    "ExecuteTime": {
     "end_time": "2021-05-22T00:25:32.086666Z",
     "start_time": "2021-05-22T00:25:31.925376Z"
    }
   },
   "outputs": [
    {
     "data": {
      "image/png": "[encoded data removed]",
      "text/plain": [
       "<Figure size 936x504 with 1 Axes>"
      ]
     },
     "metadata": {},
     "output_type": "display_data"
    }
   ],
   "source": [
    "fig = plt.figure(figsize=(13,7))\n",
    "\n",
    "# create the line plot\n",
    "ax = plt.plot( k_values, coherences )\n",
    "plt.xticks(k_values)\n",
    "plt.xlabel(\"Number of Topics\")\n",
    "plt.ylabel(\"Mean Coherence\")\n",
    "\n",
    "# add the points\n",
    "plt.scatter( k_values, coherences, s=120)\n",
    "\n",
    "\n",
    "# find and annotate the maximum point on the plot\n",
    "ymax = max(coherences)\n",
    "xpos = coherences.index(ymax)\n",
    "best_k = k_values[xpos]\n",
    "plt.annotate( \"k=%d\" % best_k, xy=(best_k, ymax), xytext=(best_k, ymax), textcoords=\"offset points\", fontsize=16)\n",
    "\n",
    "# show the plot\n",
    "plt.show()"
   ]
  },
  {
   "cell_type": "markdown",
   "metadata": {},
   "source": [
    "# 15"
   ]
  },
  {
   "cell_type": "code",
   "execution_count": 19,
   "metadata": {
    "ExecuteTime": {
     "end_time": "2021-05-22T00:25:32.294523Z",
     "start_time": "2021-05-22T00:25:32.088063Z"
    }
   },
   "outputs": [
    {
     "name": "stdout",
     "output_type": "stream",
     "text": [
      "K=05: Coherence=0.2888\n",
      "K=10: Coherence=0.2554\n",
      "K=15: Coherence=0.2495\n",
      "K=20: Coherence=0.2494\n"
     ]
    },
    {
     "name": "stderr",
     "output_type": "stream",
     "text": [
      "/home/gean/anaconda3/lib/python3.7/site-packages/ipykernel_launcher.py:8: DeprecationWarning: Call to deprecated `similarity` (Method will be removed in 4.0.0, use self.wv.similarity() instead).\n",
      "  \n"
     ]
    }
   ],
   "source": [
    "from itertools import combinations\n",
    "\n",
    "k_values = []\n",
    "coherences = []\n",
    "\n",
    "for (k, W, H) in topic_models:\n",
    "    # Get all of the topic descriptors - the term_rankings, based on top 10 terms\n",
    "    term_rankings = []\n",
    "    \n",
    "    for topic_index in range(k):\n",
    "        term_rankings.append(get_descriptor(terms, H, topic_index, 15))\n",
    "    \n",
    "    # Now calculate the coherence based on our Word2vec model\n",
    "    k_values.append(k)\n",
    "    coherences.append(calculate_coherence(w2v_model, term_rankings))\n",
    "    \n",
    "    print(\"K=%02d: Coherence=%.4f\" % (k, coherences[-1]))\n",
    "    # print(f'{coherences[-1]:.4f}')"
   ]
  },
  {
   "cell_type": "code",
   "execution_count": 20,
   "metadata": {
    "ExecuteTime": {
     "end_time": "2021-05-22T00:25:32.459183Z",
     "start_time": "2021-05-22T00:25:32.295776Z"
    }
   },
   "outputs": [
    {
     "data": {
      "image/png": "[encoded data removed]",
      "text/plain": [
       "<Figure size 936x504 with 1 Axes>"
      ]
     },
     "metadata": {},
     "output_type": "display_data"
    }
   ],
   "source": [
    "fig = plt.figure(figsize=(13,7))\n",
    "\n",
    "# create the line plot\n",
    "ax = plt.plot( k_values, coherences )\n",
    "plt.xticks(k_values)\n",
    "plt.xlabel(\"Number of Topics\")\n",
    "plt.ylabel(\"Mean Coherence\")\n",
    "\n",
    "# add the points\n",
    "plt.scatter( k_values, coherences, s=120)\n",
    "\n",
    "\n",
    "# find and annotate the maximum point on the plot\n",
    "ymax = max(coherences)\n",
    "xpos = coherences.index(ymax)\n",
    "best_k = k_values[xpos]\n",
    "plt.annotate( \"k=%d\" % best_k, xy=(best_k, ymax), xytext=(best_k, ymax), textcoords=\"offset points\", fontsize=16)\n",
    "\n",
    "# show the plot\n",
    "plt.show()"
   ]
  },
  {
   "cell_type": "markdown",
   "metadata": {},
   "source": [
    "# 20"
   ]
  },
  {
   "cell_type": "code",
   "execution_count": 43,
   "metadata": {
    "ExecuteTime": {
     "end_time": "2021-05-22T00:26:19.825706Z",
     "start_time": "2021-05-22T00:26:19.483886Z"
    }
   },
   "outputs": [
    {
     "name": "stderr",
     "output_type": "stream",
     "text": [
      "/home/gean/anaconda3/lib/python3.7/site-packages/ipykernel_launcher.py:8: DeprecationWarning: Call to deprecated `similarity` (Method will be removed in 4.0.0, use self.wv.similarity() instead).\n",
      "  \n"
     ]
    },
    {
     "name": "stdout",
     "output_type": "stream",
     "text": [
      "K=05: Coherence=0.2748\n",
      "K=10: Coherence=0.2430\n",
      "K=15: Coherence=0.2435\n",
      "K=20: Coherence=0.2404\n"
     ]
    }
   ],
   "source": [
    "from itertools import combinations\n",
    "\n",
    "k_values = []\n",
    "coherences = []\n",
    "\n",
    "for (k, W, H) in topic_models:\n",
    "    # Get all of the topic descriptors - the term_rankings, based on top 10 terms\n",
    "    term_rankings = []\n",
    "    \n",
    "    for topic_index in range(k):\n",
    "        term_rankings.append(get_descriptor(terms, H, topic_index, 20))\n",
    "    \n",
    "    # Now calculate the coherence based on our Word2vec model\n",
    "    k_values.append(k)\n",
    "    coherences.append(calculate_coherence(w2v_model, term_rankings))\n",
    "    \n",
    "    print(\"K=%02d: Coherence=%.4f\" % (k, coherences[-1]))\n",
    "    # print(f'{coherences[-1]:.4f}')"
   ]
  },
  {
   "cell_type": "code",
   "execution_count": 44,
   "metadata": {
    "ExecuteTime": {
     "end_time": "2021-05-22T00:26:21.250379Z",
     "start_time": "2021-05-22T00:26:21.089387Z"
    }
   },
   "outputs": [
    {
     "data": {
      "image/png": "[encoded data removed]",
      "text/plain": [
       "<Figure size 936x504 with 1 Axes>"
      ]
     },
     "metadata": {},
     "output_type": "display_data"
    }
   ],
   "source": [
    "fig = plt.figure(figsize=(13,7))\n",
    "\n",
    "# create the line plot\n",
    "ax = plt.plot( k_values, coherences )\n",
    "plt.xticks(k_values)\n",
    "plt.xlabel(\"Number of Topics\")\n",
    "plt.ylabel(\"Mean Coherence\")\n",
    "\n",
    "# add the points\n",
    "plt.scatter( k_values, coherences, s=120)\n",
    "\n",
    "\n",
    "# find and annotate the maximum point on the plot\n",
    "ymax = max(coherences)\n",
    "xpos = coherences.index(ymax)\n",
    "best_k = k_values[xpos]\n",
    "plt.annotate( \"k=%d\" % best_k, xy=(best_k, ymax), xytext=(best_k, ymax), textcoords=\"offset points\", fontsize=16)\n",
    "\n",
    "# show the plot\n",
    "plt.show()"
   ]
  },
  {
   "cell_type": "markdown",
   "metadata": {},
   "source": [
    "### Examine the Final  Model"
   ]
  },
  {
   "cell_type": "markdown",
   "metadata": {},
   "source": [
    "The plot above suggests that the most appropriate value for the number of topics is *k=8*."
   ]
  },
  {
   "cell_type": "markdown",
   "metadata": {},
   "source": [
    "# 5"
   ]
  },
  {
   "cell_type": "code",
   "execution_count": 23,
   "metadata": {
    "ExecuteTime": {
     "end_time": "2021-05-22T00:25:32.729395Z",
     "start_time": "2021-05-22T00:25:32.726721Z"
    }
   },
   "outputs": [],
   "source": [
    "k = 5 # best_k\n",
    "\n",
    "# get the model that we generated earlier.\n",
    "W = topic_models[0][1]\n",
    "H = topic_models[0][2]"
   ]
  },
  {
   "cell_type": "markdown",
   "metadata": {},
   "source": [
    "Display the topic descriptors for this model:"
   ]
  },
  {
   "cell_type": "code",
   "execution_count": 24,
   "metadata": {
    "ExecuteTime": {
     "end_time": "2021-05-22T00:25:32.743168Z",
     "start_time": "2021-05-22T00:25:32.730628Z"
    }
   },
   "outputs": [
    {
     "name": "stdout",
     "output_type": "stream",
     "text": [
      "Topic 01: day, international, women, womens, every\n",
      "Topic 02: women, amp, today, celebrate, amazing\n",
      "Topic 03: happy, ladies, beautiful, strong, women\n",
      "Topic 04: world, equal, enabled, gender, around\n",
      "Topic 05: woman, love, every, one, strong\n"
     ]
    }
   ],
   "source": [
    "for topic_index in range(k):\n",
    "    descriptor = get_descriptor( terms, H, topic_index, 5)\n",
    "    str_descriptor = \", \".join( descriptor )\n",
    "    print(\"Topic %02d: %s\" % ( topic_index+1, str_descriptor ) )"
   ]
  },
  {
   "cell_type": "code",
   "execution_count": 25,
   "metadata": {
    "ExecuteTime": {
     "end_time": "2021-05-22T00:25:32.754144Z",
     "start_time": "2021-05-22T00:25:32.746432Z"
    }
   },
   "outputs": [
    {
     "name": "stdout",
     "output_type": "stream",
     "text": [
      "Topic 01: day, international, women, womens, every, march, celebrating, celebrate, wishes, special\n",
      "Topic 02: women, amp, today, celebrate, amazing, work, thank, celebrating, life, strong\n",
      "Topic 03: happy, ladies, beautiful, strong, women, amazing, everyone, iwd, wishing, wishes\n",
      "Topic 04: world, equal, enabled, gender, around, equality, let, better, make, celebrate\n",
      "Topic 05: woman, love, every, one, strong, life, beautiful, much, thank, know\n"
     ]
    }
   ],
   "source": [
    "for topic_index in range(k):\n",
    "    descriptor = get_descriptor( terms, H, topic_index, 10)\n",
    "    str_descriptor = \", \".join( descriptor )\n",
    "    print(\"Topic %02d: %s\" % ( topic_index+1, str_descriptor ) )"
   ]
  },
  {
   "cell_type": "code",
   "execution_count": 26,
   "metadata": {
    "ExecuteTime": {
     "end_time": "2021-05-22T00:25:32.763525Z",
     "start_time": "2021-05-22T00:25:32.755753Z"
    }
   },
   "outputs": [
    {
     "name": "stdout",
     "output_type": "stream",
     "text": [
      "Topic 01: day, international, women, womens, every, march, celebrating, celebrate, wishes, special, celebrates, year, via, celebrated, celebration\n",
      "Topic 02: women, amp, today, celebrate, amazing, work, thank, celebrating, life, strong, many, support, men, great, proud\n",
      "Topic 03: happy, ladies, beautiful, strong, women, amazing, everyone, iwd, wishing, wishes, wonderful, day, keep, wish, lovely\n",
      "Topic 04: world, equal, enabled, gender, around, equality, let, better, make, celebrate, create, place, help, achievements, change\n",
      "Topic 05: woman, love, every, one, strong, life, beautiful, much, thank, know, man, like, day, always, best\n"
     ]
    }
   ],
   "source": [
    "for topic_index in range(k):\n",
    "    descriptor = get_descriptor( terms, H, topic_index, 15)\n",
    "    str_descriptor = \", \".join( descriptor )\n",
    "    print(\"Topic %02d: %s\" % ( topic_index+1, str_descriptor ) )"
   ]
  },
  {
   "cell_type": "code",
   "execution_count": 27,
   "metadata": {
    "ExecuteTime": {
     "end_time": "2021-05-22T00:25:32.772260Z",
     "start_time": "2021-05-22T00:25:32.764821Z"
    },
    "scrolled": true
   },
   "outputs": [
    {
     "name": "stdout",
     "output_type": "stream",
     "text": [
      "Topic 01: day, international, women, womens, every, march, celebrating, celebrate, wishes, special, celebrates, year, via, celebrated, celebration, 8th, theme, single, today, achievements\n",
      "Topic 02: women, amp, today, celebrate, amazing, work, thank, celebrating, life, strong, many, support, men, great, proud, incredible, let, know, girls, make\n",
      "Topic 03: happy, ladies, beautiful, strong, women, amazing, everyone, iwd, wishing, wishes, wonderful, day, keep, wish, lovely, birthday, team, sisters, queens, may\n",
      "Topic 04: world, equal, enabled, gender, around, equality, let, better, make, celebrate, create, place, help, achievements, change, girls, together, bias, theme, action\n",
      "Topic 05: woman, love, every, one, strong, life, beautiful, much, thank, know, man, like, day, always, best, respect, proud, mother, girl, single\n"
     ]
    }
   ],
   "source": [
    "for topic_index in range(k):\n",
    "    descriptor = get_descriptor( terms, H, topic_index, 20)\n",
    "    str_descriptor = \", \".join( descriptor )\n",
    "    print(\"Topic %02d: %s\" % ( topic_index+1, str_descriptor ) )"
   ]
  },
  {
   "cell_type": "markdown",
   "metadata": {},
   "source": [
    "# 10"
   ]
  },
  {
   "cell_type": "code",
   "execution_count": 28,
   "metadata": {
    "ExecuteTime": {
     "end_time": "2021-05-22T00:25:32.777681Z",
     "start_time": "2021-05-22T00:25:32.773699Z"
    }
   },
   "outputs": [],
   "source": [
    "k = 10 # best_k\n",
    "\n",
    "# get the model that we generated earlier.\n",
    "W = topic_models[1][1]\n",
    "H = topic_models[1][2]"
   ]
  },
  {
   "cell_type": "code",
   "execution_count": 29,
   "metadata": {
    "ExecuteTime": {
     "end_time": "2021-05-22T00:25:32.795532Z",
     "start_time": "2021-05-22T00:25:32.779394Z"
    }
   },
   "outputs": [
    {
     "name": "stdout",
     "output_type": "stream",
     "text": [
      "Topic 01: day, international, womens, women, every\n",
      "Topic 02: women, strong, celebrating, men, life\n",
      "Topic 03: happy, ladies, beautiful, day, iwd\n",
      "Topic 04: world, equal, enabled, gender, around\n",
      "Topic 05: woman, every, strong, one, life\n",
      "Topic 06: amp, girls, gender, female, work\n",
      "Topic 07: love, much, beautiful, respect, life\n",
      "Topic 08: today, celebrate, let, every, everyday\n",
      "Topic 09: thank, amazing, work, great, many\n",
      "Topic 10: thanks, latest, daily, news, great\n"
     ]
    }
   ],
   "source": [
    "for topic_index in range(k):\n",
    "    descriptor = get_descriptor( terms, H, topic_index, 5)\n",
    "    str_descriptor = \", \".join( descriptor )\n",
    "    print(\"Topic %02d: %s\" % ( topic_index+1, str_descriptor ) )"
   ]
  },
  {
   "cell_type": "code",
   "execution_count": 30,
   "metadata": {
    "ExecuteTime": {
     "end_time": "2021-05-22T00:25:32.807591Z",
     "start_time": "2021-05-22T00:25:32.796759Z"
    }
   },
   "outputs": [
    {
     "name": "stdout",
     "output_type": "stream",
     "text": [
      "Topic 01: day, international, womens, women, every, march, special, year, celebrates, via\n",
      "Topic 02: women, strong, celebrating, men, life, may, rights, know, day, incredible\n",
      "Topic 03: happy, ladies, beautiful, day, iwd, everyone, wishing, wishes, keep, wish\n",
      "Topic 04: world, equal, enabled, gender, around, equality, let, better, make, place\n",
      "Topic 05: woman, every, strong, one, life, man, beautiful, know, proud, day\n",
      "Topic 06: amp, girls, gender, female, work, equality, support, one, like, many\n",
      "Topic 07: love, much, beautiful, respect, life, ladies, always, one, see, mom\n",
      "Topic 08: today, celebrate, let, every, everyday, achievements, celebrating, female, equality, day\n",
      "Topic 09: thank, amazing, work, great, many, much, life, ladies, inspiring, like\n",
      "Topic 10: thanks, latest, daily, news, great, diario, sharing, much, many, support\n"
     ]
    }
   ],
   "source": [
    "for topic_index in range(k):\n",
    "    descriptor = get_descriptor( terms, H, topic_index, 10)\n",
    "    str_descriptor = \", \".join( descriptor )\n",
    "    print(\"Topic %02d: %s\" % ( topic_index+1, str_descriptor ) )"
   ]
  },
  {
   "cell_type": "code",
   "execution_count": 31,
   "metadata": {
    "ExecuteTime": {
     "end_time": "2021-05-22T00:25:32.819836Z",
     "start_time": "2021-05-22T00:25:32.808740Z"
    }
   },
   "outputs": [
    {
     "name": "stdout",
     "output_type": "stream",
     "text": [
      "Topic 01: day, international, womens, women, every, march, special, year, celebrates, via, celebration, celebrated, 8th, theme, great\n",
      "Topic 02: women, strong, celebrating, men, life, may, rights, know, day, incredible, support, many, inspire, power, proud\n",
      "Topic 03: happy, ladies, beautiful, day, iwd, everyone, wishing, wishes, keep, wish, wonderful, strong, birthday, lovely, sisters\n",
      "Topic 04: world, equal, enabled, gender, around, equality, let, better, make, place, create, help, change, girls, together\n",
      "Topic 05: woman, every, strong, one, life, man, beautiful, know, proud, day, may, like, single, girl, mother\n",
      "Topic 06: amp, girls, gender, female, work, equality, support, one, like, many, men, time, see, people, get\n",
      "Topic 07: love, much, beautiful, respect, life, ladies, always, one, see, mom, best, strong, know, mother, show\n",
      "Topic 08: today, celebrate, let, every, everyday, achievements, celebrating, female, equality, day, way, take, join, year, great\n",
      "Topic 09: thank, amazing, work, great, many, much, life, ladies, inspiring, like, proud, wonderful, support, team, make\n",
      "Topic 10: thanks, latest, daily, news, great, diario, sharing, much, many, support, special, read, work, check, iwd\n"
     ]
    }
   ],
   "source": [
    "for topic_index in range(k):\n",
    "    descriptor = get_descriptor( terms, H, topic_index, 15)\n",
    "    str_descriptor = \", \".join( descriptor )\n",
    "    print(\"Topic %02d: %s\" % ( topic_index+1, str_descriptor ) )"
   ]
  },
  {
   "cell_type": "code",
   "execution_count": 32,
   "metadata": {
    "ExecuteTime": {
     "end_time": "2021-05-22T00:25:32.832058Z",
     "start_time": "2021-05-22T00:25:32.821051Z"
    }
   },
   "outputs": [
    {
     "name": "stdout",
     "output_type": "stream",
     "text": [
      "Topic 01: day, international, womens, women, every, march, special, year, celebrates, via, celebration, celebrated, 8th, theme, great, celebrating, one, single, wishes, enjoy\n",
      "Topic 02: women, strong, celebrating, men, life, may, rights, know, day, incredible, support, many, inspire, power, proud, inspiring, wonderful, powerful, respect, lives\n",
      "Topic 03: happy, ladies, beautiful, day, iwd, everyone, wishing, wishes, keep, wish, wonderful, strong, birthday, lovely, sisters, team, queens, friends, female, favorite\n",
      "Topic 04: world, equal, enabled, gender, around, equality, let, better, make, place, create, help, change, girls, together, theme, achievements, bias, collectively, action\n",
      "Topic 05: woman, every, strong, one, life, man, beautiful, know, proud, day, may, like, single, girl, mother, powerful, never, best, first, without\n",
      "Topic 06: amp, girls, gender, female, work, equality, support, one, like, many, men, time, see, people, get, need, good, proud, also, still\n",
      "Topic 07: love, much, beautiful, respect, life, ladies, always, one, see, mom, best, strong, know, mother, show, girls, appreciate, sending, heart, would\n",
      "Topic 08: today, celebrate, let, every, everyday, achievements, celebrating, female, equality, day, way, take, join, year, great, time, gender, make, proud, lives\n",
      "Topic 09: thank, amazing, work, great, many, much, life, ladies, inspiring, like, proud, wonderful, support, team, make, female, want, shout, know, incredible\n",
      "Topic 10: thanks, latest, daily, news, great, diario, sharing, much, many, support, special, read, work, check, iwd, post, everyone, good, inspiring, times\n"
     ]
    }
   ],
   "source": [
    "for topic_index in range(k):\n",
    "    descriptor = get_descriptor( terms, H, topic_index, 20)\n",
    "    str_descriptor = \", \".join( descriptor )\n",
    "    print(\"Topic %02d: %s\" % ( topic_index+1, str_descriptor ) )"
   ]
  },
  {
   "cell_type": "markdown",
   "metadata": {},
   "source": [
    "# 15"
   ]
  },
  {
   "cell_type": "code",
   "execution_count": 33,
   "metadata": {
    "ExecuteTime": {
     "end_time": "2021-05-22T00:25:32.836991Z",
     "start_time": "2021-05-22T00:25:32.833299Z"
    }
   },
   "outputs": [],
   "source": [
    "k = 15 # best_k\n",
    "\n",
    "# get the model that we generated earlier.\n",
    "W = topic_models[2][1]\n",
    "H = topic_models[2][2]"
   ]
  },
  {
   "cell_type": "code",
   "execution_count": 34,
   "metadata": {
    "ExecuteTime": {
     "end_time": "2021-05-22T00:25:32.857976Z",
     "start_time": "2021-05-22T00:25:32.838185Z"
    }
   },
   "outputs": [
    {
     "name": "stdout",
     "output_type": "stream",
     "text": [
      "Topic 01: day, international, womens, march, women\n",
      "Topic 02: women, day, life, rights, incredible\n",
      "Topic 03: happy, ladies, day, everyone, iwd\n",
      "Topic 04: world, equal, enabled, around, gender\n",
      "Topic 05: woman, life, man, power, mother\n",
      "Topic 06: amp, girls, support, many, sisters\n",
      "Topic 07: love, much, respect, life, ladies\n",
      "Topic 08: today, celebrate, let, everyday, achievements\n",
      "Topic 09: thank, much, wonderful, life, inspiring\n",
      "Topic 10: thanks, latest, daily, news, diario\n",
      "Topic 11: strong, beautiful, may, know, raise\n",
      "Topic 12: one, great, work, like, equality\n",
      "Topic 13: amazing, ladies, work, life, many\n",
      "Topic 14: every, day, single, inspire, year\n",
      "Topic 15: celebrating, achievements, female, today, join\n"
     ]
    }
   ],
   "source": [
    "for topic_index in range(k):\n",
    "    descriptor = get_descriptor( terms, H, topic_index, 5)\n",
    "    str_descriptor = \", \".join( descriptor )\n",
    "    print(\"Topic %02d: %s\" % ( topic_index+1, str_descriptor ) )"
   ]
  },
  {
   "cell_type": "code",
   "execution_count": 35,
   "metadata": {
    "ExecuteTime": {
     "end_time": "2021-05-22T00:25:32.874069Z",
     "start_time": "2021-05-22T00:25:32.859237Z"
    }
   },
   "outputs": [
    {
     "name": "stdout",
     "output_type": "stream",
     "text": [
      "Topic 01: day, international, womens, march, women, via, celebrates, special, celebration, 8th\n",
      "Topic 02: women, day, life, rights, incredible, men, power, wonderful, inspire, support\n",
      "Topic 03: happy, ladies, day, everyone, iwd, wishing, wishes, wish, keep, wonderful\n",
      "Topic 04: world, equal, enabled, around, gender, better, equality, let, place, create\n",
      "Topic 05: woman, life, man, power, mother, first, wonder, inspires, magic, god\n",
      "Topic 06: amp, girls, support, many, sisters, friends, life, family, health, strength\n",
      "Topic 07: love, much, respect, life, ladies, always, mom, beautiful, mother, see\n",
      "Topic 08: today, celebrate, let, everyday, achievements, take, lives, join, way, incredible\n",
      "Topic 09: thank, much, wonderful, life, inspiring, support, incredible, making, everything, always\n",
      "Topic 10: thanks, latest, daily, news, diario, much, sharing, special, great, many\n",
      "Topic 11: strong, beautiful, may, know, raise, powerful, ladies, life, independent, stay\n",
      "Topic 12: one, great, work, like, equality, gender, proud, girls, make, men\n",
      "Topic 13: amazing, ladies, work, life, many, shout, lucky, inspiring, proud, team\n",
      "Topic 14: every, day, single, inspire, year, girl, respect, make, behind, moment\n",
      "Topic 15: celebrating, achievements, female, today, join, social, cultural, team, economic, political\n"
     ]
    }
   ],
   "source": [
    "for topic_index in range(k):\n",
    "    descriptor = get_descriptor( terms, H, topic_index, 10)\n",
    "    str_descriptor = \", \".join( descriptor )\n",
    "    print(\"Topic %02d: %s\" % ( topic_index+1, str_descriptor ) )"
   ]
  },
  {
   "cell_type": "code",
   "execution_count": 36,
   "metadata": {
    "ExecuteTime": {
     "end_time": "2021-05-22T00:25:32.888916Z",
     "start_time": "2021-05-22T00:25:32.875370Z"
    }
   },
   "outputs": [
    {
     "name": "stdout",
     "output_type": "stream",
     "text": [
      "Topic 01: day, international, womens, march, women, via, celebrates, special, celebration, 8th, theme, celebrated, year, enjoy, yesterday\n",
      "Topic 02: women, day, life, rights, incredible, men, power, wonderful, inspire, support, respect, lives, empower, inspiring, trans\n",
      "Topic 03: happy, ladies, day, everyone, iwd, wishing, wishes, wish, keep, wonderful, birthday, lovely, team, sisters, beautiful\n",
      "Topic 04: world, equal, enabled, around, gender, better, equality, let, place, create, make, help, change, achievements, bias\n",
      "Topic 05: woman, life, man, power, mother, first, wonder, inspires, magic, god, strength, tag, strongest, without, never\n",
      "Topic 06: amp, girls, support, many, sisters, friends, life, family, health, strength, mother, community, join, respect, working\n",
      "Topic 07: love, much, respect, life, ladies, always, mom, beautiful, mother, see, appreciate, sending, show, heart, best\n",
      "Topic 08: today, celebrate, let, everyday, achievements, take, lives, join, way, incredible, tomorrow, honor, made, march, continue\n",
      "Topic 09: thank, much, wonderful, life, inspiring, support, incredible, making, everything, always, inspire, inspiration, sharing, many, say\n",
      "Topic 10: thanks, latest, daily, news, diario, much, sharing, special, great, many, support, inspiring, times, post, inspire\n",
      "Topic 11: strong, beautiful, may, know, raise, powerful, ladies, life, independent, stay, brave, smart, always, kind, intelligent\n",
      "Topic 12: one, great, work, like, equality, gender, proud, girls, make, men, female, let, see, get, time\n",
      "Topic 13: amazing, ladies, work, life, many, shout, lucky, inspiring, proud, team, keep, inspire, things, grateful, know\n",
      "Topic 14: every, day, single, inspire, year, girl, respect, make, behind, moment, special, wishing, heart, happiness, home\n",
      "Topic 15: celebrating, achievements, female, today, join, social, cultural, team, economic, political, global, march, iwd, week, incredible\n"
     ]
    }
   ],
   "source": [
    "for topic_index in range(k):\n",
    "    descriptor = get_descriptor( terms, H, topic_index, 15)\n",
    "    str_descriptor = \", \".join( descriptor )\n",
    "    print(\"Topic %02d: %s\" % ( topic_index+1, str_descriptor ) )"
   ]
  },
  {
   "cell_type": "code",
   "execution_count": 37,
   "metadata": {
    "ExecuteTime": {
     "end_time": "2021-05-22T00:25:32.905062Z",
     "start_time": "2021-05-22T00:25:32.890212Z"
    }
   },
   "outputs": [
    {
     "name": "stdout",
     "output_type": "stream",
     "text": [
      "Topic 01: day, international, womens, march, women, via, celebrates, special, celebration, 8th, theme, celebrated, year, enjoy, yesterday, equality, post, message, mens, mark\n",
      "Topic 02: women, day, life, rights, incredible, men, power, wonderful, inspire, support, respect, lives, empower, inspiring, trans, wishes, around, inspirational, society, powerful\n",
      "Topic 03: happy, ladies, day, everyone, iwd, wishing, wishes, wish, keep, wonderful, birthday, lovely, team, sisters, beautiful, queens, friends, favorite, girls, incredible\n",
      "Topic 04: world, equal, enabled, around, gender, better, equality, let, place, create, make, help, change, achievements, bias, theme, collectively, forge, together, across\n",
      "Topic 05: woman, life, man, power, mother, first, wonder, inspires, magic, god, strength, tag, strongest, without, never, proud, ever, tell, another, powerful\n",
      "Topic 06: amp, girls, support, many, sisters, friends, life, family, health, strength, mother, community, join, respect, working, share, others, role, inspire, continue\n",
      "Topic 07: love, much, respect, life, ladies, always, mom, beautiful, mother, see, appreciate, sending, show, heart, best, strength, sisters, god, care, womens\n",
      "Topic 08: today, celebrate, let, everyday, achievements, take, lives, join, way, incredible, tomorrow, honor, made, march, continue, recognize, around, come, bias, special\n",
      "Topic 09: thank, much, wonderful, life, inspiring, support, incredible, making, everything, always, inspire, inspiration, sharing, many, say, want, lovely, everyone, without, better\n",
      "Topic 10: thanks, latest, daily, news, diario, much, sharing, special, great, many, support, inspiring, times, post, inspire, check, big, blog, including, wonderful\n",
      "Topic 11: strong, beautiful, may, know, raise, powerful, ladies, life, independent, stay, brave, smart, always, kind, intelligent, keep, inspiring, bold, wonderful, talented\n",
      "Topic 12: one, great, work, like, equality, gender, proud, girls, make, men, female, let, see, get, time, best, people, support, many, good\n",
      "Topic 13: amazing, ladies, work, life, many, shout, lucky, inspiring, proud, team, keep, inspire, things, grateful, know, working, friends, talented, part, shoutout\n",
      "Topic 14: every, day, single, inspire, year, girl, respect, make, behind, moment, special, wishing, heart, happiness, home, one, inspiration, successful, celebrated, incomplete\n",
      "Topic 15: celebrating, achievements, female, today, join, social, cultural, team, economic, political, global, march, iwd, week, incredible, across, inspirational, inspiring, year, month\n"
     ]
    }
   ],
   "source": [
    "for topic_index in range(k):\n",
    "    descriptor = get_descriptor( terms, H, topic_index, 20)\n",
    "    str_descriptor = \", \".join( descriptor )\n",
    "    print(\"Topic %02d: %s\" % ( topic_index+1, str_descriptor ) )"
   ]
  },
  {
   "cell_type": "markdown",
   "metadata": {},
   "source": [
    "# 20"
   ]
  },
  {
   "cell_type": "code",
   "execution_count": 38,
   "metadata": {
    "ExecuteTime": {
     "end_time": "2021-05-22T00:25:32.908667Z",
     "start_time": "2021-05-22T00:25:32.906333Z"
    }
   },
   "outputs": [],
   "source": [
    "k = 20 # best_k\n",
    "\n",
    "# get the model that we generated earlier.\n",
    "W = topic_models[3][1]\n",
    "H = topic_models[3][2]"
   ]
  },
  {
   "cell_type": "code",
   "execution_count": 39,
   "metadata": {
    "ExecuteTime": {
     "end_time": "2021-05-22T00:25:32.933493Z",
     "start_time": "2021-05-22T00:25:32.909847Z"
    }
   },
   "outputs": [
    {
     "name": "stdout",
     "output_type": "stream",
     "text": [
      "Topic 01: day, international, womens, march, women\n",
      "Topic 02: women, day, life, incredible, men\n",
      "Topic 03: happy, day, everyone, iwd, wishes\n",
      "Topic 04: world, equal, enabled, around, better\n",
      "Topic 05: woman, man, life, power, first\n",
      "Topic 06: amp, support, sisters, friends, life\n",
      "Topic 07: love, much, respect, life, always\n",
      "Topic 08: today, celebrate, everyday, let, achievements\n",
      "Topic 09: thank, much, wonderful, life, inspiring\n",
      "Topic 10: thanks, latest, daily, news, diario\n",
      "Topic 11: strong, beautiful, powerful, life, independent\n",
      "Topic 12: amazing, life, many, shout, work\n",
      "Topic 13: work, proud, like, girls, female\n",
      "Topic 14: every, day, single, inspire, year\n",
      "Topic 15: celebrating, achievements, today, join, female\n",
      "Topic 16: ladies, lovely, wonderful, keep, let\n",
      "Topic 17: equality, gender, let, equal, rights\n",
      "Topic 18: great, see, hope, event, things\n",
      "Topic 19: may, know, raise, strong, continue\n",
      "Topic 20: one, best, another, life, year\n"
     ]
    }
   ],
   "source": [
    "for topic_index in range(k):\n",
    "    descriptor = get_descriptor( terms, H, topic_index, 5)\n",
    "    str_descriptor = \", \".join( descriptor )\n",
    "    print(\"Topic %02d: %s\" % ( topic_index+1, str_descriptor ) )"
   ]
  },
  {
   "cell_type": "code",
   "execution_count": 40,
   "metadata": {
    "ExecuteTime": {
     "end_time": "2021-05-22T00:25:32.951678Z",
     "start_time": "2021-05-22T00:25:32.934682Z"
    }
   },
   "outputs": [
    {
     "name": "stdout",
     "output_type": "stream",
     "text": [
      "Topic 01: day, international, womens, march, women, via, celebrates, celebration, special, 8th\n",
      "Topic 02: women, day, life, incredible, men, rights, power, wonderful, inspire, respect\n",
      "Topic 03: happy, day, everyone, iwd, wishes, wishing, wish, birthday, keep, sisters\n",
      "Topic 04: world, equal, enabled, around, better, place, make, create, help, change\n",
      "Topic 05: woman, man, life, power, first, mother, wonder, inspires, magic, god\n",
      "Topic 06: amp, support, sisters, friends, life, strength, many, mother, respect, health\n",
      "Topic 07: love, much, respect, life, always, mom, see, mother, sending, appreciate\n",
      "Topic 08: today, celebrate, everyday, let, achievements, way, lives, take, join, tomorrow\n",
      "Topic 09: thank, much, wonderful, life, inspiring, support, everything, making, always, inspiration\n",
      "Topic 10: thanks, latest, daily, news, diario, much, sharing, special, support, many\n",
      "Topic 11: strong, beautiful, powerful, life, independent, brave, stay, smart, intelligent, kind\n",
      "Topic 12: amazing, life, many, shout, work, lucky, inspiring, know, inspire, things\n",
      "Topic 13: work, proud, like, girls, female, make, team, many, get, people\n",
      "Topic 14: every, day, single, inspire, year, girl, respect, behind, make, moment\n",
      "Topic 15: celebrating, achievements, today, join, female, social, cultural, economic, political, iwd\n",
      "Topic 16: ladies, lovely, wonderful, keep, let, awesome, life, beautiful, special, shout\n",
      "Topic 17: equality, gender, let, equal, rights, fight, men, action, generation, together\n",
      "Topic 18: great, see, hope, event, things, way, job, keep, read, thanks\n",
      "Topic 19: may, know, raise, strong, continue, let, unknown, strongest, bless, god\n",
      "Topic 20: one, best, another, life, year, time, ever, favorite, thing, favourite\n"
     ]
    }
   ],
   "source": [
    "for topic_index in range(k):\n",
    "    descriptor = get_descriptor( terms, H, topic_index, 10)\n",
    "    str_descriptor = \", \".join( descriptor )\n",
    "    print(\"Topic %02d: %s\" % ( topic_index+1, str_descriptor ) )"
   ]
  },
  {
   "cell_type": "code",
   "execution_count": 41,
   "metadata": {
    "ExecuteTime": {
     "end_time": "2021-05-22T00:25:32.970199Z",
     "start_time": "2021-05-22T00:25:32.952873Z"
    }
   },
   "outputs": [
    {
     "name": "stdout",
     "output_type": "stream",
     "text": [
      "Topic 01: day, international, womens, march, women, via, celebrates, celebration, special, 8th, year, celebrated, theme, enjoy, yesterday\n",
      "Topic 02: women, day, life, incredible, men, rights, power, wonderful, inspire, respect, lives, empower, trans, wishes, support\n",
      "Topic 03: happy, day, everyone, iwd, wishes, wishing, wish, birthday, keep, sisters, team, queens, friends, wonderful, incredible\n",
      "Topic 04: world, equal, enabled, around, better, place, make, create, help, change, making, run, across, forge, collectively\n",
      "Topic 05: woman, man, life, power, first, mother, wonder, inspires, magic, god, tag, never, strength, strongest, without\n",
      "Topic 06: amp, support, sisters, friends, life, strength, many, mother, respect, health, family, join, girls, community, share\n",
      "Topic 07: love, much, respect, life, always, mom, see, mother, sending, appreciate, show, heart, strength, sisters, womens\n",
      "Topic 08: today, celebrate, everyday, let, achievements, way, lives, take, join, tomorrow, incredible, around, honor, made, come\n",
      "Topic 09: thank, much, wonderful, life, inspiring, support, everything, making, always, inspiration, incredible, sharing, inspire, say, everyone\n",
      "Topic 10: thanks, latest, daily, news, diario, much, sharing, special, support, many, times, post, inspiring, blog, check\n",
      "Topic 11: strong, beautiful, powerful, life, independent, brave, stay, smart, intelligent, kind, inspiring, always, keep, bold, talented\n",
      "Topic 12: amazing, life, many, shout, work, lucky, inspiring, know, inspire, things, grateful, keep, friends, shoutout, colleagues\n",
      "Topic 13: work, proud, like, girls, female, make, team, many, get, people, would, support, want, better, men\n",
      "Topic 14: every, day, single, inspire, year, girl, respect, behind, make, moment, wishing, special, heart, happiness, home\n",
      "Topic 15: celebrating, achievements, today, join, female, social, cultural, economic, political, iwd, global, march, week, team, year\n",
      "Topic 16: ladies, lovely, wonderful, keep, let, awesome, life, beautiful, special, shout, wishing, fabulous, day, rock, enjoy\n",
      "Topic 17: equality, gender, let, equal, rights, fight, men, action, generation, together, take, create, theme, bias, help\n",
      "Topic 18: great, see, hope, event, things, way, job, keep, read, thanks, everyone, list, well, article, wonderful\n",
      "Topic 19: may, know, raise, strong, continue, let, unknown, strongest, bless, god, always, want, allah, awareness, never\n",
      "Topic 20: one, best, another, life, year, time, ever, favorite, thing, favourite, good, know, always, last, hope\n"
     ]
    }
   ],
   "source": [
    "for topic_index in range(k):\n",
    "    descriptor = get_descriptor( terms, H, topic_index, 15)\n",
    "    str_descriptor = \", \".join( descriptor )\n",
    "    print(\"Topic %02d: %s\" % ( topic_index+1, str_descriptor ) )"
   ]
  },
  {
   "cell_type": "code",
   "execution_count": 42,
   "metadata": {
    "ExecuteTime": {
     "end_time": "2021-05-22T00:25:32.990199Z",
     "start_time": "2021-05-22T00:25:32.971617Z"
    }
   },
   "outputs": [
    {
     "name": "stdout",
     "output_type": "stream",
     "text": [
      "Topic 01: day, international, womens, march, women, via, celebrates, celebration, special, 8th, year, celebrated, theme, enjoy, yesterday, post, video, mens, message, mark\n",
      "Topic 02: women, day, life, incredible, men, rights, power, wonderful, inspire, respect, lives, empower, trans, wishes, support, inspiring, around, society, inspirational, powerful\n",
      "Topic 03: happy, day, everyone, iwd, wishes, wishing, wish, birthday, keep, sisters, team, queens, friends, wonderful, incredible, favorite, sunday, lovely, everyday, dear\n",
      "Topic 04: world, equal, enabled, around, better, place, make, create, help, change, making, run, across, forge, collectively, cup, without, girls, achievements, theme\n",
      "Topic 05: woman, man, life, power, first, mother, wonder, inspires, magic, god, tag, never, strength, strongest, without, tell, know, right, ever, stands\n",
      "Topic 06: amp, support, sisters, friends, life, strength, many, mother, respect, health, family, join, girls, community, share, others, new, role, continue, special\n",
      "Topic 07: love, much, respect, life, always, mom, see, mother, sending, appreciate, show, heart, strength, sisters, womens, god, care, lots, support, guys\n",
      "Topic 08: today, celebrate, everyday, let, achievements, way, lives, take, join, tomorrow, incredible, around, honor, made, come, march, recognize, special, shine, contributions\n",
      "Topic 09: thank, much, wonderful, life, inspiring, support, everything, making, always, inspiration, incredible, sharing, inspire, say, everyone, want, lovely, many, without, god\n",
      "Topic 10: thanks, latest, daily, news, diario, much, sharing, special, support, many, times, post, inspiring, blog, check, big, inspire, including, basis, everyone\n",
      "Topic 11: strong, beautiful, powerful, life, independent, brave, stay, smart, intelligent, kind, inspiring, always, keep, bold, talented, unique, wonderful, compassionate, courageous, fierce\n",
      "Topic 12: amazing, life, many, shout, work, lucky, inspiring, know, inspire, things, grateful, keep, friends, shoutout, colleagues, blessed, surrounded, follow, working, inspired\n",
      "Topic 13: work, proud, like, girls, female, make, team, many, get, people, would, support, want, better, men, see, best, good, time, way\n",
      "Topic 14: every, day, single, inspire, year, girl, respect, behind, make, moment, wishing, special, heart, happiness, home, successful, inspiration, celebrated, incomplete, wishes\n",
      "Topic 15: celebrating, achievements, today, join, female, social, cultural, economic, political, iwd, global, march, week, team, year, across, inspirational, incredible, inspiring, month\n",
      "Topic 16: ladies, lovely, wonderful, keep, let, awesome, life, beautiful, special, shout, wishing, fabulous, day, rock, enjoy, badass, favorite, cheers, power, without\n",
      "Topic 17: equality, gender, let, equal, rights, fight, men, action, generation, together, take, create, theme, bias, help, achievements, everyone, year, human, achieve\n",
      "Topic 18: great, see, hope, event, things, way, job, keep, read, thanks, everyone, list, well, article, wonderful, video, time, work, morning, many\n",
      "Topic 19: may, know, raise, strong, continue, let, unknown, strongest, bless, god, always, want, allah, awareness, never, inspire, worth, tag, cheers, strength\n",
      "Topic 20: one, best, another, life, year, time, ever, favorite, thing, favourite, good, know, always, last, hope, single, many, days, get, first\n"
     ]
    }
   ],
   "source": [
    "for topic_index in range(k):\n",
    "    descriptor = get_descriptor( terms, H, topic_index, 20)\n",
    "    str_descriptor = \", \".join( descriptor )\n",
    "    print(\"Topic %02d: %s\" % ( topic_index+1, str_descriptor ) )"
   ]
  }
 ],
 "metadata": {
  "@webio": {
   "lastCommId": null,
   "lastKernelId": null
  },
  "kernelspec": {
   "display_name": "Python 3",
   "language": "python",
   "name": "python3"
  },
  "language_info": {
   "codemirror_mode": {
    "name": "ipython",
    "version": 3
   },
   "file_extension": ".py",
   "mimetype": "text/x-python",
   "name": "python",
   "nbconvert_exporter": "python",
   "pygments_lexer": "ipython3",
   "version": "3.7.7"
  },
  "toc": {
   "base_numbering": 1,
   "nav_menu": {
    "height": "91px",
    "width": "373px"
   },
   "number_sections": true,
   "sideBar": true,
   "skip_h1_title": false,
   "title_cell": "Table of Contents",
   "title_sidebar": "Contents",
   "toc_cell": false,
   "toc_position": {
    "height": "557px",
    "left": "22px",
    "top": "170px",
    "width": "288px"
   },
   "toc_section_display": true,
   "toc_window_display": false
  }
 },
 "nbformat": 4,
 "nbformat_minor": 4
}
