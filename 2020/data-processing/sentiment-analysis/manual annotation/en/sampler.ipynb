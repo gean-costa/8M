{
 "cells": [
  {
   "cell_type": "code",
   "execution_count": 1,
   "metadata": {
    "ExecuteTime": {
     "end_time": "2020-12-30T00:12:32.581188Z",
     "start_time": "2020-12-30T00:12:32.336623Z"
    }
   },
   "outputs": [],
   "source": [
    "import pandas as pd "
   ]
  },
  {
   "cell_type": "code",
   "execution_count": 2,
   "metadata": {
    "ExecuteTime": {
     "end_time": "2020-12-30T00:12:34.423164Z",
     "start_time": "2020-12-30T00:12:32.582613Z"
    }
   },
   "outputs": [
    {
     "name": "stderr",
     "output_type": "stream",
     "text": [
      "/home/gean/anaconda3/lib/python3.7/site-packages/IPython/core/interactiveshell.py:3063: DtypeWarning: Columns (0) have mixed types.Specify dtype option on import or set low_memory=False.\n",
      "  interactivity=interactivity, compiler=compiler, result=result)\n"
     ]
    }
   ],
   "source": [
    "df1 = pd.read_csv('cenario2_8M2020_tweets_en.csv',\n",
    "                  usecols=['tweet_id', 'tweet_text', 'clean_text'])"
   ]
  },
  {
   "cell_type": "code",
   "execution_count": 3,
   "metadata": {
    "ExecuteTime": {
     "end_time": "2020-12-30T00:12:34.432937Z",
     "start_time": "2020-12-30T00:12:34.424461Z"
    }
   },
   "outputs": [
    {
     "data": {
      "text/plain": [
       "(400128, 3)"
      ]
     },
     "execution_count": 3,
     "metadata": {},
     "output_type": "execute_result"
    }
   ],
   "source": [
    "df1.shape"
   ]
  },
  {
   "cell_type": "code",
   "execution_count": 4,
   "metadata": {
    "ExecuteTime": {
     "end_time": "2020-12-30T00:12:34.450399Z",
     "start_time": "2020-12-30T00:12:34.434800Z"
    }
   },
   "outputs": [
    {
     "data": {
      "text/html": [
       "<div>\n",
       "<style scoped>\n",
       "    .dataframe tbody tr th:only-of-type {\n",
       "        vertical-align: middle;\n",
       "    }\n",
       "\n",
       "    .dataframe tbody tr th {\n",
       "        vertical-align: top;\n",
       "    }\n",
       "\n",
       "    .dataframe thead th {\n",
       "        text-align: right;\n",
       "    }\n",
       "</style>\n",
       "<table border=\"1\" class=\"dataframe\">\n",
       "  <thead>\n",
       "    <tr style=\"text-align: right;\">\n",
       "      <th></th>\n",
       "      <th>tweet_id</th>\n",
       "      <th>tweet_text</th>\n",
       "      <th>clean_text</th>\n",
       "    </tr>\n",
       "  </thead>\n",
       "  <tbody>\n",
       "    <tr>\n",
       "      <th>0</th>\n",
       "      <td>1236411302693801984</td>\n",
       "      <td>Essential reading for all of us working in dat...</td>\n",
       "      <td>essential reading working data intensive resea...</td>\n",
       "    </tr>\n",
       "    <tr>\n",
       "      <th>1</th>\n",
       "      <td>1236411304237285377</td>\n",
       "      <td>Women. Are. Amazing. At 7 months pregnant I st...</td>\n",
       "      <td>women amazing months pregnant still idea mothe...</td>\n",
       "    </tr>\n",
       "    <tr>\n",
       "      <th>2</th>\n",
       "      <td>1236411303364833280</td>\n",
       "      <td>This weekend is #IWD2020 and we’ve got the @Wo...</td>\n",
       "      <td>weekend got show got music amp</td>\n",
       "    </tr>\n",
       "  </tbody>\n",
       "</table>\n",
       "</div>"
      ],
      "text/plain": [
       "              tweet_id                                         tweet_text  \\\n",
       "0  1236411302693801984  Essential reading for all of us working in dat...   \n",
       "1  1236411304237285377  Women. Are. Amazing. At 7 months pregnant I st...   \n",
       "2  1236411303364833280  This weekend is #IWD2020 and we’ve got the @Wo...   \n",
       "\n",
       "                                          clean_text  \n",
       "0  essential reading working data intensive resea...  \n",
       "1  women amazing months pregnant still idea mothe...  \n",
       "2                     weekend got show got music amp  "
      ]
     },
     "execution_count": 4,
     "metadata": {},
     "output_type": "execute_result"
    }
   ],
   "source": [
    "df1.head(3)"
   ]
  },
  {
   "cell_type": "code",
   "execution_count": 5,
   "metadata": {
    "ExecuteTime": {
     "end_time": "2020-12-30T00:12:35.186154Z",
     "start_time": "2020-12-30T00:12:34.453050Z"
    }
   },
   "outputs": [],
   "source": [
    "df2 = pd.read_csv('sentiment_analysis_en.csv', usecols=['text', 'result'])"
   ]
  },
  {
   "cell_type": "code",
   "execution_count": 6,
   "metadata": {
    "ExecuteTime": {
     "end_time": "2020-12-30T00:12:35.190424Z",
     "start_time": "2020-12-30T00:12:35.187470Z"
    }
   },
   "outputs": [
    {
     "data": {
      "text/plain": [
       "(400156, 2)"
      ]
     },
     "execution_count": 6,
     "metadata": {},
     "output_type": "execute_result"
    }
   ],
   "source": [
    "df2.shape"
   ]
  },
  {
   "cell_type": "code",
   "execution_count": 7,
   "metadata": {
    "ExecuteTime": {
     "end_time": "2020-12-30T00:12:35.205139Z",
     "start_time": "2020-12-30T00:12:35.192307Z"
    }
   },
   "outputs": [
    {
     "data": {
      "text/html": [
       "<div>\n",
       "<style scoped>\n",
       "    .dataframe tbody tr th:only-of-type {\n",
       "        vertical-align: middle;\n",
       "    }\n",
       "\n",
       "    .dataframe tbody tr th {\n",
       "        vertical-align: top;\n",
       "    }\n",
       "\n",
       "    .dataframe thead th {\n",
       "        text-align: right;\n",
       "    }\n",
       "</style>\n",
       "<table border=\"1\" class=\"dataframe\">\n",
       "  <thead>\n",
       "    <tr style=\"text-align: right;\">\n",
       "      <th></th>\n",
       "      <th>text</th>\n",
       "      <th>result</th>\n",
       "    </tr>\n",
       "  </thead>\n",
       "  <tbody>\n",
       "    <tr>\n",
       "      <th>0</th>\n",
       "      <td>essential reading working data intensive resea...</td>\n",
       "      <td>-1</td>\n",
       "    </tr>\n",
       "    <tr>\n",
       "      <th>1</th>\n",
       "      <td>women amazing months pregnant still idea mothe...</td>\n",
       "      <td>1</td>\n",
       "    </tr>\n",
       "    <tr>\n",
       "      <th>2</th>\n",
       "      <td>weekend got show got music amp</td>\n",
       "      <td>0</td>\n",
       "    </tr>\n",
       "  </tbody>\n",
       "</table>\n",
       "</div>"
      ],
      "text/plain": [
       "                                                text result\n",
       "0  essential reading working data intensive resea...     -1\n",
       "1  women amazing months pregnant still idea mothe...      1\n",
       "2                     weekend got show got music amp      0"
      ]
     },
     "execution_count": 7,
     "metadata": {},
     "output_type": "execute_result"
    }
   ],
   "source": [
    "df2.head(3)"
   ]
  },
  {
   "cell_type": "code",
   "execution_count": 8,
   "metadata": {
    "ExecuteTime": {
     "end_time": "2020-12-30T00:12:35.236019Z",
     "start_time": "2020-12-30T00:12:35.207046Z"
    }
   },
   "outputs": [],
   "source": [
    "pdf1 = df1.copy()"
   ]
  },
  {
   "cell_type": "code",
   "execution_count": 9,
   "metadata": {
    "ExecuteTime": {
     "end_time": "2020-12-30T00:12:35.255612Z",
     "start_time": "2020-12-30T00:12:35.238116Z"
    }
   },
   "outputs": [],
   "source": [
    "pdf2 = df2.copy()\n",
    "pdf2.columns = ['clean_text', 'result']"
   ]
  },
  {
   "cell_type": "code",
   "execution_count": 10,
   "metadata": {
    "ExecuteTime": {
     "end_time": "2020-12-30T00:12:35.278498Z",
     "start_time": "2020-12-30T00:12:35.257482Z"
    }
   },
   "outputs": [
    {
     "data": {
      "text/html": [
       "<div>\n",
       "<style scoped>\n",
       "    .dataframe tbody tr th:only-of-type {\n",
       "        vertical-align: middle;\n",
       "    }\n",
       "\n",
       "    .dataframe tbody tr th {\n",
       "        vertical-align: top;\n",
       "    }\n",
       "\n",
       "    .dataframe thead th {\n",
       "        text-align: right;\n",
       "    }\n",
       "</style>\n",
       "<table border=\"1\" class=\"dataframe\">\n",
       "  <thead>\n",
       "    <tr style=\"text-align: right;\">\n",
       "      <th></th>\n",
       "      <th>tweet_id</th>\n",
       "      <th>tweet_text</th>\n",
       "      <th>clean_text</th>\n",
       "    </tr>\n",
       "  </thead>\n",
       "  <tbody>\n",
       "    <tr>\n",
       "      <th>0</th>\n",
       "      <td>1236411302693801984</td>\n",
       "      <td>Essential reading for all of us working in dat...</td>\n",
       "      <td>essential reading working data intensive resea...</td>\n",
       "    </tr>\n",
       "    <tr>\n",
       "      <th>1</th>\n",
       "      <td>1236411304237285377</td>\n",
       "      <td>Women. Are. Amazing. At 7 months pregnant I st...</td>\n",
       "      <td>women amazing months pregnant still idea mothe...</td>\n",
       "    </tr>\n",
       "    <tr>\n",
       "      <th>2</th>\n",
       "      <td>1236411303364833280</td>\n",
       "      <td>This weekend is #IWD2020 and we’ve got the @Wo...</td>\n",
       "      <td>weekend got show got music amp</td>\n",
       "    </tr>\n",
       "    <tr>\n",
       "      <th>3</th>\n",
       "      <td>1236411301213147139</td>\n",
       "      <td>Centre members Yvonne Hora, Boer Tan and Eliza...</td>\n",
       "      <td>centre members yvonne hora boer tan eliza rokh...</td>\n",
       "    </tr>\n",
       "    <tr>\n",
       "      <th>4</th>\n",
       "      <td>1236411302152634368</td>\n",
       "      <td>Happy International Women's Day 💜 #IWD2020\\n\\n...</td>\n",
       "      <td>happy international women day afl players disc...</td>\n",
       "    </tr>\n",
       "    <tr>\n",
       "      <th>...</th>\n",
       "      <td>...</td>\n",
       "      <td>...</td>\n",
       "      <td>...</td>\n",
       "    </tr>\n",
       "    <tr>\n",
       "      <th>400123</th>\n",
       "      <td>1237071960049438721</td>\n",
       "      <td>A pleasure to hear Germany’s Ambassador to Can...</td>\n",
       "      <td>pleasure hear germany ambassador canada excell...</td>\n",
       "    </tr>\n",
       "    <tr>\n",
       "      <th>400124</th>\n",
       "      <td>1237072024004157441</td>\n",
       "      <td>\"I told her, ‘If you ever need someone to hang...</td>\n",
       "      <td>told ever need someone hang ever want call som...</td>\n",
       "    </tr>\n",
       "    <tr>\n",
       "      <th>400125</th>\n",
       "      <td>1237072031436476421</td>\n",
       "      <td>Sylvia Group has a long history of recognizing...</td>\n",
       "      <td>sylvia group long history recognizing strong t...</td>\n",
       "    </tr>\n",
       "    <tr>\n",
       "      <th>400126</th>\n",
       "      <td>1237071957587374082</td>\n",
       "      <td>Celebrated #InternationalWomensDay @HMP_Bronze...</td>\n",
       "      <td>celebrated watching production hairspray women...</td>\n",
       "    </tr>\n",
       "    <tr>\n",
       "      <th>400127</th>\n",
       "      <td>1237071946950590471</td>\n",
       "      <td>Sunday, we celebrated International Women's Da...</td>\n",
       "      <td>sunday celebrated international women day tips...</td>\n",
       "    </tr>\n",
       "  </tbody>\n",
       "</table>\n",
       "<p>400128 rows × 3 columns</p>\n",
       "</div>"
      ],
      "text/plain": [
       "                   tweet_id  \\\n",
       "0       1236411302693801984   \n",
       "1       1236411304237285377   \n",
       "2       1236411303364833280   \n",
       "3       1236411301213147139   \n",
       "4       1236411302152634368   \n",
       "...                     ...   \n",
       "400123  1237071960049438721   \n",
       "400124  1237072024004157441   \n",
       "400125  1237072031436476421   \n",
       "400126  1237071957587374082   \n",
       "400127  1237071946950590471   \n",
       "\n",
       "                                               tweet_text  \\\n",
       "0       Essential reading for all of us working in dat...   \n",
       "1       Women. Are. Amazing. At 7 months pregnant I st...   \n",
       "2       This weekend is #IWD2020 and we’ve got the @Wo...   \n",
       "3       Centre members Yvonne Hora, Boer Tan and Eliza...   \n",
       "4       Happy International Women's Day 💜 #IWD2020\\n\\n...   \n",
       "...                                                   ...   \n",
       "400123  A pleasure to hear Germany’s Ambassador to Can...   \n",
       "400124  \"I told her, ‘If you ever need someone to hang...   \n",
       "400125  Sylvia Group has a long history of recognizing...   \n",
       "400126  Celebrated #InternationalWomensDay @HMP_Bronze...   \n",
       "400127  Sunday, we celebrated International Women's Da...   \n",
       "\n",
       "                                               clean_text  \n",
       "0       essential reading working data intensive resea...  \n",
       "1       women amazing months pregnant still idea mothe...  \n",
       "2                          weekend got show got music amp  \n",
       "3       centre members yvonne hora boer tan eliza rokh...  \n",
       "4       happy international women day afl players disc...  \n",
       "...                                                   ...  \n",
       "400123  pleasure hear germany ambassador canada excell...  \n",
       "400124  told ever need someone hang ever want call som...  \n",
       "400125  sylvia group long history recognizing strong t...  \n",
       "400126  celebrated watching production hairspray women...  \n",
       "400127  sunday celebrated international women day tips...  \n",
       "\n",
       "[400128 rows x 3 columns]"
      ]
     },
     "execution_count": 10,
     "metadata": {},
     "output_type": "execute_result"
    }
   ],
   "source": [
    "pdf1"
   ]
  },
  {
   "cell_type": "code",
   "execution_count": 11,
   "metadata": {
    "ExecuteTime": {
     "end_time": "2020-12-30T00:12:35.296165Z",
     "start_time": "2020-12-30T00:12:35.279753Z"
    }
   },
   "outputs": [
    {
     "data": {
      "text/html": [
       "<div>\n",
       "<style scoped>\n",
       "    .dataframe tbody tr th:only-of-type {\n",
       "        vertical-align: middle;\n",
       "    }\n",
       "\n",
       "    .dataframe tbody tr th {\n",
       "        vertical-align: top;\n",
       "    }\n",
       "\n",
       "    .dataframe thead th {\n",
       "        text-align: right;\n",
       "    }\n",
       "</style>\n",
       "<table border=\"1\" class=\"dataframe\">\n",
       "  <thead>\n",
       "    <tr style=\"text-align: right;\">\n",
       "      <th></th>\n",
       "      <th>clean_text</th>\n",
       "      <th>result</th>\n",
       "    </tr>\n",
       "  </thead>\n",
       "  <tbody>\n",
       "    <tr>\n",
       "      <th>0</th>\n",
       "      <td>essential reading working data intensive resea...</td>\n",
       "      <td>-1</td>\n",
       "    </tr>\n",
       "    <tr>\n",
       "      <th>1</th>\n",
       "      <td>women amazing months pregnant still idea mothe...</td>\n",
       "      <td>1</td>\n",
       "    </tr>\n",
       "    <tr>\n",
       "      <th>2</th>\n",
       "      <td>weekend got show got music amp</td>\n",
       "      <td>0</td>\n",
       "    </tr>\n",
       "    <tr>\n",
       "      <th>3</th>\n",
       "      <td>centre members yvonne hora boer tan eliza rokh...</td>\n",
       "      <td>0</td>\n",
       "    </tr>\n",
       "    <tr>\n",
       "      <th>4</th>\n",
       "      <td>happy international women day afl players disc...</td>\n",
       "      <td>1</td>\n",
       "    </tr>\n",
       "    <tr>\n",
       "      <th>...</th>\n",
       "      <td>...</td>\n",
       "      <td>...</td>\n",
       "    </tr>\n",
       "    <tr>\n",
       "      <th>400151</th>\n",
       "      <td>tagging better half brought joy ever thought p...</td>\n",
       "      <td>1</td>\n",
       "    </tr>\n",
       "    <tr>\n",
       "      <th>400152</th>\n",
       "      <td>principle fosters amp women empowerment ensure...</td>\n",
       "      <td>1</td>\n",
       "    </tr>\n",
       "    <tr>\n",
       "      <th>400153</th>\n",
       "      <td>happy international women day today celebrate ...</td>\n",
       "      <td>1</td>\n",
       "    </tr>\n",
       "    <tr>\n",
       "      <th>400154</th>\n",
       "      <td>want hear voice reading anne sexton sure</td>\n",
       "      <td>0</td>\n",
       "    </tr>\n",
       "    <tr>\n",
       "      <th>400155</th>\n",
       "      <td>ktnlife_style kasunje great courageous act mus...</td>\n",
       "      <td>1</td>\n",
       "    </tr>\n",
       "  </tbody>\n",
       "</table>\n",
       "<p>400156 rows × 2 columns</p>\n",
       "</div>"
      ],
      "text/plain": [
       "                                               clean_text result\n",
       "0       essential reading working data intensive resea...     -1\n",
       "1       women amazing months pregnant still idea mothe...      1\n",
       "2                          weekend got show got music amp      0\n",
       "3       centre members yvonne hora boer tan eliza rokh...      0\n",
       "4       happy international women day afl players disc...      1\n",
       "...                                                   ...    ...\n",
       "400151  tagging better half brought joy ever thought p...      1\n",
       "400152  principle fosters amp women empowerment ensure...      1\n",
       "400153  happy international women day today celebrate ...      1\n",
       "400154           want hear voice reading anne sexton sure      0\n",
       "400155  ktnlife_style kasunje great courageous act mus...      1\n",
       "\n",
       "[400156 rows x 2 columns]"
      ]
     },
     "execution_count": 11,
     "metadata": {},
     "output_type": "execute_result"
    }
   ],
   "source": [
    "pdf2"
   ]
  },
  {
   "cell_type": "code",
   "execution_count": 12,
   "metadata": {
    "ExecuteTime": {
     "end_time": "2020-12-30T00:12:35.843225Z",
     "start_time": "2020-12-30T00:12:35.297969Z"
    }
   },
   "outputs": [],
   "source": [
    "out_df = pd.merge(pdf1, pdf2, how=\"inner\", on=['clean_text'])"
   ]
  },
  {
   "cell_type": "code",
   "execution_count": 13,
   "metadata": {
    "ExecuteTime": {
     "end_time": "2020-12-30T00:12:35.853815Z",
     "start_time": "2020-12-30T00:12:35.844484Z"
    }
   },
   "outputs": [
    {
     "data": {
      "text/html": [
       "<div>\n",
       "<style scoped>\n",
       "    .dataframe tbody tr th:only-of-type {\n",
       "        vertical-align: middle;\n",
       "    }\n",
       "\n",
       "    .dataframe tbody tr th {\n",
       "        vertical-align: top;\n",
       "    }\n",
       "\n",
       "    .dataframe thead th {\n",
       "        text-align: right;\n",
       "    }\n",
       "</style>\n",
       "<table border=\"1\" class=\"dataframe\">\n",
       "  <thead>\n",
       "    <tr style=\"text-align: right;\">\n",
       "      <th></th>\n",
       "      <th>tweet_id</th>\n",
       "      <th>tweet_text</th>\n",
       "      <th>clean_text</th>\n",
       "      <th>result</th>\n",
       "    </tr>\n",
       "  </thead>\n",
       "  <tbody>\n",
       "    <tr>\n",
       "      <th>0</th>\n",
       "      <td>1236411302693801984</td>\n",
       "      <td>Essential reading for all of us working in dat...</td>\n",
       "      <td>essential reading working data intensive resea...</td>\n",
       "      <td>-1</td>\n",
       "    </tr>\n",
       "    <tr>\n",
       "      <th>1</th>\n",
       "      <td>1236411304237285377</td>\n",
       "      <td>Women. Are. Amazing. At 7 months pregnant I st...</td>\n",
       "      <td>women amazing months pregnant still idea mothe...</td>\n",
       "      <td>1</td>\n",
       "    </tr>\n",
       "    <tr>\n",
       "      <th>2</th>\n",
       "      <td>1236411303364833280</td>\n",
       "      <td>This weekend is #IWD2020 and we’ve got the @Wo...</td>\n",
       "      <td>weekend got show got music amp</td>\n",
       "      <td>0</td>\n",
       "    </tr>\n",
       "    <tr>\n",
       "      <th>3</th>\n",
       "      <td>1236411301213147139</td>\n",
       "      <td>Centre members Yvonne Hora, Boer Tan and Eliza...</td>\n",
       "      <td>centre members yvonne hora boer tan eliza rokh...</td>\n",
       "      <td>0</td>\n",
       "    </tr>\n",
       "    <tr>\n",
       "      <th>4</th>\n",
       "      <td>1236411302152634368</td>\n",
       "      <td>Happy International Women's Day 💜 #IWD2020\\n\\n...</td>\n",
       "      <td>happy international women day afl players disc...</td>\n",
       "      <td>1</td>\n",
       "    </tr>\n",
       "    <tr>\n",
       "      <th>5</th>\n",
       "      <td>1236411300894425088</td>\n",
       "      <td>Here's to strong women.\\nMay we know them.\\nMa...</td>\n",
       "      <td>strong women may know may may raise happy inte...</td>\n",
       "      <td>1</td>\n",
       "    </tr>\n",
       "    <tr>\n",
       "      <th>6</th>\n",
       "      <td>1236411287564718080</td>\n",
       "      <td>Happy #IWD2020 to everyone marching and campai...</td>\n",
       "      <td>happy everyone marching campaigning inclusion ...</td>\n",
       "      <td>1</td>\n",
       "    </tr>\n",
       "    <tr>\n",
       "      <th>7</th>\n",
       "      <td>1236411303218032640</td>\n",
       "      <td>Today we celebrate the incredible women behind...</td>\n",
       "      <td>today celebrate incredible women behind custom...</td>\n",
       "      <td>1</td>\n",
       "    </tr>\n",
       "    <tr>\n",
       "      <th>8</th>\n",
       "      <td>1236411302358089729</td>\n",
       "      <td>Aurat March Inside Story\\nKhalil ur Rehman and...</td>\n",
       "      <td>aurat march inside story khalil rehman marvi f...</td>\n",
       "      <td>0</td>\n",
       "    </tr>\n",
       "    <tr>\n",
       "      <th>9</th>\n",
       "      <td>1236411304690307078</td>\n",
       "      <td>Cheers to all the amazing ladies across Alaska...</td>\n",
       "      <td>cheers amazing ladies across alaska celebratin...</td>\n",
       "      <td>1</td>\n",
       "    </tr>\n",
       "  </tbody>\n",
       "</table>\n",
       "</div>"
      ],
      "text/plain": [
       "              tweet_id                                         tweet_text  \\\n",
       "0  1236411302693801984  Essential reading for all of us working in dat...   \n",
       "1  1236411304237285377  Women. Are. Amazing. At 7 months pregnant I st...   \n",
       "2  1236411303364833280  This weekend is #IWD2020 and we’ve got the @Wo...   \n",
       "3  1236411301213147139  Centre members Yvonne Hora, Boer Tan and Eliza...   \n",
       "4  1236411302152634368  Happy International Women's Day 💜 #IWD2020\\n\\n...   \n",
       "5  1236411300894425088  Here's to strong women.\\nMay we know them.\\nMa...   \n",
       "6  1236411287564718080  Happy #IWD2020 to everyone marching and campai...   \n",
       "7  1236411303218032640  Today we celebrate the incredible women behind...   \n",
       "8  1236411302358089729  Aurat March Inside Story\\nKhalil ur Rehman and...   \n",
       "9  1236411304690307078  Cheers to all the amazing ladies across Alaska...   \n",
       "\n",
       "                                          clean_text result  \n",
       "0  essential reading working data intensive resea...     -1  \n",
       "1  women amazing months pregnant still idea mothe...      1  \n",
       "2                     weekend got show got music amp      0  \n",
       "3  centre members yvonne hora boer tan eliza rokh...      0  \n",
       "4  happy international women day afl players disc...      1  \n",
       "5  strong women may know may may raise happy inte...      1  \n",
       "6  happy everyone marching campaigning inclusion ...      1  \n",
       "7  today celebrate incredible women behind custom...      1  \n",
       "8  aurat march inside story khalil rehman marvi f...      0  \n",
       "9  cheers amazing ladies across alaska celebratin...      1  "
      ]
     },
     "execution_count": 13,
     "metadata": {},
     "output_type": "execute_result"
    }
   ],
   "source": [
    "out_df.head(10)"
   ]
  },
  {
   "cell_type": "code",
   "execution_count": 14,
   "metadata": {
    "ExecuteTime": {
     "end_time": "2020-12-30T00:12:35.863618Z",
     "start_time": "2020-12-30T00:12:35.855497Z"
    }
   },
   "outputs": [
    {
     "data": {
      "text/plain": [
       "(398983, 4)"
      ]
     },
     "execution_count": 14,
     "metadata": {},
     "output_type": "execute_result"
    }
   ],
   "source": [
    "out_df.shape"
   ]
  },
  {
   "cell_type": "code",
   "execution_count": 15,
   "metadata": {
    "ExecuteTime": {
     "end_time": "2020-12-30T00:12:35.961463Z",
     "start_time": "2020-12-30T00:12:35.864864Z"
    }
   },
   "outputs": [],
   "source": [
    "out_df.sample(n=384).to_csv('tweets_sentiments_en.csv')"
   ]
  },
  {
   "cell_type": "code",
   "execution_count": null,
   "metadata": {},
   "outputs": [],
   "source": []
  }
 ],
 "metadata": {
  "kernelspec": {
   "display_name": "Python 3",
   "language": "python",
   "name": "python3"
  },
  "language_info": {
   "codemirror_mode": {
    "name": "ipython",
    "version": 3
   },
   "file_extension": ".py",
   "mimetype": "text/x-python",
   "name": "python",
   "nbconvert_exporter": "python",
   "pygments_lexer": "ipython3",
   "version": "3.7.7"
  },
  "toc": {
   "base_numbering": 1,
   "nav_menu": {},
   "number_sections": true,
   "sideBar": true,
   "skip_h1_title": false,
   "title_cell": "Table of Contents",
   "title_sidebar": "Contents",
   "toc_cell": false,
   "toc_position": {},
   "toc_section_display": true,
   "toc_window_display": false
  }
 },
 "nbformat": 4,
 "nbformat_minor": 4
}
