{
 "cells": [
  {
   "cell_type": "code",
   "execution_count": 1,
   "metadata": {
    "ExecuteTime": {
     "end_time": "2020-12-30T00:10:44.174532Z",
     "start_time": "2020-12-30T00:10:43.914598Z"
    }
   },
   "outputs": [],
   "source": [
    "import pandas as pd "
   ]
  },
  {
   "cell_type": "code",
   "execution_count": 2,
   "metadata": {
    "ExecuteTime": {
     "end_time": "2020-12-30T00:11:30.161964Z",
     "start_time": "2020-12-30T00:10:44.175950Z"
    }
   },
   "outputs": [],
   "source": [
    "df1 = pd.read_excel('exemplo.xlsx', usecols=['tweet_id','tweet_text','clean_text'])"
   ]
  },
  {
   "cell_type": "code",
   "execution_count": 3,
   "metadata": {
    "ExecuteTime": {
     "end_time": "2020-12-30T00:11:30.238727Z",
     "start_time": "2020-12-30T00:11:30.163216Z"
    }
   },
   "outputs": [
    {
     "data": {
      "text/plain": [
       "(289815, 3)"
      ]
     },
     "execution_count": 3,
     "metadata": {},
     "output_type": "execute_result"
    }
   ],
   "source": [
    "df1.shape"
   ]
  },
  {
   "cell_type": "code",
   "execution_count": 4,
   "metadata": {
    "ExecuteTime": {
     "end_time": "2020-12-30T00:11:30.252915Z",
     "start_time": "2020-12-30T00:11:30.239889Z"
    }
   },
   "outputs": [
    {
     "data": {
      "text/html": [
       "<div>\n",
       "<style scoped>\n",
       "    .dataframe tbody tr th:only-of-type {\n",
       "        vertical-align: middle;\n",
       "    }\n",
       "\n",
       "    .dataframe tbody tr th {\n",
       "        vertical-align: top;\n",
       "    }\n",
       "\n",
       "    .dataframe thead th {\n",
       "        text-align: right;\n",
       "    }\n",
       "</style>\n",
       "<table border=\"1\" class=\"dataframe\">\n",
       "  <thead>\n",
       "    <tr style=\"text-align: right;\">\n",
       "      <th></th>\n",
       "      <th>tweet_id</th>\n",
       "      <th>tweet_text</th>\n",
       "      <th>clean_text</th>\n",
       "    </tr>\n",
       "  </thead>\n",
       "  <tbody>\n",
       "    <tr>\n",
       "      <th>0</th>\n",
       "      <td>1236411302286888963</td>\n",
       "      <td>Rumbo al #8M | Usuarios de redes sociales conv...</td>\n",
       "      <td>rumbo usuarios redes sociales convocaron paro ...</td>\n",
       "    </tr>\n",
       "    <tr>\n",
       "      <th>1</th>\n",
       "      <td>1236411306334273536</td>\n",
       "      <td>La USAC llegando al espacio una cátedra de gén...</td>\n",
       "      <td>usac llegando espacio catedra genero vez</td>\n",
       "    </tr>\n",
       "    <tr>\n",
       "      <th>2</th>\n",
       "      <td>1236411302504992771</td>\n",
       "      <td>Cuando Norma tenía 19 años fue vendida a un ba...</td>\n",
       "      <td>norma anos vendida bar japon trabajar hombres ...</td>\n",
       "    </tr>\n",
       "  </tbody>\n",
       "</table>\n",
       "</div>"
      ],
      "text/plain": [
       "              tweet_id                                         tweet_text  \\\n",
       "0  1236411302286888963  Rumbo al #8M | Usuarios de redes sociales conv...   \n",
       "1  1236411306334273536  La USAC llegando al espacio una cátedra de gén...   \n",
       "2  1236411302504992771  Cuando Norma tenía 19 años fue vendida a un ba...   \n",
       "\n",
       "                                          clean_text  \n",
       "0  rumbo usuarios redes sociales convocaron paro ...  \n",
       "1           usac llegando espacio catedra genero vez  \n",
       "2  norma anos vendida bar japon trabajar hombres ...  "
      ]
     },
     "execution_count": 4,
     "metadata": {},
     "output_type": "execute_result"
    }
   ],
   "source": [
    "df1.head(3)"
   ]
  },
  {
   "cell_type": "code",
   "execution_count": 5,
   "metadata": {
    "ExecuteTime": {
     "end_time": "2020-12-30T00:11:30.674847Z",
     "start_time": "2020-12-30T00:11:30.254070Z"
    }
   },
   "outputs": [],
   "source": [
    "df2 = pd.read_csv('sentiment_analysis_es.csv', usecols=['text', 'result'])"
   ]
  },
  {
   "cell_type": "code",
   "execution_count": 6,
   "metadata": {
    "ExecuteTime": {
     "end_time": "2020-12-30T00:11:30.679094Z",
     "start_time": "2020-12-30T00:11:30.676098Z"
    }
   },
   "outputs": [
    {
     "data": {
      "text/plain": [
       "(289820, 2)"
      ]
     },
     "execution_count": 6,
     "metadata": {},
     "output_type": "execute_result"
    }
   ],
   "source": [
    "df2.shape"
   ]
  },
  {
   "cell_type": "code",
   "execution_count": 7,
   "metadata": {
    "ExecuteTime": {
     "end_time": "2020-12-30T00:11:30.691958Z",
     "start_time": "2020-12-30T00:11:30.680967Z"
    }
   },
   "outputs": [
    {
     "data": {
      "text/html": [
       "<div>\n",
       "<style scoped>\n",
       "    .dataframe tbody tr th:only-of-type {\n",
       "        vertical-align: middle;\n",
       "    }\n",
       "\n",
       "    .dataframe tbody tr th {\n",
       "        vertical-align: top;\n",
       "    }\n",
       "\n",
       "    .dataframe thead th {\n",
       "        text-align: right;\n",
       "    }\n",
       "</style>\n",
       "<table border=\"1\" class=\"dataframe\">\n",
       "  <thead>\n",
       "    <tr style=\"text-align: right;\">\n",
       "      <th></th>\n",
       "      <th>text</th>\n",
       "      <th>result</th>\n",
       "    </tr>\n",
       "  </thead>\n",
       "  <tbody>\n",
       "    <tr>\n",
       "      <th>0</th>\n",
       "      <td>rumbo usuarios redes sociales convocaron paro ...</td>\n",
       "      <td>0</td>\n",
       "    </tr>\n",
       "    <tr>\n",
       "      <th>1</th>\n",
       "      <td>usac llegando espacio catedra genero vez</td>\n",
       "      <td>0</td>\n",
       "    </tr>\n",
       "    <tr>\n",
       "      <th>2</th>\n",
       "      <td>norma anos vendida bar japon trabajar hombres ...</td>\n",
       "      <td>0</td>\n",
       "    </tr>\n",
       "  </tbody>\n",
       "</table>\n",
       "</div>"
      ],
      "text/plain": [
       "                                                text result\n",
       "0  rumbo usuarios redes sociales convocaron paro ...      0\n",
       "1           usac llegando espacio catedra genero vez      0\n",
       "2  norma anos vendida bar japon trabajar hombres ...      0"
      ]
     },
     "execution_count": 7,
     "metadata": {},
     "output_type": "execute_result"
    }
   ],
   "source": [
    "df2.head(3)"
   ]
  },
  {
   "cell_type": "code",
   "execution_count": 8,
   "metadata": {
    "ExecuteTime": {
     "end_time": "2020-12-30T00:11:30.717944Z",
     "start_time": "2020-12-30T00:11:30.693638Z"
    }
   },
   "outputs": [],
   "source": [
    "pdf1 = df1.copy()"
   ]
  },
  {
   "cell_type": "code",
   "execution_count": 9,
   "metadata": {
    "ExecuteTime": {
     "end_time": "2020-12-30T00:11:30.726984Z",
     "start_time": "2020-12-30T00:11:30.719496Z"
    }
   },
   "outputs": [],
   "source": [
    "pdf2 = df2.copy()\n",
    "pdf2.columns = ['clean_text', 'result']"
   ]
  },
  {
   "cell_type": "code",
   "execution_count": 10,
   "metadata": {
    "ExecuteTime": {
     "end_time": "2020-12-30T00:11:30.743067Z",
     "start_time": "2020-12-30T00:11:30.728517Z"
    }
   },
   "outputs": [
    {
     "data": {
      "text/html": [
       "<div>\n",
       "<style scoped>\n",
       "    .dataframe tbody tr th:only-of-type {\n",
       "        vertical-align: middle;\n",
       "    }\n",
       "\n",
       "    .dataframe tbody tr th {\n",
       "        vertical-align: top;\n",
       "    }\n",
       "\n",
       "    .dataframe thead th {\n",
       "        text-align: right;\n",
       "    }\n",
       "</style>\n",
       "<table border=\"1\" class=\"dataframe\">\n",
       "  <thead>\n",
       "    <tr style=\"text-align: right;\">\n",
       "      <th></th>\n",
       "      <th>tweet_id</th>\n",
       "      <th>tweet_text</th>\n",
       "      <th>clean_text</th>\n",
       "    </tr>\n",
       "  </thead>\n",
       "  <tbody>\n",
       "    <tr>\n",
       "      <th>0</th>\n",
       "      <td>1236411302286888963</td>\n",
       "      <td>Rumbo al #8M | Usuarios de redes sociales conv...</td>\n",
       "      <td>rumbo usuarios redes sociales convocaron paro ...</td>\n",
       "    </tr>\n",
       "    <tr>\n",
       "      <th>1</th>\n",
       "      <td>1236411306334273536</td>\n",
       "      <td>La USAC llegando al espacio una cátedra de gén...</td>\n",
       "      <td>usac llegando espacio catedra genero vez</td>\n",
       "    </tr>\n",
       "    <tr>\n",
       "      <th>2</th>\n",
       "      <td>1236411302504992771</td>\n",
       "      <td>Cuando Norma tenía 19 años fue vendida a un ba...</td>\n",
       "      <td>norma anos vendida bar japon trabajar hombres ...</td>\n",
       "    </tr>\n",
       "    <tr>\n",
       "      <th>3</th>\n",
       "      <td>1236411301154500610</td>\n",
       "      <td>\"El Estado mexicano ha ignorado demasiados año...</td>\n",
       "      <td>mexicano ignorado demasiados anos demanda just...</td>\n",
       "    </tr>\n",
       "    <tr>\n",
       "      <th>4</th>\n",
       "      <td>1236411305638219776</td>\n",
       "      <td>❌NO PUEDEN\\n❌NO PUEDEN\\n❌NO PUEDEN\\n\\n❌ CLARO ...</td>\n",
       "      <td>pueden pueden pueden claro pueden vetan derech...</td>\n",
       "    </tr>\n",
       "    <tr>\n",
       "      <th>...</th>\n",
       "      <td>...</td>\n",
       "      <td>...</td>\n",
       "      <td>...</td>\n",
       "    </tr>\n",
       "    <tr>\n",
       "      <th>289810</th>\n",
       "      <td>1237072021219151873</td>\n",
       "      <td>#DiaInternacionalDeLaMujer\\nAlexandria Ocasio-...</td>\n",
       "      <td>alexandria ocasio cortez cinco minutos saber c...</td>\n",
       "    </tr>\n",
       "    <tr>\n",
       "      <th>289811</th>\n",
       "      <td>1237071941800013824</td>\n",
       "      <td>Pero qué mierda les pasa??????? Enfermossss ht...</td>\n",
       "      <td>mierda pasa enfermos</td>\n",
       "    </tr>\n",
       "    <tr>\n",
       "      <th>289812</th>\n",
       "      <td>1237071957058879488</td>\n",
       "      <td>me da una impotencia que en mi colegio nunca s...</td>\n",
       "      <td>impotencia colegio nunca terminen organizar cosas</td>\n",
       "    </tr>\n",
       "    <tr>\n",
       "      <th>289813</th>\n",
       "      <td>1237072024788439041</td>\n",
       "      <td>Y como se defiende a la patria, de ideas e ide...</td>\n",
       "      <td>defiende patria ideas ideologias creadas extra...</td>\n",
       "    </tr>\n",
       "    <tr>\n",
       "      <th>289814</th>\n",
       "      <td>1237072036641587200</td>\n",
       "      <td>UN VIOLADOR NO PUEDE REINTEGRARSE A LA SOCIEDA...</td>\n",
       "      <td>violador puede reintegrarse sociedad</td>\n",
       "    </tr>\n",
       "  </tbody>\n",
       "</table>\n",
       "<p>289815 rows × 3 columns</p>\n",
       "</div>"
      ],
      "text/plain": [
       "                   tweet_id  \\\n",
       "0       1236411302286888963   \n",
       "1       1236411306334273536   \n",
       "2       1236411302504992771   \n",
       "3       1236411301154500610   \n",
       "4       1236411305638219776   \n",
       "...                     ...   \n",
       "289810  1237072021219151873   \n",
       "289811  1237071941800013824   \n",
       "289812  1237071957058879488   \n",
       "289813  1237072024788439041   \n",
       "289814  1237072036641587200   \n",
       "\n",
       "                                               tweet_text  \\\n",
       "0       Rumbo al #8M | Usuarios de redes sociales conv...   \n",
       "1       La USAC llegando al espacio una cátedra de gén...   \n",
       "2       Cuando Norma tenía 19 años fue vendida a un ba...   \n",
       "3       \"El Estado mexicano ha ignorado demasiados año...   \n",
       "4       ❌NO PUEDEN\\n❌NO PUEDEN\\n❌NO PUEDEN\\n\\n❌ CLARO ...   \n",
       "...                                                   ...   \n",
       "289810  #DiaInternacionalDeLaMujer\\nAlexandria Ocasio-...   \n",
       "289811  Pero qué mierda les pasa??????? Enfermossss ht...   \n",
       "289812  me da una impotencia que en mi colegio nunca s...   \n",
       "289813  Y como se defiende a la patria, de ideas e ide...   \n",
       "289814  UN VIOLADOR NO PUEDE REINTEGRARSE A LA SOCIEDA...   \n",
       "\n",
       "                                               clean_text  \n",
       "0       rumbo usuarios redes sociales convocaron paro ...  \n",
       "1                usac llegando espacio catedra genero vez  \n",
       "2       norma anos vendida bar japon trabajar hombres ...  \n",
       "3       mexicano ignorado demasiados anos demanda just...  \n",
       "4       pueden pueden pueden claro pueden vetan derech...  \n",
       "...                                                   ...  \n",
       "289810  alexandria ocasio cortez cinco minutos saber c...  \n",
       "289811                               mierda pasa enfermos  \n",
       "289812  impotencia colegio nunca terminen organizar cosas  \n",
       "289813  defiende patria ideas ideologias creadas extra...  \n",
       "289814               violador puede reintegrarse sociedad  \n",
       "\n",
       "[289815 rows x 3 columns]"
      ]
     },
     "execution_count": 10,
     "metadata": {},
     "output_type": "execute_result"
    }
   ],
   "source": [
    "pdf1"
   ]
  },
  {
   "cell_type": "code",
   "execution_count": 11,
   "metadata": {
    "ExecuteTime": {
     "end_time": "2020-12-30T00:11:30.757734Z",
     "start_time": "2020-12-30T00:11:30.744163Z"
    }
   },
   "outputs": [
    {
     "data": {
      "text/html": [
       "<div>\n",
       "<style scoped>\n",
       "    .dataframe tbody tr th:only-of-type {\n",
       "        vertical-align: middle;\n",
       "    }\n",
       "\n",
       "    .dataframe tbody tr th {\n",
       "        vertical-align: top;\n",
       "    }\n",
       "\n",
       "    .dataframe thead th {\n",
       "        text-align: right;\n",
       "    }\n",
       "</style>\n",
       "<table border=\"1\" class=\"dataframe\">\n",
       "  <thead>\n",
       "    <tr style=\"text-align: right;\">\n",
       "      <th></th>\n",
       "      <th>clean_text</th>\n",
       "      <th>result</th>\n",
       "    </tr>\n",
       "  </thead>\n",
       "  <tbody>\n",
       "    <tr>\n",
       "      <th>0</th>\n",
       "      <td>rumbo usuarios redes sociales convocaron paro ...</td>\n",
       "      <td>0</td>\n",
       "    </tr>\n",
       "    <tr>\n",
       "      <th>1</th>\n",
       "      <td>usac llegando espacio catedra genero vez</td>\n",
       "      <td>0</td>\n",
       "    </tr>\n",
       "    <tr>\n",
       "      <th>2</th>\n",
       "      <td>norma anos vendida bar japon trabajar hombres ...</td>\n",
       "      <td>0</td>\n",
       "    </tr>\n",
       "    <tr>\n",
       "      <th>3</th>\n",
       "      <td>mexicano ignorado demasiados anos demanda just...</td>\n",
       "      <td>0</td>\n",
       "    </tr>\n",
       "    <tr>\n",
       "      <th>4</th>\n",
       "      <td>pueden pueden pueden claro pueden vetan derech...</td>\n",
       "      <td>0</td>\n",
       "    </tr>\n",
       "    <tr>\n",
       "      <th>...</th>\n",
       "      <td>...</td>\n",
       "      <td>...</td>\n",
       "    </tr>\n",
       "    <tr>\n",
       "      <th>289815</th>\n",
       "      <td>tampoco altas temperaturas</td>\n",
       "      <td>0</td>\n",
       "    </tr>\n",
       "    <tr>\n",
       "      <th>289816</th>\n",
       "      <td>tener espacio semanal hablar feminismo poca co...</td>\n",
       "      <td>0</td>\n",
       "    </tr>\n",
       "    <tr>\n",
       "      <th>289817</th>\n",
       "      <td>dia mujer america latina vive reivindicativo</td>\n",
       "      <td>0</td>\n",
       "    </tr>\n",
       "    <tr>\n",
       "      <th>289818</th>\n",
       "      <td>regla unica onvre opinar hoy tonto callado par...</td>\n",
       "      <td>0</td>\n",
       "    </tr>\n",
       "    <tr>\n",
       "      <th>289819</th>\n",
       "      <td>pregunte mujer mujer mosso esquadra gastan muc...</td>\n",
       "      <td>0</td>\n",
       "    </tr>\n",
       "  </tbody>\n",
       "</table>\n",
       "<p>289820 rows × 2 columns</p>\n",
       "</div>"
      ],
      "text/plain": [
       "                                               clean_text result\n",
       "0       rumbo usuarios redes sociales convocaron paro ...      0\n",
       "1                usac llegando espacio catedra genero vez      0\n",
       "2       norma anos vendida bar japon trabajar hombres ...      0\n",
       "3       mexicano ignorado demasiados anos demanda just...      0\n",
       "4       pueden pueden pueden claro pueden vetan derech...      0\n",
       "...                                                   ...    ...\n",
       "289815                         tampoco altas temperaturas      0\n",
       "289816  tener espacio semanal hablar feminismo poca co...      0\n",
       "289817       dia mujer america latina vive reivindicativo      0\n",
       "289818  regla unica onvre opinar hoy tonto callado par...      0\n",
       "289819  pregunte mujer mujer mosso esquadra gastan muc...      0\n",
       "\n",
       "[289820 rows x 2 columns]"
      ]
     },
     "execution_count": 11,
     "metadata": {},
     "output_type": "execute_result"
    }
   ],
   "source": [
    "pdf2"
   ]
  },
  {
   "cell_type": "code",
   "execution_count": 12,
   "metadata": {
    "ExecuteTime": {
     "end_time": "2020-12-30T00:11:31.111846Z",
     "start_time": "2020-12-30T00:11:30.759500Z"
    }
   },
   "outputs": [],
   "source": [
    "out_df = pd.merge(pdf1, pdf2, how=\"inner\", on=['clean_text'])"
   ]
  },
  {
   "cell_type": "code",
   "execution_count": 13,
   "metadata": {
    "ExecuteTime": {
     "end_time": "2020-12-30T00:11:31.124855Z",
     "start_time": "2020-12-30T00:11:31.113164Z"
    }
   },
   "outputs": [
    {
     "data": {
      "text/html": [
       "<div>\n",
       "<style scoped>\n",
       "    .dataframe tbody tr th:only-of-type {\n",
       "        vertical-align: middle;\n",
       "    }\n",
       "\n",
       "    .dataframe tbody tr th {\n",
       "        vertical-align: top;\n",
       "    }\n",
       "\n",
       "    .dataframe thead th {\n",
       "        text-align: right;\n",
       "    }\n",
       "</style>\n",
       "<table border=\"1\" class=\"dataframe\">\n",
       "  <thead>\n",
       "    <tr style=\"text-align: right;\">\n",
       "      <th></th>\n",
       "      <th>tweet_id</th>\n",
       "      <th>tweet_text</th>\n",
       "      <th>clean_text</th>\n",
       "      <th>result</th>\n",
       "    </tr>\n",
       "  </thead>\n",
       "  <tbody>\n",
       "    <tr>\n",
       "      <th>0</th>\n",
       "      <td>1236411302286888963</td>\n",
       "      <td>Rumbo al #8M | Usuarios de redes sociales conv...</td>\n",
       "      <td>rumbo usuarios redes sociales convocaron paro ...</td>\n",
       "      <td>0</td>\n",
       "    </tr>\n",
       "    <tr>\n",
       "      <th>1</th>\n",
       "      <td>1236411306334273536</td>\n",
       "      <td>La USAC llegando al espacio una cátedra de gén...</td>\n",
       "      <td>usac llegando espacio catedra genero vez</td>\n",
       "      <td>0</td>\n",
       "    </tr>\n",
       "    <tr>\n",
       "      <th>2</th>\n",
       "      <td>1236411302504992771</td>\n",
       "      <td>Cuando Norma tenía 19 años fue vendida a un ba...</td>\n",
       "      <td>norma anos vendida bar japon trabajar hombres ...</td>\n",
       "      <td>0</td>\n",
       "    </tr>\n",
       "    <tr>\n",
       "      <th>3</th>\n",
       "      <td>1236411301154500610</td>\n",
       "      <td>\"El Estado mexicano ha ignorado demasiados año...</td>\n",
       "      <td>mexicano ignorado demasiados anos demanda just...</td>\n",
       "      <td>0</td>\n",
       "    </tr>\n",
       "    <tr>\n",
       "      <th>4</th>\n",
       "      <td>1236411305638219776</td>\n",
       "      <td>❌NO PUEDEN\\n❌NO PUEDEN\\n❌NO PUEDEN\\n\\n❌ CLARO ...</td>\n",
       "      <td>pueden pueden pueden claro pueden vetan derech...</td>\n",
       "      <td>0</td>\n",
       "    </tr>\n",
       "    <tr>\n",
       "      <th>5</th>\n",
       "      <td>1236411302614097924</td>\n",
       "      <td>Si participas en las marchas con motivo del Dí...</td>\n",
       "      <td>participas marchas motivo dia internacional mu...</td>\n",
       "      <td>0</td>\n",
       "    </tr>\n",
       "    <tr>\n",
       "      <th>6</th>\n",
       "      <td>1236411311946436609</td>\n",
       "      <td>@EugeniodOrs_ Está claro, cuentan con que el n...</td>\n",
       "      <td>claro cuentan numero casos crezca proximos dia...</td>\n",
       "      <td>0</td>\n",
       "    </tr>\n",
       "    <tr>\n",
       "      <th>7</th>\n",
       "      <td>1236411303301763073</td>\n",
       "      <td>#8M #Homenaje #VillaNueva\\nHomenaje por el Día...</td>\n",
       "      <td>homenaje dia mujer palito sanchez animara agas...</td>\n",
       "      <td>0</td>\n",
       "    </tr>\n",
       "    <tr>\n",
       "      <th>8</th>\n",
       "      <td>1236411303188746241</td>\n",
       "      <td>#8M2020 ¡Les invitamos a la inauguración de es...</td>\n",
       "      <td>invitamos inauguracion muestra itinerante mana...</td>\n",
       "      <td>0</td>\n",
       "    </tr>\n",
       "    <tr>\n",
       "      <th>9</th>\n",
       "      <td>1236411303528292352</td>\n",
       "      <td>El 60 por ciento de la derechohabiencia son mu...</td>\n",
       "      <td>ciento derechohabiencia mujeres</td>\n",
       "      <td>0</td>\n",
       "    </tr>\n",
       "  </tbody>\n",
       "</table>\n",
       "</div>"
      ],
      "text/plain": [
       "              tweet_id                                         tweet_text  \\\n",
       "0  1236411302286888963  Rumbo al #8M | Usuarios de redes sociales conv...   \n",
       "1  1236411306334273536  La USAC llegando al espacio una cátedra de gén...   \n",
       "2  1236411302504992771  Cuando Norma tenía 19 años fue vendida a un ba...   \n",
       "3  1236411301154500610  \"El Estado mexicano ha ignorado demasiados año...   \n",
       "4  1236411305638219776  ❌NO PUEDEN\\n❌NO PUEDEN\\n❌NO PUEDEN\\n\\n❌ CLARO ...   \n",
       "5  1236411302614097924  Si participas en las marchas con motivo del Dí...   \n",
       "6  1236411311946436609  @EugeniodOrs_ Está claro, cuentan con que el n...   \n",
       "7  1236411303301763073  #8M #Homenaje #VillaNueva\\nHomenaje por el Día...   \n",
       "8  1236411303188746241  #8M2020 ¡Les invitamos a la inauguración de es...   \n",
       "9  1236411303528292352  El 60 por ciento de la derechohabiencia son mu...   \n",
       "\n",
       "                                          clean_text result  \n",
       "0  rumbo usuarios redes sociales convocaron paro ...      0  \n",
       "1           usac llegando espacio catedra genero vez      0  \n",
       "2  norma anos vendida bar japon trabajar hombres ...      0  \n",
       "3  mexicano ignorado demasiados anos demanda just...      0  \n",
       "4  pueden pueden pueden claro pueden vetan derech...      0  \n",
       "5  participas marchas motivo dia internacional mu...      0  \n",
       "6  claro cuentan numero casos crezca proximos dia...      0  \n",
       "7  homenaje dia mujer palito sanchez animara agas...      0  \n",
       "8  invitamos inauguracion muestra itinerante mana...      0  \n",
       "9                    ciento derechohabiencia mujeres      0  "
      ]
     },
     "execution_count": 13,
     "metadata": {},
     "output_type": "execute_result"
    }
   ],
   "source": [
    "out_df.head(10)"
   ]
  },
  {
   "cell_type": "code",
   "execution_count": 14,
   "metadata": {
    "ExecuteTime": {
     "end_time": "2020-12-30T00:11:31.136077Z",
     "start_time": "2020-12-30T00:11:31.126350Z"
    }
   },
   "outputs": [
    {
     "data": {
      "text/plain": [
       "(289491, 4)"
      ]
     },
     "execution_count": 14,
     "metadata": {},
     "output_type": "execute_result"
    }
   ],
   "source": [
    "out_df.shape"
   ]
  },
  {
   "cell_type": "code",
   "execution_count": 15,
   "metadata": {
    "ExecuteTime": {
     "end_time": "2020-12-30T00:11:31.195412Z",
     "start_time": "2020-12-30T00:11:31.137725Z"
    }
   },
   "outputs": [],
   "source": [
    "out_df.sample(n=381).to_csv('tweets_sentiments_es.csv')"
   ]
  },
  {
   "cell_type": "code",
   "execution_count": null,
   "metadata": {},
   "outputs": [],
   "source": []
  }
 ],
 "metadata": {
  "kernelspec": {
   "display_name": "Python 3",
   "language": "python",
   "name": "python3"
  },
  "language_info": {
   "codemirror_mode": {
    "name": "ipython",
    "version": 3
   },
   "file_extension": ".py",
   "mimetype": "text/x-python",
   "name": "python",
   "nbconvert_exporter": "python",
   "pygments_lexer": "ipython3",
   "version": "3.7.7"
  },
  "toc": {
   "base_numbering": 1,
   "nav_menu": {},
   "number_sections": true,
   "sideBar": true,
   "skip_h1_title": false,
   "title_cell": "Table of Contents",
   "title_sidebar": "Contents",
   "toc_cell": false,
   "toc_position": {},
   "toc_section_display": true,
   "toc_window_display": false
  }
 },
 "nbformat": 4,
 "nbformat_minor": 4
}
