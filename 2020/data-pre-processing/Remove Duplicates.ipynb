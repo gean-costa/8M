{
 "cells": [
  {
   "cell_type": "code",
   "execution_count": 1,
   "metadata": {
    "ExecuteTime": {
     "end_time": "2021-04-21T23:09:49.608383Z",
     "start_time": "2021-04-21T23:09:49.484417Z"
    }
   },
   "outputs": [],
   "source": [
    "import json\n",
    "from pymongo import MongoClient\n",
    "from bson.objectid import ObjectId\n",
    "from bson.json_util import dumps\n",
    "from tqdm import tqdm"
   ]
  },
  {
   "cell_type": "code",
   "execution_count": 2,
   "metadata": {
    "ExecuteTime": {
     "end_time": "2021-04-21T23:09:51.634002Z",
     "start_time": "2021-04-21T23:09:51.630483Z"
    }
   },
   "outputs": [
    {
     "name": "stdout",
     "output_type": "stream",
     "text": [
      "Conectando à base de dados\n"
     ]
    }
   ],
   "source": [
    "print(\"Conectando à base de dados\")"
   ]
  },
  {
   "cell_type": "code",
   "execution_count": 3,
   "metadata": {
    "ExecuteTime": {
     "end_time": "2021-04-21T23:09:55.711690Z",
     "start_time": "2021-04-21T23:09:55.705926Z"
    }
   },
   "outputs": [],
   "source": [
    "MONGO_HOST = 'mongodb://localhost:27017/'\n",
    "\n",
    "client = MongoClient(MONGO_HOST)\n",
    "\n",
    "db = client['IWD2021']\n",
    "\n",
    "tweets = db.tweets_server_updated"
   ]
  },
  {
   "cell_type": "code",
   "execution_count": 4,
   "metadata": {
    "ExecuteTime": {
     "end_time": "2021-04-21T23:09:57.614505Z",
     "start_time": "2021-04-21T23:09:57.610954Z"
    }
   },
   "outputs": [
    {
     "name": "stdout",
     "output_type": "stream",
     "text": [
      "Base de dados: IWD2021\n",
      "Collection: tweets_server_updated\n"
     ]
    }
   ],
   "source": [
    "print(f'Base de dados: {db.name}\\nCollection: {tweets.name}')"
   ]
  },
  {
   "cell_type": "code",
   "execution_count": 5,
   "metadata": {
    "ExecuteTime": {
     "end_time": "2021-04-21T23:10:00.458996Z",
     "start_time": "2021-04-21T23:10:00.455646Z"
    }
   },
   "outputs": [],
   "source": [
    "pipeline = [\n",
    "    {\n",
    "        '$group': {\n",
    "            '_id': '$id',\n",
    "            'uniqueIds': {\n",
    "                '$addToSet': '$_id'\n",
    "            },\n",
    "            'count': {\n",
    "                '$sum': 1\n",
    "            }\n",
    "        }\n",
    "    }, {\n",
    "        '$match': {\n",
    "            'count': {\n",
    "                '$gt': 1\n",
    "            }\n",
    "        }\n",
    "    }, {\n",
    "        '$sort': {\n",
    "            'count': -1\n",
    "        }\n",
    "    }\n",
    "]"
   ]
  },
  {
   "cell_type": "code",
   "execution_count": 6,
   "metadata": {
    "ExecuteTime": {
     "end_time": "2021-04-21T23:14:55.631266Z",
     "start_time": "2021-04-21T23:10:10.687897Z"
    }
   },
   "outputs": [
    {
     "name": "stdout",
     "output_type": "stream",
     "text": [
      "Query iniciada\n",
      "Query finalizada\n"
     ]
    }
   ],
   "source": [
    "print('Query iniciada')\n",
    "data = list(tweets.aggregate(pipeline, allowDiskUse=True))\n",
    "print('Query finalizada')"
   ]
  },
  {
   "cell_type": "code",
   "execution_count": 7,
   "metadata": {
    "ExecuteTime": {
     "end_time": "2021-04-22T12:31:38.571985Z",
     "start_time": "2021-04-22T12:31:38.556605Z"
    }
   },
   "outputs": [
    {
     "name": "stdout",
     "output_type": "stream",
     "text": [
      "Quantidade de documentos com registros duplicados: 3679164\n"
     ]
    }
   ],
   "source": [
    "print(f'Quantidade de documentos com registros duplicados: {len(data)}')"
   ]
  },
  {
   "cell_type": "code",
   "execution_count": 8,
   "metadata": {
    "ExecuteTime": {
     "end_time": "2021-04-22T12:31:45.414378Z",
     "start_time": "2021-04-22T12:31:45.411067Z"
    }
   },
   "outputs": [
    {
     "name": "stdout",
     "output_type": "stream",
     "text": [
      "[\n",
      "    {\n",
      "        \"_id\": 1368926517510737921,\n",
      "        \"count\": 3,\n",
      "        \"uniqueIds\": [\n",
      "            {\n",
      "                \"$oid\": \"607cd2eae36d53cb43f2bd1e\"\n",
      "            },\n",
      "            {\n",
      "                \"$oid\": \"605b500bc05c9bb8e47d5673\"\n",
      "            },\n",
      "            {\n",
      "                \"$oid\": \"607cd2fbe36d53cb43f2bfe2\"\n",
      "            }\n",
      "        ]\n",
      "    },\n",
      "    {\n",
      "        \"_id\": 1368956153934315520,\n",
      "        \"count\": 3,\n",
      "        \"uniqueIds\": [\n",
      "            {\n",
      "                \"$oid\": \"607cf01ae36d53cb43f76565\"\n",
      "            },\n",
      "            {\n",
      "                \"$oid\": \"605b6f3ac05c9bb8e4824125\"\n",
      "            },\n",
      "            {\n",
      "                \"$oid\": \"607cefffe36d53cb43f7613c\"\n",
      "            }\n",
      "        ]\n",
      "    }\n",
      "]\n"
     ]
    }
   ],
   "source": [
    "print(dumps(data[0:2], indent=4, sort_keys=True, ensure_ascii=False))"
   ]
  },
  {
   "cell_type": "code",
   "execution_count": 9,
   "metadata": {
    "ExecuteTime": {
     "end_time": "2021-04-22T12:31:56.993526Z",
     "start_time": "2021-04-22T12:31:56.224738Z"
    }
   },
   "outputs": [],
   "source": [
    "ids = [d2 for d in data for d2 in d['uniqueIds'][1:]]"
   ]
  },
  {
   "cell_type": "code",
   "execution_count": 10,
   "metadata": {
    "ExecuteTime": {
     "end_time": "2021-04-22T12:32:04.767846Z",
     "start_time": "2021-04-22T12:32:04.765106Z"
    }
   },
   "outputs": [
    {
     "name": "stdout",
     "output_type": "stream",
     "text": [
      "Quantidade de documentos a serem excluídos: 3679264\n"
     ]
    }
   ],
   "source": [
    "print(f'Quantidade de documentos a serem excluídos: {len(ids)}')"
   ]
  },
  {
   "cell_type": "code",
   "execution_count": 11,
   "metadata": {
    "ExecuteTime": {
     "end_time": "2021-04-22T12:32:07.064964Z",
     "start_time": "2021-04-22T12:32:07.063083Z"
    }
   },
   "outputs": [],
   "source": [
    "# ids"
   ]
  },
  {
   "cell_type": "code",
   "execution_count": 12,
   "metadata": {
    "ExecuteTime": {
     "end_time": "2021-04-22T12:49:11.853626Z",
     "start_time": "2021-04-22T12:32:30.671517Z"
    }
   },
   "outputs": [
    {
     "name": "stderr",
     "output_type": "stream",
     "text": [
      "100%|██████████| 3679264/3679264 [16:40<00:00, 3676.21it/s]"
     ]
    },
    {
     "name": "stdout",
     "output_type": "stream",
     "text": [
      "Exclusão de documentos finalizadas.\n"
     ]
    },
    {
     "name": "stderr",
     "output_type": "stream",
     "text": [
      "\n"
     ]
    }
   ],
   "source": [
    "for id in tqdm(ids):\n",
    "    tweets.delete_one({'_id': id})\n",
    "    # print(f'Documento {id} removido')\n",
    "\n",
    "print(\"Exclusão de documentos finalizadas.\")"
   ]
  },
  {
   "cell_type": "code",
   "execution_count": null,
   "metadata": {},
   "outputs": [],
   "source": []
  }
 ],
 "metadata": {
  "@webio": {
   "lastCommId": null,
   "lastKernelId": null
  },
  "kernelspec": {
   "display_name": "Python 3",
   "language": "python",
   "name": "python3"
  },
  "language_info": {
   "codemirror_mode": {
    "name": "ipython",
    "version": 3
   },
   "file_extension": ".py",
   "mimetype": "text/x-python",
   "name": "python",
   "nbconvert_exporter": "python",
   "pygments_lexer": "ipython3",
   "version": "3.7.7"
  },
  "toc": {
   "base_numbering": 1,
   "nav_menu": {},
   "number_sections": true,
   "sideBar": true,
   "skip_h1_title": false,
   "title_cell": "Table of Contents",
   "title_sidebar": "Contents",
   "toc_cell": false,
   "toc_position": {},
   "toc_section_display": true,
   "toc_window_display": false
  }
 },
 "nbformat": 4,
 "nbformat_minor": 2
}
