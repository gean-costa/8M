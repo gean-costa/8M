{
 "cells": [
  {
   "cell_type": "code",
   "execution_count": 1,
   "metadata": {
    "ExecuteTime": {
     "end_time": "2021-05-21T22:53:20.299410Z",
     "start_time": "2021-05-21T22:53:17.904256Z"
    }
   },
   "outputs": [],
   "source": [
    "import pymongo\n",
    "import time\n",
    "import pandas as pd\n",
    "import json\n",
    "import nltk"
   ]
  },
  {
   "cell_type": "markdown",
   "metadata": {},
   "source": [
    "# Conexão com o MongoDB"
   ]
  },
  {
   "cell_type": "code",
   "execution_count": 2,
   "metadata": {
    "ExecuteTime": {
     "end_time": "2021-05-21T22:53:21.931429Z",
     "start_time": "2021-05-21T22:53:21.927168Z"
    }
   },
   "outputs": [],
   "source": [
    "client = pymongo.MongoClient()\n",
    "\n",
    "# database\n",
    "db = client['8M2020_samples']  \n",
    "\n",
    "# collection\n",
    "collection = db.tweets_pt"
   ]
  },
  {
   "cell_type": "code",
   "execution_count": 3,
   "metadata": {
    "ExecuteTime": {
     "end_time": "2021-05-21T22:53:22.549674Z",
     "start_time": "2021-05-21T22:53:22.543359Z"
    }
   },
   "outputs": [],
   "source": [
    "pipeline = [\n",
    "    {\n",
    "        '$project': {\n",
    "            'tweet_id': '$id_str', \n",
    "            'date': {\n",
    "                '$dateFromString': {\n",
    "                    'dateString': '$created_at'\n",
    "                }\n",
    "            }, \n",
    "            'tweet_text': {\n",
    "                '$ifNull': [\n",
    "                    '$retweeted_status.full_text', '$full_text'\n",
    "                ]\n",
    "            }, \n",
    "            'num_likes': '$favorite_count', \n",
    "            'num_retweets': '$retweet_count', \n",
    "            'quoted_status_id': {\n",
    "                '$ifNull': [\n",
    "                    '$quoted_status_id_str', None\n",
    "                ]\n",
    "            }, \n",
    "            'retweeted_status_id': {\n",
    "                '$ifNull': [\n",
    "                    '$retweeted_status.id_str', None\n",
    "                ]\n",
    "            }, \n",
    "            'reply_to_user': {\n",
    "                '$ifNull': [\n",
    "                    '$in_reply_to_user_id_str', None\n",
    "                ]\n",
    "            }, \n",
    "            'reply_to_status': {\n",
    "                '$ifNull': [\n",
    "                    '$in_reply_to_status_id_str', None\n",
    "                ]\n",
    "            }, \n",
    "            'user_id': '$user.id_str', \n",
    "            'screen_name': '$user.screen_name', \n",
    "            'followers': '$user.followers_count', \n",
    "            'following': '$user.friends_count'\n",
    "        }\n",
    "    }, {\n",
    "        '$project': {\n",
    "            '_id': 0, \n",
    "            'tweet_id': 1, \n",
    "            'date': {\n",
    "                '$dateToString': {\n",
    "                    'format': '%d/%m/%Y %H:%M:%S', \n",
    "                    'date': '$date'\n",
    "                }\n",
    "            }, \n",
    "            'tweet_text': 1, \n",
    "            'num_likes': 1, \n",
    "            'num_retweets': 1, \n",
    "            'quoted_status_id': 1, \n",
    "            'retweeted_status_id': 1, \n",
    "            'reply_to_user': 1, \n",
    "            'reply_to_status': 1, \n",
    "            'user_id': 1, \n",
    "            'screen_name': 1, \n",
    "            'followers': 1, \n",
    "            'following': 1\n",
    "        }\n",
    "    }\n",
    "]"
   ]
  },
  {
   "cell_type": "code",
   "execution_count": 4,
   "metadata": {
    "ExecuteTime": {
     "end_time": "2021-05-21T22:53:34.716191Z",
     "start_time": "2021-05-21T22:53:29.548245Z"
    }
   },
   "outputs": [
    {
     "name": "stdout",
     "output_type": "stream",
     "text": [
      "Tempo de execução: 00:00:05\n",
      "274636 documentos selecionados\n"
     ]
    }
   ],
   "source": [
    "time_start = time.time()\n",
    "document = list(collection.aggregate(pipeline=pipeline))\n",
    "time_end = time.time()\n",
    "\n",
    "print(\n",
    "    f'Tempo de execução: {time.strftime(\"%H:%M:%S\", time.gmtime(time_end - time_start))}')\n",
    "print(f'{len(document)} documentos selecionados')"
   ]
  },
  {
   "cell_type": "code",
   "execution_count": 5,
   "metadata": {
    "ExecuteTime": {
     "end_time": "2021-05-21T22:53:44.684964Z",
     "start_time": "2021-05-21T22:53:44.681759Z"
    }
   },
   "outputs": [
    {
     "name": "stdout",
     "output_type": "stream",
     "text": [
      "Amostra de um documento:\n",
      "\n",
      "{\n",
      "   \"tweet_id\": \"1236411302895124487\",\n",
      "   \"tweet_text\": \"Sol com cara O projeto Inclusive, Praia! está de volta no próximo domingo (8) com uma programação especial em referência ao Dia Internacional da Mulher. Vai ter jogos, brincadeiras, diversão e show com Isabelle Passinho. 🏝 Não perca! &gt; https://t.co/fYin5VeZwx \\n#GovernoDeTodosNós https://t.co/YIGahguJN0\",\n",
      "   \"num_likes\": 8,\n",
      "   \"num_retweets\": 2,\n",
      "   \"quoted_status_id\": null,\n",
      "   \"retweeted_status_id\": null,\n",
      "   \"reply_to_user\": null,\n",
      "   \"reply_to_status\": null,\n",
      "   \"user_id\": \"53085255\",\n",
      "   \"screen_name\": \"GovernoMA\",\n",
      "   \"followers\": 175381,\n",
      "   \"following\": 166,\n",
      "   \"date\": \"07/03/2020 22:00:00\"\n",
      "}\n"
     ]
    }
   ],
   "source": [
    "print(f'Amostra de um documento:\\n')\n",
    "print(json.dumps(document[0], sort_keys=False, indent=3, ensure_ascii=False))"
   ]
  },
  {
   "cell_type": "code",
   "execution_count": 7,
   "metadata": {
    "ExecuteTime": {
     "end_time": "2021-05-21T22:55:21.781659Z",
     "start_time": "2021-05-21T22:55:18.332522Z"
    }
   },
   "outputs": [
    {
     "data": {
      "text/html": [
       "<div>\n",
       "<style scoped>\n",
       "    .dataframe tbody tr th:only-of-type {\n",
       "        vertical-align: middle;\n",
       "    }\n",
       "\n",
       "    .dataframe tbody tr th {\n",
       "        vertical-align: top;\n",
       "    }\n",
       "\n",
       "    .dataframe thead th {\n",
       "        text-align: right;\n",
       "    }\n",
       "</style>\n",
       "<table border=\"1\" class=\"dataframe\">\n",
       "  <thead>\n",
       "    <tr style=\"text-align: right;\">\n",
       "      <th></th>\n",
       "      <th>tweet_id</th>\n",
       "      <th>date</th>\n",
       "      <th>tweet_text</th>\n",
       "      <th>num_likes</th>\n",
       "      <th>num_retweets</th>\n",
       "      <th>retweeted_status_id</th>\n",
       "      <th>quoted_status_id</th>\n",
       "      <th>reply_to_user</th>\n",
       "      <th>reply_to_status</th>\n",
       "      <th>user_id</th>\n",
       "      <th>screen_name</th>\n",
       "      <th>followers</th>\n",
       "      <th>following</th>\n",
       "    </tr>\n",
       "  </thead>\n",
       "  <tbody>\n",
       "    <tr>\n",
       "      <th>0</th>\n",
       "      <td>1236411302895124487</td>\n",
       "      <td>07/03/2020 22:00:00</td>\n",
       "      <td>Sol com cara O projeto Inclusive, Praia! está ...</td>\n",
       "      <td>8</td>\n",
       "      <td>2</td>\n",
       "      <td>None</td>\n",
       "      <td>None</td>\n",
       "      <td>None</td>\n",
       "      <td>None</td>\n",
       "      <td>53085255</td>\n",
       "      <td>GovernoMA</td>\n",
       "      <td>175381</td>\n",
       "      <td>166</td>\n",
       "    </tr>\n",
       "    <tr>\n",
       "      <th>1</th>\n",
       "      <td>1236411378879037442</td>\n",
       "      <td>07/03/2020 22:00:18</td>\n",
       "      <td>Hoje é dia de transmissão especial na Fla TV!!...</td>\n",
       "      <td>0</td>\n",
       "      <td>36</td>\n",
       "      <td>1236371617732874242</td>\n",
       "      <td>None</td>\n",
       "      <td>None</td>\n",
       "      <td>None</td>\n",
       "      <td>79617245</td>\n",
       "      <td>audreysteen</td>\n",
       "      <td>38</td>\n",
       "      <td>342</td>\n",
       "    </tr>\n",
       "    <tr>\n",
       "      <th>2</th>\n",
       "      <td>1236411364643659776</td>\n",
       "      <td>07/03/2020 22:00:15</td>\n",
       "      <td>A presidenta nacional do PT, deputada @gleisi ...</td>\n",
       "      <td>0</td>\n",
       "      <td>184</td>\n",
       "      <td>1236375681245876225</td>\n",
       "      <td>None</td>\n",
       "      <td>None</td>\n",
       "      <td>None</td>\n",
       "      <td>139207105</td>\n",
       "      <td>ProfValterCosta</td>\n",
       "      <td>1758</td>\n",
       "      <td>2800</td>\n",
       "    </tr>\n",
       "    <tr>\n",
       "      <th>3</th>\n",
       "      <td>1236411353444868096</td>\n",
       "      <td>07/03/2020 22:00:12</td>\n",
       "      <td>Cartaz de minha enteada querida(linda e talent...</td>\n",
       "      <td>0</td>\n",
       "      <td>3</td>\n",
       "      <td>1236407917554929666</td>\n",
       "      <td>None</td>\n",
       "      <td>None</td>\n",
       "      <td>None</td>\n",
       "      <td>1093274352060121088</td>\n",
       "      <td>purpurediamond</td>\n",
       "      <td>28</td>\n",
       "      <td>90</td>\n",
       "    </tr>\n",
       "    <tr>\n",
       "      <th>4</th>\n",
       "      <td>1236411366086508544</td>\n",
       "      <td>07/03/2020 22:00:15</td>\n",
       "      <td>Dia Internacional da Mulher: o que os homens p...</td>\n",
       "      <td>2</td>\n",
       "      <td>0</td>\n",
       "      <td>None</td>\n",
       "      <td>None</td>\n",
       "      <td>None</td>\n",
       "      <td>None</td>\n",
       "      <td>126318634</td>\n",
       "      <td>professoraAlice</td>\n",
       "      <td>26485</td>\n",
       "      <td>170</td>\n",
       "    </tr>\n",
       "  </tbody>\n",
       "</table>\n",
       "</div>"
      ],
      "text/plain": [
       "              tweet_id                 date  \\\n",
       "0  1236411302895124487  07/03/2020 22:00:00   \n",
       "1  1236411378879037442  07/03/2020 22:00:18   \n",
       "2  1236411364643659776  07/03/2020 22:00:15   \n",
       "3  1236411353444868096  07/03/2020 22:00:12   \n",
       "4  1236411366086508544  07/03/2020 22:00:15   \n",
       "\n",
       "                                          tweet_text  num_likes  num_retweets  \\\n",
       "0  Sol com cara O projeto Inclusive, Praia! está ...          8             2   \n",
       "1  Hoje é dia de transmissão especial na Fla TV!!...          0            36   \n",
       "2  A presidenta nacional do PT, deputada @gleisi ...          0           184   \n",
       "3  Cartaz de minha enteada querida(linda e talent...          0             3   \n",
       "4  Dia Internacional da Mulher: o que os homens p...          2             0   \n",
       "\n",
       "   retweeted_status_id quoted_status_id reply_to_user reply_to_status  \\\n",
       "0                 None             None          None            None   \n",
       "1  1236371617732874242             None          None            None   \n",
       "2  1236375681245876225             None          None            None   \n",
       "3  1236407917554929666             None          None            None   \n",
       "4                 None             None          None            None   \n",
       "\n",
       "               user_id      screen_name  followers  following  \n",
       "0             53085255        GovernoMA     175381        166  \n",
       "1             79617245      audreysteen         38        342  \n",
       "2            139207105  ProfValterCosta       1758       2800  \n",
       "3  1093274352060121088   purpurediamond         28         90  \n",
       "4            126318634  professoraAlice      26485        170  "
      ]
     },
     "execution_count": 7,
     "metadata": {},
     "output_type": "execute_result"
    }
   ],
   "source": [
    "df = pd.DataFrame(document)\n",
    "df = df[['tweet_id', 'date', 'tweet_text', 'num_likes', 'num_retweets',\n",
    "                   'retweeted_status_id', 'quoted_status_id', 'reply_to_user', 'reply_to_status',\n",
    "                   'user_id', 'screen_name', 'followers', 'following']]\n",
    "\n",
    "df.to_csv('tweets_pt.csv')\n",
    "\n",
    "df.head()"
   ]
  },
  {
   "cell_type": "code",
   "execution_count": 8,
   "metadata": {
    "ExecuteTime": {
     "end_time": "2021-05-21T22:55:46.846731Z",
     "start_time": "2021-05-21T22:55:46.837330Z"
    }
   },
   "outputs": [
    {
     "name": "stdout",
     "output_type": "stream",
     "text": [
      "Amostra de um tweet antes do pré-processamento:\n",
      "\n",
      "Sol com cara O projeto Inclusive, Praia! está de volta no próximo domingo (8) com uma programação especial em referência ao Dia Internacional da Mulher. Vai ter jogos, brincadeiras, diversão e show com Isabelle Passinho. 🏝 Não perca! &gt; https://t.co/fYin5VeZwx \n",
      "#GovernoDeTodosNós https://t.co/YIGahguJN0\n"
     ]
    }
   ],
   "source": [
    "print(f'Amostra de um tweet antes do pré-processamento:\\n\\n{df.tweet_text[0]}')"
   ]
  },
  {
   "cell_type": "markdown",
   "metadata": {},
   "source": [
    "## Pré-processamento"
   ]
  },
  {
   "cell_type": "code",
   "execution_count": 9,
   "metadata": {
    "ExecuteTime": {
     "end_time": "2021-05-21T22:55:50.664367Z",
     "start_time": "2021-05-21T22:55:50.258842Z"
    }
   },
   "outputs": [
    {
     "data": {
      "text/plain": [
       "'Sol com cara O projeto Inclusive, Praia! está de volta no próximo domingo (8) com uma programação especial em referência ao Dia Internacional da Mulher. Vai ter jogos, brincadeiras, diversão e show com Isabelle Passinho. 🏝 Não perca! &gt;  \\n#GovernoDeTodosNós '"
      ]
     },
     "execution_count": 9,
     "metadata": {},
     "output_type": "execute_result"
    }
   ],
   "source": [
    "# remover links\n",
    "df['clean_text'] = df['tweet_text'].str.replace(r\"http\\S+\",\"\") \n",
    "df.clean_text[0]"
   ]
  },
  {
   "cell_type": "code",
   "execution_count": 10,
   "metadata": {
    "ExecuteTime": {
     "end_time": "2021-05-21T22:55:53.353159Z",
     "start_time": "2021-05-21T22:55:53.063034Z"
    }
   },
   "outputs": [
    {
     "data": {
      "text/plain": [
       "'Sol com cara O projeto Inclusive, Praia! está de volta no próximo domingo (8) com uma programação especial em referência ao Dia Internacional da Mulher. Vai ter jogos, brincadeiras, diversão e show com Isabelle Passinho. 🏝 Não perca! &gt;  \\n#GovernoDeTodosNós '"
      ]
     },
     "execution_count": 10,
     "metadata": {},
     "output_type": "execute_result"
    }
   ],
   "source": [
    "# remover mentions\n",
    "df['clean_text'] = df['clean_text'].str.replace(r\"@\\S+\",\"\")\n",
    "df.clean_text[0]"
   ]
  },
  {
   "cell_type": "code",
   "execution_count": 11,
   "metadata": {
    "ExecuteTime": {
     "end_time": "2021-05-21T22:55:57.360760Z",
     "start_time": "2021-05-21T22:55:56.931885Z"
    }
   },
   "outputs": [
    {
     "data": {
      "text/plain": [
       "'Sol com cara O projeto Inclusive, Praia! está de volta no próximo domingo (8) com uma programação especial em referência ao Dia Internacional da Mulher. Vai ter jogos, brincadeiras, diversão e show com Isabelle Passinho. 🏝 Não perca! &gt;  \\n  '"
      ]
     },
     "execution_count": 11,
     "metadata": {},
     "output_type": "execute_result"
    }
   ],
   "source": [
    "# remover hashtags\n",
    "df['clean_text'] = df['clean_text'].str.replace(r\"#\\S+\",\" \")\n",
    "df.clean_text[0]"
   ]
  },
  {
   "cell_type": "code",
   "execution_count": 12,
   "metadata": {
    "ExecuteTime": {
     "end_time": "2021-05-21T22:55:59.578075Z",
     "start_time": "2021-05-21T22:55:59.208395Z"
    }
   },
   "outputs": [
    {
     "data": {
      "text/plain": [
       "'Sol com cara O projeto Inclusive, Praia! está de volta no próximo domingo (8) com uma programação especial em referência ao Dia Internacional da Mulher. Vai ter jogos, brincadeiras, diversão e show com Isabelle Passinho. 🏝 Não perca! &gt;     '"
      ]
     },
     "execution_count": 12,
     "metadata": {},
     "output_type": "execute_result"
    }
   ],
   "source": [
    "# remover quebra de linhas\n",
    "df['clean_text'] = df['clean_text'].str.replace(r\"\\n\",\" \")\n",
    "df.clean_text[0]"
   ]
  },
  {
   "cell_type": "code",
   "execution_count": 13,
   "metadata": {
    "ExecuteTime": {
     "end_time": "2021-05-21T22:56:04.421801Z",
     "start_time": "2021-05-21T22:56:02.612160Z"
    }
   },
   "outputs": [
    {
     "data": {
      "text/plain": [
       "'Sol com cara O projeto Inclusive  Praia  está de volta no próximo domingo  8  com uma programação especial em referência ao Dia Internacional da Mulher  Vai ter jogos  brincadeiras  diversão e show com Isabelle Passinho    Não perca   gt      '"
      ]
     },
     "execution_count": 13,
     "metadata": {},
     "output_type": "execute_result"
    }
   ],
   "source": [
    "# remover pontuações\n",
    "df['clean_text'] = df['clean_text'].str.replace(r\"[^\\w\\s#]|_\",\" \")\n",
    "df.clean_text[0]"
   ]
  },
  {
   "cell_type": "code",
   "execution_count": 14,
   "metadata": {
    "ExecuteTime": {
     "end_time": "2021-05-21T22:56:10.356764Z",
     "start_time": "2021-05-21T22:56:05.318159Z"
    }
   },
   "outputs": [
    {
     "data": {
      "text/plain": [
       "'Sol com cara O projeto Inclusive  Praia  está de volta no próximo domingo    com uma programação especial em referência ao Dia Internacional da Mulher  Vai ter jogos  brincadeiras  diversão e show com Isabelle Passinho    Não perca   gt'"
      ]
     },
     "execution_count": 14,
     "metadata": {},
     "output_type": "execute_result"
    }
   ],
   "source": [
    "# remover números\n",
    "df['clean_text'] = df['clean_text'].str.strip().str.replace(r\"\\b(?:[0-9]*)\\b\",\"\")\n",
    "df.clean_text[0]"
   ]
  },
  {
   "cell_type": "code",
   "execution_count": 15,
   "metadata": {
    "ExecuteTime": {
     "end_time": "2021-05-21T22:56:11.765265Z",
     "start_time": "2021-05-21T22:56:10.358140Z"
    }
   },
   "outputs": [
    {
     "data": {
      "text/plain": [
       "'Sol com cara O projeto Inclusive Praia está de volta no próximo domingo com uma programação especial em referência ao Dia Internacional da Mulher Vai ter jogos brincadeiras diversão e show com Isabelle Passinho Não perca gt'"
      ]
     },
     "execution_count": 15,
     "metadata": {},
     "output_type": "execute_result"
    }
   ],
   "source": [
    "# remover espaços duplos\n",
    "df['clean_text'] = df['clean_text'].str.strip().str.replace(r\"\\s{2,}\",\" \")\n",
    "df.clean_text[0]"
   ]
  },
  {
   "cell_type": "code",
   "execution_count": 16,
   "metadata": {
    "ExecuteTime": {
     "end_time": "2021-05-21T22:56:12.176889Z",
     "start_time": "2021-05-21T22:56:11.766786Z"
    }
   },
   "outputs": [
    {
     "data": {
      "text/plain": [
       "'sol com cara o projeto inclusive praia está de volta no próximo domingo com uma programação especial em referência ao dia internacional da mulher vai ter jogos brincadeiras diversão e show com isabelle passinho não perca gt'"
      ]
     },
     "execution_count": 16,
     "metadata": {},
     "output_type": "execute_result"
    }
   ],
   "source": [
    "# converter todas as letras para minusculas\n",
    "df['clean_text'] = df['clean_text'].str.lower()\n",
    "df.clean_text[0]"
   ]
  },
  {
   "cell_type": "code",
   "execution_count": 17,
   "metadata": {
    "ExecuteTime": {
     "end_time": "2021-05-21T22:56:32.368467Z",
     "start_time": "2021-05-21T22:56:12.178346Z"
    }
   },
   "outputs": [
    {
     "data": {
      "text/plain": [
       "'sol com cara o projeto inclusive praia está de volta no próximo domingo com uma programação especial em referência ao dia internacional da mulher vai ter jogos brincadeiras diversão e show com isabelle passinho não perca gt'"
      ]
     },
     "execution_count": 17,
     "metadata": {},
     "output_type": "execute_result"
    }
   ],
   "source": [
    "# remover letras que se repetem em sequência mais de 3x\n",
    "import string\n",
    "alphabet = list(string.ascii_lowercase)\n",
    "\n",
    "for letter in alphabet:\n",
    "    pattern = '{}{}'.format(letter, '{3,}')\n",
    "    df['clean_text'] = df['clean_text'].str.replace(r'{}'.format(pattern), letter)\n",
    "    \n",
    "df.clean_text[0]"
   ]
  },
  {
   "cell_type": "code",
   "execution_count": 18,
   "metadata": {
    "ExecuteTime": {
     "end_time": "2021-05-21T22:56:49.411420Z",
     "start_time": "2021-05-21T22:56:32.369698Z"
    }
   },
   "outputs": [
    {
     "data": {
      "text/plain": [
       "'sol cara projeto inclusive praia volta próximo domingo programação especial referência dia internacional mulher vai ter jogos brincadeiras diversão show isabelle passinho perca gt'"
      ]
     },
     "execution_count": 18,
     "metadata": {},
     "output_type": "execute_result"
    }
   ],
   "source": [
    "# remover stpwords\n",
    "with open('../stopwords/portuguese.txt', 'r') as file:\n",
    "    stopwords = file.readlines()\n",
    "stopwords = [sw.replace('\\n','') for sw in stopwords]\n",
    "\n",
    "def remover_stopwords(texto):\n",
    "    palavras = [i for i in texto.split() if not i in stopwords]\n",
    "    return (\" \".join(palavras))\n",
    "\n",
    "df['clean_text'] = df['clean_text'].apply(remover_stopwords)\n",
    "df.clean_text[0]"
   ]
  },
  {
   "cell_type": "code",
   "execution_count": 19,
   "metadata": {
    "ExecuteTime": {
     "end_time": "2021-05-21T22:56:50.240854Z",
     "start_time": "2021-05-21T22:56:49.412670Z"
    }
   },
   "outputs": [
    {
     "data": {
      "text/plain": [
       "'sol cara projeto inclusive praia volta próximo domingo programação especial referência dia internacional mulher vai ter jogos brincadeiras diversão show isabelle passinho perca'"
      ]
     },
     "execution_count": 19,
     "metadata": {},
     "output_type": "execute_result"
    }
   ],
   "source": [
    "# remover palavras com 2 caracteres ou menos\n",
    "def remover_len_2(texto):\n",
    "    palavras = [i for i in texto.split() if len(i) > 2]\n",
    "    return (\" \".join(palavras))\n",
    "\n",
    "df['clean_text'] = df['clean_text'].apply(remover_len_2)\n",
    "df.clean_text[0]"
   ]
  },
  {
   "cell_type": "code",
   "execution_count": 20,
   "metadata": {
    "ExecuteTime": {
     "end_time": "2021-05-21T22:56:50.244944Z",
     "start_time": "2021-05-21T22:56:50.242129Z"
    }
   },
   "outputs": [
    {
     "name": "stdout",
     "output_type": "stream",
     "text": [
      "Amostra de um tweet depois do pré-processamento:\n",
      "\n",
      "Sol com cara O projeto Inclusive, Praia! está de volta no próximo domingo (8) com uma programação especial em referência ao Dia Internacional da Mulher. Vai ter jogos, brincadeiras, diversão e show com Isabelle Passinho. 🏝 Não perca! &gt; https://t.co/fYin5VeZwx \n",
      "#GovernoDeTodosNós https://t.co/YIGahguJN0\n",
      "\n",
      "sol cara projeto inclusive praia volta próximo domingo programação especial referência dia internacional mulher vai ter jogos brincadeiras diversão show isabelle passinho perca\n"
     ]
    }
   ],
   "source": [
    "print(\n",
    "    f'Amostra de um tweet depois do pré-processamento:\\n\\n{df.tweet_text[0]}\\n\\n{df.clean_text[0]}')"
   ]
  },
  {
   "cell_type": "code",
   "execution_count": 21,
   "metadata": {
    "ExecuteTime": {
     "end_time": "2021-05-21T22:56:50.258705Z",
     "start_time": "2021-05-21T22:56:50.246840Z"
    }
   },
   "outputs": [],
   "source": [
    "def reduzir_radical(texto):\n",
    "    stemmer = nltk.stem.RSLPStemmer()\n",
    "    palavras = [stemmer.stem(i) for i in texto.split()]\n",
    "    return (\" \".join(palavras))"
   ]
  },
  {
   "cell_type": "code",
   "execution_count": 22,
   "metadata": {
    "ExecuteTime": {
     "end_time": "2021-05-21T22:56:50.310588Z",
     "start_time": "2021-05-21T22:56:50.260408Z"
    }
   },
   "outputs": [
    {
     "data": {
      "text/plain": [
       "'sol car projet inclusiv prai volt próx doming program espec refer dia internac mulh vai ter jog brinc divers show isabell pass perc'"
      ]
     },
     "execution_count": 22,
     "metadata": {},
     "output_type": "execute_result"
    }
   ],
   "source": [
    "reduzir_radical(df.clean_text[0])"
   ]
  },
  {
   "cell_type": "code",
   "execution_count": 23,
   "metadata": {
    "ExecuteTime": {
     "end_time": "2021-05-21T22:56:50.313497Z",
     "start_time": "2021-05-21T22:56:50.311736Z"
    }
   },
   "outputs": [],
   "source": [
    "# df['tweet_text'] = df['tweet_text'].apply(reduzir_radical)"
   ]
  },
  {
   "cell_type": "code",
   "execution_count": 24,
   "metadata": {
    "ExecuteTime": {
     "end_time": "2021-05-21T22:56:50.323091Z",
     "start_time": "2021-05-21T22:56:50.314592Z"
    }
   },
   "outputs": [],
   "source": [
    "import unicodedata\n",
    "\n",
    "def remover_acentuacao(text):\n",
    "    # Unicode normalize transforma um caracter em seu equivalente em latin.\n",
    "    nfkd = unicodedata.normalize('NFKD', text)\n",
    "    palavra_sem_acento = u\"\".join([c for c in nfkd if not unicodedata.combining(c)])\n",
    "    return (palavra_sem_acento)"
   ]
  },
  {
   "cell_type": "code",
   "execution_count": 25,
   "metadata": {
    "ExecuteTime": {
     "end_time": "2021-05-21T22:56:50.333433Z",
     "start_time": "2021-05-21T22:56:50.324127Z"
    }
   },
   "outputs": [
    {
     "data": {
      "text/plain": [
       "'sol cara projeto inclusive praia volta proximo domingo programacao especial referencia dia internacional mulher vai ter jogos brincadeiras diversao show isabelle passinho perca'"
      ]
     },
     "execution_count": 25,
     "metadata": {},
     "output_type": "execute_result"
    }
   ],
   "source": [
    "remover_acentuacao(df.clean_text[0])"
   ]
  },
  {
   "cell_type": "code",
   "execution_count": 26,
   "metadata": {
    "ExecuteTime": {
     "end_time": "2021-05-21T22:56:54.245066Z",
     "start_time": "2021-05-21T22:56:50.334495Z"
    }
   },
   "outputs": [
    {
     "data": {
      "text/plain": [
       "'sol cara projeto inclusive praia volta proximo domingo programacao especial referencia dia internacional mulher vai ter jogos brincadeiras diversao show isabelle passinho perca'"
      ]
     },
     "execution_count": 26,
     "metadata": {},
     "output_type": "execute_result"
    }
   ],
   "source": [
    "df['clean_text'] = df['clean_text'].apply(remover_acentuacao)\n",
    "df.clean_text[0]"
   ]
  },
  {
   "cell_type": "code",
   "execution_count": 27,
   "metadata": {
    "ExecuteTime": {
     "end_time": "2021-05-21T22:56:54.734757Z",
     "start_time": "2021-05-21T22:56:54.246295Z"
    }
   },
   "outputs": [
    {
     "data": {
      "text/plain": [
       "'sol cara projeto inclusive praia volta proximo domingo programacao especial referencia dia internacional mulher vai ter jogos brincadeiras diversao show isabelle passinho perca'"
      ]
     },
     "execution_count": 27,
     "metadata": {},
     "output_type": "execute_result"
    }
   ],
   "source": [
    "# remover non ascii caracteres\n",
    "df['clean_text'] = df['clean_text'].str.strip().str.replace(r\"[^a-zA-z0-9#|\\s]\",\"\")\n",
    "\n",
    "df.clean_text[0]"
   ]
  },
  {
   "cell_type": "code",
   "execution_count": 28,
   "metadata": {
    "ExecuteTime": {
     "end_time": "2021-05-21T22:56:54.738740Z",
     "start_time": "2021-05-21T22:56:54.735931Z"
    }
   },
   "outputs": [
    {
     "name": "stdout",
     "output_type": "stream",
     "text": [
      "Amostra de um tweet depois do pré-processamento:\n",
      "\n",
      "Sol com cara O projeto Inclusive, Praia! está de volta no próximo domingo (8) com uma programação especial em referência ao Dia Internacional da Mulher. Vai ter jogos, brincadeiras, diversão e show com Isabelle Passinho. 🏝 Não perca! &gt; https://t.co/fYin5VeZwx \n",
      "#GovernoDeTodosNós https://t.co/YIGahguJN0\n",
      "\n",
      "sol cara projeto inclusive praia volta proximo domingo programacao especial referencia dia internacional mulher vai ter jogos brincadeiras diversao show isabelle passinho perca\n"
     ]
    }
   ],
   "source": [
    "print(\n",
    "    f'Amostra de um tweet depois do pré-processamento:\\n\\n{df.tweet_text[0]}\\n\\n{df.clean_text[0]}')"
   ]
  },
  {
   "cell_type": "markdown",
   "metadata": {},
   "source": [
    "### Etapa opcional\n",
    "\n",
    "O atributo 'lang' presentes nos documentos podem ter sido atribuidos erroneamente. Objetivando eliminar tweets que possam ser de um idioma não requisitado, desenvolveram-se 2 funções para ajudar a confirmar o idioma destes."
   ]
  },
  {
   "cell_type": "markdown",
   "metadata": {},
   "source": [
    "Para desabilitar warnings:"
   ]
  },
  {
   "cell_type": "code",
   "execution_count": 29,
   "metadata": {
    "ExecuteTime": {
     "end_time": "2021-05-21T22:56:54.747821Z",
     "start_time": "2021-05-21T22:56:54.739964Z"
    }
   },
   "outputs": [],
   "source": [
    "# import logging\n",
    "# logging.disable(logging.WARNING)"
   ]
  },
  {
   "cell_type": "markdown",
   "metadata": {},
   "source": [
    "#### 1. Usando polyglot"
   ]
  },
  {
   "cell_type": "code",
   "execution_count": 30,
   "metadata": {
    "ExecuteTime": {
     "end_time": "2021-05-21T22:56:54.757159Z",
     "start_time": "2021-05-21T22:56:54.749161Z"
    }
   },
   "outputs": [],
   "source": [
    "# import polyglot\n",
    "# from polyglot.detect import Detector"
   ]
  },
  {
   "cell_type": "code",
   "execution_count": 31,
   "metadata": {
    "ExecuteTime": {
     "end_time": "2021-05-21T22:56:54.766824Z",
     "start_time": "2021-05-21T22:56:54.758408Z"
    }
   },
   "outputs": [],
   "source": [
    "# def get_polyglot_language(text):\n",
    "#     try:\n",
    "#         detector = Detector(text)\n",
    "#     except polyglot.detect.base.UnknownLanguage:\n",
    "#         lang = 'Undefined'\n",
    "#     else:\n",
    "#         lang = detector.language.name\n",
    "    \n",
    "#     return (lang)"
   ]
  },
  {
   "cell_type": "code",
   "execution_count": 32,
   "metadata": {
    "ExecuteTime": {
     "end_time": "2021-05-21T22:56:54.783362Z",
     "start_time": "2021-05-21T22:56:54.768026Z"
    }
   },
   "outputs": [],
   "source": [
    "# get_polyglot_language(df['tweet_text'][0])"
   ]
  },
  {
   "cell_type": "code",
   "execution_count": 33,
   "metadata": {
    "ExecuteTime": {
     "end_time": "2021-05-21T22:56:54.792561Z",
     "start_time": "2021-05-21T22:56:54.784575Z"
    }
   },
   "outputs": [],
   "source": [
    "# df['polyglot_lang'] = df['tweet_text'].apply(get_polyglot_language)"
   ]
  },
  {
   "cell_type": "code",
   "execution_count": 34,
   "metadata": {
    "ExecuteTime": {
     "end_time": "2021-05-21T22:56:54.801852Z",
     "start_time": "2021-05-21T22:56:54.793766Z"
    }
   },
   "outputs": [],
   "source": [
    "# df['polyglot_lang'].value_counts()"
   ]
  },
  {
   "cell_type": "markdown",
   "metadata": {},
   "source": [
    "#### 2. Usando textblob"
   ]
  },
  {
   "cell_type": "code",
   "execution_count": 35,
   "metadata": {
    "ExecuteTime": {
     "end_time": "2021-05-21T22:56:54.811013Z",
     "start_time": "2021-05-21T22:56:54.806351Z"
    }
   },
   "outputs": [],
   "source": [
    "# import textblob\n",
    "# from textblob import TextBlob\n",
    "# import pycountry"
   ]
  },
  {
   "cell_type": "code",
   "execution_count": 36,
   "metadata": {
    "ExecuteTime": {
     "end_time": "2021-05-21T22:56:54.820208Z",
     "start_time": "2021-05-21T22:56:54.813637Z"
    }
   },
   "outputs": [],
   "source": [
    "# def get_textblob_language(text):\n",
    "#     try:\n",
    "#         time.sleep(0.2)\n",
    "#         b = TextBlob(text)\n",
    "#         language = pycountry.languages.get(alpha_2=b.detect_language())\n",
    "#         language_name = language.name\n",
    "#     except textblob.exceptions.TranslatorError:\n",
    "#         # language_name = \"Deu ruim\"\n",
    "#         language_name = 'Undefined'\n",
    "    \n",
    "#     return(language_name) "
   ]
  },
  {
   "cell_type": "code",
   "execution_count": 37,
   "metadata": {
    "ExecuteTime": {
     "end_time": "2021-05-21T22:56:54.829258Z",
     "start_time": "2021-05-21T22:56:54.821782Z"
    }
   },
   "outputs": [],
   "source": [
    "# get_textblob_language(df['tweet_text'][0])"
   ]
  },
  {
   "cell_type": "code",
   "execution_count": 38,
   "metadata": {
    "ExecuteTime": {
     "end_time": "2021-05-21T22:56:54.838244Z",
     "start_time": "2021-05-21T22:56:54.830448Z"
    }
   },
   "outputs": [],
   "source": [
    "# df['textblob_lang'] = df['tweet_text'].apply(get_textblob_language)"
   ]
  },
  {
   "cell_type": "markdown",
   "metadata": {},
   "source": [
    "Para reabilitar warnings:"
   ]
  },
  {
   "cell_type": "code",
   "execution_count": 39,
   "metadata": {
    "ExecuteTime": {
     "end_time": "2021-05-21T22:56:54.847186Z",
     "start_time": "2021-05-21T22:56:54.839336Z"
    }
   },
   "outputs": [],
   "source": [
    "# logging.disable(logging.NOTSET)"
   ]
  },
  {
   "cell_type": "code",
   "execution_count": 40,
   "metadata": {
    "ExecuteTime": {
     "end_time": "2021-05-21T22:56:54.856333Z",
     "start_time": "2021-05-21T22:56:54.848402Z"
    }
   },
   "outputs": [],
   "source": [
    "# df.shape"
   ]
  },
  {
   "cell_type": "markdown",
   "metadata": {},
   "source": [
    "# Criação do arquivo .csv"
   ]
  },
  {
   "cell_type": "markdown",
   "metadata": {},
   "source": [
    "### Cenário 1: base completa"
   ]
  },
  {
   "cell_type": "markdown",
   "metadata": {},
   "source": [
    "Caso tenha se utilizado umas das duas funções - **get_polyglot_language**, por exemplo - use o seguinte trecho para gerar o arquivo .csv:"
   ]
  },
  {
   "cell_type": "code",
   "execution_count": 41,
   "metadata": {
    "ExecuteTime": {
     "end_time": "2021-05-21T22:56:54.865520Z",
     "start_time": "2021-05-21T22:56:54.857502Z"
    }
   },
   "outputs": [],
   "source": [
    "# index = df['polyglot_lang'] == 'Portuguese'\n",
    "# new_df = df[index]\n",
    "# new_df = new_df.drop('polyglot_lang', axis=1)"
   ]
  },
  {
   "cell_type": "code",
   "execution_count": 42,
   "metadata": {
    "ExecuteTime": {
     "end_time": "2021-05-21T22:56:54.874587Z",
     "start_time": "2021-05-21T22:56:54.866677Z"
    }
   },
   "outputs": [],
   "source": [
    "# new_df.to_csv('cenario1_8M2020_polyglot_tweets_pt.csv', index=False)"
   ]
  },
  {
   "cell_type": "markdown",
   "metadata": {},
   "source": [
    "Caso contrário:"
   ]
  },
  {
   "cell_type": "code",
   "execution_count": 43,
   "metadata": {
    "ExecuteTime": {
     "end_time": "2021-05-21T22:56:54.883702Z",
     "start_time": "2021-05-21T22:56:54.875718Z"
    }
   },
   "outputs": [],
   "source": [
    "# df = df.drop('polyglot_lang', axis=1)"
   ]
  },
  {
   "cell_type": "code",
   "execution_count": 44,
   "metadata": {
    "ExecuteTime": {
     "end_time": "2021-05-21T22:56:55.121822Z",
     "start_time": "2021-05-21T22:56:54.884810Z"
    }
   },
   "outputs": [],
   "source": [
    "df = df[df['clean_text'] != '']"
   ]
  },
  {
   "cell_type": "code",
   "execution_count": 45,
   "metadata": {
    "ExecuteTime": {
     "end_time": "2021-05-21T22:56:55.126230Z",
     "start_time": "2021-05-21T22:56:55.123105Z"
    }
   },
   "outputs": [
    {
     "data": {
      "text/plain": [
       "(274297, 14)"
      ]
     },
     "execution_count": 45,
     "metadata": {},
     "output_type": "execute_result"
    }
   ],
   "source": [
    "df.shape"
   ]
  },
  {
   "cell_type": "code",
   "execution_count": 46,
   "metadata": {
    "ExecuteTime": {
     "end_time": "2021-05-21T22:56:58.068116Z",
     "start_time": "2021-05-21T22:56:55.127380Z"
    }
   },
   "outputs": [],
   "source": [
    "df.to_csv('cenario1_8M2020_tweets_pt.csv', index=False)"
   ]
  },
  {
   "cell_type": "markdown",
   "metadata": {},
   "source": [
    "criação do arquivo .txt (somente com os textos dos tweets):"
   ]
  },
  {
   "cell_type": "code",
   "execution_count": 47,
   "metadata": {
    "ExecuteTime": {
     "end_time": "2021-05-21T22:56:58.071357Z",
     "start_time": "2021-05-21T22:56:58.069381Z"
    }
   },
   "outputs": [],
   "source": [
    "import numpy as np"
   ]
  },
  {
   "cell_type": "code",
   "execution_count": 48,
   "metadata": {
    "ExecuteTime": {
     "end_time": "2021-05-21T22:56:58.084189Z",
     "start_time": "2021-05-21T22:56:58.072523Z"
    }
   },
   "outputs": [],
   "source": [
    "tweets_text = np.array(df['clean_text'])"
   ]
  },
  {
   "cell_type": "code",
   "execution_count": 49,
   "metadata": {
    "ExecuteTime": {
     "end_time": "2021-05-21T22:56:58.520242Z",
     "start_time": "2021-05-21T22:56:58.085388Z"
    }
   },
   "outputs": [],
   "source": [
    "np.savetxt(fname='cenario1_8M2020_tweets_pt.txt', X=tweets_text, fmt='%s')"
   ]
  },
  {
   "cell_type": "markdown",
   "metadata": {},
   "source": [
    "## Cenário 2: tweets sem duplicatas"
   ]
  },
  {
   "cell_type": "code",
   "execution_count": 50,
   "metadata": {
    "ExecuteTime": {
     "end_time": "2021-05-21T22:56:58.649229Z",
     "start_time": "2021-05-21T22:56:58.521721Z"
    }
   },
   "outputs": [],
   "source": [
    "df.drop_duplicates(['clean_text'], inplace = True)"
   ]
  },
  {
   "cell_type": "code",
   "execution_count": 51,
   "metadata": {
    "ExecuteTime": {
     "end_time": "2021-05-21T22:56:58.653489Z",
     "start_time": "2021-05-21T22:56:58.650514Z"
    }
   },
   "outputs": [
    {
     "data": {
      "text/plain": [
       "(40336, 14)"
      ]
     },
     "execution_count": 51,
     "metadata": {},
     "output_type": "execute_result"
    }
   ],
   "source": [
    "df.shape"
   ]
  },
  {
   "cell_type": "code",
   "execution_count": 52,
   "metadata": {
    "ExecuteTime": {
     "end_time": "2021-05-21T22:56:59.079225Z",
     "start_time": "2021-05-21T22:56:58.654599Z"
    }
   },
   "outputs": [],
   "source": [
    "df.to_csv('cenario2_8M2020_tweets_pt.csv', index=False)"
   ]
  },
  {
   "cell_type": "code",
   "execution_count": 53,
   "metadata": {
    "ExecuteTime": {
     "end_time": "2021-05-21T22:56:59.086497Z",
     "start_time": "2021-05-21T22:56:59.080494Z"
    }
   },
   "outputs": [],
   "source": [
    "tweets_text = np.array(df['clean_text'])"
   ]
  },
  {
   "cell_type": "code",
   "execution_count": 54,
   "metadata": {
    "ExecuteTime": {
     "end_time": "2021-05-21T22:56:59.163558Z",
     "start_time": "2021-05-21T22:56:59.087711Z"
    }
   },
   "outputs": [],
   "source": [
    "np.savetxt(fname='cenario2_8M2020_tweets_pt.txt', X=tweets_text, fmt='%s')"
   ]
  },
  {
   "cell_type": "code",
   "execution_count": null,
   "metadata": {},
   "outputs": [],
   "source": []
  }
 ],
 "metadata": {
  "kernelspec": {
   "display_name": "Python 3",
   "language": "python",
   "name": "python3"
  },
  "language_info": {
   "codemirror_mode": {
    "name": "ipython",
    "version": 3
   },
   "file_extension": ".py",
   "mimetype": "text/x-python",
   "name": "python",
   "nbconvert_exporter": "python",
   "pygments_lexer": "ipython3",
   "version": "3.7.7"
  },
  "toc": {
   "base_numbering": 1,
   "nav_menu": {},
   "number_sections": false,
   "sideBar": true,
   "skip_h1_title": false,
   "title_cell": "Table of Contents",
   "title_sidebar": "Contents",
   "toc_cell": false,
   "toc_position": {
    "height": "calc(100% - 180px)",
    "left": "10px",
    "top": "150px",
    "width": "272px"
   },
   "toc_section_display": true,
   "toc_window_display": false
  }
 },
 "nbformat": 4,
 "nbformat_minor": 4
}
