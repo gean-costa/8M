{
 "cells": [
  {
   "cell_type": "markdown",
   "metadata": {},
   "source": [
    "## Importar bibliotecas"
   ]
  },
  {
   "cell_type": "code",
   "execution_count": 1,
   "metadata": {
    "ExecuteTime": {
     "end_time": "2021-05-15T19:07:24.989622Z",
     "start_time": "2021-05-15T19:07:24.815544Z"
    }
   },
   "outputs": [],
   "source": [
    "import json\n",
    "from pymongo import MongoClient"
   ]
  },
  {
   "cell_type": "markdown",
   "metadata": {},
   "source": [
    "## Configurar conexão com a base de dados"
   ]
  },
  {
   "cell_type": "code",
   "execution_count": 2,
   "metadata": {
    "ExecuteTime": {
     "end_time": "2021-05-15T19:07:24.994250Z",
     "start_time": "2021-05-15T19:07:24.991071Z"
    }
   },
   "outputs": [],
   "source": [
    "MONGO_HOST = 'mongodb://localhost:27017/'\n",
    "client = MongoClient(MONGO_HOST)"
   ]
  },
  {
   "cell_type": "markdown",
   "metadata": {},
   "source": [
    "#### Database e collection de origem"
   ]
  },
  {
   "cell_type": "code",
   "execution_count": 3,
   "metadata": {
    "ExecuteTime": {
     "end_time": "2021-05-15T19:07:25.051137Z",
     "start_time": "2021-05-15T19:07:24.995397Z"
    }
   },
   "outputs": [],
   "source": [
    "db = client['IWD2021']\n",
    "tweets_origem = db.tweets_server_updated"
   ]
  },
  {
   "cell_type": "markdown",
   "metadata": {},
   "source": [
    "#### Database e collection de destino\n",
    "P.S: se estes não existirem na base de dados, eles serão criados"
   ]
  },
  {
   "cell_type": "code",
   "execution_count": 4,
   "metadata": {
    "ExecuteTime": {
     "end_time": "2021-05-15T19:07:25.081786Z",
     "start_time": "2021-05-15T19:07:25.052580Z"
    }
   },
   "outputs": [],
   "source": [
    "db2 = client['IWD2021']\n",
    "tweets_destino = db2.tweets_pt"
   ]
  },
  {
   "cell_type": "markdown",
   "metadata": {},
   "source": [
    "## Pipeline"
   ]
  },
  {
   "cell_type": "code",
   "execution_count": 5,
   "metadata": {
    "ExecuteTime": {
     "end_time": "2021-05-15T19:07:25.098297Z",
     "start_time": "2021-05-15T19:07:25.082975Z"
    }
   },
   "outputs": [],
   "source": [
    "pipeline2 = [\n",
    "    {\n",
    "        '$match': {\n",
    "            'lang': 'pt'\n",
    "        }\n",
    "    }, {\n",
    "        '$skip': 0\n",
    "    }, {\n",
    "        '$limit': 100000\n",
    "    }\n",
    "]"
   ]
  },
  {
   "cell_type": "markdown",
   "metadata": {
    "ExecuteTime": {
     "end_time": "2020-08-31T00:20:03.979072Z",
     "start_time": "2020-08-31T00:20:03.976507Z"
    }
   },
   "source": [
    "## Selecionar os dados e inseri-los na nova database e/ou collection"
   ]
  },
  {
   "cell_type": "code",
   "execution_count": 6,
   "metadata": {
    "ExecuteTime": {
     "end_time": "2021-05-15T19:10:11.353385Z",
     "start_time": "2021-05-15T19:07:25.099489Z"
    }
   },
   "outputs": [
    {
     "name": "stdout",
     "output_type": "stream",
     "text": [
      "100000 documentos selecionados\n",
      "100000 documentos inseridos\n",
      "24444 documentos selecionados\n",
      "24444 documentos inseridos\n"
     ]
    }
   ],
   "source": [
    "data = list(tweets_origem.aggregate(pipeline2, allowDiskUse=True))\n",
    "\n",
    "while len(data) > 0:\n",
    "    print(f'{len(data)} documentos selecionados')\n",
    "    tweets_destino.insert_many(data) \n",
    "    print(f'{len(data)} documentos inseridos')\n",
    "    pipeline2[1]['$skip'] += 100000\n",
    "    data = list(tweets_origem.aggregate(pipeline2, allowDiskUse=True))"
   ]
  },
  {
   "cell_type": "code",
   "execution_count": null,
   "metadata": {},
   "outputs": [],
   "source": []
  }
 ],
 "metadata": {
  "@webio": {
   "lastCommId": null,
   "lastKernelId": null
  },
  "kernelspec": {
   "display_name": "Python 3",
   "language": "python",
   "name": "python3"
  },
  "language_info": {
   "codemirror_mode": {
    "name": "ipython",
    "version": 3
   },
   "file_extension": ".py",
   "mimetype": "text/x-python",
   "name": "python",
   "nbconvert_exporter": "python",
   "pygments_lexer": "ipython3",
   "version": "3.7.7"
  },
  "toc": {
   "base_numbering": 1,
   "nav_menu": {},
   "number_sections": false,
   "sideBar": true,
   "skip_h1_title": false,
   "title_cell": "Table of Contents",
   "title_sidebar": "Contents",
   "toc_cell": false,
   "toc_position": {},
   "toc_section_display": true,
   "toc_window_display": false
  }
 },
 "nbformat": 4,
 "nbformat_minor": 2
}
