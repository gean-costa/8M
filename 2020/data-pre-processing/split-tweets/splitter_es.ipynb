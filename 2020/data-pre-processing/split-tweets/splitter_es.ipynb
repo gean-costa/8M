{
 "cells": [
  {
   "cell_type": "code",
   "execution_count": 1,
   "metadata": {
    "ExecuteTime": {
     "end_time": "2020-09-28T15:01:31.957565Z",
     "start_time": "2020-09-28T15:01:31.952108Z"
    }
   },
   "outputs": [],
   "source": [
    "from tqdm import trange"
   ]
  },
  {
   "cell_type": "code",
   "execution_count": 2,
   "metadata": {
    "ExecuteTime": {
     "end_time": "2020-09-28T15:01:32.029634Z",
     "start_time": "2020-09-28T15:01:31.958883Z"
    }
   },
   "outputs": [],
   "source": [
    "with open(\"cenario2_8M2020_tweets_es.txt\", \"r\") as file:\n",
    "    tweets = file.readlines()"
   ]
  },
  {
   "cell_type": "code",
   "execution_count": 3,
   "metadata": {
    "ExecuteTime": {
     "end_time": "2020-09-28T15:01:32.038942Z",
     "start_time": "2020-09-28T15:01:32.031293Z"
    }
   },
   "outputs": [
    {
     "data": {
      "text/plain": [
       "289820"
      ]
     },
     "execution_count": 3,
     "metadata": {},
     "output_type": "execute_result"
    }
   ],
   "source": [
    "len(tweets)"
   ]
  },
  {
   "cell_type": "code",
   "execution_count": 4,
   "metadata": {
    "ExecuteTime": {
     "end_time": "2020-09-28T15:01:32.047908Z",
     "start_time": "2020-09-28T15:01:32.040285Z"
    }
   },
   "outputs": [],
   "source": [
    "steps = len(tweets) // 1000"
   ]
  },
  {
   "cell_type": "code",
   "execution_count": 5,
   "metadata": {
    "ExecuteTime": {
     "end_time": "2020-09-28T15:01:32.059249Z",
     "start_time": "2020-09-28T15:01:32.049071Z"
    }
   },
   "outputs": [],
   "source": [
    "start = 0\n",
    "end = 1000"
   ]
  },
  {
   "cell_type": "code",
   "execution_count": 6,
   "metadata": {
    "ExecuteTime": {
     "end_time": "2020-09-28T15:01:32.225312Z",
     "start_time": "2020-09-28T15:01:32.060925Z"
    }
   },
   "outputs": [
    {
     "name": "stderr",
     "output_type": "stream",
     "text": [
      "100%|██████████| 289/289 [00:00<00:00, 1985.34it/s]\n"
     ]
    }
   ],
   "source": [
    "for i in trange(steps):\n",
    "    with open(f\"splitted_es/cenario1_tweets_es_{i+1}.txt\", \"w\") as file:\n",
    "        file.writelines(tweets[start:end])\n",
    "    start = end\n",
    "    end += 1000"
   ]
  },
  {
   "cell_type": "code",
   "execution_count": 7,
   "metadata": {
    "ExecuteTime": {
     "end_time": "2020-09-28T15:01:32.233486Z",
     "start_time": "2020-09-28T15:01:32.227230Z"
    }
   },
   "outputs": [],
   "source": [
    "with open(f\"splitted_es/cenario1_tweets_es_{steps+1}.txt\", \"w\") as file:\n",
    "        file.writelines(tweets[start:])"
   ]
  },
  {
   "cell_type": "code",
   "execution_count": null,
   "metadata": {},
   "outputs": [],
   "source": []
  }
 ],
 "metadata": {
  "kernelspec": {
   "display_name": "Python 3",
   "language": "python",
   "name": "python3"
  },
  "language_info": {
   "codemirror_mode": {
    "name": "ipython",
    "version": 3
   },
   "file_extension": ".py",
   "mimetype": "text/x-python",
   "name": "python",
   "nbconvert_exporter": "python",
   "pygments_lexer": "ipython3",
   "version": "3.7.7"
  },
  "toc": {
   "base_numbering": 1,
   "nav_menu": {},
   "number_sections": true,
   "sideBar": true,
   "skip_h1_title": false,
   "title_cell": "Table of Contents",
   "title_sidebar": "Contents",
   "toc_cell": false,
   "toc_position": {},
   "toc_section_display": true,
   "toc_window_display": false
  }
 },
 "nbformat": 4,
 "nbformat_minor": 4
}
