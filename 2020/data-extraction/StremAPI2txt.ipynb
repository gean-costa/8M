{
 "cells": [
  {
   "cell_type": "code",
   "execution_count": null,
   "metadata": {},
   "outputs": [],
   "source": [
    "from __future__ import print_function\n",
    "import tweepy\n",
    "import json\n",
    "# from pymongo import MongoClient\n",
    "from bson.objectid import ObjectId\n",
    "import pprint"
   ]
  },
  {
   "cell_type": "code",
   "execution_count": null,
   "metadata": {},
   "outputs": [],
   "source": [
    "CONSUMER_KEY = ''\n",
    "CONSUMER_SECRET = ''\n",
    "ACCESS_TOKEN = ''\n",
    "ACCESS_TOKEN_SECRET = ''\n",
    "\n",
    "# FPP_KEY = ''\n",
    "# FPP_SECRET = ''\n",
    "\n",
    "# MONGO_HOST = 'mongodb://localhost:27017/'"
   ]
  },
  {
   "cell_type": "code",
   "execution_count": null,
   "metadata": {},
   "outputs": [],
   "source": [
    "class StreamListener(tweepy.StreamListener):\n",
    "\n",
    "    def on_connect(self):\n",
    "        # ao conectar\n",
    "        print(\"Conectado a streaming API.\")\n",
    "\n",
    "    def on_error(self, status_code):\n",
    "\n",
    "        print('Erro: ' + repr(status_code))\n",
    "        return False\n",
    "\n",
    "    def on_data(self, data):\n",
    "\n",
    "        try:\n",
    "            # especificando o caminho do servidor\n",
    "            # client = MongoClient(MONGO_HOST)\n",
    "\n",
    "            # explicitando o banco\n",
    "            # db = client.ProvaDoAnjo\n",
    "\n",
    "           # carregando os dados recebidos e transformando em json\n",
    "            datajson = json.loads(data)\n",
    "\n",
    "            #created_at = datajson['created_at']\n",
    "            #print(\"Tweet collected at \" + str(created_at))\n",
    "            # print(datajson['text'])\n",
    "\n",
    "            # informando qual a collection a inserir o documento\n",
    "            # nesse caso se não houver uma colection com o respectivo nome, ela será criada\n",
    "            # armazenando nna collection 'streamingAPI'\n",
    "            # db.tweets.insert_one(datajson)\n",
    "            with open('8M2020.tweets.txt', 'a') as b:\n",
    "                json.dump(datajson, b)\n",
    "\n",
    "        except Exception as e:\n",
    "            print(e)"
   ]
  },
  {
   "cell_type": "code",
   "execution_count": null,
   "metadata": {},
   "outputs": [],
   "source": [
    "# fazendo a autenticação OAuth\n",
    "auth = tweepy.OAuthHandler(CONSUMER_KEY, CONSUMER_SECRET)\n",
    "auth.set_access_token(ACCESS_TOKEN, ACCESS_TOKEN_SECRET)"
   ]
  },
  {
   "cell_type": "code",
   "execution_count": null,
   "metadata": {},
   "outputs": [],
   "source": [
    "# instanciando a classe que foi criada para gerenciar a conexão\n",
    "listener = StreamListener(api=tweepy.API(wait_on_rate_limit=True))"
   ]
  },
  {
   "cell_type": "code",
   "execution_count": null,
   "metadata": {},
   "outputs": [],
   "source": [
    "# criando stream\n",
    "streamer = tweepy.Stream(auth=auth, listener=listener)"
   ]
  },
  {
   "cell_type": "code",
   "execution_count": null,
   "metadata": {},
   "outputs": [],
   "source": [
    "# print('rastreando por coordenadas')\n",
    "# streamer.filter(locations=[SWlongitude, SWLatitude, NElongitude, NELatitude])\n",
    "# streamer.filter(locations=[-55.041526, -2.729070, -54.455144, -2.361513])"
   ]
  },
  {
   "cell_type": "code",
   "execution_count": null,
   "metadata": {},
   "outputs": [],
   "source": [
    "print('rastreando por palavra chave')\n",
    "# WORDS = ['#bigdata', '#AI', '#datascience', '#machinelearning', '#ml', '#iot']\n",
    "WORDS = [\n",
    "    '8M',\n",
    "    '8M2020',\n",
    "    '8deMarco'\n",
    "    'DiaInternacionalDaMulher',\n",
    "    'DiaDaMulher',\n",
    "    'MulheresNaHistória',\n",
    "    'MaisJuntasQueNunca',\n",
    "    'ElaMeInspira',\n",
    "    'HuelgaFeminista2020',\n",
    "    'DiaDeLaMujer',\n",
    "    'DiaInternacionalDeLaMujer',\n",
    "    'FelizDiaDeLaMujer',\n",
    "    '8marzo',\n",
    "    'InternationalWomensDay',\n",
    "    'WomensDay',\n",
    "    'HappyWomensDay2020',\n",
    "    'IWD',\n",
    "    'IWD2020',\n",
    "    'IWDay2020',\n",
    "    'Dia Internacional da Mulher',\n",
    "    'International Womens Day',\n",
    "    'Dia Internacional de la Mujer'\n",
    "]"
   ]
  },
  {
   "cell_type": "code",
   "execution_count": null,
   "metadata": {},
   "outputs": [],
   "source": [
    "# iniciando o stream\n",
    "streamer.filter(track=WORDS)"
   ]
  }
 ],
 "metadata": {
  "@webio": {
   "lastCommId": null,
   "lastKernelId": null
  },
  "kernelspec": {
   "display_name": "Python 3",
   "language": "python",
   "name": "python3"
  },
  "language_info": {
   "codemirror_mode": {
    "name": "ipython",
    "version": 3
   },
   "file_extension": ".py",
   "mimetype": "text/x-python",
   "name": "python",
   "nbconvert_exporter": "python",
   "pygments_lexer": "ipython3",
   "version": "3.7.7"
  },
  "toc": {
   "base_numbering": 1,
   "nav_menu": {},
   "number_sections": true,
   "sideBar": true,
   "skip_h1_title": false,
   "title_cell": "Table of Contents",
   "title_sidebar": "Contents",
   "toc_cell": false,
   "toc_position": {},
   "toc_section_display": true,
   "toc_window_display": false
  }
 },
 "nbformat": 4,
 "nbformat_minor": 2
}
