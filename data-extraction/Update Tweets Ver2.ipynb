{
 "cells": [
  {
   "cell_type": "code",
   "execution_count": null,
   "metadata": {},
   "outputs": [],
   "source": [
    "import tweepy\n",
    "import json\n",
    "from pymongo import MongoClient\n",
    "from bson.objectid import ObjectId\n",
    "from bson.json_util import dumps\n",
    "import time\n",
    "import math"
   ]
  },
  {
   "cell_type": "code",
   "execution_count": null,
   "metadata": {},
   "outputs": [],
   "source": [
    "CONSUMER_KEY = ''\n",
    "CONSUMER_SECRET = ''\n",
    "ACCESS_TOKEN = ''\n",
    "ACCESS_TOKEN_SECRET = ''"
   ]
  },
  {
   "cell_type": "code",
   "execution_count": null,
   "metadata": {},
   "outputs": [],
   "source": [
    "auth = tweepy.OAuthHandler(CONSUMER_KEY, CONSUMER_SECRET)\n",
    "auth.set_access_token(ACCESS_TOKEN, ACCESS_TOKEN_SECRET)\n",
    "api = tweepy.API(auth, wait_on_rate_limit=True, wait_on_rate_limit_notify=True)"
   ]
  },
  {
   "cell_type": "code",
   "execution_count": null,
   "metadata": {},
   "outputs": [],
   "source": [
    "MONGO_HOST = 'mongodb://localhost:27017/'\n",
    "\n",
    "client = MongoClient(MONGO_HOST)\n",
    "\n",
    "db = client['8M2020_sample']\n",
    "\n",
    "collection = db.tweets_sample\n",
    "\n",
    "collection2 = db.tweets_sample_updated"
   ]
  },
  {
   "cell_type": "code",
   "execution_count": null,
   "metadata": {},
   "outputs": [],
   "source": [
    "num_docs = collection.count_documents({})\n",
    "num_limit = 1000\n",
    "num_skip = 900\n",
    "# num_docs"
   ]
  },
  {
   "cell_type": "code",
   "execution_count": null,
   "metadata": {},
   "outputs": [],
   "source": [
    "num_page = 0\n",
    "pages = math.ceil(num_docs/num_limit)\n",
    "# pages"
   ]
  },
  {
   "cell_type": "code",
   "execution_count": null,
   "metadata": {},
   "outputs": [],
   "source": [
    "print('Atualização de tweets iniciada')\n",
    "print(f'{time.asctime(time.localtime(time.time()))}')\n",
    "\n",
    "while num_page < pages:\n",
    "    print(f'\\nBloco {num_page + 1}/{pages}')\n",
    "\n",
    "    docs = []\n",
    "    tweets_ids = []\n",
    "\n",
    "    docs = list(collection.find({}, {'id': True}\n",
    "                                ).limit(num_limit).skip(num_skip))\n",
    "    tweets_ids = [doc['id'] for doc in docs]\n",
    "\n",
    "    print(f'Extraindo {len(tweets_ids)} tweets para atualização\\n')\n",
    "\n",
    "    data_to_update = {}\n",
    "    data = []\n",
    "    key = 0\n",
    "\n",
    "    for tweet_id in tweets_ids:\n",
    "        data.append(tweet_id)\n",
    "        data_to_update[key] = data\n",
    "        if(len(data) == 100):\n",
    "            key = key + 1\n",
    "            data = []\n",
    "\n",
    "    for d in data_to_update.keys():\n",
    "        updated_tweets = []\n",
    "        tweets = []\n",
    "\n",
    "        updated_tweets = api.statuses_lookup(\n",
    "            data_to_update[d], tweet_mode='extended')\n",
    "        tweets = [ut._json for ut in updated_tweets]\n",
    "        collection2.insert_many(tweets)\n",
    "\n",
    "        num_skip = num_skip + len(data_to_update[d])\n",
    "\n",
    "        print(\n",
    "            f'{len(data_to_update[d])} tweets enviados | {len(tweets)} atualizados | Total enviado: {num_skip}/{num_docs} | {(num_skip*100)/num_docs:.2f}%')\n",
    "\n",
    "    num_page = num_page + 1\n",
    "\n",
    "print('Atualização de tweets finalizada')\n",
    "print(time.asctime(time.localtime(time.time())))"
   ]
  },
  {
   "cell_type": "code",
   "execution_count": null,
   "metadata": {},
   "outputs": [],
   "source": [
    "# collection2.drop()"
   ]
  }
 ],
 "metadata": {
  "@webio": {
   "lastCommId": null,
   "lastKernelId": null
  },
  "kernelspec": {
   "display_name": "Python 3",
   "language": "python",
   "name": "python3"
  },
  "language_info": {
   "codemirror_mode": {
    "name": "ipython",
    "version": 3
   },
   "file_extension": ".py",
   "mimetype": "text/x-python",
   "name": "python",
   "nbconvert_exporter": "python",
   "pygments_lexer": "ipython3",
   "version": "3.7.7"
  },
  "toc": {
   "base_numbering": 1,
   "nav_menu": {},
   "number_sections": true,
   "sideBar": true,
   "skip_h1_title": false,
   "title_cell": "Table of Contents",
   "title_sidebar": "Contents",
   "toc_cell": false,
   "toc_position": {},
   "toc_section_display": true,
   "toc_window_display": false
  }
 },
 "nbformat": 4,
 "nbformat_minor": 2
}
