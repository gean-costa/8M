{
 "cells": [
  {
   "cell_type": "code",
   "execution_count": 1,
   "metadata": {
    "ExecuteTime": {
     "end_time": "2021-02-26T14:26:11.932574Z",
     "start_time": "2021-02-26T14:26:11.693923Z"
    }
   },
   "outputs": [],
   "source": [
    "import pandas as pd "
   ]
  },
  {
   "cell_type": "code",
   "execution_count": 2,
   "metadata": {
    "ExecuteTime": {
     "end_time": "2021-02-26T14:26:30.437849Z",
     "start_time": "2021-02-26T14:26:11.934105Z"
    }
   },
   "outputs": [],
   "source": [
    "df = pd.read_parquet('likes.parquet.gzip', columns=['author', 'tweet_text', 'num_likes'])"
   ]
  },
  {
   "cell_type": "code",
   "execution_count": 3,
   "metadata": {
    "ExecuteTime": {
     "end_time": "2021-02-26T14:26:30.456030Z",
     "start_time": "2021-02-26T14:26:30.439323Z"
    }
   },
   "outputs": [
    {
     "data": {
      "text/html": [
       "<div>\n",
       "<style scoped>\n",
       "    .dataframe tbody tr th:only-of-type {\n",
       "        vertical-align: middle;\n",
       "    }\n",
       "\n",
       "    .dataframe tbody tr th {\n",
       "        vertical-align: top;\n",
       "    }\n",
       "\n",
       "    .dataframe thead th {\n",
       "        text-align: right;\n",
       "    }\n",
       "</style>\n",
       "<table border=\"1\" class=\"dataframe\">\n",
       "  <thead>\n",
       "    <tr style=\"text-align: right;\">\n",
       "      <th></th>\n",
       "      <th>author</th>\n",
       "      <th>tweet_text</th>\n",
       "      <th>num_likes</th>\n",
       "    </tr>\n",
       "  </thead>\n",
       "  <tbody>\n",
       "    <tr>\n",
       "      <th>1649436</th>\n",
       "      <td>EspirituJoto</td>\n",
       "      <td>#InternationalWomensDay https://t.co/MgT8Df2IAV</td>\n",
       "      <td>294578</td>\n",
       "    </tr>\n",
       "    <tr>\n",
       "      <th>921552</th>\n",
       "      <td>GretaThunberg</td>\n",
       "      <td>Today is #InternationalWomensDay and we recognise that women are still far from equal to men in today’s societies.\\nWe can not have climate justice without gender equity.\\n\\nAnd remember; what we women want today - and every day- is equality, not congratulations or celebrations. https://t.co/g1CuEN6YLX</td>\n",
       "      <td>209521</td>\n",
       "    </tr>\n",
       "    <tr>\n",
       "      <th>201690</th>\n",
       "      <td>mel_bertelli</td>\n",
       "      <td>\"8 de março de 1857, morreram aproximadamente 130 mulheres carbonizadas quando foram trancadas na fábrica de tecelagem, em Nova York, onde trabalhavam, por estarem em greve. Em homenagem a essas mulheres, em 1910, declarou-se o dia 8 de março como o \"Dia Internacional da Mulher\". https://t.co/VyABZO6WrU</td>\n",
       "      <td>93291</td>\n",
       "    </tr>\n",
       "    <tr>\n",
       "      <th>855097</th>\n",
       "      <td>vodkajdr</td>\n",
       "      <td>las tías el 8M: hermanas unidas nunca seremos vencidas os quiero jajaja sororidad🥰🥰🥰🥰🥰\\n\\nel resto del año : jajaja a k me follo a tu novio fea</td>\n",
       "      <td>93191</td>\n",
       "    </tr>\n",
       "    <tr>\n",
       "      <th>5141087</th>\n",
       "      <td>lenaslebrero</td>\n",
       "      <td>El día internacional del hombre es el 19 de Noviembre, si no se manifiestan es porque consideran que no tienen nada que reivindicar. Ya me gustaría a mi no tener que salir a la calle a gritar que quiero llegar viva a mi casa, Carmen. Aquí no se celebra nada. https://t.co/68cMTqdZgf</td>\n",
       "      <td>82886</td>\n",
       "    </tr>\n",
       "    <tr>\n",
       "      <th>2195778</th>\n",
       "      <td>RealCandaceO</td>\n",
       "      <td>I do not respect you. \\nNo one should vote to re-elect you. \\n\\nAnd I’m a black woman so please respect, believe and elect my position. https://t.co/5DmNB9mwQE</td>\n",
       "      <td>81813</td>\n",
       "    </tr>\n",
       "    <tr>\n",
       "      <th>784780</th>\n",
       "      <td>FiersaBesari</td>\n",
       "      <td>Berpendidikan tanpa perlu takut dengan “Cowok enggak suka cewek yang terlalu pintar”. Berdandan tanpa perlu peduli dengan “Aku suka wajahmu apa adanya”. Kejar mimpi tanpa perlu galau dengan “Kamu pilih mimpimu atau aku”. Kamu hebat dengan perjuanganmu\\n.\\n#HappyWomensDay2020</td>\n",
       "      <td>80047</td>\n",
       "    </tr>\n",
       "    <tr>\n",
       "      <th>924312</th>\n",
       "      <td>mimimimovie</td>\n",
       "      <td>#国際女性デー #InternationalWomensDay\\n\\n140人以上の女子体操選手を性的に虐待した男が無罪を主張する答弁書を提出した際、その一部を読み上げてから投げ捨てた判事がいました。彼女の言葉についてまた考えたいと思い、翻訳してみました。 https://t.co/FIJM17St6Q</td>\n",
       "      <td>61433</td>\n",
       "    </tr>\n",
       "    <tr>\n",
       "      <th>4562395</th>\n",
       "      <td>greysftanatxmy</td>\n",
       "      <td>\"No odio a los niños. Los respeto. Creo que deben tener padres que deseen tenerlos.\" - Cristina Yang #8M\\n https://t.co/zrshM8DX1u</td>\n",
       "      <td>56903</td>\n",
       "    </tr>\n",
       "    <tr>\n",
       "      <th>3005474</th>\n",
       "      <td>harryftgrethel</td>\n",
       "      <td>Cristina Yang no tuvo hijos porque no quería ser madre\\nCristina Yang tuvo un aborto espontáneo y luego otro que no lo fue\\nCristina Yang no iba a traer hijos al mundo sólo porque su pareja quería\\nSé como Cristina Yang https://t.co/hzK5ll6DR5</td>\n",
       "      <td>53756</td>\n",
       "    </tr>\n",
       "  </tbody>\n",
       "</table>\n",
       "</div>"
      ],
      "text/plain": [
       "                 author  \\\n",
       "1649436    EspirituJoto   \n",
       "921552    GretaThunberg   \n",
       "201690     mel_bertelli   \n",
       "855097         vodkajdr   \n",
       "5141087    lenaslebrero   \n",
       "2195778    RealCandaceO   \n",
       "784780     FiersaBesari   \n",
       "924312      mimimimovie   \n",
       "4562395  greysftanatxmy   \n",
       "3005474  harryftgrethel   \n",
       "\n",
       "                                                                                                                                                                                                                                                                                                               tweet_text  \\\n",
       "1649436                                                                                                                                                                                                                                                                   #InternationalWomensDay https://t.co/MgT8Df2IAV   \n",
       "921552    Today is #InternationalWomensDay and we recognise that women are still far from equal to men in today’s societies.\\nWe can not have climate justice without gender equity.\\n\\nAnd remember; what we women want today - and every day- is equality, not congratulations or celebrations. https://t.co/g1CuEN6YLX   \n",
       "201690   \"8 de março de 1857, morreram aproximadamente 130 mulheres carbonizadas quando foram trancadas na fábrica de tecelagem, em Nova York, onde trabalhavam, por estarem em greve. Em homenagem a essas mulheres, em 1910, declarou-se o dia 8 de março como o \"Dia Internacional da Mulher\". https://t.co/VyABZO6WrU   \n",
       "855097                                                                                                                                                                    las tías el 8M: hermanas unidas nunca seremos vencidas os quiero jajaja sororidad🥰🥰🥰🥰🥰\\n\\nel resto del año : jajaja a k me follo a tu novio fea   \n",
       "5141087                        El día internacional del hombre es el 19 de Noviembre, si no se manifiestan es porque consideran que no tienen nada que reivindicar. Ya me gustaría a mi no tener que salir a la calle a gritar que quiero llegar viva a mi casa, Carmen. Aquí no se celebra nada. https://t.co/68cMTqdZgf   \n",
       "2195778                                                                                                                                                   I do not respect you. \\nNo one should vote to re-elect you. \\n\\nAnd I’m a black woman so please respect, believe and elect my position. https://t.co/5DmNB9mwQE   \n",
       "784780                                Berpendidikan tanpa perlu takut dengan “Cowok enggak suka cewek yang terlalu pintar”. Berdandan tanpa perlu peduli dengan “Aku suka wajahmu apa adanya”. Kejar mimpi tanpa perlu galau dengan “Kamu pilih mimpimu atau aku”. Kamu hebat dengan perjuanganmu\\n.\\n#HappyWomensDay2020   \n",
       "924312                                                                                                                                                           #国際女性デー #InternationalWomensDay\\n\\n140人以上の女子体操選手を性的に虐待した男が無罪を主張する答弁書を提出した際、その一部を読み上げてから投げ捨てた判事がいました。彼女の言葉についてまた考えたいと思い、翻訳してみました。 https://t.co/FIJM17St6Q   \n",
       "4562395                                                                                                                                                                                \"No odio a los niños. Los respeto. Creo que deben tener padres que deseen tenerlos.\" - Cristina Yang #8M\\n https://t.co/zrshM8DX1u   \n",
       "3005474                                                               Cristina Yang no tuvo hijos porque no quería ser madre\\nCristina Yang tuvo un aborto espontáneo y luego otro que no lo fue\\nCristina Yang no iba a traer hijos al mundo sólo porque su pareja quería\\nSé como Cristina Yang https://t.co/hzK5ll6DR5   \n",
       "\n",
       "         num_likes  \n",
       "1649436     294578  \n",
       "921552      209521  \n",
       "201690       93291  \n",
       "855097       93191  \n",
       "5141087      82886  \n",
       "2195778      81813  \n",
       "784780       80047  \n",
       "924312       61433  \n",
       "4562395      56903  \n",
       "3005474      53756  "
      ]
     },
     "execution_count": 3,
     "metadata": {},
     "output_type": "execute_result"
    }
   ],
   "source": [
    "pd.set_option('display.max_colwidth', None)\n",
    "\n",
    "df.head(10)"
   ]
  },
  {
   "cell_type": "code",
   "execution_count": 4,
   "metadata": {
    "ExecuteTime": {
     "end_time": "2021-02-26T14:26:43.776681Z",
     "start_time": "2021-02-26T14:26:30.458034Z"
    }
   },
   "outputs": [],
   "source": [
    "df2 = pd.read_parquet('retweets.parquet.gzip', columns=[\n",
    "                     'author', 'tweet_text', 'num_retweets', 'retweeted_status_id'])"
   ]
  },
  {
   "cell_type": "code",
   "execution_count": 5,
   "metadata": {
    "ExecuteTime": {
     "end_time": "2021-02-26T14:26:44.337499Z",
     "start_time": "2021-02-26T14:26:43.777976Z"
    }
   },
   "outputs": [],
   "source": [
    "df2 = df2[df2['retweeted_status_id'].isnull()].iloc[0:10]"
   ]
  },
  {
   "cell_type": "code",
   "execution_count": 7,
   "metadata": {
    "ExecuteTime": {
     "end_time": "2021-02-26T14:29:52.775588Z",
     "start_time": "2021-02-26T14:29:52.766119Z"
    }
   },
   "outputs": [
    {
     "data": {
      "text/html": [
       "<div>\n",
       "<style scoped>\n",
       "    .dataframe tbody tr th:only-of-type {\n",
       "        vertical-align: middle;\n",
       "    }\n",
       "\n",
       "    .dataframe tbody tr th {\n",
       "        vertical-align: top;\n",
       "    }\n",
       "\n",
       "    .dataframe thead th {\n",
       "        text-align: right;\n",
       "    }\n",
       "</style>\n",
       "<table border=\"1\" class=\"dataframe\">\n",
       "  <thead>\n",
       "    <tr style=\"text-align: right;\">\n",
       "      <th></th>\n",
       "      <th>author</th>\n",
       "      <th>tweet_text</th>\n",
       "      <th>num_retweets</th>\n",
       "    </tr>\n",
       "  </thead>\n",
       "  <tbody>\n",
       "    <tr>\n",
       "      <th>1649436</th>\n",
       "      <td>EspirituJoto</td>\n",
       "      <td>#InternationalWomensDay https://t.co/MgT8Df2IAV</td>\n",
       "      <td>95573</td>\n",
       "    </tr>\n",
       "    <tr>\n",
       "      <th>201690</th>\n",
       "      <td>mel_bertelli</td>\n",
       "      <td>\"8 de março de 1857, morreram aproximadamente 130 mulheres carbonizadas quando foram trancadas na fábrica de tecelagem, em Nova York, onde trabalhavam, por estarem em greve. Em homenagem a essas mulheres, em 1910, declarou-se o dia 8 de março como o \"Dia Internacional da Mulher\". https://t.co/VyABZO6WrU</td>\n",
       "      <td>41506</td>\n",
       "    </tr>\n",
       "    <tr>\n",
       "      <th>784780</th>\n",
       "      <td>FiersaBesari</td>\n",
       "      <td>Berpendidikan tanpa perlu takut dengan “Cowok enggak suka cewek yang terlalu pintar”. Berdandan tanpa perlu peduli dengan “Aku suka wajahmu apa adanya”. Kejar mimpi tanpa perlu galau dengan “Kamu pilih mimpimu atau aku”. Kamu hebat dengan perjuanganmu\\n.\\n#HappyWomensDay2020</td>\n",
       "      <td>39334</td>\n",
       "    </tr>\n",
       "    <tr>\n",
       "      <th>921552</th>\n",
       "      <td>GretaThunberg</td>\n",
       "      <td>Today is #InternationalWomensDay and we recognise that women are still far from equal to men in today’s societies.\\nWe can not have climate justice without gender equity.\\n\\nAnd remember; what we women want today - and every day- is equality, not congratulations or celebrations. https://t.co/g1CuEN6YLX</td>\n",
       "      <td>37119</td>\n",
       "    </tr>\n",
       "    <tr>\n",
       "      <th>225561</th>\n",
       "      <td>Valenperez_3</td>\n",
       "      <td>Feliz será el día que no falte ninguna #8M https://t.co/BnVM4Bd95p</td>\n",
       "      <td>32832</td>\n",
       "    </tr>\n",
       "    <tr>\n",
       "      <th>4112456</th>\n",
       "      <td>Lesbian4Palvin</td>\n",
       "      <td>8 de marzo de 1908\\n\\n129 trabajadoras fueron quemadas vivas por hacer huelga y lograr los derechos que ahora gozamos.\\n\\nNo hay festejo; conmemoración, respeto y valía.\\n\\n#8M2020 \\n#DiaInternacionalDeLaMujer  \\n#InternationalWomensDay https://t.co/DnFLS9ZCpe</td>\n",
       "      <td>28953</td>\n",
       "    </tr>\n",
       "    <tr>\n",
       "      <th>233502</th>\n",
       "      <td>Nonatenho</td>\n",
       "      <td>dia internacional da mulher, não pode faltar https://t.co/MRYwQyhx14</td>\n",
       "      <td>28028</td>\n",
       "    </tr>\n",
       "    <tr>\n",
       "      <th>5141087</th>\n",
       "      <td>lenaslebrero</td>\n",
       "      <td>El día internacional del hombre es el 19 de Noviembre, si no se manifiestan es porque consideran que no tienen nada que reivindicar. Ya me gustaría a mi no tener que salir a la calle a gritar que quiero llegar viva a mi casa, Carmen. Aquí no se celebra nada. https://t.co/68cMTqdZgf</td>\n",
       "      <td>27418</td>\n",
       "    </tr>\n",
       "    <tr>\n",
       "      <th>1074020</th>\n",
       "      <td>Guadalu54168286</td>\n",
       "      <td>No quiero flores, quiero poder caminar por la calle tranquila.\\n#DiaInternacionalDeLaMujer https://t.co/zj1NczVmI3</td>\n",
       "      <td>23894</td>\n",
       "    </tr>\n",
       "    <tr>\n",
       "      <th>855097</th>\n",
       "      <td>vodkajdr</td>\n",
       "      <td>las tías el 8M: hermanas unidas nunca seremos vencidas os quiero jajaja sororidad🥰🥰🥰🥰🥰\\n\\nel resto del año : jajaja a k me follo a tu novio fea</td>\n",
       "      <td>20202</td>\n",
       "    </tr>\n",
       "  </tbody>\n",
       "</table>\n",
       "</div>"
      ],
      "text/plain": [
       "                  author  \\\n",
       "1649436     EspirituJoto   \n",
       "201690      mel_bertelli   \n",
       "784780      FiersaBesari   \n",
       "921552     GretaThunberg   \n",
       "225561      Valenperez_3   \n",
       "4112456   Lesbian4Palvin   \n",
       "233502         Nonatenho   \n",
       "5141087     lenaslebrero   \n",
       "1074020  Guadalu54168286   \n",
       "855097          vodkajdr   \n",
       "\n",
       "                                                                                                                                                                                                                                                                                                               tweet_text  \\\n",
       "1649436                                                                                                                                                                                                                                                                   #InternationalWomensDay https://t.co/MgT8Df2IAV   \n",
       "201690   \"8 de março de 1857, morreram aproximadamente 130 mulheres carbonizadas quando foram trancadas na fábrica de tecelagem, em Nova York, onde trabalhavam, por estarem em greve. Em homenagem a essas mulheres, em 1910, declarou-se o dia 8 de março como o \"Dia Internacional da Mulher\". https://t.co/VyABZO6WrU   \n",
       "784780                                Berpendidikan tanpa perlu takut dengan “Cowok enggak suka cewek yang terlalu pintar”. Berdandan tanpa perlu peduli dengan “Aku suka wajahmu apa adanya”. Kejar mimpi tanpa perlu galau dengan “Kamu pilih mimpimu atau aku”. Kamu hebat dengan perjuanganmu\\n.\\n#HappyWomensDay2020   \n",
       "921552    Today is #InternationalWomensDay and we recognise that women are still far from equal to men in today’s societies.\\nWe can not have climate justice without gender equity.\\n\\nAnd remember; what we women want today - and every day- is equality, not congratulations or celebrations. https://t.co/g1CuEN6YLX   \n",
       "225561                                                                                                                                                                                                                                                 Feliz será el día que no falte ninguna #8M https://t.co/BnVM4Bd95p   \n",
       "4112456                                              8 de marzo de 1908\\n\\n129 trabajadoras fueron quemadas vivas por hacer huelga y lograr los derechos que ahora gozamos.\\n\\nNo hay festejo; conmemoración, respeto y valía.\\n\\n#8M2020 \\n#DiaInternacionalDeLaMujer  \\n#InternationalWomensDay https://t.co/DnFLS9ZCpe   \n",
       "233502                                                                                                                                                                                                                                               dia internacional da mulher, não pode faltar https://t.co/MRYwQyhx14   \n",
       "5141087                        El día internacional del hombre es el 19 de Noviembre, si no se manifiestan es porque consideran que no tienen nada que reivindicar. Ya me gustaría a mi no tener que salir a la calle a gritar que quiero llegar viva a mi casa, Carmen. Aquí no se celebra nada. https://t.co/68cMTqdZgf   \n",
       "1074020                                                                                                                                                                                                No quiero flores, quiero poder caminar por la calle tranquila.\\n#DiaInternacionalDeLaMujer https://t.co/zj1NczVmI3   \n",
       "855097                                                                                                                                                                    las tías el 8M: hermanas unidas nunca seremos vencidas os quiero jajaja sororidad🥰🥰🥰🥰🥰\\n\\nel resto del año : jajaja a k me follo a tu novio fea   \n",
       "\n",
       "         num_retweets  \n",
       "1649436         95573  \n",
       "201690          41506  \n",
       "784780          39334  \n",
       "921552          37119  \n",
       "225561          32832  \n",
       "4112456         28953  \n",
       "233502          28028  \n",
       "5141087         27418  \n",
       "1074020         23894  \n",
       "855097          20202  "
      ]
     },
     "execution_count": 7,
     "metadata": {},
     "output_type": "execute_result"
    }
   ],
   "source": [
    "df2[['author','tweet_text','num_retweets']]"
   ]
  },
  {
   "cell_type": "code",
   "execution_count": null,
   "metadata": {},
   "outputs": [],
   "source": []
  }
 ],
 "metadata": {
  "kernelspec": {
   "display_name": "Python 3",
   "language": "python",
   "name": "python3"
  },
  "language_info": {
   "codemirror_mode": {
    "name": "ipython",
    "version": 3
   },
   "file_extension": ".py",
   "mimetype": "text/x-python",
   "name": "python",
   "nbconvert_exporter": "python",
   "pygments_lexer": "ipython3",
   "version": "3.7.7"
  },
  "toc": {
   "base_numbering": 1,
   "nav_menu": {},
   "number_sections": true,
   "sideBar": true,
   "skip_h1_title": false,
   "title_cell": "Table of Contents",
   "title_sidebar": "Contents",
   "toc_cell": false,
   "toc_position": {},
   "toc_section_display": true,
   "toc_window_display": false
  }
 },
 "nbformat": 4,
 "nbformat_minor": 4
}
