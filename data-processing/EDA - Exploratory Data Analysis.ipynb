{
 "cells": [
  {
   "cell_type": "code",
   "execution_count": 1,
   "metadata": {
    "ExecuteTime": {
     "end_time": "2020-09-14T23:55:17.689524Z",
     "start_time": "2020-09-14T23:55:13.836246Z"
    }
   },
   "outputs": [],
   "source": [
    "import pandas as pd\n",
    "import matplotlib.pyplot as plt\n",
    "import seaborn as sns\n",
    "import numpy as np\n",
    "import pymongo\n",
    "import time\n",
    "\n",
    "from PIL import Image\n",
    "from pprint import pprint\n",
    "from wordcloud import WordCloud\n",
    "\n",
    "%matplotlib inline"
   ]
  },
  {
   "cell_type": "markdown",
   "metadata": {},
   "source": [
    "# Conexão com o MongoDB"
   ]
  },
  {
   "cell_type": "code",
   "execution_count": 2,
   "metadata": {
    "ExecuteTime": {
     "end_time": "2020-09-14T23:55:24.437518Z",
     "start_time": "2020-09-14T23:55:24.433841Z"
    }
   },
   "outputs": [],
   "source": [
    "client = pymongo.MongoClient()\n",
    "db = client['8M2020']  \n",
    "collection = db.tweets_updated"
   ]
  },
  {
   "cell_type": "markdown",
   "metadata": {},
   "source": [
    "# Funções"
   ]
  },
  {
   "cell_type": "code",
   "execution_count": 3,
   "metadata": {
    "ExecuteTime": {
     "end_time": "2020-09-14T23:55:52.207161Z",
     "start_time": "2020-09-14T23:55:52.204282Z"
    }
   },
   "outputs": [],
   "source": [
    "def query(collection: pymongo.collection.Collection, pipeline: list) -> list:\n",
    "    query = list(collection.aggregate(pipeline, allowDiskUse=True))\n",
    "    return query"
   ]
  },
  {
   "cell_type": "code",
   "execution_count": 4,
   "metadata": {
    "ExecuteTime": {
     "end_time": "2020-09-14T23:55:54.830036Z",
     "start_time": "2020-09-14T23:55:54.827004Z"
    }
   },
   "outputs": [],
   "source": [
    "def get_language(lang: str) -> str:\n",
    "    bcp_lang = pd.read_csv('bcp47.csv')\n",
    "    language = bcp_lang[bcp_lang['lang'] == lang]['language'].tolist()[0]\n",
    "    return language"
   ]
  },
  {
   "cell_type": "code",
   "execution_count": 5,
   "metadata": {
    "ExecuteTime": {
     "end_time": "2020-09-14T23:56:03.626317Z",
     "start_time": "2020-09-14T23:56:03.621131Z"
    }
   },
   "outputs": [],
   "source": [
    "def get_hashtag_by_lang(collection: pymongo.collection.Collection, lang: str) -> list:\n",
    "    pipeline = [\n",
    "        {\n",
    "            '$match': {\n",
    "                'lang': lang\n",
    "            }\n",
    "        }, {\n",
    "            '$project': {\n",
    "                '_id': 0,\n",
    "                'id': 1,\n",
    "                'retweeted_status': {\n",
    "                    '$ifNull': [\n",
    "                        '$entities.hashtags.text', \n",
    "                        '$retweeted_status.extended_tweet.entities.hashtags.text'\n",
    "                    ]\n",
    "                }\n",
    "            }\n",
    "        }, {\n",
    "            '$project': {\n",
    "                'hashtags': '$retweeted_status'\n",
    "            }\n",
    "        }, {\n",
    "            '$unwind': {\n",
    "                'path': '$hashtags'\n",
    "            }\n",
    "        }, {\n",
    "            '$group': {\n",
    "                '_id': '$hashtags',\n",
    "                'count': {\n",
    "                    '$sum': 1\n",
    "                }\n",
    "            }\n",
    "        }, {\n",
    "            '$sort': {\n",
    "                'count': -1\n",
    "            }\n",
    "        }\n",
    "    ]\n",
    "    \n",
    "    document = list(collection.aggregate(pipeline=pipeline))\n",
    "    return document"
   ]
  },
  {
   "cell_type": "markdown",
   "metadata": {},
   "source": [
    "# Estatísticas"
   ]
  },
  {
   "cell_type": "markdown",
   "metadata": {},
   "source": [
    "## Idiomas"
   ]
  },
  {
   "cell_type": "code",
   "execution_count": 6,
   "metadata": {
    "ExecuteTime": {
     "end_time": "2020-06-19T22:55:14.143758Z",
     "start_time": "2020-06-19T22:55:14.140876Z"
    }
   },
   "outputs": [],
   "source": [
    "pipeline1 = [\n",
    "    {\n",
    "        '$group': {\n",
    "            '_id': '$lang',\n",
    "            'count': {\n",
    "                '$sum': 1\n",
    "            }\n",
    "        }\n",
    "    }, {\n",
    "        '$sort': {\n",
    "            'count': -1\n",
    "        }\n",
    "    }\n",
    "]"
   ]
  },
  {
   "cell_type": "code",
   "execution_count": 7,
   "metadata": {
    "ExecuteTime": {
     "end_time": "2020-06-19T22:59:21.056250Z",
     "start_time": "2020-06-19T22:55:16.050212Z"
    }
   },
   "outputs": [],
   "source": [
    "languages = query(collection=collection, pipeline=pipeline1)"
   ]
  },
  {
   "cell_type": "code",
   "execution_count": 8,
   "metadata": {
    "ExecuteTime": {
     "end_time": "2020-06-19T22:59:21.060495Z",
     "start_time": "2020-06-19T22:59:21.057612Z"
    }
   },
   "outputs": [
    {
     "name": "stdout",
     "output_type": "stream",
     "text": [
      "Número de idiomas presentes na base: 64\n"
     ]
    }
   ],
   "source": [
    "num_languages = len(languages)\n",
    "print(f'Número de idiomas presentes na base: {num_languages}')"
   ]
  },
  {
   "cell_type": "code",
   "execution_count": 9,
   "metadata": {
    "ExecuteTime": {
     "end_time": "2020-06-19T22:59:21.341556Z",
     "start_time": "2020-06-19T22:59:21.061935Z"
    }
   },
   "outputs": [
    {
     "data": {
      "text/html": [
       "<div>\n",
       "<style scoped>\n",
       "    .dataframe tbody tr th:only-of-type {\n",
       "        vertical-align: middle;\n",
       "    }\n",
       "\n",
       "    .dataframe tbody tr th {\n",
       "        vertical-align: top;\n",
       "    }\n",
       "\n",
       "    .dataframe thead th {\n",
       "        text-align: right;\n",
       "    }\n",
       "</style>\n",
       "<table border=\"1\" class=\"dataframe\">\n",
       "  <thead>\n",
       "    <tr style=\"text-align: right;\">\n",
       "      <th></th>\n",
       "      <th>language</th>\n",
       "      <th>count</th>\n",
       "    </tr>\n",
       "  </thead>\n",
       "  <tbody>\n",
       "    <tr>\n",
       "      <th>0</th>\n",
       "      <td>English</td>\n",
       "      <td>1991792</td>\n",
       "    </tr>\n",
       "    <tr>\n",
       "      <th>1</th>\n",
       "      <td>Spanish</td>\n",
       "      <td>1898572</td>\n",
       "    </tr>\n",
       "    <tr>\n",
       "      <th>2</th>\n",
       "      <td>Undefined</td>\n",
       "      <td>395007</td>\n",
       "    </tr>\n",
       "    <tr>\n",
       "      <th>3</th>\n",
       "      <td>Portuguese</td>\n",
       "      <td>274636</td>\n",
       "    </tr>\n",
       "    <tr>\n",
       "      <th>4</th>\n",
       "      <td>French</td>\n",
       "      <td>192670</td>\n",
       "    </tr>\n",
       "    <tr>\n",
       "      <th>5</th>\n",
       "      <td>Hindi</td>\n",
       "      <td>162007</td>\n",
       "    </tr>\n",
       "    <tr>\n",
       "      <th>6</th>\n",
       "      <td>Turkish</td>\n",
       "      <td>156428</td>\n",
       "    </tr>\n",
       "    <tr>\n",
       "      <th>7</th>\n",
       "      <td>Arabic</td>\n",
       "      <td>106742</td>\n",
       "    </tr>\n",
       "    <tr>\n",
       "      <th>8</th>\n",
       "      <td>Catalan</td>\n",
       "      <td>55218</td>\n",
       "    </tr>\n",
       "    <tr>\n",
       "      <th>9</th>\n",
       "      <td>Indonesian</td>\n",
       "      <td>53962</td>\n",
       "    </tr>\n",
       "  </tbody>\n",
       "</table>\n",
       "</div>"
      ],
      "text/plain": [
       "     language    count\n",
       "0     English  1991792\n",
       "1     Spanish  1898572\n",
       "2   Undefined   395007\n",
       "3  Portuguese   274636\n",
       "4      French   192670\n",
       "5       Hindi   162007\n",
       "6     Turkish   156428\n",
       "7      Arabic   106742\n",
       "8     Catalan    55218\n",
       "9  Indonesian    53962"
      ]
     },
     "execution_count": 9,
     "metadata": {},
     "output_type": "execute_result"
    }
   ],
   "source": [
    "languages_df = pd.DataFrame(languages)\n",
    "languages_df.rename(columns={\"_id\": \"language\"}, inplace=True)\n",
    "languages_df['language'] = languages_df['language'].apply(get_language)\n",
    "languages_df.head(10)"
   ]
  },
  {
   "cell_type": "code",
   "execution_count": 10,
   "metadata": {
    "ExecuteTime": {
     "end_time": "2020-06-19T23:00:23.307936Z",
     "start_time": "2020-06-19T23:00:22.689788Z"
    }
   },
   "outputs": [],
   "source": [
    "# languages_df.to_parquet('languages.parquet.gzip', compression='gzip')\n",
    "# languages_df = pd.read_parquet('languages.parquet.gzip')"
   ]
  },
  {
   "cell_type": "code",
   "execution_count": 11,
   "metadata": {
    "ExecuteTime": {
     "end_time": "2020-06-19T23:02:34.341702Z",
     "start_time": "2020-06-19T23:02:33.801135Z"
    }
   },
   "outputs": [
    {
     "data": {
      "image/png": "[encoded data removed]",
      "text/plain": [
       "<Figure size 1080x360 with 1 Axes>"
      ]
     },
     "metadata": {
      "needs_background": "light"
     },
     "output_type": "display_data"
    }
   ],
   "source": [
    "plt.figure(figsize=(15,5))\n",
    "sns.set(style=\"whitegrid\")\n",
    "ax = sns.barplot(x='count', y='language', data=languages_df[0:10])\n",
    "ax.set_ylabel('')\n",
    "plt.show()"
   ]
  },
  {
   "cell_type": "markdown",
   "metadata": {},
   "source": [
    "## Hashtags"
   ]
  },
  {
   "cell_type": "code",
   "execution_count": 12,
   "metadata": {
    "ExecuteTime": {
     "end_time": "2020-06-19T23:02:52.037401Z",
     "start_time": "2020-06-19T23:02:52.033290Z"
    }
   },
   "outputs": [],
   "source": [
    "pipeline2 = [\n",
    "    {\n",
    "        '$project': {\n",
    "            '_id': 0, \n",
    "            'id': 1, \n",
    "            'retweeted_status': {\n",
    "                '$ifNull': [\n",
    "                    '$entities.hashtags.text', \n",
    "                    '$retweeted_status.extended_tweet.entities.hashtags.text'\n",
    "                ]\n",
    "            }\n",
    "        }\n",
    "    }, {\n",
    "        '$project': {\n",
    "            'hashtag': '$retweeted_status'\n",
    "        }\n",
    "    }, {\n",
    "        '$unwind': {\n",
    "            'path': '$hashtag'\n",
    "        }\n",
    "    }, {\n",
    "        '$group': {\n",
    "            '_id': '$hashtag', \n",
    "            'count': {\n",
    "                '$sum': 1\n",
    "            }\n",
    "        }\n",
    "    }, {\n",
    "        '$sort': {\n",
    "            'count': -1\n",
    "        }\n",
    "    }\n",
    "]"
   ]
  },
  {
   "cell_type": "code",
   "execution_count": 13,
   "metadata": {
    "ExecuteTime": {
     "end_time": "2020-06-19T23:03:43.777460Z",
     "start_time": "2020-06-19T23:02:53.186550Z"
    }
   },
   "outputs": [],
   "source": [
    "hashtags = query(collection=collection, pipeline=pipeline2)"
   ]
  },
  {
   "cell_type": "code",
   "execution_count": 14,
   "metadata": {
    "ExecuteTime": {
     "end_time": "2020-06-19T23:03:43.781493Z",
     "start_time": "2020-06-19T23:03:43.778840Z"
    }
   },
   "outputs": [
    {
     "name": "stdout",
     "output_type": "stream",
     "text": [
      "Número de hashtags presentes na base: 249448\n"
     ]
    }
   ],
   "source": [
    "num_hashtags = len(hashtags)\n",
    "print(f'Número de hashtags presentes na base: {num_hashtags}')"
   ]
  },
  {
   "cell_type": "code",
   "execution_count": 15,
   "metadata": {
    "ExecuteTime": {
     "end_time": "2020-06-19T23:03:44.043206Z",
     "start_time": "2020-06-19T23:03:43.782958Z"
    }
   },
   "outputs": [
    {
     "data": {
      "text/html": [
       "<div>\n",
       "<style scoped>\n",
       "    .dataframe tbody tr th:only-of-type {\n",
       "        vertical-align: middle;\n",
       "    }\n",
       "\n",
       "    .dataframe tbody tr th {\n",
       "        vertical-align: top;\n",
       "    }\n",
       "\n",
       "    .dataframe thead th {\n",
       "        text-align: right;\n",
       "    }\n",
       "</style>\n",
       "<table border=\"1\" class=\"dataframe\">\n",
       "  <thead>\n",
       "    <tr style=\"text-align: right;\">\n",
       "      <th></th>\n",
       "      <th>hashtag</th>\n",
       "      <th>count</th>\n",
       "    </tr>\n",
       "  </thead>\n",
       "  <tbody>\n",
       "    <tr>\n",
       "      <th>0</th>\n",
       "      <td>InternationalWomensDay</td>\n",
       "      <td>827798</td>\n",
       "    </tr>\n",
       "    <tr>\n",
       "      <th>1</th>\n",
       "      <td>8M</td>\n",
       "      <td>419948</td>\n",
       "    </tr>\n",
       "    <tr>\n",
       "      <th>2</th>\n",
       "      <td>8M2020</td>\n",
       "      <td>390969</td>\n",
       "    </tr>\n",
       "    <tr>\n",
       "      <th>3</th>\n",
       "      <td>IWD2020</td>\n",
       "      <td>314204</td>\n",
       "    </tr>\n",
       "    <tr>\n",
       "      <th>4</th>\n",
       "      <td>DiaInternacionalDeLaMujer</td>\n",
       "      <td>278927</td>\n",
       "    </tr>\n",
       "    <tr>\n",
       "      <th>5</th>\n",
       "      <td>HappyWomensDay2020</td>\n",
       "      <td>191408</td>\n",
       "    </tr>\n",
       "    <tr>\n",
       "      <th>6</th>\n",
       "      <td>Marcha8M</td>\n",
       "      <td>171261</td>\n",
       "    </tr>\n",
       "    <tr>\n",
       "      <th>7</th>\n",
       "      <td>WomensDay</td>\n",
       "      <td>160403</td>\n",
       "    </tr>\n",
       "    <tr>\n",
       "      <th>8</th>\n",
       "      <td>DiaDeLaMujer</td>\n",
       "      <td>111216</td>\n",
       "    </tr>\n",
       "    <tr>\n",
       "      <th>9</th>\n",
       "      <td>8martdunyakadinlargunu</td>\n",
       "      <td>89214</td>\n",
       "    </tr>\n",
       "  </tbody>\n",
       "</table>\n",
       "</div>"
      ],
      "text/plain": [
       "                     hashtag   count\n",
       "0     InternationalWomensDay  827798\n",
       "1                         8M  419948\n",
       "2                     8M2020  390969\n",
       "3                    IWD2020  314204\n",
       "4  DiaInternacionalDeLaMujer  278927\n",
       "5         HappyWomensDay2020  191408\n",
       "6                   Marcha8M  171261\n",
       "7                  WomensDay  160403\n",
       "8               DiaDeLaMujer  111216\n",
       "9     8martdunyakadinlargunu   89214"
      ]
     },
     "execution_count": 15,
     "metadata": {},
     "output_type": "execute_result"
    }
   ],
   "source": [
    "hashtags_df = pd.DataFrame(hashtags)\n",
    "hashtags_df.rename(columns={\"_id\": \"hashtag\"}, inplace=True)\n",
    "hashtags_df.head(10)"
   ]
  },
  {
   "cell_type": "code",
   "execution_count": 16,
   "metadata": {
    "ExecuteTime": {
     "end_time": "2020-06-19T23:04:41.011230Z",
     "start_time": "2020-06-19T23:04:40.156283Z"
    }
   },
   "outputs": [],
   "source": [
    "# hashtags_df.to_parquet('hashtags.parquet.gzip', compression='gzip')\n",
    "# hashtags_df = pd.read_parquet('hashtags.parquet.gzip')"
   ]
  },
  {
   "cell_type": "code",
   "execution_count": 17,
   "metadata": {
    "ExecuteTime": {
     "end_time": "2020-06-19T23:05:16.141447Z",
     "start_time": "2020-06-19T23:05:15.783109Z"
    }
   },
   "outputs": [
    {
     "data": {
      "image/png": "[encoded data removed]",
      "text/plain": [
       "<Figure size 1080x720 with 1 Axes>"
      ]
     },
     "metadata": {},
     "output_type": "display_data"
    }
   ],
   "source": [
    "plt.figure(figsize=(15,10))\n",
    "sns.set(style=\"whitegrid\")\n",
    "ax = sns.barplot(x='count', y='hashtag', data=hashtags_df[0:10])\n",
    "ax.set_ylabel('')\n",
    "plt.show()"
   ]
  },
  {
   "cell_type": "markdown",
   "metadata": {},
   "source": [
    "### Hashtags por idioma do tweets"
   ]
  },
  {
   "cell_type": "code",
   "execution_count": 18,
   "metadata": {
    "ExecuteTime": {
     "end_time": "2020-06-19T23:13:00.039315Z",
     "start_time": "2020-06-19T23:10:56.999831Z"
    }
   },
   "outputs": [],
   "source": [
    "hashtags_en = get_hashtag_by_lang(lang='en', collection=collection)\n",
    "hashtags_es = get_hashtag_by_lang(lang='es', collection=collection)\n",
    "hashtags_pt = get_hashtag_by_lang(lang='pt', collection=collection)"
   ]
  },
  {
   "cell_type": "code",
   "execution_count": 19,
   "metadata": {
    "ExecuteTime": {
     "end_time": "2020-06-19T23:13:00.173072Z",
     "start_time": "2020-06-19T23:13:00.040731Z"
    }
   },
   "outputs": [
    {
     "data": {
      "text/html": [
       "<div>\n",
       "<style scoped>\n",
       "    .dataframe tbody tr th:only-of-type {\n",
       "        vertical-align: middle;\n",
       "    }\n",
       "\n",
       "    .dataframe tbody tr th {\n",
       "        vertical-align: top;\n",
       "    }\n",
       "\n",
       "    .dataframe thead th {\n",
       "        text-align: right;\n",
       "    }\n",
       "</style>\n",
       "<table border=\"1\" class=\"dataframe\">\n",
       "  <thead>\n",
       "    <tr style=\"text-align: right;\">\n",
       "      <th></th>\n",
       "      <th>hashtag</th>\n",
       "      <th>count</th>\n",
       "    </tr>\n",
       "  </thead>\n",
       "  <tbody>\n",
       "    <tr>\n",
       "      <th>0</th>\n",
       "      <td>InternationalWomensDay</td>\n",
       "      <td>606004</td>\n",
       "    </tr>\n",
       "    <tr>\n",
       "      <th>1</th>\n",
       "      <td>IWD2020</td>\n",
       "      <td>266906</td>\n",
       "    </tr>\n",
       "    <tr>\n",
       "      <th>2</th>\n",
       "      <td>WomensDay</td>\n",
       "      <td>104116</td>\n",
       "    </tr>\n",
       "    <tr>\n",
       "      <th>3</th>\n",
       "      <td>HappyWomensDay2020</td>\n",
       "      <td>97902</td>\n",
       "    </tr>\n",
       "    <tr>\n",
       "      <th>4</th>\n",
       "      <td>EachforEqual</td>\n",
       "      <td>41491</td>\n",
       "    </tr>\n",
       "    <tr>\n",
       "      <th>5</th>\n",
       "      <td>internationalwomensday</td>\n",
       "      <td>31531</td>\n",
       "    </tr>\n",
       "    <tr>\n",
       "      <th>6</th>\n",
       "      <td>IWD</td>\n",
       "      <td>26554</td>\n",
       "    </tr>\n",
       "    <tr>\n",
       "      <th>7</th>\n",
       "      <td>InternationalWomenDay2020</td>\n",
       "      <td>24085</td>\n",
       "    </tr>\n",
       "    <tr>\n",
       "      <th>8</th>\n",
       "      <td>MaguvaMaguva</td>\n",
       "      <td>20493</td>\n",
       "    </tr>\n",
       "    <tr>\n",
       "      <th>9</th>\n",
       "      <td>GenerationEquality</td>\n",
       "      <td>19672</td>\n",
       "    </tr>\n",
       "  </tbody>\n",
       "</table>\n",
       "</div>"
      ],
      "text/plain": [
       "                     hashtag   count\n",
       "0     InternationalWomensDay  606004\n",
       "1                    IWD2020  266906\n",
       "2                  WomensDay  104116\n",
       "3         HappyWomensDay2020   97902\n",
       "4               EachforEqual   41491\n",
       "5     internationalwomensday   31531\n",
       "6                        IWD   26554\n",
       "7  InternationalWomenDay2020   24085\n",
       "8               MaguvaMaguva   20493\n",
       "9         GenerationEquality   19672"
      ]
     },
     "execution_count": 19,
     "metadata": {},
     "output_type": "execute_result"
    }
   ],
   "source": [
    "hashtags_en_df = pd.DataFrame(hashtags_en)\n",
    "hashtags_en_df.rename(columns={\"_id\": \"hashtag\"}, inplace=True)\n",
    "hashtags_en_df.head(10)"
   ]
  },
  {
   "cell_type": "code",
   "execution_count": 23,
   "metadata": {
    "ExecuteTime": {
     "end_time": "2020-06-19T23:20:42.626080Z",
     "start_time": "2020-06-19T23:20:42.287330Z"
    }
   },
   "outputs": [
    {
     "data": {
      "image/png": "[encoded data removed]",
      "text/plain": [
       "<Figure size 1080x720 with 1 Axes>"
      ]
     },
     "metadata": {},
     "output_type": "display_data"
    }
   ],
   "source": [
    "plt.figure(figsize=(15,10))\n",
    "sns.set(style=\"whitegrid\")\n",
    "ax = sns.barplot(x='count', y='hashtag', data=hashtags_en_df[0:10])\n",
    "ax.set_ylabel('')\n",
    "plt.show()"
   ]
  },
  {
   "cell_type": "code",
   "execution_count": 20,
   "metadata": {
    "ExecuteTime": {
     "end_time": "2020-06-19T23:13:00.240343Z",
     "start_time": "2020-06-19T23:13:00.174528Z"
    }
   },
   "outputs": [
    {
     "data": {
      "text/html": [
       "<div>\n",
       "<style scoped>\n",
       "    .dataframe tbody tr th:only-of-type {\n",
       "        vertical-align: middle;\n",
       "    }\n",
       "\n",
       "    .dataframe tbody tr th {\n",
       "        vertical-align: top;\n",
       "    }\n",
       "\n",
       "    .dataframe thead th {\n",
       "        text-align: right;\n",
       "    }\n",
       "</style>\n",
       "<table border=\"1\" class=\"dataframe\">\n",
       "  <thead>\n",
       "    <tr style=\"text-align: right;\">\n",
       "      <th></th>\n",
       "      <th>hashtag</th>\n",
       "      <th>count</th>\n",
       "    </tr>\n",
       "  </thead>\n",
       "  <tbody>\n",
       "    <tr>\n",
       "      <th>0</th>\n",
       "      <td>8M</td>\n",
       "      <td>339063</td>\n",
       "    </tr>\n",
       "    <tr>\n",
       "      <th>1</th>\n",
       "      <td>8M2020</td>\n",
       "      <td>284662</td>\n",
       "    </tr>\n",
       "    <tr>\n",
       "      <th>2</th>\n",
       "      <td>DiaInternacionalDeLaMujer</td>\n",
       "      <td>239545</td>\n",
       "    </tr>\n",
       "    <tr>\n",
       "      <th>3</th>\n",
       "      <td>Marcha8M</td>\n",
       "      <td>151838</td>\n",
       "    </tr>\n",
       "    <tr>\n",
       "      <th>4</th>\n",
       "      <td>DiaDeLaMujer</td>\n",
       "      <td>91310</td>\n",
       "    </tr>\n",
       "    <tr>\n",
       "      <th>5</th>\n",
       "      <td>NiUnaMenos</td>\n",
       "      <td>41491</td>\n",
       "    </tr>\n",
       "    <tr>\n",
       "      <th>6</th>\n",
       "      <td>8Marzo</td>\n",
       "      <td>30031</td>\n",
       "    </tr>\n",
       "    <tr>\n",
       "      <th>7</th>\n",
       "      <td>MarchaFeminista</td>\n",
       "      <td>26667</td>\n",
       "    </tr>\n",
       "    <tr>\n",
       "      <th>8</th>\n",
       "      <td>DíaInternacionalDeLaMujer</td>\n",
       "      <td>23320</td>\n",
       "    </tr>\n",
       "    <tr>\n",
       "      <th>9</th>\n",
       "      <td>8m</td>\n",
       "      <td>22850</td>\n",
       "    </tr>\n",
       "  </tbody>\n",
       "</table>\n",
       "</div>"
      ],
      "text/plain": [
       "                     hashtag   count\n",
       "0                         8M  339063\n",
       "1                     8M2020  284662\n",
       "2  DiaInternacionalDeLaMujer  239545\n",
       "3                   Marcha8M  151838\n",
       "4               DiaDeLaMujer   91310\n",
       "5                 NiUnaMenos   41491\n",
       "6                     8Marzo   30031\n",
       "7            MarchaFeminista   26667\n",
       "8  DíaInternacionalDeLaMujer   23320\n",
       "9                         8m   22850"
      ]
     },
     "execution_count": 20,
     "metadata": {},
     "output_type": "execute_result"
    }
   ],
   "source": [
    "hashtags_es_df = pd.DataFrame(hashtags_es)\n",
    "hashtags_es_df.rename(columns={\"_id\": \"hashtag\"}, inplace=True)\n",
    "hashtags_es_df.head(10)"
   ]
  },
  {
   "cell_type": "code",
   "execution_count": 24,
   "metadata": {
    "ExecuteTime": {
     "end_time": "2020-06-19T23:21:10.791140Z",
     "start_time": "2020-06-19T23:21:10.445478Z"
    }
   },
   "outputs": [
    {
     "data": {
      "image/png": "[encoded data removed]",
      "text/plain": [
       "<Figure size 1080x720 with 1 Axes>"
      ]
     },
     "metadata": {},
     "output_type": "display_data"
    }
   ],
   "source": [
    "plt.figure(figsize=(15,10))\n",
    "sns.set(style=\"whitegrid\")\n",
    "ax = sns.barplot(x='count', y='hashtag', data=hashtags_es_df[0:10])\n",
    "ax.set_ylabel('')\n",
    "plt.show()"
   ]
  },
  {
   "cell_type": "code",
   "execution_count": 21,
   "metadata": {
    "ExecuteTime": {
     "end_time": "2020-06-19T23:13:00.259972Z",
     "start_time": "2020-06-19T23:13:00.241663Z"
    }
   },
   "outputs": [
    {
     "data": {
      "text/html": [
       "<div>\n",
       "<style scoped>\n",
       "    .dataframe tbody tr th:only-of-type {\n",
       "        vertical-align: middle;\n",
       "    }\n",
       "\n",
       "    .dataframe tbody tr th {\n",
       "        vertical-align: top;\n",
       "    }\n",
       "\n",
       "    .dataframe thead th {\n",
       "        text-align: right;\n",
       "    }\n",
       "</style>\n",
       "<table border=\"1\" class=\"dataframe\">\n",
       "  <thead>\n",
       "    <tr style=\"text-align: right;\">\n",
       "      <th></th>\n",
       "      <th>hashtag</th>\n",
       "      <th>count</th>\n",
       "    </tr>\n",
       "  </thead>\n",
       "  <tbody>\n",
       "    <tr>\n",
       "      <th>0</th>\n",
       "      <td>diadasmulheres</td>\n",
       "      <td>41981</td>\n",
       "    </tr>\n",
       "    <tr>\n",
       "      <th>1</th>\n",
       "      <td>DiaDaMulher</td>\n",
       "      <td>17103</td>\n",
       "    </tr>\n",
       "    <tr>\n",
       "      <th>2</th>\n",
       "      <td>8M2020</td>\n",
       "      <td>15023</td>\n",
       "    </tr>\n",
       "    <tr>\n",
       "      <th>3</th>\n",
       "      <td>8M</td>\n",
       "      <td>13465</td>\n",
       "    </tr>\n",
       "    <tr>\n",
       "      <th>4</th>\n",
       "      <td>InternationalWomensDay</td>\n",
       "      <td>11076</td>\n",
       "    </tr>\n",
       "    <tr>\n",
       "      <th>5</th>\n",
       "      <td>diadamulher</td>\n",
       "      <td>4162</td>\n",
       "    </tr>\n",
       "    <tr>\n",
       "      <th>6</th>\n",
       "      <td>DiaDasMulheres</td>\n",
       "      <td>2036</td>\n",
       "    </tr>\n",
       "    <tr>\n",
       "      <th>7</th>\n",
       "      <td>DiaInternacionalDaMulher</td>\n",
       "      <td>1391</td>\n",
       "    </tr>\n",
       "    <tr>\n",
       "      <th>8</th>\n",
       "      <td>MulheresComBolsonaro</td>\n",
       "      <td>1123</td>\n",
       "    </tr>\n",
       "    <tr>\n",
       "      <th>9</th>\n",
       "      <td>8m</td>\n",
       "      <td>1009</td>\n",
       "    </tr>\n",
       "  </tbody>\n",
       "</table>\n",
       "</div>"
      ],
      "text/plain": [
       "                    hashtag  count\n",
       "0            diadasmulheres  41981\n",
       "1               DiaDaMulher  17103\n",
       "2                    8M2020  15023\n",
       "3                        8M  13465\n",
       "4    InternationalWomensDay  11076\n",
       "5               diadamulher   4162\n",
       "6            DiaDasMulheres   2036\n",
       "7  DiaInternacionalDaMulher   1391\n",
       "8      MulheresComBolsonaro   1123\n",
       "9                        8m   1009"
      ]
     },
     "execution_count": 21,
     "metadata": {},
     "output_type": "execute_result"
    }
   ],
   "source": [
    "hashtags_pt_df = pd.DataFrame(hashtags_pt)\n",
    "hashtags_pt_df.rename(columns={\"_id\": \"hashtag\"}, inplace=True)\n",
    "hashtags_pt_df.head(10)"
   ]
  },
  {
   "cell_type": "code",
   "execution_count": 25,
   "metadata": {
    "ExecuteTime": {
     "end_time": "2020-06-19T23:21:37.180214Z",
     "start_time": "2020-06-19T23:21:36.826412Z"
    }
   },
   "outputs": [
    {
     "data": {
      "image/png": "[encoded data removed]",
      "text/plain": [
       "<Figure size 1080x720 with 1 Axes>"
      ]
     },
     "metadata": {},
     "output_type": "display_data"
    }
   ],
   "source": [
    "plt.figure(figsize=(15,10))\n",
    "sns.set(style=\"whitegrid\")\n",
    "ax = sns.barplot(x='count', y='hashtag', data=hashtags_pt_df[0:10])\n",
    "ax.set_ylabel('')\n",
    "plt.show()"
   ]
  },
  {
   "cell_type": "code",
   "execution_count": 22,
   "metadata": {
    "ExecuteTime": {
     "end_time": "2020-06-19T23:19:55.601612Z",
     "start_time": "2020-06-19T23:19:54.923434Z"
    }
   },
   "outputs": [],
   "source": [
    "hashtags_en_df.to_parquet('hashtags_en.parquet.gzip', compression='gzip')\n",
    "hashtags_es_df.to_parquet('hashtags_es.parquet.gzip', compression='gzip')\n",
    "hashtags_pt_df.to_parquet('hashtags_pt.parquet.gzip', compression='gzip')\n",
    "\n",
    "# hashtags_en_df = pd.read_parquet('hashtags_en.parquet.gzip')\n",
    "# hashtags_es_df = pd.read_parquet('hashtags_es.parquet.gzip')\n",
    "# hashtags_pt_df = pd.read_parquet('hashtags_pt.parquet.gzip')"
   ]
  },
  {
   "cell_type": "markdown",
   "metadata": {},
   "source": [
    "## Tweets ao longo do tempo"
   ]
  },
  {
   "cell_type": "code",
   "execution_count": 6,
   "metadata": {
    "ExecuteTime": {
     "end_time": "2020-09-14T23:56:22.868476Z",
     "start_time": "2020-09-14T23:56:22.864789Z"
    }
   },
   "outputs": [],
   "source": [
    "pipeline3 = [\n",
    "    {\n",
    "        '$project': {\n",
    "            'date': {\n",
    "                '$dateFromString': {\n",
    "                    'dateString': '$created_at'\n",
    "                }\n",
    "            }\n",
    "        }\n",
    "    }, {\n",
    "        '$project': {\n",
    "            'date': {\n",
    "                '$dateToString': {\n",
    "                    'format': '%d/%m %H:00', \n",
    "                    'date': '$date'\n",
    "                }\n",
    "            }\n",
    "        }\n",
    "    }, {\n",
    "        '$group': {\n",
    "            '_id': '$date', \n",
    "            'count': {\n",
    "                '$sum': 1\n",
    "            }\n",
    "        }\n",
    "    }, {\n",
    "        '$sort': {\n",
    "            '_id': 1\n",
    "        }\n",
    "    }\n",
    "]"
   ]
  },
  {
   "cell_type": "code",
   "execution_count": 7,
   "metadata": {
    "ExecuteTime": {
     "end_time": "2020-09-15T00:00:52.069808Z",
     "start_time": "2020-09-14T23:56:32.233783Z"
    }
   },
   "outputs": [],
   "source": [
    "tweets_times = query(collection=collection, pipeline=pipeline3)"
   ]
  },
  {
   "cell_type": "code",
   "execution_count": 8,
   "metadata": {
    "ExecuteTime": {
     "end_time": "2020-09-15T00:07:02.698959Z",
     "start_time": "2020-09-15T00:07:02.600033Z"
    }
   },
   "outputs": [
    {
     "data": {
      "text/html": [
       "<div>\n",
       "<style scoped>\n",
       "    .dataframe tbody tr th:only-of-type {\n",
       "        vertical-align: middle;\n",
       "    }\n",
       "\n",
       "    .dataframe tbody tr th {\n",
       "        vertical-align: top;\n",
       "    }\n",
       "\n",
       "    .dataframe thead th {\n",
       "        text-align: right;\n",
       "    }\n",
       "</style>\n",
       "<table border=\"1\" class=\"dataframe\">\n",
       "  <thead>\n",
       "    <tr style=\"text-align: right;\">\n",
       "      <th></th>\n",
       "      <th>data_hora</th>\n",
       "      <th>count</th>\n",
       "      <th>cumsum</th>\n",
       "    </tr>\n",
       "  </thead>\n",
       "  <tbody>\n",
       "    <tr>\n",
       "      <th>0</th>\n",
       "      <td>07/03 21:00</td>\n",
       "      <td>2</td>\n",
       "      <td>2</td>\n",
       "    </tr>\n",
       "    <tr>\n",
       "      <th>1</th>\n",
       "      <td>07/03 22:00</td>\n",
       "      <td>31858</td>\n",
       "      <td>31860</td>\n",
       "    </tr>\n",
       "    <tr>\n",
       "      <th>2</th>\n",
       "      <td>07/03 23:00</td>\n",
       "      <td>34284</td>\n",
       "      <td>66144</td>\n",
       "    </tr>\n",
       "    <tr>\n",
       "      <th>3</th>\n",
       "      <td>08/03 00:00</td>\n",
       "      <td>33429</td>\n",
       "      <td>99573</td>\n",
       "    </tr>\n",
       "    <tr>\n",
       "      <th>4</th>\n",
       "      <td>08/03 01:00</td>\n",
       "      <td>37691</td>\n",
       "      <td>137264</td>\n",
       "    </tr>\n",
       "    <tr>\n",
       "      <th>5</th>\n",
       "      <td>08/03 02:00</td>\n",
       "      <td>56392</td>\n",
       "      <td>193656</td>\n",
       "    </tr>\n",
       "    <tr>\n",
       "      <th>6</th>\n",
       "      <td>08/03 03:00</td>\n",
       "      <td>91797</td>\n",
       "      <td>285453</td>\n",
       "    </tr>\n",
       "    <tr>\n",
       "      <th>7</th>\n",
       "      <td>08/03 04:00</td>\n",
       "      <td>124228</td>\n",
       "      <td>409681</td>\n",
       "    </tr>\n",
       "    <tr>\n",
       "      <th>8</th>\n",
       "      <td>08/03 05:00</td>\n",
       "      <td>133609</td>\n",
       "      <td>543290</td>\n",
       "    </tr>\n",
       "    <tr>\n",
       "      <th>9</th>\n",
       "      <td>08/03 06:00</td>\n",
       "      <td>141349</td>\n",
       "      <td>684639</td>\n",
       "    </tr>\n",
       "  </tbody>\n",
       "</table>\n",
       "</div>"
      ],
      "text/plain": [
       "     data_hora   count  cumsum\n",
       "0  07/03 21:00       2       2\n",
       "1  07/03 22:00   31858   31860\n",
       "2  07/03 23:00   34284   66144\n",
       "3  08/03 00:00   33429   99573\n",
       "4  08/03 01:00   37691  137264\n",
       "5  08/03 02:00   56392  193656\n",
       "6  08/03 03:00   91797  285453\n",
       "7  08/03 04:00  124228  409681\n",
       "8  08/03 05:00  133609  543290\n",
       "9  08/03 06:00  141349  684639"
      ]
     },
     "execution_count": 8,
     "metadata": {},
     "output_type": "execute_result"
    }
   ],
   "source": [
    "tweets_times_df = pd.DataFrame(tweets_times)\n",
    "tweets_times_df.rename(columns={\"_id\": \"data_hora\"}, inplace=True)\n",
    "tweets_times_df['cumsum'] = tweets_times_df['count'].cumsum()\n",
    "tweets_times_df.head(10)"
   ]
  },
  {
   "cell_type": "code",
   "execution_count": 71,
   "metadata": {
    "ExecuteTime": {
     "end_time": "2020-09-15T01:22:32.142016Z",
     "start_time": "2020-09-15T01:22:32.139487Z"
    }
   },
   "outputs": [],
   "source": [
    "data = lambda x: x[:5]\n",
    "hora = lambda x: x[6:]"
   ]
  },
  {
   "cell_type": "code",
   "execution_count": 77,
   "metadata": {
    "ExecuteTime": {
     "end_time": "2020-09-15T01:36:12.997124Z",
     "start_time": "2020-09-15T01:36:12.992993Z"
    }
   },
   "outputs": [],
   "source": [
    "tweets_times_df['data'] = tweets_times_df.data_hora.apply(data)\n",
    "tweets_times_df['hora'] = tweets_times_df.data_hora.apply(hora)"
   ]
  },
  {
   "cell_type": "code",
   "execution_count": 78,
   "metadata": {
    "ExecuteTime": {
     "end_time": "2020-09-15T01:36:16.488370Z",
     "start_time": "2020-09-15T01:36:16.480262Z"
    }
   },
   "outputs": [
    {
     "data": {
      "text/html": [
       "<div>\n",
       "<style scoped>\n",
       "    .dataframe tbody tr th:only-of-type {\n",
       "        vertical-align: middle;\n",
       "    }\n",
       "\n",
       "    .dataframe tbody tr th {\n",
       "        vertical-align: top;\n",
       "    }\n",
       "\n",
       "    .dataframe thead th {\n",
       "        text-align: right;\n",
       "    }\n",
       "</style>\n",
       "<table border=\"1\" class=\"dataframe\">\n",
       "  <thead>\n",
       "    <tr style=\"text-align: right;\">\n",
       "      <th></th>\n",
       "      <th>data_hora</th>\n",
       "      <th>count</th>\n",
       "      <th>cumsum</th>\n",
       "      <th>data</th>\n",
       "      <th>hora</th>\n",
       "    </tr>\n",
       "  </thead>\n",
       "  <tbody>\n",
       "    <tr>\n",
       "      <th>0</th>\n",
       "      <td>07/03 21:00</td>\n",
       "      <td>2</td>\n",
       "      <td>2</td>\n",
       "      <td>07/03</td>\n",
       "      <td>21:00</td>\n",
       "    </tr>\n",
       "    <tr>\n",
       "      <th>1</th>\n",
       "      <td>07/03 22:00</td>\n",
       "      <td>31858</td>\n",
       "      <td>31860</td>\n",
       "      <td>07/03</td>\n",
       "      <td>22:00</td>\n",
       "    </tr>\n",
       "    <tr>\n",
       "      <th>2</th>\n",
       "      <td>07/03 23:00</td>\n",
       "      <td>34284</td>\n",
       "      <td>66144</td>\n",
       "      <td>07/03</td>\n",
       "      <td>23:00</td>\n",
       "    </tr>\n",
       "    <tr>\n",
       "      <th>3</th>\n",
       "      <td>08/03 00:00</td>\n",
       "      <td>33429</td>\n",
       "      <td>99573</td>\n",
       "      <td>08/03</td>\n",
       "      <td>00:00</td>\n",
       "    </tr>\n",
       "    <tr>\n",
       "      <th>4</th>\n",
       "      <td>08/03 01:00</td>\n",
       "      <td>37691</td>\n",
       "      <td>137264</td>\n",
       "      <td>08/03</td>\n",
       "      <td>01:00</td>\n",
       "    </tr>\n",
       "  </tbody>\n",
       "</table>\n",
       "</div>"
      ],
      "text/plain": [
       "     data_hora  count  cumsum   data   hora\n",
       "0  07/03 21:00      2       2  07/03  21:00\n",
       "1  07/03 22:00  31858   31860  07/03  22:00\n",
       "2  07/03 23:00  34284   66144  07/03  23:00\n",
       "3  08/03 00:00  33429   99573  08/03  00:00\n",
       "4  08/03 01:00  37691  137264  08/03  01:00"
      ]
     },
     "execution_count": 78,
     "metadata": {},
     "output_type": "execute_result"
    }
   ],
   "source": [
    "tweets_times_df.head()"
   ]
  },
  {
   "cell_type": "code",
   "execution_count": 81,
   "metadata": {
    "ExecuteTime": {
     "end_time": "2020-09-15T01:39:14.855414Z",
     "start_time": "2020-09-15T01:39:14.246227Z"
    }
   },
   "outputs": [
    {
     "data": {
      "image/png": "[encoded data removed]",
      "text/plain": [
       "<Figure size 1080x360 with 1 Axes>"
      ]
     },
     "metadata": {},
     "output_type": "display_data"
    }
   ],
   "source": [
    "plt.figure(figsize=(15,5))\n",
    "sns.set(style=\"whitegrid\")\n",
    "sns.set_context(\"notebook\", font_scale=1.2)\n",
    "ax = sns.lineplot(data=tweets_times_df, x=\"data_hora\", y=\"count\", hue=\"data\", linewidth=3.5,)\n",
    "plt.xticks(rotation=90)\n",
    "# ax.set_xticklabels(ax.get_xticklabels(), rotation=90)\n",
    "ax.set_xlabel('')\n",
    "# ax.tick_params(axis='x', colors='black')\n",
    "plt.show()"
   ]
  },
  {
   "cell_type": "code",
   "execution_count": 29,
   "metadata": {
    "ExecuteTime": {
     "end_time": "2020-06-19T23:22:52.557938Z",
     "start_time": "2020-06-19T23:22:51.198081Z"
    }
   },
   "outputs": [
    {
     "data": {
      "image/png": "[encoded data removed]",
      "text/plain": [
       "<Figure size 1080x720 with 2 Axes>"
      ]
     },
     "metadata": {},
     "output_type": "display_data"
    }
   ],
   "source": [
    "fig, (ax1,ax2) = plt.subplots(2, 1, figsize=(15, 10))\n",
    "\n",
    "sns.barplot(x='data_hora', \n",
    "            y='cumsum', \n",
    "            data=tweets_times_df, \n",
    "            ax=ax1, \n",
    "            palette=\"Blues_d\")\n",
    "\n",
    "sns.barplot(x='data_hora', \n",
    "            y='count', \n",
    "            data=tweets_times_df, \n",
    "            ax=ax2, \n",
    "            palette=\"Blues_d\")\n",
    "\n",
    "ax1.set_xticklabels(ax1.get_xticklabels(), rotation=90)\n",
    "ax1.set_xlabel('')\n",
    "\n",
    "ax2.set_xticklabels(ax2.get_xticklabels(), rotation=90)\n",
    "ax2.set_xlabel('')\n",
    "\n",
    "plt.subplots_adjust(hspace=0.6)\n",
    "plt.show()"
   ]
  },
  {
   "cell_type": "markdown",
   "metadata": {
    "ExecuteTime": {
     "end_time": "2020-06-18T02:22:03.848333Z",
     "start_time": "2020-06-18T02:22:03.526477Z"
    }
   },
   "source": [
    "## Perfis"
   ]
  },
  {
   "cell_type": "code",
   "execution_count": 30,
   "metadata": {
    "ExecuteTime": {
     "end_time": "2020-06-19T23:24:10.508523Z",
     "start_time": "2020-06-19T23:24:10.501901Z"
    }
   },
   "outputs": [],
   "source": [
    "pipeline4 = [\n",
    "    {\n",
    "        '$project': {\n",
    "            '_id': 0, \n",
    "            'created_at': {\n",
    "                '$dateFromString': {\n",
    "                    'dateString': '$user.created_at'\n",
    "                }\n",
    "            }, \n",
    "            'id': '$user.id_str', \n",
    "            'screen_name': '$user.screen_name', \n",
    "            'name': '$user.name', \n",
    "            'tweet_count': '$user.statuses_count', \n",
    "            'fav_count': '$user.favourites_count', \n",
    "            'followers': '$user.followers_count', \n",
    "            'following': '$user.friends_count'\n",
    "        }\n",
    "    }, {\n",
    "        '$project': {\n",
    "            'date_creation': {\n",
    "                '$dateToString': {\n",
    "                    'format': '%d/%m/%Y', \n",
    "                    'date': '$created_at'\n",
    "                }\n",
    "            }, \n",
    "            'id': 1, \n",
    "            'screen_name': 1, \n",
    "            'name': 1, \n",
    "            'tweet_count': 1, \n",
    "            'fav_count': 1, \n",
    "            'followers': 1, \n",
    "            'following': 1\n",
    "        }\n",
    "    }, {\n",
    "        '$group': {\n",
    "            '_id': '$id', \n",
    "            'date_creation': {\n",
    "                '$first': '$date_creation'\n",
    "            }, \n",
    "            'screen_name': {\n",
    "                '$first': '$screen_name'\n",
    "            }, \n",
    "            'name': {\n",
    "                '$first': '$name'\n",
    "            }, \n",
    "            'tweet_count': {\n",
    "                '$first': '$tweet_count'\n",
    "            }, \n",
    "            'fav_count': {\n",
    "                '$first': '$fav_count'\n",
    "            }, \n",
    "            'followers': {\n",
    "                '$first': '$followers'\n",
    "            }, \n",
    "            'following': {\n",
    "                '$first': '$following'\n",
    "            }, \n",
    "            'count': {\n",
    "                '$sum': 1\n",
    "            }\n",
    "        }\n",
    "    }, {\n",
    "        '$sort': {\n",
    "            'count': -1\n",
    "        }\n",
    "    }\n",
    "]"
   ]
  },
  {
   "cell_type": "code",
   "execution_count": 31,
   "metadata": {
    "ExecuteTime": {
     "end_time": "2020-06-19T23:26:15.523030Z",
     "start_time": "2020-06-19T23:24:12.942137Z"
    }
   },
   "outputs": [],
   "source": [
    "perfis = query(collection=collection, pipeline=pipeline4)"
   ]
  },
  {
   "cell_type": "code",
   "execution_count": 32,
   "metadata": {
    "ExecuteTime": {
     "end_time": "2020-06-19T23:26:15.630242Z",
     "start_time": "2020-06-19T23:26:15.627596Z"
    }
   },
   "outputs": [
    {
     "name": "stdout",
     "output_type": "stream",
     "text": [
      "Número de perfis presentes na base: 2765487\n"
     ]
    }
   ],
   "source": [
    "num_perfis = len(perfis)\n",
    "print(f'Número de perfis presentes na base: {num_perfis}')"
   ]
  },
  {
   "cell_type": "code",
   "execution_count": 33,
   "metadata": {
    "ExecuteTime": {
     "end_time": "2020-06-19T23:26:23.390899Z",
     "start_time": "2020-06-19T23:26:15.631561Z"
    }
   },
   "outputs": [],
   "source": [
    "perfis_df = pd.DataFrame(perfis)"
   ]
  },
  {
   "cell_type": "code",
   "execution_count": 34,
   "metadata": {
    "ExecuteTime": {
     "end_time": "2020-06-19T23:26:23.403523Z",
     "start_time": "2020-06-19T23:26:23.392233Z"
    }
   },
   "outputs": [
    {
     "data": {
      "text/html": [
       "<div>\n",
       "<style scoped>\n",
       "    .dataframe tbody tr th:only-of-type {\n",
       "        vertical-align: middle;\n",
       "    }\n",
       "\n",
       "    .dataframe tbody tr th {\n",
       "        vertical-align: top;\n",
       "    }\n",
       "\n",
       "    .dataframe thead th {\n",
       "        text-align: right;\n",
       "    }\n",
       "</style>\n",
       "<table border=\"1\" class=\"dataframe\">\n",
       "  <thead>\n",
       "    <tr style=\"text-align: right;\">\n",
       "      <th></th>\n",
       "      <th>_id</th>\n",
       "      <th>date_creation</th>\n",
       "      <th>screen_name</th>\n",
       "      <th>name</th>\n",
       "      <th>tweet_count</th>\n",
       "      <th>fav_count</th>\n",
       "      <th>followers</th>\n",
       "      <th>following</th>\n",
       "      <th>count</th>\n",
       "    </tr>\n",
       "  </thead>\n",
       "  <tbody>\n",
       "    <tr>\n",
       "      <th>0</th>\n",
       "      <td>1143528514550927361</td>\n",
       "      <td>25/06/2019</td>\n",
       "      <td>femtech_</td>\n",
       "      <td>FemTech_🖥👩🏽‍💻</td>\n",
       "      <td>451838</td>\n",
       "      <td>37</td>\n",
       "      <td>10915</td>\n",
       "      <td>1</td>\n",
       "      <td>1970</td>\n",
       "    </tr>\n",
       "    <tr>\n",
       "      <th>1</th>\n",
       "      <td>2288134782</td>\n",
       "      <td>12/01/2014</td>\n",
       "      <td>EngrKumbhakar</td>\n",
       "      <td>rajesh kumbhakar</td>\n",
       "      <td>44686</td>\n",
       "      <td>38009</td>\n",
       "      <td>296</td>\n",
       "      <td>515</td>\n",
       "      <td>731</td>\n",
       "    </tr>\n",
       "    <tr>\n",
       "      <th>2</th>\n",
       "      <td>2853199524</td>\n",
       "      <td>12/10/2014</td>\n",
       "      <td>VBInsan1</td>\n",
       "      <td>V B Bansal</td>\n",
       "      <td>971686</td>\n",
       "      <td>3910</td>\n",
       "      <td>2244</td>\n",
       "      <td>2126</td>\n",
       "      <td>545</td>\n",
       "    </tr>\n",
       "    <tr>\n",
       "      <th>3</th>\n",
       "      <td>2325964293</td>\n",
       "      <td>05/02/2014</td>\n",
       "      <td>tyagi40</td>\n",
       "      <td>Dr.Rajneesh Tyagi</td>\n",
       "      <td>812606</td>\n",
       "      <td>0</td>\n",
       "      <td>6655</td>\n",
       "      <td>0</td>\n",
       "      <td>534</td>\n",
       "    </tr>\n",
       "    <tr>\n",
       "      <th>4</th>\n",
       "      <td>1017637448472391680</td>\n",
       "      <td>13/07/2018</td>\n",
       "      <td>imVicky_insan</td>\n",
       "      <td>Vikram insan 🇮🇳</td>\n",
       "      <td>274851</td>\n",
       "      <td>210060</td>\n",
       "      <td>1128</td>\n",
       "      <td>496</td>\n",
       "      <td>528</td>\n",
       "    </tr>\n",
       "    <tr>\n",
       "      <th>5</th>\n",
       "      <td>1122535081615060993</td>\n",
       "      <td>28/04/2019</td>\n",
       "      <td>NidhiKa89393815</td>\n",
       "      <td>Nidhi Kashyap</td>\n",
       "      <td>19621</td>\n",
       "      <td>16660</td>\n",
       "      <td>471</td>\n",
       "      <td>626</td>\n",
       "      <td>521</td>\n",
       "    </tr>\n",
       "    <tr>\n",
       "      <th>6</th>\n",
       "      <td>850980725407068160</td>\n",
       "      <td>09/04/2017</td>\n",
       "      <td>RameshG1509</td>\n",
       "      <td>Ramesh Gandhi</td>\n",
       "      <td>282115</td>\n",
       "      <td>223175</td>\n",
       "      <td>4786</td>\n",
       "      <td>1742</td>\n",
       "      <td>465</td>\n",
       "    </tr>\n",
       "    <tr>\n",
       "      <th>7</th>\n",
       "      <td>716096097358209024</td>\n",
       "      <td>02/04/2016</td>\n",
       "      <td>deepak_mragwani</td>\n",
       "      <td>Deepak_mragwani</td>\n",
       "      <td>277137</td>\n",
       "      <td>215058</td>\n",
       "      <td>9254</td>\n",
       "      <td>5354</td>\n",
       "      <td>464</td>\n",
       "    </tr>\n",
       "    <tr>\n",
       "      <th>8</th>\n",
       "      <td>241458756</td>\n",
       "      <td>22/01/2011</td>\n",
       "      <td>IndRenaissance1</td>\n",
       "      <td>𝐍𝐞𝐨-𝐒𝐨𝐜𝐢𝐚𝐥 𝐑𝐞𝐟𝐨𝐫𝐦 (𝐂𝐨𝐯𝐢𝐝-𝟏𝟗)</td>\n",
       "      <td>22998</td>\n",
       "      <td>10988</td>\n",
       "      <td>161</td>\n",
       "      <td>5137</td>\n",
       "      <td>461</td>\n",
       "    </tr>\n",
       "    <tr>\n",
       "      <th>9</th>\n",
       "      <td>721669117032402948</td>\n",
       "      <td>17/04/2016</td>\n",
       "      <td>sanju_gouda</td>\n",
       "      <td>🚩Sanju Gouda🚩</td>\n",
       "      <td>119924</td>\n",
       "      <td>81967</td>\n",
       "      <td>2359</td>\n",
       "      <td>2255</td>\n",
       "      <td>460</td>\n",
       "    </tr>\n",
       "  </tbody>\n",
       "</table>\n",
       "</div>"
      ],
      "text/plain": [
       "                   _id date_creation      screen_name  \\\n",
       "0  1143528514550927361    25/06/2019         femtech_   \n",
       "1           2288134782    12/01/2014    EngrKumbhakar   \n",
       "2           2853199524    12/10/2014         VBInsan1   \n",
       "3           2325964293    05/02/2014          tyagi40   \n",
       "4  1017637448472391680    13/07/2018    imVicky_insan   \n",
       "5  1122535081615060993    28/04/2019  NidhiKa89393815   \n",
       "6   850980725407068160    09/04/2017      RameshG1509   \n",
       "7   716096097358209024    02/04/2016  deepak_mragwani   \n",
       "8            241458756    22/01/2011  IndRenaissance1   \n",
       "9   721669117032402948    17/04/2016      sanju_gouda   \n",
       "\n",
       "                           name  tweet_count  fav_count  followers  following  \\\n",
       "0                 FemTech_🖥👩🏽‍💻       451838         37      10915          1   \n",
       "1              rajesh kumbhakar        44686      38009        296        515   \n",
       "2                    V B Bansal       971686       3910       2244       2126   \n",
       "3             Dr.Rajneesh Tyagi       812606          0       6655          0   \n",
       "4               Vikram insan 🇮🇳       274851     210060       1128        496   \n",
       "5                 Nidhi Kashyap        19621      16660        471        626   \n",
       "6                 Ramesh Gandhi       282115     223175       4786       1742   \n",
       "7               Deepak_mragwani       277137     215058       9254       5354   \n",
       "8  𝐍𝐞𝐨-𝐒𝐨𝐜𝐢𝐚𝐥 𝐑𝐞𝐟𝐨𝐫𝐦 (𝐂𝐨𝐯𝐢𝐝-𝟏𝟗)        22998      10988        161       5137   \n",
       "9                 🚩Sanju Gouda🚩       119924      81967       2359       2255   \n",
       "\n",
       "   count  \n",
       "0   1970  \n",
       "1    731  \n",
       "2    545  \n",
       "3    534  \n",
       "4    528  \n",
       "5    521  \n",
       "6    465  \n",
       "7    464  \n",
       "8    461  \n",
       "9    460  "
      ]
     },
     "execution_count": 34,
     "metadata": {},
     "output_type": "execute_result"
    }
   ],
   "source": [
    "perfis_df.head(10)"
   ]
  },
  {
   "cell_type": "markdown",
   "metadata": {},
   "source": [
    "## Tweets"
   ]
  },
  {
   "cell_type": "code",
   "execution_count": 35,
   "metadata": {
    "ExecuteTime": {
     "end_time": "2020-06-19T23:26:52.481439Z",
     "start_time": "2020-06-19T23:26:52.474796Z"
    }
   },
   "outputs": [],
   "source": [
    "pipeline5 = [\n",
    "    {\n",
    "        '$project': {\n",
    "            'tweet_id': '$id_str', \n",
    "            'date': {\n",
    "                '$dateFromString': {\n",
    "                    'dateString': '$created_at'\n",
    "                }\n",
    "            }, \n",
    "            'author': '$user.screen_name',\n",
    "            'tweet_text': {\n",
    "                '$ifNull': [\n",
    "                    '$retweeted_status.full_text', '$full_text'\n",
    "                ]\n",
    "            }, \n",
    "            'language': '$lang',\n",
    "            'num_likes': '$favorite_count', \n",
    "            'num_retweets': '$retweet_count', \n",
    "            'quoted_status_id': {\n",
    "                '$ifNull': [\n",
    "                    '$quoted_status_id_str', None\n",
    "                ]\n",
    "            }, \n",
    "            'retweeted_status_id': {\n",
    "                '$ifNull': [\n",
    "                    '$retweeted_status.id_str', None\n",
    "                ]\n",
    "            }, \n",
    "            'reply_to_user': {\n",
    "                '$ifNull': [\n",
    "                    '$in_reply_to_user_id_str', None\n",
    "                ]\n",
    "            }, \n",
    "            'reply_to_status': {\n",
    "                '$ifNull': [\n",
    "                    '$in_reply_to_status_id_str', None\n",
    "                ]\n",
    "            } \n",
    "        }\n",
    "    }, {\n",
    "        '$project': {\n",
    "            '_id': 0, \n",
    "            'tweet_id': 1, \n",
    "            'date': {\n",
    "                '$dateToString': {\n",
    "                    'format': '%d/%m/%Y %H:%M:%S', \n",
    "                    'date': '$date'\n",
    "                }\n",
    "            }, \n",
    "            'author': 1,\n",
    "            'tweet_text': 1, \n",
    "            'language': 1,\n",
    "            'num_likes': 1, \n",
    "            'num_retweets': 1, \n",
    "            'quoted_status_id': 1, \n",
    "            'retweeted_status_id': 1, \n",
    "            'reply_to_user': 1, \n",
    "            'reply_to_status': 1\n",
    "        }\n",
    "    }\n",
    "]"
   ]
  },
  {
   "cell_type": "code",
   "execution_count": 36,
   "metadata": {
    "ExecuteTime": {
     "end_time": "2020-06-19T23:32:19.207155Z",
     "start_time": "2020-06-19T23:26:53.322437Z"
    }
   },
   "outputs": [],
   "source": [
    "tweets = query(collection=collection, pipeline=pipeline5)"
   ]
  },
  {
   "cell_type": "code",
   "execution_count": 37,
   "metadata": {
    "ExecuteTime": {
     "end_time": "2020-06-19T23:32:20.551234Z",
     "start_time": "2020-06-19T23:32:19.857644Z"
    }
   },
   "outputs": [
    {
     "data": {
      "text/plain": [
       "{'tweet_id': '1236411306200174592',\n",
       " 'author': 'danismanoz',\n",
       " 'tweet_text': \"🔷 #8M Görüldü'nün gözünden \\n\\n🔺İnadına İsyan İnadına Özgürlük: Kadın\\n\\n📎 Tamamı: https://t.co/Y5erz0MDyt https://t.co/w8ntmdXzuN\",\n",
       " 'language': 'tr',\n",
       " 'num_likes': 0,\n",
       " 'num_retweets': 5,\n",
       " 'quoted_status_id': None,\n",
       " 'retweeted_status_id': '1236399729593942017',\n",
       " 'reply_to_user': None,\n",
       " 'reply_to_status': None,\n",
       " 'date': '07/03/2020 22:00:01'}"
      ]
     },
     "execution_count": 37,
     "metadata": {},
     "output_type": "execute_result"
    }
   ],
   "source": [
    "tweets[0]"
   ]
  },
  {
   "cell_type": "code",
   "execution_count": 38,
   "metadata": {
    "ExecuteTime": {
     "end_time": "2020-06-19T23:32:20.804200Z",
     "start_time": "2020-06-19T23:32:20.595631Z"
    }
   },
   "outputs": [
    {
     "name": "stdout",
     "output_type": "stream",
     "text": [
      "Documentos presentes na base: 5558171\n"
     ]
    }
   ],
   "source": [
    "num_tweets = len(tweets)\n",
    "print(f'Documentos presentes na base: {num_tweets}')"
   ]
  },
  {
   "cell_type": "code",
   "execution_count": 39,
   "metadata": {
    "ExecuteTime": {
     "end_time": "2020-06-19T23:33:05.309054Z",
     "start_time": "2020-06-19T23:32:20.813908Z"
    }
   },
   "outputs": [],
   "source": [
    "tweets_df = pd.DataFrame(tweets)"
   ]
  },
  {
   "cell_type": "code",
   "execution_count": 40,
   "metadata": {
    "ExecuteTime": {
     "end_time": "2020-06-19T23:39:42.089297Z",
     "start_time": "2020-06-19T23:39:41.915523Z"
    }
   },
   "outputs": [
    {
     "data": {
      "text/html": [
       "<div>\n",
       "<style scoped>\n",
       "    .dataframe tbody tr th:only-of-type {\n",
       "        vertical-align: middle;\n",
       "    }\n",
       "\n",
       "    .dataframe tbody tr th {\n",
       "        vertical-align: top;\n",
       "    }\n",
       "\n",
       "    .dataframe thead th {\n",
       "        text-align: right;\n",
       "    }\n",
       "</style>\n",
       "<table border=\"1\" class=\"dataframe\">\n",
       "  <thead>\n",
       "    <tr style=\"text-align: right;\">\n",
       "      <th></th>\n",
       "      <th>tweet_id</th>\n",
       "      <th>author</th>\n",
       "      <th>tweet_text</th>\n",
       "      <th>language</th>\n",
       "      <th>num_likes</th>\n",
       "      <th>num_retweets</th>\n",
       "      <th>quoted_status_id</th>\n",
       "      <th>retweeted_status_id</th>\n",
       "      <th>reply_to_user</th>\n",
       "      <th>reply_to_status</th>\n",
       "      <th>date</th>\n",
       "    </tr>\n",
       "  </thead>\n",
       "  <tbody>\n",
       "    <tr>\n",
       "      <th>0</th>\n",
       "      <td>1236411306200174592</td>\n",
       "      <td>danismanoz</td>\n",
       "      <td>🔷 #8M Görüldü'nün gözünden \\n\\n🔺İnadına İsyan ...</td>\n",
       "      <td>tr</td>\n",
       "      <td>0</td>\n",
       "      <td>5</td>\n",
       "      <td>None</td>\n",
       "      <td>1236399729593942017</td>\n",
       "      <td>None</td>\n",
       "      <td>None</td>\n",
       "      <td>07/03/2020 22:00:01</td>\n",
       "    </tr>\n",
       "    <tr>\n",
       "      <th>1</th>\n",
       "      <td>1236411302693801984</td>\n",
       "      <td>PCI_Unimelb</td>\n",
       "      <td>Essential reading for all of us working in dat...</td>\n",
       "      <td>en</td>\n",
       "      <td>17</td>\n",
       "      <td>10</td>\n",
       "      <td>None</td>\n",
       "      <td>None</td>\n",
       "      <td>None</td>\n",
       "      <td>None</td>\n",
       "      <td>07/03/2020 22:00:00</td>\n",
       "    </tr>\n",
       "    <tr>\n",
       "      <th>2</th>\n",
       "      <td>1236411304237285377</td>\n",
       "      <td>00agent21</td>\n",
       "      <td>Women. Are. Amazing. At 7 months pregnant I st...</td>\n",
       "      <td>en</td>\n",
       "      <td>0</td>\n",
       "      <td>41</td>\n",
       "      <td>None</td>\n",
       "      <td>1236410293011582977</td>\n",
       "      <td>None</td>\n",
       "      <td>None</td>\n",
       "      <td>07/03/2020 22:00:00</td>\n",
       "    </tr>\n",
       "    <tr>\n",
       "      <th>3</th>\n",
       "      <td>1236411303364833280</td>\n",
       "      <td>FM1061</td>\n",
       "      <td>This weekend is #IWD2020 and we’ve got the @Wo...</td>\n",
       "      <td>en</td>\n",
       "      <td>4</td>\n",
       "      <td>2</td>\n",
       "      <td>None</td>\n",
       "      <td>None</td>\n",
       "      <td>None</td>\n",
       "      <td>None</td>\n",
       "      <td>07/03/2020 22:00:00</td>\n",
       "    </tr>\n",
       "    <tr>\n",
       "      <th>4</th>\n",
       "      <td>1236411302895124487</td>\n",
       "      <td>GovernoMA</td>\n",
       "      <td>Sol com cara O projeto Inclusive, Praia! está ...</td>\n",
       "      <td>pt</td>\n",
       "      <td>8</td>\n",
       "      <td>2</td>\n",
       "      <td>None</td>\n",
       "      <td>None</td>\n",
       "      <td>None</td>\n",
       "      <td>None</td>\n",
       "      <td>07/03/2020 22:00:00</td>\n",
       "    </tr>\n",
       "    <tr>\n",
       "      <th>5</th>\n",
       "      <td>1236411301213147139</td>\n",
       "      <td>excitonscience</td>\n",
       "      <td>Centre members Yvonne Hora, Boer Tan and Eliza...</td>\n",
       "      <td>en</td>\n",
       "      <td>12</td>\n",
       "      <td>2</td>\n",
       "      <td>None</td>\n",
       "      <td>None</td>\n",
       "      <td>None</td>\n",
       "      <td>None</td>\n",
       "      <td>07/03/2020 22:00:00</td>\n",
       "    </tr>\n",
       "    <tr>\n",
       "      <th>6</th>\n",
       "      <td>1236411302286888963</td>\n",
       "      <td>DatamosMx</td>\n",
       "      <td>Rumbo al #8M | Usuarios de redes sociales conv...</td>\n",
       "      <td>es</td>\n",
       "      <td>0</td>\n",
       "      <td>0</td>\n",
       "      <td>None</td>\n",
       "      <td>None</td>\n",
       "      <td>None</td>\n",
       "      <td>None</td>\n",
       "      <td>07/03/2020 22:00:00</td>\n",
       "    </tr>\n",
       "    <tr>\n",
       "      <th>7</th>\n",
       "      <td>1236411302152634368</td>\n",
       "      <td>AFL</td>\n",
       "      <td>Happy International Women's Day 💜 #IWD2020\\n\\n...</td>\n",
       "      <td>en</td>\n",
       "      <td>104</td>\n",
       "      <td>9</td>\n",
       "      <td>None</td>\n",
       "      <td>None</td>\n",
       "      <td>None</td>\n",
       "      <td>None</td>\n",
       "      <td>07/03/2020 22:00:00</td>\n",
       "    </tr>\n",
       "    <tr>\n",
       "      <th>8</th>\n",
       "      <td>1236411300894425088</td>\n",
       "      <td>footballnsw</td>\n",
       "      <td>Here's to strong women.\\nMay we know them.\\nMa...</td>\n",
       "      <td>en</td>\n",
       "      <td>19</td>\n",
       "      <td>1</td>\n",
       "      <td>None</td>\n",
       "      <td>None</td>\n",
       "      <td>None</td>\n",
       "      <td>None</td>\n",
       "      <td>07/03/2020 22:00:00</td>\n",
       "    </tr>\n",
       "    <tr>\n",
       "      <th>9</th>\n",
       "      <td>1236411287564718080</td>\n",
       "      <td>noah_sbyard</td>\n",
       "      <td>Happy #IWD2020 to everyone marching and campai...</td>\n",
       "      <td>en</td>\n",
       "      <td>0</td>\n",
       "      <td>22</td>\n",
       "      <td>None</td>\n",
       "      <td>1236403525908754433</td>\n",
       "      <td>None</td>\n",
       "      <td>None</td>\n",
       "      <td>07/03/2020 21:59:57</td>\n",
       "    </tr>\n",
       "  </tbody>\n",
       "</table>\n",
       "</div>"
      ],
      "text/plain": [
       "              tweet_id          author  \\\n",
       "0  1236411306200174592      danismanoz   \n",
       "1  1236411302693801984     PCI_Unimelb   \n",
       "2  1236411304237285377       00agent21   \n",
       "3  1236411303364833280          FM1061   \n",
       "4  1236411302895124487       GovernoMA   \n",
       "5  1236411301213147139  excitonscience   \n",
       "6  1236411302286888963       DatamosMx   \n",
       "7  1236411302152634368             AFL   \n",
       "8  1236411300894425088     footballnsw   \n",
       "9  1236411287564718080     noah_sbyard   \n",
       "\n",
       "                                          tweet_text language  num_likes  \\\n",
       "0  🔷 #8M Görüldü'nün gözünden \\n\\n🔺İnadına İsyan ...       tr          0   \n",
       "1  Essential reading for all of us working in dat...       en         17   \n",
       "2  Women. Are. Amazing. At 7 months pregnant I st...       en          0   \n",
       "3  This weekend is #IWD2020 and we’ve got the @Wo...       en          4   \n",
       "4  Sol com cara O projeto Inclusive, Praia! está ...       pt          8   \n",
       "5  Centre members Yvonne Hora, Boer Tan and Eliza...       en         12   \n",
       "6  Rumbo al #8M | Usuarios de redes sociales conv...       es          0   \n",
       "7  Happy International Women's Day 💜 #IWD2020\\n\\n...       en        104   \n",
       "8  Here's to strong women.\\nMay we know them.\\nMa...       en         19   \n",
       "9  Happy #IWD2020 to everyone marching and campai...       en          0   \n",
       "\n",
       "   num_retweets quoted_status_id  retweeted_status_id reply_to_user  \\\n",
       "0             5             None  1236399729593942017          None   \n",
       "1            10             None                 None          None   \n",
       "2            41             None  1236410293011582977          None   \n",
       "3             2             None                 None          None   \n",
       "4             2             None                 None          None   \n",
       "5             2             None                 None          None   \n",
       "6             0             None                 None          None   \n",
       "7             9             None                 None          None   \n",
       "8             1             None                 None          None   \n",
       "9            22             None  1236403525908754433          None   \n",
       "\n",
       "  reply_to_status                 date  \n",
       "0            None  07/03/2020 22:00:01  \n",
       "1            None  07/03/2020 22:00:00  \n",
       "2            None  07/03/2020 22:00:00  \n",
       "3            None  07/03/2020 22:00:00  \n",
       "4            None  07/03/2020 22:00:00  \n",
       "5            None  07/03/2020 22:00:00  \n",
       "6            None  07/03/2020 22:00:00  \n",
       "7            None  07/03/2020 22:00:00  \n",
       "8            None  07/03/2020 22:00:00  \n",
       "9            None  07/03/2020 21:59:57  "
      ]
     },
     "execution_count": 40,
     "metadata": {},
     "output_type": "execute_result"
    }
   ],
   "source": [
    "tweets_df.head(10)"
   ]
  },
  {
   "cell_type": "code",
   "execution_count": 47,
   "metadata": {
    "ExecuteTime": {
     "end_time": "2020-06-20T00:02:44.816261Z",
     "start_time": "2020-06-19T23:59:35.129431Z"
    }
   },
   "outputs": [],
   "source": [
    "tweets_df.to_parquet('tweets.parquet.gzip', compression='gzip')"
   ]
  },
  {
   "cell_type": "markdown",
   "metadata": {},
   "source": [
    "### Frequência"
   ]
  },
  {
   "cell_type": "code",
   "execution_count": 41,
   "metadata": {
    "ExecuteTime": {
     "end_time": "2020-06-19T23:43:41.726281Z",
     "start_time": "2020-06-19T23:43:36.388044Z"
    }
   },
   "outputs": [
    {
     "data": {
      "text/plain": [
       "1276118"
      ]
     },
     "execution_count": 41,
     "metadata": {},
     "output_type": "execute_result"
    }
   ],
   "source": [
    "num_unique_tweets = len(tweets_df['tweet_text'].value_counts())\n",
    "num_unique_tweets"
   ]
  },
  {
   "cell_type": "code",
   "execution_count": 42,
   "metadata": {
    "ExecuteTime": {
     "end_time": "2020-06-19T23:43:54.358751Z",
     "start_time": "2020-06-19T23:43:50.249210Z"
    }
   },
   "outputs": [
    {
     "data": {
      "text/html": [
       "<div>\n",
       "<style scoped>\n",
       "    .dataframe tbody tr th:only-of-type {\n",
       "        vertical-align: middle;\n",
       "    }\n",
       "\n",
       "    .dataframe tbody tr th {\n",
       "        vertical-align: top;\n",
       "    }\n",
       "\n",
       "    .dataframe thead th {\n",
       "        text-align: right;\n",
       "    }\n",
       "</style>\n",
       "<table border=\"1\" class=\"dataframe\">\n",
       "  <thead>\n",
       "    <tr style=\"text-align: right;\">\n",
       "      <th></th>\n",
       "      <th>unique_values</th>\n",
       "      <th>counts</th>\n",
       "    </tr>\n",
       "  </thead>\n",
       "  <tbody>\n",
       "    <tr>\n",
       "      <th>0</th>\n",
       "      <td>#InternationalWomensDay https://t.co/MgT8Df2IAV</td>\n",
       "      <td>39091</td>\n",
       "    </tr>\n",
       "    <tr>\n",
       "      <th>1</th>\n",
       "      <td>E o motorista do 630 que todo ano na semana do dia internacional da mulher enfeita o ônibus todo e dar uma lembrancinha para todas as mulheres que entram no ônibus 😍😍❤️❤️😭 https://t.co/SNSfrNM6L6</td>\n",
       "      <td>18798</td>\n",
       "    </tr>\n",
       "    <tr>\n",
       "      <th>2</th>\n",
       "      <td>\"8 de março de 1857, morreram aproximadamente 130 mulheres carbonizadas quando foram trancadas na fábrica de tecelagem, em Nova York, onde trabalhavam, por estarem em greve. Em homenagem a essas mulheres, em 1910, declarou-se o dia 8 de março como o \"Dia Internacional da Mulher\". https://t.co/VyABZO6WrU</td>\n",
       "      <td>17188</td>\n",
       "    </tr>\n",
       "    <tr>\n",
       "      <th>3</th>\n",
       "      <td>Today is #InternationalWomensDay and we recognise that women are still far from equal to men in today’s societies.\\nWe can not have climate justice without gender equity.\\n\\nAnd remember; what we women want today - and every day- is equality, not congratulations or celebrations. https://t.co/g1CuEN6YLX</td>\n",
       "      <td>15848</td>\n",
       "    </tr>\n",
       "    <tr>\n",
       "      <th>4</th>\n",
       "      <td>Berpendidikan tanpa perlu takut dengan “Cowok enggak suka cewek yang terlalu pintar”. Berdandan tanpa perlu peduli dengan “Aku suka wajahmu apa adanya”. Kejar mimpi tanpa perlu galau dengan “Kamu pilih mimpimu atau aku”. Kamu hebat dengan perjuanganmu\\n.\\n#HappyWomensDay2020</td>\n",
       "      <td>15690</td>\n",
       "    </tr>\n",
       "    <tr>\n",
       "      <th>5</th>\n",
       "      <td>Feliz será el día que no falte ninguna #8M https://t.co/BnVM4Bd95p</td>\n",
       "      <td>15585</td>\n",
       "    </tr>\n",
       "    <tr>\n",
       "      <th>6</th>\n",
       "      <td>Dedicating my International Womens Day to this fine woman👏 #IWD2020\\nhttps://t.co/5izf7cxi3B</td>\n",
       "      <td>14156</td>\n",
       "    </tr>\n",
       "    <tr>\n",
       "      <th>7</th>\n",
       "      <td>dia internacional da mulher, não pode faltar https://t.co/MRYwQyhx14</td>\n",
       "      <td>13179</td>\n",
       "    </tr>\n",
       "    <tr>\n",
       "      <th>8</th>\n",
       "      <td>8 de marzo de 1908\\n\\n129 trabajadoras fueron quemadas vivas por hacer huelga y lograr los derechos que ahora gozamos.\\n\\nNo hay festejo; conmemoración, respeto y valía.\\n\\n#8M2020 \\n#DiaInternacionalDeLaMujer  \\n#InternationalWomensDay https://t.co/DnFLS9ZCpe</td>\n",
       "      <td>11701</td>\n",
       "    </tr>\n",
       "    <tr>\n",
       "      <th>9</th>\n",
       "      <td>Somos incríveis. #diadasmulheres #DiaDaMulher https://t.co/XnrdVS4WH0</td>\n",
       "      <td>11289</td>\n",
       "    </tr>\n",
       "  </tbody>\n",
       "</table>\n",
       "</div>"
      ],
      "text/plain": [
       "                                                                                                                                                                                                                                                                                                      unique_values  \\\n",
       "0                                                                                                                                                                                                                                                                   #InternationalWomensDay https://t.co/MgT8Df2IAV   \n",
       "1                                                                                                               E o motorista do 630 que todo ano na semana do dia internacional da mulher enfeita o ônibus todo e dar uma lembrancinha para todas as mulheres que entram no ônibus 😍😍❤️❤️😭 https://t.co/SNSfrNM6L6   \n",
       "2  \"8 de março de 1857, morreram aproximadamente 130 mulheres carbonizadas quando foram trancadas na fábrica de tecelagem, em Nova York, onde trabalhavam, por estarem em greve. Em homenagem a essas mulheres, em 1910, declarou-se o dia 8 de março como o \"Dia Internacional da Mulher\". https://t.co/VyABZO6WrU   \n",
       "3   Today is #InternationalWomensDay and we recognise that women are still far from equal to men in today’s societies.\\nWe can not have climate justice without gender equity.\\n\\nAnd remember; what we women want today - and every day- is equality, not congratulations or celebrations. https://t.co/g1CuEN6YLX   \n",
       "4                               Berpendidikan tanpa perlu takut dengan “Cowok enggak suka cewek yang terlalu pintar”. Berdandan tanpa perlu peduli dengan “Aku suka wajahmu apa adanya”. Kejar mimpi tanpa perlu galau dengan “Kamu pilih mimpimu atau aku”. Kamu hebat dengan perjuanganmu\\n.\\n#HappyWomensDay2020   \n",
       "5                                                                                                                                                                                                                                                Feliz será el día que no falte ninguna #8M https://t.co/BnVM4Bd95p   \n",
       "6                                                                                                                                                                                                                      Dedicating my International Womens Day to this fine woman👏 #IWD2020\\nhttps://t.co/5izf7cxi3B   \n",
       "7                                                                                                                                                                                                                                              dia internacional da mulher, não pode faltar https://t.co/MRYwQyhx14   \n",
       "8                                              8 de marzo de 1908\\n\\n129 trabajadoras fueron quemadas vivas por hacer huelga y lograr los derechos que ahora gozamos.\\n\\nNo hay festejo; conmemoración, respeto y valía.\\n\\n#8M2020 \\n#DiaInternacionalDeLaMujer  \\n#InternationalWomensDay https://t.co/DnFLS9ZCpe   \n",
       "9                                                                                                                                                                                                                                             Somos incríveis. #diadasmulheres #DiaDaMulher https://t.co/XnrdVS4WH0   \n",
       "\n",
       "   counts  \n",
       "0   39091  \n",
       "1   18798  \n",
       "2   17188  \n",
       "3   15848  \n",
       "4   15690  \n",
       "5   15585  \n",
       "6   14156  \n",
       "7   13179  \n",
       "8   11701  \n",
       "9   11289  "
      ]
     },
     "execution_count": 42,
     "metadata": {},
     "output_type": "execute_result"
    }
   ],
   "source": [
    "text_df = pd.DataFrame(tweets_df['tweet_text'].value_counts(\n",
    ").rename_axis('unique_values').reset_index(name='counts'))\n",
    "\n",
    "pd.set_option('display.max_colwidth', None)\n",
    "text_df.head(10)"
   ]
  },
  {
   "cell_type": "code",
   "execution_count": 52,
   "metadata": {
    "ExecuteTime": {
     "end_time": "2020-06-20T00:23:40.401282Z",
     "start_time": "2020-06-20T00:23:12.316469Z"
    }
   },
   "outputs": [],
   "source": [
    "text_df.to_parquet('text.parquet.gzip', compression='gzip')"
   ]
  },
  {
   "cell_type": "markdown",
   "metadata": {},
   "source": [
    "#### = 1"
   ]
  },
  {
   "cell_type": "code",
   "execution_count": 43,
   "metadata": {
    "ExecuteTime": {
     "end_time": "2020-06-19T23:44:05.328716Z",
     "start_time": "2020-06-19T23:44:04.657897Z"
    }
   },
   "outputs": [
    {
     "data": {
      "text/plain": [
       "881169"
      ]
     },
     "execution_count": 43,
     "metadata": {},
     "output_type": "execute_result"
    }
   ],
   "source": [
    "index = text_df['counts']==1\n",
    "num_one_text = len(text_df[index])\n",
    "num_one_text"
   ]
  },
  {
   "cell_type": "markdown",
   "metadata": {},
   "source": [
    "#### > 1"
   ]
  },
  {
   "cell_type": "code",
   "execution_count": 44,
   "metadata": {
    "ExecuteTime": {
     "end_time": "2020-06-19T23:44:09.351770Z",
     "start_time": "2020-06-19T23:44:09.331275Z"
    }
   },
   "outputs": [
    {
     "data": {
      "text/plain": [
       "4677002"
      ]
     },
     "execution_count": 44,
     "metadata": {},
     "output_type": "execute_result"
    }
   ],
   "source": [
    "num_repeat_text = num_tweets - num_one_text\n",
    "num_repeat_text"
   ]
  },
  {
   "cell_type": "markdown",
   "metadata": {},
   "source": [
    "### Curtidas"
   ]
  },
  {
   "cell_type": "code",
   "execution_count": 45,
   "metadata": {
    "ExecuteTime": {
     "end_time": "2020-06-19T23:51:45.797204Z",
     "start_time": "2020-06-19T23:51:43.435190Z"
    }
   },
   "outputs": [],
   "source": [
    "likes_df = tweets_df.sort_values(by=['num_likes'], ascending=False)"
   ]
  },
  {
   "cell_type": "code",
   "execution_count": 49,
   "metadata": {
    "ExecuteTime": {
     "end_time": "2020-06-20T00:10:38.245002Z",
     "start_time": "2020-06-20T00:10:38.229146Z"
    }
   },
   "outputs": [
    {
     "data": {
      "text/html": [
       "<style  type=\"text/css\" >\n",
       "    #T_785671e6_b28a_11ea_85db_5d3f9e2d6a0brow0_col4 {\n",
       "            background-color:  #D3D3D3;\n",
       "        }    #T_785671e6_b28a_11ea_85db_5d3f9e2d6a0brow1_col4 {\n",
       "            background-color:  #D3D3D3;\n",
       "        }    #T_785671e6_b28a_11ea_85db_5d3f9e2d6a0brow2_col4 {\n",
       "            background-color:  #D3D3D3;\n",
       "        }    #T_785671e6_b28a_11ea_85db_5d3f9e2d6a0brow3_col4 {\n",
       "            background-color:  #D3D3D3;\n",
       "        }    #T_785671e6_b28a_11ea_85db_5d3f9e2d6a0brow4_col4 {\n",
       "            background-color:  #D3D3D3;\n",
       "        }    #T_785671e6_b28a_11ea_85db_5d3f9e2d6a0brow5_col4 {\n",
       "            background-color:  #D3D3D3;\n",
       "        }    #T_785671e6_b28a_11ea_85db_5d3f9e2d6a0brow6_col4 {\n",
       "            background-color:  #D3D3D3;\n",
       "        }    #T_785671e6_b28a_11ea_85db_5d3f9e2d6a0brow7_col4 {\n",
       "            background-color:  #D3D3D3;\n",
       "        }    #T_785671e6_b28a_11ea_85db_5d3f9e2d6a0brow8_col4 {\n",
       "            background-color:  #D3D3D3;\n",
       "        }    #T_785671e6_b28a_11ea_85db_5d3f9e2d6a0brow9_col4 {\n",
       "            background-color:  #D3D3D3;\n",
       "        }</style><table id=\"T_785671e6_b28a_11ea_85db_5d3f9e2d6a0b\" ><thead>    <tr>        <th class=\"blank level0\" ></th>        <th class=\"col_heading level0 col0\" >tweet_id</th>        <th class=\"col_heading level0 col1\" >author</th>        <th class=\"col_heading level0 col2\" >tweet_text</th>        <th class=\"col_heading level0 col3\" >language</th>        <th class=\"col_heading level0 col4\" >num_likes</th>        <th class=\"col_heading level0 col5\" >num_retweets</th>        <th class=\"col_heading level0 col6\" >quoted_status_id</th>        <th class=\"col_heading level0 col7\" >retweeted_status_id</th>        <th class=\"col_heading level0 col8\" >reply_to_user</th>        <th class=\"col_heading level0 col9\" >reply_to_status</th>        <th class=\"col_heading level0 col10\" >date</th>    </tr></thead><tbody>\n",
       "                <tr>\n",
       "                        <th id=\"T_785671e6_b28a_11ea_85db_5d3f9e2d6a0blevel0_row0\" class=\"row_heading level0 row0\" >1649436</th>\n",
       "                        <td id=\"T_785671e6_b28a_11ea_85db_5d3f9e2d6a0brow0_col0\" class=\"data row0 col0\" >1236704401818935301</td>\n",
       "                        <td id=\"T_785671e6_b28a_11ea_85db_5d3f9e2d6a0brow0_col1\" class=\"data row0 col1\" >EspirituJoto</td>\n",
       "                        <td id=\"T_785671e6_b28a_11ea_85db_5d3f9e2d6a0brow0_col2\" class=\"data row0 col2\" >#InternationalWomensDay https://t.co/MgT8Df2IAV</td>\n",
       "                        <td id=\"T_785671e6_b28a_11ea_85db_5d3f9e2d6a0brow0_col3\" class=\"data row0 col3\" >und</td>\n",
       "                        <td id=\"T_785671e6_b28a_11ea_85db_5d3f9e2d6a0brow0_col4\" class=\"data row0 col4\" >294578</td>\n",
       "                        <td id=\"T_785671e6_b28a_11ea_85db_5d3f9e2d6a0brow0_col5\" class=\"data row0 col5\" >95573</td>\n",
       "                        <td id=\"T_785671e6_b28a_11ea_85db_5d3f9e2d6a0brow0_col6\" class=\"data row0 col6\" >None</td>\n",
       "                        <td id=\"T_785671e6_b28a_11ea_85db_5d3f9e2d6a0brow0_col7\" class=\"data row0 col7\" >None</td>\n",
       "                        <td id=\"T_785671e6_b28a_11ea_85db_5d3f9e2d6a0brow0_col8\" class=\"data row0 col8\" >None</td>\n",
       "                        <td id=\"T_785671e6_b28a_11ea_85db_5d3f9e2d6a0brow0_col9\" class=\"data row0 col9\" >None</td>\n",
       "                        <td id=\"T_785671e6_b28a_11ea_85db_5d3f9e2d6a0brow0_col10\" class=\"data row0 col10\" >08/03/2020 17:24:40</td>\n",
       "            </tr>\n",
       "            <tr>\n",
       "                        <th id=\"T_785671e6_b28a_11ea_85db_5d3f9e2d6a0blevel0_row1\" class=\"row_heading level0 row1\" >921552</th>\n",
       "                        <td id=\"T_785671e6_b28a_11ea_85db_5d3f9e2d6a0brow1_col0\" class=\"data row1 col0\" >1236615590560890880</td>\n",
       "                        <td id=\"T_785671e6_b28a_11ea_85db_5d3f9e2d6a0brow1_col1\" class=\"data row1 col1\" >GretaThunberg</td>\n",
       "                        <td id=\"T_785671e6_b28a_11ea_85db_5d3f9e2d6a0brow1_col2\" class=\"data row1 col2\" >Today is #InternationalWomensDay and we recognise that women are still far from equal to men in today’s societies.\n",
       "We can not have climate justice without gender equity.\n",
       "\n",
       "And remember; what we women want today - and every day- is equality, not congratulations or celebrations. https://t.co/g1CuEN6YLX</td>\n",
       "                        <td id=\"T_785671e6_b28a_11ea_85db_5d3f9e2d6a0brow1_col3\" class=\"data row1 col3\" >en</td>\n",
       "                        <td id=\"T_785671e6_b28a_11ea_85db_5d3f9e2d6a0brow1_col4\" class=\"data row1 col4\" >209521</td>\n",
       "                        <td id=\"T_785671e6_b28a_11ea_85db_5d3f9e2d6a0brow1_col5\" class=\"data row1 col5\" >37119</td>\n",
       "                        <td id=\"T_785671e6_b28a_11ea_85db_5d3f9e2d6a0brow1_col6\" class=\"data row1 col6\" >None</td>\n",
       "                        <td id=\"T_785671e6_b28a_11ea_85db_5d3f9e2d6a0brow1_col7\" class=\"data row1 col7\" >None</td>\n",
       "                        <td id=\"T_785671e6_b28a_11ea_85db_5d3f9e2d6a0brow1_col8\" class=\"data row1 col8\" >None</td>\n",
       "                        <td id=\"T_785671e6_b28a_11ea_85db_5d3f9e2d6a0brow1_col9\" class=\"data row1 col9\" >None</td>\n",
       "                        <td id=\"T_785671e6_b28a_11ea_85db_5d3f9e2d6a0brow1_col10\" class=\"data row1 col10\" >08/03/2020 11:31:46</td>\n",
       "            </tr>\n",
       "            <tr>\n",
       "                        <th id=\"T_785671e6_b28a_11ea_85db_5d3f9e2d6a0blevel0_row2\" class=\"row_heading level0 row2\" >201690</th>\n",
       "                        <td id=\"T_785671e6_b28a_11ea_85db_5d3f9e2d6a0brow2_col0\" class=\"data row2 col0\" >1236488320517124101</td>\n",
       "                        <td id=\"T_785671e6_b28a_11ea_85db_5d3f9e2d6a0brow2_col1\" class=\"data row2 col1\" >mel_bertelli</td>\n",
       "                        <td id=\"T_785671e6_b28a_11ea_85db_5d3f9e2d6a0brow2_col2\" class=\"data row2 col2\" >\"8 de março de 1857, morreram aproximadamente 130 mulheres carbonizadas quando foram trancadas na fábrica de tecelagem, em Nova York, onde trabalhavam, por estarem em greve. Em homenagem a essas mulheres, em 1910, declarou-se o dia 8 de março como o \"Dia Internacional da Mulher\". https://t.co/VyABZO6WrU</td>\n",
       "                        <td id=\"T_785671e6_b28a_11ea_85db_5d3f9e2d6a0brow2_col3\" class=\"data row2 col3\" >pt</td>\n",
       "                        <td id=\"T_785671e6_b28a_11ea_85db_5d3f9e2d6a0brow2_col4\" class=\"data row2 col4\" >93291</td>\n",
       "                        <td id=\"T_785671e6_b28a_11ea_85db_5d3f9e2d6a0brow2_col5\" class=\"data row2 col5\" >41506</td>\n",
       "                        <td id=\"T_785671e6_b28a_11ea_85db_5d3f9e2d6a0brow2_col6\" class=\"data row2 col6\" >None</td>\n",
       "                        <td id=\"T_785671e6_b28a_11ea_85db_5d3f9e2d6a0brow2_col7\" class=\"data row2 col7\" >None</td>\n",
       "                        <td id=\"T_785671e6_b28a_11ea_85db_5d3f9e2d6a0brow2_col8\" class=\"data row2 col8\" >None</td>\n",
       "                        <td id=\"T_785671e6_b28a_11ea_85db_5d3f9e2d6a0brow2_col9\" class=\"data row2 col9\" >None</td>\n",
       "                        <td id=\"T_785671e6_b28a_11ea_85db_5d3f9e2d6a0brow2_col10\" class=\"data row2 col10\" >08/03/2020 03:06:03</td>\n",
       "            </tr>\n",
       "            <tr>\n",
       "                        <th id=\"T_785671e6_b28a_11ea_85db_5d3f9e2d6a0blevel0_row3\" class=\"row_heading level0 row3\" >855097</th>\n",
       "                        <td id=\"T_785671e6_b28a_11ea_85db_5d3f9e2d6a0brow3_col0\" class=\"data row3 col0\" >1236609471964680198</td>\n",
       "                        <td id=\"T_785671e6_b28a_11ea_85db_5d3f9e2d6a0brow3_col1\" class=\"data row3 col1\" >vodkajdr</td>\n",
       "                        <td id=\"T_785671e6_b28a_11ea_85db_5d3f9e2d6a0brow3_col2\" class=\"data row3 col2\" >las tías el 8M: hermanas unidas nunca seremos vencidas os quiero jajaja sororidad🥰🥰🥰🥰🥰\n",
       "\n",
       "el resto del año : jajaja a k me follo a tu novio fea</td>\n",
       "                        <td id=\"T_785671e6_b28a_11ea_85db_5d3f9e2d6a0brow3_col3\" class=\"data row3 col3\" >es</td>\n",
       "                        <td id=\"T_785671e6_b28a_11ea_85db_5d3f9e2d6a0brow3_col4\" class=\"data row3 col4\" >93191</td>\n",
       "                        <td id=\"T_785671e6_b28a_11ea_85db_5d3f9e2d6a0brow3_col5\" class=\"data row3 col5\" >20202</td>\n",
       "                        <td id=\"T_785671e6_b28a_11ea_85db_5d3f9e2d6a0brow3_col6\" class=\"data row3 col6\" >None</td>\n",
       "                        <td id=\"T_785671e6_b28a_11ea_85db_5d3f9e2d6a0brow3_col7\" class=\"data row3 col7\" >None</td>\n",
       "                        <td id=\"T_785671e6_b28a_11ea_85db_5d3f9e2d6a0brow3_col8\" class=\"data row3 col8\" >None</td>\n",
       "                        <td id=\"T_785671e6_b28a_11ea_85db_5d3f9e2d6a0brow3_col9\" class=\"data row3 col9\" >None</td>\n",
       "                        <td id=\"T_785671e6_b28a_11ea_85db_5d3f9e2d6a0brow3_col10\" class=\"data row3 col10\" >08/03/2020 11:07:27</td>\n",
       "            </tr>\n",
       "            <tr>\n",
       "                        <th id=\"T_785671e6_b28a_11ea_85db_5d3f9e2d6a0blevel0_row4\" class=\"row_heading level0 row4\" >5141087</th>\n",
       "                        <td id=\"T_785671e6_b28a_11ea_85db_5d3f9e2d6a0brow4_col0\" class=\"data row4 col0\" >1236965636657549312</td>\n",
       "                        <td id=\"T_785671e6_b28a_11ea_85db_5d3f9e2d6a0brow4_col1\" class=\"data row4 col1\" >lenaslebrero</td>\n",
       "                        <td id=\"T_785671e6_b28a_11ea_85db_5d3f9e2d6a0brow4_col2\" class=\"data row4 col2\" >El día internacional del hombre es el 19 de Noviembre, si no se manifiestan es porque consideran que no tienen nada que reivindicar. Ya me gustaría a mi no tener que salir a la calle a gritar que quiero llegar viva a mi casa, Carmen. Aquí no se celebra nada. https://t.co/68cMTqdZgf</td>\n",
       "                        <td id=\"T_785671e6_b28a_11ea_85db_5d3f9e2d6a0brow4_col3\" class=\"data row4 col3\" >es</td>\n",
       "                        <td id=\"T_785671e6_b28a_11ea_85db_5d3f9e2d6a0brow4_col4\" class=\"data row4 col4\" >82886</td>\n",
       "                        <td id=\"T_785671e6_b28a_11ea_85db_5d3f9e2d6a0brow4_col5\" class=\"data row4 col5\" >27418</td>\n",
       "                        <td id=\"T_785671e6_b28a_11ea_85db_5d3f9e2d6a0brow4_col6\" class=\"data row4 col6\" >1236579425300484101</td>\n",
       "                        <td id=\"T_785671e6_b28a_11ea_85db_5d3f9e2d6a0brow4_col7\" class=\"data row4 col7\" >None</td>\n",
       "                        <td id=\"T_785671e6_b28a_11ea_85db_5d3f9e2d6a0brow4_col8\" class=\"data row4 col8\" >None</td>\n",
       "                        <td id=\"T_785671e6_b28a_11ea_85db_5d3f9e2d6a0brow4_col9\" class=\"data row4 col9\" >None</td>\n",
       "                        <td id=\"T_785671e6_b28a_11ea_85db_5d3f9e2d6a0brow4_col10\" class=\"data row4 col10\" >09/03/2020 10:42:44</td>\n",
       "            </tr>\n",
       "            <tr>\n",
       "                        <th id=\"T_785671e6_b28a_11ea_85db_5d3f9e2d6a0blevel0_row5\" class=\"row_heading level0 row5\" >2195778</th>\n",
       "                        <td id=\"T_785671e6_b28a_11ea_85db_5d3f9e2d6a0brow5_col0\" class=\"data row5 col0\" >1236778854271852544</td>\n",
       "                        <td id=\"T_785671e6_b28a_11ea_85db_5d3f9e2d6a0brow5_col1\" class=\"data row5 col1\" >RealCandaceO</td>\n",
       "                        <td id=\"T_785671e6_b28a_11ea_85db_5d3f9e2d6a0brow5_col2\" class=\"data row5 col2\" >I do not respect you. \n",
       "No one should vote to re-elect you. \n",
       "\n",
       "And I’m a black woman so please respect, believe and elect my position. https://t.co/5DmNB9mwQE</td>\n",
       "                        <td id=\"T_785671e6_b28a_11ea_85db_5d3f9e2d6a0brow5_col3\" class=\"data row5 col3\" >en</td>\n",
       "                        <td id=\"T_785671e6_b28a_11ea_85db_5d3f9e2d6a0brow5_col4\" class=\"data row5 col4\" >81813</td>\n",
       "                        <td id=\"T_785671e6_b28a_11ea_85db_5d3f9e2d6a0brow5_col5\" class=\"data row5 col5\" >19001</td>\n",
       "                        <td id=\"T_785671e6_b28a_11ea_85db_5d3f9e2d6a0brow5_col6\" class=\"data row5 col6\" >1236663690444918789</td>\n",
       "                        <td id=\"T_785671e6_b28a_11ea_85db_5d3f9e2d6a0brow5_col7\" class=\"data row5 col7\" >None</td>\n",
       "                        <td id=\"T_785671e6_b28a_11ea_85db_5d3f9e2d6a0brow5_col8\" class=\"data row5 col8\" >None</td>\n",
       "                        <td id=\"T_785671e6_b28a_11ea_85db_5d3f9e2d6a0brow5_col9\" class=\"data row5 col9\" >None</td>\n",
       "                        <td id=\"T_785671e6_b28a_11ea_85db_5d3f9e2d6a0brow5_col10\" class=\"data row5 col10\" >08/03/2020 22:20:31</td>\n",
       "            </tr>\n",
       "            <tr>\n",
       "                        <th id=\"T_785671e6_b28a_11ea_85db_5d3f9e2d6a0blevel0_row6\" class=\"row_heading level0 row6\" >784780</th>\n",
       "                        <td id=\"T_785671e6_b28a_11ea_85db_5d3f9e2d6a0brow6_col0\" class=\"data row6 col0\" >1236598536914882561</td>\n",
       "                        <td id=\"T_785671e6_b28a_11ea_85db_5d3f9e2d6a0brow6_col1\" class=\"data row6 col1\" >FiersaBesari</td>\n",
       "                        <td id=\"T_785671e6_b28a_11ea_85db_5d3f9e2d6a0brow6_col2\" class=\"data row6 col2\" >Berpendidikan tanpa perlu takut dengan “Cowok enggak suka cewek yang terlalu pintar”. Berdandan tanpa perlu peduli dengan “Aku suka wajahmu apa adanya”. Kejar mimpi tanpa perlu galau dengan “Kamu pilih mimpimu atau aku”. Kamu hebat dengan perjuanganmu\n",
       ".\n",
       "#HappyWomensDay2020</td>\n",
       "                        <td id=\"T_785671e6_b28a_11ea_85db_5d3f9e2d6a0brow6_col3\" class=\"data row6 col3\" >in</td>\n",
       "                        <td id=\"T_785671e6_b28a_11ea_85db_5d3f9e2d6a0brow6_col4\" class=\"data row6 col4\" >80047</td>\n",
       "                        <td id=\"T_785671e6_b28a_11ea_85db_5d3f9e2d6a0brow6_col5\" class=\"data row6 col5\" >39334</td>\n",
       "                        <td id=\"T_785671e6_b28a_11ea_85db_5d3f9e2d6a0brow6_col6\" class=\"data row6 col6\" >None</td>\n",
       "                        <td id=\"T_785671e6_b28a_11ea_85db_5d3f9e2d6a0brow6_col7\" class=\"data row6 col7\" >None</td>\n",
       "                        <td id=\"T_785671e6_b28a_11ea_85db_5d3f9e2d6a0brow6_col8\" class=\"data row6 col8\" >None</td>\n",
       "                        <td id=\"T_785671e6_b28a_11ea_85db_5d3f9e2d6a0brow6_col9\" class=\"data row6 col9\" >None</td>\n",
       "                        <td id=\"T_785671e6_b28a_11ea_85db_5d3f9e2d6a0brow6_col10\" class=\"data row6 col10\" >08/03/2020 10:24:00</td>\n",
       "            </tr>\n",
       "            <tr>\n",
       "                        <th id=\"T_785671e6_b28a_11ea_85db_5d3f9e2d6a0blevel0_row7\" class=\"row_heading level0 row7\" >924312</th>\n",
       "                        <td id=\"T_785671e6_b28a_11ea_85db_5d3f9e2d6a0brow7_col0\" class=\"data row7 col0\" >1236615855670054917</td>\n",
       "                        <td id=\"T_785671e6_b28a_11ea_85db_5d3f9e2d6a0brow7_col1\" class=\"data row7 col1\" >mimimimovie</td>\n",
       "                        <td id=\"T_785671e6_b28a_11ea_85db_5d3f9e2d6a0brow7_col2\" class=\"data row7 col2\" >#国際女性デー #InternationalWomensDay\n",
       "\n",
       "140人以上の女子体操選手を性的に虐待した男が無罪を主張する答弁書を提出した際、その一部を読み上げてから投げ捨てた判事がいました。彼女の言葉についてまた考えたいと思い、翻訳してみました。 https://t.co/FIJM17St6Q</td>\n",
       "                        <td id=\"T_785671e6_b28a_11ea_85db_5d3f9e2d6a0brow7_col3\" class=\"data row7 col3\" >ja</td>\n",
       "                        <td id=\"T_785671e6_b28a_11ea_85db_5d3f9e2d6a0brow7_col4\" class=\"data row7 col4\" >61433</td>\n",
       "                        <td id=\"T_785671e6_b28a_11ea_85db_5d3f9e2d6a0brow7_col5\" class=\"data row7 col5\" >19505</td>\n",
       "                        <td id=\"T_785671e6_b28a_11ea_85db_5d3f9e2d6a0brow7_col6\" class=\"data row7 col6\" >None</td>\n",
       "                        <td id=\"T_785671e6_b28a_11ea_85db_5d3f9e2d6a0brow7_col7\" class=\"data row7 col7\" >None</td>\n",
       "                        <td id=\"T_785671e6_b28a_11ea_85db_5d3f9e2d6a0brow7_col8\" class=\"data row7 col8\" >None</td>\n",
       "                        <td id=\"T_785671e6_b28a_11ea_85db_5d3f9e2d6a0brow7_col9\" class=\"data row7 col9\" >None</td>\n",
       "                        <td id=\"T_785671e6_b28a_11ea_85db_5d3f9e2d6a0brow7_col10\" class=\"data row7 col10\" >08/03/2020 11:32:49</td>\n",
       "            </tr>\n",
       "            <tr>\n",
       "                        <th id=\"T_785671e6_b28a_11ea_85db_5d3f9e2d6a0blevel0_row8\" class=\"row_heading level0 row8\" >4562395</th>\n",
       "                        <td id=\"T_785671e6_b28a_11ea_85db_5d3f9e2d6a0brow8_col0\" class=\"data row8 col0\" >1236740304402817024</td>\n",
       "                        <td id=\"T_785671e6_b28a_11ea_85db_5d3f9e2d6a0brow8_col1\" class=\"data row8 col1\" >greysftanatxmy</td>\n",
       "                        <td id=\"T_785671e6_b28a_11ea_85db_5d3f9e2d6a0brow8_col2\" class=\"data row8 col2\" >\"No odio a los niños. Los respeto. Creo que deben tener padres que deseen tenerlos.\" - Cristina Yang #8M\n",
       " https://t.co/zrshM8DX1u</td>\n",
       "                        <td id=\"T_785671e6_b28a_11ea_85db_5d3f9e2d6a0brow8_col3\" class=\"data row8 col3\" >es</td>\n",
       "                        <td id=\"T_785671e6_b28a_11ea_85db_5d3f9e2d6a0brow8_col4\" class=\"data row8 col4\" >56903</td>\n",
       "                        <td id=\"T_785671e6_b28a_11ea_85db_5d3f9e2d6a0brow8_col5\" class=\"data row8 col5\" >18580</td>\n",
       "                        <td id=\"T_785671e6_b28a_11ea_85db_5d3f9e2d6a0brow8_col6\" class=\"data row8 col6\" >None</td>\n",
       "                        <td id=\"T_785671e6_b28a_11ea_85db_5d3f9e2d6a0brow8_col7\" class=\"data row8 col7\" >None</td>\n",
       "                        <td id=\"T_785671e6_b28a_11ea_85db_5d3f9e2d6a0brow8_col8\" class=\"data row8 col8\" >None</td>\n",
       "                        <td id=\"T_785671e6_b28a_11ea_85db_5d3f9e2d6a0brow8_col9\" class=\"data row8 col9\" >None</td>\n",
       "                        <td id=\"T_785671e6_b28a_11ea_85db_5d3f9e2d6a0brow8_col10\" class=\"data row8 col10\" >08/03/2020 19:47:20</td>\n",
       "            </tr>\n",
       "            <tr>\n",
       "                        <th id=\"T_785671e6_b28a_11ea_85db_5d3f9e2d6a0blevel0_row9\" class=\"row_heading level0 row9\" >3005474</th>\n",
       "                        <td id=\"T_785671e6_b28a_11ea_85db_5d3f9e2d6a0brow9_col0\" class=\"data row9 col0\" >1236864483663937538</td>\n",
       "                        <td id=\"T_785671e6_b28a_11ea_85db_5d3f9e2d6a0brow9_col1\" class=\"data row9 col1\" >harryftgrethel</td>\n",
       "                        <td id=\"T_785671e6_b28a_11ea_85db_5d3f9e2d6a0brow9_col2\" class=\"data row9 col2\" >Cristina Yang no tuvo hijos porque no quería ser madre\n",
       "Cristina Yang tuvo un aborto espontáneo y luego otro que no lo fue\n",
       "Cristina Yang no iba a traer hijos al mundo sólo porque su pareja quería\n",
       "Sé como Cristina Yang https://t.co/hzK5ll6DR5</td>\n",
       "                        <td id=\"T_785671e6_b28a_11ea_85db_5d3f9e2d6a0brow9_col3\" class=\"data row9 col3\" >es</td>\n",
       "                        <td id=\"T_785671e6_b28a_11ea_85db_5d3f9e2d6a0brow9_col4\" class=\"data row9 col4\" >53756</td>\n",
       "                        <td id=\"T_785671e6_b28a_11ea_85db_5d3f9e2d6a0brow9_col5\" class=\"data row9 col5\" >15756</td>\n",
       "                        <td id=\"T_785671e6_b28a_11ea_85db_5d3f9e2d6a0brow9_col6\" class=\"data row9 col6\" >1236740304402817024</td>\n",
       "                        <td id=\"T_785671e6_b28a_11ea_85db_5d3f9e2d6a0brow9_col7\" class=\"data row9 col7\" >None</td>\n",
       "                        <td id=\"T_785671e6_b28a_11ea_85db_5d3f9e2d6a0brow9_col8\" class=\"data row9 col8\" >None</td>\n",
       "                        <td id=\"T_785671e6_b28a_11ea_85db_5d3f9e2d6a0brow9_col9\" class=\"data row9 col9\" >None</td>\n",
       "                        <td id=\"T_785671e6_b28a_11ea_85db_5d3f9e2d6a0brow9_col10\" class=\"data row9 col10\" >09/03/2020 04:00:47</td>\n",
       "            </tr>\n",
       "    </tbody></table>"
      ],
      "text/plain": [
       "<pandas.io.formats.style.Styler at 0x7f6936bf15d0>"
      ]
     },
     "execution_count": 49,
     "metadata": {},
     "output_type": "execute_result"
    }
   ],
   "source": [
    "def highlight_cols(s):\n",
    "    color = '#D3D3D3'\n",
    "    return 'background-color: %s' % color\n",
    "\n",
    "likes_df.iloc[0:10].style.applymap(highlight_cols, subset=pd.IndexSlice[:, ['num_likes']])"
   ]
  },
  {
   "cell_type": "code",
   "execution_count": 54,
   "metadata": {
    "ExecuteTime": {
     "end_time": "2020-06-20T00:32:04.308262Z",
     "start_time": "2020-06-20T00:28:45.381073Z"
    }
   },
   "outputs": [],
   "source": [
    "likes_df.to_parquet('likes.parquet.gzip', compression='gzip')"
   ]
  },
  {
   "cell_type": "markdown",
   "metadata": {},
   "source": [
    "### Retweets"
   ]
  },
  {
   "cell_type": "code",
   "execution_count": 50,
   "metadata": {
    "ExecuteTime": {
     "end_time": "2020-06-20T00:13:41.543719Z",
     "start_time": "2020-06-20T00:13:29.444790Z"
    }
   },
   "outputs": [],
   "source": [
    "retweets_df = tweets_df.sort_values(by=['num_retweets'], ascending=False)"
   ]
  },
  {
   "cell_type": "code",
   "execution_count": 51,
   "metadata": {
    "ExecuteTime": {
     "end_time": "2020-06-20T00:13:41.560819Z",
     "start_time": "2020-06-20T00:13:41.545159Z"
    },
    "scrolled": true
   },
   "outputs": [
    {
     "data": {
      "text/html": [
       "<style  type=\"text/css\" >\n",
       "    #T_e59a27fc_b28a_11ea_85db_5d3f9e2d6a0brow0_col5 {\n",
       "            background-color:  #D3D3D3;\n",
       "        }    #T_e59a27fc_b28a_11ea_85db_5d3f9e2d6a0brow1_col5 {\n",
       "            background-color:  #D3D3D3;\n",
       "        }    #T_e59a27fc_b28a_11ea_85db_5d3f9e2d6a0brow2_col5 {\n",
       "            background-color:  #D3D3D3;\n",
       "        }    #T_e59a27fc_b28a_11ea_85db_5d3f9e2d6a0brow3_col5 {\n",
       "            background-color:  #D3D3D3;\n",
       "        }    #T_e59a27fc_b28a_11ea_85db_5d3f9e2d6a0brow4_col5 {\n",
       "            background-color:  #D3D3D3;\n",
       "        }    #T_e59a27fc_b28a_11ea_85db_5d3f9e2d6a0brow5_col5 {\n",
       "            background-color:  #D3D3D3;\n",
       "        }    #T_e59a27fc_b28a_11ea_85db_5d3f9e2d6a0brow6_col5 {\n",
       "            background-color:  #D3D3D3;\n",
       "        }    #T_e59a27fc_b28a_11ea_85db_5d3f9e2d6a0brow7_col5 {\n",
       "            background-color:  #D3D3D3;\n",
       "        }    #T_e59a27fc_b28a_11ea_85db_5d3f9e2d6a0brow8_col5 {\n",
       "            background-color:  #D3D3D3;\n",
       "        }    #T_e59a27fc_b28a_11ea_85db_5d3f9e2d6a0brow9_col5 {\n",
       "            background-color:  #D3D3D3;\n",
       "        }</style><table id=\"T_e59a27fc_b28a_11ea_85db_5d3f9e2d6a0b\" ><thead>    <tr>        <th class=\"blank level0\" ></th>        <th class=\"col_heading level0 col0\" >tweet_id</th>        <th class=\"col_heading level0 col1\" >author</th>        <th class=\"col_heading level0 col2\" >tweet_text</th>        <th class=\"col_heading level0 col3\" >language</th>        <th class=\"col_heading level0 col4\" >num_likes</th>        <th class=\"col_heading level0 col5\" >num_retweets</th>        <th class=\"col_heading level0 col6\" >quoted_status_id</th>        <th class=\"col_heading level0 col7\" >retweeted_status_id</th>        <th class=\"col_heading level0 col8\" >reply_to_user</th>        <th class=\"col_heading level0 col9\" >reply_to_status</th>        <th class=\"col_heading level0 col10\" >date</th>    </tr></thead><tbody>\n",
       "                <tr>\n",
       "                        <th id=\"T_e59a27fc_b28a_11ea_85db_5d3f9e2d6a0blevel0_row0\" class=\"row_heading level0 row0\" >1949081</th>\n",
       "                        <td id=\"T_e59a27fc_b28a_11ea_85db_5d3f9e2d6a0brow0_col0\" class=\"data row0 col0\" >1236751328120131586</td>\n",
       "                        <td id=\"T_e59a27fc_b28a_11ea_85db_5d3f9e2d6a0brow0_col1\" class=\"data row0 col1\" >maniiluv</td>\n",
       "                        <td id=\"T_e59a27fc_b28a_11ea_85db_5d3f9e2d6a0brow0_col2\" class=\"data row0 col2\" >#InternationalWomensDay https://t.co/MgT8Df2IAV</td>\n",
       "                        <td id=\"T_e59a27fc_b28a_11ea_85db_5d3f9e2d6a0brow0_col3\" class=\"data row0 col3\" >und</td>\n",
       "                        <td id=\"T_e59a27fc_b28a_11ea_85db_5d3f9e2d6a0brow0_col4\" class=\"data row0 col4\" >0</td>\n",
       "                        <td id=\"T_e59a27fc_b28a_11ea_85db_5d3f9e2d6a0brow0_col5\" class=\"data row0 col5\" >95575</td>\n",
       "                        <td id=\"T_e59a27fc_b28a_11ea_85db_5d3f9e2d6a0brow0_col6\" class=\"data row0 col6\" >None</td>\n",
       "                        <td id=\"T_e59a27fc_b28a_11ea_85db_5d3f9e2d6a0brow0_col7\" class=\"data row0 col7\" >1236704401818935301</td>\n",
       "                        <td id=\"T_e59a27fc_b28a_11ea_85db_5d3f9e2d6a0brow0_col8\" class=\"data row0 col8\" >None</td>\n",
       "                        <td id=\"T_e59a27fc_b28a_11ea_85db_5d3f9e2d6a0brow0_col9\" class=\"data row0 col9\" >None</td>\n",
       "                        <td id=\"T_e59a27fc_b28a_11ea_85db_5d3f9e2d6a0brow0_col10\" class=\"data row0 col10\" >08/03/2020 20:31:09</td>\n",
       "            </tr>\n",
       "            <tr>\n",
       "                        <th id=\"T_e59a27fc_b28a_11ea_85db_5d3f9e2d6a0blevel0_row1\" class=\"row_heading level0 row1\" >1981438</th>\n",
       "                        <td id=\"T_e59a27fc_b28a_11ea_85db_5d3f9e2d6a0brow1_col0\" class=\"data row1 col0\" >1236754262551597058</td>\n",
       "                        <td id=\"T_e59a27fc_b28a_11ea_85db_5d3f9e2d6a0brow1_col1\" class=\"data row1 col1\" >vivianxzavala</td>\n",
       "                        <td id=\"T_e59a27fc_b28a_11ea_85db_5d3f9e2d6a0brow1_col2\" class=\"data row1 col2\" >#InternationalWomensDay https://t.co/MgT8Df2IAV</td>\n",
       "                        <td id=\"T_e59a27fc_b28a_11ea_85db_5d3f9e2d6a0brow1_col3\" class=\"data row1 col3\" >und</td>\n",
       "                        <td id=\"T_e59a27fc_b28a_11ea_85db_5d3f9e2d6a0brow1_col4\" class=\"data row1 col4\" >0</td>\n",
       "                        <td id=\"T_e59a27fc_b28a_11ea_85db_5d3f9e2d6a0brow1_col5\" class=\"data row1 col5\" >95575</td>\n",
       "                        <td id=\"T_e59a27fc_b28a_11ea_85db_5d3f9e2d6a0brow1_col6\" class=\"data row1 col6\" >None</td>\n",
       "                        <td id=\"T_e59a27fc_b28a_11ea_85db_5d3f9e2d6a0brow1_col7\" class=\"data row1 col7\" >1236704401818935301</td>\n",
       "                        <td id=\"T_e59a27fc_b28a_11ea_85db_5d3f9e2d6a0brow1_col8\" class=\"data row1 col8\" >None</td>\n",
       "                        <td id=\"T_e59a27fc_b28a_11ea_85db_5d3f9e2d6a0brow1_col9\" class=\"data row1 col9\" >None</td>\n",
       "                        <td id=\"T_e59a27fc_b28a_11ea_85db_5d3f9e2d6a0brow1_col10\" class=\"data row1 col10\" >08/03/2020 20:42:48</td>\n",
       "            </tr>\n",
       "            <tr>\n",
       "                        <th id=\"T_e59a27fc_b28a_11ea_85db_5d3f9e2d6a0blevel0_row2\" class=\"row_heading level0 row2\" >1649436</th>\n",
       "                        <td id=\"T_e59a27fc_b28a_11ea_85db_5d3f9e2d6a0brow2_col0\" class=\"data row2 col0\" >1236704401818935301</td>\n",
       "                        <td id=\"T_e59a27fc_b28a_11ea_85db_5d3f9e2d6a0brow2_col1\" class=\"data row2 col1\" >EspirituJoto</td>\n",
       "                        <td id=\"T_e59a27fc_b28a_11ea_85db_5d3f9e2d6a0brow2_col2\" class=\"data row2 col2\" >#InternationalWomensDay https://t.co/MgT8Df2IAV</td>\n",
       "                        <td id=\"T_e59a27fc_b28a_11ea_85db_5d3f9e2d6a0brow2_col3\" class=\"data row2 col3\" >und</td>\n",
       "                        <td id=\"T_e59a27fc_b28a_11ea_85db_5d3f9e2d6a0brow2_col4\" class=\"data row2 col4\" >294578</td>\n",
       "                        <td id=\"T_e59a27fc_b28a_11ea_85db_5d3f9e2d6a0brow2_col5\" class=\"data row2 col5\" >95573</td>\n",
       "                        <td id=\"T_e59a27fc_b28a_11ea_85db_5d3f9e2d6a0brow2_col6\" class=\"data row2 col6\" >None</td>\n",
       "                        <td id=\"T_e59a27fc_b28a_11ea_85db_5d3f9e2d6a0brow2_col7\" class=\"data row2 col7\" >None</td>\n",
       "                        <td id=\"T_e59a27fc_b28a_11ea_85db_5d3f9e2d6a0brow2_col8\" class=\"data row2 col8\" >None</td>\n",
       "                        <td id=\"T_e59a27fc_b28a_11ea_85db_5d3f9e2d6a0brow2_col9\" class=\"data row2 col9\" >None</td>\n",
       "                        <td id=\"T_e59a27fc_b28a_11ea_85db_5d3f9e2d6a0brow2_col10\" class=\"data row2 col10\" >08/03/2020 17:24:40</td>\n",
       "            </tr>\n",
       "            <tr>\n",
       "                        <th id=\"T_e59a27fc_b28a_11ea_85db_5d3f9e2d6a0blevel0_row3\" class=\"row_heading level0 row3\" >1665378</th>\n",
       "                        <td id=\"T_e59a27fc_b28a_11ea_85db_5d3f9e2d6a0brow3_col0\" class=\"data row3 col0\" >1236706469703229440</td>\n",
       "                        <td id=\"T_e59a27fc_b28a_11ea_85db_5d3f9e2d6a0brow3_col1\" class=\"data row3 col1\" >katiadlosreyes</td>\n",
       "                        <td id=\"T_e59a27fc_b28a_11ea_85db_5d3f9e2d6a0brow3_col2\" class=\"data row3 col2\" >#InternationalWomensDay https://t.co/MgT8Df2IAV</td>\n",
       "                        <td id=\"T_e59a27fc_b28a_11ea_85db_5d3f9e2d6a0brow3_col3\" class=\"data row3 col3\" >und</td>\n",
       "                        <td id=\"T_e59a27fc_b28a_11ea_85db_5d3f9e2d6a0brow3_col4\" class=\"data row3 col4\" >0</td>\n",
       "                        <td id=\"T_e59a27fc_b28a_11ea_85db_5d3f9e2d6a0brow3_col5\" class=\"data row3 col5\" >95573</td>\n",
       "                        <td id=\"T_e59a27fc_b28a_11ea_85db_5d3f9e2d6a0brow3_col6\" class=\"data row3 col6\" >None</td>\n",
       "                        <td id=\"T_e59a27fc_b28a_11ea_85db_5d3f9e2d6a0brow3_col7\" class=\"data row3 col7\" >1236704401818935301</td>\n",
       "                        <td id=\"T_e59a27fc_b28a_11ea_85db_5d3f9e2d6a0brow3_col8\" class=\"data row3 col8\" >None</td>\n",
       "                        <td id=\"T_e59a27fc_b28a_11ea_85db_5d3f9e2d6a0brow3_col9\" class=\"data row3 col9\" >None</td>\n",
       "                        <td id=\"T_e59a27fc_b28a_11ea_85db_5d3f9e2d6a0brow3_col10\" class=\"data row3 col10\" >08/03/2020 17:32:53</td>\n",
       "            </tr>\n",
       "            <tr>\n",
       "                        <th id=\"T_e59a27fc_b28a_11ea_85db_5d3f9e2d6a0blevel0_row4\" class=\"row_heading level0 row4\" >1998872</th>\n",
       "                        <td id=\"T_e59a27fc_b28a_11ea_85db_5d3f9e2d6a0brow4_col0\" class=\"data row4 col0\" >1236755811428261893</td>\n",
       "                        <td id=\"T_e59a27fc_b28a_11ea_85db_5d3f9e2d6a0brow4_col1\" class=\"data row4 col1\" >USERERROR777</td>\n",
       "                        <td id=\"T_e59a27fc_b28a_11ea_85db_5d3f9e2d6a0brow4_col2\" class=\"data row4 col2\" >#InternationalWomensDay https://t.co/MgT8Df2IAV</td>\n",
       "                        <td id=\"T_e59a27fc_b28a_11ea_85db_5d3f9e2d6a0brow4_col3\" class=\"data row4 col3\" >und</td>\n",
       "                        <td id=\"T_e59a27fc_b28a_11ea_85db_5d3f9e2d6a0brow4_col4\" class=\"data row4 col4\" >0</td>\n",
       "                        <td id=\"T_e59a27fc_b28a_11ea_85db_5d3f9e2d6a0brow4_col5\" class=\"data row4 col5\" >95573</td>\n",
       "                        <td id=\"T_e59a27fc_b28a_11ea_85db_5d3f9e2d6a0brow4_col6\" class=\"data row4 col6\" >None</td>\n",
       "                        <td id=\"T_e59a27fc_b28a_11ea_85db_5d3f9e2d6a0brow4_col7\" class=\"data row4 col7\" >1236704401818935301</td>\n",
       "                        <td id=\"T_e59a27fc_b28a_11ea_85db_5d3f9e2d6a0brow4_col8\" class=\"data row4 col8\" >None</td>\n",
       "                        <td id=\"T_e59a27fc_b28a_11ea_85db_5d3f9e2d6a0brow4_col9\" class=\"data row4 col9\" >None</td>\n",
       "                        <td id=\"T_e59a27fc_b28a_11ea_85db_5d3f9e2d6a0brow4_col10\" class=\"data row4 col10\" >08/03/2020 20:48:57</td>\n",
       "            </tr>\n",
       "            <tr>\n",
       "                        <th id=\"T_e59a27fc_b28a_11ea_85db_5d3f9e2d6a0blevel0_row5\" class=\"row_heading level0 row5\" >2000350</th>\n",
       "                        <td id=\"T_e59a27fc_b28a_11ea_85db_5d3f9e2d6a0brow5_col0\" class=\"data row5 col0\" >1236755928755646466</td>\n",
       "                        <td id=\"T_e59a27fc_b28a_11ea_85db_5d3f9e2d6a0brow5_col1\" class=\"data row5 col1\" >latelymoon</td>\n",
       "                        <td id=\"T_e59a27fc_b28a_11ea_85db_5d3f9e2d6a0brow5_col2\" class=\"data row5 col2\" >#InternationalWomensDay https://t.co/MgT8Df2IAV</td>\n",
       "                        <td id=\"T_e59a27fc_b28a_11ea_85db_5d3f9e2d6a0brow5_col3\" class=\"data row5 col3\" >und</td>\n",
       "                        <td id=\"T_e59a27fc_b28a_11ea_85db_5d3f9e2d6a0brow5_col4\" class=\"data row5 col4\" >0</td>\n",
       "                        <td id=\"T_e59a27fc_b28a_11ea_85db_5d3f9e2d6a0brow5_col5\" class=\"data row5 col5\" >95573</td>\n",
       "                        <td id=\"T_e59a27fc_b28a_11ea_85db_5d3f9e2d6a0brow5_col6\" class=\"data row5 col6\" >None</td>\n",
       "                        <td id=\"T_e59a27fc_b28a_11ea_85db_5d3f9e2d6a0brow5_col7\" class=\"data row5 col7\" >1236704401818935301</td>\n",
       "                        <td id=\"T_e59a27fc_b28a_11ea_85db_5d3f9e2d6a0brow5_col8\" class=\"data row5 col8\" >None</td>\n",
       "                        <td id=\"T_e59a27fc_b28a_11ea_85db_5d3f9e2d6a0brow5_col9\" class=\"data row5 col9\" >None</td>\n",
       "                        <td id=\"T_e59a27fc_b28a_11ea_85db_5d3f9e2d6a0brow5_col10\" class=\"data row5 col10\" >08/03/2020 20:49:25</td>\n",
       "            </tr>\n",
       "            <tr>\n",
       "                        <th id=\"T_e59a27fc_b28a_11ea_85db_5d3f9e2d6a0blevel0_row6\" class=\"row_heading level0 row6\" >1664220</th>\n",
       "                        <td id=\"T_e59a27fc_b28a_11ea_85db_5d3f9e2d6a0brow6_col0\" class=\"data row6 col0\" >1236706301809315840</td>\n",
       "                        <td id=\"T_e59a27fc_b28a_11ea_85db_5d3f9e2d6a0brow6_col1\" class=\"data row6 col1\" >linjosse</td>\n",
       "                        <td id=\"T_e59a27fc_b28a_11ea_85db_5d3f9e2d6a0brow6_col2\" class=\"data row6 col2\" >#InternationalWomensDay https://t.co/MgT8Df2IAV</td>\n",
       "                        <td id=\"T_e59a27fc_b28a_11ea_85db_5d3f9e2d6a0brow6_col3\" class=\"data row6 col3\" >und</td>\n",
       "                        <td id=\"T_e59a27fc_b28a_11ea_85db_5d3f9e2d6a0brow6_col4\" class=\"data row6 col4\" >0</td>\n",
       "                        <td id=\"T_e59a27fc_b28a_11ea_85db_5d3f9e2d6a0brow6_col5\" class=\"data row6 col5\" >95573</td>\n",
       "                        <td id=\"T_e59a27fc_b28a_11ea_85db_5d3f9e2d6a0brow6_col6\" class=\"data row6 col6\" >None</td>\n",
       "                        <td id=\"T_e59a27fc_b28a_11ea_85db_5d3f9e2d6a0brow6_col7\" class=\"data row6 col7\" >1236704401818935301</td>\n",
       "                        <td id=\"T_e59a27fc_b28a_11ea_85db_5d3f9e2d6a0brow6_col8\" class=\"data row6 col8\" >None</td>\n",
       "                        <td id=\"T_e59a27fc_b28a_11ea_85db_5d3f9e2d6a0brow6_col9\" class=\"data row6 col9\" >None</td>\n",
       "                        <td id=\"T_e59a27fc_b28a_11ea_85db_5d3f9e2d6a0brow6_col10\" class=\"data row6 col10\" >08/03/2020 17:32:13</td>\n",
       "            </tr>\n",
       "            <tr>\n",
       "                        <th id=\"T_e59a27fc_b28a_11ea_85db_5d3f9e2d6a0blevel0_row7\" class=\"row_heading level0 row7\" >1810065</th>\n",
       "                        <td id=\"T_e59a27fc_b28a_11ea_85db_5d3f9e2d6a0brow7_col0\" class=\"data row7 col0\" >1236729876998000640</td>\n",
       "                        <td id=\"T_e59a27fc_b28a_11ea_85db_5d3f9e2d6a0brow7_col1\" class=\"data row7 col1\" >idcvibes</td>\n",
       "                        <td id=\"T_e59a27fc_b28a_11ea_85db_5d3f9e2d6a0brow7_col2\" class=\"data row7 col2\" >#InternationalWomensDay https://t.co/MgT8Df2IAV</td>\n",
       "                        <td id=\"T_e59a27fc_b28a_11ea_85db_5d3f9e2d6a0brow7_col3\" class=\"data row7 col3\" >und</td>\n",
       "                        <td id=\"T_e59a27fc_b28a_11ea_85db_5d3f9e2d6a0brow7_col4\" class=\"data row7 col4\" >0</td>\n",
       "                        <td id=\"T_e59a27fc_b28a_11ea_85db_5d3f9e2d6a0brow7_col5\" class=\"data row7 col5\" >95572</td>\n",
       "                        <td id=\"T_e59a27fc_b28a_11ea_85db_5d3f9e2d6a0brow7_col6\" class=\"data row7 col6\" >None</td>\n",
       "                        <td id=\"T_e59a27fc_b28a_11ea_85db_5d3f9e2d6a0brow7_col7\" class=\"data row7 col7\" >1236704401818935301</td>\n",
       "                        <td id=\"T_e59a27fc_b28a_11ea_85db_5d3f9e2d6a0brow7_col8\" class=\"data row7 col8\" >None</td>\n",
       "                        <td id=\"T_e59a27fc_b28a_11ea_85db_5d3f9e2d6a0brow7_col9\" class=\"data row7 col9\" >None</td>\n",
       "                        <td id=\"T_e59a27fc_b28a_11ea_85db_5d3f9e2d6a0brow7_col10\" class=\"data row7 col10\" >08/03/2020 19:05:54</td>\n",
       "            </tr>\n",
       "            <tr>\n",
       "                        <th id=\"T_e59a27fc_b28a_11ea_85db_5d3f9e2d6a0blevel0_row8\" class=\"row_heading level0 row8\" >1813114</th>\n",
       "                        <td id=\"T_e59a27fc_b28a_11ea_85db_5d3f9e2d6a0brow8_col0\" class=\"data row8 col0\" >1236730116186746882</td>\n",
       "                        <td id=\"T_e59a27fc_b28a_11ea_85db_5d3f9e2d6a0brow8_col1\" class=\"data row8 col1\" >Amuly21</td>\n",
       "                        <td id=\"T_e59a27fc_b28a_11ea_85db_5d3f9e2d6a0brow8_col2\" class=\"data row8 col2\" >#InternationalWomensDay https://t.co/MgT8Df2IAV</td>\n",
       "                        <td id=\"T_e59a27fc_b28a_11ea_85db_5d3f9e2d6a0brow8_col3\" class=\"data row8 col3\" >und</td>\n",
       "                        <td id=\"T_e59a27fc_b28a_11ea_85db_5d3f9e2d6a0brow8_col4\" class=\"data row8 col4\" >0</td>\n",
       "                        <td id=\"T_e59a27fc_b28a_11ea_85db_5d3f9e2d6a0brow8_col5\" class=\"data row8 col5\" >95572</td>\n",
       "                        <td id=\"T_e59a27fc_b28a_11ea_85db_5d3f9e2d6a0brow8_col6\" class=\"data row8 col6\" >None</td>\n",
       "                        <td id=\"T_e59a27fc_b28a_11ea_85db_5d3f9e2d6a0brow8_col7\" class=\"data row8 col7\" >1236704401818935301</td>\n",
       "                        <td id=\"T_e59a27fc_b28a_11ea_85db_5d3f9e2d6a0brow8_col8\" class=\"data row8 col8\" >None</td>\n",
       "                        <td id=\"T_e59a27fc_b28a_11ea_85db_5d3f9e2d6a0brow8_col9\" class=\"data row8 col9\" >None</td>\n",
       "                        <td id=\"T_e59a27fc_b28a_11ea_85db_5d3f9e2d6a0brow8_col10\" class=\"data row8 col10\" >08/03/2020 19:06:51</td>\n",
       "            </tr>\n",
       "            <tr>\n",
       "                        <th id=\"T_e59a27fc_b28a_11ea_85db_5d3f9e2d6a0blevel0_row9\" class=\"row_heading level0 row9\" >1751971</th>\n",
       "                        <td id=\"T_e59a27fc_b28a_11ea_85db_5d3f9e2d6a0brow9_col0\" class=\"data row9 col0\" >1236720407698235392</td>\n",
       "                        <td id=\"T_e59a27fc_b28a_11ea_85db_5d3f9e2d6a0brow9_col1\" class=\"data row9 col1\" >katrinacabreza</td>\n",
       "                        <td id=\"T_e59a27fc_b28a_11ea_85db_5d3f9e2d6a0brow9_col2\" class=\"data row9 col2\" >#InternationalWomensDay https://t.co/MgT8Df2IAV</td>\n",
       "                        <td id=\"T_e59a27fc_b28a_11ea_85db_5d3f9e2d6a0brow9_col3\" class=\"data row9 col3\" >und</td>\n",
       "                        <td id=\"T_e59a27fc_b28a_11ea_85db_5d3f9e2d6a0brow9_col4\" class=\"data row9 col4\" >0</td>\n",
       "                        <td id=\"T_e59a27fc_b28a_11ea_85db_5d3f9e2d6a0brow9_col5\" class=\"data row9 col5\" >95572</td>\n",
       "                        <td id=\"T_e59a27fc_b28a_11ea_85db_5d3f9e2d6a0brow9_col6\" class=\"data row9 col6\" >None</td>\n",
       "                        <td id=\"T_e59a27fc_b28a_11ea_85db_5d3f9e2d6a0brow9_col7\" class=\"data row9 col7\" >1236704401818935301</td>\n",
       "                        <td id=\"T_e59a27fc_b28a_11ea_85db_5d3f9e2d6a0brow9_col8\" class=\"data row9 col8\" >None</td>\n",
       "                        <td id=\"T_e59a27fc_b28a_11ea_85db_5d3f9e2d6a0brow9_col9\" class=\"data row9 col9\" >None</td>\n",
       "                        <td id=\"T_e59a27fc_b28a_11ea_85db_5d3f9e2d6a0brow9_col10\" class=\"data row9 col10\" >08/03/2020 18:28:17</td>\n",
       "            </tr>\n",
       "    </tbody></table>"
      ],
      "text/plain": [
       "<pandas.io.formats.style.Styler at 0x7f6669065d50>"
      ]
     },
     "execution_count": 51,
     "metadata": {},
     "output_type": "execute_result"
    }
   ],
   "source": [
    "retweets_df.iloc[0:10].style.applymap(highlight_cols, subset=pd.IndexSlice[:, ['num_retweets']])"
   ]
  },
  {
   "cell_type": "code",
   "execution_count": 56,
   "metadata": {
    "ExecuteTime": {
     "end_time": "2020-06-20T00:34:45.958350Z",
     "start_time": "2020-06-20T00:32:26.897051Z"
    }
   },
   "outputs": [],
   "source": [
    "retweets_df.to_parquet('retweets.parquet.gzip', compression='gzip')"
   ]
  },
  {
   "cell_type": "code",
   "execution_count": 75,
   "metadata": {
    "ExecuteTime": {
     "end_time": "2020-06-20T02:26:12.064295Z",
     "start_time": "2020-06-20T02:26:10.142868Z"
    }
   },
   "outputs": [
    {
     "name": "stdout",
     "output_type": "stream",
     "text": [
      "Número de tweets que são retweets: 4490479\n"
     ]
    }
   ],
   "source": [
    "num_retweets = tweets_df[tweets_df['retweeted_status_id'].notnull()].shape[0]\n",
    "print(f'Número de tweets que são retweets: {num_retweets}')"
   ]
  },
  {
   "cell_type": "markdown",
   "metadata": {},
   "source": [
    "#### Ranking retweets"
   ]
  },
  {
   "cell_type": "code",
   "execution_count": 63,
   "metadata": {
    "ExecuteTime": {
     "end_time": "2020-06-20T00:48:30.104511Z",
     "start_time": "2020-06-20T00:48:28.694668Z"
    }
   },
   "outputs": [
    {
     "data": {
      "text/html": [
       "<style  type=\"text/css\" >\n",
       "    #T_c27855e6_b28f_11ea_85db_5d3f9e2d6a0brow0_col5 {\n",
       "            background-color:  #D3D3D3;\n",
       "        }    #T_c27855e6_b28f_11ea_85db_5d3f9e2d6a0brow1_col5 {\n",
       "            background-color:  #D3D3D3;\n",
       "        }    #T_c27855e6_b28f_11ea_85db_5d3f9e2d6a0brow2_col5 {\n",
       "            background-color:  #D3D3D3;\n",
       "        }    #T_c27855e6_b28f_11ea_85db_5d3f9e2d6a0brow3_col5 {\n",
       "            background-color:  #D3D3D3;\n",
       "        }    #T_c27855e6_b28f_11ea_85db_5d3f9e2d6a0brow4_col5 {\n",
       "            background-color:  #D3D3D3;\n",
       "        }    #T_c27855e6_b28f_11ea_85db_5d3f9e2d6a0brow5_col5 {\n",
       "            background-color:  #D3D3D3;\n",
       "        }    #T_c27855e6_b28f_11ea_85db_5d3f9e2d6a0brow6_col5 {\n",
       "            background-color:  #D3D3D3;\n",
       "        }    #T_c27855e6_b28f_11ea_85db_5d3f9e2d6a0brow7_col5 {\n",
       "            background-color:  #D3D3D3;\n",
       "        }    #T_c27855e6_b28f_11ea_85db_5d3f9e2d6a0brow8_col5 {\n",
       "            background-color:  #D3D3D3;\n",
       "        }    #T_c27855e6_b28f_11ea_85db_5d3f9e2d6a0brow9_col5 {\n",
       "            background-color:  #D3D3D3;\n",
       "        }</style><table id=\"T_c27855e6_b28f_11ea_85db_5d3f9e2d6a0b\" ><thead>    <tr>        <th class=\"blank level0\" ></th>        <th class=\"col_heading level0 col0\" >tweet_id</th>        <th class=\"col_heading level0 col1\" >author</th>        <th class=\"col_heading level0 col2\" >tweet_text</th>        <th class=\"col_heading level0 col3\" >language</th>        <th class=\"col_heading level0 col4\" >num_likes</th>        <th class=\"col_heading level0 col5\" >num_retweets</th>        <th class=\"col_heading level0 col6\" >quoted_status_id</th>        <th class=\"col_heading level0 col7\" >retweeted_status_id</th>        <th class=\"col_heading level0 col8\" >reply_to_user</th>        <th class=\"col_heading level0 col9\" >reply_to_status</th>        <th class=\"col_heading level0 col10\" >date</th>    </tr></thead><tbody>\n",
       "                <tr>\n",
       "                        <th id=\"T_c27855e6_b28f_11ea_85db_5d3f9e2d6a0blevel0_row0\" class=\"row_heading level0 row0\" >1649436</th>\n",
       "                        <td id=\"T_c27855e6_b28f_11ea_85db_5d3f9e2d6a0brow0_col0\" class=\"data row0 col0\" >1236704401818935301</td>\n",
       "                        <td id=\"T_c27855e6_b28f_11ea_85db_5d3f9e2d6a0brow0_col1\" class=\"data row0 col1\" >EspirituJoto</td>\n",
       "                        <td id=\"T_c27855e6_b28f_11ea_85db_5d3f9e2d6a0brow0_col2\" class=\"data row0 col2\" >#InternationalWomensDay https://t.co/MgT8Df2IAV</td>\n",
       "                        <td id=\"T_c27855e6_b28f_11ea_85db_5d3f9e2d6a0brow0_col3\" class=\"data row0 col3\" >und</td>\n",
       "                        <td id=\"T_c27855e6_b28f_11ea_85db_5d3f9e2d6a0brow0_col4\" class=\"data row0 col4\" >294578</td>\n",
       "                        <td id=\"T_c27855e6_b28f_11ea_85db_5d3f9e2d6a0brow0_col5\" class=\"data row0 col5\" >95573</td>\n",
       "                        <td id=\"T_c27855e6_b28f_11ea_85db_5d3f9e2d6a0brow0_col6\" class=\"data row0 col6\" >None</td>\n",
       "                        <td id=\"T_c27855e6_b28f_11ea_85db_5d3f9e2d6a0brow0_col7\" class=\"data row0 col7\" >None</td>\n",
       "                        <td id=\"T_c27855e6_b28f_11ea_85db_5d3f9e2d6a0brow0_col8\" class=\"data row0 col8\" >None</td>\n",
       "                        <td id=\"T_c27855e6_b28f_11ea_85db_5d3f9e2d6a0brow0_col9\" class=\"data row0 col9\" >None</td>\n",
       "                        <td id=\"T_c27855e6_b28f_11ea_85db_5d3f9e2d6a0brow0_col10\" class=\"data row0 col10\" >08/03/2020 17:24:40</td>\n",
       "            </tr>\n",
       "            <tr>\n",
       "                        <th id=\"T_c27855e6_b28f_11ea_85db_5d3f9e2d6a0blevel0_row1\" class=\"row_heading level0 row1\" >201690</th>\n",
       "                        <td id=\"T_c27855e6_b28f_11ea_85db_5d3f9e2d6a0brow1_col0\" class=\"data row1 col0\" >1236488320517124101</td>\n",
       "                        <td id=\"T_c27855e6_b28f_11ea_85db_5d3f9e2d6a0brow1_col1\" class=\"data row1 col1\" >mel_bertelli</td>\n",
       "                        <td id=\"T_c27855e6_b28f_11ea_85db_5d3f9e2d6a0brow1_col2\" class=\"data row1 col2\" >\"8 de março de 1857, morreram aproximadamente 130 mulheres carbonizadas quando foram trancadas na fábrica de tecelagem, em Nova York, onde trabalhavam, por estarem em greve. Em homenagem a essas mulheres, em 1910, declarou-se o dia 8 de março como o \"Dia Internacional da Mulher\". https://t.co/VyABZO6WrU</td>\n",
       "                        <td id=\"T_c27855e6_b28f_11ea_85db_5d3f9e2d6a0brow1_col3\" class=\"data row1 col3\" >pt</td>\n",
       "                        <td id=\"T_c27855e6_b28f_11ea_85db_5d3f9e2d6a0brow1_col4\" class=\"data row1 col4\" >93291</td>\n",
       "                        <td id=\"T_c27855e6_b28f_11ea_85db_5d3f9e2d6a0brow1_col5\" class=\"data row1 col5\" >41506</td>\n",
       "                        <td id=\"T_c27855e6_b28f_11ea_85db_5d3f9e2d6a0brow1_col6\" class=\"data row1 col6\" >None</td>\n",
       "                        <td id=\"T_c27855e6_b28f_11ea_85db_5d3f9e2d6a0brow1_col7\" class=\"data row1 col7\" >None</td>\n",
       "                        <td id=\"T_c27855e6_b28f_11ea_85db_5d3f9e2d6a0brow1_col8\" class=\"data row1 col8\" >None</td>\n",
       "                        <td id=\"T_c27855e6_b28f_11ea_85db_5d3f9e2d6a0brow1_col9\" class=\"data row1 col9\" >None</td>\n",
       "                        <td id=\"T_c27855e6_b28f_11ea_85db_5d3f9e2d6a0brow1_col10\" class=\"data row1 col10\" >08/03/2020 03:06:03</td>\n",
       "            </tr>\n",
       "            <tr>\n",
       "                        <th id=\"T_c27855e6_b28f_11ea_85db_5d3f9e2d6a0blevel0_row2\" class=\"row_heading level0 row2\" >784780</th>\n",
       "                        <td id=\"T_c27855e6_b28f_11ea_85db_5d3f9e2d6a0brow2_col0\" class=\"data row2 col0\" >1236598536914882561</td>\n",
       "                        <td id=\"T_c27855e6_b28f_11ea_85db_5d3f9e2d6a0brow2_col1\" class=\"data row2 col1\" >FiersaBesari</td>\n",
       "                        <td id=\"T_c27855e6_b28f_11ea_85db_5d3f9e2d6a0brow2_col2\" class=\"data row2 col2\" >Berpendidikan tanpa perlu takut dengan “Cowok enggak suka cewek yang terlalu pintar”. Berdandan tanpa perlu peduli dengan “Aku suka wajahmu apa adanya”. Kejar mimpi tanpa perlu galau dengan “Kamu pilih mimpimu atau aku”. Kamu hebat dengan perjuanganmu\n",
       ".\n",
       "#HappyWomensDay2020</td>\n",
       "                        <td id=\"T_c27855e6_b28f_11ea_85db_5d3f9e2d6a0brow2_col3\" class=\"data row2 col3\" >in</td>\n",
       "                        <td id=\"T_c27855e6_b28f_11ea_85db_5d3f9e2d6a0brow2_col4\" class=\"data row2 col4\" >80047</td>\n",
       "                        <td id=\"T_c27855e6_b28f_11ea_85db_5d3f9e2d6a0brow2_col5\" class=\"data row2 col5\" >39334</td>\n",
       "                        <td id=\"T_c27855e6_b28f_11ea_85db_5d3f9e2d6a0brow2_col6\" class=\"data row2 col6\" >None</td>\n",
       "                        <td id=\"T_c27855e6_b28f_11ea_85db_5d3f9e2d6a0brow2_col7\" class=\"data row2 col7\" >None</td>\n",
       "                        <td id=\"T_c27855e6_b28f_11ea_85db_5d3f9e2d6a0brow2_col8\" class=\"data row2 col8\" >None</td>\n",
       "                        <td id=\"T_c27855e6_b28f_11ea_85db_5d3f9e2d6a0brow2_col9\" class=\"data row2 col9\" >None</td>\n",
       "                        <td id=\"T_c27855e6_b28f_11ea_85db_5d3f9e2d6a0brow2_col10\" class=\"data row2 col10\" >08/03/2020 10:24:00</td>\n",
       "            </tr>\n",
       "            <tr>\n",
       "                        <th id=\"T_c27855e6_b28f_11ea_85db_5d3f9e2d6a0blevel0_row3\" class=\"row_heading level0 row3\" >921552</th>\n",
       "                        <td id=\"T_c27855e6_b28f_11ea_85db_5d3f9e2d6a0brow3_col0\" class=\"data row3 col0\" >1236615590560890880</td>\n",
       "                        <td id=\"T_c27855e6_b28f_11ea_85db_5d3f9e2d6a0brow3_col1\" class=\"data row3 col1\" >GretaThunberg</td>\n",
       "                        <td id=\"T_c27855e6_b28f_11ea_85db_5d3f9e2d6a0brow3_col2\" class=\"data row3 col2\" >Today is #InternationalWomensDay and we recognise that women are still far from equal to men in today’s societies.\n",
       "We can not have climate justice without gender equity.\n",
       "\n",
       "And remember; what we women want today - and every day- is equality, not congratulations or celebrations. https://t.co/g1CuEN6YLX</td>\n",
       "                        <td id=\"T_c27855e6_b28f_11ea_85db_5d3f9e2d6a0brow3_col3\" class=\"data row3 col3\" >en</td>\n",
       "                        <td id=\"T_c27855e6_b28f_11ea_85db_5d3f9e2d6a0brow3_col4\" class=\"data row3 col4\" >209521</td>\n",
       "                        <td id=\"T_c27855e6_b28f_11ea_85db_5d3f9e2d6a0brow3_col5\" class=\"data row3 col5\" >37119</td>\n",
       "                        <td id=\"T_c27855e6_b28f_11ea_85db_5d3f9e2d6a0brow3_col6\" class=\"data row3 col6\" >None</td>\n",
       "                        <td id=\"T_c27855e6_b28f_11ea_85db_5d3f9e2d6a0brow3_col7\" class=\"data row3 col7\" >None</td>\n",
       "                        <td id=\"T_c27855e6_b28f_11ea_85db_5d3f9e2d6a0brow3_col8\" class=\"data row3 col8\" >None</td>\n",
       "                        <td id=\"T_c27855e6_b28f_11ea_85db_5d3f9e2d6a0brow3_col9\" class=\"data row3 col9\" >None</td>\n",
       "                        <td id=\"T_c27855e6_b28f_11ea_85db_5d3f9e2d6a0brow3_col10\" class=\"data row3 col10\" >08/03/2020 11:31:46</td>\n",
       "            </tr>\n",
       "            <tr>\n",
       "                        <th id=\"T_c27855e6_b28f_11ea_85db_5d3f9e2d6a0blevel0_row4\" class=\"row_heading level0 row4\" >225561</th>\n",
       "                        <td id=\"T_c27855e6_b28f_11ea_85db_5d3f9e2d6a0brow4_col0\" class=\"data row4 col0\" >1236492723814895618</td>\n",
       "                        <td id=\"T_c27855e6_b28f_11ea_85db_5d3f9e2d6a0brow4_col1\" class=\"data row4 col1\" >Valenperez_3</td>\n",
       "                        <td id=\"T_c27855e6_b28f_11ea_85db_5d3f9e2d6a0brow4_col2\" class=\"data row4 col2\" >Feliz será el día que no falte ninguna #8M https://t.co/BnVM4Bd95p</td>\n",
       "                        <td id=\"T_c27855e6_b28f_11ea_85db_5d3f9e2d6a0brow4_col3\" class=\"data row4 col3\" >es</td>\n",
       "                        <td id=\"T_c27855e6_b28f_11ea_85db_5d3f9e2d6a0brow4_col4\" class=\"data row4 col4\" >49772</td>\n",
       "                        <td id=\"T_c27855e6_b28f_11ea_85db_5d3f9e2d6a0brow4_col5\" class=\"data row4 col5\" >32832</td>\n",
       "                        <td id=\"T_c27855e6_b28f_11ea_85db_5d3f9e2d6a0brow4_col6\" class=\"data row4 col6\" >None</td>\n",
       "                        <td id=\"T_c27855e6_b28f_11ea_85db_5d3f9e2d6a0brow4_col7\" class=\"data row4 col7\" >None</td>\n",
       "                        <td id=\"T_c27855e6_b28f_11ea_85db_5d3f9e2d6a0brow4_col8\" class=\"data row4 col8\" >None</td>\n",
       "                        <td id=\"T_c27855e6_b28f_11ea_85db_5d3f9e2d6a0brow4_col9\" class=\"data row4 col9\" >None</td>\n",
       "                        <td id=\"T_c27855e6_b28f_11ea_85db_5d3f9e2d6a0brow4_col10\" class=\"data row4 col10\" >08/03/2020 03:23:32</td>\n",
       "            </tr>\n",
       "            <tr>\n",
       "                        <th id=\"T_c27855e6_b28f_11ea_85db_5d3f9e2d6a0blevel0_row5\" class=\"row_heading level0 row5\" >4112456</th>\n",
       "                        <td id=\"T_c27855e6_b28f_11ea_85db_5d3f9e2d6a0brow5_col0\" class=\"data row5 col0\" >1236633013083148288</td>\n",
       "                        <td id=\"T_c27855e6_b28f_11ea_85db_5d3f9e2d6a0brow5_col1\" class=\"data row5 col1\" >Lesbian4Palvin</td>\n",
       "                        <td id=\"T_c27855e6_b28f_11ea_85db_5d3f9e2d6a0brow5_col2\" class=\"data row5 col2\" >8 de marzo de 1908\n",
       "\n",
       "129 trabajadoras fueron quemadas vivas por hacer huelga y lograr los derechos que ahora gozamos.\n",
       "\n",
       "No hay festejo; conmemoración, respeto y valía.\n",
       "\n",
       "#8M2020 \n",
       "#DiaInternacionalDeLaMujer  \n",
       "#InternationalWomensDay https://t.co/DnFLS9ZCpe</td>\n",
       "                        <td id=\"T_c27855e6_b28f_11ea_85db_5d3f9e2d6a0brow5_col3\" class=\"data row5 col3\" >es</td>\n",
       "                        <td id=\"T_c27855e6_b28f_11ea_85db_5d3f9e2d6a0brow5_col4\" class=\"data row5 col4\" >49182</td>\n",
       "                        <td id=\"T_c27855e6_b28f_11ea_85db_5d3f9e2d6a0brow5_col5\" class=\"data row5 col5\" >28953</td>\n",
       "                        <td id=\"T_c27855e6_b28f_11ea_85db_5d3f9e2d6a0brow5_col6\" class=\"data row5 col6\" >None</td>\n",
       "                        <td id=\"T_c27855e6_b28f_11ea_85db_5d3f9e2d6a0brow5_col7\" class=\"data row5 col7\" >None</td>\n",
       "                        <td id=\"T_c27855e6_b28f_11ea_85db_5d3f9e2d6a0brow5_col8\" class=\"data row5 col8\" >None</td>\n",
       "                        <td id=\"T_c27855e6_b28f_11ea_85db_5d3f9e2d6a0brow5_col9\" class=\"data row5 col9\" >None</td>\n",
       "                        <td id=\"T_c27855e6_b28f_11ea_85db_5d3f9e2d6a0brow5_col10\" class=\"data row5 col10\" >08/03/2020 12:41:00</td>\n",
       "            </tr>\n",
       "            <tr>\n",
       "                        <th id=\"T_c27855e6_b28f_11ea_85db_5d3f9e2d6a0blevel0_row6\" class=\"row_heading level0 row6\" >233502</th>\n",
       "                        <td id=\"T_c27855e6_b28f_11ea_85db_5d3f9e2d6a0brow6_col0\" class=\"data row6 col0\" >1236494078696738822</td>\n",
       "                        <td id=\"T_c27855e6_b28f_11ea_85db_5d3f9e2d6a0brow6_col1\" class=\"data row6 col1\" >Nonatenho</td>\n",
       "                        <td id=\"T_c27855e6_b28f_11ea_85db_5d3f9e2d6a0brow6_col2\" class=\"data row6 col2\" >dia internacional da mulher, não pode faltar https://t.co/MRYwQyhx14</td>\n",
       "                        <td id=\"T_c27855e6_b28f_11ea_85db_5d3f9e2d6a0brow6_col3\" class=\"data row6 col3\" >pt</td>\n",
       "                        <td id=\"T_c27855e6_b28f_11ea_85db_5d3f9e2d6a0brow6_col4\" class=\"data row6 col4\" >50496</td>\n",
       "                        <td id=\"T_c27855e6_b28f_11ea_85db_5d3f9e2d6a0brow6_col5\" class=\"data row6 col5\" >28028</td>\n",
       "                        <td id=\"T_c27855e6_b28f_11ea_85db_5d3f9e2d6a0brow6_col6\" class=\"data row6 col6\" >None</td>\n",
       "                        <td id=\"T_c27855e6_b28f_11ea_85db_5d3f9e2d6a0brow6_col7\" class=\"data row6 col7\" >None</td>\n",
       "                        <td id=\"T_c27855e6_b28f_11ea_85db_5d3f9e2d6a0brow6_col8\" class=\"data row6 col8\" >None</td>\n",
       "                        <td id=\"T_c27855e6_b28f_11ea_85db_5d3f9e2d6a0brow6_col9\" class=\"data row6 col9\" >None</td>\n",
       "                        <td id=\"T_c27855e6_b28f_11ea_85db_5d3f9e2d6a0brow6_col10\" class=\"data row6 col10\" >08/03/2020 03:28:55</td>\n",
       "            </tr>\n",
       "            <tr>\n",
       "                        <th id=\"T_c27855e6_b28f_11ea_85db_5d3f9e2d6a0blevel0_row7\" class=\"row_heading level0 row7\" >5141087</th>\n",
       "                        <td id=\"T_c27855e6_b28f_11ea_85db_5d3f9e2d6a0brow7_col0\" class=\"data row7 col0\" >1236965636657549312</td>\n",
       "                        <td id=\"T_c27855e6_b28f_11ea_85db_5d3f9e2d6a0brow7_col1\" class=\"data row7 col1\" >lenaslebrero</td>\n",
       "                        <td id=\"T_c27855e6_b28f_11ea_85db_5d3f9e2d6a0brow7_col2\" class=\"data row7 col2\" >El día internacional del hombre es el 19 de Noviembre, si no se manifiestan es porque consideran que no tienen nada que reivindicar. Ya me gustaría a mi no tener que salir a la calle a gritar que quiero llegar viva a mi casa, Carmen. Aquí no se celebra nada. https://t.co/68cMTqdZgf</td>\n",
       "                        <td id=\"T_c27855e6_b28f_11ea_85db_5d3f9e2d6a0brow7_col3\" class=\"data row7 col3\" >es</td>\n",
       "                        <td id=\"T_c27855e6_b28f_11ea_85db_5d3f9e2d6a0brow7_col4\" class=\"data row7 col4\" >82886</td>\n",
       "                        <td id=\"T_c27855e6_b28f_11ea_85db_5d3f9e2d6a0brow7_col5\" class=\"data row7 col5\" >27418</td>\n",
       "                        <td id=\"T_c27855e6_b28f_11ea_85db_5d3f9e2d6a0brow7_col6\" class=\"data row7 col6\" >1236579425300484101</td>\n",
       "                        <td id=\"T_c27855e6_b28f_11ea_85db_5d3f9e2d6a0brow7_col7\" class=\"data row7 col7\" >None</td>\n",
       "                        <td id=\"T_c27855e6_b28f_11ea_85db_5d3f9e2d6a0brow7_col8\" class=\"data row7 col8\" >None</td>\n",
       "                        <td id=\"T_c27855e6_b28f_11ea_85db_5d3f9e2d6a0brow7_col9\" class=\"data row7 col9\" >None</td>\n",
       "                        <td id=\"T_c27855e6_b28f_11ea_85db_5d3f9e2d6a0brow7_col10\" class=\"data row7 col10\" >09/03/2020 10:42:44</td>\n",
       "            </tr>\n",
       "            <tr>\n",
       "                        <th id=\"T_c27855e6_b28f_11ea_85db_5d3f9e2d6a0blevel0_row8\" class=\"row_heading level0 row8\" >1074020</th>\n",
       "                        <td id=\"T_c27855e6_b28f_11ea_85db_5d3f9e2d6a0brow8_col0\" class=\"data row8 col0\" >1236629793178779648</td>\n",
       "                        <td id=\"T_c27855e6_b28f_11ea_85db_5d3f9e2d6a0brow8_col1\" class=\"data row8 col1\" >Guadalu54168286</td>\n",
       "                        <td id=\"T_c27855e6_b28f_11ea_85db_5d3f9e2d6a0brow8_col2\" class=\"data row8 col2\" >No quiero flores, quiero poder caminar por la calle tranquila.\n",
       "#DiaInternacionalDeLaMujer https://t.co/zj1NczVmI3</td>\n",
       "                        <td id=\"T_c27855e6_b28f_11ea_85db_5d3f9e2d6a0brow8_col3\" class=\"data row8 col3\" >es</td>\n",
       "                        <td id=\"T_c27855e6_b28f_11ea_85db_5d3f9e2d6a0brow8_col4\" class=\"data row8 col4\" >32498</td>\n",
       "                        <td id=\"T_c27855e6_b28f_11ea_85db_5d3f9e2d6a0brow8_col5\" class=\"data row8 col5\" >23894</td>\n",
       "                        <td id=\"T_c27855e6_b28f_11ea_85db_5d3f9e2d6a0brow8_col6\" class=\"data row8 col6\" >None</td>\n",
       "                        <td id=\"T_c27855e6_b28f_11ea_85db_5d3f9e2d6a0brow8_col7\" class=\"data row8 col7\" >None</td>\n",
       "                        <td id=\"T_c27855e6_b28f_11ea_85db_5d3f9e2d6a0brow8_col8\" class=\"data row8 col8\" >None</td>\n",
       "                        <td id=\"T_c27855e6_b28f_11ea_85db_5d3f9e2d6a0brow8_col9\" class=\"data row8 col9\" >None</td>\n",
       "                        <td id=\"T_c27855e6_b28f_11ea_85db_5d3f9e2d6a0brow8_col10\" class=\"data row8 col10\" >08/03/2020 12:28:12</td>\n",
       "            </tr>\n",
       "            <tr>\n",
       "                        <th id=\"T_c27855e6_b28f_11ea_85db_5d3f9e2d6a0blevel0_row9\" class=\"row_heading level0 row9\" >855097</th>\n",
       "                        <td id=\"T_c27855e6_b28f_11ea_85db_5d3f9e2d6a0brow9_col0\" class=\"data row9 col0\" >1236609471964680198</td>\n",
       "                        <td id=\"T_c27855e6_b28f_11ea_85db_5d3f9e2d6a0brow9_col1\" class=\"data row9 col1\" >vodkajdr</td>\n",
       "                        <td id=\"T_c27855e6_b28f_11ea_85db_5d3f9e2d6a0brow9_col2\" class=\"data row9 col2\" >las tías el 8M: hermanas unidas nunca seremos vencidas os quiero jajaja sororidad🥰🥰🥰🥰🥰\n",
       "\n",
       "el resto del año : jajaja a k me follo a tu novio fea</td>\n",
       "                        <td id=\"T_c27855e6_b28f_11ea_85db_5d3f9e2d6a0brow9_col3\" class=\"data row9 col3\" >es</td>\n",
       "                        <td id=\"T_c27855e6_b28f_11ea_85db_5d3f9e2d6a0brow9_col4\" class=\"data row9 col4\" >93191</td>\n",
       "                        <td id=\"T_c27855e6_b28f_11ea_85db_5d3f9e2d6a0brow9_col5\" class=\"data row9 col5\" >20202</td>\n",
       "                        <td id=\"T_c27855e6_b28f_11ea_85db_5d3f9e2d6a0brow9_col6\" class=\"data row9 col6\" >None</td>\n",
       "                        <td id=\"T_c27855e6_b28f_11ea_85db_5d3f9e2d6a0brow9_col7\" class=\"data row9 col7\" >None</td>\n",
       "                        <td id=\"T_c27855e6_b28f_11ea_85db_5d3f9e2d6a0brow9_col8\" class=\"data row9 col8\" >None</td>\n",
       "                        <td id=\"T_c27855e6_b28f_11ea_85db_5d3f9e2d6a0brow9_col9\" class=\"data row9 col9\" >None</td>\n",
       "                        <td id=\"T_c27855e6_b28f_11ea_85db_5d3f9e2d6a0brow9_col10\" class=\"data row9 col10\" >08/03/2020 11:07:27</td>\n",
       "            </tr>\n",
       "    </tbody></table>"
      ],
      "text/plain": [
       "<pandas.io.formats.style.Styler at 0x7f666333df10>"
      ]
     },
     "execution_count": 63,
     "metadata": {},
     "output_type": "execute_result"
    }
   ],
   "source": [
    "retweets_df[retweets_df['retweeted_status_id'].isnull()].iloc[0:10].style.applymap(highlight_cols, subset=pd.IndexSlice[:, ['num_retweets']])"
   ]
  },
  {
   "cell_type": "markdown",
   "metadata": {},
   "source": [
    "### Quotes"
   ]
  },
  {
   "cell_type": "code",
   "execution_count": 77,
   "metadata": {
    "ExecuteTime": {
     "end_time": "2020-06-20T02:27:45.182157Z",
     "start_time": "2020-06-20T02:27:44.532234Z"
    }
   },
   "outputs": [
    {
     "name": "stdout",
     "output_type": "stream",
     "text": [
      "Número de tweets que são quotes: 919901\n"
     ]
    }
   ],
   "source": [
    "num_quotes = tweets_df[tweets_df['quoted_status_id'].notnull()].shape[0]\n",
    "print(f'Número de tweets que são quotes: {num_quotes}')"
   ]
  },
  {
   "cell_type": "code",
   "execution_count": 76,
   "metadata": {
    "ExecuteTime": {
     "end_time": "2020-06-20T02:26:53.141014Z",
     "start_time": "2020-06-20T02:26:52.600440Z"
    }
   },
   "outputs": [
    {
     "data": {
      "text/html": [
       "<div>\n",
       "<style scoped>\n",
       "    .dataframe tbody tr th:only-of-type {\n",
       "        vertical-align: middle;\n",
       "    }\n",
       "\n",
       "    .dataframe tbody tr th {\n",
       "        vertical-align: top;\n",
       "    }\n",
       "\n",
       "    .dataframe thead th {\n",
       "        text-align: right;\n",
       "    }\n",
       "</style>\n",
       "<table border=\"1\" class=\"dataframe\">\n",
       "  <thead>\n",
       "    <tr style=\"text-align: right;\">\n",
       "      <th></th>\n",
       "      <th>tweet_id</th>\n",
       "      <th>author</th>\n",
       "      <th>tweet_text</th>\n",
       "      <th>language</th>\n",
       "      <th>num_likes</th>\n",
       "      <th>num_retweets</th>\n",
       "      <th>quoted_status_id</th>\n",
       "      <th>retweeted_status_id</th>\n",
       "      <th>reply_to_user</th>\n",
       "      <th>reply_to_status</th>\n",
       "      <th>date</th>\n",
       "    </tr>\n",
       "  </thead>\n",
       "  <tbody>\n",
       "    <tr>\n",
       "      <th>13</th>\n",
       "      <td>1236411306334273536</td>\n",
       "      <td>ravarick</td>\n",
       "      <td>La USAC llegando al espacio una cátedra de género a la vez \\n        👏👏👏👏👏👏 https://t.co/kA3VeFI48E</td>\n",
       "      <td>es</td>\n",
       "      <td>0</td>\n",
       "      <td>0</td>\n",
       "      <td>1236140760761802752</td>\n",
       "      <td>None</td>\n",
       "      <td>None</td>\n",
       "      <td>None</td>\n",
       "      <td>07/03/2020 22:00:01</td>\n",
       "    </tr>\n",
       "    <tr>\n",
       "      <th>53</th>\n",
       "      <td>1236411307907153920</td>\n",
       "      <td>pablojair</td>\n",
       "      <td>A ver: el trabajo, equivalente al sustento es aparte. Se entiende el punto pero los compañeros reporteros y gráficos no irán a marchar, van a ir a cumplir una orden laboral. Por estas actitudes tachan al movimiento feminista de radical y de locas a las activistas. No manchen. 👇🏼 https://t.co/3BwzMMJ50X</td>\n",
       "      <td>es</td>\n",
       "      <td>0</td>\n",
       "      <td>2</td>\n",
       "      <td>1236110338543824896</td>\n",
       "      <td>1236186027506757632</td>\n",
       "      <td>None</td>\n",
       "      <td>None</td>\n",
       "      <td>07/03/2020 22:00:01</td>\n",
       "    </tr>\n",
       "    <tr>\n",
       "      <th>60</th>\n",
       "      <td>1236411303809486850</td>\n",
       "      <td>maria_viloria</td>\n",
       "      <td>@ninazamb https://t.co/UJ0GMmpJWg https://t.co/nZYd3x1tvf</td>\n",
       "      <td>und</td>\n",
       "      <td>0</td>\n",
       "      <td>0</td>\n",
       "      <td>1235933756596383744</td>\n",
       "      <td>None</td>\n",
       "      <td>89623730</td>\n",
       "      <td>1236410091093532675</td>\n",
       "      <td>07/03/2020 22:00:00</td>\n",
       "    </tr>\n",
       "    <tr>\n",
       "      <th>62</th>\n",
       "      <td>1236411304996483073</td>\n",
       "      <td>FjOhep</td>\n",
       "      <td>Ojalá no hagas destrozos y desvirtúen la intención de la marcha. https://t.co/a7cRw3Zw8m</td>\n",
       "      <td>es</td>\n",
       "      <td>0</td>\n",
       "      <td>89</td>\n",
       "      <td>1236370696592404481</td>\n",
       "      <td>1236382312436314112</td>\n",
       "      <td>None</td>\n",
       "      <td>None</td>\n",
       "      <td>07/03/2020 22:00:01</td>\n",
       "    </tr>\n",
       "    <tr>\n",
       "      <th>68</th>\n",
       "      <td>1236411309710872576</td>\n",
       "      <td>TheSungani</td>\n",
       "      <td>20 years. 20 years and we’re still seeing the same damn fabric https://t.co/YnIFBcKTEL</td>\n",
       "      <td>en</td>\n",
       "      <td>2</td>\n",
       "      <td>0</td>\n",
       "      <td>1236405858994716674</td>\n",
       "      <td>None</td>\n",
       "      <td>None</td>\n",
       "      <td>None</td>\n",
       "      <td>07/03/2020 22:00:02</td>\n",
       "    </tr>\n",
       "    <tr>\n",
       "      <th>79</th>\n",
       "      <td>1236411307177492480</td>\n",
       "      <td>MarineR14350419</td>\n",
       "      <td>Yo pensaba que @Newtral era para sacar los bulos, las mentiras en las redes..... Defender la vedad ante las mentiras...🧐\\nPero no, yo sabía que era de la extrema izquierda periodística en fin #YoNoCreoenNewtral de vergüenza a que si @_anapastor_ https://t.co/bgaWux13OR</td>\n",
       "      <td>es</td>\n",
       "      <td>0</td>\n",
       "      <td>7</td>\n",
       "      <td>1236263334590152709</td>\n",
       "      <td>1236405584397729792</td>\n",
       "      <td>None</td>\n",
       "      <td>None</td>\n",
       "      <td>07/03/2020 22:00:01</td>\n",
       "    </tr>\n",
       "    <tr>\n",
       "      <th>82</th>\n",
       "      <td>1236411309018791937</td>\n",
       "      <td>OsborneInk</td>\n",
       "      <td>Ahahahahahahahaha\\n\\nPeople really are acutely uncomfortable making anything unapologetically about women. They panic and rush in with “supportive man” awards at the last minute. https://t.co/5g4anTFJjh</td>\n",
       "      <td>en</td>\n",
       "      <td>0</td>\n",
       "      <td>8</td>\n",
       "      <td>1235861934630559744</td>\n",
       "      <td>1236261610777387009</td>\n",
       "      <td>None</td>\n",
       "      <td>None</td>\n",
       "      <td>07/03/2020 22:00:02</td>\n",
       "    </tr>\n",
       "    <tr>\n",
       "      <th>84</th>\n",
       "      <td>1236411311053029381</td>\n",
       "      <td>LiberalPuro</td>\n",
       "      <td>Mirá @jorgewlarranaga al parecer acá Lea no solo se hace el desentendido en cuanto al desenlace judicial, también insinua que desde el aparato estatal vas a maltratar mujeres https://t.co/MQh1A95Iah</td>\n",
       "      <td>es</td>\n",
       "      <td>0</td>\n",
       "      <td>13</td>\n",
       "      <td>1236083644432879617</td>\n",
       "      <td>1236411182484987905</td>\n",
       "      <td>None</td>\n",
       "      <td>None</td>\n",
       "      <td>07/03/2020 22:00:02</td>\n",
       "    </tr>\n",
       "    <tr>\n",
       "      <th>97</th>\n",
       "      <td>1236411354367635456</td>\n",
       "      <td>velocity1204</td>\n",
       "      <td>I hope your heart is also feeling same pain of this woman after watching this but there are people here who must be happy to see this video as their agenda is fulfilled, clear agenda of destroying #Muslims &amp;amp; to kill #Muslims.\\n\\n#WomensDay \\n\\n@UNHumanRights @RanaAyyub #Islam #Delhi https://t.co/PHDaiq04nl</td>\n",
       "      <td>en</td>\n",
       "      <td>0</td>\n",
       "      <td>231</td>\n",
       "      <td>1236247363242446848</td>\n",
       "      <td>1236408570394152971</td>\n",
       "      <td>None</td>\n",
       "      <td>None</td>\n",
       "      <td>07/03/2020 22:00:12</td>\n",
       "    </tr>\n",
       "    <tr>\n",
       "      <th>99</th>\n",
       "      <td>1236411369114734597</td>\n",
       "      <td>stuart95006367</td>\n",
       "      <td>Don't forget this #Manchester #IWD2020 meeting \"Women, Resistance &amp;amp; Revolution\" - Sunday 8 March, 2pm. https://t.co/GohBMnA0Hv</td>\n",
       "      <td>en</td>\n",
       "      <td>0</td>\n",
       "      <td>3</td>\n",
       "      <td>1234530673274302465</td>\n",
       "      <td>1236369665422766080</td>\n",
       "      <td>None</td>\n",
       "      <td>None</td>\n",
       "      <td>07/03/2020 22:00:16</td>\n",
       "    </tr>\n",
       "  </tbody>\n",
       "</table>\n",
       "</div>"
      ],
      "text/plain": [
       "               tweet_id           author  \\\n",
       "13  1236411306334273536         ravarick   \n",
       "53  1236411307907153920        pablojair   \n",
       "60  1236411303809486850    maria_viloria   \n",
       "62  1236411304996483073           FjOhep   \n",
       "68  1236411309710872576       TheSungani   \n",
       "79  1236411307177492480  MarineR14350419   \n",
       "82  1236411309018791937       OsborneInk   \n",
       "84  1236411311053029381      LiberalPuro   \n",
       "97  1236411354367635456     velocity1204   \n",
       "99  1236411369114734597   stuart95006367   \n",
       "\n",
       "                                                                                                                                                                                                                                                                                                                 tweet_text  \\\n",
       "13                                                                                                                                                                                                                      La USAC llegando al espacio una cátedra de género a la vez \\n        👏👏👏👏👏👏 https://t.co/kA3VeFI48E   \n",
       "53          A ver: el trabajo, equivalente al sustento es aparte. Se entiende el punto pero los compañeros reporteros y gráficos no irán a marchar, van a ir a cumplir una orden laboral. Por estas actitudes tachan al movimiento feminista de radical y de locas a las activistas. No manchen. 👇🏼 https://t.co/3BwzMMJ50X   \n",
       "60                                                                                                                                                                                                                                                                @ninazamb https://t.co/UJ0GMmpJWg https://t.co/nZYd3x1tvf   \n",
       "62                                                                                                                                                                                                                                 Ojalá no hagas destrozos y desvirtúen la intención de la marcha. https://t.co/a7cRw3Zw8m   \n",
       "68                                                                                                                                                                                                                                   20 years. 20 years and we’re still seeing the same damn fabric https://t.co/YnIFBcKTEL   \n",
       "79                                            Yo pensaba que @Newtral era para sacar los bulos, las mentiras en las redes..... Defender la vedad ante las mentiras...🧐\\nPero no, yo sabía que era de la extrema izquierda periodística en fin #YoNoCreoenNewtral de vergüenza a que si @_anapastor_ https://t.co/bgaWux13OR   \n",
       "82                                                                                                               Ahahahahahahahaha\\n\\nPeople really are acutely uncomfortable making anything unapologetically about women. They panic and rush in with “supportive man” awards at the last minute. https://t.co/5g4anTFJjh   \n",
       "84                                                                                                                   Mirá @jorgewlarranaga al parecer acá Lea no solo se hace el desentendido en cuanto al desenlace judicial, también insinua que desde el aparato estatal vas a maltratar mujeres https://t.co/MQh1A95Iah   \n",
       "97  I hope your heart is also feeling same pain of this woman after watching this but there are people here who must be happy to see this video as their agenda is fulfilled, clear agenda of destroying #Muslims &amp; to kill #Muslims.\\n\\n#WomensDay \\n\\n@UNHumanRights @RanaAyyub #Islam #Delhi https://t.co/PHDaiq04nl   \n",
       "99                                                                                                                                                                                       Don't forget this #Manchester #IWD2020 meeting \"Women, Resistance &amp; Revolution\" - Sunday 8 March, 2pm. https://t.co/GohBMnA0Hv   \n",
       "\n",
       "   language  num_likes  num_retweets     quoted_status_id  \\\n",
       "13       es          0             0  1236140760761802752   \n",
       "53       es          0             2  1236110338543824896   \n",
       "60      und          0             0  1235933756596383744   \n",
       "62       es          0            89  1236370696592404481   \n",
       "68       en          2             0  1236405858994716674   \n",
       "79       es          0             7  1236263334590152709   \n",
       "82       en          0             8  1235861934630559744   \n",
       "84       es          0            13  1236083644432879617   \n",
       "97       en          0           231  1236247363242446848   \n",
       "99       en          0             3  1234530673274302465   \n",
       "\n",
       "    retweeted_status_id reply_to_user      reply_to_status  \\\n",
       "13                 None          None                 None   \n",
       "53  1236186027506757632          None                 None   \n",
       "60                 None      89623730  1236410091093532675   \n",
       "62  1236382312436314112          None                 None   \n",
       "68                 None          None                 None   \n",
       "79  1236405584397729792          None                 None   \n",
       "82  1236261610777387009          None                 None   \n",
       "84  1236411182484987905          None                 None   \n",
       "97  1236408570394152971          None                 None   \n",
       "99  1236369665422766080          None                 None   \n",
       "\n",
       "                   date  \n",
       "13  07/03/2020 22:00:01  \n",
       "53  07/03/2020 22:00:01  \n",
       "60  07/03/2020 22:00:00  \n",
       "62  07/03/2020 22:00:01  \n",
       "68  07/03/2020 22:00:02  \n",
       "79  07/03/2020 22:00:01  \n",
       "82  07/03/2020 22:00:02  \n",
       "84  07/03/2020 22:00:02  \n",
       "97  07/03/2020 22:00:12  \n",
       "99  07/03/2020 22:00:16  "
      ]
     },
     "execution_count": 76,
     "metadata": {},
     "output_type": "execute_result"
    }
   ],
   "source": [
    "tweets_df[tweets_df['quoted_status_id'].notnull()].head(10)"
   ]
  },
  {
   "cell_type": "markdown",
   "metadata": {},
   "source": [
    "### Replies"
   ]
  },
  {
   "cell_type": "markdown",
   "metadata": {},
   "source": [
    "#### To User"
   ]
  },
  {
   "cell_type": "code",
   "execution_count": 81,
   "metadata": {
    "ExecuteTime": {
     "end_time": "2020-06-20T02:37:44.467490Z",
     "start_time": "2020-06-20T02:37:44.156443Z"
    },
    "scrolled": true
   },
   "outputs": [
    {
     "data": {
      "text/html": [
       "<div>\n",
       "<style scoped>\n",
       "    .dataframe tbody tr th:only-of-type {\n",
       "        vertical-align: middle;\n",
       "    }\n",
       "\n",
       "    .dataframe tbody tr th {\n",
       "        vertical-align: top;\n",
       "    }\n",
       "\n",
       "    .dataframe thead th {\n",
       "        text-align: right;\n",
       "    }\n",
       "</style>\n",
       "<table border=\"1\" class=\"dataframe\">\n",
       "  <thead>\n",
       "    <tr style=\"text-align: right;\">\n",
       "      <th></th>\n",
       "      <th>tweet_id</th>\n",
       "      <th>author</th>\n",
       "      <th>tweet_text</th>\n",
       "      <th>language</th>\n",
       "      <th>num_likes</th>\n",
       "      <th>num_retweets</th>\n",
       "      <th>quoted_status_id</th>\n",
       "      <th>retweeted_status_id</th>\n",
       "      <th>reply_to_user</th>\n",
       "      <th>reply_to_status</th>\n",
       "      <th>date</th>\n",
       "    </tr>\n",
       "  </thead>\n",
       "  <tbody>\n",
       "    <tr>\n",
       "      <th>522</th>\n",
       "      <td>1236411488455127040</td>\n",
       "      <td>kelmarx83</td>\n",
       "      <td>@msciffer https://t.co/8sQLvB1EsD</td>\n",
       "      <td>und</td>\n",
       "      <td>0</td>\n",
       "      <td>0</td>\n",
       "      <td>1236404811290955777</td>\n",
       "      <td>None</td>\n",
       "      <td>25907726</td>\n",
       "      <td>None</td>\n",
       "      <td>07/03/2020 22:00:44</td>\n",
       "    </tr>\n",
       "    <tr>\n",
       "      <th>708</th>\n",
       "      <td>1236411552065933312</td>\n",
       "      <td>SriSubodhKmr</td>\n",
       "      <td>@cinnabar_dust My respect, love &amp;amp; gratitude to every woman who makes our lives &amp;amp; this world a better place for us...Everyday... Let's celebrate the love &amp;amp; strength in our lives today on #WomensDay &amp;amp; Everyday... ❤ #HappyWomansDay ❤</td>\n",
       "      <td>en</td>\n",
       "      <td>0</td>\n",
       "      <td>0</td>\n",
       "      <td>None</td>\n",
       "      <td>None</td>\n",
       "      <td>2854130732</td>\n",
       "      <td>None</td>\n",
       "      <td>07/03/2020 22:01:00</td>\n",
       "    </tr>\n",
       "    <tr>\n",
       "      <th>947</th>\n",
       "      <td>1236411693225275393</td>\n",
       "      <td>SriSubodhKmr</td>\n",
       "      <td>@IMinakshiJoshi My respect, love &amp;amp; gratitude to every woman who makes our lives &amp;amp; this world a better place for us...Everyday... Let's celebrate the love &amp;amp; strength in our lives today on #WomensDay &amp;amp; Everyday... ❤ #HappyWomansDay ❤</td>\n",
       "      <td>en</td>\n",
       "      <td>0</td>\n",
       "      <td>0</td>\n",
       "      <td>None</td>\n",
       "      <td>None</td>\n",
       "      <td>2512765266</td>\n",
       "      <td>None</td>\n",
       "      <td>07/03/2020 22:01:33</td>\n",
       "    </tr>\n",
       "    <tr>\n",
       "      <th>1070</th>\n",
       "      <td>1236411751643652096</td>\n",
       "      <td>nakul0916</td>\n",
       "      <td>@narendramodi @PMOIndia @akshaykumar @imVkohli @advani_kiara @Varun_dvn @karanjohar #WomensDay #betterIndia https://t.co/b6WdqgZPwj</td>\n",
       "      <td>und</td>\n",
       "      <td>0</td>\n",
       "      <td>0</td>\n",
       "      <td>None</td>\n",
       "      <td>None</td>\n",
       "      <td>18839785</td>\n",
       "      <td>None</td>\n",
       "      <td>07/03/2020 22:01:47</td>\n",
       "    </tr>\n",
       "    <tr>\n",
       "      <th>1074</th>\n",
       "      <td>1236411741015171074</td>\n",
       "      <td>SriSubodhKmr</td>\n",
       "      <td>@HarshaliAkiyama My respect, love &amp;amp; gratitude to every woman who makes our lives &amp;amp; this world a better place for us...Everyday... Let's celebrate the love &amp;amp; strength in our lives today on #WomensDay &amp;amp; Everyday... ❤ #HappyWomansDay ❤</td>\n",
       "      <td>en</td>\n",
       "      <td>0</td>\n",
       "      <td>0</td>\n",
       "      <td>None</td>\n",
       "      <td>None</td>\n",
       "      <td>718766831662604292</td>\n",
       "      <td>None</td>\n",
       "      <td>07/03/2020 22:01:45</td>\n",
       "    </tr>\n",
       "    <tr>\n",
       "      <th>...</th>\n",
       "      <td>...</td>\n",
       "      <td>...</td>\n",
       "      <td>...</td>\n",
       "      <td>...</td>\n",
       "      <td>...</td>\n",
       "      <td>...</td>\n",
       "      <td>...</td>\n",
       "      <td>...</td>\n",
       "      <td>...</td>\n",
       "      <td>...</td>\n",
       "      <td>...</td>\n",
       "    </tr>\n",
       "    <tr>\n",
       "      <th>5556643</th>\n",
       "      <td>1237071699188813826</td>\n",
       "      <td>rijecas</td>\n",
       "      <td>@petrogustavo, está niña es de tu promoción? Razonan (??) Igual https://t.co/Go8FNkYbNV</td>\n",
       "      <td>es</td>\n",
       "      <td>1</td>\n",
       "      <td>0</td>\n",
       "      <td>1236765449402056705</td>\n",
       "      <td>None</td>\n",
       "      <td>49849732</td>\n",
       "      <td>None</td>\n",
       "      <td>09/03/2020 17:44:11</td>\n",
       "    </tr>\n",
       "    <tr>\n",
       "      <th>5557023</th>\n",
       "      <td>1237071764972359680</td>\n",
       "      <td>Alikaentuit</td>\n",
       "      <td>@kenialopezr urge se ratifique y respete la Convención Belém do Pará, que la @OEA_oficial y @ONU_es sancionen a México por incumplimiento de tratados internacionales https://t.co/0pfeE0ui2b</td>\n",
       "      <td>es</td>\n",
       "      <td>0</td>\n",
       "      <td>0</td>\n",
       "      <td>1236806277315133440</td>\n",
       "      <td>None</td>\n",
       "      <td>185702823</td>\n",
       "      <td>None</td>\n",
       "      <td>09/03/2020 17:44:27</td>\n",
       "    </tr>\n",
       "    <tr>\n",
       "      <th>5557047</th>\n",
       "      <td>1237071775990677505</td>\n",
       "      <td>Okeibunor11</td>\n",
       "      <td>@omololasalako There are 80 Oncologists in Nigeria and 50 of them are women.\\nI am dedicated to giving woman a chance of survival when diagnosed.\\nDr Awoniyi made a way for me in 1938 by being the first female doctor in Nigeria.\\n\\n#InternationalWomensDay\\n#GoogleHangOut</td>\n",
       "      <td>en</td>\n",
       "      <td>0</td>\n",
       "      <td>0</td>\n",
       "      <td>None</td>\n",
       "      <td>None</td>\n",
       "      <td>600090118</td>\n",
       "      <td>None</td>\n",
       "      <td>09/03/2020 17:44:29</td>\n",
       "    </tr>\n",
       "    <tr>\n",
       "      <th>5557641</th>\n",
       "      <td>1237071995076055040</td>\n",
       "      <td>jdmarinou</td>\n",
       "      <td>@IsabellaWills pide a gritos que los caballeros paguen por los abortos de sus novias, porque no está de acuerdo conque se paguen de su IVA. https://t.co/WVbiqAnpsJ</td>\n",
       "      <td>es</td>\n",
       "      <td>0</td>\n",
       "      <td>0</td>\n",
       "      <td>1237051575727804417</td>\n",
       "      <td>None</td>\n",
       "      <td>61383742</td>\n",
       "      <td>None</td>\n",
       "      <td>09/03/2020 17:45:21</td>\n",
       "    </tr>\n",
       "    <tr>\n",
       "      <th>5557981</th>\n",
       "      <td>1237072033881583617</td>\n",
       "      <td>udaypratapbuxar</td>\n",
       "      <td>@activistritu 🙏❤\\n#SheInspiresMe \\n#InternationalWomensDay https://t.co/u9faWEk0gw</td>\n",
       "      <td>und</td>\n",
       "      <td>1</td>\n",
       "      <td>0</td>\n",
       "      <td>1236980452893659136</td>\n",
       "      <td>None</td>\n",
       "      <td>755765156227928065</td>\n",
       "      <td>None</td>\n",
       "      <td>09/03/2020 17:45:31</td>\n",
       "    </tr>\n",
       "  </tbody>\n",
       "</table>\n",
       "<p>18554 rows × 11 columns</p>\n",
       "</div>"
      ],
      "text/plain": [
       "                    tweet_id           author  \\\n",
       "522      1236411488455127040        kelmarx83   \n",
       "708      1236411552065933312     SriSubodhKmr   \n",
       "947      1236411693225275393     SriSubodhKmr   \n",
       "1070     1236411751643652096        nakul0916   \n",
       "1074     1236411741015171074     SriSubodhKmr   \n",
       "...                      ...              ...   \n",
       "5556643  1237071699188813826          rijecas   \n",
       "5557023  1237071764972359680      Alikaentuit   \n",
       "5557047  1237071775990677505      Okeibunor11   \n",
       "5557641  1237071995076055040        jdmarinou   \n",
       "5557981  1237072033881583617  udaypratapbuxar   \n",
       "\n",
       "                                                                                                                                                                                                                                                                              tweet_text  \\\n",
       "522                                                                                                                                                                                                                                                    @msciffer https://t.co/8sQLvB1EsD   \n",
       "708                               @cinnabar_dust My respect, love &amp; gratitude to every woman who makes our lives &amp; this world a better place for us...Everyday... Let's celebrate the love &amp; strength in our lives today on #WomensDay &amp; Everyday... ❤ #HappyWomansDay ❤   \n",
       "947                              @IMinakshiJoshi My respect, love &amp; gratitude to every woman who makes our lives &amp; this world a better place for us...Everyday... Let's celebrate the love &amp; strength in our lives today on #WomensDay &amp; Everyday... ❤ #HappyWomansDay ❤   \n",
       "1070                                                                                                                                                 @narendramodi @PMOIndia @akshaykumar @imVkohli @advani_kiara @Varun_dvn @karanjohar #WomensDay #betterIndia https://t.co/b6WdqgZPwj   \n",
       "1074                            @HarshaliAkiyama My respect, love &amp; gratitude to every woman who makes our lives &amp; this world a better place for us...Everyday... Let's celebrate the love &amp; strength in our lives today on #WomensDay &amp; Everyday... ❤ #HappyWomansDay ❤   \n",
       "...                                                                                                                                                                                                                                                                                  ...   \n",
       "5556643                                                                                                                                                                                          @petrogustavo, está niña es de tu promoción? Razonan (??) Igual https://t.co/Go8FNkYbNV   \n",
       "5557023                                                                                    @kenialopezr urge se ratifique y respete la Convención Belém do Pará, que la @OEA_oficial y @ONU_es sancionen a México por incumplimiento de tratados internacionales https://t.co/0pfeE0ui2b   \n",
       "5557047  @omololasalako There are 80 Oncologists in Nigeria and 50 of them are women.\\nI am dedicated to giving woman a chance of survival when diagnosed.\\nDr Awoniyi made a way for me in 1938 by being the first female doctor in Nigeria.\\n\\n#InternationalWomensDay\\n#GoogleHangOut   \n",
       "5557641                                                                                                              @IsabellaWills pide a gritos que los caballeros paguen por los abortos de sus novias, porque no está de acuerdo conque se paguen de su IVA. https://t.co/WVbiqAnpsJ   \n",
       "5557981                                                                                                                                                                                               @activistritu 🙏❤\\n#SheInspiresMe \\n#InternationalWomensDay https://t.co/u9faWEk0gw   \n",
       "\n",
       "        language  num_likes  num_retweets     quoted_status_id  \\\n",
       "522          und          0             0  1236404811290955777   \n",
       "708           en          0             0                 None   \n",
       "947           en          0             0                 None   \n",
       "1070         und          0             0                 None   \n",
       "1074          en          0             0                 None   \n",
       "...          ...        ...           ...                  ...   \n",
       "5556643       es          1             0  1236765449402056705   \n",
       "5557023       es          0             0  1236806277315133440   \n",
       "5557047       en          0             0                 None   \n",
       "5557641       es          0             0  1237051575727804417   \n",
       "5557981      und          1             0  1236980452893659136   \n",
       "\n",
       "        retweeted_status_id       reply_to_user reply_to_status  \\\n",
       "522                    None            25907726            None   \n",
       "708                    None          2854130732            None   \n",
       "947                    None          2512765266            None   \n",
       "1070                   None            18839785            None   \n",
       "1074                   None  718766831662604292            None   \n",
       "...                     ...                 ...             ...   \n",
       "5556643                None            49849732            None   \n",
       "5557023                None           185702823            None   \n",
       "5557047                None           600090118            None   \n",
       "5557641                None            61383742            None   \n",
       "5557981                None  755765156227928065            None   \n",
       "\n",
       "                        date  \n",
       "522      07/03/2020 22:00:44  \n",
       "708      07/03/2020 22:01:00  \n",
       "947      07/03/2020 22:01:33  \n",
       "1070     07/03/2020 22:01:47  \n",
       "1074     07/03/2020 22:01:45  \n",
       "...                      ...  \n",
       "5556643  09/03/2020 17:44:11  \n",
       "5557023  09/03/2020 17:44:27  \n",
       "5557047  09/03/2020 17:44:29  \n",
       "5557641  09/03/2020 17:45:21  \n",
       "5557981  09/03/2020 17:45:31  \n",
       "\n",
       "[18554 rows x 11 columns]"
      ]
     },
     "execution_count": 81,
     "metadata": {},
     "output_type": "execute_result"
    }
   ],
   "source": [
    "tweets_df[tweets_df['reply_to_user'].notnull() & tweets_df['reply_to_status'].isnull()]"
   ]
  },
  {
   "cell_type": "markdown",
   "metadata": {},
   "source": [
    "#### To Status"
   ]
  },
  {
   "cell_type": "code",
   "execution_count": 78,
   "metadata": {
    "ExecuteTime": {
     "end_time": "2020-06-20T02:35:19.980223Z",
     "start_time": "2020-06-20T02:35:19.708528Z"
    }
   },
   "outputs": [
    {
     "data": {
      "text/html": [
       "<div>\n",
       "<style scoped>\n",
       "    .dataframe tbody tr th:only-of-type {\n",
       "        vertical-align: middle;\n",
       "    }\n",
       "\n",
       "    .dataframe tbody tr th {\n",
       "        vertical-align: top;\n",
       "    }\n",
       "\n",
       "    .dataframe thead th {\n",
       "        text-align: right;\n",
       "    }\n",
       "</style>\n",
       "<table border=\"1\" class=\"dataframe\">\n",
       "  <thead>\n",
       "    <tr style=\"text-align: right;\">\n",
       "      <th></th>\n",
       "      <th>tweet_id</th>\n",
       "      <th>author</th>\n",
       "      <th>tweet_text</th>\n",
       "      <th>language</th>\n",
       "      <th>num_likes</th>\n",
       "      <th>num_retweets</th>\n",
       "      <th>quoted_status_id</th>\n",
       "      <th>retweeted_status_id</th>\n",
       "      <th>reply_to_user</th>\n",
       "      <th>reply_to_status</th>\n",
       "      <th>date</th>\n",
       "    </tr>\n",
       "  </thead>\n",
       "  <tbody>\n",
       "    <tr>\n",
       "      <th>22</th>\n",
       "      <td>1236411311946436609</td>\n",
       "      <td>SigridDThule</td>\n",
       "      <td>@EugeniodOrs_ Está claro, cuentan con que el número de casos crezca en los próximos días exponencialmente. Y además no tienen huevos (con perdón) para anular las manifas del 8M.</td>\n",
       "      <td>es</td>\n",
       "      <td>1</td>\n",
       "      <td>0</td>\n",
       "      <td>None</td>\n",
       "      <td>None</td>\n",
       "      <td>1057992745</td>\n",
       "      <td>1236292779938103296</td>\n",
       "      <td>07/03/2020 22:00:02</td>\n",
       "    </tr>\n",
       "    <tr>\n",
       "      <th>60</th>\n",
       "      <td>1236411303809486850</td>\n",
       "      <td>maria_viloria</td>\n",
       "      <td>@ninazamb https://t.co/UJ0GMmpJWg https://t.co/nZYd3x1tvf</td>\n",
       "      <td>und</td>\n",
       "      <td>0</td>\n",
       "      <td>0</td>\n",
       "      <td>1235933756596383744</td>\n",
       "      <td>None</td>\n",
       "      <td>89623730</td>\n",
       "      <td>1236410091093532675</td>\n",
       "      <td>07/03/2020 22:00:00</td>\n",
       "    </tr>\n",
       "    <tr>\n",
       "      <th>220</th>\n",
       "      <td>1236411414610194433</td>\n",
       "      <td>the_androsynth</td>\n",
       "      <td>@Joanwestenberg I appreciate what the other person said here, but can't they just take the point and maybe sit with what we're trying to say for a whole five minutes?\\n\\nHappy IWD 💜🏳️‍🌈</td>\n",
       "      <td>en</td>\n",
       "      <td>0</td>\n",
       "      <td>0</td>\n",
       "      <td>None</td>\n",
       "      <td>None</td>\n",
       "      <td>16836943</td>\n",
       "      <td>1236407758456381441</td>\n",
       "      <td>07/03/2020 22:00:27</td>\n",
       "    </tr>\n",
       "    <tr>\n",
       "      <th>273</th>\n",
       "      <td>1236411401591238658</td>\n",
       "      <td>Devlltitanite</td>\n",
       "      <td>@iGarllos بس شسالفه انت و WomensDay# بنفس اليوم لا يكون😳😳😳🤭</td>\n",
       "      <td>ar</td>\n",
       "      <td>0</td>\n",
       "      <td>0</td>\n",
       "      <td>None</td>\n",
       "      <td>None</td>\n",
       "      <td>1093525110118600710</td>\n",
       "      <td>1236409324940988421</td>\n",
       "      <td>07/03/2020 22:00:24</td>\n",
       "    </tr>\n",
       "    <tr>\n",
       "      <th>309</th>\n",
       "      <td>1236411435007254531</td>\n",
       "      <td>Invisib04609610</td>\n",
       "      <td>@Santi_ABASCAL Lo siento, no me parece prudente. Estamos criticando que se mantengan las manifestaciones del 8M y ustedes también mantienen su acto. Parece que la política importa más que las personas</td>\n",
       "      <td>es</td>\n",
       "      <td>2</td>\n",
       "      <td>0</td>\n",
       "      <td>None</td>\n",
       "      <td>None</td>\n",
       "      <td>260788584</td>\n",
       "      <td>1236356053220184064</td>\n",
       "      <td>07/03/2020 22:00:32</td>\n",
       "    </tr>\n",
       "    <tr>\n",
       "      <th>...</th>\n",
       "      <td>...</td>\n",
       "      <td>...</td>\n",
       "      <td>...</td>\n",
       "      <td>...</td>\n",
       "      <td>...</td>\n",
       "      <td>...</td>\n",
       "      <td>...</td>\n",
       "      <td>...</td>\n",
       "      <td>...</td>\n",
       "      <td>...</td>\n",
       "      <td>...</td>\n",
       "    </tr>\n",
       "    <tr>\n",
       "      <th>5558028</th>\n",
       "      <td>1237072027271467009</td>\n",
       "      <td>lauraarmy</td>\n",
       "      <td>“I see sport now, it’s evolving so much, my hope is that you ask them (who their role model is), they can name off five or six of their favourite athletes that they watched growing up,\" @veebach21 #IWD2020\\n\\nhttps://t.co/MRLUfGXMjs</td>\n",
       "      <td>en</td>\n",
       "      <td>1</td>\n",
       "      <td>0</td>\n",
       "      <td>None</td>\n",
       "      <td>None</td>\n",
       "      <td>277675077</td>\n",
       "      <td>1237072026038423554</td>\n",
       "      <td>09/03/2020 17:45:29</td>\n",
       "    </tr>\n",
       "    <tr>\n",
       "      <th>5558031</th>\n",
       "      <td>1237072013581303812</td>\n",
       "      <td>lauraarmy</td>\n",
       "      <td>\"I saw Penny (Olesiak) one time. Just where we were staying, just from a distance, but it was cool just to see her. She did so extremely well,\" @BrookeHenderson #IWD2020\\n\\nhttps://t.co/MRLUfGXMjs</td>\n",
       "      <td>en</td>\n",
       "      <td>0</td>\n",
       "      <td>0</td>\n",
       "      <td>None</td>\n",
       "      <td>None</td>\n",
       "      <td>277675077</td>\n",
       "      <td>1237072012213977091</td>\n",
       "      <td>09/03/2020 17:45:26</td>\n",
       "    </tr>\n",
       "    <tr>\n",
       "      <th>5558048</th>\n",
       "      <td>1237072012213977091</td>\n",
       "      <td>lauraarmy</td>\n",
       "      <td>\"We feed off of each other and give each other motivation and inspire each other, which is so nice. We push ourselves to be better. We’re going to continue to be badasses,\" — @Bandreescu_ #IWD2020 \\n\\nhttps://t.co/MRLUfGXMjs</td>\n",
       "      <td>en</td>\n",
       "      <td>1</td>\n",
       "      <td>0</td>\n",
       "      <td>None</td>\n",
       "      <td>None</td>\n",
       "      <td>277675077</td>\n",
       "      <td>1237069808996401153</td>\n",
       "      <td>09/03/2020 17:45:26</td>\n",
       "    </tr>\n",
       "    <tr>\n",
       "      <th>5558115</th>\n",
       "      <td>1237072024004157441</td>\n",
       "      <td>lauraarmy</td>\n",
       "      <td>\"I told her, ‘If you ever need someone to hang out with or if you ever want to call someone, here’s my phone number. Hit me up, whatever,” Penny Olesiak. #IWD2020 \\n\\nhttps://t.co/MRLUfGXMjs</td>\n",
       "      <td>en</td>\n",
       "      <td>0</td>\n",
       "      <td>0</td>\n",
       "      <td>None</td>\n",
       "      <td>None</td>\n",
       "      <td>277675077</td>\n",
       "      <td>1237072013581303812</td>\n",
       "      <td>09/03/2020 17:45:28</td>\n",
       "    </tr>\n",
       "    <tr>\n",
       "      <th>5558150</th>\n",
       "      <td>1237071964780576769</td>\n",
       "      <td>pablo82827776</td>\n",
       "      <td>@NagualMujer #VivasLasQueremos \\n#8M2020 \\n#BastaDeAcoso \\n#MujeresReales</td>\n",
       "      <td>und</td>\n",
       "      <td>1</td>\n",
       "      <td>0</td>\n",
       "      <td>None</td>\n",
       "      <td>None</td>\n",
       "      <td>2490460988</td>\n",
       "      <td>1236774222103535623</td>\n",
       "      <td>09/03/2020 17:45:14</td>\n",
       "    </tr>\n",
       "  </tbody>\n",
       "</table>\n",
       "<p>112585 rows × 11 columns</p>\n",
       "</div>"
      ],
      "text/plain": [
       "                    tweet_id           author  \\\n",
       "22       1236411311946436609     SigridDThule   \n",
       "60       1236411303809486850    maria_viloria   \n",
       "220      1236411414610194433   the_androsynth   \n",
       "273      1236411401591238658    Devlltitanite   \n",
       "309      1236411435007254531  Invisib04609610   \n",
       "...                      ...              ...   \n",
       "5558028  1237072027271467009        lauraarmy   \n",
       "5558031  1237072013581303812        lauraarmy   \n",
       "5558048  1237072012213977091        lauraarmy   \n",
       "5558115  1237072024004157441        lauraarmy   \n",
       "5558150  1237071964780576769    pablo82827776   \n",
       "\n",
       "                                                                                                                                                                                                                                       tweet_text  \\\n",
       "22                                                              @EugeniodOrs_ Está claro, cuentan con que el número de casos crezca en los próximos días exponencialmente. Y además no tienen huevos (con perdón) para anular las manifas del 8M.   \n",
       "60                                                                                                                                                                                      @ninazamb https://t.co/UJ0GMmpJWg https://t.co/nZYd3x1tvf   \n",
       "220                                                     @Joanwestenberg I appreciate what the other person said here, but can't they just take the point and maybe sit with what we're trying to say for a whole five minutes?\\n\\nHappy IWD 💜🏳️‍🌈   \n",
       "273                                                                                                                                                                                   @iGarllos بس شسالفه انت و WomensDay# بنفس اليوم لا يكون😳😳😳🤭   \n",
       "309                                      @Santi_ABASCAL Lo siento, no me parece prudente. Estamos criticando que se mantengan las manifestaciones del 8M y ustedes también mantienen su acto. Parece que la política importa más que las personas   \n",
       "...                                                                                                                                                                                                                                           ...   \n",
       "5558028  “I see sport now, it’s evolving so much, my hope is that you ask them (who their role model is), they can name off five or six of their favourite athletes that they watched growing up,\" @veebach21 #IWD2020\\n\\nhttps://t.co/MRLUfGXMjs   \n",
       "5558031                                      \"I saw Penny (Olesiak) one time. Just where we were staying, just from a distance, but it was cool just to see her. She did so extremely well,\" @BrookeHenderson #IWD2020\\n\\nhttps://t.co/MRLUfGXMjs   \n",
       "5558048          \"We feed off of each other and give each other motivation and inspire each other, which is so nice. We push ourselves to be better. We’re going to continue to be badasses,\" — @Bandreescu_ #IWD2020 \\n\\nhttps://t.co/MRLUfGXMjs   \n",
       "5558115                                            \"I told her, ‘If you ever need someone to hang out with or if you ever want to call someone, here’s my phone number. Hit me up, whatever,” Penny Olesiak. #IWD2020 \\n\\nhttps://t.co/MRLUfGXMjs   \n",
       "5558150                                                                                                                                                                 @NagualMujer #VivasLasQueremos \\n#8M2020 \\n#BastaDeAcoso \\n#MujeresReales   \n",
       "\n",
       "        language  num_likes  num_retweets     quoted_status_id  \\\n",
       "22            es          1             0                 None   \n",
       "60           und          0             0  1235933756596383744   \n",
       "220           en          0             0                 None   \n",
       "273           ar          0             0                 None   \n",
       "309           es          2             0                 None   \n",
       "...          ...        ...           ...                  ...   \n",
       "5558028       en          1             0                 None   \n",
       "5558031       en          0             0                 None   \n",
       "5558048       en          1             0                 None   \n",
       "5558115       en          0             0                 None   \n",
       "5558150      und          1             0                 None   \n",
       "\n",
       "        retweeted_status_id        reply_to_user      reply_to_status  \\\n",
       "22                     None           1057992745  1236292779938103296   \n",
       "60                     None             89623730  1236410091093532675   \n",
       "220                    None             16836943  1236407758456381441   \n",
       "273                    None  1093525110118600710  1236409324940988421   \n",
       "309                    None            260788584  1236356053220184064   \n",
       "...                     ...                  ...                  ...   \n",
       "5558028                None            277675077  1237072026038423554   \n",
       "5558031                None            277675077  1237072012213977091   \n",
       "5558048                None            277675077  1237069808996401153   \n",
       "5558115                None            277675077  1237072013581303812   \n",
       "5558150                None           2490460988  1236774222103535623   \n",
       "\n",
       "                        date  \n",
       "22       07/03/2020 22:00:02  \n",
       "60       07/03/2020 22:00:00  \n",
       "220      07/03/2020 22:00:27  \n",
       "273      07/03/2020 22:00:24  \n",
       "309      07/03/2020 22:00:32  \n",
       "...                      ...  \n",
       "5558028  09/03/2020 17:45:29  \n",
       "5558031  09/03/2020 17:45:26  \n",
       "5558048  09/03/2020 17:45:26  \n",
       "5558115  09/03/2020 17:45:28  \n",
       "5558150  09/03/2020 17:45:14  \n",
       "\n",
       "[112585 rows x 11 columns]"
      ]
     },
     "execution_count": 78,
     "metadata": {},
     "output_type": "execute_result"
    }
   ],
   "source": [
    "tweets_df[tweets_df['reply_to_status'].notnull()]"
   ]
  },
  {
   "cell_type": "markdown",
   "metadata": {},
   "source": [
    "### Geolocalização"
   ]
  },
  {
   "cell_type": "code",
   "execution_count": 82,
   "metadata": {
    "ExecuteTime": {
     "end_time": "2020-06-20T02:44:03.371707Z",
     "start_time": "2020-06-20T02:44:03.341710Z"
    }
   },
   "outputs": [],
   "source": [
    "pipeline6 = [\n",
    "    {\n",
    "        '$match': {\n",
    "            'geo': {\n",
    "                '$ne': None\n",
    "            }\n",
    "        }\n",
    "    }, {\n",
    "        '$count': 'count'\n",
    "    }\n",
    "]"
   ]
  },
  {
   "cell_type": "code",
   "execution_count": 83,
   "metadata": {
    "ExecuteTime": {
     "end_time": "2020-06-20T03:08:03.457537Z",
     "start_time": "2020-06-20T02:44:24.696293Z"
    }
   },
   "outputs": [],
   "source": [
    "geo_enabled = query(collection=collection, pipeline=pipeline6)"
   ]
  },
  {
   "cell_type": "code",
   "execution_count": 95,
   "metadata": {
    "ExecuteTime": {
     "end_time": "2020-06-20T03:42:01.962668Z",
     "start_time": "2020-06-20T03:42:01.959459Z"
    }
   },
   "outputs": [
    {
     "data": {
      "text/plain": [
       "5578"
      ]
     },
     "execution_count": 95,
     "metadata": {},
     "output_type": "execute_result"
    }
   ],
   "source": [
    "geo_enabled[0]['count']"
   ]
  },
  {
   "cell_type": "markdown",
   "metadata": {},
   "source": [
    "#### User Geo Enabled"
   ]
  },
  {
   "cell_type": "code",
   "execution_count": 85,
   "metadata": {
    "ExecuteTime": {
     "end_time": "2020-06-20T03:08:04.566454Z",
     "start_time": "2020-06-20T03:08:04.358768Z"
    }
   },
   "outputs": [],
   "source": [
    "pipeline7 = [\n",
    "    {\n",
    "        '$project': {\n",
    "            'user_geo_enabled': '$user.geo_enabled', \n",
    "            'user_location': '$user.location'\n",
    "        }\n",
    "    }, {\n",
    "        '$group': {\n",
    "            '_id': '$user_geo_enabled', \n",
    "            'count': {\n",
    "                '$sum': 1\n",
    "            }\n",
    "        }\n",
    "    }\n",
    "]"
   ]
  },
  {
   "cell_type": "code",
   "execution_count": 91,
   "metadata": {
    "ExecuteTime": {
     "end_time": "2020-06-20T03:29:20.468341Z",
     "start_time": "2020-06-20T03:24:47.664672Z"
    }
   },
   "outputs": [],
   "source": [
    "user_geo_enabled = query(collection=collection, pipeline=pipeline7)"
   ]
  },
  {
   "cell_type": "code",
   "execution_count": 92,
   "metadata": {
    "ExecuteTime": {
     "end_time": "2020-06-20T03:29:20.622995Z",
     "start_time": "2020-06-20T03:29:20.570956Z"
    }
   },
   "outputs": [
    {
     "data": {
      "text/plain": [
       "[{'_id': False, 'count': 3216265}, {'_id': True, 'count': 2341906}]"
      ]
     },
     "execution_count": 92,
     "metadata": {},
     "output_type": "execute_result"
    }
   ],
   "source": [
    "user_geo_enabled"
   ]
  },
  {
   "cell_type": "markdown",
   "metadata": {},
   "source": [
    "#### User location"
   ]
  },
  {
   "cell_type": "code",
   "execution_count": 88,
   "metadata": {
    "ExecuteTime": {
     "end_time": "2020-06-20T03:17:39.813739Z",
     "start_time": "2020-06-20T03:17:39.791348Z"
    }
   },
   "outputs": [],
   "source": [
    "pipeline8 = [\n",
    "    {\n",
    "        '$project': {\n",
    "            'user_geo_enabled': '$user.geo_enabled', \n",
    "            'user_location': '$user.location'\n",
    "        }\n",
    "    }, {\n",
    "        '$group': {\n",
    "            '_id': '$user_location', \n",
    "            'count': {\n",
    "                '$sum': 1\n",
    "            }\n",
    "        }\n",
    "    }, {\n",
    "        '$sort': {\n",
    "            'count': -1\n",
    "        }\n",
    "    }\n",
    "]"
   ]
  },
  {
   "cell_type": "code",
   "execution_count": 89,
   "metadata": {
    "ExecuteTime": {
     "end_time": "2020-06-20T03:23:03.331618Z",
     "start_time": "2020-06-20T03:17:39.863269Z"
    }
   },
   "outputs": [],
   "source": [
    "user_location = query(collection=collection, pipeline=pipeline8)"
   ]
  },
  {
   "cell_type": "code",
   "execution_count": 96,
   "metadata": {
    "ExecuteTime": {
     "end_time": "2020-06-20T03:43:02.461310Z",
     "start_time": "2020-06-20T03:43:01.774928Z"
    }
   },
   "outputs": [
    {
     "data": {
      "text/html": [
       "<div>\n",
       "<style scoped>\n",
       "    .dataframe tbody tr th:only-of-type {\n",
       "        vertical-align: middle;\n",
       "    }\n",
       "\n",
       "    .dataframe tbody tr th {\n",
       "        vertical-align: top;\n",
       "    }\n",
       "\n",
       "    .dataframe thead th {\n",
       "        text-align: right;\n",
       "    }\n",
       "</style>\n",
       "<table border=\"1\" class=\"dataframe\">\n",
       "  <thead>\n",
       "    <tr style=\"text-align: right;\">\n",
       "      <th></th>\n",
       "      <th>_id</th>\n",
       "      <th>count</th>\n",
       "    </tr>\n",
       "  </thead>\n",
       "  <tbody>\n",
       "    <tr>\n",
       "      <th>0</th>\n",
       "      <td></td>\n",
       "      <td>1940931</td>\n",
       "    </tr>\n",
       "    <tr>\n",
       "      <th>1</th>\n",
       "      <td>México</td>\n",
       "      <td>56027</td>\n",
       "    </tr>\n",
       "    <tr>\n",
       "      <th>2</th>\n",
       "      <td>India</td>\n",
       "      <td>44962</td>\n",
       "    </tr>\n",
       "    <tr>\n",
       "      <th>3</th>\n",
       "      <td>Chile</td>\n",
       "      <td>35022</td>\n",
       "    </tr>\n",
       "    <tr>\n",
       "      <th>4</th>\n",
       "      <td>Santiago, Chile</td>\n",
       "      <td>26304</td>\n",
       "    </tr>\n",
       "    <tr>\n",
       "      <th>...</th>\n",
       "      <td>...</td>\n",
       "      <td>...</td>\n",
       "    </tr>\n",
       "    <tr>\n",
       "      <th>540562</th>\n",
       "      <td>Todo se Come</td>\n",
       "      <td>1</td>\n",
       "    </tr>\n",
       "    <tr>\n",
       "      <th>540563</th>\n",
       "      <td>Entre XVIDEOS y PornHub</td>\n",
       "      <td>1</td>\n",
       "    </tr>\n",
       "    <tr>\n",
       "      <th>540564</th>\n",
       "      <td>Stockton • Fresno, CA</td>\n",
       "      <td>1</td>\n",
       "    </tr>\n",
       "    <tr>\n",
       "      <th>540565</th>\n",
       "      <td>ÜT: 10.487509,-66.873224</td>\n",
       "      <td>1</td>\n",
       "    </tr>\n",
       "    <tr>\n",
       "      <th>540566</th>\n",
       "      <td>Ohio, U.S.</td>\n",
       "      <td>1</td>\n",
       "    </tr>\n",
       "  </tbody>\n",
       "</table>\n",
       "<p>540567 rows × 2 columns</p>\n",
       "</div>"
      ],
      "text/plain": [
       "                             _id    count\n",
       "0                                 1940931\n",
       "1                         México    56027\n",
       "2                          India    44962\n",
       "3                          Chile    35022\n",
       "4                Santiago, Chile    26304\n",
       "...                          ...      ...\n",
       "540562              Todo se Come        1\n",
       "540563   Entre XVIDEOS y PornHub        1\n",
       "540564     Stockton • Fresno, CA        1\n",
       "540565  ÜT: 10.487509,-66.873224        1\n",
       "540566                Ohio, U.S.        1\n",
       "\n",
       "[540567 rows x 2 columns]"
      ]
     },
     "execution_count": 96,
     "metadata": {},
     "output_type": "execute_result"
    }
   ],
   "source": [
    "pd.DataFrame(user_location)"
   ]
  },
  {
   "cell_type": "code",
   "execution_count": null,
   "metadata": {},
   "outputs": [],
   "source": []
  }
 ],
 "metadata": {
  "@webio": {
   "lastCommId": null,
   "lastKernelId": null
  },
  "kernelspec": {
   "display_name": "Python 3",
   "language": "python",
   "name": "python3"
  },
  "language_info": {
   "codemirror_mode": {
    "name": "ipython",
    "version": 3
   },
   "file_extension": ".py",
   "mimetype": "text/x-python",
   "name": "python",
   "nbconvert_exporter": "python",
   "pygments_lexer": "ipython3",
   "version": "3.7.7"
  },
  "toc": {
   "base_numbering": 1,
   "nav_menu": {},
   "number_sections": true,
   "sideBar": true,
   "skip_h1_title": false,
   "title_cell": "Table of Contents",
   "title_sidebar": "Contents",
   "toc_cell": false,
   "toc_position": {},
   "toc_section_display": true,
   "toc_window_display": false
  }
 },
 "nbformat": 4,
 "nbformat_minor": 4
}
