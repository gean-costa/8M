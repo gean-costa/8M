{
 "cells": [
  {
   "cell_type": "code",
   "execution_count": 1,
   "metadata": {
    "ExecuteTime": {
     "end_time": "2020-12-30T00:06:54.718543Z",
     "start_time": "2020-12-30T00:06:53.382894Z"
    }
   },
   "outputs": [],
   "source": [
    "import pandas as pd "
   ]
  },
  {
   "cell_type": "code",
   "execution_count": 2,
   "metadata": {
    "ExecuteTime": {
     "end_time": "2020-12-30T00:06:54.895252Z",
     "start_time": "2020-12-30T00:06:54.719950Z"
    }
   },
   "outputs": [],
   "source": [
    "df1 = pd.read_csv('cenario2_8M2020_tweets_pt.csv',\n",
    "                  usecols=['tweet_id', 'tweet_text', 'clean_text'])"
   ]
  },
  {
   "cell_type": "code",
   "execution_count": 3,
   "metadata": {
    "ExecuteTime": {
     "end_time": "2020-12-30T00:06:54.904358Z",
     "start_time": "2020-12-30T00:06:54.896591Z"
    }
   },
   "outputs": [
    {
     "data": {
      "text/plain": [
       "(40324, 3)"
      ]
     },
     "execution_count": 3,
     "metadata": {},
     "output_type": "execute_result"
    }
   ],
   "source": [
    "df1.shape"
   ]
  },
  {
   "cell_type": "code",
   "execution_count": 4,
   "metadata": {
    "ExecuteTime": {
     "end_time": "2020-12-30T00:06:54.922390Z",
     "start_time": "2020-12-30T00:06:54.905561Z"
    }
   },
   "outputs": [
    {
     "data": {
      "text/html": [
       "<div>\n",
       "<style scoped>\n",
       "    .dataframe tbody tr th:only-of-type {\n",
       "        vertical-align: middle;\n",
       "    }\n",
       "\n",
       "    .dataframe tbody tr th {\n",
       "        vertical-align: top;\n",
       "    }\n",
       "\n",
       "    .dataframe thead th {\n",
       "        text-align: right;\n",
       "    }\n",
       "</style>\n",
       "<table border=\"1\" class=\"dataframe\">\n",
       "  <thead>\n",
       "    <tr style=\"text-align: right;\">\n",
       "      <th></th>\n",
       "      <th>tweet_id</th>\n",
       "      <th>tweet_text</th>\n",
       "      <th>clean_text</th>\n",
       "    </tr>\n",
       "  </thead>\n",
       "  <tbody>\n",
       "    <tr>\n",
       "      <th>0</th>\n",
       "      <td>1236411302895124487</td>\n",
       "      <td>Sol com cara O projeto Inclusive, Praia! está ...</td>\n",
       "      <td>sol cara projeto inclusive praia volta proximo...</td>\n",
       "    </tr>\n",
       "    <tr>\n",
       "      <th>1</th>\n",
       "      <td>1236411378879037442</td>\n",
       "      <td>Hoje é dia de transmissão especial na Fla TV!!...</td>\n",
       "      <td>hoje dia transmissao especial fla amanha dia i...</td>\n",
       "    </tr>\n",
       "    <tr>\n",
       "      <th>2</th>\n",
       "      <td>1236411364643659776</td>\n",
       "      <td>A presidenta nacional do PT, deputada @gleisi ...</td>\n",
       "      <td>presidenta nacional deputada faz chamamento mu...</td>\n",
       "    </tr>\n",
       "  </tbody>\n",
       "</table>\n",
       "</div>"
      ],
      "text/plain": [
       "              tweet_id                                         tweet_text  \\\n",
       "0  1236411302895124487  Sol com cara O projeto Inclusive, Praia! está ...   \n",
       "1  1236411378879037442  Hoje é dia de transmissão especial na Fla TV!!...   \n",
       "2  1236411364643659776  A presidenta nacional do PT, deputada @gleisi ...   \n",
       "\n",
       "                                          clean_text  \n",
       "0  sol cara projeto inclusive praia volta proximo...  \n",
       "1  hoje dia transmissao especial fla amanha dia i...  \n",
       "2  presidenta nacional deputada faz chamamento mu...  "
      ]
     },
     "execution_count": 4,
     "metadata": {},
     "output_type": "execute_result"
    }
   ],
   "source": [
    "df1.head(3)"
   ]
  },
  {
   "cell_type": "code",
   "execution_count": 5,
   "metadata": {
    "ExecuteTime": {
     "end_time": "2020-12-30T00:06:55.018864Z",
     "start_time": "2020-12-30T00:06:54.923901Z"
    }
   },
   "outputs": [],
   "source": [
    "df2 = pd.read_csv('sentiment_analysis_pt.csv', usecols=['text', 'result'])"
   ]
  },
  {
   "cell_type": "code",
   "execution_count": 6,
   "metadata": {
    "ExecuteTime": {
     "end_time": "2020-12-30T00:06:55.023300Z",
     "start_time": "2020-12-30T00:06:55.020155Z"
    }
   },
   "outputs": [
    {
     "data": {
      "text/plain": [
       "(40328, 2)"
      ]
     },
     "execution_count": 6,
     "metadata": {},
     "output_type": "execute_result"
    }
   ],
   "source": [
    "df2.shape"
   ]
  },
  {
   "cell_type": "code",
   "execution_count": 7,
   "metadata": {
    "ExecuteTime": {
     "end_time": "2020-12-30T00:06:55.036985Z",
     "start_time": "2020-12-30T00:06:55.025250Z"
    }
   },
   "outputs": [
    {
     "data": {
      "text/html": [
       "<div>\n",
       "<style scoped>\n",
       "    .dataframe tbody tr th:only-of-type {\n",
       "        vertical-align: middle;\n",
       "    }\n",
       "\n",
       "    .dataframe tbody tr th {\n",
       "        vertical-align: top;\n",
       "    }\n",
       "\n",
       "    .dataframe thead th {\n",
       "        text-align: right;\n",
       "    }\n",
       "</style>\n",
       "<table border=\"1\" class=\"dataframe\">\n",
       "  <thead>\n",
       "    <tr style=\"text-align: right;\">\n",
       "      <th></th>\n",
       "      <th>text</th>\n",
       "      <th>result</th>\n",
       "    </tr>\n",
       "  </thead>\n",
       "  <tbody>\n",
       "    <tr>\n",
       "      <th>0</th>\n",
       "      <td>sol cara projeto inclusive praia volta proximo...</td>\n",
       "      <td>0</td>\n",
       "    </tr>\n",
       "    <tr>\n",
       "      <th>1</th>\n",
       "      <td>hoje dia transmissao especial fla amanha dia i...</td>\n",
       "      <td>0</td>\n",
       "    </tr>\n",
       "    <tr>\n",
       "      <th>2</th>\n",
       "      <td>presidenta nacional deputada faz chamamento mu...</td>\n",
       "      <td>0</td>\n",
       "    </tr>\n",
       "  </tbody>\n",
       "</table>\n",
       "</div>"
      ],
      "text/plain": [
       "                                                text result\n",
       "0  sol cara projeto inclusive praia volta proximo...      0\n",
       "1  hoje dia transmissao especial fla amanha dia i...      0\n",
       "2  presidenta nacional deputada faz chamamento mu...      0"
      ]
     },
     "execution_count": 7,
     "metadata": {},
     "output_type": "execute_result"
    }
   ],
   "source": [
    "df2.head(3)"
   ]
  },
  {
   "cell_type": "code",
   "execution_count": 8,
   "metadata": {
    "ExecuteTime": {
     "end_time": "2020-12-30T00:06:55.047084Z",
     "start_time": "2020-12-30T00:06:55.038654Z"
    }
   },
   "outputs": [],
   "source": [
    "pdf1 = df1.copy()"
   ]
  },
  {
   "cell_type": "code",
   "execution_count": 9,
   "metadata": {
    "ExecuteTime": {
     "end_time": "2020-12-30T00:06:55.057340Z",
     "start_time": "2020-12-30T00:06:55.048228Z"
    }
   },
   "outputs": [],
   "source": [
    "pdf2 = df2.copy()\n",
    "pdf2.columns = ['clean_text', 'result']"
   ]
  },
  {
   "cell_type": "code",
   "execution_count": 10,
   "metadata": {
    "ExecuteTime": {
     "end_time": "2020-12-30T00:06:55.071655Z",
     "start_time": "2020-12-30T00:06:55.058457Z"
    }
   },
   "outputs": [
    {
     "data": {
      "text/html": [
       "<div>\n",
       "<style scoped>\n",
       "    .dataframe tbody tr th:only-of-type {\n",
       "        vertical-align: middle;\n",
       "    }\n",
       "\n",
       "    .dataframe tbody tr th {\n",
       "        vertical-align: top;\n",
       "    }\n",
       "\n",
       "    .dataframe thead th {\n",
       "        text-align: right;\n",
       "    }\n",
       "</style>\n",
       "<table border=\"1\" class=\"dataframe\">\n",
       "  <thead>\n",
       "    <tr style=\"text-align: right;\">\n",
       "      <th></th>\n",
       "      <th>tweet_id</th>\n",
       "      <th>tweet_text</th>\n",
       "      <th>clean_text</th>\n",
       "    </tr>\n",
       "  </thead>\n",
       "  <tbody>\n",
       "    <tr>\n",
       "      <th>0</th>\n",
       "      <td>1236411302895124487</td>\n",
       "      <td>Sol com cara O projeto Inclusive, Praia! está ...</td>\n",
       "      <td>sol cara projeto inclusive praia volta proximo...</td>\n",
       "    </tr>\n",
       "    <tr>\n",
       "      <th>1</th>\n",
       "      <td>1236411378879037442</td>\n",
       "      <td>Hoje é dia de transmissão especial na Fla TV!!...</td>\n",
       "      <td>hoje dia transmissao especial fla amanha dia i...</td>\n",
       "    </tr>\n",
       "    <tr>\n",
       "      <th>2</th>\n",
       "      <td>1236411364643659776</td>\n",
       "      <td>A presidenta nacional do PT, deputada @gleisi ...</td>\n",
       "      <td>presidenta nacional deputada faz chamamento mu...</td>\n",
       "    </tr>\n",
       "    <tr>\n",
       "      <th>3</th>\n",
       "      <td>1236411353444868096</td>\n",
       "      <td>Cartaz de minha enteada querida(linda e talent...</td>\n",
       "      <td>cartaz enteada querida linda talentosa dia int...</td>\n",
       "    </tr>\n",
       "    <tr>\n",
       "      <th>4</th>\n",
       "      <td>1236411366086508544</td>\n",
       "      <td>Dia Internacional da Mulher: o que os homens p...</td>\n",
       "      <td>dia internacional mulher homens podem fazer eq...</td>\n",
       "    </tr>\n",
       "    <tr>\n",
       "      <th>...</th>\n",
       "      <td>...</td>\n",
       "      <td>...</td>\n",
       "      <td>...</td>\n",
       "    </tr>\n",
       "    <tr>\n",
       "      <th>40319</th>\n",
       "      <td>1237071955255275520</td>\n",
       "      <td>Top 5 Cantoras Brasileiras com mais ouvintes m...</td>\n",
       "      <td>top cantoras brasileiras ouvintes mensais spot...</td>\n",
       "    </tr>\n",
       "    <tr>\n",
       "      <th>40320</th>\n",
       "      <td>1237071993389887489</td>\n",
       "      <td>8M a revolução das mulheres (em curso) não obs...</td>\n",
       "      <td>revolucao mulheres curso obstante decada meia ...</td>\n",
       "    </tr>\n",
       "    <tr>\n",
       "      <th>40321</th>\n",
       "      <td>1237072017867837441</td>\n",
       "      <td>Vagos https://t.co/Po9k7PkKra</td>\n",
       "      <td>vagos</td>\n",
       "    </tr>\n",
       "    <tr>\n",
       "      <th>40322</th>\n",
       "      <td>1237071955829968902</td>\n",
       "      <td>FOLHA DE SÃO PAULO: Festival GRLS! e outras 60...</td>\n",
       "      <td>folha paulo festival grls outras atracoes cele...</td>\n",
       "    </tr>\n",
       "    <tr>\n",
       "      <th>40323</th>\n",
       "      <td>1237071960930226177</td>\n",
       "      <td>a DUA em #2 LEEEEENDAA https://t.co/WAHiTC3Lq3</td>\n",
       "      <td>dua lendaa</td>\n",
       "    </tr>\n",
       "  </tbody>\n",
       "</table>\n",
       "<p>40324 rows × 3 columns</p>\n",
       "</div>"
      ],
      "text/plain": [
       "                  tweet_id                                         tweet_text  \\\n",
       "0      1236411302895124487  Sol com cara O projeto Inclusive, Praia! está ...   \n",
       "1      1236411378879037442  Hoje é dia de transmissão especial na Fla TV!!...   \n",
       "2      1236411364643659776  A presidenta nacional do PT, deputada @gleisi ...   \n",
       "3      1236411353444868096  Cartaz de minha enteada querida(linda e talent...   \n",
       "4      1236411366086508544  Dia Internacional da Mulher: o que os homens p...   \n",
       "...                    ...                                                ...   \n",
       "40319  1237071955255275520  Top 5 Cantoras Brasileiras com mais ouvintes m...   \n",
       "40320  1237071993389887489  8M a revolução das mulheres (em curso) não obs...   \n",
       "40321  1237072017867837441                      Vagos https://t.co/Po9k7PkKra   \n",
       "40322  1237071955829968902  FOLHA DE SÃO PAULO: Festival GRLS! e outras 60...   \n",
       "40323  1237071960930226177     a DUA em #2 LEEEEENDAA https://t.co/WAHiTC3Lq3   \n",
       "\n",
       "                                              clean_text  \n",
       "0      sol cara projeto inclusive praia volta proximo...  \n",
       "1      hoje dia transmissao especial fla amanha dia i...  \n",
       "2      presidenta nacional deputada faz chamamento mu...  \n",
       "3      cartaz enteada querida linda talentosa dia int...  \n",
       "4      dia internacional mulher homens podem fazer eq...  \n",
       "...                                                  ...  \n",
       "40319  top cantoras brasileiras ouvintes mensais spot...  \n",
       "40320  revolucao mulheres curso obstante decada meia ...  \n",
       "40321                                              vagos  \n",
       "40322  folha paulo festival grls outras atracoes cele...  \n",
       "40323                                         dua lendaa  \n",
       "\n",
       "[40324 rows x 3 columns]"
      ]
     },
     "execution_count": 10,
     "metadata": {},
     "output_type": "execute_result"
    }
   ],
   "source": [
    "pdf1"
   ]
  },
  {
   "cell_type": "code",
   "execution_count": 11,
   "metadata": {
    "ExecuteTime": {
     "end_time": "2020-12-30T00:06:55.085597Z",
     "start_time": "2020-12-30T00:06:55.072810Z"
    }
   },
   "outputs": [
    {
     "data": {
      "text/html": [
       "<div>\n",
       "<style scoped>\n",
       "    .dataframe tbody tr th:only-of-type {\n",
       "        vertical-align: middle;\n",
       "    }\n",
       "\n",
       "    .dataframe tbody tr th {\n",
       "        vertical-align: top;\n",
       "    }\n",
       "\n",
       "    .dataframe thead th {\n",
       "        text-align: right;\n",
       "    }\n",
       "</style>\n",
       "<table border=\"1\" class=\"dataframe\">\n",
       "  <thead>\n",
       "    <tr style=\"text-align: right;\">\n",
       "      <th></th>\n",
       "      <th>clean_text</th>\n",
       "      <th>result</th>\n",
       "    </tr>\n",
       "  </thead>\n",
       "  <tbody>\n",
       "    <tr>\n",
       "      <th>0</th>\n",
       "      <td>sol cara projeto inclusive praia volta proximo...</td>\n",
       "      <td>0</td>\n",
       "    </tr>\n",
       "    <tr>\n",
       "      <th>1</th>\n",
       "      <td>hoje dia transmissao especial fla amanha dia i...</td>\n",
       "      <td>0</td>\n",
       "    </tr>\n",
       "    <tr>\n",
       "      <th>2</th>\n",
       "      <td>presidenta nacional deputada faz chamamento mu...</td>\n",
       "      <td>0</td>\n",
       "    </tr>\n",
       "    <tr>\n",
       "      <th>3</th>\n",
       "      <td>cartaz enteada querida linda talentosa dia int...</td>\n",
       "      <td>0</td>\n",
       "    </tr>\n",
       "    <tr>\n",
       "      <th>4</th>\n",
       "      <td>dia internacional mulher homens podem fazer eq...</td>\n",
       "      <td>0</td>\n",
       "    </tr>\n",
       "    <tr>\n",
       "      <th>...</th>\n",
       "      <td>...</td>\n",
       "      <td>...</td>\n",
       "    </tr>\n",
       "    <tr>\n",
       "      <th>40323</th>\n",
       "      <td>preciso ter forca preciso ter raca preciso ter...</td>\n",
       "      <td>0</td>\n",
       "    </tr>\n",
       "    <tr>\n",
       "      <th>40324</th>\n",
       "      <td>feliz dia internacional mulher guerreiras natu...</td>\n",
       "      <td>0</td>\n",
       "    </tr>\n",
       "    <tr>\n",
       "      <th>40325</th>\n",
       "      <td>veja algumas fotos corrida mulher realizada ma...</td>\n",
       "      <td>0</td>\n",
       "    </tr>\n",
       "    <tr>\n",
       "      <th>40326</th>\n",
       "      <td>dia internacional mulher fica reflexao homem s...</td>\n",
       "      <td>0</td>\n",
       "    </tr>\n",
       "    <tr>\n",
       "      <th>40327</th>\n",
       "      <td>feliz dia internacional mulher familiares amig...</td>\n",
       "      <td>0</td>\n",
       "    </tr>\n",
       "  </tbody>\n",
       "</table>\n",
       "<p>40328 rows × 2 columns</p>\n",
       "</div>"
      ],
      "text/plain": [
       "                                              clean_text result\n",
       "0      sol cara projeto inclusive praia volta proximo...      0\n",
       "1      hoje dia transmissao especial fla amanha dia i...      0\n",
       "2      presidenta nacional deputada faz chamamento mu...      0\n",
       "3      cartaz enteada querida linda talentosa dia int...      0\n",
       "4      dia internacional mulher homens podem fazer eq...      0\n",
       "...                                                  ...    ...\n",
       "40323  preciso ter forca preciso ter raca preciso ter...      0\n",
       "40324  feliz dia internacional mulher guerreiras natu...      0\n",
       "40325  veja algumas fotos corrida mulher realizada ma...      0\n",
       "40326  dia internacional mulher fica reflexao homem s...      0\n",
       "40327  feliz dia internacional mulher familiares amig...      0\n",
       "\n",
       "[40328 rows x 2 columns]"
      ]
     },
     "execution_count": 11,
     "metadata": {},
     "output_type": "execute_result"
    }
   ],
   "source": [
    "pdf2"
   ]
  },
  {
   "cell_type": "code",
   "execution_count": 12,
   "metadata": {
    "ExecuteTime": {
     "end_time": "2020-12-30T00:06:55.156842Z",
     "start_time": "2020-12-30T00:06:55.086888Z"
    }
   },
   "outputs": [],
   "source": [
    "out_df = pd.merge(pdf1, pdf2, how=\"inner\", on=['clean_text'])"
   ]
  },
  {
   "cell_type": "code",
   "execution_count": 13,
   "metadata": {
    "ExecuteTime": {
     "end_time": "2020-12-30T00:06:55.174689Z",
     "start_time": "2020-12-30T00:06:55.158422Z"
    }
   },
   "outputs": [
    {
     "data": {
      "text/html": [
       "<div>\n",
       "<style scoped>\n",
       "    .dataframe tbody tr th:only-of-type {\n",
       "        vertical-align: middle;\n",
       "    }\n",
       "\n",
       "    .dataframe tbody tr th {\n",
       "        vertical-align: top;\n",
       "    }\n",
       "\n",
       "    .dataframe thead th {\n",
       "        text-align: right;\n",
       "    }\n",
       "</style>\n",
       "<table border=\"1\" class=\"dataframe\">\n",
       "  <thead>\n",
       "    <tr style=\"text-align: right;\">\n",
       "      <th></th>\n",
       "      <th>tweet_id</th>\n",
       "      <th>tweet_text</th>\n",
       "      <th>clean_text</th>\n",
       "      <th>result</th>\n",
       "    </tr>\n",
       "  </thead>\n",
       "  <tbody>\n",
       "    <tr>\n",
       "      <th>0</th>\n",
       "      <td>1236411302895124487</td>\n",
       "      <td>Sol com cara O projeto Inclusive, Praia! está ...</td>\n",
       "      <td>sol cara projeto inclusive praia volta proximo...</td>\n",
       "      <td>0</td>\n",
       "    </tr>\n",
       "    <tr>\n",
       "      <th>1</th>\n",
       "      <td>1236411378879037442</td>\n",
       "      <td>Hoje é dia de transmissão especial na Fla TV!!...</td>\n",
       "      <td>hoje dia transmissao especial fla amanha dia i...</td>\n",
       "      <td>0</td>\n",
       "    </tr>\n",
       "    <tr>\n",
       "      <th>2</th>\n",
       "      <td>1236411364643659776</td>\n",
       "      <td>A presidenta nacional do PT, deputada @gleisi ...</td>\n",
       "      <td>presidenta nacional deputada faz chamamento mu...</td>\n",
       "      <td>0</td>\n",
       "    </tr>\n",
       "    <tr>\n",
       "      <th>3</th>\n",
       "      <td>1236411353444868096</td>\n",
       "      <td>Cartaz de minha enteada querida(linda e talent...</td>\n",
       "      <td>cartaz enteada querida linda talentosa dia int...</td>\n",
       "      <td>0</td>\n",
       "    </tr>\n",
       "    <tr>\n",
       "      <th>4</th>\n",
       "      <td>1236411366086508544</td>\n",
       "      <td>Dia Internacional da Mulher: o que os homens p...</td>\n",
       "      <td>dia internacional mulher homens podem fazer eq...</td>\n",
       "      <td>0</td>\n",
       "    </tr>\n",
       "    <tr>\n",
       "      <th>5</th>\n",
       "      <td>1236411405894594562</td>\n",
       "      <td>AMANHÃ É DIA 8/3, DIA INTERNACIONAL DA MULHER,...</td>\n",
       "      <td>amanha dia dia internacional mulher melhores h...</td>\n",
       "      <td>0</td>\n",
       "    </tr>\n",
       "    <tr>\n",
       "      <th>6</th>\n",
       "      <td>1236411412169338880</td>\n",
       "      <td>Playlist de Lady Gaga na Apple Music celebra o...</td>\n",
       "      <td>playlist lady gaga apple music celebra dia int...</td>\n",
       "      <td>0</td>\n",
       "    </tr>\n",
       "    <tr>\n",
       "      <th>7</th>\n",
       "      <td>1236411396495224834</td>\n",
       "      <td>A democracia e direitos também estão na pauta ...</td>\n",
       "      <td>democracia direitos pauta atos acontecerao pai...</td>\n",
       "      <td>0</td>\n",
       "    </tr>\n",
       "    <tr>\n",
       "      <th>8</th>\n",
       "      <td>1236411400026836997</td>\n",
       "      <td>A Stella Artois acredita que, juntos, podemos ...</td>\n",
       "      <td>stella artois acredita juntos podemos fazer me...</td>\n",
       "      <td>0</td>\n",
       "    </tr>\n",
       "    <tr>\n",
       "      <th>9</th>\n",
       "      <td>1236411441403645952</td>\n",
       "      <td>Um time militante da vontade né, rival? https:...</td>\n",
       "      <td>time militante vontade rival</td>\n",
       "      <td>0</td>\n",
       "    </tr>\n",
       "  </tbody>\n",
       "</table>\n",
       "</div>"
      ],
      "text/plain": [
       "              tweet_id                                         tweet_text  \\\n",
       "0  1236411302895124487  Sol com cara O projeto Inclusive, Praia! está ...   \n",
       "1  1236411378879037442  Hoje é dia de transmissão especial na Fla TV!!...   \n",
       "2  1236411364643659776  A presidenta nacional do PT, deputada @gleisi ...   \n",
       "3  1236411353444868096  Cartaz de minha enteada querida(linda e talent...   \n",
       "4  1236411366086508544  Dia Internacional da Mulher: o que os homens p...   \n",
       "5  1236411405894594562  AMANHÃ É DIA 8/3, DIA INTERNACIONAL DA MULHER,...   \n",
       "6  1236411412169338880  Playlist de Lady Gaga na Apple Music celebra o...   \n",
       "7  1236411396495224834  A democracia e direitos também estão na pauta ...   \n",
       "8  1236411400026836997  A Stella Artois acredita que, juntos, podemos ...   \n",
       "9  1236411441403645952  Um time militante da vontade né, rival? https:...   \n",
       "\n",
       "                                          clean_text result  \n",
       "0  sol cara projeto inclusive praia volta proximo...      0  \n",
       "1  hoje dia transmissao especial fla amanha dia i...      0  \n",
       "2  presidenta nacional deputada faz chamamento mu...      0  \n",
       "3  cartaz enteada querida linda talentosa dia int...      0  \n",
       "4  dia internacional mulher homens podem fazer eq...      0  \n",
       "5  amanha dia dia internacional mulher melhores h...      0  \n",
       "6  playlist lady gaga apple music celebra dia int...      0  \n",
       "7  democracia direitos pauta atos acontecerao pai...      0  \n",
       "8  stella artois acredita juntos podemos fazer me...      0  \n",
       "9                       time militante vontade rival      0  "
      ]
     },
     "execution_count": 13,
     "metadata": {},
     "output_type": "execute_result"
    }
   ],
   "source": [
    "out_df.head(10)"
   ]
  },
  {
   "cell_type": "code",
   "execution_count": 14,
   "metadata": {
    "ExecuteTime": {
     "end_time": "2020-12-30T00:06:55.184032Z",
     "start_time": "2020-12-30T00:06:55.176736Z"
    }
   },
   "outputs": [
    {
     "data": {
      "text/plain": [
       "(40237, 4)"
      ]
     },
     "execution_count": 14,
     "metadata": {},
     "output_type": "execute_result"
    }
   ],
   "source": [
    "out_df.shape"
   ]
  },
  {
   "cell_type": "code",
   "execution_count": 15,
   "metadata": {
    "ExecuteTime": {
     "end_time": "2020-12-30T00:06:55.220080Z",
     "start_time": "2020-12-30T00:06:55.185284Z"
    }
   },
   "outputs": [],
   "source": [
    "out_df.sample(n=381).to_csv('tweets_sentiments_pt.csv')"
   ]
  }
 ],
 "metadata": {
  "kernelspec": {
   "display_name": "Python 3",
   "language": "python",
   "name": "python3"
  },
  "language_info": {
   "codemirror_mode": {
    "name": "ipython",
    "version": 3
   },
   "file_extension": ".py",
   "mimetype": "text/x-python",
   "name": "python",
   "nbconvert_exporter": "python",
   "pygments_lexer": "ipython3",
   "version": "3.7.7"
  },
  "toc": {
   "base_numbering": 1,
   "nav_menu": {},
   "number_sections": true,
   "sideBar": true,
   "skip_h1_title": false,
   "title_cell": "Table of Contents",
   "title_sidebar": "Contents",
   "toc_cell": false,
   "toc_position": {},
   "toc_section_display": true,
   "toc_window_display": false
  }
 },
 "nbformat": 4,
 "nbformat_minor": 4
}
