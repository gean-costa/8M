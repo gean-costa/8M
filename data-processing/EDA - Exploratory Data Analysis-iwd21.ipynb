{
 "cells": [
  {
   "cell_type": "code",
   "execution_count": 1,
   "metadata": {
    "ExecuteTime": {
     "end_time": "2021-05-16T00:45:48.940331Z",
     "start_time": "2021-05-16T00:45:44.362662Z"
    }
   },
   "outputs": [],
   "source": [
    "import pandas as pd\n",
    "import matplotlib.pyplot as plt\n",
    "import seaborn as sns\n",
    "import numpy as np\n",
    "import pymongo\n",
    "import time\n",
    "\n",
    "from PIL import Image\n",
    "from pprint import pprint\n",
    "from wordcloud import WordCloud\n",
    "\n",
    "%matplotlib inline"
   ]
  },
  {
   "cell_type": "markdown",
   "metadata": {},
   "source": [
    "# Conexão com o MongoDB"
   ]
  },
  {
   "cell_type": "code",
   "execution_count": 2,
   "metadata": {
    "ExecuteTime": {
     "end_time": "2021-05-16T00:46:27.437769Z",
     "start_time": "2021-05-16T00:46:27.433707Z"
    }
   },
   "outputs": [],
   "source": [
    "client = pymongo.MongoClient()\n",
    "db = client['IWD2021']  \n",
    "collection = db.tweets_server_updated"
   ]
  },
  {
   "cell_type": "markdown",
   "metadata": {},
   "source": [
    "# Funções"
   ]
  },
  {
   "cell_type": "code",
   "execution_count": 3,
   "metadata": {
    "ExecuteTime": {
     "end_time": "2021-05-16T00:46:39.088532Z",
     "start_time": "2021-05-16T00:46:39.085621Z"
    }
   },
   "outputs": [],
   "source": [
    "def query(collection: pymongo.collection.Collection, pipeline: list) -> list:\n",
    "    query = list(collection.aggregate(pipeline, allowDiskUse=True))\n",
    "    return query"
   ]
  },
  {
   "cell_type": "code",
   "execution_count": 4,
   "metadata": {
    "ExecuteTime": {
     "end_time": "2021-05-16T00:46:41.407326Z",
     "start_time": "2021-05-16T00:46:41.404250Z"
    }
   },
   "outputs": [],
   "source": [
    "def get_language(lang: str) -> str:\n",
    "    bcp_lang = pd.read_csv('bcp47.csv')\n",
    "    language = bcp_lang[bcp_lang['lang'] == lang]['language'].tolist()[0]\n",
    "    return language"
   ]
  },
  {
   "cell_type": "code",
   "execution_count": 5,
   "metadata": {
    "ExecuteTime": {
     "end_time": "2021-05-16T00:46:43.625918Z",
     "start_time": "2021-05-16T00:46:43.620992Z"
    }
   },
   "outputs": [],
   "source": [
    "def get_hashtag_by_lang(collection: pymongo.collection.Collection, lang: str) -> list:\n",
    "    pipeline = [\n",
    "        {\n",
    "            '$match': {\n",
    "                'lang': lang\n",
    "            }\n",
    "        }, {\n",
    "            '$project': {\n",
    "                '_id': 0,\n",
    "                'id': 1,\n",
    "                'retweeted_status': {\n",
    "                    '$ifNull': [\n",
    "                        '$entities.hashtags.text', \n",
    "                        '$retweeted_status.extended_tweet.entities.hashtags.text'\n",
    "                    ]\n",
    "                }\n",
    "            }\n",
    "        }, {\n",
    "            '$project': {\n",
    "                'hashtags': '$retweeted_status'\n",
    "            }\n",
    "        }, {\n",
    "            '$unwind': {\n",
    "                'path': '$hashtags'\n",
    "            }\n",
    "        }, {\n",
    "            '$group': {\n",
    "                '_id': '$hashtags',\n",
    "                'count': {\n",
    "                    '$sum': 1\n",
    "                }\n",
    "            }\n",
    "        }, {\n",
    "            '$sort': {\n",
    "                'count': -1\n",
    "            }\n",
    "        }\n",
    "    ]\n",
    "    \n",
    "    document = list(collection.aggregate(pipeline=pipeline))\n",
    "    return document"
   ]
  },
  {
   "cell_type": "markdown",
   "metadata": {},
   "source": [
    "# Estatísticas"
   ]
  },
  {
   "cell_type": "markdown",
   "metadata": {},
   "source": [
    "## Idiomas"
   ]
  },
  {
   "cell_type": "code",
   "execution_count": 6,
   "metadata": {
    "ExecuteTime": {
     "end_time": "2021-05-16T00:46:50.211172Z",
     "start_time": "2021-05-16T00:46:50.208285Z"
    }
   },
   "outputs": [],
   "source": [
    "pipeline1 = [\n",
    "    {\n",
    "        '$group': {\n",
    "            '_id': '$lang',\n",
    "            'count': {\n",
    "                '$sum': 1\n",
    "            }\n",
    "        }\n",
    "    }, {\n",
    "        '$sort': {\n",
    "            'count': -1\n",
    "        }\n",
    "    }\n",
    "]"
   ]
  },
  {
   "cell_type": "code",
   "execution_count": 7,
   "metadata": {
    "ExecuteTime": {
     "end_time": "2021-05-16T00:47:32.013020Z",
     "start_time": "2021-05-16T00:46:55.658289Z"
    }
   },
   "outputs": [],
   "source": [
    "languages = query(collection=collection, pipeline=pipeline1)"
   ]
  },
  {
   "cell_type": "code",
   "execution_count": 8,
   "metadata": {
    "ExecuteTime": {
     "end_time": "2021-05-16T00:51:24.328690Z",
     "start_time": "2021-05-16T00:51:24.325880Z"
    }
   },
   "outputs": [
    {
     "name": "stdout",
     "output_type": "stream",
     "text": [
      "Número de idiomas presentes na base: 66\n"
     ]
    }
   ],
   "source": [
    "num_languages = len(languages)\n",
    "print(f'Número de idiomas presentes na base: {num_languages}')"
   ]
  },
  {
   "cell_type": "code",
   "execution_count": 9,
   "metadata": {
    "ExecuteTime": {
     "end_time": "2021-05-16T00:51:45.735975Z",
     "start_time": "2021-05-16T00:51:45.530957Z"
    }
   },
   "outputs": [
    {
     "data": {
      "text/html": [
       "<div>\n",
       "<style scoped>\n",
       "    .dataframe tbody tr th:only-of-type {\n",
       "        vertical-align: middle;\n",
       "    }\n",
       "\n",
       "    .dataframe tbody tr th {\n",
       "        vertical-align: top;\n",
       "    }\n",
       "\n",
       "    .dataframe thead th {\n",
       "        text-align: right;\n",
       "    }\n",
       "</style>\n",
       "<table border=\"1\" class=\"dataframe\">\n",
       "  <thead>\n",
       "    <tr style=\"text-align: right;\">\n",
       "      <th></th>\n",
       "      <th>language</th>\n",
       "      <th>count</th>\n",
       "    </tr>\n",
       "  </thead>\n",
       "  <tbody>\n",
       "    <tr>\n",
       "      <th>0</th>\n",
       "      <td>English</td>\n",
       "      <td>2459599</td>\n",
       "    </tr>\n",
       "    <tr>\n",
       "      <th>1</th>\n",
       "      <td>Spanish</td>\n",
       "      <td>1441175</td>\n",
       "    </tr>\n",
       "    <tr>\n",
       "      <th>2</th>\n",
       "      <td>Undefined</td>\n",
       "      <td>374940</td>\n",
       "    </tr>\n",
       "    <tr>\n",
       "      <th>3</th>\n",
       "      <td>Turkish</td>\n",
       "      <td>247199</td>\n",
       "    </tr>\n",
       "    <tr>\n",
       "      <th>4</th>\n",
       "      <td>Hindi</td>\n",
       "      <td>176731</td>\n",
       "    </tr>\n",
       "    <tr>\n",
       "      <th>5</th>\n",
       "      <td>Arabic</td>\n",
       "      <td>128177</td>\n",
       "    </tr>\n",
       "    <tr>\n",
       "      <th>6</th>\n",
       "      <td>Portuguese</td>\n",
       "      <td>124444</td>\n",
       "    </tr>\n",
       "    <tr>\n",
       "      <th>7</th>\n",
       "      <td>French</td>\n",
       "      <td>85162</td>\n",
       "    </tr>\n",
       "    <tr>\n",
       "      <th>8</th>\n",
       "      <td>Catalan</td>\n",
       "      <td>44291</td>\n",
       "    </tr>\n",
       "    <tr>\n",
       "      <th>9</th>\n",
       "      <td>German</td>\n",
       "      <td>30710</td>\n",
       "    </tr>\n",
       "  </tbody>\n",
       "</table>\n",
       "</div>"
      ],
      "text/plain": [
       "     language    count\n",
       "0     English  2459599\n",
       "1     Spanish  1441175\n",
       "2   Undefined   374940\n",
       "3     Turkish   247199\n",
       "4       Hindi   176731\n",
       "5      Arabic   128177\n",
       "6  Portuguese   124444\n",
       "7      French    85162\n",
       "8     Catalan    44291\n",
       "9      German    30710"
      ]
     },
     "execution_count": 9,
     "metadata": {},
     "output_type": "execute_result"
    }
   ],
   "source": [
    "languages_df = pd.DataFrame(languages)\n",
    "languages_df.rename(columns={\"_id\": \"language\"}, inplace=True)\n",
    "languages_df['language'] = languages_df['language'].apply(get_language)\n",
    "languages_df.head(10)"
   ]
  },
  {
   "cell_type": "code",
   "execution_count": 10,
   "metadata": {
    "ExecuteTime": {
     "end_time": "2021-05-16T00:52:49.384889Z",
     "start_time": "2021-05-16T00:52:48.855490Z"
    }
   },
   "outputs": [],
   "source": [
    "# languages_df.to_parquet('languagesiwd21.parquet.gzip', compression='gzip')\n",
    "# languages_df = pd.read_parquet('languages.parquet.gzip')"
   ]
  },
  {
   "cell_type": "code",
   "execution_count": 11,
   "metadata": {
    "ExecuteTime": {
     "end_time": "2021-05-16T00:53:01.512810Z",
     "start_time": "2021-05-16T00:53:01.016405Z"
    }
   },
   "outputs": [
    {
     "data": {
      "image/png": "[encoded data removed]",
      "text/plain": [
       "<Figure size 1080x360 with 1 Axes>"
      ]
     },
     "metadata": {
      "needs_background": "light"
     },
     "output_type": "display_data"
    }
   ],
   "source": [
    "plt.figure(figsize=(15,5))\n",
    "sns.set(style=\"whitegrid\")\n",
    "ax = sns.barplot(x='count', y='language', data=languages_df[0:10])\n",
    "ax.set_ylabel('')\n",
    "plt.show()"
   ]
  },
  {
   "cell_type": "markdown",
   "metadata": {},
   "source": [
    "## Hashtags"
   ]
  },
  {
   "cell_type": "code",
   "execution_count": 12,
   "metadata": {
    "ExecuteTime": {
     "end_time": "2021-05-16T00:53:28.688300Z",
     "start_time": "2021-05-16T00:53:28.684278Z"
    }
   },
   "outputs": [],
   "source": [
    "pipeline2 = [\n",
    "    {\n",
    "        '$project': {\n",
    "            '_id': 0, \n",
    "            'id': 1, \n",
    "            'retweeted_status': {\n",
    "                '$ifNull': [\n",
    "                    '$entities.hashtags.text', \n",
    "                    '$retweeted_status.extended_tweet.entities.hashtags.text'\n",
    "                ]\n",
    "            }\n",
    "        }\n",
    "    }, {\n",
    "        '$project': {\n",
    "            'hashtag': '$retweeted_status'\n",
    "        }\n",
    "    }, {\n",
    "        '$unwind': {\n",
    "            'path': '$hashtag'\n",
    "        }\n",
    "    }, {\n",
    "        '$group': {\n",
    "            '_id': '$hashtag', \n",
    "            'count': {\n",
    "                '$sum': 1\n",
    "            }\n",
    "        }\n",
    "    }, {\n",
    "        '$sort': {\n",
    "            'count': -1\n",
    "        }\n",
    "    }\n",
    "]"
   ]
  },
  {
   "cell_type": "code",
   "execution_count": 13,
   "metadata": {
    "ExecuteTime": {
     "end_time": "2021-05-16T00:54:25.204945Z",
     "start_time": "2021-05-16T00:53:32.374395Z"
    }
   },
   "outputs": [],
   "source": [
    "hashtags = query(collection=collection, pipeline=pipeline2)"
   ]
  },
  {
   "cell_type": "code",
   "execution_count": 14,
   "metadata": {
    "ExecuteTime": {
     "end_time": "2021-05-17T01:13:35.064233Z",
     "start_time": "2021-05-17T01:13:35.061526Z"
    }
   },
   "outputs": [
    {
     "name": "stdout",
     "output_type": "stream",
     "text": [
      "Número de hashtags presentes na base: 270110\n"
     ]
    }
   ],
   "source": [
    "num_hashtags = len(hashtags)\n",
    "print(f'Número de hashtags presentes na base: {num_hashtags}')"
   ]
  },
  {
   "cell_type": "code",
   "execution_count": 15,
   "metadata": {
    "ExecuteTime": {
     "end_time": "2021-05-17T01:13:42.913435Z",
     "start_time": "2021-05-17T01:13:42.670250Z"
    }
   },
   "outputs": [
    {
     "data": {
      "text/html": [
       "<div>\n",
       "<style scoped>\n",
       "    .dataframe tbody tr th:only-of-type {\n",
       "        vertical-align: middle;\n",
       "    }\n",
       "\n",
       "    .dataframe tbody tr th {\n",
       "        vertical-align: top;\n",
       "    }\n",
       "\n",
       "    .dataframe thead th {\n",
       "        text-align: right;\n",
       "    }\n",
       "</style>\n",
       "<table border=\"1\" class=\"dataframe\">\n",
       "  <thead>\n",
       "    <tr style=\"text-align: right;\">\n",
       "      <th></th>\n",
       "      <th>hashtag</th>\n",
       "      <th>count</th>\n",
       "    </tr>\n",
       "  </thead>\n",
       "  <tbody>\n",
       "    <tr>\n",
       "      <th>0</th>\n",
       "      <td>InternationalWomensDay</td>\n",
       "      <td>1090107</td>\n",
       "    </tr>\n",
       "    <tr>\n",
       "      <th>1</th>\n",
       "      <td>8M2021</td>\n",
       "      <td>609069</td>\n",
       "    </tr>\n",
       "    <tr>\n",
       "      <th>2</th>\n",
       "      <td>IWD2021</td>\n",
       "      <td>331548</td>\n",
       "    </tr>\n",
       "    <tr>\n",
       "      <th>3</th>\n",
       "      <td>WomensDay</td>\n",
       "      <td>218875</td>\n",
       "    </tr>\n",
       "    <tr>\n",
       "      <th>4</th>\n",
       "      <td>8M</td>\n",
       "      <td>199985</td>\n",
       "    </tr>\n",
       "    <tr>\n",
       "      <th>5</th>\n",
       "      <td>DiaInternacionalDeLaMujer</td>\n",
       "      <td>141397</td>\n",
       "    </tr>\n",
       "    <tr>\n",
       "      <th>6</th>\n",
       "      <td>8MartDünyaKadınlarGünü</td>\n",
       "      <td>122447</td>\n",
       "    </tr>\n",
       "    <tr>\n",
       "      <th>7</th>\n",
       "      <td>ChooseToChallenge</td>\n",
       "      <td>105118</td>\n",
       "    </tr>\n",
       "    <tr>\n",
       "      <th>8</th>\n",
       "      <td>8Marzo2021</td>\n",
       "      <td>100309</td>\n",
       "    </tr>\n",
       "    <tr>\n",
       "      <th>9</th>\n",
       "      <td>يوم_المراه_العالمي</td>\n",
       "      <td>82577</td>\n",
       "    </tr>\n",
       "  </tbody>\n",
       "</table>\n",
       "</div>"
      ],
      "text/plain": [
       "                     hashtag    count\n",
       "0     InternationalWomensDay  1090107\n",
       "1                     8M2021   609069\n",
       "2                    IWD2021   331548\n",
       "3                  WomensDay   218875\n",
       "4                         8M   199985\n",
       "5  DiaInternacionalDeLaMujer   141397\n",
       "6     8MartDünyaKadınlarGünü   122447\n",
       "7          ChooseToChallenge   105118\n",
       "8                 8Marzo2021   100309\n",
       "9         يوم_المراه_العالمي    82577"
      ]
     },
     "execution_count": 15,
     "metadata": {},
     "output_type": "execute_result"
    }
   ],
   "source": [
    "hashtags_df = pd.DataFrame(hashtags)\n",
    "hashtags_df.rename(columns={\"_id\": \"hashtag\"}, inplace=True)\n",
    "hashtags_df.head(10)"
   ]
  },
  {
   "cell_type": "code",
   "execution_count": 16,
   "metadata": {
    "ExecuteTime": {
     "end_time": "2021-05-17T01:14:29.685930Z",
     "start_time": "2021-05-17T01:14:28.783278Z"
    }
   },
   "outputs": [],
   "source": [
    "# hashtags_df.to_parquet('hashtagsiwd2021.parquet.gzip', compression='gzip')\n",
    "# hashtags_df = pd.read_parquet('hashtags.parquet.gzip')"
   ]
  },
  {
   "cell_type": "code",
   "execution_count": 17,
   "metadata": {
    "ExecuteTime": {
     "end_time": "2021-05-17T01:14:36.833135Z",
     "start_time": "2021-05-17T01:14:36.375413Z"
    }
   },
   "outputs": [
    {
     "data": {
      "image/png": "[encoded data removed]",
      "text/plain": [
       "<Figure size 1080x720 with 1 Axes>"
      ]
     },
     "metadata": {},
     "output_type": "display_data"
    }
   ],
   "source": [
    "plt.figure(figsize=(15,10))\n",
    "sns.set(style=\"whitegrid\")\n",
    "ax = sns.barplot(x='count', y='hashtag', data=hashtags_df[0:10])\n",
    "ax.set_ylabel('')\n",
    "plt.show()"
   ]
  },
  {
   "cell_type": "markdown",
   "metadata": {},
   "source": [
    "### Hashtags por idioma do tweets"
   ]
  },
  {
   "cell_type": "code",
   "execution_count": 18,
   "metadata": {
    "ExecuteTime": {
     "end_time": "2021-05-17T01:16:50.018331Z",
     "start_time": "2021-05-17T01:14:56.017805Z"
    }
   },
   "outputs": [],
   "source": [
    "hashtags_en = get_hashtag_by_lang(lang='en', collection=collection)\n",
    "hashtags_es = get_hashtag_by_lang(lang='es', collection=collection)\n",
    "hashtags_pt = get_hashtag_by_lang(lang='pt', collection=collection)"
   ]
  },
  {
   "cell_type": "code",
   "execution_count": 19,
   "metadata": {
    "ExecuteTime": {
     "end_time": "2021-05-17T01:20:17.094916Z",
     "start_time": "2021-05-17T01:20:16.947149Z"
    }
   },
   "outputs": [
    {
     "data": {
      "text/html": [
       "<div>\n",
       "<style scoped>\n",
       "    .dataframe tbody tr th:only-of-type {\n",
       "        vertical-align: middle;\n",
       "    }\n",
       "\n",
       "    .dataframe tbody tr th {\n",
       "        vertical-align: top;\n",
       "    }\n",
       "\n",
       "    .dataframe thead th {\n",
       "        text-align: right;\n",
       "    }\n",
       "</style>\n",
       "<table border=\"1\" class=\"dataframe\">\n",
       "  <thead>\n",
       "    <tr style=\"text-align: right;\">\n",
       "      <th></th>\n",
       "      <th>hashtag</th>\n",
       "      <th>count</th>\n",
       "    </tr>\n",
       "  </thead>\n",
       "  <tbody>\n",
       "    <tr>\n",
       "      <th>0</th>\n",
       "      <td>InternationalWomensDay</td>\n",
       "      <td>835727</td>\n",
       "    </tr>\n",
       "    <tr>\n",
       "      <th>1</th>\n",
       "      <td>IWD2021</td>\n",
       "      <td>275607</td>\n",
       "    </tr>\n",
       "    <tr>\n",
       "      <th>2</th>\n",
       "      <td>WomensDay</td>\n",
       "      <td>116310</td>\n",
       "    </tr>\n",
       "    <tr>\n",
       "      <th>3</th>\n",
       "      <td>ChooseToChallenge</td>\n",
       "      <td>89434</td>\n",
       "    </tr>\n",
       "    <tr>\n",
       "      <th>4</th>\n",
       "      <td>internationalwomensday</td>\n",
       "      <td>44675</td>\n",
       "    </tr>\n",
       "    <tr>\n",
       "      <th>5</th>\n",
       "      <td>IWD</td>\n",
       "      <td>24766</td>\n",
       "    </tr>\n",
       "    <tr>\n",
       "      <th>6</th>\n",
       "      <td>8M2021</td>\n",
       "      <td>19150</td>\n",
       "    </tr>\n",
       "    <tr>\n",
       "      <th>7</th>\n",
       "      <td>internationalwomensday2021</td>\n",
       "      <td>17579</td>\n",
       "    </tr>\n",
       "    <tr>\n",
       "      <th>8</th>\n",
       "      <td>GenerationEquality</td>\n",
       "      <td>14725</td>\n",
       "    </tr>\n",
       "    <tr>\n",
       "      <th>9</th>\n",
       "      <td>NariShakti</td>\n",
       "      <td>14002</td>\n",
       "    </tr>\n",
       "  </tbody>\n",
       "</table>\n",
       "</div>"
      ],
      "text/plain": [
       "                      hashtag   count\n",
       "0      InternationalWomensDay  835727\n",
       "1                     IWD2021  275607\n",
       "2                   WomensDay  116310\n",
       "3           ChooseToChallenge   89434\n",
       "4      internationalwomensday   44675\n",
       "5                         IWD   24766\n",
       "6                      8M2021   19150\n",
       "7  internationalwomensday2021   17579\n",
       "8          GenerationEquality   14725\n",
       "9                  NariShakti   14002"
      ]
     },
     "execution_count": 19,
     "metadata": {},
     "output_type": "execute_result"
    }
   ],
   "source": [
    "hashtags_en_df = pd.DataFrame(hashtags_en)\n",
    "hashtags_en_df.rename(columns={\"_id\": \"hashtag\"}, inplace=True)\n",
    "hashtags_en_df.head(10)"
   ]
  },
  {
   "cell_type": "code",
   "execution_count": 20,
   "metadata": {
    "ExecuteTime": {
     "end_time": "2021-05-17T01:20:26.444481Z",
     "start_time": "2021-05-17T01:20:26.076813Z"
    }
   },
   "outputs": [
    {
     "data": {
      "image/png": "[encoded data removed]",
      "text/plain": [
       "<Figure size 1080x720 with 1 Axes>"
      ]
     },
     "metadata": {},
     "output_type": "display_data"
    }
   ],
   "source": [
    "plt.figure(figsize=(15,10))\n",
    "sns.set(style=\"whitegrid\")\n",
    "ax = sns.barplot(x='count', y='hashtag', data=hashtags_en_df[0:10])\n",
    "ax.set_ylabel('')\n",
    "plt.show()"
   ]
  },
  {
   "cell_type": "code",
   "execution_count": 21,
   "metadata": {
    "ExecuteTime": {
     "end_time": "2021-05-17T01:20:28.119834Z",
     "start_time": "2021-05-17T01:20:28.064456Z"
    }
   },
   "outputs": [
    {
     "data": {
      "text/html": [
       "<div>\n",
       "<style scoped>\n",
       "    .dataframe tbody tr th:only-of-type {\n",
       "        vertical-align: middle;\n",
       "    }\n",
       "\n",
       "    .dataframe tbody tr th {\n",
       "        vertical-align: top;\n",
       "    }\n",
       "\n",
       "    .dataframe thead th {\n",
       "        text-align: right;\n",
       "    }\n",
       "</style>\n",
       "<table border=\"1\" class=\"dataframe\">\n",
       "  <thead>\n",
       "    <tr style=\"text-align: right;\">\n",
       "      <th></th>\n",
       "      <th>hashtag</th>\n",
       "      <th>count</th>\n",
       "    </tr>\n",
       "  </thead>\n",
       "  <tbody>\n",
       "    <tr>\n",
       "      <th>0</th>\n",
       "      <td>8M2021</td>\n",
       "      <td>489834</td>\n",
       "    </tr>\n",
       "    <tr>\n",
       "      <th>1</th>\n",
       "      <td>8M</td>\n",
       "      <td>161902</td>\n",
       "    </tr>\n",
       "    <tr>\n",
       "      <th>2</th>\n",
       "      <td>DiaInternacionalDeLaMujer</td>\n",
       "      <td>118174</td>\n",
       "    </tr>\n",
       "    <tr>\n",
       "      <th>3</th>\n",
       "      <td>8Marzo2021</td>\n",
       "      <td>77984</td>\n",
       "    </tr>\n",
       "    <tr>\n",
       "      <th>4</th>\n",
       "      <td>NiUnaMenos</td>\n",
       "      <td>44518</td>\n",
       "    </tr>\n",
       "    <tr>\n",
       "      <th>5</th>\n",
       "      <td>8m</td>\n",
       "      <td>19746</td>\n",
       "    </tr>\n",
       "    <tr>\n",
       "      <th>6</th>\n",
       "      <td>InternationalWomensDay</td>\n",
       "      <td>17477</td>\n",
       "    </tr>\n",
       "    <tr>\n",
       "      <th>7</th>\n",
       "      <td>Diadelamujer</td>\n",
       "      <td>17424</td>\n",
       "    </tr>\n",
       "    <tr>\n",
       "      <th>8</th>\n",
       "      <td>NiUnaMas</td>\n",
       "      <td>14905</td>\n",
       "    </tr>\n",
       "    <tr>\n",
       "      <th>9</th>\n",
       "      <td>DíaInternacionalDeLaMujer</td>\n",
       "      <td>13655</td>\n",
       "    </tr>\n",
       "  </tbody>\n",
       "</table>\n",
       "</div>"
      ],
      "text/plain": [
       "                     hashtag   count\n",
       "0                     8M2021  489834\n",
       "1                         8M  161902\n",
       "2  DiaInternacionalDeLaMujer  118174\n",
       "3                 8Marzo2021   77984\n",
       "4                 NiUnaMenos   44518\n",
       "5                         8m   19746\n",
       "6     InternationalWomensDay   17477\n",
       "7               Diadelamujer   17424\n",
       "8                   NiUnaMas   14905\n",
       "9  DíaInternacionalDeLaMujer   13655"
      ]
     },
     "execution_count": 21,
     "metadata": {},
     "output_type": "execute_result"
    }
   ],
   "source": [
    "hashtags_es_df = pd.DataFrame(hashtags_es)\n",
    "hashtags_es_df.rename(columns={\"_id\": \"hashtag\"}, inplace=True)\n",
    "hashtags_es_df.head(10)"
   ]
  },
  {
   "cell_type": "code",
   "execution_count": 22,
   "metadata": {
    "ExecuteTime": {
     "end_time": "2021-05-17T01:20:31.456147Z",
     "start_time": "2021-05-17T01:20:31.141470Z"
    }
   },
   "outputs": [
    {
     "data": {
      "image/png": "[encoded data removed]",
      "text/plain": [
       "<Figure size 1080x720 with 1 Axes>"
      ]
     },
     "metadata": {},
     "output_type": "display_data"
    }
   ],
   "source": [
    "plt.figure(figsize=(15,10))\n",
    "sns.set(style=\"whitegrid\")\n",
    "ax = sns.barplot(x='count', y='hashtag', data=hashtags_es_df[0:10])\n",
    "ax.set_ylabel('')\n",
    "plt.show()"
   ]
  },
  {
   "cell_type": "code",
   "execution_count": 23,
   "metadata": {
    "ExecuteTime": {
     "end_time": "2021-05-17T01:20:38.451295Z",
     "start_time": "2021-05-17T01:20:38.435835Z"
    }
   },
   "outputs": [
    {
     "data": {
      "text/html": [
       "<div>\n",
       "<style scoped>\n",
       "    .dataframe tbody tr th:only-of-type {\n",
       "        vertical-align: middle;\n",
       "    }\n",
       "\n",
       "    .dataframe tbody tr th {\n",
       "        vertical-align: top;\n",
       "    }\n",
       "\n",
       "    .dataframe thead th {\n",
       "        text-align: right;\n",
       "    }\n",
       "</style>\n",
       "<table border=\"1\" class=\"dataframe\">\n",
       "  <thead>\n",
       "    <tr style=\"text-align: right;\">\n",
       "      <th></th>\n",
       "      <th>hashtag</th>\n",
       "      <th>count</th>\n",
       "    </tr>\n",
       "  </thead>\n",
       "  <tbody>\n",
       "    <tr>\n",
       "      <th>0</th>\n",
       "      <td>DiaDasMulheres</td>\n",
       "      <td>18048</td>\n",
       "    </tr>\n",
       "    <tr>\n",
       "      <th>1</th>\n",
       "      <td>8M2021</td>\n",
       "      <td>6740</td>\n",
       "    </tr>\n",
       "    <tr>\n",
       "      <th>2</th>\n",
       "      <td>8M</td>\n",
       "      <td>4699</td>\n",
       "    </tr>\n",
       "    <tr>\n",
       "      <th>3</th>\n",
       "      <td>InternationalWomensDay</td>\n",
       "      <td>4400</td>\n",
       "    </tr>\n",
       "    <tr>\n",
       "      <th>4</th>\n",
       "      <td>diadamulher</td>\n",
       "      <td>2712</td>\n",
       "    </tr>\n",
       "    <tr>\n",
       "      <th>5</th>\n",
       "      <td>OlhaPraEla</td>\n",
       "      <td>2025</td>\n",
       "    </tr>\n",
       "    <tr>\n",
       "      <th>6</th>\n",
       "      <td>BBB21</td>\n",
       "      <td>1710</td>\n",
       "    </tr>\n",
       "    <tr>\n",
       "      <th>7</th>\n",
       "      <td>DiaDaMulher</td>\n",
       "      <td>1699</td>\n",
       "    </tr>\n",
       "    <tr>\n",
       "      <th>8</th>\n",
       "      <td>WomensDay</td>\n",
       "      <td>1351</td>\n",
       "    </tr>\n",
       "    <tr>\n",
       "      <th>9</th>\n",
       "      <td>diainternacionaldamulher</td>\n",
       "      <td>974</td>\n",
       "    </tr>\n",
       "  </tbody>\n",
       "</table>\n",
       "</div>"
      ],
      "text/plain": [
       "                    hashtag  count\n",
       "0            DiaDasMulheres  18048\n",
       "1                    8M2021   6740\n",
       "2                        8M   4699\n",
       "3    InternationalWomensDay   4400\n",
       "4               diadamulher   2712\n",
       "5                OlhaPraEla   2025\n",
       "6                     BBB21   1710\n",
       "7               DiaDaMulher   1699\n",
       "8                 WomensDay   1351\n",
       "9  diainternacionaldamulher    974"
      ]
     },
     "execution_count": 23,
     "metadata": {},
     "output_type": "execute_result"
    }
   ],
   "source": [
    "hashtags_pt_df = pd.DataFrame(hashtags_pt)\n",
    "hashtags_pt_df.rename(columns={\"_id\": \"hashtag\"}, inplace=True)\n",
    "hashtags_pt_df.head(10)"
   ]
  },
  {
   "cell_type": "code",
   "execution_count": 24,
   "metadata": {
    "ExecuteTime": {
     "end_time": "2021-05-17T01:20:46.872271Z",
     "start_time": "2021-05-17T01:20:46.541002Z"
    }
   },
   "outputs": [
    {
     "data": {
      "image/png": "[encoded data removed]",
      "text/plain": [
       "<Figure size 1080x720 with 1 Axes>"
      ]
     },
     "metadata": {},
     "output_type": "display_data"
    }
   ],
   "source": [
    "plt.figure(figsize=(15,10))\n",
    "sns.set(style=\"whitegrid\")\n",
    "ax = sns.barplot(x='count', y='hashtag', data=hashtags_pt_df[0:10])\n",
    "ax.set_ylabel('')\n",
    "plt.show()"
   ]
  },
  {
   "cell_type": "code",
   "execution_count": 25,
   "metadata": {
    "ExecuteTime": {
     "end_time": "2021-05-17T01:21:55.031126Z",
     "start_time": "2021-05-17T01:21:54.333519Z"
    }
   },
   "outputs": [],
   "source": [
    "hashtags_en_df.to_parquet('hashtags_eniwd2021.parquet.gzip', compression='gzip')\n",
    "hashtags_es_df.to_parquet('hashtags_esiwd2021.parquet.gzip', compression='gzip')\n",
    "hashtags_pt_df.to_parquet('hashtags_ptiwd2021.parquet.gzip', compression='gzip')\n",
    "\n",
    "# hashtags_en_df = pd.read_parquet('hashtags_en.parquet.gzip')\n",
    "# hashtags_es_df = pd.read_parquet('hashtags_es.parquet.gzip')\n",
    "# hashtags_pt_df = pd.read_parquet('hashtags_pt.parquet.gzip')"
   ]
  },
  {
   "cell_type": "markdown",
   "metadata": {},
   "source": [
    "## Tweets ao longo do tempo"
   ]
  },
  {
   "cell_type": "code",
   "execution_count": 26,
   "metadata": {
    "ExecuteTime": {
     "end_time": "2021-05-17T01:21:58.058738Z",
     "start_time": "2021-05-17T01:21:58.054623Z"
    }
   },
   "outputs": [],
   "source": [
    "pipeline3 = [\n",
    "    {\n",
    "        '$project': {\n",
    "            'date': {\n",
    "                '$dateFromString': {\n",
    "                    'dateString': '$created_at'\n",
    "                }\n",
    "            }\n",
    "        }\n",
    "    }, {\n",
    "        '$project': {\n",
    "            'date': {\n",
    "                '$dateToString': {\n",
    "                    'format': '%d/%m %H:00', \n",
    "                    'date': '$date'\n",
    "                }\n",
    "            }\n",
    "        }\n",
    "    }, {\n",
    "        '$group': {\n",
    "            '_id': '$date', \n",
    "            'count': {\n",
    "                '$sum': 1\n",
    "            }\n",
    "        }\n",
    "    }, {\n",
    "        '$sort': {\n",
    "            '_id': 1\n",
    "        }\n",
    "    }\n",
    "]"
   ]
  },
  {
   "cell_type": "code",
   "execution_count": 27,
   "metadata": {
    "ExecuteTime": {
     "end_time": "2021-05-17T01:22:50.631815Z",
     "start_time": "2021-05-17T01:22:00.062234Z"
    }
   },
   "outputs": [],
   "source": [
    "tweets_times = query(collection=collection, pipeline=pipeline3)"
   ]
  },
  {
   "cell_type": "code",
   "execution_count": 28,
   "metadata": {
    "ExecuteTime": {
     "end_time": "2021-05-17T02:04:01.180161Z",
     "start_time": "2021-05-17T02:04:01.169109Z"
    }
   },
   "outputs": [
    {
     "data": {
      "text/html": [
       "<div>\n",
       "<style scoped>\n",
       "    .dataframe tbody tr th:only-of-type {\n",
       "        vertical-align: middle;\n",
       "    }\n",
       "\n",
       "    .dataframe tbody tr th {\n",
       "        vertical-align: top;\n",
       "    }\n",
       "\n",
       "    .dataframe thead th {\n",
       "        text-align: right;\n",
       "    }\n",
       "</style>\n",
       "<table border=\"1\" class=\"dataframe\">\n",
       "  <thead>\n",
       "    <tr style=\"text-align: right;\">\n",
       "      <th></th>\n",
       "      <th>data_hora</th>\n",
       "      <th>count</th>\n",
       "      <th>cumsum</th>\n",
       "    </tr>\n",
       "  </thead>\n",
       "  <tbody>\n",
       "    <tr>\n",
       "      <th>0</th>\n",
       "      <td>07/03 19:00</td>\n",
       "      <td>11271</td>\n",
       "      <td>11271</td>\n",
       "    </tr>\n",
       "    <tr>\n",
       "      <th>1</th>\n",
       "      <td>07/03 20:00</td>\n",
       "      <td>14757</td>\n",
       "      <td>26028</td>\n",
       "    </tr>\n",
       "    <tr>\n",
       "      <th>2</th>\n",
       "      <td>07/03 21:00</td>\n",
       "      <td>32834</td>\n",
       "      <td>58862</td>\n",
       "    </tr>\n",
       "    <tr>\n",
       "      <th>3</th>\n",
       "      <td>07/03 22:00</td>\n",
       "      <td>41653</td>\n",
       "      <td>100515</td>\n",
       "    </tr>\n",
       "    <tr>\n",
       "      <th>4</th>\n",
       "      <td>07/03 23:00</td>\n",
       "      <td>29684</td>\n",
       "      <td>130199</td>\n",
       "    </tr>\n",
       "    <tr>\n",
       "      <th>5</th>\n",
       "      <td>08/03 00:00</td>\n",
       "      <td>25539</td>\n",
       "      <td>155738</td>\n",
       "    </tr>\n",
       "    <tr>\n",
       "      <th>6</th>\n",
       "      <td>08/03 01:00</td>\n",
       "      <td>31348</td>\n",
       "      <td>187086</td>\n",
       "    </tr>\n",
       "    <tr>\n",
       "      <th>7</th>\n",
       "      <td>08/03 02:00</td>\n",
       "      <td>63306</td>\n",
       "      <td>250392</td>\n",
       "    </tr>\n",
       "    <tr>\n",
       "      <th>8</th>\n",
       "      <td>08/03 03:00</td>\n",
       "      <td>119367</td>\n",
       "      <td>369759</td>\n",
       "    </tr>\n",
       "    <tr>\n",
       "      <th>9</th>\n",
       "      <td>08/03 04:00</td>\n",
       "      <td>162576</td>\n",
       "      <td>532335</td>\n",
       "    </tr>\n",
       "  </tbody>\n",
       "</table>\n",
       "</div>"
      ],
      "text/plain": [
       "     data_hora   count  cumsum\n",
       "0  07/03 19:00   11271   11271\n",
       "1  07/03 20:00   14757   26028\n",
       "2  07/03 21:00   32834   58862\n",
       "3  07/03 22:00   41653  100515\n",
       "4  07/03 23:00   29684  130199\n",
       "5  08/03 00:00   25539  155738\n",
       "6  08/03 01:00   31348  187086\n",
       "7  08/03 02:00   63306  250392\n",
       "8  08/03 03:00  119367  369759\n",
       "9  08/03 04:00  162576  532335"
      ]
     },
     "execution_count": 28,
     "metadata": {},
     "output_type": "execute_result"
    }
   ],
   "source": [
    "tweets_times_df = pd.DataFrame(tweets_times)\n",
    "tweets_times_df.rename(columns={\"_id\": \"data_hora\"}, inplace=True)\n",
    "tweets_times_df['cumsum'] = tweets_times_df['count'].cumsum()\n",
    "tweets_times_df.head(10)"
   ]
  },
  {
   "cell_type": "code",
   "execution_count": 29,
   "metadata": {
    "ExecuteTime": {
     "end_time": "2021-05-17T02:07:09.148551Z",
     "start_time": "2021-05-17T02:07:09.145862Z"
    }
   },
   "outputs": [],
   "source": [
    "data = lambda x: x[:5]\n",
    "hora = lambda x: x[6:]"
   ]
  },
  {
   "cell_type": "code",
   "execution_count": 30,
   "metadata": {
    "ExecuteTime": {
     "end_time": "2021-05-17T02:07:11.422305Z",
     "start_time": "2021-05-17T02:07:11.417611Z"
    }
   },
   "outputs": [],
   "source": [
    "tweets_times_df['data'] = tweets_times_df.data_hora.apply(data)\n",
    "tweets_times_df['hora'] = tweets_times_df.data_hora.apply(hora)"
   ]
  },
  {
   "cell_type": "code",
   "execution_count": 31,
   "metadata": {
    "ExecuteTime": {
     "end_time": "2021-05-17T02:07:13.179069Z",
     "start_time": "2021-05-17T02:07:13.170923Z"
    }
   },
   "outputs": [
    {
     "data": {
      "text/html": [
       "<div>\n",
       "<style scoped>\n",
       "    .dataframe tbody tr th:only-of-type {\n",
       "        vertical-align: middle;\n",
       "    }\n",
       "\n",
       "    .dataframe tbody tr th {\n",
       "        vertical-align: top;\n",
       "    }\n",
       "\n",
       "    .dataframe thead th {\n",
       "        text-align: right;\n",
       "    }\n",
       "</style>\n",
       "<table border=\"1\" class=\"dataframe\">\n",
       "  <thead>\n",
       "    <tr style=\"text-align: right;\">\n",
       "      <th></th>\n",
       "      <th>data_hora</th>\n",
       "      <th>count</th>\n",
       "      <th>cumsum</th>\n",
       "      <th>data</th>\n",
       "      <th>hora</th>\n",
       "    </tr>\n",
       "  </thead>\n",
       "  <tbody>\n",
       "    <tr>\n",
       "      <th>0</th>\n",
       "      <td>07/03 19:00</td>\n",
       "      <td>11271</td>\n",
       "      <td>11271</td>\n",
       "      <td>07/03</td>\n",
       "      <td>19:00</td>\n",
       "    </tr>\n",
       "    <tr>\n",
       "      <th>1</th>\n",
       "      <td>07/03 20:00</td>\n",
       "      <td>14757</td>\n",
       "      <td>26028</td>\n",
       "      <td>07/03</td>\n",
       "      <td>20:00</td>\n",
       "    </tr>\n",
       "    <tr>\n",
       "      <th>2</th>\n",
       "      <td>07/03 21:00</td>\n",
       "      <td>32834</td>\n",
       "      <td>58862</td>\n",
       "      <td>07/03</td>\n",
       "      <td>21:00</td>\n",
       "    </tr>\n",
       "    <tr>\n",
       "      <th>3</th>\n",
       "      <td>07/03 22:00</td>\n",
       "      <td>41653</td>\n",
       "      <td>100515</td>\n",
       "      <td>07/03</td>\n",
       "      <td>22:00</td>\n",
       "    </tr>\n",
       "    <tr>\n",
       "      <th>4</th>\n",
       "      <td>07/03 23:00</td>\n",
       "      <td>29684</td>\n",
       "      <td>130199</td>\n",
       "      <td>07/03</td>\n",
       "      <td>23:00</td>\n",
       "    </tr>\n",
       "  </tbody>\n",
       "</table>\n",
       "</div>"
      ],
      "text/plain": [
       "     data_hora  count  cumsum   data   hora\n",
       "0  07/03 19:00  11271   11271  07/03  19:00\n",
       "1  07/03 20:00  14757   26028  07/03  20:00\n",
       "2  07/03 21:00  32834   58862  07/03  21:00\n",
       "3  07/03 22:00  41653  100515  07/03  22:00\n",
       "4  07/03 23:00  29684  130199  07/03  23:00"
      ]
     },
     "execution_count": 31,
     "metadata": {},
     "output_type": "execute_result"
    }
   ],
   "source": [
    "tweets_times_df.head()"
   ]
  },
  {
   "cell_type": "code",
   "execution_count": 32,
   "metadata": {
    "ExecuteTime": {
     "end_time": "2021-05-17T02:07:23.807445Z",
     "start_time": "2021-05-17T02:07:23.076450Z"
    }
   },
   "outputs": [
    {
     "data": {
      "image/png": "[encoded data removed]",
      "text/plain": [
       "<Figure size 1080x360 with 1 Axes>"
      ]
     },
     "metadata": {},
     "output_type": "display_data"
    }
   ],
   "source": [
    "plt.figure(figsize=(15,5))\n",
    "sns.set(style=\"whitegrid\")\n",
    "sns.set_context(\"notebook\", font_scale=1.2)\n",
    "ax = sns.lineplot(data=tweets_times_df, x=\"data_hora\", y=\"count\", hue=\"data\", linewidth=3.5,)\n",
    "plt.xticks(rotation=90)\n",
    "# ax.set_xticklabels(ax.get_xticklabels(), rotation=90)\n",
    "ax.set_xlabel('')\n",
    "# ax.tick_params(axis='x', colors='black')\n",
    "plt.show()"
   ]
  },
  {
   "cell_type": "code",
   "execution_count": 33,
   "metadata": {
    "ExecuteTime": {
     "end_time": "2021-05-17T02:08:09.264883Z",
     "start_time": "2021-05-17T02:08:07.885162Z"
    }
   },
   "outputs": [
    {
     "data": {
      "image/png": "[encoded data removed]",
      "text/plain": [
       "<Figure size 1080x720 with 2 Axes>"
      ]
     },
     "metadata": {},
     "output_type": "display_data"
    }
   ],
   "source": [
    "fig, (ax1,ax2) = plt.subplots(2, 1, figsize=(15, 10))\n",
    "\n",
    "sns.barplot(x='data_hora', \n",
    "            y='cumsum', \n",
    "            data=tweets_times_df, \n",
    "            ax=ax1, \n",
    "            palette=\"Blues_d\")\n",
    "\n",
    "sns.barplot(x='data_hora', \n",
    "            y='count', \n",
    "            data=tweets_times_df, \n",
    "            ax=ax2, \n",
    "            palette=\"Blues_d\")\n",
    "\n",
    "ax1.set_xticklabels(ax1.get_xticklabels(), rotation=90)\n",
    "ax1.set_xlabel('')\n",
    "\n",
    "ax2.set_xticklabels(ax2.get_xticklabels(), rotation=90)\n",
    "ax2.set_xlabel('')\n",
    "\n",
    "plt.subplots_adjust(hspace=0.6)\n",
    "plt.show()"
   ]
  },
  {
   "cell_type": "markdown",
   "metadata": {
    "ExecuteTime": {
     "end_time": "2020-06-18T02:22:03.848333Z",
     "start_time": "2020-06-18T02:22:03.526477Z"
    }
   },
   "source": [
    "## Perfis"
   ]
  },
  {
   "cell_type": "code",
   "execution_count": 34,
   "metadata": {
    "ExecuteTime": {
     "end_time": "2021-05-17T02:08:23.060770Z",
     "start_time": "2021-05-17T02:08:23.054362Z"
    }
   },
   "outputs": [],
   "source": [
    "pipeline4 = [\n",
    "    {\n",
    "        '$project': {\n",
    "            '_id': 0, \n",
    "            'created_at': {\n",
    "                '$dateFromString': {\n",
    "                    'dateString': '$user.created_at'\n",
    "                }\n",
    "            }, \n",
    "            'id': '$user.id_str', \n",
    "            'screen_name': '$user.screen_name', \n",
    "            'name': '$user.name', \n",
    "            'tweet_count': '$user.statuses_count', \n",
    "            'fav_count': '$user.favourites_count', \n",
    "            'followers': '$user.followers_count', \n",
    "            'following': '$user.friends_count'\n",
    "        }\n",
    "    }, {\n",
    "        '$project': {\n",
    "            'date_creation': {\n",
    "                '$dateToString': {\n",
    "                    'format': '%d/%m/%Y', \n",
    "                    'date': '$created_at'\n",
    "                }\n",
    "            }, \n",
    "            'id': 1, \n",
    "            'screen_name': 1, \n",
    "            'name': 1, \n",
    "            'tweet_count': 1, \n",
    "            'fav_count': 1, \n",
    "            'followers': 1, \n",
    "            'following': 1\n",
    "        }\n",
    "    }, {\n",
    "        '$group': {\n",
    "            '_id': '$id', \n",
    "            'date_creation': {\n",
    "                '$first': '$date_creation'\n",
    "            }, \n",
    "            'screen_name': {\n",
    "                '$first': '$screen_name'\n",
    "            }, \n",
    "            'name': {\n",
    "                '$first': '$name'\n",
    "            }, \n",
    "            'tweet_count': {\n",
    "                '$first': '$tweet_count'\n",
    "            }, \n",
    "            'fav_count': {\n",
    "                '$first': '$fav_count'\n",
    "            }, \n",
    "            'followers': {\n",
    "                '$first': '$followers'\n",
    "            }, \n",
    "            'following': {\n",
    "                '$first': '$following'\n",
    "            }, \n",
    "            'count': {\n",
    "                '$sum': 1\n",
    "            }\n",
    "        }\n",
    "    }, {\n",
    "        '$sort': {\n",
    "            'count': -1\n",
    "        }\n",
    "    }\n",
    "]"
   ]
  },
  {
   "cell_type": "code",
   "execution_count": 35,
   "metadata": {
    "ExecuteTime": {
     "end_time": "2021-05-17T02:10:20.692217Z",
     "start_time": "2021-05-17T02:08:23.973917Z"
    }
   },
   "outputs": [],
   "source": [
    "perfis = query(collection=collection, pipeline=pipeline4)"
   ]
  },
  {
   "cell_type": "code",
   "execution_count": 36,
   "metadata": {
    "ExecuteTime": {
     "end_time": "2021-05-17T02:11:00.381264Z",
     "start_time": "2021-05-17T02:11:00.378537Z"
    }
   },
   "outputs": [
    {
     "name": "stdout",
     "output_type": "stream",
     "text": [
      "Número de perfis presentes na base: 2817630\n"
     ]
    }
   ],
   "source": [
    "num_perfis = len(perfis)\n",
    "print(f'Número de perfis presentes na base: {num_perfis}')"
   ]
  },
  {
   "cell_type": "code",
   "execution_count": 37,
   "metadata": {
    "ExecuteTime": {
     "end_time": "2021-05-17T02:11:12.140535Z",
     "start_time": "2021-05-17T02:11:04.170772Z"
    }
   },
   "outputs": [],
   "source": [
    "perfis_df = pd.DataFrame(perfis)"
   ]
  },
  {
   "cell_type": "code",
   "execution_count": 38,
   "metadata": {
    "ExecuteTime": {
     "end_time": "2021-05-17T02:11:14.885451Z",
     "start_time": "2021-05-17T02:11:14.874501Z"
    }
   },
   "outputs": [
    {
     "data": {
      "text/html": [
       "<div>\n",
       "<style scoped>\n",
       "    .dataframe tbody tr th:only-of-type {\n",
       "        vertical-align: middle;\n",
       "    }\n",
       "\n",
       "    .dataframe tbody tr th {\n",
       "        vertical-align: top;\n",
       "    }\n",
       "\n",
       "    .dataframe thead th {\n",
       "        text-align: right;\n",
       "    }\n",
       "</style>\n",
       "<table border=\"1\" class=\"dataframe\">\n",
       "  <thead>\n",
       "    <tr style=\"text-align: right;\">\n",
       "      <th></th>\n",
       "      <th>_id</th>\n",
       "      <th>date_creation</th>\n",
       "      <th>screen_name</th>\n",
       "      <th>name</th>\n",
       "      <th>tweet_count</th>\n",
       "      <th>fav_count</th>\n",
       "      <th>followers</th>\n",
       "      <th>following</th>\n",
       "      <th>count</th>\n",
       "    </tr>\n",
       "  </thead>\n",
       "  <tbody>\n",
       "    <tr>\n",
       "      <th>0</th>\n",
       "      <td>1143528514550927361</td>\n",
       "      <td>25/06/2019</td>\n",
       "      <td>femtech_</td>\n",
       "      <td>FemTech_🖥👩🏽‍💻</td>\n",
       "      <td>1141419</td>\n",
       "      <td>95</td>\n",
       "      <td>20014</td>\n",
       "      <td>2</td>\n",
       "      <td>1910</td>\n",
       "    </tr>\n",
       "    <tr>\n",
       "      <th>1</th>\n",
       "      <td>1308040042724519939</td>\n",
       "      <td>21/09/2020</td>\n",
       "      <td>in_stemm</td>\n",
       "      <td>Women Who Rule!</td>\n",
       "      <td>40321</td>\n",
       "      <td>16</td>\n",
       "      <td>1539</td>\n",
       "      <td>15</td>\n",
       "      <td>1695</td>\n",
       "    </tr>\n",
       "    <tr>\n",
       "      <th>2</th>\n",
       "      <td>1251444236957782016</td>\n",
       "      <td>18/04/2020</td>\n",
       "      <td>Jonnala48318620</td>\n",
       "      <td>Jonnalagadda Rajesh</td>\n",
       "      <td>99060</td>\n",
       "      <td>17287</td>\n",
       "      <td>589</td>\n",
       "      <td>494</td>\n",
       "      <td>837</td>\n",
       "    </tr>\n",
       "    <tr>\n",
       "      <th>3</th>\n",
       "      <td>1327935633445199874</td>\n",
       "      <td>15/11/2020</td>\n",
       "      <td>BotFemale</td>\n",
       "      <td>Female Coders Bot</td>\n",
       "      <td>143395</td>\n",
       "      <td>95</td>\n",
       "      <td>1271</td>\n",
       "      <td>1</td>\n",
       "      <td>653</td>\n",
       "    </tr>\n",
       "    <tr>\n",
       "      <th>4</th>\n",
       "      <td>968250860</td>\n",
       "      <td>24/11/2012</td>\n",
       "      <td>joshualeclair1</td>\n",
       "      <td>joshua leclair</td>\n",
       "      <td>76323</td>\n",
       "      <td>19</td>\n",
       "      <td>402</td>\n",
       "      <td>2996</td>\n",
       "      <td>548</td>\n",
       "    </tr>\n",
       "    <tr>\n",
       "      <th>5</th>\n",
       "      <td>1305144829853265928</td>\n",
       "      <td>13/09/2020</td>\n",
       "      <td>YoelCastellan12</td>\n",
       "      <td>Yoel Castellano Rodríguez</td>\n",
       "      <td>2332</td>\n",
       "      <td>2489</td>\n",
       "      <td>153</td>\n",
       "      <td>205</td>\n",
       "      <td>544</td>\n",
       "    </tr>\n",
       "    <tr>\n",
       "      <th>6</th>\n",
       "      <td>1366766892518637569</td>\n",
       "      <td>02/03/2021</td>\n",
       "      <td>carrizal_cdi</td>\n",
       "      <td>CDI CARRIZAL</td>\n",
       "      <td>21295</td>\n",
       "      <td>10595</td>\n",
       "      <td>125</td>\n",
       "      <td>75</td>\n",
       "      <td>544</td>\n",
       "    </tr>\n",
       "    <tr>\n",
       "      <th>7</th>\n",
       "      <td>1347924749876228099</td>\n",
       "      <td>09/01/2021</td>\n",
       "      <td>anitas15873144</td>\n",
       "      <td>anita s</td>\n",
       "      <td>50798</td>\n",
       "      <td>45987</td>\n",
       "      <td>231</td>\n",
       "      <td>238</td>\n",
       "      <td>524</td>\n",
       "    </tr>\n",
       "    <tr>\n",
       "      <th>8</th>\n",
       "      <td>1367680002775412736</td>\n",
       "      <td>05/03/2021</td>\n",
       "      <td>Bharat28441114</td>\n",
       "      <td>Bharat</td>\n",
       "      <td>1945</td>\n",
       "      <td>1985</td>\n",
       "      <td>14</td>\n",
       "      <td>8</td>\n",
       "      <td>442</td>\n",
       "    </tr>\n",
       "    <tr>\n",
       "      <th>9</th>\n",
       "      <td>1269215553316548608</td>\n",
       "      <td>06/06/2020</td>\n",
       "      <td>Neetuom1</td>\n",
       "      <td>Neetuom</td>\n",
       "      <td>108446</td>\n",
       "      <td>67005</td>\n",
       "      <td>190</td>\n",
       "      <td>40</td>\n",
       "      <td>433</td>\n",
       "    </tr>\n",
       "  </tbody>\n",
       "</table>\n",
       "</div>"
      ],
      "text/plain": [
       "                   _id date_creation      screen_name  \\\n",
       "0  1143528514550927361    25/06/2019         femtech_   \n",
       "1  1308040042724519939    21/09/2020         in_stemm   \n",
       "2  1251444236957782016    18/04/2020  Jonnala48318620   \n",
       "3  1327935633445199874    15/11/2020        BotFemale   \n",
       "4            968250860    24/11/2012   joshualeclair1   \n",
       "5  1305144829853265928    13/09/2020  YoelCastellan12   \n",
       "6  1366766892518637569    02/03/2021     carrizal_cdi   \n",
       "7  1347924749876228099    09/01/2021   anitas15873144   \n",
       "8  1367680002775412736    05/03/2021   Bharat28441114   \n",
       "9  1269215553316548608    06/06/2020         Neetuom1   \n",
       "\n",
       "                        name  tweet_count  fav_count  followers  following  \\\n",
       "0              FemTech_🖥👩🏽‍💻      1141419         95      20014          2   \n",
       "1            Women Who Rule!        40321         16       1539         15   \n",
       "2        Jonnalagadda Rajesh        99060      17287        589        494   \n",
       "3          Female Coders Bot       143395         95       1271          1   \n",
       "4             joshua leclair        76323         19        402       2996   \n",
       "5  Yoel Castellano Rodríguez         2332       2489        153        205   \n",
       "6               CDI CARRIZAL        21295      10595        125         75   \n",
       "7                    anita s        50798      45987        231        238   \n",
       "8                     Bharat         1945       1985         14          8   \n",
       "9                    Neetuom       108446      67005        190         40   \n",
       "\n",
       "   count  \n",
       "0   1910  \n",
       "1   1695  \n",
       "2    837  \n",
       "3    653  \n",
       "4    548  \n",
       "5    544  \n",
       "6    544  \n",
       "7    524  \n",
       "8    442  \n",
       "9    433  "
      ]
     },
     "execution_count": 38,
     "metadata": {},
     "output_type": "execute_result"
    }
   ],
   "source": [
    "perfis_df.head(10)"
   ]
  },
  {
   "cell_type": "markdown",
   "metadata": {},
   "source": [
    "## Tweets"
   ]
  },
  {
   "cell_type": "code",
   "execution_count": 39,
   "metadata": {
    "ExecuteTime": {
     "end_time": "2021-05-17T02:11:18.593778Z",
     "start_time": "2021-05-17T02:11:18.587602Z"
    }
   },
   "outputs": [],
   "source": [
    "pipeline5 = [\n",
    "    {\n",
    "        '$project': {\n",
    "            'tweet_id': '$id_str', \n",
    "            'date': {\n",
    "                '$dateFromString': {\n",
    "                    'dateString': '$created_at'\n",
    "                }\n",
    "            }, \n",
    "            'author': '$user.screen_name',\n",
    "            'tweet_text': {\n",
    "                '$ifNull': [\n",
    "                    '$retweeted_status.full_text', '$full_text'\n",
    "                ]\n",
    "            }, \n",
    "            'language': '$lang',\n",
    "            'num_likes': '$favorite_count', \n",
    "            'num_retweets': '$retweet_count', \n",
    "            'quoted_status_id': {\n",
    "                '$ifNull': [\n",
    "                    '$quoted_status_id_str', None\n",
    "                ]\n",
    "            }, \n",
    "            'retweeted_status_id': {\n",
    "                '$ifNull': [\n",
    "                    '$retweeted_status.id_str', None\n",
    "                ]\n",
    "            }, \n",
    "            'reply_to_user': {\n",
    "                '$ifNull': [\n",
    "                    '$in_reply_to_user_id_str', None\n",
    "                ]\n",
    "            }, \n",
    "            'reply_to_status': {\n",
    "                '$ifNull': [\n",
    "                    '$in_reply_to_status_id_str', None\n",
    "                ]\n",
    "            } \n",
    "        }\n",
    "    }, {\n",
    "        '$project': {\n",
    "            '_id': 0, \n",
    "            'tweet_id': 1, \n",
    "            'date': {\n",
    "                '$dateToString': {\n",
    "                    'format': '%d/%m/%Y %H:%M:%S', \n",
    "                    'date': '$date'\n",
    "                }\n",
    "            }, \n",
    "            'author': 1,\n",
    "            'tweet_text': 1, \n",
    "            'language': 1,\n",
    "            'num_likes': 1, \n",
    "            'num_retweets': 1, \n",
    "            'quoted_status_id': 1, \n",
    "            'retweeted_status_id': 1, \n",
    "            'reply_to_user': 1, \n",
    "            'reply_to_status': 1\n",
    "        }\n",
    "    }\n",
    "]"
   ]
  },
  {
   "cell_type": "code",
   "execution_count": 40,
   "metadata": {
    "ExecuteTime": {
     "end_time": "2021-05-17T02:16:31.469947Z",
     "start_time": "2021-05-17T02:11:19.992723Z"
    }
   },
   "outputs": [],
   "source": [
    "tweets = query(collection=collection, pipeline=pipeline5)"
   ]
  },
  {
   "cell_type": "code",
   "execution_count": 41,
   "metadata": {
    "ExecuteTime": {
     "end_time": "2021-05-17T02:26:42.325364Z",
     "start_time": "2021-05-17T02:26:42.311698Z"
    }
   },
   "outputs": [
    {
     "data": {
      "text/plain": [
       "{'tweet_id': '1368641229731360773',\n",
       " 'author': 'HildaMcevoy',\n",
       " 'tweet_text': \"@MargaretEWard The irony that I can't attend any of these online events...because my kids aren't in school and I have to still home school them, is NOT lost on me 😂😭😂😭 Cheers for being in our corner, Margaret, while forging your own path too! #IWD2021\",\n",
       " 'language': 'en',\n",
       " 'num_likes': 4,\n",
       " 'num_retweets': 0,\n",
       " 'quoted_status_id': None,\n",
       " 'retweeted_status_id': None,\n",
       " 'reply_to_user': '17868868',\n",
       " 'reply_to_status': '1368629846872580097',\n",
       " 'date': '07/03/2021 19:14:31'}"
      ]
     },
     "execution_count": 41,
     "metadata": {},
     "output_type": "execute_result"
    }
   ],
   "source": [
    "tweets[0]"
   ]
  },
  {
   "cell_type": "code",
   "execution_count": 42,
   "metadata": {
    "ExecuteTime": {
     "end_time": "2021-05-17T02:26:57.567085Z",
     "start_time": "2021-05-17T02:26:57.564319Z"
    }
   },
   "outputs": [
    {
     "name": "stdout",
     "output_type": "stream",
     "text": [
      "Documentos presentes na base: 5360203\n"
     ]
    }
   ],
   "source": [
    "num_tweets = len(tweets)\n",
    "print(f'Documentos presentes na base: {num_tweets}')"
   ]
  },
  {
   "cell_type": "code",
   "execution_count": 43,
   "metadata": {
    "ExecuteTime": {
     "end_time": "2021-05-17T02:27:24.785631Z",
     "start_time": "2021-05-17T02:27:00.811028Z"
    }
   },
   "outputs": [],
   "source": [
    "tweets_df = pd.DataFrame(tweets)"
   ]
  },
  {
   "cell_type": "code",
   "execution_count": 44,
   "metadata": {
    "ExecuteTime": {
     "end_time": "2021-05-17T02:27:29.804732Z",
     "start_time": "2021-05-17T02:27:29.384393Z"
    }
   },
   "outputs": [
    {
     "data": {
      "text/html": [
       "<div>\n",
       "<style scoped>\n",
       "    .dataframe tbody tr th:only-of-type {\n",
       "        vertical-align: middle;\n",
       "    }\n",
       "\n",
       "    .dataframe tbody tr th {\n",
       "        vertical-align: top;\n",
       "    }\n",
       "\n",
       "    .dataframe thead th {\n",
       "        text-align: right;\n",
       "    }\n",
       "</style>\n",
       "<table border=\"1\" class=\"dataframe\">\n",
       "  <thead>\n",
       "    <tr style=\"text-align: right;\">\n",
       "      <th></th>\n",
       "      <th>tweet_id</th>\n",
       "      <th>author</th>\n",
       "      <th>tweet_text</th>\n",
       "      <th>language</th>\n",
       "      <th>num_likes</th>\n",
       "      <th>num_retweets</th>\n",
       "      <th>quoted_status_id</th>\n",
       "      <th>retweeted_status_id</th>\n",
       "      <th>reply_to_user</th>\n",
       "      <th>reply_to_status</th>\n",
       "      <th>date</th>\n",
       "    </tr>\n",
       "  </thead>\n",
       "  <tbody>\n",
       "    <tr>\n",
       "      <th>0</th>\n",
       "      <td>1368641229731360773</td>\n",
       "      <td>HildaMcevoy</td>\n",
       "      <td>@MargaretEWard The irony that I can't attend a...</td>\n",
       "      <td>en</td>\n",
       "      <td>4</td>\n",
       "      <td>0</td>\n",
       "      <td>None</td>\n",
       "      <td>None</td>\n",
       "      <td>17868868</td>\n",
       "      <td>1368629846872580097</td>\n",
       "      <td>07/03/2021 19:14:31</td>\n",
       "    </tr>\n",
       "    <tr>\n",
       "      <th>1</th>\n",
       "      <td>1368641259347320842</td>\n",
       "      <td>satyar2021</td>\n",
       "      <td>There is no denying women have been disproport...</td>\n",
       "      <td>en</td>\n",
       "      <td>0</td>\n",
       "      <td>58</td>\n",
       "      <td>None</td>\n",
       "      <td>1367605354570342402</td>\n",
       "      <td>None</td>\n",
       "      <td>None</td>\n",
       "      <td>07/03/2021 19:14:39</td>\n",
       "    </tr>\n",
       "    <tr>\n",
       "      <th>2</th>\n",
       "      <td>1368641305396408320</td>\n",
       "      <td>NoWineImFine</td>\n",
       "      <td>‘I am going to be a bit ranty today, because t...</td>\n",
       "      <td>en</td>\n",
       "      <td>3</td>\n",
       "      <td>0</td>\n",
       "      <td>None</td>\n",
       "      <td>None</td>\n",
       "      <td>None</td>\n",
       "      <td>None</td>\n",
       "      <td>07/03/2021 19:14:49</td>\n",
       "    </tr>\n",
       "    <tr>\n",
       "      <th>3</th>\n",
       "      <td>1368641314900742144</td>\n",
       "      <td>eusebius_m</td>\n",
       "      <td>✨캡틴 마블 개봉 2주년✨\\n#WomensHistoryMonth #세계여성의날 #I...</td>\n",
       "      <td>ko</td>\n",
       "      <td>0</td>\n",
       "      <td>63</td>\n",
       "      <td>None</td>\n",
       "      <td>1368577214921408518</td>\n",
       "      <td>None</td>\n",
       "      <td>None</td>\n",
       "      <td>07/03/2021 19:14:52</td>\n",
       "    </tr>\n",
       "    <tr>\n",
       "      <th>4</th>\n",
       "      <td>1368641259284221954</td>\n",
       "      <td>AlydiaSecosana</td>\n",
       "      <td>Who are the women that inspire you?\\n\\nOn the ...</td>\n",
       "      <td>en</td>\n",
       "      <td>0</td>\n",
       "      <td>700</td>\n",
       "      <td>None</td>\n",
       "      <td>1368601342307168256</td>\n",
       "      <td>None</td>\n",
       "      <td>None</td>\n",
       "      <td>07/03/2021 19:14:38</td>\n",
       "    </tr>\n",
       "    <tr>\n",
       "      <th>5</th>\n",
       "      <td>1368641251868872710</td>\n",
       "      <td>delaram_aram</td>\n",
       "      <td>شما زنان ایران می توانید و باید پیروزی را بساز...</td>\n",
       "      <td>fa</td>\n",
       "      <td>0</td>\n",
       "      <td>627</td>\n",
       "      <td>None</td>\n",
       "      <td>1368592247541825537</td>\n",
       "      <td>None</td>\n",
       "      <td>None</td>\n",
       "      <td>07/03/2021 19:14:37</td>\n",
       "    </tr>\n",
       "    <tr>\n",
       "      <th>6</th>\n",
       "      <td>1368641274023149570</td>\n",
       "      <td>B0nB0n__</td>\n",
       "      <td>#IWD2021 https://t.co/SXEoBD2ERw</td>\n",
       "      <td>und</td>\n",
       "      <td>0</td>\n",
       "      <td>119</td>\n",
       "      <td>None</td>\n",
       "      <td>1368539631915065348</td>\n",
       "      <td>None</td>\n",
       "      <td>None</td>\n",
       "      <td>07/03/2021 19:14:42</td>\n",
       "    </tr>\n",
       "    <tr>\n",
       "      <th>7</th>\n",
       "      <td>1368641318398885892</td>\n",
       "      <td>glorydays___CB</td>\n",
       "      <td>THANK U GIRLZ #InternationalWomensDay https://...</td>\n",
       "      <td>en</td>\n",
       "      <td>0</td>\n",
       "      <td>78</td>\n",
       "      <td>None</td>\n",
       "      <td>1368625731165712385</td>\n",
       "      <td>None</td>\n",
       "      <td>None</td>\n",
       "      <td>07/03/2021 19:14:53</td>\n",
       "    </tr>\n",
       "    <tr>\n",
       "      <th>8</th>\n",
       "      <td>1368641301294571524</td>\n",
       "      <td>Patrice4020</td>\n",
       "      <td>Wangari Maathai arrive en 4ème position avec 3...</td>\n",
       "      <td>fr</td>\n",
       "      <td>0</td>\n",
       "      <td>1</td>\n",
       "      <td>1368629751364083712</td>\n",
       "      <td>1368630082156249089</td>\n",
       "      <td>None</td>\n",
       "      <td>None</td>\n",
       "      <td>07/03/2021 19:14:49</td>\n",
       "    </tr>\n",
       "    <tr>\n",
       "      <th>9</th>\n",
       "      <td>1368641270222970882</td>\n",
       "      <td>poohpeewee</td>\n",
       "      <td>RESPECT WOMEN.\\n\\nThat's It. That's the Tweet....</td>\n",
       "      <td>en</td>\n",
       "      <td>0</td>\n",
       "      <td>7631</td>\n",
       "      <td>None</td>\n",
       "      <td>1368525594737131520</td>\n",
       "      <td>None</td>\n",
       "      <td>None</td>\n",
       "      <td>07/03/2021 19:14:41</td>\n",
       "    </tr>\n",
       "  </tbody>\n",
       "</table>\n",
       "</div>"
      ],
      "text/plain": [
       "              tweet_id          author  \\\n",
       "0  1368641229731360773     HildaMcevoy   \n",
       "1  1368641259347320842      satyar2021   \n",
       "2  1368641305396408320    NoWineImFine   \n",
       "3  1368641314900742144      eusebius_m   \n",
       "4  1368641259284221954  AlydiaSecosana   \n",
       "5  1368641251868872710    delaram_aram   \n",
       "6  1368641274023149570        B0nB0n__   \n",
       "7  1368641318398885892  glorydays___CB   \n",
       "8  1368641301294571524     Patrice4020   \n",
       "9  1368641270222970882      poohpeewee   \n",
       "\n",
       "                                          tweet_text language  num_likes  \\\n",
       "0  @MargaretEWard The irony that I can't attend a...       en          4   \n",
       "1  There is no denying women have been disproport...       en          0   \n",
       "2  ‘I am going to be a bit ranty today, because t...       en          3   \n",
       "3  ✨캡틴 마블 개봉 2주년✨\\n#WomensHistoryMonth #세계여성의날 #I...       ko          0   \n",
       "4  Who are the women that inspire you?\\n\\nOn the ...       en          0   \n",
       "5  شما زنان ایران می توانید و باید پیروزی را بساز...       fa          0   \n",
       "6                   #IWD2021 https://t.co/SXEoBD2ERw      und          0   \n",
       "7  THANK U GIRLZ #InternationalWomensDay https://...       en          0   \n",
       "8  Wangari Maathai arrive en 4ème position avec 3...       fr          0   \n",
       "9  RESPECT WOMEN.\\n\\nThat's It. That's the Tweet....       en          0   \n",
       "\n",
       "   num_retweets     quoted_status_id  retweeted_status_id reply_to_user  \\\n",
       "0             0                 None                 None      17868868   \n",
       "1            58                 None  1367605354570342402          None   \n",
       "2             0                 None                 None          None   \n",
       "3            63                 None  1368577214921408518          None   \n",
       "4           700                 None  1368601342307168256          None   \n",
       "5           627                 None  1368592247541825537          None   \n",
       "6           119                 None  1368539631915065348          None   \n",
       "7            78                 None  1368625731165712385          None   \n",
       "8             1  1368629751364083712  1368630082156249089          None   \n",
       "9          7631                 None  1368525594737131520          None   \n",
       "\n",
       "       reply_to_status                 date  \n",
       "0  1368629846872580097  07/03/2021 19:14:31  \n",
       "1                 None  07/03/2021 19:14:39  \n",
       "2                 None  07/03/2021 19:14:49  \n",
       "3                 None  07/03/2021 19:14:52  \n",
       "4                 None  07/03/2021 19:14:38  \n",
       "5                 None  07/03/2021 19:14:37  \n",
       "6                 None  07/03/2021 19:14:42  \n",
       "7                 None  07/03/2021 19:14:53  \n",
       "8                 None  07/03/2021 19:14:49  \n",
       "9                 None  07/03/2021 19:14:41  "
      ]
     },
     "execution_count": 44,
     "metadata": {},
     "output_type": "execute_result"
    }
   ],
   "source": [
    "tweets_df.head(10)"
   ]
  },
  {
   "cell_type": "code",
   "execution_count": 45,
   "metadata": {
    "ExecuteTime": {
     "end_time": "2021-05-17T02:31:11.187006Z",
     "start_time": "2021-05-17T02:27:53.723601Z"
    }
   },
   "outputs": [],
   "source": [
    "tweets_df.to_parquet('tweetsiwd2021.parquet.gzip', compression='gzip')"
   ]
  },
  {
   "cell_type": "markdown",
   "metadata": {},
   "source": [
    "### Frequência"
   ]
  },
  {
   "cell_type": "code",
   "execution_count": 46,
   "metadata": {
    "ExecuteTime": {
     "end_time": "2021-05-17T02:31:29.465039Z",
     "start_time": "2021-05-17T02:31:23.685460Z"
    }
   },
   "outputs": [
    {
     "data": {
      "text/plain": [
       "1486849"
      ]
     },
     "execution_count": 46,
     "metadata": {},
     "output_type": "execute_result"
    }
   ],
   "source": [
    "num_unique_tweets = len(tweets_df['tweet_text'].value_counts())\n",
    "num_unique_tweets"
   ]
  },
  {
   "cell_type": "code",
   "execution_count": 47,
   "metadata": {
    "ExecuteTime": {
     "end_time": "2021-05-17T02:31:36.244427Z",
     "start_time": "2021-05-17T02:31:31.842378Z"
    }
   },
   "outputs": [
    {
     "data": {
      "text/html": [
       "<div>\n",
       "<style scoped>\n",
       "    .dataframe tbody tr th:only-of-type {\n",
       "        vertical-align: middle;\n",
       "    }\n",
       "\n",
       "    .dataframe tbody tr th {\n",
       "        vertical-align: top;\n",
       "    }\n",
       "\n",
       "    .dataframe thead th {\n",
       "        text-align: right;\n",
       "    }\n",
       "</style>\n",
       "<table border=\"1\" class=\"dataframe\">\n",
       "  <thead>\n",
       "    <tr style=\"text-align: right;\">\n",
       "      <th></th>\n",
       "      <th>unique_values</th>\n",
       "      <th>counts</th>\n",
       "    </tr>\n",
       "  </thead>\n",
       "  <tbody>\n",
       "    <tr>\n",
       "      <th>0</th>\n",
       "      <td>I wish all trans girls who aren't able to come out for whatever reason a very pleasant international women's day</td>\n",
       "      <td>39110</td>\n",
       "    </tr>\n",
       "    <tr>\n",
       "      <th>1</th>\n",
       "      <td>hoy es un muy buen día para recordar este vídeo #8M2021 https://t.co/Havt7uQK6d</td>\n",
       "      <td>15121</td>\n",
       "    </tr>\n",
       "    <tr>\n",
       "      <th>2</th>\n",
       "      <td>Nos sembraron miedo y nos crecieron alas #8M2021 https://t.co/w3zdkC2gQS</td>\n",
       "      <td>13149</td>\n",
       "    </tr>\n",
       "    <tr>\n",
       "      <th>3</th>\n",
       "      <td>#ROSÉ curated her own playlist for @applemusic in honor of International Womens Day. \\nStream and celebrate all the amazing women in the world 🌹 \\n\\n#로제 #BLACKPINK #블랙핑크 #R #OnTheGround #AppleMusic #IWD2021 #InternationalWomensDay \\n\\n🎧 https://t.co/MdmIzuYEuJ</td>\n",
       "      <td>12924</td>\n",
       "    </tr>\n",
       "    <tr>\n",
       "      <th>4</th>\n",
       "      <td>Every day let’s celebrate women and girls around the world. Here’s a special thank you to the women who have worked tirelessly during COVID to ensure vital services have continued, and to the young women @UNICEF supports. Thank you for keeping them happy healthy and safe #IWD2021 https://t.co/1MCOK7hV0l</td>\n",
       "      <td>11537</td>\n",
       "    </tr>\n",
       "    <tr>\n",
       "      <th>5</th>\n",
       "      <td>NUNCA olvidemos lo que hizo Marisela Escobedo, luchó por el feminicidio de su hija, SE ENFRENTÓ A UNA RED DE NARCOS Y CON EL GOBERNADOR, el feminicida de su hija quedo impune, MARISELA ESCOBEDO FUE ASESINADA FRENTE AL PALACIO DE GOBIERNO \\n#8M2021 #8Marzo2021 https://t.co/HnU1ak9S0z</td>\n",
       "      <td>10389</td>\n",
       "    </tr>\n",
       "    <tr>\n",
       "      <th>6</th>\n",
       "      <td>#InternationalWomensDay</td>\n",
       "      <td>8639</td>\n",
       "    </tr>\n",
       "    <tr>\n",
       "      <th>7</th>\n",
       "      <td>I'm happy because I'm a woman. Happy International women's Day!!#InternationalWomensDay \\n#세계여성의날 #WeAreWomen</td>\n",
       "      <td>7771</td>\n",
       "    </tr>\n",
       "    <tr>\n",
       "      <th>8</th>\n",
       "      <td>#InternationalWomensDay https://t.co/NcoHgdr2rN</td>\n",
       "      <td>7109</td>\n",
       "    </tr>\n",
       "    <tr>\n",
       "      <th>9</th>\n",
       "      <td>VERGONHA!! No Dia Internacional da Mulher, o governo Bolsonaro não aceitou assinar na ONU a declaração do Conselho de Direitos Humanos que assume compromissos na defesa da saúde da mulher. Mais de 60 países assinaram. O Brasil não.</td>\n",
       "      <td>6919</td>\n",
       "    </tr>\n",
       "  </tbody>\n",
       "</table>\n",
       "</div>"
      ],
      "text/plain": [
       "                                                                                                                                                                                                                                                                                                      unique_values  \\\n",
       "0                                                                                                                                                                                                  I wish all trans girls who aren't able to come out for whatever reason a very pleasant international women's day   \n",
       "1                                                                                                                                                                                                                                   hoy es un muy buen día para recordar este vídeo #8M2021 https://t.co/Havt7uQK6d   \n",
       "2                                                                                                                                                                                                                                          Nos sembraron miedo y nos crecieron alas #8M2021 https://t.co/w3zdkC2gQS   \n",
       "3                                              #ROSÉ curated her own playlist for @applemusic in honor of International Womens Day. \\nStream and celebrate all the amazing women in the world 🌹 \\n\\n#로제 #BLACKPINK #블랙핑크 #R #OnTheGround #AppleMusic #IWD2021 #InternationalWomensDay \\n\\n🎧 https://t.co/MdmIzuYEuJ   \n",
       "4  Every day let’s celebrate women and girls around the world. Here’s a special thank you to the women who have worked tirelessly during COVID to ensure vital services have continued, and to the young women @UNICEF supports. Thank you for keeping them happy healthy and safe #IWD2021 https://t.co/1MCOK7hV0l   \n",
       "5                       NUNCA olvidemos lo que hizo Marisela Escobedo, luchó por el feminicidio de su hija, SE ENFRENTÓ A UNA RED DE NARCOS Y CON EL GOBERNADOR, el feminicida de su hija quedo impune, MARISELA ESCOBEDO FUE ASESINADA FRENTE AL PALACIO DE GOBIERNO \\n#8M2021 #8Marzo2021 https://t.co/HnU1ak9S0z   \n",
       "6                                                                                                                                                                                                                                                                                           #InternationalWomensDay   \n",
       "7                                                                                                                                                                                                     I'm happy because I'm a woman. Happy International women's Day!!#InternationalWomensDay \\n#세계여성의날 #WeAreWomen   \n",
       "8                                                                                                                                                                                                                                                                   #InternationalWomensDay https://t.co/NcoHgdr2rN   \n",
       "9                                                                           VERGONHA!! No Dia Internacional da Mulher, o governo Bolsonaro não aceitou assinar na ONU a declaração do Conselho de Direitos Humanos que assume compromissos na defesa da saúde da mulher. Mais de 60 países assinaram. O Brasil não.   \n",
       "\n",
       "   counts  \n",
       "0   39110  \n",
       "1   15121  \n",
       "2   13149  \n",
       "3   12924  \n",
       "4   11537  \n",
       "5   10389  \n",
       "6    8639  \n",
       "7    7771  \n",
       "8    7109  \n",
       "9    6919  "
      ]
     },
     "execution_count": 47,
     "metadata": {},
     "output_type": "execute_result"
    }
   ],
   "source": [
    "text_df = pd.DataFrame(tweets_df['tweet_text'].value_counts(\n",
    ").rename_axis('unique_values').reset_index(name='counts'))\n",
    "\n",
    "pd.set_option('display.max_colwidth', None)\n",
    "text_df.head(10)"
   ]
  },
  {
   "cell_type": "code",
   "execution_count": 49,
   "metadata": {
    "ExecuteTime": {
     "end_time": "2021-05-17T02:33:38.686778Z",
     "start_time": "2021-05-17T02:33:06.263411Z"
    }
   },
   "outputs": [],
   "source": [
    "text_df.to_parquet('textiwd2021.parquet.gzip', compression='gzip')"
   ]
  },
  {
   "cell_type": "markdown",
   "metadata": {},
   "source": [
    "#### = 1"
   ]
  },
  {
   "cell_type": "code",
   "execution_count": 50,
   "metadata": {
    "ExecuteTime": {
     "end_time": "2021-05-17T02:33:44.382967Z",
     "start_time": "2021-05-17T02:33:44.088173Z"
    }
   },
   "outputs": [
    {
     "data": {
      "text/plain": [
       "1034937"
      ]
     },
     "execution_count": 50,
     "metadata": {},
     "output_type": "execute_result"
    }
   ],
   "source": [
    "index = text_df['counts']==1\n",
    "num_one_text = len(text_df[index])\n",
    "num_one_text"
   ]
  },
  {
   "cell_type": "markdown",
   "metadata": {},
   "source": [
    "#### > 1"
   ]
  },
  {
   "cell_type": "code",
   "execution_count": 51,
   "metadata": {
    "ExecuteTime": {
     "end_time": "2021-05-17T02:33:52.383940Z",
     "start_time": "2021-05-17T02:33:52.380588Z"
    }
   },
   "outputs": [
    {
     "data": {
      "text/plain": [
       "4325266"
      ]
     },
     "execution_count": 51,
     "metadata": {},
     "output_type": "execute_result"
    }
   ],
   "source": [
    "num_repeat_text = num_tweets - num_one_text\n",
    "num_repeat_text"
   ]
  },
  {
   "cell_type": "markdown",
   "metadata": {},
   "source": [
    "### Curtidas"
   ]
  },
  {
   "cell_type": "code",
   "execution_count": 52,
   "metadata": {
    "ExecuteTime": {
     "end_time": "2021-05-17T02:33:56.848040Z",
     "start_time": "2021-05-17T02:33:54.593203Z"
    }
   },
   "outputs": [],
   "source": [
    "likes_df = tweets_df.sort_values(by=['num_likes'], ascending=False)"
   ]
  },
  {
   "cell_type": "code",
   "execution_count": 53,
   "metadata": {
    "ExecuteTime": {
     "end_time": "2021-05-17T02:34:01.414383Z",
     "start_time": "2021-05-17T02:33:58.495018Z"
    }
   },
   "outputs": [
    {
     "data": {
      "text/html": [
       "<style  type=\"text/css\" >\n",
       "    #T_56f2f8de_b6b8_11eb_a087_1d734e7952carow0_col4 {\n",
       "            background-color:  #D3D3D3;\n",
       "        }    #T_56f2f8de_b6b8_11eb_a087_1d734e7952carow1_col4 {\n",
       "            background-color:  #D3D3D3;\n",
       "        }    #T_56f2f8de_b6b8_11eb_a087_1d734e7952carow2_col4 {\n",
       "            background-color:  #D3D3D3;\n",
       "        }    #T_56f2f8de_b6b8_11eb_a087_1d734e7952carow3_col4 {\n",
       "            background-color:  #D3D3D3;\n",
       "        }    #T_56f2f8de_b6b8_11eb_a087_1d734e7952carow4_col4 {\n",
       "            background-color:  #D3D3D3;\n",
       "        }    #T_56f2f8de_b6b8_11eb_a087_1d734e7952carow5_col4 {\n",
       "            background-color:  #D3D3D3;\n",
       "        }    #T_56f2f8de_b6b8_11eb_a087_1d734e7952carow6_col4 {\n",
       "            background-color:  #D3D3D3;\n",
       "        }    #T_56f2f8de_b6b8_11eb_a087_1d734e7952carow7_col4 {\n",
       "            background-color:  #D3D3D3;\n",
       "        }    #T_56f2f8de_b6b8_11eb_a087_1d734e7952carow8_col4 {\n",
       "            background-color:  #D3D3D3;\n",
       "        }    #T_56f2f8de_b6b8_11eb_a087_1d734e7952carow9_col4 {\n",
       "            background-color:  #D3D3D3;\n",
       "        }</style><table id=\"T_56f2f8de_b6b8_11eb_a087_1d734e7952ca\" ><thead>    <tr>        <th class=\"blank level0\" ></th>        <th class=\"col_heading level0 col0\" >tweet_id</th>        <th class=\"col_heading level0 col1\" >author</th>        <th class=\"col_heading level0 col2\" >tweet_text</th>        <th class=\"col_heading level0 col3\" >language</th>        <th class=\"col_heading level0 col4\" >num_likes</th>        <th class=\"col_heading level0 col5\" >num_retweets</th>        <th class=\"col_heading level0 col6\" >quoted_status_id</th>        <th class=\"col_heading level0 col7\" >retweeted_status_id</th>        <th class=\"col_heading level0 col8\" >reply_to_user</th>        <th class=\"col_heading level0 col9\" >reply_to_status</th>        <th class=\"col_heading level0 col10\" >date</th>    </tr></thead><tbody>\n",
       "                <tr>\n",
       "                        <th id=\"T_56f2f8de_b6b8_11eb_a087_1d734e7952calevel0_row0\" class=\"row_heading level0 row0\" >3045115</th>\n",
       "                        <td id=\"T_56f2f8de_b6b8_11eb_a087_1d734e7952carow0_col0\" class=\"data row0 col0\" >1368763578908557317</td>\n",
       "                        <td id=\"T_56f2f8de_b6b8_11eb_a087_1d734e7952carow0_col1\" class=\"data row0 col1\" >gh0st_teeth</td>\n",
       "                        <td id=\"T_56f2f8de_b6b8_11eb_a087_1d734e7952carow0_col2\" class=\"data row0 col2\" >I wish all trans girls who aren't able to come out for whatever reason a very pleasant international women's day</td>\n",
       "                        <td id=\"T_56f2f8de_b6b8_11eb_a087_1d734e7952carow0_col3\" class=\"data row0 col3\" >en</td>\n",
       "                        <td id=\"T_56f2f8de_b6b8_11eb_a087_1d734e7952carow0_col4\" class=\"data row0 col4\" >333933</td>\n",
       "                        <td id=\"T_56f2f8de_b6b8_11eb_a087_1d734e7952carow0_col5\" class=\"data row0 col5\" >93937</td>\n",
       "                        <td id=\"T_56f2f8de_b6b8_11eb_a087_1d734e7952carow0_col6\" class=\"data row0 col6\" >None</td>\n",
       "                        <td id=\"T_56f2f8de_b6b8_11eb_a087_1d734e7952carow0_col7\" class=\"data row0 col7\" >None</td>\n",
       "                        <td id=\"T_56f2f8de_b6b8_11eb_a087_1d734e7952carow0_col8\" class=\"data row0 col8\" >None</td>\n",
       "                        <td id=\"T_56f2f8de_b6b8_11eb_a087_1d734e7952carow0_col9\" class=\"data row0 col9\" >None</td>\n",
       "                        <td id=\"T_56f2f8de_b6b8_11eb_a087_1d734e7952carow0_col10\" class=\"data row0 col10\" >08/03/2021 03:20:42</td>\n",
       "            </tr>\n",
       "            <tr>\n",
       "                        <th id=\"T_56f2f8de_b6b8_11eb_a087_1d734e7952calevel0_row1\" class=\"row_heading level0 row1\" >1349098</th>\n",
       "                        <td id=\"T_56f2f8de_b6b8_11eb_a087_1d734e7952carow1_col0\" class=\"data row1 col0\" >1368972855015174145</td>\n",
       "                        <td id=\"T_56f2f8de_b6b8_11eb_a087_1d734e7952carow1_col1\" class=\"data row1 col1\" >KylieJenner</td>\n",
       "                        <td id=\"T_56f2f8de_b6b8_11eb_a087_1d734e7952carow1_col2\" class=\"data row1 col2\" >#internationalwomensday 🤍 https://t.co/1RUxMvQR9b</td>\n",
       "                        <td id=\"T_56f2f8de_b6b8_11eb_a087_1d734e7952carow1_col3\" class=\"data row1 col3\" >und</td>\n",
       "                        <td id=\"T_56f2f8de_b6b8_11eb_a087_1d734e7952carow1_col4\" class=\"data row1 col4\" >117842</td>\n",
       "                        <td id=\"T_56f2f8de_b6b8_11eb_a087_1d734e7952carow1_col5\" class=\"data row1 col5\" >5633</td>\n",
       "                        <td id=\"T_56f2f8de_b6b8_11eb_a087_1d734e7952carow1_col6\" class=\"data row1 col6\" >None</td>\n",
       "                        <td id=\"T_56f2f8de_b6b8_11eb_a087_1d734e7952carow1_col7\" class=\"data row1 col7\" >None</td>\n",
       "                        <td id=\"T_56f2f8de_b6b8_11eb_a087_1d734e7952carow1_col8\" class=\"data row1 col8\" >None</td>\n",
       "                        <td id=\"T_56f2f8de_b6b8_11eb_a087_1d734e7952carow1_col9\" class=\"data row1 col9\" >None</td>\n",
       "                        <td id=\"T_56f2f8de_b6b8_11eb_a087_1d734e7952carow1_col10\" class=\"data row1 col10\" >08/03/2021 17:12:17</td>\n",
       "            </tr>\n",
       "            <tr>\n",
       "                        <th id=\"T_56f2f8de_b6b8_11eb_a087_1d734e7952calevel0_row2\" class=\"row_heading level0 row2\" >3628434</th>\n",
       "                        <td id=\"T_56f2f8de_b6b8_11eb_a087_1d734e7952carow2_col0\" class=\"data row2 col0\" >1368904837409234947</td>\n",
       "                        <td id=\"T_56f2f8de_b6b8_11eb_a087_1d734e7952carow2_col1\" class=\"data row2 col1\" >Nihaachu</td>\n",
       "                        <td id=\"T_56f2f8de_b6b8_11eb_a087_1d734e7952carow2_col2\" class=\"data row2 col2\" >Cant believe people still dont know basic human decency and even a tad bit of empathy in 2021 https://t.co/UGkYMeMfj2</td>\n",
       "                        <td id=\"T_56f2f8de_b6b8_11eb_a087_1d734e7952carow2_col3\" class=\"data row2 col3\" >en</td>\n",
       "                        <td id=\"T_56f2f8de_b6b8_11eb_a087_1d734e7952carow2_col4\" class=\"data row2 col4\" >99423</td>\n",
       "                        <td id=\"T_56f2f8de_b6b8_11eb_a087_1d734e7952carow2_col5\" class=\"data row2 col5\" >3623</td>\n",
       "                        <td id=\"T_56f2f8de_b6b8_11eb_a087_1d734e7952carow2_col6\" class=\"data row2 col6\" >1368904389562400771</td>\n",
       "                        <td id=\"T_56f2f8de_b6b8_11eb_a087_1d734e7952carow2_col7\" class=\"data row2 col7\" >None</td>\n",
       "                        <td id=\"T_56f2f8de_b6b8_11eb_a087_1d734e7952carow2_col8\" class=\"data row2 col8\" >None</td>\n",
       "                        <td id=\"T_56f2f8de_b6b8_11eb_a087_1d734e7952carow2_col9\" class=\"data row2 col9\" >None</td>\n",
       "                        <td id=\"T_56f2f8de_b6b8_11eb_a087_1d734e7952carow2_col10\" class=\"data row2 col10\" >08/03/2021 12:42:00</td>\n",
       "            </tr>\n",
       "            <tr>\n",
       "                        <th id=\"T_56f2f8de_b6b8_11eb_a087_1d734e7952calevel0_row3\" class=\"row_heading level0 row3\" >4277523</th>\n",
       "                        <td id=\"T_56f2f8de_b6b8_11eb_a087_1d734e7952carow3_col0\" class=\"data row3 col0\" >1369032670806646789</td>\n",
       "                        <td id=\"T_56f2f8de_b6b8_11eb_a087_1d734e7952carow3_col1\" class=\"data row3 col1\" >DisguisedToast</td>\n",
       "                        <td id=\"T_56f2f8de_b6b8_11eb_a087_1d734e7952carow3_col2\" class=\"data row3 col2\" >shoutout to all the wonderful women in the scene that has to constantly deal with people questioning their achievements and minimizing their success\n",
       "\n",
       "#InternationalWomensDay</td>\n",
       "                        <td id=\"T_56f2f8de_b6b8_11eb_a087_1d734e7952carow3_col3\" class=\"data row3 col3\" >en</td>\n",
       "                        <td id=\"T_56f2f8de_b6b8_11eb_a087_1d734e7952carow3_col4\" class=\"data row3 col4\" >89674</td>\n",
       "                        <td id=\"T_56f2f8de_b6b8_11eb_a087_1d734e7952carow3_col5\" class=\"data row3 col5\" >5677</td>\n",
       "                        <td id=\"T_56f2f8de_b6b8_11eb_a087_1d734e7952carow3_col6\" class=\"data row3 col6\" >None</td>\n",
       "                        <td id=\"T_56f2f8de_b6b8_11eb_a087_1d734e7952carow3_col7\" class=\"data row3 col7\" >None</td>\n",
       "                        <td id=\"T_56f2f8de_b6b8_11eb_a087_1d734e7952carow3_col8\" class=\"data row3 col8\" >None</td>\n",
       "                        <td id=\"T_56f2f8de_b6b8_11eb_a087_1d734e7952carow3_col9\" class=\"data row3 col9\" >None</td>\n",
       "                        <td id=\"T_56f2f8de_b6b8_11eb_a087_1d734e7952carow3_col10\" class=\"data row3 col10\" >08/03/2021 21:09:58</td>\n",
       "            </tr>\n",
       "            <tr>\n",
       "                        <th id=\"T_56f2f8de_b6b8_11eb_a087_1d734e7952calevel0_row4\" class=\"row_heading level0 row4\" >4537509</th>\n",
       "                        <td id=\"T_56f2f8de_b6b8_11eb_a087_1d734e7952carow4_col0\" class=\"data row4 col0\" >1369084799391043584</td>\n",
       "                        <td id=\"T_56f2f8de_b6b8_11eb_a087_1d734e7952carow4_col1\" class=\"data row4 col1\" >lanuskylive</td>\n",
       "                        <td id=\"T_56f2f8de_b6b8_11eb_a087_1d734e7952carow4_col2\" class=\"data row4 col2\" >#InternationalWomensDay YAY  \n",
       "\n",
       "(I know it ended 30 minutes but still) YAYYYY</td>\n",
       "                        <td id=\"T_56f2f8de_b6b8_11eb_a087_1d734e7952carow4_col3\" class=\"data row4 col3\" >en</td>\n",
       "                        <td id=\"T_56f2f8de_b6b8_11eb_a087_1d734e7952carow4_col4\" class=\"data row4 col4\" >64474</td>\n",
       "                        <td id=\"T_56f2f8de_b6b8_11eb_a087_1d734e7952carow4_col5\" class=\"data row4 col5\" >735</td>\n",
       "                        <td id=\"T_56f2f8de_b6b8_11eb_a087_1d734e7952carow4_col6\" class=\"data row4 col6\" >None</td>\n",
       "                        <td id=\"T_56f2f8de_b6b8_11eb_a087_1d734e7952carow4_col7\" class=\"data row4 col7\" >None</td>\n",
       "                        <td id=\"T_56f2f8de_b6b8_11eb_a087_1d734e7952carow4_col8\" class=\"data row4 col8\" >None</td>\n",
       "                        <td id=\"T_56f2f8de_b6b8_11eb_a087_1d734e7952carow4_col9\" class=\"data row4 col9\" >None</td>\n",
       "                        <td id=\"T_56f2f8de_b6b8_11eb_a087_1d734e7952carow4_col10\" class=\"data row4 col10\" >09/03/2021 00:37:07</td>\n",
       "            </tr>\n",
       "            <tr>\n",
       "                        <th id=\"T_56f2f8de_b6b8_11eb_a087_1d734e7952calevel0_row5\" class=\"row_heading level0 row5\" >4282609</th>\n",
       "                        <td id=\"T_56f2f8de_b6b8_11eb_a087_1d734e7952carow5_col0\" class=\"data row5 col0\" >1369033694132891649</td>\n",
       "                        <td id=\"T_56f2f8de_b6b8_11eb_a087_1d734e7952carow5_col1\" class=\"data row5 col1\" >Ashton5SOS</td>\n",
       "                        <td id=\"T_56f2f8de_b6b8_11eb_a087_1d734e7952carow5_col2\" class=\"data row5 col2\" >Have a wonderful international woman’s day. God is a woman! Thank you for the teachings, the guidance, the abundance of love and care, the strength and the ever growing abundance of influential woman on Mother Earth. Thank you to the mother’s ❤️</td>\n",
       "                        <td id=\"T_56f2f8de_b6b8_11eb_a087_1d734e7952carow5_col3\" class=\"data row5 col3\" >en</td>\n",
       "                        <td id=\"T_56f2f8de_b6b8_11eb_a087_1d734e7952carow5_col4\" class=\"data row5 col4\" >64396</td>\n",
       "                        <td id=\"T_56f2f8de_b6b8_11eb_a087_1d734e7952carow5_col5\" class=\"data row5 col5\" >12710</td>\n",
       "                        <td id=\"T_56f2f8de_b6b8_11eb_a087_1d734e7952carow5_col6\" class=\"data row5 col6\" >None</td>\n",
       "                        <td id=\"T_56f2f8de_b6b8_11eb_a087_1d734e7952carow5_col7\" class=\"data row5 col7\" >None</td>\n",
       "                        <td id=\"T_56f2f8de_b6b8_11eb_a087_1d734e7952carow5_col8\" class=\"data row5 col8\" >None</td>\n",
       "                        <td id=\"T_56f2f8de_b6b8_11eb_a087_1d734e7952carow5_col9\" class=\"data row5 col9\" >None</td>\n",
       "                        <td id=\"T_56f2f8de_b6b8_11eb_a087_1d734e7952carow5_col10\" class=\"data row5 col10\" >08/03/2021 21:14:02</td>\n",
       "            </tr>\n",
       "            <tr>\n",
       "                        <th id=\"T_56f2f8de_b6b8_11eb_a087_1d734e7952calevel0_row6\" class=\"row_heading level0 row6\" >60685</th>\n",
       "                        <td id=\"T_56f2f8de_b6b8_11eb_a087_1d734e7952carow6_col0\" class=\"data row6 col0\" >1368704526140780547</td>\n",
       "                        <td id=\"T_56f2f8de_b6b8_11eb_a087_1d734e7952carow6_col1\" class=\"data row6 col1\" >VancityReynolds</td>\n",
       "                        <td id=\"T_56f2f8de_b6b8_11eb_a087_1d734e7952carow6_col2\" class=\"data row6 col2\" >Happy International Women’s Day! Shoutout to local Women too. You’re also pretty great. #InternationalWomensDay</td>\n",
       "                        <td id=\"T_56f2f8de_b6b8_11eb_a087_1d734e7952carow6_col3\" class=\"data row6 col3\" >en</td>\n",
       "                        <td id=\"T_56f2f8de_b6b8_11eb_a087_1d734e7952carow6_col4\" class=\"data row6 col4\" >64051</td>\n",
       "                        <td id=\"T_56f2f8de_b6b8_11eb_a087_1d734e7952carow6_col5\" class=\"data row6 col5\" >4503</td>\n",
       "                        <td id=\"T_56f2f8de_b6b8_11eb_a087_1d734e7952carow6_col6\" class=\"data row6 col6\" >None</td>\n",
       "                        <td id=\"T_56f2f8de_b6b8_11eb_a087_1d734e7952carow6_col7\" class=\"data row6 col7\" >None</td>\n",
       "                        <td id=\"T_56f2f8de_b6b8_11eb_a087_1d734e7952carow6_col8\" class=\"data row6 col8\" >None</td>\n",
       "                        <td id=\"T_56f2f8de_b6b8_11eb_a087_1d734e7952carow6_col9\" class=\"data row6 col9\" >None</td>\n",
       "                        <td id=\"T_56f2f8de_b6b8_11eb_a087_1d734e7952carow6_col10\" class=\"data row6 col10\" >07/03/2021 23:26:02</td>\n",
       "            </tr>\n",
       "            <tr>\n",
       "                        <th id=\"T_56f2f8de_b6b8_11eb_a087_1d734e7952calevel0_row7\" class=\"row_heading level0 row7\" >4441800</th>\n",
       "                        <td id=\"T_56f2f8de_b6b8_11eb_a087_1d734e7952carow7_col0\" class=\"data row7 col0\" >1369064529611620352</td>\n",
       "                        <td id=\"T_56f2f8de_b6b8_11eb_a087_1d734e7952carow7_col1\" class=\"data row7 col1\" >_jaylarose</td>\n",
       "                        <td id=\"T_56f2f8de_b6b8_11eb_a087_1d734e7952carow7_col2\" class=\"data row7 col2\" >2 months from now, you can start calling me Dr. Thompson 💊#internationalwomensday https://t.co/FK8E2NAfmC</td>\n",
       "                        <td id=\"T_56f2f8de_b6b8_11eb_a087_1d734e7952carow7_col3\" class=\"data row7 col3\" >en</td>\n",
       "                        <td id=\"T_56f2f8de_b6b8_11eb_a087_1d734e7952carow7_col4\" class=\"data row7 col4\" >63751</td>\n",
       "                        <td id=\"T_56f2f8de_b6b8_11eb_a087_1d734e7952carow7_col5\" class=\"data row7 col5\" >5048</td>\n",
       "                        <td id=\"T_56f2f8de_b6b8_11eb_a087_1d734e7952carow7_col6\" class=\"data row7 col6\" >None</td>\n",
       "                        <td id=\"T_56f2f8de_b6b8_11eb_a087_1d734e7952carow7_col7\" class=\"data row7 col7\" >None</td>\n",
       "                        <td id=\"T_56f2f8de_b6b8_11eb_a087_1d734e7952carow7_col8\" class=\"data row7 col8\" >None</td>\n",
       "                        <td id=\"T_56f2f8de_b6b8_11eb_a087_1d734e7952carow7_col9\" class=\"data row7 col9\" >None</td>\n",
       "                        <td id=\"T_56f2f8de_b6b8_11eb_a087_1d734e7952carow7_col10\" class=\"data row7 col10\" >08/03/2021 23:16:34</td>\n",
       "            </tr>\n",
       "            <tr>\n",
       "                        <th id=\"T_56f2f8de_b6b8_11eb_a087_1d734e7952calevel0_row8\" class=\"row_heading level0 row8\" >3657962</th>\n",
       "                        <td id=\"T_56f2f8de_b6b8_11eb_a087_1d734e7952carow8_col0\" class=\"data row8 col0\" >1368910716862947330</td>\n",
       "                        <td id=\"T_56f2f8de_b6b8_11eb_a087_1d734e7952carow8_col1\" class=\"data row8 col1\" >wizkidayo</td>\n",
       "                        <td id=\"T_56f2f8de_b6b8_11eb_a087_1d734e7952carow8_col2\" class=\"data row8 col2\" >#InternationalWomensDay</td>\n",
       "                        <td id=\"T_56f2f8de_b6b8_11eb_a087_1d734e7952carow8_col3\" class=\"data row8 col3\" >und</td>\n",
       "                        <td id=\"T_56f2f8de_b6b8_11eb_a087_1d734e7952carow8_col4\" class=\"data row8 col4\" >60783</td>\n",
       "                        <td id=\"T_56f2f8de_b6b8_11eb_a087_1d734e7952carow8_col5\" class=\"data row8 col5\" >11732</td>\n",
       "                        <td id=\"T_56f2f8de_b6b8_11eb_a087_1d734e7952carow8_col6\" class=\"data row8 col6\" >None</td>\n",
       "                        <td id=\"T_56f2f8de_b6b8_11eb_a087_1d734e7952carow8_col7\" class=\"data row8 col7\" >None</td>\n",
       "                        <td id=\"T_56f2f8de_b6b8_11eb_a087_1d734e7952carow8_col8\" class=\"data row8 col8\" >None</td>\n",
       "                        <td id=\"T_56f2f8de_b6b8_11eb_a087_1d734e7952carow8_col9\" class=\"data row8 col9\" >None</td>\n",
       "                        <td id=\"T_56f2f8de_b6b8_11eb_a087_1d734e7952carow8_col10\" class=\"data row8 col10\" >08/03/2021 13:05:22</td>\n",
       "            </tr>\n",
       "            <tr>\n",
       "                        <th id=\"T_56f2f8de_b6b8_11eb_a087_1d734e7952calevel0_row9\" class=\"row_heading level0 row9\" >956534</th>\n",
       "                        <td id=\"T_56f2f8de_b6b8_11eb_a087_1d734e7952carow9_col0\" class=\"data row9 col0\" >1368911572870045706</td>\n",
       "                        <td id=\"T_56f2f8de_b6b8_11eb_a087_1d734e7952carow9_col1\" class=\"data row9 col1\" >FLOTUS</td>\n",
       "                        <td id=\"T_56f2f8de_b6b8_11eb_a087_1d734e7952carow9_col2\" class=\"data row9 col2\" >On this #InternationalWomensDay,  we celebrate the resilience and courage of women everywhere. \n",
       "\n",
       "“Each time a woman stands up for herself...she stands up for all women.” - Maya Angelou</td>\n",
       "                        <td id=\"T_56f2f8de_b6b8_11eb_a087_1d734e7952carow9_col3\" class=\"data row9 col3\" >en</td>\n",
       "                        <td id=\"T_56f2f8de_b6b8_11eb_a087_1d734e7952carow9_col4\" class=\"data row9 col4\" >57830</td>\n",
       "                        <td id=\"T_56f2f8de_b6b8_11eb_a087_1d734e7952carow9_col5\" class=\"data row9 col5\" >10003</td>\n",
       "                        <td id=\"T_56f2f8de_b6b8_11eb_a087_1d734e7952carow9_col6\" class=\"data row9 col6\" >None</td>\n",
       "                        <td id=\"T_56f2f8de_b6b8_11eb_a087_1d734e7952carow9_col7\" class=\"data row9 col7\" >None</td>\n",
       "                        <td id=\"T_56f2f8de_b6b8_11eb_a087_1d734e7952carow9_col8\" class=\"data row9 col8\" >None</td>\n",
       "                        <td id=\"T_56f2f8de_b6b8_11eb_a087_1d734e7952carow9_col9\" class=\"data row9 col9\" >None</td>\n",
       "                        <td id=\"T_56f2f8de_b6b8_11eb_a087_1d734e7952carow9_col10\" class=\"data row9 col10\" >08/03/2021 13:08:46</td>\n",
       "            </tr>\n",
       "    </tbody></table>"
      ],
      "text/plain": [
       "<pandas.io.formats.style.Styler at 0x7fb47899d710>"
      ]
     },
     "execution_count": 53,
     "metadata": {},
     "output_type": "execute_result"
    }
   ],
   "source": [
    "def highlight_cols(s):\n",
    "    color = '#D3D3D3'\n",
    "    return 'background-color: %s' % color\n",
    "\n",
    "likes_df.iloc[0:10].style.applymap(highlight_cols, subset=pd.IndexSlice[:, ['num_likes']])"
   ]
  },
  {
   "cell_type": "code",
   "execution_count": 55,
   "metadata": {
    "ExecuteTime": {
     "end_time": "2021-05-17T02:39:11.348232Z",
     "start_time": "2021-05-17T02:35:52.210624Z"
    }
   },
   "outputs": [],
   "source": [
    "likes_df.to_parquet('likesiwd2021.parquet.gzip', compression='gzip')"
   ]
  },
  {
   "cell_type": "markdown",
   "metadata": {},
   "source": [
    "### Retweets"
   ]
  },
  {
   "cell_type": "code",
   "execution_count": 56,
   "metadata": {
    "ExecuteTime": {
     "end_time": "2021-05-17T02:39:31.172671Z",
     "start_time": "2021-05-17T02:39:19.525334Z"
    }
   },
   "outputs": [],
   "source": [
    "retweets_df = tweets_df.sort_values(by=['num_retweets'], ascending=False)"
   ]
  },
  {
   "cell_type": "code",
   "execution_count": 57,
   "metadata": {
    "ExecuteTime": {
     "end_time": "2021-05-17T02:39:33.159779Z",
     "start_time": "2021-05-17T02:39:33.047205Z"
    },
    "scrolled": true
   },
   "outputs": [
    {
     "data": {
      "text/html": [
       "<style  type=\"text/css\" >\n",
       "    #T_1cb171cc_b6b9_11eb_a087_1d734e7952carow0_col5 {\n",
       "            background-color:  #D3D3D3;\n",
       "        }    #T_1cb171cc_b6b9_11eb_a087_1d734e7952carow1_col5 {\n",
       "            background-color:  #D3D3D3;\n",
       "        }    #T_1cb171cc_b6b9_11eb_a087_1d734e7952carow2_col5 {\n",
       "            background-color:  #D3D3D3;\n",
       "        }    #T_1cb171cc_b6b9_11eb_a087_1d734e7952carow3_col5 {\n",
       "            background-color:  #D3D3D3;\n",
       "        }    #T_1cb171cc_b6b9_11eb_a087_1d734e7952carow4_col5 {\n",
       "            background-color:  #D3D3D3;\n",
       "        }    #T_1cb171cc_b6b9_11eb_a087_1d734e7952carow5_col5 {\n",
       "            background-color:  #D3D3D3;\n",
       "        }    #T_1cb171cc_b6b9_11eb_a087_1d734e7952carow6_col5 {\n",
       "            background-color:  #D3D3D3;\n",
       "        }    #T_1cb171cc_b6b9_11eb_a087_1d734e7952carow7_col5 {\n",
       "            background-color:  #D3D3D3;\n",
       "        }    #T_1cb171cc_b6b9_11eb_a087_1d734e7952carow8_col5 {\n",
       "            background-color:  #D3D3D3;\n",
       "        }    #T_1cb171cc_b6b9_11eb_a087_1d734e7952carow9_col5 {\n",
       "            background-color:  #D3D3D3;\n",
       "        }</style><table id=\"T_1cb171cc_b6b9_11eb_a087_1d734e7952ca\" ><thead>    <tr>        <th class=\"blank level0\" ></th>        <th class=\"col_heading level0 col0\" >tweet_id</th>        <th class=\"col_heading level0 col1\" >author</th>        <th class=\"col_heading level0 col2\" >tweet_text</th>        <th class=\"col_heading level0 col3\" >language</th>        <th class=\"col_heading level0 col4\" >num_likes</th>        <th class=\"col_heading level0 col5\" >num_retweets</th>        <th class=\"col_heading level0 col6\" >quoted_status_id</th>        <th class=\"col_heading level0 col7\" >retweeted_status_id</th>        <th class=\"col_heading level0 col8\" >reply_to_user</th>        <th class=\"col_heading level0 col9\" >reply_to_status</th>        <th class=\"col_heading level0 col10\" >date</th>    </tr></thead><tbody>\n",
       "                <tr>\n",
       "                        <th id=\"T_1cb171cc_b6b9_11eb_a087_1d734e7952calevel0_row0\" class=\"row_heading level0 row0\" >76662</th>\n",
       "                        <td id=\"T_1cb171cc_b6b9_11eb_a087_1d734e7952carow0_col0\" class=\"data row0 col0\" >1368720667231797250</td>\n",
       "                        <td id=\"T_1cb171cc_b6b9_11eb_a087_1d734e7952carow0_col1\" class=\"data row0 col1\" >wallsxmalik</td>\n",
       "                        <td id=\"T_1cb171cc_b6b9_11eb_a087_1d734e7952carow0_col2\" class=\"data row0 col2\" >Happy International Women's Day. I hope it was a wonderful one. H</td>\n",
       "                        <td id=\"T_1cb171cc_b6b9_11eb_a087_1d734e7952carow0_col3\" class=\"data row0 col3\" >en</td>\n",
       "                        <td id=\"T_1cb171cc_b6b9_11eb_a087_1d734e7952carow0_col4\" class=\"data row0 col4\" >0</td>\n",
       "                        <td id=\"T_1cb171cc_b6b9_11eb_a087_1d734e7952carow0_col5\" class=\"data row0 col5\" >236850</td>\n",
       "                        <td id=\"T_1cb171cc_b6b9_11eb_a087_1d734e7952carow0_col6\" class=\"data row0 col6\" >None</td>\n",
       "                        <td id=\"T_1cb171cc_b6b9_11eb_a087_1d734e7952carow0_col7\" class=\"data row0 col7\" >707348811547541504</td>\n",
       "                        <td id=\"T_1cb171cc_b6b9_11eb_a087_1d734e7952carow0_col8\" class=\"data row0 col8\" >None</td>\n",
       "                        <td id=\"T_1cb171cc_b6b9_11eb_a087_1d734e7952carow0_col9\" class=\"data row0 col9\" >None</td>\n",
       "                        <td id=\"T_1cb171cc_b6b9_11eb_a087_1d734e7952carow0_col10\" class=\"data row0 col10\" >08/03/2021 00:30:11</td>\n",
       "            </tr>\n",
       "            <tr>\n",
       "                        <th id=\"T_1cb171cc_b6b9_11eb_a087_1d734e7952calevel0_row1\" class=\"row_heading level0 row1\" >98434</th>\n",
       "                        <td id=\"T_1cb171cc_b6b9_11eb_a087_1d734e7952carow1_col0\" class=\"data row1 col0\" >1368741893836861446</td>\n",
       "                        <td id=\"T_1cb171cc_b6b9_11eb_a087_1d734e7952carow1_col1\" class=\"data row1 col1\" >harryystanacc</td>\n",
       "                        <td id=\"T_1cb171cc_b6b9_11eb_a087_1d734e7952carow1_col2\" class=\"data row1 col2\" >Happy International Women's Day. I hope it was a wonderful one. H</td>\n",
       "                        <td id=\"T_1cb171cc_b6b9_11eb_a087_1d734e7952carow1_col3\" class=\"data row1 col3\" >en</td>\n",
       "                        <td id=\"T_1cb171cc_b6b9_11eb_a087_1d734e7952carow1_col4\" class=\"data row1 col4\" >0</td>\n",
       "                        <td id=\"T_1cb171cc_b6b9_11eb_a087_1d734e7952carow1_col5\" class=\"data row1 col5\" >236849</td>\n",
       "                        <td id=\"T_1cb171cc_b6b9_11eb_a087_1d734e7952carow1_col6\" class=\"data row1 col6\" >None</td>\n",
       "                        <td id=\"T_1cb171cc_b6b9_11eb_a087_1d734e7952carow1_col7\" class=\"data row1 col7\" >707348811547541504</td>\n",
       "                        <td id=\"T_1cb171cc_b6b9_11eb_a087_1d734e7952carow1_col8\" class=\"data row1 col8\" >None</td>\n",
       "                        <td id=\"T_1cb171cc_b6b9_11eb_a087_1d734e7952carow1_col9\" class=\"data row1 col9\" >None</td>\n",
       "                        <td id=\"T_1cb171cc_b6b9_11eb_a087_1d734e7952carow1_col10\" class=\"data row1 col10\" >08/03/2021 01:54:32</td>\n",
       "            </tr>\n",
       "            <tr>\n",
       "                        <th id=\"T_1cb171cc_b6b9_11eb_a087_1d734e7952calevel0_row2\" class=\"row_heading level0 row2\" >37912</th>\n",
       "                        <td id=\"T_1cb171cc_b6b9_11eb_a087_1d734e7952carow2_col0\" class=\"data row2 col0\" >1368686751795974145</td>\n",
       "                        <td id=\"T_1cb171cc_b6b9_11eb_a087_1d734e7952carow2_col1\" class=\"data row2 col1\" >RAINBERRYDIOR</td>\n",
       "                        <td id=\"T_1cb171cc_b6b9_11eb_a087_1d734e7952carow2_col2\" class=\"data row2 col2\" >Happy International Women's Day. I hope it was a wonderful one. H</td>\n",
       "                        <td id=\"T_1cb171cc_b6b9_11eb_a087_1d734e7952carow2_col3\" class=\"data row2 col3\" >en</td>\n",
       "                        <td id=\"T_1cb171cc_b6b9_11eb_a087_1d734e7952carow2_col4\" class=\"data row2 col4\" >0</td>\n",
       "                        <td id=\"T_1cb171cc_b6b9_11eb_a087_1d734e7952carow2_col5\" class=\"data row2 col5\" >236848</td>\n",
       "                        <td id=\"T_1cb171cc_b6b9_11eb_a087_1d734e7952carow2_col6\" class=\"data row2 col6\" >None</td>\n",
       "                        <td id=\"T_1cb171cc_b6b9_11eb_a087_1d734e7952carow2_col7\" class=\"data row2 col7\" >707348811547541504</td>\n",
       "                        <td id=\"T_1cb171cc_b6b9_11eb_a087_1d734e7952carow2_col8\" class=\"data row2 col8\" >None</td>\n",
       "                        <td id=\"T_1cb171cc_b6b9_11eb_a087_1d734e7952carow2_col9\" class=\"data row2 col9\" >None</td>\n",
       "                        <td id=\"T_1cb171cc_b6b9_11eb_a087_1d734e7952carow2_col10\" class=\"data row2 col10\" >07/03/2021 22:15:25</td>\n",
       "            </tr>\n",
       "            <tr>\n",
       "                        <th id=\"T_1cb171cc_b6b9_11eb_a087_1d734e7952calevel0_row3\" class=\"row_heading level0 row3\" >80775</th>\n",
       "                        <td id=\"T_1cb171cc_b6b9_11eb_a087_1d734e7952carow3_col0\" class=\"data row3 col0\" >1368725340043042822</td>\n",
       "                        <td id=\"T_1cb171cc_b6b9_11eb_a087_1d734e7952carow3_col1\" class=\"data row3 col1\" >hrrybutterfly</td>\n",
       "                        <td id=\"T_1cb171cc_b6b9_11eb_a087_1d734e7952carow3_col2\" class=\"data row3 col2\" >Happy International Women's Day. I hope it was a wonderful one. H</td>\n",
       "                        <td id=\"T_1cb171cc_b6b9_11eb_a087_1d734e7952carow3_col3\" class=\"data row3 col3\" >en</td>\n",
       "                        <td id=\"T_1cb171cc_b6b9_11eb_a087_1d734e7952carow3_col4\" class=\"data row3 col4\" >0</td>\n",
       "                        <td id=\"T_1cb171cc_b6b9_11eb_a087_1d734e7952carow3_col5\" class=\"data row3 col5\" >236847</td>\n",
       "                        <td id=\"T_1cb171cc_b6b9_11eb_a087_1d734e7952carow3_col6\" class=\"data row3 col6\" >None</td>\n",
       "                        <td id=\"T_1cb171cc_b6b9_11eb_a087_1d734e7952carow3_col7\" class=\"data row3 col7\" >707348811547541504</td>\n",
       "                        <td id=\"T_1cb171cc_b6b9_11eb_a087_1d734e7952carow3_col8\" class=\"data row3 col8\" >None</td>\n",
       "                        <td id=\"T_1cb171cc_b6b9_11eb_a087_1d734e7952carow3_col9\" class=\"data row3 col9\" >None</td>\n",
       "                        <td id=\"T_1cb171cc_b6b9_11eb_a087_1d734e7952carow3_col10\" class=\"data row3 col10\" >08/03/2021 00:48:45</td>\n",
       "            </tr>\n",
       "            <tr>\n",
       "                        <th id=\"T_1cb171cc_b6b9_11eb_a087_1d734e7952calevel0_row4\" class=\"row_heading level0 row4\" >74969</th>\n",
       "                        <td id=\"T_1cb171cc_b6b9_11eb_a087_1d734e7952carow4_col0\" class=\"data row4 col0\" >1368718739894640641</td>\n",
       "                        <td id=\"T_1cb171cc_b6b9_11eb_a087_1d734e7952carow4_col1\" class=\"data row4 col1\" >shlitwic</td>\n",
       "                        <td id=\"T_1cb171cc_b6b9_11eb_a087_1d734e7952carow4_col2\" class=\"data row4 col2\" >Happy International Women's Day. I hope it was a wonderful one. H</td>\n",
       "                        <td id=\"T_1cb171cc_b6b9_11eb_a087_1d734e7952carow4_col3\" class=\"data row4 col3\" >en</td>\n",
       "                        <td id=\"T_1cb171cc_b6b9_11eb_a087_1d734e7952carow4_col4\" class=\"data row4 col4\" >0</td>\n",
       "                        <td id=\"T_1cb171cc_b6b9_11eb_a087_1d734e7952carow4_col5\" class=\"data row4 col5\" >236847</td>\n",
       "                        <td id=\"T_1cb171cc_b6b9_11eb_a087_1d734e7952carow4_col6\" class=\"data row4 col6\" >None</td>\n",
       "                        <td id=\"T_1cb171cc_b6b9_11eb_a087_1d734e7952carow4_col7\" class=\"data row4 col7\" >707348811547541504</td>\n",
       "                        <td id=\"T_1cb171cc_b6b9_11eb_a087_1d734e7952carow4_col8\" class=\"data row4 col8\" >None</td>\n",
       "                        <td id=\"T_1cb171cc_b6b9_11eb_a087_1d734e7952carow4_col9\" class=\"data row4 col9\" >None</td>\n",
       "                        <td id=\"T_1cb171cc_b6b9_11eb_a087_1d734e7952carow4_col10\" class=\"data row4 col10\" >08/03/2021 00:22:31</td>\n",
       "            </tr>\n",
       "            <tr>\n",
       "                        <th id=\"T_1cb171cc_b6b9_11eb_a087_1d734e7952calevel0_row5\" class=\"row_heading level0 row5\" >74240</th>\n",
       "                        <td id=\"T_1cb171cc_b6b9_11eb_a087_1d734e7952carow5_col0\" class=\"data row5 col0\" >1368717882964721669</td>\n",
       "                        <td id=\"T_1cb171cc_b6b9_11eb_a087_1d734e7952carow5_col1\" class=\"data row5 col1\" >xsilkylily</td>\n",
       "                        <td id=\"T_1cb171cc_b6b9_11eb_a087_1d734e7952carow5_col2\" class=\"data row5 col2\" >Happy International Women's Day. I hope it was a wonderful one. H</td>\n",
       "                        <td id=\"T_1cb171cc_b6b9_11eb_a087_1d734e7952carow5_col3\" class=\"data row5 col3\" >en</td>\n",
       "                        <td id=\"T_1cb171cc_b6b9_11eb_a087_1d734e7952carow5_col4\" class=\"data row5 col4\" >0</td>\n",
       "                        <td id=\"T_1cb171cc_b6b9_11eb_a087_1d734e7952carow5_col5\" class=\"data row5 col5\" >236847</td>\n",
       "                        <td id=\"T_1cb171cc_b6b9_11eb_a087_1d734e7952carow5_col6\" class=\"data row5 col6\" >None</td>\n",
       "                        <td id=\"T_1cb171cc_b6b9_11eb_a087_1d734e7952carow5_col7\" class=\"data row5 col7\" >707348811547541504</td>\n",
       "                        <td id=\"T_1cb171cc_b6b9_11eb_a087_1d734e7952carow5_col8\" class=\"data row5 col8\" >None</td>\n",
       "                        <td id=\"T_1cb171cc_b6b9_11eb_a087_1d734e7952carow5_col9\" class=\"data row5 col9\" >None</td>\n",
       "                        <td id=\"T_1cb171cc_b6b9_11eb_a087_1d734e7952carow5_col10\" class=\"data row5 col10\" >08/03/2021 00:19:07</td>\n",
       "            </tr>\n",
       "            <tr>\n",
       "                        <th id=\"T_1cb171cc_b6b9_11eb_a087_1d734e7952calevel0_row6\" class=\"row_heading level0 row6\" >65216</th>\n",
       "                        <td id=\"T_1cb171cc_b6b9_11eb_a087_1d734e7952carow6_col0\" class=\"data row6 col0\" >1368708766766673923</td>\n",
       "                        <td id=\"T_1cb171cc_b6b9_11eb_a087_1d734e7952carow6_col1\" class=\"data row6 col1\" >m4vvkea</td>\n",
       "                        <td id=\"T_1cb171cc_b6b9_11eb_a087_1d734e7952carow6_col2\" class=\"data row6 col2\" >Happy International Women's Day. I hope it was a wonderful one. H</td>\n",
       "                        <td id=\"T_1cb171cc_b6b9_11eb_a087_1d734e7952carow6_col3\" class=\"data row6 col3\" >en</td>\n",
       "                        <td id=\"T_1cb171cc_b6b9_11eb_a087_1d734e7952carow6_col4\" class=\"data row6 col4\" >0</td>\n",
       "                        <td id=\"T_1cb171cc_b6b9_11eb_a087_1d734e7952carow6_col5\" class=\"data row6 col5\" >236847</td>\n",
       "                        <td id=\"T_1cb171cc_b6b9_11eb_a087_1d734e7952carow6_col6\" class=\"data row6 col6\" >None</td>\n",
       "                        <td id=\"T_1cb171cc_b6b9_11eb_a087_1d734e7952carow6_col7\" class=\"data row6 col7\" >707348811547541504</td>\n",
       "                        <td id=\"T_1cb171cc_b6b9_11eb_a087_1d734e7952carow6_col8\" class=\"data row6 col8\" >None</td>\n",
       "                        <td id=\"T_1cb171cc_b6b9_11eb_a087_1d734e7952carow6_col9\" class=\"data row6 col9\" >None</td>\n",
       "                        <td id=\"T_1cb171cc_b6b9_11eb_a087_1d734e7952carow6_col10\" class=\"data row6 col10\" >07/03/2021 23:42:54</td>\n",
       "            </tr>\n",
       "            <tr>\n",
       "                        <th id=\"T_1cb171cc_b6b9_11eb_a087_1d734e7952calevel0_row7\" class=\"row_heading level0 row7\" >67035</th>\n",
       "                        <td id=\"T_1cb171cc_b6b9_11eb_a087_1d734e7952carow7_col0\" class=\"data row7 col0\" >1368710637921202179</td>\n",
       "                        <td id=\"T_1cb171cc_b6b9_11eb_a087_1d734e7952carow7_col1\" class=\"data row7 col1\" >zosiaye1</td>\n",
       "                        <td id=\"T_1cb171cc_b6b9_11eb_a087_1d734e7952carow7_col2\" class=\"data row7 col2\" >Happy International Women's Day. I hope it was a wonderful one. H</td>\n",
       "                        <td id=\"T_1cb171cc_b6b9_11eb_a087_1d734e7952carow7_col3\" class=\"data row7 col3\" >en</td>\n",
       "                        <td id=\"T_1cb171cc_b6b9_11eb_a087_1d734e7952carow7_col4\" class=\"data row7 col4\" >0</td>\n",
       "                        <td id=\"T_1cb171cc_b6b9_11eb_a087_1d734e7952carow7_col5\" class=\"data row7 col5\" >236847</td>\n",
       "                        <td id=\"T_1cb171cc_b6b9_11eb_a087_1d734e7952carow7_col6\" class=\"data row7 col6\" >None</td>\n",
       "                        <td id=\"T_1cb171cc_b6b9_11eb_a087_1d734e7952carow7_col7\" class=\"data row7 col7\" >707348811547541504</td>\n",
       "                        <td id=\"T_1cb171cc_b6b9_11eb_a087_1d734e7952carow7_col8\" class=\"data row7 col8\" >None</td>\n",
       "                        <td id=\"T_1cb171cc_b6b9_11eb_a087_1d734e7952carow7_col9\" class=\"data row7 col9\" >None</td>\n",
       "                        <td id=\"T_1cb171cc_b6b9_11eb_a087_1d734e7952carow7_col10\" class=\"data row7 col10\" >07/03/2021 23:50:20</td>\n",
       "            </tr>\n",
       "            <tr>\n",
       "                        <th id=\"T_1cb171cc_b6b9_11eb_a087_1d734e7952calevel0_row8\" class=\"row_heading level0 row8\" >65639</th>\n",
       "                        <td id=\"T_1cb171cc_b6b9_11eb_a087_1d734e7952carow8_col0\" class=\"data row8 col0\" >1368709232846110721</td>\n",
       "                        <td id=\"T_1cb171cc_b6b9_11eb_a087_1d734e7952carow8_col1\" class=\"data row8 col1\" >Marysia21303</td>\n",
       "                        <td id=\"T_1cb171cc_b6b9_11eb_a087_1d734e7952carow8_col2\" class=\"data row8 col2\" >Happy International Women's Day. I hope it was a wonderful one. H</td>\n",
       "                        <td id=\"T_1cb171cc_b6b9_11eb_a087_1d734e7952carow8_col3\" class=\"data row8 col3\" >en</td>\n",
       "                        <td id=\"T_1cb171cc_b6b9_11eb_a087_1d734e7952carow8_col4\" class=\"data row8 col4\" >0</td>\n",
       "                        <td id=\"T_1cb171cc_b6b9_11eb_a087_1d734e7952carow8_col5\" class=\"data row8 col5\" >236847</td>\n",
       "                        <td id=\"T_1cb171cc_b6b9_11eb_a087_1d734e7952carow8_col6\" class=\"data row8 col6\" >None</td>\n",
       "                        <td id=\"T_1cb171cc_b6b9_11eb_a087_1d734e7952carow8_col7\" class=\"data row8 col7\" >707348811547541504</td>\n",
       "                        <td id=\"T_1cb171cc_b6b9_11eb_a087_1d734e7952carow8_col8\" class=\"data row8 col8\" >None</td>\n",
       "                        <td id=\"T_1cb171cc_b6b9_11eb_a087_1d734e7952carow8_col9\" class=\"data row8 col9\" >None</td>\n",
       "                        <td id=\"T_1cb171cc_b6b9_11eb_a087_1d734e7952carow8_col10\" class=\"data row8 col10\" >07/03/2021 23:44:45</td>\n",
       "            </tr>\n",
       "            <tr>\n",
       "                        <th id=\"T_1cb171cc_b6b9_11eb_a087_1d734e7952calevel0_row9\" class=\"row_heading level0 row9\" >67072</th>\n",
       "                        <td id=\"T_1cb171cc_b6b9_11eb_a087_1d734e7952carow9_col0\" class=\"data row9 col0\" >1368710603116847106</td>\n",
       "                        <td id=\"T_1cb171cc_b6b9_11eb_a087_1d734e7952carow9_col1\" class=\"data row9 col1\" >F1NELI1NE</td>\n",
       "                        <td id=\"T_1cb171cc_b6b9_11eb_a087_1d734e7952carow9_col2\" class=\"data row9 col2\" >Happy International Women's Day. I hope it was a wonderful one. H</td>\n",
       "                        <td id=\"T_1cb171cc_b6b9_11eb_a087_1d734e7952carow9_col3\" class=\"data row9 col3\" >en</td>\n",
       "                        <td id=\"T_1cb171cc_b6b9_11eb_a087_1d734e7952carow9_col4\" class=\"data row9 col4\" >0</td>\n",
       "                        <td id=\"T_1cb171cc_b6b9_11eb_a087_1d734e7952carow9_col5\" class=\"data row9 col5\" >236847</td>\n",
       "                        <td id=\"T_1cb171cc_b6b9_11eb_a087_1d734e7952carow9_col6\" class=\"data row9 col6\" >None</td>\n",
       "                        <td id=\"T_1cb171cc_b6b9_11eb_a087_1d734e7952carow9_col7\" class=\"data row9 col7\" >707348811547541504</td>\n",
       "                        <td id=\"T_1cb171cc_b6b9_11eb_a087_1d734e7952carow9_col8\" class=\"data row9 col8\" >None</td>\n",
       "                        <td id=\"T_1cb171cc_b6b9_11eb_a087_1d734e7952carow9_col9\" class=\"data row9 col9\" >None</td>\n",
       "                        <td id=\"T_1cb171cc_b6b9_11eb_a087_1d734e7952carow9_col10\" class=\"data row9 col10\" >07/03/2021 23:50:11</td>\n",
       "            </tr>\n",
       "    </tbody></table>"
      ],
      "text/plain": [
       "<pandas.io.formats.style.Styler at 0x7fb47899d590>"
      ]
     },
     "execution_count": 57,
     "metadata": {},
     "output_type": "execute_result"
    }
   ],
   "source": [
    "retweets_df.iloc[0:10].style.applymap(highlight_cols, subset=pd.IndexSlice[:, ['num_retweets']])"
   ]
  },
  {
   "cell_type": "code",
   "execution_count": 59,
   "metadata": {
    "ExecuteTime": {
     "end_time": "2021-05-17T02:42:33.661563Z",
     "start_time": "2021-05-17T02:40:08.827546Z"
    }
   },
   "outputs": [],
   "source": [
    "retweets_df.to_parquet('retweetsiwd2021.parquet.gzip', compression='gzip')"
   ]
  },
  {
   "cell_type": "code",
   "execution_count": 60,
   "metadata": {
    "ExecuteTime": {
     "end_time": "2021-05-17T03:09:41.845505Z",
     "start_time": "2021-05-17T03:09:39.748785Z"
    }
   },
   "outputs": [
    {
     "name": "stdout",
     "output_type": "stream",
     "text": [
      "Número de tweets que são retweets: 4180512\n"
     ]
    }
   ],
   "source": [
    "num_retweets = tweets_df[tweets_df['retweeted_status_id'].notnull()].shape[0]\n",
    "print(f'Número de tweets que são retweets: {num_retweets}')"
   ]
  },
  {
   "cell_type": "markdown",
   "metadata": {},
   "source": [
    "#### Ranking retweets"
   ]
  },
  {
   "cell_type": "code",
   "execution_count": 61,
   "metadata": {
    "ExecuteTime": {
     "end_time": "2021-05-17T03:09:55.425351Z",
     "start_time": "2021-05-17T03:09:54.138927Z"
    }
   },
   "outputs": [
    {
     "data": {
      "text/html": [
       "<style  type=\"text/css\" >\n",
       "    #T_5ad93c88_b6bd_11eb_a087_1d734e7952carow0_col5 {\n",
       "            background-color:  #D3D3D3;\n",
       "        }    #T_5ad93c88_b6bd_11eb_a087_1d734e7952carow1_col5 {\n",
       "            background-color:  #D3D3D3;\n",
       "        }    #T_5ad93c88_b6bd_11eb_a087_1d734e7952carow2_col5 {\n",
       "            background-color:  #D3D3D3;\n",
       "        }    #T_5ad93c88_b6bd_11eb_a087_1d734e7952carow3_col5 {\n",
       "            background-color:  #D3D3D3;\n",
       "        }    #T_5ad93c88_b6bd_11eb_a087_1d734e7952carow4_col5 {\n",
       "            background-color:  #D3D3D3;\n",
       "        }    #T_5ad93c88_b6bd_11eb_a087_1d734e7952carow5_col5 {\n",
       "            background-color:  #D3D3D3;\n",
       "        }    #T_5ad93c88_b6bd_11eb_a087_1d734e7952carow6_col5 {\n",
       "            background-color:  #D3D3D3;\n",
       "        }    #T_5ad93c88_b6bd_11eb_a087_1d734e7952carow7_col5 {\n",
       "            background-color:  #D3D3D3;\n",
       "        }    #T_5ad93c88_b6bd_11eb_a087_1d734e7952carow8_col5 {\n",
       "            background-color:  #D3D3D3;\n",
       "        }    #T_5ad93c88_b6bd_11eb_a087_1d734e7952carow9_col5 {\n",
       "            background-color:  #D3D3D3;\n",
       "        }</style><table id=\"T_5ad93c88_b6bd_11eb_a087_1d734e7952ca\" ><thead>    <tr>        <th class=\"blank level0\" ></th>        <th class=\"col_heading level0 col0\" >tweet_id</th>        <th class=\"col_heading level0 col1\" >author</th>        <th class=\"col_heading level0 col2\" >tweet_text</th>        <th class=\"col_heading level0 col3\" >language</th>        <th class=\"col_heading level0 col4\" >num_likes</th>        <th class=\"col_heading level0 col5\" >num_retweets</th>        <th class=\"col_heading level0 col6\" >quoted_status_id</th>        <th class=\"col_heading level0 col7\" >retweeted_status_id</th>        <th class=\"col_heading level0 col8\" >reply_to_user</th>        <th class=\"col_heading level0 col9\" >reply_to_status</th>        <th class=\"col_heading level0 col10\" >date</th>    </tr></thead><tbody>\n",
       "                <tr>\n",
       "                        <th id=\"T_5ad93c88_b6bd_11eb_a087_1d734e7952calevel0_row0\" class=\"row_heading level0 row0\" >3045115</th>\n",
       "                        <td id=\"T_5ad93c88_b6bd_11eb_a087_1d734e7952carow0_col0\" class=\"data row0 col0\" >1368763578908557317</td>\n",
       "                        <td id=\"T_5ad93c88_b6bd_11eb_a087_1d734e7952carow0_col1\" class=\"data row0 col1\" >gh0st_teeth</td>\n",
       "                        <td id=\"T_5ad93c88_b6bd_11eb_a087_1d734e7952carow0_col2\" class=\"data row0 col2\" >I wish all trans girls who aren't able to come out for whatever reason a very pleasant international women's day</td>\n",
       "                        <td id=\"T_5ad93c88_b6bd_11eb_a087_1d734e7952carow0_col3\" class=\"data row0 col3\" >en</td>\n",
       "                        <td id=\"T_5ad93c88_b6bd_11eb_a087_1d734e7952carow0_col4\" class=\"data row0 col4\" >333933</td>\n",
       "                        <td id=\"T_5ad93c88_b6bd_11eb_a087_1d734e7952carow0_col5\" class=\"data row0 col5\" >93937</td>\n",
       "                        <td id=\"T_5ad93c88_b6bd_11eb_a087_1d734e7952carow0_col6\" class=\"data row0 col6\" >None</td>\n",
       "                        <td id=\"T_5ad93c88_b6bd_11eb_a087_1d734e7952carow0_col7\" class=\"data row0 col7\" >None</td>\n",
       "                        <td id=\"T_5ad93c88_b6bd_11eb_a087_1d734e7952carow0_col8\" class=\"data row0 col8\" >None</td>\n",
       "                        <td id=\"T_5ad93c88_b6bd_11eb_a087_1d734e7952carow0_col9\" class=\"data row0 col9\" >None</td>\n",
       "                        <td id=\"T_5ad93c88_b6bd_11eb_a087_1d734e7952carow0_col10\" class=\"data row0 col10\" >08/03/2021 03:20:42</td>\n",
       "            </tr>\n",
       "            <tr>\n",
       "                        <th id=\"T_5ad93c88_b6bd_11eb_a087_1d734e7952calevel0_row1\" class=\"row_heading level0 row1\" >382839</th>\n",
       "                        <td id=\"T_5ad93c88_b6bd_11eb_a087_1d734e7952carow1_col0\" class=\"data row1 col0\" >1368804908443394048</td>\n",
       "                        <td id=\"T_5ad93c88_b6bd_11eb_a087_1d734e7952carow1_col1\" class=\"data row1 col1\" >choi_bts2</td>\n",
       "                        <td id=\"T_5ad93c88_b6bd_11eb_a087_1d734e7952carow1_col2\" class=\"data row1 col2\" >I'm happy because I'm a woman. Happy International women's Day!!#InternationalWomensDay \n",
       "#세계여성의날 #WeAreWomen</td>\n",
       "                        <td id=\"T_5ad93c88_b6bd_11eb_a087_1d734e7952carow1_col3\" class=\"data row1 col3\" >en</td>\n",
       "                        <td id=\"T_5ad93c88_b6bd_11eb_a087_1d734e7952carow1_col4\" class=\"data row1 col4\" >53522</td>\n",
       "                        <td id=\"T_5ad93c88_b6bd_11eb_a087_1d734e7952carow1_col5\" class=\"data row1 col5\" >15730</td>\n",
       "                        <td id=\"T_5ad93c88_b6bd_11eb_a087_1d734e7952carow1_col6\" class=\"data row1 col6\" >None</td>\n",
       "                        <td id=\"T_5ad93c88_b6bd_11eb_a087_1d734e7952carow1_col7\" class=\"data row1 col7\" >None</td>\n",
       "                        <td id=\"T_5ad93c88_b6bd_11eb_a087_1d734e7952carow1_col8\" class=\"data row1 col8\" >None</td>\n",
       "                        <td id=\"T_5ad93c88_b6bd_11eb_a087_1d734e7952carow1_col9\" class=\"data row1 col9\" >None</td>\n",
       "                        <td id=\"T_5ad93c88_b6bd_11eb_a087_1d734e7952carow1_col10\" class=\"data row1 col10\" >08/03/2021 06:04:55</td>\n",
       "            </tr>\n",
       "            <tr>\n",
       "                        <th id=\"T_5ad93c88_b6bd_11eb_a087_1d734e7952calevel0_row2\" class=\"row_heading level0 row2\" >4282609</th>\n",
       "                        <td id=\"T_5ad93c88_b6bd_11eb_a087_1d734e7952carow2_col0\" class=\"data row2 col0\" >1369033694132891649</td>\n",
       "                        <td id=\"T_5ad93c88_b6bd_11eb_a087_1d734e7952carow2_col1\" class=\"data row2 col1\" >Ashton5SOS</td>\n",
       "                        <td id=\"T_5ad93c88_b6bd_11eb_a087_1d734e7952carow2_col2\" class=\"data row2 col2\" >Have a wonderful international woman’s day. God is a woman! Thank you for the teachings, the guidance, the abundance of love and care, the strength and the ever growing abundance of influential woman on Mother Earth. Thank you to the mother’s ❤️</td>\n",
       "                        <td id=\"T_5ad93c88_b6bd_11eb_a087_1d734e7952carow2_col3\" class=\"data row2 col3\" >en</td>\n",
       "                        <td id=\"T_5ad93c88_b6bd_11eb_a087_1d734e7952carow2_col4\" class=\"data row2 col4\" >64396</td>\n",
       "                        <td id=\"T_5ad93c88_b6bd_11eb_a087_1d734e7952carow2_col5\" class=\"data row2 col5\" >12710</td>\n",
       "                        <td id=\"T_5ad93c88_b6bd_11eb_a087_1d734e7952carow2_col6\" class=\"data row2 col6\" >None</td>\n",
       "                        <td id=\"T_5ad93c88_b6bd_11eb_a087_1d734e7952carow2_col7\" class=\"data row2 col7\" >None</td>\n",
       "                        <td id=\"T_5ad93c88_b6bd_11eb_a087_1d734e7952carow2_col8\" class=\"data row2 col8\" >None</td>\n",
       "                        <td id=\"T_5ad93c88_b6bd_11eb_a087_1d734e7952carow2_col9\" class=\"data row2 col9\" >None</td>\n",
       "                        <td id=\"T_5ad93c88_b6bd_11eb_a087_1d734e7952carow2_col10\" class=\"data row2 col10\" >08/03/2021 21:14:02</td>\n",
       "            </tr>\n",
       "            <tr>\n",
       "                        <th id=\"T_5ad93c88_b6bd_11eb_a087_1d734e7952calevel0_row3\" class=\"row_heading level0 row3\" >465763</th>\n",
       "                        <td id=\"T_5ad93c88_b6bd_11eb_a087_1d734e7952carow3_col0\" class=\"data row3 col0\" >1368818832454877184</td>\n",
       "                        <td id=\"T_5ad93c88_b6bd_11eb_a087_1d734e7952carow3_col1\" class=\"data row3 col1\" >CBSNews</td>\n",
       "                        <td id=\"T_5ad93c88_b6bd_11eb_a087_1d734e7952carow3_col2\" class=\"data row3 col2\" >WATCH: Women turned a metal barrier — erected around Mexico’s National Palace ahead of International Women's Day — into a memorial for victims of femicide and rape. https://t.co/mFkDbriNo5</td>\n",
       "                        <td id=\"T_5ad93c88_b6bd_11eb_a087_1d734e7952carow3_col3\" class=\"data row3 col3\" >en</td>\n",
       "                        <td id=\"T_5ad93c88_b6bd_11eb_a087_1d734e7952carow3_col4\" class=\"data row3 col4\" >26821</td>\n",
       "                        <td id=\"T_5ad93c88_b6bd_11eb_a087_1d734e7952carow3_col5\" class=\"data row3 col5\" >12094</td>\n",
       "                        <td id=\"T_5ad93c88_b6bd_11eb_a087_1d734e7952carow3_col6\" class=\"data row3 col6\" >None</td>\n",
       "                        <td id=\"T_5ad93c88_b6bd_11eb_a087_1d734e7952carow3_col7\" class=\"data row3 col7\" >None</td>\n",
       "                        <td id=\"T_5ad93c88_b6bd_11eb_a087_1d734e7952carow3_col8\" class=\"data row3 col8\" >None</td>\n",
       "                        <td id=\"T_5ad93c88_b6bd_11eb_a087_1d734e7952carow3_col9\" class=\"data row3 col9\" >None</td>\n",
       "                        <td id=\"T_5ad93c88_b6bd_11eb_a087_1d734e7952carow3_col10\" class=\"data row3 col10\" >08/03/2021 07:00:15</td>\n",
       "            </tr>\n",
       "            <tr>\n",
       "                        <th id=\"T_5ad93c88_b6bd_11eb_a087_1d734e7952calevel0_row4\" class=\"row_heading level0 row4\" >3657962</th>\n",
       "                        <td id=\"T_5ad93c88_b6bd_11eb_a087_1d734e7952carow4_col0\" class=\"data row4 col0\" >1368910716862947330</td>\n",
       "                        <td id=\"T_5ad93c88_b6bd_11eb_a087_1d734e7952carow4_col1\" class=\"data row4 col1\" >wizkidayo</td>\n",
       "                        <td id=\"T_5ad93c88_b6bd_11eb_a087_1d734e7952carow4_col2\" class=\"data row4 col2\" >#InternationalWomensDay</td>\n",
       "                        <td id=\"T_5ad93c88_b6bd_11eb_a087_1d734e7952carow4_col3\" class=\"data row4 col3\" >und</td>\n",
       "                        <td id=\"T_5ad93c88_b6bd_11eb_a087_1d734e7952carow4_col4\" class=\"data row4 col4\" >60783</td>\n",
       "                        <td id=\"T_5ad93c88_b6bd_11eb_a087_1d734e7952carow4_col5\" class=\"data row4 col5\" >11732</td>\n",
       "                        <td id=\"T_5ad93c88_b6bd_11eb_a087_1d734e7952carow4_col6\" class=\"data row4 col6\" >None</td>\n",
       "                        <td id=\"T_5ad93c88_b6bd_11eb_a087_1d734e7952carow4_col7\" class=\"data row4 col7\" >None</td>\n",
       "                        <td id=\"T_5ad93c88_b6bd_11eb_a087_1d734e7952carow4_col8\" class=\"data row4 col8\" >None</td>\n",
       "                        <td id=\"T_5ad93c88_b6bd_11eb_a087_1d734e7952carow4_col9\" class=\"data row4 col9\" >None</td>\n",
       "                        <td id=\"T_5ad93c88_b6bd_11eb_a087_1d734e7952carow4_col10\" class=\"data row4 col10\" >08/03/2021 13:05:22</td>\n",
       "            </tr>\n",
       "            <tr>\n",
       "                        <th id=\"T_5ad93c88_b6bd_11eb_a087_1d734e7952calevel0_row5\" class=\"row_heading level0 row5\" >1026250</th>\n",
       "                        <td id=\"T_5ad93c88_b6bd_11eb_a087_1d734e7952carow5_col0\" class=\"data row5 col0\" >1368921535356997633</td>\n",
       "                        <td id=\"T_5ad93c88_b6bd_11eb_a087_1d734e7952carow5_col1\" class=\"data row5 col1\" >annetdonahue</td>\n",
       "                        <td id=\"T_5ad93c88_b6bd_11eb_a087_1d734e7952carow5_col2\" class=\"data row5 col2\" >happy international women's day https://t.co/g7VL0Wjzwd</td>\n",
       "                        <td id=\"T_5ad93c88_b6bd_11eb_a087_1d734e7952carow5_col3\" class=\"data row5 col3\" >en</td>\n",
       "                        <td id=\"T_5ad93c88_b6bd_11eb_a087_1d734e7952carow5_col4\" class=\"data row5 col4\" >54788</td>\n",
       "                        <td id=\"T_5ad93c88_b6bd_11eb_a087_1d734e7952carow5_col5\" class=\"data row5 col5\" >10708</td>\n",
       "                        <td id=\"T_5ad93c88_b6bd_11eb_a087_1d734e7952carow5_col6\" class=\"data row5 col6\" >None</td>\n",
       "                        <td id=\"T_5ad93c88_b6bd_11eb_a087_1d734e7952carow5_col7\" class=\"data row5 col7\" >None</td>\n",
       "                        <td id=\"T_5ad93c88_b6bd_11eb_a087_1d734e7952carow5_col8\" class=\"data row5 col8\" >None</td>\n",
       "                        <td id=\"T_5ad93c88_b6bd_11eb_a087_1d734e7952carow5_col9\" class=\"data row5 col9\" >None</td>\n",
       "                        <td id=\"T_5ad93c88_b6bd_11eb_a087_1d734e7952carow5_col10\" class=\"data row5 col10\" >08/03/2021 13:48:22</td>\n",
       "            </tr>\n",
       "            <tr>\n",
       "                        <th id=\"T_5ad93c88_b6bd_11eb_a087_1d734e7952calevel0_row6\" class=\"row_heading level0 row6\" >956534</th>\n",
       "                        <td id=\"T_5ad93c88_b6bd_11eb_a087_1d734e7952carow6_col0\" class=\"data row6 col0\" >1368911572870045706</td>\n",
       "                        <td id=\"T_5ad93c88_b6bd_11eb_a087_1d734e7952carow6_col1\" class=\"data row6 col1\" >FLOTUS</td>\n",
       "                        <td id=\"T_5ad93c88_b6bd_11eb_a087_1d734e7952carow6_col2\" class=\"data row6 col2\" >On this #InternationalWomensDay,  we celebrate the resilience and courage of women everywhere. \n",
       "\n",
       "“Each time a woman stands up for herself...she stands up for all women.” - Maya Angelou</td>\n",
       "                        <td id=\"T_5ad93c88_b6bd_11eb_a087_1d734e7952carow6_col3\" class=\"data row6 col3\" >en</td>\n",
       "                        <td id=\"T_5ad93c88_b6bd_11eb_a087_1d734e7952carow6_col4\" class=\"data row6 col4\" >57830</td>\n",
       "                        <td id=\"T_5ad93c88_b6bd_11eb_a087_1d734e7952carow6_col5\" class=\"data row6 col5\" >10003</td>\n",
       "                        <td id=\"T_5ad93c88_b6bd_11eb_a087_1d734e7952carow6_col6\" class=\"data row6 col6\" >None</td>\n",
       "                        <td id=\"T_5ad93c88_b6bd_11eb_a087_1d734e7952carow6_col7\" class=\"data row6 col7\" >None</td>\n",
       "                        <td id=\"T_5ad93c88_b6bd_11eb_a087_1d734e7952carow6_col8\" class=\"data row6 col8\" >None</td>\n",
       "                        <td id=\"T_5ad93c88_b6bd_11eb_a087_1d734e7952carow6_col9\" class=\"data row6 col9\" >None</td>\n",
       "                        <td id=\"T_5ad93c88_b6bd_11eb_a087_1d734e7952carow6_col10\" class=\"data row6 col10\" >08/03/2021 13:08:46</td>\n",
       "            </tr>\n",
       "            <tr>\n",
       "                        <th id=\"T_5ad93c88_b6bd_11eb_a087_1d734e7952calevel0_row7\" class=\"row_heading level0 row7\" >158038</th>\n",
       "                        <td id=\"T_5ad93c88_b6bd_11eb_a087_1d734e7952carow7_col0\" class=\"data row7 col0\" >1368765596242829312</td>\n",
       "                        <td id=\"T_5ad93c88_b6bd_11eb_a087_1d734e7952carow7_col1\" class=\"data row7 col1\" >RahulGandhi</td>\n",
       "                        <td id=\"T_5ad93c88_b6bd_11eb_a087_1d734e7952carow7_col2\" class=\"data row7 col2\" >Women are capable of creating history and future with formidable grace.\n",
       "Don’t let anyone stop you.\n",
       "\n",
       "#InternationalWomensDay</td>\n",
       "                        <td id=\"T_5ad93c88_b6bd_11eb_a087_1d734e7952carow7_col3\" class=\"data row7 col3\" >en</td>\n",
       "                        <td id=\"T_5ad93c88_b6bd_11eb_a087_1d734e7952carow7_col4\" class=\"data row7 col4\" >48016</td>\n",
       "                        <td id=\"T_5ad93c88_b6bd_11eb_a087_1d734e7952carow7_col5\" class=\"data row7 col5\" >9950</td>\n",
       "                        <td id=\"T_5ad93c88_b6bd_11eb_a087_1d734e7952carow7_col6\" class=\"data row7 col6\" >None</td>\n",
       "                        <td id=\"T_5ad93c88_b6bd_11eb_a087_1d734e7952carow7_col7\" class=\"data row7 col7\" >None</td>\n",
       "                        <td id=\"T_5ad93c88_b6bd_11eb_a087_1d734e7952carow7_col8\" class=\"data row7 col8\" >None</td>\n",
       "                        <td id=\"T_5ad93c88_b6bd_11eb_a087_1d734e7952carow7_col9\" class=\"data row7 col9\" >None</td>\n",
       "                        <td id=\"T_5ad93c88_b6bd_11eb_a087_1d734e7952carow7_col10\" class=\"data row7 col10\" >08/03/2021 03:28:43</td>\n",
       "            </tr>\n",
       "            <tr>\n",
       "                        <th id=\"T_5ad93c88_b6bd_11eb_a087_1d734e7952calevel0_row8\" class=\"row_heading level0 row8\" >3403717</th>\n",
       "                        <td id=\"T_5ad93c88_b6bd_11eb_a087_1d734e7952carow8_col0\" class=\"data row8 col0\" >1368836774995320832</td>\n",
       "                        <td id=\"T_5ad93c88_b6bd_11eb_a087_1d734e7952carow8_col1\" class=\"data row8 col1\" >freya_cole</td>\n",
       "                        <td id=\"T_5ad93c88_b6bd_11eb_a087_1d734e7952carow8_col2\" class=\"data row8 col2\" >On #InternationalWomensDay protestors in Myanmar are using the power of women’s traditional clothing. The graphic reads “Our Longyi (Htamein), Our Flag, Our Victory'. There’s superstition in Myanmar that if men walk underneath a Htamein it will bring bad luck\n",
       "Pictures: @cvdom2021 https://t.co/vFQJC67V0P</td>\n",
       "                        <td id=\"T_5ad93c88_b6bd_11eb_a087_1d734e7952carow8_col3\" class=\"data row8 col3\" >en</td>\n",
       "                        <td id=\"T_5ad93c88_b6bd_11eb_a087_1d734e7952carow8_col4\" class=\"data row8 col4\" >9620</td>\n",
       "                        <td id=\"T_5ad93c88_b6bd_11eb_a087_1d734e7952carow8_col5\" class=\"data row8 col5\" >9475</td>\n",
       "                        <td id=\"T_5ad93c88_b6bd_11eb_a087_1d734e7952carow8_col6\" class=\"data row8 col6\" >None</td>\n",
       "                        <td id=\"T_5ad93c88_b6bd_11eb_a087_1d734e7952carow8_col7\" class=\"data row8 col7\" >None</td>\n",
       "                        <td id=\"T_5ad93c88_b6bd_11eb_a087_1d734e7952carow8_col8\" class=\"data row8 col8\" >None</td>\n",
       "                        <td id=\"T_5ad93c88_b6bd_11eb_a087_1d734e7952carow8_col9\" class=\"data row8 col9\" >None</td>\n",
       "                        <td id=\"T_5ad93c88_b6bd_11eb_a087_1d734e7952carow8_col10\" class=\"data row8 col10\" >08/03/2021 08:11:33</td>\n",
       "            </tr>\n",
       "            <tr>\n",
       "                        <th id=\"T_5ad93c88_b6bd_11eb_a087_1d734e7952calevel0_row9\" class=\"row_heading level0 row9\" >115100</th>\n",
       "                        <td id=\"T_5ad93c88_b6bd_11eb_a087_1d734e7952carow9_col0\" class=\"data row9 col0\" >1368751777655312387</td>\n",
       "                        <td id=\"T_5ad93c88_b6bd_11eb_a087_1d734e7952carow9_col1\" class=\"data row9 col1\" >narendramodi</td>\n",
       "                        <td id=\"T_5ad93c88_b6bd_11eb_a087_1d734e7952carow9_col2\" class=\"data row9 col2\" >Saluting our indomitable #NariShakti on International Women's Day! India takes pride in the many accomplishments of the women of our nation. It is our Government’s honour to be getting the opportunity to work towards furthering women empowerment across a wide range of sectors.</td>\n",
       "                        <td id=\"T_5ad93c88_b6bd_11eb_a087_1d734e7952carow9_col3\" class=\"data row9 col3\" >en</td>\n",
       "                        <td id=\"T_5ad93c88_b6bd_11eb_a087_1d734e7952carow9_col4\" class=\"data row9 col4\" >57014</td>\n",
       "                        <td id=\"T_5ad93c88_b6bd_11eb_a087_1d734e7952carow9_col5\" class=\"data row9 col5\" >9108</td>\n",
       "                        <td id=\"T_5ad93c88_b6bd_11eb_a087_1d734e7952carow9_col6\" class=\"data row9 col6\" >None</td>\n",
       "                        <td id=\"T_5ad93c88_b6bd_11eb_a087_1d734e7952carow9_col7\" class=\"data row9 col7\" >None</td>\n",
       "                        <td id=\"T_5ad93c88_b6bd_11eb_a087_1d734e7952carow9_col8\" class=\"data row9 col8\" >None</td>\n",
       "                        <td id=\"T_5ad93c88_b6bd_11eb_a087_1d734e7952carow9_col9\" class=\"data row9 col9\" >None</td>\n",
       "                        <td id=\"T_5ad93c88_b6bd_11eb_a087_1d734e7952carow9_col10\" class=\"data row9 col10\" >08/03/2021 02:33:48</td>\n",
       "            </tr>\n",
       "    </tbody></table>"
      ],
      "text/plain": [
       "<pandas.io.formats.style.Styler at 0x7fb4788ddb90>"
      ]
     },
     "execution_count": 61,
     "metadata": {},
     "output_type": "execute_result"
    }
   ],
   "source": [
    "retweets_df[retweets_df['retweeted_status_id'].isnull()].iloc[0:10].style.applymap(highlight_cols, subset=pd.IndexSlice[:, ['num_retweets']])"
   ]
  },
  {
   "cell_type": "markdown",
   "metadata": {},
   "source": [
    "### Quotes"
   ]
  },
  {
   "cell_type": "code",
   "execution_count": 62,
   "metadata": {
    "ExecuteTime": {
     "end_time": "2021-05-17T03:10:08.934529Z",
     "start_time": "2021-05-17T03:10:08.332960Z"
    }
   },
   "outputs": [
    {
     "name": "stdout",
     "output_type": "stream",
     "text": [
      "Número de tweets que são quotes: 787555\n"
     ]
    }
   ],
   "source": [
    "num_quotes = tweets_df[tweets_df['quoted_status_id'].notnull()].shape[0]\n",
    "print(f'Número de tweets que são quotes: {num_quotes}')"
   ]
  },
  {
   "cell_type": "code",
   "execution_count": 63,
   "metadata": {
    "ExecuteTime": {
     "end_time": "2021-05-17T03:10:11.965590Z",
     "start_time": "2021-05-17T03:10:11.468568Z"
    }
   },
   "outputs": [
    {
     "data": {
      "text/html": [
       "<div>\n",
       "<style scoped>\n",
       "    .dataframe tbody tr th:only-of-type {\n",
       "        vertical-align: middle;\n",
       "    }\n",
       "\n",
       "    .dataframe tbody tr th {\n",
       "        vertical-align: top;\n",
       "    }\n",
       "\n",
       "    .dataframe thead th {\n",
       "        text-align: right;\n",
       "    }\n",
       "</style>\n",
       "<table border=\"1\" class=\"dataframe\">\n",
       "  <thead>\n",
       "    <tr style=\"text-align: right;\">\n",
       "      <th></th>\n",
       "      <th>tweet_id</th>\n",
       "      <th>author</th>\n",
       "      <th>tweet_text</th>\n",
       "      <th>language</th>\n",
       "      <th>num_likes</th>\n",
       "      <th>num_retweets</th>\n",
       "      <th>quoted_status_id</th>\n",
       "      <th>retweeted_status_id</th>\n",
       "      <th>reply_to_user</th>\n",
       "      <th>reply_to_status</th>\n",
       "      <th>date</th>\n",
       "    </tr>\n",
       "  </thead>\n",
       "  <tbody>\n",
       "    <tr>\n",
       "      <th>8</th>\n",
       "      <td>1368641301294571524</td>\n",
       "      <td>Patrice4020</td>\n",
       "      <td>Wangari Maathai arrive en 4ème position avec 3075 votes. #IWD2021 #tunelle https://t.co/yfTqzv8BIB</td>\n",
       "      <td>fr</td>\n",
       "      <td>0</td>\n",
       "      <td>1</td>\n",
       "      <td>1368629751364083712</td>\n",
       "      <td>1368630082156249089</td>\n",
       "      <td>None</td>\n",
       "      <td>None</td>\n",
       "      <td>07/03/2021 19:14:49</td>\n",
       "    </tr>\n",
       "    <tr>\n",
       "      <th>15</th>\n",
       "      <td>1368641323989950469</td>\n",
       "      <td>Hami52276816</td>\n",
       "      <td>\"شما زنان ايرا ميتوانيد و بايد پيروزى را بسازيد\" #Women4Freedom https://t.co/gxHOd8FQ3t</td>\n",
       "      <td>fa</td>\n",
       "      <td>0</td>\n",
       "      <td>17</td>\n",
       "      <td>1368592247541825537</td>\n",
       "      <td>1368596208579608576</td>\n",
       "      <td>None</td>\n",
       "      <td>None</td>\n",
       "      <td>07/03/2021 19:14:54</td>\n",
       "    </tr>\n",
       "    <tr>\n",
       "      <th>17</th>\n",
       "      <td>1368641317362929667</td>\n",
       "      <td>Hami52276816</td>\n",
       "      <td>#FreeNazanin https://t.co/gxHOd8FQ3t</td>\n",
       "      <td>und</td>\n",
       "      <td>0</td>\n",
       "      <td>8</td>\n",
       "      <td>1368592247541825537</td>\n",
       "      <td>1368596369808625667</td>\n",
       "      <td>None</td>\n",
       "      <td>None</td>\n",
       "      <td>07/03/2021 19:14:52</td>\n",
       "    </tr>\n",
       "    <tr>\n",
       "      <th>33</th>\n",
       "      <td>1368641238442803204</td>\n",
       "      <td>DrBhalchandraK3</td>\n",
       "      <td>The right fellings and tweet https://t.co/bdLaQM8Hrw</td>\n",
       "      <td>en</td>\n",
       "      <td>2</td>\n",
       "      <td>0</td>\n",
       "      <td>1368640639089451009</td>\n",
       "      <td>None</td>\n",
       "      <td>None</td>\n",
       "      <td>None</td>\n",
       "      <td>07/03/2021 19:14:34</td>\n",
       "    </tr>\n",
       "    <tr>\n",
       "      <th>36</th>\n",
       "      <td>1368641308982657025</td>\n",
       "      <td>camisdjesus</td>\n",
       "      <td>🇧🇷 | Para celebrarmos o dia das mulheres, o @Fly923 estará tocando as nossas artistas femininas favoritas o dia todo. Entre no site abaixo e solicite Something to Believe In de Laura Marano.\\n\\n🔗: https://t.co/gL5nQXDBml https://t.co/6z6NZ4J4V6</td>\n",
       "      <td>pt</td>\n",
       "      <td>0</td>\n",
       "      <td>3</td>\n",
       "      <td>1368582569789448195</td>\n",
       "      <td>1368592963304124416</td>\n",
       "      <td>None</td>\n",
       "      <td>None</td>\n",
       "      <td>07/03/2021 19:14:50</td>\n",
       "    </tr>\n",
       "    <tr>\n",
       "      <th>46</th>\n",
       "      <td>1368641401743958024</td>\n",
       "      <td>Hami52276816</td>\n",
       "      <td>Dear friends all over world infrom everyone about this online meeting\\n#Women4Freedom \\n#IWD2021 https://t.co/oRZaqdmW1p</td>\n",
       "      <td>en</td>\n",
       "      <td>0</td>\n",
       "      <td>11</td>\n",
       "      <td>1368287262140731392</td>\n",
       "      <td>1368479955055706112</td>\n",
       "      <td>None</td>\n",
       "      <td>None</td>\n",
       "      <td>07/03/2021 19:15:12</td>\n",
       "    </tr>\n",
       "    <tr>\n",
       "      <th>53</th>\n",
       "      <td>1368641354516029450</td>\n",
       "      <td>Hami52276816</td>\n",
       "      <td>I do challenge you to participate in this program for the battle against the most misogynistic rulings against women led by Iranian regime! We are standing for #Women4Freedom https://t.co/3Fc4Chl0uJ</td>\n",
       "      <td>en</td>\n",
       "      <td>0</td>\n",
       "      <td>20</td>\n",
       "      <td>1368578248939081730</td>\n",
       "      <td>1368595663248785419</td>\n",
       "      <td>None</td>\n",
       "      <td>None</td>\n",
       "      <td>07/03/2021 19:15:01</td>\n",
       "    </tr>\n",
       "    <tr>\n",
       "      <th>57</th>\n",
       "      <td>1368641386740858880</td>\n",
       "      <td>emily_hindle_</td>\n",
       "      <td>I've had the best time working with the #WonderWomen that are @SafronBeck @bethvdwilson &amp;amp; @emily_hindle_ on this! 🦸‍♀️💪\\n\\nTonight's the night! 🥳🎭 Come celebrate #internationalwomensday - 'eve' 7.30pm 👇👁\\nhttps://t.co/KyxyLeVGhH @undisposables @SpaceArtsCentre https://t.co/2uoe0t1xV7</td>\n",
       "      <td>en</td>\n",
       "      <td>0</td>\n",
       "      <td>2</td>\n",
       "      <td>1365286690810650627</td>\n",
       "      <td>1368603811812577280</td>\n",
       "      <td>None</td>\n",
       "      <td>None</td>\n",
       "      <td>07/03/2021 19:15:09</td>\n",
       "    </tr>\n",
       "    <tr>\n",
       "      <th>62</th>\n",
       "      <td>1368641387344838663</td>\n",
       "      <td>mdt4129</td>\n",
       "      <td>No, It won’t be a day devoted solely to covering issues that impact women. \\nIt will be a day of delivering the most important stories of the day, featuring insights from some of our nation’s leaders &amp;amp; critical thinkers.\\nALL WOMEN \\n#InternationalWomensDay https://t.co/DSx21af0XQ</td>\n",
       "      <td>en</td>\n",
       "      <td>0</td>\n",
       "      <td>186</td>\n",
       "      <td>1367945099125137410</td>\n",
       "      <td>1368638462438629389</td>\n",
       "      <td>None</td>\n",
       "      <td>None</td>\n",
       "      <td>07/03/2021 19:15:09</td>\n",
       "    </tr>\n",
       "    <tr>\n",
       "      <th>73</th>\n",
       "      <td>1368641327554961408</td>\n",
       "      <td>harufa8</td>\n",
       "      <td>世界中で何かあった時に老若男女誰でも使える大切なサインだそうです。見た人が知らないとこのサインに気付けないよね。私も今知った。\\n\\n「Help me」のサイン https://t.co/uU7CqW5zRV</td>\n",
       "      <td>ja</td>\n",
       "      <td>0</td>\n",
       "      <td>52</td>\n",
       "      <td>1368160652955504643</td>\n",
       "      <td>1368351692341669888</td>\n",
       "      <td>None</td>\n",
       "      <td>None</td>\n",
       "      <td>07/03/2021 19:14:55</td>\n",
       "    </tr>\n",
       "  </tbody>\n",
       "</table>\n",
       "</div>"
      ],
      "text/plain": [
       "               tweet_id           author  \\\n",
       "8   1368641301294571524      Patrice4020   \n",
       "15  1368641323989950469     Hami52276816   \n",
       "17  1368641317362929667     Hami52276816   \n",
       "33  1368641238442803204  DrBhalchandraK3   \n",
       "36  1368641308982657025      camisdjesus   \n",
       "46  1368641401743958024     Hami52276816   \n",
       "53  1368641354516029450     Hami52276816   \n",
       "57  1368641386740858880    emily_hindle_   \n",
       "62  1368641387344838663          mdt4129   \n",
       "73  1368641327554961408          harufa8   \n",
       "\n",
       "                                                                                                                                                                                                                                                                                          tweet_text  \\\n",
       "8                                                                                                                                                                                                 Wangari Maathai arrive en 4ème position avec 3075 votes. #IWD2021 #tunelle https://t.co/yfTqzv8BIB   \n",
       "15                                                                                                                                                                                                           \"شما زنان ايرا ميتوانيد و بايد پيروزى را بسازيد\" #Women4Freedom https://t.co/gxHOd8FQ3t   \n",
       "17                                                                                                                                                                                                                                                              #FreeNazanin https://t.co/gxHOd8FQ3t   \n",
       "33                                                                                                                                                                                                                                              The right fellings and tweet https://t.co/bdLaQM8Hrw   \n",
       "36                                              🇧🇷 | Para celebrarmos o dia das mulheres, o @Fly923 estará tocando as nossas artistas femininas favoritas o dia todo. Entre no site abaixo e solicite Something to Believe In de Laura Marano.\\n\\n🔗: https://t.co/gL5nQXDBml https://t.co/6z6NZ4J4V6   \n",
       "46                                                                                                                                                                          Dear friends all over world infrom everyone about this online meeting\\n#Women4Freedom \\n#IWD2021 https://t.co/oRZaqdmW1p   \n",
       "53                                                                                            I do challenge you to participate in this program for the battle against the most misogynistic rulings against women led by Iranian regime! We are standing for #Women4Freedom https://t.co/3Fc4Chl0uJ   \n",
       "57  I've had the best time working with the #WonderWomen that are @SafronBeck @bethvdwilson &amp; @emily_hindle_ on this! 🦸‍♀️💪\\n\\nTonight's the night! 🥳🎭 Come celebrate #internationalwomensday - 'eve' 7.30pm 👇👁\\nhttps://t.co/KyxyLeVGhH @undisposables @SpaceArtsCentre https://t.co/2uoe0t1xV7   \n",
       "62     No, It won’t be a day devoted solely to covering issues that impact women. \\nIt will be a day of delivering the most important stories of the day, featuring insights from some of our nation’s leaders &amp; critical thinkers.\\nALL WOMEN \\n#InternationalWomensDay https://t.co/DSx21af0XQ   \n",
       "73                                                                                                                                                                                          世界中で何かあった時に老若男女誰でも使える大切なサインだそうです。見た人が知らないとこのサインに気付けないよね。私も今知った。\\n\\n「Help me」のサイン https://t.co/uU7CqW5zRV   \n",
       "\n",
       "   language  num_likes  num_retweets     quoted_status_id  \\\n",
       "8        fr          0             1  1368629751364083712   \n",
       "15       fa          0            17  1368592247541825537   \n",
       "17      und          0             8  1368592247541825537   \n",
       "33       en          2             0  1368640639089451009   \n",
       "36       pt          0             3  1368582569789448195   \n",
       "46       en          0            11  1368287262140731392   \n",
       "53       en          0            20  1368578248939081730   \n",
       "57       en          0             2  1365286690810650627   \n",
       "62       en          0           186  1367945099125137410   \n",
       "73       ja          0            52  1368160652955504643   \n",
       "\n",
       "    retweeted_status_id reply_to_user reply_to_status                 date  \n",
       "8   1368630082156249089          None            None  07/03/2021 19:14:49  \n",
       "15  1368596208579608576          None            None  07/03/2021 19:14:54  \n",
       "17  1368596369808625667          None            None  07/03/2021 19:14:52  \n",
       "33                 None          None            None  07/03/2021 19:14:34  \n",
       "36  1368592963304124416          None            None  07/03/2021 19:14:50  \n",
       "46  1368479955055706112          None            None  07/03/2021 19:15:12  \n",
       "53  1368595663248785419          None            None  07/03/2021 19:15:01  \n",
       "57  1368603811812577280          None            None  07/03/2021 19:15:09  \n",
       "62  1368638462438629389          None            None  07/03/2021 19:15:09  \n",
       "73  1368351692341669888          None            None  07/03/2021 19:14:55  "
      ]
     },
     "execution_count": 63,
     "metadata": {},
     "output_type": "execute_result"
    }
   ],
   "source": [
    "tweets_df[tweets_df['quoted_status_id'].notnull()].head(10)"
   ]
  },
  {
   "cell_type": "markdown",
   "metadata": {},
   "source": [
    "### Replies"
   ]
  },
  {
   "cell_type": "markdown",
   "metadata": {},
   "source": [
    "#### To User"
   ]
  },
  {
   "cell_type": "code",
   "execution_count": 64,
   "metadata": {
    "ExecuteTime": {
     "end_time": "2021-05-17T03:10:26.098855Z",
     "start_time": "2021-05-17T03:10:25.712281Z"
    },
    "scrolled": true
   },
   "outputs": [
    {
     "data": {
      "text/html": [
       "<div>\n",
       "<style scoped>\n",
       "    .dataframe tbody tr th:only-of-type {\n",
       "        vertical-align: middle;\n",
       "    }\n",
       "\n",
       "    .dataframe tbody tr th {\n",
       "        vertical-align: top;\n",
       "    }\n",
       "\n",
       "    .dataframe thead th {\n",
       "        text-align: right;\n",
       "    }\n",
       "</style>\n",
       "<table border=\"1\" class=\"dataframe\">\n",
       "  <thead>\n",
       "    <tr style=\"text-align: right;\">\n",
       "      <th></th>\n",
       "      <th>tweet_id</th>\n",
       "      <th>author</th>\n",
       "      <th>tweet_text</th>\n",
       "      <th>language</th>\n",
       "      <th>num_likes</th>\n",
       "      <th>num_retweets</th>\n",
       "      <th>quoted_status_id</th>\n",
       "      <th>retweeted_status_id</th>\n",
       "      <th>reply_to_user</th>\n",
       "      <th>reply_to_status</th>\n",
       "      <th>date</th>\n",
       "    </tr>\n",
       "  </thead>\n",
       "  <tbody>\n",
       "    <tr>\n",
       "      <th>112</th>\n",
       "      <td>1368641500637065217</td>\n",
       "      <td>SVivekaananthan</td>\n",
       "      <td>@antonioguterres  Dear Secretary General  @UNGeneva @UN has failed miserably In Srilanka due to lack of Indian government's coordination and co-operation! Further it is the time to get rid of veto powers of permanent members! Rewrite the UN charter for the betterment of all! https://t.co/2iPKMah7do</td>\n",
       "      <td>en</td>\n",
       "      <td>0</td>\n",
       "      <td>0</td>\n",
       "      <td>1368525585824182275</td>\n",
       "      <td>None</td>\n",
       "      <td>811229675758505984</td>\n",
       "      <td>None</td>\n",
       "      <td>07/03/2021 19:15:36</td>\n",
       "    </tr>\n",
       "    <tr>\n",
       "      <th>367</th>\n",
       "      <td>1368642380879065092</td>\n",
       "      <td>JudithStorey2</td>\n",
       "      <td>@rebssal 💪🚴🏊‍♂️🌊❄️💕💕 https://t.co/3SvE5jNrvb</td>\n",
       "      <td>und</td>\n",
       "      <td>3</td>\n",
       "      <td>1</td>\n",
       "      <td>1368624580475162627</td>\n",
       "      <td>None</td>\n",
       "      <td>2400411317</td>\n",
       "      <td>None</td>\n",
       "      <td>07/03/2021 19:19:06</td>\n",
       "    </tr>\n",
       "    <tr>\n",
       "      <th>371</th>\n",
       "      <td>1368642298075111425</td>\n",
       "      <td>JborgGa</td>\n",
       "      <td>@RAbdiAnalyst @EmbassyEritrea Stop 🛑 Tigray sexual violence @AbiyAhmedAli @VP \\n#InternationalWomensDay  \\n  #WomensDay  #TigrayGenocide @SecBlinken #CrimesAgainstHumanity #TigrayCantWait @LindaT_G @CNNSitRoom @jacindaardern @AngelaMerkel_DE @AmbassadorRice @SenateDems https://t.co/xfdG6xMH2A</td>\n",
       "      <td>en</td>\n",
       "      <td>0</td>\n",
       "      <td>0</td>\n",
       "      <td>1368430708600016900</td>\n",
       "      <td>None</td>\n",
       "      <td>710425811925471232</td>\n",
       "      <td>None</td>\n",
       "      <td>07/03/2021 19:18:46</td>\n",
       "    </tr>\n",
       "    <tr>\n",
       "      <th>640</th>\n",
       "      <td>1368643166161698820</td>\n",
       "      <td>PrashantsbiPM</td>\n",
       "      <td>@TheOfficialSBI @Perfect_Prav \\nIt’s Great to see .. Wonderful..\\n#InternationalWomensDay https://t.co/IcLtWuZkz9</td>\n",
       "      <td>en</td>\n",
       "      <td>3</td>\n",
       "      <td>1</td>\n",
       "      <td>None</td>\n",
       "      <td>None</td>\n",
       "      <td>2251588934</td>\n",
       "      <td>None</td>\n",
       "      <td>07/03/2021 19:22:13</td>\n",
       "    </tr>\n",
       "    <tr>\n",
       "      <th>736</th>\n",
       "      <td>1368643413340344324</td>\n",
       "      <td>Jatin94320264</td>\n",
       "      <td>@_Aaj_Tak @nytimes @ndtv @ABPNews @ZeeNews @CNBC @CNN @NBCNews @PMOIndia @IndianEmbassyUS @IndianDiplomacy @MEAIndia @OIA_MEA https://t.co/2KlGHCdfWa</td>\n",
       "      <td>und</td>\n",
       "      <td>0</td>\n",
       "      <td>0</td>\n",
       "      <td>1368362310096490497</td>\n",
       "      <td>None</td>\n",
       "      <td>1193659743690059776</td>\n",
       "      <td>None</td>\n",
       "      <td>07/03/2021 19:23:12</td>\n",
       "    </tr>\n",
       "    <tr>\n",
       "      <th>...</th>\n",
       "      <td>...</td>\n",
       "      <td>...</td>\n",
       "      <td>...</td>\n",
       "      <td>...</td>\n",
       "      <td>...</td>\n",
       "      <td>...</td>\n",
       "      <td>...</td>\n",
       "      <td>...</td>\n",
       "      <td>...</td>\n",
       "      <td>...</td>\n",
       "      <td>...</td>\n",
       "    </tr>\n",
       "    <tr>\n",
       "      <th>5359098</th>\n",
       "      <td>1369364592997109760</td>\n",
       "      <td>BOWMAN_06</td>\n",
       "      <td>@kayleebruce04 ❤️ https://t.co/PuJ3wGujYH</td>\n",
       "      <td>und</td>\n",
       "      <td>0</td>\n",
       "      <td>0</td>\n",
       "      <td>1369004800910721037</td>\n",
       "      <td>None</td>\n",
       "      <td>4519796603</td>\n",
       "      <td>None</td>\n",
       "      <td>09/03/2021 19:08:55</td>\n",
       "    </tr>\n",
       "    <tr>\n",
       "      <th>5359311</th>\n",
       "      <td>1369364485035728896</td>\n",
       "      <td>JyMaraine</td>\n",
       "      <td>@IamJulieGayet .....un message pour vous ! https://t.co/0zNVsggXJj</td>\n",
       "      <td>fr</td>\n",
       "      <td>0</td>\n",
       "      <td>0</td>\n",
       "      <td>1368895155336581121</td>\n",
       "      <td>None</td>\n",
       "      <td>708640436</td>\n",
       "      <td>None</td>\n",
       "      <td>09/03/2021 19:08:29</td>\n",
       "    </tr>\n",
       "    <tr>\n",
       "      <th>5359365</th>\n",
       "      <td>1369364521433841666</td>\n",
       "      <td>GrlsForGrls</td>\n",
       "      <td>@Goodable is so progressive! positive, inclusive and all round good vibes😎 delighted to see such a huge accomplishment being addressed right - go Maya!💪🏾🤍 https://t.co/jDc5ifGPHf</td>\n",
       "      <td>en</td>\n",
       "      <td>1</td>\n",
       "      <td>0</td>\n",
       "      <td>1369044000850710537</td>\n",
       "      <td>None</td>\n",
       "      <td>1160957211369230343</td>\n",
       "      <td>None</td>\n",
       "      <td>09/03/2021 19:08:38</td>\n",
       "    </tr>\n",
       "    <tr>\n",
       "      <th>5359570</th>\n",
       "      <td>1369364878566244362</td>\n",
       "      <td>balticnewswatch</td>\n",
       "      <td>@juedische https://t.co/kKRjLatFCu</td>\n",
       "      <td>und</td>\n",
       "      <td>1</td>\n",
       "      <td>1</td>\n",
       "      <td>1369037712414683136</td>\n",
       "      <td>None</td>\n",
       "      <td>71778107</td>\n",
       "      <td>None</td>\n",
       "      <td>09/03/2021 19:10:03</td>\n",
       "    </tr>\n",
       "    <tr>\n",
       "      <th>5360199</th>\n",
       "      <td>1369365178769432587</td>\n",
       "      <td>nairdaqm5</td>\n",
       "      <td>@nytimeses @elpost @elpaismexico @BeatrizGMuller @Claudiashein https://t.co/zyBu7MOQhb</td>\n",
       "      <td>und</td>\n",
       "      <td>0</td>\n",
       "      <td>0</td>\n",
       "      <td>1369295430857658375</td>\n",
       "      <td>None</td>\n",
       "      <td>2975678883</td>\n",
       "      <td>None</td>\n",
       "      <td>09/03/2021 19:11:14</td>\n",
       "    </tr>\n",
       "  </tbody>\n",
       "</table>\n",
       "<p>23372 rows × 11 columns</p>\n",
       "</div>"
      ],
      "text/plain": [
       "                    tweet_id           author  \\\n",
       "112      1368641500637065217  SVivekaananthan   \n",
       "367      1368642380879065092    JudithStorey2   \n",
       "371      1368642298075111425          JborgGa   \n",
       "640      1368643166161698820    PrashantsbiPM   \n",
       "736      1368643413340344324    Jatin94320264   \n",
       "...                      ...              ...   \n",
       "5359098  1369364592997109760        BOWMAN_06   \n",
       "5359311  1369364485035728896        JyMaraine   \n",
       "5359365  1369364521433841666      GrlsForGrls   \n",
       "5359570  1369364878566244362  balticnewswatch   \n",
       "5360199  1369365178769432587        nairdaqm5   \n",
       "\n",
       "                                                                                                                                                                                                                                                                                                          tweet_text  \\\n",
       "112      @antonioguterres  Dear Secretary General  @UNGeneva @UN has failed miserably In Srilanka due to lack of Indian government's coordination and co-operation! Further it is the time to get rid of veto powers of permanent members! Rewrite the UN charter for the betterment of all! https://t.co/2iPKMah7do   \n",
       "367                                                                                                                                                                                                                                                                     @rebssal 💪🚴🏊‍♂️🌊❄️💕💕 https://t.co/3SvE5jNrvb   \n",
       "371            @RAbdiAnalyst @EmbassyEritrea Stop 🛑 Tigray sexual violence @AbiyAhmedAli @VP \\n#InternationalWomensDay  \\n  #WomensDay  #TigrayGenocide @SecBlinken #CrimesAgainstHumanity #TigrayCantWait @LindaT_G @CNNSitRoom @jacindaardern @AngelaMerkel_DE @AmbassadorRice @SenateDems https://t.co/xfdG6xMH2A   \n",
       "640                                                                                                                                                                                                @TheOfficialSBI @Perfect_Prav \\nIt’s Great to see .. Wonderful..\\n#InternationalWomensDay https://t.co/IcLtWuZkz9   \n",
       "736                                                                                                                                                            @_Aaj_Tak @nytimes @ndtv @ABPNews @ZeeNews @CNBC @CNN @NBCNews @PMOIndia @IndianEmbassyUS @IndianDiplomacy @MEAIndia @OIA_MEA https://t.co/2KlGHCdfWa   \n",
       "...                                                                                                                                                                                                                                                                                                              ...   \n",
       "5359098                                                                                                                                                                                                                                                                    @kayleebruce04 ❤️ https://t.co/PuJ3wGujYH   \n",
       "5359311                                                                                                                                                                                                                                           @IamJulieGayet .....un message pour vous ! https://t.co/0zNVsggXJj   \n",
       "5359365                                                                                                                           @Goodable is so progressive! positive, inclusive and all round good vibes😎 delighted to see such a huge accomplishment being addressed right - go Maya!💪🏾🤍 https://t.co/jDc5ifGPHf   \n",
       "5359570                                                                                                                                                                                                                                                                           @juedische https://t.co/kKRjLatFCu   \n",
       "5360199                                                                                                                                                                                                                       @nytimeses @elpost @elpaismexico @BeatrizGMuller @Claudiashein https://t.co/zyBu7MOQhb   \n",
       "\n",
       "        language  num_likes  num_retweets     quoted_status_id  \\\n",
       "112           en          0             0  1368525585824182275   \n",
       "367          und          3             1  1368624580475162627   \n",
       "371           en          0             0  1368430708600016900   \n",
       "640           en          3             1                 None   \n",
       "736          und          0             0  1368362310096490497   \n",
       "...          ...        ...           ...                  ...   \n",
       "5359098      und          0             0  1369004800910721037   \n",
       "5359311       fr          0             0  1368895155336581121   \n",
       "5359365       en          1             0  1369044000850710537   \n",
       "5359570      und          1             1  1369037712414683136   \n",
       "5360199      und          0             0  1369295430857658375   \n",
       "\n",
       "        retweeted_status_id        reply_to_user reply_to_status  \\\n",
       "112                    None   811229675758505984            None   \n",
       "367                    None           2400411317            None   \n",
       "371                    None   710425811925471232            None   \n",
       "640                    None           2251588934            None   \n",
       "736                    None  1193659743690059776            None   \n",
       "...                     ...                  ...             ...   \n",
       "5359098                None           4519796603            None   \n",
       "5359311                None            708640436            None   \n",
       "5359365                None  1160957211369230343            None   \n",
       "5359570                None             71778107            None   \n",
       "5360199                None           2975678883            None   \n",
       "\n",
       "                        date  \n",
       "112      07/03/2021 19:15:36  \n",
       "367      07/03/2021 19:19:06  \n",
       "371      07/03/2021 19:18:46  \n",
       "640      07/03/2021 19:22:13  \n",
       "736      07/03/2021 19:23:12  \n",
       "...                      ...  \n",
       "5359098  09/03/2021 19:08:55  \n",
       "5359311  09/03/2021 19:08:29  \n",
       "5359365  09/03/2021 19:08:38  \n",
       "5359570  09/03/2021 19:10:03  \n",
       "5360199  09/03/2021 19:11:14  \n",
       "\n",
       "[23372 rows x 11 columns]"
      ]
     },
     "execution_count": 64,
     "metadata": {},
     "output_type": "execute_result"
    }
   ],
   "source": [
    "tweets_df[tweets_df['reply_to_user'].notnull() & tweets_df['reply_to_status'].isnull()]"
   ]
  },
  {
   "cell_type": "markdown",
   "metadata": {},
   "source": [
    "#### To Status"
   ]
  },
  {
   "cell_type": "code",
   "execution_count": 65,
   "metadata": {
    "ExecuteTime": {
     "end_time": "2021-05-17T03:10:37.185923Z",
     "start_time": "2021-05-17T03:10:36.918810Z"
    }
   },
   "outputs": [
    {
     "data": {
      "text/html": [
       "<div>\n",
       "<style scoped>\n",
       "    .dataframe tbody tr th:only-of-type {\n",
       "        vertical-align: middle;\n",
       "    }\n",
       "\n",
       "    .dataframe tbody tr th {\n",
       "        vertical-align: top;\n",
       "    }\n",
       "\n",
       "    .dataframe thead th {\n",
       "        text-align: right;\n",
       "    }\n",
       "</style>\n",
       "<table border=\"1\" class=\"dataframe\">\n",
       "  <thead>\n",
       "    <tr style=\"text-align: right;\">\n",
       "      <th></th>\n",
       "      <th>tweet_id</th>\n",
       "      <th>author</th>\n",
       "      <th>tweet_text</th>\n",
       "      <th>language</th>\n",
       "      <th>num_likes</th>\n",
       "      <th>num_retweets</th>\n",
       "      <th>quoted_status_id</th>\n",
       "      <th>retweeted_status_id</th>\n",
       "      <th>reply_to_user</th>\n",
       "      <th>reply_to_status</th>\n",
       "      <th>date</th>\n",
       "    </tr>\n",
       "  </thead>\n",
       "  <tbody>\n",
       "    <tr>\n",
       "      <th>0</th>\n",
       "      <td>1368641229731360773</td>\n",
       "      <td>HildaMcevoy</td>\n",
       "      <td>@MargaretEWard The irony that I can't attend any of these online events...because my kids aren't in school and I have to still home school them, is NOT lost on me 😂😭😂😭 Cheers for being in our corner, Margaret, while forging your own path too! #IWD2021</td>\n",
       "      <td>en</td>\n",
       "      <td>4</td>\n",
       "      <td>0</td>\n",
       "      <td>None</td>\n",
       "      <td>None</td>\n",
       "      <td>17868868</td>\n",
       "      <td>1368629846872580097</td>\n",
       "      <td>07/03/2021 19:14:31</td>\n",
       "    </tr>\n",
       "    <tr>\n",
       "      <th>44</th>\n",
       "      <td>1368641419196334082</td>\n",
       "      <td>laurie_winkless</td>\n",
       "      <td>I couldn’t really talk about shark-inspired swimsuits without talking about sharks, right? Enter my lovely friend @mcmsharksxx, a shark biologist and PhD student @CurtinUni, who patiently answered my stupid questions about these amazing creatures #IWD2021</td>\n",
       "      <td>en</td>\n",
       "      <td>8</td>\n",
       "      <td>1</td>\n",
       "      <td>None</td>\n",
       "      <td>None</td>\n",
       "      <td>65316869</td>\n",
       "      <td>1368641339336790019</td>\n",
       "      <td>07/03/2021 19:15:17</td>\n",
       "    </tr>\n",
       "    <tr>\n",
       "      <th>140</th>\n",
       "      <td>1368641582740738062</td>\n",
       "      <td>alialzanaty1</td>\n",
       "      <td>@IATA From Libya, thanks, appreciation and respect Phumzile Mlambo \\n@phumzileunwomen\\n@UN_Women\\n @UN  for your great efforts for women's rights, children's rights and the elimination of violence and hatred in the world #IWD2021  #InternationalWomensDay https://t.co/WW4XxFDcZi</td>\n",
       "      <td>en</td>\n",
       "      <td>0</td>\n",
       "      <td>0</td>\n",
       "      <td>None</td>\n",
       "      <td>None</td>\n",
       "      <td>27067896</td>\n",
       "      <td>1368536951305895947</td>\n",
       "      <td>07/03/2021 19:15:56</td>\n",
       "    </tr>\n",
       "    <tr>\n",
       "      <th>141</th>\n",
       "      <td>1368641593759035393</td>\n",
       "      <td>TONTO009</td>\n",
       "      <td>@AartiTikoo To me you are also one of the bravest India women I know @AartiTikoo ji,happy #InternationalWomensDay to u. Just remain this brave all ur life🇮🇳👌👌</td>\n",
       "      <td>en</td>\n",
       "      <td>15</td>\n",
       "      <td>2</td>\n",
       "      <td>None</td>\n",
       "      <td>None</td>\n",
       "      <td>2933823062</td>\n",
       "      <td>1368638338878509056</td>\n",
       "      <td>07/03/2021 19:15:58</td>\n",
       "    </tr>\n",
       "    <tr>\n",
       "      <th>174</th>\n",
       "      <td>1368641709828157440</td>\n",
       "      <td>JborgGa</td>\n",
       "      <td>@EmbassyEritrea Stop 🛑 Tigray sexual violence @AbiyAhmedAli @VP \\n#InternationalWomensDay  \\n  #WomensDay  #TigrayGenocide @SecBlinken #CrimesAgainstHumanity #TigrayCantWait @LindaT_G @CNNSitRoom @jacindaardern @AngelaMerkel_DE @AmbassadorRice @SenateDems  @TheBlackCaucus @SenateGOP @tsaronh</td>\n",
       "      <td>en</td>\n",
       "      <td>0</td>\n",
       "      <td>0</td>\n",
       "      <td>None</td>\n",
       "      <td>None</td>\n",
       "      <td>579558064</td>\n",
       "      <td>1368639840128995331</td>\n",
       "      <td>07/03/2021 19:16:26</td>\n",
       "    </tr>\n",
       "    <tr>\n",
       "      <th>...</th>\n",
       "      <td>...</td>\n",
       "      <td>...</td>\n",
       "      <td>...</td>\n",
       "      <td>...</td>\n",
       "      <td>...</td>\n",
       "      <td>...</td>\n",
       "      <td>...</td>\n",
       "      <td>...</td>\n",
       "      <td>...</td>\n",
       "      <td>...</td>\n",
       "      <td>...</td>\n",
       "    </tr>\n",
       "    <tr>\n",
       "      <th>5359990</th>\n",
       "      <td>1369365045478629377</td>\n",
       "      <td>IngmarBlergman</td>\n",
       "      <td>@MrGlinis au contraire\\nhttps://t.co/jjtirnwzKd</td>\n",
       "      <td>fr</td>\n",
       "      <td>1</td>\n",
       "      <td>0</td>\n",
       "      <td>1368926871325450241</td>\n",
       "      <td>None</td>\n",
       "      <td>250467637</td>\n",
       "      <td>1369364309155921925</td>\n",
       "      <td>09/03/2021 19:10:43</td>\n",
       "    </tr>\n",
       "    <tr>\n",
       "      <th>5360042</th>\n",
       "      <td>1369365040550326274</td>\n",
       "      <td>zGhostbebss</td>\n",
       "      <td>@stevieira01 meudeus que mulher vey, god is a woman</td>\n",
       "      <td>pt</td>\n",
       "      <td>0</td>\n",
       "      <td>0</td>\n",
       "      <td>None</td>\n",
       "      <td>None</td>\n",
       "      <td>1242295322161774593</td>\n",
       "      <td>1369364509119373313</td>\n",
       "      <td>09/03/2021 19:10:41</td>\n",
       "    </tr>\n",
       "    <tr>\n",
       "      <th>5360063</th>\n",
       "      <td>1369365172838612996</td>\n",
       "      <td>Sssshhhhiiiiaa1</td>\n",
       "      <td>@stepunnay Hurry! Farmasi Makeup Women's Day Sale Up To %50 off Ending Soon, Shop Now! Farmasi Makeup and Skin Care The Brand You Trust! https://t.co/tKPpv22ceI \\nPlease Like and Retweet Thanks! #WomensDay #makeup https://t.co/nwnCefXCKG</td>\n",
       "      <td>en</td>\n",
       "      <td>0</td>\n",
       "      <td>0</td>\n",
       "      <td>None</td>\n",
       "      <td>None</td>\n",
       "      <td>1424281860</td>\n",
       "      <td>1369364364373987328</td>\n",
       "      <td>09/03/2021 19:11:13</td>\n",
       "    </tr>\n",
       "    <tr>\n",
       "      <th>5360069</th>\n",
       "      <td>1369365069063192576</td>\n",
       "      <td>bechiis</td>\n",
       "      <td>#8M #NiUnaMas #8DeMarzo2021 #Marcha8M  #8M2021 #DiaInternacionalDeLaMujer #Sororidad #9Marzo</td>\n",
       "      <td>und</td>\n",
       "      <td>2</td>\n",
       "      <td>0</td>\n",
       "      <td>None</td>\n",
       "      <td>None</td>\n",
       "      <td>224011433</td>\n",
       "      <td>1369359194655166473</td>\n",
       "      <td>09/03/2021 19:10:48</td>\n",
       "    </tr>\n",
       "    <tr>\n",
       "      <th>5360133</th>\n",
       "      <td>1369365119017312259</td>\n",
       "      <td>bianchi_darius</td>\n",
       "      <td>@hotdiggityDR \"henceforth, a world without injustice, oppression, fundamentalism, and poverty hinges on #women's struggle.\"— @Maryam_Rajavi's remarks on #IWD2021</td>\n",
       "      <td>en</td>\n",
       "      <td>0</td>\n",
       "      <td>0</td>\n",
       "      <td>None</td>\n",
       "      <td>None</td>\n",
       "      <td>4408326137</td>\n",
       "      <td>1369060127202893824</td>\n",
       "      <td>09/03/2021 19:11:00</td>\n",
       "    </tr>\n",
       "  </tbody>\n",
       "</table>\n",
       "<p>122863 rows × 11 columns</p>\n",
       "</div>"
      ],
      "text/plain": [
       "                    tweet_id           author  \\\n",
       "0        1368641229731360773      HildaMcevoy   \n",
       "44       1368641419196334082  laurie_winkless   \n",
       "140      1368641582740738062     alialzanaty1   \n",
       "141      1368641593759035393         TONTO009   \n",
       "174      1368641709828157440          JborgGa   \n",
       "...                      ...              ...   \n",
       "5359990  1369365045478629377   IngmarBlergman   \n",
       "5360042  1369365040550326274      zGhostbebss   \n",
       "5360063  1369365172838612996  Sssshhhhiiiiaa1   \n",
       "5360069  1369365069063192576          bechiis   \n",
       "5360133  1369365119017312259   bianchi_darius   \n",
       "\n",
       "                                                                                                                                                                                                                                                                                                   tweet_text  \\\n",
       "0                                                 @MargaretEWard The irony that I can't attend any of these online events...because my kids aren't in school and I have to still home school them, is NOT lost on me 😂😭😂😭 Cheers for being in our corner, Margaret, while forging your own path too! #IWD2021   \n",
       "44                                            I couldn’t really talk about shark-inspired swimsuits without talking about sharks, right? Enter my lovely friend @mcmsharksxx, a shark biologist and PhD student @CurtinUni, who patiently answered my stupid questions about these amazing creatures #IWD2021   \n",
       "140                    @IATA From Libya, thanks, appreciation and respect Phumzile Mlambo \\n@phumzileunwomen\\n@UN_Women\\n @UN  for your great efforts for women's rights, children's rights and the elimination of violence and hatred in the world #IWD2021  #InternationalWomensDay https://t.co/WW4XxFDcZi   \n",
       "141                                                                                                                                            @AartiTikoo To me you are also one of the bravest India women I know @AartiTikoo ji,happy #InternationalWomensDay to u. Just remain this brave all ur life🇮🇳👌👌   \n",
       "174      @EmbassyEritrea Stop 🛑 Tigray sexual violence @AbiyAhmedAli @VP \\n#InternationalWomensDay  \\n  #WomensDay  #TigrayGenocide @SecBlinken #CrimesAgainstHumanity #TigrayCantWait @LindaT_G @CNNSitRoom @jacindaardern @AngelaMerkel_DE @AmbassadorRice @SenateDems  @TheBlackCaucus @SenateGOP @tsaronh   \n",
       "...                                                                                                                                                                                                                                                                                                       ...   \n",
       "5359990                                                                                                                                                                                                                                                       @MrGlinis au contraire\\nhttps://t.co/jjtirnwzKd   \n",
       "5360042                                                                                                                                                                                                                                                   @stevieira01 meudeus que mulher vey, god is a woman   \n",
       "5360063                                                         @stepunnay Hurry! Farmasi Makeup Women's Day Sale Up To %50 off Ending Soon, Shop Now! Farmasi Makeup and Skin Care The Brand You Trust! https://t.co/tKPpv22ceI \\nPlease Like and Retweet Thanks! #WomensDay #makeup https://t.co/nwnCefXCKG   \n",
       "5360069                                                                                                                                                                                                          #8M #NiUnaMas #8DeMarzo2021 #Marcha8M  #8M2021 #DiaInternacionalDeLaMujer #Sororidad #9Marzo   \n",
       "5360133                                                                                                                                     @hotdiggityDR \"henceforth, a world without injustice, oppression, fundamentalism, and poverty hinges on #women's struggle.\"— @Maryam_Rajavi's remarks on #IWD2021   \n",
       "\n",
       "        language  num_likes  num_retweets     quoted_status_id  \\\n",
       "0             en          4             0                 None   \n",
       "44            en          8             1                 None   \n",
       "140           en          0             0                 None   \n",
       "141           en         15             2                 None   \n",
       "174           en          0             0                 None   \n",
       "...          ...        ...           ...                  ...   \n",
       "5359990       fr          1             0  1368926871325450241   \n",
       "5360042       pt          0             0                 None   \n",
       "5360063       en          0             0                 None   \n",
       "5360069      und          2             0                 None   \n",
       "5360133       en          0             0                 None   \n",
       "\n",
       "        retweeted_status_id        reply_to_user      reply_to_status  \\\n",
       "0                      None             17868868  1368629846872580097   \n",
       "44                     None             65316869  1368641339336790019   \n",
       "140                    None             27067896  1368536951305895947   \n",
       "141                    None           2933823062  1368638338878509056   \n",
       "174                    None            579558064  1368639840128995331   \n",
       "...                     ...                  ...                  ...   \n",
       "5359990                None            250467637  1369364309155921925   \n",
       "5360042                None  1242295322161774593  1369364509119373313   \n",
       "5360063                None           1424281860  1369364364373987328   \n",
       "5360069                None            224011433  1369359194655166473   \n",
       "5360133                None           4408326137  1369060127202893824   \n",
       "\n",
       "                        date  \n",
       "0        07/03/2021 19:14:31  \n",
       "44       07/03/2021 19:15:17  \n",
       "140      07/03/2021 19:15:56  \n",
       "141      07/03/2021 19:15:58  \n",
       "174      07/03/2021 19:16:26  \n",
       "...                      ...  \n",
       "5359990  09/03/2021 19:10:43  \n",
       "5360042  09/03/2021 19:10:41  \n",
       "5360063  09/03/2021 19:11:13  \n",
       "5360069  09/03/2021 19:10:48  \n",
       "5360133  09/03/2021 19:11:00  \n",
       "\n",
       "[122863 rows x 11 columns]"
      ]
     },
     "execution_count": 65,
     "metadata": {},
     "output_type": "execute_result"
    }
   ],
   "source": [
    "tweets_df[tweets_df['reply_to_status'].notnull()]"
   ]
  },
  {
   "cell_type": "markdown",
   "metadata": {},
   "source": [
    "### Geolocalização"
   ]
  },
  {
   "cell_type": "code",
   "execution_count": 66,
   "metadata": {
    "ExecuteTime": {
     "end_time": "2021-05-17T03:10:48.541930Z",
     "start_time": "2021-05-17T03:10:48.539383Z"
    }
   },
   "outputs": [],
   "source": [
    "pipeline6 = [\n",
    "    {\n",
    "        '$match': {\n",
    "            'geo': {\n",
    "                '$ne': None\n",
    "            }\n",
    "        }\n",
    "    }, {\n",
    "        '$count': 'count'\n",
    "    }\n",
    "]"
   ]
  },
  {
   "cell_type": "code",
   "execution_count": 67,
   "metadata": {
    "ExecuteTime": {
     "end_time": "2021-05-17T03:25:29.197951Z",
     "start_time": "2021-05-17T03:10:52.025986Z"
    }
   },
   "outputs": [],
   "source": [
    "geo_enabled = query(collection=collection, pipeline=pipeline6)"
   ]
  },
  {
   "cell_type": "code",
   "execution_count": 68,
   "metadata": {
    "ExecuteTime": {
     "end_time": "2021-05-17T03:32:20.039918Z",
     "start_time": "2021-05-17T03:32:19.893689Z"
    }
   },
   "outputs": [
    {
     "data": {
      "text/plain": [
       "2172"
      ]
     },
     "execution_count": 68,
     "metadata": {},
     "output_type": "execute_result"
    }
   ],
   "source": [
    "geo_enabled[0]['count']"
   ]
  },
  {
   "cell_type": "markdown",
   "metadata": {},
   "source": [
    "#### User Geo Enabled"
   ]
  },
  {
   "cell_type": "code",
   "execution_count": 69,
   "metadata": {
    "ExecuteTime": {
     "end_time": "2021-05-17T03:32:31.323645Z",
     "start_time": "2021-05-17T03:32:31.315813Z"
    }
   },
   "outputs": [],
   "source": [
    "pipeline7 = [\n",
    "    {\n",
    "        '$project': {\n",
    "            'user_geo_enabled': '$user.geo_enabled', \n",
    "            'user_location': '$user.location'\n",
    "        }\n",
    "    }, {\n",
    "        '$group': {\n",
    "            '_id': '$user_geo_enabled', \n",
    "            'count': {\n",
    "                '$sum': 1\n",
    "            }\n",
    "        }\n",
    "    }\n",
    "]"
   ]
  },
  {
   "cell_type": "code",
   "execution_count": 70,
   "metadata": {
    "ExecuteTime": {
     "end_time": "2021-05-17T03:38:48.539418Z",
     "start_time": "2021-05-17T03:32:32.789849Z"
    }
   },
   "outputs": [],
   "source": [
    "user_geo_enabled = query(collection=collection, pipeline=pipeline7)"
   ]
  },
  {
   "cell_type": "code",
   "execution_count": 71,
   "metadata": {
    "ExecuteTime": {
     "end_time": "2021-05-17T03:38:48.837909Z",
     "start_time": "2021-05-17T03:38:48.690054Z"
    }
   },
   "outputs": [
    {
     "data": {
      "text/plain": [
       "[{'_id': True, 'count': 2056075}, {'_id': False, 'count': 3304128}]"
      ]
     },
     "execution_count": 71,
     "metadata": {},
     "output_type": "execute_result"
    }
   ],
   "source": [
    "user_geo_enabled"
   ]
  },
  {
   "cell_type": "markdown",
   "metadata": {},
   "source": [
    "#### User location"
   ]
  },
  {
   "cell_type": "code",
   "execution_count": 72,
   "metadata": {
    "ExecuteTime": {
     "end_time": "2021-05-17T03:38:48.926816Z",
     "start_time": "2021-05-17T03:38:48.844707Z"
    }
   },
   "outputs": [],
   "source": [
    "pipeline8 = [\n",
    "    {\n",
    "        '$project': {\n",
    "            'user_geo_enabled': '$user.geo_enabled', \n",
    "            'user_location': '$user.location'\n",
    "        }\n",
    "    }, {\n",
    "        '$group': {\n",
    "            '_id': '$user_location', \n",
    "            'count': {\n",
    "                '$sum': 1\n",
    "            }\n",
    "        }\n",
    "    }, {\n",
    "        '$sort': {\n",
    "            'count': -1\n",
    "        }\n",
    "    }\n",
    "]"
   ]
  },
  {
   "cell_type": "code",
   "execution_count": 73,
   "metadata": {
    "ExecuteTime": {
     "end_time": "2021-05-17T03:43:50.805817Z",
     "start_time": "2021-05-17T03:38:48.986897Z"
    }
   },
   "outputs": [],
   "source": [
    "user_location = query(collection=collection, pipeline=pipeline8)"
   ]
  },
  {
   "cell_type": "code",
   "execution_count": 74,
   "metadata": {
    "ExecuteTime": {
     "end_time": "2021-05-17T03:43:52.360597Z",
     "start_time": "2021-05-17T03:43:50.860273Z"
    }
   },
   "outputs": [
    {
     "data": {
      "text/html": [
       "<div>\n",
       "<style scoped>\n",
       "    .dataframe tbody tr th:only-of-type {\n",
       "        vertical-align: middle;\n",
       "    }\n",
       "\n",
       "    .dataframe tbody tr th {\n",
       "        vertical-align: top;\n",
       "    }\n",
       "\n",
       "    .dataframe thead th {\n",
       "        text-align: right;\n",
       "    }\n",
       "</style>\n",
       "<table border=\"1\" class=\"dataframe\">\n",
       "  <thead>\n",
       "    <tr style=\"text-align: right;\">\n",
       "      <th></th>\n",
       "      <th>_id</th>\n",
       "      <th>count</th>\n",
       "    </tr>\n",
       "  </thead>\n",
       "  <tbody>\n",
       "    <tr>\n",
       "      <th>0</th>\n",
       "      <td></td>\n",
       "      <td>1960478</td>\n",
       "    </tr>\n",
       "    <tr>\n",
       "      <th>1</th>\n",
       "      <td>México</td>\n",
       "      <td>50183</td>\n",
       "    </tr>\n",
       "    <tr>\n",
       "      <th>2</th>\n",
       "      <td>India</td>\n",
       "      <td>37103</td>\n",
       "    </tr>\n",
       "    <tr>\n",
       "      <th>3</th>\n",
       "      <td>United States</td>\n",
       "      <td>22502</td>\n",
       "    </tr>\n",
       "    <tr>\n",
       "      <th>4</th>\n",
       "      <td>London, England</td>\n",
       "      <td>19812</td>\n",
       "    </tr>\n",
       "    <tr>\n",
       "      <th>...</th>\n",
       "      <td>...</td>\n",
       "      <td>...</td>\n",
       "    </tr>\n",
       "    <tr>\n",
       "      <th>578932</th>\n",
       "      <td>oh ya</td>\n",
       "      <td>1</td>\n",
       "    </tr>\n",
       "    <tr>\n",
       "      <th>578933</th>\n",
       "      <td>Yılankale</td>\n",
       "      <td>1</td>\n",
       "    </tr>\n",
       "    <tr>\n",
       "      <th>578934</th>\n",
       "      <td>Asansol, West Bengal</td>\n",
       "      <td>1</td>\n",
       "    </tr>\n",
       "    <tr>\n",
       "      <th>578935</th>\n",
       "      <td>The dying planet</td>\n",
       "      <td>1</td>\n",
       "    </tr>\n",
       "    <tr>\n",
       "      <th>578936</th>\n",
       "      <td>Ombliguito de Centroamérica.</td>\n",
       "      <td>1</td>\n",
       "    </tr>\n",
       "  </tbody>\n",
       "</table>\n",
       "<p>578937 rows × 2 columns</p>\n",
       "</div>"
      ],
      "text/plain": [
       "                                  _id    count\n",
       "0                                      1960478\n",
       "1                              México    50183\n",
       "2                               India    37103\n",
       "3                       United States    22502\n",
       "4                     London, England    19812\n",
       "...                               ...      ...\n",
       "578932                         oh ya         1\n",
       "578933                      Yılankale        1\n",
       "578934          Asansol, West Bengal         1\n",
       "578935               The dying planet        1\n",
       "578936  Ombliguito de Centroamérica.         1\n",
       "\n",
       "[578937 rows x 2 columns]"
      ]
     },
     "execution_count": 74,
     "metadata": {},
     "output_type": "execute_result"
    }
   ],
   "source": [
    "pd.DataFrame(user_location)"
   ]
  },
  {
   "cell_type": "code",
   "execution_count": null,
   "metadata": {},
   "outputs": [],
   "source": []
  },
  {
   "cell_type": "code",
   "execution_count": null,
   "metadata": {},
   "outputs": [],
   "source": []
  }
 ],
 "metadata": {
  "@webio": {
   "lastCommId": null,
   "lastKernelId": null
  },
  "kernelspec": {
   "display_name": "Python 3",
   "language": "python",
   "name": "python3"
  },
  "language_info": {
   "codemirror_mode": {
    "name": "ipython",
    "version": 3
   },
   "file_extension": ".py",
   "mimetype": "text/x-python",
   "name": "python",
   "nbconvert_exporter": "python",
   "pygments_lexer": "ipython3",
   "version": "3.7.7"
  },
  "toc": {
   "base_numbering": 1,
   "nav_menu": {},
   "number_sections": true,
   "sideBar": true,
   "skip_h1_title": false,
   "title_cell": "Table of Contents",
   "title_sidebar": "Contents",
   "toc_cell": false,
   "toc_position": {},
   "toc_section_display": true,
   "toc_window_display": false
  }
 },
 "nbformat": 4,
 "nbformat_minor": 4
}
