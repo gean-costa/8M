{
 "cells": [
  {
   "cell_type": "markdown",
   "metadata": {},
   "source": [
    "# Parameter Selection for NMF"
   ]
  },
  {
   "cell_type": "markdown",
   "metadata": {},
   "source": [
    "Now we look at the more advanced task of parameter selection for NMF topic modelling - namely, selecting a useful value for the number of topics *k*."
   ]
  },
  {
   "cell_type": "markdown",
   "metadata": {},
   "source": [
    "First, let's load the TF-IDF normalised document-term matrix and list of terms that we stored earlier using *Joblib*:"
   ]
  },
  {
   "cell_type": "code",
   "execution_count": 1,
   "metadata": {
    "ExecuteTime": {
     "end_time": "2021-05-19T03:17:30.690445Z",
     "start_time": "2021-05-19T03:17:29.802251Z"
    }
   },
   "outputs": [
    {
     "name": "stdout",
     "output_type": "stream",
     "text": [
      "Loaded 266214 X 12137 document-term matrix\n"
     ]
    }
   ],
   "source": [
    "import joblib\n",
    "\n",
    "(A, terms, snippets) = joblib.load(\"21cenario2-tweets-tfidf.pkl\")\n",
    "\n",
    "print(\"Loaded %d X %d document-term matrix\" % (A.shape[0], A.shape[1]))"
   ]
  },
  {
   "cell_type": "markdown",
   "metadata": {},
   "source": [
    "### Create the Topic Models"
   ]
  },
  {
   "cell_type": "markdown",
   "metadata": {},
   "source": [
    "A common approach for parameter selection is to Measure and compare the topic coherence of models generated for different values of *k*."
   ]
  },
  {
   "cell_type": "markdown",
   "metadata": {},
   "source": [
    "We need to start by pre-specifying an initial range of \"sensible\" values:"
   ]
  },
  {
   "cell_type": "code",
   "execution_count": 2,
   "metadata": {
    "ExecuteTime": {
     "end_time": "2021-05-19T03:17:30.694274Z",
     "start_time": "2021-05-19T03:17:30.692198Z"
    }
   },
   "outputs": [],
   "source": [
    "kmin, kmax = 5, 20"
   ]
  },
  {
   "cell_type": "markdown",
   "metadata": {},
   "source": [
    "Apply NMF for each of these values:"
   ]
  },
  {
   "cell_type": "code",
   "execution_count": 3,
   "metadata": {
    "ExecuteTime": {
     "end_time": "2021-05-19T03:18:51.222304Z",
     "start_time": "2021-05-19T03:17:30.695412Z"
    }
   },
   "outputs": [
    {
     "name": "stdout",
     "output_type": "stream",
     "text": [
      "Applying NMF for k=5 ...\n",
      "Applying NMF for k=10 ...\n",
      "Applying NMF for k=15 ...\n",
      "Applying NMF for k=20 ...\n"
     ]
    }
   ],
   "source": [
    "from sklearn import decomposition\n",
    "\n",
    "topic_models = []\n",
    "\n",
    "# try each value of k\n",
    "for k in [5,10,15,20]: #range(kmin, kmax + 1):\n",
    "    print(\"Applying NMF for k=%d ...\" % k)\n",
    "    # run NMF\n",
    "    model = decomposition.NMF(init=\"nndsvd\", n_components=k)\n",
    "    W = model.fit_transform(A)\n",
    "    H = model.components_\n",
    "    # store for later\n",
    "    topic_models.append((k, W, H))"
   ]
  },
  {
   "cell_type": "markdown",
   "metadata": {},
   "source": [
    "### Build a Word Embedding"
   ]
  },
  {
   "cell_type": "markdown",
   "metadata": {},
   "source": [
    "To select the number of topics, here we will use a *topic coherence* measure called TC-W2V. This measure relies on the use of a *word embedding* model constructed from our corpus. So in this step we will use the *Gensim* implementation of Word2Vec to build a Word2Vec model based on our collection of news articles."
   ]
  },
  {
   "cell_type": "markdown",
   "metadata": {},
   "source": [
    "**Note:** If you want to skip this step, a pre-built Word2Vec model for the sample dataset [is also provided here for download](http://erdos.ucd.ie/files/pydata/w2v-model.bin) (71MB)."
   ]
  },
  {
   "cell_type": "markdown",
   "metadata": {},
   "source": [
    "We read the documents from the input file again:"
   ]
  },
  {
   "cell_type": "code",
   "execution_count": 4,
   "metadata": {
    "ExecuteTime": {
     "end_time": "2021-05-19T03:18:51.394921Z",
     "start_time": "2021-05-19T03:18:51.223747Z"
    }
   },
   "outputs": [
    {
     "name": "stdout",
     "output_type": "stream",
     "text": [
      "Read 266214 raw text documents\n"
     ]
    }
   ],
   "source": [
    "import os.path\n",
    "\n",
    "raw_documents = []\n",
    "\n",
    "with open(os.path.join(\"cenario2_8M2021_tweets_es.txt\"), \"r\") as fin:\n",
    "    for line in fin.readlines():\n",
    "        raw_documents.append(line.strip().lower())\n",
    "\n",
    "print(\"Read %d raw text documents\" % len(raw_documents))"
   ]
  },
  {
   "cell_type": "markdown",
   "metadata": {},
   "source": [
    "Read the custom stopword list:"
   ]
  },
  {
   "cell_type": "code",
   "execution_count": 5,
   "metadata": {
    "ExecuteTime": {
     "end_time": "2021-05-19T03:18:51.400367Z",
     "start_time": "2021-05-19T03:18:51.396332Z"
    }
   },
   "outputs": [
    {
     "name": "stdout",
     "output_type": "stream",
     "text": [
      "Stopword list has 313 entries\n"
     ]
    }
   ],
   "source": [
    "custom_stop_words = []\n",
    "\n",
    "with open(\"spanish.txt\", \"r\") as fin:\n",
    "    for line in fin.readlines():\n",
    "        custom_stop_words.append(line.strip().lower())\n",
    "\n",
    "# note that we need to make it hashable\n",
    "print(\"Stopword list has %d entries\" % len(custom_stop_words))"
   ]
  },
  {
   "cell_type": "markdown",
   "metadata": {},
   "source": [
    "First, we need to define a class that will generate documents in a form that can be consumed by Gensim's Word2Vec implementation:"
   ]
  },
  {
   "cell_type": "code",
   "execution_count": 6,
   "metadata": {
    "ExecuteTime": {
     "end_time": "2021-05-19T03:18:51.409722Z",
     "start_time": "2021-05-19T03:18:51.401659Z"
    }
   },
   "outputs": [],
   "source": [
    "import re\n",
    "\n",
    "\n",
    "class TokenGenerator:\n",
    "    def __init__(self, documents, stopwords):\n",
    "        self.documents = documents\n",
    "        self.stopwords = stopwords\n",
    "        self.tokenizer = re.compile(r\"(?u)\\b\\w\\w+\\b\")\n",
    "\n",
    "    def __iter__(self):\n",
    "        print(\"Building Word2Vec model ...\")\n",
    "        for doc in self.documents:\n",
    "            tokens = []\n",
    "            for tok in self.tokenizer.findall(doc):\n",
    "                if tok in self.stopwords:\n",
    "                    tokens.append(\"<stopword>\")\n",
    "                elif len(tok) >= 2:\n",
    "                    tokens.append(tok)\n",
    "            yield tokens"
   ]
  },
  {
   "cell_type": "markdown",
   "metadata": {},
   "source": [
    "Now build a Skipgram Word2Vec model from all documents in the input file using *Gensim*:"
   ]
  },
  {
   "cell_type": "code",
   "execution_count": 7,
   "metadata": {
    "ExecuteTime": {
     "end_time": "2021-05-19T03:18:51.614364Z",
     "start_time": "2021-05-19T03:18:51.411830Z"
    }
   },
   "outputs": [],
   "source": [
    "import gensim"
   ]
  },
  {
   "cell_type": "code",
   "execution_count": 8,
   "metadata": {
    "ExecuteTime": {
     "end_time": "2021-05-19T03:20:40.263121Z",
     "start_time": "2021-05-19T03:18:51.616186Z"
    }
   },
   "outputs": [
    {
     "name": "stdout",
     "output_type": "stream",
     "text": [
      "Building Word2Vec model ...\n",
      "Building Word2Vec model ...\n",
      "Building Word2Vec model ...\n",
      "Building Word2Vec model ...\n",
      "Building Word2Vec model ...\n",
      "Building Word2Vec model ...\n"
     ]
    }
   ],
   "source": [
    "\n",
    "\n",
    "docgen = TokenGenerator(raw_documents, custom_stop_words)\n",
    "\n",
    "# the model has 500 dimensions, the minimum document-term frequency is 20\n",
    "w2v_model = gensim.models.Word2Vec(docgen, size=500, min_count=20, sg=1)"
   ]
  },
  {
   "cell_type": "code",
   "execution_count": 9,
   "metadata": {
    "ExecuteTime": {
     "end_time": "2021-05-19T03:20:40.267364Z",
     "start_time": "2021-05-19T03:20:40.264416Z"
    }
   },
   "outputs": [
    {
     "name": "stdout",
     "output_type": "stream",
     "text": [
      "Model has 12238 terms\n"
     ]
    }
   ],
   "source": [
    "print( \"Model has %d terms\" % len(w2v_model.wv.vocab) )"
   ]
  },
  {
   "cell_type": "markdown",
   "metadata": {},
   "source": [
    "Save for later use, so that we do not need to rebuild it:"
   ]
  },
  {
   "cell_type": "code",
   "execution_count": 10,
   "metadata": {
    "ExecuteTime": {
     "end_time": "2021-05-19T03:20:40.858744Z",
     "start_time": "2021-05-19T03:20:40.268591Z"
    }
   },
   "outputs": [],
   "source": [
    "w2v_model.save(\"21cenario1_w2v-model.bin\")"
   ]
  },
  {
   "cell_type": "code",
   "execution_count": 11,
   "metadata": {
    "ExecuteTime": {
     "end_time": "2021-05-19T03:20:40.861696Z",
     "start_time": "2021-05-19T03:20:40.860013Z"
    }
   },
   "outputs": [],
   "source": [
    "# To re-load this model, run\n",
    "# w2v_model = gensim.models.Word2Vec.load(\"cenario1_w2v-model.bin\")"
   ]
  },
  {
   "cell_type": "markdown",
   "metadata": {},
   "source": [
    "### Selecting the Number of Topics"
   ]
  },
  {
   "cell_type": "markdown",
   "metadata": {},
   "source": [
    "Once we have our Word2vec model, we can use it as part of our *topic coherence* approach to evaluate the different NMF topic models that we created previously. To do this, we will implement a simple version of the TC-W2V coherence measure."
   ]
  },
  {
   "cell_type": "markdown",
   "metadata": {},
   "source": [
    "We use the Word2vec model to calculate coherence scores for each of these models. We will define this coherence score as follows:"
   ]
  },
  {
   "cell_type": "code",
   "execution_count": 12,
   "metadata": {
    "ExecuteTime": {
     "end_time": "2021-05-19T03:20:40.871402Z",
     "start_time": "2021-05-19T03:20:40.862859Z"
    }
   },
   "outputs": [],
   "source": [
    "def calculate_coherence(w2v_model, term_rankings):\n",
    "    overall_coherence = 0.0\n",
    "    \n",
    "    for topic_index in range(len(term_rankings)):\n",
    "        # check each pair of terms\n",
    "        pair_scores = []\n",
    "        for pair in combinations(term_rankings[topic_index], 2):\n",
    "            pair_scores.append(w2v_model.similarity(pair[0], pair[1]))\n",
    "        # get the mean for all pairs in this topic\n",
    "        topic_score = sum(pair_scores) / len(pair_scores)\n",
    "        overall_coherence += topic_score\n",
    "    \n",
    "    # get the mean score across all topics\n",
    "    return overall_coherence / len(term_rankings)"
   ]
  },
  {
   "cell_type": "markdown",
   "metadata": {},
   "source": [
    "We also define a function to get the topic descriptor (i.e. list of top terms) for each topic:"
   ]
  },
  {
   "cell_type": "code",
   "execution_count": 13,
   "metadata": {
    "ExecuteTime": {
     "end_time": "2021-05-19T03:20:40.881099Z",
     "start_time": "2021-05-19T03:20:40.872710Z"
    }
   },
   "outputs": [],
   "source": [
    "import numpy as np\n",
    "\n",
    "\n",
    "def get_descriptor(all_terms, H, topic_index, top):\n",
    "    # reverse sort the values to sort the indices\n",
    "    top_indices = np.argsort(H[topic_index, :])[::-1]\n",
    "    \n",
    "    # now get the terms corresponding to the top-ranked indices\n",
    "    top_terms = []\n",
    "    \n",
    "    for term_index in top_indices[0:top]:\n",
    "        top_terms.append(all_terms[term_index])\n",
    "    \n",
    "    return top_terms"
   ]
  },
  {
   "cell_type": "markdown",
   "metadata": {},
   "source": [
    "Now process each of the models for different values of *k*:"
   ]
  },
  {
   "cell_type": "code",
   "execution_count": 14,
   "metadata": {
    "ExecuteTime": {
     "end_time": "2021-05-19T03:20:41.000815Z",
     "start_time": "2021-05-19T03:20:40.882427Z"
    }
   },
   "outputs": [
    {
     "name": "stdout",
     "output_type": "stream",
     "text": [
      "K=05: Coherence=0.2660\n",
      "K=10: Coherence=0.2665\n",
      "K=15: Coherence=0.2745\n",
      "K=20: Coherence=0.2773\n"
     ]
    },
    {
     "name": "stderr",
     "output_type": "stream",
     "text": [
      "/home/gean/anaconda3/lib/python3.7/site-packages/ipykernel_launcher.py:8: DeprecationWarning: Call to deprecated `similarity` (Method will be removed in 4.0.0, use self.wv.similarity() instead).\n",
      "  \n"
     ]
    }
   ],
   "source": [
    "from itertools import combinations\n",
    "\n",
    "k_values = []\n",
    "coherences = []\n",
    "\n",
    "for (k, W, H) in topic_models:\n",
    "    # Get all of the topic descriptors - the term_rankings, based on top 10 terms\n",
    "    term_rankings = []\n",
    "    \n",
    "    for topic_index in range(k):\n",
    "        term_rankings.append(get_descriptor(terms, H, topic_index, 10))\n",
    "    \n",
    "    # Now calculate the coherence based on our Word2vec model\n",
    "    k_values.append(k)\n",
    "    coherences.append(calculate_coherence(w2v_model, term_rankings))\n",
    "    \n",
    "    print(\"K=%02d: Coherence=%.4f\" % (k, coherences[-1]))\n",
    "    # print(f'{coherences[-1]:.4f}')"
   ]
  },
  {
   "cell_type": "markdown",
   "metadata": {},
   "source": [
    "We can now use *matplotlib* to generate a line plot of these coherence scores, to help us select an appropriate value."
   ]
  },
  {
   "cell_type": "code",
   "execution_count": 15,
   "metadata": {
    "ExecuteTime": {
     "end_time": "2021-05-19T03:20:41.224771Z",
     "start_time": "2021-05-19T03:20:41.002383Z"
    }
   },
   "outputs": [],
   "source": [
    "%matplotlib inline\n",
    "import matplotlib\n",
    "import matplotlib.pyplot as plt\n",
    "\n",
    "plt.style.use(\"ggplot\")\n",
    "matplotlib.rcParams.update({\"font.size\": 14})"
   ]
  },
  {
   "cell_type": "code",
   "execution_count": 16,
   "metadata": {
    "ExecuteTime": {
     "end_time": "2021-05-19T03:20:41.390697Z",
     "start_time": "2021-05-19T03:20:41.226047Z"
    }
   },
   "outputs": [
    {
     "data": {
      "image/png": "[encoded data removed]",
      "text/plain": [
       "<Figure size 936x504 with 1 Axes>"
      ]
     },
     "metadata": {},
     "output_type": "display_data"
    }
   ],
   "source": [
    "fig = plt.figure(figsize=(13,7))\n",
    "\n",
    "# create the line plot\n",
    "ax = plt.plot( k_values, coherences )\n",
    "plt.xticks(k_values)\n",
    "plt.xlabel(\"Number of Topics\")\n",
    "plt.ylabel(\"Mean Coherence\")\n",
    "\n",
    "# add the points\n",
    "plt.scatter( k_values, coherences, s=120)\n",
    "\n",
    "\n",
    "# find and annotate the maximum point on the plot\n",
    "ymax = max(coherences)\n",
    "xpos = coherences.index(ymax)\n",
    "best_k = k_values[xpos]\n",
    "plt.annotate( \"k=%d\" % best_k, xy=(best_k, ymax), xytext=(best_k, ymax), textcoords=\"offset points\", fontsize=16)\n",
    "\n",
    "# show the plot\n",
    "plt.show()"
   ]
  },
  {
   "cell_type": "markdown",
   "metadata": {},
   "source": [
    "### Examine the Final  Model"
   ]
  },
  {
   "cell_type": "markdown",
   "metadata": {},
   "source": [
    "The plot above suggests that the most appropriate value for the number of topics is *k=8*."
   ]
  },
  {
   "cell_type": "markdown",
   "metadata": {},
   "source": [
    "# 5"
   ]
  },
  {
   "cell_type": "code",
   "execution_count": 17,
   "metadata": {
    "ExecuteTime": {
     "end_time": "2021-05-19T03:20:41.394667Z",
     "start_time": "2021-05-19T03:20:41.392047Z"
    }
   },
   "outputs": [],
   "source": [
    "k = 5 # best_k\n",
    "\n",
    "# get the model that we generated earlier.\n",
    "W = topic_models[0][1]\n",
    "H = topic_models[0][2]"
   ]
  },
  {
   "cell_type": "code",
   "execution_count": 18,
   "metadata": {
    "ExecuteTime": {
     "end_time": "2021-05-19T03:20:41.408935Z",
     "start_time": "2021-05-19T03:20:41.395954Z"
    }
   },
   "outputs": [
    {
     "name": "stdout",
     "output_type": "stream",
     "text": [
      "Topic 01: dia, feliz, falte, ninguna, cada\n",
      "Topic 02: mujeres, igualdad, derechos, mundo, violencia\n",
      "Topic 03: todas, gracias, felicidades, mundo, aquellas\n",
      "Topic 04: hoy, lucha, siempre, dias, nunca\n",
      "Topic 05: mujer, internacional, ser, dia, marzo\n"
     ]
    }
   ],
   "source": [
    "for topic_index in range(k):\n",
    "    descriptor = get_descriptor( terms, H, topic_index, 5)\n",
    "    str_descriptor = \", \".join( descriptor )\n",
    "    print(\"Topic %02d: %s\" % ( topic_index+1, str_descriptor ) )"
   ]
  },
  {
   "cell_type": "code",
   "execution_count": 19,
   "metadata": {
    "ExecuteTime": {
     "end_time": "2021-05-19T03:20:41.422774Z",
     "start_time": "2021-05-19T03:20:41.410367Z"
    }
   },
   "outputs": [
    {
     "name": "stdout",
     "output_type": "stream",
     "text": [
      "Topic 01: dia, feliz, falte, ninguna, cada, algun, buen, celebrar, dejen, especial\n",
      "Topic 02: mujeres, igualdad, derechos, mundo, violencia, hombres, lucha, genero, vida, sociedad\n",
      "Topic 03: todas, gracias, felicidades, mundo, aquellas, voz, queremos, especial, companeras, quiero\n",
      "Topic 04: hoy, lucha, siempre, dias, nunca, ano, igualdad, manana, solo, derechos\n",
      "Topic 05: mujer, internacional, ser, dia, marzo, trabajadora, hombre, vida, igualdad, conmemoracion\n"
     ]
    }
   ],
   "source": [
    "for topic_index in range(k):\n",
    "    descriptor = get_descriptor( terms, H, topic_index, 10)\n",
    "    str_descriptor = \", \".join( descriptor )\n",
    "    print(\"Topic %02d: %s\" % ( topic_index+1, str_descriptor ) )"
   ]
  },
  {
   "cell_type": "code",
   "execution_count": 20,
   "metadata": {
    "ExecuteTime": {
     "end_time": "2021-05-19T03:20:41.431991Z",
     "start_time": "2021-05-19T03:20:41.424198Z"
    }
   },
   "outputs": [
    {
     "name": "stdout",
     "output_type": "stream",
     "text": [
      "Topic 01: dia, feliz, falte, ninguna, cada, algun, buen, celebrar, dejen, especial, lucha, podamos, internacional, dias, decir\n",
      "Topic 02: mujeres, igualdad, derechos, mundo, violencia, hombres, lucha, genero, vida, sociedad, asi, mexico, feminismo, pais, ninas\n",
      "Topic 03: todas, gracias, felicidades, mundo, aquellas, voz, queremos, especial, companeras, quiero, muchas, cada, ustedes, luchan, juntas\n",
      "Topic 04: hoy, lucha, siempre, dias, nunca, ano, igualdad, manana, solo, derechos, dia, conmemora, voz, queremos, conmemoramos\n",
      "Topic 05: mujer, internacional, ser, dia, marzo, trabajadora, hombre, vida, igualdad, conmemoracion, sociedad, conmemora, derechos, mundo, cada\n"
     ]
    }
   ],
   "source": [
    "for topic_index in range(k):\n",
    "    descriptor = get_descriptor( terms, H, topic_index, 15)\n",
    "    str_descriptor = \", \".join( descriptor )\n",
    "    print(\"Topic %02d: %s\" % ( topic_index+1, str_descriptor ) )"
   ]
  },
  {
   "cell_type": "code",
   "execution_count": 21,
   "metadata": {
    "ExecuteTime": {
     "end_time": "2021-05-19T03:20:41.444419Z",
     "start_time": "2021-05-19T03:20:41.433994Z"
    }
   },
   "outputs": [
    {
     "name": "stdout",
     "output_type": "stream",
     "text": [
      "Topic 01: dia, feliz, falte, ninguna, cada, algun, buen, celebrar, dejen, especial, lucha, podamos, internacional, dias, decir, mejor, celebracion, ojala, luchan, salir\n",
      "Topic 02: mujeres, igualdad, derechos, mundo, violencia, hombres, lucha, genero, vida, sociedad, asi, mexico, feminismo, pais, ninas, trabajo, futuro, historia, solo, respeto\n",
      "Topic 03: todas, gracias, felicidades, mundo, aquellas, voz, queremos, especial, companeras, quiero, muchas, cada, ustedes, luchan, juntas, amigas, hermanas, abrazo, luchando, vida\n",
      "Topic 04: hoy, lucha, siempre, dias, nunca, ano, igualdad, manana, solo, derechos, dia, conmemora, voz, queremos, conmemoramos, ser, quiero, seguimos, miedo, feminista\n",
      "Topic 05: mujer, internacional, ser, dia, marzo, trabajadora, hombre, vida, igualdad, conmemoracion, sociedad, conmemora, derechos, mundo, cada, violencia, genero, madre, historia, conmemoramos\n"
     ]
    }
   ],
   "source": [
    "for topic_index in range(k):\n",
    "    descriptor = get_descriptor( terms, H, topic_index, 20)\n",
    "    str_descriptor = \", \".join( descriptor )\n",
    "    print(\"Topic %02d: %s\" % ( topic_index+1, str_descriptor ) )"
   ]
  },
  {
   "cell_type": "markdown",
   "metadata": {},
   "source": [
    "# 10"
   ]
  },
  {
   "cell_type": "code",
   "execution_count": 22,
   "metadata": {
    "ExecuteTime": {
     "end_time": "2021-05-19T03:20:41.449691Z",
     "start_time": "2021-05-19T03:20:41.446261Z"
    }
   },
   "outputs": [],
   "source": [
    "k = 10 # best_k\n",
    "\n",
    "# get the model that we generated earlier.\n",
    "W = topic_models[1][1]\n",
    "H = topic_models[1][2]"
   ]
  },
  {
   "cell_type": "code",
   "execution_count": 23,
   "metadata": {
    "ExecuteTime": {
     "end_time": "2021-05-19T03:20:41.473675Z",
     "start_time": "2021-05-19T03:20:41.451346Z"
    }
   },
   "outputs": [
    {
     "name": "stdout",
     "output_type": "stream",
     "text": [
      "Topic 01: dia, feliz, falte, cada, ninguna\n",
      "Topic 02: mujeres, mundo, hombres, vida, violencia\n",
      "Topic 03: todas, mundo, felicidades, aquellas, especial\n",
      "Topic 04: hoy, dias, siempre, dia, manana\n",
      "Topic 05: mujer, internacional, dia, marzo, trabajadora\n",
      "Topic 06: ser, puede, debe, mujer, ninguna\n",
      "Topic 07: lucha, feminista, derechos, sigue, conmemora\n",
      "Topic 08: gracias, muchas, ultimo, disponible, siempre\n",
      "Topic 09: miedo, asi, quiero, queremos, libres\n",
      "Topic 10: igualdad, derechos, genero, violencia, respeto\n"
     ]
    }
   ],
   "source": [
    "for topic_index in range(k):\n",
    "    descriptor = get_descriptor( terms, H, topic_index, 5)\n",
    "    str_descriptor = \", \".join( descriptor )\n",
    "    print(\"Topic %02d: %s\" % ( topic_index+1, str_descriptor ) )"
   ]
  },
  {
   "cell_type": "code",
   "execution_count": 24,
   "metadata": {
    "ExecuteTime": {
     "end_time": "2021-05-19T03:20:41.489028Z",
     "start_time": "2021-05-19T03:20:41.477430Z"
    }
   },
   "outputs": [
    {
     "name": "stdout",
     "output_type": "stream",
     "text": [
      "Topic 01: dia, feliz, falte, cada, ninguna, buen, algun, celebrar, dejen, dias\n",
      "Topic 02: mujeres, mundo, hombres, vida, violencia, historia, ninas, trabajo, pais, mexico\n",
      "Topic 03: todas, mundo, felicidades, aquellas, especial, luchan, voz, companeras, juntas, abrazo\n",
      "Topic 04: hoy, dias, siempre, dia, manana, ano, voz, conmemora, nunca, conmemoramos\n",
      "Topic 05: mujer, internacional, dia, marzo, trabajadora, conmemoracion, conmemora, hombre, vida, sociedad\n",
      "Topic 06: ser, puede, debe, mujer, ninguna, falte, deberia, vida, hecho, parte\n",
      "Topic 07: lucha, feminista, derechos, sigue, conmemora, viva, continua, conmemoramos, celebra, marzo\n",
      "Topic 08: gracias, muchas, ultimo, disponible, siempre, tan, ustedes, mejor, gran, amo\n",
      "Topic 09: miedo, asi, quiero, queremos, libres, solo, vivas, feminismo, nunca, marcha\n",
      "Topic 10: igualdad, derechos, genero, violencia, respeto, oportunidades, sociedad, luchando, justicia, real\n"
     ]
    }
   ],
   "source": [
    "for topic_index in range(k):\n",
    "    descriptor = get_descriptor( terms, H, topic_index, 10)\n",
    "    str_descriptor = \", \".join( descriptor )\n",
    "    print(\"Topic %02d: %s\" % ( topic_index+1, str_descriptor ) )"
   ]
  },
  {
   "cell_type": "code",
   "execution_count": 25,
   "metadata": {
    "ExecuteTime": {
     "end_time": "2021-05-19T03:20:41.504770Z",
     "start_time": "2021-05-19T03:20:41.491049Z"
    }
   },
   "outputs": [
    {
     "name": "stdout",
     "output_type": "stream",
     "text": [
      "Topic 01: dia, feliz, falte, cada, ninguna, buen, algun, celebrar, dejen, dias, especial, mejor, decir, podamos, buenos\n",
      "Topic 02: mujeres, mundo, hombres, vida, violencia, historia, ninas, trabajo, pais, mexico, trabajadoras, trans, futuro, pandemia, igualitario\n",
      "Topic 03: todas, mundo, felicidades, aquellas, especial, luchan, voz, companeras, juntas, abrazo, cada, ustedes, luchando, amigas, hermanas\n",
      "Topic 04: hoy, dias, siempre, dia, manana, ano, voz, conmemora, nunca, conmemoramos, celebra, celebramos, marzo, buenos, solo\n",
      "Topic 05: mujer, internacional, dia, marzo, trabajadora, conmemoracion, conmemora, hombre, vida, sociedad, mundo, marco, celebra, especial, historia\n",
      "Topic 06: ser, puede, debe, mujer, ninguna, falte, deberia, vida, hecho, parte, dejen, quiero, orgullosa, libre, hombre\n",
      "Topic 07: lucha, feminista, derechos, sigue, conmemora, viva, continua, conmemoramos, celebra, marzo, seguimos, sociedad, constante, companeras, dia\n",
      "Topic 08: gracias, muchas, ultimo, disponible, siempre, tan, ustedes, mejor, gran, amo, trabajo, compartir, vida, diario, voz\n",
      "Topic 09: miedo, asi, quiero, queremos, libres, solo, vivas, feminismo, nunca, marcha, siempre, feminista, cada, ano, casa\n",
      "Topic 10: igualdad, derechos, genero, violencia, respeto, oportunidades, sociedad, luchando, justicia, real, equidad, libertad, hombres, seguir, mundo\n"
     ]
    }
   ],
   "source": [
    "for topic_index in range(k):\n",
    "    descriptor = get_descriptor( terms, H, topic_index, 15)\n",
    "    str_descriptor = \", \".join( descriptor )\n",
    "    print(\"Topic %02d: %s\" % ( topic_index+1, str_descriptor ) )"
   ]
  },
  {
   "cell_type": "code",
   "execution_count": 26,
   "metadata": {
    "ExecuteTime": {
     "end_time": "2021-05-19T03:20:41.519213Z",
     "start_time": "2021-05-19T03:20:41.506605Z"
    }
   },
   "outputs": [
    {
     "name": "stdout",
     "output_type": "stream",
     "text": [
      "Topic 01: dia, feliz, falte, cada, ninguna, buen, algun, celebrar, dejen, dias, especial, mejor, decir, podamos, buenos, luchan, luchadoras, celebracion, guerreras, ojala\n",
      "Topic 02: mujeres, mundo, hombres, vida, violencia, historia, ninas, trabajo, pais, mexico, trabajadoras, trans, futuro, pandemia, igualitario, derechos, marzo, parte, lideres, muchas\n",
      "Topic 03: todas, mundo, felicidades, aquellas, especial, luchan, voz, companeras, juntas, abrazo, cada, ustedes, luchando, amigas, hermanas, respeto, queremos, vida, reconocimiento, faltan\n",
      "Topic 04: hoy, dias, siempre, dia, manana, ano, voz, conmemora, nunca, conmemoramos, celebra, celebramos, marzo, buenos, solo, recordar, ayer, celebrar, felicita, buen\n",
      "Topic 05: mujer, internacional, dia, marzo, trabajadora, conmemoracion, conmemora, hombre, vida, sociedad, mundo, marco, celebra, especial, historia, gran, conmemoramos, felicidades, participacion, cada\n",
      "Topic 06: ser, puede, debe, mujer, ninguna, falte, deberia, vida, hecho, parte, dejen, quiero, orgullosa, libre, hombre, libres, solo, humano, ultima, dias\n",
      "Topic 07: lucha, feminista, derechos, sigue, conmemora, viva, continua, conmemoramos, celebra, marzo, seguimos, sociedad, constante, companeras, dia, pie, felicita, diaria, conmemoracion, equidad\n",
      "Topic 08: gracias, muchas, ultimo, disponible, siempre, tan, ustedes, mejor, gran, amo, trabajo, compartir, vida, diario, voz, companeras, apoyo, existir, mil, parte\n",
      "Topic 09: miedo, asi, quiero, queremos, libres, solo, vivas, feminismo, nunca, marcha, siempre, feminista, cada, ano, casa, ver, vivir, hace, salir, calle\n",
      "Topic 10: igualdad, derechos, genero, violencia, respeto, oportunidades, sociedad, luchando, justicia, real, equidad, libertad, hombres, seguir, mundo, compromiso, futuro, feminismo, trabajando, hacia\n"
     ]
    }
   ],
   "source": [
    "for topic_index in range(k):\n",
    "    descriptor = get_descriptor( terms, H, topic_index, 20)\n",
    "    str_descriptor = \", \".join( descriptor )\n",
    "    print(\"Topic %02d: %s\" % ( topic_index+1, str_descriptor ) )"
   ]
  },
  {
   "cell_type": "markdown",
   "metadata": {},
   "source": [
    "# 15"
   ]
  },
  {
   "cell_type": "code",
   "execution_count": 27,
   "metadata": {
    "ExecuteTime": {
     "end_time": "2021-05-19T03:20:41.523938Z",
     "start_time": "2021-05-19T03:20:41.520891Z"
    }
   },
   "outputs": [],
   "source": [
    "k = 15 # best_k\n",
    "\n",
    "# get the model that we generated earlier.\n",
    "W = topic_models[2][1]\n",
    "H = topic_models[2][2]"
   ]
  },
  {
   "cell_type": "code",
   "execution_count": 28,
   "metadata": {
    "ExecuteTime": {
     "end_time": "2021-05-19T03:20:41.545650Z",
     "start_time": "2021-05-19T03:20:41.525684Z"
    }
   },
   "outputs": [
    {
     "name": "stdout",
     "output_type": "stream",
     "text": [
      "Topic 01: feliz, falte, ninguna, dia, dejen\n",
      "Topic 02: mujeres, hombres, vida, violencia, historia\n",
      "Topic 03: todas, felicidades, aquellas, especial, voz\n",
      "Topic 04: hoy, nunca, manana, voz, conmemora\n",
      "Topic 05: mujer, internacional, marzo, trabajadora, hombre\n",
      "Topic 06: ser, puede, debe, ninguna, solo\n",
      "Topic 07: lucha, feminista, derechos, sigue, viva\n",
      "Topic 08: gracias, muchas, ultimo, disponible, tan\n",
      "Topic 09: dia, internacional, cada, celebrar, buen\n",
      "Topic 10: igualdad, derechos, genero, violencia, respeto\n",
      "Topic 11: asi, marcha, feminista, feminismo, gobierno\n",
      "Topic 12: siempre, juntas, manana, fuertes, nunca\n",
      "Topic 13: miedo, queremos, quiero, libres, vivas\n",
      "Topic 14: dias, ano, buenos, solo, marzo\n",
      "Topic 15: mundo, mejor, igualitario, futuro, justo\n"
     ]
    }
   ],
   "source": [
    "for topic_index in range(k):\n",
    "    descriptor = get_descriptor( terms, H, topic_index, 5)\n",
    "    str_descriptor = \", \".join( descriptor )\n",
    "    print(\"Topic %02d: %s\" % ( topic_index+1, str_descriptor ) )"
   ]
  },
  {
   "cell_type": "code",
   "execution_count": 29,
   "metadata": {
    "ExecuteTime": {
     "end_time": "2021-05-19T03:20:41.565096Z",
     "start_time": "2021-05-19T03:20:41.549089Z"
    }
   },
   "outputs": [
    {
     "name": "stdout",
     "output_type": "stream",
     "text": [
      "Topic 01: feliz, falte, ninguna, dia, dejen, decir, companeras, deseamos, desea, luchadoras\n",
      "Topic 02: mujeres, hombres, vida, violencia, historia, trabajo, trabajadoras, ninas, pais, derechos\n",
      "Topic 03: todas, felicidades, aquellas, especial, voz, companeras, luchan, abrazo, amigas, juntas\n",
      "Topic 04: hoy, nunca, manana, voz, conmemora, conmemoramos, celebra, celebramos, ayer, recordar\n",
      "Topic 05: mujer, internacional, marzo, trabajadora, hombre, vida, sociedad, conmemora, conmemoracion, historia\n",
      "Topic 06: ser, puede, debe, ninguna, solo, falte, deberia, vida, hecho, mujer\n",
      "Topic 07: lucha, feminista, derechos, sigue, viva, conmemora, continua, conmemoramos, celebra, seguimos\n",
      "Topic 08: gracias, muchas, ultimo, disponible, tan, ustedes, gran, amo, vida, trabajo\n",
      "Topic 09: dia, internacional, cada, celebrar, buen, algun, conmemorar, conmemoracion, celebracion, especial\n",
      "Topic 10: igualdad, derechos, genero, violencia, respeto, oportunidades, sociedad, justicia, luchando, real\n",
      "Topic 11: asi, marcha, feminista, feminismo, gobierno, mexico, palacio, nacional, feministas, solo\n",
      "Topic 12: siempre, juntas, manana, fuertes, nunca, respeto, ustedes, lado, amo, admiracion\n",
      "Topic 13: miedo, queremos, quiero, libres, vivas, vivir, salir, calle, casa, tener\n",
      "Topic 14: dias, ano, buenos, solo, marzo, hace, pasado, cada, sino, resto\n",
      "Topic 15: mundo, mejor, igualitario, futuro, justo, cada, lideres, covid, hacer, construir\n"
     ]
    }
   ],
   "source": [
    "for topic_index in range(k):\n",
    "    descriptor = get_descriptor( terms, H, topic_index, 10)\n",
    "    str_descriptor = \", \".join( descriptor )\n",
    "    print(\"Topic %02d: %s\" % ( topic_index+1, str_descriptor ) )"
   ]
  },
  {
   "cell_type": "code",
   "execution_count": 30,
   "metadata": {
    "ExecuteTime": {
     "end_time": "2021-05-19T03:20:41.583973Z",
     "start_time": "2021-05-19T03:20:41.566761Z"
    }
   },
   "outputs": [
    {
     "name": "stdout",
     "output_type": "stream",
     "text": [
      "Topic 01: feliz, falte, ninguna, dia, dejen, decir, companeras, deseamos, desea, luchadoras, guerreras, chicas, matarnos, dice, mujer\n",
      "Topic 02: mujeres, hombres, vida, violencia, historia, trabajo, trabajadoras, ninas, pais, derechos, trans, pandemia, mexico, valientes, muchas\n",
      "Topic 03: todas, felicidades, aquellas, especial, voz, companeras, luchan, abrazo, amigas, juntas, ustedes, luchando, hermanas, cada, respeto\n",
      "Topic 04: hoy, nunca, manana, voz, conmemora, conmemoramos, celebra, celebramos, ayer, recordar, aqui, felicita, celebrar, marzo, solo\n",
      "Topic 05: mujer, internacional, marzo, trabajadora, hombre, vida, sociedad, conmemora, conmemoracion, historia, marco, participacion, primera, conmemoramos, madre\n",
      "Topic 06: ser, puede, debe, ninguna, solo, falte, deberia, vida, hecho, mujer, parte, dejen, quiero, tan, hombre\n",
      "Topic 07: lucha, feminista, derechos, sigue, viva, conmemora, continua, conmemoramos, celebra, seguimos, marzo, sociedad, constante, companeras, pie\n",
      "Topic 08: gracias, muchas, ultimo, disponible, tan, ustedes, gran, amo, vida, trabajo, compartir, voz, diario, cada, companeras\n",
      "Topic 09: dia, internacional, cada, celebrar, buen, algun, conmemorar, conmemoracion, celebracion, especial, recordar, marzo, luchan, felicitar, ojala\n",
      "Topic 10: igualdad, derechos, genero, violencia, respeto, oportunidades, sociedad, justicia, luchando, real, equidad, libertad, hombres, seguir, compromiso\n",
      "Topic 11: asi, marcha, feminista, feminismo, gobierno, mexico, palacio, nacional, feministas, solo, hace, ver, nunca, aqui, bien\n",
      "Topic 12: siempre, juntas, manana, fuertes, nunca, respeto, ustedes, lado, amo, admiracion, unidas, ahora, sido, amor, vida\n",
      "Topic 13: miedo, queremos, quiero, libres, vivas, vivir, salir, calle, casa, tener, juntas, podamos, libre, seguras, justicia\n",
      "Topic 14: dias, ano, buenos, solo, marzo, hace, pasado, cada, sino, resto, semana, lunes, seguimos, respeto, vida\n",
      "Topic 15: mundo, mejor, igualitario, futuro, justo, cada, lideres, covid, hacer, construir, cambiar, lugar, ninas, equitativo, luchan\n"
     ]
    }
   ],
   "source": [
    "for topic_index in range(k):\n",
    "    descriptor = get_descriptor( terms, H, topic_index, 15)\n",
    "    str_descriptor = \", \".join( descriptor )\n",
    "    print(\"Topic %02d: %s\" % ( topic_index+1, str_descriptor ) )"
   ]
  },
  {
   "cell_type": "code",
   "execution_count": 31,
   "metadata": {
    "ExecuteTime": {
     "end_time": "2021-05-19T03:20:41.601284Z",
     "start_time": "2021-05-19T03:20:41.585969Z"
    }
   },
   "outputs": [
    {
     "name": "stdout",
     "output_type": "stream",
     "text": [
      "Topic 01: feliz, falte, ninguna, dia, dejen, decir, companeras, deseamos, desea, luchadoras, guerreras, chicas, matarnos, dice, mujer, hermosas, happy, menos, lunes, deseo\n",
      "Topic 02: mujeres, hombres, vida, violencia, historia, trabajo, trabajadoras, ninas, pais, derechos, trans, pandemia, mexico, valientes, muchas, parte, marzo, grandes, especial, sociedad\n",
      "Topic 03: todas, felicidades, aquellas, especial, voz, companeras, luchan, abrazo, amigas, juntas, ustedes, luchando, hermanas, cada, respeto, vida, faltan, reconocimiento, justicia, tocan\n",
      "Topic 04: hoy, nunca, manana, voz, conmemora, conmemoramos, celebra, celebramos, ayer, recordar, aqui, felicita, celebrar, marzo, solo, seguimos, aquellas, anos, recordamos, luchando\n",
      "Topic 05: mujer, internacional, marzo, trabajadora, hombre, vida, sociedad, conmemora, conmemoracion, historia, marco, participacion, primera, conmemoramos, madre, motivo, fuerte, gran, papel, celebra\n",
      "Topic 06: ser, puede, debe, ninguna, solo, falte, deberia, vida, hecho, mujer, parte, dejen, quiero, tan, hombre, orgullosa, nadie, libre, tener, humano\n",
      "Topic 07: lucha, feminista, derechos, sigue, viva, conmemora, continua, conmemoramos, celebra, seguimos, marzo, sociedad, constante, companeras, pie, felicita, diaria, equidad, fuerza, conmemoracion\n",
      "Topic 08: gracias, muchas, ultimo, disponible, tan, ustedes, gran, amo, vida, trabajo, compartir, voz, diario, cada, companeras, mejor, existir, apoyo, mil, dar\n",
      "Topic 09: dia, internacional, cada, celebrar, buen, algun, conmemorar, conmemoracion, celebracion, especial, recordar, marzo, luchan, felicitar, ojala, mejor, tan, luchar, importante, reflexion\n",
      "Topic 10: igualdad, derechos, genero, violencia, respeto, oportunidades, sociedad, justicia, luchando, real, equidad, libertad, hombres, seguir, compromiso, feminismo, trabajando, hacia, camino, seguimos\n",
      "Topic 11: asi, marcha, feminista, feminismo, gobierno, mexico, palacio, nacional, feministas, solo, hace, ver, nunca, aqui, bien, movimiento, anos, hacer, violencia, presidente\n",
      "Topic 12: siempre, juntas, manana, fuertes, nunca, respeto, ustedes, lado, amo, admiracion, unidas, ahora, sido, amor, vida, ahi, apoyo, tan, hermanas, casa\n",
      "Topic 13: miedo, queremos, quiero, libres, vivas, vivir, salir, calle, casa, tener, juntas, podamos, libre, seguras, justicia, fuertes, nunca, caminar, sola, volver\n",
      "Topic 14: dias, ano, buenos, solo, marzo, hace, pasado, cada, sino, resto, semana, lunes, seguimos, respeto, vida, tod, felicidades, aunque, restantes, aires\n",
      "Topic 15: mundo, mejor, igualitario, futuro, justo, cada, lideres, covid, hacer, construir, cambiar, lugar, ninas, equitativo, luchan, iguales, esfuerzos, amor, socialmente, entero\n"
     ]
    }
   ],
   "source": [
    "for topic_index in range(k):\n",
    "    descriptor = get_descriptor( terms, H, topic_index, 20)\n",
    "    str_descriptor = \", \".join( descriptor )\n",
    "    print(\"Topic %02d: %s\" % ( topic_index+1, str_descriptor ) )"
   ]
  },
  {
   "cell_type": "markdown",
   "metadata": {},
   "source": [
    "# 20"
   ]
  },
  {
   "cell_type": "code",
   "execution_count": 32,
   "metadata": {
    "ExecuteTime": {
     "end_time": "2021-05-19T03:20:41.605275Z",
     "start_time": "2021-05-19T03:20:41.602691Z"
    }
   },
   "outputs": [],
   "source": [
    "k = 20 # best_k\n",
    "\n",
    "# get the model that we generated earlier.\n",
    "W = topic_models[3][1]\n",
    "H = topic_models[3][2]"
   ]
  },
  {
   "cell_type": "markdown",
   "metadata": {},
   "source": [
    "Display the topic descriptors for this model:"
   ]
  },
  {
   "cell_type": "code",
   "execution_count": 33,
   "metadata": {
    "ExecuteTime": {
     "end_time": "2021-05-19T03:20:41.631934Z",
     "start_time": "2021-05-19T03:20:41.606654Z"
    }
   },
   "outputs": [
    {
     "name": "stdout",
     "output_type": "stream",
     "text": [
      "Topic 01: dia, internacional, cada, celebrar, buen\n",
      "Topic 02: mujeres, hombres, vida, historia, trabajo\n",
      "Topic 03: todas, felicidades, aquellas, especial, voz\n",
      "Topic 04: hoy, nunca, manana, voz, conmemora\n",
      "Topic 05: mujer, internacional, marzo, trabajadora, hombre\n",
      "Topic 06: ser, puede, debe, ninguna, falte\n",
      "Topic 07: lucha, sigue, viva, conmemora, continua\n",
      "Topic 08: gracias, muchas, ultimo, disponible, tan\n",
      "Topic 09: feliz, falte, ninguna, dia, dejen\n",
      "Topic 10: igualdad, respeto, hombres, oportunidades, real\n",
      "Topic 11: feminismo, nunca, machismo, solo, hombre\n",
      "Topic 12: siempre, juntas, manana, fuertes, ustedes\n",
      "Topic 13: miedo, quiero, salir, vivir, calle\n",
      "Topic 14: dias, buenos, ano, solo, marzo\n",
      "Topic 15: mundo, mejor, igualitario, futuro, justo\n",
      "Topic 16: asi, ojala, aun, cosas, bien\n",
      "Topic 17: violencia, genero, vida, libre, machista\n",
      "Topic 18: queremos, vivas, libres, iguales, fuertes\n",
      "Topic 19: feminista, marcha, gobierno, aqui, palacio\n",
      "Topic 20: derechos, luchando, humanos, seguir, oportunidades\n"
     ]
    }
   ],
   "source": [
    "for topic_index in range(k):\n",
    "    descriptor = get_descriptor( terms, H, topic_index, 5)\n",
    "    str_descriptor = \", \".join( descriptor )\n",
    "    print(\"Topic %02d: %s\" % ( topic_index+1, str_descriptor ) )"
   ]
  },
  {
   "cell_type": "code",
   "execution_count": 34,
   "metadata": {
    "ExecuteTime": {
     "end_time": "2021-05-19T03:20:41.655749Z",
     "start_time": "2021-05-19T03:20:41.633833Z"
    }
   },
   "outputs": [
    {
     "name": "stdout",
     "output_type": "stream",
     "text": [
      "Topic 01: dia, internacional, cada, celebrar, buen, algun, conmemoracion, conmemorar, celebracion, especial\n",
      "Topic 02: mujeres, hombres, vida, historia, trabajo, trabajadoras, pais, ninas, trans, valientes\n",
      "Topic 03: todas, felicidades, aquellas, especial, voz, companeras, luchan, abrazo, juntas, amigas\n",
      "Topic 04: hoy, nunca, manana, voz, conmemora, conmemoramos, celebra, celebramos, ayer, recordar\n",
      "Topic 05: mujer, internacional, marzo, trabajadora, hombre, vida, sociedad, conmemora, conmemoracion, historia\n",
      "Topic 06: ser, puede, debe, ninguna, falte, deberia, solo, hecho, mujer, dejen\n",
      "Topic 07: lucha, sigue, viva, conmemora, continua, conmemoramos, sociedad, celebra, marzo, constante\n",
      "Topic 08: gracias, muchas, ultimo, disponible, tan, ustedes, gran, amo, vida, trabajo\n",
      "Topic 09: feliz, falte, ninguna, dia, dejen, companeras, decir, deseamos, desea, luchadoras\n",
      "Topic 10: igualdad, respeto, hombres, oportunidades, real, sociedad, genero, libertad, justicia, compromiso\n",
      "Topic 11: feminismo, nunca, machismo, solo, hombre, trans, hombres, representa, necesario, hace\n",
      "Topic 12: siempre, juntas, manana, fuertes, ustedes, nunca, respeto, lado, unidas, amo\n",
      "Topic 13: miedo, quiero, salir, vivir, calle, casa, tener, nunca, libres, libre\n",
      "Topic 14: dias, buenos, ano, solo, marzo, hace, sino, pasado, resto, cada\n",
      "Topic 15: mundo, mejor, igualitario, futuro, justo, cada, lideres, covid, hacer, construir\n",
      "Topic 16: asi, ojala, aun, cosas, bien, mexico, vivio, palacio, luce, ver\n",
      "Topic 17: violencia, genero, vida, libre, machista, justicia, equidad, victimas, desigualdad, discriminacion\n",
      "Topic 18: queremos, vivas, libres, iguales, fuertes, seguras, juntas, valientes, justicia, unidas\n",
      "Topic 19: feminista, marcha, gobierno, aqui, palacio, mexico, nacional, movimiento, feministas, hace\n",
      "Topic 20: derechos, luchando, humanos, seguir, oportunidades, luchar, conmemoramos, mismos, reconocimiento, lucharon\n"
     ]
    }
   ],
   "source": [
    "for topic_index in range(k):\n",
    "    descriptor = get_descriptor( terms, H, topic_index, 10)\n",
    "    str_descriptor = \", \".join( descriptor )\n",
    "    print(\"Topic %02d: %s\" % ( topic_index+1, str_descriptor ) )"
   ]
  },
  {
   "cell_type": "code",
   "execution_count": 35,
   "metadata": {
    "ExecuteTime": {
     "end_time": "2021-05-19T03:20:41.681094Z",
     "start_time": "2021-05-19T03:20:41.657113Z"
    }
   },
   "outputs": [
    {
     "name": "stdout",
     "output_type": "stream",
     "text": [
      "Topic 01: dia, internacional, cada, celebrar, buen, algun, conmemoracion, conmemorar, celebracion, especial, recordar, marzo, luchan, felicitar, ojala\n",
      "Topic 02: mujeres, hombres, vida, historia, trabajo, trabajadoras, pais, ninas, trans, valientes, muchas, pandemia, grandes, marzo, especial\n",
      "Topic 03: todas, felicidades, aquellas, especial, voz, companeras, luchan, abrazo, juntas, amigas, ustedes, cada, hermanas, respeto, luchando\n",
      "Topic 04: hoy, nunca, manana, voz, conmemora, conmemoramos, celebra, celebramos, ayer, recordar, felicita, celebrar, marzo, solo, aqui\n",
      "Topic 05: mujer, internacional, marzo, trabajadora, hombre, vida, sociedad, conmemora, conmemoracion, historia, participacion, marco, primera, madre, conmemoramos\n",
      "Topic 06: ser, puede, debe, ninguna, falte, deberia, solo, hecho, mujer, dejen, parte, tan, orgullosa, vida, hombre\n",
      "Topic 07: lucha, sigue, viva, conmemora, continua, conmemoramos, sociedad, celebra, marzo, constante, seguimos, companeras, pie, felicita, equidad\n",
      "Topic 08: gracias, muchas, ultimo, disponible, tan, ustedes, gran, amo, vida, trabajo, compartir, diario, voz, cada, companeras\n",
      "Topic 09: feliz, falte, ninguna, dia, dejen, companeras, decir, deseamos, desea, luchadoras, guerreras, chicas, matarnos, dice, mujer\n",
      "Topic 10: igualdad, respeto, hombres, oportunidades, real, sociedad, genero, libertad, justicia, compromiso, camino, equidad, efectiva, trabajando, luchando\n",
      "Topic 11: feminismo, nunca, machismo, solo, hombre, trans, hombres, representa, necesario, hace, movimiento, interseccional, inclusivo, hacer, patriarcado\n",
      "Topic 12: siempre, juntas, manana, fuertes, ustedes, nunca, respeto, lado, unidas, amo, admiracion, sido, ahora, amor, tan\n",
      "Topic 13: miedo, quiero, salir, vivir, calle, casa, tener, nunca, libres, libre, sola, podamos, poder, solo, volver\n",
      "Topic 14: dias, buenos, ano, solo, marzo, hace, sino, pasado, resto, cada, semana, lunes, felicidades, tod, vida\n",
      "Topic 15: mundo, mejor, igualitario, futuro, justo, cada, lideres, covid, hacer, construir, cambiar, lugar, equitativo, ninas, luchan\n",
      "Topic 16: asi, ojala, aun, cosas, bien, mexico, vivio, palacio, luce, ver, solo, manifestacion, gobierno, claro, gente\n",
      "Topic 17: violencia, genero, vida, libre, machista, justicia, equidad, victimas, desigualdad, discriminacion, hacia, ninas, perspectiva, sexual, pais\n",
      "Topic 18: queremos, vivas, libres, iguales, fuertes, seguras, juntas, valientes, justicia, unidas, flores, felices, felicitar, menos, miedo\n",
      "Topic 19: feminista, marcha, gobierno, aqui, palacio, mexico, nacional, movimiento, feministas, hace, ano, presidente, ver, historia, anos\n",
      "Topic 20: derechos, luchando, humanos, seguir, oportunidades, luchar, conmemoramos, mismos, reconocimiento, lucharon, seguimos, sociedad, libertad, defensa, defender\n"
     ]
    }
   ],
   "source": [
    "for topic_index in range(k):\n",
    "    descriptor = get_descriptor( terms, H, topic_index, 15)\n",
    "    str_descriptor = \", \".join( descriptor )\n",
    "    print(\"Topic %02d: %s\" % ( topic_index+1, str_descriptor ) )"
   ]
  },
  {
   "cell_type": "code",
   "execution_count": 36,
   "metadata": {
    "ExecuteTime": {
     "end_time": "2021-05-19T03:20:41.706527Z",
     "start_time": "2021-05-19T03:20:41.682458Z"
    }
   },
   "outputs": [
    {
     "name": "stdout",
     "output_type": "stream",
     "text": [
      "Topic 01: dia, internacional, cada, celebrar, buen, algun, conmemoracion, conmemorar, celebracion, especial, recordar, marzo, luchan, felicitar, ojala, mejor, tan, importante, reflexion, luchar\n",
      "Topic 02: mujeres, hombres, vida, historia, trabajo, trabajadoras, pais, ninas, trans, valientes, muchas, pandemia, grandes, marzo, especial, sociedad, parte, mexico, solo, homenaje\n",
      "Topic 03: todas, felicidades, aquellas, especial, voz, companeras, luchan, abrazo, juntas, amigas, ustedes, cada, hermanas, respeto, luchando, justicia, vida, faltan, reconocimiento, tocan\n",
      "Topic 04: hoy, nunca, manana, voz, conmemora, conmemoramos, celebra, celebramos, ayer, recordar, felicita, celebrar, marzo, solo, aqui, aquellas, anos, recordamos, seguimos, pueden\n",
      "Topic 05: mujer, internacional, marzo, trabajadora, hombre, vida, sociedad, conmemora, conmemoracion, historia, participacion, marco, primera, madre, conmemoramos, fuerte, motivo, papel, gran, celebra\n",
      "Topic 06: ser, puede, debe, ninguna, falte, deberia, solo, hecho, mujer, dejen, parte, tan, orgullosa, vida, hombre, nadie, humano, ultima, deben, gana\n",
      "Topic 07: lucha, sigue, viva, conmemora, continua, conmemoramos, sociedad, celebra, marzo, constante, seguimos, companeras, pie, felicita, equidad, diaria, aun, fuerza, conmemoracion, hermanas\n",
      "Topic 08: gracias, muchas, ultimo, disponible, tan, ustedes, gran, amo, vida, trabajo, compartir, diario, voz, cada, companeras, mejor, existir, mil, apoyo, dar\n",
      "Topic 09: feliz, falte, ninguna, dia, dejen, companeras, decir, deseamos, desea, luchadoras, guerreras, chicas, matarnos, dice, mujer, hermosas, happy, menos, lunes, deseo\n",
      "Topic 10: igualdad, respeto, hombres, oportunidades, real, sociedad, genero, libertad, justicia, compromiso, camino, equidad, efectiva, trabajando, luchando, lograr, ambitos, hacia, seguir, plena\n",
      "Topic 11: feminismo, nunca, machismo, solo, hombre, trans, hombres, representa, necesario, hace, movimiento, interseccional, inclusivo, hacer, patriarcado, radical, odio, nadie, clase, puede\n",
      "Topic 12: siempre, juntas, manana, fuertes, ustedes, nunca, respeto, lado, unidas, amo, admiracion, sido, ahora, amor, tan, vida, ahi, apoyo, bien, hermanas\n",
      "Topic 13: miedo, quiero, salir, vivir, calle, casa, tener, nunca, libres, libre, sola, podamos, poder, solo, volver, amigas, caminar, ver, mama, voz\n",
      "Topic 14: dias, buenos, ano, solo, marzo, hace, sino, pasado, resto, cada, semana, lunes, felicidades, tod, vida, respeto, restantes, aunque, aires, ojala\n",
      "Topic 15: mundo, mejor, igualitario, futuro, justo, cada, lideres, covid, hacer, construir, cambiar, lugar, equitativo, ninas, luchan, iguales, esfuerzos, oportunidades, amor, socialmente\n",
      "Topic 16: asi, ojala, aun, cosas, bien, mexico, vivio, palacio, luce, ver, solo, manifestacion, gobierno, claro, gente, hombres, nacional, casa, violadores, zocalo\n",
      "Topic 17: violencia, genero, vida, libre, machista, justicia, equidad, victimas, desigualdad, discriminacion, hacia, ninas, perspectiva, sexual, pais, erradicar, sociedad, tipo, feminicidios, acoso\n",
      "Topic 18: queremos, vivas, libres, iguales, fuertes, seguras, juntas, valientes, justicia, unidas, flores, felices, felicitar, menos, miedo, vivir, felicitaciones, trabajo, reconocer, totalmente\n",
      "Topic 19: feminista, marcha, gobierno, aqui, palacio, mexico, nacional, movimiento, feministas, hace, ano, presidente, ver, historia, anos, cada, ciudad, ahora, vez, policias\n",
      "Topic 20: derechos, luchando, humanos, seguir, oportunidades, luchar, conmemoramos, mismos, reconocimiento, lucharon, seguimos, sociedad, libertad, defensa, defender, equidad, exigir, reivindicacion, conmemora, sigamos\n"
     ]
    }
   ],
   "source": [
    "for topic_index in range(k):\n",
    "    descriptor = get_descriptor( terms, H, topic_index, 20)\n",
    "    str_descriptor = \", \".join( descriptor )\n",
    "    print(\"Topic %02d: %s\" % ( topic_index+1, str_descriptor ) )"
   ]
  },
  {
   "cell_type": "code",
   "execution_count": null,
   "metadata": {},
   "outputs": [],
   "source": []
  },
  {
   "cell_type": "code",
   "execution_count": null,
   "metadata": {},
   "outputs": [],
   "source": []
  }
 ],
 "metadata": {
  "@webio": {
   "lastCommId": null,
   "lastKernelId": null
  },
  "kernelspec": {
   "display_name": "Python 3",
   "language": "python",
   "name": "python3"
  },
  "language_info": {
   "codemirror_mode": {
    "name": "ipython",
    "version": 3
   },
   "file_extension": ".py",
   "mimetype": "text/x-python",
   "name": "python",
   "nbconvert_exporter": "python",
   "pygments_lexer": "ipython3",
   "version": "3.7.7"
  },
  "toc": {
   "base_numbering": 1,
   "nav_menu": {
    "height": "91px",
    "width": "373px"
   },
   "number_sections": true,
   "sideBar": true,
   "skip_h1_title": false,
   "title_cell": "Table of Contents",
   "title_sidebar": "Contents",
   "toc_cell": false,
   "toc_position": {
    "height": "557px",
    "left": "22px",
    "top": "170px",
    "width": "288px"
   },
   "toc_section_display": true,
   "toc_window_display": true
  }
 },
 "nbformat": 4,
 "nbformat_minor": 4
}
