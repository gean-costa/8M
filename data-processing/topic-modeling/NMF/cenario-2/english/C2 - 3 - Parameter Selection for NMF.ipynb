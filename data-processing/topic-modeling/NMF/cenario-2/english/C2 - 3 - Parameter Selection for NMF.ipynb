{
 "cells": [
  {
   "cell_type": "markdown",
   "metadata": {},
   "source": [
    "# Parameter Selection for NMF"
   ]
  },
  {
   "cell_type": "markdown",
   "metadata": {},
   "source": [
    "Now we look at the more advanced task of parameter selection for NMF topic modelling - namely, selecting a useful value for the number of topics *k*."
   ]
  },
  {
   "cell_type": "markdown",
   "metadata": {},
   "source": [
    "First, let's load the TF-IDF normalised document-term matrix and list of terms that we stored earlier using *Joblib*:"
   ]
  },
  {
   "cell_type": "code",
   "execution_count": 1,
   "metadata": {
    "ExecuteTime": {
     "end_time": "2021-05-19T01:49:24.243463Z",
     "start_time": "2021-05-19T01:49:22.528370Z"
    }
   },
   "outputs": [
    {
     "name": "stdout",
     "output_type": "stream",
     "text": [
      "Loaded 557957 X 14900 document-term matrix\n"
     ]
    }
   ],
   "source": [
    "import joblib\n",
    "\n",
    "(A, terms, snippets) = joblib.load(\"21cenario2-tweets-tfidf.pkl\")\n",
    "\n",
    "print(\"Loaded %d X %d document-term matrix\" % (A.shape[0], A.shape[1]))"
   ]
  },
  {
   "cell_type": "markdown",
   "metadata": {},
   "source": [
    "### Create the Topic Models"
   ]
  },
  {
   "cell_type": "markdown",
   "metadata": {},
   "source": [
    "A common approach for parameter selection is to Measure and compare the topic coherence of models generated for different values of *k*."
   ]
  },
  {
   "cell_type": "markdown",
   "metadata": {},
   "source": [
    "We need to start by pre-specifying an initial range of \"sensible\" values:"
   ]
  },
  {
   "cell_type": "code",
   "execution_count": 2,
   "metadata": {
    "ExecuteTime": {
     "end_time": "2021-05-19T01:49:24.247278Z",
     "start_time": "2021-05-19T01:49:24.245045Z"
    }
   },
   "outputs": [],
   "source": [
    "kmin, kmax = 5, 20"
   ]
  },
  {
   "cell_type": "markdown",
   "metadata": {},
   "source": [
    "Apply NMF for each of these values:"
   ]
  },
  {
   "cell_type": "code",
   "execution_count": 3,
   "metadata": {
    "ExecuteTime": {
     "end_time": "2021-05-19T01:52:40.550164Z",
     "start_time": "2021-05-19T01:49:24.248358Z"
    }
   },
   "outputs": [
    {
     "name": "stdout",
     "output_type": "stream",
     "text": [
      "Applying NMF for k=5 ...\n",
      "Applying NMF for k=10 ...\n",
      "Applying NMF for k=15 ...\n",
      "Applying NMF for k=20 ...\n"
     ]
    }
   ],
   "source": [
    "from sklearn import decomposition\n",
    "\n",
    "topic_models = []\n",
    "\n",
    "# try each value of k\n",
    "for k in [5,10,15,20]: #range(kmin, kmax + 1):\n",
    "    print(\"Applying NMF for k=%d ...\" % k)\n",
    "    # run NMF\n",
    "    model = decomposition.NMF(init=\"nndsvd\", n_components=k)\n",
    "    W = model.fit_transform(A)\n",
    "    H = model.components_\n",
    "    # store for later\n",
    "    topic_models.append((k, W, H))"
   ]
  },
  {
   "cell_type": "markdown",
   "metadata": {},
   "source": [
    "### Build a Word Embedding"
   ]
  },
  {
   "cell_type": "markdown",
   "metadata": {},
   "source": [
    "To select the number of topics, here we will use a *topic coherence* measure called TC-W2V. This measure relies on the use of a *word embedding* model constructed from our corpus. So in this step we will use the *Gensim* implementation of Word2Vec to build a Word2Vec model based on our collection of news articles."
   ]
  },
  {
   "cell_type": "markdown",
   "metadata": {},
   "source": [
    "**Note:** If you want to skip this step, a pre-built Word2Vec model for the sample dataset [is also provided here for download](http://erdos.ucd.ie/files/pydata/w2v-model.bin) (71MB)."
   ]
  },
  {
   "cell_type": "markdown",
   "metadata": {},
   "source": [
    "We read the documents from the input file again:"
   ]
  },
  {
   "cell_type": "code",
   "execution_count": 4,
   "metadata": {
    "ExecuteTime": {
     "end_time": "2021-05-19T01:52:40.878656Z",
     "start_time": "2021-05-19T01:52:40.551827Z"
    }
   },
   "outputs": [
    {
     "name": "stdout",
     "output_type": "stream",
     "text": [
      "Read 557957 raw text documents\n"
     ]
    }
   ],
   "source": [
    "import os.path\n",
    "\n",
    "raw_documents = []\n",
    "\n",
    "with open(os.path.join(\"cenario2_8M2021_tweets_en.txt\"), \"r\") as fin:\n",
    "    for line in fin.readlines():\n",
    "        raw_documents.append(line.strip().lower())\n",
    "\n",
    "print(\"Read %d raw text documents\" % len(raw_documents))"
   ]
  },
  {
   "cell_type": "markdown",
   "metadata": {},
   "source": [
    "Read the custom stopword list:"
   ]
  },
  {
   "cell_type": "code",
   "execution_count": 5,
   "metadata": {
    "ExecuteTime": {
     "end_time": "2021-05-19T01:52:40.884773Z",
     "start_time": "2021-05-19T01:52:40.880335Z"
    }
   },
   "outputs": [
    {
     "name": "stdout",
     "output_type": "stream",
     "text": [
      "Stopword list has 179 entries\n"
     ]
    }
   ],
   "source": [
    "custom_stop_words = []\n",
    "\n",
    "with open(\"english.txt\", \"r\") as fin:\n",
    "    for line in fin.readlines():\n",
    "        custom_stop_words.append(line.strip().lower())\n",
    "\n",
    "# note that we need to make it hashable\n",
    "print(\"Stopword list has %d entries\" % len(custom_stop_words))"
   ]
  },
  {
   "cell_type": "markdown",
   "metadata": {},
   "source": [
    "First, we need to define a class that will generate documents in a form that can be consumed by Gensim's Word2Vec implementation:"
   ]
  },
  {
   "cell_type": "code",
   "execution_count": 6,
   "metadata": {
    "ExecuteTime": {
     "end_time": "2021-05-19T01:52:40.894049Z",
     "start_time": "2021-05-19T01:52:40.886475Z"
    }
   },
   "outputs": [],
   "source": [
    "import re\n",
    "\n",
    "\n",
    "class TokenGenerator:\n",
    "    def __init__(self, documents, stopwords):\n",
    "        self.documents = documents\n",
    "        self.stopwords = stopwords\n",
    "        self.tokenizer = re.compile(r\"(?u)\\b\\w\\w+\\b\")\n",
    "\n",
    "    def __iter__(self):\n",
    "        print(\"Building Word2Vec model ...\")\n",
    "        for doc in self.documents:\n",
    "            tokens = []\n",
    "            for tok in self.tokenizer.findall(doc):\n",
    "                if tok in self.stopwords:\n",
    "                    tokens.append(\"<stopword>\")\n",
    "                elif len(tok) >= 2:\n",
    "                    tokens.append(tok)\n",
    "            yield tokens"
   ]
  },
  {
   "cell_type": "markdown",
   "metadata": {},
   "source": [
    "Now build a Skipgram Word2Vec model from all documents in the input file using *Gensim*:"
   ]
  },
  {
   "cell_type": "code",
   "execution_count": 7,
   "metadata": {
    "ExecuteTime": {
     "end_time": "2021-05-19T01:52:41.092336Z",
     "start_time": "2021-05-19T01:52:40.896896Z"
    }
   },
   "outputs": [],
   "source": [
    "import gensim"
   ]
  },
  {
   "cell_type": "code",
   "execution_count": 8,
   "metadata": {
    "ExecuteTime": {
     "end_time": "2021-05-19T01:56:06.029578Z",
     "start_time": "2021-05-19T01:52:41.094690Z"
    }
   },
   "outputs": [
    {
     "name": "stdout",
     "output_type": "stream",
     "text": [
      "Building Word2Vec model ...\n",
      "Building Word2Vec model ...\n",
      "Building Word2Vec model ...\n",
      "Building Word2Vec model ...\n",
      "Building Word2Vec model ...\n",
      "Building Word2Vec model ...\n"
     ]
    }
   ],
   "source": [
    "docgen = TokenGenerator(raw_documents, custom_stop_words)\n",
    "\n",
    "# the model has 500 dimensions, the minimum document-term frequency is 20\n",
    "w2v_model = gensim.models.Word2Vec(docgen, size=500, min_count=20, sg=1)"
   ]
  },
  {
   "cell_type": "code",
   "execution_count": 9,
   "metadata": {
    "ExecuteTime": {
     "end_time": "2021-05-19T01:56:06.033681Z",
     "start_time": "2021-05-19T01:56:06.030864Z"
    }
   },
   "outputs": [
    {
     "name": "stdout",
     "output_type": "stream",
     "text": [
      "Model has 15165 terms\n"
     ]
    }
   ],
   "source": [
    "print( \"Model has %d terms\" % len(w2v_model.wv.vocab) )"
   ]
  },
  {
   "cell_type": "markdown",
   "metadata": {},
   "source": [
    "Save for later use, so that we do not need to rebuild it:"
   ]
  },
  {
   "cell_type": "code",
   "execution_count": 10,
   "metadata": {
    "ExecuteTime": {
     "end_time": "2021-05-19T01:56:06.763698Z",
     "start_time": "2021-05-19T01:56:06.034900Z"
    }
   },
   "outputs": [],
   "source": [
    "w2v_model.save(\"21cenario2_w2v-model.bin\")"
   ]
  },
  {
   "cell_type": "code",
   "execution_count": 11,
   "metadata": {
    "ExecuteTime": {
     "end_time": "2021-05-19T01:56:06.766718Z",
     "start_time": "2021-05-19T01:56:06.765029Z"
    }
   },
   "outputs": [],
   "source": [
    "# To re-load this model, run\n",
    "# w2v_model = gensim.models.Word2Vec.load(\"cenario1_w2v-model.bin\")"
   ]
  },
  {
   "cell_type": "markdown",
   "metadata": {},
   "source": [
    "### Selecting the Number of Topics"
   ]
  },
  {
   "cell_type": "markdown",
   "metadata": {},
   "source": [
    "Once we have our Word2vec model, we can use it as part of our *topic coherence* approach to evaluate the different NMF topic models that we created previously. To do this, we will implement a simple version of the TC-W2V coherence measure."
   ]
  },
  {
   "cell_type": "markdown",
   "metadata": {},
   "source": [
    "We use the Word2vec model to calculate coherence scores for each of these models. We will define this coherence score as follows:"
   ]
  },
  {
   "cell_type": "code",
   "execution_count": 12,
   "metadata": {
    "ExecuteTime": {
     "end_time": "2021-05-19T01:56:06.776494Z",
     "start_time": "2021-05-19T01:56:06.767903Z"
    }
   },
   "outputs": [],
   "source": [
    "def calculate_coherence(w2v_model, term_rankings):\n",
    "    overall_coherence = 0.0\n",
    "    \n",
    "    for topic_index in range(len(term_rankings)):\n",
    "        # check each pair of terms\n",
    "        pair_scores = []\n",
    "        for pair in combinations(term_rankings[topic_index], 2):\n",
    "            pair_scores.append(w2v_model.similarity(pair[0], pair[1]))\n",
    "        # get the mean for all pairs in this topic\n",
    "        topic_score = sum(pair_scores) / len(pair_scores)\n",
    "        overall_coherence += topic_score\n",
    "    \n",
    "    # get the mean score across all topics\n",
    "    return overall_coherence / len(term_rankings)"
   ]
  },
  {
   "cell_type": "markdown",
   "metadata": {},
   "source": [
    "We also define a function to get the topic descriptor (i.e. list of top terms) for each topic:"
   ]
  },
  {
   "cell_type": "code",
   "execution_count": 13,
   "metadata": {
    "ExecuteTime": {
     "end_time": "2021-05-19T01:56:06.786098Z",
     "start_time": "2021-05-19T01:56:06.777840Z"
    }
   },
   "outputs": [],
   "source": [
    "import numpy as np\n",
    "\n",
    "\n",
    "def get_descriptor(all_terms, H, topic_index, top):\n",
    "    # reverse sort the values to sort the indices\n",
    "    top_indices = np.argsort(H[topic_index, :])[::-1]\n",
    "    \n",
    "    # now get the terms corresponding to the top-ranked indices\n",
    "    top_terms = []\n",
    "    \n",
    "    for term_index in top_indices[0:top]:\n",
    "        top_terms.append(all_terms[term_index])\n",
    "    \n",
    "    return top_terms"
   ]
  },
  {
   "cell_type": "markdown",
   "metadata": {},
   "source": [
    "Now process each of the models for different values of *k*:"
   ]
  },
  {
   "cell_type": "code",
   "execution_count": 14,
   "metadata": {
    "ExecuteTime": {
     "end_time": "2021-05-19T01:56:06.916376Z",
     "start_time": "2021-05-19T01:56:06.787480Z"
    }
   },
   "outputs": [
    {
     "name": "stdout",
     "output_type": "stream",
     "text": [
      "K=05: Coherence=0.3037\n",
      "K=10: Coherence=0.2820\n",
      "K=15: Coherence=0.2682\n",
      "K=20: Coherence=0.2609\n"
     ]
    },
    {
     "name": "stderr",
     "output_type": "stream",
     "text": [
      "/home/gean/anaconda3/lib/python3.7/site-packages/ipykernel_launcher.py:8: DeprecationWarning: Call to deprecated `similarity` (Method will be removed in 4.0.0, use self.wv.similarity() instead).\n",
      "  \n"
     ]
    }
   ],
   "source": [
    "from itertools import combinations\n",
    "\n",
    "k_values = []\n",
    "coherences = []\n",
    "\n",
    "for (k, W, H) in topic_models:\n",
    "    # Get all of the topic descriptors - the term_rankings, based on top 10 terms\n",
    "    term_rankings = []\n",
    "    \n",
    "    for topic_index in range(k):\n",
    "        term_rankings.append(get_descriptor(terms, H, topic_index, 10))\n",
    "    \n",
    "    # Now calculate the coherence based on our Word2vec model\n",
    "    k_values.append(k)\n",
    "    coherences.append(calculate_coherence(w2v_model, term_rankings))\n",
    "    \n",
    "    print(\"K=%02d: Coherence=%.4f\" % (k, coherences[-1]))\n",
    "    # print(f'{coherences[-1]:.4f}')"
   ]
  },
  {
   "cell_type": "markdown",
   "metadata": {},
   "source": [
    "We can now use *matplotlib* to generate a line plot of these coherence scores, to help us select an appropriate value."
   ]
  },
  {
   "cell_type": "code",
   "execution_count": 15,
   "metadata": {
    "ExecuteTime": {
     "end_time": "2021-05-19T01:56:07.187109Z",
     "start_time": "2021-05-19T01:56:06.918719Z"
    }
   },
   "outputs": [],
   "source": [
    "%matplotlib inline\n",
    "import matplotlib\n",
    "import matplotlib.pyplot as plt\n",
    "\n",
    "plt.style.use(\"ggplot\")\n",
    "matplotlib.rcParams.update({\"font.size\": 14})"
   ]
  },
  {
   "cell_type": "code",
   "execution_count": 16,
   "metadata": {
    "ExecuteTime": {
     "end_time": "2021-05-19T01:56:07.345678Z",
     "start_time": "2021-05-19T01:56:07.188349Z"
    }
   },
   "outputs": [
    {
     "data": {
      "image/png": "[encoded data removed]",
      "text/plain": [
       "<Figure size 936x504 with 1 Axes>"
      ]
     },
     "metadata": {},
     "output_type": "display_data"
    }
   ],
   "source": [
    "fig = plt.figure(figsize=(13,7))\n",
    "\n",
    "# create the line plot\n",
    "ax = plt.plot( k_values, coherences )\n",
    "plt.xticks(k_values)\n",
    "plt.xlabel(\"Number of Topics\")\n",
    "plt.ylabel(\"Mean Coherence\")\n",
    "\n",
    "# add the points\n",
    "plt.scatter( k_values, coherences, s=120)\n",
    "\n",
    "\n",
    "# find and annotate the maximum point on the plot\n",
    "ymax = max(coherences)\n",
    "xpos = coherences.index(ymax)\n",
    "best_k = k_values[xpos]\n",
    "plt.annotate( \"k=%d\" % best_k, xy=(best_k, ymax), xytext=(best_k, ymax), textcoords=\"offset points\", fontsize=16)\n",
    "\n",
    "# show the plot\n",
    "plt.show()"
   ]
  },
  {
   "cell_type": "markdown",
   "metadata": {},
   "source": [
    "### Examine the Final  Model"
   ]
  },
  {
   "cell_type": "markdown",
   "metadata": {},
   "source": [
    "The plot above suggests that the most appropriate value for the number of topics is *k=8*."
   ]
  },
  {
   "cell_type": "markdown",
   "metadata": {},
   "source": [
    "# 5"
   ]
  },
  {
   "cell_type": "code",
   "execution_count": 17,
   "metadata": {
    "ExecuteTime": {
     "end_time": "2021-05-19T01:56:07.350001Z",
     "start_time": "2021-05-19T01:56:07.347123Z"
    }
   },
   "outputs": [],
   "source": [
    "k = 5 # best_k\n",
    "\n",
    "# get the model that we generated earlier.\n",
    "W = topic_models[0][1]\n",
    "H = topic_models[0][2]"
   ]
  },
  {
   "cell_type": "markdown",
   "metadata": {},
   "source": [
    "Display the topic descriptors for this model:"
   ]
  },
  {
   "cell_type": "code",
   "execution_count": 18,
   "metadata": {
    "ExecuteTime": {
     "end_time": "2021-05-19T01:56:07.365541Z",
     "start_time": "2021-05-19T01:56:07.351482Z"
    }
   },
   "outputs": [
    {
     "name": "stdout",
     "output_type": "stream",
     "text": [
      "Topic 01: day, international, women, every, celebrating\n",
      "Topic 02: women, amp, today, celebrate, amazing\n",
      "Topic 03: happy, beautiful, ladies, strong, love\n",
      "Topic 04: woman, every, love, god, strong\n",
      "Topic 05: world, challenge, gender, choose, around\n"
     ]
    }
   ],
   "source": [
    "for topic_index in range(k):\n",
    "    descriptor = get_descriptor( terms, H, topic_index, 5)\n",
    "    str_descriptor = \", \".join( descriptor )\n",
    "    print(\"Topic %02d: %s\" % ( topic_index+1, str_descriptor ) )"
   ]
  },
  {
   "cell_type": "code",
   "execution_count": 19,
   "metadata": {
    "ExecuteTime": {
     "end_time": "2021-05-19T01:56:07.374977Z",
     "start_time": "2021-05-19T01:56:07.366842Z"
    }
   },
   "outputs": [
    {
     "name": "stdout",
     "output_type": "stream",
     "text": [
      "Topic 01: day, international, women, every, celebrating, march, men, wishes, celebration, via\n",
      "Topic 02: women, amp, today, celebrate, amazing, thank, work, celebrating, many, support\n",
      "Topic 03: happy, beautiful, ladies, strong, love, amazing, wonderful, iwd, everyone, wishing\n",
      "Topic 04: woman, every, love, god, strong, day, one, life, beautiful, man\n",
      "Topic 05: world, challenge, gender, choose, around, let, change, bias, inequality, celebrate\n"
     ]
    }
   ],
   "source": [
    "for topic_index in range(k):\n",
    "    descriptor = get_descriptor( terms, H, topic_index, 10)\n",
    "    str_descriptor = \", \".join( descriptor )\n",
    "    print(\"Topic %02d: %s\" % ( topic_index+1, str_descriptor ) )"
   ]
  },
  {
   "cell_type": "code",
   "execution_count": 20,
   "metadata": {
    "ExecuteTime": {
     "end_time": "2021-05-19T01:56:07.384508Z",
     "start_time": "2021-05-19T01:56:07.376245Z"
    }
   },
   "outputs": [
    {
     "name": "stdout",
     "output_type": "stream",
     "text": [
      "Topic 01: day, international, women, every, celebrating, march, men, wishes, celebration, via, celebrate, special, celebrates, celebrated, womens\n",
      "Topic 02: women, amp, today, celebrate, amazing, thank, work, celebrating, many, support, life, great, proud, female, incredible\n",
      "Topic 03: happy, beautiful, ladies, strong, love, amazing, wonderful, iwd, everyone, wishing, women, keep, womens, may, queens\n",
      "Topic 04: woman, every, love, god, strong, day, one, life, beautiful, man, know, single, like, respect, proud\n",
      "Topic 05: world, challenge, gender, choose, around, let, change, bias, inequality, celebrate, achievements, comes, equal, equality, inclusive\n"
     ]
    }
   ],
   "source": [
    "for topic_index in range(k):\n",
    "    descriptor = get_descriptor( terms, H, topic_index, 15)\n",
    "    str_descriptor = \", \".join( descriptor )\n",
    "    print(\"Topic %02d: %s\" % ( topic_index+1, str_descriptor ) )"
   ]
  },
  {
   "cell_type": "code",
   "execution_count": 21,
   "metadata": {
    "ExecuteTime": {
     "end_time": "2021-05-19T01:56:07.394048Z",
     "start_time": "2021-05-19T01:56:07.385818Z"
    },
    "scrolled": true
   },
   "outputs": [
    {
     "name": "stdout",
     "output_type": "stream",
     "text": [
      "Topic 01: day, international, women, every, celebrating, march, men, wishes, celebration, via, celebrate, special, celebrates, celebrated, womens, 8th, trans, wish, occasion, good\n",
      "Topic 02: women, amp, today, celebrate, amazing, thank, work, celebrating, many, support, life, great, proud, female, incredible, team, like, make, strong, everyday\n",
      "Topic 03: happy, beautiful, ladies, strong, love, amazing, wonderful, iwd, everyone, wishing, women, keep, womens, may, queens, wish, life, world, lovely, incredible\n",
      "Topic 04: woman, every, love, god, strong, day, one, life, beautiful, man, know, single, like, respect, proud, mother, always, first, best, another\n",
      "Topic 05: world, challenge, gender, choose, around, let, change, bias, inequality, celebrate, achievements, comes, equal, equality, inclusive, theme, call, alert, challenged, help\n"
     ]
    }
   ],
   "source": [
    "for topic_index in range(k):\n",
    "    descriptor = get_descriptor( terms, H, topic_index, 20)\n",
    "    str_descriptor = \", \".join( descriptor )\n",
    "    print(\"Topic %02d: %s\" % ( topic_index+1, str_descriptor ) )"
   ]
  },
  {
   "cell_type": "markdown",
   "metadata": {},
   "source": [
    "# 10"
   ]
  },
  {
   "cell_type": "code",
   "execution_count": 22,
   "metadata": {
    "ExecuteTime": {
     "end_time": "2021-05-19T01:56:07.398424Z",
     "start_time": "2021-05-19T01:56:07.395715Z"
    }
   },
   "outputs": [],
   "source": [
    "k = 10 # best_k\n",
    "\n",
    "# get the model that we generated earlier.\n",
    "W = topic_models[1][1]\n",
    "H = topic_models[1][2]"
   ]
  },
  {
   "cell_type": "code",
   "execution_count": 23,
   "metadata": {
    "ExecuteTime": {
     "end_time": "2021-05-19T01:56:07.417199Z",
     "start_time": "2021-05-19T01:56:07.399598Z"
    }
   },
   "outputs": [
    {
     "name": "stdout",
     "output_type": "stream",
     "text": [
      "Topic 01: day, international, women, every, march\n",
      "Topic 02: women, amazing, work, celebrating, life\n",
      "Topic 03: happy, ladies, iwd, everyone, wishing\n",
      "Topic 04: woman, every, god, one, life\n",
      "Topic 05: world, challenge, gender, choose, around\n",
      "Topic 06: amp, gender, female, girls, support\n",
      "Topic 07: today, celebrate, every, achievements, everyday\n",
      "Topic 08: love, much, respect, ladies, life\n",
      "Topic 09: thank, much, great, wonderful, work\n",
      "Topic 10: strong, beautiful, may, know, raise\n"
     ]
    }
   ],
   "source": [
    "for topic_index in range(k):\n",
    "    descriptor = get_descriptor( terms, H, topic_index, 5)\n",
    "    str_descriptor = \", \".join( descriptor )\n",
    "    print(\"Topic %02d: %s\" % ( topic_index+1, str_descriptor ) )"
   ]
  },
  {
   "cell_type": "code",
   "execution_count": 24,
   "metadata": {
    "ExecuteTime": {
     "end_time": "2021-05-19T01:56:07.430411Z",
     "start_time": "2021-05-19T01:56:07.418410Z"
    }
   },
   "outputs": [
    {
     "name": "stdout",
     "output_type": "stream",
     "text": [
      "Topic 01: day, international, women, every, march, womens, celebration, via, celebrating, wishes\n",
      "Topic 02: women, amazing, work, celebrating, life, many, proud, great, incredible, support\n",
      "Topic 03: happy, ladies, iwd, everyone, wishing, wonderful, beautiful, wish, womens, wishes\n",
      "Topic 04: woman, every, god, one, life, day, man, like, single, proud\n",
      "Topic 05: world, challenge, gender, choose, around, change, let, bias, inequality, comes\n",
      "Topic 06: amp, gender, female, girls, support, join, equality, thanks, work, leaders\n",
      "Topic 07: today, celebrate, every, achievements, everyday, let, celebrating, day, join, female\n",
      "Topic 08: love, much, respect, ladies, life, always, see, sending, beautiful, show\n",
      "Topic 09: thank, much, great, wonderful, work, inspiring, support, everything, like, sharing\n",
      "Topic 10: strong, beautiful, may, know, raise, powerful, women, ladies, independent, brave\n"
     ]
    }
   ],
   "source": [
    "for topic_index in range(k):\n",
    "    descriptor = get_descriptor( terms, H, topic_index, 10)\n",
    "    str_descriptor = \", \".join( descriptor )\n",
    "    print(\"Topic %02d: %s\" % ( topic_index+1, str_descriptor ) )"
   ]
  },
  {
   "cell_type": "code",
   "execution_count": 25,
   "metadata": {
    "ExecuteTime": {
     "end_time": "2021-05-19T01:56:07.445216Z",
     "start_time": "2021-05-19T01:56:07.432982Z"
    }
   },
   "outputs": [
    {
     "name": "stdout",
     "output_type": "stream",
     "text": [
      "Topic 01: day, international, women, every, march, womens, celebration, via, celebrating, wishes, special, celebrated, 8th, celebrates, good\n",
      "Topic 02: women, amazing, work, celebrating, life, many, proud, great, incredible, support, team, make, men, like, one\n",
      "Topic 03: happy, ladies, iwd, everyone, wishing, wonderful, beautiful, wish, womens, wishes, queens, lovely, keep, world, friends\n",
      "Topic 04: woman, every, god, one, life, day, man, like, single, proud, first, mother, another, best, respect\n",
      "Topic 05: world, challenge, gender, choose, around, change, let, bias, inequality, comes, equal, inclusive, theme, alert, challenged\n",
      "Topic 06: amp, gender, female, girls, support, join, equality, thanks, work, leaders, new, share, leadership, health, event\n",
      "Topic 07: today, celebrate, every, achievements, everyday, let, celebrating, day, join, female, political, social, cultural, economic, equality\n",
      "Topic 08: love, much, respect, ladies, life, always, see, sending, beautiful, show, thanks, appreciate, one, deserve, would\n",
      "Topic 09: thank, much, great, wonderful, work, inspiring, support, everything, like, sharing, want, say, better, ladies, life\n",
      "Topic 10: strong, beautiful, may, know, raise, powerful, women, ladies, independent, brave, stay, always, smart, intelligent, world\n"
     ]
    }
   ],
   "source": [
    "for topic_index in range(k):\n",
    "    descriptor = get_descriptor( terms, H, topic_index, 15)\n",
    "    str_descriptor = \", \".join( descriptor )\n",
    "    print(\"Topic %02d: %s\" % ( topic_index+1, str_descriptor ) )"
   ]
  },
  {
   "cell_type": "code",
   "execution_count": 26,
   "metadata": {
    "ExecuteTime": {
     "end_time": "2021-05-19T01:56:07.460041Z",
     "start_time": "2021-05-19T01:56:07.446965Z"
    }
   },
   "outputs": [
    {
     "name": "stdout",
     "output_type": "stream",
     "text": [
      "Topic 01: day, international, women, every, march, womens, celebration, via, celebrating, wishes, special, celebrated, 8th, celebrates, good, men, occasion, year, wish, cultural\n",
      "Topic 02: women, amazing, work, celebrating, life, many, proud, great, incredible, support, team, make, men, like, one, working, inspiring, girls, rights, inspire\n",
      "Topic 03: happy, ladies, iwd, everyone, wishing, wonderful, beautiful, wish, womens, wishes, queens, lovely, keep, world, friends, incredible, female, team, favorite, birthday\n",
      "Topic 04: woman, every, god, one, life, day, man, like, single, proud, first, mother, another, best, respect, magic, without, power, inspires, know\n",
      "Topic 05: world, challenge, gender, choose, around, change, let, bias, inequality, comes, equal, inclusive, theme, alert, challenged, equality, call, achievements, help, create\n",
      "Topic 06: amp, gender, female, girls, support, join, equality, thanks, work, leaders, new, share, leadership, health, event, read, time, live, future, many\n",
      "Topic 07: today, celebrate, every, achievements, everyday, let, celebrating, day, join, female, political, social, cultural, economic, equality, take, lives, contributions, incredible, recognize\n",
      "Topic 08: love, much, respect, ladies, life, always, see, sending, beautiful, show, thanks, appreciate, one, deserve, would, mom, good, best, girls, queens\n",
      "Topic 09: thank, much, great, wonderful, work, inspiring, support, everything, like, sharing, want, say, better, ladies, life, make, inspiration, making, everyone, would\n",
      "Topic 10: strong, beautiful, may, know, raise, powerful, women, ladies, independent, brave, stay, always, smart, intelligent, world, life, keep, inspiring, way, strength\n"
     ]
    }
   ],
   "source": [
    "for topic_index in range(k):\n",
    "    descriptor = get_descriptor( terms, H, topic_index, 20)\n",
    "    str_descriptor = \", \".join( descriptor )\n",
    "    print(\"Topic %02d: %s\" % ( topic_index+1, str_descriptor ) )"
   ]
  },
  {
   "cell_type": "markdown",
   "metadata": {},
   "source": [
    "# 15"
   ]
  },
  {
   "cell_type": "code",
   "execution_count": 27,
   "metadata": {
    "ExecuteTime": {
     "end_time": "2021-05-19T01:56:07.463885Z",
     "start_time": "2021-05-19T01:56:07.461264Z"
    }
   },
   "outputs": [],
   "source": [
    "k = 15 # best_k\n",
    "\n",
    "# get the model that we generated earlier.\n",
    "W = topic_models[2][1]\n",
    "H = topic_models[2][2]"
   ]
  },
  {
   "cell_type": "code",
   "execution_count": 28,
   "metadata": {
    "ExecuteTime": {
     "end_time": "2021-05-19T01:56:07.485768Z",
     "start_time": "2021-05-19T01:56:07.465312Z"
    }
   },
   "outputs": [
    {
     "name": "stdout",
     "output_type": "stream",
     "text": [
      "Topic 01: day, international, women, march, womens\n",
      "Topic 02: women, life, incredible, men, rights\n",
      "Topic 03: happy, ladies, iwd, everyone, wishing\n",
      "Topic 04: woman, god, life, man, first\n",
      "Topic 05: world, around, better, make, place\n",
      "Topic 06: amp, girls, join, support, leadership\n",
      "Topic 07: today, celebrate, everyday, achievements, let\n",
      "Topic 08: love, much, respect, life, ladies\n",
      "Topic 09: thank, much, wonderful, life, inspiring\n",
      "Topic 10: strong, beautiful, may, know, raise\n",
      "Topic 11: amazing, life, ladies, many, work\n",
      "Topic 12: challenge, gender, choose, bias, inequality\n",
      "Topic 13: every, day, single, inspire, year\n",
      "Topic 14: celebrating, achievements, social, political, cultural\n",
      "Topic 15: great, work, one, female, proud\n"
     ]
    }
   ],
   "source": [
    "for topic_index in range(k):\n",
    "    descriptor = get_descriptor( terms, H, topic_index, 5)\n",
    "    str_descriptor = \", \".join( descriptor )\n",
    "    print(\"Topic %02d: %s\" % ( topic_index+1, str_descriptor ) )"
   ]
  },
  {
   "cell_type": "code",
   "execution_count": 29,
   "metadata": {
    "ExecuteTime": {
     "end_time": "2021-05-19T01:56:07.503505Z",
     "start_time": "2021-05-19T01:56:07.486969Z"
    }
   },
   "outputs": [
    {
     "name": "stdout",
     "output_type": "stream",
     "text": [
      "Topic 01: day, international, women, march, womens, via, celebration, 8th, special, celebrated\n",
      "Topic 02: women, life, incredible, men, rights, support, trans, girls, inspire, power\n",
      "Topic 03: happy, ladies, iwd, everyone, wishing, beautiful, wish, wonderful, day, wishes\n",
      "Topic 04: woman, god, life, man, first, magic, tag, one, power, mother\n",
      "Topic 05: world, around, better, make, place, equal, change, alert, challenged, future\n",
      "Topic 06: amp, girls, join, support, leadership, health, future, gender, leaders, live\n",
      "Topic 07: today, celebrate, everyday, achievements, let, join, lives, contributions, take, recognize\n",
      "Topic 08: love, much, respect, life, ladies, always, sending, beautiful, show, see\n",
      "Topic 09: thank, much, wonderful, life, inspiring, support, everything, incredible, sharing, inspiration\n",
      "Topic 10: strong, beautiful, may, know, raise, powerful, ladies, independent, brave, stay\n",
      "Topic 11: amazing, life, ladies, many, work, shout, team, lucky, keep, grateful\n",
      "Topic 12: challenge, gender, choose, bias, inequality, let, equality, change, call, comes\n",
      "Topic 13: every, day, single, inspire, year, respect, make, one, life, today\n",
      "Topic 14: celebrating, achievements, social, political, cultural, economic, join, global, today, female\n",
      "Topic 15: great, work, one, female, proud, like, many, thanks, team, see\n"
     ]
    }
   ],
   "source": [
    "for topic_index in range(k):\n",
    "    descriptor = get_descriptor( terms, H, topic_index, 10)\n",
    "    str_descriptor = \", \".join( descriptor )\n",
    "    print(\"Topic %02d: %s\" % ( topic_index+1, str_descriptor ) )"
   ]
  },
  {
   "cell_type": "code",
   "execution_count": 30,
   "metadata": {
    "ExecuteTime": {
     "end_time": "2021-05-19T01:56:07.520162Z",
     "start_time": "2021-05-19T01:56:07.504733Z"
    }
   },
   "outputs": [
    {
     "name": "stdout",
     "output_type": "stream",
     "text": [
      "Topic 01: day, international, women, march, womens, via, celebration, 8th, special, celebrated, celebrates, good, theme, hope, occasion\n",
      "Topic 02: women, life, incredible, men, rights, support, trans, girls, inspire, power, society, lives, empower, respect, wonderful\n",
      "Topic 03: happy, ladies, iwd, everyone, wishing, beautiful, wish, wonderful, day, wishes, womens, keep, queens, lovely, team\n",
      "Topic 04: woman, god, life, man, first, magic, tag, one, power, mother, inspires, another, tell, never, strength\n",
      "Topic 05: world, around, better, make, place, equal, change, alert, challenged, future, making, girls, across, inclusive, comes\n",
      "Topic 06: amp, girls, join, support, leadership, health, future, gender, leaders, live, event, equality, rights, share, new\n",
      "Topic 07: today, celebrate, everyday, achievements, let, join, lives, contributions, take, recognize, honor, day, incredible, way, across\n",
      "Topic 08: love, much, respect, life, ladies, always, sending, beautiful, show, see, appreciate, deserve, mom, queens, girls\n",
      "Topic 09: thank, much, wonderful, life, inspiring, support, everything, incredible, sharing, inspiration, say, making, want, better, appreciate\n",
      "Topic 10: strong, beautiful, may, know, raise, powerful, ladies, independent, brave, stay, always, smart, intelligent, keep, inspiring\n",
      "Topic 11: amazing, life, ladies, many, work, shout, team, lucky, keep, grateful, proud, women, colleagues, community, inspire\n",
      "Topic 12: challenge, gender, choose, bias, inequality, let, equality, change, call, comes, theme, year, achievements, inclusive, help\n",
      "Topic 13: every, day, single, inspire, year, respect, make, one, life, today, incredible, moment, without, incomplete, home\n",
      "Topic 14: celebrating, achievements, social, political, cultural, economic, join, global, today, female, team, march, across, week, action\n",
      "Topic 15: great, work, one, female, proud, like, many, thanks, team, see, make, get, would, time, know\n"
     ]
    }
   ],
   "source": [
    "for topic_index in range(k):\n",
    "    descriptor = get_descriptor( terms, H, topic_index, 15)\n",
    "    str_descriptor = \", \".join( descriptor )\n",
    "    print(\"Topic %02d: %s\" % ( topic_index+1, str_descriptor ) )"
   ]
  },
  {
   "cell_type": "code",
   "execution_count": 31,
   "metadata": {
    "ExecuteTime": {
     "end_time": "2021-05-19T01:56:07.537849Z",
     "start_time": "2021-05-19T01:56:07.521376Z"
    }
   },
   "outputs": [
    {
     "name": "stdout",
     "output_type": "stream",
     "text": [
      "Topic 01: day, international, women, march, womens, via, celebration, 8th, special, celebrated, celebrates, good, theme, hope, occasion, post, message, wishes, year, monday\n",
      "Topic 02: women, life, incredible, men, rights, support, trans, girls, inspire, power, society, lives, empower, respect, wonderful, leadership, history, working, especially, inspiring\n",
      "Topic 03: happy, ladies, iwd, everyone, wishing, beautiful, wish, wonderful, day, wishes, womens, keep, queens, lovely, team, friends, birthday, favorite, sisters, dear\n",
      "Topic 04: woman, god, life, man, first, magic, tag, one, power, mother, inspires, another, tell, never, strength, best, like, wonder, strongest, ever\n",
      "Topic 05: world, around, better, make, place, equal, change, alert, challenged, future, making, girls, across, inclusive, comes, create, help, achieving, covid, changing\n",
      "Topic 06: amp, girls, join, support, leadership, health, future, gender, leaders, live, event, equality, rights, share, new, community, equal, role, march, care\n",
      "Topic 07: today, celebrate, everyday, achievements, let, join, lives, contributions, take, recognize, honor, day, incredible, way, across, continue, tomorrow, political, community, social\n",
      "Topic 08: love, much, respect, life, ladies, always, sending, beautiful, show, see, appreciate, deserve, mom, queens, girls, would, lots, best, everything, mother\n",
      "Topic 09: thank, much, wonderful, life, inspiring, support, everything, incredible, sharing, inspiration, say, making, want, better, appreciate, inspire, big, everyone, community, lovely\n",
      "Topic 10: strong, beautiful, may, know, raise, powerful, ladies, independent, brave, stay, always, smart, intelligent, keep, inspiring, way, bold, kind, life, unknown\n",
      "Topic 11: amazing, life, ladies, many, work, shout, team, lucky, keep, grateful, proud, women, colleagues, community, inspire, talented, friends, group, shoutout, things\n",
      "Topic 12: challenge, gender, choose, bias, inequality, let, equality, change, call, comes, theme, year, achievements, inclusive, help, stereotypes, create, action, raise, challenged\n",
      "Topic 13: every, day, single, inspire, year, respect, make, one, life, today, incredible, moment, without, incomplete, home, happiness, girl, heart, behind, success\n",
      "Topic 14: celebrating, achievements, social, political, cultural, economic, join, global, today, female, team, march, across, week, action, incredible, women, marks, accelerating, inspirational\n",
      "Topic 15: great, work, one, female, proud, like, many, thanks, team, see, make, get, would, time, know, people, good, part, want, support\n"
     ]
    }
   ],
   "source": [
    "for topic_index in range(k):\n",
    "    descriptor = get_descriptor( terms, H, topic_index, 20)\n",
    "    str_descriptor = \", \".join( descriptor )\n",
    "    print(\"Topic %02d: %s\" % ( topic_index+1, str_descriptor ) )"
   ]
  },
  {
   "cell_type": "markdown",
   "metadata": {},
   "source": [
    "# 20"
   ]
  },
  {
   "cell_type": "code",
   "execution_count": 32,
   "metadata": {
    "ExecuteTime": {
     "end_time": "2021-05-19T01:56:07.541498Z",
     "start_time": "2021-05-19T01:56:07.539127Z"
    }
   },
   "outputs": [],
   "source": [
    "k = 20 # best_k\n",
    "\n",
    "# get the model that we generated earlier.\n",
    "W = topic_models[3][1]\n",
    "H = topic_models[3][2]"
   ]
  },
  {
   "cell_type": "code",
   "execution_count": 33,
   "metadata": {
    "ExecuteTime": {
     "end_time": "2021-05-19T01:56:07.569184Z",
     "start_time": "2021-05-19T01:56:07.542616Z"
    }
   },
   "outputs": [
    {
     "name": "stdout",
     "output_type": "stream",
     "text": [
      "Topic 01: day, international, women, march, womens\n",
      "Topic 02: women, rights, incredible, trans, support\n",
      "Topic 03: happy, iwd, everyone, wishing, wish\n",
      "Topic 04: woman, god, man, magic, first\n",
      "Topic 05: world, around, better, make, place\n",
      "Topic 06: amp, girls, join, support, leadership\n",
      "Topic 07: today, celebrate, everyday, achievements, let\n",
      "Topic 08: love, much, respect, sending, always\n",
      "Topic 09: thank, much, inspiring, wonderful, support\n",
      "Topic 10: strong, beautiful, powerful, independent, brave\n",
      "Topic 11: amazing, many, shout, know, keep\n",
      "Topic 12: challenge, gender, choose, bias, inequality\n",
      "Topic 13: every, day, single, inspire, year\n",
      "Topic 14: celebrating, achievements, social, join, political\n",
      "Topic 15: one, like, would, men, time\n",
      "Topic 16: may, know, raise, strong, unknown\n",
      "Topic 17: work, proud, female, team, many\n",
      "Topic 18: life, many, wonderful, grateful, mother\n",
      "Topic 19: great, thanks, see, latest, daily\n",
      "Topic 20: ladies, lovely, wonderful, keep, let\n"
     ]
    }
   ],
   "source": [
    "for topic_index in range(k):\n",
    "    descriptor = get_descriptor( terms, H, topic_index, 5)\n",
    "    str_descriptor = \", \".join( descriptor )\n",
    "    print(\"Topic %02d: %s\" % ( topic_index+1, str_descriptor ) )"
   ]
  },
  {
   "cell_type": "code",
   "execution_count": 34,
   "metadata": {
    "ExecuteTime": {
     "end_time": "2021-05-19T01:56:07.591749Z",
     "start_time": "2021-05-19T01:56:07.570815Z"
    }
   },
   "outputs": [
    {
     "name": "stdout",
     "output_type": "stream",
     "text": [
      "Topic 01: day, international, women, march, womens, via, celebration, 8th, special, celebrated\n",
      "Topic 02: women, rights, incredible, trans, support, girls, men, society, power, lives\n",
      "Topic 03: happy, iwd, everyone, wishing, wish, wishes, queens, womens, day, friends\n",
      "Topic 04: woman, god, man, magic, first, power, tag, inspires, strength, another\n",
      "Topic 05: world, around, better, make, place, equal, change, alert, challenged, future\n",
      "Topic 06: amp, girls, join, support, leadership, thanks, future, health, leaders, event\n",
      "Topic 07: today, celebrate, everyday, achievements, let, join, take, lives, contributions, honor\n",
      "Topic 08: love, much, respect, sending, always, show, see, appreciate, deserve, support\n",
      "Topic 09: thank, much, inspiring, wonderful, support, everything, sharing, want, say, inspiration\n",
      "Topic 10: strong, beautiful, powerful, independent, brave, stay, smart, inspiring, intelligent, way\n",
      "Topic 11: amazing, many, shout, know, keep, women, lucky, things, thanks, community\n",
      "Topic 12: challenge, gender, choose, bias, inequality, let, equality, change, call, comes\n",
      "Topic 13: every, day, single, inspire, year, respect, make, today, moment, incomplete\n",
      "Topic 14: celebrating, achievements, social, join, political, cultural, economic, global, today, march\n",
      "Topic 15: one, like, would, men, time, good, get, best, people, want\n",
      "Topic 16: may, know, raise, strong, unknown, continue, bless, awareness, always, god\n",
      "Topic 17: work, proud, female, team, many, support, part, hard, incredible, working\n",
      "Topic 18: life, many, wonderful, grateful, mother, without, better, wife, sister, important\n",
      "Topic 19: great, thanks, see, latest, daily, hope, way, things, event, many\n",
      "Topic 20: ladies, lovely, wonderful, keep, let, beautiful, awesome, shout, wishing, special\n"
     ]
    }
   ],
   "source": [
    "for topic_index in range(k):\n",
    "    descriptor = get_descriptor( terms, H, topic_index, 10)\n",
    "    str_descriptor = \", \".join( descriptor )\n",
    "    print(\"Topic %02d: %s\" % ( topic_index+1, str_descriptor ) )"
   ]
  },
  {
   "cell_type": "code",
   "execution_count": 35,
   "metadata": {
    "ExecuteTime": {
     "end_time": "2021-05-19T01:56:07.613372Z",
     "start_time": "2021-05-19T01:56:07.593064Z"
    }
   },
   "outputs": [
    {
     "name": "stdout",
     "output_type": "stream",
     "text": [
      "Topic 01: day, international, women, march, womens, via, celebration, 8th, special, celebrated, celebrates, theme, hope, good, occasion\n",
      "Topic 02: women, rights, incredible, trans, support, girls, men, society, power, lives, inspire, wonderful, empower, leadership, history\n",
      "Topic 03: happy, iwd, everyone, wishing, wish, wishes, queens, womens, day, friends, team, keep, birthday, wonderful, sisters\n",
      "Topic 04: woman, god, man, magic, first, power, tag, inspires, strength, another, mother, wonder, tell, know, proud\n",
      "Topic 05: world, around, better, make, place, equal, change, alert, challenged, future, making, across, girls, inclusive, comes\n",
      "Topic 06: amp, girls, join, support, leadership, thanks, future, health, leaders, event, share, gender, new, live, role\n",
      "Topic 07: today, celebrate, everyday, achievements, let, join, take, lives, contributions, honor, recognize, way, day, incredible, across\n",
      "Topic 08: love, much, respect, sending, always, show, see, appreciate, deserve, support, mom, thanks, queens, lots, girls\n",
      "Topic 09: thank, much, inspiring, wonderful, support, everything, sharing, want, say, inspiration, making, incredible, everyone, better, appreciate\n",
      "Topic 10: strong, beautiful, powerful, independent, brave, stay, smart, inspiring, intelligent, way, always, talented, bold, keep, kind\n",
      "Topic 11: amazing, many, shout, know, keep, women, lucky, things, thanks, community, follow, inspire, check, grateful, shoutout\n",
      "Topic 12: challenge, gender, choose, bias, inequality, let, equality, change, call, comes, theme, achievements, year, inclusive, help\n",
      "Topic 13: every, day, single, inspire, year, respect, make, today, moment, incomplete, home, happiness, incredible, heart, girl\n",
      "Topic 14: celebrating, achievements, social, join, political, cultural, economic, global, today, march, female, week, across, action, year\n",
      "Topic 15: one, like, would, men, time, good, get, best, people, want, see, need, make, still, year\n",
      "Topic 16: may, know, raise, strong, unknown, continue, bless, awareness, always, god, let, strongest, never, inspire, want\n",
      "Topic 17: work, proud, female, team, many, support, part, hard, incredible, working, leaders, inspiring, colleagues, alongside, talented\n",
      "Topic 18: life, many, wonderful, grateful, mother, without, better, wife, sister, important, make, thankful, daughter, friends, mom\n",
      "Topic 19: great, thanks, see, latest, daily, hope, way, things, event, many, news, well, sharing, check, list\n",
      "Topic 20: ladies, lovely, wonderful, keep, let, beautiful, awesome, shout, wishing, special, day, good, favorite, rock, badass\n"
     ]
    }
   ],
   "source": [
    "for topic_index in range(k):\n",
    "    descriptor = get_descriptor( terms, H, topic_index, 15)\n",
    "    str_descriptor = \", \".join( descriptor )\n",
    "    print(\"Topic %02d: %s\" % ( topic_index+1, str_descriptor ) )"
   ]
  },
  {
   "cell_type": "code",
   "execution_count": 36,
   "metadata": {
    "ExecuteTime": {
     "end_time": "2021-05-19T01:56:07.635517Z",
     "start_time": "2021-05-19T01:56:07.614584Z"
    }
   },
   "outputs": [
    {
     "name": "stdout",
     "output_type": "stream",
     "text": [
      "Topic 01: day, international, women, march, womens, via, celebration, 8th, special, celebrated, celebrates, theme, hope, good, occasion, post, message, monday, yesterday, female\n",
      "Topic 02: women, rights, incredible, trans, support, girls, men, society, power, lives, inspire, wonderful, empower, leadership, history, respect, working, future, inspiring, especially\n",
      "Topic 03: happy, iwd, everyone, wishing, wish, wishes, queens, womens, day, friends, team, keep, birthday, wonderful, sisters, favorite, queen, lovely, dear, everyday\n",
      "Topic 04: woman, god, man, magic, first, power, tag, inspires, strength, another, mother, wonder, tell, know, proud, strongest, black, name, never, powerful\n",
      "Topic 05: world, around, better, make, place, equal, change, alert, challenged, future, making, across, girls, inclusive, comes, create, help, covid, achieving, changing\n",
      "Topic 06: amp, girls, join, support, leadership, thanks, future, health, leaders, event, share, gender, new, live, role, equality, community, rights, equal, march\n",
      "Topic 07: today, celebrate, everyday, achievements, let, join, take, lives, contributions, honor, recognize, way, day, incredible, across, tomorrow, want, continue, made, political\n",
      "Topic 08: love, much, respect, sending, always, show, see, appreciate, deserve, support, mom, thanks, queens, lots, girls, beautiful, everything, care, queen, know\n",
      "Topic 09: thank, much, inspiring, wonderful, support, everything, sharing, want, say, inspiration, making, incredible, everyone, better, appreciate, community, big, inspire, make, part\n",
      "Topic 10: strong, beautiful, powerful, independent, brave, stay, smart, inspiring, intelligent, way, always, talented, bold, keep, kind, courageous, already, perceives, resilient, strength\n",
      "Topic 11: amazing, many, shout, know, keep, women, lucky, things, thanks, community, follow, inspire, check, grateful, shoutout, colleagues, friends, group, talented, inspiring\n",
      "Topic 12: challenge, gender, choose, bias, inequality, let, equality, change, call, comes, theme, achievements, year, inclusive, help, stereotypes, create, action, challenged, alert\n",
      "Topic 13: every, day, single, inspire, year, respect, make, today, moment, incomplete, home, happiness, incredible, heart, girl, without, behind, success, shine, feeling\n",
      "Topic 14: celebrating, achievements, social, join, political, cultural, economic, global, today, march, female, week, across, action, year, marks, accelerating, read, inspirational, team\n",
      "Topic 15: one, like, would, men, time, good, get, best, people, want, see, need, make, still, year, say, way, think, please, know\n",
      "Topic 16: may, know, raise, strong, unknown, continue, bless, awareness, always, god, let, strongest, never, inspire, want, tag, realty, century, blessed, worth\n",
      "Topic 17: work, proud, female, team, many, support, part, hard, incredible, working, leaders, inspiring, colleagues, alongside, talented, members, lucky, industry, done, fantastic\n",
      "Topic 18: life, many, wonderful, grateful, mother, without, better, wife, sister, important, make, thankful, daughter, friends, mom, special, lucky, family, tag, blessed\n",
      "Topic 19: great, thanks, see, latest, daily, hope, way, things, event, many, news, well, sharing, check, list, thread, initiative, read, video, start\n",
      "Topic 20: ladies, lovely, wonderful, keep, let, beautiful, awesome, shout, wishing, special, day, good, favorite, rock, badass, fabulous, stay, enjoy, follow, fellow\n"
     ]
    }
   ],
   "source": [
    "for topic_index in range(k):\n",
    "    descriptor = get_descriptor( terms, H, topic_index, 20)\n",
    "    str_descriptor = \", \".join( descriptor )\n",
    "    print(\"Topic %02d: %s\" % ( topic_index+1, str_descriptor ) )"
   ]
  }
 ],
 "metadata": {
  "@webio": {
   "lastCommId": null,
   "lastKernelId": null
  },
  "kernelspec": {
   "display_name": "Python 3",
   "language": "python",
   "name": "python3"
  },
  "language_info": {
   "codemirror_mode": {
    "name": "ipython",
    "version": 3
   },
   "file_extension": ".py",
   "mimetype": "text/x-python",
   "name": "python",
   "nbconvert_exporter": "python",
   "pygments_lexer": "ipython3",
   "version": "3.7.7"
  },
  "toc": {
   "base_numbering": 1,
   "nav_menu": {
    "height": "91px",
    "width": "373px"
   },
   "number_sections": true,
   "sideBar": true,
   "skip_h1_title": false,
   "title_cell": "Table of Contents",
   "title_sidebar": "Contents",
   "toc_cell": false,
   "toc_position": {
    "height": "557px",
    "left": "22px",
    "top": "170px",
    "width": "288px"
   },
   "toc_section_display": true,
   "toc_window_display": false
  }
 },
 "nbformat": 4,
 "nbformat_minor": 4
}
