{
 "cells": [
  {
   "cell_type": "markdown",
   "metadata": {},
   "source": [
    "# Parameter Selection for NMF"
   ]
  },
  {
   "cell_type": "markdown",
   "metadata": {},
   "source": [
    "Now we look at the more advanced task of parameter selection for NMF topic modelling - namely, selecting a useful value for the number of topics *k*."
   ]
  },
  {
   "cell_type": "markdown",
   "metadata": {},
   "source": [
    "First, let's load the TF-IDF normalised document-term matrix and list of terms that we stored earlier using *Joblib*:"
   ]
  },
  {
   "cell_type": "code",
   "execution_count": 1,
   "metadata": {
    "ExecuteTime": {
     "end_time": "2021-03-17T01:40:26.485094Z",
     "start_time": "2021-03-17T01:40:25.015470Z"
    }
   },
   "outputs": [
    {
     "name": "stdout",
     "output_type": "stream",
     "text": [
      "Loaded 431581 X 14664 document-term matrix\n"
     ]
    }
   ],
   "source": [
    "import joblib\n",
    "\n",
    "(A, terms, snippets) = joblib.load(\n",
    "    \"cenario2-tweets-tfidf.pkl\")\n",
    "\n",
    "print(\"Loaded %d X %d document-term matrix\" % (A.shape[0], A.shape[1]))"
   ]
  },
  {
   "cell_type": "markdown",
   "metadata": {},
   "source": [
    "### Create the Topic Models"
   ]
  },
  {
   "cell_type": "markdown",
   "metadata": {},
   "source": [
    "A common approach for parameter selection is to Measure and compare the topic coherence of models generated for different values of *k*."
   ]
  },
  {
   "cell_type": "markdown",
   "metadata": {},
   "source": [
    "We need to start by pre-specifying an initial range of \"sensible\" values:"
   ]
  },
  {
   "cell_type": "code",
   "execution_count": 2,
   "metadata": {
    "ExecuteTime": {
     "end_time": "2021-03-17T01:40:26.489187Z",
     "start_time": "2021-03-17T01:40:26.486814Z"
    }
   },
   "outputs": [],
   "source": [
    "kmin, kmax = 5, 20"
   ]
  },
  {
   "cell_type": "markdown",
   "metadata": {},
   "source": [
    "Apply NMF for each of these values:"
   ]
  },
  {
   "cell_type": "code",
   "execution_count": 3,
   "metadata": {
    "ExecuteTime": {
     "end_time": "2021-03-17T01:43:55.791656Z",
     "start_time": "2021-03-17T01:40:26.490420Z"
    }
   },
   "outputs": [
    {
     "name": "stdout",
     "output_type": "stream",
     "text": [
      "Applying NMF for k=5 ...\n",
      "Applying NMF for k=10 ...\n",
      "Applying NMF for k=15 ...\n",
      "Applying NMF for k=20 ...\n"
     ]
    }
   ],
   "source": [
    "from sklearn import decomposition\n",
    "\n",
    "topic_models = []\n",
    "\n",
    "# try each value of k\n",
    "for k in [5,10,15,20]: # range(kmin, kmax + 1):\n",
    "    print(\"Applying NMF for k=%d ...\" % k)\n",
    "    # run NMF\n",
    "    model = decomposition.NMF(init=\"nndsvd\", n_components=k)\n",
    "    W = model.fit_transform(A)\n",
    "    H = model.components_\n",
    "    # store for later\n",
    "    topic_models.append((k, W, H))"
   ]
  },
  {
   "cell_type": "markdown",
   "metadata": {},
   "source": [
    "### Build a Word Embedding"
   ]
  },
  {
   "cell_type": "markdown",
   "metadata": {},
   "source": [
    "To select the number of topics, here we will use a *topic coherence* measure called TC-W2V. This measure relies on the use of a *word embedding* model constructed from our corpus. So in this step we will use the *Gensim* implementation of Word2Vec to build a Word2Vec model based on our collection of news articles."
   ]
  },
  {
   "cell_type": "markdown",
   "metadata": {},
   "source": [
    "**Note:** If you want to skip this step, a pre-built Word2Vec model for the sample dataset [is also provided here for download](http://erdos.ucd.ie/files/pydata/w2v-model.bin) (71MB)."
   ]
  },
  {
   "cell_type": "markdown",
   "metadata": {},
   "source": [
    "We read the documents from the input file again:"
   ]
  },
  {
   "cell_type": "code",
   "execution_count": 4,
   "metadata": {
    "ExecuteTime": {
     "end_time": "2021-03-17T01:43:56.132604Z",
     "start_time": "2021-03-17T01:43:55.793461Z"
    }
   },
   "outputs": [
    {
     "name": "stdout",
     "output_type": "stream",
     "text": [
      "Read 431581 raw text documents\n"
     ]
    }
   ],
   "source": [
    "import os.path\n",
    "\n",
    "raw_documents = []\n",
    "\n",
    "with open(os.path.join(\"cenario2_8M2020_tweets_en.txt\"), \"r\") as fin:\n",
    "    for line in fin.readlines():\n",
    "        raw_documents.append(line.strip().lower())\n",
    "\n",
    "print(\"Read %d raw text documents\" % len(raw_documents))"
   ]
  },
  {
   "cell_type": "markdown",
   "metadata": {},
   "source": [
    "Read the custom stopword list:"
   ]
  },
  {
   "cell_type": "code",
   "execution_count": 5,
   "metadata": {
    "ExecuteTime": {
     "end_time": "2021-03-17T01:43:56.138273Z",
     "start_time": "2021-03-17T01:43:56.134057Z"
    }
   },
   "outputs": [
    {
     "name": "stdout",
     "output_type": "stream",
     "text": [
      "Stopword list has 179 entries\n"
     ]
    }
   ],
   "source": [
    "custom_stop_words = []\n",
    "\n",
    "with open(\"english.txt\", \"r\") as fin:\n",
    "    for line in fin.readlines():\n",
    "        custom_stop_words.append(line.strip().lower())\n",
    "\n",
    "# note that we need to make it hashable\n",
    "print(\"Stopword list has %d entries\" % len(custom_stop_words))"
   ]
  },
  {
   "cell_type": "markdown",
   "metadata": {},
   "source": [
    "First, we need to define a class that will generate documents in a form that can be consumed by Gensim's Word2Vec implementation:"
   ]
  },
  {
   "cell_type": "code",
   "execution_count": 6,
   "metadata": {
    "ExecuteTime": {
     "end_time": "2021-03-17T01:43:56.157450Z",
     "start_time": "2021-03-17T01:43:56.139939Z"
    }
   },
   "outputs": [],
   "source": [
    "import re\n",
    "\n",
    "\n",
    "class TokenGenerator:\n",
    "    def __init__(self, documents, stopwords):\n",
    "        self.documents = documents\n",
    "        self.stopwords = stopwords\n",
    "        self.tokenizer = re.compile(r\"(?u)\\b\\w\\w+\\b\")\n",
    "\n",
    "    def __iter__(self):\n",
    "        print(\"Building Word2Vec model ...\")\n",
    "        for doc in self.documents:\n",
    "            tokens = []\n",
    "            for tok in self.tokenizer.findall(doc):\n",
    "                if tok in self.stopwords:\n",
    "                    tokens.append(\"<stopword>\")\n",
    "                elif len(tok) >= 2:\n",
    "                    tokens.append(tok)\n",
    "            yield tokens"
   ]
  },
  {
   "cell_type": "markdown",
   "metadata": {},
   "source": [
    "Now build a Skipgram Word2Vec model from all documents in the input file using *Gensim*:"
   ]
  },
  {
   "cell_type": "code",
   "execution_count": 7,
   "metadata": {
    "ExecuteTime": {
     "end_time": "2021-03-17T01:43:56.795321Z",
     "start_time": "2021-03-17T01:43:56.159932Z"
    }
   },
   "outputs": [],
   "source": [
    "import gensim"
   ]
  },
  {
   "cell_type": "code",
   "execution_count": 8,
   "metadata": {
    "ExecuteTime": {
     "end_time": "2021-03-17T01:46:56.181903Z",
     "start_time": "2021-03-17T01:43:56.796827Z"
    }
   },
   "outputs": [
    {
     "name": "stdout",
     "output_type": "stream",
     "text": [
      "Building Word2Vec model ...\n",
      "Building Word2Vec model ...\n",
      "Building Word2Vec model ...\n",
      "Building Word2Vec model ...\n",
      "Building Word2Vec model ...\n",
      "Building Word2Vec model ...\n"
     ]
    }
   ],
   "source": [
    "docgen = TokenGenerator(raw_documents, custom_stop_words)\n",
    "\n",
    "# the model has 500 dimensions, the minimum document-term frequency is 20\n",
    "w2v_model = gensim.models.Word2Vec(docgen, size=500, min_count=20, sg=1)"
   ]
  },
  {
   "cell_type": "code",
   "execution_count": 9,
   "metadata": {
    "ExecuteTime": {
     "end_time": "2021-03-17T01:46:56.185993Z",
     "start_time": "2021-03-17T01:46:56.183213Z"
    }
   },
   "outputs": [
    {
     "name": "stdout",
     "output_type": "stream",
     "text": [
      "Model has 14933 terms\n"
     ]
    }
   ],
   "source": [
    "print( \"Model has %d terms\" % len(w2v_model.wv.vocab) )"
   ]
  },
  {
   "cell_type": "markdown",
   "metadata": {},
   "source": [
    "Save for later use, so that we do not need to rebuild it:"
   ]
  },
  {
   "cell_type": "code",
   "execution_count": 10,
   "metadata": {
    "ExecuteTime": {
     "end_time": "2021-03-17T01:46:56.963909Z",
     "start_time": "2021-03-17T01:46:56.187217Z"
    }
   },
   "outputs": [],
   "source": [
    "w2v_model.save(\"cenario2_w2v-model.bin\")"
   ]
  },
  {
   "cell_type": "code",
   "execution_count": 11,
   "metadata": {
    "ExecuteTime": {
     "end_time": "2021-03-17T01:46:56.968484Z",
     "start_time": "2021-03-17T01:46:56.966275Z"
    }
   },
   "outputs": [],
   "source": [
    "# To re-load this model, run\n",
    "# w2v_model = gensim.models.Word2Vec.load(\"cenario1_w2v-model.bin\")"
   ]
  },
  {
   "cell_type": "markdown",
   "metadata": {},
   "source": [
    "### Selecting the Number of Topics"
   ]
  },
  {
   "cell_type": "markdown",
   "metadata": {},
   "source": [
    "Once we have our Word2vec model, we can use it as part of our *topic coherence* approach to evaluate the different NMF topic models that we created previously. To do this, we will implement a simple version of the TC-W2V coherence measure."
   ]
  },
  {
   "cell_type": "markdown",
   "metadata": {},
   "source": [
    "We use the Word2vec model to calculate coherence scores for each of these models. We will define this coherence score as follows:"
   ]
  },
  {
   "cell_type": "code",
   "execution_count": 12,
   "metadata": {
    "ExecuteTime": {
     "end_time": "2021-03-17T01:46:56.989848Z",
     "start_time": "2021-03-17T01:46:56.969777Z"
    }
   },
   "outputs": [],
   "source": [
    "def calculate_coherence(w2v_model, term_rankings):\n",
    "    overall_coherence = 0.0\n",
    "    \n",
    "    for topic_index in range(len(term_rankings)):\n",
    "        # check each pair of terms\n",
    "        pair_scores = []\n",
    "        for pair in combinations(term_rankings[topic_index], 2):\n",
    "            pair_scores.append(w2v_model.similarity(pair[0], pair[1]))\n",
    "        # get the mean for all pairs in this topic\n",
    "        topic_score = sum(pair_scores) / len(pair_scores)\n",
    "        overall_coherence += topic_score\n",
    "    \n",
    "    # get the mean score across all topics\n",
    "    return overall_coherence / len(term_rankings)"
   ]
  },
  {
   "cell_type": "markdown",
   "metadata": {},
   "source": [
    "We also define a function to get the topic descriptor (i.e. list of top terms) for each topic:"
   ]
  },
  {
   "cell_type": "code",
   "execution_count": 13,
   "metadata": {
    "ExecuteTime": {
     "end_time": "2021-03-17T01:46:57.006221Z",
     "start_time": "2021-03-17T01:46:56.991082Z"
    }
   },
   "outputs": [],
   "source": [
    "import numpy as np\n",
    "\n",
    "\n",
    "def get_descriptor(all_terms, H, topic_index, top):\n",
    "    # reverse sort the values to sort the indices\n",
    "    top_indices = np.argsort(H[topic_index, :])[::-1]\n",
    "    \n",
    "    # now get the terms corresponding to the top-ranked indices\n",
    "    top_terms = []\n",
    "    \n",
    "    for term_index in top_indices[0:top]:\n",
    "        top_terms.append(all_terms[term_index])\n",
    "    \n",
    "    return top_terms"
   ]
  },
  {
   "cell_type": "markdown",
   "metadata": {},
   "source": [
    "Now process each of the models for different values of *k*:"
   ]
  },
  {
   "cell_type": "code",
   "execution_count": 14,
   "metadata": {
    "ExecuteTime": {
     "end_time": "2021-03-17T01:46:57.162599Z",
     "start_time": "2021-03-17T01:46:57.007492Z"
    }
   },
   "outputs": [
    {
     "name": "stdout",
     "output_type": "stream",
     "text": [
      "K=05: Coherence=0.3066\n",
      "K=10: Coherence=0.2825\n",
      "K=15: Coherence=0.2662\n",
      "K=20: Coherence=0.2648\n"
     ]
    },
    {
     "name": "stderr",
     "output_type": "stream",
     "text": [
      "/home/gean/anaconda3/lib/python3.7/site-packages/ipykernel_launcher.py:8: DeprecationWarning: Call to deprecated `similarity` (Method will be removed in 4.0.0, use self.wv.similarity() instead).\n",
      "  \n"
     ]
    }
   ],
   "source": [
    "from itertools import combinations\n",
    "\n",
    "k_values = []\n",
    "coherences = []\n",
    "\n",
    "for (k, W, H) in topic_models:\n",
    "    # Get all of the topic descriptors - the term_rankings, based on top 10 terms\n",
    "    term_rankings = []\n",
    "    \n",
    "    for topic_index in range(k):\n",
    "        term_rankings.append(get_descriptor(terms, H, topic_index, 10))\n",
    "    \n",
    "    # Now calculate the coherence based on our Word2vec model\n",
    "    k_values.append(k)\n",
    "    coherences.append(calculate_coherence(w2v_model, term_rankings))\n",
    "    \n",
    "    print(\"K=%02d: Coherence=%.4f\" % (k, coherences[-1]))\n",
    "    # print(f'{coherences[-1]:.4f}')"
   ]
  },
  {
   "cell_type": "markdown",
   "metadata": {},
   "source": [
    "We can now use *matplotlib* to generate a line plot of these coherence scores, to help us select an appropriate value."
   ]
  },
  {
   "cell_type": "code",
   "execution_count": 15,
   "metadata": {
    "ExecuteTime": {
     "end_time": "2021-03-17T01:46:57.324251Z",
     "start_time": "2021-03-17T01:46:57.163829Z"
    }
   },
   "outputs": [],
   "source": [
    "%matplotlib inline\n",
    "import matplotlib\n",
    "import matplotlib.pyplot as plt\n",
    "\n",
    "plt.style.use(\"ggplot\")\n",
    "matplotlib.rcParams.update({\"font.size\": 14})"
   ]
  },
  {
   "cell_type": "code",
   "execution_count": 16,
   "metadata": {
    "ExecuteTime": {
     "end_time": "2021-03-17T01:46:57.500062Z",
     "start_time": "2021-03-17T01:46:57.326114Z"
    }
   },
   "outputs": [
    {
     "data": {
      "image/png": "[encoded data removed]",
      "text/plain": [
       "<Figure size 936x504 with 1 Axes>"
      ]
     },
     "metadata": {},
     "output_type": "display_data"
    }
   ],
   "source": [
    "fig = plt.figure(figsize=(13,7))\n",
    "\n",
    "# create the line plot\n",
    "ax = plt.plot( k_values, coherences )\n",
    "plt.xticks(k_values)\n",
    "plt.xlabel(\"Number of Topics\")\n",
    "plt.ylabel(\"Mean Coherence\")\n",
    "\n",
    "# add the points\n",
    "plt.scatter( k_values, coherences, s=120)\n",
    "\n",
    "\n",
    "# find and annotate the maximum point on the plot\n",
    "ymax = max(coherences)\n",
    "xpos = coherences.index(ymax)\n",
    "best_k = k_values[xpos]\n",
    "plt.annotate( \"k=%d\" % best_k, xy=(best_k, ymax), xytext=(best_k, ymax), textcoords=\"offset points\", fontsize=16)\n",
    "\n",
    "# show the plot\n",
    "plt.show()"
   ]
  },
  {
   "cell_type": "markdown",
   "metadata": {},
   "source": [
    "### Examine the Final  Model"
   ]
  },
  {
   "cell_type": "markdown",
   "metadata": {},
   "source": [
    "The plot above suggests that the most appropriate value for the number of topics is *k=8*."
   ]
  },
  {
   "cell_type": "code",
   "execution_count": 40,
   "metadata": {
    "ExecuteTime": {
     "end_time": "2021-03-17T02:05:10.978474Z",
     "start_time": "2021-03-17T02:05:10.975782Z"
    }
   },
   "outputs": [],
   "source": [
    "k = 20 # best_k\n",
    "\n",
    "# get the model that we generated earlier.\n",
    "W = topic_models[3][1]\n",
    "H = topic_models[3][2]"
   ]
  },
  {
   "cell_type": "markdown",
   "metadata": {},
   "source": [
    "Display the topic descriptors for this model:"
   ]
  },
  {
   "cell_type": "code",
   "execution_count": 41,
   "metadata": {
    "ExecuteTime": {
     "end_time": "2021-03-17T02:05:11.854052Z",
     "start_time": "2021-03-17T02:05:11.834653Z"
    }
   },
   "outputs": [
    {
     "name": "stdout",
     "output_type": "stream",
     "text": [
      "Topic 01: international, day, womens, women, march\n",
      "Topic 02: internationalwomensday, female, celebrating, internationalwomensday2020, girls\n",
      "Topic 03: happy, day, everyone, birthday, wishing\n",
      "Topic 04: happywomensday2020, happywomensday, day, sheinspiresus, best\n",
      "Topic 05: world, equal, enabled, around, gender\n",
      "Topic 06: woman, man, strong, life, proud\n",
      "Topic 07: iwd2020, eachforequal, equality, generationequality, gender\n",
      "Topic 08: womensday, womensday2020, happywomensday, womenempowerment, day\n",
      "Topic 09: women, day, strong, men, life\n",
      "Topic 10: love, much, life, respect, always\n",
      "Topic 11: amp, girls, work, many, support\n",
      "Topic 12: may, strong, know, raise, unknown\n",
      "Topic 13: thank, much, great, wonderful, support\n",
      "Topic 14: today, celebrate, let, everyday, achievements\n",
      "Topic 15: amazing, work, life, many, proud\n",
      "Topic 16: thanks, latest, daily, great, 8m\n",
      "Topic 17: iwd, one, men, great, like\n",
      "Topic 18: every, day, one, single, year\n",
      "Topic 19: ladies, beautiful, strong, lovely, wonderful\n",
      "Topic 20: internationalwomenday2020, womensday2020, internationalwomensday2020, internationalwomenday, happywomensday\n"
     ]
    }
   ],
   "source": [
    "for topic_index in range(k):\n",
    "    descriptor = get_descriptor( terms, H, topic_index, 5)\n",
    "    str_descriptor = \", \".join( descriptor )\n",
    "    print(\"Topic %02d: %s\" % ( topic_index+1, str_descriptor ) )"
   ]
  },
  {
   "cell_type": "code",
   "execution_count": 42,
   "metadata": {
    "ExecuteTime": {
     "end_time": "2021-03-17T02:05:12.020257Z",
     "start_time": "2021-03-17T02:05:12.000241Z"
    }
   },
   "outputs": [
    {
     "name": "stdout",
     "output_type": "stream",
     "text": [
      "Topic 01: international, day, womens, women, march, eachforequal, via, internationalwomensday2020, celebrates, girlpower\n",
      "Topic 02: internationalwomensday, female, celebrating, internationalwomensday2020, girls, one, best, favorite, like, great\n",
      "Topic 03: happy, day, everyone, birthday, wishing, wish, sisters, queens, iwd2020, wishes\n",
      "Topic 04: happywomensday2020, happywomensday, day, sheinspiresus, best, respect, happyinternationalwomensday, mother, wishing, india\n",
      "Topic 05: world, equal, enabled, around, gender, eachforequal, let, equality, better, make\n",
      "Topic 06: woman, man, strong, life, proud, one, like, magic, power, first\n",
      "Topic 07: iwd2020, eachforequal, equality, generationequality, gender, celebrating, internationalwomensday2020, work, proud, female\n",
      "Topic 08: womensday, womensday2020, happywomensday, womenempowerment, day, wishes, internationalwomensday2020, sheinspiresus, india, 8march\n",
      "Topic 09: women, day, strong, men, life, rights, incredible, celebrating, wonderful, support\n",
      "Topic 10: love, much, life, respect, always, see, mom, one, mother, appreciate\n",
      "Topic 11: amp, girls, work, many, support, like, female, gender, men, one\n",
      "Topic 12: may, strong, know, raise, unknown, continue, always, independent, strongwomen, stay\n",
      "Topic 13: thank, much, great, wonderful, support, like, life, inspiring, work, always\n",
      "Topic 14: today, celebrate, let, everyday, achievements, celebrating, way, take, incredible, equality\n",
      "Topic 15: amazing, work, life, many, proud, team, shout, know, lucky, inspiring\n",
      "Topic 16: thanks, latest, daily, great, 8m, news, 8m2020, iwd2020, diainternacionaldelamujer, much\n",
      "Topic 17: iwd, one, men, great, like, year, internationalwomensday2020, see, get, people\n",
      "Topic 18: every, day, one, single, year, inspire, make, girl, behind, respect\n",
      "Topic 19: ladies, beautiful, strong, lovely, wonderful, powerful, keep, life, stay, brave\n",
      "Topic 20: internationalwomenday2020, womensday2020, internationalwomensday2020, internationalwomenday, happywomensday, sundaythoughts, 8march, auratazadimarch, sundaymotivation, equalforequal\n"
     ]
    }
   ],
   "source": [
    "for topic_index in range(k):\n",
    "    descriptor = get_descriptor( terms, H, topic_index, 10)\n",
    "    str_descriptor = \", \".join( descriptor )\n",
    "    print(\"Topic %02d: %s\" % ( topic_index+1, str_descriptor ) )"
   ]
  },
  {
   "cell_type": "code",
   "execution_count": 43,
   "metadata": {
    "ExecuteTime": {
     "end_time": "2021-03-17T02:05:12.174726Z",
     "start_time": "2021-03-17T02:05:12.155106Z"
    }
   },
   "outputs": [
    {
     "name": "stdout",
     "output_type": "stream",
     "text": [
      "Topic 01: international, day, womens, women, march, eachforequal, via, internationalwomensday2020, celebrates, girlpower, 8th, celebration, special, celebrated, 8march\n",
      "Topic 02: internationalwomensday, female, celebrating, internationalwomensday2020, girls, one, best, favorite, like, great, girl, time, good, get, honor\n",
      "Topic 03: happy, day, everyone, birthday, wishing, wish, sisters, queens, iwd2020, wishes, friends, internationalwomensday, keep, wonderful, 8march\n",
      "Topic 04: happywomensday2020, happywomensday, day, sheinspiresus, best, respect, happyinternationalwomensday, mother, wishing, india, always, wishes, power, wish, good\n",
      "Topic 05: world, equal, enabled, around, gender, eachforequal, let, equality, better, make, place, help, create, change, bias\n",
      "Topic 06: woman, man, strong, life, proud, one, like, magic, power, first, mother, powerful, never, beautiful, god\n",
      "Topic 07: iwd2020, eachforequal, equality, generationequality, gender, celebrating, internationalwomensday2020, work, proud, female, team, read, support, great, genderequality\n",
      "Topic 08: womensday, womensday2020, happywomensday, womenempowerment, day, wishes, internationalwomensday2020, sheinspiresus, india, 8march, womenshistorymonth, wishing, best, power, womenpower\n",
      "Topic 09: women, day, strong, men, life, rights, incredible, celebrating, wonderful, support, around, inspire, empower, lives, inspiring\n",
      "Topic 10: love, much, life, respect, always, see, mom, one, mother, appreciate, sending, show, best, womens, support\n",
      "Topic 11: amp, girls, work, many, support, like, female, gender, men, one, equality, make, people, get, time\n",
      "Topic 12: may, strong, know, raise, unknown, continue, always, independent, strongwomen, stay, brave, powerful, smart, strength, bless\n",
      "Topic 13: thank, much, great, wonderful, support, like, life, inspiring, work, always, many, making, want, everything, would\n",
      "Topic 14: today, celebrate, let, everyday, achievements, celebrating, way, take, incredible, equality, lives, shine, join, female, made\n",
      "Topic 15: amazing, work, life, many, proud, team, shout, know, lucky, inspiring, keep, things, grateful, inspire, part\n",
      "Topic 16: thanks, latest, daily, great, 8m, news, 8m2020, iwd2020, diainternacionaldelamujer, much, many, sharing, diario, coronavirus, support\n",
      "Topic 17: iwd, one, men, great, like, year, internationalwomensday2020, see, get, people, good, need, march, time, celebrating\n",
      "Topic 18: every, day, one, single, year, inspire, make, girl, behind, respect, moment, heart, home, without, successful\n",
      "Topic 19: ladies, beautiful, strong, lovely, wonderful, powerful, keep, life, stay, brave, smart, awesome, independent, unique, talented\n",
      "Topic 20: internationalwomenday2020, womensday2020, internationalwomensday2020, internationalwomenday, happywomensday, sundaythoughts, 8march, auratazadimarch, sundaymotivation, equalforequal, auratmarch2020, wonderful, merahijabmerimarzi, generationequality, sundaymorning\n"
     ]
    }
   ],
   "source": [
    "for topic_index in range(k):\n",
    "    descriptor = get_descriptor( terms, H, topic_index, 15)\n",
    "    str_descriptor = \", \".join( descriptor )\n",
    "    print(\"Topic %02d: %s\" % ( topic_index+1, str_descriptor ) )"
   ]
  },
  {
   "cell_type": "code",
   "execution_count": 44,
   "metadata": {
    "ExecuteTime": {
     "end_time": "2021-03-17T02:05:12.314526Z",
     "start_time": "2021-03-17T02:05:12.295121Z"
    }
   },
   "outputs": [
    {
     "name": "stdout",
     "output_type": "stream",
     "text": [
      "Topic 01: international, day, womens, women, march, eachforequal, via, internationalwomensday2020, celebrates, girlpower, 8th, celebration, special, celebrated, 8march, theme, mens, enjoy, celebrate, hope\n",
      "Topic 02: internationalwomensday, female, celebrating, internationalwomensday2020, girls, one, best, favorite, like, great, girl, time, good, get, honor, want, favourite, proud, shout, see\n",
      "Topic 03: happy, day, everyone, birthday, wishing, wish, sisters, queens, iwd2020, wishes, friends, internationalwomensday, keep, wonderful, 8march, incredible, everyday, lovely, stay, dear\n",
      "Topic 04: happywomensday2020, happywomensday, day, sheinspiresus, best, respect, happyinternationalwomensday, mother, wishing, india, always, wishes, power, wish, good, beautiful, indvaus, t20worldcup, womensday2020, sister\n",
      "Topic 05: world, equal, enabled, around, gender, eachforequal, let, equality, better, make, place, help, create, change, bias, forge, girls, collectively, run, action\n",
      "Topic 06: woman, man, strong, life, proud, one, like, magic, power, first, mother, powerful, never, beautiful, god, wonder, tell, stands, strongest, strength\n",
      "Topic 07: iwd2020, eachforequal, equality, generationequality, gender, celebrating, internationalwomensday2020, work, proud, female, team, read, support, great, genderequality, part, diversity, together, join, year\n",
      "Topic 08: womensday, womensday2020, happywomensday, womenempowerment, day, wishes, internationalwomensday2020, sheinspiresus, india, 8march, womenshistorymonth, wishing, best, power, womenpower, wish, special, team, let, womankibaat\n",
      "Topic 09: women, day, strong, men, life, rights, incredible, celebrating, wonderful, support, around, inspire, empower, lives, inspiring, many, trans, powerful, power, respect\n",
      "Topic 10: love, much, life, respect, always, see, mom, one, mother, appreciate, sending, show, best, womens, support, heart, know, strength, sisters, would\n",
      "Topic 11: amp, girls, work, many, support, like, female, gender, men, one, equality, make, people, get, time, rights, see, proud, need, great\n",
      "Topic 12: may, strong, know, raise, unknown, continue, always, independent, strongwomen, stay, brave, powerful, smart, strength, bless, never, kind, god, enough, awareness\n",
      "Topic 13: thank, much, great, wonderful, support, like, life, inspiring, work, always, many, making, want, everything, would, say, incredible, make, better, inspiration\n",
      "Topic 14: today, celebrate, let, everyday, achievements, celebrating, way, take, incredible, equality, lives, shine, join, female, made, fight, make, great, continue, come\n",
      "Topic 15: amazing, work, life, many, proud, team, shout, know, lucky, inspiring, keep, things, grateful, inspire, part, friends, people, female, great, working\n",
      "Topic 16: thanks, latest, daily, great, 8m, news, 8m2020, iwd2020, diainternacionaldelamujer, much, many, sharing, diario, coronavirus, support, special, work, inspiring, including, big\n",
      "Topic 17: iwd, one, men, great, like, year, internationalwomensday2020, see, get, people, good, need, march, time, celebrating, well, iwd20, still, female, know\n",
      "Topic 18: every, day, one, single, year, inspire, make, girl, behind, respect, moment, heart, home, without, successful, happiness, incomplete, inspiration, work, feeling\n",
      "Topic 19: ladies, beautiful, strong, lovely, wonderful, powerful, keep, life, stay, brave, smart, awesome, independent, unique, talented, kind, girls, wishing, let, rock\n",
      "Topic 20: internationalwomenday2020, womensday2020, internationalwomensday2020, internationalwomenday, happywomensday, sundaythoughts, 8march, auratazadimarch, sundaymotivation, equalforequal, auratmarch2020, wonderful, merahijabmerimarzi, generationequality, sundaymorning, womansday, womankibaat, internationalwomansday, respecttacha, iwd20\n"
     ]
    }
   ],
   "source": [
    "for topic_index in range(k):\n",
    "    descriptor = get_descriptor( terms, H, topic_index, 20)\n",
    "    str_descriptor = \", \".join( descriptor )\n",
    "    print(\"Topic %02d: %s\" % ( topic_index+1, str_descriptor ) )"
   ]
  },
  {
   "cell_type": "code",
   "execution_count": null,
   "metadata": {},
   "outputs": [],
   "source": []
  },
  {
   "cell_type": "code",
   "execution_count": null,
   "metadata": {},
   "outputs": [],
   "source": []
  }
 ],
 "metadata": {
  "@webio": {
   "lastCommId": null,
   "lastKernelId": null
  },
  "kernelspec": {
   "display_name": "Python 3",
   "language": "python",
   "name": "python3"
  },
  "language_info": {
   "codemirror_mode": {
    "name": "ipython",
    "version": 3
   },
   "file_extension": ".py",
   "mimetype": "text/x-python",
   "name": "python",
   "nbconvert_exporter": "python",
   "pygments_lexer": "ipython3",
   "version": "3.7.7"
  },
  "toc": {
   "base_numbering": 1,
   "nav_menu": {
    "height": "91px",
    "width": "373px"
   },
   "number_sections": true,
   "sideBar": true,
   "skip_h1_title": false,
   "title_cell": "Table of Contents",
   "title_sidebar": "Contents",
   "toc_cell": false,
   "toc_position": {
    "height": "557px",
    "left": "22px",
    "top": "170px",
    "width": "288px"
   },
   "toc_section_display": true,
   "toc_window_display": false
  }
 },
 "nbformat": 4,
 "nbformat_minor": 4
}
