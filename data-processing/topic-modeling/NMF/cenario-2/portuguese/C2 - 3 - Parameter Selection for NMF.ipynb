{
 "cells": [
  {
   "cell_type": "markdown",
   "metadata": {},
   "source": [
    "# Parameter Selection for NMF"
   ]
  },
  {
   "cell_type": "markdown",
   "metadata": {},
   "source": [
    "Now we look at the more advanced task of parameter selection for NMF topic modelling - namely, selecting a useful value for the number of topics *k*."
   ]
  },
  {
   "cell_type": "markdown",
   "metadata": {},
   "source": [
    "First, let's load the TF-IDF normalised document-term matrix and list of terms that we stored earlier using *Joblib*:"
   ]
  },
  {
   "cell_type": "code",
   "execution_count": 1,
   "metadata": {
    "ExecuteTime": {
     "end_time": "2021-03-17T02:15:12.068489Z",
     "start_time": "2021-03-17T02:15:11.783413Z"
    }
   },
   "outputs": [
    {
     "name": "stdout",
     "output_type": "stream",
     "text": [
      "Loaded 42272 X 2727 document-term matrix\n"
     ]
    }
   ],
   "source": [
    "import joblib\n",
    "\n",
    "(A, terms, snippets) = joblib.load(\"cenario2_tweets-tfidf.pkl\")\n",
    "\n",
    "print(\"Loaded %d X %d document-term matrix\" % (A.shape[0], A.shape[1]))"
   ]
  },
  {
   "cell_type": "markdown",
   "metadata": {},
   "source": [
    "### Create the Topic Models"
   ]
  },
  {
   "cell_type": "markdown",
   "metadata": {},
   "source": [
    "A common approach for parameter selection is to Measure and compare the topic coherence of models generated for different values of *k*."
   ]
  },
  {
   "cell_type": "markdown",
   "metadata": {},
   "source": [
    "We need to start by pre-specifying an initial range of \"sensible\" values:"
   ]
  },
  {
   "cell_type": "code",
   "execution_count": 2,
   "metadata": {
    "ExecuteTime": {
     "end_time": "2021-03-17T02:15:12.073666Z",
     "start_time": "2021-03-17T02:15:12.070747Z"
    }
   },
   "outputs": [],
   "source": [
    "kmin, kmax = 5, 20"
   ]
  },
  {
   "cell_type": "markdown",
   "metadata": {},
   "source": [
    "Apply NMF for each of these values:"
   ]
  },
  {
   "cell_type": "code",
   "execution_count": 3,
   "metadata": {
    "ExecuteTime": {
     "end_time": "2021-03-17T02:15:52.503667Z",
     "start_time": "2021-03-17T02:15:12.075526Z"
    }
   },
   "outputs": [
    {
     "name": "stdout",
     "output_type": "stream",
     "text": [
      "Applying NMF for k=5 ...\n",
      "Applying NMF for k=6 ...\n",
      "Applying NMF for k=7 ...\n",
      "Applying NMF for k=8 ...\n",
      "Applying NMF for k=9 ...\n",
      "Applying NMF for k=10 ...\n",
      "Applying NMF for k=11 ...\n",
      "Applying NMF for k=12 ...\n",
      "Applying NMF for k=13 ...\n",
      "Applying NMF for k=14 ...\n",
      "Applying NMF for k=15 ...\n",
      "Applying NMF for k=16 ...\n",
      "Applying NMF for k=17 ...\n",
      "Applying NMF for k=18 ...\n",
      "Applying NMF for k=19 ...\n",
      "Applying NMF for k=20 ...\n"
     ]
    }
   ],
   "source": [
    "from sklearn import decomposition\n",
    "\n",
    "topic_models = []\n",
    "\n",
    "# try each value of k\n",
    "for k in range(kmin, kmax + 1):\n",
    "    print(\"Applying NMF for k=%d ...\" % k)\n",
    "    # run NMF\n",
    "    model = decomposition.NMF(init=\"nndsvd\", n_components=k)\n",
    "    W = model.fit_transform(A)\n",
    "    H = model.components_\n",
    "    # store for later\n",
    "    topic_models.append((k, W, H))"
   ]
  },
  {
   "cell_type": "markdown",
   "metadata": {},
   "source": [
    "### Build a Word Embedding"
   ]
  },
  {
   "cell_type": "markdown",
   "metadata": {},
   "source": [
    "To select the number of topics, here we will use a *topic coherence* measure called TC-W2V. This measure relies on the use of a *word embedding* model constructed from our corpus. So in this step we will use the *Gensim* implementation of Word2Vec to build a Word2Vec model based on our collection of news articles."
   ]
  },
  {
   "cell_type": "markdown",
   "metadata": {},
   "source": [
    "**Note:** If you want to skip this step, a pre-built Word2Vec model for the sample dataset [is also provided here for download](http://erdos.ucd.ie/files/pydata/w2v-model.bin) (71MB)."
   ]
  },
  {
   "cell_type": "markdown",
   "metadata": {},
   "source": [
    "We read the documents from the input file again:"
   ]
  },
  {
   "cell_type": "code",
   "execution_count": 4,
   "metadata": {
    "ExecuteTime": {
     "end_time": "2021-03-17T02:15:52.607263Z",
     "start_time": "2021-03-17T02:15:52.506999Z"
    }
   },
   "outputs": [
    {
     "name": "stdout",
     "output_type": "stream",
     "text": [
      "Read 42272 raw text documents\n"
     ]
    }
   ],
   "source": [
    "import os.path\n",
    "\n",
    "raw_documents = []\n",
    "\n",
    "with open(os.path.join(\"cenario2_8M2020_tweets_pt.txt\"), \"r\") as fin:\n",
    "    for line in fin.readlines():\n",
    "        raw_documents.append(line.strip().lower())\n",
    "\n",
    "print(\"Read %d raw text documents\" % len(raw_documents))"
   ]
  },
  {
   "cell_type": "code",
   "execution_count": 5,
   "metadata": {
    "ExecuteTime": {
     "end_time": "2021-03-17T02:15:52.625909Z",
     "start_time": "2021-03-17T02:15:52.610917Z"
    }
   },
   "outputs": [
    {
     "data": {
      "text/plain": [
       "'sol cara projeto inclusive praia volta proximo domingo programacao especial referencia dia internacional mulher vai ter jogos brincadeiras diversao show isabelle passinho perca #governodetodosnos'"
      ]
     },
     "execution_count": 5,
     "metadata": {},
     "output_type": "execute_result"
    }
   ],
   "source": [
    "raw_documents[0]"
   ]
  },
  {
   "cell_type": "markdown",
   "metadata": {},
   "source": [
    "Read the custom stopword list:"
   ]
  },
  {
   "cell_type": "code",
   "execution_count": 6,
   "metadata": {
    "ExecuteTime": {
     "end_time": "2021-03-17T02:15:52.636051Z",
     "start_time": "2021-03-17T02:15:52.627815Z"
    }
   },
   "outputs": [
    {
     "name": "stdout",
     "output_type": "stream",
     "text": [
      "Stopword list has 234 entries\n"
     ]
    }
   ],
   "source": [
    "custom_stop_words = []\n",
    "\n",
    "with open(\"portuguese.txt\", \"r\") as fin:\n",
    "    for line in fin.readlines():\n",
    "        custom_stop_words.append(line.strip().lower())\n",
    "\n",
    "# note that we need to make it hashable\n",
    "print(\"Stopword list has %d entries\" % len(custom_stop_words))"
   ]
  },
  {
   "cell_type": "markdown",
   "metadata": {},
   "source": [
    "First, we need to define a class that will generate documents in a form that can be consumed by Gensim's Word2Vec implementation:"
   ]
  },
  {
   "cell_type": "code",
   "execution_count": 7,
   "metadata": {
    "ExecuteTime": {
     "end_time": "2021-03-17T02:15:52.646356Z",
     "start_time": "2021-03-17T02:15:52.639189Z"
    }
   },
   "outputs": [],
   "source": [
    "import re\n",
    "\n",
    "\n",
    "class TokenGenerator:\n",
    "    def __init__(self, documents, stopwords):\n",
    "        self.documents = documents\n",
    "        self.stopwords = stopwords\n",
    "        self.tokenizer = re.compile(r\"(?u)\\b\\w\\w+\\b\")\n",
    "\n",
    "    def __iter__(self):\n",
    "        print(\"Building Word2Vec model ...\")\n",
    "        for doc in self.documents:\n",
    "            tokens = []\n",
    "            for tok in self.tokenizer.findall(doc):\n",
    "                if tok in self.stopwords:\n",
    "                    tokens.append(\"<stopword>\")\n",
    "                elif len(tok) >= 2:\n",
    "                    tokens.append(tok)\n",
    "            yield tokens"
   ]
  },
  {
   "cell_type": "markdown",
   "metadata": {},
   "source": [
    "Now build a Skipgram Word2Vec model from all documents in the input file using *Gensim*:"
   ]
  },
  {
   "cell_type": "code",
   "execution_count": 8,
   "metadata": {
    "ExecuteTime": {
     "end_time": "2021-03-17T02:16:07.807393Z",
     "start_time": "2021-03-17T02:15:52.648453Z"
    }
   },
   "outputs": [
    {
     "name": "stdout",
     "output_type": "stream",
     "text": [
      "Building Word2Vec model ...\n",
      "Building Word2Vec model ...\n",
      "Building Word2Vec model ...\n",
      "Building Word2Vec model ...\n",
      "Building Word2Vec model ...\n",
      "Building Word2Vec model ...\n"
     ]
    }
   ],
   "source": [
    "import gensim\n",
    "\n",
    "docgen = TokenGenerator(raw_documents, custom_stop_words)\n",
    "\n",
    "# the model has 500 dimensions, the minimum document-term frequency is 20\n",
    "w2v_model = gensim.models.Word2Vec(docgen, size=500, min_count=20, sg=1)"
   ]
  },
  {
   "cell_type": "code",
   "execution_count": 9,
   "metadata": {
    "ExecuteTime": {
     "end_time": "2021-03-17T02:16:07.812506Z",
     "start_time": "2021-03-17T02:16:07.809258Z"
    }
   },
   "outputs": [
    {
     "name": "stdout",
     "output_type": "stream",
     "text": [
      "Model has 2771 terms\n"
     ]
    }
   ],
   "source": [
    "print( \"Model has %d terms\" % len(w2v_model.wv.vocab) )"
   ]
  },
  {
   "cell_type": "markdown",
   "metadata": {},
   "source": [
    "Save for later use, so that we do not need to rebuild it:"
   ]
  },
  {
   "cell_type": "code",
   "execution_count": 10,
   "metadata": {
    "ExecuteTime": {
     "end_time": "2021-03-17T02:16:07.984914Z",
     "start_time": "2021-03-17T02:16:07.814737Z"
    }
   },
   "outputs": [],
   "source": [
    "w2v_model.save(\"cenario2_w2v-model.bin\")"
   ]
  },
  {
   "cell_type": "code",
   "execution_count": 11,
   "metadata": {
    "ExecuteTime": {
     "end_time": "2021-03-17T02:16:07.988883Z",
     "start_time": "2021-03-17T02:16:07.986685Z"
    }
   },
   "outputs": [],
   "source": [
    "# To re-load this model, run\n",
    "# w2v_model = gensim.models.Word2Vec.load(\"cenario2_w2v-model.bin\")"
   ]
  },
  {
   "cell_type": "markdown",
   "metadata": {},
   "source": [
    "### Selecting the Number of Topics"
   ]
  },
  {
   "cell_type": "markdown",
   "metadata": {},
   "source": [
    "Once we have our Word2vec model, we can use it as part of our *topic coherence* approach to evaluate the different NMF topic models that we created previously. To do this, we will implement a simple version of the TC-W2V coherence measure."
   ]
  },
  {
   "cell_type": "markdown",
   "metadata": {},
   "source": [
    "We use the Word2vec model to calculate coherence scores for each of these models. We will define this coherence score as follows:"
   ]
  },
  {
   "cell_type": "code",
   "execution_count": 12,
   "metadata": {
    "ExecuteTime": {
     "end_time": "2021-03-17T02:16:07.999110Z",
     "start_time": "2021-03-17T02:16:07.990539Z"
    }
   },
   "outputs": [],
   "source": [
    "def calculate_coherence(w2v_model, term_rankings):\n",
    "    overall_coherence = 0.0\n",
    "    \n",
    "    for topic_index in range(len(term_rankings)):\n",
    "        # check each pair of terms\n",
    "        pair_scores = []\n",
    "        for pair in combinations(term_rankings[topic_index], 2):\n",
    "            pair_scores.append(w2v_model.similarity(pair[0], pair[1]))\n",
    "        # get the mean for all pairs in this topic\n",
    "        topic_score = sum(pair_scores) / len(pair_scores)\n",
    "        overall_coherence += topic_score\n",
    "    \n",
    "    # get the mean score across all topics\n",
    "    return overall_coherence / len(term_rankings)"
   ]
  },
  {
   "cell_type": "markdown",
   "metadata": {},
   "source": [
    "We also define a function to get the topic descriptor (i.e. list of top terms) for each topic:"
   ]
  },
  {
   "cell_type": "code",
   "execution_count": 13,
   "metadata": {
    "ExecuteTime": {
     "end_time": "2021-03-17T02:16:08.009456Z",
     "start_time": "2021-03-17T02:16:08.000681Z"
    }
   },
   "outputs": [],
   "source": [
    "import numpy as np\n",
    "\n",
    "\n",
    "def get_descriptor(all_terms, H, topic_index, top):\n",
    "    # reverse sort the values to sort the indices\n",
    "    top_indices = np.argsort(H[topic_index, :])[::-1]\n",
    "    \n",
    "    # now get the terms corresponding to the top-ranked indices\n",
    "    top_terms = []\n",
    "    \n",
    "    for term_index in top_indices[0:top]:\n",
    "        top_terms.append(all_terms[term_index])\n",
    "    \n",
    "    return top_terms"
   ]
  },
  {
   "cell_type": "markdown",
   "metadata": {},
   "source": [
    "Now process each of the models for different values of *k*:"
   ]
  },
  {
   "cell_type": "code",
   "execution_count": 14,
   "metadata": {
    "ExecuteTime": {
     "end_time": "2021-03-17T02:16:08.366134Z",
     "start_time": "2021-03-17T02:16:08.011053Z"
    }
   },
   "outputs": [
    {
     "name": "stderr",
     "output_type": "stream",
     "text": [
      "/home/gean/anaconda3/lib/python3.7/site-packages/ipykernel_launcher.py:8: DeprecationWarning: Call to deprecated `similarity` (Method will be removed in 4.0.0, use self.wv.similarity() instead).\n",
      "  \n"
     ]
    },
    {
     "name": "stdout",
     "output_type": "stream",
     "text": [
      "K=05: Coherence=0.4563\n",
      "K=06: Coherence=0.4369\n",
      "K=07: Coherence=0.4502\n",
      "K=08: Coherence=0.4634\n",
      "K=09: Coherence=0.5007\n",
      "K=10: Coherence=0.4955\n",
      "K=11: Coherence=0.4806\n",
      "K=12: Coherence=0.4883\n",
      "K=13: Coherence=0.4843\n",
      "K=14: Coherence=0.4797\n",
      "K=15: Coherence=0.4776\n",
      "K=16: Coherence=0.4848\n",
      "K=17: Coherence=0.4957\n",
      "K=18: Coherence=0.4971\n",
      "K=19: Coherence=0.4928\n",
      "K=20: Coherence=0.4955\n"
     ]
    }
   ],
   "source": [
    "from itertools import combinations\n",
    "\n",
    "k_values = []\n",
    "coherences = []\n",
    "\n",
    "for (k, W, H) in topic_models:\n",
    "    # Get all of the topic descriptors - the term_rankings, based on top 10 terms\n",
    "    term_rankings = []\n",
    "    \n",
    "    for topic_index in range(k):\n",
    "        term_rankings.append(get_descriptor(terms, H, topic_index, 10))\n",
    "    \n",
    "    # Now calculate the coherence based on our Word2vec model\n",
    "    k_values.append(k)\n",
    "    coherences.append(calculate_coherence(w2v_model, term_rankings))\n",
    "    \n",
    "    print(\"K=%02d: Coherence=%.4f\" % (k, coherences[-1]))\n",
    "    # print(f'{coherences[-1]:.4f}')"
   ]
  },
  {
   "cell_type": "markdown",
   "metadata": {},
   "source": [
    "We can now use *matplotlib* to generate a line plot of these coherence scores, to help us select an appropriate value."
   ]
  },
  {
   "cell_type": "code",
   "execution_count": 15,
   "metadata": {
    "ExecuteTime": {
     "end_time": "2021-03-17T02:16:08.592863Z",
     "start_time": "2021-03-17T02:16:08.367836Z"
    }
   },
   "outputs": [],
   "source": [
    "%matplotlib inline\n",
    "import matplotlib\n",
    "import matplotlib.pyplot as plt\n",
    "\n",
    "plt.style.use(\"ggplot\")\n",
    "matplotlib.rcParams.update({\"font.size\": 14})"
   ]
  },
  {
   "cell_type": "code",
   "execution_count": 16,
   "metadata": {
    "ExecuteTime": {
     "end_time": "2021-03-17T02:16:08.819158Z",
     "start_time": "2021-03-17T02:16:08.594512Z"
    }
   },
   "outputs": [
    {
     "data": {
      "image/png": "[encoded data removed]",
      "text/plain": [
       "<Figure size 936x504 with 1 Axes>"
      ]
     },
     "metadata": {},
     "output_type": "display_data"
    }
   ],
   "source": [
    "fig = plt.figure(figsize=(13,7))\n",
    "\n",
    "# create the line plot\n",
    "ax = plt.plot( k_values, coherences )\n",
    "plt.xticks(k_values)\n",
    "plt.xlabel(\"Number of Topics\")\n",
    "plt.ylabel(\"Mean Coherence\")\n",
    "\n",
    "# add the points\n",
    "plt.scatter( k_values, coherences, s=120)\n",
    "\n",
    "# find and annotate the maximum point on the plot\n",
    "ymax = max(coherences)\n",
    "xpos = coherences.index(ymax)\n",
    "best_k = k_values[xpos]\n",
    "plt.annotate( \"k=%d\" % best_k, xy=(best_k, ymax), xytext=(best_k, ymax), textcoords=\"offset points\", fontsize=16)\n",
    "\n",
    "# show the plot\n",
    "plt.show()"
   ]
  },
  {
   "cell_type": "markdown",
   "metadata": {},
   "source": [
    "### Examine the Final  Model"
   ]
  },
  {
   "cell_type": "markdown",
   "metadata": {},
   "source": [
    "The plot above suggests that the most appropriate value for the number of topics is *k=8*."
   ]
  },
  {
   "cell_type": "code",
   "execution_count": 35,
   "metadata": {
    "ExecuteTime": {
     "end_time": "2021-03-17T02:24:05.711949Z",
     "start_time": "2021-03-17T02:24:05.707643Z"
    }
   },
   "outputs": [],
   "source": [
    "k = 20 # best_k\n",
    "\n",
    "# get the model that we generated earlier.\n",
    "W = topic_models[k-kmin][1]\n",
    "H = topic_models[k-kmin][2]"
   ]
  },
  {
   "cell_type": "markdown",
   "metadata": {},
   "source": [
    "Display the topic descriptors for this model:"
   ]
  },
  {
   "cell_type": "code",
   "execution_count": 36,
   "metadata": {
    "ExecuteTime": {
     "end_time": "2021-03-17T02:24:06.272470Z",
     "start_time": "2021-03-17T02:24:06.265031Z"
    }
   },
   "outputs": [
    {
     "name": "stdout",
     "output_type": "stream",
     "text": [
      "Topic 01: mulher, internacional, homenagem, via, especial\n",
      "Topic 02: mulheres, mundo, vida, incriveis, homens\n",
      "Topic 03: 8m, diainternacionaldamulher, diainternacionaldelamujer, sobre, ruas\n",
      "Topic 04: feliz, diainternacionaldelamujer, dias, incriveis, deseja\n",
      "Topic 05: 8m2020, diainternacionaldelamujer, mulherescontrabolsonaro, marcha8m, diadelamujer\n",
      "Topic 06: diadamulher, diainternacionaldamulher, 8demarco, mulher, homenagem\n",
      "Topic 07: diadasmulheres, diainternacionaldamulher, womensday, felizdiadasmulheres, mulher\n",
      "Topic 08: ser, homem, mulher, vai, sempre\n",
      "Topic 09: amo, tanto, demais, vida, amor\n",
      "Topic 10: parabens, especial, deus, mulherescombolsonaro, mulherada\n",
      "Topic 11: internationalwomensday, diainternacionaldelamujer, iwd2020, incriveis, mundo\n",
      "Topic 12: sororidade, ter, marcela, feminismo, sobre\n",
      "Topic 13: hoje, dias, respeito, sempre, ano\n",
      "Topic 14: video, melhor, perfeito, nunca, sempre\n",
      "Topic 15: guerreiras, mundo, vcs, lindas, fortes\n",
      "Topic 16: tudo, faz, deus, vida, acima\n",
      "Topic 17: quero, sim, flores, respeito, gente\n",
      "Topic 18: bom, sempre, domingo, linda, gente\n",
      "Topic 19: luta, direitos, igualdade, contra, respeito\n",
      "Topic 20: marco, homenagem, data, ano, respeito\n"
     ]
    }
   ],
   "source": [
    "for topic_index in range(k):\n",
    "    descriptor = get_descriptor( terms, H, topic_index, 5)\n",
    "    str_descriptor = \", \".join( descriptor )\n",
    "    print(\"Topic %02d: %s\" % ( topic_index+1, str_descriptor ) )"
   ]
  },
  {
   "cell_type": "code",
   "execution_count": 37,
   "metadata": {
    "ExecuteTime": {
     "end_time": "2021-03-17T02:24:06.608792Z",
     "start_time": "2021-03-17T02:24:06.598408Z"
    }
   },
   "outputs": [
    {
     "name": "stdout",
     "output_type": "stream",
     "text": [
      "Topic 01: mulher, internacional, homenagem, via, especial, diainternacionaldamulher, mae, mundo, amanha, lugar\n",
      "Topic 02: mulheres, mundo, vida, incriveis, homens, brasil, especial, outras, homenagem, fortes\n",
      "Topic 03: 8m, diainternacionaldamulher, diainternacionaldelamujer, sobre, ruas, feminismo, foto, diadelamujer, feminista, ato\n",
      "Topic 04: feliz, diainternacionaldelamujer, dias, incriveis, deseja, maravilhosas, desejar, vcs, mulherada, diadelamujer\n",
      "Topic 05: 8m2020, diainternacionaldelamujer, mulherescontrabolsonaro, marcha8m, diadelamujer, ruas, feminista, niunamenos, brasil, historicas\n",
      "Topic 06: diadamulher, diainternacionaldamulher, 8demarco, mulher, homenagem, forca, respeito, felizdiadamulher, womensday, brazil\n",
      "Topic 07: diadasmulheres, diainternacionaldamulher, womensday, felizdiadasmulheres, mulher, lugar, respeito, diainternacionaldasmulheres, thread, quiser\n",
      "Topic 08: ser, homem, mulher, vai, sempre, pode, vida, ter, quiser, deve\n",
      "Topic 09: amo, tanto, demais, vida, amor, mae, serie, deus, elameinspira, vcs\n",
      "Topic 10: parabens, especial, deus, mulherescombolsonaro, mulherada, picpaynob, guerreira, amor, brasil, abencoe\n",
      "Topic 11: internationalwomensday, diainternacionaldelamujer, iwd2020, incriveis, mundo, diainternacionaldamulher, fortes, via, cena, internationalwomenday2020\n",
      "Topic 12: sororidade, ter, marcela, feminismo, sobre, gente, empatia, cara, caralho, amiga\n",
      "Topic 13: hoje, dias, respeito, sempre, ano, outros, porque, especial, maior, apenas\n",
      "Topic 14: video, melhor, perfeito, nunca, sempre, ver, vou, vez, vejo, maravilhoso\n",
      "Topic 15: guerreiras, mundo, vcs, lindas, fortes, merecem, dias, maravilhosas, mulherescombolsonaro, batalhadoras\n",
      "Topic 16: tudo, faz, deus, vida, acima, bem, aqui, fazer, melhor, queria\n",
      "Topic 17: quero, sim, flores, respeito, gente, bombom, queremos, dar, chocolate, fale\n",
      "Topic 18: bom, sempre, domingo, linda, gente, aqui, lembrar, deus, especial, vamos\n",
      "Topic 19: luta, direitos, igualdade, contra, respeito, data, vamos, violencia, forca, sempre\n",
      "Topic 20: marco, homenagem, data, ano, respeito, 8demarco, comemorado, forca, internacional, mes\n"
     ]
    }
   ],
   "source": [
    "for topic_index in range(k):\n",
    "    descriptor = get_descriptor( terms, H, topic_index, 10)\n",
    "    str_descriptor = \", \".join( descriptor )\n",
    "    print(\"Topic %02d: %s\" % ( topic_index+1, str_descriptor ) )"
   ]
  },
  {
   "cell_type": "code",
   "execution_count": 38,
   "metadata": {
    "ExecuteTime": {
     "end_time": "2021-03-17T02:24:06.858221Z",
     "start_time": "2021-03-17T02:24:06.847933Z"
    }
   },
   "outputs": [
    {
     "name": "stdout",
     "output_type": "stream",
     "text": [
      "Topic 01: mulher, internacional, homenagem, via, especial, diainternacionaldamulher, mae, mundo, amanha, lugar, vida, comemoracao, comemorar, presente, sobre\n",
      "Topic 02: mulheres, mundo, vida, incriveis, homens, brasil, especial, outras, homenagem, fortes, contra, maravilhosas, fazem, trans, direitos\n",
      "Topic 03: 8m, diainternacionaldamulher, diainternacionaldelamujer, sobre, ruas, feminismo, foto, diadelamujer, feminista, ato, via, mulherescontrabolsonaro, marcha, bolsonaro, resistencia\n",
      "Topic 04: feliz, diainternacionaldelamujer, dias, incriveis, deseja, maravilhosas, desejar, vcs, mulherada, diadelamujer, desejamos, lindas, amor, sempre, linda\n",
      "Topic 05: 8m2020, diainternacionaldelamujer, mulherescontrabolsonaro, marcha8m, diadelamujer, ruas, feminista, niunamenos, brasil, historicas, marcha, nada, brasilia, paulo, obrigada\n",
      "Topic 06: diadamulher, diainternacionaldamulher, 8demarco, mulher, homenagem, forca, respeito, felizdiadamulher, womensday, brazil, amor, lugar, woman, mundo, rio\n",
      "Topic 07: diadasmulheres, diainternacionaldamulher, womensday, felizdiadasmulheres, mulher, lugar, respeito, diainternacionaldasmulheres, thread, quiser, mulherescontrabolsonaro, chegadeestigma, onde, b20, gente\n",
      "Topic 08: ser, homem, mulher, vai, sempre, pode, vida, ter, quiser, deve, amor, assim, orgulho, nunca, ainda\n",
      "Topic 09: amo, tanto, demais, vida, amor, mae, serie, deus, elameinspira, vcs, linda, obrigada, musica, cena, caralho\n",
      "Topic 10: parabens, especial, deus, mulherescombolsonaro, mulherada, picpaynob, guerreira, amor, brasil, abencoe, dar, linda, vcs, principalmente, meninas\n",
      "Topic 11: internationalwomensday, diainternacionaldelamujer, iwd2020, incriveis, mundo, diainternacionaldamulher, fortes, via, cena, internationalwomenday2020, personagens, maravilhosas, forca, instagram, incrivel\n",
      "Topic 12: sororidade, ter, marcela, feminismo, sobre, gente, empatia, cara, caralho, amiga, cade, b20, nao, porrada, feminista\n",
      "Topic 13: hoje, dias, respeito, sempre, ano, outros, porque, especial, maior, apenas, receber, ontem, presente, lembrar, data\n",
      "Topic 14: video, melhor, perfeito, nunca, sempre, ver, vou, vez, vejo, maravilhoso, lindo, incrivel, tanto, mundo, sobre\n",
      "Topic 15: guerreiras, mundo, vcs, lindas, fortes, merecem, dias, maravilhosas, mulherescombolsonaro, batalhadoras, incriveis, brasil, forca, melhor, cada\n",
      "Topic 16: tudo, faz, deus, vida, acima, bem, aqui, fazer, melhor, queria, mundo, ainda, amor, mae, cena\n",
      "Topic 17: quero, sim, flores, respeito, gente, bombom, queremos, dar, chocolate, fale, flor, pode, bombons, presente, amor\n",
      "Topic 18: bom, sempre, domingo, linda, gente, aqui, lembrar, deus, especial, vamos, otimo, demais, coisa, mulherescombolsonaro, desejo\n",
      "Topic 19: luta, direitos, igualdade, contra, respeito, data, vamos, violencia, forca, sempre, resistencia, ainda, continua, diaria, ruas\n",
      "Topic 20: marco, homenagem, data, ano, respeito, 8demarco, comemorado, forca, internacional, mes, oito, domingo, delicadeza, especial, greve\n"
     ]
    }
   ],
   "source": [
    "for topic_index in range(k):\n",
    "    descriptor = get_descriptor( terms, H, topic_index, 15)\n",
    "    str_descriptor = \", \".join( descriptor )\n",
    "    print(\"Topic %02d: %s\" % ( topic_index+1, str_descriptor ) )"
   ]
  },
  {
   "cell_type": "code",
   "execution_count": 39,
   "metadata": {
    "ExecuteTime": {
     "end_time": "2021-03-17T02:24:07.234857Z",
     "start_time": "2021-03-17T02:24:07.224634Z"
    }
   },
   "outputs": [
    {
     "name": "stdout",
     "output_type": "stream",
     "text": [
      "Topic 01: mulher, internacional, homenagem, via, especial, diainternacionaldamulher, mae, mundo, amanha, lugar, vida, comemoracao, comemorar, presente, sobre, quiser, melhor, brasil, homem, onde\n",
      "Topic 02: mulheres, mundo, vida, incriveis, homens, brasil, especial, outras, homenagem, fortes, contra, maravilhosas, fazem, trans, direitos, aqui, merecem, inspiram, negras, historia\n",
      "Topic 03: 8m, diainternacionaldamulher, diainternacionaldelamujer, sobre, ruas, feminismo, foto, diadelamujer, feminista, ato, via, mulherescontrabolsonaro, marcha, bolsonaro, resistencia, paulo, paulista, mulherescontrabozodia8, chile, cada\n",
      "Topic 04: feliz, diainternacionaldelamujer, dias, incriveis, deseja, maravilhosas, desejar, vcs, mulherada, diadelamujer, desejamos, lindas, amor, sempre, linda, domingo, felizdiadamulher, merecem, seguidoras, womensday\n",
      "Topic 05: 8m2020, diainternacionaldelamujer, mulherescontrabolsonaro, marcha8m, diadelamujer, ruas, feminista, niunamenos, brasil, historicas, marcha, nada, brasilia, paulo, obrigada, 8marzo2020, foto, presente, paulista, feminismo\n",
      "Topic 06: diadamulher, diainternacionaldamulher, 8demarco, mulher, homenagem, forca, respeito, felizdiadamulher, womensday, brazil, amor, lugar, woman, mundo, rio, especial, womansday, quiser, onde, girlpower\n",
      "Topic 07: diadasmulheres, diainternacionaldamulher, womensday, felizdiadasmulheres, mulher, lugar, respeito, diainternacionaldasmulheres, thread, quiser, mulherescontrabolsonaro, chegadeestigma, onde, b20, gente, internationalwomenday2020, b2o, sempre, vamos, womansday\n",
      "Topic 08: ser, homem, mulher, vai, sempre, pode, vida, ter, quiser, deve, amor, assim, orgulho, nunca, ainda, fazer, mundo, deveria, sabe, gente\n",
      "Topic 09: amo, tanto, demais, vida, amor, mae, serie, deus, elameinspira, vcs, linda, obrigada, musica, cena, caralho, cara, cher, perfeita, homem, admiro\n",
      "Topic 10: parabens, especial, deus, mulherescombolsonaro, mulherada, picpaynob, guerreira, amor, brasil, abencoe, dar, linda, vcs, principalmente, meninas, cada, esposa, noite, boa, sempre\n",
      "Topic 11: internationalwomensday, diainternacionaldelamujer, iwd2020, incriveis, mundo, diainternacionaldamulher, fortes, via, cena, internationalwomenday2020, personagens, maravilhosas, forca, instagram, incrivel, felizdiadasmulheres, dias, femininas, happy, meninas\n",
      "Topic 12: sororidade, ter, marcela, feminismo, sobre, gente, empatia, cara, caralho, amiga, cade, b20, nao, porrada, feminista, vai, falar, aqui, outras, obrigada\n",
      "Topic 13: hoje, dias, respeito, sempre, ano, outros, porque, especial, maior, apenas, receber, ontem, presente, lembrar, data, amanha, vai, celebrar, fazer, dar\n",
      "Topic 14: video, melhor, perfeito, nunca, sempre, ver, vou, vez, vejo, maravilhoso, lindo, incrivel, tanto, mundo, sobre, deus, morrer, vezes, simplesmente, completo\n",
      "Topic 15: guerreiras, mundo, vcs, lindas, fortes, merecem, dias, maravilhosas, mulherescombolsonaro, batalhadoras, incriveis, brasil, forca, melhor, cada, lutam, maes, nunca, verdadeiras, perfeitas\n",
      "Topic 16: tudo, faz, deus, vida, acima, bem, aqui, fazer, melhor, queria, mundo, ainda, amor, mae, cena, sempre, obrigado, podemos, cara, vcs\n",
      "Topic 17: quero, sim, flores, respeito, gente, bombom, queremos, dar, chocolate, fale, flor, pode, bombons, presente, amor, promocao, igualdade, aceito, quer, desejar\n",
      "Topic 18: bom, sempre, domingo, linda, gente, aqui, lembrar, deus, especial, vamos, otimo, demais, coisa, mulherescombolsonaro, desejo, assim, bem, talentosa, ver, tarde\n",
      "Topic 19: luta, direitos, igualdade, contra, respeito, data, vamos, violencia, forca, sempre, resistencia, ainda, continua, diaria, ruas, sociedade, lembrar, genero, sobre, machismo\n",
      "Topic 20: marco, homenagem, data, ano, respeito, 8demarco, comemorado, forca, internacional, mes, oito, domingo, delicadeza, especial, greve, sabedoria, maior, fabrica, diainternacionaldamulher, transforma\n"
     ]
    }
   ],
   "source": [
    "for topic_index in range(k):\n",
    "    descriptor = get_descriptor( terms, H, topic_index, 20)\n",
    "    str_descriptor = \", \".join( descriptor )\n",
    "    print(\"Topic %02d: %s\" % ( topic_index+1, str_descriptor ) )"
   ]
  },
  {
   "cell_type": "code",
   "execution_count": null,
   "metadata": {},
   "outputs": [],
   "source": []
  },
  {
   "cell_type": "code",
   "execution_count": null,
   "metadata": {},
   "outputs": [],
   "source": []
  }
 ],
 "metadata": {
  "@webio": {
   "lastCommId": null,
   "lastKernelId": null
  },
  "kernelspec": {
   "display_name": "Python 3",
   "language": "python",
   "name": "python3"
  },
  "language_info": {
   "codemirror_mode": {
    "name": "ipython",
    "version": 3
   },
   "file_extension": ".py",
   "mimetype": "text/x-python",
   "name": "python",
   "nbconvert_exporter": "python",
   "pygments_lexer": "ipython3",
   "version": "3.7.7"
  },
  "toc": {
   "base_numbering": 1,
   "nav_menu": {},
   "number_sections": true,
   "sideBar": true,
   "skip_h1_title": false,
   "title_cell": "Table of Contents",
   "title_sidebar": "Contents",
   "toc_cell": false,
   "toc_position": {},
   "toc_section_display": true,
   "toc_window_display": false
  }
 },
 "nbformat": 4,
 "nbformat_minor": 4
}
