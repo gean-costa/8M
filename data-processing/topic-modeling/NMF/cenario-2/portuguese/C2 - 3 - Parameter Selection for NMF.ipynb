{
 "cells": [
  {
   "cell_type": "markdown",
   "metadata": {},
   "source": [
    "# Parameter Selection for NMF"
   ]
  },
  {
   "cell_type": "markdown",
   "metadata": {},
   "source": [
    "Now we look at the more advanced task of parameter selection for NMF topic modelling - namely, selecting a useful value for the number of topics *k*."
   ]
  },
  {
   "cell_type": "markdown",
   "metadata": {},
   "source": [
    "First, let's load the TF-IDF normalised document-term matrix and list of terms that we stored earlier using *Joblib*:"
   ]
  },
  {
   "cell_type": "code",
   "execution_count": 1,
   "metadata": {
    "ExecuteTime": {
     "end_time": "2021-05-19T02:28:18.797965Z",
     "start_time": "2021-05-19T02:28:18.573925Z"
    }
   },
   "outputs": [
    {
     "name": "stdout",
     "output_type": "stream",
     "text": [
      "Loaded 32194 X 2229 document-term matrix\n"
     ]
    }
   ],
   "source": [
    "import joblib\n",
    "\n",
    "(A, terms, snippets) = joblib.load(\"21cenario2_tweets-tfidf.pkl\")\n",
    "\n",
    "print(\"Loaded %d X %d document-term matrix\" % (A.shape[0], A.shape[1]))"
   ]
  },
  {
   "cell_type": "markdown",
   "metadata": {},
   "source": [
    "### Create the Topic Models"
   ]
  },
  {
   "cell_type": "markdown",
   "metadata": {},
   "source": [
    "A common approach for parameter selection is to Measure and compare the topic coherence of models generated for different values of *k*."
   ]
  },
  {
   "cell_type": "markdown",
   "metadata": {},
   "source": [
    "We need to start by pre-specifying an initial range of \"sensible\" values:"
   ]
  },
  {
   "cell_type": "code",
   "execution_count": 2,
   "metadata": {
    "ExecuteTime": {
     "end_time": "2021-05-19T02:28:18.801837Z",
     "start_time": "2021-05-19T02:28:18.799667Z"
    }
   },
   "outputs": [],
   "source": [
    "kmin, kmax = 5, 20"
   ]
  },
  {
   "cell_type": "markdown",
   "metadata": {},
   "source": [
    "Apply NMF for each of these values:"
   ]
  },
  {
   "cell_type": "code",
   "execution_count": 3,
   "metadata": {
    "ExecuteTime": {
     "end_time": "2021-05-19T02:28:25.538688Z",
     "start_time": "2021-05-19T02:28:18.803053Z"
    }
   },
   "outputs": [
    {
     "name": "stdout",
     "output_type": "stream",
     "text": [
      "Applying NMF for k=5 ...\n",
      "Applying NMF for k=10 ...\n",
      "Applying NMF for k=15 ...\n",
      "Applying NMF for k=20 ...\n"
     ]
    }
   ],
   "source": [
    "from sklearn import decomposition\n",
    "\n",
    "topic_models = []\n",
    "\n",
    "# try each value of k\n",
    "for k in range(kmin, kmax + 1, 5):\n",
    "    print(\"Applying NMF for k=%d ...\" % k)\n",
    "    # run NMF\n",
    "    model = decomposition.NMF(init=\"nndsvd\", n_components=k)\n",
    "    W = model.fit_transform(A)\n",
    "    H = model.components_\n",
    "    # store for later\n",
    "    topic_models.append((k, W, H))"
   ]
  },
  {
   "cell_type": "markdown",
   "metadata": {},
   "source": [
    "### Build a Word Embedding"
   ]
  },
  {
   "cell_type": "markdown",
   "metadata": {},
   "source": [
    "To select the number of topics, here we will use a *topic coherence* measure called TC-W2V. This measure relies on the use of a *word embedding* model constructed from our corpus. So in this step we will use the *Gensim* implementation of Word2Vec to build a Word2Vec model based on our collection of news articles."
   ]
  },
  {
   "cell_type": "markdown",
   "metadata": {},
   "source": [
    "**Note:** If you want to skip this step, a pre-built Word2Vec model for the sample dataset [is also provided here for download](http://erdos.ucd.ie/files/pydata/w2v-model.bin) (71MB)."
   ]
  },
  {
   "cell_type": "markdown",
   "metadata": {},
   "source": [
    "We read the documents from the input file again:"
   ]
  },
  {
   "cell_type": "code",
   "execution_count": 4,
   "metadata": {
    "ExecuteTime": {
     "end_time": "2021-05-19T02:28:25.573873Z",
     "start_time": "2021-05-19T02:28:25.540254Z"
    }
   },
   "outputs": [
    {
     "name": "stdout",
     "output_type": "stream",
     "text": [
      "Read 32194 raw text documents\n"
     ]
    }
   ],
   "source": [
    "import os.path\n",
    "\n",
    "raw_documents = []\n",
    "\n",
    "with open(os.path.join(\"cenario2_8M2021_tweets_pt.txt\"), \"r\") as fin:\n",
    "    for line in fin.readlines():\n",
    "        raw_documents.append(line.strip().lower())\n",
    "\n",
    "print(\"Read %d raw text documents\" % len(raw_documents))"
   ]
  },
  {
   "cell_type": "markdown",
   "metadata": {},
   "source": [
    "Read the custom stopword list:"
   ]
  },
  {
   "cell_type": "code",
   "execution_count": 5,
   "metadata": {
    "ExecuteTime": {
     "end_time": "2021-05-19T02:28:25.580764Z",
     "start_time": "2021-05-19T02:28:25.575685Z"
    }
   },
   "outputs": [
    {
     "name": "stdout",
     "output_type": "stream",
     "text": [
      "Stopword list has 234 entries\n"
     ]
    }
   ],
   "source": [
    "custom_stop_words = []\n",
    "\n",
    "with open(\"portuguese.txt\", \"r\") as fin:\n",
    "    for line in fin.readlines():\n",
    "        custom_stop_words.append(line.strip().lower())\n",
    "\n",
    "# note that we need to make it hashable\n",
    "print(\"Stopword list has %d entries\" % len(custom_stop_words))"
   ]
  },
  {
   "cell_type": "markdown",
   "metadata": {},
   "source": [
    "First, we need to define a class that will generate documents in a form that can be consumed by Gensim's Word2Vec implementation:"
   ]
  },
  {
   "cell_type": "code",
   "execution_count": 6,
   "metadata": {
    "ExecuteTime": {
     "end_time": "2021-05-19T02:28:25.589795Z",
     "start_time": "2021-05-19T02:28:25.582134Z"
    }
   },
   "outputs": [],
   "source": [
    "import re\n",
    "\n",
    "\n",
    "class TokenGenerator:\n",
    "    def __init__(self, documents, stopwords):\n",
    "        self.documents = documents\n",
    "        self.stopwords = stopwords\n",
    "        self.tokenizer = re.compile(r\"(?u)\\b\\w\\w+\\b\")\n",
    "\n",
    "    def __iter__(self):\n",
    "        print(\"Building Word2Vec model ...\")\n",
    "        for doc in self.documents:\n",
    "            tokens = []\n",
    "            for tok in self.tokenizer.findall(doc):\n",
    "                if tok in self.stopwords:\n",
    "                    tokens.append(\"<stopword>\")\n",
    "                elif len(tok) >= 2:\n",
    "                    tokens.append(tok)\n",
    "            yield tokens"
   ]
  },
  {
   "cell_type": "markdown",
   "metadata": {},
   "source": [
    "Now build a Skipgram Word2Vec model from all documents in the input file using *Gensim*:"
   ]
  },
  {
   "cell_type": "code",
   "execution_count": 7,
   "metadata": {
    "ExecuteTime": {
     "end_time": "2021-05-19T02:28:25.814531Z",
     "start_time": "2021-05-19T02:28:25.591979Z"
    }
   },
   "outputs": [],
   "source": [
    "import gensim"
   ]
  },
  {
   "cell_type": "code",
   "execution_count": 8,
   "metadata": {
    "ExecuteTime": {
     "end_time": "2021-05-19T02:28:35.921313Z",
     "start_time": "2021-05-19T02:28:25.816399Z"
    }
   },
   "outputs": [
    {
     "name": "stdout",
     "output_type": "stream",
     "text": [
      "Building Word2Vec model ...\n",
      "Building Word2Vec model ...\n",
      "Building Word2Vec model ...\n",
      "Building Word2Vec model ...\n",
      "Building Word2Vec model ...\n",
      "Building Word2Vec model ...\n"
     ]
    }
   ],
   "source": [
    "docgen = TokenGenerator(raw_documents, custom_stop_words)\n",
    "\n",
    "# the model has 500 dimensions, the minimum document-term frequency is 20\n",
    "w2v_model = gensim.models.Word2Vec(docgen, size=500, min_count=20, sg=1)"
   ]
  },
  {
   "cell_type": "code",
   "execution_count": 9,
   "metadata": {
    "ExecuteTime": {
     "end_time": "2021-05-19T02:28:35.925293Z",
     "start_time": "2021-05-19T02:28:35.922620Z"
    }
   },
   "outputs": [
    {
     "name": "stdout",
     "output_type": "stream",
     "text": [
      "Model has 2272 terms\n"
     ]
    }
   ],
   "source": [
    "print( \"Model has %d terms\" % len(w2v_model.wv.vocab) )"
   ]
  },
  {
   "cell_type": "markdown",
   "metadata": {},
   "source": [
    "Save for later use, so that we do not need to rebuild it:"
   ]
  },
  {
   "cell_type": "code",
   "execution_count": 10,
   "metadata": {
    "ExecuteTime": {
     "end_time": "2021-05-19T02:28:36.034199Z",
     "start_time": "2021-05-19T02:28:35.926436Z"
    }
   },
   "outputs": [],
   "source": [
    "w2v_model.save(\"21cenario2_w2v-model.bin\")"
   ]
  },
  {
   "cell_type": "code",
   "execution_count": 11,
   "metadata": {
    "ExecuteTime": {
     "end_time": "2021-05-19T02:28:36.037355Z",
     "start_time": "2021-05-19T02:28:36.035492Z"
    }
   },
   "outputs": [],
   "source": [
    "# To re-load this model, run\n",
    "# w2v_model = gensim.models.Word2Vec.load(\"cenario1_w2v-model.bin\")"
   ]
  },
  {
   "cell_type": "markdown",
   "metadata": {},
   "source": [
    "### Selecting the Number of Topics"
   ]
  },
  {
   "cell_type": "markdown",
   "metadata": {},
   "source": [
    "Once we have our Word2vec model, we can use it as part of our *topic coherence* approach to evaluate the different NMF topic models that we created previously. To do this, we will implement a simple version of the TC-W2V coherence measure."
   ]
  },
  {
   "cell_type": "markdown",
   "metadata": {},
   "source": [
    "We use the Word2vec model to calculate coherence scores for each of these models. We will define this coherence score as follows:"
   ]
  },
  {
   "cell_type": "code",
   "execution_count": 12,
   "metadata": {
    "ExecuteTime": {
     "end_time": "2021-05-19T02:28:36.047174Z",
     "start_time": "2021-05-19T02:28:36.038699Z"
    }
   },
   "outputs": [],
   "source": [
    "def calculate_coherence(w2v_model, term_rankings):\n",
    "    overall_coherence = 0.0\n",
    "    \n",
    "    for topic_index in range(len(term_rankings)):\n",
    "        # check each pair of terms\n",
    "        pair_scores = []\n",
    "        for pair in combinations(term_rankings[topic_index], 2):\n",
    "            pair_scores.append(w2v_model.similarity(pair[0], pair[1]))\n",
    "        # get the mean for all pairs in this topic\n",
    "        topic_score = sum(pair_scores) / len(pair_scores)\n",
    "        overall_coherence += topic_score\n",
    "    \n",
    "    # get the mean score across all topics\n",
    "    return overall_coherence / len(term_rankings)"
   ]
  },
  {
   "cell_type": "markdown",
   "metadata": {},
   "source": [
    "We also define a function to get the topic descriptor (i.e. list of top terms) for each topic:"
   ]
  },
  {
   "cell_type": "code",
   "execution_count": 13,
   "metadata": {
    "ExecuteTime": {
     "end_time": "2021-05-19T02:28:36.063685Z",
     "start_time": "2021-05-19T02:28:36.048298Z"
    }
   },
   "outputs": [],
   "source": [
    "import numpy as np\n",
    "\n",
    "\n",
    "def get_descriptor(all_terms, H, topic_index, top):\n",
    "    # reverse sort the values to sort the indices\n",
    "    top_indices = np.argsort(H[topic_index, :])[::-1]\n",
    "    \n",
    "    # now get the terms corresponding to the top-ranked indices\n",
    "    top_terms = []\n",
    "    \n",
    "    for term_index in top_indices[0:top]:\n",
    "        top_terms.append(all_terms[term_index])\n",
    "    \n",
    "    return top_terms"
   ]
  },
  {
   "cell_type": "markdown",
   "metadata": {},
   "source": [
    "Now process each of the models for different values of *k*:"
   ]
  },
  {
   "cell_type": "code",
   "execution_count": 14,
   "metadata": {
    "ExecuteTime": {
     "end_time": "2021-05-19T02:28:36.159066Z",
     "start_time": "2021-05-19T02:28:36.064957Z"
    }
   },
   "outputs": [
    {
     "name": "stdout",
     "output_type": "stream",
     "text": [
      "K=05: Coherence=0.5571\n",
      "K=10: Coherence=0.5556\n",
      "K=15: Coherence=0.5677\n",
      "K=20: Coherence=0.6064\n"
     ]
    },
    {
     "name": "stderr",
     "output_type": "stream",
     "text": [
      "/home/gean/anaconda3/lib/python3.7/site-packages/ipykernel_launcher.py:8: DeprecationWarning: Call to deprecated `similarity` (Method will be removed in 4.0.0, use self.wv.similarity() instead).\n",
      "  \n"
     ]
    }
   ],
   "source": [
    "from itertools import combinations\n",
    "\n",
    "k_values = []\n",
    "coherences = []\n",
    "\n",
    "for (k, W, H) in topic_models:\n",
    "    # Get all of the topic descriptors - the term_rankings, based on top 10 terms\n",
    "    term_rankings = []\n",
    "    \n",
    "    for topic_index in range(k):\n",
    "        term_rankings.append(get_descriptor(terms, H, topic_index, 10))\n",
    "    \n",
    "    # Now calculate the coherence based on our Word2vec model\n",
    "    k_values.append(k)\n",
    "    coherences.append(calculate_coherence(w2v_model, term_rankings))\n",
    "    \n",
    "    print(\"K=%02d: Coherence=%.4f\" % (k, coherences[-1]))\n",
    "    # print(f'{coherences[-1]:.4f}')"
   ]
  },
  {
   "cell_type": "markdown",
   "metadata": {},
   "source": [
    "We can now use *matplotlib* to generate a line plot of these coherence scores, to help us select an appropriate value."
   ]
  },
  {
   "cell_type": "code",
   "execution_count": 15,
   "metadata": {
    "ExecuteTime": {
     "end_time": "2021-05-19T02:28:36.323055Z",
     "start_time": "2021-05-19T02:28:36.160553Z"
    }
   },
   "outputs": [],
   "source": [
    "%matplotlib inline\n",
    "import matplotlib\n",
    "import matplotlib.pyplot as plt\n",
    "\n",
    "plt.style.use(\"ggplot\")\n",
    "matplotlib.rcParams.update({\"font.size\": 14})"
   ]
  },
  {
   "cell_type": "code",
   "execution_count": 16,
   "metadata": {
    "ExecuteTime": {
     "end_time": "2021-05-19T02:28:36.484686Z",
     "start_time": "2021-05-19T02:28:36.324302Z"
    }
   },
   "outputs": [
    {
     "data": {
      "image/png": "[encoded data removed]",
      "text/plain": [
       "<Figure size 936x504 with 1 Axes>"
      ]
     },
     "metadata": {},
     "output_type": "display_data"
    }
   ],
   "source": [
    "fig = plt.figure(figsize=(13,7))\n",
    "\n",
    "# create the line plot\n",
    "ax = plt.plot( k_values, coherences )\n",
    "plt.xticks(k_values)\n",
    "plt.xlabel(\"Number of Topics\")\n",
    "plt.ylabel(\"Mean Coherence\")\n",
    "\n",
    "# add the points\n",
    "plt.scatter( k_values, coherences, s=120)\n",
    "\n",
    "\n",
    "# find and annotate the maximum point on the plot\n",
    "ymax = max(coherences)\n",
    "xpos = coherences.index(ymax)\n",
    "best_k = k_values[xpos]\n",
    "plt.annotate( \"k=%d\" % best_k, xy=(best_k, ymax), xytext=(best_k, ymax), textcoords=\"offset points\", fontsize=16)\n",
    "\n",
    "# show the plot\n",
    "plt.show()"
   ]
  },
  {
   "cell_type": "markdown",
   "metadata": {},
   "source": [
    "### Examine the Final  Model"
   ]
  },
  {
   "cell_type": "markdown",
   "metadata": {},
   "source": [
    "The plot above suggests that the most appropriate value for the number of topics is *k=8*."
   ]
  },
  {
   "cell_type": "code",
   "execution_count": 17,
   "metadata": {
    "ExecuteTime": {
     "end_time": "2021-05-19T02:28:36.488835Z",
     "start_time": "2021-05-19T02:28:36.486040Z"
    }
   },
   "outputs": [],
   "source": [
    "k = 5 # best_k\n",
    "\n",
    "# get the model that we generated earlier.\n",
    "W = topic_models[0][1]\n",
    "H = topic_models[0][2]"
   ]
  },
  {
   "cell_type": "markdown",
   "metadata": {},
   "source": [
    "Display the topic descriptors for this model:"
   ]
  },
  {
   "cell_type": "code",
   "execution_count": 18,
   "metadata": {
    "ExecuteTime": {
     "end_time": "2021-05-19T02:28:36.499795Z",
     "start_time": "2021-05-19T02:28:36.490331Z"
    },
    "scrolled": true
   },
   "outputs": [
    {
     "name": "stdout",
     "output_type": "stream",
     "text": [
      "Topic 01: mulher, internacional, hoje, ser, homenagem\n",
      "Topic 02: mulheres, parabens, mundo, luta, hoje\n",
      "Topic 03: marco, luta, lula, hoje, ano\n",
      "Topic 04: feliz, guerreiras, incriveis, dias, vcs\n",
      "Topic 05: amo, tanto, amor, demais, tudo\n"
     ]
    }
   ],
   "source": [
    "for topic_index in range(k):\n",
    "    descriptor = get_descriptor( terms, H, topic_index, 5)\n",
    "    str_descriptor = \", \".join( descriptor )\n",
    "    print(\"Topic %02d: %s\" % ( topic_index+1, str_descriptor ) )"
   ]
  },
  {
   "cell_type": "code",
   "execution_count": 19,
   "metadata": {
    "ExecuteTime": {
     "end_time": "2021-05-19T02:28:36.508684Z",
     "start_time": "2021-05-19T02:28:36.501127Z"
    }
   },
   "outputs": [
    {
     "name": "stdout",
     "output_type": "stream",
     "text": [
      "Topic 01: mulher, internacional, hoje, ser, homenagem, especial, parabens, continuacao, via, sobre\n",
      "Topic 02: mulheres, parabens, mundo, luta, hoje, dias, vida, respeito, especial, incriveis\n",
      "Topic 03: marco, luta, lula, hoje, ano, data, dias, respeito, ser, sobre\n",
      "Topic 04: feliz, guerreiras, incriveis, dias, vcs, deseja, woman, mulheres, god, maravilhosas\n",
      "Topic 05: amo, tanto, amor, demais, tudo, vida, deus, vcs, liam, video\n"
     ]
    }
   ],
   "source": [
    "for topic_index in range(k):\n",
    "    descriptor = get_descriptor( terms, H, topic_index, 10)\n",
    "    str_descriptor = \", \".join( descriptor )\n",
    "    print(\"Topic %02d: %s\" % ( topic_index+1, str_descriptor ) )"
   ]
  },
  {
   "cell_type": "code",
   "execution_count": 20,
   "metadata": {
    "ExecuteTime": {
     "end_time": "2021-05-19T02:28:36.522793Z",
     "start_time": "2021-05-19T02:28:36.510143Z"
    }
   },
   "outputs": [
    {
     "name": "stdout",
     "output_type": "stream",
     "text": [
      "Topic 01: mulher, internacional, hoje, ser, homenagem, especial, parabens, continuacao, via, sobre, presente, mae, melhor, homem, brasil\n",
      "Topic 02: mulheres, parabens, mundo, luta, hoje, dias, vida, respeito, especial, incriveis, forca, direitos, guerreiras, ser, igualdade\n",
      "Topic 03: marco, luta, lula, hoje, ano, data, dias, respeito, ser, sobre, ainda, brasil, flores, gente, feira\n",
      "Topic 04: feliz, guerreiras, incriveis, dias, vcs, deseja, woman, mulheres, god, maravilhosas, mulher, bom, sempre, instagram, desejar\n",
      "Topic 05: amo, tanto, amor, demais, tudo, vida, deus, vcs, liam, video, aqui, gente, ser, obrigada, mae\n"
     ]
    }
   ],
   "source": [
    "for topic_index in range(k):\n",
    "    descriptor = get_descriptor( terms, H, topic_index, 15)\n",
    "    str_descriptor = \", \".join( descriptor )\n",
    "    print(\"Topic %02d: %s\" % ( topic_index+1, str_descriptor ) )"
   ]
  },
  {
   "cell_type": "code",
   "execution_count": 21,
   "metadata": {
    "ExecuteTime": {
     "end_time": "2021-05-19T02:28:36.527872Z",
     "start_time": "2021-05-19T02:28:36.523988Z"
    }
   },
   "outputs": [
    {
     "name": "stdout",
     "output_type": "stream",
     "text": [
      "Topic 01: mulher, internacional, hoje, ser, homenagem, especial, parabens, continuacao, via, sobre, presente, mae, melhor, homem, brasil, onde, lugar, lula, quiser, vai\n",
      "Topic 02: mulheres, parabens, mundo, luta, hoje, dias, vida, respeito, especial, incriveis, forca, direitos, guerreiras, ser, igualdade, sempre, fortes, aqui, homenagem, brasil\n",
      "Topic 03: marco, luta, lula, hoje, ano, data, dias, respeito, ser, sobre, ainda, brasil, flores, gente, feira, vai, anos, apenas, segunda, abril\n",
      "Topic 04: feliz, guerreiras, incriveis, dias, vcs, deseja, woman, mulheres, god, maravilhosas, mulher, bom, sempre, instagram, desejar, mulherada, lindas, fortes, amor, seguidoras\n",
      "Topic 05: amo, tanto, amor, demais, tudo, vida, deus, vcs, liam, video, aqui, gente, ser, obrigada, mae, linda, camila, sempre, cara, lindo\n"
     ]
    }
   ],
   "source": [
    "for topic_index in range(k):\n",
    "    descriptor = get_descriptor( terms, H, topic_index, 20)\n",
    "    str_descriptor = \", \".join( descriptor )\n",
    "    print(\"Topic %02d: %s\" % ( topic_index+1, str_descriptor ) )"
   ]
  },
  {
   "cell_type": "markdown",
   "metadata": {},
   "source": [
    "# 10"
   ]
  },
  {
   "cell_type": "code",
   "execution_count": 22,
   "metadata": {
    "ExecuteTime": {
     "end_time": "2021-05-19T02:28:36.536114Z",
     "start_time": "2021-05-19T02:28:36.529010Z"
    }
   },
   "outputs": [],
   "source": [
    "k = 10 # best_k\n",
    "\n",
    "# get the model that we generated earlier.\n",
    "W = topic_models[1][1]\n",
    "H = topic_models[1][2]"
   ]
  },
  {
   "cell_type": "code",
   "execution_count": 23,
   "metadata": {
    "ExecuteTime": {
     "end_time": "2021-05-19T02:28:36.547314Z",
     "start_time": "2021-05-19T02:28:36.537255Z"
    }
   },
   "outputs": [
    {
     "name": "stdout",
     "output_type": "stream",
     "text": [
      "Topic 01: mulher, internacional, homenagem, continuacao, especial\n",
      "Topic 02: mulheres, mundo, incriveis, especial, homenagem\n",
      "Topic 03: marco, lula, ano, data, brasil\n",
      "Topic 04: feliz, guerreiras, dias, vcs, incriveis\n",
      "Topic 05: amo, tanto, amor, demais, vida\n",
      "Topic 06: ser, aqui, vai, gente, mundo\n",
      "Topic 07: parabens, guerreiras, dias, vcs, mundo\n",
      "Topic 08: hoje, dias, sempre, respeito, especial\n",
      "Topic 09: woman, god, ariana, grande, deus\n",
      "Topic 10: luta, igualdade, respeito, direitos, vida\n"
     ]
    }
   ],
   "source": [
    "for topic_index in range(k):\n",
    "    descriptor = get_descriptor( terms, H, topic_index, 5)\n",
    "    str_descriptor = \", \".join( descriptor )\n",
    "    print(\"Topic %02d: %s\" % ( topic_index+1, str_descriptor ) )"
   ]
  },
  {
   "cell_type": "code",
   "execution_count": 24,
   "metadata": {
    "ExecuteTime": {
     "end_time": "2021-05-19T02:28:36.556295Z",
     "start_time": "2021-05-19T02:28:36.548485Z"
    }
   },
   "outputs": [
    {
     "name": "stdout",
     "output_type": "stream",
     "text": [
      "Topic 01: mulher, internacional, homenagem, continuacao, especial, via, presente, mae, sobre, brasil\n",
      "Topic 02: mulheres, mundo, incriveis, especial, homenagem, fortes, vida, brasil, homens, dias\n",
      "Topic 03: marco, lula, ano, data, brasil, feira, segunda, dias, pleno, abril\n",
      "Topic 04: feliz, guerreiras, dias, vcs, incriveis, deseja, sempre, respeito, maravilhosas, bom\n",
      "Topic 05: amo, tanto, amor, demais, vida, vcs, liam, deus, tudo, video\n",
      "Topic 06: ser, aqui, vai, gente, mundo, tudo, mulher, pode, ter, ainda\n",
      "Topic 07: parabens, guerreiras, dias, vcs, mundo, linda, amor, respeito, forca, especial\n",
      "Topic 08: hoje, dias, sempre, respeito, especial, ano, tudo, forca, politico, aqui\n",
      "Topic 09: woman, god, ariana, grande, deus, musica, aqui, bom, carla, juliette\n",
      "Topic 10: luta, igualdade, respeito, direitos, vida, contra, sobre, sempre, queremos, violencia\n"
     ]
    }
   ],
   "source": [
    "for topic_index in range(k):\n",
    "    descriptor = get_descriptor( terms, H, topic_index, 10)\n",
    "    str_descriptor = \", \".join( descriptor )\n",
    "    print(\"Topic %02d: %s\" % ( topic_index+1, str_descriptor ) )"
   ]
  },
  {
   "cell_type": "code",
   "execution_count": 25,
   "metadata": {
    "ExecuteTime": {
     "end_time": "2021-05-19T02:28:36.565213Z",
     "start_time": "2021-05-19T02:28:36.558916Z"
    }
   },
   "outputs": [
    {
     "name": "stdout",
     "output_type": "stream",
     "text": [
      "Topic 01: mulher, internacional, homenagem, continuacao, especial, via, presente, mae, sobre, brasil, lula, onde, instagram, comemoracao, lugar\n",
      "Topic 02: mulheres, mundo, incriveis, especial, homenagem, fortes, vida, brasil, homens, dias, trans, guerreiras, maravilhosas, fazem, outras\n",
      "Topic 03: marco, lula, ano, data, brasil, feira, segunda, dias, pleno, abril, anos, apenas, ainda, flores, sobre\n",
      "Topic 04: feliz, guerreiras, dias, vcs, incriveis, deseja, sempre, respeito, maravilhosas, bom, mulher, amor, desejar, instagram, mundo\n",
      "Topic 05: amo, tanto, amor, demais, vida, vcs, liam, deus, tudo, video, obrigada, mae, camila, linda, lindo\n",
      "Topic 06: ser, aqui, vai, gente, mundo, tudo, mulher, pode, ter, ainda, homem, nunca, orgulho, melhor, deve\n",
      "Topic 07: parabens, guerreiras, dias, vcs, mundo, linda, amor, respeito, forca, especial, merecem, guerreira, fazem, boa, cada\n",
      "Topic 08: hoje, dias, sempre, respeito, especial, ano, tudo, forca, politico, aqui, ainda, mae, porque, apenas, outros\n",
      "Topic 09: woman, god, ariana, grande, deus, musica, aqui, bom, carla, juliette, dizia, tudo, disse, joao, angels\n",
      "Topic 10: luta, igualdade, respeito, direitos, vida, contra, sobre, sempre, queremos, violencia, ainda, flores, forca, data, genero\n"
     ]
    }
   ],
   "source": [
    "for topic_index in range(k):\n",
    "    descriptor = get_descriptor( terms, H, topic_index, 15)\n",
    "    str_descriptor = \", \".join( descriptor )\n",
    "    print(\"Topic %02d: %s\" % ( topic_index+1, str_descriptor ) )"
   ]
  },
  {
   "cell_type": "code",
   "execution_count": 26,
   "metadata": {
    "ExecuteTime": {
     "end_time": "2021-05-19T02:28:36.577302Z",
     "start_time": "2021-05-19T02:28:36.566537Z"
    }
   },
   "outputs": [
    {
     "name": "stdout",
     "output_type": "stream",
     "text": [
      "Topic 01: mulher, internacional, homenagem, continuacao, especial, via, presente, mae, sobre, brasil, lula, onde, instagram, comemoracao, lugar, melhor, homem, quiser, segunda, dilma\n",
      "Topic 02: mulheres, mundo, incriveis, especial, homenagem, fortes, vida, brasil, homens, dias, trans, guerreiras, maravilhosas, fazem, outras, forca, lutam, lindas, aqui, historia\n",
      "Topic 03: marco, lula, ano, data, brasil, feira, segunda, dias, pleno, abril, anos, apenas, ainda, flores, sobre, homens, presente, respeito, homenagem, elegivel\n",
      "Topic 04: feliz, guerreiras, dias, vcs, incriveis, deseja, sempre, respeito, maravilhosas, bom, mulher, amor, desejar, instagram, mundo, lindas, mulherada, fortes, seguidoras, desejamos\n",
      "Topic 05: amo, tanto, amor, demais, vida, vcs, liam, deus, tudo, video, obrigada, mae, camila, linda, lindo, cena, amiga, musica, instagram, serio\n",
      "Topic 06: ser, aqui, vai, gente, mundo, tudo, mulher, pode, ter, ainda, homem, nunca, orgulho, melhor, deve, forte, fazer, cada, sempre, quero\n",
      "Topic 07: parabens, guerreiras, dias, vcs, mundo, linda, amor, respeito, forca, especial, merecem, guerreira, fazem, boa, cada, mulherada, deus, brazil, obrigado, batalhadoras\n",
      "Topic 08: hoje, dias, sempre, respeito, especial, ano, tudo, forca, politico, aqui, ainda, mae, porque, apenas, outros, data, vou, homenagem, amanha, melhor\n",
      "Topic 09: woman, god, ariana, grande, deus, musica, aqui, bom, carla, juliette, dizia, tudo, disse, joao, angels, video, sarah, hino, vez, arthur\n",
      "Topic 10: luta, igualdade, respeito, direitos, vida, contra, sobre, sempre, queremos, violencia, ainda, flores, forca, data, genero, diaria, cada, sociedade, vacina, resistencia\n"
     ]
    }
   ],
   "source": [
    "for topic_index in range(k):\n",
    "    descriptor = get_descriptor( terms, H, topic_index, 20)\n",
    "    str_descriptor = \", \".join( descriptor )\n",
    "    print(\"Topic %02d: %s\" % ( topic_index+1, str_descriptor ) )"
   ]
  },
  {
   "cell_type": "markdown",
   "metadata": {
    "ExecuteTime": {
     "end_time": "2021-05-18T01:35:40.549034Z",
     "start_time": "2021-05-18T01:35:40.547094Z"
    }
   },
   "source": [
    "# 15"
   ]
  },
  {
   "cell_type": "code",
   "execution_count": 27,
   "metadata": {
    "ExecuteTime": {
     "end_time": "2021-05-19T02:28:36.590399Z",
     "start_time": "2021-05-19T02:28:36.581837Z"
    }
   },
   "outputs": [],
   "source": [
    "k = 15 # best_k\n",
    "\n",
    "# get the model that we generated earlier.\n",
    "W = topic_models[2][1]\n",
    "H = topic_models[2][2]"
   ]
  },
  {
   "cell_type": "code",
   "execution_count": 28,
   "metadata": {
    "ExecuteTime": {
     "end_time": "2021-05-19T02:28:36.604469Z",
     "start_time": "2021-05-19T02:28:36.591657Z"
    }
   },
   "outputs": [
    {
     "name": "stdout",
     "output_type": "stream",
     "text": [
      "Topic 01: mulher, internacional, continuacao, especial, via\n",
      "Topic 02: mulheres, incriveis, especial, fortes, homens\n",
      "Topic 03: marco, lula, ano, data, brasil\n",
      "Topic 04: feliz, guerreiras, dias, vcs, incriveis\n",
      "Topic 05: amo, tanto, demais, vcs, liam\n",
      "Topic 06: ser, mulher, vai, pode, ter\n",
      "Topic 07: parabens, guerreiras, dias, vcs, respeito\n",
      "Topic 08: hoje, dias, sempre, respeito, ano\n",
      "Topic 09: woman, god, ariana, grande, musica\n",
      "Topic 10: luta, igualdade, respeito, direitos, contra\n",
      "Topic 11: aqui, bom, tudo, sobre, video\n",
      "Topic 12: mundo, melhor, brasil, tudo, lugar\n",
      "Topic 13: vida, deus, amor, sempre, mae\n",
      "Topic 14: homenagem, linda, video, especial, maior\n",
      "Topic 15: gente, ainda, linda, coisa, vai\n"
     ]
    }
   ],
   "source": [
    "for topic_index in range(k):\n",
    "    descriptor = get_descriptor( terms, H, topic_index, 5)\n",
    "    str_descriptor = \", \".join( descriptor )\n",
    "    print(\"Topic %02d: %s\" % ( topic_index+1, str_descriptor ) )"
   ]
  },
  {
   "cell_type": "code",
   "execution_count": 29,
   "metadata": {
    "ExecuteTime": {
     "end_time": "2021-05-19T02:28:36.611733Z",
     "start_time": "2021-05-19T02:28:36.605834Z"
    }
   },
   "outputs": [
    {
     "name": "stdout",
     "output_type": "stream",
     "text": [
      "Topic 01: mulher, internacional, continuacao, especial, via, presente, sobre, lula, brasil, onde\n",
      "Topic 02: mulheres, incriveis, especial, fortes, homens, dias, brasil, trans, maravilhosas, outras\n",
      "Topic 03: marco, lula, ano, data, brasil, feira, segunda, dias, abril, pleno\n",
      "Topic 04: feliz, guerreiras, dias, vcs, incriveis, deseja, sempre, respeito, maravilhosas, bom\n",
      "Topic 05: amo, tanto, demais, vcs, liam, tudo, video, camila, obrigada, musica\n",
      "Topic 06: ser, mulher, vai, pode, ter, tudo, dias, deve, orgulho, quiser\n",
      "Topic 07: parabens, guerreiras, dias, vcs, respeito, especial, forca, guerreira, linda, boa\n",
      "Topic 08: hoje, dias, sempre, respeito, ano, especial, politico, forca, tudo, outros\n",
      "Topic 09: woman, god, ariana, grande, musica, carla, juliette, dizia, bom, disse\n",
      "Topic 10: luta, igualdade, respeito, direitos, contra, sobre, queremos, violencia, ainda, sempre\n",
      "Topic 11: aqui, bom, tudo, sobre, video, bem, demais, vcs, vou, vai\n",
      "Topic 12: mundo, melhor, brasil, tudo, lugar, incriveis, guerreiras, maior, forca, fortes\n",
      "Topic 13: vida, deus, amor, sempre, mae, obrigada, linda, tudo, especial, abencoe\n",
      "Topic 14: homenagem, linda, video, especial, maior, mae, respeito, via, instagram, singela\n",
      "Topic 15: gente, ainda, linda, coisa, vai, cara, fazer, olha, vem, tudo\n"
     ]
    }
   ],
   "source": [
    "for topic_index in range(k):\n",
    "    descriptor = get_descriptor( terms, H, topic_index, 10)\n",
    "    str_descriptor = \", \".join( descriptor )\n",
    "    print(\"Topic %02d: %s\" % ( topic_index+1, str_descriptor ) )"
   ]
  },
  {
   "cell_type": "code",
   "execution_count": 30,
   "metadata": {
    "ExecuteTime": {
     "end_time": "2021-05-19T02:28:36.620730Z",
     "start_time": "2021-05-19T02:28:36.612969Z"
    }
   },
   "outputs": [
    {
     "name": "stdout",
     "output_type": "stream",
     "text": [
      "Topic 01: mulher, internacional, continuacao, especial, via, presente, sobre, lula, brasil, onde, comemoracao, lugar, homem, quiser, mae\n",
      "Topic 02: mulheres, incriveis, especial, fortes, homens, dias, brasil, trans, maravilhosas, outras, guerreiras, vida, fazem, lindas, lutam\n",
      "Topic 03: marco, lula, ano, data, brasil, feira, segunda, dias, abril, pleno, anos, apenas, flores, ainda, homens\n",
      "Topic 04: feliz, guerreiras, dias, vcs, incriveis, deseja, sempre, respeito, maravilhosas, bom, instagram, mulher, desejar, lindas, mulherada\n",
      "Topic 05: amo, tanto, demais, vcs, liam, tudo, video, camila, obrigada, musica, amiga, cena, instagram, admiro, lindas\n",
      "Topic 06: ser, mulher, vai, pode, ter, tudo, dias, deve, orgulho, quiser, forte, quero, nunca, assim, homem\n",
      "Topic 07: parabens, guerreiras, dias, vcs, respeito, especial, forca, guerreira, linda, boa, fazem, mulherada, merecem, cada, brazil\n",
      "Topic 08: hoje, dias, sempre, respeito, ano, especial, politico, forca, tudo, outros, apenas, porque, ainda, data, amanha\n",
      "Topic 09: woman, god, ariana, grande, musica, carla, juliette, dizia, bom, disse, joao, angels, tudo, sarah, hino\n",
      "Topic 10: luta, igualdade, respeito, direitos, contra, sobre, queremos, violencia, ainda, sempre, flores, data, genero, forca, diaria\n",
      "Topic 11: aqui, bom, tudo, sobre, video, bem, demais, vcs, vou, vai, deixar, fica, nada, voltou, ver\n",
      "Topic 12: mundo, melhor, brasil, tudo, lugar, incriveis, guerreiras, maior, forca, fortes, merecem, cada, justo, onde, merece\n",
      "Topic 13: vida, deus, amor, sempre, mae, obrigada, linda, tudo, especial, abencoe, forca, carinho, homem, mulher, tanto\n",
      "Topic 14: homenagem, linda, video, especial, maior, mae, respeito, via, instagram, singela, foto, faz, equipe, confira, vai\n",
      "Topic 15: gente, ainda, linda, coisa, vai, cara, fazer, olha, vem, tudo, serio, ter, quer, demais, agora\n"
     ]
    }
   ],
   "source": [
    "for topic_index in range(k):\n",
    "    descriptor = get_descriptor( terms, H, topic_index, 15)\n",
    "    str_descriptor = \", \".join( descriptor )\n",
    "    print(\"Topic %02d: %s\" % ( topic_index+1, str_descriptor ) )"
   ]
  },
  {
   "cell_type": "code",
   "execution_count": 31,
   "metadata": {
    "ExecuteTime": {
     "end_time": "2021-05-19T02:28:36.632453Z",
     "start_time": "2021-05-19T02:28:36.622022Z"
    }
   },
   "outputs": [
    {
     "name": "stdout",
     "output_type": "stream",
     "text": [
      "Topic 01: mulher, internacional, continuacao, especial, via, presente, sobre, lula, brasil, onde, comemoracao, lugar, homem, quiser, mae, instagram, dilma, segunda, primeira, pleno\n",
      "Topic 02: mulheres, incriveis, especial, fortes, homens, dias, brasil, trans, maravilhosas, outras, guerreiras, vida, fazem, lindas, lutam, historia, inspiram, pandemia, internacional, forca\n",
      "Topic 03: marco, lula, ano, data, brasil, feira, segunda, dias, abril, pleno, anos, apenas, flores, ainda, homens, sobre, presente, elegivel, respeito, melhor\n",
      "Topic 04: feliz, guerreiras, dias, vcs, incriveis, deseja, sempre, respeito, maravilhosas, bom, instagram, mulher, desejar, lindas, mulherada, seguidoras, fortes, desejamos, foda, via\n",
      "Topic 05: amo, tanto, demais, vcs, liam, tudo, video, camila, obrigada, musica, amiga, cena, instagram, admiro, lindas, cara, mae, serio, lindo, foto\n",
      "Topic 06: ser, mulher, vai, pode, ter, tudo, dias, deve, orgulho, quiser, forte, quero, nunca, assim, homem, cada, sempre, queria, fazer, ainda\n",
      "Topic 07: parabens, guerreiras, dias, vcs, respeito, especial, forca, guerreira, linda, boa, fazem, mulherada, merecem, cada, brazil, batalhadoras, bom, meninas, obrigado, maluf\n",
      "Topic 08: hoje, dias, sempre, respeito, ano, especial, politico, forca, tudo, outros, apenas, porque, ainda, data, amanha, romantico, vou, flores, lembrar, mae\n",
      "Topic 09: woman, god, ariana, grande, musica, carla, juliette, dizia, bom, disse, joao, angels, tudo, sarah, hino, vez, esquecam, arthur, diaz, zendaya\n",
      "Topic 10: luta, igualdade, respeito, direitos, contra, sobre, queremos, violencia, ainda, sempre, flores, data, genero, forca, diaria, sociedade, cada, resistencia, conquistas, viva\n",
      "Topic 11: aqui, bom, tudo, sobre, video, bem, demais, vcs, vou, vai, deixar, fica, nada, voltou, ver, olha, ainda, casa, nessa, brasil\n",
      "Topic 12: mundo, melhor, brasil, tudo, lugar, incriveis, guerreiras, maior, forca, fortes, merecem, cada, justo, onde, merece, nada, inteiro, fazem, coisa, redor\n",
      "Topic 13: vida, deus, amor, sempre, mae, obrigada, linda, tudo, especial, abencoe, forca, carinho, homem, mulher, tanto, melhor, lindo, nunca, obrigado, coisa\n",
      "Topic 14: homenagem, linda, video, especial, maior, mae, respeito, via, instagram, singela, foto, faz, equipe, confira, vai, presta, coisa, fez, pequena, internacional\n",
      "Topic 15: gente, ainda, linda, coisa, vai, cara, fazer, olha, vem, tudo, serio, ter, quer, demais, agora, ver, nunca, homem, lindo, assim\n"
     ]
    }
   ],
   "source": [
    "for topic_index in range(k):\n",
    "    descriptor = get_descriptor( terms, H, topic_index, 20)\n",
    "    str_descriptor = \", \".join( descriptor )\n",
    "    print(\"Topic %02d: %s\" % ( topic_index+1, str_descriptor ) )"
   ]
  },
  {
   "cell_type": "markdown",
   "metadata": {},
   "source": [
    "# 20"
   ]
  },
  {
   "cell_type": "code",
   "execution_count": 32,
   "metadata": {
    "ExecuteTime": {
     "end_time": "2021-05-19T02:28:36.637095Z",
     "start_time": "2021-05-19T02:28:36.633767Z"
    }
   },
   "outputs": [],
   "source": [
    "k = 20 # best_k\n",
    "\n",
    "# get the model that we generated earlier.\n",
    "W = topic_models[3][1]\n",
    "H = topic_models[3][2]"
   ]
  },
  {
   "cell_type": "code",
   "execution_count": 33,
   "metadata": {
    "ExecuteTime": {
     "end_time": "2021-05-19T02:28:36.650811Z",
     "start_time": "2021-05-19T02:28:36.638286Z"
    }
   },
   "outputs": [
    {
     "name": "stdout",
     "output_type": "stream",
     "text": [
      "Topic 01: mulher, internacional, continuacao, especial, via\n",
      "Topic 02: mulheres, incriveis, especial, fortes, homens\n",
      "Topic 03: marco, data, ano, feira, segunda\n",
      "Topic 04: feliz, guerreiras, vcs, deseja, incriveis\n",
      "Topic 05: amo, tanto, demais, liam, vcs\n",
      "Topic 06: ser, mulher, pode, vai, ter\n",
      "Topic 07: parabens, guerreiras, vcs, especial, linda\n",
      "Topic 08: hoje, especial, politico, data, forca\n",
      "Topic 09: woman, god, ariana, grande, musica\n",
      "Topic 10: luta, direitos, igualdade, contra, violencia\n",
      "Topic 11: aqui, bem, demais, video, vou\n",
      "Topic 12: mundo, melhor, incriveis, lugar, forca\n",
      "Topic 13: vida, deus, amor, mae, especial\n",
      "Topic 14: dias, respeito, flores, igualdade, queremos\n",
      "Topic 15: gente, linda, ainda, coisa, olha\n",
      "Topic 16: homenagem, linda, video, especial, mae\n",
      "Topic 17: tudo, faz, acima, bem, fazer\n",
      "Topic 18: sempre, bom, lembrar, razao, demais\n",
      "Topic 19: sobre, ainda, falar, video, fazer\n",
      "Topic 20: brasil, lula, ciro, vai, dilma\n"
     ]
    }
   ],
   "source": [
    "for topic_index in range(k):\n",
    "    descriptor = get_descriptor( terms, H, topic_index, 5)\n",
    "    str_descriptor = \", \".join( descriptor )\n",
    "    print(\"Topic %02d: %s\" % ( topic_index+1, str_descriptor ) )"
   ]
  },
  {
   "cell_type": "code",
   "execution_count": 34,
   "metadata": {
    "ExecuteTime": {
     "end_time": "2021-05-19T02:28:36.658976Z",
     "start_time": "2021-05-19T02:28:36.653106Z"
    }
   },
   "outputs": [
    {
     "name": "stdout",
     "output_type": "stream",
     "text": [
      "Topic 01: mulher, internacional, continuacao, especial, via, presente, onde, comemoracao, lugar, quiser\n",
      "Topic 02: mulheres, incriveis, especial, fortes, homens, trans, maravilhosas, outras, vida, guerreiras\n",
      "Topic 03: marco, data, ano, feira, segunda, abril, anos, pleno, lula, apenas\n",
      "Topic 04: feliz, guerreiras, vcs, deseja, incriveis, maravilhosas, instagram, desejar, lindas, mulherada\n",
      "Topic 05: amo, tanto, demais, liam, vcs, video, camila, musica, amiga, obrigada\n",
      "Topic 06: ser, mulher, pode, vai, ter, deve, orgulho, quiser, forte, cada\n",
      "Topic 07: parabens, guerreiras, vcs, especial, linda, guerreira, forca, boa, mulherada, fazem\n",
      "Topic 08: hoje, especial, politico, data, forca, romantico, porque, mae, vou, ainda\n",
      "Topic 09: woman, god, ariana, grande, musica, carla, juliette, dizia, joao, disse\n",
      "Topic 10: luta, direitos, igualdade, contra, violencia, data, diaria, forca, resistencia, viva\n",
      "Topic 11: aqui, bem, demais, video, vou, vcs, deixar, fica, olha, voltou\n",
      "Topic 12: mundo, melhor, incriveis, lugar, forca, guerreiras, cada, fortes, merecem, onde\n",
      "Topic 13: vida, deus, amor, mae, especial, linda, obrigada, abencoe, carinho, forca\n",
      "Topic 14: dias, respeito, flores, igualdade, queremos, ano, apenas, outros, merecem, quero\n",
      "Topic 15: gente, linda, ainda, coisa, olha, serio, demais, vem, quer, fazer\n",
      "Topic 16: homenagem, linda, video, especial, mae, maior, via, instagram, singela, foto\n",
      "Topic 17: tudo, faz, acima, bem, fazer, vcs, obrigada, ainda, pode, fortes\n",
      "Topic 18: sempre, bom, lembrar, razao, demais, nunca, melhor, forca, video, ainda\n",
      "Topic 19: sobre, ainda, falar, video, fazer, genero, falando, trabalho, vamos, texto\n",
      "Topic 20: brasil, lula, ciro, vai, dilma, presidente, melhor, aborto, presente, bolsonaro\n"
     ]
    }
   ],
   "source": [
    "for topic_index in range(k):\n",
    "    descriptor = get_descriptor( terms, H, topic_index, 10)\n",
    "    str_descriptor = \", \".join( descriptor )\n",
    "    print(\"Topic %02d: %s\" % ( topic_index+1, str_descriptor ) )"
   ]
  },
  {
   "cell_type": "code",
   "execution_count": 35,
   "metadata": {
    "ExecuteTime": {
     "end_time": "2021-05-19T02:28:36.668066Z",
     "start_time": "2021-05-19T02:28:36.660139Z"
    }
   },
   "outputs": [
    {
     "name": "stdout",
     "output_type": "stream",
     "text": [
      "Topic 01: mulher, internacional, continuacao, especial, via, presente, onde, comemoracao, lugar, quiser, homem, mae, segunda, instagram, guerreira\n",
      "Topic 02: mulheres, incriveis, especial, fortes, homens, trans, maravilhosas, outras, vida, guerreiras, fazem, lindas, lutam, internacional, inspiram\n",
      "Topic 03: marco, data, ano, feira, segunda, abril, anos, pleno, lula, apenas, homens, ainda, lembrar, via, aniversario\n",
      "Topic 04: feliz, guerreiras, vcs, deseja, incriveis, maravilhosas, instagram, desejar, lindas, mulherada, mulher, seguidoras, fortes, via, foda\n",
      "Topic 05: amo, tanto, demais, liam, vcs, video, camila, musica, amiga, obrigada, instagram, cena, admiro, lindas, cara\n",
      "Topic 06: ser, mulher, pode, vai, ter, deve, orgulho, quiser, forte, cada, assim, homem, queria, quero, nunca\n",
      "Topic 07: parabens, guerreiras, vcs, especial, linda, guerreira, forca, boa, mulherada, fazem, cada, brazil, batalhadoras, meninas, maluf\n",
      "Topic 08: hoje, especial, politico, data, forca, romantico, porque, mae, vou, ainda, amanha, celebrar, queria, lutaram, entao\n",
      "Topic 09: woman, god, ariana, grande, musica, carla, juliette, dizia, joao, disse, angels, sarah, hino, esquecam, vez\n",
      "Topic 10: luta, direitos, igualdade, contra, violencia, data, diaria, forca, resistencia, viva, vida, ainda, vacina, continua, genero\n",
      "Topic 11: aqui, bem, demais, video, vou, vcs, deixar, fica, olha, voltou, marque, vai, chorei, nada, ver\n",
      "Topic 12: mundo, melhor, incriveis, lugar, forca, guerreiras, cada, fortes, merecem, onde, justo, maior, merece, inteiro, redor\n",
      "Topic 13: vida, deus, amor, mae, especial, linda, obrigada, abencoe, carinho, forca, tanto, mulher, homem, lindo, defesa\n",
      "Topic 14: dias, respeito, flores, igualdade, queremos, ano, apenas, outros, merecem, quero, sim, admiracao, maior, direitos, liberdade\n",
      "Topic 15: gente, linda, ainda, coisa, olha, serio, demais, vem, quer, fazer, chorando, assim, ter, ver, lindo\n",
      "Topic 16: homenagem, linda, video, especial, mae, maior, via, instagram, singela, foto, faz, equipe, confira, presta, coisa\n",
      "Topic 17: tudo, faz, acima, bem, fazer, vcs, obrigada, ainda, pode, fortes, nada, homem, podemos, obrigado, nessa\n",
      "Topic 18: sempre, bom, lembrar, razao, demais, nunca, melhor, forca, video, ainda, forte, vou, lugar, coracao, ver\n",
      "Topic 19: sobre, ainda, falar, video, fazer, genero, falando, trabalho, vamos, texto, feminismo, historia, reflexao, fala, feminina\n",
      "Topic 20: brasil, lula, ciro, vai, dilma, presidente, melhor, aborto, presente, bolsonaro, cara, gomes, primeira, pais, video\n"
     ]
    }
   ],
   "source": [
    "for topic_index in range(k):\n",
    "    descriptor = get_descriptor( terms, H, topic_index, 15)\n",
    "    str_descriptor = \", \".join( descriptor )\n",
    "    print(\"Topic %02d: %s\" % ( topic_index+1, str_descriptor ) )"
   ]
  },
  {
   "cell_type": "code",
   "execution_count": 36,
   "metadata": {
    "ExecuteTime": {
     "end_time": "2021-05-19T02:28:36.678791Z",
     "start_time": "2021-05-19T02:28:36.669303Z"
    }
   },
   "outputs": [
    {
     "name": "stdout",
     "output_type": "stream",
     "text": [
      "Topic 01: mulher, internacional, continuacao, especial, via, presente, onde, comemoracao, lugar, quiser, homem, mae, segunda, instagram, guerreira, mensagem, ontem, pix, feira, data\n",
      "Topic 02: mulheres, incriveis, especial, fortes, homens, trans, maravilhosas, outras, vida, guerreiras, fazem, lindas, lutam, internacional, inspiram, direitos, historia, pandemia, forca, trabalho\n",
      "Topic 03: marco, data, ano, feira, segunda, abril, anos, pleno, lula, apenas, homens, ainda, lembrar, via, aniversario, fevereiro, joao, mes, semana, marcado\n",
      "Topic 04: feliz, guerreiras, vcs, deseja, incriveis, maravilhosas, instagram, desejar, lindas, mulherada, mulher, seguidoras, fortes, via, foda, desejamos, nunca, desejando, querida, cada\n",
      "Topic 05: amo, tanto, demais, liam, vcs, video, camila, musica, amiga, obrigada, instagram, cena, admiro, lindas, cara, mae, foto, lindo, serio, mds\n",
      "Topic 06: ser, mulher, pode, vai, ter, deve, orgulho, quiser, forte, cada, assim, homem, queria, quero, nunca, incrivel, forca, humano, deveria, precisa\n",
      "Topic 07: parabens, guerreiras, vcs, especial, linda, guerreira, forca, boa, mulherada, fazem, cada, brazil, batalhadoras, meninas, maluf, coragem, obrigado, lindas, amigas, exemplo\n",
      "Topic 08: hoje, especial, politico, data, forca, romantico, porque, mae, vou, ainda, amanha, celebrar, queria, lutaram, entao, vamos, anos, lembrar, live, celebramos\n",
      "Topic 09: woman, god, ariana, grande, musica, carla, juliette, dizia, joao, disse, angels, sarah, hino, esquecam, vez, arthur, diaz, zendaya, clipe, rodolffo\n",
      "Topic 10: luta, direitos, igualdade, contra, violencia, data, diaria, forca, resistencia, viva, vida, ainda, vacina, continua, genero, conquistas, muita, cada, sociedade, seguimos\n",
      "Topic 11: aqui, bem, demais, video, vou, vcs, deixar, fica, olha, voltou, marque, vai, chorei, nada, ver, casa, deixo, nessa, via, foto\n",
      "Topic 12: mundo, melhor, incriveis, lugar, forca, guerreiras, cada, fortes, merecem, onde, justo, maior, merece, inteiro, redor, coisa, fazem, obrigado, metade, desejo\n",
      "Topic 13: vida, deus, amor, mae, especial, linda, obrigada, abencoe, carinho, forca, tanto, mulher, homem, lindo, defesa, vacina, coisa, obrigado, cada, agora\n",
      "Topic 14: dias, respeito, flores, igualdade, queremos, ano, apenas, outros, merecem, quero, sim, admiracao, maior, direitos, liberdade, receber, lutam, merecemos, lutamos, desejo\n",
      "Topic 15: gente, linda, ainda, coisa, olha, serio, demais, vem, quer, fazer, chorando, assim, ter, ver, lindo, nao, pode, homem, agora, pix\n",
      "Topic 16: homenagem, linda, video, especial, mae, maior, via, instagram, singela, foto, faz, equipe, confira, presta, coisa, fez, internacional, pequena, forca, acao\n",
      "Topic 17: tudo, faz, acima, bem, fazer, vcs, obrigada, ainda, pode, fortes, nada, homem, podemos, obrigado, nessa, fez, podem, quero, lindo, fazem\n",
      "Topic 18: sempre, bom, lembrar, razao, demais, nunca, melhor, forca, video, ainda, forte, vou, lugar, coracao, ver, ontem, incrivel, onde, tempo, homens\n",
      "Topic 19: sobre, ainda, falar, video, fazer, genero, falando, trabalho, vamos, texto, feminismo, historia, reflexao, fala, feminina, confira, refletir, post, instagram, thread\n",
      "Topic 20: brasil, lula, ciro, vai, dilma, presidente, melhor, aborto, presente, bolsonaro, cara, gomes, primeira, pais, video, historia, politica, livre, diz, brasileira\n"
     ]
    }
   ],
   "source": [
    "for topic_index in range(k):\n",
    "    descriptor = get_descriptor( terms, H, topic_index, 20)\n",
    "    str_descriptor = \", \".join( descriptor )\n",
    "    print(\"Topic %02d: %s\" % ( topic_index+1, str_descriptor ) )"
   ]
  },
  {
   "cell_type": "code",
   "execution_count": null,
   "metadata": {},
   "outputs": [],
   "source": []
  }
 ],
 "metadata": {
  "@webio": {
   "lastCommId": null,
   "lastKernelId": null
  },
  "kernelspec": {
   "display_name": "Python 3",
   "language": "python",
   "name": "python3"
  },
  "language_info": {
   "codemirror_mode": {
    "name": "ipython",
    "version": 3
   },
   "file_extension": ".py",
   "mimetype": "text/x-python",
   "name": "python",
   "nbconvert_exporter": "python",
   "pygments_lexer": "ipython3",
   "version": "3.7.7"
  },
  "toc": {
   "base_numbering": 1,
   "nav_menu": {
    "height": "91px",
    "width": "373px"
   },
   "number_sections": true,
   "sideBar": true,
   "skip_h1_title": false,
   "title_cell": "Table of Contents",
   "title_sidebar": "Contents",
   "toc_cell": false,
   "toc_position": {
    "height": "557px",
    "left": "22px",
    "top": "170px",
    "width": "288px"
   },
   "toc_section_display": true,
   "toc_window_display": false
  }
 },
 "nbformat": 4,
 "nbformat_minor": 4
}
