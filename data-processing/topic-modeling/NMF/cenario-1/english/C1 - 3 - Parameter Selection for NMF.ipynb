{
 "cells": [
  {
   "cell_type": "markdown",
   "metadata": {},
   "source": [
    "# Parameter Selection for NMF"
   ]
  },
  {
   "cell_type": "markdown",
   "metadata": {},
   "source": [
    "Now we look at the more advanced task of parameter selection for NMF topic modelling - namely, selecting a useful value for the number of topics *k*."
   ]
  },
  {
   "cell_type": "markdown",
   "metadata": {},
   "source": [
    "First, let's load the TF-IDF normalised document-term matrix and list of terms that we stored earlier using *Joblib*:"
   ]
  },
  {
   "cell_type": "code",
   "execution_count": 1,
   "metadata": {
    "ExecuteTime": {
     "end_time": "2021-03-17T01:26:42.102862Z",
     "start_time": "2021-03-17T01:26:34.338312Z"
    }
   },
   "outputs": [
    {
     "name": "stdout",
     "output_type": "stream",
     "text": [
      "Loaded 1990393 X 32884 document-term matrix\n"
     ]
    }
   ],
   "source": [
    "import joblib\n",
    "\n",
    "(A, terms, snippets) = joblib.load(\n",
    "    \"cenario1-tweets-tfidf.pkl\")\n",
    "\n",
    "print(\"Loaded %d X %d document-term matrix\" % (A.shape[0], A.shape[1]))"
   ]
  },
  {
   "cell_type": "markdown",
   "metadata": {},
   "source": [
    "### Create the Topic Models"
   ]
  },
  {
   "cell_type": "markdown",
   "metadata": {},
   "source": [
    "A common approach for parameter selection is to Measure and compare the topic coherence of models generated for different values of *k*."
   ]
  },
  {
   "cell_type": "markdown",
   "metadata": {},
   "source": [
    "We need to start by pre-specifying an initial range of \"sensible\" values:"
   ]
  },
  {
   "cell_type": "code",
   "execution_count": 2,
   "metadata": {
    "ExecuteTime": {
     "end_time": "2021-03-17T01:26:42.106560Z",
     "start_time": "2021-03-17T01:26:42.104389Z"
    }
   },
   "outputs": [],
   "source": [
    "kmin, kmax = 5, 20"
   ]
  },
  {
   "cell_type": "markdown",
   "metadata": {},
   "source": [
    "Apply NMF for each of these values:"
   ]
  },
  {
   "cell_type": "code",
   "execution_count": 5,
   "metadata": {
    "ExecuteTime": {
     "end_time": "2021-03-17T01:54:44.939705Z",
     "start_time": "2021-03-17T01:39:31.674921Z"
    }
   },
   "outputs": [
    {
     "name": "stdout",
     "output_type": "stream",
     "text": [
      "Applying NMF for k=5 ...\n",
      "Applying NMF for k=10 ...\n",
      "Applying NMF for k=15 ...\n",
      "Applying NMF for k=20 ...\n"
     ]
    }
   ],
   "source": [
    "from sklearn import decomposition\n",
    "\n",
    "topic_models = []\n",
    "\n",
    "# try each value of k\n",
    "for k in [5,10,15,20]: #range(kmin, kmax + 1):\n",
    "    print(\"Applying NMF for k=%d ...\" % k)\n",
    "    # run NMF\n",
    "    model = decomposition.NMF(init=\"nndsvd\", n_components=k)\n",
    "    W = model.fit_transform(A)\n",
    "    H = model.components_\n",
    "    # store for later\n",
    "    topic_models.append((k, W, H))"
   ]
  },
  {
   "cell_type": "markdown",
   "metadata": {},
   "source": [
    "### Build a Word Embedding"
   ]
  },
  {
   "cell_type": "markdown",
   "metadata": {},
   "source": [
    "To select the number of topics, here we will use a *topic coherence* measure called TC-W2V. This measure relies on the use of a *word embedding* model constructed from our corpus. So in this step we will use the *Gensim* implementation of Word2Vec to build a Word2Vec model based on our collection of news articles."
   ]
  },
  {
   "cell_type": "markdown",
   "metadata": {},
   "source": [
    "**Note:** If you want to skip this step, a pre-built Word2Vec model for the sample dataset [is also provided here for download](http://erdos.ucd.ie/files/pydata/w2v-model.bin) (71MB)."
   ]
  },
  {
   "cell_type": "markdown",
   "metadata": {},
   "source": [
    "We read the documents from the input file again:"
   ]
  },
  {
   "cell_type": "code",
   "execution_count": 6,
   "metadata": {
    "ExecuteTime": {
     "end_time": "2021-03-17T02:13:09.987007Z",
     "start_time": "2021-03-17T02:13:08.675638Z"
    }
   },
   "outputs": [
    {
     "name": "stdout",
     "output_type": "stream",
     "text": [
      "Read 1990393 raw text documents\n"
     ]
    }
   ],
   "source": [
    "import os.path\n",
    "\n",
    "raw_documents = []\n",
    "\n",
    "with open(os.path.join(\"cenario1_8M2020_tweets_en.txt\"), \"r\") as fin:\n",
    "    for line in fin.readlines():\n",
    "        raw_documents.append(line.strip().lower())\n",
    "\n",
    "print(\"Read %d raw text documents\" % len(raw_documents))"
   ]
  },
  {
   "cell_type": "markdown",
   "metadata": {},
   "source": [
    "Read the custom stopword list:"
   ]
  },
  {
   "cell_type": "code",
   "execution_count": 7,
   "metadata": {
    "ExecuteTime": {
     "end_time": "2021-03-17T02:13:09.992077Z",
     "start_time": "2021-03-17T02:13:09.988375Z"
    }
   },
   "outputs": [
    {
     "name": "stdout",
     "output_type": "stream",
     "text": [
      "Stopword list has 179 entries\n"
     ]
    }
   ],
   "source": [
    "custom_stop_words = []\n",
    "\n",
    "with open(\"english.txt\", \"r\") as fin:\n",
    "    for line in fin.readlines():\n",
    "        custom_stop_words.append(line.strip().lower())\n",
    "\n",
    "# note that we need to make it hashable\n",
    "print(\"Stopword list has %d entries\" % len(custom_stop_words))"
   ]
  },
  {
   "cell_type": "markdown",
   "metadata": {},
   "source": [
    "First, we need to define a class that will generate documents in a form that can be consumed by Gensim's Word2Vec implementation:"
   ]
  },
  {
   "cell_type": "code",
   "execution_count": 8,
   "metadata": {
    "ExecuteTime": {
     "end_time": "2021-03-17T02:13:10.002506Z",
     "start_time": "2021-03-17T02:13:09.993925Z"
    }
   },
   "outputs": [],
   "source": [
    "import re\n",
    "\n",
    "\n",
    "class TokenGenerator:\n",
    "    def __init__(self, documents, stopwords):\n",
    "        self.documents = documents\n",
    "        self.stopwords = stopwords\n",
    "        self.tokenizer = re.compile(r\"(?u)\\b\\w\\w+\\b\")\n",
    "\n",
    "    def __iter__(self):\n",
    "        print(\"Building Word2Vec model ...\")\n",
    "        for doc in self.documents:\n",
    "            tokens = []\n",
    "            for tok in self.tokenizer.findall(doc):\n",
    "                if tok in self.stopwords:\n",
    "                    tokens.append(\"<stopword>\")\n",
    "                elif len(tok) >= 2:\n",
    "                    tokens.append(tok)\n",
    "            yield tokens"
   ]
  },
  {
   "cell_type": "markdown",
   "metadata": {},
   "source": [
    "Now build a Skipgram Word2Vec model from all documents in the input file using *Gensim*:"
   ]
  },
  {
   "cell_type": "code",
   "execution_count": 9,
   "metadata": {
    "ExecuteTime": {
     "end_time": "2021-03-17T02:13:10.452366Z",
     "start_time": "2021-03-17T02:13:10.005171Z"
    }
   },
   "outputs": [],
   "source": [
    "import gensim"
   ]
  },
  {
   "cell_type": "code",
   "execution_count": 10,
   "metadata": {
    "ExecuteTime": {
     "end_time": "2021-03-17T02:28:59.118466Z",
     "start_time": "2021-03-17T02:13:10.454146Z"
    }
   },
   "outputs": [
    {
     "name": "stdout",
     "output_type": "stream",
     "text": [
      "Building Word2Vec model ...\n",
      "Building Word2Vec model ...\n",
      "Building Word2Vec model ...\n",
      "Building Word2Vec model ...\n",
      "Building Word2Vec model ...\n",
      "Building Word2Vec model ...\n"
     ]
    }
   ],
   "source": [
    "docgen = TokenGenerator(raw_documents, custom_stop_words)\n",
    "\n",
    "# the model has 500 dimensions, the minimum document-term frequency is 20\n",
    "w2v_model = gensim.models.Word2Vec(docgen, size=500, min_count=20, sg=1)"
   ]
  },
  {
   "cell_type": "code",
   "execution_count": 11,
   "metadata": {
    "ExecuteTime": {
     "end_time": "2021-03-17T02:28:59.123795Z",
     "start_time": "2021-03-17T02:28:59.120541Z"
    }
   },
   "outputs": [
    {
     "name": "stdout",
     "output_type": "stream",
     "text": [
      "Model has 33304 terms\n"
     ]
    }
   ],
   "source": [
    "print( \"Model has %d terms\" % len(w2v_model.wv.vocab) )"
   ]
  },
  {
   "cell_type": "markdown",
   "metadata": {},
   "source": [
    "Save for later use, so that we do not need to rebuild it:"
   ]
  },
  {
   "cell_type": "code",
   "execution_count": 12,
   "metadata": {
    "ExecuteTime": {
     "end_time": "2021-03-17T02:28:59.398426Z",
     "start_time": "2021-03-17T02:28:59.125538Z"
    }
   },
   "outputs": [],
   "source": [
    "w2v_model.save(\"cenario1_w2v-model.bin\")"
   ]
  },
  {
   "cell_type": "code",
   "execution_count": 13,
   "metadata": {
    "ExecuteTime": {
     "end_time": "2021-03-17T02:28:59.402780Z",
     "start_time": "2021-03-17T02:28:59.400516Z"
    }
   },
   "outputs": [],
   "source": [
    "# To re-load this model, run\n",
    "# w2v_model = gensim.models.Word2Vec.load(\"cenario1_w2v-model.bin\")"
   ]
  },
  {
   "cell_type": "markdown",
   "metadata": {},
   "source": [
    "### Selecting the Number of Topics"
   ]
  },
  {
   "cell_type": "markdown",
   "metadata": {},
   "source": [
    "Once we have our Word2vec model, we can use it as part of our *topic coherence* approach to evaluate the different NMF topic models that we created previously. To do this, we will implement a simple version of the TC-W2V coherence measure."
   ]
  },
  {
   "cell_type": "markdown",
   "metadata": {},
   "source": [
    "We use the Word2vec model to calculate coherence scores for each of these models. We will define this coherence score as follows:"
   ]
  },
  {
   "cell_type": "code",
   "execution_count": 14,
   "metadata": {
    "ExecuteTime": {
     "end_time": "2021-03-17T02:28:59.421784Z",
     "start_time": "2021-03-17T02:28:59.404244Z"
    }
   },
   "outputs": [],
   "source": [
    "def calculate_coherence(w2v_model, term_rankings):\n",
    "    overall_coherence = 0.0\n",
    "    \n",
    "    for topic_index in range(len(term_rankings)):\n",
    "        # check each pair of terms\n",
    "        pair_scores = []\n",
    "        for pair in combinations(term_rankings[topic_index], 2):\n",
    "            pair_scores.append(w2v_model.similarity(pair[0], pair[1]))\n",
    "        # get the mean for all pairs in this topic\n",
    "        topic_score = sum(pair_scores) / len(pair_scores)\n",
    "        overall_coherence += topic_score\n",
    "    \n",
    "    # get the mean score across all topics\n",
    "    return overall_coherence / len(term_rankings)"
   ]
  },
  {
   "cell_type": "markdown",
   "metadata": {},
   "source": [
    "We also define a function to get the topic descriptor (i.e. list of top terms) for each topic:"
   ]
  },
  {
   "cell_type": "code",
   "execution_count": 15,
   "metadata": {
    "ExecuteTime": {
     "end_time": "2021-03-17T02:28:59.431703Z",
     "start_time": "2021-03-17T02:28:59.423746Z"
    }
   },
   "outputs": [],
   "source": [
    "import numpy as np\n",
    "\n",
    "\n",
    "def get_descriptor(all_terms, H, topic_index, top):\n",
    "    # reverse sort the values to sort the indices\n",
    "    top_indices = np.argsort(H[topic_index, :])[::-1]\n",
    "    \n",
    "    # now get the terms corresponding to the top-ranked indices\n",
    "    top_terms = []\n",
    "    \n",
    "    for term_index in top_indices[0:top]:\n",
    "        top_terms.append(all_terms[term_index])\n",
    "    \n",
    "    return top_terms"
   ]
  },
  {
   "cell_type": "markdown",
   "metadata": {},
   "source": [
    "Now process each of the models for different values of *k*:"
   ]
  },
  {
   "cell_type": "code",
   "execution_count": 16,
   "metadata": {
    "ExecuteTime": {
     "end_time": "2021-03-17T02:28:59.678209Z",
     "start_time": "2021-03-17T02:28:59.434368Z"
    }
   },
   "outputs": [
    {
     "name": "stderr",
     "output_type": "stream",
     "text": [
      "/home/gean/anaconda3/lib/python3.7/site-packages/ipykernel_launcher.py:8: DeprecationWarning: Call to deprecated `similarity` (Method will be removed in 4.0.0, use self.wv.similarity() instead).\n",
      "  \n"
     ]
    },
    {
     "name": "stdout",
     "output_type": "stream",
     "text": [
      "K=05: Coherence=0.1977\n",
      "K=10: Coherence=0.1820\n",
      "K=15: Coherence=0.1956\n",
      "K=20: Coherence=0.1889\n"
     ]
    }
   ],
   "source": [
    "from itertools import combinations\n",
    "\n",
    "k_values = []\n",
    "coherences = []\n",
    "\n",
    "for (k, W, H) in topic_models:\n",
    "    # Get all of the topic descriptors - the term_rankings, based on top 10 terms\n",
    "    term_rankings = []\n",
    "    \n",
    "    for topic_index in range(k):\n",
    "        term_rankings.append(get_descriptor(terms, H, topic_index, 10))\n",
    "    \n",
    "    # Now calculate the coherence based on our Word2vec model\n",
    "    k_values.append(k)\n",
    "    coherences.append(calculate_coherence(w2v_model, term_rankings))\n",
    "    \n",
    "    print(\"K=%02d: Coherence=%.4f\" % (k, coherences[-1]))\n",
    "    # print(f'{coherences[-1]:.4f}')"
   ]
  },
  {
   "cell_type": "markdown",
   "metadata": {},
   "source": [
    "We can now use *matplotlib* to generate a line plot of these coherence scores, to help us select an appropriate value."
   ]
  },
  {
   "cell_type": "code",
   "execution_count": 17,
   "metadata": {
    "ExecuteTime": {
     "end_time": "2021-03-17T02:28:59.904090Z",
     "start_time": "2021-03-17T02:28:59.680223Z"
    }
   },
   "outputs": [],
   "source": [
    "%matplotlib inline\n",
    "import matplotlib\n",
    "import matplotlib.pyplot as plt\n",
    "\n",
    "plt.style.use(\"ggplot\")\n",
    "matplotlib.rcParams.update({\"font.size\": 14})"
   ]
  },
  {
   "cell_type": "code",
   "execution_count": 18,
   "metadata": {
    "ExecuteTime": {
     "end_time": "2021-03-17T02:29:00.152407Z",
     "start_time": "2021-03-17T02:28:59.905810Z"
    }
   },
   "outputs": [
    {
     "data": {
      "image/png": "[encoded data removed]",
      "text/plain": [
       "<Figure size 936x504 with 1 Axes>"
      ]
     },
     "metadata": {},
     "output_type": "display_data"
    }
   ],
   "source": [
    "fig = plt.figure(figsize=(13,7))\n",
    "\n",
    "# create the line plot\n",
    "ax = plt.plot( k_values, coherences )\n",
    "plt.xticks(k_values)\n",
    "plt.xlabel(\"Number of Topics\")\n",
    "plt.ylabel(\"Mean Coherence\")\n",
    "\n",
    "# add the points\n",
    "plt.scatter( k_values, coherences, s=120)\n",
    "\n",
    "\n",
    "# find and annotate the maximum point on the plot\n",
    "ymax = max(coherences)\n",
    "xpos = coherences.index(ymax)\n",
    "best_k = k_values[xpos]\n",
    "plt.annotate( \"k=%d\" % best_k, xy=(best_k, ymax), xytext=(best_k, ymax), textcoords=\"offset points\", fontsize=16)\n",
    "\n",
    "# show the plot\n",
    "plt.show()"
   ]
  },
  {
   "cell_type": "markdown",
   "metadata": {},
   "source": [
    "### Examine the Final  Model"
   ]
  },
  {
   "cell_type": "markdown",
   "metadata": {},
   "source": [
    "The plot above suggests that the most appropriate value for the number of topics is *k=8*."
   ]
  },
  {
   "cell_type": "code",
   "execution_count": 38,
   "metadata": {
    "ExecuteTime": {
     "end_time": "2021-03-17T02:57:12.528825Z",
     "start_time": "2021-03-17T02:57:12.524943Z"
    }
   },
   "outputs": [],
   "source": [
    "k = 20 # best_k\n",
    "\n",
    "# get the model that we generated earlier.\n",
    "W = topic_models[3][1]\n",
    "H = topic_models[3][2]"
   ]
  },
  {
   "cell_type": "markdown",
   "metadata": {},
   "source": [
    "Display the topic descriptors for this model:"
   ]
  },
  {
   "cell_type": "code",
   "execution_count": 39,
   "metadata": {
    "ExecuteTime": {
     "end_time": "2021-03-17T02:57:13.618032Z",
     "start_time": "2021-03-17T02:57:13.562249Z"
    }
   },
   "outputs": [
    {
     "name": "stdout",
     "output_type": "stream",
     "text": [
      "Topic 01: happy, internationalwomensday, ladies, peakyblinders, sisters\n",
      "Topic 02: day, international, happy, women, womens\n",
      "Topic 03: women, amazing, incredible, celebrate, strong\n",
      "Topic 04: today, justice, societies, celebrations, equity\n",
      "Topic 05: elect, respect, black, believe, position\n",
      "Topic 06: womens, fine, dedicating, international, woman\n",
      "Topic 07: happywomensday2020, day, happywomensday, let, ladies\n",
      "Topic 08: iwd2020, eachforequal, generationequality, equality, let\n",
      "Topic 09: womensday, power, make, define, difference\n",
      "Topic 10: best, compost, turn, ever, thing\n",
      "Topic 11: need, wondered, poor, producing, earn\n",
      "Topic 12: galaxy, adventures, princess, rescuing, sometimes\n",
      "Topic 13: woman, every, internationalwomensday, believed, successful\n",
      "Topic 14: world, equal, enabled, around, across\n",
      "Topic 15: one, men, america, right, lovely\n",
      "Topic 16: back, bringing, internationalwomensday, celebrating, female\n",
      "Topic 17: love, thank, ladies, strong, much\n",
      "Topic 18: amp, girls, pop, follow, win\n",
      "Topic 19: maguvamaguva, vakeelsaab, womanhood, womensday, less\n",
      "Topic 20: everyday, celebrate, today, internationalwomensday, let\n"
     ]
    }
   ],
   "source": [
    "for topic_index in range(k):\n",
    "    descriptor = get_descriptor( terms, H, topic_index, 5)\n",
    "    str_descriptor = \", \".join( descriptor )\n",
    "    print(\"Topic %02d: %s\" % ( topic_index+1, str_descriptor ) )"
   ]
  },
  {
   "cell_type": "code",
   "execution_count": 40,
   "metadata": {
    "ExecuteTime": {
     "end_time": "2021-03-17T02:57:13.979890Z",
     "start_time": "2021-03-17T02:57:13.935453Z"
    }
   },
   "outputs": [
    {
     "name": "stdout",
     "output_type": "stream",
     "text": [
      "Topic 01: happy, internationalwomensday, ladies, peakyblinders, sisters, incredible, extraordinary, queen, everyone, doctorwho\n",
      "Topic 02: day, international, happy, women, womens, slaves, every, eachforequal, ladies, fighters\n",
      "Topic 03: women, amazing, incredible, celebrate, strong, celebrating, proud, inspire, powerful, trans\n",
      "Topic 04: today, justice, societies, celebrations, equity, congratulations, recognise, far, remember, climate\n",
      "Topic 05: elect, respect, black, believe, position, vote, please, one, woman, give\n",
      "Topic 06: womens, fine, dedicating, international, woman, day, iwd2020, shittier, gay, trans\n",
      "Topic 07: happywomensday2020, day, happywomensday, let, ladies, internationalwomenday2020, womanhood, stay, never, happy\n",
      "Topic 08: iwd2020, eachforequal, generationequality, equality, let, celebrate, female, support, iwd, generation\n",
      "Topic 09: womensday, power, make, define, difference, womensday2020, internationalwomenday2020, happy, happywomensday, women\n",
      "Topic 10: best, compost, turn, ever, thing, women, wishes, hijab, right, brag\n",
      "Topic 11: need, wondered, poor, producing, earn, case, population, feminism, parents, work\n",
      "Topic 12: galaxy, adventures, princess, rescuing, sometimes, internationalwomensday, far, away, celebrate, peach\n",
      "Topic 13: woman, every, internationalwomensday, believed, successful, behind, rights, man, human, benz\n",
      "Topic 14: world, equal, enabled, around, across, eachforequal, equality, let, gender, better\n",
      "Topic 15: one, men, america, right, lovely, drafted, afforded, except, solely, denied\n",
      "Topic 16: back, bringing, internationalwomensday, celebrating, female, message, years, iloveme, like, artists\n",
      "Topic 17: love, thank, ladies, strong, much, beautiful, may, internationalwomensday, life, thanks\n",
      "Topic 18: amp, girls, pop, follow, win, march, life, chance, giveaway, funkopop\n",
      "Topic 19: maguvamaguva, vakeelsaab, womanhood, womensday, less, powerstar, ready, get, spirit, mins\n",
      "Topic 20: everyday, celebrate, today, internationalwomensday, let, incredible, shine, girls, inspire, shoutout\n"
     ]
    }
   ],
   "source": [
    "for topic_index in range(k):\n",
    "    descriptor = get_descriptor( terms, H, topic_index, 10)\n",
    "    str_descriptor = \", \".join( descriptor )\n",
    "    print(\"Topic %02d: %s\" % ( topic_index+1, str_descriptor ) )"
   ]
  },
  {
   "cell_type": "code",
   "execution_count": 41,
   "metadata": {
    "ExecuteTime": {
     "end_time": "2021-03-17T02:57:14.101507Z",
     "start_time": "2021-03-17T02:57:14.063421Z"
    }
   },
   "outputs": [
    {
     "name": "stdout",
     "output_type": "stream",
     "text": [
      "Topic 01: happy, internationalwomensday, ladies, peakyblinders, sisters, incredible, extraordinary, queen, everyone, doctorwho, beautiful, things, iwd, amazing, favorite\n",
      "Topic 02: day, international, happy, women, womens, slaves, every, eachforequal, ladies, fighters, womxn, gigi, bryant, womensday2020, precious\n",
      "Topic 03: women, amazing, incredible, celebrate, strong, celebrating, proud, inspire, powerful, trans, life, many, may, achievements, especially\n",
      "Topic 04: today, justice, societies, celebrations, equity, congratulations, recognise, far, remember, climate, equality, want, gender, without, every\n",
      "Topic 05: elect, respect, black, believe, position, vote, please, one, woman, give, support, never, set, encourage, lift\n",
      "Topic 06: womens, fine, dedicating, international, woman, day, iwd2020, shittier, gay, trans, muslim, disabled, color, especially, even\n",
      "Topic 07: happywomensday2020, day, happywomensday, let, ladies, internationalwomenday2020, womanhood, stay, never, happy, beautiful, give, encourage, lift, brave\n",
      "Topic 08: iwd2020, eachforequal, generationequality, equality, let, celebrate, female, support, iwd, generation, gender, internationalwomenday2020, respecttacha, set, believe\n",
      "Topic 09: womensday, power, make, define, difference, womensday2020, internationalwomenday2020, happy, happywomensday, women, mother, sheinspiresus, wishing, womenempowermentbybapuji, india\n",
      "Topic 10: best, compost, turn, ever, thing, women, wishes, hijab, right, brag, got, meilleur, open, thaman, one\n",
      "Topic 11: need, wondered, poor, producing, earn, case, population, feminism, parents, work, pay, land, food, single, still\n",
      "Topic 12: galaxy, adventures, princess, rescuing, sometimes, internationalwomensday, far, away, celebrate, peach, kart, mario, ally, message, celebrating\n",
      "Topic 13: woman, every, internationalwomensday, believed, successful, behind, rights, man, human, benz, strong, inspire, bertha, forever, girl\n",
      "Topic 14: world, equal, enabled, around, across, eachforequal, equality, let, gender, better, fight, sisters, extraordinary, justice, things\n",
      "Topic 15: one, men, america, right, lovely, drafted, afforded, except, solely, denied, privilege, killed, war, sex, based\n",
      "Topic 16: back, bringing, internationalwomensday, celebrating, female, message, years, iloveme, like, artists, bond, powerful, fight, honor, girl\n",
      "Topic 17: love, thank, ladies, strong, much, beautiful, may, internationalwomensday, life, thanks, would, amazing, completion, addition, always\n",
      "Topic 18: amp, girls, pop, follow, win, march, life, chance, giveaway, funkopop, funkowomenofpower, funko, internationalwomensday, really, know\n",
      "Topic 19: maguvamaguva, vakeelsaab, womanhood, womensday, less, powerstar, ready, get, spirit, mins, powertweet, team, powerstarfans, ears, 10minutes\n",
      "Topic 20: everyday, celebrate, today, internationalwomensday, let, incredible, shine, girls, inspire, shoutout, jjba, work, thank, amazing, around\n"
     ]
    }
   ],
   "source": [
    "for topic_index in range(k):\n",
    "    descriptor = get_descriptor( terms, H, topic_index, 15)\n",
    "    str_descriptor = \", \".join( descriptor )\n",
    "    print(\"Topic %02d: %s\" % ( topic_index+1, str_descriptor ) )"
   ]
  },
  {
   "cell_type": "code",
   "execution_count": 42,
   "metadata": {
    "ExecuteTime": {
     "end_time": "2021-03-17T02:57:14.361950Z",
     "start_time": "2021-03-17T02:57:14.317958Z"
    },
    "scrolled": true
   },
   "outputs": [
    {
     "name": "stdout",
     "output_type": "stream",
     "text": [
      "Topic 01: happy, internationalwomensday, ladies, peakyblinders, sisters, incredible, extraordinary, queen, everyone, doctorwho, beautiful, things, iwd, amazing, favorite, allies, hero, johansson, scarlett, pugh\n",
      "Topic 02: day, international, happy, women, womens, slaves, every, eachforequal, ladies, fighters, womxn, gigi, bryant, womensday2020, precious, today, iwd, lahat, really, stay\n",
      "Topic 03: women, amazing, incredible, celebrate, strong, celebrating, proud, inspire, powerful, trans, life, many, may, achievements, especially, black, wonderful, rights, day, come\n",
      "Topic 04: today, justice, societies, celebrations, equity, congratulations, recognise, far, remember, climate, equality, want, gender, without, every, still, men, equal, day, internationalwomensday\n",
      "Topic 05: elect, respect, black, believe, position, vote, please, one, woman, give, support, never, set, encourage, lift, trust, eyes, let, carefully, hesitant\n",
      "Topic 06: womens, fine, dedicating, international, woman, day, iwd2020, shittier, gay, trans, muslim, disabled, color, especially, even, place, would, without, inventing, heroine\n",
      "Topic 07: happywomensday2020, day, happywomensday, let, ladies, internationalwomenday2020, womanhood, stay, never, happy, beautiful, give, encourage, lift, brave, womensday2020, wishing, powerstar, sisters, support\n",
      "Topic 08: iwd2020, eachforequal, generationequality, equality, let, celebrate, female, support, iwd, generation, gender, internationalwomenday2020, respecttacha, set, believe, thank, stand, never, give, lift\n",
      "Topic 09: womensday, power, make, define, difference, womensday2020, internationalwomenday2020, happy, happywomensday, women, mother, sheinspiresus, wishing, womenempowermentbybapuji, india, truly, sister, girl, life, womenempowerment\n",
      "Topic 10: best, compost, turn, ever, thing, women, wishes, hijab, right, brag, got, meilleur, open, thaman, one, surprise, known, yasmine, mohammed, year\n",
      "Topic 11: need, wondered, poor, producing, earn, case, population, feminism, parents, work, pay, land, food, single, still, internationalwomensday, message, iwd2020, women, believed\n",
      "Topic 12: galaxy, adventures, princess, rescuing, sometimes, internationalwomensday, far, away, celebrate, peach, kart, mario, ally, message, celebrating, play, like, using, bond, internationalwomenday2020\n",
      "Topic 13: woman, every, internationalwomensday, believed, successful, behind, rights, man, human, benz, strong, inspire, bertha, forever, girl, car, superpower, life, lives, day\n",
      "Topic 14: world, equal, enabled, around, across, eachforequal, equality, let, gender, better, fight, sisters, extraordinary, justice, things, full, girls, make, achievements, place\n",
      "Topic 15: one, men, america, right, lovely, drafted, afforded, except, solely, denied, privilege, killed, war, sex, based, single, rights, average, grants, record\n",
      "Topic 16: back, bringing, internationalwomensday, celebrating, female, message, years, iloveme, like, artists, bond, powerful, fight, honor, girl, together, bring, bbwomeninmusic, need, looking\n",
      "Topic 17: love, thank, ladies, strong, much, beautiful, may, internationalwomensday, life, thanks, would, amazing, completion, addition, always, lots, keep, like, first, know\n",
      "Topic 18: amp, girls, pop, follow, win, march, life, chance, giveaway, funkopop, funkowomenofpower, funko, internationalwomensday, really, know, special, violence, sexual, mother, strength\n",
      "Topic 19: maguvamaguva, vakeelsaab, womanhood, womensday, less, powerstar, ready, get, spirit, mins, powertweet, team, powerstarfans, ears, 10minutes, dear, lyrics, friends, tribute, celebrating\n",
      "Topic 20: everyday, celebrate, today, internationalwomensday, let, incredible, shine, girls, inspire, shoutout, jjba, work, thank, amazing, around, ways, forget, repecttacha, brilliant, uplift\n"
     ]
    }
   ],
   "source": [
    "for topic_index in range(k):\n",
    "    descriptor = get_descriptor( terms, H, topic_index, 20)\n",
    "    str_descriptor = \", \".join( descriptor )\n",
    "    print(\"Topic %02d: %s\" % ( topic_index+1, str_descriptor ) )"
   ]
  },
  {
   "cell_type": "code",
   "execution_count": null,
   "metadata": {},
   "outputs": [],
   "source": []
  },
  {
   "cell_type": "code",
   "execution_count": null,
   "metadata": {},
   "outputs": [],
   "source": []
  }
 ],
 "metadata": {
  "@webio": {
   "lastCommId": null,
   "lastKernelId": null
  },
  "kernelspec": {
   "display_name": "Python 3",
   "language": "python",
   "name": "python3"
  },
  "language_info": {
   "codemirror_mode": {
    "name": "ipython",
    "version": 3
   },
   "file_extension": ".py",
   "mimetype": "text/x-python",
   "name": "python",
   "nbconvert_exporter": "python",
   "pygments_lexer": "ipython3",
   "version": "3.7.7"
  },
  "toc": {
   "base_numbering": 1,
   "nav_menu": {
    "height": "91px",
    "width": "373px"
   },
   "number_sections": true,
   "sideBar": true,
   "skip_h1_title": false,
   "title_cell": "Table of Contents",
   "title_sidebar": "Contents",
   "toc_cell": false,
   "toc_position": {
    "height": "557px",
    "left": "22px",
    "top": "170px",
    "width": "288px"
   },
   "toc_section_display": true,
   "toc_window_display": false
  }
 },
 "nbformat": 4,
 "nbformat_minor": 4
}
