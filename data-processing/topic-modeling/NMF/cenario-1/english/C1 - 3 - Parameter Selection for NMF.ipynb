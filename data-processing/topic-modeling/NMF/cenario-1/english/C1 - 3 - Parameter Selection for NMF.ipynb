{
 "cells": [
  {
   "cell_type": "markdown",
   "metadata": {},
   "source": [
    "# Parameter Selection for NMF"
   ]
  },
  {
   "cell_type": "markdown",
   "metadata": {},
   "source": [
    "Now we look at the more advanced task of parameter selection for NMF topic modelling - namely, selecting a useful value for the number of topics *k*."
   ]
  },
  {
   "cell_type": "markdown",
   "metadata": {},
   "source": [
    "First, let's load the TF-IDF normalised document-term matrix and list of terms that we stored earlier using *Joblib*:"
   ]
  },
  {
   "cell_type": "code",
   "execution_count": 1,
   "metadata": {
    "ExecuteTime": {
     "end_time": "2021-05-19T00:21:38.948174Z",
     "start_time": "2021-05-19T00:21:31.579119Z"
    }
   },
   "outputs": [
    {
     "name": "stdout",
     "output_type": "stream",
     "text": [
      "Loaded 2452640 X 29011 document-term matrix\n"
     ]
    }
   ],
   "source": [
    "import joblib\n",
    "\n",
    "(A, terms, snippets) = joblib.load(\"21cenario1-tweets-tfidf.pkl\")\n",
    "\n",
    "print(\"Loaded %d X %d document-term matrix\" % (A.shape[0], A.shape[1]))"
   ]
  },
  {
   "cell_type": "markdown",
   "metadata": {},
   "source": [
    "### Create the Topic Models"
   ]
  },
  {
   "cell_type": "markdown",
   "metadata": {},
   "source": [
    "A common approach for parameter selection is to Measure and compare the topic coherence of models generated for different values of *k*."
   ]
  },
  {
   "cell_type": "markdown",
   "metadata": {},
   "source": [
    "We need to start by pre-specifying an initial range of \"sensible\" values:"
   ]
  },
  {
   "cell_type": "code",
   "execution_count": 2,
   "metadata": {
    "ExecuteTime": {
     "end_time": "2021-05-19T00:21:38.951843Z",
     "start_time": "2021-05-19T00:21:38.949737Z"
    }
   },
   "outputs": [],
   "source": [
    "kmin, kmax = 5, 20"
   ]
  },
  {
   "cell_type": "markdown",
   "metadata": {},
   "source": [
    "Apply NMF for each of these values:"
   ]
  },
  {
   "cell_type": "code",
   "execution_count": 3,
   "metadata": {
    "ExecuteTime": {
     "end_time": "2021-05-19T00:32:21.300874Z",
     "start_time": "2021-05-19T00:21:38.952973Z"
    }
   },
   "outputs": [
    {
     "name": "stdout",
     "output_type": "stream",
     "text": [
      "Applying NMF for k=5 ...\n",
      "Applying NMF for k=10 ...\n",
      "Applying NMF for k=15 ...\n",
      "Applying NMF for k=20 ...\n"
     ]
    }
   ],
   "source": [
    "from sklearn import decomposition\n",
    "\n",
    "topic_models = []\n",
    "\n",
    "# try each value of k\n",
    "for k in [5,10,15,20]: #range(kmin, kmax + 1):\n",
    "    print(\"Applying NMF for k=%d ...\" % k)\n",
    "    # run NMF\n",
    "    model = decomposition.NMF(init=\"nndsvd\", n_components=k)\n",
    "    W = model.fit_transform(A)\n",
    "    H = model.components_\n",
    "    # store for later\n",
    "    topic_models.append((k, W, H))"
   ]
  },
  {
   "cell_type": "markdown",
   "metadata": {},
   "source": [
    "### Build a Word Embedding"
   ]
  },
  {
   "cell_type": "markdown",
   "metadata": {},
   "source": [
    "To select the number of topics, here we will use a *topic coherence* measure called TC-W2V. This measure relies on the use of a *word embedding* model constructed from our corpus. So in this step we will use the *Gensim* implementation of Word2Vec to build a Word2Vec model based on our collection of news articles."
   ]
  },
  {
   "cell_type": "markdown",
   "metadata": {},
   "source": [
    "**Note:** If you want to skip this step, a pre-built Word2Vec model for the sample dataset [is also provided here for download](http://erdos.ucd.ie/files/pydata/w2v-model.bin) (71MB)."
   ]
  },
  {
   "cell_type": "markdown",
   "metadata": {},
   "source": [
    "We read the documents from the input file again:"
   ]
  },
  {
   "cell_type": "code",
   "execution_count": 4,
   "metadata": {
    "ExecuteTime": {
     "end_time": "2021-05-19T00:32:22.724387Z",
     "start_time": "2021-05-19T00:32:21.302439Z"
    }
   },
   "outputs": [
    {
     "name": "stdout",
     "output_type": "stream",
     "text": [
      "Read 2452640 raw text documents\n"
     ]
    }
   ],
   "source": [
    "import os.path\n",
    "\n",
    "raw_documents = []\n",
    "\n",
    "with open(os.path.join(\"cenario1_8M2021_tweets_en.txt\"), \"r\") as fin:\n",
    "    for line in fin.readlines():\n",
    "        raw_documents.append(line.strip().lower())\n",
    "\n",
    "print(\"Read %d raw text documents\" % len(raw_documents))"
   ]
  },
  {
   "cell_type": "markdown",
   "metadata": {},
   "source": [
    "Read the custom stopword list:"
   ]
  },
  {
   "cell_type": "code",
   "execution_count": 5,
   "metadata": {
    "ExecuteTime": {
     "end_time": "2021-05-19T00:32:22.729424Z",
     "start_time": "2021-05-19T00:32:22.725780Z"
    }
   },
   "outputs": [
    {
     "name": "stdout",
     "output_type": "stream",
     "text": [
      "Stopword list has 179 entries\n"
     ]
    }
   ],
   "source": [
    "custom_stop_words = []\n",
    "\n",
    "with open(\"english.txt\", \"r\") as fin:\n",
    "    for line in fin.readlines():\n",
    "        custom_stop_words.append(line.strip().lower())\n",
    "\n",
    "# note that we need to make it hashable\n",
    "print(\"Stopword list has %d entries\" % len(custom_stop_words))"
   ]
  },
  {
   "cell_type": "markdown",
   "metadata": {},
   "source": [
    "First, we need to define a class that will generate documents in a form that can be consumed by Gensim's Word2Vec implementation:"
   ]
  },
  {
   "cell_type": "code",
   "execution_count": 6,
   "metadata": {
    "ExecuteTime": {
     "end_time": "2021-05-19T00:32:22.739050Z",
     "start_time": "2021-05-19T00:32:22.730636Z"
    }
   },
   "outputs": [],
   "source": [
    "import re\n",
    "\n",
    "\n",
    "class TokenGenerator:\n",
    "    def __init__(self, documents, stopwords):\n",
    "        self.documents = documents\n",
    "        self.stopwords = stopwords\n",
    "        self.tokenizer = re.compile(r\"(?u)\\b\\w\\w+\\b\")\n",
    "\n",
    "    def __iter__(self):\n",
    "        print(\"Building Word2Vec model ...\")\n",
    "        for doc in self.documents:\n",
    "            tokens = []\n",
    "            for tok in self.tokenizer.findall(doc):\n",
    "                if tok in self.stopwords:\n",
    "                    tokens.append(\"<stopword>\")\n",
    "                elif len(tok) >= 2:\n",
    "                    tokens.append(tok)\n",
    "            yield tokens"
   ]
  },
  {
   "cell_type": "markdown",
   "metadata": {},
   "source": [
    "Now build a Skipgram Word2Vec model from all documents in the input file using *Gensim*:"
   ]
  },
  {
   "cell_type": "code",
   "execution_count": 7,
   "metadata": {
    "ExecuteTime": {
     "end_time": "2021-05-19T00:32:23.022378Z",
     "start_time": "2021-05-19T00:32:22.741151Z"
    }
   },
   "outputs": [],
   "source": [
    "import gensim"
   ]
  },
  {
   "cell_type": "code",
   "execution_count": 8,
   "metadata": {
    "ExecuteTime": {
     "end_time": "2021-05-19T00:49:22.891900Z",
     "start_time": "2021-05-19T00:32:23.024186Z"
    }
   },
   "outputs": [
    {
     "name": "stdout",
     "output_type": "stream",
     "text": [
      "Building Word2Vec model ...\n",
      "Building Word2Vec model ...\n",
      "Building Word2Vec model ...\n",
      "Building Word2Vec model ...\n",
      "Building Word2Vec model ...\n",
      "Building Word2Vec model ...\n"
     ]
    }
   ],
   "source": [
    "docgen = TokenGenerator(raw_documents, custom_stop_words)\n",
    "\n",
    "# the model has 500 dimensions, the minimum document-term frequency is 20\n",
    "w2v_model = gensim.models.Word2Vec(docgen, size=500, min_count=20, sg=1)"
   ]
  },
  {
   "cell_type": "code",
   "execution_count": 9,
   "metadata": {
    "ExecuteTime": {
     "end_time": "2021-05-19T00:49:22.895955Z",
     "start_time": "2021-05-19T00:49:22.893264Z"
    }
   },
   "outputs": [
    {
     "name": "stdout",
     "output_type": "stream",
     "text": [
      "Model has 29431 terms\n"
     ]
    }
   ],
   "source": [
    "print( \"Model has %d terms\" % len(w2v_model.wv.vocab) )"
   ]
  },
  {
   "cell_type": "markdown",
   "metadata": {},
   "source": [
    "Save for later use, so that we do not need to rebuild it:"
   ]
  },
  {
   "cell_type": "code",
   "execution_count": 10,
   "metadata": {
    "ExecuteTime": {
     "end_time": "2021-05-19T00:49:23.084370Z",
     "start_time": "2021-05-19T00:49:22.897278Z"
    }
   },
   "outputs": [],
   "source": [
    "w2v_model.save(\"21cenario1_w2v-model.bin\")"
   ]
  },
  {
   "cell_type": "code",
   "execution_count": 11,
   "metadata": {
    "ExecuteTime": {
     "end_time": "2021-05-19T00:49:23.087364Z",
     "start_time": "2021-05-19T00:49:23.085708Z"
    }
   },
   "outputs": [],
   "source": [
    "# To re-load this model, run\n",
    "# w2v_model = gensim.models.Word2Vec.load(\"cenario1_w2v-model.bin\")"
   ]
  },
  {
   "cell_type": "markdown",
   "metadata": {},
   "source": [
    "### Selecting the Number of Topics"
   ]
  },
  {
   "cell_type": "markdown",
   "metadata": {},
   "source": [
    "Once we have our Word2vec model, we can use it as part of our *topic coherence* approach to evaluate the different NMF topic models that we created previously. To do this, we will implement a simple version of the TC-W2V coherence measure."
   ]
  },
  {
   "cell_type": "markdown",
   "metadata": {},
   "source": [
    "We use the Word2vec model to calculate coherence scores for each of these models. We will define this coherence score as follows:"
   ]
  },
  {
   "cell_type": "code",
   "execution_count": 12,
   "metadata": {
    "ExecuteTime": {
     "end_time": "2021-05-19T00:49:23.096874Z",
     "start_time": "2021-05-19T00:49:23.088482Z"
    }
   },
   "outputs": [],
   "source": [
    "def calculate_coherence(w2v_model, term_rankings):\n",
    "    overall_coherence = 0.0\n",
    "    \n",
    "    for topic_index in range(len(term_rankings)):\n",
    "        # check each pair of terms\n",
    "        pair_scores = []\n",
    "        for pair in combinations(term_rankings[topic_index], 2):\n",
    "            pair_scores.append(w2v_model.similarity(pair[0], pair[1]))\n",
    "        # get the mean for all pairs in this topic\n",
    "        topic_score = sum(pair_scores) / len(pair_scores)\n",
    "        overall_coherence += topic_score\n",
    "    \n",
    "    # get the mean score across all topics\n",
    "    return overall_coherence / len(term_rankings)"
   ]
  },
  {
   "cell_type": "markdown",
   "metadata": {},
   "source": [
    "We also define a function to get the topic descriptor (i.e. list of top terms) for each topic:"
   ]
  },
  {
   "cell_type": "code",
   "execution_count": 13,
   "metadata": {
    "ExecuteTime": {
     "end_time": "2021-05-19T00:49:23.106634Z",
     "start_time": "2021-05-19T00:49:23.098070Z"
    }
   },
   "outputs": [],
   "source": [
    "import numpy as np\n",
    "\n",
    "\n",
    "def get_descriptor(all_terms, H, topic_index, top):\n",
    "    # reverse sort the values to sort the indices\n",
    "    top_indices = np.argsort(H[topic_index, :])[::-1]\n",
    "    \n",
    "    # now get the terms corresponding to the top-ranked indices\n",
    "    top_terms = []\n",
    "    \n",
    "    for term_index in top_indices[0:top]:\n",
    "        top_terms.append(all_terms[term_index])\n",
    "    \n",
    "    return top_terms"
   ]
  },
  {
   "cell_type": "markdown",
   "metadata": {},
   "source": [
    "Now process each of the models for different values of *k*:"
   ]
  },
  {
   "cell_type": "code",
   "execution_count": 14,
   "metadata": {
    "ExecuteTime": {
     "end_time": "2021-05-19T00:49:23.261711Z",
     "start_time": "2021-05-19T00:49:23.107835Z"
    }
   },
   "outputs": [
    {
     "name": "stdout",
     "output_type": "stream",
     "text": [
      "K=05: Coherence=0.1961\n",
      "K=10: Coherence=0.1819\n",
      "K=15: Coherence=0.1781\n",
      "K=20: Coherence=0.1852\n"
     ]
    },
    {
     "name": "stderr",
     "output_type": "stream",
     "text": [
      "/home/gean/anaconda3/lib/python3.7/site-packages/ipykernel_launcher.py:8: DeprecationWarning: Call to deprecated `similarity` (Method will be removed in 4.0.0, use self.wv.similarity() instead).\n",
      "  \n"
     ]
    }
   ],
   "source": [
    "from itertools import combinations\n",
    "\n",
    "k_values = []\n",
    "coherences = []\n",
    "\n",
    "for (k, W, H) in topic_models:\n",
    "    # Get all of the topic descriptors - the term_rankings, based on top 10 terms\n",
    "    term_rankings = []\n",
    "    \n",
    "    for topic_index in range(k):\n",
    "        term_rankings.append(get_descriptor(terms, H, topic_index, 10))\n",
    "    \n",
    "    # Now calculate the coherence based on our Word2vec model\n",
    "    k_values.append(k)\n",
    "    coherences.append(calculate_coherence(w2v_model, term_rankings))\n",
    "    \n",
    "    print(\"K=%02d: Coherence=%.4f\" % (k, coherences[-1]))\n",
    "    # print(f'{coherences[-1]:.4f}')"
   ]
  },
  {
   "cell_type": "markdown",
   "metadata": {},
   "source": [
    "We can now use *matplotlib* to generate a line plot of these coherence scores, to help us select an appropriate value."
   ]
  },
  {
   "cell_type": "code",
   "execution_count": 15,
   "metadata": {
    "ExecuteTime": {
     "end_time": "2021-05-19T00:49:23.416144Z",
     "start_time": "2021-05-19T00:49:23.262965Z"
    }
   },
   "outputs": [],
   "source": [
    "%matplotlib inline\n",
    "import matplotlib\n",
    "import matplotlib.pyplot as plt\n",
    "\n",
    "plt.style.use(\"ggplot\")\n",
    "matplotlib.rcParams.update({\"font.size\": 14})"
   ]
  },
  {
   "cell_type": "code",
   "execution_count": 16,
   "metadata": {
    "ExecuteTime": {
     "end_time": "2021-05-19T00:49:23.741939Z",
     "start_time": "2021-05-19T00:49:23.417401Z"
    }
   },
   "outputs": [
    {
     "data": {
      "image/png": "[encoded data removed]",
      "text/plain": [
       "<Figure size 936x504 with 1 Axes>"
      ]
     },
     "metadata": {},
     "output_type": "display_data"
    }
   ],
   "source": [
    "fig = plt.figure(figsize=(13,7))\n",
    "\n",
    "# create the line plot\n",
    "ax = plt.plot( k_values, coherences )\n",
    "plt.xticks(k_values)\n",
    "plt.xlabel(\"Number of Topics\")\n",
    "plt.ylabel(\"Mean Coherence\")\n",
    "\n",
    "# add the points\n",
    "plt.scatter( k_values, coherences, s=120)\n",
    "\n",
    "\n",
    "# find and annotate the maximum point on the plot\n",
    "ymax = max(coherences)\n",
    "xpos = coherences.index(ymax)\n",
    "best_k = k_values[xpos]\n",
    "plt.annotate( \"k=%d\" % best_k, xy=(best_k, ymax), xytext=(best_k, ymax), textcoords=\"offset points\", fontsize=16)\n",
    "\n",
    "# show the plot\n",
    "plt.show()"
   ]
  },
  {
   "cell_type": "markdown",
   "metadata": {},
   "source": [
    "### Examine the Final  Model"
   ]
  },
  {
   "cell_type": "markdown",
   "metadata": {},
   "source": [
    "The plot above suggests that the most appropriate value for the number of topics is *k=8*."
   ]
  },
  {
   "cell_type": "markdown",
   "metadata": {},
   "source": [
    "# 5"
   ]
  },
  {
   "cell_type": "code",
   "execution_count": 17,
   "metadata": {
    "ExecuteTime": {
     "end_time": "2021-05-19T00:49:23.745957Z",
     "start_time": "2021-05-19T00:49:23.743225Z"
    }
   },
   "outputs": [],
   "source": [
    "k = 5 # best_k\n",
    "\n",
    "# get the model that we generated earlier.\n",
    "W = topic_models[0][1]\n",
    "H = topic_models[0][2]"
   ]
  },
  {
   "cell_type": "markdown",
   "metadata": {},
   "source": [
    "Display the topic descriptors for this model:"
   ]
  },
  {
   "cell_type": "code",
   "execution_count": 18,
   "metadata": {
    "ExecuteTime": {
     "end_time": "2021-05-19T00:49:23.763947Z",
     "start_time": "2021-05-19T00:49:23.747224Z"
    }
   },
   "outputs": [
    {
     "name": "stdout",
     "output_type": "stream",
     "text": [
      "Topic 01: happy, beautiful, westview, ladies, day\n",
      "Topic 02: day, international, women, march, men\n",
      "Topic 03: pleasant, whatever, reason, trans, able\n",
      "Topic 04: women, world, celebrate, today, amp\n",
      "Topic 05: woman, god, every, love, mother\n"
     ]
    }
   ],
   "source": [
    "for topic_index in range(k):\n",
    "    descriptor = get_descriptor( terms, H, topic_index, 5)\n",
    "    str_descriptor = \", \".join( descriptor )\n",
    "    print(\"Topic %02d: %s\" % ( topic_index+1, str_descriptor ) )"
   ]
  },
  {
   "cell_type": "code",
   "execution_count": 19,
   "metadata": {
    "ExecuteTime": {
     "end_time": "2021-05-19T00:49:23.776338Z",
     "start_time": "2021-05-19T00:49:23.765165Z"
    }
   },
   "outputs": [
    {
     "name": "stdout",
     "output_type": "stream",
     "text": [
      "Topic 01: happy, beautiful, westview, ladies, day, strong, powerful, wishing, queens, character\n",
      "Topic 02: day, international, women, march, men, trans, great, womens, reminder, stepping\n",
      "Topic 03: pleasant, whatever, reason, trans, able, wish, come, girls, international, reminder\n",
      "Topic 04: women, world, celebrate, today, amp, amazing, thank, around, let, every\n",
      "Topic 05: woman, god, every, love, mother, abundance, strength, thank, day, today\n"
     ]
    }
   ],
   "source": [
    "for topic_index in range(k):\n",
    "    descriptor = get_descriptor( terms, H, topic_index, 10)\n",
    "    str_descriptor = \", \".join( descriptor )\n",
    "    print(\"Topic %02d: %s\" % ( topic_index+1, str_descriptor ) )"
   ]
  },
  {
   "cell_type": "code",
   "execution_count": 20,
   "metadata": {
    "ExecuteTime": {
     "end_time": "2021-05-19T00:49:23.788709Z",
     "start_time": "2021-05-19T00:49:23.777551Z"
    }
   },
   "outputs": [
    {
     "name": "stdout",
     "output_type": "stream",
     "text": [
      "Topic 01: happy, beautiful, westview, ladies, day, strong, powerful, wishing, queens, character, bitches, fiction, everyone, looked, iwd\n",
      "Topic 02: day, international, women, march, men, trans, great, womens, reminder, stepping, every, help, like, congratulations, feel\n",
      "Topic 03: pleasant, whatever, reason, trans, able, wish, come, girls, international, reminder, women, help, black, free, petitions\n",
      "Topic 04: women, world, celebrate, today, amp, amazing, thank, around, let, every, celebrating, strong, honor, girls, gender\n",
      "Topic 05: woman, god, every, love, mother, abundance, strength, thank, day, today, wonderful, ever, earth, teachings, life\n"
     ]
    }
   ],
   "source": [
    "for topic_index in range(k):\n",
    "    descriptor = get_descriptor( terms, H, topic_index, 15)\n",
    "    str_descriptor = \", \".join( descriptor )\n",
    "    print(\"Topic %02d: %s\" % ( topic_index+1, str_descriptor ) )"
   ]
  },
  {
   "cell_type": "code",
   "execution_count": 21,
   "metadata": {
    "ExecuteTime": {
     "end_time": "2021-05-19T00:49:23.801189Z",
     "start_time": "2021-05-19T00:49:23.789897Z"
    },
    "scrolled": true
   },
   "outputs": [
    {
     "name": "stdout",
     "output_type": "stream",
     "text": [
      "Topic 01: happy, beautiful, westview, ladies, day, strong, powerful, wishing, queens, character, bitches, fiction, everyone, looked, iwd, women, incredible, bad, female, love\n",
      "Topic 02: day, international, women, march, men, trans, great, womens, reminder, stepping, every, help, like, congratulations, feel, petitions, tweets, ladies, one, celebrating\n",
      "Topic 03: pleasant, whatever, reason, trans, able, wish, come, girls, international, reminder, women, help, black, free, petitions, tweets, feel, leave, especially, simple\n",
      "Topic 04: women, world, celebrate, today, amp, amazing, thank, around, let, every, celebrating, strong, honor, girls, gender, support, playlist, stream, curated, work\n",
      "Topic 05: woman, god, every, love, mother, abundance, strength, thank, day, today, wonderful, ever, earth, teachings, life, influential, growing, guidance, care, strong\n"
     ]
    }
   ],
   "source": [
    "for topic_index in range(k):\n",
    "    descriptor = get_descriptor( terms, H, topic_index, 20)\n",
    "    str_descriptor = \", \".join( descriptor )\n",
    "    print(\"Topic %02d: %s\" % ( topic_index+1, str_descriptor ) )"
   ]
  },
  {
   "cell_type": "markdown",
   "metadata": {},
   "source": [
    "# 10"
   ]
  },
  {
   "cell_type": "code",
   "execution_count": 22,
   "metadata": {
    "ExecuteTime": {
     "end_time": "2021-05-19T00:49:23.804746Z",
     "start_time": "2021-05-19T00:49:23.802432Z"
    }
   },
   "outputs": [],
   "source": [
    "k = 10 # best_k\n",
    "\n",
    "# get the model that we generated earlier.\n",
    "W = topic_models[1][1]\n",
    "H = topic_models[1][2]"
   ]
  },
  {
   "cell_type": "code",
   "execution_count": 23,
   "metadata": {
    "ExecuteTime": {
     "end_time": "2021-05-19T00:49:23.829984Z",
     "start_time": "2021-05-19T00:49:23.805919Z"
    }
   },
   "outputs": [
    {
     "name": "stdout",
     "output_type": "stream",
     "text": [
      "Topic 01: happy, day, beautiful, ladies, westview\n",
      "Topic 02: international, day, women, march, men\n",
      "Topic 03: pleasant, whatever, reason, trans, able\n",
      "Topic 04: women, celebrating, support, world, work\n",
      "Topic 05: woman, god, abundance, mother, wonderful\n",
      "Topic 06: amazing, womens, playlist, curated, stream\n",
      "Topic 07: thank, around, world, continued, keeping\n",
      "Topic 08: every, today, day, strength, celebrate\n",
      "Topic 09: amp, gender, equality, let, challenge\n",
      "Topic 10: love, may, strong, know, much\n"
     ]
    }
   ],
   "source": [
    "for topic_index in range(k):\n",
    "    descriptor = get_descriptor( terms, H, topic_index, 5)\n",
    "    str_descriptor = \", \".join( descriptor )\n",
    "    print(\"Topic %02d: %s\" % ( topic_index+1, str_descriptor ) )"
   ]
  },
  {
   "cell_type": "code",
   "execution_count": 24,
   "metadata": {
    "ExecuteTime": {
     "end_time": "2021-05-19T00:49:23.849928Z",
     "start_time": "2021-05-19T00:49:23.831218Z"
    }
   },
   "outputs": [
    {
     "name": "stdout",
     "output_type": "stream",
     "text": [
      "Topic 01: happy, day, beautiful, ladies, westview, powerful, women, bitches, wishing, bad\n",
      "Topic 02: international, day, women, march, men, stepping, like, great, congratulations, ladies\n",
      "Topic 03: pleasant, whatever, reason, trans, able, wish, come, girls, international, reminder\n",
      "Topic 04: women, celebrating, support, world, work, trans, strong, westview, respect, life\n",
      "Topic 05: woman, god, abundance, mother, wonderful, ever, teachings, earth, thank, influential\n",
      "Topic 06: amazing, womens, playlist, curated, stream, world, honor, celebrate, around, bitches\n",
      "Topic 07: thank, around, world, continued, keeping, healthy, supports, vital, tirelessly, worked\n",
      "Topic 08: every, today, day, strength, celebrate, everyday, inspire, life, screen, continually\n",
      "Topic 09: amp, gender, equality, let, challenge, beautiful, female, powerful, future, join\n",
      "Topic 10: love, may, strong, know, much, beautiful, raise, ladies, queens, queen\n"
     ]
    }
   ],
   "source": [
    "for topic_index in range(k):\n",
    "    descriptor = get_descriptor( terms, H, topic_index, 10)\n",
    "    str_descriptor = \", \".join( descriptor )\n",
    "    print(\"Topic %02d: %s\" % ( topic_index+1, str_descriptor ) )"
   ]
  },
  {
   "cell_type": "code",
   "execution_count": 25,
   "metadata": {
    "ExecuteTime": {
     "end_time": "2021-05-19T00:49:23.871442Z",
     "start_time": "2021-05-19T00:49:23.852455Z"
    }
   },
   "outputs": [
    {
     "name": "stdout",
     "output_type": "stream",
     "text": [
      "Topic 01: happy, day, beautiful, ladies, westview, powerful, women, bitches, wishing, bad, everyone, character, female, fiction, looked\n",
      "Topic 02: international, day, women, march, men, stepping, like, great, congratulations, ladies, help, badge, feel, earned, petitions\n",
      "Topic 03: pleasant, whatever, reason, trans, able, wish, come, girls, international, reminder, women, help, black, petitions, free\n",
      "Topic 04: women, celebrating, support, world, work, trans, strong, westview, respect, life, incredible, many, rights, across, show\n",
      "Topic 05: woman, god, abundance, mother, wonderful, ever, teachings, earth, thank, influential, growing, stands, guidance, care, courage\n",
      "Topic 06: amazing, womens, playlist, curated, stream, world, honor, celebrate, around, bitches, bad, achievements, ros, challenge, today\n",
      "Topic 07: thank, around, world, continued, keeping, healthy, supports, vital, tirelessly, worked, services, special, ensure, safe, covid\n",
      "Topic 08: every, today, day, strength, celebrate, everyday, inspire, life, screen, continually, single, incredible, shine, make, queen\n",
      "Topic 09: amp, gender, equality, let, challenge, beautiful, female, powerful, future, join, equal, change, choose, follow, girls\n",
      "Topic 10: love, may, strong, know, much, beautiful, raise, ladies, queens, queen, mother, always, sendin, mad, praises\n"
     ]
    }
   ],
   "source": [
    "for topic_index in range(k):\n",
    "    descriptor = get_descriptor( terms, H, topic_index, 15)\n",
    "    str_descriptor = \", \".join( descriptor )\n",
    "    print(\"Topic %02d: %s\" % ( topic_index+1, str_descriptor ) )"
   ]
  },
  {
   "cell_type": "code",
   "execution_count": 26,
   "metadata": {
    "ExecuteTime": {
     "end_time": "2021-05-19T00:49:23.891465Z",
     "start_time": "2021-05-19T00:49:23.872817Z"
    }
   },
   "outputs": [
    {
     "name": "stdout",
     "output_type": "stream",
     "text": [
      "Topic 01: happy, day, beautiful, ladies, westview, powerful, women, bitches, wishing, bad, everyone, character, female, fiction, looked, iwd, queens, amazing, woman, incredible\n",
      "Topic 02: international, day, women, march, men, stepping, like, great, congratulations, ladies, help, badge, feel, earned, petitions, one, tweets, name, wonderful, pretty\n",
      "Topic 03: pleasant, whatever, reason, trans, able, wish, come, girls, international, reminder, women, help, black, petitions, free, feel, tweets, leave, thinking, simple\n",
      "Topic 04: women, celebrating, support, world, work, trans, strong, westview, respect, life, incredible, many, rights, across, show, history, power, today, celebrate, empowerment\n",
      "Topic 05: woman, god, abundance, mother, wonderful, ever, teachings, earth, thank, influential, growing, stands, guidance, care, courage, name, life, strength, wonder, man\n",
      "Topic 06: amazing, womens, playlist, curated, stream, world, honor, celebrate, around, bitches, bad, achievements, ros, challenge, today, make, better, songs, music, work\n",
      "Topic 07: thank, around, world, continued, keeping, healthy, supports, vital, tirelessly, worked, services, special, ensure, safe, covid, young, let, girls, celebrate, women\n",
      "Topic 08: every, today, day, strength, celebrate, everyday, inspire, life, screen, continually, single, incredible, shine, make, queen, join, lives, year, princess, without\n",
      "Topic 09: amp, gender, equality, let, challenge, beautiful, female, powerful, future, join, equal, change, choose, follow, girls, world, bias, celebrate, inequality, chance\n",
      "Topic 10: love, may, strong, know, much, beautiful, raise, ladies, queens, queen, mother, always, sendin, mad, praises, princess, respect, thank, deserve, world\n"
     ]
    }
   ],
   "source": [
    "for topic_index in range(k):\n",
    "    descriptor = get_descriptor( terms, H, topic_index, 20)\n",
    "    str_descriptor = \", \".join( descriptor )\n",
    "    print(\"Topic %02d: %s\" % ( topic_index+1, str_descriptor ) )"
   ]
  },
  {
   "cell_type": "markdown",
   "metadata": {},
   "source": [
    "# 15"
   ]
  },
  {
   "cell_type": "code",
   "execution_count": 27,
   "metadata": {
    "ExecuteTime": {
     "end_time": "2021-05-19T00:49:23.895097Z",
     "start_time": "2021-05-19T00:49:23.892676Z"
    }
   },
   "outputs": [],
   "source": [
    "k = 15 # best_k\n",
    "\n",
    "# get the model that we generated earlier.\n",
    "W = topic_models[2][1]\n",
    "H = topic_models[2][2]"
   ]
  },
  {
   "cell_type": "code",
   "execution_count": 28,
   "metadata": {
    "ExecuteTime": {
     "end_time": "2021-05-19T00:49:23.927917Z",
     "start_time": "2021-05-19T00:49:23.896274Z"
    }
   },
   "outputs": [
    {
     "name": "stdout",
     "output_type": "stream",
     "text": [
      "Topic 01: happy, day, beautiful, ladies, women\n",
      "Topic 02: international, day, women, march, men\n",
      "Topic 03: pleasant, whatever, reason, trans, able\n",
      "Topic 04: women, support, trans, work, respect\n",
      "Topic 05: woman, god, abundance, mother, wonderful\n",
      "Topic 06: amazing, womens, playlist, curated, stream\n",
      "Topic 07: thank, continued, keeping, healthy, supports\n",
      "Topic 08: every, today, day, strength, celebrate\n",
      "Topic 09: amp, beautiful, powerful, gender, follow\n",
      "Topic 10: may, strong, know, raise, beautiful\n",
      "Topic 11: world, around, bitches, bad, gender\n",
      "Topic 12: love, much, queens, ladies, respect\n",
      "Topic 13: celebrating, westview, women, today, achievements\n",
      "Topic 14: let, future, history, stop, formidable\n",
      "Topic 15: female, first, character, fiction, looked\n"
     ]
    }
   ],
   "source": [
    "for topic_index in range(k):\n",
    "    descriptor = get_descriptor( terms, H, topic_index, 5)\n",
    "    str_descriptor = \", \".join( descriptor )\n",
    "    print(\"Topic %02d: %s\" % ( topic_index+1, str_descriptor ) )"
   ]
  },
  {
   "cell_type": "code",
   "execution_count": 29,
   "metadata": {
    "ExecuteTime": {
     "end_time": "2021-05-19T00:49:23.955311Z",
     "start_time": "2021-05-19T00:49:23.929146Z"
    }
   },
   "outputs": [
    {
     "name": "stdout",
     "output_type": "stream",
     "text": [
      "Topic 01: happy, day, beautiful, ladies, women, powerful, wishing, everyone, iwd, queens\n",
      "Topic 02: international, day, women, march, men, stepping, congratulations, like, great, ladies\n",
      "Topic 03: pleasant, whatever, reason, trans, able, wish, come, girls, international, reminder\n",
      "Topic 04: women, support, trans, work, respect, life, many, incredible, celebrate, amazing\n",
      "Topic 05: woman, god, abundance, mother, wonderful, stands, ever, teachings, earth, influential\n",
      "Topic 06: amazing, womens, playlist, curated, stream, celebrate, honor, world, today, ros\n",
      "Topic 07: thank, continued, keeping, healthy, supports, vital, tirelessly, worked, services, special\n",
      "Topic 08: every, today, day, strength, celebrate, everyday, inspire, screen, continually, life\n",
      "Topic 09: amp, beautiful, powerful, gender, follow, wonder, chance, win, equality, convention\n",
      "Topic 10: may, strong, know, raise, beautiful, women, powerful, ladies, place, unknown\n",
      "Topic 11: world, around, bitches, bad, gender, challenge, equality, better, girls, change\n",
      "Topic 12: love, much, queens, ladies, respect, thank, show, mother, queen, abundance\n",
      "Topic 13: celebrating, westview, women, today, achievements, join, iwd, folx, dakota, femme\n",
      "Topic 14: let, future, history, stop, formidable, anyone, grace, capable, creating, equality\n",
      "Topic 15: female, first, character, fiction, looked, like, male, tweet, one, officers\n"
     ]
    }
   ],
   "source": [
    "for topic_index in range(k):\n",
    "    descriptor = get_descriptor( terms, H, topic_index, 10)\n",
    "    str_descriptor = \", \".join( descriptor )\n",
    "    print(\"Topic %02d: %s\" % ( topic_index+1, str_descriptor ) )"
   ]
  },
  {
   "cell_type": "code",
   "execution_count": 30,
   "metadata": {
    "ExecuteTime": {
     "end_time": "2021-05-19T00:49:23.983017Z",
     "start_time": "2021-05-19T00:49:23.956562Z"
    }
   },
   "outputs": [
    {
     "name": "stdout",
     "output_type": "stream",
     "text": [
      "Topic 01: happy, day, beautiful, ladies, women, powerful, wishing, everyone, iwd, queens, amazing, westview, woman, incredible, gals\n",
      "Topic 02: international, day, women, march, men, stepping, congratulations, like, great, ladies, badge, earned, one, feel, help\n",
      "Topic 03: pleasant, whatever, reason, trans, able, wish, come, girls, international, reminder, women, help, black, petitions, free\n",
      "Topic 04: women, support, trans, work, respect, life, many, incredible, celebrate, amazing, show, rights, across, men, empowerment\n",
      "Topic 05: woman, god, abundance, mother, wonderful, stands, ever, teachings, earth, influential, growing, guidance, care, courage, name\n",
      "Topic 06: amazing, womens, playlist, curated, stream, celebrate, honor, world, today, ros, work, achievements, songs, music, nengi\n",
      "Topic 07: thank, continued, keeping, healthy, supports, vital, tirelessly, worked, services, special, safe, young, ensure, covid, let\n",
      "Topic 08: every, today, day, strength, celebrate, everyday, inspire, screen, continually, life, single, incredible, shine, make, let\n",
      "Topic 09: amp, beautiful, powerful, gender, follow, wonder, chance, win, equality, convention, pop, exclusive, spring, challenge, girls\n",
      "Topic 10: may, strong, know, raise, beautiful, women, powerful, ladies, place, unknown, brave, one, inspiring, life, cheers\n",
      "Topic 11: world, around, bitches, bad, gender, challenge, equality, better, girls, change, equal, make, choose, achievements, sendin\n",
      "Topic 12: love, much, queens, ladies, respect, thank, show, mother, queen, abundance, sendin, mad, praises, princess, support\n",
      "Topic 13: celebrating, westview, women, today, achievements, join, iwd, folx, dakota, femme, cultural, team, especially, defending, excited\n",
      "Topic 14: let, future, history, stop, formidable, anyone, grace, capable, creating, equality, gender, women, celebrate, better, join\n",
      "Topic 15: female, first, character, fiction, looked, like, male, tweet, one, officers, delete, barracks, live, counterparts, husbands\n"
     ]
    }
   ],
   "source": [
    "for topic_index in range(k):\n",
    "    descriptor = get_descriptor( terms, H, topic_index, 15)\n",
    "    str_descriptor = \", \".join( descriptor )\n",
    "    print(\"Topic %02d: %s\" % ( topic_index+1, str_descriptor ) )"
   ]
  },
  {
   "cell_type": "code",
   "execution_count": 31,
   "metadata": {
    "ExecuteTime": {
     "end_time": "2021-05-19T00:49:24.011307Z",
     "start_time": "2021-05-19T00:49:23.984178Z"
    }
   },
   "outputs": [
    {
     "name": "stdout",
     "output_type": "stream",
     "text": [
      "Topic 01: happy, day, beautiful, ladies, women, powerful, wishing, everyone, iwd, queens, amazing, westview, woman, incredible, gals, babes, birthday, strong, inspire, queen\n",
      "Topic 02: international, day, women, march, men, stepping, congratulations, like, great, ladies, badge, earned, one, feel, help, name, hope, petitions, tweets, wonderful\n",
      "Topic 03: pleasant, whatever, reason, trans, able, wish, come, girls, international, reminder, women, help, black, petitions, free, feel, tweets, leave, simple, thinking\n",
      "Topic 04: women, support, trans, work, respect, life, many, incredible, celebrate, amazing, show, rights, across, men, empowerment, power, great, reminder, stand, pay\n",
      "Topic 05: woman, god, abundance, mother, wonderful, stands, ever, teachings, earth, influential, growing, guidance, care, courage, name, life, thank, strength, wonder, man\n",
      "Topic 06: amazing, womens, playlist, curated, stream, celebrate, honor, world, today, ros, work, achievements, songs, music, nengi, want, proud, ladies, let, listen\n",
      "Topic 07: thank, continued, keeping, healthy, supports, vital, tirelessly, worked, services, special, safe, young, ensure, covid, let, girls, celebrate, around, women, every\n",
      "Topic 08: every, today, day, strength, celebrate, everyday, inspire, screen, continually, life, single, incredible, shine, make, let, lives, year, join, without, shout\n",
      "Topic 09: amp, beautiful, powerful, gender, follow, wonder, chance, win, equality, convention, pop, exclusive, spring, challenge, girls, let, today, join, change, celebrate\n",
      "Topic 10: may, strong, know, raise, beautiful, women, powerful, ladies, place, unknown, brave, one, inspiring, life, cheers, era, perceives, keep, always, already\n",
      "Topic 11: world, around, bitches, bad, gender, challenge, equality, better, girls, change, equal, make, choose, achievements, sendin, praises, queen, mad, princess, place\n",
      "Topic 12: love, much, queens, ladies, respect, thank, show, mother, queen, abundance, sendin, mad, praises, princess, support, deserve, always, wonderful, see, loving\n",
      "Topic 13: celebrating, westview, women, today, achievements, join, iwd, folx, dakota, femme, cultural, team, especially, defending, excited, bill, binary, south, economic, soon\n",
      "Topic 14: let, future, history, stop, formidable, anyone, grace, capable, creating, equality, gender, women, celebrate, better, join, equal, siege, achieved, none, step\n",
      "Topic 15: female, first, character, fiction, looked, like, male, tweet, one, officers, delete, barracks, live, counterparts, husbands, thread, creators, work, favorite, want\n"
     ]
    }
   ],
   "source": [
    "for topic_index in range(k):\n",
    "    descriptor = get_descriptor( terms, H, topic_index, 20)\n",
    "    str_descriptor = \", \".join( descriptor )\n",
    "    print(\"Topic %02d: %s\" % ( topic_index+1, str_descriptor ) )"
   ]
  },
  {
   "cell_type": "markdown",
   "metadata": {},
   "source": [
    "# 20"
   ]
  },
  {
   "cell_type": "code",
   "execution_count": 32,
   "metadata": {
    "ExecuteTime": {
     "end_time": "2021-05-19T00:49:24.014913Z",
     "start_time": "2021-05-19T00:49:24.012490Z"
    }
   },
   "outputs": [],
   "source": [
    "k = 20 # best_k\n",
    "\n",
    "# get the model that we generated earlier.\n",
    "W = topic_models[3][1]\n",
    "H = topic_models[3][2]"
   ]
  },
  {
   "cell_type": "code",
   "execution_count": 33,
   "metadata": {
    "ExecuteTime": {
     "end_time": "2021-05-19T00:49:24.056446Z",
     "start_time": "2021-05-19T00:49:24.015995Z"
    }
   },
   "outputs": [
    {
     "name": "stdout",
     "output_type": "stream",
     "text": [
      "Topic 01: happy, day, ladies, beautiful, everyone\n",
      "Topic 02: international, day, women, march, men\n",
      "Topic 03: pleasant, whatever, reason, able, wish\n",
      "Topic 04: women, amazing, respect, day, life\n",
      "Topic 05: woman, god, abundance, mother, wonderful\n",
      "Topic 06: amazing, womens, playlist, curated, stream\n",
      "Topic 07: thank, continued, keeping, supports, healthy\n",
      "Topic 08: every, day, strength, inspire, screen\n",
      "Topic 09: amp, beautiful, powerful, gender, follow\n",
      "Topic 10: may, strong, know, raise, beautiful\n",
      "Topic 11: world, around, bitches, bad, gender\n",
      "Topic 12: love, much, ladies, queens, respect\n",
      "Topic 13: celebrating, westview, women, achievements, join\n",
      "Topic 14: let, future, history, stop, formidable\n",
      "Topic 15: today, celebrate, everyday, join, achievements\n",
      "Topic 16: female, first, character, fiction, looked\n",
      "Topic 17: work, many, across, empowerment, india\n",
      "Topic 18: support, show, sant, shri, bapu\n",
      "Topic 19: help, great, black, feel, free\n",
      "Topic 20: going, started, thread, mexico, murder\n"
     ]
    }
   ],
   "source": [
    "for topic_index in range(k):\n",
    "    descriptor = get_descriptor( terms, H, topic_index, 5)\n",
    "    str_descriptor = \", \".join( descriptor )\n",
    "    print(\"Topic %02d: %s\" % ( topic_index+1, str_descriptor ) )"
   ]
  },
  {
   "cell_type": "code",
   "execution_count": 34,
   "metadata": {
    "ExecuteTime": {
     "end_time": "2021-05-19T00:49:24.091925Z",
     "start_time": "2021-05-19T00:49:24.057721Z"
    }
   },
   "outputs": [
    {
     "name": "stdout",
     "output_type": "stream",
     "text": [
      "Topic 01: happy, day, ladies, beautiful, everyone, wishing, iwd, queens, westview, powerful\n",
      "Topic 02: international, day, women, march, men, stepping, congratulations, like, ladies, badge\n",
      "Topic 03: pleasant, whatever, reason, able, wish, trans, come, girls, women, international\n",
      "Topic 04: women, amazing, respect, day, life, trans, rights, incredible, men, power\n",
      "Topic 05: woman, god, abundance, mother, wonderful, ever, teachings, earth, stands, influential\n",
      "Topic 06: amazing, womens, playlist, curated, stream, honor, celebrate, world, work, ros\n",
      "Topic 07: thank, continued, keeping, supports, healthy, vital, tirelessly, worked, services, special\n",
      "Topic 08: every, day, strength, inspire, screen, continually, single, life, queen, today\n",
      "Topic 09: amp, beautiful, powerful, gender, follow, wonder, chance, win, convention, pop\n",
      "Topic 10: may, strong, know, raise, beautiful, women, powerful, ladies, place, unknown\n",
      "Topic 11: world, around, bitches, bad, gender, equality, challenge, better, equal, girls\n",
      "Topic 12: love, much, ladies, queens, respect, mother, thank, queen, abundance, sendin\n",
      "Topic 13: celebrating, westview, women, achievements, join, iwd, dakota, team, defending, bill\n",
      "Topic 14: let, future, history, stop, formidable, anyone, grace, capable, creating, equality\n",
      "Topic 15: today, celebrate, everyday, join, achievements, incredible, strength, let, make, thinking\n",
      "Topic 16: female, first, character, fiction, looked, like, tweet, male, one, officers\n",
      "Topic 17: work, many, across, empowerment, india, furthering, towards, nation, indomitable, accomplishments\n",
      "Topic 18: support, show, sant, shri, bapu, asharamji, innocent, gender, equality, justice\n",
      "Topic 19: help, great, black, feel, free, petitions, trans, tweets, leave, pretty\n",
      "Topic 20: going, started, thread, mexico, murder, rape, feminicide, sexual, misogony, assault\n"
     ]
    }
   ],
   "source": [
    "for topic_index in range(k):\n",
    "    descriptor = get_descriptor( terms, H, topic_index, 10)\n",
    "    str_descriptor = \", \".join( descriptor )\n",
    "    print(\"Topic %02d: %s\" % ( topic_index+1, str_descriptor ) )"
   ]
  },
  {
   "cell_type": "code",
   "execution_count": 35,
   "metadata": {
    "ExecuteTime": {
     "end_time": "2021-05-19T00:49:24.127152Z",
     "start_time": "2021-05-19T00:49:24.093160Z"
    }
   },
   "outputs": [
    {
     "name": "stdout",
     "output_type": "stream",
     "text": [
      "Topic 01: happy, day, ladies, beautiful, everyone, wishing, iwd, queens, westview, powerful, woman, incredible, gals, babes, amazing\n",
      "Topic 02: international, day, women, march, men, stepping, congratulations, like, ladies, badge, earned, name, hope, one, follow\n",
      "Topic 03: pleasant, whatever, reason, able, wish, trans, come, girls, women, international, reminder, together, thinking, simple, wakes\n",
      "Topic 04: women, amazing, respect, day, life, trans, rights, incredible, men, power, reminder, strong, pay, tweet, stand\n",
      "Topic 05: woman, god, abundance, mother, wonderful, ever, teachings, earth, stands, influential, growing, guidance, care, courage, life\n",
      "Topic 06: amazing, womens, playlist, curated, stream, honor, celebrate, world, work, ros, songs, want, music, ladies, listen\n",
      "Topic 07: thank, continued, keeping, supports, healthy, vital, tirelessly, worked, services, special, safe, covid, ensure, young, let\n",
      "Topic 08: every, day, strength, inspire, screen, continually, single, life, queen, today, sendin, praises, princess, mad, without\n",
      "Topic 09: amp, beautiful, powerful, gender, follow, wonder, chance, win, convention, pop, exclusive, spring, equality, girls, let\n",
      "Topic 10: may, strong, know, raise, beautiful, women, powerful, ladies, place, unknown, one, inspiring, era, brave, cheers\n",
      "Topic 11: world, around, bitches, bad, gender, equality, challenge, better, equal, girls, change, make, choose, achievements, sendin\n",
      "Topic 12: love, much, ladies, queens, respect, mother, thank, queen, abundance, sendin, mad, praises, princess, deserve, always\n",
      "Topic 13: celebrating, westview, women, achievements, join, iwd, dakota, team, defending, bill, excited, south, folx, soon, cultural\n",
      "Topic 14: let, future, history, stop, formidable, anyone, grace, capable, creating, equality, women, gender, better, equal, siege\n",
      "Topic 15: today, celebrate, everyday, join, achievements, incredible, strength, let, make, thinking, shine, march, challenge, lives, life\n",
      "Topic 16: female, first, character, fiction, looked, like, tweet, male, one, officers, delete, barracks, counterparts, live, husbands\n",
      "Topic 17: work, many, across, empowerment, india, furthering, towards, nation, indomitable, accomplishments, range, wide, sectors, honour, saluting\n",
      "Topic 18: support, show, sant, shri, bapu, asharamji, innocent, gender, equality, justice, women, creators, join, voice, please\n",
      "Topic 19: help, great, black, feel, free, petitions, trans, tweets, leave, pretty, shoutout, also, local, day, thread\n",
      "Topic 20: going, started, thread, mexico, murder, rape, feminicide, sexual, misogony, assault, necessary, victims, palace, erected, watch\n"
     ]
    }
   ],
   "source": [
    "for topic_index in range(k):\n",
    "    descriptor = get_descriptor( terms, H, topic_index, 15)\n",
    "    str_descriptor = \", \".join( descriptor )\n",
    "    print(\"Topic %02d: %s\" % ( topic_index+1, str_descriptor ) )"
   ]
  },
  {
   "cell_type": "code",
   "execution_count": 36,
   "metadata": {
    "ExecuteTime": {
     "end_time": "2021-05-19T00:49:24.162662Z",
     "start_time": "2021-05-19T00:49:24.128385Z"
    }
   },
   "outputs": [
    {
     "name": "stdout",
     "output_type": "stream",
     "text": [
      "Topic 01: happy, day, ladies, beautiful, everyone, wishing, iwd, queens, westview, powerful, woman, incredible, gals, babes, amazing, everyday, birthday, good, fantasy, lovely\n",
      "Topic 02: international, day, women, march, men, stepping, congratulations, like, ladies, badge, earned, name, hope, one, follow, via, 8th, celebration, tomorrow, womens\n",
      "Topic 03: pleasant, whatever, reason, able, wish, trans, come, girls, women, international, reminder, together, thinking, simple, wakes, especially, non, persist, binary, lot\n",
      "Topic 04: women, amazing, respect, day, life, trans, rights, incredible, men, power, reminder, strong, pay, tweet, stand, beautiful, inspire, society, wonderful, brave\n",
      "Topic 05: woman, god, abundance, mother, wonderful, ever, teachings, earth, stands, influential, growing, guidance, care, courage, life, name, strength, thank, wonder, man\n",
      "Topic 06: amazing, womens, playlist, curated, stream, honor, celebrate, world, work, ros, songs, want, music, ladies, listen, many, proud, blackpink, inspire, talented\n",
      "Topic 07: thank, continued, keeping, supports, healthy, vital, tirelessly, worked, services, special, safe, covid, ensure, young, let, girls, celebrate, around, women, abundance\n",
      "Topic 08: every, day, strength, inspire, screen, continually, single, life, queen, today, sendin, praises, princess, mad, without, human, girl, thankful, shout, year\n",
      "Topic 09: amp, beautiful, powerful, gender, follow, wonder, chance, win, convention, pop, exclusive, spring, equality, girls, let, men, challenge, change, equal, stories\n",
      "Topic 10: may, strong, know, raise, beautiful, women, powerful, ladies, place, unknown, one, inspiring, era, brave, cheers, always, keep, perceives, already, changing\n",
      "Topic 11: world, around, bitches, bad, gender, equality, challenge, better, equal, girls, change, make, choose, achievements, sendin, praises, mad, queen, princess, place\n",
      "Topic 12: love, much, ladies, queens, respect, mother, thank, queen, abundance, sendin, mad, praises, princess, deserve, always, wonderful, loving, see, flowers, ever\n",
      "Topic 13: celebrating, westview, women, achievements, join, iwd, dakota, team, defending, bill, excited, south, folx, soon, cultural, femme, sign, especially, sports, mea\n",
      "Topic 14: let, future, history, stop, formidable, anyone, grace, capable, creating, equality, women, gender, better, equal, siege, join, achieved, none, step, countries\n",
      "Topic 15: today, celebrate, everyday, join, achievements, incredible, strength, let, make, thinking, shine, march, challenge, lives, life, gender, remember, continue, take, time\n",
      "Topic 16: female, first, character, fiction, looked, like, tweet, male, one, officers, delete, barracks, counterparts, live, husbands, creators, favorite, often, military, want\n",
      "Topic 17: work, many, across, empowerment, india, furthering, towards, nation, indomitable, accomplishments, range, wide, sectors, honour, saluting, opportunity, pride, takes, getting, government\n",
      "Topic 18: support, show, sant, shri, bapu, asharamji, innocent, gender, equality, justice, women, creators, join, voice, please, give, deserve, proud, case, need\n",
      "Topic 19: help, great, black, feel, free, petitions, trans, tweets, leave, pretty, shoutout, also, local, day, thread, donate, please, resources, reminder, read\n",
      "Topic 20: going, started, thread, mexico, murder, rape, feminicide, sexual, misogony, assault, necessary, victims, palace, erected, watch, national, femicide, ahead, memorial, barrier\n"
     ]
    }
   ],
   "source": [
    "for topic_index in range(k):\n",
    "    descriptor = get_descriptor( terms, H, topic_index, 20)\n",
    "    str_descriptor = \", \".join( descriptor )\n",
    "    print(\"Topic %02d: %s\" % ( topic_index+1, str_descriptor ) )"
   ]
  }
 ],
 "metadata": {
  "@webio": {
   "lastCommId": null,
   "lastKernelId": null
  },
  "kernelspec": {
   "display_name": "Python 3",
   "language": "python",
   "name": "python3"
  },
  "language_info": {
   "codemirror_mode": {
    "name": "ipython",
    "version": 3
   },
   "file_extension": ".py",
   "mimetype": "text/x-python",
   "name": "python",
   "nbconvert_exporter": "python",
   "pygments_lexer": "ipython3",
   "version": "3.7.7"
  },
  "toc": {
   "base_numbering": 1,
   "nav_menu": {
    "height": "91px",
    "width": "373px"
   },
   "number_sections": true,
   "sideBar": true,
   "skip_h1_title": false,
   "title_cell": "Table of Contents",
   "title_sidebar": "Contents",
   "toc_cell": false,
   "toc_position": {
    "height": "557px",
    "left": "22px",
    "top": "170px",
    "width": "288px"
   },
   "toc_section_display": true,
   "toc_window_display": false
  }
 },
 "nbformat": 4,
 "nbformat_minor": 4
}
