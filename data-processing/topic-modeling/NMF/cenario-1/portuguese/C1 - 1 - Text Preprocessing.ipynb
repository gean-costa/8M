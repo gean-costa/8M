{
 "cells": [
  {
   "cell_type": "markdown",
   "metadata": {},
   "source": [
    "# Text Preprocessing"
   ]
  },
  {
   "cell_type": "markdown",
   "metadata": {},
   "source": [
    "In this notebook we will look at the steps involved in preprocessing a corpus of unstructed text documents using *scikit-learn*, which we will use later for topic modelling."
   ]
  },
  {
   "cell_type": "markdown",
   "metadata": {},
   "source": [
    "### Loading the Documents"
   ]
  },
  {
   "cell_type": "markdown",
   "metadata": {},
   "source": [
    "As our sample corpus of text, we will use a corpus of news articles collected in 2016. These articles have been stored in a single file and formatted so that one article appears on each line. We will load these articles into a list, and also create a short snippet of text for each document."
   ]
  },
  {
   "cell_type": "code",
   "execution_count": 1,
   "metadata": {
    "ExecuteTime": {
     "end_time": "2021-05-18T01:08:30.351159Z",
     "start_time": "2021-05-18T01:08:30.219997Z"
    }
   },
   "outputs": [
    {
     "name": "stdout",
     "output_type": "stream",
     "text": [
      "Read 124293 raw text documents\n"
     ]
    }
   ],
   "source": [
    "import os.path\n",
    "\n",
    "raw_documents = []\n",
    "snippets = []\n",
    "with open(os.path.join(\"cenario1_8M2021_tweets_pt.txt\"), \"r\") as fin:\n",
    "    for line in fin.readlines():\n",
    "        text = line.strip()\n",
    "        raw_documents.append(text)\n",
    "        # keep a short snippet of up to 100 characters as a title for each article\n",
    "        snippets.append(text[0 : min(len(text), 100)])\n",
    "print(\"Read %d raw text documents\" % len(raw_documents))"
   ]
  },
  {
   "cell_type": "markdown",
   "metadata": {},
   "source": [
    "### Creating a Document-Term Matrix"
   ]
  },
  {
   "cell_type": "markdown",
   "metadata": {},
   "source": [
    "When preprocessing text, a common approach is to remove non-informative stopwords. The choice of stopwords can have a considerable impact later on. We will use a custom stopword list:"
   ]
  },
  {
   "cell_type": "code",
   "execution_count": 2,
   "metadata": {
    "ExecuteTime": {
     "end_time": "2021-05-18T01:09:01.741756Z",
     "start_time": "2021-05-18T01:09:01.716214Z"
    }
   },
   "outputs": [
    {
     "name": "stdout",
     "output_type": "stream",
     "text": [
      "Stopword list has 231 entries\n"
     ]
    }
   ],
   "source": [
    "custom_stop_words = []\n",
    "\n",
    "with open(\"portuguese.txt\", \"r\") as fin:\n",
    "    for line in fin.readlines():\n",
    "        custom_stop_words.append(line.strip())\n",
    "        \n",
    "# note that we need to make it hashable\n",
    "print(\"Stopword list has %d entries\" % len(custom_stop_words))"
   ]
  },
  {
   "cell_type": "markdown",
   "metadata": {},
   "source": [
    "In the *bag-of-words model*, each document is represented by a vector in a *m*-dimensional coordinate space, where *m* is number of unique terms across all documents. This set of terms is called the corpus *vocabulary*. \n",
    "\n",
    "Since each document can be represented as a term vector, we can stack these vectors to create a full *document-term matrix*. We can easily create this matrix from a list of document strings using *CountVectorizer* from Scikit-learn. The parameters passed to *CountVectorizer* control the pre-processing steps that it performs."
   ]
  },
  {
   "cell_type": "code",
   "execution_count": 3,
   "metadata": {
    "ExecuteTime": {
     "end_time": "2021-05-18T01:09:11.640933Z",
     "start_time": "2021-05-18T01:09:07.607039Z"
    }
   },
   "outputs": [
    {
     "name": "stdout",
     "output_type": "stream",
     "text": [
      "Created 124293 X 5532 document-term matrix\n"
     ]
    }
   ],
   "source": [
    "from sklearn.feature_extraction.text import CountVectorizer\n",
    "\n",
    "# use a custom stopwords list, set the minimum term-document frequency to 20\n",
    "vectorizer = CountVectorizer(stop_words=custom_stop_words, min_df=20)\n",
    "A = vectorizer.fit_transform(raw_documents)\n",
    "\n",
    "print(\"Created %d X %d document-term matrix\" % (A.shape[0], A.shape[1]))"
   ]
  },
  {
   "cell_type": "markdown",
   "metadata": {},
   "source": [
    "This process also builds a vocabulary for the corpus:"
   ]
  },
  {
   "cell_type": "code",
   "execution_count": 4,
   "metadata": {
    "ExecuteTime": {
     "end_time": "2021-05-18T01:09:17.005147Z",
     "start_time": "2021-05-18T01:09:16.997342Z"
    }
   },
   "outputs": [
    {
     "name": "stdout",
     "output_type": "stream",
     "text": [
      "Vocabulary has 5532 distinct terms\n"
     ]
    }
   ],
   "source": [
    "terms = vectorizer.get_feature_names()\n",
    "print(\"Vocabulary has %d distinct terms\" % len(terms))"
   ]
  },
  {
   "cell_type": "markdown",
   "metadata": {},
   "source": [
    "We can save this document-term matrix, terms, and snippets for later use using *Joblib* to persist the data."
   ]
  },
  {
   "cell_type": "code",
   "execution_count": 5,
   "metadata": {
    "ExecuteTime": {
     "end_time": "2021-05-18T01:09:31.536643Z",
     "start_time": "2021-05-18T01:09:31.005015Z"
    }
   },
   "outputs": [
    {
     "data": {
      "text/plain": [
       "['21cenario1-tweets-raw.pkl']"
      ]
     },
     "execution_count": 5,
     "metadata": {},
     "output_type": "execute_result"
    }
   ],
   "source": [
    "import joblib\n",
    "\n",
    "joblib.dump((A, terms, snippets), \"21cenario1-tweets-raw.pkl\")"
   ]
  },
  {
   "cell_type": "markdown",
   "metadata": {},
   "source": [
    "### Applying Term Weighting with TF-IDF"
   ]
  },
  {
   "cell_type": "markdown",
   "metadata": {},
   "source": [
    "We can improve the usefulness of the document-term matrix by giving more weight to the more \"important\" terms. The most common normalisation is *term frequency–inverse document frequency* (TF-IDF). In Scikit-learn, we can generate at TF-IDF weighted document-term matrix by using *TfidfVectorizer* in place of *CountVectorizer*."
   ]
  },
  {
   "cell_type": "code",
   "execution_count": 6,
   "metadata": {
    "ExecuteTime": {
     "end_time": "2021-05-18T01:09:37.434754Z",
     "start_time": "2021-05-18T01:09:35.658801Z"
    }
   },
   "outputs": [
    {
     "name": "stdout",
     "output_type": "stream",
     "text": [
      "Created 124293 X 5532 TF-IDF-normalized document-term matrix\n"
     ]
    }
   ],
   "source": [
    "from sklearn.feature_extraction.text import TfidfVectorizer\n",
    "\n",
    "# we can pass in the same preprocessing parameters\n",
    "vectorizer = TfidfVectorizer(stop_words=custom_stop_words, min_df=20, max_df=0.9)\n",
    "A = vectorizer.fit_transform(raw_documents)\n",
    "\n",
    "print(\n",
    "    \"Created %d X %d TF-IDF-normalized document-term matrix\" % (A.shape[0], A.shape[1])\n",
    ")"
   ]
  },
  {
   "cell_type": "code",
   "execution_count": 7,
   "metadata": {
    "ExecuteTime": {
     "end_time": "2021-05-18T01:09:42.194959Z",
     "start_time": "2021-05-18T01:09:42.187743Z"
    }
   },
   "outputs": [
    {
     "name": "stdout",
     "output_type": "stream",
     "text": [
      "Vocabulary has 5532 distinct terms\n"
     ]
    }
   ],
   "source": [
    "# extract the resulting vocabulary\n",
    "terms = vectorizer.get_feature_names()\n",
    "print(\"Vocabulary has %d distinct terms\" % len(terms))"
   ]
  },
  {
   "cell_type": "markdown",
   "metadata": {},
   "source": [
    "A simple characterisation that we might do would be to look at the terms with the highest TF-IDF scores across all documents in the document-term matrix. We can define such a function as follows:"
   ]
  },
  {
   "cell_type": "code",
   "execution_count": 8,
   "metadata": {
    "ExecuteTime": {
     "end_time": "2021-05-18T01:09:47.117486Z",
     "start_time": "2021-05-18T01:09:47.113624Z"
    }
   },
   "outputs": [],
   "source": [
    "import operator\n",
    "\n",
    "\n",
    "def rank_terms(A, terms):\n",
    "    # get the sums over each column\n",
    "    sums = A.sum(axis=0)\n",
    "    \n",
    "    # map weights to the terms\n",
    "    weights = {}\n",
    "    \n",
    "    for col, term in enumerate(terms):\n",
    "        weights[term] = sums[0, col]\n",
    "        \n",
    "    # rank the terms by their weight over all documents\n",
    "    return sorted(weights.items(), key=operator.itemgetter(1), reverse=True)"
   ]
  },
  {
   "cell_type": "markdown",
   "metadata": {},
   "source": [
    "We can now display a ranking of the top 20 terms, which gives us a very rough sense of the content of the document collection:"
   ]
  },
  {
   "cell_type": "code",
   "execution_count": 9,
   "metadata": {
    "ExecuteTime": {
     "end_time": "2021-05-18T01:09:55.601856Z",
     "start_time": "2021-05-18T01:09:55.584166Z"
    }
   },
   "outputs": [
    {
     "name": "stdout",
     "output_type": "stream",
     "text": [
      "01. dia (9552.48)\n",
      "02. mulher (8707.34)\n",
      "03. internacional (6505.66)\n",
      "04. feliz (6291.91)\n",
      "05. mulheres (5578.45)\n",
      "06. diadasmulheres (5178.64)\n",
      "07. marco (4017.34)\n",
      "08. 8m2021 (2374.72)\n",
      "09. internationalwomensday (2312.69)\n",
      "10. brasil (2154.98)\n",
      "11. hoje (2136.20)\n",
      "12. direitos (1984.72)\n",
      "13. governo (1821.82)\n",
      "14. defesa (1801.89)\n",
      "15. bolsonaro (1798.34)\n",
      "16. saude (1741.29)\n",
      "17. vergonha (1732.20)\n",
      "18. diadamulher (1699.34)\n",
      "19. onu (1696.41)\n",
      "20. declaracao (1694.43)\n"
     ]
    }
   ],
   "source": [
    "ranking = rank_terms(A, terms)\n",
    "\n",
    "for i, pair in enumerate(ranking[0:20]):\n",
    "    print(\"%02d. %s (%.2f)\" % (i + 1, pair[0], pair[1]))"
   ]
  },
  {
   "cell_type": "markdown",
   "metadata": {},
   "source": [
    "Again we will save this document-term matrix, terms, and snippets for topic modelling later using *Joblib*."
   ]
  },
  {
   "cell_type": "code",
   "execution_count": 10,
   "metadata": {
    "ExecuteTime": {
     "end_time": "2021-05-18T01:10:11.779481Z",
     "start_time": "2021-05-18T01:10:11.262845Z"
    }
   },
   "outputs": [
    {
     "data": {
      "text/plain": [
       "['21cenario1-tweets-tfidf.pkl']"
      ]
     },
     "execution_count": 10,
     "metadata": {},
     "output_type": "execute_result"
    }
   ],
   "source": [
    "joblib.dump((A,terms,snippets), \"21cenario1-tweets-tfidf.pkl\") "
   ]
  },
  {
   "cell_type": "code",
   "execution_count": null,
   "metadata": {},
   "outputs": [],
   "source": []
  }
 ],
 "metadata": {
  "@webio": {
   "lastCommId": null,
   "lastKernelId": null
  },
  "kernelspec": {
   "display_name": "Python 3",
   "language": "python",
   "name": "python3"
  },
  "language_info": {
   "codemirror_mode": {
    "name": "ipython",
    "version": 3
   },
   "file_extension": ".py",
   "mimetype": "text/x-python",
   "name": "python",
   "nbconvert_exporter": "python",
   "pygments_lexer": "ipython3",
   "version": "3.7.7"
  },
  "toc": {
   "base_numbering": 1,
   "nav_menu": {},
   "number_sections": true,
   "sideBar": true,
   "skip_h1_title": false,
   "title_cell": "Table of Contents",
   "title_sidebar": "Contents",
   "toc_cell": false,
   "toc_position": {},
   "toc_section_display": true,
   "toc_window_display": false
  }
 },
 "nbformat": 4,
 "nbformat_minor": 4
}
