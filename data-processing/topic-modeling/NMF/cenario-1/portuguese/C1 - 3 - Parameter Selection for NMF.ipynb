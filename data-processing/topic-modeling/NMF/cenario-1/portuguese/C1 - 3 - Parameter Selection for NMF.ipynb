{
 "cells": [
  {
   "cell_type": "markdown",
   "metadata": {},
   "source": [
    "# Parameter Selection for NMF"
   ]
  },
  {
   "cell_type": "markdown",
   "metadata": {},
   "source": [
    "Now we look at the more advanced task of parameter selection for NMF topic modelling - namely, selecting a useful value for the number of topics *k*."
   ]
  },
  {
   "cell_type": "markdown",
   "metadata": {},
   "source": [
    "First, let's load the TF-IDF normalised document-term matrix and list of terms that we stored earlier using *Joblib*:"
   ]
  },
  {
   "cell_type": "code",
   "execution_count": 1,
   "metadata": {
    "ExecuteTime": {
     "end_time": "2021-03-19T00:03:52.783780Z",
     "start_time": "2021-03-19T00:03:51.851949Z"
    }
   },
   "outputs": [
    {
     "name": "stdout",
     "output_type": "stream",
     "text": [
      "Loaded 274455 X 6804 document-term matrix\n"
     ]
    }
   ],
   "source": [
    "import joblib\n",
    "\n",
    "(A, terms, snippets) = joblib.load(\n",
    "    \"cenario1-tweets-tfidf.pkl\")\n",
    "\n",
    "print(\"Loaded %d X %d document-term matrix\" % (A.shape[0], A.shape[1]))"
   ]
  },
  {
   "cell_type": "markdown",
   "metadata": {},
   "source": [
    "### Create the Topic Models"
   ]
  },
  {
   "cell_type": "markdown",
   "metadata": {},
   "source": [
    "A common approach for parameter selection is to Measure and compare the topic coherence of models generated for different values of *k*."
   ]
  },
  {
   "cell_type": "markdown",
   "metadata": {},
   "source": [
    "We need to start by pre-specifying an initial range of \"sensible\" values:"
   ]
  },
  {
   "cell_type": "code",
   "execution_count": 2,
   "metadata": {
    "ExecuteTime": {
     "end_time": "2021-03-19T00:03:58.534845Z",
     "start_time": "2021-03-19T00:03:58.532633Z"
    }
   },
   "outputs": [],
   "source": [
    "kmin, kmax = 5, 20"
   ]
  },
  {
   "cell_type": "markdown",
   "metadata": {},
   "source": [
    "Apply NMF for each of these values:"
   ]
  },
  {
   "cell_type": "code",
   "execution_count": 3,
   "metadata": {
    "ExecuteTime": {
     "end_time": "2021-03-19T00:04:36.061464Z",
     "start_time": "2021-03-19T00:04:00.412262Z"
    }
   },
   "outputs": [
    {
     "name": "stdout",
     "output_type": "stream",
     "text": [
      "Applying NMF for k=5 ...\n",
      "Applying NMF for k=10 ...\n",
      "Applying NMF for k=15 ...\n",
      "Applying NMF for k=20 ...\n"
     ]
    }
   ],
   "source": [
    "from sklearn import decomposition\n",
    "\n",
    "topic_models = []\n",
    "\n",
    "# try each value of k\n",
    "for k in range(kmin, kmax + 1, 5):\n",
    "    print(\"Applying NMF for k=%d ...\" % k)\n",
    "    # run NMF\n",
    "    model = decomposition.NMF(init=\"nndsvd\", n_components=k)\n",
    "    W = model.fit_transform(A)\n",
    "    H = model.components_\n",
    "    # store for later\n",
    "    topic_models.append((k, W, H))"
   ]
  },
  {
   "cell_type": "markdown",
   "metadata": {},
   "source": [
    "### Build a Word Embedding"
   ]
  },
  {
   "cell_type": "markdown",
   "metadata": {},
   "source": [
    "To select the number of topics, here we will use a *topic coherence* measure called TC-W2V. This measure relies on the use of a *word embedding* model constructed from our corpus. So in this step we will use the *Gensim* implementation of Word2Vec to build a Word2Vec model based on our collection of news articles."
   ]
  },
  {
   "cell_type": "markdown",
   "metadata": {},
   "source": [
    "**Note:** If you want to skip this step, a pre-built Word2Vec model for the sample dataset [is also provided here for download](http://erdos.ucd.ie/files/pydata/w2v-model.bin) (71MB)."
   ]
  },
  {
   "cell_type": "markdown",
   "metadata": {},
   "source": [
    "We read the documents from the input file again:"
   ]
  },
  {
   "cell_type": "code",
   "execution_count": 4,
   "metadata": {
    "ExecuteTime": {
     "end_time": "2021-03-19T00:04:45.884567Z",
     "start_time": "2021-03-19T00:04:45.700271Z"
    }
   },
   "outputs": [
    {
     "name": "stdout",
     "output_type": "stream",
     "text": [
      "Read 274455 raw text documents\n"
     ]
    }
   ],
   "source": [
    "import os.path\n",
    "\n",
    "raw_documents = []\n",
    "\n",
    "with open(os.path.join(\"cenario1_8M2020_tweets_pt.txt\"), \"r\") as fin:\n",
    "    for line in fin.readlines():\n",
    "        raw_documents.append(line.strip().lower())\n",
    "\n",
    "print(\"Read %d raw text documents\" % len(raw_documents))"
   ]
  },
  {
   "cell_type": "markdown",
   "metadata": {},
   "source": [
    "Read the custom stopword list:"
   ]
  },
  {
   "cell_type": "code",
   "execution_count": 5,
   "metadata": {
    "ExecuteTime": {
     "end_time": "2021-03-19T00:04:48.398206Z",
     "start_time": "2021-03-19T00:04:48.394107Z"
    }
   },
   "outputs": [
    {
     "name": "stdout",
     "output_type": "stream",
     "text": [
      "Stopword list has 231 entries\n"
     ]
    }
   ],
   "source": [
    "custom_stop_words = []\n",
    "\n",
    "with open(\"portuguese.txt\", \"r\") as fin:\n",
    "    for line in fin.readlines():\n",
    "        custom_stop_words.append(line.strip().lower())\n",
    "\n",
    "# note that we need to make it hashable\n",
    "print(\"Stopword list has %d entries\" % len(custom_stop_words))"
   ]
  },
  {
   "cell_type": "markdown",
   "metadata": {},
   "source": [
    "First, we need to define a class that will generate documents in a form that can be consumed by Gensim's Word2Vec implementation:"
   ]
  },
  {
   "cell_type": "code",
   "execution_count": 6,
   "metadata": {
    "ExecuteTime": {
     "end_time": "2021-03-19T00:04:53.912759Z",
     "start_time": "2021-03-19T00:04:53.908045Z"
    }
   },
   "outputs": [],
   "source": [
    "import re\n",
    "\n",
    "\n",
    "class TokenGenerator:\n",
    "    def __init__(self, documents, stopwords):\n",
    "        self.documents = documents\n",
    "        self.stopwords = stopwords\n",
    "        self.tokenizer = re.compile(r\"(?u)\\b\\w\\w+\\b\")\n",
    "\n",
    "    def __iter__(self):\n",
    "        print(\"Building Word2Vec model ...\")\n",
    "        for doc in self.documents:\n",
    "            tokens = []\n",
    "            for tok in self.tokenizer.findall(doc):\n",
    "                if tok in self.stopwords:\n",
    "                    tokens.append(\"<stopword>\")\n",
    "                elif len(tok) >= 2:\n",
    "                    tokens.append(tok)\n",
    "            yield tokens"
   ]
  },
  {
   "cell_type": "markdown",
   "metadata": {},
   "source": [
    "Now build a Skipgram Word2Vec model from all documents in the input file using *Gensim*:"
   ]
  },
  {
   "cell_type": "code",
   "execution_count": 7,
   "metadata": {
    "ExecuteTime": {
     "end_time": "2021-03-19T00:04:57.382412Z",
     "start_time": "2021-03-19T00:04:57.154721Z"
    }
   },
   "outputs": [],
   "source": [
    "import gensim"
   ]
  },
  {
   "cell_type": "code",
   "execution_count": 8,
   "metadata": {
    "ExecuteTime": {
     "end_time": "2021-03-19T00:06:40.676560Z",
     "start_time": "2021-03-19T00:04:59.177737Z"
    }
   },
   "outputs": [
    {
     "name": "stdout",
     "output_type": "stream",
     "text": [
      "Building Word2Vec model ...\n",
      "Building Word2Vec model ...\n",
      "Building Word2Vec model ...\n",
      "Building Word2Vec model ...\n",
      "Building Word2Vec model ...\n",
      "Building Word2Vec model ...\n"
     ]
    }
   ],
   "source": [
    "docgen = TokenGenerator(raw_documents, custom_stop_words)\n",
    "\n",
    "# the model has 500 dimensions, the minimum document-term frequency is 20\n",
    "w2v_model = gensim.models.Word2Vec(docgen, size=500, min_count=20, sg=1)"
   ]
  },
  {
   "cell_type": "code",
   "execution_count": 9,
   "metadata": {
    "ExecuteTime": {
     "end_time": "2021-03-19T00:06:46.967896Z",
     "start_time": "2021-03-19T00:06:46.965022Z"
    }
   },
   "outputs": [
    {
     "name": "stdout",
     "output_type": "stream",
     "text": [
      "Model has 6862 terms\n"
     ]
    }
   ],
   "source": [
    "print( \"Model has %d terms\" % len(w2v_model.wv.vocab) )"
   ]
  },
  {
   "cell_type": "markdown",
   "metadata": {},
   "source": [
    "Save for later use, so that we do not need to rebuild it:"
   ]
  },
  {
   "cell_type": "code",
   "execution_count": 10,
   "metadata": {
    "ExecuteTime": {
     "end_time": "2021-03-19T00:06:57.754205Z",
     "start_time": "2021-03-19T00:06:57.458538Z"
    }
   },
   "outputs": [],
   "source": [
    "w2v_model.save(\"cenario1_w2v-model.bin\")"
   ]
  },
  {
   "cell_type": "code",
   "execution_count": 11,
   "metadata": {
    "ExecuteTime": {
     "end_time": "2021-03-19T00:06:59.318198Z",
     "start_time": "2021-03-19T00:06:59.316395Z"
    }
   },
   "outputs": [],
   "source": [
    "# To re-load this model, run\n",
    "# w2v_model = gensim.models.Word2Vec.load(\"cenario1_w2v-model.bin\")"
   ]
  },
  {
   "cell_type": "markdown",
   "metadata": {},
   "source": [
    "### Selecting the Number of Topics"
   ]
  },
  {
   "cell_type": "markdown",
   "metadata": {},
   "source": [
    "Once we have our Word2vec model, we can use it as part of our *topic coherence* approach to evaluate the different NMF topic models that we created previously. To do this, we will implement a simple version of the TC-W2V coherence measure."
   ]
  },
  {
   "cell_type": "markdown",
   "metadata": {},
   "source": [
    "We use the Word2vec model to calculate coherence scores for each of these models. We will define this coherence score as follows:"
   ]
  },
  {
   "cell_type": "code",
   "execution_count": 12,
   "metadata": {
    "ExecuteTime": {
     "end_time": "2021-03-19T00:07:01.493218Z",
     "start_time": "2021-03-19T00:07:01.489045Z"
    }
   },
   "outputs": [],
   "source": [
    "def calculate_coherence(w2v_model, term_rankings):\n",
    "    overall_coherence = 0.0\n",
    "    \n",
    "    for topic_index in range(len(term_rankings)):\n",
    "        # check each pair of terms\n",
    "        pair_scores = []\n",
    "        for pair in combinations(term_rankings[topic_index], 2):\n",
    "            pair_scores.append(w2v_model.similarity(pair[0], pair[1]))\n",
    "        # get the mean for all pairs in this topic\n",
    "        topic_score = sum(pair_scores) / len(pair_scores)\n",
    "        overall_coherence += topic_score\n",
    "    \n",
    "    # get the mean score across all topics\n",
    "    return overall_coherence / len(term_rankings)"
   ]
  },
  {
   "cell_type": "markdown",
   "metadata": {},
   "source": [
    "We also define a function to get the topic descriptor (i.e. list of top terms) for each topic:"
   ]
  },
  {
   "cell_type": "code",
   "execution_count": 13,
   "metadata": {
    "ExecuteTime": {
     "end_time": "2021-03-19T00:07:02.916540Z",
     "start_time": "2021-03-19T00:07:02.912944Z"
    }
   },
   "outputs": [],
   "source": [
    "import numpy as np\n",
    "\n",
    "\n",
    "def get_descriptor(all_terms, H, topic_index, top):\n",
    "    # reverse sort the values to sort the indices\n",
    "    top_indices = np.argsort(H[topic_index, :])[::-1]\n",
    "    \n",
    "    # now get the terms corresponding to the top-ranked indices\n",
    "    top_terms = []\n",
    "    \n",
    "    for term_index in top_indices[0:top]:\n",
    "        top_terms.append(all_terms[term_index])\n",
    "    \n",
    "    return top_terms"
   ]
  },
  {
   "cell_type": "markdown",
   "metadata": {},
   "source": [
    "Now process each of the models for different values of *k*:"
   ]
  },
  {
   "cell_type": "code",
   "execution_count": 14,
   "metadata": {
    "ExecuteTime": {
     "end_time": "2021-03-19T00:07:05.186188Z",
     "start_time": "2021-03-19T00:07:05.069625Z"
    }
   },
   "outputs": [
    {
     "name": "stdout",
     "output_type": "stream",
     "text": [
      "K=05: Coherence=0.3571\n",
      "K=10: Coherence=0.3315\n",
      "K=15: Coherence=0.3187\n",
      "K=20: Coherence=0.3354\n"
     ]
    },
    {
     "name": "stderr",
     "output_type": "stream",
     "text": [
      "/home/gean/anaconda3/lib/python3.7/site-packages/ipykernel_launcher.py:8: DeprecationWarning: Call to deprecated `similarity` (Method will be removed in 4.0.0, use self.wv.similarity() instead).\n",
      "  \n"
     ]
    }
   ],
   "source": [
    "from itertools import combinations\n",
    "\n",
    "k_values = []\n",
    "coherences = []\n",
    "\n",
    "for (k, W, H) in topic_models:\n",
    "    # Get all of the topic descriptors - the term_rankings, based on top 10 terms\n",
    "    term_rankings = []\n",
    "    \n",
    "    for topic_index in range(k):\n",
    "        term_rankings.append(get_descriptor(terms, H, topic_index, 10))\n",
    "    \n",
    "    # Now calculate the coherence based on our Word2vec model\n",
    "    k_values.append(k)\n",
    "    coherences.append(calculate_coherence(w2v_model, term_rankings))\n",
    "    \n",
    "    print(\"K=%02d: Coherence=%.4f\" % (k, coherences[-1]))\n",
    "    # print(f'{coherences[-1]:.4f}')"
   ]
  },
  {
   "cell_type": "markdown",
   "metadata": {},
   "source": [
    "We can now use *matplotlib* to generate a line plot of these coherence scores, to help us select an appropriate value."
   ]
  },
  {
   "cell_type": "code",
   "execution_count": 15,
   "metadata": {
    "ExecuteTime": {
     "end_time": "2021-03-19T00:07:12.264594Z",
     "start_time": "2021-03-19T00:07:11.998996Z"
    }
   },
   "outputs": [],
   "source": [
    "%matplotlib inline\n",
    "import matplotlib\n",
    "import matplotlib.pyplot as plt\n",
    "\n",
    "plt.style.use(\"ggplot\")\n",
    "matplotlib.rcParams.update({\"font.size\": 14})"
   ]
  },
  {
   "cell_type": "code",
   "execution_count": 16,
   "metadata": {
    "ExecuteTime": {
     "end_time": "2021-03-19T00:07:13.724572Z",
     "start_time": "2021-03-19T00:07:13.556557Z"
    }
   },
   "outputs": [
    {
     "data": {
      "image/png": "[encoded data removed]",
      "text/plain": [
       "<Figure size 936x504 with 1 Axes>"
      ]
     },
     "metadata": {},
     "output_type": "display_data"
    }
   ],
   "source": [
    "fig = plt.figure(figsize=(13,7))\n",
    "\n",
    "# create the line plot\n",
    "ax = plt.plot( k_values, coherences )\n",
    "plt.xticks(k_values)\n",
    "plt.xlabel(\"Number of Topics\")\n",
    "plt.ylabel(\"Mean Coherence\")\n",
    "\n",
    "# add the points\n",
    "plt.scatter( k_values, coherences, s=120)\n",
    "\n",
    "\n",
    "# find and annotate the maximum point on the plot\n",
    "ymax = max(coherences)\n",
    "xpos = coherences.index(ymax)\n",
    "best_k = k_values[xpos]\n",
    "plt.annotate( \"k=%d\" % best_k, xy=(best_k, ymax), xytext=(best_k, ymax), textcoords=\"offset points\", fontsize=16)\n",
    "\n",
    "# show the plot\n",
    "plt.show()"
   ]
  },
  {
   "cell_type": "markdown",
   "metadata": {},
   "source": [
    "### Examine the Final  Model"
   ]
  },
  {
   "cell_type": "markdown",
   "metadata": {},
   "source": [
    "The plot above suggests that the most appropriate value for the number of topics is *k=8*."
   ]
  },
  {
   "cell_type": "code",
   "execution_count": 35,
   "metadata": {
    "ExecuteTime": {
     "end_time": "2021-03-19T00:41:27.573038Z",
     "start_time": "2021-03-19T00:41:27.570377Z"
    }
   },
   "outputs": [],
   "source": [
    "k = 20 # best_k\n",
    "\n",
    "# get the model that we generated earlier.\n",
    "W = topic_models[3][1]\n",
    "H = topic_models[3][2]"
   ]
  },
  {
   "cell_type": "markdown",
   "metadata": {},
   "source": [
    "Display the topic descriptors for this model:"
   ]
  },
  {
   "cell_type": "code",
   "execution_count": 36,
   "metadata": {
    "ExecuteTime": {
     "end_time": "2021-03-19T00:41:52.780846Z",
     "start_time": "2021-03-19T00:41:52.768813Z"
    },
    "scrolled": true
   },
   "outputs": [
    {
     "name": "stdout",
     "output_type": "stream",
     "text": [
      "Topic 01: marco, mulheres, tecelagem, trabalhavam, trancadas\n",
      "Topic 02: onibus, lembrancinha, enfeita, entram, motorista\n",
      "Topic 03: faltar, pode, internacional, mulher, dia\n",
      "Topic 04: incriveis, diadamulher, diadasmulheres, pratica, mulheres\n",
      "Topic 05: iconico, relembrar, vamos, importancia, video\n",
      "Topic 06: tik, tok, possivel, feminista, feliz\n",
      "Topic 07: feliz, dia, internacional, mulher, mulheres\n",
      "Topic 08: deveria, menos, vez, internationalwomensday, vida\n",
      "Topic 09: sobre, respeitarem, numeros, bom, mostram\n",
      "Topic 10: vou, falar, diadasmulheres, pratica, discurso\n",
      "Topic 11: quiser, lugar, mjsp, inclusive, seguranca\n",
      "Topic 12: donalds, trabalhassem, trataram, folga, machos\n",
      "Topic 13: 8m2020, esquecer, nunca, melhor, bolsonaro\n",
      "Topic 14: thread, importantes, negras, brasileira, historia\n",
      "Topic 15: hoje, ser, repense, parca, rir\n",
      "Topic 16: 8m, valparaiso, mulheres, bolsonaro, apoia\n",
      "Topic 17: queremos, nao, parabens, mulheres, amanha\n",
      "Topic 18: marco, manu, gavassi, dia, b20\n",
      "Topic 19: reafirmou, homanagem, anatomy, grey, comeco\n",
      "Topic 20: reproducao, contribuindo, segundos, dura, justa\n"
     ]
    }
   ],
   "source": [
    "for topic_index in range(k):\n",
    "    descriptor = get_descriptor( terms, H, topic_index, 5)\n",
    "    str_descriptor = \", \".join( descriptor )\n",
    "    print(\"Topic %02d: %s\" % ( topic_index+1, str_descriptor ) )"
   ]
  },
  {
   "cell_type": "code",
   "execution_count": 37,
   "metadata": {
    "ExecuteTime": {
     "end_time": "2021-03-19T00:41:56.073797Z",
     "start_time": "2021-03-19T00:41:56.061598Z"
    }
   },
   "outputs": [
    {
     "name": "stdout",
     "output_type": "stream",
     "text": [
      "Topic 01: marco, mulheres, tecelagem, trabalhavam, trancadas, carbonizadas, aproximadamente, estarem, fabrica, morreram\n",
      "Topic 02: onibus, lembrancinha, enfeita, entram, motorista, semana, dar, ano, mulheres, internacional\n",
      "Topic 03: faltar, pode, internacional, mulher, dia, feministo, depositar, 10k, conta, algum\n",
      "Topic 04: incriveis, diadamulher, diadasmulheres, pratica, mulheres, discurso, diainternacionaldamulher, rememberskam, melhor, internationalwomensday\n",
      "Topic 05: iconico, relembrar, vamos, importancia, video, internacional, mulher, dia, melhor, cena\n",
      "Topic 06: tik, tok, possivel, feminista, feliz, diadasmulheres, pratica, discurso, melhor, mulheres\n",
      "Topic 07: feliz, dia, internacional, mulher, mulheres, guerreiras, internationalwomensday, parabens, diadasmulheres, ser\n",
      "Topic 08: deveria, menos, vez, internationalwomensday, vida, mundo, video, ver, diadasmulheres, assistir\n",
      "Topic 09: sobre, respeitarem, numeros, bom, mostram, presentes, segue, data, direitos, flores\n",
      "Topic 10: vou, falar, diadasmulheres, pratica, discurso, melhor, marco, video, lugar, mulheres\n",
      "Topic 11: quiser, lugar, mjsp, inclusive, seguranca, publica, justica, nacional, forca, onde\n",
      "Topic 12: donalds, trabalhassem, trataram, folga, machos, lembro, colocou, ato, ainda, feminista\n",
      "Topic 13: 8m2020, esquecer, nunca, melhor, bolsonaro, mulheres, hoje, video, brasil, diadasmulheres\n",
      "Topic 14: thread, importantes, negras, brasileira, historia, diadasmulheres, mulheres, pratica, discurso, brasil\n",
      "Topic 15: hoje, ser, repense, parca, rir, questionar, trai, babaca, pano, atitudes\n",
      "Topic 16: 8m, valparaiso, mulheres, bolsonaro, apoia, parabeniza, coisas, duas, hoje, brasilia\n",
      "Topic 17: queremos, nao, parabens, mulheres, amanha, lembretes, fofa, sapato, bombons, batom\n",
      "Topic 18: marco, manu, gavassi, dia, b20, falso, caralho, margens, declarando, piscina\n",
      "Topic 19: reafirmou, homanagem, anatomy, grey, comeco, vezes, poder, thread, fazer, vamos\n",
      "Topic 20: reproducao, contribuindo, segundos, dura, justa, construir, longe, globo, quao, lembrete\n"
     ]
    }
   ],
   "source": [
    "for topic_index in range(k):\n",
    "    descriptor = get_descriptor( terms, H, topic_index, 10)\n",
    "    str_descriptor = \", \".join( descriptor )\n",
    "    print(\"Topic %02d: %s\" % ( topic_index+1, str_descriptor ) )"
   ]
  },
  {
   "cell_type": "code",
   "execution_count": 38,
   "metadata": {
    "ExecuteTime": {
     "end_time": "2021-03-19T00:41:56.800552Z",
     "start_time": "2021-03-19T00:41:56.788527Z"
    }
   },
   "outputs": [
    {
     "name": "stdout",
     "output_type": "stream",
     "text": [
      "Topic 01: marco, mulheres, tecelagem, trabalhavam, trancadas, carbonizadas, aproximadamente, estarem, fabrica, morreram, york, greve, nova, declarou, homenagem\n",
      "Topic 02: onibus, lembrancinha, enfeita, entram, motorista, semana, dar, ano, mulheres, internacional, mulher, dia, parabens, amanha, brasil\n",
      "Topic 03: faltar, pode, internacional, mulher, dia, feministo, depositar, 10k, conta, algum, homem, marco, julgue, amanha, violencia\n",
      "Topic 04: incriveis, diadamulher, diadasmulheres, pratica, mulheres, discurso, diainternacionaldamulher, rememberskam, melhor, internationalwomensday, donas, hoje, dao, agradeca, domingodetremurasdv\n",
      "Topic 05: iconico, relembrar, vamos, importancia, video, internacional, mulher, dia, melhor, cena, paciente, vitima, diadasmulheres, amo, enxergava\n",
      "Topic 06: tik, tok, possivel, feminista, feliz, diadasmulheres, pratica, discurso, melhor, mulheres, 8m2020, estuprador, explosao, vestia, opressor\n",
      "Topic 07: feliz, dia, internacional, mulher, mulheres, guerreiras, internationalwomensday, parabens, diadasmulheres, ser, diainternacionaldamulher, votou, enfia, cena, violencia\n",
      "Topic 08: deveria, menos, vez, internationalwomensday, vida, mundo, video, ver, diadasmulheres, assistir, sinto, melhor, mulheres, obrigado, ser\n",
      "Topic 09: sobre, respeitarem, numeros, bom, mostram, presentes, segue, data, direitos, flores, luta, importancia, hoje, dia, internacional\n",
      "Topic 10: vou, falar, diadasmulheres, pratica, discurso, melhor, marco, video, lugar, mulheres, sempre, 8m2020, brasil, feminino, quiser\n",
      "Topic 11: quiser, lugar, mjsp, inclusive, seguranca, publica, justica, nacional, forca, onde, homenagem, mulheres, mulher, internacional, dia\n",
      "Topic 12: donalds, trabalhassem, trataram, folga, machos, lembro, colocou, ato, ainda, feminista, hoje, dia, mulheres, internacional, mulher\n",
      "Topic 13: 8m2020, esquecer, nunca, melhor, bolsonaro, mulheres, hoje, video, brasil, diadasmulheres, votou, apoia, parabeniza, duas, enfia\n",
      "Topic 14: thread, importantes, negras, brasileira, historia, diadasmulheres, mulheres, pratica, discurso, brasil, marco, internationalwomensday, anos, homens, cena\n",
      "Topic 15: hoje, ser, repense, parca, rir, questionar, trai, babaca, pano, atitudes, inves, agressor, roupa, vitima, pare\n",
      "Topic 16: 8m, valparaiso, mulheres, bolsonaro, apoia, parabeniza, coisas, duas, hoje, brasilia, foto, luta, livres, humanamente, luxemburgo\n",
      "Topic 17: queremos, nao, parabens, mulheres, amanha, lembretes, fofa, sapato, bombons, batom, sao, promocao, zap, tds, mensagem\n",
      "Topic 18: marco, manu, gavassi, dia, b20, falso, caralho, margens, declarando, piscina, gritou, b2o2o, obrigado, falsodocaralho, mulher\n",
      "Topic 19: reafirmou, homanagem, anatomy, grey, comeco, vezes, poder, thread, fazer, vamos, diadamulher, mulher, marco, ser, diainternacionaldamulher\n",
      "Topic 20: reproducao, contribuindo, segundos, dura, justa, construir, longe, globo, quao, lembrete, igualdade, sociedade, alguns, luta, vida\n"
     ]
    }
   ],
   "source": [
    "for topic_index in range(k):\n",
    "    descriptor = get_descriptor( terms, H, topic_index, 15)\n",
    "    str_descriptor = \", \".join( descriptor )\n",
    "    print(\"Topic %02d: %s\" % ( topic_index+1, str_descriptor ) )"
   ]
  },
  {
   "cell_type": "code",
   "execution_count": 39,
   "metadata": {
    "ExecuteTime": {
     "end_time": "2021-03-19T00:41:57.652410Z",
     "start_time": "2021-03-19T00:41:57.640142Z"
    }
   },
   "outputs": [
    {
     "name": "stdout",
     "output_type": "stream",
     "text": [
      "Topic 01: marco, mulheres, tecelagem, trabalhavam, trancadas, carbonizadas, aproximadamente, estarem, fabrica, morreram, york, greve, nova, declarou, homenagem, onde, dia, internacional, mulher, obrigado\n",
      "Topic 02: onibus, lembrancinha, enfeita, entram, motorista, semana, dar, ano, mulheres, internacional, mulher, dia, parabens, amanha, brasil, homens, cena, violencia, diainternacionaldamulher, contra\n",
      "Topic 03: faltar, pode, internacional, mulher, dia, feministo, depositar, 10k, conta, algum, homem, marco, julgue, amanha, violencia, parabens, ser, respeito, marido, vitima\n",
      "Topic 04: incriveis, diadamulher, diadasmulheres, pratica, mulheres, discurso, diainternacionaldamulher, rememberskam, melhor, internationalwomensday, donas, hoje, dao, agradeca, domingodetremurasdv, juntas, esquecam, disso, fortes, fazem\n",
      "Topic 05: iconico, relembrar, vamos, importancia, video, internacional, mulher, dia, melhor, cena, paciente, vitima, diadasmulheres, amo, enxergava, greysloan, corredor, juntaram, suporte, rosto\n",
      "Topic 06: tik, tok, possivel, feminista, feliz, diadasmulheres, pratica, discurso, melhor, mulheres, 8m2020, estuprador, explosao, vestia, opressor, homem, culpa, estado, chile, onde\n",
      "Topic 07: feliz, dia, internacional, mulher, mulheres, guerreiras, internationalwomensday, parabens, diadasmulheres, ser, diainternacionaldamulher, votou, enfia, cena, violencia, mundo, principalmente, respeito, marco, linda\n",
      "Topic 08: deveria, menos, vez, internationalwomensday, vida, mundo, video, ver, diadasmulheres, assistir, sinto, melhor, mulheres, obrigado, ser, cada, homem, guerreiras, mudar, discurso\n",
      "Topic 09: sobre, respeitarem, numeros, bom, mostram, presentes, segue, data, direitos, flores, luta, importancia, hoje, dia, internacional, mulher, respeito, ruas, mulheres, melhores\n",
      "Topic 10: vou, falar, diadasmulheres, pratica, discurso, melhor, marco, video, lugar, mulheres, sempre, 8m2020, brasil, feminino, quiser, vestir, resistencia, ouvido, brasilia, disseram\n",
      "Topic 11: quiser, lugar, mjsp, inclusive, seguranca, publica, justica, nacional, forca, onde, homenagem, mulheres, mulher, internacional, dia, ser, parabens, ter, respeito, transformam\n",
      "Topic 12: donalds, trabalhassem, trataram, folga, machos, lembro, colocou, ato, ainda, feminista, hoje, dia, mulheres, internacional, mulher, parabens, caminho, parabeniza, apoia, duas\n",
      "Topic 13: 8m2020, esquecer, nunca, melhor, bolsonaro, mulheres, hoje, video, brasil, diadasmulheres, votou, apoia, parabeniza, duas, enfia, violencia, coisas, julgue, sim, amanha\n",
      "Topic 14: thread, importantes, negras, brasileira, historia, diadasmulheres, mulheres, pratica, discurso, brasil, marco, internationalwomensday, anos, homens, cena, fio, paciente, segundo, pesquisa, influentes\n",
      "Topic 15: hoje, ser, repense, parca, rir, questionar, trai, babaca, pano, atitudes, inves, agressor, roupa, vitima, pare, adianta, passar, estupro, misogino, dias\n",
      "Topic 16: 8m, valparaiso, mulheres, bolsonaro, apoia, parabeniza, coisas, duas, hoje, brasilia, foto, luta, livres, humanamente, luxemburgo, socialmente, diferentes, iguais, totalmente, ricardo\n",
      "Topic 17: queremos, nao, parabens, mulheres, amanha, lembretes, fofa, sapato, bombons, batom, sao, promocao, zap, tds, mensagem, dias, rosa, alguns, flores, luta\n",
      "Topic 18: marco, manu, gavassi, dia, b20, falso, caralho, margens, declarando, piscina, gritou, b2o2o, obrigado, falsodocaralho, mulher, internacional, guerreiras, mudar, cada, bate\n",
      "Topic 19: reafirmou, homanagem, anatomy, grey, comeco, vezes, poder, thread, fazer, vamos, diadamulher, mulher, marco, ser, diainternacionaldamulher, feminino, elenco, enaltecer, internationalwomensday, respeito\n",
      "Topic 20: reproducao, contribuindo, segundos, dura, justa, construir, longe, globo, quao, lembrete, igualdade, sociedade, alguns, luta, vida, video, mulher, dia, internacional, respeito\n"
     ]
    }
   ],
   "source": [
    "for topic_index in range(k):\n",
    "    descriptor = get_descriptor( terms, H, topic_index, 20)\n",
    "    str_descriptor = \", \".join( descriptor )\n",
    "    print(\"Topic %02d: %s\" % ( topic_index+1, str_descriptor ) )"
   ]
  },
  {
   "cell_type": "code",
   "execution_count": null,
   "metadata": {},
   "outputs": [],
   "source": []
  },
  {
   "cell_type": "code",
   "execution_count": null,
   "metadata": {},
   "outputs": [],
   "source": []
  },
  {
   "cell_type": "code",
   "execution_count": null,
   "metadata": {},
   "outputs": [],
   "source": []
  }
 ],
 "metadata": {
  "@webio": {
   "lastCommId": null,
   "lastKernelId": null
  },
  "kernelspec": {
   "display_name": "Python 3",
   "language": "python",
   "name": "python3"
  },
  "language_info": {
   "codemirror_mode": {
    "name": "ipython",
    "version": 3
   },
   "file_extension": ".py",
   "mimetype": "text/x-python",
   "name": "python",
   "nbconvert_exporter": "python",
   "pygments_lexer": "ipython3",
   "version": "3.7.7"
  },
  "toc": {
   "base_numbering": 1,
   "nav_menu": {
    "height": "91px",
    "width": "373px"
   },
   "number_sections": true,
   "sideBar": true,
   "skip_h1_title": false,
   "title_cell": "Table of Contents",
   "title_sidebar": "Contents",
   "toc_cell": false,
   "toc_position": {
    "height": "557px",
    "left": "22px",
    "top": "170px",
    "width": "288px"
   },
   "toc_section_display": true,
   "toc_window_display": false
  }
 },
 "nbformat": 4,
 "nbformat_minor": 4
}
