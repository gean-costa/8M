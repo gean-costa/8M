{
 "cells": [
  {
   "cell_type": "markdown",
   "metadata": {},
   "source": [
    "# Parameter Selection for NMF"
   ]
  },
  {
   "cell_type": "markdown",
   "metadata": {},
   "source": [
    "Now we look at the more advanced task of parameter selection for NMF topic modelling - namely, selecting a useful value for the number of topics *k*."
   ]
  },
  {
   "cell_type": "markdown",
   "metadata": {},
   "source": [
    "First, let's load the TF-IDF normalised document-term matrix and list of terms that we stored earlier using *Joblib*:"
   ]
  },
  {
   "cell_type": "code",
   "execution_count": 1,
   "metadata": {
    "ExecuteTime": {
     "end_time": "2021-02-13T14:52:56.034345Z",
     "start_time": "2021-02-13T14:52:54.875494Z"
    }
   },
   "outputs": [
    {
     "name": "stdout",
     "output_type": "stream",
     "text": [
      "Loaded 274297 X 6381 document-term matrix\n"
     ]
    }
   ],
   "source": [
    "import joblib\n",
    "\n",
    "(A, terms, snippets) = joblib.load(\n",
    "    \"cenario1-tweets-tfidf.pkl\")\n",
    "\n",
    "print(\"Loaded %d X %d document-term matrix\" % (A.shape[0], A.shape[1]))"
   ]
  },
  {
   "cell_type": "markdown",
   "metadata": {},
   "source": [
    "### Create the Topic Models"
   ]
  },
  {
   "cell_type": "markdown",
   "metadata": {},
   "source": [
    "A common approach for parameter selection is to Measure and compare the topic coherence of models generated for different values of *k*."
   ]
  },
  {
   "cell_type": "markdown",
   "metadata": {},
   "source": [
    "We need to start by pre-specifying an initial range of \"sensible\" values:"
   ]
  },
  {
   "cell_type": "code",
   "execution_count": 2,
   "metadata": {
    "ExecuteTime": {
     "end_time": "2021-02-13T14:52:56.039072Z",
     "start_time": "2021-02-13T14:52:56.036384Z"
    }
   },
   "outputs": [],
   "source": [
    "kmin, kmax = 5, 30"
   ]
  },
  {
   "cell_type": "markdown",
   "metadata": {},
   "source": [
    "Apply NMF for each of these values:"
   ]
  },
  {
   "cell_type": "code",
   "execution_count": 3,
   "metadata": {
    "ExecuteTime": {
     "end_time": "2021-02-13T15:04:55.836170Z",
     "start_time": "2021-02-13T14:52:56.040617Z"
    }
   },
   "outputs": [
    {
     "name": "stdout",
     "output_type": "stream",
     "text": [
      "Applying NMF for k=5 ...\n",
      "Applying NMF for k=6 ...\n",
      "Applying NMF for k=7 ...\n",
      "Applying NMF for k=8 ...\n",
      "Applying NMF for k=9 ...\n",
      "Applying NMF for k=10 ...\n",
      "Applying NMF for k=11 ...\n",
      "Applying NMF for k=12 ...\n",
      "Applying NMF for k=13 ...\n",
      "Applying NMF for k=14 ...\n",
      "Applying NMF for k=15 ...\n",
      "Applying NMF for k=16 ...\n",
      "Applying NMF for k=17 ...\n",
      "Applying NMF for k=18 ...\n",
      "Applying NMF for k=19 ...\n",
      "Applying NMF for k=20 ...\n",
      "Applying NMF for k=21 ...\n",
      "Applying NMF for k=22 ...\n",
      "Applying NMF for k=23 ...\n",
      "Applying NMF for k=24 ...\n",
      "Applying NMF for k=25 ...\n",
      "Applying NMF for k=26 ...\n",
      "Applying NMF for k=27 ...\n",
      "Applying NMF for k=28 ...\n",
      "Applying NMF for k=29 ...\n",
      "Applying NMF for k=30 ...\n"
     ]
    }
   ],
   "source": [
    "from sklearn import decomposition\n",
    "\n",
    "topic_models = []\n",
    "\n",
    "# try each value of k\n",
    "for k in range(kmin, kmax + 1):\n",
    "    print(\"Applying NMF for k=%d ...\" % k)\n",
    "    # run NMF\n",
    "    model = decomposition.NMF(init=\"nndsvd\", n_components=k)\n",
    "    W = model.fit_transform(A)\n",
    "    H = model.components_\n",
    "    # store for later\n",
    "    topic_models.append((k, W, H))"
   ]
  },
  {
   "cell_type": "markdown",
   "metadata": {},
   "source": [
    "### Build a Word Embedding"
   ]
  },
  {
   "cell_type": "markdown",
   "metadata": {},
   "source": [
    "To select the number of topics, here we will use a *topic coherence* measure called TC-W2V. This measure relies on the use of a *word embedding* model constructed from our corpus. So in this step we will use the *Gensim* implementation of Word2Vec to build a Word2Vec model based on our collection of news articles."
   ]
  },
  {
   "cell_type": "markdown",
   "metadata": {},
   "source": [
    "**Note:** If you want to skip this step, a pre-built Word2Vec model for the sample dataset [is also provided here for download](http://erdos.ucd.ie/files/pydata/w2v-model.bin) (71MB)."
   ]
  },
  {
   "cell_type": "markdown",
   "metadata": {},
   "source": [
    "We read the documents from the input file again:"
   ]
  },
  {
   "cell_type": "code",
   "execution_count": 4,
   "metadata": {
    "ExecuteTime": {
     "end_time": "2021-02-13T15:04:56.143180Z",
     "start_time": "2021-02-13T15:04:55.837890Z"
    }
   },
   "outputs": [
    {
     "name": "stdout",
     "output_type": "stream",
     "text": [
      "Read 274297 raw text documents\n"
     ]
    }
   ],
   "source": [
    "import os.path\n",
    "\n",
    "raw_documents = []\n",
    "\n",
    "with open(os.path.join(\"cenario1_8M2020_tweets_pt.txt\"), \"r\") as fin:\n",
    "    for line in fin.readlines():\n",
    "        raw_documents.append(line.strip().lower())\n",
    "\n",
    "print(\"Read %d raw text documents\" % len(raw_documents))"
   ]
  },
  {
   "cell_type": "markdown",
   "metadata": {},
   "source": [
    "Read the custom stopword list:"
   ]
  },
  {
   "cell_type": "code",
   "execution_count": 5,
   "metadata": {
    "ExecuteTime": {
     "end_time": "2021-02-13T15:04:56.161593Z",
     "start_time": "2021-02-13T15:04:56.144663Z"
    }
   },
   "outputs": [
    {
     "name": "stdout",
     "output_type": "stream",
     "text": [
      "Stopword list has 231 entries\n"
     ]
    }
   ],
   "source": [
    "custom_stop_words = []\n",
    "\n",
    "with open(\"portuguese.txt\", \"r\") as fin:\n",
    "    for line in fin.readlines():\n",
    "        custom_stop_words.append(line.strip().lower())\n",
    "\n",
    "# note that we need to make it hashable\n",
    "print(\"Stopword list has %d entries\" % len(custom_stop_words))"
   ]
  },
  {
   "cell_type": "markdown",
   "metadata": {},
   "source": [
    "First, we need to define a class that will generate documents in a form that can be consumed by Gensim's Word2Vec implementation:"
   ]
  },
  {
   "cell_type": "code",
   "execution_count": 6,
   "metadata": {
    "ExecuteTime": {
     "end_time": "2021-02-13T15:04:56.178542Z",
     "start_time": "2021-02-13T15:04:56.162939Z"
    }
   },
   "outputs": [],
   "source": [
    "import re\n",
    "\n",
    "\n",
    "class TokenGenerator:\n",
    "    def __init__(self, documents, stopwords):\n",
    "        self.documents = documents\n",
    "        self.stopwords = stopwords\n",
    "        self.tokenizer = re.compile(r\"(?u)\\b\\w\\w+\\b\")\n",
    "\n",
    "    def __iter__(self):\n",
    "        print(\"Building Word2Vec model ...\")\n",
    "        for doc in self.documents:\n",
    "            tokens = []\n",
    "            for tok in self.tokenizer.findall(doc):\n",
    "                if tok in self.stopwords:\n",
    "                    tokens.append(\"<stopword>\")\n",
    "                elif len(tok) >= 2:\n",
    "                    tokens.append(tok)\n",
    "            yield tokens"
   ]
  },
  {
   "cell_type": "markdown",
   "metadata": {},
   "source": [
    "Now build a Skipgram Word2Vec model from all documents in the input file using *Gensim*:"
   ]
  },
  {
   "cell_type": "code",
   "execution_count": 7,
   "metadata": {
    "ExecuteTime": {
     "end_time": "2021-02-13T15:04:56.776979Z",
     "start_time": "2021-02-13T15:04:56.182431Z"
    }
   },
   "outputs": [],
   "source": [
    "import gensim"
   ]
  },
  {
   "cell_type": "code",
   "execution_count": 8,
   "metadata": {
    "ExecuteTime": {
     "end_time": "2021-02-13T15:06:54.068593Z",
     "start_time": "2021-02-13T15:04:56.779256Z"
    }
   },
   "outputs": [
    {
     "name": "stdout",
     "output_type": "stream",
     "text": [
      "Building Word2Vec model ...\n",
      "Building Word2Vec model ...\n",
      "Building Word2Vec model ...\n",
      "Building Word2Vec model ...\n",
      "Building Word2Vec model ...\n",
      "Building Word2Vec model ...\n"
     ]
    }
   ],
   "source": [
    "docgen = TokenGenerator(raw_documents, custom_stop_words)\n",
    "\n",
    "# the model has 500 dimensions, the minimum document-term frequency is 20\n",
    "w2v_model = gensim.models.Word2Vec(docgen, size=500, min_count=20, sg=1)"
   ]
  },
  {
   "cell_type": "code",
   "execution_count": 9,
   "metadata": {
    "ExecuteTime": {
     "end_time": "2021-02-13T15:06:54.072867Z",
     "start_time": "2021-02-13T15:06:54.070040Z"
    }
   },
   "outputs": [
    {
     "name": "stdout",
     "output_type": "stream",
     "text": [
      "Model has 6435 terms\n"
     ]
    }
   ],
   "source": [
    "print( \"Model has %d terms\" % len(w2v_model.wv.vocab) )"
   ]
  },
  {
   "cell_type": "markdown",
   "metadata": {},
   "source": [
    "Save for later use, so that we do not need to rebuild it:"
   ]
  },
  {
   "cell_type": "code",
   "execution_count": 10,
   "metadata": {
    "ExecuteTime": {
     "end_time": "2021-02-13T15:06:54.399202Z",
     "start_time": "2021-02-13T15:06:54.074186Z"
    }
   },
   "outputs": [],
   "source": [
    "w2v_model.save(\"cenario1_w2v-model.bin\")"
   ]
  },
  {
   "cell_type": "code",
   "execution_count": 11,
   "metadata": {
    "ExecuteTime": {
     "end_time": "2021-02-13T15:06:54.403010Z",
     "start_time": "2021-02-13T15:06:54.400819Z"
    }
   },
   "outputs": [],
   "source": [
    "# To re-load this model, run\n",
    "# w2v_model = gensim.models.Word2Vec.load(\"cenario1_w2v-model.bin\")"
   ]
  },
  {
   "cell_type": "markdown",
   "metadata": {},
   "source": [
    "### Selecting the Number of Topics"
   ]
  },
  {
   "cell_type": "markdown",
   "metadata": {},
   "source": [
    "Once we have our Word2vec model, we can use it as part of our *topic coherence* approach to evaluate the different NMF topic models that we created previously. To do this, we will implement a simple version of the TC-W2V coherence measure."
   ]
  },
  {
   "cell_type": "markdown",
   "metadata": {},
   "source": [
    "We use the Word2vec model to calculate coherence scores for each of these models. We will define this coherence score as follows:"
   ]
  },
  {
   "cell_type": "code",
   "execution_count": 12,
   "metadata": {
    "ExecuteTime": {
     "end_time": "2021-02-13T15:06:54.413167Z",
     "start_time": "2021-02-13T15:06:54.405024Z"
    }
   },
   "outputs": [],
   "source": [
    "def calculate_coherence(w2v_model, term_rankings):\n",
    "    overall_coherence = 0.0\n",
    "    \n",
    "    for topic_index in range(len(term_rankings)):\n",
    "        # check each pair of terms\n",
    "        pair_scores = []\n",
    "        for pair in combinations(term_rankings[topic_index], 2):\n",
    "            pair_scores.append(w2v_model.similarity(pair[0], pair[1]))\n",
    "        # get the mean for all pairs in this topic\n",
    "        topic_score = sum(pair_scores) / len(pair_scores)\n",
    "        overall_coherence += topic_score\n",
    "    \n",
    "    # get the mean score across all topics\n",
    "    return overall_coherence / len(term_rankings)"
   ]
  },
  {
   "cell_type": "markdown",
   "metadata": {},
   "source": [
    "We also define a function to get the topic descriptor (i.e. list of top terms) for each topic:"
   ]
  },
  {
   "cell_type": "code",
   "execution_count": 13,
   "metadata": {
    "ExecuteTime": {
     "end_time": "2021-02-13T15:06:54.422923Z",
     "start_time": "2021-02-13T15:06:54.414620Z"
    }
   },
   "outputs": [],
   "source": [
    "import numpy as np\n",
    "\n",
    "\n",
    "def get_descriptor(all_terms, H, topic_index, top):\n",
    "    # reverse sort the values to sort the indices\n",
    "    top_indices = np.argsort(H[topic_index, :])[::-1]\n",
    "    \n",
    "    # now get the terms corresponding to the top-ranked indices\n",
    "    top_terms = []\n",
    "    \n",
    "    for term_index in top_indices[0:top]:\n",
    "        top_terms.append(all_terms[term_index])\n",
    "    \n",
    "    return top_terms"
   ]
  },
  {
   "cell_type": "markdown",
   "metadata": {},
   "source": [
    "Now process each of the models for different values of *k*:"
   ]
  },
  {
   "cell_type": "code",
   "execution_count": 14,
   "metadata": {
    "ExecuteTime": {
     "end_time": "2021-02-13T15:06:55.321084Z",
     "start_time": "2021-02-13T15:06:54.424351Z"
    }
   },
   "outputs": [
    {
     "name": "stderr",
     "output_type": "stream",
     "text": [
      "/home/gean/anaconda3/lib/python3.7/site-packages/ipykernel_launcher.py:8: DeprecationWarning: Call to deprecated `similarity` (Method will be removed in 4.0.0, use self.wv.similarity() instead).\n",
      "  \n"
     ]
    },
    {
     "name": "stdout",
     "output_type": "stream",
     "text": [
      "K=05: Coherence=0.3963\n",
      "K=06: Coherence=0.3742\n",
      "K=07: Coherence=0.3955\n",
      "K=08: Coherence=0.3745\n",
      "K=09: Coherence=0.3688\n",
      "K=10: Coherence=0.3785\n",
      "K=11: Coherence=0.3773\n",
      "K=12: Coherence=0.3747\n",
      "K=13: Coherence=0.3767\n",
      "K=14: Coherence=0.3612\n",
      "K=15: Coherence=0.3602\n",
      "K=16: Coherence=0.3668\n",
      "K=17: Coherence=0.3678\n",
      "K=18: Coherence=0.3640\n",
      "K=19: Coherence=0.3619\n",
      "K=20: Coherence=0.3744\n",
      "K=21: Coherence=0.3749\n",
      "K=22: Coherence=0.3775\n",
      "K=23: Coherence=0.3691\n",
      "K=24: Coherence=0.3722\n",
      "K=25: Coherence=0.3779\n",
      "K=26: Coherence=0.3807\n",
      "K=27: Coherence=0.3806\n",
      "K=28: Coherence=0.3865\n",
      "K=29: Coherence=0.3827\n",
      "K=30: Coherence=0.3772\n"
     ]
    }
   ],
   "source": [
    "from itertools import combinations\n",
    "\n",
    "k_values = []\n",
    "coherences = []\n",
    "\n",
    "for (k, W, H) in topic_models:\n",
    "    # Get all of the topic descriptors - the term_rankings, based on top 10 terms\n",
    "    term_rankings = []\n",
    "    \n",
    "    for topic_index in range(k):\n",
    "        term_rankings.append(get_descriptor(terms, H, topic_index, 10))\n",
    "    \n",
    "    # Now calculate the coherence based on our Word2vec model\n",
    "    k_values.append(k)\n",
    "    coherences.append(calculate_coherence(w2v_model, term_rankings))\n",
    "    \n",
    "    print(\"K=%02d: Coherence=%.4f\" % (k, coherences[-1]))\n",
    "    # print(f'{coherences[-1]:.4f}')"
   ]
  },
  {
   "cell_type": "markdown",
   "metadata": {},
   "source": [
    "We can now use *matplotlib* to generate a line plot of these coherence scores, to help us select an appropriate value."
   ]
  },
  {
   "cell_type": "code",
   "execution_count": 15,
   "metadata": {
    "ExecuteTime": {
     "end_time": "2021-02-13T15:06:55.632646Z",
     "start_time": "2021-02-13T15:06:55.322579Z"
    }
   },
   "outputs": [],
   "source": [
    "%matplotlib inline\n",
    "import matplotlib\n",
    "import matplotlib.pyplot as plt\n",
    "\n",
    "plt.style.use(\"ggplot\")\n",
    "matplotlib.rcParams.update({\"font.size\": 14})"
   ]
  },
  {
   "cell_type": "code",
   "execution_count": 16,
   "metadata": {
    "ExecuteTime": {
     "end_time": "2021-02-13T15:06:55.936968Z",
     "start_time": "2021-02-13T15:06:55.634096Z"
    }
   },
   "outputs": [
    {
     "data": {
      "image/png": "[encoded data removed]",
      "text/plain": [
       "<Figure size 936x504 with 1 Axes>"
      ]
     },
     "metadata": {},
     "output_type": "display_data"
    }
   ],
   "source": [
    "fig = plt.figure(figsize=(13,7))\n",
    "\n",
    "# create the line plot\n",
    "ax = plt.plot( k_values, coherences )\n",
    "plt.xticks(k_values)\n",
    "plt.xlabel(\"Number of Topics\")\n",
    "plt.ylabel(\"Mean Coherence\")\n",
    "\n",
    "# add the points\n",
    "plt.scatter( k_values, coherences, s=120)\n",
    "\n",
    "\n",
    "# find and annotate the maximum point on the plot\n",
    "ymax = max(coherences)\n",
    "xpos = coherences.index(ymax)\n",
    "best_k = k_values[xpos]\n",
    "plt.annotate( \"k=%d\" % best_k, xy=(best_k, ymax), xytext=(best_k, ymax), textcoords=\"offset points\", fontsize=16)\n",
    "\n",
    "# show the plot\n",
    "plt.show()"
   ]
  },
  {
   "cell_type": "markdown",
   "metadata": {},
   "source": [
    "### Examine the Final  Model"
   ]
  },
  {
   "cell_type": "markdown",
   "metadata": {},
   "source": [
    "The plot above suggests that the most appropriate value for the number of topics is *k=8*."
   ]
  },
  {
   "cell_type": "code",
   "execution_count": 45,
   "metadata": {
    "ExecuteTime": {
     "end_time": "2021-02-13T20:32:42.015583Z",
     "start_time": "2021-02-13T20:32:42.011463Z"
    }
   },
   "outputs": [],
   "source": [
    "k = best_k\n",
    "\n",
    "# get the model that we generated earlier.\n",
    "W = topic_models[k-kmin][1]\n",
    "H = topic_models[k-kmin][2]"
   ]
  },
  {
   "cell_type": "markdown",
   "metadata": {},
   "source": [
    "Display the topic descriptors for this model:"
   ]
  },
  {
   "cell_type": "code",
   "execution_count": 46,
   "metadata": {
    "ExecuteTime": {
     "end_time": "2021-02-13T20:32:43.016560Z",
     "start_time": "2021-02-13T20:32:43.011045Z"
    },
    "scrolled": true
   },
   "outputs": [
    {
     "name": "stdout",
     "output_type": "stream",
     "text": [
      "Topic 01: marco, mulheres, tecelagem, trabalhavam, trancadas\n",
      "Topic 02: onibus, lembrancinha, enfeita, entram, motorista\n",
      "Topic 03: faltar, pode, internacional, mulher, dia\n",
      "Topic 04: incriveis, mulheres, feliz, esquecam, dia\n",
      "Topic 05: feliz, dia, mulher, iconico, internacional\n"
     ]
    }
   ],
   "source": [
    "for topic_index in range(k):\n",
    "    descriptor = get_descriptor( terms, H, topic_index, 5)\n",
    "    str_descriptor = \", \".join( descriptor )\n",
    "    print(\"Topic %02d: %s\" % ( topic_index+1, str_descriptor ) )"
   ]
  },
  {
   "cell_type": "code",
   "execution_count": 47,
   "metadata": {
    "ExecuteTime": {
     "end_time": "2021-02-13T20:32:43.519234Z",
     "start_time": "2021-02-13T20:32:43.513880Z"
    }
   },
   "outputs": [
    {
     "name": "stdout",
     "output_type": "stream",
     "text": [
      "Topic 01: marco, mulheres, tecelagem, trabalhavam, trancadas, carbonizadas, aproximadamente, estarem, fabrica, morreram\n",
      "Topic 02: onibus, lembrancinha, enfeita, entram, motorista, semana, dar, ano, mulheres, internacional\n",
      "Topic 03: faltar, pode, internacional, mulher, dia, feliz, feministo, depositar, conta, algum\n",
      "Topic 04: incriveis, mulheres, feliz, esquecam, dia, sonham, brisa, sorte, manas, querem\n",
      "Topic 05: feliz, dia, mulher, iconico, internacional, importancia, relembrar, video, vamos, feminista\n"
     ]
    }
   ],
   "source": [
    "for topic_index in range(k):\n",
    "    descriptor = get_descriptor( terms, H, topic_index, 10)\n",
    "    str_descriptor = \", \".join( descriptor )\n",
    "    print(\"Topic %02d: %s\" % ( topic_index+1, str_descriptor ) )"
   ]
  },
  {
   "cell_type": "code",
   "execution_count": 48,
   "metadata": {
    "ExecuteTime": {
     "end_time": "2021-02-13T20:32:43.955471Z",
     "start_time": "2021-02-13T20:32:43.948866Z"
    }
   },
   "outputs": [
    {
     "name": "stdout",
     "output_type": "stream",
     "text": [
      "Topic 01: marco, mulheres, tecelagem, trabalhavam, trancadas, carbonizadas, aproximadamente, estarem, fabrica, morreram, york, greve, nova, declarou, dia\n",
      "Topic 02: onibus, lembrancinha, enfeita, entram, motorista, semana, dar, ano, mulheres, internacional, mulher, dia, feliz, hoje, parabens\n",
      "Topic 03: faltar, pode, internacional, mulher, dia, feliz, feministo, depositar, conta, algum, marco, homem, obrigado, hoje, parabens\n",
      "Topic 04: incriveis, mulheres, feliz, esquecam, dia, sonham, brisa, sorte, manas, querem, dao, donas, tudo, fazem, nunca\n",
      "Topic 05: feliz, dia, mulher, iconico, internacional, importancia, relembrar, video, vamos, feminista, tok, tik, possivel, hoje, sobre\n"
     ]
    }
   ],
   "source": [
    "for topic_index in range(k):\n",
    "    descriptor = get_descriptor( terms, H, topic_index, 15)\n",
    "    str_descriptor = \", \".join( descriptor )\n",
    "    print(\"Topic %02d: %s\" % ( topic_index+1, str_descriptor ) )"
   ]
  },
  {
   "cell_type": "code",
   "execution_count": 49,
   "metadata": {
    "ExecuteTime": {
     "end_time": "2021-02-13T20:32:44.359627Z",
     "start_time": "2021-02-13T20:32:44.354012Z"
    }
   },
   "outputs": [
    {
     "name": "stdout",
     "output_type": "stream",
     "text": [
      "Topic 01: marco, mulheres, tecelagem, trabalhavam, trancadas, carbonizadas, aproximadamente, estarem, fabrica, morreram, york, greve, nova, declarou, dia, homenagem, onde, internacional, mulher, quiser\n",
      "Topic 02: onibus, lembrancinha, enfeita, entram, motorista, semana, dar, ano, mulheres, internacional, mulher, dia, feliz, hoje, parabens, dias, quiser, ser, forca, lugar\n",
      "Topic 03: faltar, pode, internacional, mulher, dia, feliz, feministo, depositar, conta, algum, marco, homem, obrigado, hoje, parabens, quiser, lugar, thread, amanha, ser\n",
      "Topic 04: incriveis, mulheres, feliz, esquecam, dia, sonham, brisa, sorte, manas, querem, dao, donas, tudo, fazem, nunca, disso, juntas, enaltecer, maravilhosas, lindas\n",
      "Topic 05: feliz, dia, mulher, iconico, internacional, importancia, relembrar, video, vamos, feminista, tok, tik, possivel, hoje, sobre, mulheres, luta, mundo, bom, flores\n"
     ]
    }
   ],
   "source": [
    "for topic_index in range(k):\n",
    "    descriptor = get_descriptor( terms, H, topic_index, 20)\n",
    "    str_descriptor = \", \".join( descriptor )\n",
    "    print(\"Topic %02d: %s\" % ( topic_index+1, str_descriptor ) )"
   ]
  },
  {
   "cell_type": "code",
   "execution_count": null,
   "metadata": {},
   "outputs": [],
   "source": []
  },
  {
   "cell_type": "code",
   "execution_count": null,
   "metadata": {},
   "outputs": [],
   "source": []
  },
  {
   "cell_type": "code",
   "execution_count": null,
   "metadata": {},
   "outputs": [],
   "source": []
  }
 ],
 "metadata": {
  "@webio": {
   "lastCommId": null,
   "lastKernelId": null
  },
  "kernelspec": {
   "display_name": "Python 3",
   "language": "python",
   "name": "python3"
  },
  "language_info": {
   "codemirror_mode": {
    "name": "ipython",
    "version": 3
   },
   "file_extension": ".py",
   "mimetype": "text/x-python",
   "name": "python",
   "nbconvert_exporter": "python",
   "pygments_lexer": "ipython3",
   "version": "3.7.7"
  },
  "toc": {
   "base_numbering": 1,
   "nav_menu": {
    "height": "91px",
    "width": "373px"
   },
   "number_sections": true,
   "sideBar": true,
   "skip_h1_title": false,
   "title_cell": "Table of Contents",
   "title_sidebar": "Contents",
   "toc_cell": false,
   "toc_position": {
    "height": "557px",
    "left": "22px",
    "top": "170px",
    "width": "288px"
   },
   "toc_section_display": true,
   "toc_window_display": false
  }
 },
 "nbformat": 4,
 "nbformat_minor": 4
}
