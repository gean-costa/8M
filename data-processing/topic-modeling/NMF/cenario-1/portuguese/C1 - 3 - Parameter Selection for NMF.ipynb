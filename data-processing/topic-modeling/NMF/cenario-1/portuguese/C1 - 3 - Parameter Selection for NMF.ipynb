{
 "cells": [
  {
   "cell_type": "markdown",
   "metadata": {},
   "source": [
    "# Parameter Selection for NMF"
   ]
  },
  {
   "cell_type": "markdown",
   "metadata": {},
   "source": [
    "Now we look at the more advanced task of parameter selection for NMF topic modelling - namely, selecting a useful value for the number of topics *k*."
   ]
  },
  {
   "cell_type": "markdown",
   "metadata": {},
   "source": [
    "First, let's load the TF-IDF normalised document-term matrix and list of terms that we stored earlier using *Joblib*:"
   ]
  },
  {
   "cell_type": "code",
   "execution_count": 1,
   "metadata": {
    "ExecuteTime": {
     "end_time": "2021-05-19T00:24:26.670537Z",
     "start_time": "2021-05-19T00:24:25.910575Z"
    }
   },
   "outputs": [
    {
     "name": "stdout",
     "output_type": "stream",
     "text": [
      "Loaded 124293 X 5532 document-term matrix\n"
     ]
    }
   ],
   "source": [
    "import joblib\n",
    "\n",
    "(A, terms, snippets) = joblib.load(\"21cenario1-tweets-tfidf.pkl\")\n",
    "\n",
    "print(\"Loaded %d X %d document-term matrix\" % (A.shape[0], A.shape[1]))"
   ]
  },
  {
   "cell_type": "markdown",
   "metadata": {},
   "source": [
    "### Create the Topic Models"
   ]
  },
  {
   "cell_type": "markdown",
   "metadata": {},
   "source": [
    "A common approach for parameter selection is to Measure and compare the topic coherence of models generated for different values of *k*."
   ]
  },
  {
   "cell_type": "markdown",
   "metadata": {},
   "source": [
    "We need to start by pre-specifying an initial range of \"sensible\" values:"
   ]
  },
  {
   "cell_type": "code",
   "execution_count": 2,
   "metadata": {
    "ExecuteTime": {
     "end_time": "2021-05-19T00:24:26.674319Z",
     "start_time": "2021-05-19T00:24:26.672041Z"
    }
   },
   "outputs": [],
   "source": [
    "kmin, kmax = 5, 20"
   ]
  },
  {
   "cell_type": "markdown",
   "metadata": {},
   "source": [
    "Apply NMF for each of these values:"
   ]
  },
  {
   "cell_type": "code",
   "execution_count": 3,
   "metadata": {
    "ExecuteTime": {
     "end_time": "2021-05-19T00:25:13.471784Z",
     "start_time": "2021-05-19T00:24:26.675440Z"
    }
   },
   "outputs": [
    {
     "name": "stdout",
     "output_type": "stream",
     "text": [
      "Applying NMF for k=5 ...\n",
      "Applying NMF for k=10 ...\n",
      "Applying NMF for k=15 ...\n",
      "Applying NMF for k=20 ...\n"
     ]
    }
   ],
   "source": [
    "from sklearn import decomposition\n",
    "\n",
    "topic_models = []\n",
    "\n",
    "# try each value of k\n",
    "for k in range(kmin, kmax + 1, 5):\n",
    "    print(\"Applying NMF for k=%d ...\" % k)\n",
    "    # run NMF\n",
    "    model = decomposition.NMF(init=\"nndsvd\", n_components=k)\n",
    "    W = model.fit_transform(A)\n",
    "    H = model.components_\n",
    "    # store for later\n",
    "    topic_models.append((k, W, H))"
   ]
  },
  {
   "cell_type": "markdown",
   "metadata": {},
   "source": [
    "### Build a Word Embedding"
   ]
  },
  {
   "cell_type": "markdown",
   "metadata": {},
   "source": [
    "To select the number of topics, here we will use a *topic coherence* measure called TC-W2V. This measure relies on the use of a *word embedding* model constructed from our corpus. So in this step we will use the *Gensim* implementation of Word2Vec to build a Word2Vec model based on our collection of news articles."
   ]
  },
  {
   "cell_type": "markdown",
   "metadata": {},
   "source": [
    "**Note:** If you want to skip this step, a pre-built Word2Vec model for the sample dataset [is also provided here for download](http://erdos.ucd.ie/files/pydata/w2v-model.bin) (71MB)."
   ]
  },
  {
   "cell_type": "markdown",
   "metadata": {},
   "source": [
    "We read the documents from the input file again:"
   ]
  },
  {
   "cell_type": "code",
   "execution_count": 4,
   "metadata": {
    "ExecuteTime": {
     "end_time": "2021-05-19T00:25:13.702940Z",
     "start_time": "2021-05-19T00:25:13.473679Z"
    }
   },
   "outputs": [
    {
     "name": "stdout",
     "output_type": "stream",
     "text": [
      "Read 124293 raw text documents\n"
     ]
    }
   ],
   "source": [
    "import os.path\n",
    "\n",
    "raw_documents = []\n",
    "\n",
    "with open(os.path.join(\"cenario1_8M2021_tweets_pt.txt\"), \"r\") as fin:\n",
    "    for line in fin.readlines():\n",
    "        raw_documents.append(line.strip().lower())\n",
    "\n",
    "print(\"Read %d raw text documents\" % len(raw_documents))"
   ]
  },
  {
   "cell_type": "markdown",
   "metadata": {},
   "source": [
    "Read the custom stopword list:"
   ]
  },
  {
   "cell_type": "code",
   "execution_count": 5,
   "metadata": {
    "ExecuteTime": {
     "end_time": "2021-05-19T00:25:13.728621Z",
     "start_time": "2021-05-19T00:25:13.704222Z"
    }
   },
   "outputs": [
    {
     "name": "stdout",
     "output_type": "stream",
     "text": [
      "Stopword list has 231 entries\n"
     ]
    }
   ],
   "source": [
    "custom_stop_words = []\n",
    "\n",
    "with open(\"portuguese.txt\", \"r\") as fin:\n",
    "    for line in fin.readlines():\n",
    "        custom_stop_words.append(line.strip().lower())\n",
    "\n",
    "# note that we need to make it hashable\n",
    "print(\"Stopword list has %d entries\" % len(custom_stop_words))"
   ]
  },
  {
   "cell_type": "markdown",
   "metadata": {},
   "source": [
    "First, we need to define a class that will generate documents in a form that can be consumed by Gensim's Word2Vec implementation:"
   ]
  },
  {
   "cell_type": "code",
   "execution_count": 6,
   "metadata": {
    "ExecuteTime": {
     "end_time": "2021-05-19T00:25:13.745370Z",
     "start_time": "2021-05-19T00:25:13.729954Z"
    }
   },
   "outputs": [],
   "source": [
    "import re\n",
    "\n",
    "\n",
    "class TokenGenerator:\n",
    "    def __init__(self, documents, stopwords):\n",
    "        self.documents = documents\n",
    "        self.stopwords = stopwords\n",
    "        self.tokenizer = re.compile(r\"(?u)\\b\\w\\w+\\b\")\n",
    "\n",
    "    def __iter__(self):\n",
    "        print(\"Building Word2Vec model ...\")\n",
    "        for doc in self.documents:\n",
    "            tokens = []\n",
    "            for tok in self.tokenizer.findall(doc):\n",
    "                if tok in self.stopwords:\n",
    "                    tokens.append(\"<stopword>\")\n",
    "                elif len(tok) >= 2:\n",
    "                    tokens.append(tok)\n",
    "            yield tokens"
   ]
  },
  {
   "cell_type": "markdown",
   "metadata": {},
   "source": [
    "Now build a Skipgram Word2Vec model from all documents in the input file using *Gensim*:"
   ]
  },
  {
   "cell_type": "code",
   "execution_count": 7,
   "metadata": {
    "ExecuteTime": {
     "end_time": "2021-05-19T00:25:13.926682Z",
     "start_time": "2021-05-19T00:25:13.747470Z"
    }
   },
   "outputs": [],
   "source": [
    "import gensim"
   ]
  },
  {
   "cell_type": "code",
   "execution_count": 8,
   "metadata": {
    "ExecuteTime": {
     "end_time": "2021-05-19T00:26:10.696986Z",
     "start_time": "2021-05-19T00:25:13.928505Z"
    }
   },
   "outputs": [
    {
     "name": "stdout",
     "output_type": "stream",
     "text": [
      "Building Word2Vec model ...\n",
      "Building Word2Vec model ...\n",
      "Building Word2Vec model ...\n",
      "Building Word2Vec model ...\n",
      "Building Word2Vec model ...\n",
      "Building Word2Vec model ...\n"
     ]
    }
   ],
   "source": [
    "docgen = TokenGenerator(raw_documents, custom_stop_words)\n",
    "\n",
    "# the model has 500 dimensions, the minimum document-term frequency is 20\n",
    "w2v_model = gensim.models.Word2Vec(docgen, size=500, min_count=20, sg=1)"
   ]
  },
  {
   "cell_type": "code",
   "execution_count": 9,
   "metadata": {
    "ExecuteTime": {
     "end_time": "2021-05-19T00:26:10.701578Z",
     "start_time": "2021-05-19T00:26:10.698505Z"
    }
   },
   "outputs": [
    {
     "name": "stdout",
     "output_type": "stream",
     "text": [
      "Model has 5611 terms\n"
     ]
    }
   ],
   "source": [
    "print( \"Model has %d terms\" % len(w2v_model.wv.vocab) )"
   ]
  },
  {
   "cell_type": "markdown",
   "metadata": {},
   "source": [
    "Save for later use, so that we do not need to rebuild it:"
   ]
  },
  {
   "cell_type": "code",
   "execution_count": 10,
   "metadata": {
    "ExecuteTime": {
     "end_time": "2021-05-19T00:26:10.947437Z",
     "start_time": "2021-05-19T00:26:10.702985Z"
    }
   },
   "outputs": [],
   "source": [
    "w2v_model.save(\"21cenario1_w2v-model.bin\")"
   ]
  },
  {
   "cell_type": "code",
   "execution_count": 11,
   "metadata": {
    "ExecuteTime": {
     "end_time": "2021-05-19T00:26:10.950835Z",
     "start_time": "2021-05-19T00:26:10.948931Z"
    }
   },
   "outputs": [],
   "source": [
    "# To re-load this model, run\n",
    "# w2v_model = gensim.models.Word2Vec.load(\"cenario1_w2v-model.bin\")"
   ]
  },
  {
   "cell_type": "markdown",
   "metadata": {},
   "source": [
    "### Selecting the Number of Topics"
   ]
  },
  {
   "cell_type": "markdown",
   "metadata": {},
   "source": [
    "Once we have our Word2vec model, we can use it as part of our *topic coherence* approach to evaluate the different NMF topic models that we created previously. To do this, we will implement a simple version of the TC-W2V coherence measure."
   ]
  },
  {
   "cell_type": "markdown",
   "metadata": {},
   "source": [
    "We use the Word2vec model to calculate coherence scores for each of these models. We will define this coherence score as follows:"
   ]
  },
  {
   "cell_type": "code",
   "execution_count": 12,
   "metadata": {
    "ExecuteTime": {
     "end_time": "2021-05-19T00:26:10.960654Z",
     "start_time": "2021-05-19T00:26:10.952171Z"
    }
   },
   "outputs": [],
   "source": [
    "def calculate_coherence(w2v_model, term_rankings):\n",
    "    overall_coherence = 0.0\n",
    "    \n",
    "    for topic_index in range(len(term_rankings)):\n",
    "        # check each pair of terms\n",
    "        pair_scores = []\n",
    "        for pair in combinations(term_rankings[topic_index], 2):\n",
    "            pair_scores.append(w2v_model.similarity(pair[0], pair[1]))\n",
    "        # get the mean for all pairs in this topic\n",
    "        topic_score = sum(pair_scores) / len(pair_scores)\n",
    "        overall_coherence += topic_score\n",
    "    \n",
    "    # get the mean score across all topics\n",
    "    return overall_coherence / len(term_rankings)"
   ]
  },
  {
   "cell_type": "markdown",
   "metadata": {},
   "source": [
    "We also define a function to get the topic descriptor (i.e. list of top terms) for each topic:"
   ]
  },
  {
   "cell_type": "code",
   "execution_count": 13,
   "metadata": {
    "ExecuteTime": {
     "end_time": "2021-05-19T00:26:10.970107Z",
     "start_time": "2021-05-19T00:26:10.962041Z"
    }
   },
   "outputs": [],
   "source": [
    "import numpy as np\n",
    "\n",
    "\n",
    "def get_descriptor(all_terms, H, topic_index, top):\n",
    "    # reverse sort the values to sort the indices\n",
    "    top_indices = np.argsort(H[topic_index, :])[::-1]\n",
    "    \n",
    "    # now get the terms corresponding to the top-ranked indices\n",
    "    top_terms = []\n",
    "    \n",
    "    for term_index in top_indices[0:top]:\n",
    "        top_terms.append(all_terms[term_index])\n",
    "    \n",
    "    return top_terms"
   ]
  },
  {
   "cell_type": "markdown",
   "metadata": {},
   "source": [
    "Now process each of the models for different values of *k*:"
   ]
  },
  {
   "cell_type": "code",
   "execution_count": 14,
   "metadata": {
    "ExecuteTime": {
     "end_time": "2021-05-19T00:26:11.069853Z",
     "start_time": "2021-05-19T00:26:10.971356Z"
    }
   },
   "outputs": [
    {
     "name": "stdout",
     "output_type": "stream",
     "text": [
      "K=05: Coherence=0.4401\n",
      "K=10: Coherence=0.4208\n",
      "K=15: Coherence=0.3941\n",
      "K=20: Coherence=0.4009\n"
     ]
    },
    {
     "name": "stderr",
     "output_type": "stream",
     "text": [
      "/home/gean/anaconda3/lib/python3.7/site-packages/ipykernel_launcher.py:8: DeprecationWarning: Call to deprecated `similarity` (Method will be removed in 4.0.0, use self.wv.similarity() instead).\n",
      "  \n"
     ]
    }
   ],
   "source": [
    "from itertools import combinations\n",
    "\n",
    "k_values = []\n",
    "coherences = []\n",
    "\n",
    "for (k, W, H) in topic_models:\n",
    "    # Get all of the topic descriptors - the term_rankings, based on top 10 terms\n",
    "    term_rankings = []\n",
    "    \n",
    "    for topic_index in range(k):\n",
    "        term_rankings.append(get_descriptor(terms, H, topic_index, 10))\n",
    "    \n",
    "    # Now calculate the coherence based on our Word2vec model\n",
    "    k_values.append(k)\n",
    "    coherences.append(calculate_coherence(w2v_model, term_rankings))\n",
    "    \n",
    "    print(\"K=%02d: Coherence=%.4f\" % (k, coherences[-1]))\n",
    "    # print(f'{coherences[-1]:.4f}')"
   ]
  },
  {
   "cell_type": "markdown",
   "metadata": {},
   "source": [
    "We can now use *matplotlib* to generate a line plot of these coherence scores, to help us select an appropriate value."
   ]
  },
  {
   "cell_type": "code",
   "execution_count": 15,
   "metadata": {
    "ExecuteTime": {
     "end_time": "2021-05-19T00:26:11.389618Z",
     "start_time": "2021-05-19T00:26:11.071307Z"
    }
   },
   "outputs": [],
   "source": [
    "%matplotlib inline\n",
    "import matplotlib\n",
    "import matplotlib.pyplot as plt\n",
    "\n",
    "plt.style.use(\"ggplot\")\n",
    "matplotlib.rcParams.update({\"font.size\": 14})"
   ]
  },
  {
   "cell_type": "code",
   "execution_count": 16,
   "metadata": {
    "ExecuteTime": {
     "end_time": "2021-05-19T00:26:11.560185Z",
     "start_time": "2021-05-19T00:26:11.391386Z"
    }
   },
   "outputs": [
    {
     "data": {
      "image/png": "[encoded data removed]",
      "text/plain": [
       "<Figure size 936x504 with 1 Axes>"
      ]
     },
     "metadata": {},
     "output_type": "display_data"
    }
   ],
   "source": [
    "fig = plt.figure(figsize=(13,7))\n",
    "\n",
    "# create the line plot\n",
    "ax = plt.plot( k_values, coherences )\n",
    "plt.xticks(k_values)\n",
    "plt.xlabel(\"Number of Topics\")\n",
    "plt.ylabel(\"Mean Coherence\")\n",
    "\n",
    "# add the points\n",
    "plt.scatter( k_values, coherences, s=120)\n",
    "\n",
    "\n",
    "# find and annotate the maximum point on the plot\n",
    "ymax = max(coherences)\n",
    "xpos = coherences.index(ymax)\n",
    "best_k = k_values[xpos]\n",
    "plt.annotate( \"k=%d\" % best_k, xy=(best_k, ymax), xytext=(best_k, ymax), textcoords=\"offset points\", fontsize=16)\n",
    "\n",
    "# show the plot\n",
    "plt.show()"
   ]
  },
  {
   "cell_type": "markdown",
   "metadata": {},
   "source": [
    "### Examine the Final  Model"
   ]
  },
  {
   "cell_type": "markdown",
   "metadata": {},
   "source": [
    "The plot above suggests that the most appropriate value for the number of topics is *k=8*."
   ]
  },
  {
   "cell_type": "code",
   "execution_count": 17,
   "metadata": {
    "ExecuteTime": {
     "end_time": "2021-05-19T00:26:11.564573Z",
     "start_time": "2021-05-19T00:26:11.561759Z"
    }
   },
   "outputs": [],
   "source": [
    "k = 5 # best_k\n",
    "\n",
    "# get the model that we generated earlier.\n",
    "W = topic_models[0][1]\n",
    "H = topic_models[0][2]"
   ]
  },
  {
   "cell_type": "markdown",
   "metadata": {},
   "source": [
    "Display the topic descriptors for this model:"
   ]
  },
  {
   "cell_type": "code",
   "execution_count": 18,
   "metadata": {
    "ExecuteTime": {
     "end_time": "2021-05-19T00:26:11.576876Z",
     "start_time": "2021-05-19T00:26:11.566061Z"
    },
    "scrolled": true
   },
   "outputs": [
    {
     "name": "stdout",
     "output_type": "stream",
     "text": [
      "Topic 01: compromissos, assinaram, aceitou, assinar, assume\n",
      "Topic 02: feliz, dia, mulher, internacional, diadasmulheres\n",
      "Topic 03: marco, mulheres, carbonizadas, trancadas, tecelagem\n",
      "Topic 04: lindo, sisters, avancarem, cenas, fechamos\n",
      "Topic 05: god, woman, fazendo, continuar, vamos\n"
     ]
    }
   ],
   "source": [
    "for topic_index in range(k):\n",
    "    descriptor = get_descriptor( terms, H, topic_index, 5)\n",
    "    str_descriptor = \", \".join( descriptor )\n",
    "    print(\"Topic %02d: %s\" % ( topic_index+1, str_descriptor ) )"
   ]
  },
  {
   "cell_type": "code",
   "execution_count": 19,
   "metadata": {
    "ExecuteTime": {
     "end_time": "2021-05-19T00:26:11.585786Z",
     "start_time": "2021-05-19T00:26:11.578305Z"
    }
   },
   "outputs": [
    {
     "name": "stdout",
     "output_type": "stream",
     "text": [
      "Topic 01: compromissos, assinaram, aceitou, assinar, assume, declaracao, paises, humanos, mulher, onu\n",
      "Topic 02: feliz, dia, mulher, internacional, diadasmulheres, mulheres, internationalwomensday, hoje, lula, marco\n",
      "Topic 03: marco, mulheres, carbonizadas, trancadas, tecelagem, trabalhavam, declarou, estarem, aproximadamente, morreram\n",
      "Topic 04: lindo, sisters, avancarem, cenas, fechamos, apoiando, valor, inspira, sabe, video\n",
      "Topic 05: god, woman, fazendo, continuar, vamos, historia, mulheres, internationalwomensday, hoje, luta\n"
     ]
    }
   ],
   "source": [
    "for topic_index in range(k):\n",
    "    descriptor = get_descriptor( terms, H, topic_index, 10)\n",
    "    str_descriptor = \", \".join( descriptor )\n",
    "    print(\"Topic %02d: %s\" % ( topic_index+1, str_descriptor ) )"
   ]
  },
  {
   "cell_type": "code",
   "execution_count": 20,
   "metadata": {
    "ExecuteTime": {
     "end_time": "2021-05-19T00:26:11.594704Z",
     "start_time": "2021-05-19T00:26:11.587135Z"
    }
   },
   "outputs": [
    {
     "name": "stdout",
     "output_type": "stream",
     "text": [
      "Topic 01: compromissos, assinaram, aceitou, assinar, assume, declaracao, paises, humanos, mulher, onu, conselho, vergonha, saude, defesa, bolsonaro\n",
      "Topic 02: feliz, dia, mulher, internacional, diadasmulheres, mulheres, internationalwomensday, hoje, lula, marco, 8m2021, mae, diadamulher, parabens, fachin\n",
      "Topic 03: marco, mulheres, carbonizadas, trancadas, tecelagem, trabalhavam, declarou, estarem, aproximadamente, morreram, york, greve, fabrica, nova, onde\n",
      "Topic 04: lindo, sisters, avancarem, cenas, fechamos, apoiando, valor, inspira, sabe, video, juntas, outras, marco, mulher, lula\n",
      "Topic 05: god, woman, fazendo, continuar, vamos, historia, mulheres, internationalwomensday, hoje, luta, queria, 8m2021, mundo, dizer, diadasmulheres\n"
     ]
    }
   ],
   "source": [
    "for topic_index in range(k):\n",
    "    descriptor = get_descriptor( terms, H, topic_index, 15)\n",
    "    str_descriptor = \", \".join( descriptor )\n",
    "    print(\"Topic %02d: %s\" % ( topic_index+1, str_descriptor ) )"
   ]
  },
  {
   "cell_type": "code",
   "execution_count": 21,
   "metadata": {
    "ExecuteTime": {
     "end_time": "2021-05-19T00:26:11.603772Z",
     "start_time": "2021-05-19T00:26:11.596004Z"
    }
   },
   "outputs": [
    {
     "name": "stdout",
     "output_type": "stream",
     "text": [
      "Topic 01: compromissos, assinaram, aceitou, assinar, assume, declaracao, paises, humanos, mulher, onu, conselho, vergonha, saude, defesa, bolsonaro, governo, direitos, brasil, internacional, dia\n",
      "Topic 02: feliz, dia, mulher, internacional, diadasmulheres, mulheres, internationalwomensday, hoje, lula, marco, 8m2021, mae, diadamulher, parabens, fachin, ser, mundo, luta, respeito, especial\n",
      "Topic 03: marco, mulheres, carbonizadas, trancadas, tecelagem, trabalhavam, declarou, estarem, aproximadamente, morreram, york, greve, fabrica, nova, onde, homenagem, dia, bom, lembrar, sempre\n",
      "Topic 04: lindo, sisters, avancarem, cenas, fechamos, apoiando, valor, inspira, sabe, video, juntas, outras, marco, mulher, lula, vai, lembro, milagre, mundo, tapa\n",
      "Topic 05: god, woman, fazendo, continuar, vamos, historia, mulheres, internationalwomensday, hoje, luta, queria, 8m2021, mundo, dizer, diadasmulheres, feliz, lutaram, melhor, fortes, lutam\n"
     ]
    }
   ],
   "source": [
    "for topic_index in range(k):\n",
    "    descriptor = get_descriptor( terms, H, topic_index, 20)\n",
    "    str_descriptor = \", \".join( descriptor )\n",
    "    print(\"Topic %02d: %s\" % ( topic_index+1, str_descriptor ) )"
   ]
  },
  {
   "cell_type": "markdown",
   "metadata": {},
   "source": [
    "# 10"
   ]
  },
  {
   "cell_type": "code",
   "execution_count": 22,
   "metadata": {
    "ExecuteTime": {
     "end_time": "2021-05-19T00:26:11.610405Z",
     "start_time": "2021-05-19T00:26:11.605076Z"
    }
   },
   "outputs": [],
   "source": [
    "k = 10 # best_k\n",
    "\n",
    "# get the model that we generated earlier.\n",
    "W = topic_models[1][1]\n",
    "H = topic_models[1][2]"
   ]
  },
  {
   "cell_type": "code",
   "execution_count": 23,
   "metadata": {
    "ExecuteTime": {
     "end_time": "2021-05-19T00:26:11.630391Z",
     "start_time": "2021-05-19T00:26:11.611518Z"
    }
   },
   "outputs": [
    {
     "name": "stdout",
     "output_type": "stream",
     "text": [
      "Topic 01: compromissos, assinaram, aceitou, assinar, assume\n",
      "Topic 02: internacional, mulher, dia, lula, marco\n",
      "Topic 03: marco, carbonizadas, trancadas, tecelagem, trabalhavam\n",
      "Topic 04: lindo, sisters, avancarem, cenas, fechamos\n",
      "Topic 05: feliz, dia, mulher, mulheres, diadasmulheres\n",
      "Topic 06: god, woman, fazendo, continuar, vamos\n",
      "Topic 07: mulheres, 8m2021, internationalwomensday, luta, 8m\n",
      "Topic 08: diainternacionaldelamujer, estudio, executado, bernardes, pensado\n",
      "Topic 09: vai, marco, tapa, power, uns\n",
      "Topic 10: diadasmulheres, mulher, b21, olhapraela, nordestina\n"
     ]
    }
   ],
   "source": [
    "for topic_index in range(k):\n",
    "    descriptor = get_descriptor( terms, H, topic_index, 5)\n",
    "    str_descriptor = \", \".join( descriptor )\n",
    "    print(\"Topic %02d: %s\" % ( topic_index+1, str_descriptor ) )"
   ]
  },
  {
   "cell_type": "code",
   "execution_count": 24,
   "metadata": {
    "ExecuteTime": {
     "end_time": "2021-05-19T00:26:11.640020Z",
     "start_time": "2021-05-19T00:26:11.631709Z"
    }
   },
   "outputs": [
    {
     "name": "stdout",
     "output_type": "stream",
     "text": [
      "Topic 01: compromissos, assinaram, aceitou, assinar, assume, declaracao, paises, humanos, onu, conselho\n",
      "Topic 02: internacional, mulher, dia, lula, marco, fachin, hoje, mae, afinal, povo\n",
      "Topic 03: marco, carbonizadas, trancadas, tecelagem, trabalhavam, declarou, estarem, aproximadamente, york, morreram\n",
      "Topic 04: lindo, sisters, avancarem, cenas, fechamos, apoiando, valor, inspira, sabe, video\n",
      "Topic 05: feliz, dia, mulher, mulheres, diadasmulheres, internationalwomensday, woman, god, womensday, incriveis\n",
      "Topic 06: god, woman, fazendo, continuar, vamos, historia, queria, mulheres, dizer, dia\n",
      "Topic 07: mulheres, 8m2021, internationalwomensday, luta, 8m, diadamulher, vida, hoje, momento, primeira\n",
      "Topic 08: diainternacionaldelamujer, estudio, executado, bernardes, pensado, narrativa, saindo, correndo, manter, cara\n",
      "Topic 09: vai, marco, tapa, power, uns, girl, socialista, levar, vem, milagre\n",
      "Topic 10: diadasmulheres, mulher, b21, olhapraela, nordestina, avontaon, conversataon, dia, discurso, homenagem\n"
     ]
    }
   ],
   "source": [
    "for topic_index in range(k):\n",
    "    descriptor = get_descriptor( terms, H, topic_index, 10)\n",
    "    str_descriptor = \", \".join( descriptor )\n",
    "    print(\"Topic %02d: %s\" % ( topic_index+1, str_descriptor ) )"
   ]
  },
  {
   "cell_type": "code",
   "execution_count": 25,
   "metadata": {
    "ExecuteTime": {
     "end_time": "2021-05-19T00:26:11.653600Z",
     "start_time": "2021-05-19T00:26:11.644386Z"
    }
   },
   "outputs": [
    {
     "name": "stdout",
     "output_type": "stream",
     "text": [
      "Topic 01: compromissos, assinaram, aceitou, assinar, assume, declaracao, paises, humanos, onu, conselho, vergonha, saude, bolsonaro, defesa, governo\n",
      "Topic 02: internacional, mulher, dia, lula, marco, fachin, hoje, mae, afinal, povo, boca, fez, parabens, ciro, gomes\n",
      "Topic 03: marco, carbonizadas, trancadas, tecelagem, trabalhavam, declarou, estarem, aproximadamente, york, morreram, mulheres, greve, fabrica, nova, onde\n",
      "Topic 04: lindo, sisters, avancarem, cenas, fechamos, apoiando, valor, inspira, sabe, video, juntas, outras, marco, mulher, lembro\n",
      "Topic 05: feliz, dia, mulher, mulheres, diadasmulheres, internationalwomensday, woman, god, womensday, incriveis, guerreiras, respeito, apenas, vcs, sangue\n",
      "Topic 06: god, woman, fazendo, continuar, vamos, historia, queria, mulheres, dizer, dia, lutaram, melhor, lutam, tudo, ariana\n",
      "Topic 07: mulheres, 8m2021, internationalwomensday, luta, 8m, diadamulher, vida, hoje, momento, primeira, dia, vacina, sendo, presidenta, lembra\n",
      "Topic 08: diainternacionaldelamujer, estudio, executado, bernardes, pensado, narrativa, saindo, correndo, manter, cara, encontrocomfatima, fatima, programa, hoje, diadasmulheres\n",
      "Topic 09: vai, marco, tapa, power, uns, girl, socialista, levar, vem, milagre, mundo, compasso, salvar, aconteceu, acontecer\n",
      "Topic 10: diadasmulheres, mulher, b21, olhapraela, nordestina, avontaon, conversataon, dia, discurso, homenagem, mundo, emocionar, dona, fortes, ver\n"
     ]
    }
   ],
   "source": [
    "for topic_index in range(k):\n",
    "    descriptor = get_descriptor( terms, H, topic_index, 15)\n",
    "    str_descriptor = \", \".join( descriptor )\n",
    "    print(\"Topic %02d: %s\" % ( topic_index+1, str_descriptor ) )"
   ]
  },
  {
   "cell_type": "code",
   "execution_count": 26,
   "metadata": {
    "ExecuteTime": {
     "end_time": "2021-05-19T00:26:11.665608Z",
     "start_time": "2021-05-19T00:26:11.656048Z"
    }
   },
   "outputs": [
    {
     "name": "stdout",
     "output_type": "stream",
     "text": [
      "Topic 01: compromissos, assinaram, aceitou, assinar, assume, declaracao, paises, humanos, onu, conselho, vergonha, saude, bolsonaro, defesa, governo, mulher, direitos, brasil, internacional, dia\n",
      "Topic 02: internacional, mulher, dia, lula, marco, fachin, hoje, mae, afinal, povo, boca, fez, parabens, ciro, gomes, mudaram, porque, aborto, vagina, pessoas\n",
      "Topic 03: marco, carbonizadas, trancadas, tecelagem, trabalhavam, declarou, estarem, aproximadamente, york, morreram, mulheres, greve, fabrica, nova, onde, homenagem, dia, bom, lembrar, sempre\n",
      "Topic 04: lindo, sisters, avancarem, cenas, fechamos, apoiando, valor, inspira, sabe, video, juntas, outras, marco, mulher, lembro, lula, insulta, diz, politica, dilma\n",
      "Topic 05: feliz, dia, mulher, mulheres, diadasmulheres, internationalwomensday, woman, god, womensday, incriveis, guerreiras, respeito, apenas, vcs, sangue, fodas, felizdiadamulher, ces, deseja, gigante\n",
      "Topic 06: god, woman, fazendo, continuar, vamos, historia, queria, mulheres, dizer, dia, lutaram, melhor, lutam, tudo, ariana, comemorar, hoje, diariamente, grande, vcs\n",
      "Topic 07: mulheres, 8m2021, internationalwomensday, luta, 8m, diadamulher, vida, hoje, momento, primeira, dia, vacina, sendo, presidenta, lembra, mundo, ciclo, empoderamento, resistimos, interrompido\n",
      "Topic 08: diainternacionaldelamujer, estudio, executado, bernardes, pensado, narrativa, saindo, correndo, manter, cara, encontrocomfatima, fatima, programa, hoje, diadasmulheres, mulheres, duas, fortes, dona, emocionar\n",
      "Topic 09: vai, marco, tapa, power, uns, girl, socialista, levar, vem, milagre, mundo, compasso, salvar, aconteceu, acontecer, fica, anos, lula, dia, dar\n",
      "Topic 10: diadasmulheres, mulher, b21, olhapraela, nordestina, avontaon, conversataon, dia, discurso, homenagem, mundo, emocionar, dona, fortes, ver, mae, camilla, ser, bem, inspiracao\n"
     ]
    }
   ],
   "source": [
    "for topic_index in range(k):\n",
    "    descriptor = get_descriptor( terms, H, topic_index, 20)\n",
    "    str_descriptor = \", \".join( descriptor )\n",
    "    print(\"Topic %02d: %s\" % ( topic_index+1, str_descriptor ) )"
   ]
  },
  {
   "cell_type": "markdown",
   "metadata": {
    "ExecuteTime": {
     "end_time": "2021-05-18T01:35:40.549034Z",
     "start_time": "2021-05-18T01:35:40.547094Z"
    }
   },
   "source": [
    "# 15"
   ]
  },
  {
   "cell_type": "code",
   "execution_count": 27,
   "metadata": {
    "ExecuteTime": {
     "end_time": "2021-05-19T00:26:11.670102Z",
     "start_time": "2021-05-19T00:26:11.667034Z"
    }
   },
   "outputs": [],
   "source": [
    "k = 15 # best_k\n",
    "\n",
    "# get the model that we generated earlier.\n",
    "W = topic_models[2][1]\n",
    "H = topic_models[2][2]"
   ]
  },
  {
   "cell_type": "code",
   "execution_count": 28,
   "metadata": {
    "ExecuteTime": {
     "end_time": "2021-05-19T00:26:11.685023Z",
     "start_time": "2021-05-19T00:26:11.671540Z"
    }
   },
   "outputs": [
    {
     "name": "stdout",
     "output_type": "stream",
     "text": [
      "Topic 01: compromissos, assinaram, aceitou, assinar, assume\n",
      "Topic 02: internacional, mulher, dia, hoje, parabens\n",
      "Topic 03: marco, carbonizadas, trancadas, tecelagem, trabalhavam\n",
      "Topic 04: lindo, sisters, avancarem, cenas, fechamos\n",
      "Topic 05: feliz, dia, mulher, diadasmulheres, mulheres\n",
      "Topic 06: god, woman, fazendo, continuar, vamos\n",
      "Topic 07: 8m2021, esto, amp, natalia, oreiro\n",
      "Topic 08: diainternacionaldelamujer, estudio, executado, bernardes, pensado\n",
      "Topic 09: tapa, power, uns, girl, socialista\n",
      "Topic 10: diadasmulheres, mulher, b21, olhapraela, nordestina\n",
      "Topic 11: internationalwomensday, mulheres, diadamulher, hoje, dia\n",
      "Topic 12: luta, 8m, mulheres, vida, primeira\n",
      "Topic 13: mae, fachin, boca, afinal, povo\n",
      "Topic 14: mundo, milagre, vai, discurso, comecar\n",
      "Topic 15: marco, lula, dia, ainda, respeito\n"
     ]
    }
   ],
   "source": [
    "for topic_index in range(k):\n",
    "    descriptor = get_descriptor( terms, H, topic_index, 5)\n",
    "    str_descriptor = \", \".join( descriptor )\n",
    "    print(\"Topic %02d: %s\" % ( topic_index+1, str_descriptor ) )"
   ]
  },
  {
   "cell_type": "code",
   "execution_count": 29,
   "metadata": {
    "ExecuteTime": {
     "end_time": "2021-05-19T00:26:11.694780Z",
     "start_time": "2021-05-19T00:26:11.686463Z"
    }
   },
   "outputs": [
    {
     "name": "stdout",
     "output_type": "stream",
     "text": [
      "Topic 01: compromissos, assinaram, aceitou, assinar, assume, declaracao, paises, humanos, onu, conselho\n",
      "Topic 02: internacional, mulher, dia, hoje, parabens, gomes, mudaram, vagina, ciro, pessoas\n",
      "Topic 03: marco, carbonizadas, trancadas, tecelagem, trabalhavam, declarou, estarem, aproximadamente, york, morreram\n",
      "Topic 04: lindo, sisters, avancarem, cenas, fechamos, apoiando, valor, inspira, sabe, juntas\n",
      "Topic 05: feliz, dia, mulher, diadasmulheres, mulheres, god, woman, respeito, womensday, apenas\n",
      "Topic 06: god, woman, fazendo, continuar, vamos, historia, queria, dizer, dia, mulheres\n",
      "Topic 07: 8m2021, esto, amp, natalia, oreiro, mollo, belleza, respeito, nunca, romantico\n",
      "Topic 08: diainternacionaldelamujer, estudio, executado, bernardes, pensado, narrativa, saindo, correndo, manter, cara\n",
      "Topic 09: tapa, power, uns, girl, socialista, levar, vem, vai, marco, camisa\n",
      "Topic 10: diadasmulheres, mulher, b21, olhapraela, nordestina, dia, avontaon, conversataon, homenagem, emocionar\n",
      "Topic 11: internationalwomensday, mulheres, diadamulher, hoje, dia, parabens, incriveis, fortes, dias, womensday\n",
      "Topic 12: luta, 8m, mulheres, vida, primeira, vacina, ciclo, interrompido, destruido, resistimos\n",
      "Topic 13: mae, fachin, boca, afinal, povo, fez, porque, inteiro, pais, b21\n",
      "Topic 14: mundo, milagre, vai, discurso, comecar, milhares, beyonce, bem, certeza, inspiracao\n",
      "Topic 15: marco, lula, dia, ainda, respeito, apenas, lembro, politico, romantico, ciro\n"
     ]
    }
   ],
   "source": [
    "for topic_index in range(k):\n",
    "    descriptor = get_descriptor( terms, H, topic_index, 10)\n",
    "    str_descriptor = \", \".join( descriptor )\n",
    "    print(\"Topic %02d: %s\" % ( topic_index+1, str_descriptor ) )"
   ]
  },
  {
   "cell_type": "code",
   "execution_count": 30,
   "metadata": {
    "ExecuteTime": {
     "end_time": "2021-05-19T00:26:11.704425Z",
     "start_time": "2021-05-19T00:26:11.696135Z"
    }
   },
   "outputs": [
    {
     "name": "stdout",
     "output_type": "stream",
     "text": [
      "Topic 01: compromissos, assinaram, aceitou, assinar, assume, declaracao, paises, humanos, onu, conselho, vergonha, saude, bolsonaro, defesa, governo\n",
      "Topic 02: internacional, mulher, dia, hoje, parabens, gomes, mudaram, vagina, ciro, pessoas, feminismo, especial, aborto, chamou, sobre\n",
      "Topic 03: marco, carbonizadas, trancadas, tecelagem, trabalhavam, declarou, estarem, aproximadamente, york, morreram, greve, fabrica, mulheres, nova, onde\n",
      "Topic 04: lindo, sisters, avancarem, cenas, fechamos, apoiando, valor, inspira, sabe, juntas, video, outras, marco, mulher, lembro\n",
      "Topic 05: feliz, dia, mulher, diadasmulheres, mulheres, god, woman, respeito, womensday, apenas, fodas, ces, sangue, gigante, afasta\n",
      "Topic 06: god, woman, fazendo, continuar, vamos, historia, queria, dizer, dia, mulheres, lutaram, melhor, lutam, ariana, comemorar\n",
      "Topic 07: 8m2021, esto, amp, natalia, oreiro, mollo, belleza, respeito, nunca, romantico, contra, 8marzo2021, politico, ces, fodas\n",
      "Topic 08: diainternacionaldelamujer, estudio, executado, bernardes, pensado, narrativa, saindo, correndo, manter, cara, encontrocomfatima, fatima, programa, hoje, mulheres\n",
      "Topic 09: tapa, power, uns, girl, socialista, levar, vem, vai, marco, camisa, dar, jamais, hoje, unico, milagre\n",
      "Topic 10: diadasmulheres, mulher, b21, olhapraela, nordestina, dia, avontaon, conversataon, homenagem, emocionar, dona, ser, ver, fortes, camilla\n",
      "Topic 11: internationalwomensday, mulheres, diadamulher, hoje, dia, parabens, incriveis, fortes, dias, womensday, lindas, ser, lutam, mundo, tudo\n",
      "Topic 12: luta, 8m, mulheres, vida, primeira, vacina, ciclo, interrompido, destruido, resistimos, lembra, golpe, presidenta, momento, atual\n",
      "Topic 13: mae, fachin, boca, afinal, povo, fez, porque, inteiro, pais, b21, olhapraela, lembrar, hoje, conversataon, camilla\n",
      "Topic 14: mundo, milagre, vai, discurso, comecar, milhares, beyonce, bem, certeza, inspiracao, compasso, salvar, aconteceu, acontecer, fica\n",
      "Topic 15: marco, lula, dia, ainda, respeito, apenas, lembro, politico, romantico, ciro, hoje, gente, ces, anos, video\n"
     ]
    }
   ],
   "source": [
    "for topic_index in range(k):\n",
    "    descriptor = get_descriptor( terms, H, topic_index, 15)\n",
    "    str_descriptor = \", \".join( descriptor )\n",
    "    print(\"Topic %02d: %s\" % ( topic_index+1, str_descriptor ) )"
   ]
  },
  {
   "cell_type": "code",
   "execution_count": 31,
   "metadata": {
    "ExecuteTime": {
     "end_time": "2021-05-19T00:26:11.714074Z",
     "start_time": "2021-05-19T00:26:11.705775Z"
    }
   },
   "outputs": [
    {
     "name": "stdout",
     "output_type": "stream",
     "text": [
      "Topic 01: compromissos, assinaram, aceitou, assinar, assume, declaracao, paises, humanos, onu, conselho, vergonha, saude, bolsonaro, defesa, governo, direitos, brasil, mulher, internacional, dia\n",
      "Topic 02: internacional, mulher, dia, hoje, parabens, gomes, mudaram, vagina, ciro, pessoas, feminismo, especial, aborto, chamou, sobre, fez, homenagem, deu, continuacao, amor\n",
      "Topic 03: marco, carbonizadas, trancadas, tecelagem, trabalhavam, declarou, estarem, aproximadamente, york, morreram, greve, fabrica, mulheres, nova, onde, homenagem, dia, bom, lembrar, sempre\n",
      "Topic 04: lindo, sisters, avancarem, cenas, fechamos, apoiando, valor, inspira, sabe, juntas, video, outras, marco, mulher, lembro, insulta, diz, levanta, politica, amo\n",
      "Topic 05: feliz, dia, mulher, diadasmulheres, mulheres, god, woman, respeito, womensday, apenas, fodas, ces, sangue, gigante, afasta, deseja, mundo, distancia, guerreiras, diainternacionaldelamujer\n",
      "Topic 06: god, woman, fazendo, continuar, vamos, historia, queria, dizer, dia, mulheres, lutaram, melhor, lutam, ariana, comemorar, grande, lutando, social, continuam, tudo\n",
      "Topic 07: 8m2021, esto, amp, natalia, oreiro, mollo, belleza, respeito, nunca, romantico, contra, 8marzo2021, politico, ces, fodas, apenas, diainternacionaldelamujer, hoje, silenciadasnuncamais, feminismo\n",
      "Topic 08: diainternacionaldelamujer, estudio, executado, bernardes, pensado, narrativa, saindo, correndo, manter, cara, encontrocomfatima, fatima, programa, hoje, mulheres, diadasmulheres, duas, dona, emocionar, juliette\n",
      "Topic 09: tapa, power, uns, girl, socialista, levar, vem, vai, marco, camisa, dar, jamais, hoje, unico, milagre, rolar, lulalele, ape, redencao, escuto\n",
      "Topic 10: diadasmulheres, mulher, b21, olhapraela, nordestina, dia, avontaon, conversataon, homenagem, emocionar, dona, ser, ver, fortes, camilla, especial, acao, juliette, gente, discurso\n",
      "Topic 11: internationalwomensday, mulheres, diadamulher, hoje, dia, parabens, incriveis, fortes, dias, womensday, lindas, ser, lutam, mundo, tudo, melhor, diainternacionaldamulher, ainda, woman, lutaram\n",
      "Topic 12: luta, 8m, mulheres, vida, primeira, vacina, ciclo, interrompido, destruido, resistimos, lembra, golpe, presidenta, momento, atual, empoderamento, sendo, brasil, governo, presidente\n",
      "Topic 13: mae, fachin, boca, afinal, povo, fez, porque, inteiro, pais, b21, olhapraela, lembrar, hoje, conversataon, camilla, ver, cala, deus, escuta, foto\n",
      "Topic 14: mundo, milagre, vai, discurso, comecar, milhares, beyonce, bem, certeza, inspiracao, compasso, salvar, aconteceu, acontecer, fica, vamos, anos, mulheres, marco, necessario\n",
      "Topic 15: marco, lula, dia, ainda, respeito, apenas, lembro, politico, romantico, ciro, hoje, gente, ces, anos, video, ano, ser, fodas, dias, milagre\n"
     ]
    }
   ],
   "source": [
    "for topic_index in range(k):\n",
    "    descriptor = get_descriptor( terms, H, topic_index, 20)\n",
    "    str_descriptor = \", \".join( descriptor )\n",
    "    print(\"Topic %02d: %s\" % ( topic_index+1, str_descriptor ) )"
   ]
  },
  {
   "cell_type": "markdown",
   "metadata": {},
   "source": [
    "# 20"
   ]
  },
  {
   "cell_type": "code",
   "execution_count": 32,
   "metadata": {
    "ExecuteTime": {
     "end_time": "2021-05-19T00:26:11.718417Z",
     "start_time": "2021-05-19T00:26:11.715414Z"
    }
   },
   "outputs": [],
   "source": [
    "k = 20 # best_k\n",
    "\n",
    "# get the model that we generated earlier.\n",
    "W = topic_models[3][1]\n",
    "H = topic_models[3][2]"
   ]
  },
  {
   "cell_type": "code",
   "execution_count": 33,
   "metadata": {
    "ExecuteTime": {
     "end_time": "2021-05-19T00:26:11.743988Z",
     "start_time": "2021-05-19T00:26:11.720068Z"
    }
   },
   "outputs": [
    {
     "name": "stdout",
     "output_type": "stream",
     "text": [
      "Topic 01: compromissos, assinaram, aceitou, assinar, assume\n",
      "Topic 02: internacional, mulher, dia, hoje, parabens\n",
      "Topic 03: marco, carbonizadas, trancadas, tecelagem, trabalhavam\n",
      "Topic 04: lindo, sisters, avancarem, cenas, fechamos\n",
      "Topic 05: feliz, dia, mulheres, mulher, god\n",
      "Topic 06: god, woman, fazendo, continuar, historia\n",
      "Topic 07: diadamulher, espaco, futebol, dulce, presidente\n",
      "Topic 08: diainternacionaldelamujer, estudio, executado, bernardes, pensado\n",
      "Topic 09: tapa, power, uns, girl, socialista\n",
      "Topic 10: diadasmulheres, mulher, nordestina, dia, ser\n",
      "Topic 11: internationalwomensday, mulheres, dia, parabens, incriveis\n",
      "Topic 12: luta, 8m, vida, mulheres, vacina\n",
      "Topic 13: fachin, mae, boca, afinal, povo\n",
      "Topic 14: discurso, bem, comecar, beyonce, milhares\n",
      "Topic 15: marco, lula, dia, ainda, respeito\n",
      "Topic 16: 8m2021, esto, amp, natalia, oreiro\n",
      "Topic 17: b21, olhapraela, avontaon, conversataon, emocionar\n",
      "Topic 18: amor, assusta, desrespeitosas, brincadeiras, posicionar\n",
      "Topic 19: nada, agregar, 8m, festejar, niunamenos\n",
      "Topic 20: milagre, mundo, vai, compasso, salvar\n"
     ]
    }
   ],
   "source": [
    "for topic_index in range(k):\n",
    "    descriptor = get_descriptor( terms, H, topic_index, 5)\n",
    "    str_descriptor = \", \".join( descriptor )\n",
    "    print(\"Topic %02d: %s\" % ( topic_index+1, str_descriptor ) )"
   ]
  },
  {
   "cell_type": "code",
   "execution_count": 34,
   "metadata": {
    "ExecuteTime": {
     "end_time": "2021-05-19T00:26:11.758609Z",
     "start_time": "2021-05-19T00:26:11.745753Z"
    }
   },
   "outputs": [
    {
     "name": "stdout",
     "output_type": "stream",
     "text": [
      "Topic 01: compromissos, assinaram, aceitou, assinar, assume, declaracao, paises, humanos, onu, conselho\n",
      "Topic 02: internacional, mulher, dia, hoje, parabens, mudaram, gomes, homenagem, vagina, pessoas\n",
      "Topic 03: marco, carbonizadas, trancadas, tecelagem, trabalhavam, declarou, estarem, aproximadamente, york, morreram\n",
      "Topic 04: lindo, sisters, avancarem, cenas, fechamos, apoiando, valor, inspira, sabe, juntas\n",
      "Topic 05: feliz, dia, mulheres, mulher, god, woman, respeito, apenas, fodas, ces\n",
      "Topic 06: god, woman, fazendo, continuar, historia, vamos, queria, dizer, dia, lutaram\n",
      "Topic 07: diadamulher, espaco, futebol, dulce, presidente, rosalina, voz, pioneirismo, pioneira, arquibancadas\n",
      "Topic 08: diainternacionaldelamujer, estudio, executado, bernardes, pensado, narrativa, saindo, correndo, manter, cara\n",
      "Topic 09: tapa, power, uns, girl, socialista, levar, vem, vai, marco, camisa\n",
      "Topic 10: diadasmulheres, mulher, nordestina, dia, ser, parabens, lute, quero, lugar, assim\n",
      "Topic 11: internationalwomensday, mulheres, dia, parabens, incriveis, diadamulher, hoje, fortes, womensday, lindas\n",
      "Topic 12: luta, 8m, vida, mulheres, vacina, ciclo, interrompido, destruido, resistimos, lembra\n",
      "Topic 13: fachin, mae, boca, afinal, povo, porque, inteiro, fez, pais, lembrar\n",
      "Topic 14: discurso, bem, comecar, beyonce, milhares, certeza, inspiracao, mundo, vamos, mulheres\n",
      "Topic 15: marco, lula, dia, ainda, respeito, apenas, lembro, politico, hoje, romantico\n",
      "Topic 16: 8m2021, esto, amp, natalia, oreiro, belleza, mollo, respeito, nunca, hoje\n",
      "Topic 17: b21, olhapraela, avontaon, conversataon, emocionar, dona, ver, diadasmulheres, juliette, homenagem\n",
      "Topic 18: amor, assusta, desrespeitosas, brincadeiras, posicionar, tomado, cheio, exatamente, hoje, duas\n",
      "Topic 19: nada, agregar, 8m, festejar, niunamenos, deus, escuta, cala, foda, amor\n",
      "Topic 20: milagre, mundo, vai, compasso, salvar, marco, aconteceu, acontecer, fica, anos\n"
     ]
    }
   ],
   "source": [
    "for topic_index in range(k):\n",
    "    descriptor = get_descriptor( terms, H, topic_index, 10)\n",
    "    str_descriptor = \", \".join( descriptor )\n",
    "    print(\"Topic %02d: %s\" % ( topic_index+1, str_descriptor ) )"
   ]
  },
  {
   "cell_type": "code",
   "execution_count": 35,
   "metadata": {
    "ExecuteTime": {
     "end_time": "2021-05-19T00:26:11.773210Z",
     "start_time": "2021-05-19T00:26:11.760323Z"
    }
   },
   "outputs": [
    {
     "name": "stdout",
     "output_type": "stream",
     "text": [
      "Topic 01: compromissos, assinaram, aceitou, assinar, assume, declaracao, paises, humanos, onu, conselho, vergonha, saude, bolsonaro, defesa, governo\n",
      "Topic 02: internacional, mulher, dia, hoje, parabens, mudaram, gomes, homenagem, vagina, pessoas, especial, feminismo, ciro, fez, chamou\n",
      "Topic 03: marco, carbonizadas, trancadas, tecelagem, trabalhavam, declarou, estarem, aproximadamente, york, morreram, greve, fabrica, mulheres, nova, onde\n",
      "Topic 04: lindo, sisters, avancarem, cenas, fechamos, apoiando, valor, inspira, sabe, juntas, video, outras, marco, mulher, lembro\n",
      "Topic 05: feliz, dia, mulheres, mulher, god, woman, respeito, apenas, fodas, ces, deseja, womensday, gigante, diadasmulheres, afasta\n",
      "Topic 06: god, woman, fazendo, continuar, historia, vamos, queria, dizer, dia, lutaram, mulheres, melhor, lutam, ariana, grande\n",
      "Topic 07: diadamulher, espaco, futebol, dulce, presidente, rosalina, voz, pioneirismo, pioneira, arquibancadas, torcida, tornar, exemplo, primeira, luta\n",
      "Topic 08: diainternacionaldelamujer, estudio, executado, bernardes, pensado, narrativa, saindo, correndo, manter, cara, encontrocomfatima, programa, fatima, hoje, mulheres\n",
      "Topic 09: tapa, power, uns, girl, socialista, levar, vem, vai, marco, camisa, jamais, dar, hoje, unico, rolar\n",
      "Topic 10: diadasmulheres, mulher, nordestina, dia, ser, parabens, lute, quero, lugar, assim, aqui, necessario, mestres, precisarem, proximas\n",
      "Topic 11: internationalwomensday, mulheres, dia, parabens, incriveis, diadamulher, hoje, fortes, womensday, lindas, dias, lutam, mundo, ser, tudo\n",
      "Topic 12: luta, 8m, vida, mulheres, vacina, ciclo, interrompido, destruido, resistimos, lembra, golpe, atual, presidenta, empoderamento, sendo\n",
      "Topic 13: fachin, mae, boca, afinal, povo, porque, inteiro, fez, pais, lembrar, hoje, cala, escuta, deus, dia\n",
      "Topic 14: discurso, bem, comecar, beyonce, milhares, certeza, inspiracao, mundo, vamos, mulheres, diadasmulheres, necessario, ano, dias, viver\n",
      "Topic 15: marco, lula, dia, ainda, respeito, apenas, lembro, politico, hoje, romantico, ciro, dias, ano, gente, ces\n",
      "Topic 16: 8m2021, esto, amp, natalia, oreiro, belleza, mollo, respeito, nunca, hoje, romantico, contra, politico, 8marzo2021, ces\n",
      "Topic 17: b21, olhapraela, avontaon, conversataon, emocionar, dona, ver, diadasmulheres, juliette, homenagem, liga, fatima, impossivel, camilla, entao\n",
      "Topic 18: amor, assusta, desrespeitosas, brincadeiras, posicionar, tomado, cheio, exatamente, hoje, duas, momento, defesa, mulheres, deus, cala\n",
      "Topic 19: nada, agregar, 8m, festejar, niunamenos, deus, escuta, cala, foda, amor, boca, celebrar, gente, 8marzo2021, ser\n",
      "Topic 20: milagre, mundo, vai, compasso, salvar, marco, aconteceu, acontecer, fica, anos, devemos, tudo, fortes, aqui, dar\n"
     ]
    }
   ],
   "source": [
    "for topic_index in range(k):\n",
    "    descriptor = get_descriptor( terms, H, topic_index, 15)\n",
    "    str_descriptor = \", \".join( descriptor )\n",
    "    print(\"Topic %02d: %s\" % ( topic_index+1, str_descriptor ) )"
   ]
  },
  {
   "cell_type": "code",
   "execution_count": 36,
   "metadata": {
    "ExecuteTime": {
     "end_time": "2021-05-19T00:26:11.787834Z",
     "start_time": "2021-05-19T00:26:11.774927Z"
    }
   },
   "outputs": [
    {
     "name": "stdout",
     "output_type": "stream",
     "text": [
      "Topic 01: compromissos, assinaram, aceitou, assinar, assume, declaracao, paises, humanos, onu, conselho, vergonha, saude, bolsonaro, defesa, governo, direitos, brasil, mulher, internacional, dia\n",
      "Topic 02: internacional, mulher, dia, hoje, parabens, mudaram, gomes, homenagem, vagina, pessoas, especial, feminismo, ciro, fez, chamou, aborto, sobre, deu, continuacao, presente\n",
      "Topic 03: marco, carbonizadas, trancadas, tecelagem, trabalhavam, declarou, estarem, aproximadamente, york, morreram, greve, fabrica, mulheres, nova, onde, homenagem, dia, bom, lembrar, sempre\n",
      "Topic 04: lindo, sisters, avancarem, cenas, fechamos, apoiando, valor, inspira, sabe, juntas, video, outras, marco, mulher, lembro, insulta, diz, levanta, politica, amo\n",
      "Topic 05: feliz, dia, mulheres, mulher, god, woman, respeito, apenas, fodas, ces, deseja, womensday, gigante, diadasmulheres, afasta, distancia, corajosas, sangue, guerreiras, diainternacionaldelamujer\n",
      "Topic 06: god, woman, fazendo, continuar, historia, vamos, queria, dizer, dia, lutaram, mulheres, melhor, lutam, ariana, grande, comemorar, hoje, tudo, lutando, social\n",
      "Topic 07: diadamulher, espaco, futebol, dulce, presidente, rosalina, voz, pioneirismo, pioneira, arquibancadas, torcida, tornar, exemplo, primeira, luta, mulheres, diainternacionaldamulher, parabens, flores, lado\n",
      "Topic 08: diainternacionaldelamujer, estudio, executado, bernardes, pensado, narrativa, saindo, correndo, manter, cara, encontrocomfatima, programa, fatima, hoje, mulheres, diadasmulheres, felicidades, melhor, 8marzo2021, porque\n",
      "Topic 09: tapa, power, uns, girl, socialista, levar, vem, vai, marco, camisa, jamais, dar, hoje, unico, rolar, ape, lulalele, redencao, escuto, resgate\n",
      "Topic 10: diadasmulheres, mulher, nordestina, dia, ser, parabens, lute, quero, lugar, assim, aqui, necessario, mestres, precisarem, proximas, sangue, maravilhosas, desconstruido, quiser, forca\n",
      "Topic 11: internationalwomensday, mulheres, dia, parabens, incriveis, diadamulher, hoje, fortes, womensday, lindas, dias, lutam, mundo, ser, tudo, woman, ainda, god, melhor, lutaram\n",
      "Topic 12: luta, 8m, vida, mulheres, vacina, ciclo, interrompido, destruido, resistimos, lembra, golpe, atual, presidenta, empoderamento, sendo, momento, primeira, brasil, governo, 8m2021\n",
      "Topic 13: fachin, mae, boca, afinal, povo, porque, inteiro, fez, pais, lembrar, hoje, cala, escuta, deus, dia, amor, lembrada, 8m, camilla, foto\n",
      "Topic 14: discurso, bem, comecar, beyonce, milhares, certeza, inspiracao, mundo, vamos, mulheres, diadasmulheres, necessario, ano, dias, viver, travestis, trans, possam, dignidade, outros\n",
      "Topic 15: marco, lula, dia, ainda, respeito, apenas, lembro, politico, hoje, romantico, ciro, dias, ano, gente, ces, fodas, ser, video, primeiro, lulapresidente2022\n",
      "Topic 16: 8m2021, esto, amp, natalia, oreiro, belleza, mollo, respeito, nunca, hoje, romantico, contra, politico, 8marzo2021, ces, apenas, fodas, diainternacionaldelamujer, silenciadasnuncamais, violencia\n",
      "Topic 17: b21, olhapraela, avontaon, conversataon, emocionar, dona, ver, diadasmulheres, juliette, homenagem, liga, fatima, impossivel, camilla, entao, mae, quer, fortes, surpresa, gente\n",
      "Topic 18: amor, assusta, desrespeitosas, brincadeiras, posicionar, tomado, cheio, exatamente, hoje, duas, momento, defesa, mulheres, deus, cala, escuta, proprio, afasta, distancia, dia\n",
      "Topic 19: nada, agregar, 8m, festejar, niunamenos, deus, escuta, cala, foda, amor, boca, celebrar, gente, 8marzo2021, ser, lutar, lugar, revolucao, direito, deu\n",
      "Topic 20: milagre, mundo, vai, compasso, salvar, marco, aconteceu, acontecer, fica, anos, devemos, tudo, fortes, aqui, dar, licenca, oferecidos, ombros, pediram, gigantes\n"
     ]
    }
   ],
   "source": [
    "for topic_index in range(k):\n",
    "    descriptor = get_descriptor( terms, H, topic_index, 20)\n",
    "    str_descriptor = \", \".join( descriptor )\n",
    "    print(\"Topic %02d: %s\" % ( topic_index+1, str_descriptor ) )"
   ]
  },
  {
   "cell_type": "code",
   "execution_count": null,
   "metadata": {},
   "outputs": [],
   "source": []
  }
 ],
 "metadata": {
  "@webio": {
   "lastCommId": null,
   "lastKernelId": null
  },
  "kernelspec": {
   "display_name": "Python 3",
   "language": "python",
   "name": "python3"
  },
  "language_info": {
   "codemirror_mode": {
    "name": "ipython",
    "version": 3
   },
   "file_extension": ".py",
   "mimetype": "text/x-python",
   "name": "python",
   "nbconvert_exporter": "python",
   "pygments_lexer": "ipython3",
   "version": "3.7.7"
  },
  "toc": {
   "base_numbering": 1,
   "nav_menu": {
    "height": "91px",
    "width": "373px"
   },
   "number_sections": true,
   "sideBar": true,
   "skip_h1_title": false,
   "title_cell": "Table of Contents",
   "title_sidebar": "Contents",
   "toc_cell": false,
   "toc_position": {
    "height": "557px",
    "left": "22px",
    "top": "170px",
    "width": "288px"
   },
   "toc_section_display": true,
   "toc_window_display": false
  }
 },
 "nbformat": 4,
 "nbformat_minor": 4
}
