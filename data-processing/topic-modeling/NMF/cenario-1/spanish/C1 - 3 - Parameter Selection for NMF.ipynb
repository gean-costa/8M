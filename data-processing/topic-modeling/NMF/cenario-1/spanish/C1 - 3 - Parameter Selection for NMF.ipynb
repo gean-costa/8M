{
 "cells": [
  {
   "cell_type": "markdown",
   "metadata": {},
   "source": [
    "# Parameter Selection for NMF"
   ]
  },
  {
   "cell_type": "markdown",
   "metadata": {},
   "source": [
    "Now we look at the more advanced task of parameter selection for NMF topic modelling - namely, selecting a useful value for the number of topics *k*."
   ]
  },
  {
   "cell_type": "markdown",
   "metadata": {},
   "source": [
    "First, let's load the TF-IDF normalised document-term matrix and list of terms that we stored earlier using *Joblib*:"
   ]
  },
  {
   "cell_type": "code",
   "execution_count": 1,
   "metadata": {
    "ExecuteTime": {
     "end_time": "2021-03-17T03:20:25.056079Z",
     "start_time": "2021-03-17T03:20:19.325560Z"
    }
   },
   "outputs": [
    {
     "name": "stdout",
     "output_type": "stream",
     "text": [
      "Loaded 1897848 X 31668 document-term matrix\n"
     ]
    }
   ],
   "source": [
    "import joblib\n",
    "\n",
    "(A, terms, snippets) = joblib.load(\n",
    "    \"cenario1-tweets-tfidf.pkl\")\n",
    "\n",
    "print(\"Loaded %d X %d document-term matrix\" % (A.shape[0], A.shape[1]))"
   ]
  },
  {
   "cell_type": "markdown",
   "metadata": {},
   "source": [
    "### Create the Topic Models"
   ]
  },
  {
   "cell_type": "markdown",
   "metadata": {},
   "source": [
    "A common approach for parameter selection is to Measure and compare the topic coherence of models generated for different values of *k*."
   ]
  },
  {
   "cell_type": "markdown",
   "metadata": {},
   "source": [
    "We need to start by pre-specifying an initial range of \"sensible\" values:"
   ]
  },
  {
   "cell_type": "code",
   "execution_count": 2,
   "metadata": {
    "ExecuteTime": {
     "end_time": "2021-03-17T03:20:25.059921Z",
     "start_time": "2021-03-17T03:20:25.057651Z"
    }
   },
   "outputs": [],
   "source": [
    "kmin, kmax = 5, 20"
   ]
  },
  {
   "cell_type": "markdown",
   "metadata": {},
   "source": [
    "Apply NMF for each of these values:"
   ]
  },
  {
   "cell_type": "code",
   "execution_count": 3,
   "metadata": {
    "ExecuteTime": {
     "end_time": "2021-03-17T03:33:13.973007Z",
     "start_time": "2021-03-17T03:20:25.061178Z"
    }
   },
   "outputs": [
    {
     "name": "stdout",
     "output_type": "stream",
     "text": [
      "Applying NMF for k=5 ...\n",
      "Applying NMF for k=10 ...\n",
      "Applying NMF for k=15 ...\n",
      "Applying NMF for k=20 ...\n"
     ]
    }
   ],
   "source": [
    "from sklearn import decomposition\n",
    "\n",
    "topic_models = []\n",
    "\n",
    "# try each value of k\n",
    "for k in [5,10,15,20]: #range(kmin, kmax + 1):\n",
    "    print(\"Applying NMF for k=%d ...\" % k)\n",
    "    # run NMF\n",
    "    model = decomposition.NMF(init=\"nndsvd\", n_components=k)\n",
    "    W = model.fit_transform(A)\n",
    "    H = model.components_\n",
    "    # store for later\n",
    "    topic_models.append((k, W, H))"
   ]
  },
  {
   "cell_type": "markdown",
   "metadata": {},
   "source": [
    "### Build a Word Embedding"
   ]
  },
  {
   "cell_type": "markdown",
   "metadata": {},
   "source": [
    "To select the number of topics, here we will use a *topic coherence* measure called TC-W2V. This measure relies on the use of a *word embedding* model constructed from our corpus. So in this step we will use the *Gensim* implementation of Word2Vec to build a Word2Vec model based on our collection of news articles."
   ]
  },
  {
   "cell_type": "markdown",
   "metadata": {},
   "source": [
    "**Note:** If you want to skip this step, a pre-built Word2Vec model for the sample dataset [is also provided here for download](http://erdos.ucd.ie/files/pydata/w2v-model.bin) (71MB)."
   ]
  },
  {
   "cell_type": "markdown",
   "metadata": {},
   "source": [
    "We read the documents from the input file again:"
   ]
  },
  {
   "cell_type": "code",
   "execution_count": 4,
   "metadata": {
    "ExecuteTime": {
     "end_time": "2021-03-17T03:33:15.080164Z",
     "start_time": "2021-03-17T03:33:13.974784Z"
    }
   },
   "outputs": [
    {
     "name": "stdout",
     "output_type": "stream",
     "text": [
      "Read 1897848 raw text documents\n"
     ]
    }
   ],
   "source": [
    "import os.path\n",
    "\n",
    "raw_documents = []\n",
    "\n",
    "with open(os.path.join(\"cenario1_8M2020_tweets_es.txt\"), \"r\") as fin:\n",
    "    for line in fin.readlines():\n",
    "        raw_documents.append(line.strip().lower())\n",
    "\n",
    "print(\"Read %d raw text documents\" % len(raw_documents))"
   ]
  },
  {
   "cell_type": "markdown",
   "metadata": {},
   "source": [
    "Read the custom stopword list:"
   ]
  },
  {
   "cell_type": "code",
   "execution_count": 5,
   "metadata": {
    "ExecuteTime": {
     "end_time": "2021-03-17T03:33:15.086720Z",
     "start_time": "2021-03-17T03:33:15.081963Z"
    }
   },
   "outputs": [
    {
     "name": "stdout",
     "output_type": "stream",
     "text": [
      "Stopword list has 313 entries\n"
     ]
    }
   ],
   "source": [
    "custom_stop_words = []\n",
    "\n",
    "with open(\"spanish.txt\", \"r\") as fin:\n",
    "    for line in fin.readlines():\n",
    "        custom_stop_words.append(line.strip().lower())\n",
    "\n",
    "# note that we need to make it hashable\n",
    "print(\"Stopword list has %d entries\" % len(custom_stop_words))"
   ]
  },
  {
   "cell_type": "markdown",
   "metadata": {},
   "source": [
    "First, we need to define a class that will generate documents in a form that can be consumed by Gensim's Word2Vec implementation:"
   ]
  },
  {
   "cell_type": "code",
   "execution_count": 6,
   "metadata": {
    "ExecuteTime": {
     "end_time": "2021-03-17T03:33:15.138915Z",
     "start_time": "2021-03-17T03:33:15.088465Z"
    }
   },
   "outputs": [],
   "source": [
    "import re\n",
    "\n",
    "\n",
    "class TokenGenerator:\n",
    "    def __init__(self, documents, stopwords):\n",
    "        self.documents = documents\n",
    "        self.stopwords = stopwords\n",
    "        self.tokenizer = re.compile(r\"(?u)\\b\\w\\w+\\b\")\n",
    "\n",
    "    def __iter__(self):\n",
    "        print(\"Building Word2Vec model ...\")\n",
    "        for doc in self.documents:\n",
    "            tokens = []\n",
    "            for tok in self.tokenizer.findall(doc):\n",
    "                if tok in self.stopwords:\n",
    "                    tokens.append(\"<stopword>\")\n",
    "                elif len(tok) >= 2:\n",
    "                    tokens.append(tok)\n",
    "            yield tokens"
   ]
  },
  {
   "cell_type": "markdown",
   "metadata": {},
   "source": [
    "Now build a Skipgram Word2Vec model from all documents in the input file using *Gensim*:"
   ]
  },
  {
   "cell_type": "code",
   "execution_count": 7,
   "metadata": {
    "ExecuteTime": {
     "end_time": "2021-03-17T03:33:15.353970Z",
     "start_time": "2021-03-17T03:33:15.141938Z"
    }
   },
   "outputs": [],
   "source": [
    "import gensim"
   ]
  },
  {
   "cell_type": "code",
   "execution_count": 8,
   "metadata": {
    "ExecuteTime": {
     "end_time": "2021-03-17T03:48:51.607652Z",
     "start_time": "2021-03-17T03:33:15.355995Z"
    }
   },
   "outputs": [
    {
     "name": "stdout",
     "output_type": "stream",
     "text": [
      "Building Word2Vec model ...\n",
      "Building Word2Vec model ...\n",
      "Building Word2Vec model ...\n",
      "Building Word2Vec model ...\n",
      "Building Word2Vec model ...\n",
      "Building Word2Vec model ...\n"
     ]
    }
   ],
   "source": [
    "\n",
    "\n",
    "docgen = TokenGenerator(raw_documents, custom_stop_words)\n",
    "\n",
    "# the model has 500 dimensions, the minimum document-term frequency is 20\n",
    "w2v_model = gensim.models.Word2Vec(docgen, size=500, min_count=20, sg=1)"
   ]
  },
  {
   "cell_type": "code",
   "execution_count": 9,
   "metadata": {
    "ExecuteTime": {
     "end_time": "2021-03-17T03:48:51.611680Z",
     "start_time": "2021-03-17T03:48:51.608898Z"
    }
   },
   "outputs": [
    {
     "name": "stdout",
     "output_type": "stream",
     "text": [
      "Model has 31867 terms\n"
     ]
    }
   ],
   "source": [
    "print( \"Model has %d terms\" % len(w2v_model.wv.vocab) )"
   ]
  },
  {
   "cell_type": "markdown",
   "metadata": {},
   "source": [
    "Save for later use, so that we do not need to rebuild it:"
   ]
  },
  {
   "cell_type": "code",
   "execution_count": 10,
   "metadata": {
    "ExecuteTime": {
     "end_time": "2021-03-17T03:48:51.794886Z",
     "start_time": "2021-03-17T03:48:51.612812Z"
    }
   },
   "outputs": [],
   "source": [
    "w2v_model.save(\"cenario1_w2v-model.bin\")"
   ]
  },
  {
   "cell_type": "code",
   "execution_count": 11,
   "metadata": {
    "ExecuteTime": {
     "end_time": "2021-03-17T03:48:51.797768Z",
     "start_time": "2021-03-17T03:48:51.796151Z"
    }
   },
   "outputs": [],
   "source": [
    "# To re-load this model, run\n",
    "# w2v_model = gensim.models.Word2Vec.load(\"cenario1_w2v-model.bin\")"
   ]
  },
  {
   "cell_type": "markdown",
   "metadata": {},
   "source": [
    "### Selecting the Number of Topics"
   ]
  },
  {
   "cell_type": "markdown",
   "metadata": {},
   "source": [
    "Once we have our Word2vec model, we can use it as part of our *topic coherence* approach to evaluate the different NMF topic models that we created previously. To do this, we will implement a simple version of the TC-W2V coherence measure."
   ]
  },
  {
   "cell_type": "markdown",
   "metadata": {},
   "source": [
    "We use the Word2vec model to calculate coherence scores for each of these models. We will define this coherence score as follows:"
   ]
  },
  {
   "cell_type": "code",
   "execution_count": 12,
   "metadata": {
    "ExecuteTime": {
     "end_time": "2021-03-17T03:48:51.807391Z",
     "start_time": "2021-03-17T03:48:51.798870Z"
    }
   },
   "outputs": [],
   "source": [
    "def calculate_coherence(w2v_model, term_rankings):\n",
    "    overall_coherence = 0.0\n",
    "    \n",
    "    for topic_index in range(len(term_rankings)):\n",
    "        # check each pair of terms\n",
    "        pair_scores = []\n",
    "        for pair in combinations(term_rankings[topic_index], 2):\n",
    "            pair_scores.append(w2v_model.similarity(pair[0], pair[1]))\n",
    "        # get the mean for all pairs in this topic\n",
    "        topic_score = sum(pair_scores) / len(pair_scores)\n",
    "        overall_coherence += topic_score\n",
    "    \n",
    "    # get the mean score across all topics\n",
    "    return overall_coherence / len(term_rankings)"
   ]
  },
  {
   "cell_type": "markdown",
   "metadata": {},
   "source": [
    "We also define a function to get the topic descriptor (i.e. list of top terms) for each topic:"
   ]
  },
  {
   "cell_type": "code",
   "execution_count": 13,
   "metadata": {
    "ExecuteTime": {
     "end_time": "2021-03-17T03:48:51.816673Z",
     "start_time": "2021-03-17T03:48:51.808544Z"
    }
   },
   "outputs": [],
   "source": [
    "import numpy as np\n",
    "\n",
    "\n",
    "def get_descriptor(all_terms, H, topic_index, top):\n",
    "    # reverse sort the values to sort the indices\n",
    "    top_indices = np.argsort(H[topic_index, :])[::-1]\n",
    "    \n",
    "    # now get the terms corresponding to the top-ranked indices\n",
    "    top_terms = []\n",
    "    \n",
    "    for term_index in top_indices[0:top]:\n",
    "        top_terms.append(all_terms[term_index])\n",
    "    \n",
    "    return top_terms"
   ]
  },
  {
   "cell_type": "markdown",
   "metadata": {},
   "source": [
    "Now process each of the models for different values of *k*:"
   ]
  },
  {
   "cell_type": "code",
   "execution_count": 14,
   "metadata": {
    "ExecuteTime": {
     "end_time": "2021-03-17T03:48:51.977784Z",
     "start_time": "2021-03-17T03:48:51.817745Z"
    }
   },
   "outputs": [
    {
     "name": "stdout",
     "output_type": "stream",
     "text": [
      "K=05: Coherence=0.1987\n",
      "K=10: Coherence=0.2412\n",
      "K=15: Coherence=0.2322\n",
      "K=20: Coherence=0.2371\n"
     ]
    },
    {
     "name": "stderr",
     "output_type": "stream",
     "text": [
      "/home/gean/anaconda3/lib/python3.7/site-packages/ipykernel_launcher.py:8: DeprecationWarning: Call to deprecated `similarity` (Method will be removed in 4.0.0, use self.wv.similarity() instead).\n",
      "  \n"
     ]
    }
   ],
   "source": [
    "from itertools import combinations\n",
    "\n",
    "k_values = []\n",
    "coherences = []\n",
    "\n",
    "for (k, W, H) in topic_models:\n",
    "    # Get all of the topic descriptors - the term_rankings, based on top 10 terms\n",
    "    term_rankings = []\n",
    "    \n",
    "    for topic_index in range(k):\n",
    "        term_rankings.append(get_descriptor(terms, H, topic_index, 10))\n",
    "    \n",
    "    # Now calculate the coherence based on our Word2vec model\n",
    "    k_values.append(k)\n",
    "    coherences.append(calculate_coherence(w2v_model, term_rankings))\n",
    "    \n",
    "    print(\"K=%02d: Coherence=%.4f\" % (k, coherences[-1]))\n",
    "    # print(f'{coherences[-1]:.4f}')"
   ]
  },
  {
   "cell_type": "markdown",
   "metadata": {},
   "source": [
    "We can now use *matplotlib* to generate a line plot of these coherence scores, to help us select an appropriate value."
   ]
  },
  {
   "cell_type": "code",
   "execution_count": 15,
   "metadata": {
    "ExecuteTime": {
     "end_time": "2021-03-17T03:48:52.269422Z",
     "start_time": "2021-03-17T03:48:51.979012Z"
    }
   },
   "outputs": [],
   "source": [
    "%matplotlib inline\n",
    "import matplotlib\n",
    "import matplotlib.pyplot as plt\n",
    "\n",
    "plt.style.use(\"ggplot\")\n",
    "matplotlib.rcParams.update({\"font.size\": 14})"
   ]
  },
  {
   "cell_type": "code",
   "execution_count": 16,
   "metadata": {
    "ExecuteTime": {
     "end_time": "2021-03-17T03:48:52.419198Z",
     "start_time": "2021-03-17T03:48:52.270667Z"
    }
   },
   "outputs": [
    {
     "data": {
      "image/png": "[encoded data removed]",
      "text/plain": [
       "<Figure size 936x504 with 1 Axes>"
      ]
     },
     "metadata": {},
     "output_type": "display_data"
    }
   ],
   "source": [
    "fig = plt.figure(figsize=(13,7))\n",
    "\n",
    "# create the line plot\n",
    "ax = plt.plot( k_values, coherences )\n",
    "plt.xticks(k_values)\n",
    "plt.xlabel(\"Number of Topics\")\n",
    "plt.ylabel(\"Mean Coherence\")\n",
    "\n",
    "# add the points\n",
    "plt.scatter( k_values, coherences, s=120)\n",
    "\n",
    "\n",
    "# find and annotate the maximum point on the plot\n",
    "ymax = max(coherences)\n",
    "xpos = coherences.index(ymax)\n",
    "best_k = k_values[xpos]\n",
    "plt.annotate( \"k=%d\" % best_k, xy=(best_k, ymax), xytext=(best_k, ymax), textcoords=\"offset points\", fontsize=16)\n",
    "\n",
    "# show the plot\n",
    "plt.show()"
   ]
  },
  {
   "cell_type": "markdown",
   "metadata": {},
   "source": [
    "### Examine the Final  Model"
   ]
  },
  {
   "cell_type": "markdown",
   "metadata": {},
   "source": [
    "The plot above suggests that the most appropriate value for the number of topics is *k=8*."
   ]
  },
  {
   "cell_type": "code",
   "execution_count": 39,
   "metadata": {
    "ExecuteTime": {
     "end_time": "2021-03-18T23:47:18.107477Z",
     "start_time": "2021-03-18T23:47:18.104879Z"
    }
   },
   "outputs": [],
   "source": [
    "k = 20 # best_k\n",
    "\n",
    "# get the model that we generated earlier.\n",
    "W = topic_models[3][1]\n",
    "H = topic_models[3][2]"
   ]
  },
  {
   "cell_type": "markdown",
   "metadata": {},
   "source": [
    "Display the topic descriptors for this model:"
   ]
  },
  {
   "cell_type": "code",
   "execution_count": 40,
   "metadata": {
    "ExecuteTime": {
     "end_time": "2021-03-18T23:47:19.115940Z",
     "start_time": "2021-03-18T23:47:19.072477Z"
    }
   },
   "outputs": [
    {
     "name": "stdout",
     "output_type": "stream",
     "text": [
      "Topic 01: falte, ninguna, feliz, dia, 8m\n",
      "Topic 02: marcha8m, diainternacionaldelamujer, niunamenos, marchafeminista, sevaacaer\n",
      "Topic 03: quemadas, huelga, gozamos, internationalwomensday, valia\n",
      "Topic 04: quiero, tranquila, caminar, flores, calle\n",
      "Topic 05: dia, mujer, internacional, feliz, dejen\n",
      "Topic 06: encapuchadas, realizaban, vandalizaban, contiene, estatua\n",
      "Topic 07: 8m, cdmx, niunamenos, zocalo, marzo\n",
      "Topic 08: lucha, vano, pudieron, sepan, vamos\n",
      "Topic 09: jajaja, nunca, vencidas, follo, fea\n",
      "Topic 10: yang, cristina, deseen, tenerlos, padres\n",
      "Topic 11: gracias, elaboro, recordarla, visible, debo\n",
      "Topic 12: mujeres, igualdad, diainternacionaldelamujer, hombres, derechos\n",
      "Topic 13: hoy, diainternacionaldelamujer, siempre, manana, dias\n",
      "Topic 14: 8m2020, diadelamujer, chile, marchando, diverti\n",
      "Topic 15: queremos, libres, vivas, miedo, diainternacionaldelamujer\n",
      "Topic 16: todas, nombre, mama, amo, mas\n",
      "Topic 17: marcha, chile, feminista, grande, gobierno\n",
      "Topic 18: olviden, miguel, carcel, san, marcha8m\n",
      "Topic 19: asi, ojala, protegieran, womensday, gilip0llas\n",
      "Topic 20: equivoquen, infiltradas, nota, pls, imaginen\n"
     ]
    }
   ],
   "source": [
    "for topic_index in range(k):\n",
    "    descriptor = get_descriptor( terms, H, topic_index, 5)\n",
    "    str_descriptor = \", \".join( descriptor )\n",
    "    print(\"Topic %02d: %s\" % ( topic_index+1, str_descriptor ) )"
   ]
  },
  {
   "cell_type": "code",
   "execution_count": 41,
   "metadata": {
    "ExecuteTime": {
     "end_time": "2021-03-18T23:47:20.137873Z",
     "start_time": "2021-03-18T23:47:20.093685Z"
    }
   },
   "outputs": [
    {
     "name": "stdout",
     "output_type": "stream",
     "text": [
      "Topic 01: falte, ninguna, feliz, dia, 8m, ser, diainternacionaldelamujer, estan, fiesta, felizdiadelamujer\n",
      "Topic 02: marcha8m, diainternacionaldelamujer, niunamenos, marchafeminista, sevaacaer, mexico, revolucion, video, idola, monumento\n",
      "Topic 03: quemadas, huelga, gozamos, internationalwomensday, valia, trabajadoras, festejo, marzo, vivas, lograr\n",
      "Topic 04: quiero, tranquila, caminar, flores, calle, poder, diainternacionaldelamujer, ser, puedo, jirafa\n",
      "Topic 05: dia, mujer, internacional, feliz, dejen, paz, vivir, trabajadora, cada, ser\n",
      "Topic 06: encapuchadas, realizaban, vandalizaban, contiene, estatua, madero, artes, aplauso, delincuentes, bellas\n",
      "Topic 07: 8m, cdmx, niunamenos, zocalo, marzo, diana, cazadora, calles, fuente, lucha\n",
      "Topic 08: lucha, vano, pudieron, sepan, vamos, llena, mierda, aquellas, memoria, cambiar\n",
      "Topic 09: jajaja, nunca, vencidas, follo, fea, novio, tias, sororidad, resto, ano\n",
      "Topic 10: yang, cristina, deseen, tenerlos, padres, creo, deben, ninos, odio, tener\n",
      "Topic 11: gracias, elaboro, recordarla, visible, debo, pago, recibe, maltrato, machista, ley\n",
      "Topic 12: mujeres, igualdad, diainternacionaldelamujer, hombres, derechos, lucha, violencia, feminismo, millon, genero\n",
      "Topic 13: hoy, diainternacionaldelamujer, siempre, manana, dias, diverti, recordar, diadelamujer, historia, aprendi\n",
      "Topic 14: 8m2020, diadelamujer, chile, marchando, diverti, diainternacionaldelamujer, 8marzo2020, grito, niunamenos, plaza\n",
      "Topic 15: queremos, libres, vivas, miedo, diainternacionaldelamujer, carteles, espacios, momento, recordar, casa\n",
      "Topic 16: todas, nombre, mama, amo, mas, encontrarla, pudiese, agacharon, amor, perdio\n",
      "Topic 17: marcha, chile, feminista, grande, gobierno, millones, santiago, movilizacion, 8m2millones, infiltrados\n",
      "Topic 18: olviden, miguel, carcel, san, marcha8m, mujeres, amigas, cristobal, allende, zapatos\n",
      "Topic 19: asi, ojala, protegieran, womensday, gilip0llas, celebrarlo, pongan, espero, puede, diadelamujer\n",
      "Topic 20: equivoquen, infiltradas, nota, pls, imaginen, adultas, mamas, muchas, hijas, hrs\n"
     ]
    }
   ],
   "source": [
    "for topic_index in range(k):\n",
    "    descriptor = get_descriptor( terms, H, topic_index, 10)\n",
    "    str_descriptor = \", \".join( descriptor )\n",
    "    print(\"Topic %02d: %s\" % ( topic_index+1, str_descriptor ) )"
   ]
  },
  {
   "cell_type": "code",
   "execution_count": 42,
   "metadata": {
    "ExecuteTime": {
     "end_time": "2021-03-18T23:47:21.141929Z",
     "start_time": "2021-03-18T23:47:21.097328Z"
    }
   },
   "outputs": [
    {
     "name": "stdout",
     "output_type": "stream",
     "text": [
      "Topic 01: falte, ninguna, feliz, dia, 8m, ser, diainternacionaldelamujer, estan, fiesta, felizdiadelamujer, todas, proximo, amigues, super, corresponden\n",
      "Topic 02: marcha8m, diainternacionaldelamujer, niunamenos, marchafeminista, sevaacaer, mexico, revolucion, video, idola, monumento, millon, niunamas, aerea, impresionante, inicio\n",
      "Topic 03: quemadas, huelga, gozamos, internationalwomensday, valia, trabajadoras, festejo, marzo, vivas, lograr, conmemoracion, derechos, ahora, respeto, hacer\n",
      "Topic 04: quiero, tranquila, caminar, flores, calle, poder, diainternacionaldelamujer, ser, puedo, jirafa, aprendi, diverti, salir, libre, casa\n",
      "Topic 05: dia, mujer, internacional, feliz, dejen, paz, vivir, trabajadora, cada, ser, felizdiadelamujer, historico, hoy, lucha, marzo\n",
      "Topic 06: encapuchadas, realizaban, vandalizaban, contiene, estatua, madero, artes, aplauso, delincuentes, bellas, gran, destrozos, marchafeminista, mujer, diadelamujer\n",
      "Topic 07: 8m, cdmx, niunamenos, zocalo, marzo, diana, cazadora, calles, fuente, lucha, sabado, niunamas, dias, juntas, historia\n",
      "Topic 08: lucha, vano, pudieron, sepan, vamos, llena, mierda, aquellas, memoria, cambiar, sido, mundo, pais, todas, hoy\n",
      "Topic 09: jajaja, nunca, vencidas, follo, fea, novio, tias, sororidad, resto, ano, hermanas, unidas, quiero, volvieron, debemos\n",
      "Topic 10: yang, cristina, deseen, tenerlos, padres, creo, deben, ninos, odio, tener, respeto, 8m, merecemos, admiro, necesito\n",
      "Topic 11: gracias, elaboro, recordarla, visible, debo, pago, recibe, maltrato, machista, ley, homenaje, vida, violencia, hacer, hoy\n",
      "Topic 12: mujeres, igualdad, diainternacionaldelamujer, hombres, derechos, lucha, violencia, feminismo, millon, genero, trans, mundo, solo, miles, calles\n",
      "Topic 13: hoy, diainternacionaldelamujer, siempre, manana, dias, diverti, recordar, diadelamujer, historia, aprendi, momento, carteles, espacios, jirafa, nunca\n",
      "Topic 14: 8m2020, diadelamujer, chile, marchando, diverti, diainternacionaldelamujer, 8marzo2020, grito, niunamenos, plaza, aprendi, womensday, 8marzo, chiledesperto, juntas\n",
      "Topic 15: queremos, libres, vivas, miedo, diainternacionaldelamujer, carteles, espacios, momento, recordar, casa, llegado, volver, ser, tranquilas, decimos\n",
      "Topic 16: todas, nombre, mama, amo, mas, encontrarla, pudiese, agacharon, amor, perdio, puro, gritaron, fuerte, fortaleza, nina\n",
      "Topic 17: marcha, chile, feminista, grande, gobierno, millones, santiago, movilizacion, 8m2millones, infiltrados, reventadores, caeer, organizando, transporte, personal\n",
      "Topic 18: olviden, miguel, carcel, san, marcha8m, mujeres, amigas, cristobal, allende, zapatos, representar, pares, colgaron, guanajuato, sido\n",
      "Topic 19: asi, ojala, protegieran, womensday, gilip0llas, celebrarlo, pongan, espero, puede, diadelamujer, tratan, cdmx, pacos, zocalo, blindadas\n",
      "Topic 20: equivoquen, infiltradas, nota, pls, imaginen, adultas, mamas, muchas, hijas, hrs, adolescentes, muchisimas, medios, ninas, mayores\n"
     ]
    }
   ],
   "source": [
    "for topic_index in range(k):\n",
    "    descriptor = get_descriptor( terms, H, topic_index, 15)\n",
    "    str_descriptor = \", \".join( descriptor )\n",
    "    print(\"Topic %02d: %s\" % ( topic_index+1, str_descriptor ) )"
   ]
  },
  {
   "cell_type": "code",
   "execution_count": 43,
   "metadata": {
    "ExecuteTime": {
     "end_time": "2021-03-18T23:47:21.853953Z",
     "start_time": "2021-03-18T23:47:21.806762Z"
    }
   },
   "outputs": [
    {
     "name": "stdout",
     "output_type": "stream",
     "text": [
      "Topic 01: falte, ninguna, feliz, dia, 8m, ser, diainternacionaldelamujer, estan, fiesta, felizdiadelamujer, todas, proximo, amigues, super, corresponden, siguientes, representarte, decime, febrero, enero\n",
      "Topic 02: marcha8m, diainternacionaldelamujer, niunamenos, marchafeminista, sevaacaer, mexico, revolucion, video, idola, monumento, millon, niunamas, aerea, impresionante, inicio, palacio, toma, nacional, molotov, historicas\n",
      "Topic 03: quemadas, huelga, gozamos, internationalwomensday, valia, trabajadoras, festejo, marzo, vivas, lograr, conmemoracion, derechos, ahora, respeto, hacer, diainternacionaldelamujer, 8m2020, pedir, movilizan, egipto\n",
      "Topic 04: quiero, tranquila, caminar, flores, calle, poder, diainternacionaldelamujer, ser, puedo, jirafa, aprendi, diverti, salir, libre, casa, escoltadas, salvo, solas, ciudadanos, policia\n",
      "Topic 05: dia, mujer, internacional, feliz, dejen, paz, vivir, trabajadora, cada, ser, felizdiadelamujer, historico, hoy, lucha, marzo, conmemora, diadelamujer, hombre, igualdad, celebra\n",
      "Topic 06: encapuchadas, realizaban, vandalizaban, contiene, estatua, madero, artes, aplauso, delincuentes, bellas, gran, destrozos, marchafeminista, mujer, diadelamujer, diainternacionaldelamujer, 8m2020, respetos, destruian, empoderada\n",
      "Topic 07: 8m, cdmx, niunamenos, zocalo, marzo, diana, cazadora, calles, fuente, lucha, sabado, niunamas, dias, juntas, historia, ser, caer, feminista, nunca, 8marzo2020\n",
      "Topic 08: lucha, vano, pudieron, sepan, vamos, llena, mierda, aquellas, memoria, cambiar, sido, mundo, pais, todas, hoy, 8m2020, calles, felicita, vez, fatima\n",
      "Topic 09: jajaja, nunca, vencidas, follo, fea, novio, tias, sororidad, resto, ano, hermanas, unidas, quiero, volvieron, debemos, dias, juntas, policias, hacemos, hijas\n",
      "Topic 10: yang, cristina, deseen, tenerlos, padres, creo, deben, ninos, odio, tener, respeto, 8m, merecemos, admiro, necesito, igualdad, hijos, queria, ser, hermosa\n",
      "Topic 11: gracias, elaboro, recordarla, visible, debo, pago, recibe, maltrato, machista, ley, homenaje, vida, violencia, hacer, hoy, 8m2020, vez, genero, hace, presupuesto\n",
      "Topic 12: mujeres, igualdad, diainternacionaldelamujer, hombres, derechos, lucha, violencia, feminismo, millon, genero, trans, mundo, solo, miles, calles, vida, cada, diadelamujer, 8marzo, policias\n",
      "Topic 13: hoy, diainternacionaldelamujer, siempre, manana, dias, diverti, recordar, diadelamujer, historia, aprendi, momento, carteles, espacios, jirafa, nunca, ser, puedo, volvieron, 8marzo, debemos\n",
      "Topic 14: 8m2020, diadelamujer, chile, marchando, diverti, diainternacionaldelamujer, 8marzo2020, grito, niunamenos, plaza, aprendi, womensday, 8marzo, chiledesperto, juntas, imparables, puedo, callar, feminismo, dignidad\n",
      "Topic 15: queremos, libres, vivas, miedo, diainternacionaldelamujer, carteles, espacios, momento, recordar, casa, llegado, volver, ser, tranquilas, decimos, mandamos, quedamos, pasamos, vuelve, sola\n",
      "Topic 16: todas, nombre, mama, amo, mas, encontrarla, pudiese, agacharon, amor, perdio, puro, gritaron, fuerte, fortaleza, nina, manifestantes, pueden, unidas, faltan, hoy\n",
      "Topic 17: marcha, chile, feminista, grande, gobierno, millones, santiago, movilizacion, 8m2millones, infiltrados, reventadores, caeer, organizando, transporte, personal, autoridades, grupos, nivel, dicen, marco\n",
      "Topic 18: olviden, miguel, carcel, san, marcha8m, mujeres, amigas, cristobal, allende, zapatos, representar, pares, colgaron, guanajuato, sido, victimas, pena, cada, martin, carlos\n",
      "Topic 19: asi, ojala, protegieran, womensday, gilip0llas, celebrarlo, pongan, espero, puede, diadelamujer, tratan, cdmx, pacos, zocalo, blindadas, protegidas, ganas, seguras, monumento, dia\n",
      "Topic 20: equivoquen, infiltradas, nota, pls, imaginen, adultas, mamas, muchas, hijas, hrs, adolescentes, muchisimas, medios, ninas, mayores, marchafeminista, destrozos, 8m, policias, madres\n"
     ]
    }
   ],
   "source": [
    "for topic_index in range(k):\n",
    "    descriptor = get_descriptor( terms, H, topic_index, 20)\n",
    "    str_descriptor = \", \".join( descriptor )\n",
    "    print(\"Topic %02d: %s\" % ( topic_index+1, str_descriptor ) )"
   ]
  },
  {
   "cell_type": "code",
   "execution_count": null,
   "metadata": {},
   "outputs": [],
   "source": []
  },
  {
   "cell_type": "code",
   "execution_count": null,
   "metadata": {},
   "outputs": [],
   "source": []
  }
 ],
 "metadata": {
  "@webio": {
   "lastCommId": null,
   "lastKernelId": null
  },
  "kernelspec": {
   "display_name": "Python 3",
   "language": "python",
   "name": "python3"
  },
  "language_info": {
   "codemirror_mode": {
    "name": "ipython",
    "version": 3
   },
   "file_extension": ".py",
   "mimetype": "text/x-python",
   "name": "python",
   "nbconvert_exporter": "python",
   "pygments_lexer": "ipython3",
   "version": "3.7.7"
  },
  "toc": {
   "base_numbering": 1,
   "nav_menu": {
    "height": "91px",
    "width": "373px"
   },
   "number_sections": true,
   "sideBar": true,
   "skip_h1_title": false,
   "title_cell": "Table of Contents",
   "title_sidebar": "Contents",
   "toc_cell": false,
   "toc_position": {
    "height": "557px",
    "left": "22px",
    "top": "170px",
    "width": "288px"
   },
   "toc_section_display": true,
   "toc_window_display": false
  }
 },
 "nbformat": 4,
 "nbformat_minor": 4
}
