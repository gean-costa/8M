{
 "cells": [
  {
   "cell_type": "code",
   "execution_count": 1,
   "metadata": {},
   "outputs": [],
   "source": [
    "import json\n",
    "from pymongo import MongoClient\n",
    "from bson.objectid import ObjectId\n",
    "from bson.json_util import dumps"
   ]
  },
  {
   "cell_type": "code",
   "execution_count": 2,
   "metadata": {},
   "outputs": [
    {
     "name": "stdout",
     "output_type": "stream",
     "text": [
      "Conectando à base de dados\n"
     ]
    }
   ],
   "source": [
    "print(\"Conectando à base de dados\")"
   ]
  },
  {
   "cell_type": "code",
   "execution_count": 3,
   "metadata": {},
   "outputs": [],
   "source": [
    "MONGO_HOST = 'mongodb://localhost:27017/'\n",
    "\n",
    "client = MongoClient(MONGO_HOST)\n",
    "\n",
    "db = client['8M2020']\n",
    "\n",
    "tweets = db.tweets_updated"
   ]
  },
  {
   "cell_type": "code",
   "execution_count": 4,
   "metadata": {},
   "outputs": [
    {
     "name": "stdout",
     "output_type": "stream",
     "text": [
      "Base de dados: 8M2020\n",
      "Collection: tweets_updated\n"
     ]
    }
   ],
   "source": [
    "print(f'Base de dados: {db.name}\\nCollection: {tweets.name}')"
   ]
  },
  {
   "cell_type": "code",
   "execution_count": 5,
   "metadata": {},
   "outputs": [],
   "source": [
    "pipeline = [\n",
    "    {\n",
    "        '$group': {\n",
    "            '_id': '$id',\n",
    "            'uniqueIds': {\n",
    "                '$addToSet': '$_id'\n",
    "            },\n",
    "            'count': {\n",
    "                '$sum': 1\n",
    "            }\n",
    "        }\n",
    "    }, {\n",
    "        '$match': {\n",
    "            'count': {\n",
    "                '$gt': 1\n",
    "            }\n",
    "        }\n",
    "    }, {\n",
    "        '$sort': {\n",
    "            'count': -1\n",
    "        }\n",
    "    }\n",
    "]"
   ]
  },
  {
   "cell_type": "code",
   "execution_count": 6,
   "metadata": {},
   "outputs": [
    {
     "name": "stdout",
     "output_type": "stream",
     "text": [
      "Query iniciada\n",
      "Query finalizada\n"
     ]
    }
   ],
   "source": [
    "print('Query iniciada')\n",
    "data = list(tweets.aggregate(pipeline, allowDiskUse=True))\n",
    "print('Query finalizada')"
   ]
  },
  {
   "cell_type": "code",
   "execution_count": 7,
   "metadata": {},
   "outputs": [
    {
     "name": "stdout",
     "output_type": "stream",
     "text": [
      "Quantidade de documentos com registros duplicados: 0\n"
     ]
    }
   ],
   "source": [
    "print(f'Quantidade de documentos com registros duplicados: {len(data)}')"
   ]
  },
  {
   "cell_type": "code",
   "execution_count": null,
   "metadata": {},
   "outputs": [],
   "source": [
    "print(dumps(data[0:2], indent=4, sort_keys=True, ensure_ascii=False))"
   ]
  },
  {
   "cell_type": "code",
   "execution_count": null,
   "metadata": {},
   "outputs": [],
   "source": [
    "ids = [d2 for d in data for d2 in d['uniqueIds'][1:]]"
   ]
  },
  {
   "cell_type": "code",
   "execution_count": null,
   "metadata": {},
   "outputs": [],
   "source": [
    "print(f'Quantidade de documentos a serem excluídos: {len(ids)}')"
   ]
  },
  {
   "cell_type": "code",
   "execution_count": null,
   "metadata": {},
   "outputs": [],
   "source": [
    "# ids"
   ]
  },
  {
   "cell_type": "code",
   "execution_count": null,
   "metadata": {},
   "outputs": [],
   "source": [
    "for id in ids:\n",
    "    tweets.delete_one({'_id': id})\n",
    "    # print(f'Documento {id} removido')\n",
    "\n",
    "print(\"Exclusão de documentos finalizadas.\")"
   ]
  },
  {
   "cell_type": "code",
   "execution_count": null,
   "metadata": {},
   "outputs": [],
   "source": []
  }
 ],
 "metadata": {
  "@webio": {
   "lastCommId": null,
   "lastKernelId": null
  },
  "kernelspec": {
   "display_name": "Python 3",
   "language": "python",
   "name": "python3"
  },
  "language_info": {
   "codemirror_mode": {
    "name": "ipython",
    "version": 3
   },
   "file_extension": ".py",
   "mimetype": "text/x-python",
   "name": "python",
   "nbconvert_exporter": "python",
   "pygments_lexer": "ipython3",
   "version": "3.7.7"
  },
  "toc": {
   "base_numbering": 1,
   "nav_menu": {},
   "number_sections": true,
   "sideBar": true,
   "skip_h1_title": false,
   "title_cell": "Table of Contents",
   "title_sidebar": "Contents",
   "toc_cell": false,
   "toc_position": {},
   "toc_section_display": true,
   "toc_window_display": false
  }
 },
 "nbformat": 4,
 "nbformat_minor": 2
}
