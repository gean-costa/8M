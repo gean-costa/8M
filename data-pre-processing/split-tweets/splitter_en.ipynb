{
 "cells": [
  {
   "cell_type": "code",
   "execution_count": 8,
   "metadata": {
    "ExecuteTime": {
     "end_time": "2020-09-28T15:00:31.406642Z",
     "start_time": "2020-09-28T15:00:31.404432Z"
    }
   },
   "outputs": [],
   "source": [
    "from tqdm import trange"
   ]
  },
  {
   "cell_type": "code",
   "execution_count": 9,
   "metadata": {
    "ExecuteTime": {
     "end_time": "2020-09-28T15:00:33.126492Z",
     "start_time": "2020-09-28T15:00:33.031255Z"
    }
   },
   "outputs": [],
   "source": [
    "with open(\"cenario2_8M2020_tweets_en.txt\", \"r\") as file:\n",
    "    tweets = file.readlines()"
   ]
  },
  {
   "cell_type": "code",
   "execution_count": 10,
   "metadata": {
    "ExecuteTime": {
     "end_time": "2020-09-28T15:00:33.819580Z",
     "start_time": "2020-09-28T15:00:33.816316Z"
    }
   },
   "outputs": [
    {
     "data": {
      "text/plain": [
       "400159"
      ]
     },
     "execution_count": 10,
     "metadata": {},
     "output_type": "execute_result"
    }
   ],
   "source": [
    "len(tweets)"
   ]
  },
  {
   "cell_type": "code",
   "execution_count": 11,
   "metadata": {
    "ExecuteTime": {
     "end_time": "2020-09-28T15:00:34.705305Z",
     "start_time": "2020-09-28T15:00:34.702060Z"
    }
   },
   "outputs": [],
   "source": [
    "steps = len(tweets) // 1000"
   ]
  },
  {
   "cell_type": "code",
   "execution_count": 12,
   "metadata": {
    "ExecuteTime": {
     "end_time": "2020-09-28T15:00:35.218480Z",
     "start_time": "2020-09-28T15:00:35.216303Z"
    }
   },
   "outputs": [],
   "source": [
    "start = 0\n",
    "end = 1000"
   ]
  },
  {
   "cell_type": "code",
   "execution_count": 13,
   "metadata": {
    "ExecuteTime": {
     "end_time": "2020-09-28T15:00:35.876066Z",
     "start_time": "2020-09-28T15:00:35.720497Z"
    }
   },
   "outputs": [
    {
     "name": "stderr",
     "output_type": "stream",
     "text": [
      "100%|██████████| 400/400 [00:00<00:00, 2843.14it/s]\n"
     ]
    }
   ],
   "source": [
    "for i in trange(steps):\n",
    "    with open(f\"splitted_en/cenario1_tweets_en_{i+1}.txt\", \"w\") as file:\n",
    "        file.writelines(tweets[start:end])\n",
    "    start = end\n",
    "    end += 1000"
   ]
  },
  {
   "cell_type": "code",
   "execution_count": 14,
   "metadata": {
    "ExecuteTime": {
     "end_time": "2020-09-28T15:00:36.884407Z",
     "start_time": "2020-09-28T15:00:36.881443Z"
    }
   },
   "outputs": [],
   "source": [
    "with open(f\"splitted_en/cenario1_tweets_en_{steps+1}.txt\", \"w\") as file:\n",
    "        file.writelines(tweets[start:])"
   ]
  },
  {
   "cell_type": "code",
   "execution_count": null,
   "metadata": {},
   "outputs": [],
   "source": []
  }
 ],
 "metadata": {
  "kernelspec": {
   "display_name": "Python 3",
   "language": "python",
   "name": "python3"
  },
  "language_info": {
   "codemirror_mode": {
    "name": "ipython",
    "version": 3
   },
   "file_extension": ".py",
   "mimetype": "text/x-python",
   "name": "python",
   "nbconvert_exporter": "python",
   "pygments_lexer": "ipython3",
   "version": "3.7.7"
  },
  "toc": {
   "base_numbering": 1,
   "nav_menu": {},
   "number_sections": true,
   "sideBar": true,
   "skip_h1_title": false,
   "title_cell": "Table of Contents",
   "title_sidebar": "Contents",
   "toc_cell": false,
   "toc_position": {},
   "toc_section_display": true,
   "toc_window_display": false
  }
 },
 "nbformat": 4,
 "nbformat_minor": 4
}
