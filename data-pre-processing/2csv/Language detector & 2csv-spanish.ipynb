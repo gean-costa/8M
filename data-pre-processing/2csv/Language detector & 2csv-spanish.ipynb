{
 "cells": [
  {
   "cell_type": "code",
   "execution_count": 1,
   "metadata": {
    "ExecuteTime": {
     "end_time": "2021-03-17T00:59:58.996550Z",
     "start_time": "2021-03-17T00:59:58.299307Z"
    }
   },
   "outputs": [],
   "source": [
    "import pymongo\n",
    "import time\n",
    "import pandas as pd\n",
    "import json\n",
    "import nltk"
   ]
  },
  {
   "cell_type": "markdown",
   "metadata": {},
   "source": [
    "# Conexão com o MongoDB"
   ]
  },
  {
   "cell_type": "code",
   "execution_count": 2,
   "metadata": {
    "ExecuteTime": {
     "end_time": "2021-03-17T00:59:59.002176Z",
     "start_time": "2021-03-17T00:59:58.998333Z"
    }
   },
   "outputs": [],
   "source": [
    "client = pymongo.MongoClient()\n",
    "\n",
    "# database\n",
    "db = client['8M2020_samples']  \n",
    "\n",
    "# collection\n",
    "collection = db.tweets_es"
   ]
  },
  {
   "cell_type": "code",
   "execution_count": 3,
   "metadata": {
    "ExecuteTime": {
     "end_time": "2021-03-17T00:59:59.012061Z",
     "start_time": "2021-03-17T00:59:59.003452Z"
    }
   },
   "outputs": [],
   "source": [
    "pipeline = [\n",
    "    {\n",
    "        '$project': {\n",
    "            'tweet_id': '$id_str', \n",
    "            'date': {\n",
    "                '$dateFromString': {\n",
    "                    'dateString': '$created_at'\n",
    "                }\n",
    "            }, \n",
    "            'tweet_text': {\n",
    "                '$ifNull': [\n",
    "                    '$retweeted_status.full_text', '$full_text'\n",
    "                ]\n",
    "            }, \n",
    "            'num_likes': '$favorite_count', \n",
    "            'num_retweets': '$retweet_count', \n",
    "            'quoted_status_id': {\n",
    "                '$ifNull': [\n",
    "                    '$quoted_status_id_str', None\n",
    "                ]\n",
    "            }, \n",
    "            'retweeted_status_id': {\n",
    "                '$ifNull': [\n",
    "                    '$retweeted_status.id_str', None\n",
    "                ]\n",
    "            }, \n",
    "            'reply_to_user': {\n",
    "                '$ifNull': [\n",
    "                    '$in_reply_to_user_id_str', None\n",
    "                ]\n",
    "            }, \n",
    "            'reply_to_status': {\n",
    "                '$ifNull': [\n",
    "                    '$in_reply_to_status_id_str', None\n",
    "                ]\n",
    "            }, \n",
    "            'user_id': '$user.id_str', \n",
    "            'screen_name': '$user.screen_name', \n",
    "            'followers': '$user.followers_count', \n",
    "            'following': '$user.friends_count'\n",
    "        }\n",
    "    }, {\n",
    "        '$project': {\n",
    "            '_id': 0, \n",
    "            'tweet_id': 1, \n",
    "            'date': {\n",
    "                '$dateToString': {\n",
    "                    'format': '%d/%m/%Y %H:%M:%S', \n",
    "                    'date': '$date'\n",
    "                }\n",
    "            }, \n",
    "            'tweet_text': 1, \n",
    "            'num_likes': 1, \n",
    "            'num_retweets': 1, \n",
    "            'quoted_status_id': 1, \n",
    "            'retweeted_status_id': 1, \n",
    "            'reply_to_user': 1, \n",
    "            'reply_to_status': 1, \n",
    "            'user_id': 1, \n",
    "            'screen_name': 1, \n",
    "            'followers': 1, \n",
    "            'following': 1\n",
    "        }\n",
    "    }\n",
    "]"
   ]
  },
  {
   "cell_type": "code",
   "execution_count": 4,
   "metadata": {
    "ExecuteTime": {
     "end_time": "2021-03-17T01:00:43.838749Z",
     "start_time": "2021-03-17T00:59:59.013342Z"
    }
   },
   "outputs": [
    {
     "name": "stdout",
     "output_type": "stream",
     "text": [
      "Tempo de execução: 00:00:44\n",
      "1898572 documentos selecionados\n"
     ]
    }
   ],
   "source": [
    "time_start = time.time()\n",
    "document = list(collection.aggregate(pipeline=pipeline))\n",
    "time_end = time.time()\n",
    "\n",
    "print(\n",
    "    f'Tempo de execução: {time.strftime(\"%H:%M:%S\", time.gmtime(time_end - time_start))}')\n",
    "print(f'{len(document)} documentos selecionados')"
   ]
  },
  {
   "cell_type": "code",
   "execution_count": 5,
   "metadata": {
    "ExecuteTime": {
     "end_time": "2021-03-17T01:00:43.843424Z",
     "start_time": "2021-03-17T01:00:43.840189Z"
    }
   },
   "outputs": [
    {
     "name": "stdout",
     "output_type": "stream",
     "text": [
      "Amostra de um documento:\n",
      "\n",
      "{\n",
      "   \"tweet_id\": \"1236411302286888963\",\n",
      "   \"tweet_text\": \"Rumbo al #8M | Usuarios de redes sociales convocaron a un paro nacional como protesta por el aumento de la violencia en contra de mujeres en México.\\n\\n#UnDíaSinMujeres será el 9 de marzo (#9M)\\n\\n➡️ https://t.co/gD9aWLYTAf https://t.co/vPzEwHoN7h\",\n",
      "   \"num_likes\": 0,\n",
      "   \"num_retweets\": 0,\n",
      "   \"quoted_status_id\": null,\n",
      "   \"retweeted_status_id\": null,\n",
      "   \"reply_to_user\": null,\n",
      "   \"reply_to_status\": null,\n",
      "   \"user_id\": \"1133175210696429568\",\n",
      "   \"screen_name\": \"DatamosMx\",\n",
      "   \"followers\": 1331,\n",
      "   \"following\": 41,\n",
      "   \"date\": \"07/03/2020 22:00:00\"\n",
      "}\n"
     ]
    }
   ],
   "source": [
    "print(f'Amostra de um documento:\\n')\n",
    "print(json.dumps(document[0], sort_keys=False, indent=3, ensure_ascii=False))"
   ]
  },
  {
   "cell_type": "code",
   "execution_count": 6,
   "metadata": {
    "ExecuteTime": {
     "end_time": "2021-03-17T01:00:51.338425Z",
     "start_time": "2021-03-17T01:00:43.844700Z"
    }
   },
   "outputs": [
    {
     "data": {
      "text/html": [
       "<div>\n",
       "<style scoped>\n",
       "    .dataframe tbody tr th:only-of-type {\n",
       "        vertical-align: middle;\n",
       "    }\n",
       "\n",
       "    .dataframe tbody tr th {\n",
       "        vertical-align: top;\n",
       "    }\n",
       "\n",
       "    .dataframe thead th {\n",
       "        text-align: right;\n",
       "    }\n",
       "</style>\n",
       "<table border=\"1\" class=\"dataframe\">\n",
       "  <thead>\n",
       "    <tr style=\"text-align: right;\">\n",
       "      <th></th>\n",
       "      <th>tweet_id</th>\n",
       "      <th>date</th>\n",
       "      <th>tweet_text</th>\n",
       "      <th>num_likes</th>\n",
       "      <th>num_retweets</th>\n",
       "      <th>retweeted_status_id</th>\n",
       "      <th>quoted_status_id</th>\n",
       "      <th>reply_to_user</th>\n",
       "      <th>reply_to_status</th>\n",
       "      <th>user_id</th>\n",
       "      <th>screen_name</th>\n",
       "      <th>followers</th>\n",
       "      <th>following</th>\n",
       "    </tr>\n",
       "  </thead>\n",
       "  <tbody>\n",
       "    <tr>\n",
       "      <th>0</th>\n",
       "      <td>1236411302286888963</td>\n",
       "      <td>07/03/2020 22:00:00</td>\n",
       "      <td>Rumbo al #8M | Usuarios de redes sociales conv...</td>\n",
       "      <td>0</td>\n",
       "      <td>0</td>\n",
       "      <td>None</td>\n",
       "      <td>None</td>\n",
       "      <td>None</td>\n",
       "      <td>None</td>\n",
       "      <td>1133175210696429568</td>\n",
       "      <td>DatamosMx</td>\n",
       "      <td>1331</td>\n",
       "      <td>41</td>\n",
       "    </tr>\n",
       "    <tr>\n",
       "      <th>1</th>\n",
       "      <td>1236411306334273536</td>\n",
       "      <td>07/03/2020 22:00:01</td>\n",
       "      <td>La USAC llegando al espacio una cátedra de gén...</td>\n",
       "      <td>0</td>\n",
       "      <td>0</td>\n",
       "      <td>None</td>\n",
       "      <td>1236140760761802752</td>\n",
       "      <td>None</td>\n",
       "      <td>None</td>\n",
       "      <td>290815733</td>\n",
       "      <td>ravarick</td>\n",
       "      <td>1129</td>\n",
       "      <td>1773</td>\n",
       "    </tr>\n",
       "    <tr>\n",
       "      <th>2</th>\n",
       "      <td>1236411302504992771</td>\n",
       "      <td>07/03/2020 22:00:00</td>\n",
       "      <td>Cuando Norma tenía 19 años fue vendida a un ba...</td>\n",
       "      <td>0</td>\n",
       "      <td>64</td>\n",
       "      <td>1236403803521527809</td>\n",
       "      <td>None</td>\n",
       "      <td>None</td>\n",
       "      <td>None</td>\n",
       "      <td>1921923744</td>\n",
       "      <td>ZBaqueiro</td>\n",
       "      <td>77</td>\n",
       "      <td>119</td>\n",
       "    </tr>\n",
       "    <tr>\n",
       "      <th>3</th>\n",
       "      <td>1236411301154500610</td>\n",
       "      <td>07/03/2020 22:00:00</td>\n",
       "      <td>\"El Estado mexicano ha ignorado demasiados año...</td>\n",
       "      <td>2</td>\n",
       "      <td>0</td>\n",
       "      <td>None</td>\n",
       "      <td>None</td>\n",
       "      <td>None</td>\n",
       "      <td>None</td>\n",
       "      <td>918902439801118720</td>\n",
       "      <td>muraldegenero</td>\n",
       "      <td>551</td>\n",
       "      <td>562</td>\n",
       "    </tr>\n",
       "    <tr>\n",
       "      <th>4</th>\n",
       "      <td>1236411305638219776</td>\n",
       "      <td>07/03/2020 22:00:01</td>\n",
       "      <td>❌NO PUEDEN\\n❌NO PUEDEN\\n❌NO PUEDEN\\n\\n❌ CLARO ...</td>\n",
       "      <td>0</td>\n",
       "      <td>10</td>\n",
       "      <td>1236204966236258304</td>\n",
       "      <td>None</td>\n",
       "      <td>None</td>\n",
       "      <td>None</td>\n",
       "      <td>939976606180892673</td>\n",
       "      <td>Guesaso1</td>\n",
       "      <td>560</td>\n",
       "      <td>655</td>\n",
       "    </tr>\n",
       "  </tbody>\n",
       "</table>\n",
       "</div>"
      ],
      "text/plain": [
       "              tweet_id                 date  \\\n",
       "0  1236411302286888963  07/03/2020 22:00:00   \n",
       "1  1236411306334273536  07/03/2020 22:00:01   \n",
       "2  1236411302504992771  07/03/2020 22:00:00   \n",
       "3  1236411301154500610  07/03/2020 22:00:00   \n",
       "4  1236411305638219776  07/03/2020 22:00:01   \n",
       "\n",
       "                                          tweet_text  num_likes  num_retweets  \\\n",
       "0  Rumbo al #8M | Usuarios de redes sociales conv...          0             0   \n",
       "1  La USAC llegando al espacio una cátedra de gén...          0             0   \n",
       "2  Cuando Norma tenía 19 años fue vendida a un ba...          0            64   \n",
       "3  \"El Estado mexicano ha ignorado demasiados año...          2             0   \n",
       "4  ❌NO PUEDEN\\n❌NO PUEDEN\\n❌NO PUEDEN\\n\\n❌ CLARO ...          0            10   \n",
       "\n",
       "   retweeted_status_id     quoted_status_id reply_to_user reply_to_status  \\\n",
       "0                 None                 None          None            None   \n",
       "1                 None  1236140760761802752          None            None   \n",
       "2  1236403803521527809                 None          None            None   \n",
       "3                 None                 None          None            None   \n",
       "4  1236204966236258304                 None          None            None   \n",
       "\n",
       "               user_id    screen_name  followers  following  \n",
       "0  1133175210696429568      DatamosMx       1331         41  \n",
       "1            290815733       ravarick       1129       1773  \n",
       "2           1921923744      ZBaqueiro         77        119  \n",
       "3   918902439801118720  muraldegenero        551        562  \n",
       "4   939976606180892673       Guesaso1        560        655  "
      ]
     },
     "execution_count": 6,
     "metadata": {},
     "output_type": "execute_result"
    }
   ],
   "source": [
    "df = pd.DataFrame(document)\n",
    "df = df[['tweet_id', 'date', 'tweet_text', 'num_likes', 'num_retweets',\n",
    "                   'retweeted_status_id', 'quoted_status_id', 'reply_to_user', 'reply_to_status',\n",
    "                   'user_id', 'screen_name', 'followers', 'following']]\n",
    "df.head()"
   ]
  },
  {
   "cell_type": "code",
   "execution_count": 7,
   "metadata": {
    "ExecuteTime": {
     "end_time": "2021-03-17T01:00:51.351326Z",
     "start_time": "2021-03-17T01:00:51.340468Z"
    }
   },
   "outputs": [
    {
     "name": "stdout",
     "output_type": "stream",
     "text": [
      "Amostra de um tweet antes do pré-processamento:\n",
      "\n",
      "Rumbo al #8M | Usuarios de redes sociales convocaron a un paro nacional como protesta por el aumento de la violencia en contra de mujeres en México.\n",
      "\n",
      "#UnDíaSinMujeres será el 9 de marzo (#9M)\n",
      "\n",
      "➡️ https://t.co/gD9aWLYTAf https://t.co/vPzEwHoN7h\n"
     ]
    }
   ],
   "source": [
    "print(f'Amostra de um tweet antes do pré-processamento:\\n\\n{df.tweet_text[0]}')"
   ]
  },
  {
   "cell_type": "code",
   "execution_count": 8,
   "metadata": {
    "ExecuteTime": {
     "end_time": "2021-03-17T01:01:08.954750Z",
     "start_time": "2021-03-17T01:00:51.352943Z"
    }
   },
   "outputs": [],
   "source": [
    "df.to_csv('tweets_es.csv')"
   ]
  },
  {
   "cell_type": "markdown",
   "metadata": {},
   "source": [
    "### Pré-processamento"
   ]
  },
  {
   "cell_type": "code",
   "execution_count": 9,
   "metadata": {
    "ExecuteTime": {
     "end_time": "2021-03-17T01:01:12.050880Z",
     "start_time": "2021-03-17T01:01:08.956037Z"
    }
   },
   "outputs": [
    {
     "data": {
      "text/plain": [
       "'Rumbo al #8M | Usuarios de redes sociales convocaron a un paro nacional como protesta por el aumento de la violencia en contra de mujeres en México.\\n\\n#UnDíaSinMujeres será el 9 de marzo (#9M)\\n\\n➡️  '"
      ]
     },
     "execution_count": 9,
     "metadata": {},
     "output_type": "execute_result"
    }
   ],
   "source": [
    "# remover links\n",
    "df['clean_text'] = df['tweet_text'].str.replace(r\"http\\S+\",\"\") \n",
    "\n",
    "df.clean_text[0]"
   ]
  },
  {
   "cell_type": "code",
   "execution_count": 10,
   "metadata": {
    "ExecuteTime": {
     "end_time": "2021-03-17T01:01:14.527008Z",
     "start_time": "2021-03-17T01:01:12.052085Z"
    }
   },
   "outputs": [
    {
     "data": {
      "text/plain": [
       "'Rumbo al #8M | Usuarios de redes sociales convocaron a un paro nacional como protesta por el aumento de la violencia en contra de mujeres en México.\\n\\n#UnDíaSinMujeres será el 9 de marzo (#9M)\\n\\n➡️  '"
      ]
     },
     "execution_count": 10,
     "metadata": {},
     "output_type": "execute_result"
    }
   ],
   "source": [
    "# remover mentions\n",
    "df['clean_text'] = df['clean_text'].str.replace(r\"@\\S+\",\"\")\n",
    "\n",
    "df.clean_text[0]"
   ]
  },
  {
   "cell_type": "code",
   "execution_count": 11,
   "metadata": {
    "ExecuteTime": {
     "end_time": "2021-03-17T01:01:14.537273Z",
     "start_time": "2021-03-17T01:01:14.528198Z"
    }
   },
   "outputs": [],
   "source": [
    "# remover hashtags\n",
    "# df['clean_text'] = df['clean_text'].str.replace(r\"#\\S+\",\" \")\n",
    "\n",
    "# df.clean_text[0]"
   ]
  },
  {
   "cell_type": "code",
   "execution_count": 12,
   "metadata": {
    "ExecuteTime": {
     "end_time": "2021-03-17T01:01:17.648567Z",
     "start_time": "2021-03-17T01:01:14.538521Z"
    }
   },
   "outputs": [
    {
     "data": {
      "text/plain": [
       "'Rumbo al #8M | Usuarios de redes sociales convocaron a un paro nacional como protesta por el aumento de la violencia en contra de mujeres en México.  #UnDíaSinMujeres será el 9 de marzo (#9M)  ➡️  '"
      ]
     },
     "execution_count": 12,
     "metadata": {},
     "output_type": "execute_result"
    }
   ],
   "source": [
    "# remover quebra de linhas\n",
    "df['clean_text'] = df['clean_text'].str.replace(r\"\\n\",\" \")\n",
    "\n",
    "df.clean_text[0]"
   ]
  },
  {
   "cell_type": "code",
   "execution_count": 13,
   "metadata": {
    "ExecuteTime": {
     "end_time": "2021-03-17T01:01:31.676513Z",
     "start_time": "2021-03-17T01:01:17.649885Z"
    }
   },
   "outputs": [
    {
     "data": {
      "text/plain": [
       "'Rumbo al #8M   Usuarios de redes sociales convocaron a un paro nacional como protesta por el aumento de la violencia en contra de mujeres en México   #UnDíaSinMujeres será el 9 de marzo  #9M       '"
      ]
     },
     "execution_count": 13,
     "metadata": {},
     "output_type": "execute_result"
    }
   ],
   "source": [
    "# remover pontuações\n",
    "df['clean_text'] = df['clean_text'].str.replace(r\"[^\\w\\s#]|_\",\" \")\n",
    "\n",
    "df.clean_text[0]"
   ]
  },
  {
   "cell_type": "code",
   "execution_count": 14,
   "metadata": {
    "ExecuteTime": {
     "end_time": "2021-03-17T01:02:11.299895Z",
     "start_time": "2021-03-17T01:01:31.677731Z"
    }
   },
   "outputs": [
    {
     "data": {
      "text/plain": [
       "'Rumbo al #8M   Usuarios de redes sociales convocaron a un paro nacional como protesta por el aumento de la violencia en contra de mujeres en México   #UnDíaSinMujeres será el  de marzo  #9M'"
      ]
     },
     "execution_count": 14,
     "metadata": {},
     "output_type": "execute_result"
    }
   ],
   "source": [
    "# remover números\n",
    "df['clean_text'] = df['clean_text'].str.strip().str.replace(r\"\\b(?:[0-9]*)\\b\",\"\")\n",
    "\n",
    "df.clean_text[0]"
   ]
  },
  {
   "cell_type": "code",
   "execution_count": 15,
   "metadata": {
    "ExecuteTime": {
     "end_time": "2021-03-17T01:02:22.402425Z",
     "start_time": "2021-03-17T01:02:11.301201Z"
    }
   },
   "outputs": [
    {
     "data": {
      "text/plain": [
       "'Rumbo al #8M Usuarios de redes sociales convocaron a un paro nacional como protesta por el aumento de la violencia en contra de mujeres en México #UnDíaSinMujeres será el de marzo #9M'"
      ]
     },
     "execution_count": 15,
     "metadata": {},
     "output_type": "execute_result"
    }
   ],
   "source": [
    "# remover espaços duplos\n",
    "df['clean_text'] = df['clean_text'].str.strip().str.replace(r\"\\s{2,}\",\" \")\n",
    "\n",
    "df.clean_text[0]"
   ]
  },
  {
   "cell_type": "markdown",
   "metadata": {},
   "source": [
    "### converter todas as letras para minúsculas"
   ]
  },
  {
   "cell_type": "code",
   "execution_count": 16,
   "metadata": {
    "ExecuteTime": {
     "end_time": "2021-03-17T01:02:25.651233Z",
     "start_time": "2021-03-17T01:02:22.403696Z"
    }
   },
   "outputs": [
    {
     "data": {
      "text/plain": [
       "'rumbo al #8m usuarios de redes sociales convocaron a un paro nacional como protesta por el aumento de la violencia en contra de mujeres en méxico #undíasinmujeres será el de marzo #9m'"
      ]
     },
     "execution_count": 16,
     "metadata": {},
     "output_type": "execute_result"
    }
   ],
   "source": [
    "df['clean_text'] = df['clean_text'].str.lower()\n",
    "\n",
    "df.clean_text[0]"
   ]
  },
  {
   "cell_type": "markdown",
   "metadata": {},
   "source": [
    "### remover letras que se repetem em sequência mais de 3x"
   ]
  },
  {
   "cell_type": "code",
   "execution_count": 17,
   "metadata": {
    "ExecuteTime": {
     "end_time": "2021-03-17T01:05:09.041100Z",
     "start_time": "2021-03-17T01:02:25.652648Z"
    }
   },
   "outputs": [
    {
     "data": {
      "text/plain": [
       "'rumbo al #8m usuarios de redes sociales convocaron a un paro nacional como protesta por el aumento de la violencia en contra de mujeres en méxico #undíasinmujeres será el de marzo #9m'"
      ]
     },
     "execution_count": 17,
     "metadata": {},
     "output_type": "execute_result"
    }
   ],
   "source": [
    "import string\n",
    "alphabet = list(string.ascii_lowercase)\n",
    "\n",
    "for letter in alphabet:\n",
    "    pattern = '{}{}'.format(letter, '{3,}')\n",
    "    df['clean_text'] = df['clean_text'].str.replace(r'{}'.format(pattern), letter)\n",
    "    \n",
    "df.clean_text[0]"
   ]
  },
  {
   "cell_type": "markdown",
   "metadata": {},
   "source": [
    "### remover stpwords"
   ]
  },
  {
   "cell_type": "code",
   "execution_count": 19,
   "metadata": {
    "ExecuteTime": {
     "end_time": "2021-03-17T01:08:49.689813Z",
     "start_time": "2021-03-17T01:06:28.575977Z"
    }
   },
   "outputs": [
    {
     "data": {
      "text/plain": [
       "'rumbo #8m usuarios redes sociales convocaron paro nacional protesta aumento violencia mujeres méxico #undíasinmujeres marzo #9m'"
      ]
     },
     "execution_count": 19,
     "metadata": {},
     "output_type": "execute_result"
    }
   ],
   "source": [
    "with open('../stopwords/spanish.txt', 'r') as file:\n",
    "    stopwords = file.readlines()\n",
    "    stopwords = [sw.replace('\\n','') for sw in stopwords]\n",
    "\n",
    "def remover_stopwords(texto):\n",
    "    palavras = [i for i in texto.split() if not i in stopwords]\n",
    "    return (\" \".join(palavras))\n",
    "\n",
    "df['clean_text'] = df['clean_text'].apply(remover_stopwords)\n",
    "\n",
    "df.clean_text[0]"
   ]
  },
  {
   "cell_type": "markdown",
   "metadata": {},
   "source": [
    "### remover palavras com 2 caracteres ou menos"
   ]
  },
  {
   "cell_type": "code",
   "execution_count": 20,
   "metadata": {
    "ExecuteTime": {
     "end_time": "2021-03-17T01:10:19.382547Z",
     "start_time": "2021-03-17T01:10:13.515433Z"
    }
   },
   "outputs": [
    {
     "data": {
      "text/plain": [
       "'rumbo #8m usuarios redes sociales convocaron paro nacional protesta aumento violencia mujeres méxico #undíasinmujeres marzo #9m'"
      ]
     },
     "execution_count": 20,
     "metadata": {},
     "output_type": "execute_result"
    }
   ],
   "source": [
    "def remover_len_2(texto):\n",
    "    palavras = [i for i in texto.split() if len(i) > 2]\n",
    "    return (\" \".join(palavras))\n",
    "\n",
    "df['clean_text'] = df['clean_text'].apply(remover_len_2)\n",
    "\n",
    "df.clean_text[0]"
   ]
  },
  {
   "cell_type": "code",
   "execution_count": 21,
   "metadata": {
    "ExecuteTime": {
     "end_time": "2021-03-17T01:10:19.386591Z",
     "start_time": "2021-03-17T01:10:19.383868Z"
    }
   },
   "outputs": [
    {
     "name": "stdout",
     "output_type": "stream",
     "text": [
      "Amostra de um tweet depois do pré-processamento:\n",
      "\n",
      "rumbo #8m usuarios redes sociales convocaron paro nacional protesta aumento violencia mujeres méxico #undíasinmujeres marzo #9m\n"
     ]
    }
   ],
   "source": [
    "print(f'Amostra de um tweet depois do pré-processamento:\\n\\n{df.clean_text[0]}')"
   ]
  },
  {
   "cell_type": "code",
   "execution_count": 22,
   "metadata": {
    "ExecuteTime": {
     "end_time": "2021-03-17T01:10:19.395757Z",
     "start_time": "2021-03-17T01:10:19.388000Z"
    }
   },
   "outputs": [],
   "source": [
    "def reduzir_radical(texto):\n",
    "    stemmer = nltk.stem.RSLPStemmer()\n",
    "    palavras = [stemmer.stem(i) for i in texto.split()]\n",
    "    return (\" \".join(palavras))"
   ]
  },
  {
   "cell_type": "code",
   "execution_count": 23,
   "metadata": {
    "ExecuteTime": {
     "end_time": "2021-03-17T01:10:19.422913Z",
     "start_time": "2021-03-17T01:10:19.397527Z"
    }
   },
   "outputs": [
    {
     "data": {
      "text/plain": [
       "'rumb al #8m | usuari de red soc convocaron a un par nacion com protest por el aument de la violenc en contr de muj en méxico. #undíasinmuj ser el 9 de marz (#9m) ➡️ https://t.co/gd9awlytaf https://t.co/vpzewhon7h'"
      ]
     },
     "execution_count": 23,
     "metadata": {},
     "output_type": "execute_result"
    }
   ],
   "source": [
    "reduzir_radical(df.tweet_text[0])"
   ]
  },
  {
   "cell_type": "code",
   "execution_count": 24,
   "metadata": {
    "ExecuteTime": {
     "end_time": "2021-03-17T01:10:19.426228Z",
     "start_time": "2021-03-17T01:10:19.424093Z"
    }
   },
   "outputs": [],
   "source": [
    "# df['tweet_text'] = df['tweet_text'].apply(reduzir_radical)"
   ]
  },
  {
   "cell_type": "code",
   "execution_count": 25,
   "metadata": {
    "ExecuteTime": {
     "end_time": "2021-03-17T01:10:19.435616Z",
     "start_time": "2021-03-17T01:10:19.427533Z"
    }
   },
   "outputs": [],
   "source": [
    "import unicodedata\n",
    "\n",
    "def remover_acentuacao(text):\n",
    "    # Unicode normalize transforma um caracter em seu equivalente em latin.\n",
    "    nfkd = unicodedata.normalize('NFKD', text)\n",
    "    palavra_sem_acento = u\"\".join([c for c in nfkd if not unicodedata.combining(c)])\n",
    "    return (palavra_sem_acento)"
   ]
  },
  {
   "cell_type": "code",
   "execution_count": 26,
   "metadata": {
    "ExecuteTime": {
     "end_time": "2021-03-17T01:10:19.475685Z",
     "start_time": "2021-03-17T01:10:19.436830Z"
    }
   },
   "outputs": [
    {
     "data": {
      "text/plain": [
       "'Rumbo al #8M | Usuarios de redes sociales convocaron a un paro nacional como protesta por el aumento de la violencia en contra de mujeres en Mexico.\\n\\n#UnDiaSinMujeres sera el 9 de marzo (#9M)\\n\\n➡️ https://t.co/gD9aWLYTAf https://t.co/vPzEwHoN7h'"
      ]
     },
     "execution_count": 26,
     "metadata": {},
     "output_type": "execute_result"
    }
   ],
   "source": [
    "remover_acentuacao(df.tweet_text[0])"
   ]
  },
  {
   "cell_type": "code",
   "execution_count": 27,
   "metadata": {
    "ExecuteTime": {
     "end_time": "2021-03-17T01:11:03.860181Z",
     "start_time": "2021-03-17T01:10:31.653000Z"
    }
   },
   "outputs": [],
   "source": [
    "df['clean_text'] = df['clean_text'].apply(remover_acentuacao)"
   ]
  },
  {
   "cell_type": "code",
   "execution_count": 28,
   "metadata": {
    "ExecuteTime": {
     "end_time": "2021-03-17T01:11:07.538798Z",
     "start_time": "2021-03-17T01:11:03.861637Z"
    }
   },
   "outputs": [
    {
     "data": {
      "text/plain": [
       "'rumbo #8m usuarios redes sociales convocaron paro nacional protesta aumento violencia mujeres mexico #undiasinmujeres marzo #9m'"
      ]
     },
     "execution_count": 28,
     "metadata": {},
     "output_type": "execute_result"
    }
   ],
   "source": [
    "# remover non ascii caracteres\n",
    "df['clean_text'] = df['clean_text'].str.strip().str.replace(r\"[^a-zA-z0-9#|\\s]\",\"\")\n",
    "\n",
    "df.clean_text[0]"
   ]
  },
  {
   "cell_type": "code",
   "execution_count": 29,
   "metadata": {
    "ExecuteTime": {
     "end_time": "2021-03-17T01:11:07.543021Z",
     "start_time": "2021-03-17T01:11:07.540296Z"
    }
   },
   "outputs": [
    {
     "name": "stdout",
     "output_type": "stream",
     "text": [
      "Amostra de um tweet depois do pré-processamento:\n",
      "\n",
      "rumbo #8m usuarios redes sociales convocaron paro nacional protesta aumento violencia mujeres mexico #undiasinmujeres marzo #9m\n"
     ]
    }
   ],
   "source": [
    "print(f'Amostra de um tweet depois do pré-processamento:\\n\\n{df.clean_text[0]}')"
   ]
  },
  {
   "cell_type": "markdown",
   "metadata": {},
   "source": [
    "### Etapa opcional\n",
    "\n",
    "O atributo 'lang' presentes nos documentos podem ter sido atribuidos erroneamente. Objetivando eliminar tweets que possam ser de um idioma não requisitado, desenvolveram-se 2 funções para ajudar a confirmar o idioma destes."
   ]
  },
  {
   "cell_type": "markdown",
   "metadata": {},
   "source": [
    "Para desabilitar warnings:"
   ]
  },
  {
   "cell_type": "code",
   "execution_count": 30,
   "metadata": {
    "ExecuteTime": {
     "end_time": "2021-03-17T01:11:27.435306Z",
     "start_time": "2021-03-17T01:11:27.433547Z"
    }
   },
   "outputs": [],
   "source": [
    "# import logging\n",
    "# logging.disable(logging.WARNING)"
   ]
  },
  {
   "cell_type": "markdown",
   "metadata": {},
   "source": [
    "#### 1. Usando polyglot"
   ]
  },
  {
   "cell_type": "code",
   "execution_count": 31,
   "metadata": {
    "ExecuteTime": {
     "end_time": "2021-03-17T01:11:27.731250Z",
     "start_time": "2021-03-17T01:11:27.729454Z"
    }
   },
   "outputs": [],
   "source": [
    "# import polyglot\n",
    "# from polyglot.detect import Detector"
   ]
  },
  {
   "cell_type": "code",
   "execution_count": 32,
   "metadata": {
    "ExecuteTime": {
     "end_time": "2021-03-17T01:11:27.909120Z",
     "start_time": "2021-03-17T01:11:27.907226Z"
    }
   },
   "outputs": [],
   "source": [
    "# def get_polyglot_language(text):\n",
    "#     try:\n",
    "#         detector = Detector(text)\n",
    "#     except polyglot.detect.base.UnknownLanguage:\n",
    "#         lang = 'Undefined'\n",
    "#     else:\n",
    "#         lang = detector.language.name\n",
    "    \n",
    "#     return (lang)"
   ]
  },
  {
   "cell_type": "code",
   "execution_count": 33,
   "metadata": {
    "ExecuteTime": {
     "end_time": "2021-03-17T01:11:28.085172Z",
     "start_time": "2021-03-17T01:11:28.083213Z"
    }
   },
   "outputs": [],
   "source": [
    "# get_polyglot_language(df['tweet_text'][0])"
   ]
  },
  {
   "cell_type": "code",
   "execution_count": 34,
   "metadata": {
    "ExecuteTime": {
     "end_time": "2021-03-17T01:11:28.253244Z",
     "start_time": "2021-03-17T01:11:28.251210Z"
    }
   },
   "outputs": [],
   "source": [
    "# df['polyglot_lang'] = df['tweet_text'].apply(get_polyglot_language)"
   ]
  },
  {
   "cell_type": "code",
   "execution_count": 35,
   "metadata": {
    "ExecuteTime": {
     "end_time": "2021-03-17T01:11:28.437184Z",
     "start_time": "2021-03-17T01:11:28.435238Z"
    }
   },
   "outputs": [],
   "source": [
    "# df['polyglot_lang'].value_counts()"
   ]
  },
  {
   "cell_type": "markdown",
   "metadata": {},
   "source": [
    "#### 2. Usando textblob"
   ]
  },
  {
   "cell_type": "code",
   "execution_count": 36,
   "metadata": {
    "ExecuteTime": {
     "end_time": "2021-03-17T01:11:28.770646Z",
     "start_time": "2021-03-17T01:11:28.768762Z"
    }
   },
   "outputs": [],
   "source": [
    "# import textblob\n",
    "# from textblob import TextBlob\n",
    "# import pycountry"
   ]
  },
  {
   "cell_type": "code",
   "execution_count": 37,
   "metadata": {
    "ExecuteTime": {
     "end_time": "2021-03-17T01:11:28.948251Z",
     "start_time": "2021-03-17T01:11:28.946244Z"
    }
   },
   "outputs": [],
   "source": [
    "# def get_textblob_language(text):\n",
    "#     try:\n",
    "#         time.sleep(0.2)\n",
    "#         b = TextBlob(text)\n",
    "#         language = pycountry.languages.get(alpha_2=b.detect_language())\n",
    "#         language_name = language.name\n",
    "#     except textblob.exceptions.TranslatorError:\n",
    "#         # language_name = \"Deu ruim\"\n",
    "#         language_name = 'Undefined'\n",
    "    \n",
    "#     return(language_name) "
   ]
  },
  {
   "cell_type": "code",
   "execution_count": 38,
   "metadata": {
    "ExecuteTime": {
     "end_time": "2021-03-17T01:11:29.151483Z",
     "start_time": "2021-03-17T01:11:29.149246Z"
    }
   },
   "outputs": [],
   "source": [
    "# get_textblob_language(df['tweet_text'][0])"
   ]
  },
  {
   "cell_type": "code",
   "execution_count": 39,
   "metadata": {
    "ExecuteTime": {
     "end_time": "2021-03-17T01:11:29.331957Z",
     "start_time": "2021-03-17T01:11:29.329958Z"
    }
   },
   "outputs": [],
   "source": [
    "# df['textblob_lang'] = df['tweet_text'].apply(get_textblob_language)"
   ]
  },
  {
   "cell_type": "markdown",
   "metadata": {},
   "source": [
    "Para reabilitar warnings:"
   ]
  },
  {
   "cell_type": "code",
   "execution_count": 40,
   "metadata": {
    "ExecuteTime": {
     "end_time": "2021-03-17T01:11:29.724785Z",
     "start_time": "2021-03-17T01:11:29.722824Z"
    }
   },
   "outputs": [],
   "source": [
    "# logging.disable(logging.NOTSET)"
   ]
  },
  {
   "cell_type": "code",
   "execution_count": 41,
   "metadata": {
    "ExecuteTime": {
     "end_time": "2021-03-17T01:11:29.950229Z",
     "start_time": "2021-03-17T01:11:29.948217Z"
    }
   },
   "outputs": [],
   "source": [
    "# df.shape"
   ]
  },
  {
   "cell_type": "markdown",
   "metadata": {},
   "source": [
    "# Criação do arquivo .csv"
   ]
  },
  {
   "cell_type": "markdown",
   "metadata": {},
   "source": [
    "### Cenário 1: base completa"
   ]
  },
  {
   "cell_type": "markdown",
   "metadata": {},
   "source": [
    "Caso tenha se utilizado umas das duas funções - **get_polyglot_language**, por exemplo - use o seguinte trecho para gerar o arquivo .csv:"
   ]
  },
  {
   "cell_type": "code",
   "execution_count": 42,
   "metadata": {
    "ExecuteTime": {
     "end_time": "2021-03-17T01:11:30.671782Z",
     "start_time": "2021-03-17T01:11:30.669953Z"
    }
   },
   "outputs": [],
   "source": [
    "# index = df['polyglot_lang'] == 'Portuguese'\n",
    "# new_df = df[index]\n",
    "# new_df = new_df.drop('polyglot_lang', axis=1)"
   ]
  },
  {
   "cell_type": "code",
   "execution_count": 43,
   "metadata": {
    "ExecuteTime": {
     "end_time": "2021-03-17T01:11:30.841099Z",
     "start_time": "2021-03-17T01:11:30.839127Z"
    }
   },
   "outputs": [],
   "source": [
    "# new_df.to_csv('cenario1_8M2020_polyglot_tweets_pt.csv', index=False)"
   ]
  },
  {
   "cell_type": "markdown",
   "metadata": {},
   "source": [
    "Caso contrário:"
   ]
  },
  {
   "cell_type": "code",
   "execution_count": 44,
   "metadata": {
    "ExecuteTime": {
     "end_time": "2021-03-17T01:11:31.749556Z",
     "start_time": "2021-03-17T01:11:31.747580Z"
    }
   },
   "outputs": [],
   "source": [
    "# df = df.drop('polyglot_lang', axis=1)"
   ]
  },
  {
   "cell_type": "code",
   "execution_count": 45,
   "metadata": {
    "ExecuteTime": {
     "end_time": "2021-03-17T01:11:33.786981Z",
     "start_time": "2021-03-17T01:11:32.222429Z"
    }
   },
   "outputs": [],
   "source": [
    "df = df[df['clean_text'] != '']"
   ]
  },
  {
   "cell_type": "code",
   "execution_count": 46,
   "metadata": {
    "ExecuteTime": {
     "end_time": "2021-03-17T01:11:33.792278Z",
     "start_time": "2021-03-17T01:11:33.788632Z"
    }
   },
   "outputs": [
    {
     "data": {
      "text/plain": [
       "(1897848, 14)"
      ]
     },
     "execution_count": 46,
     "metadata": {},
     "output_type": "execute_result"
    }
   ],
   "source": [
    "df.shape"
   ]
  },
  {
   "cell_type": "code",
   "execution_count": 47,
   "metadata": {
    "ExecuteTime": {
     "end_time": "2021-03-17T01:11:57.545471Z",
     "start_time": "2021-03-17T01:11:35.953501Z"
    }
   },
   "outputs": [],
   "source": [
    "df.to_csv('cenario1_8M2020_tweets_es.csv', index=False)"
   ]
  },
  {
   "cell_type": "markdown",
   "metadata": {},
   "source": [
    "criação do arquivo .txt (somente com os textos dos tweets):"
   ]
  },
  {
   "cell_type": "code",
   "execution_count": 48,
   "metadata": {
    "ExecuteTime": {
     "end_time": "2021-03-17T01:11:57.549349Z",
     "start_time": "2021-03-17T01:11:57.546953Z"
    }
   },
   "outputs": [],
   "source": [
    "import numpy as np"
   ]
  },
  {
   "cell_type": "code",
   "execution_count": 49,
   "metadata": {
    "ExecuteTime": {
     "end_time": "2021-03-17T01:11:57.583362Z",
     "start_time": "2021-03-17T01:11:57.550996Z"
    }
   },
   "outputs": [],
   "source": [
    "tweets_text = np.array(df['clean_text'])"
   ]
  },
  {
   "cell_type": "code",
   "execution_count": 50,
   "metadata": {
    "ExecuteTime": {
     "end_time": "2021-03-17T01:12:00.492546Z",
     "start_time": "2021-03-17T01:11:57.608332Z"
    }
   },
   "outputs": [],
   "source": [
    "np.savetxt(fname='cenario1_8M2020_tweets_es.txt', X=tweets_text, fmt='%s')"
   ]
  },
  {
   "cell_type": "markdown",
   "metadata": {},
   "source": [
    "## Cenário 2: tweets sem duplicatas"
   ]
  },
  {
   "cell_type": "code",
   "execution_count": 51,
   "metadata": {
    "ExecuteTime": {
     "end_time": "2021-03-17T01:12:01.504926Z",
     "start_time": "2021-03-17T01:12:00.494567Z"
    }
   },
   "outputs": [],
   "source": [
    "df.drop_duplicates(['clean_text'], inplace = True)"
   ]
  },
  {
   "cell_type": "code",
   "execution_count": 52,
   "metadata": {
    "ExecuteTime": {
     "end_time": "2021-03-17T01:12:01.509319Z",
     "start_time": "2021-03-17T01:12:01.506243Z"
    }
   },
   "outputs": [
    {
     "data": {
      "text/plain": [
       "(309082, 14)"
      ]
     },
     "execution_count": 52,
     "metadata": {},
     "output_type": "execute_result"
    }
   ],
   "source": [
    "df.shape"
   ]
  },
  {
   "cell_type": "code",
   "execution_count": 53,
   "metadata": {
    "ExecuteTime": {
     "end_time": "2021-03-17T01:13:28.220910Z",
     "start_time": "2021-03-17T01:12:01.510489Z"
    }
   },
   "outputs": [],
   "source": [
    "df.to_excel('exemplo.xlsx')"
   ]
  },
  {
   "cell_type": "code",
   "execution_count": 54,
   "metadata": {
    "ExecuteTime": {
     "end_time": "2021-03-17T01:13:31.603406Z",
     "start_time": "2021-03-17T01:13:28.222659Z"
    }
   },
   "outputs": [],
   "source": [
    "df.to_csv('cenario2_8M2020_tweets_es.csv', index=False) "
   ]
  },
  {
   "cell_type": "code",
   "execution_count": 55,
   "metadata": {
    "ExecuteTime": {
     "end_time": "2021-03-17T01:13:31.670781Z",
     "start_time": "2021-03-17T01:13:31.604720Z"
    }
   },
   "outputs": [],
   "source": [
    "tweets_text = np.array(df['clean_text'])"
   ]
  },
  {
   "cell_type": "code",
   "execution_count": 56,
   "metadata": {
    "ExecuteTime": {
     "end_time": "2021-03-17T01:13:32.218409Z",
     "start_time": "2021-03-17T01:13:31.672100Z"
    }
   },
   "outputs": [],
   "source": [
    "np.savetxt(fname='cenario2_8M2020_tweets_es.txt', X=tweets_text, fmt='%s')"
   ]
  },
  {
   "cell_type": "code",
   "execution_count": null,
   "metadata": {},
   "outputs": [],
   "source": []
  }
 ],
 "metadata": {
  "kernelspec": {
   "display_name": "Python 3",
   "language": "python",
   "name": "python3"
  },
  "language_info": {
   "codemirror_mode": {
    "name": "ipython",
    "version": 3
   },
   "file_extension": ".py",
   "mimetype": "text/x-python",
   "name": "python",
   "nbconvert_exporter": "python",
   "pygments_lexer": "ipython3",
   "version": "3.7.7"
  },
  "toc": {
   "base_numbering": 1,
   "nav_menu": {},
   "number_sections": false,
   "sideBar": true,
   "skip_h1_title": false,
   "title_cell": "Table of Contents",
   "title_sidebar": "Contents",
   "toc_cell": false,
   "toc_position": {},
   "toc_section_display": true,
   "toc_window_display": false
  }
 },
 "nbformat": 4,
 "nbformat_minor": 4
}
