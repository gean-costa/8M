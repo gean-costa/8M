{
 "cells": [
  {
   "cell_type": "code",
   "execution_count": 1,
   "metadata": {
    "ExecuteTime": {
     "end_time": "2021-05-18T01:48:12.748017Z",
     "start_time": "2021-05-18T01:48:12.071800Z"
    }
   },
   "outputs": [],
   "source": [
    "import pymongo\n",
    "import time\n",
    "import pandas as pd\n",
    "import json\n",
    "import nltk"
   ]
  },
  {
   "cell_type": "markdown",
   "metadata": {},
   "source": [
    "# Conexão com o MongoDB"
   ]
  },
  {
   "cell_type": "code",
   "execution_count": 2,
   "metadata": {
    "ExecuteTime": {
     "end_time": "2021-05-18T01:48:12.753260Z",
     "start_time": "2021-05-18T01:48:12.749616Z"
    }
   },
   "outputs": [],
   "source": [
    "client = pymongo.MongoClient()\n",
    "\n",
    "# database\n",
    "db = client['IWD2021']  \n",
    "\n",
    "# collection\n",
    "collection = db.tweets_es"
   ]
  },
  {
   "cell_type": "code",
   "execution_count": 3,
   "metadata": {
    "ExecuteTime": {
     "end_time": "2021-05-18T01:48:12.763185Z",
     "start_time": "2021-05-18T01:48:12.754644Z"
    }
   },
   "outputs": [],
   "source": [
    "pipeline = [\n",
    "    {\n",
    "        '$project': {\n",
    "            'tweet_id': '$id_str', \n",
    "            'date': {\n",
    "                '$dateFromString': {\n",
    "                    'dateString': '$created_at'\n",
    "                }\n",
    "            }, \n",
    "            'tweet_text': {\n",
    "                '$ifNull': [\n",
    "                    '$retweeted_status.full_text', '$full_text'\n",
    "                ]\n",
    "            }, \n",
    "            'num_likes': '$favorite_count', \n",
    "            'num_retweets': '$retweet_count', \n",
    "            'quoted_status_id': {\n",
    "                '$ifNull': [\n",
    "                    '$quoted_status_id_str', None\n",
    "                ]\n",
    "            }, \n",
    "            'retweeted_status_id': {\n",
    "                '$ifNull': [\n",
    "                    '$retweeted_status.id_str', None\n",
    "                ]\n",
    "            }, \n",
    "            'reply_to_user': {\n",
    "                '$ifNull': [\n",
    "                    '$in_reply_to_user_id_str', None\n",
    "                ]\n",
    "            }, \n",
    "            'reply_to_status': {\n",
    "                '$ifNull': [\n",
    "                    '$in_reply_to_status_id_str', None\n",
    "                ]\n",
    "            }, \n",
    "            'user_id': '$user.id_str', \n",
    "            'screen_name': '$user.screen_name', \n",
    "            'followers': '$user.followers_count', \n",
    "            'following': '$user.friends_count'\n",
    "        }\n",
    "    }, {\n",
    "        '$project': {\n",
    "            '_id': 0, \n",
    "            'tweet_id': 1, \n",
    "            'date': {\n",
    "                '$dateToString': {\n",
    "                    'format': '%d/%m/%Y %H:%M:%S', \n",
    "                    'date': '$date'\n",
    "                }\n",
    "            }, \n",
    "            'tweet_text': 1, \n",
    "            'num_likes': 1, \n",
    "            'num_retweets': 1, \n",
    "            'quoted_status_id': 1, \n",
    "            'retweeted_status_id': 1, \n",
    "            'reply_to_user': 1, \n",
    "            'reply_to_status': 1, \n",
    "            'user_id': 1, \n",
    "            'screen_name': 1, \n",
    "            'followers': 1, \n",
    "            'following': 1\n",
    "        }\n",
    "    }\n",
    "]"
   ]
  },
  {
   "cell_type": "code",
   "execution_count": 4,
   "metadata": {
    "ExecuteTime": {
     "end_time": "2021-05-18T01:48:53.942159Z",
     "start_time": "2021-05-18T01:48:12.764461Z"
    }
   },
   "outputs": [
    {
     "name": "stdout",
     "output_type": "stream",
     "text": [
      "Tempo de execução: 00:00:41\n",
      "1441175 documentos selecionados\n"
     ]
    }
   ],
   "source": [
    "time_start = time.time()\n",
    "document = list(collection.aggregate(pipeline=pipeline))\n",
    "time_end = time.time()\n",
    "\n",
    "print(\n",
    "    f'Tempo de execução: {time.strftime(\"%H:%M:%S\", time.gmtime(time_end - time_start))}')\n",
    "print(f'{len(document)} documentos selecionados')"
   ]
  },
  {
   "cell_type": "code",
   "execution_count": 5,
   "metadata": {
    "ExecuteTime": {
     "end_time": "2021-05-18T01:48:53.946780Z",
     "start_time": "2021-05-18T01:48:53.943507Z"
    }
   },
   "outputs": [
    {
     "name": "stdout",
     "output_type": "stream",
     "text": [
      "Amostra de um documento:\n",
      "\n",
      "{\n",
      "   \"tweet_id\": \"1368641547479248902\",\n",
      "   \"tweet_text\": \"Time for a Female UN Secretary-General? https://t.co/xH2moPGhHd #IWD2021 https://t.co/0NJjuCeReH\",\n",
      "   \"num_likes\": 0,\n",
      "   \"num_retweets\": 53,\n",
      "   \"quoted_status_id\": null,\n",
      "   \"retweeted_status_id\": \"1368634417804107776\",\n",
      "   \"reply_to_user\": null,\n",
      "   \"reply_to_status\": null,\n",
      "   \"user_id\": \"2568577971\",\n",
      "   \"screen_name\": \"AMalegrooming\",\n",
      "   \"followers\": 757,\n",
      "   \"following\": 1234,\n",
      "   \"date\": \"07/03/2021 19:15:47\"\n",
      "}\n"
     ]
    }
   ],
   "source": [
    "print(f'Amostra de um documento:\\n')\n",
    "print(json.dumps(document[0], sort_keys=False, indent=3, ensure_ascii=False))"
   ]
  },
  {
   "cell_type": "code",
   "execution_count": 6,
   "metadata": {
    "ExecuteTime": {
     "end_time": "2021-05-18T01:48:59.828748Z",
     "start_time": "2021-05-18T01:48:53.947924Z"
    }
   },
   "outputs": [
    {
     "data": {
      "text/html": [
       "<div>\n",
       "<style scoped>\n",
       "    .dataframe tbody tr th:only-of-type {\n",
       "        vertical-align: middle;\n",
       "    }\n",
       "\n",
       "    .dataframe tbody tr th {\n",
       "        vertical-align: top;\n",
       "    }\n",
       "\n",
       "    .dataframe thead th {\n",
       "        text-align: right;\n",
       "    }\n",
       "</style>\n",
       "<table border=\"1\" class=\"dataframe\">\n",
       "  <thead>\n",
       "    <tr style=\"text-align: right;\">\n",
       "      <th></th>\n",
       "      <th>tweet_id</th>\n",
       "      <th>date</th>\n",
       "      <th>tweet_text</th>\n",
       "      <th>num_likes</th>\n",
       "      <th>num_retweets</th>\n",
       "      <th>retweeted_status_id</th>\n",
       "      <th>quoted_status_id</th>\n",
       "      <th>reply_to_user</th>\n",
       "      <th>reply_to_status</th>\n",
       "      <th>user_id</th>\n",
       "      <th>screen_name</th>\n",
       "      <th>followers</th>\n",
       "      <th>following</th>\n",
       "    </tr>\n",
       "  </thead>\n",
       "  <tbody>\n",
       "    <tr>\n",
       "      <th>0</th>\n",
       "      <td>1368641547479248902</td>\n",
       "      <td>07/03/2021 19:15:47</td>\n",
       "      <td>Time for a Female UN Secretary-General? https:...</td>\n",
       "      <td>0</td>\n",
       "      <td>53</td>\n",
       "      <td>1368634417804107776</td>\n",
       "      <td>None</td>\n",
       "      <td>None</td>\n",
       "      <td>None</td>\n",
       "      <td>2568577971</td>\n",
       "      <td>AMalegrooming</td>\n",
       "      <td>757</td>\n",
       "      <td>1234</td>\n",
       "    </tr>\n",
       "    <tr>\n",
       "      <th>1</th>\n",
       "      <td>1368641811749732360</td>\n",
       "      <td>07/03/2021 19:16:50</td>\n",
       "      <td>Así de simple 👇 https://t.co/a8VGX5MjQP</td>\n",
       "      <td>0</td>\n",
       "      <td>0</td>\n",
       "      <td>None</td>\n",
       "      <td>1368525594737131520</td>\n",
       "      <td>None</td>\n",
       "      <td>None</td>\n",
       "      <td>273633856</td>\n",
       "      <td>Naim_Lopez</td>\n",
       "      <td>291</td>\n",
       "      <td>822</td>\n",
       "    </tr>\n",
       "    <tr>\n",
       "      <th>2</th>\n",
       "      <td>1368642439657963520</td>\n",
       "      <td>07/03/2021 19:19:20</td>\n",
       "      <td>📣Trabajemos  para romper las barreras sistémic...</td>\n",
       "      <td>0</td>\n",
       "      <td>133</td>\n",
       "      <td>1368622576394731525</td>\n",
       "      <td>None</td>\n",
       "      <td>None</td>\n",
       "      <td>None</td>\n",
       "      <td>4417466061</td>\n",
       "      <td>zanaines</td>\n",
       "      <td>4557</td>\n",
       "      <td>4255</td>\n",
       "    </tr>\n",
       "    <tr>\n",
       "      <th>3</th>\n",
       "      <td>1368642748023246851</td>\n",
       "      <td>07/03/2021 19:20:33</td>\n",
       "      <td>Time for a Female UN Secretary-General? https:...</td>\n",
       "      <td>0</td>\n",
       "      <td>53</td>\n",
       "      <td>1368634417804107776</td>\n",
       "      <td>None</td>\n",
       "      <td>None</td>\n",
       "      <td>None</td>\n",
       "      <td>705760236779474944</td>\n",
       "      <td>drpicka</td>\n",
       "      <td>100</td>\n",
       "      <td>482</td>\n",
       "    </tr>\n",
       "    <tr>\n",
       "      <th>4</th>\n",
       "      <td>1368642774942314505</td>\n",
       "      <td>07/03/2021 19:20:40</td>\n",
       "      <td>#EFEFotos | DÍA DE LA MUJER\\n\\nComo si no bast...</td>\n",
       "      <td>0</td>\n",
       "      <td>7</td>\n",
       "      <td>1368585986788253697</td>\n",
       "      <td>None</td>\n",
       "      <td>None</td>\n",
       "      <td>None</td>\n",
       "      <td>1066770045357998080</td>\n",
       "      <td>latarjetamorada</td>\n",
       "      <td>199</td>\n",
       "      <td>668</td>\n",
       "    </tr>\n",
       "  </tbody>\n",
       "</table>\n",
       "</div>"
      ],
      "text/plain": [
       "              tweet_id                 date  \\\n",
       "0  1368641547479248902  07/03/2021 19:15:47   \n",
       "1  1368641811749732360  07/03/2021 19:16:50   \n",
       "2  1368642439657963520  07/03/2021 19:19:20   \n",
       "3  1368642748023246851  07/03/2021 19:20:33   \n",
       "4  1368642774942314505  07/03/2021 19:20:40   \n",
       "\n",
       "                                          tweet_text  num_likes  num_retweets  \\\n",
       "0  Time for a Female UN Secretary-General? https:...          0            53   \n",
       "1            Así de simple 👇 https://t.co/a8VGX5MjQP          0             0   \n",
       "2  📣Trabajemos  para romper las barreras sistémic...          0           133   \n",
       "3  Time for a Female UN Secretary-General? https:...          0            53   \n",
       "4  #EFEFotos | DÍA DE LA MUJER\\n\\nComo si no bast...          0             7   \n",
       "\n",
       "   retweeted_status_id     quoted_status_id reply_to_user reply_to_status  \\\n",
       "0  1368634417804107776                 None          None            None   \n",
       "1                 None  1368525594737131520          None            None   \n",
       "2  1368622576394731525                 None          None            None   \n",
       "3  1368634417804107776                 None          None            None   \n",
       "4  1368585986788253697                 None          None            None   \n",
       "\n",
       "               user_id      screen_name  followers  following  \n",
       "0           2568577971    AMalegrooming        757       1234  \n",
       "1            273633856       Naim_Lopez        291        822  \n",
       "2           4417466061         zanaines       4557       4255  \n",
       "3   705760236779474944          drpicka        100        482  \n",
       "4  1066770045357998080  latarjetamorada        199        668  "
      ]
     },
     "execution_count": 6,
     "metadata": {},
     "output_type": "execute_result"
    }
   ],
   "source": [
    "df = pd.DataFrame(document)\n",
    "df = df[['tweet_id', 'date', 'tweet_text', 'num_likes', 'num_retweets',\n",
    "                   'retweeted_status_id', 'quoted_status_id', 'reply_to_user', 'reply_to_status',\n",
    "                   'user_id', 'screen_name', 'followers', 'following']]\n",
    "df.head()"
   ]
  },
  {
   "cell_type": "code",
   "execution_count": 7,
   "metadata": {
    "ExecuteTime": {
     "end_time": "2021-05-18T01:48:59.839229Z",
     "start_time": "2021-05-18T01:48:59.830993Z"
    }
   },
   "outputs": [
    {
     "name": "stdout",
     "output_type": "stream",
     "text": [
      "Amostra de um tweet antes do pré-processamento:\n",
      "\n",
      "Time for a Female UN Secretary-General? https://t.co/xH2moPGhHd #IWD2021 https://t.co/0NJjuCeReH\n"
     ]
    }
   ],
   "source": [
    "print(f'Amostra de um tweet antes do pré-processamento:\\n\\n{df.tweet_text[0]}')"
   ]
  },
  {
   "cell_type": "code",
   "execution_count": 8,
   "metadata": {
    "ExecuteTime": {
     "end_time": "2021-05-18T01:49:13.581038Z",
     "start_time": "2021-05-18T01:48:59.841020Z"
    }
   },
   "outputs": [],
   "source": [
    "df.to_csv('tweets_es.csv')"
   ]
  },
  {
   "cell_type": "markdown",
   "metadata": {},
   "source": [
    "### Pré-processamento"
   ]
  },
  {
   "cell_type": "code",
   "execution_count": 9,
   "metadata": {
    "ExecuteTime": {
     "end_time": "2021-05-18T01:49:15.977865Z",
     "start_time": "2021-05-18T01:49:13.582946Z"
    }
   },
   "outputs": [
    {
     "data": {
      "text/plain": [
       "'Time for a Female UN Secretary-General?  #IWD2021 '"
      ]
     },
     "execution_count": 9,
     "metadata": {},
     "output_type": "execute_result"
    }
   ],
   "source": [
    "# remover links\n",
    "df['clean_text'] = df['tweet_text'].str.replace(r\"http\\S+\",\"\") \n",
    "\n",
    "df.clean_text[0]"
   ]
  },
  {
   "cell_type": "code",
   "execution_count": 10,
   "metadata": {
    "ExecuteTime": {
     "end_time": "2021-05-18T01:49:17.943370Z",
     "start_time": "2021-05-18T01:49:15.979021Z"
    }
   },
   "outputs": [
    {
     "data": {
      "text/plain": [
       "'Time for a Female UN Secretary-General?  #IWD2021 '"
      ]
     },
     "execution_count": 10,
     "metadata": {},
     "output_type": "execute_result"
    }
   ],
   "source": [
    "# remover mentions\n",
    "df['clean_text'] = df['clean_text'].str.replace(r\"@\\S+\",\"\")\n",
    "\n",
    "df.clean_text[0]"
   ]
  },
  {
   "cell_type": "code",
   "execution_count": 11,
   "metadata": {
    "ExecuteTime": {
     "end_time": "2021-05-18T01:49:21.111043Z",
     "start_time": "2021-05-18T01:49:17.944667Z"
    }
   },
   "outputs": [
    {
     "data": {
      "text/plain": [
       "'Time for a Female UN Secretary-General?    '"
      ]
     },
     "execution_count": 11,
     "metadata": {},
     "output_type": "execute_result"
    }
   ],
   "source": [
    "# remover hashtags\n",
    "df['clean_text'] = df['clean_text'].str.replace(r\"#\\S+\",\" \")\n",
    "\n",
    "df.clean_text[0]"
   ]
  },
  {
   "cell_type": "code",
   "execution_count": 12,
   "metadata": {
    "ExecuteTime": {
     "end_time": "2021-05-18T01:49:23.374332Z",
     "start_time": "2021-05-18T01:49:21.112337Z"
    }
   },
   "outputs": [
    {
     "data": {
      "text/plain": [
       "'Time for a Female UN Secretary-General?    '"
      ]
     },
     "execution_count": 12,
     "metadata": {},
     "output_type": "execute_result"
    }
   ],
   "source": [
    "# remover quebra de linhas\n",
    "df['clean_text'] = df['clean_text'].str.replace(r\"\\n\",\" \")\n",
    "\n",
    "df.clean_text[0]"
   ]
  },
  {
   "cell_type": "code",
   "execution_count": 13,
   "metadata": {
    "ExecuteTime": {
     "end_time": "2021-05-18T01:49:33.275954Z",
     "start_time": "2021-05-18T01:49:23.375623Z"
    }
   },
   "outputs": [
    {
     "data": {
      "text/plain": [
       "'Time for a Female UN Secretary General     '"
      ]
     },
     "execution_count": 13,
     "metadata": {},
     "output_type": "execute_result"
    }
   ],
   "source": [
    "# remover pontuações\n",
    "df['clean_text'] = df['clean_text'].str.replace(r\"[^\\w\\s#]|_\",\" \")\n",
    "\n",
    "df.clean_text[0]"
   ]
  },
  {
   "cell_type": "code",
   "execution_count": 14,
   "metadata": {
    "ExecuteTime": {
     "end_time": "2021-05-18T01:50:00.451872Z",
     "start_time": "2021-05-18T01:49:33.277393Z"
    }
   },
   "outputs": [
    {
     "data": {
      "text/plain": [
       "'Time for a Female UN Secretary General'"
      ]
     },
     "execution_count": 14,
     "metadata": {},
     "output_type": "execute_result"
    }
   ],
   "source": [
    "# remover números\n",
    "df['clean_text'] = df['clean_text'].str.strip().str.replace(r\"\\b(?:[0-9]*)\\b\",\"\")\n",
    "\n",
    "df.clean_text[0]"
   ]
  },
  {
   "cell_type": "code",
   "execution_count": 15,
   "metadata": {
    "ExecuteTime": {
     "end_time": "2021-05-18T01:50:07.998924Z",
     "start_time": "2021-05-18T01:50:00.453367Z"
    }
   },
   "outputs": [
    {
     "data": {
      "text/plain": [
       "'Time for a Female UN Secretary General'"
      ]
     },
     "execution_count": 15,
     "metadata": {},
     "output_type": "execute_result"
    }
   ],
   "source": [
    "# remover espaços duplos\n",
    "df['clean_text'] = df['clean_text'].str.strip().str.replace(r\"\\s{2,}\",\" \")\n",
    "\n",
    "df.clean_text[0]"
   ]
  },
  {
   "cell_type": "markdown",
   "metadata": {},
   "source": [
    "### converter todas as letras para minúsculas"
   ]
  },
  {
   "cell_type": "code",
   "execution_count": 16,
   "metadata": {
    "ExecuteTime": {
     "end_time": "2021-05-18T01:50:09.872657Z",
     "start_time": "2021-05-18T01:50:08.000141Z"
    }
   },
   "outputs": [
    {
     "data": {
      "text/plain": [
       "'time for a female un secretary general'"
      ]
     },
     "execution_count": 16,
     "metadata": {},
     "output_type": "execute_result"
    }
   ],
   "source": [
    "df['clean_text'] = df['clean_text'].str.lower()\n",
    "\n",
    "df.clean_text[0]"
   ]
  },
  {
   "cell_type": "markdown",
   "metadata": {},
   "source": [
    "### remover letras que se repetem em sequência mais de 3x"
   ]
  },
  {
   "cell_type": "code",
   "execution_count": 17,
   "metadata": {
    "ExecuteTime": {
     "end_time": "2021-05-18T01:51:56.298708Z",
     "start_time": "2021-05-18T01:50:09.873937Z"
    }
   },
   "outputs": [
    {
     "data": {
      "text/plain": [
       "'time for a female un secretary general'"
      ]
     },
     "execution_count": 17,
     "metadata": {},
     "output_type": "execute_result"
    }
   ],
   "source": [
    "import string\n",
    "alphabet = list(string.ascii_lowercase)\n",
    "\n",
    "for letter in alphabet:\n",
    "    pattern = '{}{}'.format(letter, '{3,}')\n",
    "    df['clean_text'] = df['clean_text'].str.replace(r'{}'.format(pattern), letter)\n",
    "    \n",
    "df.clean_text[0]"
   ]
  },
  {
   "cell_type": "markdown",
   "metadata": {},
   "source": [
    "### remover stpwords"
   ]
  },
  {
   "cell_type": "code",
   "execution_count": 18,
   "metadata": {
    "ExecuteTime": {
     "end_time": "2021-05-18T01:53:28.289010Z",
     "start_time": "2021-05-18T01:51:56.299971Z"
    }
   },
   "outputs": [
    {
     "data": {
      "text/plain": [
       "'time for female secretary general'"
      ]
     },
     "execution_count": 18,
     "metadata": {},
     "output_type": "execute_result"
    }
   ],
   "source": [
    "with open('../stopwords/spanish.txt', 'r') as file:\n",
    "    stopwords = file.readlines()\n",
    "    stopwords = [sw.replace('\\n','') for sw in stopwords]\n",
    "\n",
    "def remover_stopwords(texto):\n",
    "    palavras = [i for i in texto.split() if not i in stopwords]\n",
    "    return (\" \".join(palavras))\n",
    "\n",
    "df['clean_text'] = df['clean_text'].apply(remover_stopwords)\n",
    "\n",
    "df.clean_text[0]"
   ]
  },
  {
   "cell_type": "markdown",
   "metadata": {},
   "source": [
    "### remover palavras com 2 caracteres ou menos"
   ]
  },
  {
   "cell_type": "code",
   "execution_count": 19,
   "metadata": {
    "ExecuteTime": {
     "end_time": "2021-05-18T01:53:32.169637Z",
     "start_time": "2021-05-18T01:53:28.290253Z"
    }
   },
   "outputs": [
    {
     "data": {
      "text/plain": [
       "'time for female secretary general'"
      ]
     },
     "execution_count": 19,
     "metadata": {},
     "output_type": "execute_result"
    }
   ],
   "source": [
    "def remover_len_2(texto):\n",
    "    palavras = [i for i in texto.split() if len(i) > 2]\n",
    "    return (\" \".join(palavras))\n",
    "\n",
    "df['clean_text'] = df['clean_text'].apply(remover_len_2)\n",
    "\n",
    "df.clean_text[0]"
   ]
  },
  {
   "cell_type": "code",
   "execution_count": 20,
   "metadata": {
    "ExecuteTime": {
     "end_time": "2021-05-18T01:53:32.173483Z",
     "start_time": "2021-05-18T01:53:32.170820Z"
    }
   },
   "outputs": [
    {
     "name": "stdout",
     "output_type": "stream",
     "text": [
      "Amostra de um tweet depois do pré-processamento:\n",
      "\n",
      "time for female secretary general\n"
     ]
    }
   ],
   "source": [
    "print(f'Amostra de um tweet depois do pré-processamento:\\n\\n{df.clean_text[0]}')"
   ]
  },
  {
   "cell_type": "code",
   "execution_count": 21,
   "metadata": {
    "ExecuteTime": {
     "end_time": "2021-05-18T01:53:32.182962Z",
     "start_time": "2021-05-18T01:53:32.174681Z"
    }
   },
   "outputs": [],
   "source": [
    "def reduzir_radical(texto):\n",
    "    stemmer = nltk.stem.RSLPStemmer()\n",
    "    palavras = [stemmer.stem(i) for i in texto.split()]\n",
    "    return (\" \".join(palavras))"
   ]
  },
  {
   "cell_type": "code",
   "execution_count": 22,
   "metadata": {
    "ExecuteTime": {
     "end_time": "2021-05-18T01:53:32.223170Z",
     "start_time": "2021-05-18T01:53:32.184061Z"
    }
   },
   "outputs": [
    {
     "data": {
      "text/plain": [
       "'tim for a femal un secretary-general? https://t.co/xh2mopghhd #iwd2021 https://t.co/0njjucereh'"
      ]
     },
     "execution_count": 22,
     "metadata": {},
     "output_type": "execute_result"
    }
   ],
   "source": [
    "reduzir_radical(df.tweet_text[0])"
   ]
  },
  {
   "cell_type": "code",
   "execution_count": 23,
   "metadata": {
    "ExecuteTime": {
     "end_time": "2021-05-18T01:53:32.227942Z",
     "start_time": "2021-05-18T01:53:32.225161Z"
    }
   },
   "outputs": [],
   "source": [
    "# df['tweet_text'] = df['tweet_text'].apply(reduzir_radical)"
   ]
  },
  {
   "cell_type": "code",
   "execution_count": 24,
   "metadata": {
    "ExecuteTime": {
     "end_time": "2021-05-18T01:53:32.238031Z",
     "start_time": "2021-05-18T01:53:32.229376Z"
    }
   },
   "outputs": [],
   "source": [
    "import unicodedata\n",
    "\n",
    "def remover_acentuacao(text):\n",
    "    # Unicode normalize transforma um caracter em seu equivalente em latin.\n",
    "    nfkd = unicodedata.normalize('NFKD', text)\n",
    "    palavra_sem_acento = u\"\".join([c for c in nfkd if not unicodedata.combining(c)])\n",
    "    return (palavra_sem_acento)"
   ]
  },
  {
   "cell_type": "code",
   "execution_count": 25,
   "metadata": {
    "ExecuteTime": {
     "end_time": "2021-05-18T01:53:32.249059Z",
     "start_time": "2021-05-18T01:53:32.241393Z"
    }
   },
   "outputs": [
    {
     "data": {
      "text/plain": [
       "'Time for a Female UN Secretary-General? https://t.co/xH2moPGhHd #IWD2021 https://t.co/0NJjuCeReH'"
      ]
     },
     "execution_count": 25,
     "metadata": {},
     "output_type": "execute_result"
    }
   ],
   "source": [
    "remover_acentuacao(df.tweet_text[0])"
   ]
  },
  {
   "cell_type": "code",
   "execution_count": 26,
   "metadata": {
    "ExecuteTime": {
     "end_time": "2021-05-18T01:53:51.577928Z",
     "start_time": "2021-05-18T01:53:32.251298Z"
    }
   },
   "outputs": [],
   "source": [
    "df['clean_text'] = df['clean_text'].apply(remover_acentuacao)"
   ]
  },
  {
   "cell_type": "code",
   "execution_count": 27,
   "metadata": {
    "ExecuteTime": {
     "end_time": "2021-05-18T01:53:54.018784Z",
     "start_time": "2021-05-18T01:53:51.579252Z"
    }
   },
   "outputs": [
    {
     "data": {
      "text/plain": [
       "'time for female secretary general'"
      ]
     },
     "execution_count": 27,
     "metadata": {},
     "output_type": "execute_result"
    }
   ],
   "source": [
    "# remover non ascii caracteres\n",
    "df['clean_text'] = df['clean_text'].str.strip().str.replace(r\"[^a-zA-z0-9#|\\s]\",\"\")\n",
    "\n",
    "df.clean_text[0]"
   ]
  },
  {
   "cell_type": "code",
   "execution_count": 28,
   "metadata": {
    "ExecuteTime": {
     "end_time": "2021-05-18T01:53:54.022801Z",
     "start_time": "2021-05-18T01:53:54.019993Z"
    }
   },
   "outputs": [
    {
     "name": "stdout",
     "output_type": "stream",
     "text": [
      "Amostra de um tweet depois do pré-processamento:\n",
      "\n",
      "time for female secretary general\n"
     ]
    }
   ],
   "source": [
    "print(f'Amostra de um tweet depois do pré-processamento:\\n\\n{df.clean_text[0]}')"
   ]
  },
  {
   "cell_type": "markdown",
   "metadata": {},
   "source": [
    "### Etapa opcional\n",
    "\n",
    "O atributo 'lang' presentes nos documentos podem ter sido atribuidos erroneamente. Objetivando eliminar tweets que possam ser de um idioma não requisitado, desenvolveram-se 2 funções para ajudar a confirmar o idioma destes."
   ]
  },
  {
   "cell_type": "markdown",
   "metadata": {},
   "source": [
    "Para desabilitar warnings:"
   ]
  },
  {
   "cell_type": "code",
   "execution_count": 29,
   "metadata": {
    "ExecuteTime": {
     "end_time": "2021-05-18T01:53:54.032119Z",
     "start_time": "2021-05-18T01:53:54.024024Z"
    }
   },
   "outputs": [],
   "source": [
    "# import logging\n",
    "# logging.disable(logging.WARNING)"
   ]
  },
  {
   "cell_type": "markdown",
   "metadata": {},
   "source": [
    "#### 1. Usando polyglot"
   ]
  },
  {
   "cell_type": "code",
   "execution_count": 30,
   "metadata": {
    "ExecuteTime": {
     "end_time": "2021-05-18T01:53:54.043462Z",
     "start_time": "2021-05-18T01:53:54.033594Z"
    }
   },
   "outputs": [],
   "source": [
    "# import polyglot\n",
    "# from polyglot.detect import Detector"
   ]
  },
  {
   "cell_type": "code",
   "execution_count": 31,
   "metadata": {
    "ExecuteTime": {
     "end_time": "2021-05-18T01:53:54.053497Z",
     "start_time": "2021-05-18T01:53:54.046517Z"
    }
   },
   "outputs": [],
   "source": [
    "# def get_polyglot_language(text):\n",
    "#     try:\n",
    "#         detector = Detector(text)\n",
    "#     except polyglot.detect.base.UnknownLanguage:\n",
    "#         lang = 'Undefined'\n",
    "#     else:\n",
    "#         lang = detector.language.name\n",
    "    \n",
    "#     return (lang)"
   ]
  },
  {
   "cell_type": "code",
   "execution_count": 32,
   "metadata": {
    "ExecuteTime": {
     "end_time": "2021-05-18T01:53:54.062930Z",
     "start_time": "2021-05-18T01:53:54.054851Z"
    }
   },
   "outputs": [],
   "source": [
    "# get_polyglot_language(df['tweet_text'][0])"
   ]
  },
  {
   "cell_type": "code",
   "execution_count": 33,
   "metadata": {
    "ExecuteTime": {
     "end_time": "2021-05-18T01:53:54.072573Z",
     "start_time": "2021-05-18T01:53:54.064344Z"
    }
   },
   "outputs": [],
   "source": [
    "# df['polyglot_lang'] = df['tweet_text'].apply(get_polyglot_language)"
   ]
  },
  {
   "cell_type": "code",
   "execution_count": 34,
   "metadata": {
    "ExecuteTime": {
     "end_time": "2021-05-18T01:53:54.081823Z",
     "start_time": "2021-05-18T01:53:54.074773Z"
    }
   },
   "outputs": [],
   "source": [
    "# df['polyglot_lang'].value_counts()"
   ]
  },
  {
   "cell_type": "markdown",
   "metadata": {},
   "source": [
    "#### 2. Usando textblob"
   ]
  },
  {
   "cell_type": "code",
   "execution_count": 35,
   "metadata": {
    "ExecuteTime": {
     "end_time": "2021-05-18T01:53:54.091240Z",
     "start_time": "2021-05-18T01:53:54.082993Z"
    }
   },
   "outputs": [],
   "source": [
    "# import textblob\n",
    "# from textblob import TextBlob\n",
    "# import pycountry"
   ]
  },
  {
   "cell_type": "code",
   "execution_count": 36,
   "metadata": {
    "ExecuteTime": {
     "end_time": "2021-05-18T01:53:54.107985Z",
     "start_time": "2021-05-18T01:53:54.092471Z"
    }
   },
   "outputs": [],
   "source": [
    "# def get_textblob_language(text):\n",
    "#     try:\n",
    "#         time.sleep(0.2)\n",
    "#         b = TextBlob(text)\n",
    "#         language = pycountry.languages.get(alpha_2=b.detect_language())\n",
    "#         language_name = language.name\n",
    "#     except textblob.exceptions.TranslatorError:\n",
    "#         # language_name = \"Deu ruim\"\n",
    "#         language_name = 'Undefined'\n",
    "    \n",
    "#     return(language_name) "
   ]
  },
  {
   "cell_type": "code",
   "execution_count": 37,
   "metadata": {
    "ExecuteTime": {
     "end_time": "2021-05-18T01:53:54.117369Z",
     "start_time": "2021-05-18T01:53:54.109298Z"
    }
   },
   "outputs": [],
   "source": [
    "# get_textblob_language(df['tweet_text'][0])"
   ]
  },
  {
   "cell_type": "code",
   "execution_count": 38,
   "metadata": {
    "ExecuteTime": {
     "end_time": "2021-05-18T01:53:54.126663Z",
     "start_time": "2021-05-18T01:53:54.118660Z"
    }
   },
   "outputs": [],
   "source": [
    "# df['textblob_lang'] = df['tweet_text'].apply(get_textblob_language)"
   ]
  },
  {
   "cell_type": "markdown",
   "metadata": {},
   "source": [
    "Para reabilitar warnings:"
   ]
  },
  {
   "cell_type": "code",
   "execution_count": 39,
   "metadata": {
    "ExecuteTime": {
     "end_time": "2021-05-18T01:53:54.135898Z",
     "start_time": "2021-05-18T01:53:54.127927Z"
    }
   },
   "outputs": [],
   "source": [
    "# logging.disable(logging.NOTSET)"
   ]
  },
  {
   "cell_type": "code",
   "execution_count": 40,
   "metadata": {
    "ExecuteTime": {
     "end_time": "2021-05-18T01:53:54.144997Z",
     "start_time": "2021-05-18T01:53:54.137203Z"
    }
   },
   "outputs": [],
   "source": [
    "# df.shape"
   ]
  },
  {
   "cell_type": "markdown",
   "metadata": {},
   "source": [
    "# Criação do arquivo .csv"
   ]
  },
  {
   "cell_type": "markdown",
   "metadata": {},
   "source": [
    "### Cenário 1: base completa"
   ]
  },
  {
   "cell_type": "markdown",
   "metadata": {},
   "source": [
    "Caso tenha se utilizado umas das duas funções - **get_polyglot_language**, por exemplo - use o seguinte trecho para gerar o arquivo .csv:"
   ]
  },
  {
   "cell_type": "code",
   "execution_count": 41,
   "metadata": {
    "ExecuteTime": {
     "end_time": "2021-05-18T01:53:54.154276Z",
     "start_time": "2021-05-18T01:53:54.146182Z"
    }
   },
   "outputs": [],
   "source": [
    "# index = df['polyglot_lang'] == 'Portuguese'\n",
    "# new_df = df[index]\n",
    "# new_df = new_df.drop('polyglot_lang', axis=1)"
   ]
  },
  {
   "cell_type": "code",
   "execution_count": 42,
   "metadata": {
    "ExecuteTime": {
     "end_time": "2021-05-18T01:53:54.174386Z",
     "start_time": "2021-05-18T01:53:54.155508Z"
    }
   },
   "outputs": [],
   "source": [
    "# new_df.to_csv('cenario1_8M2020_polyglot_tweets_pt.csv', index=False)"
   ]
  },
  {
   "cell_type": "markdown",
   "metadata": {},
   "source": [
    "Caso contrário:"
   ]
  },
  {
   "cell_type": "code",
   "execution_count": 43,
   "metadata": {
    "ExecuteTime": {
     "end_time": "2021-05-18T01:53:54.183664Z",
     "start_time": "2021-05-18T01:53:54.175726Z"
    }
   },
   "outputs": [],
   "source": [
    "# df = df.drop('polyglot_lang', axis=1)"
   ]
  },
  {
   "cell_type": "code",
   "execution_count": 44,
   "metadata": {
    "ExecuteTime": {
     "end_time": "2021-05-18T01:53:55.511056Z",
     "start_time": "2021-05-18T01:53:54.185224Z"
    }
   },
   "outputs": [],
   "source": [
    "df = df[df['clean_text'] != '']"
   ]
  },
  {
   "cell_type": "code",
   "execution_count": 45,
   "metadata": {
    "ExecuteTime": {
     "end_time": "2021-05-18T01:53:55.515484Z",
     "start_time": "2021-05-18T01:53:55.512360Z"
    }
   },
   "outputs": [
    {
     "data": {
      "text/plain": [
       "(1437323, 14)"
      ]
     },
     "execution_count": 45,
     "metadata": {},
     "output_type": "execute_result"
    }
   ],
   "source": [
    "df.shape"
   ]
  },
  {
   "cell_type": "code",
   "execution_count": 46,
   "metadata": {
    "ExecuteTime": {
     "end_time": "2021-05-18T01:54:11.327913Z",
     "start_time": "2021-05-18T01:53:55.516656Z"
    }
   },
   "outputs": [],
   "source": [
    "df.to_csv('cenario1_8M2021_tweets_es.csv', index=False)"
   ]
  },
  {
   "cell_type": "markdown",
   "metadata": {},
   "source": [
    "criação do arquivo .txt (somente com os textos dos tweets):"
   ]
  },
  {
   "cell_type": "code",
   "execution_count": 47,
   "metadata": {
    "ExecuteTime": {
     "end_time": "2021-05-18T01:54:11.331335Z",
     "start_time": "2021-05-18T01:54:11.329197Z"
    }
   },
   "outputs": [],
   "source": [
    "import numpy as np"
   ]
  },
  {
   "cell_type": "code",
   "execution_count": 48,
   "metadata": {
    "ExecuteTime": {
     "end_time": "2021-05-18T01:54:11.353288Z",
     "start_time": "2021-05-18T01:54:11.332635Z"
    }
   },
   "outputs": [],
   "source": [
    "tweets_text = np.array(df['clean_text'])"
   ]
  },
  {
   "cell_type": "code",
   "execution_count": 49,
   "metadata": {
    "ExecuteTime": {
     "end_time": "2021-05-18T01:54:13.498156Z",
     "start_time": "2021-05-18T01:54:11.354584Z"
    }
   },
   "outputs": [],
   "source": [
    "np.savetxt(fname='cenario1_8M2021_tweets_es.txt', X=tweets_text, fmt='%s')"
   ]
  },
  {
   "cell_type": "markdown",
   "metadata": {},
   "source": [
    "## Cenário 2: tweets sem duplicatas"
   ]
  },
  {
   "cell_type": "code",
   "execution_count": 50,
   "metadata": {
    "ExecuteTime": {
     "end_time": "2021-05-18T01:54:14.180785Z",
     "start_time": "2021-05-18T01:54:13.499541Z"
    }
   },
   "outputs": [],
   "source": [
    "df.drop_duplicates(['clean_text'], inplace = True)"
   ]
  },
  {
   "cell_type": "code",
   "execution_count": 51,
   "metadata": {
    "ExecuteTime": {
     "end_time": "2021-05-18T01:54:14.185426Z",
     "start_time": "2021-05-18T01:54:14.182323Z"
    }
   },
   "outputs": [
    {
     "data": {
      "text/plain": [
       "(266214, 14)"
      ]
     },
     "execution_count": 51,
     "metadata": {},
     "output_type": "execute_result"
    }
   ],
   "source": [
    "df.shape"
   ]
  },
  {
   "cell_type": "code",
   "execution_count": 52,
   "metadata": {
    "ExecuteTime": {
     "end_time": "2021-05-18T01:55:31.689030Z",
     "start_time": "2021-05-18T01:54:14.186596Z"
    }
   },
   "outputs": [],
   "source": [
    "df.to_excel('exemplo.xlsx')"
   ]
  },
  {
   "cell_type": "code",
   "execution_count": 53,
   "metadata": {
    "ExecuteTime": {
     "end_time": "2021-05-18T01:55:34.670100Z",
     "start_time": "2021-05-18T01:55:31.690342Z"
    }
   },
   "outputs": [],
   "source": [
    "df.to_csv('cenario2_8M2021_tweets_es.csv', index=False) "
   ]
  },
  {
   "cell_type": "code",
   "execution_count": 54,
   "metadata": {
    "ExecuteTime": {
     "end_time": "2021-05-18T01:55:34.712606Z",
     "start_time": "2021-05-18T01:55:34.672526Z"
    }
   },
   "outputs": [],
   "source": [
    "tweets_text = np.array(df['clean_text'])"
   ]
  },
  {
   "cell_type": "code",
   "execution_count": 55,
   "metadata": {
    "ExecuteTime": {
     "end_time": "2021-05-18T01:55:35.169937Z",
     "start_time": "2021-05-18T01:55:34.713977Z"
    }
   },
   "outputs": [],
   "source": [
    "np.savetxt(fname='cenario2_8M2021_tweets_es.txt', X=tweets_text, fmt='%s')"
   ]
  },
  {
   "cell_type": "code",
   "execution_count": null,
   "metadata": {},
   "outputs": [],
   "source": []
  }
 ],
 "metadata": {
  "kernelspec": {
   "display_name": "Python 3",
   "language": "python",
   "name": "python3"
  },
  "language_info": {
   "codemirror_mode": {
    "name": "ipython",
    "version": 3
   },
   "file_extension": ".py",
   "mimetype": "text/x-python",
   "name": "python",
   "nbconvert_exporter": "python",
   "pygments_lexer": "ipython3",
   "version": "3.7.7"
  },
  "toc": {
   "base_numbering": 1,
   "nav_menu": {},
   "number_sections": false,
   "sideBar": true,
   "skip_h1_title": false,
   "title_cell": "Table of Contents",
   "title_sidebar": "Contents",
   "toc_cell": false,
   "toc_position": {},
   "toc_section_display": true,
   "toc_window_display": false
  }
 },
 "nbformat": 4,
 "nbformat_minor": 4
}
