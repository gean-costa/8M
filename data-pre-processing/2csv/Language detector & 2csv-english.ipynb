{
 "cells": [
  {
   "cell_type": "code",
   "execution_count": 1,
   "metadata": {
    "ExecuteTime": {
     "end_time": "2020-12-29T23:47:32.840989Z",
     "start_time": "2020-12-29T23:47:32.138517Z"
    }
   },
   "outputs": [],
   "source": [
    "import pymongo\n",
    "import time\n",
    "import pandas as pd\n",
    "import json\n",
    "import nltk"
   ]
  },
  {
   "cell_type": "markdown",
   "metadata": {},
   "source": [
    "# Conexão com o MongoDB"
   ]
  },
  {
   "cell_type": "code",
   "execution_count": 2,
   "metadata": {
    "ExecuteTime": {
     "end_time": "2020-12-29T23:47:33.452098Z",
     "start_time": "2020-12-29T23:47:33.447808Z"
    }
   },
   "outputs": [],
   "source": [
    "client = pymongo.MongoClient()\n",
    "\n",
    "# database\n",
    "db = client['8M2020_samples']  \n",
    "\n",
    "# collection\n",
    "collection = db.tweets_en"
   ]
  },
  {
   "cell_type": "code",
   "execution_count": 3,
   "metadata": {
    "ExecuteTime": {
     "end_time": "2020-12-29T23:47:34.225121Z",
     "start_time": "2020-12-29T23:47:34.218402Z"
    }
   },
   "outputs": [],
   "source": [
    "pipeline = [\n",
    "    {\n",
    "        '$project': {\n",
    "            'tweet_id': '$id_str', \n",
    "            'date': {\n",
    "                '$dateFromString': {\n",
    "                    'dateString': '$created_at'\n",
    "                }\n",
    "            }, \n",
    "            'tweet_text': {\n",
    "                '$ifNull': [\n",
    "                    '$retweeted_status.full_text', '$full_text'\n",
    "                ]\n",
    "            }, \n",
    "            'num_likes': '$favorite_count', \n",
    "            'num_retweets': '$retweet_count', \n",
    "            'quoted_status_id': {\n",
    "                '$ifNull': [\n",
    "                    '$quoted_status_id_str', None\n",
    "                ]\n",
    "            }, \n",
    "            'retweeted_status_id': {\n",
    "                '$ifNull': [\n",
    "                    '$retweeted_status.id_str', None\n",
    "                ]\n",
    "            }, \n",
    "            'reply_to_user': {\n",
    "                '$ifNull': [\n",
    "                    '$in_reply_to_user_id_str', None\n",
    "                ]\n",
    "            }, \n",
    "            'reply_to_status': {\n",
    "                '$ifNull': [\n",
    "                    '$in_reply_to_status_id_str', None\n",
    "                ]\n",
    "            }, \n",
    "            'user_id': '$user.id_str', \n",
    "            'screen_name': '$user.screen_name', \n",
    "            'followers': '$user.followers_count', \n",
    "            'following': '$user.friends_count'\n",
    "        }\n",
    "    }, {\n",
    "        '$project': {\n",
    "            '_id': 0, \n",
    "            'tweet_id': 1, \n",
    "            'date': {\n",
    "                '$dateToString': {\n",
    "                    'format': '%d/%m/%Y %H:%M:%S', \n",
    "                    'date': '$date'\n",
    "                }\n",
    "            }, \n",
    "            'tweet_text': 1, \n",
    "            'num_likes': 1, \n",
    "            'num_retweets': 1, \n",
    "            'quoted_status_id': 1, \n",
    "            'retweeted_status_id': 1, \n",
    "            'reply_to_user': 1, \n",
    "            'reply_to_status': 1, \n",
    "            'user_id': 1, \n",
    "            'screen_name': 1, \n",
    "            'followers': 1, \n",
    "            'following': 1\n",
    "        }\n",
    "    }\n",
    "]"
   ]
  },
  {
   "cell_type": "code",
   "execution_count": 4,
   "metadata": {
    "ExecuteTime": {
     "end_time": "2020-12-29T23:48:29.415622Z",
     "start_time": "2020-12-29T23:47:34.924865Z"
    }
   },
   "outputs": [
    {
     "name": "stdout",
     "output_type": "stream",
     "text": [
      "Tempo de execução: 00:00:54\n",
      "1991792 documentos selecionados\n"
     ]
    }
   ],
   "source": [
    "time_start = time.time()\n",
    "document = list(collection.aggregate(pipeline=pipeline))\n",
    "time_end = time.time()\n",
    "\n",
    "print(\n",
    "    f'Tempo de execução: {time.strftime(\"%H:%M:%S\", time.gmtime(time_end - time_start))}')\n",
    "print(f'{len(document)} documentos selecionados')"
   ]
  },
  {
   "cell_type": "code",
   "execution_count": 5,
   "metadata": {
    "ExecuteTime": {
     "end_time": "2020-12-29T23:48:29.426274Z",
     "start_time": "2020-12-29T23:48:29.423203Z"
    }
   },
   "outputs": [
    {
     "name": "stdout",
     "output_type": "stream",
     "text": [
      "Amostra de um documento:\n",
      "\n",
      "{\n",
      "   \"tweet_id\": \"1236411302693801984\",\n",
      "   \"tweet_text\": \"Essential reading for all of us working in data intensive research on #IWD2020, Invisible Women: Exposing Data Bias in a World Designed for Men, Caroline Criado Perez #GenerationEquality #Unimelbpursuit @unimelb @MDAP_Unimelb @ResCom_unimelb @ARDC_AU @SCIPUniMelb #mdap_unimelb https://t.co/AuYd1TRMpn\",\n",
      "   \"num_likes\": 17,\n",
      "   \"num_retweets\": 10,\n",
      "   \"quoted_status_id\": null,\n",
      "   \"retweeted_status_id\": null,\n",
      "   \"reply_to_user\": null,\n",
      "   \"reply_to_status\": null,\n",
      "   \"user_id\": \"1135775094754533376\",\n",
      "   \"screen_name\": \"PCI_Unimelb\",\n",
      "   \"followers\": 133,\n",
      "   \"following\": 97,\n",
      "   \"date\": \"07/03/2020 22:00:00\"\n",
      "}\n"
     ]
    }
   ],
   "source": [
    "print(f'Amostra de um documento:\\n')\n",
    "print(json.dumps(document[0], sort_keys=False, indent=3, ensure_ascii=False))"
   ]
  },
  {
   "cell_type": "code",
   "execution_count": 6,
   "metadata": {
    "ExecuteTime": {
     "end_time": "2020-12-29T23:48:37.778090Z",
     "start_time": "2020-12-29T23:48:29.427792Z"
    }
   },
   "outputs": [
    {
     "data": {
      "text/html": [
       "<div>\n",
       "<style scoped>\n",
       "    .dataframe tbody tr th:only-of-type {\n",
       "        vertical-align: middle;\n",
       "    }\n",
       "\n",
       "    .dataframe tbody tr th {\n",
       "        vertical-align: top;\n",
       "    }\n",
       "\n",
       "    .dataframe thead th {\n",
       "        text-align: right;\n",
       "    }\n",
       "</style>\n",
       "<table border=\"1\" class=\"dataframe\">\n",
       "  <thead>\n",
       "    <tr style=\"text-align: right;\">\n",
       "      <th></th>\n",
       "      <th>tweet_id</th>\n",
       "      <th>date</th>\n",
       "      <th>tweet_text</th>\n",
       "      <th>num_likes</th>\n",
       "      <th>num_retweets</th>\n",
       "      <th>retweeted_status_id</th>\n",
       "      <th>quoted_status_id</th>\n",
       "      <th>reply_to_user</th>\n",
       "      <th>reply_to_status</th>\n",
       "      <th>user_id</th>\n",
       "      <th>screen_name</th>\n",
       "      <th>followers</th>\n",
       "      <th>following</th>\n",
       "    </tr>\n",
       "  </thead>\n",
       "  <tbody>\n",
       "    <tr>\n",
       "      <th>0</th>\n",
       "      <td>1236411302693801984</td>\n",
       "      <td>07/03/2020 22:00:00</td>\n",
       "      <td>Essential reading for all of us working in dat...</td>\n",
       "      <td>17</td>\n",
       "      <td>10</td>\n",
       "      <td>None</td>\n",
       "      <td>None</td>\n",
       "      <td>None</td>\n",
       "      <td>None</td>\n",
       "      <td>1135775094754533376</td>\n",
       "      <td>PCI_Unimelb</td>\n",
       "      <td>133</td>\n",
       "      <td>97</td>\n",
       "    </tr>\n",
       "    <tr>\n",
       "      <th>1</th>\n",
       "      <td>1236411304237285377</td>\n",
       "      <td>07/03/2020 22:00:00</td>\n",
       "      <td>Women. Are. Amazing. At 7 months pregnant I st...</td>\n",
       "      <td>0</td>\n",
       "      <td>41</td>\n",
       "      <td>1236410293011582977</td>\n",
       "      <td>None</td>\n",
       "      <td>None</td>\n",
       "      <td>None</td>\n",
       "      <td>2808676590</td>\n",
       "      <td>00agent21</td>\n",
       "      <td>852</td>\n",
       "      <td>819</td>\n",
       "    </tr>\n",
       "    <tr>\n",
       "      <th>2</th>\n",
       "      <td>1236411303364833280</td>\n",
       "      <td>07/03/2020 22:00:00</td>\n",
       "      <td>This weekend is #IWD2020 and we’ve got the @Wo...</td>\n",
       "      <td>4</td>\n",
       "      <td>2</td>\n",
       "      <td>None</td>\n",
       "      <td>None</td>\n",
       "      <td>None</td>\n",
       "      <td>None</td>\n",
       "      <td>21904259</td>\n",
       "      <td>FM1061</td>\n",
       "      <td>8981</td>\n",
       "      <td>1406</td>\n",
       "    </tr>\n",
       "    <tr>\n",
       "      <th>3</th>\n",
       "      <td>1236411301213147139</td>\n",
       "      <td>07/03/2020 22:00:00</td>\n",
       "      <td>Centre members Yvonne Hora, Boer Tan and Eliza...</td>\n",
       "      <td>12</td>\n",
       "      <td>2</td>\n",
       "      <td>None</td>\n",
       "      <td>None</td>\n",
       "      <td>None</td>\n",
       "      <td>None</td>\n",
       "      <td>773523316019724288</td>\n",
       "      <td>excitonscience</td>\n",
       "      <td>876</td>\n",
       "      <td>444</td>\n",
       "    </tr>\n",
       "    <tr>\n",
       "      <th>4</th>\n",
       "      <td>1236411302152634368</td>\n",
       "      <td>07/03/2020 22:00:00</td>\n",
       "      <td>Happy International Women's Day 💜 #IWD2020\\n\\n...</td>\n",
       "      <td>104</td>\n",
       "      <td>9</td>\n",
       "      <td>None</td>\n",
       "      <td>None</td>\n",
       "      <td>None</td>\n",
       "      <td>None</td>\n",
       "      <td>16319888</td>\n",
       "      <td>AFL</td>\n",
       "      <td>720828</td>\n",
       "      <td>791</td>\n",
       "    </tr>\n",
       "  </tbody>\n",
       "</table>\n",
       "</div>"
      ],
      "text/plain": [
       "              tweet_id                 date  \\\n",
       "0  1236411302693801984  07/03/2020 22:00:00   \n",
       "1  1236411304237285377  07/03/2020 22:00:00   \n",
       "2  1236411303364833280  07/03/2020 22:00:00   \n",
       "3  1236411301213147139  07/03/2020 22:00:00   \n",
       "4  1236411302152634368  07/03/2020 22:00:00   \n",
       "\n",
       "                                          tweet_text  num_likes  num_retweets  \\\n",
       "0  Essential reading for all of us working in dat...         17            10   \n",
       "1  Women. Are. Amazing. At 7 months pregnant I st...          0            41   \n",
       "2  This weekend is #IWD2020 and we’ve got the @Wo...          4             2   \n",
       "3  Centre members Yvonne Hora, Boer Tan and Eliza...         12             2   \n",
       "4  Happy International Women's Day 💜 #IWD2020\\n\\n...        104             9   \n",
       "\n",
       "   retweeted_status_id quoted_status_id reply_to_user reply_to_status  \\\n",
       "0                 None             None          None            None   \n",
       "1  1236410293011582977             None          None            None   \n",
       "2                 None             None          None            None   \n",
       "3                 None             None          None            None   \n",
       "4                 None             None          None            None   \n",
       "\n",
       "               user_id     screen_name  followers  following  \n",
       "0  1135775094754533376     PCI_Unimelb        133         97  \n",
       "1           2808676590       00agent21        852        819  \n",
       "2             21904259          FM1061       8981       1406  \n",
       "3   773523316019724288  excitonscience        876        444  \n",
       "4             16319888             AFL     720828        791  "
      ]
     },
     "execution_count": 6,
     "metadata": {},
     "output_type": "execute_result"
    }
   ],
   "source": [
    "df = pd.DataFrame(document)\n",
    "df = df[['tweet_id', 'date', 'tweet_text', 'num_likes', 'num_retweets',\n",
    "                   'retweeted_status_id', 'quoted_status_id', 'reply_to_user', 'reply_to_status',\n",
    "                   'user_id', 'screen_name', 'followers', 'following']]\n",
    "df.head()"
   ]
  },
  {
   "cell_type": "code",
   "execution_count": 7,
   "metadata": {
    "ExecuteTime": {
     "end_time": "2020-12-29T23:48:37.789223Z",
     "start_time": "2020-12-29T23:48:37.779555Z"
    }
   },
   "outputs": [
    {
     "name": "stdout",
     "output_type": "stream",
     "text": [
      "Amostra de um tweet antes do pré-processamento:\n",
      "\n",
      "Essential reading for all of us working in data intensive research on #IWD2020, Invisible Women: Exposing Data Bias in a World Designed for Men, Caroline Criado Perez #GenerationEquality #Unimelbpursuit @unimelb @MDAP_Unimelb @ResCom_unimelb @ARDC_AU @SCIPUniMelb #mdap_unimelb https://t.co/AuYd1TRMpn\n"
     ]
    }
   ],
   "source": [
    "print(f'Amostra de um tweet antes do pré-processamento:\\n\\n{df.tweet_text[0]}')"
   ]
  },
  {
   "cell_type": "code",
   "execution_count": 8,
   "metadata": {
    "ExecuteTime": {
     "end_time": "2020-12-29T23:48:56.938134Z",
     "start_time": "2020-12-29T23:48:37.790575Z"
    }
   },
   "outputs": [],
   "source": [
    "df.to_csv('tweets_en.csv')"
   ]
  },
  {
   "cell_type": "markdown",
   "metadata": {},
   "source": [
    "### Pré-processamento"
   ]
  },
  {
   "cell_type": "code",
   "execution_count": 9,
   "metadata": {
    "ExecuteTime": {
     "end_time": "2020-12-29T23:49:00.543549Z",
     "start_time": "2020-12-29T23:48:56.939409Z"
    }
   },
   "outputs": [
    {
     "data": {
      "text/plain": [
       "'Essential reading for all of us working in data intensive research on #IWD2020, Invisible Women: Exposing Data Bias in a World Designed for Men, Caroline Criado Perez #GenerationEquality #Unimelbpursuit @unimelb @MDAP_Unimelb @ResCom_unimelb @ARDC_AU @SCIPUniMelb #mdap_unimelb '"
      ]
     },
     "execution_count": 9,
     "metadata": {},
     "output_type": "execute_result"
    }
   ],
   "source": [
    "# remover links\n",
    "df['clean_text'] = df['tweet_text'].str.replace(r\"http\\S+\",\"\") \n",
    "\n",
    "df.clean_text[0]"
   ]
  },
  {
   "cell_type": "code",
   "execution_count": 10,
   "metadata": {
    "ExecuteTime": {
     "end_time": "2020-12-29T23:49:03.463818Z",
     "start_time": "2020-12-29T23:49:00.544786Z"
    }
   },
   "outputs": [
    {
     "data": {
      "text/plain": [
       "'Essential reading for all of us working in data intensive research on #IWD2020, Invisible Women: Exposing Data Bias in a World Designed for Men, Caroline Criado Perez #GenerationEquality #Unimelbpursuit      #mdap_unimelb '"
      ]
     },
     "execution_count": 10,
     "metadata": {},
     "output_type": "execute_result"
    }
   ],
   "source": [
    "# remover mentions\n",
    "df['clean_text'] = df['clean_text'].str.replace(r\"@\\S+\",\"\")\n",
    "\n",
    "df.clean_text[0]"
   ]
  },
  {
   "cell_type": "code",
   "execution_count": 11,
   "metadata": {
    "ExecuteTime": {
     "end_time": "2020-12-29T23:49:07.988734Z",
     "start_time": "2020-12-29T23:49:03.466019Z"
    }
   },
   "outputs": [
    {
     "data": {
      "text/plain": [
       "'Essential reading for all of us working in data intensive research on   Invisible Women: Exposing Data Bias in a World Designed for Men, Caroline Criado Perez            '"
      ]
     },
     "execution_count": 11,
     "metadata": {},
     "output_type": "execute_result"
    }
   ],
   "source": [
    "# remover hashtags\n",
    "df['clean_text'] = df['clean_text'].str.replace(r\"#\\S+\",\" \")\n",
    "\n",
    "df.clean_text[0]"
   ]
  },
  {
   "cell_type": "code",
   "execution_count": 12,
   "metadata": {
    "ExecuteTime": {
     "end_time": "2020-12-29T23:49:11.159955Z",
     "start_time": "2020-12-29T23:49:07.990563Z"
    }
   },
   "outputs": [
    {
     "data": {
      "text/plain": [
       "'Essential reading for all of us working in data intensive research on   Invisible Women: Exposing Data Bias in a World Designed for Men, Caroline Criado Perez            '"
      ]
     },
     "execution_count": 12,
     "metadata": {},
     "output_type": "execute_result"
    }
   ],
   "source": [
    "# remover quebra de linhas\n",
    "df['clean_text'] = df['clean_text'].str.replace(r\"\\n\",\" \")\n",
    "\n",
    "df.clean_text[0]"
   ]
  },
  {
   "cell_type": "code",
   "execution_count": 13,
   "metadata": {
    "ExecuteTime": {
     "end_time": "2020-12-29T23:49:25.546595Z",
     "start_time": "2020-12-29T23:49:11.161328Z"
    }
   },
   "outputs": [
    {
     "data": {
      "text/plain": [
       "'Essential reading for all of us working in data intensive research on   Invisible Women  Exposing Data Bias in a World Designed for Men  Caroline Criado Perez            '"
      ]
     },
     "execution_count": 13,
     "metadata": {},
     "output_type": "execute_result"
    }
   ],
   "source": [
    "# remover pontuações\n",
    "df['clean_text'] = df['clean_text'].str.replace(r\"[^\\w\\s]|_\",\" \")\n",
    "\n",
    "df.clean_text[0]"
   ]
  },
  {
   "cell_type": "code",
   "execution_count": 14,
   "metadata": {
    "ExecuteTime": {
     "end_time": "2020-12-29T23:49:35.038647Z",
     "start_time": "2020-12-29T23:49:25.547918Z"
    }
   },
   "outputs": [
    {
     "data": {
      "text/plain": [
       "'Essential reading for all of us working in data intensive research on   Invisible Women  Exposing Data Bias in a World Designed for Men  Caroline Criado Perez'"
      ]
     },
     "execution_count": 14,
     "metadata": {},
     "output_type": "execute_result"
    }
   ],
   "source": [
    "# remover números\n",
    "df['clean_text'] = df['clean_text'].str.strip().str.replace(r\"[0-9]+(\\s|\\w)\",\"\")\n",
    "\n",
    "df.clean_text[0]"
   ]
  },
  {
   "cell_type": "code",
   "execution_count": 15,
   "metadata": {
    "ExecuteTime": {
     "end_time": "2020-12-29T23:49:41.126095Z",
     "start_time": "2020-12-29T23:49:35.039953Z"
    }
   },
   "outputs": [
    {
     "data": {
      "text/plain": [
       "'Essential reading for all of us working in data intensive research on   Invisible Women  Exposing Data Bias in a World Designed for Men  Caroline Criado Perez'"
      ]
     },
     "execution_count": 15,
     "metadata": {},
     "output_type": "execute_result"
    }
   ],
   "source": [
    "# remover non ascii caracteres\n",
    "df['clean_text'] = df['clean_text'].str.strip().str.replace(r\"[^a-zA-z|\\s]\",\"\")\n",
    "\n",
    "df.clean_text[0]"
   ]
  },
  {
   "cell_type": "code",
   "execution_count": 16,
   "metadata": {
    "ExecuteTime": {
     "end_time": "2020-12-29T23:49:52.266504Z",
     "start_time": "2020-12-29T23:49:41.127349Z"
    }
   },
   "outputs": [
    {
     "data": {
      "text/plain": [
       "'Essential reading for all of us working in data intensive research on Invisible Women Exposing Data Bias in a World Designed for Men Caroline Criado Perez'"
      ]
     },
     "execution_count": 16,
     "metadata": {},
     "output_type": "execute_result"
    }
   ],
   "source": [
    "# remover espaços duplos\n",
    "df['clean_text'] = df['clean_text'].str.strip().str.replace(r\"\\s{2,}\",\" \")\n",
    "\n",
    "df.clean_text[0]"
   ]
  },
  {
   "cell_type": "markdown",
   "metadata": {},
   "source": [
    "### converter todas as letras para minúsculas"
   ]
  },
  {
   "cell_type": "code",
   "execution_count": 17,
   "metadata": {
    "ExecuteTime": {
     "end_time": "2020-12-29T23:49:53.947716Z",
     "start_time": "2020-12-29T23:49:52.267734Z"
    }
   },
   "outputs": [
    {
     "data": {
      "text/plain": [
       "'essential reading for all of us working in data intensive research on invisible women exposing data bias in a world designed for men caroline criado perez'"
      ]
     },
     "execution_count": 17,
     "metadata": {},
     "output_type": "execute_result"
    }
   ],
   "source": [
    "df['clean_text'] = df['clean_text'].str.lower()\n",
    "\n",
    "df.clean_text[0]"
   ]
  },
  {
   "cell_type": "markdown",
   "metadata": {},
   "source": [
    "### remover letras que se repetem em sequência mais de 3x"
   ]
  },
  {
   "cell_type": "code",
   "execution_count": 18,
   "metadata": {
    "ExecuteTime": {
     "end_time": "2020-12-29T23:52:18.865462Z",
     "start_time": "2020-12-29T23:49:53.948982Z"
    }
   },
   "outputs": [
    {
     "data": {
      "text/plain": [
       "'essential reading for all of us working in data intensive research on invisible women exposing data bias in a world designed for men caroline criado perez'"
      ]
     },
     "execution_count": 18,
     "metadata": {},
     "output_type": "execute_result"
    }
   ],
   "source": [
    "import string\n",
    "alphabet = list(string.ascii_lowercase)\n",
    "\n",
    "for letter in alphabet:\n",
    "    pattern = '{}{}'.format(letter, '{3,}')\n",
    "    df['clean_text'] = df['clean_text'].str.replace(r'{}'.format(pattern), letter)\n",
    "    \n",
    "df.clean_text[0]"
   ]
  },
  {
   "cell_type": "markdown",
   "metadata": {},
   "source": [
    "### remover stpwords"
   ]
  },
  {
   "cell_type": "code",
   "execution_count": 19,
   "metadata": {
    "ExecuteTime": {
     "end_time": "2020-12-29T23:53:58.058375Z",
     "start_time": "2020-12-29T23:52:18.867524Z"
    }
   },
   "outputs": [
    {
     "data": {
      "text/plain": [
       "'essential reading us working data intensive research invisible women exposing data bias world designed men caroline criado perez'"
      ]
     },
     "execution_count": 19,
     "metadata": {},
     "output_type": "execute_result"
    }
   ],
   "source": [
    "with open('english.txt', 'r') as file:\n",
    "    stopwords = file.readlines()\n",
    "stopwords = [sw.replace('\\n','') for sw in stopwords]\n",
    "\n",
    "def remover_stopwords(texto):\n",
    "    palavras = [i for i in texto.split() if not i in stopwords]\n",
    "    return (\" \".join(palavras))\n",
    "\n",
    "df['clean_text'] = df['clean_text'].apply(remover_stopwords)\n",
    "\n",
    "df.clean_text[0]"
   ]
  },
  {
   "cell_type": "markdown",
   "metadata": {},
   "source": [
    "### remover palavras com 2 caracteres ou menos"
   ]
  },
  {
   "cell_type": "code",
   "execution_count": 20,
   "metadata": {
    "ExecuteTime": {
     "end_time": "2020-12-29T23:54:02.963296Z",
     "start_time": "2020-12-29T23:53:58.059633Z"
    }
   },
   "outputs": [
    {
     "data": {
      "text/plain": [
       "'essential reading working data intensive research invisible women exposing data bias world designed men caroline criado perez'"
      ]
     },
     "execution_count": 20,
     "metadata": {},
     "output_type": "execute_result"
    }
   ],
   "source": [
    "def remover_len_2(texto):\n",
    "    palavras = [i for i in texto.split() if len(i) > 2]\n",
    "    return (\" \".join(palavras))\n",
    "\n",
    "df['clean_text'] = df['clean_text'].apply(remover_len_2)\n",
    "\n",
    "df.clean_text[0]"
   ]
  },
  {
   "cell_type": "code",
   "execution_count": 21,
   "metadata": {
    "ExecuteTime": {
     "end_time": "2020-12-29T23:54:02.967211Z",
     "start_time": "2020-12-29T23:54:02.964501Z"
    }
   },
   "outputs": [
    {
     "name": "stdout",
     "output_type": "stream",
     "text": [
      "Amostra de um tweet depois do pré-processamento:\n",
      "\n",
      "e\n"
     ]
    }
   ],
   "source": [
    "print(f'Amostra de um tweet depois do pré-processamento:\\n\\n{df.clean_text[0][0]}')"
   ]
  },
  {
   "cell_type": "code",
   "execution_count": 22,
   "metadata": {
    "ExecuteTime": {
     "end_time": "2020-12-29T23:54:02.976441Z",
     "start_time": "2020-12-29T23:54:02.968389Z"
    }
   },
   "outputs": [],
   "source": [
    "def reduzir_radical(texto):\n",
    "    stemmer = nltk.stem.RSLPStemmer()\n",
    "    palavras = [stemmer.stem(i) for i in texto.split()]\n",
    "    return (\" \".join(palavras))"
   ]
  },
  {
   "cell_type": "code",
   "execution_count": 23,
   "metadata": {
    "ExecuteTime": {
     "end_time": "2020-12-29T23:54:02.991409Z",
     "start_time": "2020-12-29T23:54:02.977619Z"
    }
   },
   "outputs": [
    {
     "data": {
      "text/plain": [
       "'essent reading for all of us working in dat intensiv research on #iwd2020, invisibl women: exposing dat bia in a world designed for men, carolin cri perez #generationequality #unimelbpursuit @unimelb @mdap_unimelb @rescom_unimelb @ardc_au @scipunimelb #mdap_unimelb https://t.co/auyd1trmpn'"
      ]
     },
     "execution_count": 23,
     "metadata": {},
     "output_type": "execute_result"
    }
   ],
   "source": [
    "reduzir_radical(df.tweet_text[0])"
   ]
  },
  {
   "cell_type": "code",
   "execution_count": 24,
   "metadata": {
    "ExecuteTime": {
     "end_time": "2020-12-29T23:54:02.995716Z",
     "start_time": "2020-12-29T23:54:02.993142Z"
    }
   },
   "outputs": [],
   "source": [
    "# df['tweet_text'] = df['tweet_text'].apply(reduzir_radical)"
   ]
  },
  {
   "cell_type": "code",
   "execution_count": 25,
   "metadata": {
    "ExecuteTime": {
     "end_time": "2020-12-29T23:54:03.005452Z",
     "start_time": "2020-12-29T23:54:02.997845Z"
    }
   },
   "outputs": [],
   "source": [
    "import unicodedata\n",
    "\n",
    "def remover_acentuacao(text):\n",
    "    # Unicode normalize transforma um caracter em seu equivalente em latin.\n",
    "    nfkd = unicodedata.normalize('NFKD', text)\n",
    "    palavra_sem_acento = u\"\".join([c for c in nfkd if not unicodedata.combining(c)])\n",
    "    return (palavra_sem_acento)"
   ]
  },
  {
   "cell_type": "code",
   "execution_count": 26,
   "metadata": {
    "ExecuteTime": {
     "end_time": "2020-12-29T23:54:03.016187Z",
     "start_time": "2020-12-29T23:54:03.008632Z"
    }
   },
   "outputs": [
    {
     "data": {
      "text/plain": [
       "'Essential reading for all of us working in data intensive research on #IWD2020, Invisible Women: Exposing Data Bias in a World Designed for Men, Caroline Criado Perez #GenerationEquality #Unimelbpursuit @unimelb @MDAP_Unimelb @ResCom_unimelb @ARDC_AU @SCIPUniMelb #mdap_unimelb https://t.co/AuYd1TRMpn'"
      ]
     },
     "execution_count": 26,
     "metadata": {},
     "output_type": "execute_result"
    }
   ],
   "source": [
    "remover_acentuacao(df.tweet_text[0])"
   ]
  },
  {
   "cell_type": "code",
   "execution_count": 27,
   "metadata": {
    "ExecuteTime": {
     "end_time": "2020-12-29T23:54:03.024991Z",
     "start_time": "2020-12-29T23:54:03.017945Z"
    }
   },
   "outputs": [],
   "source": [
    "# df['tweet_text'] = df['tweet_text'].apply(remover_acentuacao)"
   ]
  },
  {
   "cell_type": "code",
   "execution_count": 28,
   "metadata": {
    "ExecuteTime": {
     "end_time": "2020-12-29T23:54:03.034903Z",
     "start_time": "2020-12-29T23:54:03.026292Z"
    }
   },
   "outputs": [
    {
     "name": "stdout",
     "output_type": "stream",
     "text": [
      "Amostra de um tweet depois do pré-processamento:\n",
      "\n",
      "essential reading working data intensive research invisible women exposing data bias world designed men caroline criado perez\n"
     ]
    }
   ],
   "source": [
    "print(f'Amostra de um tweet depois do pré-processamento:\\n\\n{df.clean_text[0]}')"
   ]
  },
  {
   "cell_type": "markdown",
   "metadata": {},
   "source": [
    "### Etapa opcional\n",
    "\n",
    "O atributo 'lang' presentes nos documentos podem ter sido atribuidos erroneamente. Objetivando eliminar tweets que possam ser de um idioma não requisitado, desenvolveram-se 2 funções para ajudar a confirmar o idioma destes."
   ]
  },
  {
   "cell_type": "markdown",
   "metadata": {},
   "source": [
    "Para desabilitar warnings:"
   ]
  },
  {
   "cell_type": "code",
   "execution_count": null,
   "metadata": {
    "ExecuteTime": {
     "end_time": "2020-09-01T00:23:30.361117Z",
     "start_time": "2020-09-01T00:23:30.358822Z"
    }
   },
   "outputs": [],
   "source": [
    "import logging\n",
    "logging.disable(logging.WARNING)"
   ]
  },
  {
   "cell_type": "markdown",
   "metadata": {},
   "source": [
    "#### 1. Usando polyglot"
   ]
  },
  {
   "cell_type": "code",
   "execution_count": null,
   "metadata": {
    "ExecuteTime": {
     "end_time": "2020-09-01T00:23:32.651451Z",
     "start_time": "2020-09-01T00:23:32.455127Z"
    }
   },
   "outputs": [],
   "source": [
    "import polyglot\n",
    "from polyglot.detect import Detector"
   ]
  },
  {
   "cell_type": "code",
   "execution_count": null,
   "metadata": {
    "ExecuteTime": {
     "end_time": "2020-09-01T00:23:35.102858Z",
     "start_time": "2020-09-01T00:23:35.099673Z"
    }
   },
   "outputs": [],
   "source": [
    "def get_polyglot_language(text):\n",
    "    try:\n",
    "        detector = Detector(text)\n",
    "    except polyglot.detect.base.UnknownLanguage:\n",
    "        lang = 'Undefined'\n",
    "    else:\n",
    "        lang = detector.language.name\n",
    "    \n",
    "    return (lang)"
   ]
  },
  {
   "cell_type": "code",
   "execution_count": null,
   "metadata": {
    "ExecuteTime": {
     "end_time": "2020-09-01T00:23:36.932882Z",
     "start_time": "2020-09-01T00:23:36.929366Z"
    }
   },
   "outputs": [],
   "source": [
    "get_polyglot_language(df['tweet_text'][0])"
   ]
  },
  {
   "cell_type": "code",
   "execution_count": null,
   "metadata": {
    "ExecuteTime": {
     "end_time": "2020-09-01T00:24:13.188453Z",
     "start_time": "2020-09-01T00:23:40.270183Z"
    }
   },
   "outputs": [],
   "source": [
    "df['polyglot_lang'] = df['tweet_text'].apply(get_polyglot_language)"
   ]
  },
  {
   "cell_type": "code",
   "execution_count": null,
   "metadata": {
    "ExecuteTime": {
     "end_time": "2020-09-01T00:24:13.456901Z",
     "start_time": "2020-09-01T00:24:13.189853Z"
    }
   },
   "outputs": [],
   "source": [
    "df['polyglot_lang'].value_counts()"
   ]
  },
  {
   "cell_type": "markdown",
   "metadata": {},
   "source": [
    "#### 2. Usando textblob"
   ]
  },
  {
   "cell_type": "code",
   "execution_count": null,
   "metadata": {},
   "outputs": [],
   "source": [
    "import textblob\n",
    "from textblob import TextBlob\n",
    "import pycountry"
   ]
  },
  {
   "cell_type": "code",
   "execution_count": null,
   "metadata": {},
   "outputs": [],
   "source": [
    "def get_textblob_language(text):\n",
    "    try:\n",
    "        time.sleep(0.2)\n",
    "        b = TextBlob(text)\n",
    "        language = pycountry.languages.get(alpha_2=b.detect_language())\n",
    "        language_name = language.name\n",
    "    except textblob.exceptions.TranslatorError:\n",
    "        # language_name = \"Deu ruim\"\n",
    "        language_name = 'Undefined'\n",
    "    \n",
    "    return(language_name) "
   ]
  },
  {
   "cell_type": "code",
   "execution_count": null,
   "metadata": {},
   "outputs": [],
   "source": [
    "get_textblob_language(df['tweet_text'][0])"
   ]
  },
  {
   "cell_type": "code",
   "execution_count": null,
   "metadata": {},
   "outputs": [],
   "source": [
    "df['textblob_lang'] = df['tweet_text'].apply(get_textblob_language)"
   ]
  },
  {
   "cell_type": "markdown",
   "metadata": {},
   "source": [
    "Para reabilitar warnings:"
   ]
  },
  {
   "cell_type": "code",
   "execution_count": null,
   "metadata": {
    "ExecuteTime": {
     "end_time": "2020-09-01T00:24:28.796698Z",
     "start_time": "2020-09-01T00:24:28.794268Z"
    }
   },
   "outputs": [],
   "source": [
    "logging.disable(logging.NOTSET)"
   ]
  },
  {
   "cell_type": "code",
   "execution_count": null,
   "metadata": {
    "ExecuteTime": {
     "end_time": "2020-09-24T23:27:01.167821Z",
     "start_time": "2020-09-24T23:27:01.164692Z"
    }
   },
   "outputs": [],
   "source": [
    "df.shape"
   ]
  },
  {
   "cell_type": "markdown",
   "metadata": {},
   "source": [
    "# Criação do arquivo .csv"
   ]
  },
  {
   "cell_type": "markdown",
   "metadata": {},
   "source": [
    "### Cenário 1: base completa"
   ]
  },
  {
   "cell_type": "markdown",
   "metadata": {},
   "source": [
    "Caso tenha se utilizado umas das duas funções - **get_polyglot_language**, por exemplo - use o seguinte trecho para gerar o arquivo .csv:"
   ]
  },
  {
   "cell_type": "code",
   "execution_count": null,
   "metadata": {},
   "outputs": [],
   "source": [
    "index = df['polyglot_lang'] == 'Portuguese'\n",
    "new_df = df[index]\n",
    "new_df = new_df.drop('polyglot_lang', axis=1)"
   ]
  },
  {
   "cell_type": "code",
   "execution_count": null,
   "metadata": {},
   "outputs": [],
   "source": [
    "new_df.to_csv('cenario1_8M2020_polyglot_tweets_pt.csv', index=False)"
   ]
  },
  {
   "cell_type": "markdown",
   "metadata": {},
   "source": [
    "Caso contrário:"
   ]
  },
  {
   "cell_type": "code",
   "execution_count": null,
   "metadata": {
    "ExecuteTime": {
     "end_time": "2020-09-22T15:50:31.188110Z",
     "start_time": "2020-09-22T15:50:30.251049Z"
    }
   },
   "outputs": [],
   "source": [
    "df = df.drop('polyglot_lang', axis=1)"
   ]
  },
  {
   "cell_type": "code",
   "execution_count": 29,
   "metadata": {
    "ExecuteTime": {
     "end_time": "2020-12-29T23:58:17.761986Z",
     "start_time": "2020-12-29T23:58:15.502318Z"
    }
   },
   "outputs": [],
   "source": [
    "df = df[df['clean_text'] != '']"
   ]
  },
  {
   "cell_type": "code",
   "execution_count": 30,
   "metadata": {
    "ExecuteTime": {
     "end_time": "2020-12-29T23:58:17.766472Z",
     "start_time": "2020-12-29T23:58:17.763394Z"
    }
   },
   "outputs": [
    {
     "data": {
      "text/plain": [
       "(1984751, 14)"
      ]
     },
     "execution_count": 30,
     "metadata": {},
     "output_type": "execute_result"
    }
   ],
   "source": [
    "df.shape"
   ]
  },
  {
   "cell_type": "code",
   "execution_count": 31,
   "metadata": {
    "ExecuteTime": {
     "end_time": "2020-12-29T23:58:40.552571Z",
     "start_time": "2020-12-29T23:58:17.767800Z"
    }
   },
   "outputs": [],
   "source": [
    "df.to_csv('cenario1_8M2020_tweets_en.csv', index=False)"
   ]
  },
  {
   "cell_type": "markdown",
   "metadata": {},
   "source": [
    "criação do arquivo .txt (somente com os textos dos tweets):"
   ]
  },
  {
   "cell_type": "code",
   "execution_count": 32,
   "metadata": {
    "ExecuteTime": {
     "end_time": "2020-12-29T23:58:40.558297Z",
     "start_time": "2020-12-29T23:58:40.556087Z"
    }
   },
   "outputs": [],
   "source": [
    "import numpy as np"
   ]
  },
  {
   "cell_type": "code",
   "execution_count": 33,
   "metadata": {
    "ExecuteTime": {
     "end_time": "2020-12-29T23:58:40.597394Z",
     "start_time": "2020-12-29T23:58:40.560525Z"
    }
   },
   "outputs": [],
   "source": [
    "tweets_text = np.array(df['clean_text'])"
   ]
  },
  {
   "cell_type": "code",
   "execution_count": 34,
   "metadata": {
    "ExecuteTime": {
     "end_time": "2020-12-29T23:58:43.807223Z",
     "start_time": "2020-12-29T23:58:40.599354Z"
    }
   },
   "outputs": [],
   "source": [
    "np.savetxt(fname='cenario1_8M2020_tweets_en.txt', X=tweets_text, fmt='%s')"
   ]
  },
  {
   "cell_type": "markdown",
   "metadata": {},
   "source": [
    "## Cenário 2: tweets sem duplicatas"
   ]
  },
  {
   "cell_type": "code",
   "execution_count": 35,
   "metadata": {
    "ExecuteTime": {
     "end_time": "2020-12-29T23:58:44.911444Z",
     "start_time": "2020-12-29T23:58:43.809416Z"
    }
   },
   "outputs": [],
   "source": [
    "df.drop_duplicates(['clean_text'], inplace = True)"
   ]
  },
  {
   "cell_type": "code",
   "execution_count": 36,
   "metadata": {
    "ExecuteTime": {
     "end_time": "2020-12-29T23:58:44.915817Z",
     "start_time": "2020-12-29T23:58:44.912814Z"
    }
   },
   "outputs": [
    {
     "data": {
      "text/plain": [
       "(400117, 14)"
      ]
     },
     "execution_count": 36,
     "metadata": {},
     "output_type": "execute_result"
    }
   ],
   "source": [
    "df.shape"
   ]
  },
  {
   "cell_type": "code",
   "execution_count": 37,
   "metadata": {
    "ExecuteTime": {
     "end_time": "2020-12-29T23:58:49.522436Z",
     "start_time": "2020-12-29T23:58:44.916975Z"
    }
   },
   "outputs": [],
   "source": [
    "df.to_csv('cenario2_8M2020_tweets_en.csv', index=False)"
   ]
  },
  {
   "cell_type": "code",
   "execution_count": 38,
   "metadata": {
    "ExecuteTime": {
     "end_time": "2020-12-29T23:58:49.554223Z",
     "start_time": "2020-12-29T23:58:49.524715Z"
    }
   },
   "outputs": [],
   "source": [
    "tweets_text = np.array(df['clean_text'])"
   ]
  },
  {
   "cell_type": "code",
   "execution_count": 39,
   "metadata": {
    "ExecuteTime": {
     "end_time": "2020-12-29T23:58:50.232465Z",
     "start_time": "2020-12-29T23:58:49.555586Z"
    }
   },
   "outputs": [],
   "source": [
    "np.savetxt(fname='cenario2_8M2020_tweets_en.txt', X=tweets_text, fmt='%s')"
   ]
  },
  {
   "cell_type": "code",
   "execution_count": null,
   "metadata": {},
   "outputs": [],
   "source": []
  }
 ],
 "metadata": {
  "kernelspec": {
   "display_name": "Python 3",
   "language": "python",
   "name": "python3"
  },
  "language_info": {
   "codemirror_mode": {
    "name": "ipython",
    "version": 3
   },
   "file_extension": ".py",
   "mimetype": "text/x-python",
   "name": "python",
   "nbconvert_exporter": "python",
   "pygments_lexer": "ipython3",
   "version": "3.7.7"
  },
  "toc": {
   "base_numbering": 1,
   "nav_menu": {},
   "number_sections": false,
   "sideBar": true,
   "skip_h1_title": false,
   "title_cell": "Table of Contents",
   "title_sidebar": "Contents",
   "toc_cell": false,
   "toc_position": {},
   "toc_section_display": true,
   "toc_window_display": false
  }
 },
 "nbformat": 4,
 "nbformat_minor": 4
}
