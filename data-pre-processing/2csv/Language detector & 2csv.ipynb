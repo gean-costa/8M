{
 "cells": [
  {
   "cell_type": "code",
   "execution_count": 1,
   "metadata": {
    "ExecuteTime": {
     "end_time": "2021-05-19T02:11:06.664215Z",
     "start_time": "2021-05-19T02:11:05.985332Z"
    }
   },
   "outputs": [],
   "source": [
    "import pymongo\n",
    "import time\n",
    "import pandas as pd\n",
    "import json\n",
    "import nltk"
   ]
  },
  {
   "cell_type": "markdown",
   "metadata": {},
   "source": [
    "# Conexão com o MongoDB"
   ]
  },
  {
   "cell_type": "code",
   "execution_count": 2,
   "metadata": {
    "ExecuteTime": {
     "end_time": "2021-05-19T02:11:06.669403Z",
     "start_time": "2021-05-19T02:11:06.665671Z"
    }
   },
   "outputs": [],
   "source": [
    "client = pymongo.MongoClient()\n",
    "\n",
    "# database\n",
    "db = client['IWD2021']  \n",
    "\n",
    "# collection\n",
    "collection = db.tweets_pt"
   ]
  },
  {
   "cell_type": "code",
   "execution_count": 3,
   "metadata": {
    "ExecuteTime": {
     "end_time": "2021-05-19T02:11:06.679608Z",
     "start_time": "2021-05-19T02:11:06.670686Z"
    }
   },
   "outputs": [],
   "source": [
    "pipeline = [\n",
    "    {\n",
    "        '$project': {\n",
    "            'tweet_id': '$id_str', \n",
    "            'date': {\n",
    "                '$dateFromString': {\n",
    "                    'dateString': '$created_at'\n",
    "                }\n",
    "            }, \n",
    "            'tweet_text': {\n",
    "                '$ifNull': [\n",
    "                    '$retweeted_status.full_text', '$full_text'\n",
    "                ]\n",
    "            }, \n",
    "            'num_likes': '$favorite_count', \n",
    "            'num_retweets': '$retweet_count', \n",
    "            'quoted_status_id': {\n",
    "                '$ifNull': [\n",
    "                    '$quoted_status_id_str', None\n",
    "                ]\n",
    "            }, \n",
    "            'retweeted_status_id': {\n",
    "                '$ifNull': [\n",
    "                    '$retweeted_status.id_str', None\n",
    "                ]\n",
    "            }, \n",
    "            'reply_to_user': {\n",
    "                '$ifNull': [\n",
    "                    '$in_reply_to_user_id_str', None\n",
    "                ]\n",
    "            }, \n",
    "            'reply_to_status': {\n",
    "                '$ifNull': [\n",
    "                    '$in_reply_to_status_id_str', None\n",
    "                ]\n",
    "            }, \n",
    "            'user_id': '$user.id_str', \n",
    "            'screen_name': '$user.screen_name', \n",
    "            'followers': '$user.followers_count', \n",
    "            'following': '$user.friends_count'\n",
    "        }\n",
    "    }, {\n",
    "        '$project': {\n",
    "            '_id': 0, \n",
    "            'tweet_id': 1, \n",
    "            'date': {\n",
    "                '$dateToString': {\n",
    "                    'format': '%d/%m/%Y %H:%M:%S', \n",
    "                    'date': '$date'\n",
    "                }\n",
    "            }, \n",
    "            'tweet_text': 1, \n",
    "            'num_likes': 1, \n",
    "            'num_retweets': 1, \n",
    "            'quoted_status_id': 1, \n",
    "            'retweeted_status_id': 1, \n",
    "            'reply_to_user': 1, \n",
    "            'reply_to_status': 1, \n",
    "            'user_id': 1, \n",
    "            'screen_name': 1, \n",
    "            'followers': 1, \n",
    "            'following': 1\n",
    "        }\n",
    "    }\n",
    "]"
   ]
  },
  {
   "cell_type": "code",
   "execution_count": 4,
   "metadata": {
    "ExecuteTime": {
     "end_time": "2021-05-19T02:11:09.970112Z",
     "start_time": "2021-05-19T02:11:06.680964Z"
    }
   },
   "outputs": [
    {
     "name": "stdout",
     "output_type": "stream",
     "text": [
      "Tempo de execução: 00:00:03\n",
      "124444 documentos selecionados\n"
     ]
    }
   ],
   "source": [
    "time_start = time.time()\n",
    "document = list(collection.aggregate(pipeline=pipeline))\n",
    "time_end = time.time()\n",
    "\n",
    "print(\n",
    "    f'Tempo de execução: {time.strftime(\"%H:%M:%S\", time.gmtime(time_end - time_start))}')\n",
    "print(f'{len(document)} documentos selecionados')"
   ]
  },
  {
   "cell_type": "code",
   "execution_count": 5,
   "metadata": {
    "ExecuteTime": {
     "end_time": "2021-05-19T02:11:09.974658Z",
     "start_time": "2021-05-19T02:11:09.971528Z"
    }
   },
   "outputs": [
    {
     "name": "stdout",
     "output_type": "stream",
     "text": [
      "Amostra de um documento:\n",
      "\n",
      "{\n",
      "   \"tweet_id\": \"1368641308982657025\",\n",
      "   \"tweet_text\": \"🇧🇷 | Para celebrarmos o dia das mulheres, o @Fly923 estará tocando as nossas artistas femininas favoritas o dia todo. Entre no site abaixo e solicite Something to Believe In de Laura Marano.\\n\\n🔗: https://t.co/gL5nQXDBml https://t.co/6z6NZ4J4V6\",\n",
      "   \"num_likes\": 0,\n",
      "   \"num_retweets\": 3,\n",
      "   \"quoted_status_id\": \"1368582569789448195\",\n",
      "   \"retweeted_status_id\": \"1368592963304124416\",\n",
      "   \"reply_to_user\": null,\n",
      "   \"reply_to_status\": null,\n",
      "   \"user_id\": \"207164069\",\n",
      "   \"screen_name\": \"camisdjesus\",\n",
      "   \"followers\": 560,\n",
      "   \"following\": 272,\n",
      "   \"date\": \"07/03/2021 19:14:50\"\n",
      "}\n"
     ]
    }
   ],
   "source": [
    "print(f'Amostra de um documento:\\n')\n",
    "print(json.dumps(document[0], sort_keys=False, indent=3, ensure_ascii=False))"
   ]
  },
  {
   "cell_type": "code",
   "execution_count": 6,
   "metadata": {
    "ExecuteTime": {
     "end_time": "2021-05-19T02:11:10.467981Z",
     "start_time": "2021-05-19T02:11:09.975855Z"
    }
   },
   "outputs": [
    {
     "data": {
      "text/html": [
       "<div>\n",
       "<style scoped>\n",
       "    .dataframe tbody tr th:only-of-type {\n",
       "        vertical-align: middle;\n",
       "    }\n",
       "\n",
       "    .dataframe tbody tr th {\n",
       "        vertical-align: top;\n",
       "    }\n",
       "\n",
       "    .dataframe thead th {\n",
       "        text-align: right;\n",
       "    }\n",
       "</style>\n",
       "<table border=\"1\" class=\"dataframe\">\n",
       "  <thead>\n",
       "    <tr style=\"text-align: right;\">\n",
       "      <th></th>\n",
       "      <th>tweet_id</th>\n",
       "      <th>date</th>\n",
       "      <th>tweet_text</th>\n",
       "      <th>num_likes</th>\n",
       "      <th>num_retweets</th>\n",
       "      <th>retweeted_status_id</th>\n",
       "      <th>quoted_status_id</th>\n",
       "      <th>reply_to_user</th>\n",
       "      <th>reply_to_status</th>\n",
       "      <th>user_id</th>\n",
       "      <th>screen_name</th>\n",
       "      <th>followers</th>\n",
       "      <th>following</th>\n",
       "    </tr>\n",
       "  </thead>\n",
       "  <tbody>\n",
       "    <tr>\n",
       "      <th>0</th>\n",
       "      <td>1368641308982657025</td>\n",
       "      <td>07/03/2021 19:14:50</td>\n",
       "      <td>🇧🇷 | Para celebrarmos o dia das mulheres, o @F...</td>\n",
       "      <td>0</td>\n",
       "      <td>3</td>\n",
       "      <td>1368592963304124416</td>\n",
       "      <td>1368582569789448195</td>\n",
       "      <td>None</td>\n",
       "      <td>None</td>\n",
       "      <td>207164069</td>\n",
       "      <td>camisdjesus</td>\n",
       "      <td>560</td>\n",
       "      <td>272</td>\n",
       "    </tr>\n",
       "    <tr>\n",
       "      <th>1</th>\n",
       "      <td>1368643323246882816</td>\n",
       "      <td>07/03/2021 19:22:51</td>\n",
       "      <td>CAMPINAS NO MARÇO LILÁS\\nMulheres de Campinas ...</td>\n",
       "      <td>7</td>\n",
       "      <td>2</td>\n",
       "      <td>None</td>\n",
       "      <td>None</td>\n",
       "      <td>None</td>\n",
       "      <td>None</td>\n",
       "      <td>176464755</td>\n",
       "      <td>CUTsaopaulo</td>\n",
       "      <td>6751</td>\n",
       "      <td>219</td>\n",
       "    </tr>\n",
       "    <tr>\n",
       "      <th>2</th>\n",
       "      <td>1368645634245398532</td>\n",
       "      <td>07/03/2021 19:32:02</td>\n",
       "      <td>Em antecipação de #IWD2021 , conheça oito mulh...</td>\n",
       "      <td>1</td>\n",
       "      <td>0</td>\n",
       "      <td>None</td>\n",
       "      <td>1368638832036384771</td>\n",
       "      <td>None</td>\n",
       "      <td>None</td>\n",
       "      <td>322101708</td>\n",
       "      <td>a_b_Martins</td>\n",
       "      <td>211</td>\n",
       "      <td>1009</td>\n",
       "    </tr>\n",
       "    <tr>\n",
       "      <th>3</th>\n",
       "      <td>1368646590106370057</td>\n",
       "      <td>07/03/2021 19:35:49</td>\n",
       "      <td>Mulheres na liderança! 🏅\\n\\nEm 1900, a tenista...</td>\n",
       "      <td>0</td>\n",
       "      <td>1</td>\n",
       "      <td>1368638363356565513</td>\n",
       "      <td>None</td>\n",
       "      <td>None</td>\n",
       "      <td>None</td>\n",
       "      <td>23601228</td>\n",
       "      <td>melangedetout</td>\n",
       "      <td>1996</td>\n",
       "      <td>725</td>\n",
       "    </tr>\n",
       "    <tr>\n",
       "      <th>4</th>\n",
       "      <td>1368649920094236672</td>\n",
       "      <td>07/03/2021 19:49:03</td>\n",
       "      <td>Bravo! 👏👏👏 https://t.co/ptfquSy3PO</td>\n",
       "      <td>4</td>\n",
       "      <td>0</td>\n",
       "      <td>None</td>\n",
       "      <td>1368630612488298503</td>\n",
       "      <td>None</td>\n",
       "      <td>None</td>\n",
       "      <td>2855855786</td>\n",
       "      <td>Sz3nna</td>\n",
       "      <td>494</td>\n",
       "      <td>633</td>\n",
       "    </tr>\n",
       "  </tbody>\n",
       "</table>\n",
       "</div>"
      ],
      "text/plain": [
       "              tweet_id                 date  \\\n",
       "0  1368641308982657025  07/03/2021 19:14:50   \n",
       "1  1368643323246882816  07/03/2021 19:22:51   \n",
       "2  1368645634245398532  07/03/2021 19:32:02   \n",
       "3  1368646590106370057  07/03/2021 19:35:49   \n",
       "4  1368649920094236672  07/03/2021 19:49:03   \n",
       "\n",
       "                                          tweet_text  num_likes  num_retweets  \\\n",
       "0  🇧🇷 | Para celebrarmos o dia das mulheres, o @F...          0             3   \n",
       "1  CAMPINAS NO MARÇO LILÁS\\nMulheres de Campinas ...          7             2   \n",
       "2  Em antecipação de #IWD2021 , conheça oito mulh...          1             0   \n",
       "3  Mulheres na liderança! 🏅\\n\\nEm 1900, a tenista...          0             1   \n",
       "4                 Bravo! 👏👏👏 https://t.co/ptfquSy3PO          4             0   \n",
       "\n",
       "   retweeted_status_id     quoted_status_id reply_to_user reply_to_status  \\\n",
       "0  1368592963304124416  1368582569789448195          None            None   \n",
       "1                 None                 None          None            None   \n",
       "2                 None  1368638832036384771          None            None   \n",
       "3  1368638363356565513                 None          None            None   \n",
       "4                 None  1368630612488298503          None            None   \n",
       "\n",
       "      user_id    screen_name  followers  following  \n",
       "0   207164069    camisdjesus        560        272  \n",
       "1   176464755    CUTsaopaulo       6751        219  \n",
       "2   322101708    a_b_Martins        211       1009  \n",
       "3    23601228  melangedetout       1996        725  \n",
       "4  2855855786         Sz3nna        494        633  "
      ]
     },
     "execution_count": 6,
     "metadata": {},
     "output_type": "execute_result"
    }
   ],
   "source": [
    "df = pd.DataFrame(document)\n",
    "df = df[['tweet_id', 'date', 'tweet_text', 'num_likes', 'num_retweets',\n",
    "                   'retweeted_status_id', 'quoted_status_id', 'reply_to_user', 'reply_to_status',\n",
    "                   'user_id', 'screen_name', 'followers', 'following']]\n",
    "df.head()"
   ]
  },
  {
   "cell_type": "code",
   "execution_count": 7,
   "metadata": {
    "ExecuteTime": {
     "end_time": "2021-05-19T02:11:10.476612Z",
     "start_time": "2021-05-19T02:11:10.470280Z"
    }
   },
   "outputs": [
    {
     "name": "stdout",
     "output_type": "stream",
     "text": [
      "Amostra de um tweet antes do pré-processamento:\n",
      "\n",
      "🇧🇷 | Para celebrarmos o dia das mulheres, o @Fly923 estará tocando as nossas artistas femininas favoritas o dia todo. Entre no site abaixo e solicite Something to Believe In de Laura Marano.\n",
      "\n",
      "🔗: https://t.co/gL5nQXDBml https://t.co/6z6NZ4J4V6\n"
     ]
    }
   ],
   "source": [
    "print(f'Amostra de um tweet antes do pré-processamento:\\n\\n{df.tweet_text[0]}')"
   ]
  },
  {
   "cell_type": "code",
   "execution_count": 8,
   "metadata": {
    "ExecuteTime": {
     "end_time": "2021-05-19T02:11:11.625157Z",
     "start_time": "2021-05-19T02:11:10.478344Z"
    }
   },
   "outputs": [],
   "source": [
    "df.to_csv('tweets_iwd2021_pt.csv')"
   ]
  },
  {
   "cell_type": "markdown",
   "metadata": {},
   "source": [
    "## Pré-processamento"
   ]
  },
  {
   "cell_type": "code",
   "execution_count": 9,
   "metadata": {
    "ExecuteTime": {
     "end_time": "2021-05-19T02:11:11.824160Z",
     "start_time": "2021-05-19T02:11:11.626877Z"
    }
   },
   "outputs": [
    {
     "data": {
      "text/plain": [
       "'🇧🇷 | Para celebrarmos o dia das mulheres, o @Fly923 estará tocando as nossas artistas femininas favoritas o dia todo. Entre no site abaixo e solicite Something to Believe In de Laura Marano.\\n\\n🔗:  '"
      ]
     },
     "execution_count": 9,
     "metadata": {},
     "output_type": "execute_result"
    }
   ],
   "source": [
    "# remover links\n",
    "df['clean_text'] = df['tweet_text'].str.replace(r\"http\\S+\",\"\") \n",
    "df.clean_text[0]"
   ]
  },
  {
   "cell_type": "code",
   "execution_count": 10,
   "metadata": {
    "ExecuteTime": {
     "end_time": "2021-05-19T02:11:11.981706Z",
     "start_time": "2021-05-19T02:11:11.825585Z"
    }
   },
   "outputs": [
    {
     "data": {
      "text/plain": [
       "'🇧🇷 | Para celebrarmos o dia das mulheres, o  estará tocando as nossas artistas femininas favoritas o dia todo. Entre no site abaixo e solicite Something to Believe In de Laura Marano.\\n\\n🔗:  '"
      ]
     },
     "execution_count": 10,
     "metadata": {},
     "output_type": "execute_result"
    }
   ],
   "source": [
    "# remover mentions\n",
    "df['clean_text'] = df['clean_text'].str.replace(r\"@\\S+\",\"\")\n",
    "df.clean_text[0]"
   ]
  },
  {
   "cell_type": "code",
   "execution_count": 11,
   "metadata": {
    "ExecuteTime": {
     "end_time": "2021-05-19T02:11:12.189582Z",
     "start_time": "2021-05-19T02:11:11.982902Z"
    }
   },
   "outputs": [
    {
     "data": {
      "text/plain": [
       "'🇧🇷 | Para celebrarmos o dia das mulheres, o  estará tocando as nossas artistas femininas favoritas o dia todo. Entre no site abaixo e solicite Something to Believe In de Laura Marano.\\n\\n🔗:  '"
      ]
     },
     "execution_count": 11,
     "metadata": {},
     "output_type": "execute_result"
    }
   ],
   "source": [
    "# remover hashtags\n",
    "df['clean_text'] = df['clean_text'].str.replace(r\"#\\S+\",\" \")\n",
    "df.clean_text[0]"
   ]
  },
  {
   "cell_type": "code",
   "execution_count": 12,
   "metadata": {
    "ExecuteTime": {
     "end_time": "2021-05-19T02:11:12.375207Z",
     "start_time": "2021-05-19T02:11:12.190832Z"
    }
   },
   "outputs": [
    {
     "data": {
      "text/plain": [
       "'🇧🇷 | Para celebrarmos o dia das mulheres, o  estará tocando as nossas artistas femininas favoritas o dia todo. Entre no site abaixo e solicite Something to Believe In de Laura Marano.  🔗:  '"
      ]
     },
     "execution_count": 12,
     "metadata": {},
     "output_type": "execute_result"
    }
   ],
   "source": [
    "# remover quebra de linhas\n",
    "df['clean_text'] = df['clean_text'].str.replace(r\"\\n\",\" \")\n",
    "df.clean_text[0]"
   ]
  },
  {
   "cell_type": "code",
   "execution_count": 13,
   "metadata": {
    "ExecuteTime": {
     "end_time": "2021-05-19T02:11:13.218533Z",
     "start_time": "2021-05-19T02:11:12.376454Z"
    }
   },
   "outputs": [
    {
     "data": {
      "text/plain": [
       "'     Para celebrarmos o dia das mulheres  o  estará tocando as nossas artistas femininas favoritas o dia todo  Entre no site abaixo e solicite Something to Believe In de Laura Marano       '"
      ]
     },
     "execution_count": 13,
     "metadata": {},
     "output_type": "execute_result"
    }
   ],
   "source": [
    "# remover pontuações\n",
    "df['clean_text'] = df['clean_text'].str.replace(r\"[^\\w\\s#]|_\",\" \")\n",
    "df.clean_text[0]"
   ]
  },
  {
   "cell_type": "code",
   "execution_count": 14,
   "metadata": {
    "ExecuteTime": {
     "end_time": "2021-05-19T02:11:15.508086Z",
     "start_time": "2021-05-19T02:11:13.219730Z"
    }
   },
   "outputs": [
    {
     "data": {
      "text/plain": [
       "'Para celebrarmos o dia das mulheres  o  estará tocando as nossas artistas femininas favoritas o dia todo  Entre no site abaixo e solicite Something to Believe In de Laura Marano'"
      ]
     },
     "execution_count": 14,
     "metadata": {},
     "output_type": "execute_result"
    }
   ],
   "source": [
    "# remover números\n",
    "df['clean_text'] = df['clean_text'].str.strip().str.replace(r\"\\b(?:[0-9]*)\\b\",\"\")\n",
    "df.clean_text[0]"
   ]
  },
  {
   "cell_type": "code",
   "execution_count": 15,
   "metadata": {
    "ExecuteTime": {
     "end_time": "2021-05-19T02:11:16.171622Z",
     "start_time": "2021-05-19T02:11:15.509294Z"
    }
   },
   "outputs": [
    {
     "data": {
      "text/plain": [
       "'Para celebrarmos o dia das mulheres o estará tocando as nossas artistas femininas favoritas o dia todo Entre no site abaixo e solicite Something to Believe In de Laura Marano'"
      ]
     },
     "execution_count": 15,
     "metadata": {},
     "output_type": "execute_result"
    }
   ],
   "source": [
    "# remover espaços duplos\n",
    "df['clean_text'] = df['clean_text'].str.strip().str.replace(r\"\\s{2,}\",\" \")\n",
    "df.clean_text[0]"
   ]
  },
  {
   "cell_type": "code",
   "execution_count": 16,
   "metadata": {
    "ExecuteTime": {
     "end_time": "2021-05-19T02:11:16.359273Z",
     "start_time": "2021-05-19T02:11:16.172864Z"
    }
   },
   "outputs": [
    {
     "data": {
      "text/plain": [
       "'para celebrarmos o dia das mulheres o estará tocando as nossas artistas femininas favoritas o dia todo entre no site abaixo e solicite something to believe in de laura marano'"
      ]
     },
     "execution_count": 16,
     "metadata": {},
     "output_type": "execute_result"
    }
   ],
   "source": [
    "# converter todas as letras para minusculas\n",
    "df['clean_text'] = df['clean_text'].str.lower()\n",
    "df.clean_text[0]"
   ]
  },
  {
   "cell_type": "code",
   "execution_count": 17,
   "metadata": {
    "ExecuteTime": {
     "end_time": "2021-05-19T02:11:25.197986Z",
     "start_time": "2021-05-19T02:11:16.360443Z"
    }
   },
   "outputs": [
    {
     "data": {
      "text/plain": [
       "'para celebrarmos o dia das mulheres o estará tocando as nossas artistas femininas favoritas o dia todo entre no site abaixo e solicite something to believe in de laura marano'"
      ]
     },
     "execution_count": 17,
     "metadata": {},
     "output_type": "execute_result"
    }
   ],
   "source": [
    "# remover letras que se repetem em sequência mais de 3x\n",
    "import string\n",
    "alphabet = list(string.ascii_lowercase)\n",
    "\n",
    "for letter in alphabet:\n",
    "    pattern = '{}{}'.format(letter, '{3,}')\n",
    "    df['clean_text'] = df['clean_text'].str.replace(r'{}'.format(pattern), letter)\n",
    "    \n",
    "df.clean_text[0]"
   ]
  },
  {
   "cell_type": "code",
   "execution_count": 18,
   "metadata": {
    "ExecuteTime": {
     "end_time": "2021-05-19T02:11:32.796796Z",
     "start_time": "2021-05-19T02:11:25.199265Z"
    }
   },
   "outputs": [
    {
     "data": {
      "text/plain": [
       "'celebrarmos dia mulheres estará tocando artistas femininas favoritas dia site abaixo solicite something to believe in laura marano'"
      ]
     },
     "execution_count": 18,
     "metadata": {},
     "output_type": "execute_result"
    }
   ],
   "source": [
    "# remover stpwords\n",
    "with open('../stopwords/portuguese.txt', 'r') as file:\n",
    "    stopwords = file.readlines()\n",
    "stopwords = [sw.replace('\\n','') for sw in stopwords]\n",
    "\n",
    "def remover_stopwords(texto):\n",
    "    palavras = [i for i in texto.split() if not i in stopwords]\n",
    "    return (\" \".join(palavras))\n",
    "\n",
    "df['clean_text'] = df['clean_text'].apply(remover_stopwords)\n",
    "df.clean_text[0]"
   ]
  },
  {
   "cell_type": "code",
   "execution_count": 19,
   "metadata": {
    "ExecuteTime": {
     "end_time": "2021-05-19T02:11:33.157433Z",
     "start_time": "2021-05-19T02:11:32.798078Z"
    }
   },
   "outputs": [
    {
     "data": {
      "text/plain": [
       "'celebrarmos dia mulheres estará tocando artistas femininas favoritas dia site abaixo solicite something believe laura marano'"
      ]
     },
     "execution_count": 19,
     "metadata": {},
     "output_type": "execute_result"
    }
   ],
   "source": [
    "# remover palavras com 2 caracteres ou menos\n",
    "def remover_len_2(texto):\n",
    "    palavras = [i for i in texto.split() if len(i) > 2]\n",
    "    return (\" \".join(palavras))\n",
    "\n",
    "df['clean_text'] = df['clean_text'].apply(remover_len_2)\n",
    "df.clean_text[0]"
   ]
  },
  {
   "cell_type": "code",
   "execution_count": 20,
   "metadata": {
    "ExecuteTime": {
     "end_time": "2021-05-19T02:11:33.161322Z",
     "start_time": "2021-05-19T02:11:33.158647Z"
    }
   },
   "outputs": [
    {
     "name": "stdout",
     "output_type": "stream",
     "text": [
      "Amostra de um tweet depois do pré-processamento:\n",
      "\n",
      "🇧🇷 | Para celebrarmos o dia das mulheres, o @Fly923 estará tocando as nossas artistas femininas favoritas o dia todo. Entre no site abaixo e solicite Something to Believe In de Laura Marano.\n",
      "\n",
      "🔗: https://t.co/gL5nQXDBml https://t.co/6z6NZ4J4V6\n",
      "\n",
      "celebrarmos dia mulheres estará tocando artistas femininas favoritas dia site abaixo solicite something believe laura marano\n"
     ]
    }
   ],
   "source": [
    "print(\n",
    "    f'Amostra de um tweet depois do pré-processamento:\\n\\n{df.tweet_text[0]}\\n\\n{df.clean_text[0]}')"
   ]
  },
  {
   "cell_type": "code",
   "execution_count": 21,
   "metadata": {
    "ExecuteTime": {
     "end_time": "2021-05-19T02:11:33.170939Z",
     "start_time": "2021-05-19T02:11:33.162496Z"
    }
   },
   "outputs": [],
   "source": [
    "def reduzir_radical(texto):\n",
    "    stemmer = nltk.stem.RSLPStemmer()\n",
    "    palavras = [stemmer.stem(i) for i in texto.split()]\n",
    "    return (\" \".join(palavras))"
   ]
  },
  {
   "cell_type": "code",
   "execution_count": 22,
   "metadata": {
    "ExecuteTime": {
     "end_time": "2021-05-19T02:11:33.185622Z",
     "start_time": "2021-05-19T02:11:33.172090Z"
    }
   },
   "outputs": [
    {
     "data": {
      "text/plain": [
       "'celebr dia mulh est toc artist feminin favorit dia sit abaix solicit something believ laur maran'"
      ]
     },
     "execution_count": 22,
     "metadata": {},
     "output_type": "execute_result"
    }
   ],
   "source": [
    "reduzir_radical(df.clean_text[0])"
   ]
  },
  {
   "cell_type": "code",
   "execution_count": 23,
   "metadata": {
    "ExecuteTime": {
     "end_time": "2021-05-19T02:11:33.191254Z",
     "start_time": "2021-05-19T02:11:33.186895Z"
    }
   },
   "outputs": [],
   "source": [
    "# df['tweet_text'] = df['tweet_text'].apply(reduzir_radical)"
   ]
  },
  {
   "cell_type": "code",
   "execution_count": 24,
   "metadata": {
    "ExecuteTime": {
     "end_time": "2021-05-19T02:11:33.201519Z",
     "start_time": "2021-05-19T02:11:33.192437Z"
    }
   },
   "outputs": [],
   "source": [
    "import unicodedata\n",
    "\n",
    "def remover_acentuacao(text):\n",
    "    # Unicode normalize transforma um caracter em seu equivalente em latin.\n",
    "    nfkd = unicodedata.normalize('NFKD', text)\n",
    "    palavra_sem_acento = u\"\".join([c for c in nfkd if not unicodedata.combining(c)])\n",
    "    return (palavra_sem_acento)"
   ]
  },
  {
   "cell_type": "code",
   "execution_count": 25,
   "metadata": {
    "ExecuteTime": {
     "end_time": "2021-05-19T02:11:33.211865Z",
     "start_time": "2021-05-19T02:11:33.205591Z"
    }
   },
   "outputs": [
    {
     "data": {
      "text/plain": [
       "'celebrarmos dia mulheres estara tocando artistas femininas favoritas dia site abaixo solicite something believe laura marano'"
      ]
     },
     "execution_count": 25,
     "metadata": {},
     "output_type": "execute_result"
    }
   ],
   "source": [
    "remover_acentuacao(df.clean_text[0])"
   ]
  },
  {
   "cell_type": "code",
   "execution_count": 26,
   "metadata": {
    "ExecuteTime": {
     "end_time": "2021-05-19T02:11:35.015322Z",
     "start_time": "2021-05-19T02:11:33.213500Z"
    }
   },
   "outputs": [
    {
     "data": {
      "text/plain": [
       "'celebrarmos dia mulheres estara tocando artistas femininas favoritas dia site abaixo solicite something believe laura marano'"
      ]
     },
     "execution_count": 26,
     "metadata": {},
     "output_type": "execute_result"
    }
   ],
   "source": [
    "df['clean_text'] = df['clean_text'].apply(remover_acentuacao)\n",
    "df.clean_text[0]"
   ]
  },
  {
   "cell_type": "code",
   "execution_count": 27,
   "metadata": {
    "ExecuteTime": {
     "end_time": "2021-05-19T02:11:35.247460Z",
     "start_time": "2021-05-19T02:11:35.016601Z"
    }
   },
   "outputs": [
    {
     "data": {
      "text/plain": [
       "'celebrarmos dia mulheres estara tocando artistas femininas favoritas dia site abaixo solicite something believe laura marano'"
      ]
     },
     "execution_count": 27,
     "metadata": {},
     "output_type": "execute_result"
    }
   ],
   "source": [
    "# remover non ascii caracteres\n",
    "df['clean_text'] = df['clean_text'].str.strip().str.replace(r\"[^a-zA-z0-9#|\\s]\",\"\")\n",
    "\n",
    "df.clean_text[0]"
   ]
  },
  {
   "cell_type": "code",
   "execution_count": 28,
   "metadata": {
    "ExecuteTime": {
     "end_time": "2021-05-19T02:11:35.251457Z",
     "start_time": "2021-05-19T02:11:35.248628Z"
    }
   },
   "outputs": [
    {
     "name": "stdout",
     "output_type": "stream",
     "text": [
      "Amostra de um tweet depois do pré-processamento:\n",
      "\n",
      "🇧🇷 | Para celebrarmos o dia das mulheres, o @Fly923 estará tocando as nossas artistas femininas favoritas o dia todo. Entre no site abaixo e solicite Something to Believe In de Laura Marano.\n",
      "\n",
      "🔗: https://t.co/gL5nQXDBml https://t.co/6z6NZ4J4V6\n",
      "\n",
      "celebrarmos dia mulheres estara tocando artistas femininas favoritas dia site abaixo solicite something believe laura marano\n"
     ]
    }
   ],
   "source": [
    "print(\n",
    "    f'Amostra de um tweet depois do pré-processamento:\\n\\n{df.tweet_text[0]}\\n\\n{df.clean_text[0]}')"
   ]
  },
  {
   "cell_type": "markdown",
   "metadata": {},
   "source": [
    "### Etapa opcional\n",
    "\n",
    "O atributo 'lang' presentes nos documentos podem ter sido atribuidos erroneamente. Objetivando eliminar tweets que possam ser de um idioma não requisitado, desenvolveram-se 2 funções para ajudar a confirmar o idioma destes."
   ]
  },
  {
   "cell_type": "markdown",
   "metadata": {},
   "source": [
    "Para desabilitar warnings:"
   ]
  },
  {
   "cell_type": "code",
   "execution_count": 29,
   "metadata": {
    "ExecuteTime": {
     "end_time": "2021-05-19T02:11:35.260509Z",
     "start_time": "2021-05-19T02:11:35.252639Z"
    }
   },
   "outputs": [],
   "source": [
    "# import logging\n",
    "# logging.disable(logging.WARNING)"
   ]
  },
  {
   "cell_type": "markdown",
   "metadata": {},
   "source": [
    "#### 1. Usando polyglot"
   ]
  },
  {
   "cell_type": "code",
   "execution_count": 30,
   "metadata": {
    "ExecuteTime": {
     "end_time": "2021-05-19T02:11:35.269666Z",
     "start_time": "2021-05-19T02:11:35.261752Z"
    }
   },
   "outputs": [],
   "source": [
    "# import polyglot\n",
    "# from polyglot.detect import Detector"
   ]
  },
  {
   "cell_type": "code",
   "execution_count": 31,
   "metadata": {
    "ExecuteTime": {
     "end_time": "2021-05-19T02:11:35.283140Z",
     "start_time": "2021-05-19T02:11:35.270907Z"
    }
   },
   "outputs": [],
   "source": [
    "# def get_polyglot_language(text):\n",
    "#     try:\n",
    "#         detector = Detector(text)\n",
    "#     except polyglot.detect.base.UnknownLanguage:\n",
    "#         lang = 'Undefined'\n",
    "#     else:\n",
    "#         lang = detector.language.name\n",
    "    \n",
    "#     return (lang)"
   ]
  },
  {
   "cell_type": "code",
   "execution_count": 32,
   "metadata": {
    "ExecuteTime": {
     "end_time": "2021-05-19T02:11:35.292754Z",
     "start_time": "2021-05-19T02:11:35.284460Z"
    }
   },
   "outputs": [],
   "source": [
    "# get_polyglot_language(df['tweet_text'][0])"
   ]
  },
  {
   "cell_type": "code",
   "execution_count": 33,
   "metadata": {
    "ExecuteTime": {
     "end_time": "2021-05-19T02:11:35.309288Z",
     "start_time": "2021-05-19T02:11:35.294112Z"
    }
   },
   "outputs": [],
   "source": [
    "# df['polyglot_lang'] = df['tweet_text'].apply(get_polyglot_language)"
   ]
  },
  {
   "cell_type": "code",
   "execution_count": 34,
   "metadata": {
    "ExecuteTime": {
     "end_time": "2021-05-19T02:11:35.318446Z",
     "start_time": "2021-05-19T02:11:35.310783Z"
    }
   },
   "outputs": [],
   "source": [
    "# df['polyglot_lang'].value_counts()"
   ]
  },
  {
   "cell_type": "markdown",
   "metadata": {},
   "source": [
    "#### 2. Usando textblob"
   ]
  },
  {
   "cell_type": "code",
   "execution_count": 35,
   "metadata": {
    "ExecuteTime": {
     "end_time": "2021-05-19T02:11:35.327580Z",
     "start_time": "2021-05-19T02:11:35.319554Z"
    }
   },
   "outputs": [],
   "source": [
    "# import textblob\n",
    "# from textblob import TextBlob\n",
    "# import pycountry"
   ]
  },
  {
   "cell_type": "code",
   "execution_count": 36,
   "metadata": {
    "ExecuteTime": {
     "end_time": "2021-05-19T02:11:35.330972Z",
     "start_time": "2021-05-19T02:11:35.328746Z"
    }
   },
   "outputs": [],
   "source": [
    "# def get_textblob_language(text):\n",
    "#     try:\n",
    "#         time.sleep(0.2)\n",
    "#         b = TextBlob(text)\n",
    "#         language = pycountry.languages.get(alpha_2=b.detect_language())\n",
    "#         language_name = language.name\n",
    "#     except textblob.exceptions.TranslatorError:\n",
    "#         # language_name = \"Deu ruim\"\n",
    "#         language_name = 'Undefined'\n",
    "    \n",
    "#     return(language_name) "
   ]
  },
  {
   "cell_type": "code",
   "execution_count": 37,
   "metadata": {
    "ExecuteTime": {
     "end_time": "2021-05-19T02:11:35.340251Z",
     "start_time": "2021-05-19T02:11:35.332031Z"
    }
   },
   "outputs": [],
   "source": [
    "# get_textblob_language(df['tweet_text'][0])"
   ]
  },
  {
   "cell_type": "code",
   "execution_count": 38,
   "metadata": {
    "ExecuteTime": {
     "end_time": "2021-05-19T02:11:35.349498Z",
     "start_time": "2021-05-19T02:11:35.341354Z"
    }
   },
   "outputs": [],
   "source": [
    "# df['textblob_lang'] = df['tweet_text'].apply(get_textblob_language)"
   ]
  },
  {
   "cell_type": "markdown",
   "metadata": {},
   "source": [
    "Para reabilitar warnings:"
   ]
  },
  {
   "cell_type": "code",
   "execution_count": 39,
   "metadata": {
    "ExecuteTime": {
     "end_time": "2021-05-19T02:11:35.358875Z",
     "start_time": "2021-05-19T02:11:35.350759Z"
    }
   },
   "outputs": [],
   "source": [
    "# logging.disable(logging.NOTSET)"
   ]
  },
  {
   "cell_type": "code",
   "execution_count": 40,
   "metadata": {
    "ExecuteTime": {
     "end_time": "2021-05-19T02:11:35.375421Z",
     "start_time": "2021-05-19T02:11:35.360014Z"
    }
   },
   "outputs": [],
   "source": [
    "# df.shape"
   ]
  },
  {
   "cell_type": "markdown",
   "metadata": {},
   "source": [
    "# Criação do arquivo .csv"
   ]
  },
  {
   "cell_type": "markdown",
   "metadata": {},
   "source": [
    "### Cenário 1: base completa"
   ]
  },
  {
   "cell_type": "markdown",
   "metadata": {},
   "source": [
    "Caso tenha se utilizado umas das duas funções - **get_polyglot_language**, por exemplo - use o seguinte trecho para gerar o arquivo .csv:"
   ]
  },
  {
   "cell_type": "code",
   "execution_count": 41,
   "metadata": {
    "ExecuteTime": {
     "end_time": "2021-05-19T02:11:35.384633Z",
     "start_time": "2021-05-19T02:11:35.376635Z"
    }
   },
   "outputs": [],
   "source": [
    "# index = df['polyglot_lang'] == 'Portuguese'\n",
    "# new_df = df[index]\n",
    "# new_df = new_df.drop('polyglot_lang', axis=1)"
   ]
  },
  {
   "cell_type": "code",
   "execution_count": 42,
   "metadata": {
    "ExecuteTime": {
     "end_time": "2021-05-19T02:11:35.394295Z",
     "start_time": "2021-05-19T02:11:35.385966Z"
    }
   },
   "outputs": [],
   "source": [
    "# new_df.to_csv('cenario1_8M2020_polyglot_tweets_pt.csv', index=False)"
   ]
  },
  {
   "cell_type": "markdown",
   "metadata": {},
   "source": [
    "Caso contrário:"
   ]
  },
  {
   "cell_type": "code",
   "execution_count": 43,
   "metadata": {
    "ExecuteTime": {
     "end_time": "2021-05-19T02:11:35.403488Z",
     "start_time": "2021-05-19T02:11:35.395526Z"
    }
   },
   "outputs": [],
   "source": [
    "# df = df.drop('polyglot_lang', axis=1)"
   ]
  },
  {
   "cell_type": "code",
   "execution_count": 44,
   "metadata": {
    "ExecuteTime": {
     "end_time": "2021-05-19T02:11:35.515600Z",
     "start_time": "2021-05-19T02:11:35.406531Z"
    }
   },
   "outputs": [],
   "source": [
    "df = df[df['clean_text'] != '']"
   ]
  },
  {
   "cell_type": "code",
   "execution_count": 45,
   "metadata": {
    "ExecuteTime": {
     "end_time": "2021-05-19T02:11:35.519954Z",
     "start_time": "2021-05-19T02:11:35.516882Z"
    }
   },
   "outputs": [
    {
     "data": {
      "text/plain": [
       "(124203, 14)"
      ]
     },
     "execution_count": 45,
     "metadata": {},
     "output_type": "execute_result"
    }
   ],
   "source": [
    "df.shape"
   ]
  },
  {
   "cell_type": "code",
   "execution_count": 46,
   "metadata": {
    "ExecuteTime": {
     "end_time": "2021-05-19T02:11:36.864294Z",
     "start_time": "2021-05-19T02:11:35.521103Z"
    }
   },
   "outputs": [],
   "source": [
    "df.to_csv('cenario1_8M2021_tweets_pt.csv', index=False)"
   ]
  },
  {
   "cell_type": "markdown",
   "metadata": {},
   "source": [
    "criação do arquivo .txt (somente com os textos dos tweets):"
   ]
  },
  {
   "cell_type": "code",
   "execution_count": 47,
   "metadata": {
    "ExecuteTime": {
     "end_time": "2021-05-19T02:11:36.867576Z",
     "start_time": "2021-05-19T02:11:36.865560Z"
    }
   },
   "outputs": [],
   "source": [
    "import numpy as np"
   ]
  },
  {
   "cell_type": "code",
   "execution_count": 48,
   "metadata": {
    "ExecuteTime": {
     "end_time": "2021-05-19T02:11:36.879025Z",
     "start_time": "2021-05-19T02:11:36.868698Z"
    }
   },
   "outputs": [],
   "source": [
    "tweets_text = np.array(df['clean_text'])"
   ]
  },
  {
   "cell_type": "code",
   "execution_count": 49,
   "metadata": {
    "ExecuteTime": {
     "end_time": "2021-05-19T02:11:37.105984Z",
     "start_time": "2021-05-19T02:11:36.880406Z"
    }
   },
   "outputs": [],
   "source": [
    "np.savetxt(fname='cenario1_8M2021_tweets_pt.txt', X=tweets_text, fmt='%s')"
   ]
  },
  {
   "cell_type": "markdown",
   "metadata": {},
   "source": [
    "## Cenário 2: tweets sem duplicatas"
   ]
  },
  {
   "cell_type": "code",
   "execution_count": 50,
   "metadata": {
    "ExecuteTime": {
     "end_time": "2021-05-19T02:11:37.172308Z",
     "start_time": "2021-05-19T02:11:37.107240Z"
    }
   },
   "outputs": [],
   "source": [
    "df.drop_duplicates(['clean_text'], inplace = True)"
   ]
  },
  {
   "cell_type": "code",
   "execution_count": 51,
   "metadata": {
    "ExecuteTime": {
     "end_time": "2021-05-19T02:11:37.176603Z",
     "start_time": "2021-05-19T02:11:37.173613Z"
    }
   },
   "outputs": [
    {
     "data": {
      "text/plain": [
       "(32194, 14)"
      ]
     },
     "execution_count": 51,
     "metadata": {},
     "output_type": "execute_result"
    }
   ],
   "source": [
    "df.shape"
   ]
  },
  {
   "cell_type": "code",
   "execution_count": 52,
   "metadata": {
    "ExecuteTime": {
     "end_time": "2021-05-19T02:11:37.567090Z",
     "start_time": "2021-05-19T02:11:37.177770Z"
    }
   },
   "outputs": [],
   "source": [
    "df.to_csv('cenario2_8M2021_tweets_pt.csv', index=False)"
   ]
  },
  {
   "cell_type": "code",
   "execution_count": 53,
   "metadata": {
    "ExecuteTime": {
     "end_time": "2021-05-19T02:11:37.572583Z",
     "start_time": "2021-05-19T02:11:37.568353Z"
    }
   },
   "outputs": [],
   "source": [
    "tweets_text = np.array(df['clean_text'])"
   ]
  },
  {
   "cell_type": "code",
   "execution_count": 54,
   "metadata": {
    "ExecuteTime": {
     "end_time": "2021-05-19T02:11:37.642205Z",
     "start_time": "2021-05-19T02:11:37.573857Z"
    }
   },
   "outputs": [],
   "source": [
    "np.savetxt(fname='cenario2_8M2021_tweets_pt.txt', X=tweets_text, fmt='%s')"
   ]
  },
  {
   "cell_type": "code",
   "execution_count": null,
   "metadata": {},
   "outputs": [],
   "source": []
  }
 ],
 "metadata": {
  "kernelspec": {
   "display_name": "Python 3",
   "language": "python",
   "name": "python3"
  },
  "language_info": {
   "codemirror_mode": {
    "name": "ipython",
    "version": 3
   },
   "file_extension": ".py",
   "mimetype": "text/x-python",
   "name": "python",
   "nbconvert_exporter": "python",
   "pygments_lexer": "ipython3",
   "version": "3.7.7"
  },
  "toc": {
   "base_numbering": 1,
   "nav_menu": {},
   "number_sections": false,
   "sideBar": true,
   "skip_h1_title": false,
   "title_cell": "Table of Contents",
   "title_sidebar": "Contents",
   "toc_cell": false,
   "toc_position": {
    "height": "calc(100% - 180px)",
    "left": "10px",
    "top": "150px",
    "width": "272px"
   },
   "toc_section_display": true,
   "toc_window_display": true
  }
 },
 "nbformat": 4,
 "nbformat_minor": 4
}
